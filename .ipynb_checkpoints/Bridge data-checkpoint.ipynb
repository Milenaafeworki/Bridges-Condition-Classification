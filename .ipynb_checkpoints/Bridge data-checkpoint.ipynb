{
 "cells": [
  {
   "cell_type": "markdown",
   "metadata": {
    "ExecuteTime": {
     "end_time": "2021-08-17T17:36:47.978214Z",
     "start_time": "2021-08-17T17:36:46.791988Z"
    }
   },
   "source": [
    "#### Capstone Project: \n",
    "\n",
    "Student name: Milena Afeworki   \n",
    "Student pace: full time   \n",
    "Scheduled project review date/time: 07/09/2021 @ 10:15 PT   \n",
    "Instructor name: Abhineet Kulkarni   \n",
    "Blog post URL:"
   ]
  },
  {
   "cell_type": "markdown",
   "metadata": {},
   "source": [
    "# Bridges Condition Classificaiton Model"
   ]
  },
  {
   "cell_type": "markdown",
   "metadata": {},
   "source": [
    "A major objective of a bridge management system is to assist\n",
    "bridge managers in making consistent and cost-effective decisions related to maintenance and rehabilitation of bridges. The\n",
    "decision making, either at the network level or at the project level, is based on current and future bridge conditions. Therefore, it is essential for a bridge management system to be capable of accurately predicting future bridge conditions. \n",
    "\n",
    "\n",
    "Historical bridge condition rating data from the FHWA National Bridge Inventory (NBI) (FHWA,\n",
    "1995; FHWA 2020b) are used in conjunction with climate data to develop machine learning models.\n",
    "\n",
    "January 2019 marked the release of the Long-Term\n",
    "Bridge Performance (LTBP) Program’s InfoBridge™ web\n",
    "portal, a newly developed website for dissemination and\n",
    "visualization of bridge data, information, and products\n",
    "developed by the LTBP Program. The portal’s main\n",
    "purpose is to leverage the analytical capability of the\n",
    "highway bridge research community, and fulfill the\n",
    "Federal Highway Administration’s (FHWA’s)\n",
    "responsibility to provide transparency and ready access to\n",
    "data collected through Federal research programs."
   ]
  },
  {
   "cell_type": "markdown",
   "metadata": {},
   "source": [
    "## The Business Problem"
   ]
  },
  {
   "cell_type": "markdown",
   "metadata": {
    "ExecuteTime": {
     "end_time": "2021-08-28T17:46:20.930120Z",
     "start_time": "2021-08-28T17:46:20.898969Z"
    }
   },
   "source": [
    "\n",
    "\n",
    "\n",
    "\n"
   ]
  },
  {
   "cell_type": "markdown",
   "metadata": {},
   "source": [
    "## Data Understanding"
   ]
  },
  {
   "cell_type": "markdown",
   "metadata": {},
   "source": [
    "The data pattern underlying the historical bridge inspection records contains useful information in\n",
    "describing the deterioration trends of highway bridge decks, sub-structure and super-structure. Therefore, developing an appropriate\n",
    "algorithm that can identify data patterns buried in history can solve the condition-forecast problem. The data-mining algorithm emphasizes the changing trends of bridge condition ratings along withother factors that may influence the structure-deterioration process.\n",
    "\n",
    "The analysis uses NBI and climatic data from InfoBridge. The climatic data refer to the annual\n",
    "numbers (unit in days) of freeze-thaw cycles and snowfalls. The National Aeronautics and Space\n",
    "Administration (NASA) Modern-Era Retrospective Analysis for Research and Applications,\n",
    "Version 2 (MERRA-2) program provides the original source of climate data  which is currently available from January 1, 1980 to December 31, 2020.\n"
   ]
  },
  {
   "cell_type": "markdown",
   "metadata": {
    "ExecuteTime": {
     "end_time": "2021-08-28T20:00:53.211946Z",
     "start_time": "2021-08-28T20:00:53.191943Z"
    }
   },
   "source": [
    "```\n",
    "NBI scale\tCondition\t    Description\n",
    "\n",
    "        9\tExcellent\t    New condition, no noteworthy deficiencies.\n",
    "        8\tVery good\t    No repair needed.\n",
    "        7\tGood\t         Some minor problems, minor maintenance needed.\n",
    "        6\tSatisfactory\t Some minor deterioration, major maintenance needed.\n",
    "        5\tFair\t         Minor section loss, cracking, spalling, or scouring.\n",
    "        4\tPoor\t         Advanced section loss, deterioration, spalling or scouring; major rehabilitation needed. \n",
    "        3\tSerious\t      Section loss, deterioration, spalling or scouring seriously affected primary components.\n",
    "        2\tCritical\t     Advanced deterioration of primary structural elements; bridge closed. \n",
    "        1\tImminent         Major deterioration or loss of section; bridge may be closed to traffic.\n",
    "            failure\n",
    "        0\tFailed\t       Out of service and beyond corrective action.\n",
    "\n",
    " ```\n"
   ]
  },
  {
   "cell_type": "markdown",
   "metadata": {},
   "source": [
    "## Obtain data"
   ]
  },
  {
   "cell_type": "code",
   "execution_count": 1,
   "metadata": {
    "ExecuteTime": {
     "end_time": "2021-08-29T01:35:19.079588Z",
     "start_time": "2021-08-29T01:35:17.879511Z"
    }
   },
   "outputs": [],
   "source": [
    "#Importing all the necessary library\n",
    "\n",
    "import pandas as pd\n",
    "import numpy as np\n",
    "import seaborn as sns\n",
    "import matplotlib.pyplot as plt\n",
    "\n",
    "import pandas as pd\n",
    "pd.options.mode.chained_assignment = None  # default='warn'\n",
    "\n",
    "from sklearn.model_selection import train_test_split, cross_val_score\n",
    "\n",
    "from sklearn.metrics import confusion_matrix, classification_report\n",
    "import warnings\n",
    "warnings.simplefilter(action='ignore', category=FutureWarning)\n",
    "# sns.set_style('whitegrid')\n",
    "\n",
    "from sklearn.metrics import plot_confusion_matrix\n",
    "\n",
    "from xgboost import XGBClassifier\n",
    "sns.set_style()"
   ]
  },
  {
   "cell_type": "code",
   "execution_count": 2,
   "metadata": {
    "ExecuteTime": {
     "end_time": "2021-08-29T01:35:19.095148Z",
     "start_time": "2021-08-29T01:35:19.079588Z"
    }
   },
   "outputs": [],
   "source": [
    "# pd.options.display.max_columns = None"
   ]
  },
  {
   "cell_type": "code",
   "execution_count": 3,
   "metadata": {
    "ExecuteTime": {
     "end_time": "2021-08-29T01:35:19.111100Z",
     "start_time": "2021-08-29T01:35:19.098144Z"
    }
   },
   "outputs": [],
   "source": [
    "columns = ['1 - State Name', '8 - Structure Number', '22 - Owner Agency',\n",
    "       'CAT10 - Bridge Condition', 'Bridge Age (yr)',\n",
    "       '26 - Functional Class Of Inventory Route',\n",
    "       '28A - Lanes On the Structure', '28B - Lanes Under the Structure',\n",
    "       '5C - Designated Level of Service Code',\n",
    "       '30 - Year of Average Daily Traffic', '104 - Inventory Route NHS Code',\n",
    "       '110 - Designated National Truck Network Code',\n",
    "       '54B - Minimum Vertical Underclearance (ft)',\n",
    "       '55B - Minimum Lateral Underclearance on Right (ft)',\n",
    "       '56 - Minimum Lateral Underclearance on Left (ft)']"
   ]
  },
  {
   "cell_type": "code",
   "execution_count": null,
   "metadata": {},
   "outputs": [],
   "source": []
  },
  {
   "cell_type": "code",
   "execution_count": 4,
   "metadata": {
    "ExecuteTime": {
     "end_time": "2021-08-29T01:35:20.181880Z",
     "start_time": "2021-08-29T01:35:19.114105Z"
    }
   },
   "outputs": [
    {
     "data": {
      "text/html": [
       "<div>\n",
       "<style scoped>\n",
       "    .dataframe tbody tr th:only-of-type {\n",
       "        vertical-align: middle;\n",
       "    }\n",
       "\n",
       "    .dataframe tbody tr th {\n",
       "        vertical-align: top;\n",
       "    }\n",
       "\n",
       "    .dataframe thead th {\n",
       "        text-align: right;\n",
       "    }\n",
       "</style>\n",
       "<table border=\"1\" class=\"dataframe\">\n",
       "  <thead>\n",
       "    <tr style=\"text-align: right;\">\n",
       "      <th></th>\n",
       "      <th>1 - State Name</th>\n",
       "      <th>8 - Structure Number</th>\n",
       "      <th>22 - Owner Agency</th>\n",
       "      <th>CAT10 - Bridge Condition</th>\n",
       "      <th>Bridge Age (yr)</th>\n",
       "      <th>26 - Functional Class Of Inventory Route</th>\n",
       "      <th>28A - Lanes On the Structure</th>\n",
       "      <th>28B - Lanes Under the Structure</th>\n",
       "      <th>5C - Designated Level of Service Code</th>\n",
       "      <th>30 - Year of Average Daily Traffic</th>\n",
       "      <th>104 - Inventory Route NHS Code</th>\n",
       "      <th>110 - Designated National Truck Network Code</th>\n",
       "      <th>54B - Minimum Vertical Underclearance (ft)</th>\n",
       "      <th>55B - Minimum Lateral Underclearance on Right (ft)</th>\n",
       "      <th>56 - Minimum Lateral Underclearance on Left (ft)</th>\n",
       "    </tr>\n",
       "  </thead>\n",
       "  <tbody>\n",
       "    <tr>\n",
       "      <th>0</th>\n",
       "      <td>'1 - Alabama'</td>\n",
       "      <td>080103000001007</td>\n",
       "      <td>'U.S. Forest Service'</td>\n",
       "      <td>'Good'</td>\n",
       "      <td>45</td>\n",
       "      <td>'9'</td>\n",
       "      <td>1</td>\n",
       "      <td>0</td>\n",
       "      <td>'0'</td>\n",
       "      <td>0.0</td>\n",
       "      <td>'0'</td>\n",
       "      <td>'0'</td>\n",
       "      <td>0.0000000</td>\n",
       "      <td>0.0000000</td>\n",
       "      <td>0.0</td>\n",
       "    </tr>\n",
       "    <tr>\n",
       "      <th>1</th>\n",
       "      <td>'1 - Alabama'</td>\n",
       "      <td>080106000001009</td>\n",
       "      <td>'U.S. Forest Service'</td>\n",
       "      <td>'Fair'</td>\n",
       "      <td>40</td>\n",
       "      <td>'9'</td>\n",
       "      <td>1</td>\n",
       "      <td>0</td>\n",
       "      <td>'0'</td>\n",
       "      <td>0.0</td>\n",
       "      <td>'0'</td>\n",
       "      <td>'0'</td>\n",
       "      <td>0.0000000</td>\n",
       "      <td>0.0000000</td>\n",
       "      <td>0.0</td>\n",
       "    </tr>\n",
       "    <tr>\n",
       "      <th>2</th>\n",
       "      <td>'1 - Alabama'</td>\n",
       "      <td>020222</td>\n",
       "      <td>'State Highway Agency'</td>\n",
       "      <td>'Good'</td>\n",
       "      <td>7</td>\n",
       "      <td>'7'</td>\n",
       "      <td>2</td>\n",
       "      <td>0</td>\n",
       "      <td>'1'</td>\n",
       "      <td>2013.0</td>\n",
       "      <td>'0'</td>\n",
       "      <td>'0'</td>\n",
       "      <td>0.0000000</td>\n",
       "      <td>0.0000000</td>\n",
       "      <td>0.0</td>\n",
       "    </tr>\n",
       "    <tr>\n",
       "      <th>3</th>\n",
       "      <td>'1 - Alabama'</td>\n",
       "      <td>021152</td>\n",
       "      <td>'State Highway Agency'</td>\n",
       "      <td>'Good'</td>\n",
       "      <td>4</td>\n",
       "      <td>'11'</td>\n",
       "      <td>1</td>\n",
       "      <td>2</td>\n",
       "      <td>'7'</td>\n",
       "      <td>2017.0</td>\n",
       "      <td>'0'</td>\n",
       "      <td>'0'</td>\n",
       "      <td>14.4000000</td>\n",
       "      <td>9.2000000</td>\n",
       "      <td>7.8</td>\n",
       "    </tr>\n",
       "    <tr>\n",
       "      <th>4</th>\n",
       "      <td>'1 - Alabama'</td>\n",
       "      <td>021480</td>\n",
       "      <td>'State Highway Agency'</td>\n",
       "      <td>'Good'</td>\n",
       "      <td>15</td>\n",
       "      <td>'2'</td>\n",
       "      <td>2</td>\n",
       "      <td>0</td>\n",
       "      <td>'1'</td>\n",
       "      <td>2012.0</td>\n",
       "      <td>'1'</td>\n",
       "      <td>'1'</td>\n",
       "      <td>0.0000000</td>\n",
       "      <td>0.0000000</td>\n",
       "      <td>0.0</td>\n",
       "    </tr>\n",
       "  </tbody>\n",
       "</table>\n",
       "</div>"
      ],
      "text/plain": [
       "  1 - State Name 8 - Structure Number       22 - Owner Agency  \\\n",
       "0  '1 - Alabama'      080103000001007   'U.S. Forest Service'   \n",
       "1  '1 - Alabama'      080106000001009   'U.S. Forest Service'   \n",
       "2  '1 - Alabama'      020222           'State Highway Agency'   \n",
       "3  '1 - Alabama'      021152           'State Highway Agency'   \n",
       "4  '1 - Alabama'      021480           'State Highway Agency'   \n",
       "\n",
       "  CAT10 - Bridge Condition Bridge Age (yr)  \\\n",
       "0                   'Good'              45   \n",
       "1                   'Fair'              40   \n",
       "2                   'Good'               7   \n",
       "3                   'Good'               4   \n",
       "4                   'Good'              15   \n",
       "\n",
       "  26 - Functional Class Of Inventory Route  28A - Lanes On the Structure  \\\n",
       "0                                      '9'                             1   \n",
       "1                                      '9'                             1   \n",
       "2                                      '7'                             2   \n",
       "3                                     '11'                             1   \n",
       "4                                      '2'                             2   \n",
       "\n",
       "  28B - Lanes Under the Structure 5C - Designated Level of Service Code  \\\n",
       "0                               0                                   '0'   \n",
       "1                               0                                   '0'   \n",
       "2                               0                                   '1'   \n",
       "3                               2                                   '7'   \n",
       "4                               0                                   '1'   \n",
       "\n",
       "   30 - Year of Average Daily Traffic 104 - Inventory Route NHS Code  \\\n",
       "0                                 0.0                            '0'   \n",
       "1                                 0.0                            '0'   \n",
       "2                              2013.0                            '0'   \n",
       "3                              2017.0                            '0'   \n",
       "4                              2012.0                            '1'   \n",
       "\n",
       "  110 - Designated National Truck Network Code  \\\n",
       "0                                          '0'   \n",
       "1                                          '0'   \n",
       "2                                          '0'   \n",
       "3                                          '0'   \n",
       "4                                          '1'   \n",
       "\n",
       "  54B - Minimum Vertical Underclearance (ft)  \\\n",
       "0                                  0.0000000   \n",
       "1                                  0.0000000   \n",
       "2                                  0.0000000   \n",
       "3                                 14.4000000   \n",
       "4                                  0.0000000   \n",
       "\n",
       "  55B - Minimum Lateral Underclearance on Right (ft)  \\\n",
       "0                                          0.0000000   \n",
       "1                                          0.0000000   \n",
       "2                                          0.0000000   \n",
       "3                                          9.2000000   \n",
       "4                                          0.0000000   \n",
       "\n",
       "   56 - Minimum Lateral Underclearance on Left (ft)  \n",
       "0                                               0.0  \n",
       "1                                               0.0  \n",
       "2                                               0.0  \n",
       "3                                               7.8  \n",
       "4                                               0.0  "
      ]
     },
     "execution_count": 4,
     "metadata": {},
     "output_type": "execute_result"
    }
   ],
   "source": [
    "ddf = pd.read_csv('C:/Users/milen/Flatiron-April05/Documents/BridgesExport_August_25_2021_03_04_42.csv',\n",
    "                names = columns, usecols=range(0,15),error_bad_lines=False, sep = ',', header = 0)\n",
    "ddf.head()"
   ]
  },
  {
   "cell_type": "code",
   "execution_count": 5,
   "metadata": {
    "ExecuteTime": {
     "end_time": "2021-08-29T01:35:20.197276Z",
     "start_time": "2021-08-29T01:35:20.183883Z"
    }
   },
   "outputs": [
    {
     "data": {
      "text/plain": [
       "(618456, 15)"
      ]
     },
     "execution_count": 5,
     "metadata": {},
     "output_type": "execute_result"
    }
   ],
   "source": [
    "ddf.shape"
   ]
  },
  {
   "cell_type": "code",
   "execution_count": 6,
   "metadata": {
    "ExecuteTime": {
     "end_time": "2021-08-29T01:35:20.213200Z",
     "start_time": "2021-08-29T01:35:20.200264Z"
    }
   },
   "outputs": [
    {
     "data": {
      "text/plain": [
       "Index(['1 - State Name', '8 - Structure Number', '22 - Owner Agency',\n",
       "       'CAT10 - Bridge Condition', 'Bridge Age (yr)',\n",
       "       '26 - Functional Class Of Inventory Route',\n",
       "       '28A - Lanes On the Structure', '28B - Lanes Under the Structure',\n",
       "       '5C - Designated Level of Service Code',\n",
       "       '30 - Year of Average Daily Traffic', '104 - Inventory Route NHS Code',\n",
       "       '110 - Designated National Truck Network Code',\n",
       "       '54B - Minimum Vertical Underclearance (ft)',\n",
       "       '55B - Minimum Lateral Underclearance on Right (ft)',\n",
       "       '56 - Minimum Lateral Underclearance on Left (ft)'],\n",
       "      dtype='object')"
      ]
     },
     "execution_count": 6,
     "metadata": {},
     "output_type": "execute_result"
    }
   ],
   "source": [
    "ddf.columns"
   ]
  },
  {
   "cell_type": "code",
   "execution_count": 7,
   "metadata": {
    "ExecuteTime": {
     "end_time": "2021-08-29T01:35:20.229202Z",
     "start_time": "2021-08-29T01:35:20.216203Z"
    }
   },
   "outputs": [],
   "source": [
    "columns = ['1 - State Name', '8 - Structure Number', '22 - Owner Agency',\n",
    "       '107 - Deck Structure Type Code', '108A - Wearing Surface Type Code',\n",
    "       '108B - Membrane Type Code', '108C - Deck Protection Code',\n",
    "       '20 - Toll Status', '109 - Average Daily Truck Traffic (Percent ADT)',\n",
    "       'Number of Freeze-Thaw Cycles', 'Number of Snowfall Days']"
   ]
  },
  {
   "cell_type": "code",
   "execution_count": 8,
   "metadata": {
    "ExecuteTime": {
     "end_time": "2021-08-29T01:35:21.091813Z",
     "start_time": "2021-08-29T01:35:20.233203Z"
    },
    "scrolled": true
   },
   "outputs": [
    {
     "data": {
      "text/html": [
       "<div>\n",
       "<style scoped>\n",
       "    .dataframe tbody tr th:only-of-type {\n",
       "        vertical-align: middle;\n",
       "    }\n",
       "\n",
       "    .dataframe tbody tr th {\n",
       "        vertical-align: top;\n",
       "    }\n",
       "\n",
       "    .dataframe thead th {\n",
       "        text-align: right;\n",
       "    }\n",
       "</style>\n",
       "<table border=\"1\" class=\"dataframe\">\n",
       "  <thead>\n",
       "    <tr style=\"text-align: right;\">\n",
       "      <th></th>\n",
       "      <th>1 - State Name</th>\n",
       "      <th>8 - Structure Number</th>\n",
       "      <th>22 - Owner Agency</th>\n",
       "      <th>107 - Deck Structure Type Code</th>\n",
       "      <th>108A - Wearing Surface Type Code</th>\n",
       "      <th>108B - Membrane Type Code</th>\n",
       "      <th>108C - Deck Protection Code</th>\n",
       "      <th>20 - Toll Status</th>\n",
       "      <th>109 - Average Daily Truck Traffic (Percent ADT)</th>\n",
       "      <th>Number of Freeze-Thaw Cycles</th>\n",
       "      <th>Number of Snowfall Days</th>\n",
       "    </tr>\n",
       "  </thead>\n",
       "  <tbody>\n",
       "    <tr>\n",
       "      <th>0</th>\n",
       "      <td>'1 - Alabama'</td>\n",
       "      <td>080103000001007</td>\n",
       "      <td>'U.S. Forest Service'</td>\n",
       "      <td>'N'</td>\n",
       "      <td>'N'</td>\n",
       "      <td>'N'</td>\n",
       "      <td>'N'</td>\n",
       "      <td>'3'</td>\n",
       "      <td>NaN</td>\n",
       "      <td>NaN</td>\n",
       "      <td>NaN</td>\n",
       "    </tr>\n",
       "    <tr>\n",
       "      <th>1</th>\n",
       "      <td>'1 - Alabama'</td>\n",
       "      <td>080106000001009</td>\n",
       "      <td>'U.S. Forest Service'</td>\n",
       "      <td>'N'</td>\n",
       "      <td>'N'</td>\n",
       "      <td>'N'</td>\n",
       "      <td>'N'</td>\n",
       "      <td>'3'</td>\n",
       "      <td>NaN</td>\n",
       "      <td>NaN</td>\n",
       "      <td>NaN</td>\n",
       "    </tr>\n",
       "    <tr>\n",
       "      <th>2</th>\n",
       "      <td>'1 - Alabama'</td>\n",
       "      <td>020222</td>\n",
       "      <td>'State Highway Agency'</td>\n",
       "      <td>'N'</td>\n",
       "      <td>'N'</td>\n",
       "      <td>'N'</td>\n",
       "      <td>'N'</td>\n",
       "      <td>'3'</td>\n",
       "      <td>14</td>\n",
       "      <td>6</td>\n",
       "      <td>8.0</td>\n",
       "    </tr>\n",
       "    <tr>\n",
       "      <th>3</th>\n",
       "      <td>'1 - Alabama'</td>\n",
       "      <td>021152</td>\n",
       "      <td>'State Highway Agency'</td>\n",
       "      <td>'1'</td>\n",
       "      <td>'0'</td>\n",
       "      <td>'0'</td>\n",
       "      <td>'0'</td>\n",
       "      <td>'3'</td>\n",
       "      <td>20</td>\n",
       "      <td>NaN</td>\n",
       "      <td>NaN</td>\n",
       "    </tr>\n",
       "    <tr>\n",
       "      <th>4</th>\n",
       "      <td>'1 - Alabama'</td>\n",
       "      <td>021480</td>\n",
       "      <td>'State Highway Agency'</td>\n",
       "      <td>'1'</td>\n",
       "      <td>'0'</td>\n",
       "      <td>'0'</td>\n",
       "      <td>'0'</td>\n",
       "      <td>'3'</td>\n",
       "      <td>35</td>\n",
       "      <td>14</td>\n",
       "      <td>0.0</td>\n",
       "    </tr>\n",
       "  </tbody>\n",
       "</table>\n",
       "</div>"
      ],
      "text/plain": [
       "  1 - State Name 8 - Structure Number       22 - Owner Agency  \\\n",
       "0  '1 - Alabama'      080103000001007   'U.S. Forest Service'   \n",
       "1  '1 - Alabama'      080106000001009   'U.S. Forest Service'   \n",
       "2  '1 - Alabama'      020222           'State Highway Agency'   \n",
       "3  '1 - Alabama'      021152           'State Highway Agency'   \n",
       "4  '1 - Alabama'      021480           'State Highway Agency'   \n",
       "\n",
       "  107 - Deck Structure Type Code 108A - Wearing Surface Type Code  \\\n",
       "0                            'N'                              'N'   \n",
       "1                            'N'                              'N'   \n",
       "2                            'N'                              'N'   \n",
       "3                            '1'                              '0'   \n",
       "4                            '1'                              '0'   \n",
       "\n",
       "  108B - Membrane Type Code 108C - Deck Protection Code 20 - Toll Status  \\\n",
       "0                       'N'                         'N'              '3'   \n",
       "1                       'N'                         'N'              '3'   \n",
       "2                       'N'                         'N'              '3'   \n",
       "3                       '0'                         '0'              '3'   \n",
       "4                       '0'                         '0'              '3'   \n",
       "\n",
       "  109 - Average Daily Truck Traffic (Percent ADT)  \\\n",
       "0                                             NaN   \n",
       "1                                             NaN   \n",
       "2                                              14   \n",
       "3                                              20   \n",
       "4                                              35   \n",
       "\n",
       "  Number of Freeze-Thaw Cycles  Number of Snowfall Days  \n",
       "0                          NaN                      NaN  \n",
       "1                          NaN                      NaN  \n",
       "2                            6                      8.0  \n",
       "3                          NaN                      NaN  \n",
       "4                           14                      0.0  "
      ]
     },
     "execution_count": 8,
     "metadata": {},
     "output_type": "execute_result"
    }
   ],
   "source": [
    "new_df = pd.read_csv('C:/Users/milen/Flatiron-April05/Documents/BridgesExport_August_19_2021_07_08_24.csv',\n",
    "                     names = columns, usecols=range(0,11), error_bad_lines=False, sep = ',', header = 0)\n",
    "new_df.head()"
   ]
  },
  {
   "cell_type": "code",
   "execution_count": 9,
   "metadata": {
    "ExecuteTime": {
     "end_time": "2021-08-29T01:35:21.107854Z",
     "start_time": "2021-08-29T01:35:21.093813Z"
    }
   },
   "outputs": [
    {
     "data": {
      "text/plain": [
       "Index(['1 - State Name', '8 - Structure Number', '22 - Owner Agency',\n",
       "       '107 - Deck Structure Type Code', '108A - Wearing Surface Type Code',\n",
       "       '108B - Membrane Type Code', '108C - Deck Protection Code',\n",
       "       '20 - Toll Status', '109 - Average Daily Truck Traffic (Percent ADT)',\n",
       "       'Number of Freeze-Thaw Cycles', 'Number of Snowfall Days'],\n",
       "      dtype='object')"
      ]
     },
     "execution_count": 9,
     "metadata": {},
     "output_type": "execute_result"
    }
   ],
   "source": [
    "new_df.columns"
   ]
  },
  {
   "cell_type": "code",
   "execution_count": 10,
   "metadata": {
    "ExecuteTime": {
     "end_time": "2021-08-29T01:35:21.123881Z",
     "start_time": "2021-08-29T01:35:21.109814Z"
    }
   },
   "outputs": [
    {
     "data": {
      "text/plain": [
       "(618456, 11)"
      ]
     },
     "execution_count": 10,
     "metadata": {},
     "output_type": "execute_result"
    }
   ],
   "source": [
    "new_df.shape"
   ]
  },
  {
   "cell_type": "code",
   "execution_count": 11,
   "metadata": {
    "ExecuteTime": {
     "end_time": "2021-08-29T01:35:21.139852Z",
     "start_time": "2021-08-29T01:35:21.126814Z"
    }
   },
   "outputs": [],
   "source": [
    "columns = ['1 - State Name', '8 - Structure Number', '22 - Owner Agency',\n",
    "       '3 - County Name', '27 - Year Built', '29 - Average Daily Traffic',\n",
    "       '43A - Main Design Mat Type Value',\n",
    "       '43B - Main Construction Design Value',\n",
    "       '45 - Number of Spans in Main Unit', '49 - Structure Length (ft)',\n",
    "       '6A - Features Intersected', '7 - Facility Carried By Structure',\n",
    "       'CAT10 - Bridge Condition', 'Bridge Age (yr)',\n",
    "       'CAT29 - Deck Area (sq.ft)']"
   ]
  },
  {
   "cell_type": "code",
   "execution_count": 12,
   "metadata": {
    "ExecuteTime": {
     "end_time": "2021-08-29T01:35:22.787674Z",
     "start_time": "2021-08-29T01:35:21.141811Z"
    },
    "scrolled": true
   },
   "outputs": [
    {
     "data": {
      "text/html": [
       "<div>\n",
       "<style scoped>\n",
       "    .dataframe tbody tr th:only-of-type {\n",
       "        vertical-align: middle;\n",
       "    }\n",
       "\n",
       "    .dataframe tbody tr th {\n",
       "        vertical-align: top;\n",
       "    }\n",
       "\n",
       "    .dataframe thead th {\n",
       "        text-align: right;\n",
       "    }\n",
       "</style>\n",
       "<table border=\"1\" class=\"dataframe\">\n",
       "  <thead>\n",
       "    <tr style=\"text-align: right;\">\n",
       "      <th></th>\n",
       "      <th>1 - State Name</th>\n",
       "      <th>8 - Structure Number</th>\n",
       "      <th>22 - Owner Agency</th>\n",
       "      <th>3 - County Name</th>\n",
       "      <th>27 - Year Built</th>\n",
       "      <th>29 - Average Daily Traffic</th>\n",
       "      <th>43A - Main Design Mat Type Value</th>\n",
       "      <th>43B - Main Construction Design Value</th>\n",
       "      <th>45 - Number of Spans in Main Unit</th>\n",
       "      <th>49 - Structure Length (ft)</th>\n",
       "      <th>6A - Features Intersected</th>\n",
       "      <th>7 - Facility Carried By Structure</th>\n",
       "      <th>CAT10 - Bridge Condition</th>\n",
       "      <th>Bridge Age (yr)</th>\n",
       "      <th>CAT29 - Deck Area (sq.ft)</th>\n",
       "    </tr>\n",
       "  </thead>\n",
       "  <tbody>\n",
       "    <tr>\n",
       "      <th>0</th>\n",
       "      <td>'1 - Alabama'</td>\n",
       "      <td>020260</td>\n",
       "      <td>'County Highway Agency'</td>\n",
       "      <td>'069 - Houston County'</td>\n",
       "      <td>1960</td>\n",
       "      <td>1654</td>\n",
       "      <td>'Concrete'</td>\n",
       "      <td>'Culvert'</td>\n",
       "      <td>2</td>\n",
       "      <td>24.6</td>\n",
       "      <td>'SAUNDERS BRANCH         '</td>\n",
       "      <td>'W. SAUNDERS RD.   '</td>\n",
       "      <td>'Good'</td>\n",
       "      <td>61</td>\n",
       "      <td>540.9</td>\n",
       "    </tr>\n",
       "    <tr>\n",
       "      <th>1</th>\n",
       "      <td>'1 - Alabama'</td>\n",
       "      <td>007641</td>\n",
       "      <td>'State Highway Agency'</td>\n",
       "      <td>'005 - Barbour County'</td>\n",
       "      <td>1962</td>\n",
       "      <td>13980</td>\n",
       "      <td>'Steel Continuous'</td>\n",
       "      <td>'Stringer/Multi-beam or Girder'</td>\n",
       "      <td>4</td>\n",
       "      <td>1131.9</td>\n",
       "      <td>'CHATTAHOOCHEE RIVER     '</td>\n",
       "      <td>'US  82 MP 239.816 '</td>\n",
       "      <td>'Fair'</td>\n",
       "      <td>59</td>\n",
       "      <td>74642.3</td>\n",
       "    </tr>\n",
       "    <tr>\n",
       "      <th>2</th>\n",
       "      <td>'1 - Alabama'</td>\n",
       "      <td>009096</td>\n",
       "      <td>'County Highway Agency'</td>\n",
       "      <td>'005 - Barbour County'</td>\n",
       "      <td>1967</td>\n",
       "      <td>260</td>\n",
       "      <td>'Concrete'</td>\n",
       "      <td>'Culvert'</td>\n",
       "      <td>3</td>\n",
       "      <td>26.2</td>\n",
       "      <td>'BLACKS BRANCH           '</td>\n",
       "      <td>'LEROY RD          '</td>\n",
       "      <td>'Fair'</td>\n",
       "      <td>54</td>\n",
       "      <td>731.9</td>\n",
       "    </tr>\n",
       "    <tr>\n",
       "      <th>3</th>\n",
       "      <td>'1 - Alabama'</td>\n",
       "      <td>019608</td>\n",
       "      <td>'County Highway Agency'</td>\n",
       "      <td>'113 - Russell County'</td>\n",
       "      <td>2005</td>\n",
       "      <td>50</td>\n",
       "      <td>'Wood or Timber'</td>\n",
       "      <td>'Stringer/Multi-beam or Girder'</td>\n",
       "      <td>2</td>\n",
       "      <td>24</td>\n",
       "      <td>'SNAKE CREEK             '</td>\n",
       "      <td>'WILDMAN BOTTOM    '</td>\n",
       "      <td>'Fair'</td>\n",
       "      <td>16</td>\n",
       "      <td>385</td>\n",
       "    </tr>\n",
       "    <tr>\n",
       "      <th>4</th>\n",
       "      <td>'1 - Alabama'</td>\n",
       "      <td>002529</td>\n",
       "      <td>'State Highway Agency'</td>\n",
       "      <td>'005 - Barbour County'</td>\n",
       "      <td>1941</td>\n",
       "      <td>4495</td>\n",
       "      <td>'Steel Continuous'</td>\n",
       "      <td>'Stringer/Multi-beam or Girder'</td>\n",
       "      <td>12</td>\n",
       "      <td>266.1</td>\n",
       "      <td>'WHITE OAK CREEK         '</td>\n",
       "      <td>'US 431 MP 57.766  '</td>\n",
       "      <td>'Fair'</td>\n",
       "      <td>80</td>\n",
       "      <td>7769.3</td>\n",
       "    </tr>\n",
       "  </tbody>\n",
       "</table>\n",
       "</div>"
      ],
      "text/plain": [
       "  1 - State Name 8 - Structure Number        22 - Owner Agency  \\\n",
       "0  '1 - Alabama'      020260           'County Highway Agency'   \n",
       "1  '1 - Alabama'      007641            'State Highway Agency'   \n",
       "2  '1 - Alabama'      009096           'County Highway Agency'   \n",
       "3  '1 - Alabama'      019608           'County Highway Agency'   \n",
       "4  '1 - Alabama'      002529            'State Highway Agency'   \n",
       "\n",
       "          3 - County Name 27 - Year Built 29 - Average Daily Traffic  \\\n",
       "0  '069 - Houston County'            1960                       1654   \n",
       "1  '005 - Barbour County'            1962                      13980   \n",
       "2  '005 - Barbour County'            1967                        260   \n",
       "3  '113 - Russell County'            2005                         50   \n",
       "4  '005 - Barbour County'            1941                       4495   \n",
       "\n",
       "  43A - Main Design Mat Type Value 43B - Main Construction Design Value  \\\n",
       "0                       'Concrete'                            'Culvert'   \n",
       "1               'Steel Continuous'      'Stringer/Multi-beam or Girder'   \n",
       "2                       'Concrete'                            'Culvert'   \n",
       "3                 'Wood or Timber'      'Stringer/Multi-beam or Girder'   \n",
       "4               'Steel Continuous'      'Stringer/Multi-beam or Girder'   \n",
       "\n",
       "  45 - Number of Spans in Main Unit 49 - Structure Length (ft)  \\\n",
       "0                                 2                       24.6   \n",
       "1                                 4                     1131.9   \n",
       "2                                 3                       26.2   \n",
       "3                                 2                         24   \n",
       "4                                12                      266.1   \n",
       "\n",
       "    6A - Features Intersected 7 - Facility Carried By Structure  \\\n",
       "0  'SAUNDERS BRANCH         '              'W. SAUNDERS RD.   '   \n",
       "1  'CHATTAHOOCHEE RIVER     '              'US  82 MP 239.816 '   \n",
       "2  'BLACKS BRANCH           '              'LEROY RD          '   \n",
       "3  'SNAKE CREEK             '              'WILDMAN BOTTOM    '   \n",
       "4  'WHITE OAK CREEK         '              'US 431 MP 57.766  '   \n",
       "\n",
       "  CAT10 - Bridge Condition Bridge Age (yr) CAT29 - Deck Area (sq.ft)  \n",
       "0                   'Good'              61                     540.9  \n",
       "1                   'Fair'              59                   74642.3  \n",
       "2                   'Fair'              54                     731.9  \n",
       "3                   'Fair'              16                       385  \n",
       "4                   'Fair'              80                    7769.3  "
      ]
     },
     "execution_count": 12,
     "metadata": {},
     "output_type": "execute_result"
    }
   ],
   "source": [
    "#read csv\n",
    "df = pd.read_csv('C:/Users/milen/Flatiron-April05/Documents/Bridge_data.txt',\n",
    "                 names = columns, usecols=range(0,15), error_bad_lines=False, sep = ',', header = 0)\n",
    "df.head()"
   ]
  },
  {
   "cell_type": "code",
   "execution_count": 13,
   "metadata": {
    "ExecuteTime": {
     "end_time": "2021-08-29T01:35:22.803224Z",
     "start_time": "2021-08-29T01:35:22.790696Z"
    }
   },
   "outputs": [
    {
     "data": {
      "text/plain": [
       "(618456, 15)"
      ]
     },
     "execution_count": 13,
     "metadata": {},
     "output_type": "execute_result"
    }
   ],
   "source": [
    "df.shape"
   ]
  },
  {
   "cell_type": "code",
   "execution_count": 14,
   "metadata": {
    "ExecuteTime": {
     "end_time": "2021-08-29T01:35:22.819181Z",
     "start_time": "2021-08-29T01:35:22.805178Z"
    }
   },
   "outputs": [
    {
     "data": {
      "text/plain": [
       "Index(['1 - State Name', '8 - Structure Number', '22 - Owner Agency',\n",
       "       '3 - County Name', '27 - Year Built', '29 - Average Daily Traffic',\n",
       "       '43A - Main Design Mat Type Value',\n",
       "       '43B - Main Construction Design Value',\n",
       "       '45 - Number of Spans in Main Unit', '49 - Structure Length (ft)',\n",
       "       '6A - Features Intersected', '7 - Facility Carried By Structure',\n",
       "       'CAT10 - Bridge Condition', 'Bridge Age (yr)',\n",
       "       'CAT29 - Deck Area (sq.ft)'],\n",
       "      dtype='object')"
      ]
     },
     "execution_count": 14,
     "metadata": {},
     "output_type": "execute_result"
    }
   ],
   "source": [
    "df.columns"
   ]
  },
  {
   "cell_type": "code",
   "execution_count": 15,
   "metadata": {
    "ExecuteTime": {
     "end_time": "2021-08-29T01:35:22.835219Z",
     "start_time": "2021-08-29T01:35:22.821178Z"
    }
   },
   "outputs": [],
   "source": [
    "columns = ['1 - State Name', '8 - Structure Number', '22 - Owner Agency',\n",
    "       '3 - County Name', '9 - Location', '16 - Latitude (decimal)',\n",
    "       '17 - Longitude (decimal)', '21 - Maintenance Responsibility',\n",
    "       '106 - Year Reconstructed', '34 - Skew Angle (degrees)',\n",
    "       '48 - Length of Maximum Span (ft)',\n",
    "       '51 - Bridge Roadway Width Curb to Curb (ft)',\n",
    "       '52 - Deck Width - Out to Out (ft)', '59 - Superstructure Condition',\n",
    "       '60 - Substructure Condition', '58 - Deck Condition']"
   ]
  },
  {
   "cell_type": "code",
   "execution_count": 16,
   "metadata": {
    "ExecuteTime": {
     "end_time": "2021-08-29T01:35:24.368492Z",
     "start_time": "2021-08-29T01:35:22.838195Z"
    },
    "scrolled": false
   },
   "outputs": [
    {
     "name": "stderr",
     "output_type": "stream",
     "text": [
      "C:\\Users\\milen\\anaconda3\\lib\\site-packages\\IPython\\core\\interactiveshell.py:3146: DtypeWarning: Columns (10) have mixed types.Specify dtype option on import or set low_memory=False.\n",
      "  has_raised = await self.run_ast_nodes(code_ast.body, cell_name,\n"
     ]
    },
    {
     "data": {
      "text/html": [
       "<div>\n",
       "<style scoped>\n",
       "    .dataframe tbody tr th:only-of-type {\n",
       "        vertical-align: middle;\n",
       "    }\n",
       "\n",
       "    .dataframe tbody tr th {\n",
       "        vertical-align: top;\n",
       "    }\n",
       "\n",
       "    .dataframe thead th {\n",
       "        text-align: right;\n",
       "    }\n",
       "</style>\n",
       "<table border=\"1\" class=\"dataframe\">\n",
       "  <thead>\n",
       "    <tr style=\"text-align: right;\">\n",
       "      <th></th>\n",
       "      <th>1 - State Name</th>\n",
       "      <th>8 - Structure Number</th>\n",
       "      <th>22 - Owner Agency</th>\n",
       "      <th>3 - County Name</th>\n",
       "      <th>9 - Location</th>\n",
       "      <th>16 - Latitude (decimal)</th>\n",
       "      <th>17 - Longitude (decimal)</th>\n",
       "      <th>21 - Maintenance Responsibility</th>\n",
       "      <th>106 - Year Reconstructed</th>\n",
       "      <th>34 - Skew Angle (degrees)</th>\n",
       "      <th>48 - Length of Maximum Span (ft)</th>\n",
       "      <th>51 - Bridge Roadway Width Curb to Curb (ft)</th>\n",
       "      <th>52 - Deck Width - Out to Out (ft)</th>\n",
       "      <th>59 - Superstructure Condition</th>\n",
       "      <th>60 - Substructure Condition</th>\n",
       "      <th>58 - Deck Condition</th>\n",
       "    </tr>\n",
       "  </thead>\n",
       "  <tbody>\n",
       "    <tr>\n",
       "      <th>0</th>\n",
       "      <td>'1 - Alabama'</td>\n",
       "      <td>080103000001007</td>\n",
       "      <td>'U.S. Forest Service'</td>\n",
       "      <td>'039 - Covington County'</td>\n",
       "      <td>'CONECUH NATIONAL FOREST  '</td>\n",
       "      <td>0</td>\n",
       "      <td>0</td>\n",
       "      <td>'64'</td>\n",
       "      <td>0</td>\n",
       "      <td>20</td>\n",
       "      <td>0</td>\n",
       "      <td>0.0</td>\n",
       "      <td>0.0</td>\n",
       "      <td>'N'</td>\n",
       "      <td>'N'</td>\n",
       "      <td>'N'</td>\n",
       "    </tr>\n",
       "    <tr>\n",
       "      <th>1</th>\n",
       "      <td>'1 - Alabama'</td>\n",
       "      <td>080106000001009</td>\n",
       "      <td>'U.S. Forest Service'</td>\n",
       "      <td>'027 - Clay County'</td>\n",
       "      <td>'NATIONAL FOREST          '</td>\n",
       "      <td>0</td>\n",
       "      <td>0</td>\n",
       "      <td>'64'</td>\n",
       "      <td>0</td>\n",
       "      <td>45</td>\n",
       "      <td>0</td>\n",
       "      <td>0.0</td>\n",
       "      <td>0.0</td>\n",
       "      <td>'N'</td>\n",
       "      <td>'N'</td>\n",
       "      <td>'N'</td>\n",
       "    </tr>\n",
       "    <tr>\n",
       "      <th>2</th>\n",
       "      <td>'1 - Alabama'</td>\n",
       "      <td>020222</td>\n",
       "      <td>'State Highway Agency'</td>\n",
       "      <td>'061 - Geneva County'</td>\n",
       "      <td>'1 mi. west of al 52      '</td>\n",
       "      <td>31.10981</td>\n",
       "      <td>-9.024917</td>\n",
       "      <td>'1'</td>\n",
       "      <td>0</td>\n",
       "      <td>0</td>\n",
       "      <td>7.9</td>\n",
       "      <td>0.0</td>\n",
       "      <td>0.0</td>\n",
       "      <td>'N'</td>\n",
       "      <td>'N'</td>\n",
       "      <td>'N'</td>\n",
       "    </tr>\n",
       "    <tr>\n",
       "      <th>3</th>\n",
       "      <td>'1 - Alabama'</td>\n",
       "      <td>021152</td>\n",
       "      <td>'State Highway Agency'</td>\n",
       "      <td>'073 - Jefferson County'</td>\n",
       "      <td>'_11TH AVE                '</td>\n",
       "      <td>33.52243</td>\n",
       "      <td>-33.52243</td>\n",
       "      <td>'1'</td>\n",
       "      <td>0</td>\n",
       "      <td>0</td>\n",
       "      <td>75.1</td>\n",
       "      <td>24.9</td>\n",
       "      <td>27.6</td>\n",
       "      <td>'9'</td>\n",
       "      <td>'9'</td>\n",
       "      <td>'9'</td>\n",
       "    </tr>\n",
       "    <tr>\n",
       "      <th>4</th>\n",
       "      <td>'1 - Alabama'</td>\n",
       "      <td>021480</td>\n",
       "      <td>'State Highway Agency'</td>\n",
       "      <td>'069 - Houston County'</td>\n",
       "      <td>'GA. /ALA .  LINE         '</td>\n",
       "      <td>31.12305</td>\n",
       "      <td>-85.05527</td>\n",
       "      <td>'1'</td>\n",
       "      <td>0</td>\n",
       "      <td>23</td>\n",
       "      <td>274.9</td>\n",
       "      <td>38.1</td>\n",
       "      <td>41.0</td>\n",
       "      <td>'7'</td>\n",
       "      <td>'7'</td>\n",
       "      <td>'7'</td>\n",
       "    </tr>\n",
       "  </tbody>\n",
       "</table>\n",
       "</div>"
      ],
      "text/plain": [
       "  1 - State Name 8 - Structure Number       22 - Owner Agency  \\\n",
       "0  '1 - Alabama'      080103000001007   'U.S. Forest Service'   \n",
       "1  '1 - Alabama'      080106000001009   'U.S. Forest Service'   \n",
       "2  '1 - Alabama'      020222           'State Highway Agency'   \n",
       "3  '1 - Alabama'      021152           'State Highway Agency'   \n",
       "4  '1 - Alabama'      021480           'State Highway Agency'   \n",
       "\n",
       "            3 - County Name                 9 - Location  \\\n",
       "0  '039 - Covington County'  'CONECUH NATIONAL FOREST  '   \n",
       "1       '027 - Clay County'  'NATIONAL FOREST          '   \n",
       "2     '061 - Geneva County'  '1 mi. west of al 52      '   \n",
       "3  '073 - Jefferson County'  '_11TH AVE                '   \n",
       "4    '069 - Houston County'  'GA. /ALA .  LINE         '   \n",
       "\n",
       "  16 - Latitude (decimal) 17 - Longitude (decimal)  \\\n",
       "0                       0                        0   \n",
       "1                       0                        0   \n",
       "2                31.10981                -9.024917   \n",
       "3                33.52243                -33.52243   \n",
       "4                31.12305                -85.05527   \n",
       "\n",
       "  21 - Maintenance Responsibility 106 - Year Reconstructed  \\\n",
       "0                            '64'                        0   \n",
       "1                            '64'                        0   \n",
       "2                             '1'                        0   \n",
       "3                             '1'                        0   \n",
       "4                             '1'                        0   \n",
       "\n",
       "  34 - Skew Angle (degrees) 48 - Length of Maximum Span (ft)  \\\n",
       "0                        20                                0   \n",
       "1                        45                                0   \n",
       "2                         0                              7.9   \n",
       "3                         0                             75.1   \n",
       "4                        23                            274.9   \n",
       "\n",
       "   51 - Bridge Roadway Width Curb to Curb (ft)  \\\n",
       "0                                          0.0   \n",
       "1                                          0.0   \n",
       "2                                          0.0   \n",
       "3                                         24.9   \n",
       "4                                         38.1   \n",
       "\n",
       "   52 - Deck Width - Out to Out (ft) 59 - Superstructure Condition  \\\n",
       "0                                0.0                           'N'   \n",
       "1                                0.0                           'N'   \n",
       "2                                0.0                           'N'   \n",
       "3                               27.6                           '9'   \n",
       "4                               41.0                           '7'   \n",
       "\n",
       "  60 - Substructure Condition 58 - Deck Condition  \n",
       "0                         'N'                 'N'  \n",
       "1                         'N'                 'N'  \n",
       "2                         'N'                 'N'  \n",
       "3                         '9'                 '9'  \n",
       "4                         '7'                 '7'  "
      ]
     },
     "execution_count": 16,
     "metadata": {},
     "output_type": "execute_result"
    }
   ],
   "source": [
    "df1 = pd.read_csv('C:/Users/milen/Flatiron-April05/Documents/Bridges_location_data.txt',\n",
    "                  names = columns, usecols=range(0,16), error_bad_lines=False,\n",
    "                 sep = ',', header = 0)\n",
    "df1.head()"
   ]
  },
  {
   "cell_type": "code",
   "execution_count": 17,
   "metadata": {
    "ExecuteTime": {
     "end_time": "2021-08-29T01:35:24.384318Z",
     "start_time": "2021-08-29T01:35:24.370446Z"
    }
   },
   "outputs": [
    {
     "data": {
      "text/plain": [
       "(618456, 16)"
      ]
     },
     "execution_count": 17,
     "metadata": {},
     "output_type": "execute_result"
    }
   ],
   "source": [
    "df1.shape"
   ]
  },
  {
   "cell_type": "code",
   "execution_count": 18,
   "metadata": {
    "ExecuteTime": {
     "end_time": "2021-08-29T01:35:24.400272Z",
     "start_time": "2021-08-29T01:35:24.387272Z"
    }
   },
   "outputs": [
    {
     "data": {
      "text/plain": [
       "Index(['1 - State Name', '8 - Structure Number', '22 - Owner Agency',\n",
       "       '3 - County Name', '9 - Location', '16 - Latitude (decimal)',\n",
       "       '17 - Longitude (decimal)', '21 - Maintenance Responsibility',\n",
       "       '106 - Year Reconstructed', '34 - Skew Angle (degrees)',\n",
       "       '48 - Length of Maximum Span (ft)',\n",
       "       '51 - Bridge Roadway Width Curb to Curb (ft)',\n",
       "       '52 - Deck Width - Out to Out (ft)', '59 - Superstructure Condition',\n",
       "       '60 - Substructure Condition', '58 - Deck Condition'],\n",
       "      dtype='object')"
      ]
     },
     "execution_count": 18,
     "metadata": {},
     "output_type": "execute_result"
    }
   ],
   "source": [
    "df1.columns"
   ]
  },
  {
   "cell_type": "markdown",
   "metadata": {},
   "source": [
    "## Merging tables"
   ]
  },
  {
   "cell_type": "code",
   "execution_count": 19,
   "metadata": {
    "ExecuteTime": {
     "end_time": "2021-08-29T01:35:25.365168Z",
     "start_time": "2021-08-29T01:35:24.403274Z"
    }
   },
   "outputs": [
    {
     "data": {
      "text/html": [
       "<div>\n",
       "<style scoped>\n",
       "    .dataframe tbody tr th:only-of-type {\n",
       "        vertical-align: middle;\n",
       "    }\n",
       "\n",
       "    .dataframe tbody tr th {\n",
       "        vertical-align: top;\n",
       "    }\n",
       "\n",
       "    .dataframe thead th {\n",
       "        text-align: right;\n",
       "    }\n",
       "</style>\n",
       "<table border=\"1\" class=\"dataframe\">\n",
       "  <thead>\n",
       "    <tr style=\"text-align: right;\">\n",
       "      <th></th>\n",
       "      <th>1 - State Name</th>\n",
       "      <th>8 - Structure Number</th>\n",
       "      <th>22 - Owner Agency</th>\n",
       "      <th>107 - Deck Structure Type Code</th>\n",
       "      <th>108A - Wearing Surface Type Code</th>\n",
       "      <th>108B - Membrane Type Code</th>\n",
       "      <th>108C - Deck Protection Code</th>\n",
       "      <th>20 - Toll Status</th>\n",
       "      <th>109 - Average Daily Truck Traffic (Percent ADT)</th>\n",
       "      <th>Number of Freeze-Thaw Cycles</th>\n",
       "      <th>...</th>\n",
       "      <th>26 - Functional Class Of Inventory Route</th>\n",
       "      <th>28A - Lanes On the Structure</th>\n",
       "      <th>28B - Lanes Under the Structure</th>\n",
       "      <th>5C - Designated Level of Service Code</th>\n",
       "      <th>30 - Year of Average Daily Traffic</th>\n",
       "      <th>104 - Inventory Route NHS Code</th>\n",
       "      <th>110 - Designated National Truck Network Code</th>\n",
       "      <th>54B - Minimum Vertical Underclearance (ft)</th>\n",
       "      <th>55B - Minimum Lateral Underclearance on Right (ft)</th>\n",
       "      <th>56 - Minimum Lateral Underclearance on Left (ft)</th>\n",
       "    </tr>\n",
       "  </thead>\n",
       "  <tbody>\n",
       "    <tr>\n",
       "      <th>0</th>\n",
       "      <td>'1 - Alabama'</td>\n",
       "      <td>080103000001007</td>\n",
       "      <td>'U.S. Forest Service'</td>\n",
       "      <td>'N'</td>\n",
       "      <td>'N'</td>\n",
       "      <td>'N'</td>\n",
       "      <td>'N'</td>\n",
       "      <td>'3'</td>\n",
       "      <td>NaN</td>\n",
       "      <td>NaN</td>\n",
       "      <td>...</td>\n",
       "      <td>'9'</td>\n",
       "      <td>1</td>\n",
       "      <td>0</td>\n",
       "      <td>'0'</td>\n",
       "      <td>0.0</td>\n",
       "      <td>'0'</td>\n",
       "      <td>'0'</td>\n",
       "      <td>0.0000000</td>\n",
       "      <td>0.0000000</td>\n",
       "      <td>0.0</td>\n",
       "    </tr>\n",
       "    <tr>\n",
       "      <th>1</th>\n",
       "      <td>'1 - Alabama'</td>\n",
       "      <td>080106000001009</td>\n",
       "      <td>'U.S. Forest Service'</td>\n",
       "      <td>'N'</td>\n",
       "      <td>'N'</td>\n",
       "      <td>'N'</td>\n",
       "      <td>'N'</td>\n",
       "      <td>'3'</td>\n",
       "      <td>NaN</td>\n",
       "      <td>NaN</td>\n",
       "      <td>...</td>\n",
       "      <td>'9'</td>\n",
       "      <td>1</td>\n",
       "      <td>0</td>\n",
       "      <td>'0'</td>\n",
       "      <td>0.0</td>\n",
       "      <td>'0'</td>\n",
       "      <td>'0'</td>\n",
       "      <td>0.0000000</td>\n",
       "      <td>0.0000000</td>\n",
       "      <td>0.0</td>\n",
       "    </tr>\n",
       "    <tr>\n",
       "      <th>2</th>\n",
       "      <td>'1 - Alabama'</td>\n",
       "      <td>020222</td>\n",
       "      <td>'State Highway Agency'</td>\n",
       "      <td>'N'</td>\n",
       "      <td>'N'</td>\n",
       "      <td>'N'</td>\n",
       "      <td>'N'</td>\n",
       "      <td>'3'</td>\n",
       "      <td>14</td>\n",
       "      <td>6</td>\n",
       "      <td>...</td>\n",
       "      <td>'7'</td>\n",
       "      <td>2</td>\n",
       "      <td>0</td>\n",
       "      <td>'1'</td>\n",
       "      <td>2013.0</td>\n",
       "      <td>'0'</td>\n",
       "      <td>'0'</td>\n",
       "      <td>0.0000000</td>\n",
       "      <td>0.0000000</td>\n",
       "      <td>0.0</td>\n",
       "    </tr>\n",
       "    <tr>\n",
       "      <th>3</th>\n",
       "      <td>'1 - Alabama'</td>\n",
       "      <td>021152</td>\n",
       "      <td>'State Highway Agency'</td>\n",
       "      <td>'1'</td>\n",
       "      <td>'0'</td>\n",
       "      <td>'0'</td>\n",
       "      <td>'0'</td>\n",
       "      <td>'3'</td>\n",
       "      <td>20</td>\n",
       "      <td>NaN</td>\n",
       "      <td>...</td>\n",
       "      <td>'11'</td>\n",
       "      <td>1</td>\n",
       "      <td>2</td>\n",
       "      <td>'7'</td>\n",
       "      <td>2017.0</td>\n",
       "      <td>'0'</td>\n",
       "      <td>'0'</td>\n",
       "      <td>14.4000000</td>\n",
       "      <td>9.2000000</td>\n",
       "      <td>7.8</td>\n",
       "    </tr>\n",
       "    <tr>\n",
       "      <th>4</th>\n",
       "      <td>'1 - Alabama'</td>\n",
       "      <td>021480</td>\n",
       "      <td>'State Highway Agency'</td>\n",
       "      <td>'1'</td>\n",
       "      <td>'0'</td>\n",
       "      <td>'0'</td>\n",
       "      <td>'0'</td>\n",
       "      <td>'3'</td>\n",
       "      <td>35</td>\n",
       "      <td>14</td>\n",
       "      <td>...</td>\n",
       "      <td>'2'</td>\n",
       "      <td>2</td>\n",
       "      <td>0</td>\n",
       "      <td>'1'</td>\n",
       "      <td>2012.0</td>\n",
       "      <td>'1'</td>\n",
       "      <td>'1'</td>\n",
       "      <td>0.0000000</td>\n",
       "      <td>0.0000000</td>\n",
       "      <td>0.0</td>\n",
       "    </tr>\n",
       "  </tbody>\n",
       "</table>\n",
       "<p>5 rows × 23 columns</p>\n",
       "</div>"
      ],
      "text/plain": [
       "  1 - State Name 8 - Structure Number       22 - Owner Agency  \\\n",
       "0  '1 - Alabama'      080103000001007   'U.S. Forest Service'   \n",
       "1  '1 - Alabama'      080106000001009   'U.S. Forest Service'   \n",
       "2  '1 - Alabama'      020222           'State Highway Agency'   \n",
       "3  '1 - Alabama'      021152           'State Highway Agency'   \n",
       "4  '1 - Alabama'      021480           'State Highway Agency'   \n",
       "\n",
       "  107 - Deck Structure Type Code 108A - Wearing Surface Type Code  \\\n",
       "0                            'N'                              'N'   \n",
       "1                            'N'                              'N'   \n",
       "2                            'N'                              'N'   \n",
       "3                            '1'                              '0'   \n",
       "4                            '1'                              '0'   \n",
       "\n",
       "  108B - Membrane Type Code 108C - Deck Protection Code 20 - Toll Status  \\\n",
       "0                       'N'                         'N'              '3'   \n",
       "1                       'N'                         'N'              '3'   \n",
       "2                       'N'                         'N'              '3'   \n",
       "3                       '0'                         '0'              '3'   \n",
       "4                       '0'                         '0'              '3'   \n",
       "\n",
       "  109 - Average Daily Truck Traffic (Percent ADT)  \\\n",
       "0                                             NaN   \n",
       "1                                             NaN   \n",
       "2                                              14   \n",
       "3                                              20   \n",
       "4                                              35   \n",
       "\n",
       "  Number of Freeze-Thaw Cycles  ...  26 - Functional Class Of Inventory Route  \\\n",
       "0                          NaN  ...                                       '9'   \n",
       "1                          NaN  ...                                       '9'   \n",
       "2                            6  ...                                       '7'   \n",
       "3                          NaN  ...                                      '11'   \n",
       "4                           14  ...                                       '2'   \n",
       "\n",
       "  28A - Lanes On the Structure 28B - Lanes Under the Structure  \\\n",
       "0                            1                               0   \n",
       "1                            1                               0   \n",
       "2                            2                               0   \n",
       "3                            1                               2   \n",
       "4                            2                               0   \n",
       "\n",
       "  5C - Designated Level of Service Code  30 - Year of Average Daily Traffic  \\\n",
       "0                                   '0'                                 0.0   \n",
       "1                                   '0'                                 0.0   \n",
       "2                                   '1'                              2013.0   \n",
       "3                                   '7'                              2017.0   \n",
       "4                                   '1'                              2012.0   \n",
       "\n",
       "  104 - Inventory Route NHS Code 110 - Designated National Truck Network Code  \\\n",
       "0                            '0'                                          '0'   \n",
       "1                            '0'                                          '0'   \n",
       "2                            '0'                                          '0'   \n",
       "3                            '0'                                          '0'   \n",
       "4                            '1'                                          '1'   \n",
       "\n",
       "   54B - Minimum Vertical Underclearance (ft)  \\\n",
       "0                                   0.0000000   \n",
       "1                                   0.0000000   \n",
       "2                                   0.0000000   \n",
       "3                                  14.4000000   \n",
       "4                                   0.0000000   \n",
       "\n",
       "  55B - Minimum Lateral Underclearance on Right (ft)  \\\n",
       "0                                          0.0000000   \n",
       "1                                          0.0000000   \n",
       "2                                          0.0000000   \n",
       "3                                          9.2000000   \n",
       "4                                          0.0000000   \n",
       "\n",
       "  56 - Minimum Lateral Underclearance on Left (ft)  \n",
       "0                                              0.0  \n",
       "1                                              0.0  \n",
       "2                                              0.0  \n",
       "3                                              7.8  \n",
       "4                                              0.0  \n",
       "\n",
       "[5 rows x 23 columns]"
      ]
     },
     "execution_count": 19,
     "metadata": {},
     "output_type": "execute_result"
    }
   ],
   "source": [
    "#Merge the two datasets together\n",
    "new_df = new_df.merge(ddf, left_on=['1 - State Name', '8 - Structure Number', '22 - Owner Agency'], \n",
    "                  right_on=['1 - State Name', '8 - Structure Number', '22 - Owner Agency'], how='left')\n",
    "new_df.head()"
   ]
  },
  {
   "cell_type": "code",
   "execution_count": 20,
   "metadata": {
    "ExecuteTime": {
     "end_time": "2021-08-29T01:35:26.189558Z",
     "start_time": "2021-08-29T01:35:25.367167Z"
    }
   },
   "outputs": [
    {
     "data": {
      "text/html": [
       "<div>\n",
       "<style scoped>\n",
       "    .dataframe tbody tr th:only-of-type {\n",
       "        vertical-align: middle;\n",
       "    }\n",
       "\n",
       "    .dataframe tbody tr th {\n",
       "        vertical-align: top;\n",
       "    }\n",
       "\n",
       "    .dataframe thead th {\n",
       "        text-align: right;\n",
       "    }\n",
       "</style>\n",
       "<table border=\"1\" class=\"dataframe\">\n",
       "  <thead>\n",
       "    <tr style=\"text-align: right;\">\n",
       "      <th></th>\n",
       "      <th>1 - State Name</th>\n",
       "      <th>8 - Structure Number</th>\n",
       "      <th>22 - Owner Agency</th>\n",
       "      <th>107 - Deck Structure Type Code</th>\n",
       "      <th>108A - Wearing Surface Type Code</th>\n",
       "      <th>108B - Membrane Type Code</th>\n",
       "      <th>108C - Deck Protection Code</th>\n",
       "      <th>20 - Toll Status</th>\n",
       "      <th>109 - Average Daily Truck Traffic (Percent ADT)</th>\n",
       "      <th>Number of Freeze-Thaw Cycles</th>\n",
       "      <th>...</th>\n",
       "      <th>29 - Average Daily Traffic</th>\n",
       "      <th>43A - Main Design Mat Type Value</th>\n",
       "      <th>43B - Main Construction Design Value</th>\n",
       "      <th>45 - Number of Spans in Main Unit</th>\n",
       "      <th>49 - Structure Length (ft)</th>\n",
       "      <th>6A - Features Intersected</th>\n",
       "      <th>7 - Facility Carried By Structure</th>\n",
       "      <th>CAT10 - Bridge Condition_y</th>\n",
       "      <th>Bridge Age (yr)_y</th>\n",
       "      <th>CAT29 - Deck Area (sq.ft)</th>\n",
       "    </tr>\n",
       "  </thead>\n",
       "  <tbody>\n",
       "    <tr>\n",
       "      <th>0</th>\n",
       "      <td>'1 - Alabama'</td>\n",
       "      <td>080103000001007</td>\n",
       "      <td>'U.S. Forest Service'</td>\n",
       "      <td>'N'</td>\n",
       "      <td>'N'</td>\n",
       "      <td>'N'</td>\n",
       "      <td>'N'</td>\n",
       "      <td>'3'</td>\n",
       "      <td>NaN</td>\n",
       "      <td>NaN</td>\n",
       "      <td>...</td>\n",
       "      <td>50</td>\n",
       "      <td>'Concrete'</td>\n",
       "      <td>'Culvert'</td>\n",
       "      <td>2</td>\n",
       "      <td>21</td>\n",
       "      <td>'PERSIMMON CREEK         '</td>\n",
       "      <td>'332               '</td>\n",
       "      <td>'Good'</td>\n",
       "      <td>45</td>\n",
       "      <td>316.9</td>\n",
       "    </tr>\n",
       "    <tr>\n",
       "      <th>1</th>\n",
       "      <td>'1 - Alabama'</td>\n",
       "      <td>080106000001009</td>\n",
       "      <td>'U.S. Forest Service'</td>\n",
       "      <td>'N'</td>\n",
       "      <td>'N'</td>\n",
       "      <td>'N'</td>\n",
       "      <td>'N'</td>\n",
       "      <td>'3'</td>\n",
       "      <td>NaN</td>\n",
       "      <td>NaN</td>\n",
       "      <td>...</td>\n",
       "      <td>50</td>\n",
       "      <td>'Steel'</td>\n",
       "      <td>'Culvert'</td>\n",
       "      <td>2</td>\n",
       "      <td>24.9</td>\n",
       "      <td>'HORSE CREEK             '</td>\n",
       "      <td>'FDR 637           '</td>\n",
       "      <td>'Fair'</td>\n",
       "      <td>40</td>\n",
       "      <td>449.9</td>\n",
       "    </tr>\n",
       "    <tr>\n",
       "      <th>2</th>\n",
       "      <td>'1 - Alabama'</td>\n",
       "      <td>020222</td>\n",
       "      <td>'State Highway Agency'</td>\n",
       "      <td>'N'</td>\n",
       "      <td>'N'</td>\n",
       "      <td>'N'</td>\n",
       "      <td>'N'</td>\n",
       "      <td>'3'</td>\n",
       "      <td>14</td>\n",
       "      <td>6</td>\n",
       "      <td>...</td>\n",
       "      <td>1120</td>\n",
       "      <td>'Concrete'</td>\n",
       "      <td>'Culvert'</td>\n",
       "      <td>3</td>\n",
       "      <td>24.9</td>\n",
       "      <td>'STREAM                  '</td>\n",
       "      <td>'SR-54 MP 14.942   '</td>\n",
       "      <td>'Good'</td>\n",
       "      <td>7</td>\n",
       "      <td>899.9</td>\n",
       "    </tr>\n",
       "    <tr>\n",
       "      <th>3</th>\n",
       "      <td>'1 - Alabama'</td>\n",
       "      <td>021152</td>\n",
       "      <td>'State Highway Agency'</td>\n",
       "      <td>'1'</td>\n",
       "      <td>'0'</td>\n",
       "      <td>'0'</td>\n",
       "      <td>'0'</td>\n",
       "      <td>'3'</td>\n",
       "      <td>20</td>\n",
       "      <td>NaN</td>\n",
       "      <td>...</td>\n",
       "      <td>2017</td>\n",
       "      <td>'Prestressed Concrete'</td>\n",
       "      <td>'Stringer/Multi-beam or Girder'</td>\n",
       "      <td>1</td>\n",
       "      <td>75.1</td>\n",
       "      <td>'_15TH STREET NORTH      '</td>\n",
       "      <td>'_11TH AVE. RAMP   '</td>\n",
       "      <td>'Good'</td>\n",
       "      <td>4</td>\n",
       "      <td>2070.5</td>\n",
       "    </tr>\n",
       "    <tr>\n",
       "      <th>4</th>\n",
       "      <td>'1 - Alabama'</td>\n",
       "      <td>021480</td>\n",
       "      <td>'State Highway Agency'</td>\n",
       "      <td>'1'</td>\n",
       "      <td>'0'</td>\n",
       "      <td>'0'</td>\n",
       "      <td>'0'</td>\n",
       "      <td>'3'</td>\n",
       "      <td>35</td>\n",
       "      <td>14</td>\n",
       "      <td>...</td>\n",
       "      <td>4940</td>\n",
       "      <td>'Steel Continuous'</td>\n",
       "      <td>'Stringer/Multi-beam or Girder'</td>\n",
       "      <td>3</td>\n",
       "      <td>955.1</td>\n",
       "      <td>'CHATTAHOOCHEE RIVER     '</td>\n",
       "      <td>'US84/ SR 38       '</td>\n",
       "      <td>'Good'</td>\n",
       "      <td>15</td>\n",
       "      <td>39167.1</td>\n",
       "    </tr>\n",
       "  </tbody>\n",
       "</table>\n",
       "<p>5 rows × 35 columns</p>\n",
       "</div>"
      ],
      "text/plain": [
       "  1 - State Name 8 - Structure Number       22 - Owner Agency  \\\n",
       "0  '1 - Alabama'      080103000001007   'U.S. Forest Service'   \n",
       "1  '1 - Alabama'      080106000001009   'U.S. Forest Service'   \n",
       "2  '1 - Alabama'      020222           'State Highway Agency'   \n",
       "3  '1 - Alabama'      021152           'State Highway Agency'   \n",
       "4  '1 - Alabama'      021480           'State Highway Agency'   \n",
       "\n",
       "  107 - Deck Structure Type Code 108A - Wearing Surface Type Code  \\\n",
       "0                            'N'                              'N'   \n",
       "1                            'N'                              'N'   \n",
       "2                            'N'                              'N'   \n",
       "3                            '1'                              '0'   \n",
       "4                            '1'                              '0'   \n",
       "\n",
       "  108B - Membrane Type Code 108C - Deck Protection Code 20 - Toll Status  \\\n",
       "0                       'N'                         'N'              '3'   \n",
       "1                       'N'                         'N'              '3'   \n",
       "2                       'N'                         'N'              '3'   \n",
       "3                       '0'                         '0'              '3'   \n",
       "4                       '0'                         '0'              '3'   \n",
       "\n",
       "  109 - Average Daily Truck Traffic (Percent ADT)  \\\n",
       "0                                             NaN   \n",
       "1                                             NaN   \n",
       "2                                              14   \n",
       "3                                              20   \n",
       "4                                              35   \n",
       "\n",
       "  Number of Freeze-Thaw Cycles  ...  29 - Average Daily Traffic  \\\n",
       "0                          NaN  ...                          50   \n",
       "1                          NaN  ...                          50   \n",
       "2                            6  ...                        1120   \n",
       "3                          NaN  ...                        2017   \n",
       "4                           14  ...                        4940   \n",
       "\n",
       "  43A - Main Design Mat Type Value 43B - Main Construction Design Value  \\\n",
       "0                       'Concrete'                            'Culvert'   \n",
       "1                          'Steel'                            'Culvert'   \n",
       "2                       'Concrete'                            'Culvert'   \n",
       "3           'Prestressed Concrete'      'Stringer/Multi-beam or Girder'   \n",
       "4               'Steel Continuous'      'Stringer/Multi-beam or Girder'   \n",
       "\n",
       "  45 - Number of Spans in Main Unit  49 - Structure Length (ft)  \\\n",
       "0                                 2                          21   \n",
       "1                                 2                        24.9   \n",
       "2                                 3                        24.9   \n",
       "3                                 1                        75.1   \n",
       "4                                 3                       955.1   \n",
       "\n",
       "    6A - Features Intersected 7 - Facility Carried By Structure  \\\n",
       "0  'PERSIMMON CREEK         '              '332               '   \n",
       "1  'HORSE CREEK             '              'FDR 637           '   \n",
       "2  'STREAM                  '              'SR-54 MP 14.942   '   \n",
       "3  '_15TH STREET NORTH      '              '_11TH AVE. RAMP   '   \n",
       "4  'CHATTAHOOCHEE RIVER     '              'US84/ SR 38       '   \n",
       "\n",
       "   CAT10 - Bridge Condition_y Bridge Age (yr)_y CAT29 - Deck Area (sq.ft)  \n",
       "0                      'Good'                45                     316.9  \n",
       "1                      'Fair'                40                     449.9  \n",
       "2                      'Good'                 7                     899.9  \n",
       "3                      'Good'                 4                    2070.5  \n",
       "4                      'Good'                15                   39167.1  \n",
       "\n",
       "[5 rows x 35 columns]"
      ]
     },
     "execution_count": 20,
     "metadata": {},
     "output_type": "execute_result"
    }
   ],
   "source": [
    "#Merge the two datasets together\n",
    "df = new_df.merge(df, left_on=['1 - State Name', '8 - Structure Number', '22 - Owner Agency'], \n",
    "                  right_on=['1 - State Name', '8 - Structure Number', '22 - Owner Agency'], how='left')\n",
    "df.head()"
   ]
  },
  {
   "cell_type": "code",
   "execution_count": 21,
   "metadata": {
    "ExecuteTime": {
     "end_time": "2021-08-29T01:35:27.268113Z",
     "start_time": "2021-08-29T01:35:26.191516Z"
    }
   },
   "outputs": [
    {
     "data": {
      "text/html": [
       "<div>\n",
       "<style scoped>\n",
       "    .dataframe tbody tr th:only-of-type {\n",
       "        vertical-align: middle;\n",
       "    }\n",
       "\n",
       "    .dataframe tbody tr th {\n",
       "        vertical-align: top;\n",
       "    }\n",
       "\n",
       "    .dataframe thead th {\n",
       "        text-align: right;\n",
       "    }\n",
       "</style>\n",
       "<table border=\"1\" class=\"dataframe\">\n",
       "  <thead>\n",
       "    <tr style=\"text-align: right;\">\n",
       "      <th></th>\n",
       "      <th>1 - State Name</th>\n",
       "      <th>8 - Structure Number</th>\n",
       "      <th>22 - Owner Agency</th>\n",
       "      <th>107 - Deck Structure Type Code</th>\n",
       "      <th>108A - Wearing Surface Type Code</th>\n",
       "      <th>108B - Membrane Type Code</th>\n",
       "      <th>108C - Deck Protection Code</th>\n",
       "      <th>20 - Toll Status</th>\n",
       "      <th>109 - Average Daily Truck Traffic (Percent ADT)</th>\n",
       "      <th>Number of Freeze-Thaw Cycles</th>\n",
       "      <th>...</th>\n",
       "      <th>17 - Longitude (decimal)</th>\n",
       "      <th>21 - Maintenance Responsibility</th>\n",
       "      <th>106 - Year Reconstructed</th>\n",
       "      <th>34 - Skew Angle (degrees)</th>\n",
       "      <th>48 - Length of Maximum Span (ft)</th>\n",
       "      <th>51 - Bridge Roadway Width Curb to Curb (ft)</th>\n",
       "      <th>52 - Deck Width - Out to Out (ft)</th>\n",
       "      <th>59 - Superstructure Condition</th>\n",
       "      <th>60 - Substructure Condition</th>\n",
       "      <th>58 - Deck Condition</th>\n",
       "    </tr>\n",
       "  </thead>\n",
       "  <tbody>\n",
       "    <tr>\n",
       "      <th>0</th>\n",
       "      <td>'1 - Alabama'</td>\n",
       "      <td>080103000001007</td>\n",
       "      <td>'U.S. Forest Service'</td>\n",
       "      <td>'N'</td>\n",
       "      <td>'N'</td>\n",
       "      <td>'N'</td>\n",
       "      <td>'N'</td>\n",
       "      <td>'3'</td>\n",
       "      <td>NaN</td>\n",
       "      <td>NaN</td>\n",
       "      <td>...</td>\n",
       "      <td>0</td>\n",
       "      <td>'64'</td>\n",
       "      <td>0</td>\n",
       "      <td>20</td>\n",
       "      <td>0</td>\n",
       "      <td>0.0</td>\n",
       "      <td>0.0</td>\n",
       "      <td>'N'</td>\n",
       "      <td>'N'</td>\n",
       "      <td>'N'</td>\n",
       "    </tr>\n",
       "    <tr>\n",
       "      <th>1</th>\n",
       "      <td>'1 - Alabama'</td>\n",
       "      <td>080106000001009</td>\n",
       "      <td>'U.S. Forest Service'</td>\n",
       "      <td>'N'</td>\n",
       "      <td>'N'</td>\n",
       "      <td>'N'</td>\n",
       "      <td>'N'</td>\n",
       "      <td>'3'</td>\n",
       "      <td>NaN</td>\n",
       "      <td>NaN</td>\n",
       "      <td>...</td>\n",
       "      <td>0</td>\n",
       "      <td>'64'</td>\n",
       "      <td>0</td>\n",
       "      <td>45</td>\n",
       "      <td>0</td>\n",
       "      <td>0.0</td>\n",
       "      <td>0.0</td>\n",
       "      <td>'N'</td>\n",
       "      <td>'N'</td>\n",
       "      <td>'N'</td>\n",
       "    </tr>\n",
       "    <tr>\n",
       "      <th>2</th>\n",
       "      <td>'1 - Alabama'</td>\n",
       "      <td>020222</td>\n",
       "      <td>'State Highway Agency'</td>\n",
       "      <td>'N'</td>\n",
       "      <td>'N'</td>\n",
       "      <td>'N'</td>\n",
       "      <td>'N'</td>\n",
       "      <td>'3'</td>\n",
       "      <td>14</td>\n",
       "      <td>6</td>\n",
       "      <td>...</td>\n",
       "      <td>-9.024917</td>\n",
       "      <td>'1'</td>\n",
       "      <td>0</td>\n",
       "      <td>0</td>\n",
       "      <td>7.9</td>\n",
       "      <td>0.0</td>\n",
       "      <td>0.0</td>\n",
       "      <td>'N'</td>\n",
       "      <td>'N'</td>\n",
       "      <td>'N'</td>\n",
       "    </tr>\n",
       "    <tr>\n",
       "      <th>3</th>\n",
       "      <td>'1 - Alabama'</td>\n",
       "      <td>021152</td>\n",
       "      <td>'State Highway Agency'</td>\n",
       "      <td>'1'</td>\n",
       "      <td>'0'</td>\n",
       "      <td>'0'</td>\n",
       "      <td>'0'</td>\n",
       "      <td>'3'</td>\n",
       "      <td>20</td>\n",
       "      <td>NaN</td>\n",
       "      <td>...</td>\n",
       "      <td>-33.52243</td>\n",
       "      <td>'1'</td>\n",
       "      <td>0</td>\n",
       "      <td>0</td>\n",
       "      <td>75.1</td>\n",
       "      <td>24.9</td>\n",
       "      <td>27.6</td>\n",
       "      <td>'9'</td>\n",
       "      <td>'9'</td>\n",
       "      <td>'9'</td>\n",
       "    </tr>\n",
       "    <tr>\n",
       "      <th>4</th>\n",
       "      <td>'1 - Alabama'</td>\n",
       "      <td>021480</td>\n",
       "      <td>'State Highway Agency'</td>\n",
       "      <td>'1'</td>\n",
       "      <td>'0'</td>\n",
       "      <td>'0'</td>\n",
       "      <td>'0'</td>\n",
       "      <td>'3'</td>\n",
       "      <td>35</td>\n",
       "      <td>14</td>\n",
       "      <td>...</td>\n",
       "      <td>-85.05527</td>\n",
       "      <td>'1'</td>\n",
       "      <td>0</td>\n",
       "      <td>23</td>\n",
       "      <td>274.9</td>\n",
       "      <td>38.1</td>\n",
       "      <td>41.0</td>\n",
       "      <td>'7'</td>\n",
       "      <td>'7'</td>\n",
       "      <td>'7'</td>\n",
       "    </tr>\n",
       "  </tbody>\n",
       "</table>\n",
       "<p>5 rows × 48 columns</p>\n",
       "</div>"
      ],
      "text/plain": [
       "  1 - State Name 8 - Structure Number       22 - Owner Agency  \\\n",
       "0  '1 - Alabama'      080103000001007   'U.S. Forest Service'   \n",
       "1  '1 - Alabama'      080106000001009   'U.S. Forest Service'   \n",
       "2  '1 - Alabama'      020222           'State Highway Agency'   \n",
       "3  '1 - Alabama'      021152           'State Highway Agency'   \n",
       "4  '1 - Alabama'      021480           'State Highway Agency'   \n",
       "\n",
       "  107 - Deck Structure Type Code 108A - Wearing Surface Type Code  \\\n",
       "0                            'N'                              'N'   \n",
       "1                            'N'                              'N'   \n",
       "2                            'N'                              'N'   \n",
       "3                            '1'                              '0'   \n",
       "4                            '1'                              '0'   \n",
       "\n",
       "  108B - Membrane Type Code 108C - Deck Protection Code 20 - Toll Status  \\\n",
       "0                       'N'                         'N'              '3'   \n",
       "1                       'N'                         'N'              '3'   \n",
       "2                       'N'                         'N'              '3'   \n",
       "3                       '0'                         '0'              '3'   \n",
       "4                       '0'                         '0'              '3'   \n",
       "\n",
       "  109 - Average Daily Truck Traffic (Percent ADT)  \\\n",
       "0                                             NaN   \n",
       "1                                             NaN   \n",
       "2                                              14   \n",
       "3                                              20   \n",
       "4                                              35   \n",
       "\n",
       "  Number of Freeze-Thaw Cycles  ...  17 - Longitude (decimal)  \\\n",
       "0                          NaN  ...                         0   \n",
       "1                          NaN  ...                         0   \n",
       "2                            6  ...                 -9.024917   \n",
       "3                          NaN  ...                 -33.52243   \n",
       "4                           14  ...                 -85.05527   \n",
       "\n",
       "  21 - Maintenance Responsibility 106 - Year Reconstructed  \\\n",
       "0                            '64'                        0   \n",
       "1                            '64'                        0   \n",
       "2                             '1'                        0   \n",
       "3                             '1'                        0   \n",
       "4                             '1'                        0   \n",
       "\n",
       "  34 - Skew Angle (degrees)  48 - Length of Maximum Span (ft)  \\\n",
       "0                        20                                 0   \n",
       "1                        45                                 0   \n",
       "2                         0                               7.9   \n",
       "3                         0                              75.1   \n",
       "4                        23                             274.9   \n",
       "\n",
       "  51 - Bridge Roadway Width Curb to Curb (ft)  \\\n",
       "0                                         0.0   \n",
       "1                                         0.0   \n",
       "2                                         0.0   \n",
       "3                                        24.9   \n",
       "4                                        38.1   \n",
       "\n",
       "  52 - Deck Width - Out to Out (ft)  59 - Superstructure Condition  \\\n",
       "0                               0.0                            'N'   \n",
       "1                               0.0                            'N'   \n",
       "2                               0.0                            'N'   \n",
       "3                              27.6                            '9'   \n",
       "4                              41.0                            '7'   \n",
       "\n",
       "  60 - Substructure Condition 58 - Deck Condition  \n",
       "0                         'N'                 'N'  \n",
       "1                         'N'                 'N'  \n",
       "2                         'N'                 'N'  \n",
       "3                         '9'                 '9'  \n",
       "4                         '7'                 '7'  \n",
       "\n",
       "[5 rows x 48 columns]"
      ]
     },
     "execution_count": 21,
     "metadata": {},
     "output_type": "execute_result"
    }
   ],
   "source": [
    "#Merge the two datasets together\n",
    "merged_df = df.merge(df1, left_on=['1 - State Name', '8 - Structure Number', '22 - Owner Agency'], right_on=['1 - State Name', '8 - Structure Number', '22 - Owner Agency',], how='left')\n",
    "merged_df.head()"
   ]
  },
  {
   "cell_type": "code",
   "execution_count": 22,
   "metadata": {
    "ExecuteTime": {
     "end_time": "2021-08-29T01:35:27.283858Z",
     "start_time": "2021-08-29T01:35:27.270052Z"
    }
   },
   "outputs": [
    {
     "data": {
      "text/plain": [
       "(618456, 48)"
      ]
     },
     "execution_count": 22,
     "metadata": {},
     "output_type": "execute_result"
    }
   ],
   "source": [
    "merged_df.shape"
   ]
  },
  {
   "cell_type": "code",
   "execution_count": 23,
   "metadata": {
    "ExecuteTime": {
     "end_time": "2021-08-29T01:35:28.432239Z",
     "start_time": "2021-08-29T01:35:27.290439Z"
    }
   },
   "outputs": [
    {
     "name": "stdout",
     "output_type": "stream",
     "text": [
      "<class 'pandas.core.frame.DataFrame'>\n",
      "Int64Index: 618456 entries, 0 to 618455\n",
      "Data columns (total 48 columns):\n",
      " #   Column                                              Non-Null Count   Dtype  \n",
      "---  ------                                              --------------   -----  \n",
      " 0   1 - State Name                                      618456 non-null  object \n",
      " 1   8 - Structure Number                                618456 non-null  object \n",
      " 2   22 - Owner Agency                                   618456 non-null  object \n",
      " 3   107 - Deck Structure Type Code                      618456 non-null  object \n",
      " 4   108A - Wearing Surface Type Code                    618456 non-null  object \n",
      " 5   108B - Membrane Type Code                           618456 non-null  object \n",
      " 6   108C - Deck Protection Code                         618456 non-null  object \n",
      " 7   20 - Toll Status                                    618456 non-null  object \n",
      " 8   109 - Average Daily Truck Traffic (Percent ADT)     585946 non-null  object \n",
      " 9   Number of Freeze-Thaw Cycles                        618092 non-null  object \n",
      " 10  Number of Snowfall Days                             617850 non-null  float64\n",
      " 11  CAT10 - Bridge Condition_x                          618456 non-null  object \n",
      " 12  Bridge Age (yr)_x                                   618456 non-null  object \n",
      " 13  26 - Functional Class Of Inventory Route            618456 non-null  object \n",
      " 14  28A - Lanes On the Structure                        618456 non-null  int64  \n",
      " 15  28B - Lanes Under the Structure                     618456 non-null  object \n",
      " 16  5C - Designated Level of Service Code               618456 non-null  object \n",
      " 17  30 - Year of Average Daily Traffic                  618438 non-null  float64\n",
      " 18  104 - Inventory Route NHS Code                      618456 non-null  object \n",
      " 19  110 - Designated National Truck Network Code        618456 non-null  object \n",
      " 20  54B - Minimum Vertical Underclearance (ft)          618456 non-null  object \n",
      " 21  55B - Minimum Lateral Underclearance on Right (ft)  618456 non-null  object \n",
      " 22  56 - Minimum Lateral Underclearance on Left (ft)    618456 non-null  float64\n",
      " 23  3 - County Name_x                                   618456 non-null  object \n",
      " 24  27 - Year Built                                     618456 non-null  object \n",
      " 25  29 - Average Daily Traffic                          618440 non-null  object \n",
      " 26  43A - Main Design Mat Type Value                    618456 non-null  object \n",
      " 27  43B - Main Construction Design Value                618456 non-null  object \n",
      " 28  45 - Number of Spans in Main Unit                   618456 non-null  object \n",
      " 29  49 - Structure Length (ft)                          618456 non-null  object \n",
      " 30  6A - Features Intersected                           618456 non-null  object \n",
      " 31  7 - Facility Carried By Structure                   618453 non-null  object \n",
      " 32  CAT10 - Bridge Condition_y                          618452 non-null  object \n",
      " 33  Bridge Age (yr)_y                                   618456 non-null  object \n",
      " 34  CAT29 - Deck Area (sq.ft)                           618456 non-null  object \n",
      " 35  3 - County Name_y                                   618456 non-null  object \n",
      " 36  9 - Location                                        618456 non-null  object \n",
      " 37  16 - Latitude (decimal)                             618456 non-null  object \n",
      " 38  17 - Longitude (decimal)                            618456 non-null  object \n",
      " 39  21 - Maintenance Responsibility                     618456 non-null  object \n",
      " 40  106 - Year Reconstructed                            557904 non-null  object \n",
      " 41  34 - Skew Angle (degrees)                           617096 non-null  object \n",
      " 42  48 - Length of Maximum Span (ft)                    618064 non-null  object \n",
      " 43  51 - Bridge Roadway Width Curb to Curb (ft)         618449 non-null  float64\n",
      " 44  52 - Deck Width - Out to Out (ft)                   618456 non-null  float64\n",
      " 45  59 - Superstructure Condition                       618456 non-null  object \n",
      " 46  60 - Substructure Condition                         618456 non-null  object \n",
      " 47  58 - Deck Condition                                 618456 non-null  object \n",
      "dtypes: float64(5), int64(1), object(42)\n",
      "memory usage: 231.2+ MB\n"
     ]
    }
   ],
   "source": [
    "merged_df.info()"
   ]
  },
  {
   "cell_type": "code",
   "execution_count": null,
   "metadata": {},
   "outputs": [],
   "source": []
  },
  {
   "cell_type": "markdown",
   "metadata": {},
   "source": [
    "## Exploratory Data Analysis"
   ]
  },
  {
   "cell_type": "markdown",
   "metadata": {},
   "source": [
    "### Dropping irrelevant feature/columns"
   ]
  },
  {
   "cell_type": "code",
   "execution_count": 24,
   "metadata": {
    "ExecuteTime": {
     "end_time": "2021-08-29T01:35:28.447770Z",
     "start_time": "2021-08-29T01:35:28.435197Z"
    }
   },
   "outputs": [
    {
     "data": {
      "text/plain": [
       "Index(['1 - State Name', '8 - Structure Number', '22 - Owner Agency',\n",
       "       '107 - Deck Structure Type Code', '108A - Wearing Surface Type Code',\n",
       "       '108B - Membrane Type Code', '108C - Deck Protection Code',\n",
       "       '20 - Toll Status', '109 - Average Daily Truck Traffic (Percent ADT)',\n",
       "       'Number of Freeze-Thaw Cycles', 'Number of Snowfall Days',\n",
       "       'CAT10 - Bridge Condition_x', 'Bridge Age (yr)_x',\n",
       "       '26 - Functional Class Of Inventory Route',\n",
       "       '28A - Lanes On the Structure', '28B - Lanes Under the Structure',\n",
       "       '5C - Designated Level of Service Code',\n",
       "       '30 - Year of Average Daily Traffic', '104 - Inventory Route NHS Code',\n",
       "       '110 - Designated National Truck Network Code',\n",
       "       '54B - Minimum Vertical Underclearance (ft)',\n",
       "       '55B - Minimum Lateral Underclearance on Right (ft)',\n",
       "       '56 - Minimum Lateral Underclearance on Left (ft)', '3 - County Name_x',\n",
       "       '27 - Year Built', '29 - Average Daily Traffic',\n",
       "       '43A - Main Design Mat Type Value',\n",
       "       '43B - Main Construction Design Value',\n",
       "       '45 - Number of Spans in Main Unit', '49 - Structure Length (ft)',\n",
       "       '6A - Features Intersected', '7 - Facility Carried By Structure',\n",
       "       'CAT10 - Bridge Condition_y', 'Bridge Age (yr)_y',\n",
       "       'CAT29 - Deck Area (sq.ft)', '3 - County Name_y', '9 - Location',\n",
       "       '16 - Latitude (decimal)', '17 - Longitude (decimal)',\n",
       "       '21 - Maintenance Responsibility', '106 - Year Reconstructed',\n",
       "       '34 - Skew Angle (degrees)', '48 - Length of Maximum Span (ft)',\n",
       "       '51 - Bridge Roadway Width Curb to Curb (ft)',\n",
       "       '52 - Deck Width - Out to Out (ft)', '59 - Superstructure Condition',\n",
       "       '60 - Substructure Condition', '58 - Deck Condition'],\n",
       "      dtype='object')"
      ]
     },
     "execution_count": 24,
     "metadata": {},
     "output_type": "execute_result"
    }
   ],
   "source": [
    "merged_df.columns"
   ]
  },
  {
   "cell_type": "code",
   "execution_count": 25,
   "metadata": {
    "ExecuteTime": {
     "end_time": "2021-08-29T01:35:28.718354Z",
     "start_time": "2021-08-29T01:35:28.451283Z"
    }
   },
   "outputs": [],
   "source": [
    "#drop columns irrelevant for analysis\n",
    "merged_df.drop(columns=['22 - Owner Agency',\n",
    "                       'CAT10 - Bridge Condition_x', 'Bridge Age (yr)_x',\n",
    "                        '27 - Year Built','3 - County Name_y', '9 - Location',\n",
    "                        'CAT29 - Deck Area (sq.ft)', \n",
    "                        '7 - Facility Carried By Structure',\n",
    "                        '21 - Maintenance Responsibility',\n",
    "#                         '43B - Main Construction Design Value',\n",
    "                        '6A - Features Intersected'\n",
    "                       ], axis=1, inplace=True)"
   ]
  },
  {
   "cell_type": "code",
   "execution_count": 26,
   "metadata": {
    "ExecuteTime": {
     "end_time": "2021-08-29T01:35:28.734279Z",
     "start_time": "2021-08-29T01:35:28.719279Z"
    }
   },
   "outputs": [
    {
     "data": {
      "text/plain": [
       "(618456, 38)"
      ]
     },
     "execution_count": 26,
     "metadata": {},
     "output_type": "execute_result"
    }
   ],
   "source": [
    "merged_df.shape"
   ]
  },
  {
   "cell_type": "code",
   "execution_count": 27,
   "metadata": {
    "ExecuteTime": {
     "end_time": "2021-08-29T01:35:28.750280Z",
     "start_time": "2021-08-29T01:35:28.736281Z"
    }
   },
   "outputs": [
    {
     "data": {
      "text/plain": [
       "Index(['1 - State Name', '8 - Structure Number',\n",
       "       '107 - Deck Structure Type Code', '108A - Wearing Surface Type Code',\n",
       "       '108B - Membrane Type Code', '108C - Deck Protection Code',\n",
       "       '20 - Toll Status', '109 - Average Daily Truck Traffic (Percent ADT)',\n",
       "       'Number of Freeze-Thaw Cycles', 'Number of Snowfall Days',\n",
       "       '26 - Functional Class Of Inventory Route',\n",
       "       '28A - Lanes On the Structure', '28B - Lanes Under the Structure',\n",
       "       '5C - Designated Level of Service Code',\n",
       "       '30 - Year of Average Daily Traffic', '104 - Inventory Route NHS Code',\n",
       "       '110 - Designated National Truck Network Code',\n",
       "       '54B - Minimum Vertical Underclearance (ft)',\n",
       "       '55B - Minimum Lateral Underclearance on Right (ft)',\n",
       "       '56 - Minimum Lateral Underclearance on Left (ft)', '3 - County Name_x',\n",
       "       '29 - Average Daily Traffic', '43A - Main Design Mat Type Value',\n",
       "       '43B - Main Construction Design Value',\n",
       "       '45 - Number of Spans in Main Unit', '49 - Structure Length (ft)',\n",
       "       'CAT10 - Bridge Condition_y', 'Bridge Age (yr)_y',\n",
       "       '16 - Latitude (decimal)', '17 - Longitude (decimal)',\n",
       "       '106 - Year Reconstructed', '34 - Skew Angle (degrees)',\n",
       "       '48 - Length of Maximum Span (ft)',\n",
       "       '51 - Bridge Roadway Width Curb to Curb (ft)',\n",
       "       '52 - Deck Width - Out to Out (ft)', '59 - Superstructure Condition',\n",
       "       '60 - Substructure Condition', '58 - Deck Condition'],\n",
       "      dtype='object')"
      ]
     },
     "execution_count": 27,
     "metadata": {},
     "output_type": "execute_result"
    }
   ],
   "source": [
    "merged_df.columns"
   ]
  },
  {
   "cell_type": "code",
   "execution_count": 28,
   "metadata": {
    "ExecuteTime": {
     "end_time": "2021-08-29T01:35:28.766280Z",
     "start_time": "2021-08-29T01:35:28.754328Z"
    }
   },
   "outputs": [],
   "source": [
    "# Rename the columns\n",
    "merged_df.rename(columns={'1 - State Name':'state','8 - Structure Number':'str_id',\n",
    "                          '26 - Functional Class Of Inventory Route':'inventory_class_route',\n",
    "                          '28A - Lanes On the Structure':'lanes_on_str', \n",
    "                          '28B - Lanes Under the Structure':'lanes_under_str',\n",
    "                          '5C - Designated Level of Service Code': 'level_service_code',\n",
    "                          '30 - Year of Average Daily Traffic':'yr_avg_traffic',\n",
    "                          '104 - Inventory Route NHS Code':'inventory_route_code',\n",
    "                          '110 - Designated National Truck Network Code':'truck_network_code',\n",
    "                          '54B - Minimum Vertical Underclearance (ft)':'min_vertical_underclearance',\n",
    "                          '55B - Minimum Lateral Underclearance on Right (ft)':'min_lateral_underclearanceR',\n",
    "                          '56 - Minimum Lateral Underclearance on Left (ft)':'min_lateral_underclearanceL',\n",
    "                          '43B - Main Construction Design Value':'construction_design_value',\n",
    "                          '16 - Latitude (decimal)':'latitude',\n",
    "                          '17 - Longitude (decimal)':'longitude', \n",
    "                          '21 - Maintenance Responsibility': 'mnt_respons',\n",
    "                          '106 - Year Reconstructed':'yr_reconst', \n",
    "                          '34 - Skew Angle (degrees)':'skew',\n",
    "                          '48 - Length of Maximum Span (ft)':'max_span',\n",
    "                          '51 - Bridge Roadway Width Curb to Curb (ft)':'bridge_width', \n",
    "                          '45 - Number of Spans in Main Unit':'num_spans',\n",
    "                          '49 - Structure Length (ft)':'structure_length',\n",
    "                          '107 - Deck Structure Type Code':'deck_type', \n",
    "                          '108A - Wearing Surface Type Code':'wearing_type',\n",
    "                          '108B - Membrane Type Code':'membrane_type',\n",
    "                          '108C - Deck Protection Code': 'deck_protection',\n",
    "                          '20 - Toll Status':'toll',\n",
    "                          'CAT10 - Bridge Condition_y': 'bridge_condition',\n",
    "                          '109 - Average Daily Truck Traffic (Percent ADT)':'avg_truck_traffic',\n",
    "                          '29 - Average Daily Traffic':'avg_daily_trfc',\n",
    "                          'Bridge Age (yr)_y':'bridge_age',\n",
    "                          '3 - County Name_x':'county',\n",
    "                          '43A - Main Design Mat Type Value':'design_material',  \n",
    "                          'Number of Freeze-Thaw Cycles':'freeze_thaw_cycle',\n",
    "                          'Number of Snowfall Days':'snowfall_days',\n",
    "                          '52 - Deck Width - Out to Out (ft)':'deck_width',\n",
    "                          '59 - Superstructure Condition':'super_st_condition',\n",
    "                          '60 - Substructure Condition':'sub_st_condition',\n",
    "                          '58 - Deck Condition':'deck_condition'}, inplace=True)\n"
   ]
  },
  {
   "cell_type": "code",
   "execution_count": 29,
   "metadata": {
    "ExecuteTime": {
     "end_time": "2021-08-29T01:35:28.798282Z",
     "start_time": "2021-08-29T01:35:28.768282Z"
    }
   },
   "outputs": [
    {
     "data": {
      "text/html": [
       "<div>\n",
       "<style scoped>\n",
       "    .dataframe tbody tr th:only-of-type {\n",
       "        vertical-align: middle;\n",
       "    }\n",
       "\n",
       "    .dataframe tbody tr th {\n",
       "        vertical-align: top;\n",
       "    }\n",
       "\n",
       "    .dataframe thead th {\n",
       "        text-align: right;\n",
       "    }\n",
       "</style>\n",
       "<table border=\"1\" class=\"dataframe\">\n",
       "  <thead>\n",
       "    <tr style=\"text-align: right;\">\n",
       "      <th></th>\n",
       "      <th>state</th>\n",
       "      <th>str_id</th>\n",
       "      <th>deck_type</th>\n",
       "      <th>wearing_type</th>\n",
       "      <th>membrane_type</th>\n",
       "      <th>deck_protection</th>\n",
       "      <th>toll</th>\n",
       "      <th>avg_truck_traffic</th>\n",
       "      <th>freeze_thaw_cycle</th>\n",
       "      <th>snowfall_days</th>\n",
       "      <th>...</th>\n",
       "      <th>latitude</th>\n",
       "      <th>longitude</th>\n",
       "      <th>yr_reconst</th>\n",
       "      <th>skew</th>\n",
       "      <th>max_span</th>\n",
       "      <th>bridge_width</th>\n",
       "      <th>deck_width</th>\n",
       "      <th>super_st_condition</th>\n",
       "      <th>sub_st_condition</th>\n",
       "      <th>deck_condition</th>\n",
       "    </tr>\n",
       "  </thead>\n",
       "  <tbody>\n",
       "    <tr>\n",
       "      <th>0</th>\n",
       "      <td>'1 - Alabama'</td>\n",
       "      <td>080103000001007</td>\n",
       "      <td>'N'</td>\n",
       "      <td>'N'</td>\n",
       "      <td>'N'</td>\n",
       "      <td>'N'</td>\n",
       "      <td>'3'</td>\n",
       "      <td>NaN</td>\n",
       "      <td>NaN</td>\n",
       "      <td>NaN</td>\n",
       "      <td>...</td>\n",
       "      <td>0</td>\n",
       "      <td>0</td>\n",
       "      <td>0</td>\n",
       "      <td>20</td>\n",
       "      <td>0</td>\n",
       "      <td>0.0</td>\n",
       "      <td>0.0</td>\n",
       "      <td>'N'</td>\n",
       "      <td>'N'</td>\n",
       "      <td>'N'</td>\n",
       "    </tr>\n",
       "    <tr>\n",
       "      <th>1</th>\n",
       "      <td>'1 - Alabama'</td>\n",
       "      <td>080106000001009</td>\n",
       "      <td>'N'</td>\n",
       "      <td>'N'</td>\n",
       "      <td>'N'</td>\n",
       "      <td>'N'</td>\n",
       "      <td>'3'</td>\n",
       "      <td>NaN</td>\n",
       "      <td>NaN</td>\n",
       "      <td>NaN</td>\n",
       "      <td>...</td>\n",
       "      <td>0</td>\n",
       "      <td>0</td>\n",
       "      <td>0</td>\n",
       "      <td>45</td>\n",
       "      <td>0</td>\n",
       "      <td>0.0</td>\n",
       "      <td>0.0</td>\n",
       "      <td>'N'</td>\n",
       "      <td>'N'</td>\n",
       "      <td>'N'</td>\n",
       "    </tr>\n",
       "    <tr>\n",
       "      <th>2</th>\n",
       "      <td>'1 - Alabama'</td>\n",
       "      <td>020222</td>\n",
       "      <td>'N'</td>\n",
       "      <td>'N'</td>\n",
       "      <td>'N'</td>\n",
       "      <td>'N'</td>\n",
       "      <td>'3'</td>\n",
       "      <td>14</td>\n",
       "      <td>6</td>\n",
       "      <td>8.0</td>\n",
       "      <td>...</td>\n",
       "      <td>31.10981</td>\n",
       "      <td>-9.024917</td>\n",
       "      <td>0</td>\n",
       "      <td>0</td>\n",
       "      <td>7.9</td>\n",
       "      <td>0.0</td>\n",
       "      <td>0.0</td>\n",
       "      <td>'N'</td>\n",
       "      <td>'N'</td>\n",
       "      <td>'N'</td>\n",
       "    </tr>\n",
       "    <tr>\n",
       "      <th>3</th>\n",
       "      <td>'1 - Alabama'</td>\n",
       "      <td>021152</td>\n",
       "      <td>'1'</td>\n",
       "      <td>'0'</td>\n",
       "      <td>'0'</td>\n",
       "      <td>'0'</td>\n",
       "      <td>'3'</td>\n",
       "      <td>20</td>\n",
       "      <td>NaN</td>\n",
       "      <td>NaN</td>\n",
       "      <td>...</td>\n",
       "      <td>33.52243</td>\n",
       "      <td>-33.52243</td>\n",
       "      <td>0</td>\n",
       "      <td>0</td>\n",
       "      <td>75.1</td>\n",
       "      <td>24.9</td>\n",
       "      <td>27.6</td>\n",
       "      <td>'9'</td>\n",
       "      <td>'9'</td>\n",
       "      <td>'9'</td>\n",
       "    </tr>\n",
       "    <tr>\n",
       "      <th>4</th>\n",
       "      <td>'1 - Alabama'</td>\n",
       "      <td>021480</td>\n",
       "      <td>'1'</td>\n",
       "      <td>'0'</td>\n",
       "      <td>'0'</td>\n",
       "      <td>'0'</td>\n",
       "      <td>'3'</td>\n",
       "      <td>35</td>\n",
       "      <td>14</td>\n",
       "      <td>0.0</td>\n",
       "      <td>...</td>\n",
       "      <td>31.12305</td>\n",
       "      <td>-85.05527</td>\n",
       "      <td>0</td>\n",
       "      <td>23</td>\n",
       "      <td>274.9</td>\n",
       "      <td>38.1</td>\n",
       "      <td>41.0</td>\n",
       "      <td>'7'</td>\n",
       "      <td>'7'</td>\n",
       "      <td>'7'</td>\n",
       "    </tr>\n",
       "  </tbody>\n",
       "</table>\n",
       "<p>5 rows × 38 columns</p>\n",
       "</div>"
      ],
      "text/plain": [
       "           state           str_id deck_type wearing_type membrane_type  \\\n",
       "0  '1 - Alabama'  080103000001007       'N'          'N'           'N'   \n",
       "1  '1 - Alabama'  080106000001009       'N'          'N'           'N'   \n",
       "2  '1 - Alabama'  020222                'N'          'N'           'N'   \n",
       "3  '1 - Alabama'  021152                '1'          '0'           '0'   \n",
       "4  '1 - Alabama'  021480                '1'          '0'           '0'   \n",
       "\n",
       "  deck_protection toll avg_truck_traffic freeze_thaw_cycle  snowfall_days  \\\n",
       "0             'N'  '3'               NaN               NaN            NaN   \n",
       "1             'N'  '3'               NaN               NaN            NaN   \n",
       "2             'N'  '3'                14                 6            8.0   \n",
       "3             '0'  '3'                20               NaN            NaN   \n",
       "4             '0'  '3'                35                14            0.0   \n",
       "\n",
       "   ...  latitude  longitude yr_reconst skew  max_span bridge_width deck_width  \\\n",
       "0  ...         0          0          0   20         0          0.0        0.0   \n",
       "1  ...         0          0          0   45         0          0.0        0.0   \n",
       "2  ...  31.10981  -9.024917          0    0       7.9          0.0        0.0   \n",
       "3  ...  33.52243  -33.52243          0    0      75.1         24.9       27.6   \n",
       "4  ...  31.12305  -85.05527          0   23     274.9         38.1       41.0   \n",
       "\n",
       "  super_st_condition sub_st_condition  deck_condition  \n",
       "0                'N'              'N'             'N'  \n",
       "1                'N'              'N'             'N'  \n",
       "2                'N'              'N'             'N'  \n",
       "3                '9'              '9'             '9'  \n",
       "4                '7'              '7'             '7'  \n",
       "\n",
       "[5 rows x 38 columns]"
      ]
     },
     "execution_count": 29,
     "metadata": {},
     "output_type": "execute_result"
    }
   ],
   "source": [
    "merged_df.head()"
   ]
  },
  {
   "cell_type": "markdown",
   "metadata": {},
   "source": [
    "**Latitude and longitude**"
   ]
  },
  {
   "cell_type": "code",
   "execution_count": 30,
   "metadata": {
    "ExecuteTime": {
     "end_time": "2021-08-29T01:35:28.846282Z",
     "start_time": "2021-08-29T01:35:28.801293Z"
    }
   },
   "outputs": [
    {
     "data": {
      "text/plain": [
       "0"
      ]
     },
     "execution_count": 30,
     "metadata": {},
     "output_type": "execute_result"
    }
   ],
   "source": [
    "merged_df.latitude.isna().sum()"
   ]
  },
  {
   "cell_type": "code",
   "execution_count": null,
   "metadata": {
    "ExecuteTime": {
     "end_time": "2021-08-28T19:11:53.783694Z",
     "start_time": "2021-08-28T19:11:53.766624Z"
    }
   },
   "outputs": [],
   "source": []
  },
  {
   "cell_type": "code",
   "execution_count": 31,
   "metadata": {
    "ExecuteTime": {
     "end_time": "2021-08-29T01:35:29.388399Z",
     "start_time": "2021-08-29T01:35:28.849286Z"
    }
   },
   "outputs": [],
   "source": [
    "merged_df[['latitude']] = merged_df[['latitude']].apply(pd.to_numeric, errors='coerce')\n",
    "merged_df[['longitude']] = merged_df[['longitude']].apply(pd.to_numeric, errors='coerce')"
   ]
  },
  {
   "cell_type": "code",
   "execution_count": 32,
   "metadata": {
    "ExecuteTime": {
     "end_time": "2021-08-29T01:35:30.423818Z",
     "start_time": "2021-08-29T01:35:29.391053Z"
    }
   },
   "outputs": [
    {
     "data": {
      "text/plain": [
       "Text(0, 0.5, 'Latitude')"
      ]
     },
     "execution_count": 32,
     "metadata": {},
     "output_type": "execute_result"
    },
    {
     "data": {
      "image/png": "[encoded data removed]",
      "text/plain": [
       "<Figure size 432x288 with 1 Axes>"
      ]
     },
     "metadata": {
      "needs_background": "light"
     },
     "output_type": "display_data"
    }
   ],
   "source": [
    "sns.scatterplot(x='longitude',y='latitude', data= merged_df )\n",
    "plt.title('Location')\n",
    "plt.xlabel('Longitude')\n",
    "plt.ylabel('Latitude')"
   ]
  },
  {
   "cell_type": "code",
   "execution_count": 33,
   "metadata": {
    "ExecuteTime": {
     "end_time": "2021-08-29T01:35:30.503422Z",
     "start_time": "2021-08-29T01:35:30.425763Z"
    }
   },
   "outputs": [
    {
     "data": {
      "text/html": [
       "<div>\n",
       "<style scoped>\n",
       "    .dataframe tbody tr th:only-of-type {\n",
       "        vertical-align: middle;\n",
       "    }\n",
       "\n",
       "    .dataframe tbody tr th {\n",
       "        vertical-align: top;\n",
       "    }\n",
       "\n",
       "    .dataframe thead th {\n",
       "        text-align: right;\n",
       "    }\n",
       "</style>\n",
       "<table border=\"1\" class=\"dataframe\">\n",
       "  <thead>\n",
       "    <tr style=\"text-align: right;\">\n",
       "      <th></th>\n",
       "      <th>state</th>\n",
       "      <th>str_id</th>\n",
       "      <th>deck_type</th>\n",
       "      <th>wearing_type</th>\n",
       "      <th>membrane_type</th>\n",
       "      <th>deck_protection</th>\n",
       "      <th>toll</th>\n",
       "      <th>avg_truck_traffic</th>\n",
       "      <th>freeze_thaw_cycle</th>\n",
       "      <th>snowfall_days</th>\n",
       "      <th>...</th>\n",
       "      <th>latitude</th>\n",
       "      <th>longitude</th>\n",
       "      <th>yr_reconst</th>\n",
       "      <th>skew</th>\n",
       "      <th>max_span</th>\n",
       "      <th>bridge_width</th>\n",
       "      <th>deck_width</th>\n",
       "      <th>super_st_condition</th>\n",
       "      <th>sub_st_condition</th>\n",
       "      <th>deck_condition</th>\n",
       "    </tr>\n",
       "  </thead>\n",
       "  <tbody>\n",
       "    <tr>\n",
       "      <th>0</th>\n",
       "      <td>'1 - Alabama'</td>\n",
       "      <td>080103000001007</td>\n",
       "      <td>'N'</td>\n",
       "      <td>'N'</td>\n",
       "      <td>'N'</td>\n",
       "      <td>'N'</td>\n",
       "      <td>'3'</td>\n",
       "      <td>NaN</td>\n",
       "      <td>NaN</td>\n",
       "      <td>NaN</td>\n",
       "      <td>...</td>\n",
       "      <td>0.00000</td>\n",
       "      <td>0.000000</td>\n",
       "      <td>0</td>\n",
       "      <td>20</td>\n",
       "      <td>0</td>\n",
       "      <td>0.0</td>\n",
       "      <td>0.0</td>\n",
       "      <td>'N'</td>\n",
       "      <td>'N'</td>\n",
       "      <td>'N'</td>\n",
       "    </tr>\n",
       "    <tr>\n",
       "      <th>1</th>\n",
       "      <td>'1 - Alabama'</td>\n",
       "      <td>080106000001009</td>\n",
       "      <td>'N'</td>\n",
       "      <td>'N'</td>\n",
       "      <td>'N'</td>\n",
       "      <td>'N'</td>\n",
       "      <td>'3'</td>\n",
       "      <td>NaN</td>\n",
       "      <td>NaN</td>\n",
       "      <td>NaN</td>\n",
       "      <td>...</td>\n",
       "      <td>0.00000</td>\n",
       "      <td>0.000000</td>\n",
       "      <td>0</td>\n",
       "      <td>45</td>\n",
       "      <td>0</td>\n",
       "      <td>0.0</td>\n",
       "      <td>0.0</td>\n",
       "      <td>'N'</td>\n",
       "      <td>'N'</td>\n",
       "      <td>'N'</td>\n",
       "    </tr>\n",
       "    <tr>\n",
       "      <th>2</th>\n",
       "      <td>'1 - Alabama'</td>\n",
       "      <td>020222</td>\n",
       "      <td>'N'</td>\n",
       "      <td>'N'</td>\n",
       "      <td>'N'</td>\n",
       "      <td>'N'</td>\n",
       "      <td>'3'</td>\n",
       "      <td>14</td>\n",
       "      <td>6</td>\n",
       "      <td>8.0</td>\n",
       "      <td>...</td>\n",
       "      <td>31.10981</td>\n",
       "      <td>-9.024917</td>\n",
       "      <td>0</td>\n",
       "      <td>0</td>\n",
       "      <td>7.9</td>\n",
       "      <td>0.0</td>\n",
       "      <td>0.0</td>\n",
       "      <td>'N'</td>\n",
       "      <td>'N'</td>\n",
       "      <td>'N'</td>\n",
       "    </tr>\n",
       "    <tr>\n",
       "      <th>3</th>\n",
       "      <td>'1 - Alabama'</td>\n",
       "      <td>021152</td>\n",
       "      <td>'1'</td>\n",
       "      <td>'0'</td>\n",
       "      <td>'0'</td>\n",
       "      <td>'0'</td>\n",
       "      <td>'3'</td>\n",
       "      <td>20</td>\n",
       "      <td>NaN</td>\n",
       "      <td>NaN</td>\n",
       "      <td>...</td>\n",
       "      <td>33.52243</td>\n",
       "      <td>-33.522430</td>\n",
       "      <td>0</td>\n",
       "      <td>0</td>\n",
       "      <td>75.1</td>\n",
       "      <td>24.9</td>\n",
       "      <td>27.6</td>\n",
       "      <td>'9'</td>\n",
       "      <td>'9'</td>\n",
       "      <td>'9'</td>\n",
       "    </tr>\n",
       "    <tr>\n",
       "      <th>188</th>\n",
       "      <td>'1 - Alabama'</td>\n",
       "      <td>DAPTRARUC025465</td>\n",
       "      <td>'2'</td>\n",
       "      <td>'0'</td>\n",
       "      <td>'0'</td>\n",
       "      <td>'0'</td>\n",
       "      <td>'3'</td>\n",
       "      <td>1</td>\n",
       "      <td>16</td>\n",
       "      <td>1.0</td>\n",
       "      <td>...</td>\n",
       "      <td>31.37200</td>\n",
       "      <td>0.000000</td>\n",
       "      <td>0</td>\n",
       "      <td>0</td>\n",
       "      <td>34.1</td>\n",
       "      <td>14.4</td>\n",
       "      <td>16.4</td>\n",
       "      <td>'7'</td>\n",
       "      <td>'7'</td>\n",
       "      <td>'7'</td>\n",
       "    </tr>\n",
       "  </tbody>\n",
       "</table>\n",
       "<p>5 rows × 38 columns</p>\n",
       "</div>"
      ],
      "text/plain": [
       "             state           str_id deck_type wearing_type membrane_type  \\\n",
       "0    '1 - Alabama'  080103000001007       'N'          'N'           'N'   \n",
       "1    '1 - Alabama'  080106000001009       'N'          'N'           'N'   \n",
       "2    '1 - Alabama'  020222                'N'          'N'           'N'   \n",
       "3    '1 - Alabama'  021152                '1'          '0'           '0'   \n",
       "188  '1 - Alabama'  DAPTRARUC025465       '2'          '0'           '0'   \n",
       "\n",
       "    deck_protection toll avg_truck_traffic freeze_thaw_cycle  snowfall_days  \\\n",
       "0               'N'  '3'               NaN               NaN            NaN   \n",
       "1               'N'  '3'               NaN               NaN            NaN   \n",
       "2               'N'  '3'                14                 6            8.0   \n",
       "3               '0'  '3'                20               NaN            NaN   \n",
       "188             '0'  '3'                 1                16            1.0   \n",
       "\n",
       "     ...  latitude  longitude yr_reconst skew  max_span bridge_width  \\\n",
       "0    ...   0.00000   0.000000          0   20         0          0.0   \n",
       "1    ...   0.00000   0.000000          0   45         0          0.0   \n",
       "2    ...  31.10981  -9.024917          0    0       7.9          0.0   \n",
       "3    ...  33.52243 -33.522430          0    0      75.1         24.9   \n",
       "188  ...  31.37200   0.000000          0    0      34.1         14.4   \n",
       "\n",
       "    deck_width super_st_condition sub_st_condition  deck_condition  \n",
       "0          0.0                'N'              'N'             'N'  \n",
       "1          0.0                'N'              'N'             'N'  \n",
       "2          0.0                'N'              'N'             'N'  \n",
       "3         27.6                '9'              '9'             '9'  \n",
       "188       16.4                '7'              '7'             '7'  \n",
       "\n",
       "[5 rows x 38 columns]"
      ]
     },
     "execution_count": 33,
     "metadata": {},
     "output_type": "execute_result"
    }
   ],
   "source": [
    "#Select Latitude and longitude values to drop outside the US vicinity \n",
    "to_drop = merged_df.loc[(merged_df['longitude'] < -167) | (merged_df['longitude'] > -50) | (merged_df['latitude'] < 20)]\n",
    "to_drop.head()"
   ]
  },
  {
   "cell_type": "code",
   "execution_count": 34,
   "metadata": {
    "ExecuteTime": {
     "end_time": "2021-08-29T01:35:30.775456Z",
     "start_time": "2021-08-29T01:35:30.505405Z"
    }
   },
   "outputs": [],
   "source": [
    "merged_df.drop(to_drop.index, axis=0, inplace=True)"
   ]
  },
  {
   "cell_type": "code",
   "execution_count": 35,
   "metadata": {
    "ExecuteTime": {
     "end_time": "2021-08-29T01:35:31.795336Z",
     "start_time": "2021-08-29T01:35:30.777398Z"
    }
   },
   "outputs": [
    {
     "data": {
      "text/plain": [
       "Text(0, 0.5, 'Latitude')"
      ]
     },
     "execution_count": 35,
     "metadata": {},
     "output_type": "execute_result"
    },
    {
     "data": {
      "image/png": "[encoded data removed]",
      "text/plain": [
       "<Figure size 432x288 with 1 Axes>"
      ]
     },
     "metadata": {
      "needs_background": "light"
     },
     "output_type": "display_data"
    }
   ],
   "source": [
    "sns.scatterplot(x='longitude',y='latitude', data= merged_df )\n",
    "plt.title('Location')\n",
    "plt.xlabel('Longitude')\n",
    "plt.ylabel('Latitude')"
   ]
  },
  {
   "cell_type": "code",
   "execution_count": 36,
   "metadata": {
    "ExecuteTime": {
     "end_time": "2021-08-29T01:35:31.810549Z",
     "start_time": "2021-08-29T01:35:31.797291Z"
    }
   },
   "outputs": [],
   "source": [
    "to_drop = merged_df.loc[(merged_df['latitude'] < 55) & (merged_df['longitude'] < -163) |\n",
    "                        (merged_df['latitude'] > 50) & (merged_df['longitude'] > -80) ]"
   ]
  },
  {
   "cell_type": "code",
   "execution_count": 37,
   "metadata": {
    "ExecuteTime": {
     "end_time": "2021-08-29T01:35:32.080632Z",
     "start_time": "2021-08-29T01:35:31.812555Z"
    }
   },
   "outputs": [],
   "source": [
    "merged_df.drop(to_drop.index, axis=0, inplace=True)"
   ]
  },
  {
   "cell_type": "code",
   "execution_count": 38,
   "metadata": {
    "ExecuteTime": {
     "end_time": "2021-08-29T01:35:33.055592Z",
     "start_time": "2021-08-29T01:35:32.083548Z"
    }
   },
   "outputs": [
    {
     "data": {
      "text/plain": [
       "Text(0, 0.5, 'Latitude')"
      ]
     },
     "execution_count": 38,
     "metadata": {},
     "output_type": "execute_result"
    },
    {
     "data": {
      "image/png": "[encoded data removed]",
      "text/plain": [
       "<Figure size 432x288 with 1 Axes>"
      ]
     },
     "metadata": {
      "needs_background": "light"
     },
     "output_type": "display_data"
    }
   ],
   "source": [
    "sns.scatterplot(x='longitude',y='latitude', data= merged_df )\n",
    "plt.title('Location')\n",
    "plt.xlabel('Longitude')\n",
    "plt.ylabel('Latitude')"
   ]
  },
  {
   "cell_type": "markdown",
   "metadata": {},
   "source": [
    "### Removing unwanted characters from State"
   ]
  },
  {
   "cell_type": "code",
   "execution_count": 39,
   "metadata": {
    "ExecuteTime": {
     "end_time": "2021-08-29T01:35:38.228832Z",
     "start_time": "2021-08-29T01:35:33.057577Z"
    }
   },
   "outputs": [],
   "source": [
    "# #iterate over columns to remove qoutes\n",
    "merged_df = merged_df.applymap(lambda x: x.replace(\"'\", '') if (isinstance(x, str)) else x)"
   ]
  },
  {
   "cell_type": "code",
   "execution_count": 40,
   "metadata": {
    "ExecuteTime": {
     "end_time": "2021-08-29T01:35:40.539468Z",
     "start_time": "2021-08-29T01:35:38.230753Z"
    }
   },
   "outputs": [],
   "source": [
    "#remove quotes from state\n",
    "merged_df['state'] = merged_df['state'].map(lambda x: x.lstrip(''))\n",
    "\n",
    "#remove numbers and characters from 'state'\n",
    "merged_df['state'] = merged_df['state'].replace('[0123456789-]', '', regex=True)\n",
    "merged_df['county'] = merged_df['county'].replace('[0123456789-]', '', regex=True)"
   ]
  },
  {
   "cell_type": "code",
   "execution_count": 41,
   "metadata": {
    "ExecuteTime": {
     "end_time": "2021-08-29T01:35:40.555427Z",
     "start_time": "2021-08-29T01:35:40.541426Z"
    }
   },
   "outputs": [
    {
     "data": {
      "text/plain": [
       "4               Alabama\n",
       "5               Alabama\n",
       "6               Alabama\n",
       "7               Alabama\n",
       "8               Alabama\n",
       "              ...      \n",
       "618451      Connecticut\n",
       "618452      Connecticut\n",
       "618453      Connecticut\n",
       "618454      Connecticut\n",
       "618455      Connecticut\n",
       "Name: state, Length: 609874, dtype: object"
      ]
     },
     "execution_count": 41,
     "metadata": {},
     "output_type": "execute_result"
    }
   ],
   "source": [
    "merged_df.state"
   ]
  },
  {
   "cell_type": "code",
   "execution_count": 42,
   "metadata": {
    "ExecuteTime": {
     "end_time": "2021-08-29T01:35:40.587433Z",
     "start_time": "2021-08-29T01:35:40.557427Z"
    }
   },
   "outputs": [
    {
     "data": {
      "text/html": [
       "<div>\n",
       "<style scoped>\n",
       "    .dataframe tbody tr th:only-of-type {\n",
       "        vertical-align: middle;\n",
       "    }\n",
       "\n",
       "    .dataframe tbody tr th {\n",
       "        vertical-align: top;\n",
       "    }\n",
       "\n",
       "    .dataframe thead th {\n",
       "        text-align: right;\n",
       "    }\n",
       "</style>\n",
       "<table border=\"1\" class=\"dataframe\">\n",
       "  <thead>\n",
       "    <tr style=\"text-align: right;\">\n",
       "      <th></th>\n",
       "      <th>state</th>\n",
       "      <th>str_id</th>\n",
       "      <th>deck_type</th>\n",
       "      <th>wearing_type</th>\n",
       "      <th>membrane_type</th>\n",
       "      <th>deck_protection</th>\n",
       "      <th>toll</th>\n",
       "      <th>avg_truck_traffic</th>\n",
       "      <th>freeze_thaw_cycle</th>\n",
       "      <th>snowfall_days</th>\n",
       "      <th>...</th>\n",
       "      <th>latitude</th>\n",
       "      <th>longitude</th>\n",
       "      <th>yr_reconst</th>\n",
       "      <th>skew</th>\n",
       "      <th>max_span</th>\n",
       "      <th>bridge_width</th>\n",
       "      <th>deck_width</th>\n",
       "      <th>super_st_condition</th>\n",
       "      <th>sub_st_condition</th>\n",
       "      <th>deck_condition</th>\n",
       "    </tr>\n",
       "  </thead>\n",
       "  <tbody>\n",
       "    <tr>\n",
       "      <th>4</th>\n",
       "      <td>Alabama</td>\n",
       "      <td>021480</td>\n",
       "      <td>1</td>\n",
       "      <td>0</td>\n",
       "      <td>0</td>\n",
       "      <td>0</td>\n",
       "      <td>3</td>\n",
       "      <td>35</td>\n",
       "      <td>14</td>\n",
       "      <td>0.0</td>\n",
       "      <td>...</td>\n",
       "      <td>31.12305</td>\n",
       "      <td>-85.05527</td>\n",
       "      <td>0</td>\n",
       "      <td>23</td>\n",
       "      <td>274.9</td>\n",
       "      <td>38.1</td>\n",
       "      <td>41.0</td>\n",
       "      <td>7</td>\n",
       "      <td>7</td>\n",
       "      <td>7</td>\n",
       "    </tr>\n",
       "    <tr>\n",
       "      <th>5</th>\n",
       "      <td>Alabama</td>\n",
       "      <td>009763</td>\n",
       "      <td>N</td>\n",
       "      <td>6</td>\n",
       "      <td>0</td>\n",
       "      <td>0</td>\n",
       "      <td>3</td>\n",
       "      <td>7</td>\n",
       "      <td>14</td>\n",
       "      <td>0.0</td>\n",
       "      <td>...</td>\n",
       "      <td>31.05112</td>\n",
       "      <td>-85.09267</td>\n",
       "      <td>0</td>\n",
       "      <td>45</td>\n",
       "      <td>12.1</td>\n",
       "      <td>0.0</td>\n",
       "      <td>0.0</td>\n",
       "      <td>N</td>\n",
       "      <td>N</td>\n",
       "      <td>N</td>\n",
       "    </tr>\n",
       "    <tr>\n",
       "      <th>6</th>\n",
       "      <td>Alabama</td>\n",
       "      <td>003324</td>\n",
       "      <td>N</td>\n",
       "      <td>N</td>\n",
       "      <td>N</td>\n",
       "      <td>N</td>\n",
       "      <td>3</td>\n",
       "      <td>7</td>\n",
       "      <td>14</td>\n",
       "      <td>0.0</td>\n",
       "      <td>...</td>\n",
       "      <td>31.17840</td>\n",
       "      <td>-85.11512</td>\n",
       "      <td>2009</td>\n",
       "      <td>0</td>\n",
       "      <td>7.9</td>\n",
       "      <td>0.0</td>\n",
       "      <td>0.0</td>\n",
       "      <td>N</td>\n",
       "      <td>N</td>\n",
       "      <td>N</td>\n",
       "    </tr>\n",
       "    <tr>\n",
       "      <th>7</th>\n",
       "      <td>Alabama</td>\n",
       "      <td>006369</td>\n",
       "      <td>1</td>\n",
       "      <td>0</td>\n",
       "      <td>0</td>\n",
       "      <td>0</td>\n",
       "      <td>3</td>\n",
       "      <td>7</td>\n",
       "      <td>14</td>\n",
       "      <td>0.0</td>\n",
       "      <td>...</td>\n",
       "      <td>31.18900</td>\n",
       "      <td>-85.11860</td>\n",
       "      <td>0</td>\n",
       "      <td>0</td>\n",
       "      <td>60</td>\n",
       "      <td>23.6</td>\n",
       "      <td>27.6</td>\n",
       "      <td>7</td>\n",
       "      <td>7</td>\n",
       "      <td>6</td>\n",
       "    </tr>\n",
       "    <tr>\n",
       "      <th>8</th>\n",
       "      <td>Alabama</td>\n",
       "      <td>015078</td>\n",
       "      <td>2</td>\n",
       "      <td>0</td>\n",
       "      <td>0</td>\n",
       "      <td>0</td>\n",
       "      <td>3</td>\n",
       "      <td>0</td>\n",
       "      <td>14</td>\n",
       "      <td>0.0</td>\n",
       "      <td>...</td>\n",
       "      <td>31.10713</td>\n",
       "      <td>-85.17017</td>\n",
       "      <td>0</td>\n",
       "      <td>0</td>\n",
       "      <td>15.1</td>\n",
       "      <td>23.6</td>\n",
       "      <td>24.9</td>\n",
       "      <td>5</td>\n",
       "      <td>6</td>\n",
       "      <td>5</td>\n",
       "    </tr>\n",
       "  </tbody>\n",
       "</table>\n",
       "<p>5 rows × 38 columns</p>\n",
       "</div>"
      ],
      "text/plain": [
       "       state           str_id deck_type wearing_type membrane_type  \\\n",
       "4    Alabama  021480                  1            0             0   \n",
       "5    Alabama  009763                  N            6             0   \n",
       "6    Alabama  003324                  N            N             N   \n",
       "7    Alabama  006369                  1            0             0   \n",
       "8    Alabama  015078                  2            0             0   \n",
       "\n",
       "  deck_protection toll avg_truck_traffic freeze_thaw_cycle  snowfall_days  \\\n",
       "4               0    3                35                14            0.0   \n",
       "5               0    3                 7                14            0.0   \n",
       "6               N    3                 7                14            0.0   \n",
       "7               0    3                 7                14            0.0   \n",
       "8               0    3                 0                14            0.0   \n",
       "\n",
       "   ...  latitude  longitude yr_reconst skew  max_span bridge_width deck_width  \\\n",
       "4  ...  31.12305  -85.05527          0   23     274.9         38.1       41.0   \n",
       "5  ...  31.05112  -85.09267          0   45      12.1          0.0        0.0   \n",
       "6  ...  31.17840  -85.11512       2009    0       7.9          0.0        0.0   \n",
       "7  ...  31.18900  -85.11860          0    0        60         23.6       27.6   \n",
       "8  ...  31.10713  -85.17017          0    0      15.1         23.6       24.9   \n",
       "\n",
       "  super_st_condition sub_st_condition  deck_condition  \n",
       "4                  7                7               7  \n",
       "5                  N                N               N  \n",
       "6                  N                N               N  \n",
       "7                  7                7               6  \n",
       "8                  5                6               5  \n",
       "\n",
       "[5 rows x 38 columns]"
      ]
     },
     "execution_count": 42,
     "metadata": {},
     "output_type": "execute_result"
    }
   ],
   "source": [
    "merged_df.head()"
   ]
  },
  {
   "cell_type": "markdown",
   "metadata": {},
   "source": [
    "### Removing irrelevant characters in Bridge condition"
   ]
  },
  {
   "cell_type": "code",
   "execution_count": 43,
   "metadata": {
    "ExecuteTime": {
     "end_time": "2021-08-29T01:35:40.746489Z",
     "start_time": "2021-08-29T01:35:40.591430Z"
    }
   },
   "outputs": [],
   "source": [
    "# Get a list of the top 3 bridge_conditions\n",
    "top3 = merged_df['bridge_condition'].value_counts()[:3].index\n",
    "\n",
    "# At locations where the neighborhood is NOT in the top 3, \n",
    "# replace the brdige_condition with 'NA'\n",
    "merged_df.loc[np.logical_not(merged_df['bridge_condition'].isin(top3)), 'bridge_condition'] = np.nan"
   ]
  },
  {
   "cell_type": "code",
   "execution_count": 44,
   "metadata": {
    "ExecuteTime": {
     "end_time": "2021-08-29T01:35:40.825468Z",
     "start_time": "2021-08-29T01:35:40.748428Z"
    }
   },
   "outputs": [
    {
     "data": {
      "text/plain": [
       "Fair    282396\n",
       "Good    267883\n",
       "Poor     42919\n",
       "Name: bridge_condition, dtype: int64"
      ]
     },
     "execution_count": 44,
     "metadata": {},
     "output_type": "execute_result"
    }
   ],
   "source": [
    "merged_df.bridge_condition.value_counts()"
   ]
  },
  {
   "cell_type": "code",
   "execution_count": 45,
   "metadata": {
    "ExecuteTime": {
     "end_time": "2021-08-29T01:35:40.905468Z",
     "start_time": "2021-08-29T01:35:40.829429Z"
    }
   },
   "outputs": [
    {
     "data": {
      "text/plain": [
       "Fair    0.476057\n",
       "Good    0.451591\n",
       "Poor    0.072352\n",
       "Name: bridge_condition, dtype: float64"
      ]
     },
     "execution_count": 45,
     "metadata": {},
     "output_type": "execute_result"
    }
   ],
   "source": [
    "merged_df.bridge_condition.value_counts(normalize=True)"
   ]
  },
  {
   "cell_type": "markdown",
   "metadata": {},
   "source": [
    "### Dealing with missing values"
   ]
  },
  {
   "cell_type": "markdown",
   "metadata": {},
   "source": [
    "We will be dropping the rows with missing locational data since they would be irrelevant if we can't locate them on the map."
   ]
  },
  {
   "cell_type": "code",
   "execution_count": 46,
   "metadata": {
    "ExecuteTime": {
     "end_time": "2021-08-29T01:35:41.592773Z",
     "start_time": "2021-08-29T01:35:40.907497Z"
    }
   },
   "outputs": [
    {
     "data": {
      "text/plain": [
       "state                              0\n",
       "str_id                             0\n",
       "deck_type                          0\n",
       "wearing_type                       0\n",
       "membrane_type                      0\n",
       "deck_protection                    0\n",
       "toll                               0\n",
       "avg_truck_traffic              31782\n",
       "freeze_thaw_cycle                 41\n",
       "snowfall_days                    283\n",
       "inventory_class_route              0\n",
       "lanes_on_str                       0\n",
       "lanes_under_str                    0\n",
       "level_service_code                 0\n",
       "yr_avg_traffic                    18\n",
       "inventory_route_code               0\n",
       "truck_network_code                 0\n",
       "min_vertical_underclearance        0\n",
       "min_lateral_underclearanceR        0\n",
       "min_lateral_underclearanceL        0\n",
       "county                             0\n",
       "avg_daily_trfc                    16\n",
       "design_material                    0\n",
       "construction_design_value          0\n",
       "num_spans                          0\n",
       "structure_length                   0\n",
       "bridge_condition               16676\n",
       "bridge_age                         0\n",
       "latitude                        1768\n",
       "longitude                       1791\n",
       "yr_reconst                     60414\n",
       "skew                               1\n",
       "max_span                         389\n",
       "bridge_width                       5\n",
       "deck_width                         0\n",
       "super_st_condition                 0\n",
       "sub_st_condition                   0\n",
       "deck_condition                     0\n",
       "dtype: int64"
      ]
     },
     "execution_count": 46,
     "metadata": {},
     "output_type": "execute_result"
    }
   ],
   "source": [
    "merged_df.isna().sum()"
   ]
  },
  {
   "cell_type": "code",
   "execution_count": 47,
   "metadata": {
    "ExecuteTime": {
     "end_time": "2021-08-29T01:35:41.864613Z",
     "start_time": "2021-08-29T01:35:41.594729Z"
    }
   },
   "outputs": [],
   "source": [
    "# Drop rows which contain any NaN value in the selected columns\n",
    "mod_df = merged_df.dropna( how='any',\n",
    "                    subset=['latitude', 'longitude', 'bridge_condition'])"
   ]
  },
  {
   "cell_type": "code",
   "execution_count": 48,
   "metadata": {
    "ExecuteTime": {
     "end_time": "2021-08-29T01:35:42.415941Z",
     "start_time": "2021-08-29T01:35:41.866614Z"
    }
   },
   "outputs": [],
   "source": [
    "# fill 'avg_daily_trfc' and 'num_spans' missing values using random choic\n",
    "\n",
    "s = mod_df.avg_daily_trfc.value_counts(normalize=True)\n",
    "mod_df['avg_daily_trfic'] =mod_df['avg_daily_trfc']\n",
    "mod_df.loc[mod_df.avg_daily_trfc.isna(),\n",
    "           'avg_daily_trfic'] = np.random.choice(s.index, p=s.values, size=mod_df.avg_daily_trfc.isna().sum())"
   ]
  },
  {
   "cell_type": "code",
   "execution_count": 49,
   "metadata": {
    "ExecuteTime": {
     "end_time": "2021-08-29T01:35:42.686276Z",
     "start_time": "2021-08-29T01:35:42.417851Z"
    }
   },
   "outputs": [],
   "source": [
    "#drop the original 'avg_daily_trfc' column\n",
    "mod_df.drop('avg_daily_trfc', axis=1, inplace=True)"
   ]
  },
  {
   "cell_type": "code",
   "execution_count": 50,
   "metadata": {
    "ExecuteTime": {
     "end_time": "2021-08-29T01:35:42.750338Z",
     "start_time": "2021-08-29T01:35:42.687275Z"
    }
   },
   "outputs": [],
   "source": [
    "# Replace missing values in yr_reconst by 0 assuming they have never been reconstructed\n",
    "cols = ['yr_reconst', 'freeze_thaw_cycle', 'snowfall_days']\n",
    "for col in cols:\n",
    "    mod_df[col].fillna(value=0, inplace=True)\n"
   ]
  },
  {
   "cell_type": "code",
   "execution_count": 51,
   "metadata": {
    "ExecuteTime": {
     "end_time": "2021-08-29T01:35:43.469023Z",
     "start_time": "2021-08-29T01:35:42.752277Z"
    }
   },
   "outputs": [
    {
     "data": {
      "text/plain": [
       "state                              0\n",
       "str_id                             0\n",
       "deck_type                          0\n",
       "wearing_type                       0\n",
       "membrane_type                      0\n",
       "deck_protection                    0\n",
       "toll                               0\n",
       "avg_truck_traffic              31144\n",
       "freeze_thaw_cycle                  0\n",
       "snowfall_days                      0\n",
       "inventory_class_route              0\n",
       "lanes_on_str                       0\n",
       "lanes_under_str                    0\n",
       "level_service_code                 0\n",
       "yr_avg_traffic                    18\n",
       "inventory_route_code               0\n",
       "truck_network_code                 0\n",
       "min_vertical_underclearance        0\n",
       "min_lateral_underclearanceR        0\n",
       "min_lateral_underclearanceL        0\n",
       "county                             0\n",
       "design_material                    0\n",
       "construction_design_value          0\n",
       "num_spans                          0\n",
       "structure_length                   0\n",
       "bridge_condition                   0\n",
       "bridge_age                         0\n",
       "latitude                           0\n",
       "longitude                          0\n",
       "yr_reconst                         0\n",
       "skew                               1\n",
       "max_span                           0\n",
       "bridge_width                       0\n",
       "deck_width                         0\n",
       "super_st_condition                 0\n",
       "sub_st_condition                   0\n",
       "deck_condition                     0\n",
       "avg_daily_trfic                    0\n",
       "dtype: int64"
      ]
     },
     "execution_count": 51,
     "metadata": {},
     "output_type": "execute_result"
    }
   ],
   "source": [
    "mod_df.isna().sum()"
   ]
  },
  {
   "cell_type": "markdown",
   "metadata": {},
   "source": [
    "Average truck traffic values missing acount for less than 6% of the data"
   ]
  },
  {
   "cell_type": "code",
   "execution_count": 52,
   "metadata": {
    "ExecuteTime": {
     "end_time": "2021-08-29T01:35:43.532022Z",
     "start_time": "2021-08-29T01:35:43.470985Z"
    }
   },
   "outputs": [
    {
     "data": {
      "text/plain": [
       "array([87222, 53430, 52726, 41022, 36158, 31802, 30069, 29345, 23251,\n",
       "       22913, 16811, 16800, 12873, 12611, 10049,  9094,  8030,  6328,\n",
       "        6077,  4998,  4930,  4929,  4241,  3406,  3220,  3185,  2840,\n",
       "        2128,  2032,  1950,  1812,  1522,  1474,  1250,  1138,  1091,\n",
       "        1046,  1007,   841,   797,   780,   589,   552,   386,   378,\n",
       "         330,   295,   245,   169,   140,   139,   123,   106,    99,\n",
       "          94,    87,    77,    70,    55,    52,    47,    43,    35,\n",
       "          32,    31,    25,    23,    19,    17,    16,    14,    10,\n",
       "           6,     5,     4,     3,     2,     1], dtype=int64)"
      ]
     },
     "execution_count": 52,
     "metadata": {},
     "output_type": "execute_result"
    }
   ],
   "source": [
    "mod_df.avg_truck_traffic.value_counts().unique()"
   ]
  },
  {
   "cell_type": "code",
   "execution_count": 53,
   "metadata": {
    "ExecuteTime": {
     "end_time": "2021-08-29T01:35:43.993047Z",
     "start_time": "2021-08-29T01:35:43.533980Z"
    }
   },
   "outputs": [],
   "source": [
    "# fill 'avg_daily_trfc' and 'num_spans' missing values using random choic\n",
    "\n",
    "s = mod_df.avg_truck_traffic.value_counts(normalize=True)\n",
    "mod_df['avg_truck_trfc'] =mod_df['avg_truck_traffic']\n",
    "mod_df.loc[mod_df.avg_truck_trfc.isna(),\n",
    "           'avg_truck_trfc'] = np.random.choice(s.index, p=s.values, size=mod_df.avg_truck_traffic.isna().sum())"
   ]
  },
  {
   "cell_type": "code",
   "execution_count": 54,
   "metadata": {
    "ExecuteTime": {
     "end_time": "2021-08-29T01:35:44.264212Z",
     "start_time": "2021-08-29T01:35:43.995052Z"
    }
   },
   "outputs": [],
   "source": [
    "#drop the original 'avg_daily_trfc' column\n",
    "mod_df.drop('avg_truck_traffic', axis=1, inplace=True)"
   ]
  },
  {
   "cell_type": "markdown",
   "metadata": {},
   "source": [
    "Referring to the National Bridge Inventory the Deck condition ranges from 0 to 9, with 0 signifying a failed structure and 9 being excellent condition of the structure, let's replace the character \"N\" with NAN and treat it as a missing value. "
   ]
  },
  {
   "cell_type": "code",
   "execution_count": null,
   "metadata": {},
   "outputs": [],
   "source": []
  },
  {
   "cell_type": "code",
   "execution_count": 55,
   "metadata": {
    "ExecuteTime": {
     "end_time": "2021-08-29T01:35:46.708295Z",
     "start_time": "2021-08-29T01:35:44.267125Z"
    }
   },
   "outputs": [
    {
     "name": "stdout",
     "output_type": "stream",
     "text": [
      "7    191554\n",
      "N    143438\n",
      "6    113856\n",
      "8     61947\n",
      "5     55468\n",
      "4     12190\n",
      "9     10897\n",
      "3      2150\n",
      "0       785\n",
      "2       399\n",
      "1        72\n",
      "Name: deck_condition, dtype: int64\n",
      "=======================\n",
      "7    191554\n",
      "6    113856\n",
      "8     61947\n",
      "5     55468\n",
      "4     12190\n",
      "9     10897\n",
      "3      2150\n",
      "0       785\n",
      "2       399\n",
      "1        72\n",
      "Name: deck_condition, dtype: int64\n",
      "7    177119\n",
      "N    138246\n",
      "6    110455\n",
      "8     71885\n",
      "5     60488\n",
      "4     16904\n",
      "9     11362\n",
      "3      4118\n",
      "2      1150\n",
      "0       778\n",
      "1       251\n",
      "Name: sub_st_condition, dtype: int64\n",
      "=======================\n",
      "7    177119\n",
      "6    110455\n",
      "8     71885\n",
      "5     60488\n",
      "4     16904\n",
      "9     11362\n",
      "3      4118\n",
      "2      1150\n",
      "0       778\n",
      "1       251\n",
      "Name: sub_st_condition, dtype: int64\n",
      "7    171640\n",
      "N    138080\n",
      "6    108215\n",
      "8     86399\n",
      "5     56477\n",
      "4     14119\n",
      "9     13530\n",
      "3      2740\n",
      "0       779\n",
      "2       591\n",
      "1       186\n",
      "Name: super_st_condition, dtype: int64\n",
      "=======================\n",
      "7    171640\n",
      "6    108215\n",
      "8     86399\n",
      "5     56477\n",
      "4     14119\n",
      "9     13530\n",
      "3      2740\n",
      "0       779\n",
      "2       591\n",
      "1       186\n",
      "Name: super_st_condition, dtype: int64\n"
     ]
    }
   ],
   "source": [
    "cond_cols = ['deck_condition', 'sub_st_condition', 'super_st_condition']\n",
    "\n",
    "for col in cond_cols:\n",
    "    print(mod_df[col].value_counts())\n",
    "    print('=======================')\n",
    "    mod_df[col] = mod_df[col].replace({'N': np.nan}, regex=True)\n",
    "    print(mod_df[col].value_counts())"
   ]
  },
  {
   "cell_type": "code",
   "execution_count": 56,
   "metadata": {
    "ExecuteTime": {
     "end_time": "2021-08-29T01:35:47.376620Z",
     "start_time": "2021-08-29T01:35:46.710253Z"
    }
   },
   "outputs": [
    {
     "data": {
      "text/plain": [
       "state                               0\n",
       "str_id                              0\n",
       "deck_type                           0\n",
       "wearing_type                        0\n",
       "membrane_type                       0\n",
       "deck_protection                     0\n",
       "toll                                0\n",
       "freeze_thaw_cycle                   0\n",
       "snowfall_days                       0\n",
       "inventory_class_route               0\n",
       "lanes_on_str                        0\n",
       "lanes_under_str                     0\n",
       "level_service_code                  0\n",
       "yr_avg_traffic                     18\n",
       "inventory_route_code                0\n",
       "truck_network_code                  0\n",
       "min_vertical_underclearance         0\n",
       "min_lateral_underclearanceR         0\n",
       "min_lateral_underclearanceL         0\n",
       "county                              0\n",
       "design_material                     0\n",
       "construction_design_value           0\n",
       "num_spans                           0\n",
       "structure_length                    0\n",
       "bridge_condition                    0\n",
       "bridge_age                          0\n",
       "latitude                            0\n",
       "longitude                           0\n",
       "yr_reconst                          0\n",
       "skew                                1\n",
       "max_span                            0\n",
       "bridge_width                        0\n",
       "deck_width                          0\n",
       "super_st_condition             138080\n",
       "sub_st_condition               138246\n",
       "deck_condition                 143438\n",
       "avg_daily_trfic                     0\n",
       "avg_truck_trfc                      0\n",
       "dtype: int64"
      ]
     },
     "execution_count": 56,
     "metadata": {},
     "output_type": "execute_result"
    }
   ],
   "source": [
    "mod_df.isna().sum()"
   ]
  },
  {
   "cell_type": "code",
   "execution_count": 57,
   "metadata": {
    "ExecuteTime": {
     "end_time": "2021-08-29T01:35:47.392620Z",
     "start_time": "2021-08-29T01:35:47.378620Z"
    }
   },
   "outputs": [
    {
     "data": {
      "text/plain": [
       "Index(['state', 'str_id', 'deck_type', 'wearing_type', 'membrane_type',\n",
       "       'deck_protection', 'toll', 'freeze_thaw_cycle', 'snowfall_days',\n",
       "       'inventory_class_route', 'lanes_on_str', 'lanes_under_str',\n",
       "       'level_service_code', 'yr_avg_traffic', 'inventory_route_code',\n",
       "       'truck_network_code', 'min_vertical_underclearance',\n",
       "       'min_lateral_underclearanceR', 'min_lateral_underclearanceL', 'county',\n",
       "       'design_material', 'construction_design_value', 'num_spans',\n",
       "       'structure_length', 'bridge_condition', 'bridge_age', 'latitude',\n",
       "       'longitude', 'yr_reconst', 'skew', 'max_span', 'bridge_width',\n",
       "       'deck_width', 'super_st_condition', 'sub_st_condition',\n",
       "       'deck_condition', 'avg_daily_trfic', 'avg_truck_trfc'],\n",
       "      dtype='object')"
      ]
     },
     "execution_count": 57,
     "metadata": {},
     "output_type": "execute_result"
    }
   ],
   "source": [
    "mod_df.columns"
   ]
  },
  {
   "cell_type": "markdown",
   "metadata": {},
   "source": [
    "The three columns are dependent variables so we drop them to be relevant for modeling"
   ]
  },
  {
   "cell_type": "code",
   "execution_count": 58,
   "metadata": {
    "ExecuteTime": {
     "end_time": "2021-08-29T01:35:51.477549Z",
     "start_time": "2021-08-29T01:35:47.394620Z"
    }
   },
   "outputs": [],
   "source": [
    "#change datatype of continuous variables to numeric values\n",
    "to_numeric = ['avg_daily_trfic','yr_reconst','skew', 'max_span','num_spans',\n",
    "              'structure_length','avg_truck_trfc', 'bridge_age','min_vertical_underclearance',\n",
    "              'lanes_under_str','freeze_thaw_cycle','min_lateral_underclearanceR']\n",
    "\n",
    "for col in to_numeric:\n",
    "      mod_df[col] = pd.to_numeric(mod_df[col], errors='coerce')\n",
    "    \n",
    "  "
   ]
  },
  {
   "cell_type": "markdown",
   "metadata": {},
   "source": [
    "## Visualization"
   ]
  },
  {
   "cell_type": "markdown",
   "metadata": {},
   "source": [
    "### Super structure condition"
   ]
  },
  {
   "cell_type": "code",
   "execution_count": 59,
   "metadata": {
    "ExecuteTime": {
     "end_time": "2021-08-29T01:35:51.637551Z",
     "start_time": "2021-08-29T01:35:51.479447Z"
    }
   },
   "outputs": [],
   "source": [
    "quantity_df = mod_df.groupby('super_st_condition')['bridge_condition'].value_counts().unstack()"
   ]
  },
  {
   "cell_type": "code",
   "execution_count": 60,
   "metadata": {
    "ExecuteTime": {
     "end_time": "2021-08-29T01:35:51.957508Z",
     "start_time": "2021-08-29T01:35:51.639446Z"
    }
   },
   "outputs": [
    {
     "data": {
      "image/png": "[encoded data removed]",
      "text/plain": [
       "<Figure size 720x432 with 1 Axes>"
      ]
     },
     "metadata": {
      "needs_background": "light"
     },
     "output_type": "display_data"
    }
   ],
   "source": [
    "quantity_df.plot.bar(figsize = (10, 6), width=0.7)\n",
    "plt.title('Condition vs bridge age', fontsize=20)\n",
    "plt.xlabel('Superstructure Condition', fontsize=15)\n",
    "plt.ylabel('Number of bridges', fontsize=15)\n",
    "plt.xticks(rotation = 0);"
   ]
  },
  {
   "cell_type": "code",
   "execution_count": 61,
   "metadata": {
    "ExecuteTime": {
     "end_time": "2021-08-29T01:35:51.973047Z",
     "start_time": "2021-08-29T01:35:51.959448Z"
    }
   },
   "outputs": [
    {
     "data": {
      "text/plain": [
       "Index(['state', 'str_id', 'deck_type', 'wearing_type', 'membrane_type',\n",
       "       'deck_protection', 'toll', 'freeze_thaw_cycle', 'snowfall_days',\n",
       "       'inventory_class_route', 'lanes_on_str', 'lanes_under_str',\n",
       "       'level_service_code', 'yr_avg_traffic', 'inventory_route_code',\n",
       "       'truck_network_code', 'min_vertical_underclearance',\n",
       "       'min_lateral_underclearanceR', 'min_lateral_underclearanceL', 'county',\n",
       "       'design_material', 'construction_design_value', 'num_spans',\n",
       "       'structure_length', 'bridge_condition', 'bridge_age', 'latitude',\n",
       "       'longitude', 'yr_reconst', 'skew', 'max_span', 'bridge_width',\n",
       "       'deck_width', 'super_st_condition', 'sub_st_condition',\n",
       "       'deck_condition', 'avg_daily_trfic', 'avg_truck_trfc'],\n",
       "      dtype='object')"
      ]
     },
     "execution_count": 61,
     "metadata": {},
     "output_type": "execute_result"
    }
   ],
   "source": [
    "mod_df.columns"
   ]
  },
  {
   "cell_type": "code",
   "execution_count": 62,
   "metadata": {
    "ExecuteTime": {
     "end_time": "2021-08-29T01:35:51.989049Z",
     "start_time": "2021-08-29T01:35:51.974986Z"
    }
   },
   "outputs": [],
   "source": [
    "# sns.pairplot(mod_df, hue='bridge_condition')"
   ]
  },
  {
   "cell_type": "code",
   "execution_count": 63,
   "metadata": {
    "ExecuteTime": {
     "end_time": "2021-08-29T01:36:03.354590Z",
     "start_time": "2021-08-29T01:35:51.990996Z"
    },
    "scrolled": false
   },
   "outputs": [
    {
     "data": {
      "image/png": "[encoded data removed]",
      "text/plain": [
       "<Figure size 1008x720 with 1 Axes>"
      ]
     },
     "metadata": {
      "needs_background": "light"
     },
     "output_type": "display_data"
    }
   ],
   "source": [
    "import cartopy.crs as ccrs\n",
    "import cartopy.feature as cfeature\n",
    "\n",
    "\n",
    "plt.figure(figsize=(14,10))\n",
    "\n",
    "# Creates the map\n",
    "ca_map = plt.axes(projection=ccrs.PlateCarree())\n",
    "\n",
    "ca_map.add_feature(cfeature.LAND)\n",
    "ca_map.add_feature(cfeature.OCEAN)\n",
    "ca_map.add_feature(cfeature.COASTLINE)\n",
    "ca_map.add_feature(cfeature.BORDERS, linestyle='-')\n",
    "ca_map.add_feature(cfeature.LAKES)\n",
    "ca_map.add_feature(cfeature.RIVERS)\n",
    "# ca_map.add_feature(cfeature.STATES.with_scale('10m'))\n",
    "\n",
    "\n",
    "# Plots the data onto map\n",
    "sns.scatterplot(mod_df['longitude'], mod_df['latitude'], \n",
    "            s=20,\n",
    "            hue=mod_df['bridge_condition'],\n",
    "            transform=ccrs.PlateCarree())\n",
    "\n",
    "# Plot labels\n",
    "plt.ylabel(\"Latitude\", fontsize=14)\n",
    "plt.xlabel(\"Longitude\", fontsize=14)\n",
    "plt.title('Bridge condition Status', fontsize=25)\n",
    "plt.legend()\n",
    "plt.show()"
   ]
  },
  {
   "cell_type": "code",
   "execution_count": 64,
   "metadata": {
    "ExecuteTime": {
     "end_time": "2021-08-29T01:36:03.370313Z",
     "start_time": "2021-08-29T01:36:03.357593Z"
    }
   },
   "outputs": [
    {
     "data": {
      "text/plain": [
       "(592756, 38)"
      ]
     },
     "execution_count": 64,
     "metadata": {},
     "output_type": "execute_result"
    }
   ],
   "source": [
    "mod_df.shape"
   ]
  },
  {
   "cell_type": "code",
   "execution_count": 65,
   "metadata": {
    "ExecuteTime": {
     "end_time": "2021-08-29T01:36:03.386457Z",
     "start_time": "2021-08-29T01:36:03.373856Z"
    }
   },
   "outputs": [],
   "source": [
    "mod_df1 = mod_df[:200000]\n",
    "mod_df2 = mod_df[200000:400000]\n",
    "mod_df3 = mod_df[400000:]"
   ]
  },
  {
   "cell_type": "code",
   "execution_count": null,
   "metadata": {},
   "outputs": [],
   "source": []
  },
  {
   "cell_type": "code",
   "execution_count": 66,
   "metadata": {
    "ExecuteTime": {
     "end_time": "2021-08-29T01:36:12.528184Z",
     "start_time": "2021-08-29T01:36:03.390383Z"
    }
   },
   "outputs": [],
   "source": [
    "mod_df1.to_csv('bridge_data_cleaned1', index=False)\n",
    "mod_df2.to_csv('bridge_data_cleaned2', index=False)\n",
    "mod_df3.to_csv('bridge_data_cleaned3', index=False)"
   ]
  },
  {
   "cell_type": "markdown",
   "metadata": {
    "ExecuteTime": {
     "end_time": "2021-08-20T02:26:09.474525Z",
     "start_time": "2021-08-20T02:25:56.342088Z"
    }
   },
   "source": []
  },
  {
   "cell_type": "code",
   "execution_count": 67,
   "metadata": {
    "ExecuteTime": {
     "end_time": "2021-08-29T01:36:12.719694Z",
     "start_time": "2021-08-29T01:36:12.530101Z"
    }
   },
   "outputs": [],
   "source": [
    "mod_df.drop(columns=['super_st_condition', 'sub_st_condition', 'deck_condition'], axis=1, inplace=True)"
   ]
  },
  {
   "cell_type": "code",
   "execution_count": 68,
   "metadata": {
    "ExecuteTime": {
     "end_time": "2021-08-29T01:36:13.374766Z",
     "start_time": "2021-08-29T01:36:12.728648Z"
    }
   },
   "outputs": [],
   "source": [
    "#drop the nan values in 'bridge_condition'\n",
    "mod_df.dropna(inplace=True)"
   ]
  },
  {
   "cell_type": "markdown",
   "metadata": {},
   "source": [
    "# Creating Dummies"
   ]
  },
  {
   "cell_type": "code",
   "execution_count": 69,
   "metadata": {
    "ExecuteTime": {
     "end_time": "2021-08-29T01:36:13.518625Z",
     "start_time": "2021-08-29T01:36:13.380690Z"
    }
   },
   "outputs": [
    {
     "data": {
      "text/plain": [
       "Index(['state', 'str_id', 'deck_type', 'wearing_type', 'membrane_type',\n",
       "       'deck_protection', 'toll', 'freeze_thaw_cycle', 'snowfall_days',\n",
       "       'inventory_class_route', 'lanes_on_str', 'lanes_under_str',\n",
       "       'level_service_code', 'yr_avg_traffic', 'inventory_route_code',\n",
       "       'truck_network_code', 'min_vertical_underclearance',\n",
       "       'min_lateral_underclearanceR', 'min_lateral_underclearanceL', 'county',\n",
       "       'design_material', 'construction_design_value', 'num_spans',\n",
       "       'structure_length', 'bridge_condition', 'bridge_age', 'latitude',\n",
       "       'longitude', 'yr_reconst', 'skew', 'max_span', 'bridge_width',\n",
       "       'deck_width', 'avg_daily_trfic', 'avg_truck_trfc'],\n",
       "      dtype='object')"
      ]
     },
     "execution_count": 69,
     "metadata": {},
     "output_type": "execute_result"
    }
   ],
   "source": [
    "mod_df.columns"
   ]
  },
  {
   "cell_type": "code",
   "execution_count": 70,
   "metadata": {
    "ExecuteTime": {
     "end_time": "2021-08-29T01:36:13.899381Z",
     "start_time": "2021-08-29T01:36:13.520628Z"
    }
   },
   "outputs": [
    {
     "name": "stdout",
     "output_type": "stream",
     "text": [
      "<class 'pandas.core.frame.DataFrame'>\n",
      "Int64Index: 592738 entries, 4 to 618455\n",
      "Data columns (total 35 columns):\n",
      " #   Column                       Non-Null Count   Dtype  \n",
      "---  ------                       --------------   -----  \n",
      " 0   state                        592738 non-null  object \n",
      " 1   str_id                       592738 non-null  object \n",
      " 2   deck_type                    592738 non-null  object \n",
      " 3   wearing_type                 592738 non-null  object \n",
      " 4   membrane_type                592738 non-null  object \n",
      " 5   deck_protection              592738 non-null  object \n",
      " 6   toll                         592738 non-null  object \n",
      " 7   freeze_thaw_cycle            592738 non-null  int64  \n",
      " 8   snowfall_days                592738 non-null  float64\n",
      " 9   inventory_class_route        592738 non-null  object \n",
      " 10  lanes_on_str                 592738 non-null  int64  \n",
      " 11  lanes_under_str              592738 non-null  int64  \n",
      " 12  level_service_code           592738 non-null  object \n",
      " 13  yr_avg_traffic               592738 non-null  float64\n",
      " 14  inventory_route_code         592738 non-null  object \n",
      " 15  truck_network_code           592738 non-null  object \n",
      " 16  min_vertical_underclearance  592738 non-null  float64\n",
      " 17  min_lateral_underclearanceR  592738 non-null  float64\n",
      " 18  min_lateral_underclearanceL  592738 non-null  float64\n",
      " 19  county                       592738 non-null  object \n",
      " 20  design_material              592738 non-null  object \n",
      " 21  construction_design_value    592738 non-null  object \n",
      " 22  num_spans                    592738 non-null  int64  \n",
      " 23  structure_length             592738 non-null  float64\n",
      " 24  bridge_condition             592738 non-null  object \n",
      " 25  bridge_age                   592738 non-null  int64  \n",
      " 26  latitude                     592738 non-null  float64\n",
      " 27  longitude                    592738 non-null  float64\n",
      " 28  yr_reconst                   592738 non-null  int64  \n",
      " 29  skew                         592738 non-null  float64\n",
      " 30  max_span                     592738 non-null  float64\n",
      " 31  bridge_width                 592738 non-null  float64\n",
      " 32  deck_width                   592738 non-null  float64\n",
      " 33  avg_daily_trfic              592738 non-null  int64  \n",
      " 34  avg_truck_trfc               592738 non-null  int64  \n",
      "dtypes: float64(12), int64(8), object(15)\n",
      "memory usage: 162.8+ MB\n"
     ]
    }
   ],
   "source": [
    "mod_df.info()"
   ]
  },
  {
   "cell_type": "code",
   "execution_count": 71,
   "metadata": {
    "ExecuteTime": {
     "end_time": "2021-08-29T01:36:13.915400Z",
     "start_time": "2021-08-29T01:36:13.901340Z"
    }
   },
   "outputs": [],
   "source": [
    "#separate the features into target, categorical and continuous variables\n",
    "target = ['bridge_condition']\n",
    "\n",
    "categorical = ['deck_type', 'wearing_type', 'membrane_type', 'deck_protection',\n",
    "               'toll', 'design_material',  'inventory_class_route', 'level_service_code', 'inventory_route_code',\n",
    "               'truck_network_code',\n",
    "               'construction_design_value']\n",
    "\n",
    "continuous = ['freeze_thaw_cycle', 'snowfall_days', 'structure_length', 'bridge_age',\n",
    "              'latitude', 'longitude', 'yr_reconst', 'skew', 'yr_avg_traffic',\n",
    "              'max_span', 'bridge_width', 'deck_width', 'avg_daily_trfic', 'num_spans',\n",
    "              'avg_truck_trfc', 'min_vertical_underclearance','lanes_on_str', \n",
    "               'lanes_under_str',\n",
    "               'min_lateral_underclearanceR', 'min_lateral_underclearanceL']\n",
    "\n",
    "to_drop = ['state', 'str_id', 'county']"
   ]
  },
  {
   "cell_type": "code",
   "execution_count": 72,
   "metadata": {
    "ExecuteTime": {
     "end_time": "2021-08-29T01:36:14.663393Z",
     "start_time": "2021-08-29T01:36:13.918376Z"
    }
   },
   "outputs": [
    {
     "name": "stdout",
     "output_type": "stream",
     "text": [
      "deck_type 10\n",
      "wearing_type 11\n",
      "membrane_type 7\n",
      "deck_protection 10\n",
      "toll 5\n",
      "design_material 9\n",
      "inventory_class_route 12\n",
      "level_service_code 8\n",
      "inventory_route_code 2\n",
      "truck_network_code 2\n",
      "construction_design_value 22\n"
     ]
    }
   ],
   "source": [
    "# print number of classes in each category\n",
    "for col in categorical:\n",
    "    print(col, mod_df[col].value_counts().count())"
   ]
  },
  {
   "cell_type": "code",
   "execution_count": 73,
   "metadata": {
    "ExecuteTime": {
     "end_time": "2021-08-29T01:36:14.791074Z",
     "start_time": "2021-08-29T01:36:14.665335Z"
    }
   },
   "outputs": [
    {
     "data": {
      "text/plain": [
       "Index(['deck_type', 'wearing_type', 'membrane_type', 'deck_protection', 'toll',\n",
       "       'inventory_class_route', 'level_service_code', 'inventory_route_code',\n",
       "       'truck_network_code', 'design_material', 'construction_design_value'],\n",
       "      dtype='object')"
      ]
     },
     "execution_count": 73,
     "metadata": {},
     "output_type": "execute_result"
    }
   ],
   "source": [
    "mod_df.drop(to_drop+target+continuous, axis=1).columns"
   ]
  },
  {
   "cell_type": "code",
   "execution_count": 74,
   "metadata": {
    "ExecuteTime": {
     "end_time": "2021-08-29T01:36:15.583658Z",
     "start_time": "2021-08-29T01:36:14.792549Z"
    }
   },
   "outputs": [
    {
     "data": {
      "text/html": [
       "<div>\n",
       "<style scoped>\n",
       "    .dataframe tbody tr th:only-of-type {\n",
       "        vertical-align: middle;\n",
       "    }\n",
       "\n",
       "    .dataframe tbody tr th {\n",
       "        vertical-align: top;\n",
       "    }\n",
       "\n",
       "    .dataframe thead th {\n",
       "        text-align: right;\n",
       "    }\n",
       "</style>\n",
       "<table border=\"1\" class=\"dataframe\">\n",
       "  <thead>\n",
       "    <tr style=\"text-align: right;\">\n",
       "      <th></th>\n",
       "      <th>freeze_thaw_cycle</th>\n",
       "      <th>snowfall_days</th>\n",
       "      <th>lanes_on_str</th>\n",
       "      <th>lanes_under_str</th>\n",
       "      <th>yr_avg_traffic</th>\n",
       "      <th>min_vertical_underclearance</th>\n",
       "      <th>min_lateral_underclearanceR</th>\n",
       "      <th>min_lateral_underclearanceL</th>\n",
       "      <th>num_spans</th>\n",
       "      <th>structure_length</th>\n",
       "      <th>...</th>\n",
       "      <th>construction_design_value_Orthotropic</th>\n",
       "      <th>construction_design_value_Other Main Design /Construction OR No Approach or Second Span Type</th>\n",
       "      <th>construction_design_value_Segmental Box Girder</th>\n",
       "      <th>construction_design_value_Slab</th>\n",
       "      <th>construction_design_value_Stayed Girder</th>\n",
       "      <th>construction_design_value_Stringer/Multi-beam or Girder</th>\n",
       "      <th>construction_design_value_Suspension</th>\n",
       "      <th>construction_design_value_Tee Beam</th>\n",
       "      <th>construction_design_value_Truss - Deck</th>\n",
       "      <th>construction_design_value_Truss - Thru</th>\n",
       "    </tr>\n",
       "  </thead>\n",
       "  <tbody>\n",
       "    <tr>\n",
       "      <th>4</th>\n",
       "      <td>14</td>\n",
       "      <td>0.0</td>\n",
       "      <td>2</td>\n",
       "      <td>0</td>\n",
       "      <td>2012.0</td>\n",
       "      <td>0.0</td>\n",
       "      <td>0.0</td>\n",
       "      <td>0.0</td>\n",
       "      <td>3</td>\n",
       "      <td>955.1</td>\n",
       "      <td>...</td>\n",
       "      <td>0</td>\n",
       "      <td>0</td>\n",
       "      <td>0</td>\n",
       "      <td>0</td>\n",
       "      <td>0</td>\n",
       "      <td>1</td>\n",
       "      <td>0</td>\n",
       "      <td>0</td>\n",
       "      <td>0</td>\n",
       "      <td>0</td>\n",
       "    </tr>\n",
       "    <tr>\n",
       "      <th>5</th>\n",
       "      <td>14</td>\n",
       "      <td>0.0</td>\n",
       "      <td>2</td>\n",
       "      <td>0</td>\n",
       "      <td>1990.0</td>\n",
       "      <td>0.0</td>\n",
       "      <td>0.0</td>\n",
       "      <td>0.0</td>\n",
       "      <td>3</td>\n",
       "      <td>52.5</td>\n",
       "      <td>...</td>\n",
       "      <td>0</td>\n",
       "      <td>0</td>\n",
       "      <td>0</td>\n",
       "      <td>0</td>\n",
       "      <td>0</td>\n",
       "      <td>0</td>\n",
       "      <td>0</td>\n",
       "      <td>0</td>\n",
       "      <td>0</td>\n",
       "      <td>0</td>\n",
       "    </tr>\n",
       "    <tr>\n",
       "      <th>6</th>\n",
       "      <td>14</td>\n",
       "      <td>0.0</td>\n",
       "      <td>2</td>\n",
       "      <td>0</td>\n",
       "      <td>2011.0</td>\n",
       "      <td>0.0</td>\n",
       "      <td>0.0</td>\n",
       "      <td>0.0</td>\n",
       "      <td>3</td>\n",
       "      <td>25.3</td>\n",
       "      <td>...</td>\n",
       "      <td>0</td>\n",
       "      <td>0</td>\n",
       "      <td>0</td>\n",
       "      <td>0</td>\n",
       "      <td>0</td>\n",
       "      <td>0</td>\n",
       "      <td>0</td>\n",
       "      <td>0</td>\n",
       "      <td>0</td>\n",
       "      <td>0</td>\n",
       "    </tr>\n",
       "    <tr>\n",
       "      <th>7</th>\n",
       "      <td>14</td>\n",
       "      <td>0.0</td>\n",
       "      <td>2</td>\n",
       "      <td>0</td>\n",
       "      <td>2011.0</td>\n",
       "      <td>0.0</td>\n",
       "      <td>0.0</td>\n",
       "      <td>0.0</td>\n",
       "      <td>3</td>\n",
       "      <td>399.0</td>\n",
       "      <td>...</td>\n",
       "      <td>0</td>\n",
       "      <td>0</td>\n",
       "      <td>0</td>\n",
       "      <td>0</td>\n",
       "      <td>0</td>\n",
       "      <td>0</td>\n",
       "      <td>0</td>\n",
       "      <td>1</td>\n",
       "      <td>0</td>\n",
       "      <td>0</td>\n",
       "    </tr>\n",
       "    <tr>\n",
       "      <th>8</th>\n",
       "      <td>14</td>\n",
       "      <td>0.0</td>\n",
       "      <td>2</td>\n",
       "      <td>0</td>\n",
       "      <td>1992.0</td>\n",
       "      <td>0.0</td>\n",
       "      <td>0.0</td>\n",
       "      <td>0.0</td>\n",
       "      <td>3</td>\n",
       "      <td>44.9</td>\n",
       "      <td>...</td>\n",
       "      <td>0</td>\n",
       "      <td>0</td>\n",
       "      <td>0</td>\n",
       "      <td>0</td>\n",
       "      <td>0</td>\n",
       "      <td>0</td>\n",
       "      <td>0</td>\n",
       "      <td>0</td>\n",
       "      <td>0</td>\n",
       "      <td>0</td>\n",
       "    </tr>\n",
       "  </tbody>\n",
       "</table>\n",
       "<p>5 rows × 118 columns</p>\n",
       "</div>"
      ],
      "text/plain": [
       "   freeze_thaw_cycle  snowfall_days  lanes_on_str  lanes_under_str  \\\n",
       "4                 14            0.0             2                0   \n",
       "5                 14            0.0             2                0   \n",
       "6                 14            0.0             2                0   \n",
       "7                 14            0.0             2                0   \n",
       "8                 14            0.0             2                0   \n",
       "\n",
       "   yr_avg_traffic  min_vertical_underclearance  min_lateral_underclearanceR  \\\n",
       "4          2012.0                          0.0                          0.0   \n",
       "5          1990.0                          0.0                          0.0   \n",
       "6          2011.0                          0.0                          0.0   \n",
       "7          2011.0                          0.0                          0.0   \n",
       "8          1992.0                          0.0                          0.0   \n",
       "\n",
       "   min_lateral_underclearanceL  num_spans  structure_length  ...  \\\n",
       "4                          0.0          3             955.1  ...   \n",
       "5                          0.0          3              52.5  ...   \n",
       "6                          0.0          3              25.3  ...   \n",
       "7                          0.0          3             399.0  ...   \n",
       "8                          0.0          3              44.9  ...   \n",
       "\n",
       "   construction_design_value_Orthotropic  \\\n",
       "4                                      0   \n",
       "5                                      0   \n",
       "6                                      0   \n",
       "7                                      0   \n",
       "8                                      0   \n",
       "\n",
       "   construction_design_value_Other Main Design /Construction OR No Approach or Second Span Type  \\\n",
       "4                                                  0                                              \n",
       "5                                                  0                                              \n",
       "6                                                  0                                              \n",
       "7                                                  0                                              \n",
       "8                                                  0                                              \n",
       "\n",
       "   construction_design_value_Segmental Box Girder  \\\n",
       "4                                               0   \n",
       "5                                               0   \n",
       "6                                               0   \n",
       "7                                               0   \n",
       "8                                               0   \n",
       "\n",
       "   construction_design_value_Slab  construction_design_value_Stayed Girder  \\\n",
       "4                               0                                        0   \n",
       "5                               0                                        0   \n",
       "6                               0                                        0   \n",
       "7                               0                                        0   \n",
       "8                               0                                        0   \n",
       "\n",
       "   construction_design_value_Stringer/Multi-beam or Girder  \\\n",
       "4                                                  1         \n",
       "5                                                  0         \n",
       "6                                                  0         \n",
       "7                                                  0         \n",
       "8                                                  0         \n",
       "\n",
       "   construction_design_value_Suspension  construction_design_value_Tee Beam  \\\n",
       "4                                     0                                   0   \n",
       "5                                     0                                   0   \n",
       "6                                     0                                   0   \n",
       "7                                     0                                   1   \n",
       "8                                     0                                   0   \n",
       "\n",
       "   construction_design_value_Truss - Deck  \\\n",
       "4                                       0   \n",
       "5                                       0   \n",
       "6                                       0   \n",
       "7                                       0   \n",
       "8                                       0   \n",
       "\n",
       "   construction_design_value_Truss - Thru  \n",
       "4                                       0  \n",
       "5                                       0  \n",
       "6                                       0  \n",
       "7                                       0  \n",
       "8                                       0  \n",
       "\n",
       "[5 rows x 118 columns]"
      ]
     },
     "execution_count": 74,
     "metadata": {},
     "output_type": "execute_result"
    }
   ],
   "source": [
    "df_dummies = pd.get_dummies(mod_df.drop(to_drop+target, axis=1))\n",
    "df_dummies.head()"
   ]
  },
  {
   "cell_type": "code",
   "execution_count": 75,
   "metadata": {
    "ExecuteTime": {
     "end_time": "2021-08-29T01:36:15.598706Z",
     "start_time": "2021-08-29T01:36:15.585658Z"
    }
   },
   "outputs": [
    {
     "data": {
      "text/plain": [
       "(592738, 118)"
      ]
     },
     "execution_count": 75,
     "metadata": {},
     "output_type": "execute_result"
    }
   ],
   "source": [
    "df_dummies.shape"
   ]
  },
  {
   "cell_type": "code",
   "execution_count": 76,
   "metadata": {
    "ExecuteTime": {
     "end_time": "2021-08-29T01:36:15.614661Z",
     "start_time": "2021-08-29T01:36:15.601660Z"
    }
   },
   "outputs": [],
   "source": [
    "df_dummies['bridge_condition'] = mod_df['bridge_condition']"
   ]
  },
  {
   "cell_type": "code",
   "execution_count": 77,
   "metadata": {
    "ExecuteTime": {
     "end_time": "2021-08-29T01:36:15.646669Z",
     "start_time": "2021-08-29T01:36:15.616660Z"
    }
   },
   "outputs": [
    {
     "data": {
      "text/html": [
       "<div>\n",
       "<style scoped>\n",
       "    .dataframe tbody tr th:only-of-type {\n",
       "        vertical-align: middle;\n",
       "    }\n",
       "\n",
       "    .dataframe tbody tr th {\n",
       "        vertical-align: top;\n",
       "    }\n",
       "\n",
       "    .dataframe thead th {\n",
       "        text-align: right;\n",
       "    }\n",
       "</style>\n",
       "<table border=\"1\" class=\"dataframe\">\n",
       "  <thead>\n",
       "    <tr style=\"text-align: right;\">\n",
       "      <th></th>\n",
       "      <th>freeze_thaw_cycle</th>\n",
       "      <th>snowfall_days</th>\n",
       "      <th>lanes_on_str</th>\n",
       "      <th>lanes_under_str</th>\n",
       "      <th>yr_avg_traffic</th>\n",
       "      <th>min_vertical_underclearance</th>\n",
       "      <th>min_lateral_underclearanceR</th>\n",
       "      <th>min_lateral_underclearanceL</th>\n",
       "      <th>num_spans</th>\n",
       "      <th>structure_length</th>\n",
       "      <th>...</th>\n",
       "      <th>construction_design_value_Other Main Design /Construction OR No Approach or Second Span Type</th>\n",
       "      <th>construction_design_value_Segmental Box Girder</th>\n",
       "      <th>construction_design_value_Slab</th>\n",
       "      <th>construction_design_value_Stayed Girder</th>\n",
       "      <th>construction_design_value_Stringer/Multi-beam or Girder</th>\n",
       "      <th>construction_design_value_Suspension</th>\n",
       "      <th>construction_design_value_Tee Beam</th>\n",
       "      <th>construction_design_value_Truss - Deck</th>\n",
       "      <th>construction_design_value_Truss - Thru</th>\n",
       "      <th>bridge_condition</th>\n",
       "    </tr>\n",
       "  </thead>\n",
       "  <tbody>\n",
       "    <tr>\n",
       "      <th>4</th>\n",
       "      <td>14</td>\n",
       "      <td>0.0</td>\n",
       "      <td>2</td>\n",
       "      <td>0</td>\n",
       "      <td>2012.0</td>\n",
       "      <td>0.0</td>\n",
       "      <td>0.0</td>\n",
       "      <td>0.0</td>\n",
       "      <td>3</td>\n",
       "      <td>955.1</td>\n",
       "      <td>...</td>\n",
       "      <td>0</td>\n",
       "      <td>0</td>\n",
       "      <td>0</td>\n",
       "      <td>0</td>\n",
       "      <td>1</td>\n",
       "      <td>0</td>\n",
       "      <td>0</td>\n",
       "      <td>0</td>\n",
       "      <td>0</td>\n",
       "      <td>Good</td>\n",
       "    </tr>\n",
       "    <tr>\n",
       "      <th>5</th>\n",
       "      <td>14</td>\n",
       "      <td>0.0</td>\n",
       "      <td>2</td>\n",
       "      <td>0</td>\n",
       "      <td>1990.0</td>\n",
       "      <td>0.0</td>\n",
       "      <td>0.0</td>\n",
       "      <td>0.0</td>\n",
       "      <td>3</td>\n",
       "      <td>52.5</td>\n",
       "      <td>...</td>\n",
       "      <td>0</td>\n",
       "      <td>0</td>\n",
       "      <td>0</td>\n",
       "      <td>0</td>\n",
       "      <td>0</td>\n",
       "      <td>0</td>\n",
       "      <td>0</td>\n",
       "      <td>0</td>\n",
       "      <td>0</td>\n",
       "      <td>Fair</td>\n",
       "    </tr>\n",
       "    <tr>\n",
       "      <th>6</th>\n",
       "      <td>14</td>\n",
       "      <td>0.0</td>\n",
       "      <td>2</td>\n",
       "      <td>0</td>\n",
       "      <td>2011.0</td>\n",
       "      <td>0.0</td>\n",
       "      <td>0.0</td>\n",
       "      <td>0.0</td>\n",
       "      <td>3</td>\n",
       "      <td>25.3</td>\n",
       "      <td>...</td>\n",
       "      <td>0</td>\n",
       "      <td>0</td>\n",
       "      <td>0</td>\n",
       "      <td>0</td>\n",
       "      <td>0</td>\n",
       "      <td>0</td>\n",
       "      <td>0</td>\n",
       "      <td>0</td>\n",
       "      <td>0</td>\n",
       "      <td>Good</td>\n",
       "    </tr>\n",
       "    <tr>\n",
       "      <th>7</th>\n",
       "      <td>14</td>\n",
       "      <td>0.0</td>\n",
       "      <td>2</td>\n",
       "      <td>0</td>\n",
       "      <td>2011.0</td>\n",
       "      <td>0.0</td>\n",
       "      <td>0.0</td>\n",
       "      <td>0.0</td>\n",
       "      <td>3</td>\n",
       "      <td>399.0</td>\n",
       "      <td>...</td>\n",
       "      <td>0</td>\n",
       "      <td>0</td>\n",
       "      <td>0</td>\n",
       "      <td>0</td>\n",
       "      <td>0</td>\n",
       "      <td>0</td>\n",
       "      <td>1</td>\n",
       "      <td>0</td>\n",
       "      <td>0</td>\n",
       "      <td>Fair</td>\n",
       "    </tr>\n",
       "    <tr>\n",
       "      <th>8</th>\n",
       "      <td>14</td>\n",
       "      <td>0.0</td>\n",
       "      <td>2</td>\n",
       "      <td>0</td>\n",
       "      <td>1992.0</td>\n",
       "      <td>0.0</td>\n",
       "      <td>0.0</td>\n",
       "      <td>0.0</td>\n",
       "      <td>3</td>\n",
       "      <td>44.9</td>\n",
       "      <td>...</td>\n",
       "      <td>0</td>\n",
       "      <td>0</td>\n",
       "      <td>0</td>\n",
       "      <td>0</td>\n",
       "      <td>0</td>\n",
       "      <td>0</td>\n",
       "      <td>0</td>\n",
       "      <td>0</td>\n",
       "      <td>0</td>\n",
       "      <td>Fair</td>\n",
       "    </tr>\n",
       "  </tbody>\n",
       "</table>\n",
       "<p>5 rows × 119 columns</p>\n",
       "</div>"
      ],
      "text/plain": [
       "   freeze_thaw_cycle  snowfall_days  lanes_on_str  lanes_under_str  \\\n",
       "4                 14            0.0             2                0   \n",
       "5                 14            0.0             2                0   \n",
       "6                 14            0.0             2                0   \n",
       "7                 14            0.0             2                0   \n",
       "8                 14            0.0             2                0   \n",
       "\n",
       "   yr_avg_traffic  min_vertical_underclearance  min_lateral_underclearanceR  \\\n",
       "4          2012.0                          0.0                          0.0   \n",
       "5          1990.0                          0.0                          0.0   \n",
       "6          2011.0                          0.0                          0.0   \n",
       "7          2011.0                          0.0                          0.0   \n",
       "8          1992.0                          0.0                          0.0   \n",
       "\n",
       "   min_lateral_underclearanceL  num_spans  structure_length  ...  \\\n",
       "4                          0.0          3             955.1  ...   \n",
       "5                          0.0          3              52.5  ...   \n",
       "6                          0.0          3              25.3  ...   \n",
       "7                          0.0          3             399.0  ...   \n",
       "8                          0.0          3              44.9  ...   \n",
       "\n",
       "   construction_design_value_Other Main Design /Construction OR No Approach or Second Span Type  \\\n",
       "4                                                  0                                              \n",
       "5                                                  0                                              \n",
       "6                                                  0                                              \n",
       "7                                                  0                                              \n",
       "8                                                  0                                              \n",
       "\n",
       "   construction_design_value_Segmental Box Girder  \\\n",
       "4                                               0   \n",
       "5                                               0   \n",
       "6                                               0   \n",
       "7                                               0   \n",
       "8                                               0   \n",
       "\n",
       "   construction_design_value_Slab  construction_design_value_Stayed Girder  \\\n",
       "4                               0                                        0   \n",
       "5                               0                                        0   \n",
       "6                               0                                        0   \n",
       "7                               0                                        0   \n",
       "8                               0                                        0   \n",
       "\n",
       "   construction_design_value_Stringer/Multi-beam or Girder  \\\n",
       "4                                                  1         \n",
       "5                                                  0         \n",
       "6                                                  0         \n",
       "7                                                  0         \n",
       "8                                                  0         \n",
       "\n",
       "   construction_design_value_Suspension  construction_design_value_Tee Beam  \\\n",
       "4                                     0                                   0   \n",
       "5                                     0                                   0   \n",
       "6                                     0                                   0   \n",
       "7                                     0                                   1   \n",
       "8                                     0                                   0   \n",
       "\n",
       "   construction_design_value_Truss - Deck  \\\n",
       "4                                       0   \n",
       "5                                       0   \n",
       "6                                       0   \n",
       "7                                       0   \n",
       "8                                       0   \n",
       "\n",
       "   construction_design_value_Truss - Thru  bridge_condition  \n",
       "4                                       0              Good  \n",
       "5                                       0              Fair  \n",
       "6                                       0              Good  \n",
       "7                                       0              Fair  \n",
       "8                                       0              Fair  \n",
       "\n",
       "[5 rows x 119 columns]"
      ]
     },
     "execution_count": 77,
     "metadata": {},
     "output_type": "execute_result"
    }
   ],
   "source": [
    "df_dummies.head()"
   ]
  },
  {
   "cell_type": "code",
   "execution_count": 78,
   "metadata": {
    "ExecuteTime": {
     "end_time": "2021-08-29T01:36:15.726700Z",
     "start_time": "2021-08-29T01:36:15.648659Z"
    }
   },
   "outputs": [
    {
     "data": {
      "text/plain": [
       "Fair    0.476145\n",
       "Good    0.451491\n",
       "Poor    0.072364\n",
       "Name: bridge_condition, dtype: float64"
      ]
     },
     "execution_count": 78,
     "metadata": {},
     "output_type": "execute_result"
    }
   ],
   "source": [
    "df_dummies.bridge_condition.value_counts(normalize=True)"
   ]
  },
  {
   "cell_type": "code",
   "execution_count": null,
   "metadata": {},
   "outputs": [],
   "source": [
    "mod_df.freeze_thaw_"
   ]
  },
  {
   "cell_type": "markdown",
   "metadata": {},
   "source": [
    "# Modeling"
   ]
  },
  {
   "cell_type": "code",
   "execution_count": null,
   "metadata": {},
   "outputs": [],
   "source": []
  },
  {
   "cell_type": "code",
   "execution_count": 79,
   "metadata": {
    "ExecuteTime": {
     "end_time": "2021-08-29T01:36:15.885732Z",
     "start_time": "2021-08-29T01:36:15.728660Z"
    }
   },
   "outputs": [],
   "source": [
    "# assign variables for features and target \n",
    "X = df_dummies.drop('bridge_condition', axis = 1)\n",
    "y = df_dummies['bridge_condition']"
   ]
  },
  {
   "cell_type": "code",
   "execution_count": 80,
   "metadata": {
    "ExecuteTime": {
     "end_time": "2021-08-29T01:36:16.876767Z",
     "start_time": "2021-08-29T01:36:15.887678Z"
    }
   },
   "outputs": [],
   "source": [
    "# split into test and train data sets\n",
    "X_train, X_test, y_train, y_test = train_test_split(X, y, test_size=0.25, \n",
    "                                                    stratify=df_dummies['bridge_condition'], random_state = 42)"
   ]
  },
  {
   "cell_type": "markdown",
   "metadata": {},
   "source": [
    "# KNN"
   ]
  },
  {
   "cell_type": "code",
   "execution_count": 82,
   "metadata": {
    "ExecuteTime": {
     "end_time": "2021-08-29T01:18:57.942856Z",
     "start_time": "2021-08-29T01:18:57.927078Z"
    }
   },
   "outputs": [],
   "source": [
    "from sklearn.metrics import precision_score, recall_score, accuracy_score, f1_score\n",
    "\n",
    "models = []\n",
    "def get_metrics(y_test, X_test, model):\n",
    "    labels = y_test.to_numpy()\n",
    "    preds = model.predict(X_test)\n",
    "    \n",
    "    metrics = {}\n",
    "    metrics['accuracy'] = accuracy_score(labels, preds)\n",
    "    metrics['f1'] = f1_score(labels, preds, average='macro')\n",
    "    metrics['precision'] = precision_score(labels, preds, average='macro')\n",
    "    metrics['recall'] = recall_score(labels, preds, average='macro')\n",
    "    \n",
    "    return metrics"
   ]
  },
  {
   "cell_type": "markdown",
   "metadata": {},
   "source": [
    "## Baseline model"
   ]
  },
  {
   "cell_type": "code",
   "execution_count": 83,
   "metadata": {
    "ExecuteTime": {
     "end_time": "2021-08-29T01:23:58.074970Z",
     "start_time": "2021-08-29T01:18:57.944795Z"
    }
   },
   "outputs": [],
   "source": [
    "from sklearn.neighbors import KNeighborsClassifier\n",
    "\n",
    "knn = KNeighborsClassifier()\n",
    "knn.fit(X_train, y_train);\n",
    "\n",
    "metrics = get_metrics(y_test, X_test, knn)\n",
    "metrics['name'] = 'K Nearest Neighbors Baseline'\n",
    "models.append(metrics)"
   ]
  },
  {
   "cell_type": "code",
   "execution_count": null,
   "metadata": {
    "ExecuteTime": {
     "start_time": "2021-08-29T01:17:48.742Z"
    }
   },
   "outputs": [],
   "source": [
    "print(classification_report(y_train, knn.predict(X_train)))"
   ]
  },
  {
   "cell_type": "code",
   "execution_count": null,
   "metadata": {
    "ExecuteTime": {
     "start_time": "2021-08-29T01:17:48.745Z"
    }
   },
   "outputs": [],
   "source": [
    "print(classification_report(y_test, knn.predict(X_test)))"
   ]
  },
  {
   "cell_type": "markdown",
   "metadata": {},
   "source": [
    "## Confusion matrix"
   ]
  },
  {
   "cell_type": "code",
   "execution_count": null,
   "metadata": {
    "ExecuteTime": {
     "start_time": "2021-08-29T01:17:48.749Z"
    },
    "scrolled": false
   },
   "outputs": [],
   "source": [
    "plt.figure(figsize=(6,5))\n",
    "plot_confusion_matrix(knn, X_test, y_test, values_format='d', cmap=plt.cm.Blues)\n",
    "plt.title('K Nearest Neighbors')\n",
    "plt.tight_layout()\n",
    "\n",
    "plt.show()"
   ]
  },
  {
   "cell_type": "markdown",
   "metadata": {},
   "source": [
    "## Standardization"
   ]
  },
  {
   "cell_type": "markdown",
   "metadata": {},
   "source": [
    "First scale the data. We scale the data after splitting the train and test data to avoid data leakage."
   ]
  },
  {
   "cell_type": "code",
   "execution_count": null,
   "metadata": {
    "ExecuteTime": {
     "start_time": "2021-08-29T01:17:48.753Z"
    }
   },
   "outputs": [],
   "source": [
    "# Import StandardScaler\n",
    "from sklearn.preprocessing import StandardScaler \n",
    "\n",
    "\n",
    "# Instantiate StandardScaler\n",
    "scaler = StandardScaler()\n",
    "\n",
    "# Transform the training and test sets\n",
    "scaled_data_train = scaler.fit_transform(X_train)\n",
    "scaled_data_test = scaler.transform(X_test)\n",
    "\n",
    "# Convert into a DataFrame\n",
    "scaled_df_train = pd.DataFrame(scaled_data_train, columns=X.columns)\n",
    "scaled_df_train.head()"
   ]
  },
  {
   "cell_type": "markdown",
   "metadata": {},
   "source": [
    "Now that you've preprocessed the data it's time to train a KNN classifier and validate its accuracy."
   ]
  },
  {
   "cell_type": "code",
   "execution_count": null,
   "metadata": {
    "ExecuteTime": {
     "start_time": "2021-08-29T01:17:48.757Z"
    }
   },
   "outputs": [],
   "source": [
    "# Import KNeighborsClassifier\n",
    "from sklearn.neighbors import KNeighborsClassifier\n",
    "\n",
    "# Instantiate KNeighborsClassifier\n",
    "knn = KNeighborsClassifier()\n",
    "# Fit the classifier\n",
    "knn.fit(scaled_data_train, y_train);\n",
    "\n",
    "\n",
    "# Predict on the test set\n",
    "\n",
    "metrics = get_metrics(y_test, scaled_data_test, knn)\n",
    "metrics['name'] = 'K Nearest Neighbors scaled'\n",
    "models.append(metrics)"
   ]
  },
  {
   "cell_type": "code",
   "execution_count": null,
   "metadata": {},
   "outputs": [],
   "source": []
  },
  {
   "cell_type": "code",
   "execution_count": null,
   "metadata": {},
   "outputs": [],
   "source": []
  },
  {
   "cell_type": "code",
   "execution_count": null,
   "metadata": {},
   "outputs": [],
   "source": []
  },
  {
   "cell_type": "markdown",
   "metadata": {},
   "source": [
    "## Grid search CV"
   ]
  },
  {
   "cell_type": "code",
   "execution_count": null,
   "metadata": {
    "ExecuteTime": {
     "start_time": "2021-08-29T01:17:48.764Z"
    }
   },
   "outputs": [],
   "source": [
    "from sklearn.model_selection import GridSearchCV"
   ]
  },
  {
   "cell_type": "code",
   "execution_count": null,
   "metadata": {
    "ExecuteTime": {
     "start_time": "2021-08-29T01:17:48.767Z"
    }
   },
   "outputs": [],
   "source": [
    "param_grid = {\n",
    "    'n_neighbors': [1, 5, 9], # default 5\n",
    "    'weights': ['uniform', 'distance'], # default 'uniform'\n",
    "    'leaf_size': [30, 40], # default 30\n",
    "    'p': [1, 2] # default 2\n",
    "}\n",
    "\n",
    "grid_search = GridSearchCV(knn, param_grid, cv=3, scoring='f1_macro')\n",
    "grid_search.fit(X_train, y_train)"
   ]
  },
  {
   "cell_type": "code",
   "execution_count": null,
   "metadata": {
    "ExecuteTime": {
     "start_time": "2021-08-29T01:17:48.770Z"
    }
   },
   "outputs": [],
   "source": [
    "grid_search.best_params_"
   ]
  },
  {
   "cell_type": "code",
   "execution_count": null,
   "metadata": {
    "ExecuteTime": {
     "start_time": "2021-08-29T01:17:48.773Z"
    }
   },
   "outputs": [],
   "source": [
    "knn_tuned = KNeighborsClassifier(n_neighbors=9, weights='distance', leaf_size=30, p=1)\n",
    "knn_tuned.fit(scaled_data_train, y_train)\n",
    "get_metrics(y_test, scaled_data_test, knn_tuned)\n",
    "metrics['name'] = 'K Nearest Neighbors tuned'\n",
    "models.append(metrics)"
   ]
  },
  {
   "cell_type": "code",
   "execution_count": null,
   "metadata": {
    "ExecuteTime": {
     "start_time": "2021-08-29T01:17:48.775Z"
    }
   },
   "outputs": [],
   "source": [
    "plt.figure(figsize=(6,5))\n",
    "plot_confusion_matrix(knn_tuned, scaled_data_test, y_test, values_format='d', cmap=plt.cm.Blues)\n",
    "plt.title('K Nearest Neighbors')\n",
    "plt.tight_layout()\n",
    "\n",
    "plt.show()"
   ]
  },
  {
   "cell_type": "markdown",
   "metadata": {},
   "source": [
    "## Smote"
   ]
  },
  {
   "cell_type": "code",
   "execution_count": null,
   "metadata": {
    "ExecuteTime": {
     "start_time": "2021-08-29T01:17:48.779Z"
    }
   },
   "outputs": [],
   "source": [
    "from imblearn.over_sampling import SMOTE"
   ]
  },
  {
   "cell_type": "code",
   "execution_count": null,
   "metadata": {
    "ExecuteTime": {
     "start_time": "2021-08-29T01:17:48.782Z"
    }
   },
   "outputs": [],
   "source": [
    "# Previous original class distribution\n",
    "print('Original class distribution: \\n')\n",
    "print(y.value_counts())\n",
    "smote = SMOTE(random_state=42)\n",
    "X_train_resampled, y_train_resampled = smote.fit_sample(X_train, y_train) \n",
    "# Preview synthetic sample class distribution\n",
    "print('-----------------------------------------')\n",
    "print('Synthetic sample class distribution: \\n')\n",
    "print(pd.Series(y_train_resampled).value_counts()) "
   ]
  },
  {
   "cell_type": "code",
   "execution_count": null,
   "metadata": {
    "ExecuteTime": {
     "start_time": "2021-08-29T01:17:48.784Z"
    }
   },
   "outputs": [],
   "source": [
    "knn_smote = KNeighborsClassifier(n_neighbors=9, weights='distance', \n",
    "                                 leaf_size=30, p=1)\n",
    "knn_smote.fit(X_train_resampled, y_train_resampled)\n",
    "get_metrics(y_test, X_test, knn_smote)\n",
    "metrics['name'] = 'K Nearest Neighbors smote'\n",
    "models.append(metrics)"
   ]
  },
  {
   "cell_type": "code",
   "execution_count": null,
   "metadata": {
    "ExecuteTime": {
     "start_time": "2021-08-29T01:17:48.787Z"
    }
   },
   "outputs": [],
   "source": [
    "print(classification_report(y_train_resampled, knn_smote.predict(X_train_resampled)))"
   ]
  },
  {
   "cell_type": "code",
   "execution_count": null,
   "metadata": {
    "ExecuteTime": {
     "start_time": "2021-08-29T01:17:48.790Z"
    },
    "scrolled": true
   },
   "outputs": [],
   "source": [
    "print(classification_report(y_test, knn_smote.predict(X_test)))"
   ]
  },
  {
   "cell_type": "markdown",
   "metadata": {},
   "source": [
    "## Confusion matrix"
   ]
  },
  {
   "cell_type": "code",
   "execution_count": null,
   "metadata": {
    "ExecuteTime": {
     "start_time": "2021-08-29T01:17:48.794Z"
    }
   },
   "outputs": [],
   "source": [
    "plot_confusion_matrix(knn_smote, X_test, y_test,\n",
    "                      values_format='d', cmap=plt.cm.Blues)\n",
    "                                      \n",
    "                     \n",
    "plt.title('K Nearest Neighbors smote')\n",
    "plt.tight_layout()\n",
    "\n",
    "plt.show()"
   ]
  },
  {
   "cell_type": "markdown",
   "metadata": {},
   "source": [
    "# Random Forest"
   ]
  },
  {
   "cell_type": "markdown",
   "metadata": {},
   "source": [
    "## Baseline model"
   ]
  },
  {
   "cell_type": "code",
   "execution_count": null,
   "metadata": {
    "ExecuteTime": {
     "start_time": "2021-08-29T01:17:48.798Z"
    }
   },
   "outputs": [],
   "source": [
    "from sklearn.ensemble import RandomForestClassifier\n",
    "\n",
    "forest = RandomForestClassifier(random_state=12)\n",
    "forest.fit(X_train, y_train);\n",
    "\n",
    "metrics = get_metrics(y_test, X_test, forest)\n",
    "metrics['name'] = 'Random Forest Baseline'\n",
    "models.append(metrics)"
   ]
  },
  {
   "cell_type": "code",
   "execution_count": null,
   "metadata": {
    "ExecuteTime": {
     "start_time": "2021-08-29T01:17:48.801Z"
    }
   },
   "outputs": [],
   "source": [
    "from sklearn.metrics import confusion_matrix\n",
    "confusion_matrix(y_test,forest.predict(X_test))"
   ]
  },
  {
   "cell_type": "code",
   "execution_count": null,
   "metadata": {
    "ExecuteTime": {
     "start_time": "2021-08-29T01:17:48.804Z"
    }
   },
   "outputs": [],
   "source": [
    "print(classification_report(y_train, forest.predict(X_train)))"
   ]
  },
  {
   "cell_type": "code",
   "execution_count": null,
   "metadata": {
    "ExecuteTime": {
     "start_time": "2021-08-29T01:17:48.807Z"
    }
   },
   "outputs": [],
   "source": [
    "print(classification_report(y_test, forest.predict(X_test)))"
   ]
  },
  {
   "cell_type": "markdown",
   "metadata": {},
   "source": [
    "## Confusion Matrix"
   ]
  },
  {
   "cell_type": "code",
   "execution_count": null,
   "metadata": {
    "ExecuteTime": {
     "start_time": "2021-08-29T01:17:48.810Z"
    }
   },
   "outputs": [],
   "source": [
    "plot_confusion_matrix(forest, X_test, y_test,\n",
    "                      values_format='d', cmap=plt.cm.Blues)\n",
    "\n",
    "plt.title('Random forest Baseline')\n",
    "plt.tight_layout()\n",
    "\n",
    "plt.show()"
   ]
  },
  {
   "cell_type": "markdown",
   "metadata": {},
   "source": [
    "## Grid search"
   ]
  },
  {
   "cell_type": "code",
   "execution_count": null,
   "metadata": {
    "ExecuteTime": {
     "start_time": "2021-08-29T01:17:48.814Z"
    }
   },
   "outputs": [],
   "source": [
    "param_grid = {\n",
    "    'n_estimators': [100, 200], # default 100 #boosting stages\n",
    "    'max_depth': [30, 35, 40], # default None\n",
    "    'max_features': [50, 60], # default 'auto': auto=sqrt(# of features)=11, None=# of features=122\n",
    "#     'min_samples_split' : [20,30,40],\n",
    "#     'min_samples_leaf'  : [5, 10, 15]\n",
    "    # default 'auto': auto=sqrt(# of features)=11, None=# of features=122\n",
    "}\n",
    "forest = RandomForestClassifier()\n",
    "grid_search = GridSearchCV(forest, param_grid, cv=3, scoring='f1_macro')\n",
    "grid_search.fit(X_train, y_train)"
   ]
  },
  {
   "cell_type": "code",
   "execution_count": null,
   "metadata": {
    "ExecuteTime": {
     "start_time": "2021-08-29T01:17:48.817Z"
    }
   },
   "outputs": [],
   "source": [
    "grid_search.best_params_"
   ]
  },
  {
   "cell_type": "code",
   "execution_count": null,
   "metadata": {
    "ExecuteTime": {
     "start_time": "2021-08-29T01:17:48.820Z"
    }
   },
   "outputs": [],
   "source": [
    "forest_tuned = RandomForestClassifier(n_estimators=200, max_depth=40,\n",
    "                                      max_features=60, min_samples_leaf=35, \n",
    "                                      min_samples_split=70)\n",
    "forest_tuned.fit(X_train, y_train)\n",
    "get_metrics(y_test, X_test, forest_tuned)\n",
    "metrics['name'] = 'Random Forest tuned'\n",
    "models.append(metrics)"
   ]
  },
  {
   "cell_type": "code",
   "execution_count": null,
   "metadata": {
    "ExecuteTime": {
     "start_time": "2021-08-29T01:17:48.823Z"
    }
   },
   "outputs": [],
   "source": [
    "print(classification_report(y_test, forest_tuned.predict(X_test)))"
   ]
  },
  {
   "cell_type": "markdown",
   "metadata": {},
   "source": [
    "## Smote"
   ]
  },
  {
   "cell_type": "code",
   "execution_count": null,
   "metadata": {
    "ExecuteTime": {
     "start_time": "2021-08-29T01:17:48.826Z"
    }
   },
   "outputs": [],
   "source": [
    "forest_smote = RandomForestClassifier(n_estimators=200, max_depth=40,\n",
    "                                      max_features=40, min_samples_leaf=35, \n",
    "                                      min_samples_split=70)\n",
    "forest_smote.fit(X_train_resampled, y_train_resampled)\n",
    "get_metrics(y_test, scaled_data_test, forest_smote)\n",
    "metrics['name'] = 'Random Forest smote'\n",
    "models.append(metrics)"
   ]
  },
  {
   "cell_type": "code",
   "execution_count": null,
   "metadata": {
    "ExecuteTime": {
     "start_time": "2021-08-29T01:17:48.829Z"
    }
   },
   "outputs": [],
   "source": [
    "print(classification_report(y_test, forest_smote.predict(scaled_data_test)))"
   ]
  },
  {
   "cell_type": "code",
   "execution_count": null,
   "metadata": {},
   "outputs": [],
   "source": []
  },
  {
   "cell_type": "code",
   "execution_count": null,
   "metadata": {},
   "outputs": [],
   "source": []
  },
  {
   "cell_type": "code",
   "execution_count": null,
   "metadata": {},
   "outputs": [],
   "source": []
  },
  {
   "cell_type": "markdown",
   "metadata": {},
   "source": [
    "## Feature importance"
   ]
  },
  {
   "cell_type": "code",
   "execution_count": null,
   "metadata": {
    "ExecuteTime": {
     "start_time": "2021-08-29T01:17:48.838Z"
    }
   },
   "outputs": [],
   "source": [
    "# Plot the feature importance of each feature\n",
    "features = X_train.shape[1]\n",
    "plt.figure(figsize=(20,20))\n",
    "plt.barh(range(features), forest_tuned.feature_importances_, align='center')\n",
    "plt.yticks(np.arange(features), X_train.columns.values)\n",
    "plt.title('Feature Importance', fontsize=20)\n",
    "plt.xlabel('Feature importance')\n",
    "plt.ylabel('Features')"
   ]
  },
  {
   "cell_type": "markdown",
   "metadata": {},
   "source": [
    "# XGBoost"
   ]
  },
  {
   "cell_type": "markdown",
   "metadata": {},
   "source": [
    "## Baseline model"
   ]
  },
  {
   "cell_type": "code",
   "execution_count": null,
   "metadata": {
    "ExecuteTime": {
     "start_time": "2021-08-29T01:17:48.842Z"
    }
   },
   "outputs": [],
   "source": [
    "from sklearn.ensemble import GradientBoostingClassifier\n",
    "\n",
    "# Instantiate XGBClassifier and fit classifier\n",
    "xgb = XGBClassifier(random_state=12)\n",
    "xgb.fit(X_train, y_train);\n",
    "\n",
    "metrics = get_metrics(y_test, X_test, xgb)\n",
    "# metrics['name'] = 'XG Boost Baseline'\n",
    "# models.append(metrics)"
   ]
  },
  {
   "cell_type": "code",
   "execution_count": null,
   "metadata": {
    "ExecuteTime": {
     "start_time": "2021-08-29T01:17:48.845Z"
    }
   },
   "outputs": [],
   "source": [
    "print(classification_report(y_train, xgb.predict(X_train)))"
   ]
  },
  {
   "cell_type": "code",
   "execution_count": null,
   "metadata": {
    "ExecuteTime": {
     "start_time": "2021-08-29T01:17:48.848Z"
    }
   },
   "outputs": [],
   "source": [
    "print(classification_report(y_test, xgb.predict(X_test)))"
   ]
  },
  {
   "cell_type": "markdown",
   "metadata": {},
   "source": [
    "## Confusion matrix"
   ]
  },
  {
   "cell_type": "code",
   "execution_count": null,
   "metadata": {
    "ExecuteTime": {
     "start_time": "2021-08-29T01:17:48.851Z"
    }
   },
   "outputs": [],
   "source": [
    "plot_confusion_matrix(xgb, X_test, y_test, \n",
    "                     values_format='d', \n",
    "                      cmap=plt.cm.Blues)\n",
    "plt.title('XGBoost')\n",
    "plt.tight_layout()\n",
    "\n",
    "plt.show()"
   ]
  },
  {
   "cell_type": "code",
   "execution_count": null,
   "metadata": {
    "ExecuteTime": {
     "start_time": "2021-08-29T01:17:48.854Z"
    }
   },
   "outputs": [],
   "source": [
    "param_grid = {\n",
    "    'learning_rate': [0.05, 0.1],\n",
    "    'max_depth': [6, 8, 10],\n",
    "    'subsample': [0.5, 0.7],\n",
    "    'n_estimators': [100, 150, 200],\n",
    "}\n",
    "xgb = XGBClassifier()\n",
    "grid_search = GridSearchCV(xgb, param_grid, cv=None, scoring='f1_macro', n_jobs=1)\n",
    "grid_search.fit(scaled_data_train, y_train)"
   ]
  },
  {
   "cell_type": "markdown",
   "metadata": {
    "ExecuteTime": {
     "end_time": "2021-08-20T02:26:09.474525Z",
     "start_time": "2021-08-20T02:25:56.342088Z"
    }
   },
   "source": [
    "# Neural Network"
   ]
  },
  {
   "cell_type": "code",
   "execution_count": null,
   "metadata": {
    "ExecuteTime": {
     "start_time": "2021-08-29T01:17:48.857Z"
    }
   },
   "outputs": [],
   "source": [
    "# Multiclass Classification with the Iris Flowers Dataset\n",
    "# Import libraries\n",
    "import numpy\n",
    "import pandas\n",
    "from keras.models import Sequential\n",
    "from keras.layers import Dense\n",
    "from keras.wrappers.scikit_learn import KerasClassifier\n",
    "from keras.utils import np_utils\n",
    "from sklearn.model_selection import cross_val_score\n",
    "from sklearn.model_selection import KFold\n",
    "from sklearn.preprocessing import LabelEncoder\n",
    "from sklearn.pipeline import Pipeline\n",
    "# fix random seed for reproducibility\n",
    "\n",
    "\n",
    "\n",
    "seed = 7\n",
    "numpy.random.seed(seed)\n",
    "\n",
    "# load dataset\n",
    "\n",
    "# dataset = df_dummies.values\n",
    "# X = dataset[:,0:4].astype('float ')\n",
    "# Y = dataset[:,4]\n",
    "\n",
    "# encode class values as integers\n",
    "encoder = LabelEncoder()\n",
    "encoder.fit(y)\n",
    "encoded_Y = encoder.transform(y)\n",
    "# convert integers to dummy variables (i . e. one hot encoded)\n",
    "dummy_y = np_utils.to_categorical(encoded_Y)\n",
    "\n",
    "\n",
    "#init = 'normal'\n",
    "\n",
    "# define baseline model\n",
    "def baseline_model():\n",
    "    # create model\n",
    "    model = Sequential()\n",
    "    model.add(Dense(10, input_dim=65, activation= 'relu'))\n",
    "    model.add(Dense(3, activation= 'sigmoid'))\n",
    "    # Compile model\n",
    "    model.compile(loss='categorical_crossentropy', optimizer='adam', metrics=['accuracy', f1_score, precision, recall])\n",
    "    return model\n",
    "\n",
    "estimator = KerasClassifier(build_fn=baseline_model, nb_epoch=500, batch_size=5, verbose=0)\n",
    "kfold = KFold(n_splits=10, shuffle=True, random_state=seed)\n",
    "results = cross_val_score(estimator, X, dummy_y, cv=kfold)\n",
    "# print (\" F1-score : %.2f %% (%.2f %%) \" % (results.mean()*100, results.std()*100))\n",
    "\n",
    "#Confusion matrix"
   ]
  },
  {
   "cell_type": "code",
   "execution_count": null,
   "metadata": {},
   "outputs": [],
   "source": []
  }
 ],
 "metadata": {
  "kernelspec": {
   "display_name": "Python 3",
   "language": "python",
   "name": "python3"
  },
  "language_info": {
   "codemirror_mode": {
    "name": "ipython",
    "version": 3
   },
   "file_extension": ".py",
   "mimetype": "text/x-python",
   "name": "python",
   "nbconvert_exporter": "python",
   "pygments_lexer": "ipython3",
   "version": "3.8.5"
  },
  "toc": {
   "base_numbering": 1,
   "nav_menu": {},
   "number_sections": true,
   "sideBar": true,
   "skip_h1_title": false,
   "title_cell": "Table of Contents",
   "title_sidebar": "Contents",
   "toc_cell": false,
   "toc_position": {
    "height": "calc(100% - 180px)",
    "left": "10px",
    "top": "150px",
    "width": "199.825px"
   },
   "toc_section_display": true,
   "toc_window_display": true
  },
  "varInspector": {
   "cols": {
    "lenName": 16,
    "lenType": 16,
    "lenVar": 40
   },
   "kernels_config": {
    "python": {
     "delete_cmd_postfix": "",
     "delete_cmd_prefix": "del ",
     "library": "var_list.py",
     "varRefreshCmd": "print(var_dic_list())"
    },
    "r": {
     "delete_cmd_postfix": ") ",
     "delete_cmd_prefix": "rm(",
     "library": "var_list.r",
     "varRefreshCmd": "cat(var_dic_list()) "
    }
   },
   "types_to_exclude": [
    "module",
    "function",
    "builtin_function_or_method",
    "instance",
    "_Feature"
   ],
   "window_display": false
  }
 },
 "nbformat": 4,
 "nbformat_minor": 4
}
