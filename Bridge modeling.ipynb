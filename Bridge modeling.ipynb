{
 "cells": [
  {
   "cell_type": "markdown",
   "metadata": {},
   "source": [
    "# Modeling"
   ]
  },
  {
   "cell_type": "code",
   "execution_count": null,
   "metadata": {},
   "outputs": [],
   "source": []
  },
  {
   "cell_type": "code",
   "execution_count": null,
   "metadata": {},
   "outputs": [],
   "source": []
  },
  {
   "cell_type": "code",
   "execution_count": null,
   "metadata": {},
   "outputs": [],
   "source": []
  },
  {
   "cell_type": "code",
   "execution_count": null,
   "metadata": {},
   "outputs": [],
   "source": []
  },
  {
   "cell_type": "code",
   "execution_count": null,
   "metadata": {},
   "outputs": [],
   "source": []
  },
  {
   "cell_type": "code",
   "execution_count": 154,
   "metadata": {
    "ExecuteTime": {
     "end_time": "2021-08-30T18:55:53.897211Z",
     "start_time": "2021-08-30T18:55:53.884685Z"
    }
   },
   "outputs": [],
   "source": [
    "#import necessary libraries\n",
    "\n",
    "import pandas as pd\n",
    "import numpy as np\n",
    "import seaborn as sns\n",
    "import matplotlib.pyplot as plt\n",
    "\n",
    "import pandas as pd\n",
    "pd.options.mode.chained_assignment = None  # default='warn'\n",
    "\n",
    "from sklearn.model_selection import train_test_split, cross_val_score\n",
    "\n",
    "from sklearn.metrics import confusion_matrix, classification_report\n",
    "import warnings\n",
    "warnings.simplefilter(action='ignore', category=FutureWarning)\n",
    "# sns.set_style('whitegrid')\n",
    "\n",
    "from sklearn.metrics import plot_confusion_matrix\n",
    "\n",
    "from xgboost import XGBClassifier"
   ]
  },
  {
   "cell_type": "code",
   "execution_count": null,
   "metadata": {},
   "outputs": [],
   "source": []
  },
  {
   "cell_type": "markdown",
   "metadata": {
    "ExecuteTime": {
     "end_time": "2021-08-23T17:48:31.624510Z",
     "start_time": "2021-08-23T17:48:30.526151Z"
    }
   },
   "source": [
    "## Read CSV file"
   ]
  },
  {
   "cell_type": "code",
   "execution_count": 155,
   "metadata": {
    "ExecuteTime": {
     "end_time": "2021-08-30T18:56:00.243728Z",
     "start_time": "2021-08-30T18:55:58.216470Z"
    }
   },
   "outputs": [
    {
     "data": {
      "text/html": [
       "<div>\n",
       "<style scoped>\n",
       "    .dataframe tbody tr th:only-of-type {\n",
       "        vertical-align: middle;\n",
       "    }\n",
       "\n",
       "    .dataframe tbody tr th {\n",
       "        vertical-align: top;\n",
       "    }\n",
       "\n",
       "    .dataframe thead th {\n",
       "        text-align: right;\n",
       "    }\n",
       "</style>\n",
       "<table border=\"1\" class=\"dataframe\">\n",
       "  <thead>\n",
       "    <tr style=\"text-align: right;\">\n",
       "      <th></th>\n",
       "      <th>state</th>\n",
       "      <th>str_id</th>\n",
       "      <th>deck_type</th>\n",
       "      <th>wearing_type</th>\n",
       "      <th>membrane_type</th>\n",
       "      <th>deck_protection</th>\n",
       "      <th>toll</th>\n",
       "      <th>freeze_thaw_cycle</th>\n",
       "      <th>snowfall_days</th>\n",
       "      <th>inventory_class_route</th>\n",
       "      <th>...</th>\n",
       "      <th>yr_reconst</th>\n",
       "      <th>skew</th>\n",
       "      <th>max_span</th>\n",
       "      <th>bridge_width</th>\n",
       "      <th>deck_width</th>\n",
       "      <th>super_st_condition</th>\n",
       "      <th>sub_st_condition</th>\n",
       "      <th>deck_condition</th>\n",
       "      <th>avg_daily_trfic</th>\n",
       "      <th>avg_truck_trfc</th>\n",
       "    </tr>\n",
       "  </thead>\n",
       "  <tbody>\n",
       "    <tr>\n",
       "      <th>0</th>\n",
       "      <td>Alabama</td>\n",
       "      <td>021480</td>\n",
       "      <td>1</td>\n",
       "      <td>0</td>\n",
       "      <td>0</td>\n",
       "      <td>0</td>\n",
       "      <td>3.0</td>\n",
       "      <td>14</td>\n",
       "      <td>0.0</td>\n",
       "      <td>2.0</td>\n",
       "      <td>...</td>\n",
       "      <td>0</td>\n",
       "      <td>23.0</td>\n",
       "      <td>274.9</td>\n",
       "      <td>38.1</td>\n",
       "      <td>41.0</td>\n",
       "      <td>7.0</td>\n",
       "      <td>7.0</td>\n",
       "      <td>7.0</td>\n",
       "      <td>4940</td>\n",
       "      <td>35</td>\n",
       "    </tr>\n",
       "    <tr>\n",
       "      <th>1</th>\n",
       "      <td>Alabama</td>\n",
       "      <td>009763</td>\n",
       "      <td>N</td>\n",
       "      <td>6</td>\n",
       "      <td>0</td>\n",
       "      <td>0</td>\n",
       "      <td>3.0</td>\n",
       "      <td>14</td>\n",
       "      <td>0.0</td>\n",
       "      <td>7.0</td>\n",
       "      <td>...</td>\n",
       "      <td>0</td>\n",
       "      <td>45.0</td>\n",
       "      <td>12.1</td>\n",
       "      <td>0.0</td>\n",
       "      <td>0.0</td>\n",
       "      <td>NaN</td>\n",
       "      <td>NaN</td>\n",
       "      <td>NaN</td>\n",
       "      <td>280</td>\n",
       "      <td>7</td>\n",
       "    </tr>\n",
       "    <tr>\n",
       "      <th>2</th>\n",
       "      <td>Alabama</td>\n",
       "      <td>003324</td>\n",
       "      <td>N</td>\n",
       "      <td>N</td>\n",
       "      <td>N</td>\n",
       "      <td>N</td>\n",
       "      <td>3.0</td>\n",
       "      <td>14</td>\n",
       "      <td>0.0</td>\n",
       "      <td>6.0</td>\n",
       "      <td>...</td>\n",
       "      <td>2009</td>\n",
       "      <td>0.0</td>\n",
       "      <td>7.9</td>\n",
       "      <td>0.0</td>\n",
       "      <td>0.0</td>\n",
       "      <td>NaN</td>\n",
       "      <td>NaN</td>\n",
       "      <td>NaN</td>\n",
       "      <td>420</td>\n",
       "      <td>7</td>\n",
       "    </tr>\n",
       "    <tr>\n",
       "      <th>3</th>\n",
       "      <td>Alabama</td>\n",
       "      <td>006369</td>\n",
       "      <td>1</td>\n",
       "      <td>0</td>\n",
       "      <td>0</td>\n",
       "      <td>0</td>\n",
       "      <td>3.0</td>\n",
       "      <td>14</td>\n",
       "      <td>0.0</td>\n",
       "      <td>6.0</td>\n",
       "      <td>...</td>\n",
       "      <td>0</td>\n",
       "      <td>0.0</td>\n",
       "      <td>60.0</td>\n",
       "      <td>23.6</td>\n",
       "      <td>27.6</td>\n",
       "      <td>7.0</td>\n",
       "      <td>7.0</td>\n",
       "      <td>6.0</td>\n",
       "      <td>420</td>\n",
       "      <td>7</td>\n",
       "    </tr>\n",
       "    <tr>\n",
       "      <th>4</th>\n",
       "      <td>Alabama</td>\n",
       "      <td>015078</td>\n",
       "      <td>2</td>\n",
       "      <td>0</td>\n",
       "      <td>0</td>\n",
       "      <td>0</td>\n",
       "      <td>3.0</td>\n",
       "      <td>14</td>\n",
       "      <td>0.0</td>\n",
       "      <td>8.0</td>\n",
       "      <td>...</td>\n",
       "      <td>0</td>\n",
       "      <td>0.0</td>\n",
       "      <td>15.1</td>\n",
       "      <td>23.6</td>\n",
       "      <td>24.9</td>\n",
       "      <td>5.0</td>\n",
       "      <td>6.0</td>\n",
       "      <td>5.0</td>\n",
       "      <td>70</td>\n",
       "      <td>0</td>\n",
       "    </tr>\n",
       "  </tbody>\n",
       "</table>\n",
       "<p>5 rows × 38 columns</p>\n",
       "</div>"
      ],
      "text/plain": [
       "       state           str_id deck_type wearing_type membrane_type  \\\n",
       "0    Alabama  021480                  1            0             0   \n",
       "1    Alabama  009763                  N            6             0   \n",
       "2    Alabama  003324                  N            N             N   \n",
       "3    Alabama  006369                  1            0             0   \n",
       "4    Alabama  015078                  2            0             0   \n",
       "\n",
       "  deck_protection  toll  freeze_thaw_cycle  snowfall_days  \\\n",
       "0               0   3.0                 14            0.0   \n",
       "1               0   3.0                 14            0.0   \n",
       "2               N   3.0                 14            0.0   \n",
       "3               0   3.0                 14            0.0   \n",
       "4               0   3.0                 14            0.0   \n",
       "\n",
       "   inventory_class_route  ...  yr_reconst  skew  max_span  bridge_width  \\\n",
       "0                    2.0  ...           0  23.0     274.9          38.1   \n",
       "1                    7.0  ...           0  45.0      12.1           0.0   \n",
       "2                    6.0  ...        2009   0.0       7.9           0.0   \n",
       "3                    6.0  ...           0   0.0      60.0          23.6   \n",
       "4                    8.0  ...           0   0.0      15.1          23.6   \n",
       "\n",
       "   deck_width  super_st_condition  sub_st_condition  deck_condition  \\\n",
       "0        41.0                 7.0               7.0             7.0   \n",
       "1         0.0                 NaN               NaN             NaN   \n",
       "2         0.0                 NaN               NaN             NaN   \n",
       "3        27.6                 7.0               7.0             6.0   \n",
       "4        24.9                 5.0               6.0             5.0   \n",
       "\n",
       "   avg_daily_trfic avg_truck_trfc  \n",
       "0             4940             35  \n",
       "1              280              7  \n",
       "2              420              7  \n",
       "3              420              7  \n",
       "4               70              0  \n",
       "\n",
       "[5 rows x 38 columns]"
      ]
     },
     "execution_count": 155,
     "metadata": {},
     "output_type": "execute_result"
    }
   ],
   "source": [
    "df1 = pd.read_csv('bridge_data_cleaned1')\n",
    "df1.head()"
   ]
  },
  {
   "cell_type": "code",
   "execution_count": 156,
   "metadata": {
    "ExecuteTime": {
     "end_time": "2021-08-30T18:56:02.176941Z",
     "start_time": "2021-08-30T18:56:00.248228Z"
    }
   },
   "outputs": [
    {
     "data": {
      "text/html": [
       "<div>\n",
       "<style scoped>\n",
       "    .dataframe tbody tr th:only-of-type {\n",
       "        vertical-align: middle;\n",
       "    }\n",
       "\n",
       "    .dataframe tbody tr th {\n",
       "        vertical-align: top;\n",
       "    }\n",
       "\n",
       "    .dataframe thead th {\n",
       "        text-align: right;\n",
       "    }\n",
       "</style>\n",
       "<table border=\"1\" class=\"dataframe\">\n",
       "  <thead>\n",
       "    <tr style=\"text-align: right;\">\n",
       "      <th></th>\n",
       "      <th>state</th>\n",
       "      <th>str_id</th>\n",
       "      <th>deck_type</th>\n",
       "      <th>wearing_type</th>\n",
       "      <th>membrane_type</th>\n",
       "      <th>deck_protection</th>\n",
       "      <th>toll</th>\n",
       "      <th>freeze_thaw_cycle</th>\n",
       "      <th>snowfall_days</th>\n",
       "      <th>inventory_class_route</th>\n",
       "      <th>...</th>\n",
       "      <th>yr_reconst</th>\n",
       "      <th>skew</th>\n",
       "      <th>max_span</th>\n",
       "      <th>bridge_width</th>\n",
       "      <th>deck_width</th>\n",
       "      <th>super_st_condition</th>\n",
       "      <th>sub_st_condition</th>\n",
       "      <th>deck_condition</th>\n",
       "      <th>avg_daily_trfic</th>\n",
       "      <th>avg_truck_trfc</th>\n",
       "    </tr>\n",
       "  </thead>\n",
       "  <tbody>\n",
       "    <tr>\n",
       "      <th>0</th>\n",
       "      <td>Minnesota</td>\n",
       "      <td>L9347</td>\n",
       "      <td>8</td>\n",
       "      <td>8</td>\n",
       "      <td>0</td>\n",
       "      <td>N</td>\n",
       "      <td>3</td>\n",
       "      <td>114</td>\n",
       "      <td>83.0</td>\n",
       "      <td>9</td>\n",
       "      <td>...</td>\n",
       "      <td>0</td>\n",
       "      <td>0.0</td>\n",
       "      <td>32.2</td>\n",
       "      <td>24.0</td>\n",
       "      <td>25.9</td>\n",
       "      <td>5.0</td>\n",
       "      <td>5.0</td>\n",
       "      <td>7.0</td>\n",
       "      <td>40</td>\n",
       "      <td>15</td>\n",
       "    </tr>\n",
       "    <tr>\n",
       "      <th>1</th>\n",
       "      <td>Minnesota</td>\n",
       "      <td>L9903</td>\n",
       "      <td>N</td>\n",
       "      <td>N</td>\n",
       "      <td>N</td>\n",
       "      <td>N</td>\n",
       "      <td>3</td>\n",
       "      <td>112</td>\n",
       "      <td>83.0</td>\n",
       "      <td>9</td>\n",
       "      <td>...</td>\n",
       "      <td>0</td>\n",
       "      <td>0.0</td>\n",
       "      <td>11.5</td>\n",
       "      <td>0.0</td>\n",
       "      <td>0.0</td>\n",
       "      <td>NaN</td>\n",
       "      <td>NaN</td>\n",
       "      <td>NaN</td>\n",
       "      <td>28</td>\n",
       "      <td>4</td>\n",
       "    </tr>\n",
       "    <tr>\n",
       "      <th>2</th>\n",
       "      <td>Minnesota</td>\n",
       "      <td>96781</td>\n",
       "      <td>N</td>\n",
       "      <td>N</td>\n",
       "      <td>N</td>\n",
       "      <td>N</td>\n",
       "      <td>3</td>\n",
       "      <td>96</td>\n",
       "      <td>111.0</td>\n",
       "      <td>7</td>\n",
       "      <td>...</td>\n",
       "      <td>0</td>\n",
       "      <td>30.0</td>\n",
       "      <td>11.8</td>\n",
       "      <td>0.0</td>\n",
       "      <td>0.0</td>\n",
       "      <td>NaN</td>\n",
       "      <td>NaN</td>\n",
       "      <td>NaN</td>\n",
       "      <td>450</td>\n",
       "      <td>4</td>\n",
       "    </tr>\n",
       "    <tr>\n",
       "      <th>3</th>\n",
       "      <td>Minnesota</td>\n",
       "      <td>34J05</td>\n",
       "      <td>N</td>\n",
       "      <td>N</td>\n",
       "      <td>N</td>\n",
       "      <td>N</td>\n",
       "      <td>3</td>\n",
       "      <td>111</td>\n",
       "      <td>89.0</td>\n",
       "      <td>9</td>\n",
       "      <td>...</td>\n",
       "      <td>0</td>\n",
       "      <td>4.0</td>\n",
       "      <td>12.1</td>\n",
       "      <td>0.0</td>\n",
       "      <td>0.0</td>\n",
       "      <td>NaN</td>\n",
       "      <td>NaN</td>\n",
       "      <td>NaN</td>\n",
       "      <td>48</td>\n",
       "      <td>10</td>\n",
       "    </tr>\n",
       "    <tr>\n",
       "      <th>4</th>\n",
       "      <td>Minnesota</td>\n",
       "      <td>17508</td>\n",
       "      <td>8</td>\n",
       "      <td>6</td>\n",
       "      <td>0</td>\n",
       "      <td>N</td>\n",
       "      <td>3</td>\n",
       "      <td>112</td>\n",
       "      <td>83.0</td>\n",
       "      <td>9</td>\n",
       "      <td>...</td>\n",
       "      <td>0</td>\n",
       "      <td>0.0</td>\n",
       "      <td>44.9</td>\n",
       "      <td>20.3</td>\n",
       "      <td>21.7</td>\n",
       "      <td>8.0</td>\n",
       "      <td>7.0</td>\n",
       "      <td>7.0</td>\n",
       "      <td>20</td>\n",
       "      <td>3</td>\n",
       "    </tr>\n",
       "  </tbody>\n",
       "</table>\n",
       "<p>5 rows × 38 columns</p>\n",
       "</div>"
      ],
      "text/plain": [
       "         state           str_id deck_type wearing_type membrane_type  \\\n",
       "0    Minnesota  L9347                   8            8             0   \n",
       "1    Minnesota  L9903                   N            N             N   \n",
       "2    Minnesota  96781                   N            N             N   \n",
       "3    Minnesota  34J05                   N            N             N   \n",
       "4    Minnesota  17508                   8            6             0   \n",
       "\n",
       "  deck_protection  toll  freeze_thaw_cycle  snowfall_days  \\\n",
       "0               N     3                114           83.0   \n",
       "1               N     3                112           83.0   \n",
       "2               N     3                 96          111.0   \n",
       "3               N     3                111           89.0   \n",
       "4               N     3                112           83.0   \n",
       "\n",
       "   inventory_class_route  ...  yr_reconst  skew  max_span  bridge_width  \\\n",
       "0                      9  ...           0   0.0      32.2          24.0   \n",
       "1                      9  ...           0   0.0      11.5           0.0   \n",
       "2                      7  ...           0  30.0      11.8           0.0   \n",
       "3                      9  ...           0   4.0      12.1           0.0   \n",
       "4                      9  ...           0   0.0      44.9          20.3   \n",
       "\n",
       "   deck_width  super_st_condition  sub_st_condition  deck_condition  \\\n",
       "0        25.9                 5.0               5.0             7.0   \n",
       "1         0.0                 NaN               NaN             NaN   \n",
       "2         0.0                 NaN               NaN             NaN   \n",
       "3         0.0                 NaN               NaN             NaN   \n",
       "4        21.7                 8.0               7.0             7.0   \n",
       "\n",
       "   avg_daily_trfic avg_truck_trfc  \n",
       "0               40             15  \n",
       "1               28              4  \n",
       "2              450              4  \n",
       "3               48             10  \n",
       "4               20              3  \n",
       "\n",
       "[5 rows x 38 columns]"
      ]
     },
     "execution_count": 156,
     "metadata": {},
     "output_type": "execute_result"
    }
   ],
   "source": [
    "df2 = pd.read_csv('bridge_data_cleaned2')\n",
    "df2.head()"
   ]
  },
  {
   "cell_type": "code",
   "execution_count": 157,
   "metadata": {
    "ExecuteTime": {
     "end_time": "2021-08-30T18:56:03.985478Z",
     "start_time": "2021-08-30T18:56:02.180946Z"
    }
   },
   "outputs": [
    {
     "data": {
      "text/html": [
       "<div>\n",
       "<style scoped>\n",
       "    .dataframe tbody tr th:only-of-type {\n",
       "        vertical-align: middle;\n",
       "    }\n",
       "\n",
       "    .dataframe tbody tr th {\n",
       "        vertical-align: top;\n",
       "    }\n",
       "\n",
       "    .dataframe thead th {\n",
       "        text-align: right;\n",
       "    }\n",
       "</style>\n",
       "<table border=\"1\" class=\"dataframe\">\n",
       "  <thead>\n",
       "    <tr style=\"text-align: right;\">\n",
       "      <th></th>\n",
       "      <th>state</th>\n",
       "      <th>str_id</th>\n",
       "      <th>deck_type</th>\n",
       "      <th>wearing_type</th>\n",
       "      <th>membrane_type</th>\n",
       "      <th>deck_protection</th>\n",
       "      <th>toll</th>\n",
       "      <th>freeze_thaw_cycle</th>\n",
       "      <th>snowfall_days</th>\n",
       "      <th>inventory_class_route</th>\n",
       "      <th>...</th>\n",
       "      <th>yr_reconst</th>\n",
       "      <th>skew</th>\n",
       "      <th>max_span</th>\n",
       "      <th>bridge_width</th>\n",
       "      <th>deck_width</th>\n",
       "      <th>super_st_condition</th>\n",
       "      <th>sub_st_condition</th>\n",
       "      <th>deck_condition</th>\n",
       "      <th>avg_daily_trfic</th>\n",
       "      <th>avg_truck_trfc</th>\n",
       "    </tr>\n",
       "  </thead>\n",
       "  <tbody>\n",
       "    <tr>\n",
       "      <th>0</th>\n",
       "      <td>Pennsylvania</td>\n",
       "      <td>000000000018583</td>\n",
       "      <td>1</td>\n",
       "      <td>6</td>\n",
       "      <td>2</td>\n",
       "      <td>0</td>\n",
       "      <td>3</td>\n",
       "      <td>117</td>\n",
       "      <td>59.0</td>\n",
       "      <td>2</td>\n",
       "      <td>...</td>\n",
       "      <td>0</td>\n",
       "      <td>1.0</td>\n",
       "      <td>21.0</td>\n",
       "      <td>49.2</td>\n",
       "      <td>52.5</td>\n",
       "      <td>6.0</td>\n",
       "      <td>6.0</td>\n",
       "      <td>6.0</td>\n",
       "      <td>12394</td>\n",
       "      <td>10</td>\n",
       "    </tr>\n",
       "    <tr>\n",
       "      <th>1</th>\n",
       "      <td>Pennsylvania</td>\n",
       "      <td>000000000041175</td>\n",
       "      <td>1</td>\n",
       "      <td>1</td>\n",
       "      <td>0</td>\n",
       "      <td>1</td>\n",
       "      <td>3</td>\n",
       "      <td>117</td>\n",
       "      <td>70.0</td>\n",
       "      <td>1</td>\n",
       "      <td>...</td>\n",
       "      <td>0</td>\n",
       "      <td>35.0</td>\n",
       "      <td>240.2</td>\n",
       "      <td>52.2</td>\n",
       "      <td>55.1</td>\n",
       "      <td>8.0</td>\n",
       "      <td>7.0</td>\n",
       "      <td>7.0</td>\n",
       "      <td>12189</td>\n",
       "      <td>15</td>\n",
       "    </tr>\n",
       "    <tr>\n",
       "      <th>2</th>\n",
       "      <td>Pennsylvania</td>\n",
       "      <td>000000000041176</td>\n",
       "      <td>1</td>\n",
       "      <td>1</td>\n",
       "      <td>0</td>\n",
       "      <td>1</td>\n",
       "      <td>3</td>\n",
       "      <td>117</td>\n",
       "      <td>70.0</td>\n",
       "      <td>1</td>\n",
       "      <td>...</td>\n",
       "      <td>0</td>\n",
       "      <td>34.0</td>\n",
       "      <td>226.0</td>\n",
       "      <td>51.8</td>\n",
       "      <td>54.8</td>\n",
       "      <td>8.0</td>\n",
       "      <td>7.0</td>\n",
       "      <td>7.0</td>\n",
       "      <td>12744</td>\n",
       "      <td>14</td>\n",
       "    </tr>\n",
       "    <tr>\n",
       "      <th>3</th>\n",
       "      <td>Pennsylvania</td>\n",
       "      <td>000000000004028</td>\n",
       "      <td>1</td>\n",
       "      <td>3</td>\n",
       "      <td>0</td>\n",
       "      <td>1</td>\n",
       "      <td>3</td>\n",
       "      <td>104</td>\n",
       "      <td>48.0</td>\n",
       "      <td>1</td>\n",
       "      <td>...</td>\n",
       "      <td>2004</td>\n",
       "      <td>0.0</td>\n",
       "      <td>32.2</td>\n",
       "      <td>40.0</td>\n",
       "      <td>43.6</td>\n",
       "      <td>8.0</td>\n",
       "      <td>6.0</td>\n",
       "      <td>6.0</td>\n",
       "      <td>8169</td>\n",
       "      <td>34</td>\n",
       "    </tr>\n",
       "    <tr>\n",
       "      <th>4</th>\n",
       "      <td>Pennsylvania</td>\n",
       "      <td>000000000009312</td>\n",
       "      <td>N</td>\n",
       "      <td>N</td>\n",
       "      <td>N</td>\n",
       "      <td>N</td>\n",
       "      <td>3</td>\n",
       "      <td>117</td>\n",
       "      <td>70.0</td>\n",
       "      <td>1</td>\n",
       "      <td>...</td>\n",
       "      <td>0</td>\n",
       "      <td>56.0</td>\n",
       "      <td>37.1</td>\n",
       "      <td>0.0</td>\n",
       "      <td>0.0</td>\n",
       "      <td>NaN</td>\n",
       "      <td>NaN</td>\n",
       "      <td>NaN</td>\n",
       "      <td>11792</td>\n",
       "      <td>39</td>\n",
       "    </tr>\n",
       "  </tbody>\n",
       "</table>\n",
       "<p>5 rows × 38 columns</p>\n",
       "</div>"
      ],
      "text/plain": [
       "            state           str_id deck_type wearing_type membrane_type  \\\n",
       "0    Pennsylvania  000000000018583         1            6             2   \n",
       "1    Pennsylvania  000000000041175         1            1             0   \n",
       "2    Pennsylvania  000000000041176         1            1             0   \n",
       "3    Pennsylvania  000000000004028         1            3             0   \n",
       "4    Pennsylvania  000000000009312         N            N             N   \n",
       "\n",
       "  deck_protection  toll  freeze_thaw_cycle  snowfall_days  \\\n",
       "0               0     3                117           59.0   \n",
       "1               1     3                117           70.0   \n",
       "2               1     3                117           70.0   \n",
       "3               1     3                104           48.0   \n",
       "4               N     3                117           70.0   \n",
       "\n",
       "   inventory_class_route  ...  yr_reconst  skew  max_span  bridge_width  \\\n",
       "0                      2  ...           0   1.0      21.0          49.2   \n",
       "1                      1  ...           0  35.0     240.2          52.2   \n",
       "2                      1  ...           0  34.0     226.0          51.8   \n",
       "3                      1  ...        2004   0.0      32.2          40.0   \n",
       "4                      1  ...           0  56.0      37.1           0.0   \n",
       "\n",
       "   deck_width  super_st_condition  sub_st_condition  deck_condition  \\\n",
       "0        52.5                 6.0               6.0             6.0   \n",
       "1        55.1                 8.0               7.0             7.0   \n",
       "2        54.8                 8.0               7.0             7.0   \n",
       "3        43.6                 8.0               6.0             6.0   \n",
       "4         0.0                 NaN               NaN             NaN   \n",
       "\n",
       "   avg_daily_trfic avg_truck_trfc  \n",
       "0            12394             10  \n",
       "1            12189             15  \n",
       "2            12744             14  \n",
       "3             8169             34  \n",
       "4            11792             39  \n",
       "\n",
       "[5 rows x 38 columns]"
      ]
     },
     "execution_count": 157,
     "metadata": {},
     "output_type": "execute_result"
    }
   ],
   "source": [
    "df3 = pd.read_csv('bridge_data_cleaned3')\n",
    "df3.head()"
   ]
  },
  {
   "cell_type": "code",
   "execution_count": 158,
   "metadata": {
    "ExecuteTime": {
     "end_time": "2021-08-30T18:56:04.669830Z",
     "start_time": "2021-08-30T18:56:03.990246Z"
    }
   },
   "outputs": [
    {
     "data": {
      "text/html": [
       "<div>\n",
       "<style scoped>\n",
       "    .dataframe tbody tr th:only-of-type {\n",
       "        vertical-align: middle;\n",
       "    }\n",
       "\n",
       "    .dataframe tbody tr th {\n",
       "        vertical-align: top;\n",
       "    }\n",
       "\n",
       "    .dataframe thead th {\n",
       "        text-align: right;\n",
       "    }\n",
       "</style>\n",
       "<table border=\"1\" class=\"dataframe\">\n",
       "  <thead>\n",
       "    <tr style=\"text-align: right;\">\n",
       "      <th></th>\n",
       "      <th>state</th>\n",
       "      <th>str_id</th>\n",
       "      <th>deck_type</th>\n",
       "      <th>wearing_type</th>\n",
       "      <th>membrane_type</th>\n",
       "      <th>deck_protection</th>\n",
       "      <th>toll</th>\n",
       "      <th>freeze_thaw_cycle</th>\n",
       "      <th>snowfall_days</th>\n",
       "      <th>inventory_class_route</th>\n",
       "      <th>...</th>\n",
       "      <th>yr_reconst</th>\n",
       "      <th>skew</th>\n",
       "      <th>max_span</th>\n",
       "      <th>bridge_width</th>\n",
       "      <th>deck_width</th>\n",
       "      <th>super_st_condition</th>\n",
       "      <th>sub_st_condition</th>\n",
       "      <th>deck_condition</th>\n",
       "      <th>avg_daily_trfic</th>\n",
       "      <th>avg_truck_trfc</th>\n",
       "    </tr>\n",
       "  </thead>\n",
       "  <tbody>\n",
       "    <tr>\n",
       "      <th>0</th>\n",
       "      <td>Alabama</td>\n",
       "      <td>021480</td>\n",
       "      <td>1</td>\n",
       "      <td>0</td>\n",
       "      <td>0</td>\n",
       "      <td>0</td>\n",
       "      <td>3.0</td>\n",
       "      <td>14</td>\n",
       "      <td>0.0</td>\n",
       "      <td>2.0</td>\n",
       "      <td>...</td>\n",
       "      <td>0</td>\n",
       "      <td>23.0</td>\n",
       "      <td>274.9</td>\n",
       "      <td>38.1</td>\n",
       "      <td>41.0</td>\n",
       "      <td>7.0</td>\n",
       "      <td>7.0</td>\n",
       "      <td>7.0</td>\n",
       "      <td>4940</td>\n",
       "      <td>35</td>\n",
       "    </tr>\n",
       "    <tr>\n",
       "      <th>1</th>\n",
       "      <td>Alabama</td>\n",
       "      <td>009763</td>\n",
       "      <td>N</td>\n",
       "      <td>6</td>\n",
       "      <td>0</td>\n",
       "      <td>0</td>\n",
       "      <td>3.0</td>\n",
       "      <td>14</td>\n",
       "      <td>0.0</td>\n",
       "      <td>7.0</td>\n",
       "      <td>...</td>\n",
       "      <td>0</td>\n",
       "      <td>45.0</td>\n",
       "      <td>12.1</td>\n",
       "      <td>0.0</td>\n",
       "      <td>0.0</td>\n",
       "      <td>NaN</td>\n",
       "      <td>NaN</td>\n",
       "      <td>NaN</td>\n",
       "      <td>280</td>\n",
       "      <td>7</td>\n",
       "    </tr>\n",
       "    <tr>\n",
       "      <th>2</th>\n",
       "      <td>Alabama</td>\n",
       "      <td>003324</td>\n",
       "      <td>N</td>\n",
       "      <td>N</td>\n",
       "      <td>N</td>\n",
       "      <td>N</td>\n",
       "      <td>3.0</td>\n",
       "      <td>14</td>\n",
       "      <td>0.0</td>\n",
       "      <td>6.0</td>\n",
       "      <td>...</td>\n",
       "      <td>2009</td>\n",
       "      <td>0.0</td>\n",
       "      <td>7.9</td>\n",
       "      <td>0.0</td>\n",
       "      <td>0.0</td>\n",
       "      <td>NaN</td>\n",
       "      <td>NaN</td>\n",
       "      <td>NaN</td>\n",
       "      <td>420</td>\n",
       "      <td>7</td>\n",
       "    </tr>\n",
       "    <tr>\n",
       "      <th>3</th>\n",
       "      <td>Alabama</td>\n",
       "      <td>006369</td>\n",
       "      <td>1</td>\n",
       "      <td>0</td>\n",
       "      <td>0</td>\n",
       "      <td>0</td>\n",
       "      <td>3.0</td>\n",
       "      <td>14</td>\n",
       "      <td>0.0</td>\n",
       "      <td>6.0</td>\n",
       "      <td>...</td>\n",
       "      <td>0</td>\n",
       "      <td>0.0</td>\n",
       "      <td>60.0</td>\n",
       "      <td>23.6</td>\n",
       "      <td>27.6</td>\n",
       "      <td>7.0</td>\n",
       "      <td>7.0</td>\n",
       "      <td>6.0</td>\n",
       "      <td>420</td>\n",
       "      <td>7</td>\n",
       "    </tr>\n",
       "    <tr>\n",
       "      <th>4</th>\n",
       "      <td>Alabama</td>\n",
       "      <td>015078</td>\n",
       "      <td>2</td>\n",
       "      <td>0</td>\n",
       "      <td>0</td>\n",
       "      <td>0</td>\n",
       "      <td>3.0</td>\n",
       "      <td>14</td>\n",
       "      <td>0.0</td>\n",
       "      <td>8.0</td>\n",
       "      <td>...</td>\n",
       "      <td>0</td>\n",
       "      <td>0.0</td>\n",
       "      <td>15.1</td>\n",
       "      <td>23.6</td>\n",
       "      <td>24.9</td>\n",
       "      <td>5.0</td>\n",
       "      <td>6.0</td>\n",
       "      <td>5.0</td>\n",
       "      <td>70</td>\n",
       "      <td>0</td>\n",
       "    </tr>\n",
       "  </tbody>\n",
       "</table>\n",
       "<p>5 rows × 38 columns</p>\n",
       "</div>"
      ],
      "text/plain": [
       "       state           str_id deck_type wearing_type membrane_type  \\\n",
       "0    Alabama  021480                  1            0             0   \n",
       "1    Alabama  009763                  N            6             0   \n",
       "2    Alabama  003324                  N            N             N   \n",
       "3    Alabama  006369                  1            0             0   \n",
       "4    Alabama  015078                  2            0             0   \n",
       "\n",
       "  deck_protection  toll  freeze_thaw_cycle  snowfall_days  \\\n",
       "0               0   3.0                 14            0.0   \n",
       "1               0   3.0                 14            0.0   \n",
       "2               N   3.0                 14            0.0   \n",
       "3               0   3.0                 14            0.0   \n",
       "4               0   3.0                 14            0.0   \n",
       "\n",
       "   inventory_class_route  ...  yr_reconst  skew  max_span  bridge_width  \\\n",
       "0                    2.0  ...           0  23.0     274.9          38.1   \n",
       "1                    7.0  ...           0  45.0      12.1           0.0   \n",
       "2                    6.0  ...        2009   0.0       7.9           0.0   \n",
       "3                    6.0  ...           0   0.0      60.0          23.6   \n",
       "4                    8.0  ...           0   0.0      15.1          23.6   \n",
       "\n",
       "   deck_width  super_st_condition  sub_st_condition  deck_condition  \\\n",
       "0        41.0                 7.0               7.0             7.0   \n",
       "1         0.0                 NaN               NaN             NaN   \n",
       "2         0.0                 NaN               NaN             NaN   \n",
       "3        27.6                 7.0               7.0             6.0   \n",
       "4        24.9                 5.0               6.0             5.0   \n",
       "\n",
       "   avg_daily_trfic avg_truck_trfc  \n",
       "0             4940             35  \n",
       "1              280              7  \n",
       "2              420              7  \n",
       "3              420              7  \n",
       "4               70              0  \n",
       "\n",
       "[5 rows x 38 columns]"
      ]
     },
     "execution_count": 158,
     "metadata": {},
     "output_type": "execute_result"
    }
   ],
   "source": [
    "df = pd.concat([df1, df2, df3])\n",
    "df.head()"
   ]
  },
  {
   "cell_type": "code",
   "execution_count": 159,
   "metadata": {
    "ExecuteTime": {
     "end_time": "2021-08-30T18:56:04.685356Z",
     "start_time": "2021-08-30T18:56:04.673829Z"
    }
   },
   "outputs": [
    {
     "data": {
      "text/plain": [
       "(592756, 38)"
      ]
     },
     "execution_count": 159,
     "metadata": {},
     "output_type": "execute_result"
    }
   ],
   "source": [
    "df.shape"
   ]
  },
  {
   "cell_type": "code",
   "execution_count": null,
   "metadata": {},
   "outputs": [],
   "source": []
  },
  {
   "cell_type": "code",
   "execution_count": 160,
   "metadata": {
    "ExecuteTime": {
     "end_time": "2021-08-30T18:56:21.384899Z",
     "start_time": "2021-08-30T18:56:20.735312Z"
    }
   },
   "outputs": [
    {
     "data": {
      "text/html": [
       "<div>\n",
       "<style scoped>\n",
       "    .dataframe tbody tr th:only-of-type {\n",
       "        vertical-align: middle;\n",
       "    }\n",
       "\n",
       "    .dataframe tbody tr th {\n",
       "        vertical-align: top;\n",
       "    }\n",
       "\n",
       "    .dataframe thead th {\n",
       "        text-align: right;\n",
       "    }\n",
       "</style>\n",
       "<table border=\"1\" class=\"dataframe\">\n",
       "  <thead>\n",
       "    <tr style=\"text-align: right;\">\n",
       "      <th></th>\n",
       "      <th>state</th>\n",
       "      <th>str_id</th>\n",
       "      <th>deck_type</th>\n",
       "      <th>wearing_type</th>\n",
       "      <th>membrane_type</th>\n",
       "      <th>deck_protection</th>\n",
       "      <th>toll</th>\n",
       "      <th>freeze_thaw_cycle</th>\n",
       "      <th>snowfall_days</th>\n",
       "      <th>inventory_class_route</th>\n",
       "      <th>...</th>\n",
       "      <th>yr_reconst</th>\n",
       "      <th>skew</th>\n",
       "      <th>max_span</th>\n",
       "      <th>bridge_width</th>\n",
       "      <th>deck_width</th>\n",
       "      <th>super_st_condition</th>\n",
       "      <th>sub_st_condition</th>\n",
       "      <th>deck_condition</th>\n",
       "      <th>avg_daily_trfic</th>\n",
       "      <th>avg_truck_trfc</th>\n",
       "    </tr>\n",
       "  </thead>\n",
       "  <tbody>\n",
       "    <tr>\n",
       "      <th>0</th>\n",
       "      <td>Alabama</td>\n",
       "      <td>021480</td>\n",
       "      <td>1</td>\n",
       "      <td>0</td>\n",
       "      <td>0</td>\n",
       "      <td>0</td>\n",
       "      <td>3.0</td>\n",
       "      <td>14</td>\n",
       "      <td>0.0</td>\n",
       "      <td>2.0</td>\n",
       "      <td>...</td>\n",
       "      <td>0</td>\n",
       "      <td>23.0</td>\n",
       "      <td>274.9</td>\n",
       "      <td>38.1</td>\n",
       "      <td>41.0</td>\n",
       "      <td>7.0</td>\n",
       "      <td>7.0</td>\n",
       "      <td>7.0</td>\n",
       "      <td>4940</td>\n",
       "      <td>35</td>\n",
       "    </tr>\n",
       "    <tr>\n",
       "      <th>1</th>\n",
       "      <td>Alabama</td>\n",
       "      <td>009763</td>\n",
       "      <td>N</td>\n",
       "      <td>6</td>\n",
       "      <td>0</td>\n",
       "      <td>0</td>\n",
       "      <td>3.0</td>\n",
       "      <td>14</td>\n",
       "      <td>0.0</td>\n",
       "      <td>7.0</td>\n",
       "      <td>...</td>\n",
       "      <td>0</td>\n",
       "      <td>45.0</td>\n",
       "      <td>12.1</td>\n",
       "      <td>0.0</td>\n",
       "      <td>0.0</td>\n",
       "      <td>NaN</td>\n",
       "      <td>NaN</td>\n",
       "      <td>NaN</td>\n",
       "      <td>280</td>\n",
       "      <td>7</td>\n",
       "    </tr>\n",
       "    <tr>\n",
       "      <th>2</th>\n",
       "      <td>Alabama</td>\n",
       "      <td>003324</td>\n",
       "      <td>N</td>\n",
       "      <td>N</td>\n",
       "      <td>N</td>\n",
       "      <td>N</td>\n",
       "      <td>3.0</td>\n",
       "      <td>14</td>\n",
       "      <td>0.0</td>\n",
       "      <td>6.0</td>\n",
       "      <td>...</td>\n",
       "      <td>2009</td>\n",
       "      <td>0.0</td>\n",
       "      <td>7.9</td>\n",
       "      <td>0.0</td>\n",
       "      <td>0.0</td>\n",
       "      <td>NaN</td>\n",
       "      <td>NaN</td>\n",
       "      <td>NaN</td>\n",
       "      <td>420</td>\n",
       "      <td>7</td>\n",
       "    </tr>\n",
       "    <tr>\n",
       "      <th>3</th>\n",
       "      <td>Alabama</td>\n",
       "      <td>006369</td>\n",
       "      <td>1</td>\n",
       "      <td>0</td>\n",
       "      <td>0</td>\n",
       "      <td>0</td>\n",
       "      <td>3.0</td>\n",
       "      <td>14</td>\n",
       "      <td>0.0</td>\n",
       "      <td>6.0</td>\n",
       "      <td>...</td>\n",
       "      <td>0</td>\n",
       "      <td>0.0</td>\n",
       "      <td>60.0</td>\n",
       "      <td>23.6</td>\n",
       "      <td>27.6</td>\n",
       "      <td>7.0</td>\n",
       "      <td>7.0</td>\n",
       "      <td>6.0</td>\n",
       "      <td>420</td>\n",
       "      <td>7</td>\n",
       "    </tr>\n",
       "    <tr>\n",
       "      <th>4</th>\n",
       "      <td>Alabama</td>\n",
       "      <td>015078</td>\n",
       "      <td>2</td>\n",
       "      <td>0</td>\n",
       "      <td>0</td>\n",
       "      <td>0</td>\n",
       "      <td>3.0</td>\n",
       "      <td>14</td>\n",
       "      <td>0.0</td>\n",
       "      <td>8.0</td>\n",
       "      <td>...</td>\n",
       "      <td>0</td>\n",
       "      <td>0.0</td>\n",
       "      <td>15.1</td>\n",
       "      <td>23.6</td>\n",
       "      <td>24.9</td>\n",
       "      <td>5.0</td>\n",
       "      <td>6.0</td>\n",
       "      <td>5.0</td>\n",
       "      <td>70</td>\n",
       "      <td>0</td>\n",
       "    </tr>\n",
       "    <tr>\n",
       "      <th>...</th>\n",
       "      <td>...</td>\n",
       "      <td>...</td>\n",
       "      <td>...</td>\n",
       "      <td>...</td>\n",
       "      <td>...</td>\n",
       "      <td>...</td>\n",
       "      <td>...</td>\n",
       "      <td>...</td>\n",
       "      <td>...</td>\n",
       "      <td>...</td>\n",
       "      <td>...</td>\n",
       "      <td>...</td>\n",
       "      <td>...</td>\n",
       "      <td>...</td>\n",
       "      <td>...</td>\n",
       "      <td>...</td>\n",
       "      <td>...</td>\n",
       "      <td>...</td>\n",
       "      <td>...</td>\n",
       "      <td>...</td>\n",
       "      <td>...</td>\n",
       "    </tr>\n",
       "    <tr>\n",
       "      <th>188660</th>\n",
       "      <td>Connecticut</td>\n",
       "      <td>05526</td>\n",
       "      <td>9</td>\n",
       "      <td>6</td>\n",
       "      <td>1</td>\n",
       "      <td>1</td>\n",
       "      <td>3.0</td>\n",
       "      <td>79</td>\n",
       "      <td>25.0</td>\n",
       "      <td>19.0</td>\n",
       "      <td>...</td>\n",
       "      <td>1987</td>\n",
       "      <td>0.0</td>\n",
       "      <td>34.1</td>\n",
       "      <td>21.3</td>\n",
       "      <td>24.6</td>\n",
       "      <td>6.0</td>\n",
       "      <td>6.0</td>\n",
       "      <td>6.0</td>\n",
       "      <td>1030</td>\n",
       "      <td>7</td>\n",
       "    </tr>\n",
       "    <tr>\n",
       "      <th>188661</th>\n",
       "      <td>Connecticut</td>\n",
       "      <td>01011</td>\n",
       "      <td>1</td>\n",
       "      <td>6</td>\n",
       "      <td>2</td>\n",
       "      <td>0</td>\n",
       "      <td>3.0</td>\n",
       "      <td>79</td>\n",
       "      <td>25.0</td>\n",
       "      <td>17.0</td>\n",
       "      <td>...</td>\n",
       "      <td>0</td>\n",
       "      <td>0.0</td>\n",
       "      <td>24.0</td>\n",
       "      <td>32.2</td>\n",
       "      <td>37.7</td>\n",
       "      <td>7.0</td>\n",
       "      <td>6.0</td>\n",
       "      <td>8.0</td>\n",
       "      <td>5500</td>\n",
       "      <td>3</td>\n",
       "    </tr>\n",
       "    <tr>\n",
       "      <th>188662</th>\n",
       "      <td>Connecticut</td>\n",
       "      <td>01812</td>\n",
       "      <td>1</td>\n",
       "      <td>6</td>\n",
       "      <td>2</td>\n",
       "      <td>0</td>\n",
       "      <td>3.0</td>\n",
       "      <td>79</td>\n",
       "      <td>25.0</td>\n",
       "      <td>11.0</td>\n",
       "      <td>...</td>\n",
       "      <td>0</td>\n",
       "      <td>34.0</td>\n",
       "      <td>63.6</td>\n",
       "      <td>42.0</td>\n",
       "      <td>47.6</td>\n",
       "      <td>5.0</td>\n",
       "      <td>7.0</td>\n",
       "      <td>7.0</td>\n",
       "      <td>14250</td>\n",
       "      <td>10</td>\n",
       "    </tr>\n",
       "    <tr>\n",
       "      <th>188663</th>\n",
       "      <td>Connecticut</td>\n",
       "      <td>01813</td>\n",
       "      <td>1</td>\n",
       "      <td>6</td>\n",
       "      <td>2</td>\n",
       "      <td>0</td>\n",
       "      <td>3.0</td>\n",
       "      <td>79</td>\n",
       "      <td>25.0</td>\n",
       "      <td>11.0</td>\n",
       "      <td>...</td>\n",
       "      <td>0</td>\n",
       "      <td>34.0</td>\n",
       "      <td>63.6</td>\n",
       "      <td>38.1</td>\n",
       "      <td>43.6</td>\n",
       "      <td>5.0</td>\n",
       "      <td>7.0</td>\n",
       "      <td>6.0</td>\n",
       "      <td>14250</td>\n",
       "      <td>10</td>\n",
       "    </tr>\n",
       "    <tr>\n",
       "      <th>188664</th>\n",
       "      <td>Connecticut</td>\n",
       "      <td>01899</td>\n",
       "      <td>9</td>\n",
       "      <td>6</td>\n",
       "      <td>1</td>\n",
       "      <td>1</td>\n",
       "      <td>3.0</td>\n",
       "      <td>79</td>\n",
       "      <td>25.0</td>\n",
       "      <td>16.0</td>\n",
       "      <td>...</td>\n",
       "      <td>1998</td>\n",
       "      <td>20.0</td>\n",
       "      <td>37.1</td>\n",
       "      <td>36.7</td>\n",
       "      <td>40.4</td>\n",
       "      <td>7.0</td>\n",
       "      <td>6.0</td>\n",
       "      <td>7.0</td>\n",
       "      <td>6400</td>\n",
       "      <td>4</td>\n",
       "    </tr>\n",
       "  </tbody>\n",
       "</table>\n",
       "<p>258 rows × 38 columns</p>\n",
       "</div>"
      ],
      "text/plain": [
       "                state           str_id deck_type wearing_type membrane_type  \\\n",
       "0             Alabama  021480                  1            0             0   \n",
       "1             Alabama  009763                  N            6             0   \n",
       "2             Alabama  003324                  N            N             N   \n",
       "3             Alabama  006369                  1            0             0   \n",
       "4             Alabama  015078                  2            0             0   \n",
       "...               ...              ...       ...          ...           ...   \n",
       "188660    Connecticut   05526                  9            6             1   \n",
       "188661    Connecticut   01011                  1            6             2   \n",
       "188662    Connecticut   01812                  1            6             2   \n",
       "188663    Connecticut   01813                  1            6             2   \n",
       "188664    Connecticut   01899                  9            6             1   \n",
       "\n",
       "       deck_protection  toll  freeze_thaw_cycle  snowfall_days  \\\n",
       "0                    0   3.0                 14            0.0   \n",
       "1                    0   3.0                 14            0.0   \n",
       "2                    N   3.0                 14            0.0   \n",
       "3                    0   3.0                 14            0.0   \n",
       "4                    0   3.0                 14            0.0   \n",
       "...                ...   ...                ...            ...   \n",
       "188660               1   3.0                 79           25.0   \n",
       "188661               0   3.0                 79           25.0   \n",
       "188662               0   3.0                 79           25.0   \n",
       "188663               0   3.0                 79           25.0   \n",
       "188664               1   3.0                 79           25.0   \n",
       "\n",
       "        inventory_class_route  ...  yr_reconst  skew  max_span  bridge_width  \\\n",
       "0                         2.0  ...           0  23.0     274.9          38.1   \n",
       "1                         7.0  ...           0  45.0      12.1           0.0   \n",
       "2                         6.0  ...        2009   0.0       7.9           0.0   \n",
       "3                         6.0  ...           0   0.0      60.0          23.6   \n",
       "4                         8.0  ...           0   0.0      15.1          23.6   \n",
       "...                       ...  ...         ...   ...       ...           ...   \n",
       "188660                   19.0  ...        1987   0.0      34.1          21.3   \n",
       "188661                   17.0  ...           0   0.0      24.0          32.2   \n",
       "188662                   11.0  ...           0  34.0      63.6          42.0   \n",
       "188663                   11.0  ...           0  34.0      63.6          38.1   \n",
       "188664                   16.0  ...        1998  20.0      37.1          36.7   \n",
       "\n",
       "        deck_width  super_st_condition  sub_st_condition  deck_condition  \\\n",
       "0             41.0                 7.0               7.0             7.0   \n",
       "1              0.0                 NaN               NaN             NaN   \n",
       "2              0.0                 NaN               NaN             NaN   \n",
       "3             27.6                 7.0               7.0             6.0   \n",
       "4             24.9                 5.0               6.0             5.0   \n",
       "...            ...                 ...               ...             ...   \n",
       "188660        24.6                 6.0               6.0             6.0   \n",
       "188661        37.7                 7.0               6.0             8.0   \n",
       "188662        47.6                 5.0               7.0             7.0   \n",
       "188663        43.6                 5.0               7.0             6.0   \n",
       "188664        40.4                 7.0               6.0             7.0   \n",
       "\n",
       "        avg_daily_trfic avg_truck_trfc  \n",
       "0                  4940             35  \n",
       "1                   280              7  \n",
       "2                   420              7  \n",
       "3                   420              7  \n",
       "4                    70              0  \n",
       "...                 ...            ...  \n",
       "188660             1030              7  \n",
       "188661             5500              3  \n",
       "188662            14250             10  \n",
       "188663            14250             10  \n",
       "188664             6400              4  \n",
       "\n",
       "[258 rows x 38 columns]"
      ]
     },
     "execution_count": 160,
     "metadata": {},
     "output_type": "execute_result"
    }
   ],
   "source": [
    "grouped = df.groupby('state')\n",
    "grouped.head()"
   ]
  },
  {
   "cell_type": "code",
   "execution_count": 19,
   "metadata": {
    "ExecuteTime": {
     "end_time": "2021-08-30T17:39:35.793890Z",
     "start_time": "2021-08-30T17:39:35.604926Z"
    }
   },
   "outputs": [
    {
     "data": {
      "text/html": [
       "<div>\n",
       "<style scoped>\n",
       "    .dataframe tbody tr th:only-of-type {\n",
       "        vertical-align: middle;\n",
       "    }\n",
       "\n",
       "    .dataframe tbody tr th {\n",
       "        vertical-align: top;\n",
       "    }\n",
       "\n",
       "    .dataframe thead th {\n",
       "        text-align: right;\n",
       "    }\n",
       "</style>\n",
       "<table border=\"1\" class=\"dataframe\">\n",
       "  <thead>\n",
       "    <tr style=\"text-align: right;\">\n",
       "      <th></th>\n",
       "      <th>state</th>\n",
       "      <th>str_id</th>\n",
       "      <th>deck_type</th>\n",
       "      <th>wearing_type</th>\n",
       "      <th>membrane_type</th>\n",
       "      <th>deck_protection</th>\n",
       "      <th>toll</th>\n",
       "      <th>freeze_thaw_cycle</th>\n",
       "      <th>snowfall_days</th>\n",
       "      <th>inventory_class_route</th>\n",
       "      <th>...</th>\n",
       "      <th>yr_reconst</th>\n",
       "      <th>skew</th>\n",
       "      <th>max_span</th>\n",
       "      <th>bridge_width</th>\n",
       "      <th>deck_width</th>\n",
       "      <th>super_st_condition</th>\n",
       "      <th>sub_st_condition</th>\n",
       "      <th>deck_condition</th>\n",
       "      <th>avg_daily_trfic</th>\n",
       "      <th>avg_truck_trfc</th>\n",
       "    </tr>\n",
       "  </thead>\n",
       "  <tbody>\n",
       "    <tr>\n",
       "      <th>93045</th>\n",
       "      <td>Iowa</td>\n",
       "      <td>000000000171401</td>\n",
       "      <td>N</td>\n",
       "      <td>N</td>\n",
       "      <td>N</td>\n",
       "      <td>N</td>\n",
       "      <td>3.0</td>\n",
       "      <td>116</td>\n",
       "      <td>74.0</td>\n",
       "      <td>7.0</td>\n",
       "      <td>...</td>\n",
       "      <td>0</td>\n",
       "      <td>45.0</td>\n",
       "      <td>9.8</td>\n",
       "      <td>0.0</td>\n",
       "      <td>0.0</td>\n",
       "      <td>NaN</td>\n",
       "      <td>NaN</td>\n",
       "      <td>NaN</td>\n",
       "      <td>230</td>\n",
       "      <td>19</td>\n",
       "    </tr>\n",
       "    <tr>\n",
       "      <th>93046</th>\n",
       "      <td>Iowa</td>\n",
       "      <td>000000000171920</td>\n",
       "      <td>8</td>\n",
       "      <td>7</td>\n",
       "      <td>0</td>\n",
       "      <td>0</td>\n",
       "      <td>3.0</td>\n",
       "      <td>116</td>\n",
       "      <td>74.0</td>\n",
       "      <td>8.0</td>\n",
       "      <td>...</td>\n",
       "      <td>2008</td>\n",
       "      <td>0.0</td>\n",
       "      <td>160.1</td>\n",
       "      <td>14.4</td>\n",
       "      <td>16.1</td>\n",
       "      <td>0.0</td>\n",
       "      <td>0.0</td>\n",
       "      <td>0.0</td>\n",
       "      <td>60</td>\n",
       "      <td>0</td>\n",
       "    </tr>\n",
       "    <tr>\n",
       "      <th>93047</th>\n",
       "      <td>Iowa</td>\n",
       "      <td>000000000021055</td>\n",
       "      <td>1</td>\n",
       "      <td>4</td>\n",
       "      <td>0</td>\n",
       "      <td>0</td>\n",
       "      <td>3.0</td>\n",
       "      <td>118</td>\n",
       "      <td>73.0</td>\n",
       "      <td>14.0</td>\n",
       "      <td>...</td>\n",
       "      <td>0</td>\n",
       "      <td>0.0</td>\n",
       "      <td>500.0</td>\n",
       "      <td>24.9</td>\n",
       "      <td>33.1</td>\n",
       "      <td>6.0</td>\n",
       "      <td>6.0</td>\n",
       "      <td>6.0</td>\n",
       "      <td>10500</td>\n",
       "      <td>2</td>\n",
       "    </tr>\n",
       "    <tr>\n",
       "      <th>93048</th>\n",
       "      <td>Iowa</td>\n",
       "      <td>000000000020860</td>\n",
       "      <td>1</td>\n",
       "      <td>0</td>\n",
       "      <td>0</td>\n",
       "      <td>1</td>\n",
       "      <td>3.0</td>\n",
       "      <td>118</td>\n",
       "      <td>73.0</td>\n",
       "      <td>14.0</td>\n",
       "      <td>...</td>\n",
       "      <td>1999</td>\n",
       "      <td>0.0</td>\n",
       "      <td>644.0</td>\n",
       "      <td>29.2</td>\n",
       "      <td>32.8</td>\n",
       "      <td>5.0</td>\n",
       "      <td>5.0</td>\n",
       "      <td>6.0</td>\n",
       "      <td>11800</td>\n",
       "      <td>12</td>\n",
       "    </tr>\n",
       "    <tr>\n",
       "      <th>93049</th>\n",
       "      <td>Iowa</td>\n",
       "      <td>000000000502671</td>\n",
       "      <td>N</td>\n",
       "      <td>N</td>\n",
       "      <td>N</td>\n",
       "      <td>N</td>\n",
       "      <td>3.0</td>\n",
       "      <td>118</td>\n",
       "      <td>73.0</td>\n",
       "      <td>19.0</td>\n",
       "      <td>...</td>\n",
       "      <td>0</td>\n",
       "      <td>15.0</td>\n",
       "      <td>9.8</td>\n",
       "      <td>0.0</td>\n",
       "      <td>0.0</td>\n",
       "      <td>NaN</td>\n",
       "      <td>NaN</td>\n",
       "      <td>NaN</td>\n",
       "      <td>1060</td>\n",
       "      <td>0</td>\n",
       "    </tr>\n",
       "    <tr>\n",
       "      <th>...</th>\n",
       "      <td>...</td>\n",
       "      <td>...</td>\n",
       "      <td>...</td>\n",
       "      <td>...</td>\n",
       "      <td>...</td>\n",
       "      <td>...</td>\n",
       "      <td>...</td>\n",
       "      <td>...</td>\n",
       "      <td>...</td>\n",
       "      <td>...</td>\n",
       "      <td>...</td>\n",
       "      <td>...</td>\n",
       "      <td>...</td>\n",
       "      <td>...</td>\n",
       "      <td>...</td>\n",
       "      <td>...</td>\n",
       "      <td>...</td>\n",
       "      <td>...</td>\n",
       "      <td>...</td>\n",
       "      <td>...</td>\n",
       "      <td>...</td>\n",
       "    </tr>\n",
       "    <tr>\n",
       "      <th>116789</th>\n",
       "      <td>Iowa</td>\n",
       "      <td>000000000700340</td>\n",
       "      <td>1</td>\n",
       "      <td>1</td>\n",
       "      <td>0</td>\n",
       "      <td>1</td>\n",
       "      <td>3.0</td>\n",
       "      <td>119</td>\n",
       "      <td>64.0</td>\n",
       "      <td>11.0</td>\n",
       "      <td>...</td>\n",
       "      <td>0</td>\n",
       "      <td>31.0</td>\n",
       "      <td>85.0</td>\n",
       "      <td>62.7</td>\n",
       "      <td>65.6</td>\n",
       "      <td>9.0</td>\n",
       "      <td>9.0</td>\n",
       "      <td>9.0</td>\n",
       "      <td>13450</td>\n",
       "      <td>18</td>\n",
       "    </tr>\n",
       "    <tr>\n",
       "      <th>116790</th>\n",
       "      <td>Iowa</td>\n",
       "      <td>000000000034671</td>\n",
       "      <td>1</td>\n",
       "      <td>1</td>\n",
       "      <td>0</td>\n",
       "      <td>1</td>\n",
       "      <td>3.0</td>\n",
       "      <td>115</td>\n",
       "      <td>75.0</td>\n",
       "      <td>7.0</td>\n",
       "      <td>...</td>\n",
       "      <td>0</td>\n",
       "      <td>0.0</td>\n",
       "      <td>30.8</td>\n",
       "      <td>30.5</td>\n",
       "      <td>33.1</td>\n",
       "      <td>9.0</td>\n",
       "      <td>9.0</td>\n",
       "      <td>9.0</td>\n",
       "      <td>700</td>\n",
       "      <td>0</td>\n",
       "    </tr>\n",
       "    <tr>\n",
       "      <th>116791</th>\n",
       "      <td>Iowa</td>\n",
       "      <td>000000000230571</td>\n",
       "      <td>1</td>\n",
       "      <td>1</td>\n",
       "      <td>0</td>\n",
       "      <td>0</td>\n",
       "      <td>3.0</td>\n",
       "      <td>115</td>\n",
       "      <td>75.0</td>\n",
       "      <td>9.0</td>\n",
       "      <td>...</td>\n",
       "      <td>0</td>\n",
       "      <td>15.0</td>\n",
       "      <td>30.8</td>\n",
       "      <td>30.5</td>\n",
       "      <td>33.1</td>\n",
       "      <td>9.0</td>\n",
       "      <td>9.0</td>\n",
       "      <td>9.0</td>\n",
       "      <td>25</td>\n",
       "      <td>0</td>\n",
       "    </tr>\n",
       "    <tr>\n",
       "      <th>116792</th>\n",
       "      <td>Iowa</td>\n",
       "      <td>000000000003060</td>\n",
       "      <td>1</td>\n",
       "      <td>6</td>\n",
       "      <td>0</td>\n",
       "      <td>0</td>\n",
       "      <td>3.0</td>\n",
       "      <td>117</td>\n",
       "      <td>67.0</td>\n",
       "      <td>19.0</td>\n",
       "      <td>...</td>\n",
       "      <td>1984</td>\n",
       "      <td>24.0</td>\n",
       "      <td>28.9</td>\n",
       "      <td>24.3</td>\n",
       "      <td>34.4</td>\n",
       "      <td>0.0</td>\n",
       "      <td>0.0</td>\n",
       "      <td>0.0</td>\n",
       "      <td>3160</td>\n",
       "      <td>0</td>\n",
       "    </tr>\n",
       "    <tr>\n",
       "      <th>116793</th>\n",
       "      <td>Iowa</td>\n",
       "      <td>000000000004490</td>\n",
       "      <td>1</td>\n",
       "      <td>1</td>\n",
       "      <td>0</td>\n",
       "      <td>0</td>\n",
       "      <td>3.0</td>\n",
       "      <td>116</td>\n",
       "      <td>89.0</td>\n",
       "      <td>7.0</td>\n",
       "      <td>...</td>\n",
       "      <td>0</td>\n",
       "      <td>0.0</td>\n",
       "      <td>99.1</td>\n",
       "      <td>22.0</td>\n",
       "      <td>26.9</td>\n",
       "      <td>6.0</td>\n",
       "      <td>5.0</td>\n",
       "      <td>4.0</td>\n",
       "      <td>610</td>\n",
       "      <td>0</td>\n",
       "    </tr>\n",
       "  </tbody>\n",
       "</table>\n",
       "<p>23748 rows × 38 columns</p>\n",
       "</div>"
      ],
      "text/plain": [
       "         state           str_id deck_type wearing_type membrane_type  \\\n",
       "93045     Iowa  000000000171401         N            N             N   \n",
       "93046     Iowa  000000000171920         8            7             0   \n",
       "93047     Iowa  000000000021055         1            4             0   \n",
       "93048     Iowa  000000000020860         1            0             0   \n",
       "93049     Iowa  000000000502671         N            N             N   \n",
       "...        ...              ...       ...          ...           ...   \n",
       "116789    Iowa  000000000700340         1            1             0   \n",
       "116790    Iowa  000000000034671         1            1             0   \n",
       "116791    Iowa  000000000230571         1            1             0   \n",
       "116792    Iowa  000000000003060         1            6             0   \n",
       "116793    Iowa  000000000004490         1            1             0   \n",
       "\n",
       "       deck_protection  toll  freeze_thaw_cycle  snowfall_days  \\\n",
       "93045                N   3.0                116           74.0   \n",
       "93046                0   3.0                116           74.0   \n",
       "93047                0   3.0                118           73.0   \n",
       "93048                1   3.0                118           73.0   \n",
       "93049                N   3.0                118           73.0   \n",
       "...                ...   ...                ...            ...   \n",
       "116789               1   3.0                119           64.0   \n",
       "116790               1   3.0                115           75.0   \n",
       "116791               0   3.0                115           75.0   \n",
       "116792               0   3.0                117           67.0   \n",
       "116793               0   3.0                116           89.0   \n",
       "\n",
       "        inventory_class_route  ...  yr_reconst  skew  max_span  bridge_width  \\\n",
       "93045                     7.0  ...           0  45.0       9.8           0.0   \n",
       "93046                     8.0  ...        2008   0.0     160.1          14.4   \n",
       "93047                    14.0  ...           0   0.0     500.0          24.9   \n",
       "93048                    14.0  ...        1999   0.0     644.0          29.2   \n",
       "93049                    19.0  ...           0  15.0       9.8           0.0   \n",
       "...                       ...  ...         ...   ...       ...           ...   \n",
       "116789                   11.0  ...           0  31.0      85.0          62.7   \n",
       "116790                    7.0  ...           0   0.0      30.8          30.5   \n",
       "116791                    9.0  ...           0  15.0      30.8          30.5   \n",
       "116792                   19.0  ...        1984  24.0      28.9          24.3   \n",
       "116793                    7.0  ...           0   0.0      99.1          22.0   \n",
       "\n",
       "        deck_width  super_st_condition  sub_st_condition  deck_condition  \\\n",
       "93045          0.0                 NaN               NaN             NaN   \n",
       "93046         16.1                 0.0               0.0             0.0   \n",
       "93047         33.1                 6.0               6.0             6.0   \n",
       "93048         32.8                 5.0               5.0             6.0   \n",
       "93049          0.0                 NaN               NaN             NaN   \n",
       "...            ...                 ...               ...             ...   \n",
       "116789        65.6                 9.0               9.0             9.0   \n",
       "116790        33.1                 9.0               9.0             9.0   \n",
       "116791        33.1                 9.0               9.0             9.0   \n",
       "116792        34.4                 0.0               0.0             0.0   \n",
       "116793        26.9                 6.0               5.0             4.0   \n",
       "\n",
       "        avg_daily_trfic avg_truck_trfc  \n",
       "93045               230             19  \n",
       "93046                60              0  \n",
       "93047             10500              2  \n",
       "93048             11800             12  \n",
       "93049              1060              0  \n",
       "...                 ...            ...  \n",
       "116789            13450             18  \n",
       "116790              700              0  \n",
       "116791               25              0  \n",
       "116792             3160              0  \n",
       "116793              610              0  \n",
       "\n",
       "[23748 rows x 38 columns]"
      ]
     },
     "execution_count": 19,
     "metadata": {},
     "output_type": "execute_result"
    }
   ],
   "source": [
    "df.loc[df['state']=='  Iowa']"
   ]
  },
  {
   "cell_type": "code",
   "execution_count": 39,
   "metadata": {
    "ExecuteTime": {
     "end_time": "2021-08-30T17:49:14.053597Z",
     "start_time": "2021-08-30T17:49:13.941027Z"
    }
   },
   "outputs": [
    {
     "data": {
      "text/plain": [
       "Fair    1\n",
       "Name: bridge_condition, dtype: int64"
      ]
     },
     "execution_count": 39,
     "metadata": {},
     "output_type": "execute_result"
    }
   ],
   "source": [
    "df.loc[df['state']=='Iowa'].bridge_condition.value_counts()"
   ]
  },
  {
   "cell_type": "code",
   "execution_count": 163,
   "metadata": {
    "ExecuteTime": {
     "end_time": "2021-08-30T18:56:38.327859Z",
     "start_time": "2021-08-30T18:56:36.339716Z"
    }
   },
   "outputs": [],
   "source": [
    "df['state'] = df['state'].replace(' Iowa', 'Iowa', regex=True)\n",
    "df['state'] = df['state'].replace('  Iowa', 'Iowa')\n",
    "# df['state'] = df.loc[(df['state']=='  Iowa').str.strip()]\n",
    "# df[df['state']=='  Iowa']"
   ]
  },
  {
   "cell_type": "code",
   "execution_count": 164,
   "metadata": {
    "ExecuteTime": {
     "end_time": "2021-08-30T18:56:41.502025Z",
     "start_time": "2021-08-30T18:56:41.315470Z"
    }
   },
   "outputs": [
    {
     "data": {
      "text/html": [
       "<div>\n",
       "<style scoped>\n",
       "    .dataframe tbody tr th:only-of-type {\n",
       "        vertical-align: middle;\n",
       "    }\n",
       "\n",
       "    .dataframe tbody tr th {\n",
       "        vertical-align: top;\n",
       "    }\n",
       "\n",
       "    .dataframe thead th {\n",
       "        text-align: right;\n",
       "    }\n",
       "</style>\n",
       "<table border=\"1\" class=\"dataframe\">\n",
       "  <thead>\n",
       "    <tr style=\"text-align: right;\">\n",
       "      <th></th>\n",
       "      <th>state</th>\n",
       "      <th>str_id</th>\n",
       "      <th>deck_type</th>\n",
       "      <th>wearing_type</th>\n",
       "      <th>membrane_type</th>\n",
       "      <th>deck_protection</th>\n",
       "      <th>toll</th>\n",
       "      <th>freeze_thaw_cycle</th>\n",
       "      <th>snowfall_days</th>\n",
       "      <th>inventory_class_route</th>\n",
       "      <th>...</th>\n",
       "      <th>yr_reconst</th>\n",
       "      <th>skew</th>\n",
       "      <th>max_span</th>\n",
       "      <th>bridge_width</th>\n",
       "      <th>deck_width</th>\n",
       "      <th>super_st_condition</th>\n",
       "      <th>sub_st_condition</th>\n",
       "      <th>deck_condition</th>\n",
       "      <th>avg_daily_trfic</th>\n",
       "      <th>avg_truck_trfc</th>\n",
       "    </tr>\n",
       "  </thead>\n",
       "  <tbody>\n",
       "    <tr>\n",
       "      <th>93045</th>\n",
       "      <td>Iowa</td>\n",
       "      <td>000000000171401</td>\n",
       "      <td>N</td>\n",
       "      <td>N</td>\n",
       "      <td>N</td>\n",
       "      <td>N</td>\n",
       "      <td>3.0</td>\n",
       "      <td>116</td>\n",
       "      <td>74.0</td>\n",
       "      <td>7.0</td>\n",
       "      <td>...</td>\n",
       "      <td>0</td>\n",
       "      <td>45.0</td>\n",
       "      <td>9.8</td>\n",
       "      <td>0.0</td>\n",
       "      <td>0.0</td>\n",
       "      <td>NaN</td>\n",
       "      <td>NaN</td>\n",
       "      <td>NaN</td>\n",
       "      <td>230</td>\n",
       "      <td>19</td>\n",
       "    </tr>\n",
       "    <tr>\n",
       "      <th>93046</th>\n",
       "      <td>Iowa</td>\n",
       "      <td>000000000171920</td>\n",
       "      <td>8</td>\n",
       "      <td>7</td>\n",
       "      <td>0</td>\n",
       "      <td>0</td>\n",
       "      <td>3.0</td>\n",
       "      <td>116</td>\n",
       "      <td>74.0</td>\n",
       "      <td>8.0</td>\n",
       "      <td>...</td>\n",
       "      <td>2008</td>\n",
       "      <td>0.0</td>\n",
       "      <td>160.1</td>\n",
       "      <td>14.4</td>\n",
       "      <td>16.1</td>\n",
       "      <td>0.0</td>\n",
       "      <td>0.0</td>\n",
       "      <td>0.0</td>\n",
       "      <td>60</td>\n",
       "      <td>0</td>\n",
       "    </tr>\n",
       "    <tr>\n",
       "      <th>93047</th>\n",
       "      <td>Iowa</td>\n",
       "      <td>000000000021055</td>\n",
       "      <td>1</td>\n",
       "      <td>4</td>\n",
       "      <td>0</td>\n",
       "      <td>0</td>\n",
       "      <td>3.0</td>\n",
       "      <td>118</td>\n",
       "      <td>73.0</td>\n",
       "      <td>14.0</td>\n",
       "      <td>...</td>\n",
       "      <td>0</td>\n",
       "      <td>0.0</td>\n",
       "      <td>500.0</td>\n",
       "      <td>24.9</td>\n",
       "      <td>33.1</td>\n",
       "      <td>6.0</td>\n",
       "      <td>6.0</td>\n",
       "      <td>6.0</td>\n",
       "      <td>10500</td>\n",
       "      <td>2</td>\n",
       "    </tr>\n",
       "    <tr>\n",
       "      <th>93048</th>\n",
       "      <td>Iowa</td>\n",
       "      <td>000000000020860</td>\n",
       "      <td>1</td>\n",
       "      <td>0</td>\n",
       "      <td>0</td>\n",
       "      <td>1</td>\n",
       "      <td>3.0</td>\n",
       "      <td>118</td>\n",
       "      <td>73.0</td>\n",
       "      <td>14.0</td>\n",
       "      <td>...</td>\n",
       "      <td>1999</td>\n",
       "      <td>0.0</td>\n",
       "      <td>644.0</td>\n",
       "      <td>29.2</td>\n",
       "      <td>32.8</td>\n",
       "      <td>5.0</td>\n",
       "      <td>5.0</td>\n",
       "      <td>6.0</td>\n",
       "      <td>11800</td>\n",
       "      <td>12</td>\n",
       "    </tr>\n",
       "    <tr>\n",
       "      <th>93049</th>\n",
       "      <td>Iowa</td>\n",
       "      <td>000000000502671</td>\n",
       "      <td>N</td>\n",
       "      <td>N</td>\n",
       "      <td>N</td>\n",
       "      <td>N</td>\n",
       "      <td>3.0</td>\n",
       "      <td>118</td>\n",
       "      <td>73.0</td>\n",
       "      <td>19.0</td>\n",
       "      <td>...</td>\n",
       "      <td>0</td>\n",
       "      <td>15.0</td>\n",
       "      <td>9.8</td>\n",
       "      <td>0.0</td>\n",
       "      <td>0.0</td>\n",
       "      <td>NaN</td>\n",
       "      <td>NaN</td>\n",
       "      <td>NaN</td>\n",
       "      <td>1060</td>\n",
       "      <td>0</td>\n",
       "    </tr>\n",
       "    <tr>\n",
       "      <th>...</th>\n",
       "      <td>...</td>\n",
       "      <td>...</td>\n",
       "      <td>...</td>\n",
       "      <td>...</td>\n",
       "      <td>...</td>\n",
       "      <td>...</td>\n",
       "      <td>...</td>\n",
       "      <td>...</td>\n",
       "      <td>...</td>\n",
       "      <td>...</td>\n",
       "      <td>...</td>\n",
       "      <td>...</td>\n",
       "      <td>...</td>\n",
       "      <td>...</td>\n",
       "      <td>...</td>\n",
       "      <td>...</td>\n",
       "      <td>...</td>\n",
       "      <td>...</td>\n",
       "      <td>...</td>\n",
       "      <td>...</td>\n",
       "      <td>...</td>\n",
       "    </tr>\n",
       "    <tr>\n",
       "      <th>116789</th>\n",
       "      <td>Iowa</td>\n",
       "      <td>000000000700340</td>\n",
       "      <td>1</td>\n",
       "      <td>1</td>\n",
       "      <td>0</td>\n",
       "      <td>1</td>\n",
       "      <td>3.0</td>\n",
       "      <td>119</td>\n",
       "      <td>64.0</td>\n",
       "      <td>11.0</td>\n",
       "      <td>...</td>\n",
       "      <td>0</td>\n",
       "      <td>31.0</td>\n",
       "      <td>85.0</td>\n",
       "      <td>62.7</td>\n",
       "      <td>65.6</td>\n",
       "      <td>9.0</td>\n",
       "      <td>9.0</td>\n",
       "      <td>9.0</td>\n",
       "      <td>13450</td>\n",
       "      <td>18</td>\n",
       "    </tr>\n",
       "    <tr>\n",
       "      <th>116790</th>\n",
       "      <td>Iowa</td>\n",
       "      <td>000000000034671</td>\n",
       "      <td>1</td>\n",
       "      <td>1</td>\n",
       "      <td>0</td>\n",
       "      <td>1</td>\n",
       "      <td>3.0</td>\n",
       "      <td>115</td>\n",
       "      <td>75.0</td>\n",
       "      <td>7.0</td>\n",
       "      <td>...</td>\n",
       "      <td>0</td>\n",
       "      <td>0.0</td>\n",
       "      <td>30.8</td>\n",
       "      <td>30.5</td>\n",
       "      <td>33.1</td>\n",
       "      <td>9.0</td>\n",
       "      <td>9.0</td>\n",
       "      <td>9.0</td>\n",
       "      <td>700</td>\n",
       "      <td>0</td>\n",
       "    </tr>\n",
       "    <tr>\n",
       "      <th>116791</th>\n",
       "      <td>Iowa</td>\n",
       "      <td>000000000230571</td>\n",
       "      <td>1</td>\n",
       "      <td>1</td>\n",
       "      <td>0</td>\n",
       "      <td>0</td>\n",
       "      <td>3.0</td>\n",
       "      <td>115</td>\n",
       "      <td>75.0</td>\n",
       "      <td>9.0</td>\n",
       "      <td>...</td>\n",
       "      <td>0</td>\n",
       "      <td>15.0</td>\n",
       "      <td>30.8</td>\n",
       "      <td>30.5</td>\n",
       "      <td>33.1</td>\n",
       "      <td>9.0</td>\n",
       "      <td>9.0</td>\n",
       "      <td>9.0</td>\n",
       "      <td>25</td>\n",
       "      <td>0</td>\n",
       "    </tr>\n",
       "    <tr>\n",
       "      <th>116792</th>\n",
       "      <td>Iowa</td>\n",
       "      <td>000000000003060</td>\n",
       "      <td>1</td>\n",
       "      <td>6</td>\n",
       "      <td>0</td>\n",
       "      <td>0</td>\n",
       "      <td>3.0</td>\n",
       "      <td>117</td>\n",
       "      <td>67.0</td>\n",
       "      <td>19.0</td>\n",
       "      <td>...</td>\n",
       "      <td>1984</td>\n",
       "      <td>24.0</td>\n",
       "      <td>28.9</td>\n",
       "      <td>24.3</td>\n",
       "      <td>34.4</td>\n",
       "      <td>0.0</td>\n",
       "      <td>0.0</td>\n",
       "      <td>0.0</td>\n",
       "      <td>3160</td>\n",
       "      <td>0</td>\n",
       "    </tr>\n",
       "    <tr>\n",
       "      <th>116793</th>\n",
       "      <td>Iowa</td>\n",
       "      <td>000000000004490</td>\n",
       "      <td>1</td>\n",
       "      <td>1</td>\n",
       "      <td>0</td>\n",
       "      <td>0</td>\n",
       "      <td>3.0</td>\n",
       "      <td>116</td>\n",
       "      <td>89.0</td>\n",
       "      <td>7.0</td>\n",
       "      <td>...</td>\n",
       "      <td>0</td>\n",
       "      <td>0.0</td>\n",
       "      <td>99.1</td>\n",
       "      <td>22.0</td>\n",
       "      <td>26.9</td>\n",
       "      <td>6.0</td>\n",
       "      <td>5.0</td>\n",
       "      <td>4.0</td>\n",
       "      <td>610</td>\n",
       "      <td>0</td>\n",
       "    </tr>\n",
       "  </tbody>\n",
       "</table>\n",
       "<p>23749 rows × 38 columns</p>\n",
       "</div>"
      ],
      "text/plain": [
       "       state           str_id deck_type wearing_type membrane_type  \\\n",
       "93045   Iowa  000000000171401         N            N             N   \n",
       "93046   Iowa  000000000171920         8            7             0   \n",
       "93047   Iowa  000000000021055         1            4             0   \n",
       "93048   Iowa  000000000020860         1            0             0   \n",
       "93049   Iowa  000000000502671         N            N             N   \n",
       "...      ...              ...       ...          ...           ...   \n",
       "116789  Iowa  000000000700340         1            1             0   \n",
       "116790  Iowa  000000000034671         1            1             0   \n",
       "116791  Iowa  000000000230571         1            1             0   \n",
       "116792  Iowa  000000000003060         1            6             0   \n",
       "116793  Iowa  000000000004490         1            1             0   \n",
       "\n",
       "       deck_protection  toll  freeze_thaw_cycle  snowfall_days  \\\n",
       "93045                N   3.0                116           74.0   \n",
       "93046                0   3.0                116           74.0   \n",
       "93047                0   3.0                118           73.0   \n",
       "93048                1   3.0                118           73.0   \n",
       "93049                N   3.0                118           73.0   \n",
       "...                ...   ...                ...            ...   \n",
       "116789               1   3.0                119           64.0   \n",
       "116790               1   3.0                115           75.0   \n",
       "116791               0   3.0                115           75.0   \n",
       "116792               0   3.0                117           67.0   \n",
       "116793               0   3.0                116           89.0   \n",
       "\n",
       "        inventory_class_route  ...  yr_reconst  skew  max_span  bridge_width  \\\n",
       "93045                     7.0  ...           0  45.0       9.8           0.0   \n",
       "93046                     8.0  ...        2008   0.0     160.1          14.4   \n",
       "93047                    14.0  ...           0   0.0     500.0          24.9   \n",
       "93048                    14.0  ...        1999   0.0     644.0          29.2   \n",
       "93049                    19.0  ...           0  15.0       9.8           0.0   \n",
       "...                       ...  ...         ...   ...       ...           ...   \n",
       "116789                   11.0  ...           0  31.0      85.0          62.7   \n",
       "116790                    7.0  ...           0   0.0      30.8          30.5   \n",
       "116791                    9.0  ...           0  15.0      30.8          30.5   \n",
       "116792                   19.0  ...        1984  24.0      28.9          24.3   \n",
       "116793                    7.0  ...           0   0.0      99.1          22.0   \n",
       "\n",
       "        deck_width  super_st_condition  sub_st_condition  deck_condition  \\\n",
       "93045          0.0                 NaN               NaN             NaN   \n",
       "93046         16.1                 0.0               0.0             0.0   \n",
       "93047         33.1                 6.0               6.0             6.0   \n",
       "93048         32.8                 5.0               5.0             6.0   \n",
       "93049          0.0                 NaN               NaN             NaN   \n",
       "...            ...                 ...               ...             ...   \n",
       "116789        65.6                 9.0               9.0             9.0   \n",
       "116790        33.1                 9.0               9.0             9.0   \n",
       "116791        33.1                 9.0               9.0             9.0   \n",
       "116792        34.4                 0.0               0.0             0.0   \n",
       "116793        26.9                 6.0               5.0             4.0   \n",
       "\n",
       "        avg_daily_trfic avg_truck_trfc  \n",
       "93045               230             19  \n",
       "93046                60              0  \n",
       "93047             10500              2  \n",
       "93048             11800             12  \n",
       "93049              1060              0  \n",
       "...                 ...            ...  \n",
       "116789            13450             18  \n",
       "116790              700              0  \n",
       "116791               25              0  \n",
       "116792             3160              0  \n",
       "116793              610              0  \n",
       "\n",
       "[23749 rows x 38 columns]"
      ]
     },
     "execution_count": 164,
     "metadata": {},
     "output_type": "execute_result"
    }
   ],
   "source": [
    "df.loc[df['state']=='Iowa']"
   ]
  },
  {
   "cell_type": "code",
   "execution_count": 165,
   "metadata": {
    "ExecuteTime": {
     "end_time": "2021-08-30T18:56:44.861505Z",
     "start_time": "2021-08-30T18:56:44.849979Z"
    }
   },
   "outputs": [
    {
     "data": {
      "text/plain": [
       "(592756, 38)"
      ]
     },
     "execution_count": 165,
     "metadata": {},
     "output_type": "execute_result"
    }
   ],
   "source": [
    "df.shape"
   ]
  },
  {
   "cell_type": "code",
   "execution_count": 59,
   "metadata": {
    "ExecuteTime": {
     "end_time": "2021-08-30T17:52:58.175871Z",
     "start_time": "2021-08-30T17:52:58.162823Z"
    }
   },
   "outputs": [],
   "source": [
    "# sns.set_style('darkgrid')"
   ]
  },
  {
   "cell_type": "code",
   "execution_count": 106,
   "metadata": {
    "ExecuteTime": {
     "end_time": "2021-08-30T18:23:39.942044Z",
     "start_time": "2021-08-30T18:23:39.090379Z"
    }
   },
   "outputs": [
    {
     "data": {
      "text/plain": [
       "Text(0, 0.5, 'Number of Bridges')"
      ]
     },
     "execution_count": 106,
     "metadata": {},
     "output_type": "execute_result"
    },
    {
     "data": {
      "image/png": "[encoded data removed]",
      "text/plain": [
       "<Figure size 432x288 with 1 Axes>"
      ]
     },
     "metadata": {},
     "output_type": "display_data"
    }
   ],
   "source": [
    "#plot number of wells according to functionality\n",
    "plt.hist(df['bridge_condition']);\n",
    "plt.title('Classification of Bridges')\n",
    "plt.ylabel('Number of Bridges')"
   ]
  },
  {
   "cell_type": "code",
   "execution_count": null,
   "metadata": {
    "ExecuteTime": {
     "end_time": "2021-08-29T21:46:37.796857Z",
     "start_time": "2021-08-29T21:46:37.782195Z"
    }
   },
   "outputs": [],
   "source": [
    "df.columns"
   ]
  },
  {
   "cell_type": "code",
   "execution_count": null,
   "metadata": {},
   "outputs": [],
   "source": []
  },
  {
   "cell_type": "code",
   "execution_count": null,
   "metadata": {
    "ExecuteTime": {
     "end_time": "2021-08-29T21:46:39.006497Z",
     "start_time": "2021-08-29T21:46:38.434137Z"
    }
   },
   "outputs": [],
   "source": [
    "\n",
    "sns.barplot(y='bridge_condition', x='wearing_type', data=df2)"
   ]
  },
  {
   "cell_type": "code",
   "execution_count": null,
   "metadata": {
    "ExecuteTime": {
     "end_time": "2021-08-29T21:46:39.011489Z",
     "start_time": "2021-08-29T21:46:34.633Z"
    }
   },
   "outputs": [],
   "source": [
    "\n",
    "sns.barplot(y='bridge_condition', x='avg_daily_trfic', data=df2)"
   ]
  },
  {
   "cell_type": "code",
   "execution_count": null,
   "metadata": {
    "ExecuteTime": {
     "end_time": "2021-08-29T21:46:39.014491Z",
     "start_time": "2021-08-29T21:46:34.944Z"
    }
   },
   "outputs": [],
   "source": [
    "import seaborn as sns\n",
    "sns.set_theme(style=\"whitegrid\")\n",
    "\n",
    "# Draw a nested barplot by bridge_condition and avg_daily_trfic\n",
    "g = sns.catplot(\n",
    "    data=df, kind=\"bar\",\n",
    "    x=\"bridge_condition\", y=\"avg_daily_trfic\",\n",
    "     height=6\n",
    ")\n",
    "g.despine(left=True)\n",
    "g.set_axis_labels(\"\", \"Average Daily Traffic\")\n",
    "plt.title(\"Condition of Bridge vs Average Daily Traffic\", fontsize=20);"
   ]
  },
  {
   "cell_type": "code",
   "execution_count": null,
   "metadata": {},
   "outputs": [],
   "source": []
  },
  {
   "cell_type": "code",
   "execution_count": null,
   "metadata": {
    "ExecuteTime": {
     "end_time": "2021-08-29T21:46:39.018488Z",
     "start_time": "2021-08-29T21:46:35.904Z"
    }
   },
   "outputs": [],
   "source": [
    "#plot number of wells according to functionality\n",
    "sns.set_theme(style=\"darkgrid\")\n",
    "plt.figure(figsize=(8,6))\n",
    "sns.histplot(df['bridge_condition'], bins='auto');\n",
    "plt.title('Classification of Bridges', fontsize=20)\n",
    "plt.ylabel('Number of Bridges')\n",
    "plt.xlabel('Bridge Condition')"
   ]
  },
  {
   "cell_type": "code",
   "execution_count": null,
   "metadata": {
    "ExecuteTime": {
     "end_time": "2021-08-29T21:46:39.022546Z",
     "start_time": "2021-08-29T21:46:36.631Z"
    }
   },
   "outputs": [],
   "source": [
    "import seaborn as sns\n",
    "sns.set_theme(style=\"whitegrid\")\n",
    "\n",
    "# Draw a nested barplot by bridge_condition and avg_daily_trfic\n",
    "g = sns.catplot(\n",
    "    data=df, kind=\"bar\",\n",
    "    x=\"bridge_condition\", y='avg_truck_trfc',\n",
    "     height=6\n",
    ")\n",
    "g.despine(left=True)\n",
    "g.set_axis_labels(\"\", \"Average Daily Traffic\")\n",
    "plt.title(\"Condition of Bridge vs Average Daily Traffic\", fontsize=20);"
   ]
  },
  {
   "cell_type": "code",
   "execution_count": null,
   "metadata": {},
   "outputs": [],
   "source": []
  },
  {
   "cell_type": "code",
   "execution_count": null,
   "metadata": {
    "ExecuteTime": {
     "end_time": "2021-08-29T21:46:39.025489Z",
     "start_time": "2021-08-29T21:46:38.458Z"
    }
   },
   "outputs": [],
   "source": [
    "# plot wells on map with respect to water point height\n",
    "plt.figure(figsize=(14,8))\n",
    "\n",
    "plt.scatter(x='longitude', y='latitude', c='bridge_age' , data=df2, s=10, cmap='twilight')\n",
    "plt.colorbar().set_label('Average Daily Traffic')\n",
    "plt.xlabel('Longitude', fontsize=15)\n",
    "plt.ylabel('Latitude', fontsize=15)\n",
    "plt.title('Location of bridges and Average daily Traffic', fontsize=20)\n",
    "\n",
    "plt.show()\n"
   ]
  },
  {
   "cell_type": "code",
   "execution_count": null,
   "metadata": {},
   "outputs": [],
   "source": []
  },
  {
   "cell_type": "code",
   "execution_count": null,
   "metadata": {
    "ExecuteTime": {
     "end_time": "2021-08-29T21:46:47.724629Z",
     "start_time": "2021-08-29T21:46:39.227579Z"
    }
   },
   "outputs": [],
   "source": [
    "import seaborn as sns\n",
    "sns.set_theme(style=\"whitegrid\")\n",
    "\n",
    "# Draw a nested barplot by bridge_condition and avg_daily_trfic\n",
    "g = sns.catplot(\n",
    "    data=df, kind=\"bar\",\n",
    "    x=\"bridge_condition\", y='bridge_age',\n",
    "     height=6\n",
    ")\n",
    "g.despine(left=True)\n",
    "g.set_axis_labels('','Bridge Age')\n",
    "plt.title(\"Condition of Bridge vs Average Daily Traffic\", fontsize=20);"
   ]
  },
  {
   "cell_type": "code",
   "execution_count": null,
   "metadata": {
    "ExecuteTime": {
     "end_time": "2021-08-29T21:46:48.327641Z",
     "start_time": "2021-08-29T21:46:48.311552Z"
    }
   },
   "outputs": [],
   "source": [
    "df.bridge_age.value_counts()"
   ]
  },
  {
   "cell_type": "code",
   "execution_count": null,
   "metadata": {
    "ExecuteTime": {
     "end_time": "2021-08-30T17:26:00.962220Z",
     "start_time": "2021-08-30T17:25:58.879944Z"
    }
   },
   "outputs": [],
   "source": [
    "\n",
    "\n"
   ]
  },
  {
   "cell_type": "code",
   "execution_count": 204,
   "metadata": {
    "ExecuteTime": {
     "end_time": "2021-08-30T19:11:20.573742Z",
     "start_time": "2021-08-30T19:11:20.522176Z"
    }
   },
   "outputs": [
    {
     "data": {
      "text/html": [
       "<div>\n",
       "<style scoped>\n",
       "    .dataframe tbody tr th:only-of-type {\n",
       "        vertical-align: middle;\n",
       "    }\n",
       "\n",
       "    .dataframe tbody tr th {\n",
       "        vertical-align: top;\n",
       "    }\n",
       "\n",
       "    .dataframe thead th {\n",
       "        text-align: right;\n",
       "    }\n",
       "</style>\n",
       "<table border=\"1\" class=\"dataframe\">\n",
       "  <thead>\n",
       "    <tr style=\"text-align: right;\">\n",
       "      <th></th>\n",
       "      <th>state</th>\n",
       "      <th>bridge_condition</th>\n",
       "    </tr>\n",
       "  </thead>\n",
       "  <tbody>\n",
       "    <tr>\n",
       "      <th>0</th>\n",
       "      <td>Alabama</td>\n",
       "      <td>Good</td>\n",
       "    </tr>\n",
       "    <tr>\n",
       "      <th>1</th>\n",
       "      <td>Alabama</td>\n",
       "      <td>Fair</td>\n",
       "    </tr>\n",
       "    <tr>\n",
       "      <th>2</th>\n",
       "      <td>Alabama</td>\n",
       "      <td>Good</td>\n",
       "    </tr>\n",
       "    <tr>\n",
       "      <th>3</th>\n",
       "      <td>Alabama</td>\n",
       "      <td>Fair</td>\n",
       "    </tr>\n",
       "    <tr>\n",
       "      <th>4</th>\n",
       "      <td>Alabama</td>\n",
       "      <td>Fair</td>\n",
       "    </tr>\n",
       "  </tbody>\n",
       "</table>\n",
       "</div>"
      ],
      "text/plain": [
       "       state bridge_condition\n",
       "0    Alabama             Good\n",
       "1    Alabama             Fair\n",
       "2    Alabama             Good\n",
       "3    Alabama             Fair\n",
       "4    Alabama             Fair"
      ]
     },
     "execution_count": 204,
     "metadata": {},
     "output_type": "execute_result"
    }
   ],
   "source": [
    "dff = df[['state', 'bridge_condition']]\n",
    "dff.head()"
   ]
  },
  {
   "cell_type": "code",
   "execution_count": null,
   "metadata": {},
   "outputs": [],
   "source": []
  },
  {
   "cell_type": "code",
   "execution_count": 205,
   "metadata": {
    "ExecuteTime": {
     "end_time": "2021-08-30T19:11:24.665351Z",
     "start_time": "2021-08-30T19:11:24.283989Z"
    },
    "scrolled": true
   },
   "outputs": [
    {
     "data": {
      "text/html": [
       "<div>\n",
       "<style scoped>\n",
       "    .dataframe tbody tr th:only-of-type {\n",
       "        vertical-align: middle;\n",
       "    }\n",
       "\n",
       "    .dataframe tbody tr th {\n",
       "        vertical-align: top;\n",
       "    }\n",
       "\n",
       "    .dataframe thead th {\n",
       "        text-align: right;\n",
       "    }\n",
       "</style>\n",
       "<table border=\"1\" class=\"dataframe\">\n",
       "  <thead>\n",
       "    <tr style=\"text-align: right;\">\n",
       "      <th></th>\n",
       "      <th>state</th>\n",
       "      <th>bridge_condition</th>\n",
       "      <th>perc_count</th>\n",
       "    </tr>\n",
       "  </thead>\n",
       "  <tbody>\n",
       "    <tr>\n",
       "      <th>0</th>\n",
       "      <td>Alabama</td>\n",
       "      <td>Fair</td>\n",
       "      <td>0.550587</td>\n",
       "    </tr>\n",
       "    <tr>\n",
       "      <th>1</th>\n",
       "      <td>Alabama</td>\n",
       "      <td>Good</td>\n",
       "      <td>0.410988</td>\n",
       "    </tr>\n",
       "    <tr>\n",
       "      <th>2</th>\n",
       "      <td>Alabama</td>\n",
       "      <td>Poor</td>\n",
       "      <td>0.038425</td>\n",
       "    </tr>\n",
       "    <tr>\n",
       "      <th>3</th>\n",
       "      <td>Alaska</td>\n",
       "      <td>Fair</td>\n",
       "      <td>0.482892</td>\n",
       "    </tr>\n",
       "    <tr>\n",
       "      <th>4</th>\n",
       "      <td>Alaska</td>\n",
       "      <td>Good</td>\n",
       "      <td>0.434474</td>\n",
       "    </tr>\n",
       "  </tbody>\n",
       "</table>\n",
       "</div>"
      ],
      "text/plain": [
       "       state bridge_condition  perc_count\n",
       "0    Alabama             Fair    0.550587\n",
       "1    Alabama             Good    0.410988\n",
       "2    Alabama             Poor    0.038425\n",
       "3     Alaska             Fair    0.482892\n",
       "4     Alaska             Good    0.434474"
      ]
     },
     "execution_count": 205,
     "metadata": {},
     "output_type": "execute_result"
    }
   ],
   "source": [
    "dfx = dff.groupby('state')['bridge_condition'].value_counts(normalize=True).reset_index(name='perc_count')\n",
    "dfx.head()"
   ]
  },
  {
   "cell_type": "code",
   "execution_count": 206,
   "metadata": {
    "ExecuteTime": {
     "end_time": "2021-08-30T19:11:24.721940Z",
     "start_time": "2021-08-30T19:11:24.669350Z"
    }
   },
   "outputs": [
    {
     "data": {
      "text/html": [
       "<div>\n",
       "<style scoped>\n",
       "    .dataframe tbody tr th:only-of-type {\n",
       "        vertical-align: middle;\n",
       "    }\n",
       "\n",
       "    .dataframe tbody tr th {\n",
       "        vertical-align: top;\n",
       "    }\n",
       "\n",
       "    .dataframe thead th {\n",
       "        text-align: right;\n",
       "    }\n",
       "</style>\n",
       "<table border=\"1\" class=\"dataframe\">\n",
       "  <thead>\n",
       "    <tr style=\"text-align: right;\">\n",
       "      <th></th>\n",
       "      <th>state</th>\n",
       "      <th>bridge_condition</th>\n",
       "      <th>perc_count</th>\n",
       "    </tr>\n",
       "  </thead>\n",
       "  <tbody>\n",
       "    <tr>\n",
       "      <th>143</th>\n",
       "      <td>West Virginia</td>\n",
       "      <td>Poor</td>\n",
       "      <td>0.212489</td>\n",
       "    </tr>\n",
       "    <tr>\n",
       "      <th>154</th>\n",
       "      <td>Iowa</td>\n",
       "      <td>Poor</td>\n",
       "      <td>0.190871</td>\n",
       "    </tr>\n",
       "    <tr>\n",
       "      <th>116</th>\n",
       "      <td>Rhode Island</td>\n",
       "      <td>Poor</td>\n",
       "      <td>0.182944</td>\n",
       "    </tr>\n",
       "    <tr>\n",
       "      <th>122</th>\n",
       "      <td>South Dakota</td>\n",
       "      <td>Poor</td>\n",
       "      <td>0.177805</td>\n",
       "    </tr>\n",
       "    <tr>\n",
       "      <th>113</th>\n",
       "      <td>Pennsylvania</td>\n",
       "      <td>Poor</td>\n",
       "      <td>0.143127</td>\n",
       "    </tr>\n",
       "    <tr>\n",
       "      <th>56</th>\n",
       "      <td>Maine</td>\n",
       "      <td>Poor</td>\n",
       "      <td>0.130526</td>\n",
       "    </tr>\n",
       "    <tr>\n",
       "      <th>53</th>\n",
       "      <td>Louisiana</td>\n",
       "      <td>Poor</td>\n",
       "      <td>0.123979</td>\n",
       "    </tr>\n",
       "    <tr>\n",
       "      <th>65</th>\n",
       "      <td>Michigan</td>\n",
       "      <td>Poor</td>\n",
       "      <td>0.109354</td>\n",
       "    </tr>\n",
       "    <tr>\n",
       "      <th>101</th>\n",
       "      <td>North Dakota</td>\n",
       "      <td>Poor</td>\n",
       "      <td>0.103464</td>\n",
       "    </tr>\n",
       "    <tr>\n",
       "      <th>107</th>\n",
       "      <td>Oklahoma</td>\n",
       "      <td>Poor</td>\n",
       "      <td>0.100594</td>\n",
       "    </tr>\n",
       "    <tr>\n",
       "      <th>95</th>\n",
       "      <td>New York</td>\n",
       "      <td>Poor</td>\n",
       "      <td>0.099323</td>\n",
       "    </tr>\n",
       "    <tr>\n",
       "      <th>62</th>\n",
       "      <td>Massachusetts</td>\n",
       "      <td>Poor</td>\n",
       "      <td>0.090401</td>\n",
       "    </tr>\n",
       "    <tr>\n",
       "      <th>74</th>\n",
       "      <td>Missouri</td>\n",
       "      <td>Poor</td>\n",
       "      <td>0.089619</td>\n",
       "    </tr>\n",
       "    <tr>\n",
       "      <th>41</th>\n",
       "      <td>Illinois</td>\n",
       "      <td>Poor</td>\n",
       "      <td>0.089411</td>\n",
       "    </tr>\n",
       "    <tr>\n",
       "      <th>86</th>\n",
       "      <td>New Hampshire</td>\n",
       "      <td>Poor</td>\n",
       "      <td>0.088403</td>\n",
       "    </tr>\n",
       "    <tr>\n",
       "      <th>80</th>\n",
       "      <td>Nebraska</td>\n",
       "      <td>Poor</td>\n",
       "      <td>0.085166</td>\n",
       "    </tr>\n",
       "    <tr>\n",
       "      <th>5</th>\n",
       "      <td>Alaska</td>\n",
       "      <td>Poor</td>\n",
       "      <td>0.082634</td>\n",
       "    </tr>\n",
       "    <tr>\n",
       "      <th>71</th>\n",
       "      <td>Mississippi</td>\n",
       "      <td>Poor</td>\n",
       "      <td>0.082415</td>\n",
       "    </tr>\n",
       "    <tr>\n",
       "      <th>98</th>\n",
       "      <td>North Carolina</td>\n",
       "      <td>Poor</td>\n",
       "      <td>0.081483</td>\n",
       "    </tr>\n",
       "    <tr>\n",
       "      <th>119</th>\n",
       "      <td>South Carolina</td>\n",
       "      <td>Poor</td>\n",
       "      <td>0.078833</td>\n",
       "    </tr>\n",
       "  </tbody>\n",
       "</table>\n",
       "</div>"
      ],
      "text/plain": [
       "                state bridge_condition  perc_count\n",
       "143     West Virginia             Poor    0.212489\n",
       "154              Iowa             Poor    0.190871\n",
       "116      Rhode Island             Poor    0.182944\n",
       "122      South Dakota             Poor    0.177805\n",
       "113      Pennsylvania             Poor    0.143127\n",
       "56              Maine             Poor    0.130526\n",
       "53          Louisiana             Poor    0.123979\n",
       "65           Michigan             Poor    0.109354\n",
       "101      North Dakota             Poor    0.103464\n",
       "107          Oklahoma             Poor    0.100594\n",
       "95           New York             Poor    0.099323\n",
       "62      Massachusetts             Poor    0.090401\n",
       "74           Missouri             Poor    0.089619\n",
       "41           Illinois             Poor    0.089411\n",
       "86      New Hampshire             Poor    0.088403\n",
       "80           Nebraska             Poor    0.085166\n",
       "5              Alaska             Poor    0.082634\n",
       "71        Mississippi             Poor    0.082415\n",
       "98     North Carolina             Poor    0.081483\n",
       "119    South Carolina             Poor    0.078833"
      ]
     },
     "execution_count": 206,
     "metadata": {},
     "output_type": "execute_result"
    }
   ],
   "source": [
    "poor_df = dfx.loc[dfx['bridge_condition']=='Poor'].sort_values(by='perc_count', ascending=False)[:20]\n",
    "poor_df"
   ]
  },
  {
   "cell_type": "code",
   "execution_count": 229,
   "metadata": {
    "ExecuteTime": {
     "end_time": "2021-08-30T19:18:57.110182Z",
     "start_time": "2021-08-30T19:18:56.113600Z"
    }
   },
   "outputs": [
    {
     "data": {
      "image/png": "[encoded data removed]",
      "text/plain": [
       "<Figure size 864x576 with 1 Axes>"
      ]
     },
     "metadata": {},
     "output_type": "display_data"
    }
   ],
   "source": [
    "plt.figure(figsize=(12,8))\n",
    "sns.barplot(y=poor_df['state'], x=poor_df['perc_count'], color='r')\n",
    "plt.xlabel('Percentage')\n",
    "plt.ylabel('States')\n",
    "plt.title('Top 20 States with Poor Bridge Condition(%)', fontsize=20);"
   ]
  },
  {
   "cell_type": "code",
   "execution_count": 208,
   "metadata": {
    "ExecuteTime": {
     "end_time": "2021-08-30T19:11:25.836715Z",
     "start_time": "2021-08-30T19:11:25.810189Z"
    }
   },
   "outputs": [
    {
     "data": {
      "text/html": [
       "<div>\n",
       "<style scoped>\n",
       "    .dataframe tbody tr th:only-of-type {\n",
       "        vertical-align: middle;\n",
       "    }\n",
       "\n",
       "    .dataframe tbody tr th {\n",
       "        vertical-align: top;\n",
       "    }\n",
       "\n",
       "    .dataframe thead th {\n",
       "        text-align: right;\n",
       "    }\n",
       "</style>\n",
       "<table border=\"1\" class=\"dataframe\">\n",
       "  <thead>\n",
       "    <tr style=\"text-align: right;\">\n",
       "      <th></th>\n",
       "      <th>state</th>\n",
       "      <th>bridge_condition</th>\n",
       "      <th>perc_count</th>\n",
       "    </tr>\n",
       "  </thead>\n",
       "  <tbody>\n",
       "    <tr>\n",
       "      <th>33</th>\n",
       "      <td>Hawaii</td>\n",
       "      <td>Fair</td>\n",
       "      <td>0.735079</td>\n",
       "    </tr>\n",
       "    <tr>\n",
       "      <th>24</th>\n",
       "      <td>District of Columbia</td>\n",
       "      <td>Fair</td>\n",
       "      <td>0.716129</td>\n",
       "    </tr>\n",
       "    <tr>\n",
       "      <th>60</th>\n",
       "      <td>Massachusetts</td>\n",
       "      <td>Fair</td>\n",
       "      <td>0.657093</td>\n",
       "    </tr>\n",
       "    <tr>\n",
       "      <th>87</th>\n",
       "      <td>New Jersey</td>\n",
       "      <td>Fair</td>\n",
       "      <td>0.656988</td>\n",
       "    </tr>\n",
       "    <tr>\n",
       "      <th>18</th>\n",
       "      <td>Connecticut</td>\n",
       "      <td>Fair</td>\n",
       "      <td>0.654053</td>\n",
       "    </tr>\n",
       "    <tr>\n",
       "      <th>21</th>\n",
       "      <td>Delaware</td>\n",
       "      <td>Fair</td>\n",
       "      <td>0.651807</td>\n",
       "    </tr>\n",
       "    <tr>\n",
       "      <th>36</th>\n",
       "      <td>Idaho</td>\n",
       "      <td>Fair</td>\n",
       "      <td>0.648389</td>\n",
       "    </tr>\n",
       "    <tr>\n",
       "      <th>147</th>\n",
       "      <td>Wyoming</td>\n",
       "      <td>Fair</td>\n",
       "      <td>0.647251</td>\n",
       "    </tr>\n",
       "    <tr>\n",
       "      <th>114</th>\n",
       "      <td>Rhode Island</td>\n",
       "      <td>Fair</td>\n",
       "      <td>0.634113</td>\n",
       "    </tr>\n",
       "    <tr>\n",
       "      <th>48</th>\n",
       "      <td>Kentucky</td>\n",
       "      <td>Fair</td>\n",
       "      <td>0.632639</td>\n",
       "    </tr>\n",
       "    <tr>\n",
       "      <th>135</th>\n",
       "      <td>Virginia</td>\n",
       "      <td>Fair</td>\n",
       "      <td>0.629563</td>\n",
       "    </tr>\n",
       "    <tr>\n",
       "      <th>75</th>\n",
       "      <td>Montana</td>\n",
       "      <td>Fair</td>\n",
       "      <td>0.626055</td>\n",
       "    </tr>\n",
       "    <tr>\n",
       "      <th>57</th>\n",
       "      <td>Maryland</td>\n",
       "      <td>Fair</td>\n",
       "      <td>0.625792</td>\n",
       "    </tr>\n",
       "    <tr>\n",
       "      <th>108</th>\n",
       "      <td>Oregon</td>\n",
       "      <td>Fair</td>\n",
       "      <td>0.612911</td>\n",
       "    </tr>\n",
       "    <tr>\n",
       "      <th>129</th>\n",
       "      <td>Utah</td>\n",
       "      <td>Fair</td>\n",
       "      <td>0.600000</td>\n",
       "    </tr>\n",
       "    <tr>\n",
       "      <th>54</th>\n",
       "      <td>Maine</td>\n",
       "      <td>Fair</td>\n",
       "      <td>0.582737</td>\n",
       "    </tr>\n",
       "    <tr>\n",
       "      <th>15</th>\n",
       "      <td>Colorado</td>\n",
       "      <td>Fair</td>\n",
       "      <td>0.577638</td>\n",
       "    </tr>\n",
       "    <tr>\n",
       "      <th>90</th>\n",
       "      <td>New Mexico</td>\n",
       "      <td>Fair</td>\n",
       "      <td>0.577100</td>\n",
       "    </tr>\n",
       "    <tr>\n",
       "      <th>0</th>\n",
       "      <td>Alabama</td>\n",
       "      <td>Fair</td>\n",
       "      <td>0.550587</td>\n",
       "    </tr>\n",
       "    <tr>\n",
       "      <th>141</th>\n",
       "      <td>West Virginia</td>\n",
       "      <td>Fair</td>\n",
       "      <td>0.545493</td>\n",
       "    </tr>\n",
       "  </tbody>\n",
       "</table>\n",
       "</div>"
      ],
      "text/plain": [
       "                      state bridge_condition  perc_count\n",
       "33                   Hawaii             Fair    0.735079\n",
       "24     District of Columbia             Fair    0.716129\n",
       "60            Massachusetts             Fair    0.657093\n",
       "87               New Jersey             Fair    0.656988\n",
       "18              Connecticut             Fair    0.654053\n",
       "21                 Delaware             Fair    0.651807\n",
       "36                    Idaho             Fair    0.648389\n",
       "147                 Wyoming             Fair    0.647251\n",
       "114            Rhode Island             Fair    0.634113\n",
       "48                 Kentucky             Fair    0.632639\n",
       "135                Virginia             Fair    0.629563\n",
       "75                  Montana             Fair    0.626055\n",
       "57                 Maryland             Fair    0.625792\n",
       "108                  Oregon             Fair    0.612911\n",
       "129                    Utah             Fair    0.600000\n",
       "54                    Maine             Fair    0.582737\n",
       "15                 Colorado             Fair    0.577638\n",
       "90               New Mexico             Fair    0.577100\n",
       "0                   Alabama             Fair    0.550587\n",
       "141           West Virginia             Fair    0.545493"
      ]
     },
     "execution_count": 208,
     "metadata": {},
     "output_type": "execute_result"
    }
   ],
   "source": [
    "fair_df = dfx.loc[dfx['bridge_condition']=='Fair'].sort_values(by='perc_count', ascending=False)[:20]\n",
    "fair_df"
   ]
  },
  {
   "cell_type": "code",
   "execution_count": 228,
   "metadata": {
    "ExecuteTime": {
     "end_time": "2021-08-30T19:17:36.032927Z",
     "start_time": "2021-08-30T19:17:35.063978Z"
    }
   },
   "outputs": [
    {
     "data": {
      "image/png": "[encoded data removed]",
      "text/plain": [
       "<Figure size 864x576 with 1 Axes>"
      ]
     },
     "metadata": {},
     "output_type": "display_data"
    }
   ],
   "source": [
    "plt.figure(figsize=(12,8))\n",
    "sns.barplot(y=fair_df['state'], x=fair_df['perc_count'], color='b')\n",
    "plt.xlabel('Percentage')\n",
    "plt.ylabel('States')\n",
    "plt.title('Top 20 States with Fair Bridge Condition(%)', fontsize=20);"
   ]
  },
  {
   "cell_type": "code",
   "execution_count": null,
   "metadata": {},
   "outputs": [],
   "source": []
  },
  {
   "cell_type": "code",
   "execution_count": 227,
   "metadata": {
    "ExecuteTime": {
     "end_time": "2021-08-30T19:15:43.027546Z",
     "start_time": "2021-08-30T19:15:41.892039Z"
    }
   },
   "outputs": [
    {
     "data": {
      "image/png": "[encoded data removed]",
      "text/plain": [
       "<Figure size 432x576 with 1 Axes>"
      ]
     },
     "metadata": {},
     "output_type": "display_data"
    }
   ],
   "source": [
    "import seaborn as sns\n",
    "import matplotlib.pyplot as plt\n",
    "sns.set_theme(style=\"whitegrid\")\n",
    "\n",
    "# Initialize the matplotlib figure\n",
    "f, ax = plt.subplots(figsize=(6, 8))\n",
    "\n",
    "\n",
    "# Plot the fair bridge_condition\n",
    "sns.set_color_codes(\"pastel\")\n",
    "sns.barplot(x=\"perc_count\", y=\"state\", data=fair_df,\n",
    "            label=\"Fair\", color=\"b\")\n",
    "\n",
    "# Plot the poor bridge_condition\n",
    "sns.set_color_codes(\"muted\")\n",
    "sns.barplot(x=\"perc_count\", y=\"state\", data=poor_df,\n",
    "            label=\"Poor\", color=\"b\")\n",
    "\n",
    "# Add a legend and informative axis label\n",
    "ax.legend(ncol=2, loc=\"lower right\", frameon=True)\n",
    "ax.set(xlim=(0, 1.0), ylabel=\"States\", xlabel=\"Percentage of Bridge count\")\n",
    "plt.title('Top 20 States with Fair & Poor Conditions(%)', fontsize=20)\n",
    "sns.despine(left=True, bottom=True)\n"
   ]
  },
  {
   "cell_type": "code",
   "execution_count": 211,
   "metadata": {
    "ExecuteTime": {
     "end_time": "2021-08-30T19:11:28.850739Z",
     "start_time": "2021-08-30T19:11:28.383182Z"
    }
   },
   "outputs": [
    {
     "data": {
      "text/html": [
       "<div>\n",
       "<style scoped>\n",
       "    .dataframe tbody tr th:only-of-type {\n",
       "        vertical-align: middle;\n",
       "    }\n",
       "\n",
       "    .dataframe tbody tr th {\n",
       "        vertical-align: top;\n",
       "    }\n",
       "\n",
       "    .dataframe thead th {\n",
       "        text-align: right;\n",
       "    }\n",
       "</style>\n",
       "<table border=\"1\" class=\"dataframe\">\n",
       "  <thead>\n",
       "    <tr style=\"text-align: right;\">\n",
       "      <th></th>\n",
       "      <th>state</th>\n",
       "      <th>bridge_condition</th>\n",
       "      <th>condition_count</th>\n",
       "    </tr>\n",
       "  </thead>\n",
       "  <tbody>\n",
       "    <tr>\n",
       "      <th>0</th>\n",
       "      <td>Texas</td>\n",
       "      <td>Good</td>\n",
       "      <td>27656</td>\n",
       "    </tr>\n",
       "    <tr>\n",
       "      <th>1</th>\n",
       "      <td>Texas</td>\n",
       "      <td>Fair</td>\n",
       "      <td>26069</td>\n",
       "    </tr>\n",
       "    <tr>\n",
       "      <th>2</th>\n",
       "      <td>Ohio</td>\n",
       "      <td>Good</td>\n",
       "      <td>16008</td>\n",
       "    </tr>\n",
       "    <tr>\n",
       "      <th>3</th>\n",
       "      <td>Illinois</td>\n",
       "      <td>Good</td>\n",
       "      <td>12325</td>\n",
       "    </tr>\n",
       "    <tr>\n",
       "      <th>4</th>\n",
       "      <td>California</td>\n",
       "      <td>Good</td>\n",
       "      <td>12240</td>\n",
       "    </tr>\n",
       "  </tbody>\n",
       "</table>\n",
       "</div>"
      ],
      "text/plain": [
       "          state bridge_condition  condition_count\n",
       "0         Texas             Good            27656\n",
       "1         Texas             Fair            26069\n",
       "2          Ohio             Good            16008\n",
       "3      Illinois             Good            12325\n",
       "4    California             Good            12240"
      ]
     },
     "execution_count": 211,
     "metadata": {},
     "output_type": "execute_result"
    }
   ],
   "source": [
    "df_count = dff.groupby('state')['bridge_condition'].value_counts().sort_values(ascending=False).reset_index(name='condition_count')\n",
    "df_count.head()"
   ]
  },
  {
   "cell_type": "code",
   "execution_count": null,
   "metadata": {},
   "outputs": [],
   "source": []
  },
  {
   "cell_type": "code",
   "execution_count": 212,
   "metadata": {
    "ExecuteTime": {
     "end_time": "2021-08-30T19:11:28.881995Z",
     "start_time": "2021-08-30T19:11:28.850739Z"
    }
   },
   "outputs": [
    {
     "data": {
      "text/html": [
       "<div>\n",
       "<style scoped>\n",
       "    .dataframe tbody tr th:only-of-type {\n",
       "        vertical-align: middle;\n",
       "    }\n",
       "\n",
       "    .dataframe tbody tr th {\n",
       "        vertical-align: top;\n",
       "    }\n",
       "\n",
       "    .dataframe thead th {\n",
       "        text-align: right;\n",
       "    }\n",
       "</style>\n",
       "<table border=\"1\" class=\"dataframe\">\n",
       "  <thead>\n",
       "    <tr style=\"text-align: right;\">\n",
       "      <th></th>\n",
       "      <th>state</th>\n",
       "      <th>bridge_condition</th>\n",
       "      <th>condition_count</th>\n",
       "    </tr>\n",
       "  </thead>\n",
       "  <tbody>\n",
       "    <tr>\n",
       "      <th>51</th>\n",
       "      <td>Iowa</td>\n",
       "      <td>Poor</td>\n",
       "      <td>4533</td>\n",
       "    </tr>\n",
       "    <tr>\n",
       "      <th>66</th>\n",
       "      <td>Pennsylvania</td>\n",
       "      <td>Poor</td>\n",
       "      <td>2799</td>\n",
       "    </tr>\n",
       "    <tr>\n",
       "      <th>70</th>\n",
       "      <td>Oklahoma</td>\n",
       "      <td>Poor</td>\n",
       "      <td>2319</td>\n",
       "    </tr>\n",
       "    <tr>\n",
       "      <th>72</th>\n",
       "      <td>Illinois</td>\n",
       "      <td>Poor</td>\n",
       "      <td>2284</td>\n",
       "    </tr>\n",
       "    <tr>\n",
       "      <th>74</th>\n",
       "      <td>Missouri</td>\n",
       "      <td>Poor</td>\n",
       "      <td>2128</td>\n",
       "    </tr>\n",
       "  </tbody>\n",
       "</table>\n",
       "</div>"
      ],
      "text/plain": [
       "             state bridge_condition  condition_count\n",
       "51            Iowa             Poor             4533\n",
       "66    Pennsylvania             Poor             2799\n",
       "70        Oklahoma             Poor             2319\n",
       "72        Illinois             Poor             2284\n",
       "74        Missouri             Poor             2128"
      ]
     },
     "execution_count": 212,
     "metadata": {},
     "output_type": "execute_result"
    }
   ],
   "source": [
    "poor_count = df_count.loc[df_count['bridge_condition']=='Poor'].sort_values(by='condition_count', ascending=False)[:20]\n",
    "poor_count.head()"
   ]
  },
  {
   "cell_type": "code",
   "execution_count": 213,
   "metadata": {
    "ExecuteTime": {
     "end_time": "2021-08-30T19:11:29.936419Z",
     "start_time": "2021-08-30T19:11:28.881995Z"
    }
   },
   "outputs": [
    {
     "data": {
      "image/png": "[encoded data removed]",
      "text/plain": [
       "<Figure size 864x576 with 1 Axes>"
      ]
     },
     "metadata": {},
     "output_type": "display_data"
    }
   ],
   "source": [
    "plt.figure(figsize=(12,8))\n",
    "sns.barplot(y=poor_count['state'], x=poor_count['condition_count'], color='r')\n",
    "plt.xlabel('Number of bridges')\n",
    "plt.ylabel('States')\n",
    "plt.title('Top 20 States with Poor Bridge Condition', fontsize=20);"
   ]
  },
  {
   "cell_type": "code",
   "execution_count": null,
   "metadata": {},
   "outputs": [],
   "source": []
  },
  {
   "cell_type": "code",
   "execution_count": 214,
   "metadata": {
    "ExecuteTime": {
     "end_time": "2021-08-30T19:11:29.967879Z",
     "start_time": "2021-08-30T19:11:29.939316Z"
    }
   },
   "outputs": [
    {
     "data": {
      "text/html": [
       "<div>\n",
       "<style scoped>\n",
       "    .dataframe tbody tr th:only-of-type {\n",
       "        vertical-align: middle;\n",
       "    }\n",
       "\n",
       "    .dataframe tbody tr th {\n",
       "        vertical-align: top;\n",
       "    }\n",
       "\n",
       "    .dataframe thead th {\n",
       "        text-align: right;\n",
       "    }\n",
       "</style>\n",
       "<table border=\"1\" class=\"dataframe\">\n",
       "  <thead>\n",
       "    <tr style=\"text-align: right;\">\n",
       "      <th></th>\n",
       "      <th>state</th>\n",
       "      <th>bridge_condition</th>\n",
       "      <th>condition_count</th>\n",
       "    </tr>\n",
       "  </thead>\n",
       "  <tbody>\n",
       "    <tr>\n",
       "      <th>1</th>\n",
       "      <td>Texas</td>\n",
       "      <td>Fair</td>\n",
       "      <td>26069</td>\n",
       "    </tr>\n",
       "    <tr>\n",
       "      <th>6</th>\n",
       "      <td>Missouri</td>\n",
       "      <td>Fair</td>\n",
       "      <td>12082</td>\n",
       "    </tr>\n",
       "    <tr>\n",
       "      <th>7</th>\n",
       "      <td>Illinois</td>\n",
       "      <td>Fair</td>\n",
       "      <td>10936</td>\n",
       "    </tr>\n",
       "    <tr>\n",
       "      <th>8</th>\n",
       "      <td>Oklahoma</td>\n",
       "      <td>Fair</td>\n",
       "      <td>10851</td>\n",
       "    </tr>\n",
       "    <tr>\n",
       "      <th>9</th>\n",
       "      <td>California</td>\n",
       "      <td>Fair</td>\n",
       "      <td>10764</td>\n",
       "    </tr>\n",
       "  </tbody>\n",
       "</table>\n",
       "</div>"
      ],
      "text/plain": [
       "          state bridge_condition  condition_count\n",
       "1         Texas             Fair            26069\n",
       "6      Missouri             Fair            12082\n",
       "7      Illinois             Fair            10936\n",
       "8      Oklahoma             Fair            10851\n",
       "9    California             Fair            10764"
      ]
     },
     "execution_count": 214,
     "metadata": {},
     "output_type": "execute_result"
    }
   ],
   "source": [
    "fair_count = df_count.loc[df_count['bridge_condition']=='Fair'].sort_values(by='condition_count', ascending=False)[:20]\n",
    "fair_count.head()"
   ]
  },
  {
   "cell_type": "code",
   "execution_count": 215,
   "metadata": {
    "ExecuteTime": {
     "end_time": "2021-08-30T19:11:31.048518Z",
     "start_time": "2021-08-30T19:11:29.971883Z"
    }
   },
   "outputs": [
    {
     "data": {
      "image/png": "[encoded data removed]",
      "text/plain": [
       "<Figure size 864x576 with 1 Axes>"
      ]
     },
     "metadata": {},
     "output_type": "display_data"
    }
   ],
   "source": [
    "plt.figure(figsize=(12,8))\n",
    "sns.barplot(y=fair_count['state'], x=fair_count['condition_count'], color='r')\n",
    "plt.xlabel('Number of bridges')\n",
    "plt.ylabel('States')\n",
    "plt.title('Top 20 States with Fair Bridge Condition', fontsize=20);"
   ]
  },
  {
   "cell_type": "code",
   "execution_count": null,
   "metadata": {},
   "outputs": [],
   "source": []
  },
  {
   "cell_type": "code",
   "execution_count": null,
   "metadata": {},
   "outputs": [],
   "source": []
  },
  {
   "cell_type": "code",
   "execution_count": null,
   "metadata": {},
   "outputs": [],
   "source": []
  },
  {
   "cell_type": "code",
   "execution_count": 225,
   "metadata": {
    "ExecuteTime": {
     "end_time": "2021-08-30T19:14:40.999053Z",
     "start_time": "2021-08-30T19:14:39.842269Z"
    }
   },
   "outputs": [
    {
     "data": {
      "image/png": "[encoded data removed]",
      "text/plain": [
       "<Figure size 432x864 with 1 Axes>"
      ]
     },
     "metadata": {},
     "output_type": "display_data"
    }
   ],
   "source": [
    "import seaborn as sns\n",
    "import matplotlib.pyplot as plt\n",
    "sns.set_theme(style=\"whitegrid\")\n",
    "\n",
    "# Initialize the matplotlib figure\n",
    "f, ax = plt.subplots(figsize=(6, 12))\n",
    "\n",
    "\n",
    "# Plot the fair bridge_condition\n",
    "sns.set_color_codes(\"pastel\")\n",
    "sns.barplot(x=\"condition_count\", y=\"state\", data=fair_count,\n",
    "            label=\"Fair\", color=\"b\")\n",
    "\n",
    "# Plot the poor bridge_condition\n",
    "sns.set_color_codes(\"muted\")\n",
    "sns.barplot(x=\"condition_count\", y=\"state\", data=poor_count,\n",
    "            label=\"Poor\", color=\"b\")\n",
    "\n",
    "# Add a legend and informative axis label\n",
    "ax.legend(ncol=2, loc=\"lower right\", frameon=True)\n",
    "ax.set(xlim=(0, 30000), ylabel=\"States\", xlabel=\"Number of Bridges\")\n",
    "plt.title('Top 20 States with Fair & Poor Conditions', fontsize=20)\n",
    "sns.despine(left=True, bottom=True)\n"
   ]
  },
  {
   "cell_type": "code",
   "execution_count": null,
   "metadata": {},
   "outputs": [],
   "source": []
  },
  {
   "cell_type": "code",
   "execution_count": null,
   "metadata": {},
   "outputs": [],
   "source": []
  },
  {
   "cell_type": "code",
   "execution_count": null,
   "metadata": {},
   "outputs": [],
   "source": []
  },
  {
   "cell_type": "code",
   "execution_count": null,
   "metadata": {},
   "outputs": [],
   "source": []
  },
  {
   "cell_type": "code",
   "execution_count": null,
   "metadata": {},
   "outputs": [],
   "source": []
  },
  {
   "cell_type": "code",
   "execution_count": null,
   "metadata": {},
   "outputs": [],
   "source": []
  },
  {
   "cell_type": "code",
   "execution_count": null,
   "metadata": {},
   "outputs": [],
   "source": []
  },
  {
   "cell_type": "code",
   "execution_count": null,
   "metadata": {},
   "outputs": [],
   "source": []
  },
  {
   "cell_type": "code",
   "execution_count": null,
   "metadata": {},
   "outputs": [],
   "source": []
  },
  {
   "cell_type": "code",
   "execution_count": null,
   "metadata": {},
   "outputs": [],
   "source": []
  },
  {
   "cell_type": "code",
   "execution_count": null,
   "metadata": {},
   "outputs": [],
   "source": []
  },
  {
   "cell_type": "code",
   "execution_count": null,
   "metadata": {},
   "outputs": [],
   "source": []
  },
  {
   "cell_type": "code",
   "execution_count": null,
   "metadata": {},
   "outputs": [],
   "source": []
  },
  {
   "cell_type": "code",
   "execution_count": null,
   "metadata": {},
   "outputs": [],
   "source": []
  },
  {
   "cell_type": "code",
   "execution_count": null,
   "metadata": {},
   "outputs": [],
   "source": []
  },
  {
   "cell_type": "code",
   "execution_count": null,
   "metadata": {},
   "outputs": [],
   "source": []
  },
  {
   "cell_type": "code",
   "execution_count": null,
   "metadata": {},
   "outputs": [],
   "source": []
  },
  {
   "cell_type": "code",
   "execution_count": null,
   "metadata": {},
   "outputs": [],
   "source": []
  },
  {
   "cell_type": "code",
   "execution_count": null,
   "metadata": {},
   "outputs": [],
   "source": []
  },
  {
   "cell_type": "code",
   "execution_count": null,
   "metadata": {},
   "outputs": [],
   "source": []
  },
  {
   "cell_type": "code",
   "execution_count": null,
   "metadata": {},
   "outputs": [],
   "source": []
  },
  {
   "cell_type": "code",
   "execution_count": null,
   "metadata": {},
   "outputs": [],
   "source": []
  },
  {
   "cell_type": "code",
   "execution_count": null,
   "metadata": {},
   "outputs": [],
   "source": []
  },
  {
   "cell_type": "code",
   "execution_count": null,
   "metadata": {},
   "outputs": [],
   "source": []
  },
  {
   "cell_type": "code",
   "execution_count": null,
   "metadata": {},
   "outputs": [],
   "source": []
  },
  {
   "cell_type": "code",
   "execution_count": null,
   "metadata": {},
   "outputs": [],
   "source": []
  },
  {
   "cell_type": "code",
   "execution_count": null,
   "metadata": {},
   "outputs": [],
   "source": []
  },
  {
   "cell_type": "code",
   "execution_count": null,
   "metadata": {},
   "outputs": [],
   "source": []
  },
  {
   "cell_type": "code",
   "execution_count": null,
   "metadata": {},
   "outputs": [],
   "source": []
  },
  {
   "cell_type": "code",
   "execution_count": null,
   "metadata": {},
   "outputs": [],
   "source": []
  },
  {
   "cell_type": "code",
   "execution_count": null,
   "metadata": {},
   "outputs": [],
   "source": []
  },
  {
   "cell_type": "code",
   "execution_count": null,
   "metadata": {},
   "outputs": [],
   "source": []
  },
  {
   "cell_type": "code",
   "execution_count": null,
   "metadata": {},
   "outputs": [],
   "source": []
  },
  {
   "cell_type": "code",
   "execution_count": null,
   "metadata": {},
   "outputs": [],
   "source": []
  },
  {
   "cell_type": "code",
   "execution_count": null,
   "metadata": {},
   "outputs": [],
   "source": []
  },
  {
   "cell_type": "code",
   "execution_count": null,
   "metadata": {},
   "outputs": [],
   "source": []
  },
  {
   "cell_type": "code",
   "execution_count": null,
   "metadata": {},
   "outputs": [],
   "source": []
  },
  {
   "cell_type": "code",
   "execution_count": null,
   "metadata": {},
   "outputs": [],
   "source": []
  },
  {
   "cell_type": "code",
   "execution_count": null,
   "metadata": {},
   "outputs": [],
   "source": []
  },
  {
   "cell_type": "code",
   "execution_count": null,
   "metadata": {},
   "outputs": [],
   "source": []
  },
  {
   "cell_type": "code",
   "execution_count": null,
   "metadata": {},
   "outputs": [],
   "source": []
  },
  {
   "cell_type": "code",
   "execution_count": null,
   "metadata": {},
   "outputs": [],
   "source": []
  },
  {
   "cell_type": "code",
   "execution_count": null,
   "metadata": {},
   "outputs": [],
   "source": []
  },
  {
   "cell_type": "code",
   "execution_count": null,
   "metadata": {},
   "outputs": [],
   "source": []
  },
  {
   "cell_type": "code",
   "execution_count": null,
   "metadata": {},
   "outputs": [],
   "source": []
  },
  {
   "cell_type": "code",
   "execution_count": null,
   "metadata": {},
   "outputs": [],
   "source": []
  },
  {
   "cell_type": "code",
   "execution_count": null,
   "metadata": {},
   "outputs": [],
   "source": []
  },
  {
   "cell_type": "code",
   "execution_count": null,
   "metadata": {},
   "outputs": [],
   "source": []
  },
  {
   "cell_type": "code",
   "execution_count": null,
   "metadata": {},
   "outputs": [],
   "source": []
  },
  {
   "cell_type": "code",
   "execution_count": null,
   "metadata": {},
   "outputs": [],
   "source": []
  },
  {
   "cell_type": "code",
   "execution_count": null,
   "metadata": {},
   "outputs": [],
   "source": []
  },
  {
   "cell_type": "code",
   "execution_count": null,
   "metadata": {},
   "outputs": [],
   "source": []
  },
  {
   "cell_type": "code",
   "execution_count": null,
   "metadata": {},
   "outputs": [],
   "source": []
  },
  {
   "cell_type": "code",
   "execution_count": null,
   "metadata": {},
   "outputs": [],
   "source": []
  },
  {
   "cell_type": "code",
   "execution_count": 21,
   "metadata": {
    "ExecuteTime": {
     "end_time": "2021-08-30T17:40:10.412004Z",
     "start_time": "2021-08-30T17:40:10.287452Z"
    }
   },
   "outputs": [
    {
     "data": {
      "text/html": [
       "<div>\n",
       "<style scoped>\n",
       "    .dataframe tbody tr th:only-of-type {\n",
       "        vertical-align: middle;\n",
       "    }\n",
       "\n",
       "    .dataframe tbody tr th {\n",
       "        vertical-align: top;\n",
       "    }\n",
       "\n",
       "    .dataframe thead th {\n",
       "        text-align: right;\n",
       "    }\n",
       "</style>\n",
       "<table border=\"1\" class=\"dataframe\">\n",
       "  <thead>\n",
       "    <tr style=\"text-align: right;\">\n",
       "      <th></th>\n",
       "      <th>state</th>\n",
       "      <th>str_id</th>\n",
       "      <th>deck_type</th>\n",
       "      <th>wearing_type</th>\n",
       "      <th>membrane_type</th>\n",
       "      <th>deck_protection</th>\n",
       "      <th>toll</th>\n",
       "      <th>freeze_thaw_cycle</th>\n",
       "      <th>snowfall_days</th>\n",
       "      <th>inventory_class_route</th>\n",
       "      <th>...</th>\n",
       "      <th>yr_reconst</th>\n",
       "      <th>skew</th>\n",
       "      <th>max_span</th>\n",
       "      <th>bridge_width</th>\n",
       "      <th>deck_width</th>\n",
       "      <th>super_st_condition</th>\n",
       "      <th>sub_st_condition</th>\n",
       "      <th>deck_condition</th>\n",
       "      <th>avg_daily_trfic</th>\n",
       "      <th>avg_truck_trfc</th>\n",
       "    </tr>\n",
       "  </thead>\n",
       "  <tbody>\n",
       "    <tr>\n",
       "      <th>106432</th>\n",
       "      <td>Iowa</td>\n",
       "      <td>000000000361340</td>\n",
       "      <td>1</td>\n",
       "      <td>1</td>\n",
       "      <td>0</td>\n",
       "      <td>0</td>\n",
       "      <td>3.0</td>\n",
       "      <td>118</td>\n",
       "      <td>65.0</td>\n",
       "      <td>8.0</td>\n",
       "      <td>...</td>\n",
       "      <td>0</td>\n",
       "      <td>0.0</td>\n",
       "      <td>48.9</td>\n",
       "      <td>29.9</td>\n",
       "      <td>33.1</td>\n",
       "      <td>6.0</td>\n",
       "      <td>5.0</td>\n",
       "      <td>6.0</td>\n",
       "      <td>40</td>\n",
       "      <td>0</td>\n",
       "    </tr>\n",
       "  </tbody>\n",
       "</table>\n",
       "<p>1 rows × 38 columns</p>\n",
       "</div>"
      ],
      "text/plain": [
       "        state           str_id deck_type wearing_type membrane_type  \\\n",
       "106432   Iowa  000000000361340         1            1             0   \n",
       "\n",
       "       deck_protection  toll  freeze_thaw_cycle  snowfall_days  \\\n",
       "106432               0   3.0                118           65.0   \n",
       "\n",
       "        inventory_class_route  ...  yr_reconst  skew  max_span  bridge_width  \\\n",
       "106432                    8.0  ...           0   0.0      48.9          29.9   \n",
       "\n",
       "        deck_width  super_st_condition  sub_st_condition  deck_condition  \\\n",
       "106432        33.1                 6.0               5.0             6.0   \n",
       "\n",
       "        avg_daily_trfic avg_truck_trfc  \n",
       "106432               40              0  \n",
       "\n",
       "[1 rows x 38 columns]"
      ]
     },
     "execution_count": 21,
     "metadata": {},
     "output_type": "execute_result"
    }
   ],
   "source": [
    "df.loc[df['str_id']=='000000000361340']"
   ]
  },
  {
   "cell_type": "code",
   "execution_count": null,
   "metadata": {},
   "outputs": [],
   "source": []
  },
  {
   "cell_type": "code",
   "execution_count": null,
   "metadata": {
    "ExecuteTime": {
     "end_time": "2021-08-29T21:46:48.976473Z",
     "start_time": "2021-08-29T21:46:48.931597Z"
    }
   },
   "outputs": [],
   "source": [
    "states = df['state'].unique()\n",
    "states"
   ]
  },
  {
   "cell_type": "code",
   "execution_count": null,
   "metadata": {},
   "outputs": [],
   "source": []
  },
  {
   "cell_type": "code",
   "execution_count": null,
   "metadata": {
    "ExecuteTime": {
     "end_time": "2021-08-29T21:46:51.952040Z",
     "start_time": "2021-08-29T21:46:49.609170Z"
    }
   },
   "outputs": [],
   "source": [
    "#create a dictionary for each State\n",
    "st = {}\n",
    "for state in states:\n",
    "    state_df = df.groupby('state').get_group(state).sort_index()['bridge_condition'].value_counts(normalize=True)\n",
    "    st[state] = state_df"
   ]
  },
  {
   "cell_type": "code",
   "execution_count": null,
   "metadata": {
    "ExecuteTime": {
     "end_time": "2021-08-29T21:46:52.602522Z",
     "start_time": "2021-08-29T21:46:52.568999Z"
    }
   },
   "outputs": [],
   "source": [
    "st"
   ]
  },
  {
   "cell_type": "code",
   "execution_count": null,
   "metadata": {
    "ExecuteTime": {
     "end_time": "2021-08-29T21:46:53.230015Z",
     "start_time": "2021-08-29T21:46:53.214954Z"
    }
   },
   "outputs": [],
   "source": [
    "st.keys()"
   ]
  },
  {
   "cell_type": "code",
   "execution_count": null,
   "metadata": {
    "ExecuteTime": {
     "end_time": "2021-08-29T21:52:44.618022Z",
     "start_time": "2021-08-29T21:52:44.582027Z"
    }
   },
   "outputs": [],
   "source": [
    "st.items()"
   ]
  },
  {
   "cell_type": "code",
   "execution_count": null,
   "metadata": {
    "ExecuteTime": {
     "end_time": "2021-08-29T19:12:09.024385Z",
     "start_time": "2021-08-29T19:12:09.000344Z"
    }
   },
   "outputs": [],
   "source": []
  },
  {
   "cell_type": "code",
   "execution_count": null,
   "metadata": {
    "ExecuteTime": {
     "end_time": "2021-08-29T21:54:10.430251Z",
     "start_time": "2021-08-29T21:54:10.406642Z"
    }
   },
   "outputs": [],
   "source": []
  },
  {
   "cell_type": "code",
   "execution_count": null,
   "metadata": {},
   "outputs": [],
   "source": []
  },
  {
   "cell_type": "code",
   "execution_count": null,
   "metadata": {},
   "outputs": [],
   "source": []
  },
  {
   "cell_type": "code",
   "execution_count": null,
   "metadata": {},
   "outputs": [],
   "source": []
  },
  {
   "cell_type": "code",
   "execution_count": null,
   "metadata": {},
   "outputs": [],
   "source": []
  },
  {
   "cell_type": "code",
   "execution_count": null,
   "metadata": {},
   "outputs": [],
   "source": []
  },
  {
   "cell_type": "code",
   "execution_count": null,
   "metadata": {},
   "outputs": [],
   "source": []
  },
  {
   "cell_type": "code",
   "execution_count": null,
   "metadata": {},
   "outputs": [],
   "source": []
  },
  {
   "cell_type": "code",
   "execution_count": null,
   "metadata": {},
   "outputs": [],
   "source": []
  },
  {
   "cell_type": "code",
   "execution_count": null,
   "metadata": {},
   "outputs": [],
   "source": []
  },
  {
   "cell_type": "code",
   "execution_count": null,
   "metadata": {},
   "outputs": [],
   "source": []
  },
  {
   "cell_type": "code",
   "execution_count": null,
   "metadata": {},
   "outputs": [],
   "source": []
  },
  {
   "cell_type": "code",
   "execution_count": null,
   "metadata": {},
   "outputs": [],
   "source": []
  },
  {
   "cell_type": "code",
   "execution_count": null,
   "metadata": {},
   "outputs": [],
   "source": []
  },
  {
   "cell_type": "code",
   "execution_count": null,
   "metadata": {},
   "outputs": [],
   "source": []
  },
  {
   "cell_type": "code",
   "execution_count": null,
   "metadata": {},
   "outputs": [],
   "source": []
  },
  {
   "cell_type": "code",
   "execution_count": null,
   "metadata": {},
   "outputs": [],
   "source": []
  },
  {
   "cell_type": "code",
   "execution_count": null,
   "metadata": {},
   "outputs": [],
   "source": []
  },
  {
   "cell_type": "code",
   "execution_count": null,
   "metadata": {},
   "outputs": [],
   "source": []
  },
  {
   "cell_type": "code",
   "execution_count": null,
   "metadata": {},
   "outputs": [],
   "source": []
  },
  {
   "cell_type": "code",
   "execution_count": null,
   "metadata": {},
   "outputs": [],
   "source": []
  },
  {
   "cell_type": "code",
   "execution_count": null,
   "metadata": {},
   "outputs": [],
   "source": []
  },
  {
   "cell_type": "code",
   "execution_count": null,
   "metadata": {},
   "outputs": [],
   "source": []
  },
  {
   "cell_type": "code",
   "execution_count": null,
   "metadata": {},
   "outputs": [],
   "source": []
  },
  {
   "cell_type": "code",
   "execution_count": null,
   "metadata": {},
   "outputs": [],
   "source": []
  },
  {
   "cell_type": "code",
   "execution_count": null,
   "metadata": {
    "ExecuteTime": {
     "end_time": "2021-08-29T01:56:14.285262Z",
     "start_time": "2021-08-29T01:56:14.273139Z"
    }
   },
   "outputs": [],
   "source": [
    "df.columns"
   ]
  },
  {
   "cell_type": "code",
   "execution_count": null,
   "metadata": {
    "ExecuteTime": {
     "end_time": "2021-08-29T01:56:24.563887Z",
     "start_time": "2021-08-29T01:56:15.064692Z"
    }
   },
   "outputs": [],
   "source": [
    "import seaborn as sns\n",
    "import matplotlib.pyplot as plt\n",
    "sns.set_theme(style=\"whitegrid\")\n",
    "\n",
    "# Initialize the matplotlib figure\n",
    "f, ax = plt.subplots(figsize=(6, 15))\n",
    "\n",
    "# Load the example car crash dataset\n",
    "# crashes = sns.load_dataset(\"car_crashes\").sort_values(\"total\", ascending=False)\n",
    "\n",
    "# Plot the total crashes\n",
    "sns.set_color_codes(\"pastel\")\n",
    "sns.barplot(x=\"construction_design_value\", y=\"bridge_age\", data=df,\n",
    "            label=\"bridge_condition\", color=\"b\")\n",
    "\n",
    "# Plot the crashes where alcohol was involved\n",
    "sns.set_color_codes(\"muted\")\n",
    "sns.barplot(x=\"abbrev\", y=\"alcohol\", data=df,\n",
    "            label=\"Alcohol-involved\", color=\"b\")\n",
    "\n",
    "# Add a legend and informative axis label\n",
    "ax.legend(ncol=2, loc=\"lower right\", frameon=True)\n",
    "ax.set(xlim=(0, 24), ylabel=\"\",\n",
    "       xlabel=\"Automobile collisions per billion miles\")\n",
    "sns.despine(left=True, bottom=True)"
   ]
  },
  {
   "cell_type": "code",
   "execution_count": null,
   "metadata": {},
   "outputs": [],
   "source": []
  },
  {
   "cell_type": "code",
   "execution_count": null,
   "metadata": {},
   "outputs": [],
   "source": []
  },
  {
   "cell_type": "code",
   "execution_count": null,
   "metadata": {},
   "outputs": [],
   "source": []
  },
  {
   "cell_type": "code",
   "execution_count": null,
   "metadata": {},
   "outputs": [],
   "source": []
  },
  {
   "cell_type": "code",
   "execution_count": null,
   "metadata": {},
   "outputs": [],
   "source": []
  },
  {
   "cell_type": "code",
   "execution_count": null,
   "metadata": {},
   "outputs": [],
   "source": []
  },
  {
   "cell_type": "code",
   "execution_count": null,
   "metadata": {
    "ExecuteTime": {
     "end_time": "2021-08-26T19:55:10.483736Z",
     "start_time": "2021-08-26T19:55:07.566123Z"
    }
   },
   "outputs": [],
   "source": [
    "import seaborn as sns\n",
    "sns.set_theme(style=\"whitegrid\")\n",
    "\n",
    "# Load the diamonds dataset\n",
    "# diamonds = sns.load_dataset(\"diamonds\")\n",
    "\n",
    "# Plot the distribution of clarity ratings, conditional on carat\n",
    "sns.displot(\n",
    "    data=df,\n",
    "    x=\"freeze_thaw_cycle\", hue=\"super_st_condition\",\n",
    "    kind=\"kde\", height=6,\n",
    "    multiple=\"fill\", clip=(0, None),\n",
    "    palette=\"ch:rot=-.25,hue=1,light=.75\",\n",
    ")"
   ]
  },
  {
   "cell_type": "code",
   "execution_count": null,
   "metadata": {
    "ExecuteTime": {
     "end_time": "2021-08-26T19:55:49.877269Z",
     "start_time": "2021-08-26T19:55:45.767007Z"
    }
   },
   "outputs": [],
   "source": [
    "import seaborn as sns\n",
    "sns.set_theme(style=\"whitegrid\")\n",
    "\n",
    "# Load the diamonds dataset\n",
    "# diamonds = sns.load_dataset(\"diamonds\")\n",
    "\n",
    "# Plot the distribution of clarity ratings, conditional on carat\n",
    "sns.displot(\n",
    "    data=df,\n",
    "    x=\"snowfall_days\", hue=\"super_st_condition\",\n",
    "    kind=\"kde\", height=6,\n",
    "    multiple=\"fill\", clip=(0, None),\n",
    "    palette=\"ch:rot=-.25,hue=1,light=.75\",\n",
    ")"
   ]
  },
  {
   "cell_type": "code",
   "execution_count": null,
   "metadata": {
    "ExecuteTime": {
     "end_time": "2021-08-26T20:02:57.261000Z",
     "start_time": "2021-08-26T20:01:54.713798Z"
    }
   },
   "outputs": [],
   "source": [
    "import seaborn as sns\n",
    "sns.set_theme()\n",
    "\n",
    "# Load the penguins dataset\n",
    "# penguins = sns.load_dataset(\"penguins\")\n",
    "\n",
    "# Plot sepal width as a function of sepal_length across days\n",
    "g = sns.lmplot(\n",
    "    data=df,\n",
    "    x=\"structure_length\", y=\"bridge_width\", hue=\"bridge_condition\",\n",
    "    height=5\n",
    ")\n",
    "\n",
    "# Use more informative axis labels than are provided by default\n",
    "g.set_axis_labels(\"Snoot length (mm)\", \"Snoot depth (mm)\")"
   ]
  },
  {
   "cell_type": "code",
   "execution_count": null,
   "metadata": {
    "ExecuteTime": {
     "end_time": "2021-08-27T17:12:24.439301Z",
     "start_time": "2021-08-27T17:12:24.215298Z"
    }
   },
   "outputs": [],
   "source": [
    "df.columns"
   ]
  },
  {
   "cell_type": "code",
   "execution_count": null,
   "metadata": {
    "ExecuteTime": {
     "end_time": "2021-08-27T17:48:59.804383Z",
     "start_time": "2021-08-27T17:14:15.931001Z"
    }
   },
   "outputs": [],
   "source": [
    "import seaborn as sns\n",
    "\n",
    "sns.set_theme(style=\"darkgrid\")\n",
    "# df = sns.load_dataset(\"penguins\")\n",
    "sns.displot(\n",
    "    df, x=\"avg_truck_trfc\", col=\"bridge_age\", row=\"bridge_condition\",\n",
    "    binwidth=3, height=3, facet_kws=dict(margin_titles=True),\n",
    ")"
   ]
  },
  {
   "cell_type": "code",
   "execution_count": null,
   "metadata": {},
   "outputs": [],
   "source": []
  },
  {
   "cell_type": "code",
   "execution_count": null,
   "metadata": {},
   "outputs": [],
   "source": []
  },
  {
   "cell_type": "markdown",
   "metadata": {},
   "source": [
    "## Creating Dummies"
   ]
  },
  {
   "cell_type": "code",
   "execution_count": null,
   "metadata": {
    "ExecuteTime": {
     "end_time": "2021-08-25T04:02:43.188175Z",
     "start_time": "2021-08-25T04:02:43.144249Z"
    }
   },
   "outputs": [],
   "source": [
    "df.columns"
   ]
  },
  {
   "cell_type": "code",
   "execution_count": null,
   "metadata": {
    "ExecuteTime": {
     "end_time": "2021-08-29T01:56:31.138054Z",
     "start_time": "2021-08-29T01:56:30.743496Z"
    }
   },
   "outputs": [],
   "source": [
    "df.info()"
   ]
  },
  {
   "cell_type": "code",
   "execution_count": null,
   "metadata": {
    "ExecuteTime": {
     "end_time": "2021-08-29T01:56:46.965373Z",
     "start_time": "2021-08-29T01:56:46.696890Z"
    }
   },
   "outputs": [],
   "source": [
    "# df['sub_st_condition'] = df.sub_st_condition.astype('str')\n",
    "# df['super_st_condition'] = df.super_st_condition.astype('str')\n",
    "# df['deck_condition'] = df.deck_condition.astype('str')\n",
    "# df['mnt_respons'] = df.mnt_respons.astype('str')\n",
    "df['toll'] = df.toll.astype('str')"
   ]
  },
  {
   "cell_type": "code",
   "execution_count": null,
   "metadata": {
    "ExecuteTime": {
     "end_time": "2021-08-29T01:56:47.732029Z",
     "start_time": "2021-08-29T01:56:47.719430Z"
    }
   },
   "outputs": [],
   "source": [
    "#separate the features into target, categorical and continuous variables\n",
    "target = ['bridge_condition']\n",
    "\n",
    "categorical = ['deck_type', 'wearing_type', 'membrane_type', 'deck_protection',\n",
    "               'toll', 'design_material','super_st_condition',\n",
    "               'sub_st_condition']\n",
    "\n",
    "continuous = ['freeze_thaw_cycle', 'snowfall_days', 'structure_length', 'bridge_age',\n",
    "              'latitude', 'longitude', 'yr_reconst', 'skew',\n",
    "              'max_span', 'bridge_width', 'deck_width', 'avg_daily_trfic', 'num_spans']\n",
    "\n",
    "to_drop = ['state', 'str_id', 'deck_condition', 'mnt_respons']"
   ]
  },
  {
   "cell_type": "code",
   "execution_count": null,
   "metadata": {
    "ExecuteTime": {
     "end_time": "2021-08-23T21:26:57.117270Z",
     "start_time": "2021-08-23T21:26:56.705712Z"
    }
   },
   "outputs": [],
   "source": [
    "df.info()"
   ]
  },
  {
   "cell_type": "code",
   "execution_count": null,
   "metadata": {
    "ExecuteTime": {
     "end_time": "2021-08-23T21:26:57.526649Z",
     "start_time": "2021-08-23T21:26:57.120234Z"
    }
   },
   "outputs": [],
   "source": [
    "# print number of classes in each category\n",
    "for col in categorical:\n",
    "    print(col, df[col].value_counts().count())"
   ]
  },
  {
   "cell_type": "code",
   "execution_count": null,
   "metadata": {
    "ExecuteTime": {
     "end_time": "2021-08-23T21:26:57.590047Z",
     "start_time": "2021-08-23T21:26:57.528606Z"
    }
   },
   "outputs": [],
   "source": [
    "df.drop(to_drop+target+continuous, axis=1).columns"
   ]
  },
  {
   "cell_type": "code",
   "execution_count": null,
   "metadata": {
    "ExecuteTime": {
     "end_time": "2021-08-23T21:26:58.116015Z",
     "start_time": "2021-08-23T21:26:57.592015Z"
    }
   },
   "outputs": [],
   "source": [
    "df_dummies = pd.get_dummies(df.drop(to_drop+target, axis=1))\n",
    "df_dummies.head()"
   ]
  },
  {
   "cell_type": "code",
   "execution_count": null,
   "metadata": {
    "ExecuteTime": {
     "end_time": "2021-08-23T21:26:58.131634Z",
     "start_time": "2021-08-23T21:26:58.118011Z"
    }
   },
   "outputs": [],
   "source": [
    "df_dummies.shape"
   ]
  },
  {
   "cell_type": "code",
   "execution_count": null,
   "metadata": {
    "ExecuteTime": {
     "end_time": "2021-08-23T21:26:58.305210Z",
     "start_time": "2021-08-23T21:26:58.135158Z"
    }
   },
   "outputs": [],
   "source": [
    "df_dummies.info()"
   ]
  },
  {
   "cell_type": "code",
   "execution_count": null,
   "metadata": {
    "ExecuteTime": {
     "end_time": "2021-08-23T21:26:58.321211Z",
     "start_time": "2021-08-23T21:26:58.308194Z"
    }
   },
   "outputs": [],
   "source": [
    "df.num_spans.value_counts().count()"
   ]
  },
  {
   "cell_type": "code",
   "execution_count": null,
   "metadata": {
    "ExecuteTime": {
     "end_time": "2021-08-23T21:26:58.337193Z",
     "start_time": "2021-08-23T21:26:58.323159Z"
    }
   },
   "outputs": [],
   "source": [
    "df_dummies['bridge_condition'] = df['bridge_condition']"
   ]
  },
  {
   "cell_type": "code",
   "execution_count": null,
   "metadata": {
    "ExecuteTime": {
     "end_time": "2021-08-23T21:26:58.369156Z",
     "start_time": "2021-08-23T21:26:58.339157Z"
    }
   },
   "outputs": [],
   "source": [
    "df_dummies.head()"
   ]
  },
  {
   "cell_type": "code",
   "execution_count": null,
   "metadata": {
    "ExecuteTime": {
     "end_time": "2021-08-23T21:26:58.447202Z",
     "start_time": "2021-08-23T21:26:58.372161Z"
    }
   },
   "outputs": [],
   "source": [
    "df_dummies.bridge_condition.value_counts(normalize=True)"
   ]
  },
  {
   "cell_type": "code",
   "execution_count": null,
   "metadata": {
    "ExecuteTime": {
     "end_time": "2021-08-23T21:26:58.511157Z",
     "start_time": "2021-08-23T21:26:58.450164Z"
    }
   },
   "outputs": [],
   "source": [
    "# assign variables for features and target \n",
    "X = df_dummies.drop('bridge_condition', axis = 1)\n",
    "y = df_dummies['bridge_condition']"
   ]
  },
  {
   "cell_type": "code",
   "execution_count": null,
   "metadata": {
    "ExecuteTime": {
     "end_time": "2021-08-23T21:26:58.953159Z",
     "start_time": "2021-08-23T21:26:58.514160Z"
    }
   },
   "outputs": [],
   "source": [
    "# split into test and train data sets\n",
    "X_train, X_test, y_train, y_test = train_test_split(X, y, test_size=0.3, random_state = 42)"
   ]
  },
  {
   "cell_type": "markdown",
   "metadata": {},
   "source": [
    "# KNN"
   ]
  },
  {
   "cell_type": "code",
   "execution_count": null,
   "metadata": {
    "ExecuteTime": {
     "end_time": "2021-08-23T21:26:58.968713Z",
     "start_time": "2021-08-23T21:26:58.956179Z"
    }
   },
   "outputs": [],
   "source": [
    "from sklearn.metrics import precision_score, recall_score, accuracy_score, f1_score\n",
    "\n",
    "models = []\n",
    "def get_metrics(y_test, X_test, model):\n",
    "    labels = y_test.to_numpy()\n",
    "    preds = model.predict(X_test)\n",
    "    \n",
    "    metrics = {}\n",
    "    metrics['accuracy'] = accuracy_score(labels, preds)\n",
    "    metrics['f1'] = f1_score(labels, preds, average='macro')\n",
    "    metrics['precision'] = precision_score(labels, preds, average='macro')\n",
    "    metrics['recall'] = recall_score(labels, preds, average='macro')\n",
    "    \n",
    "    return metrics"
   ]
  },
  {
   "cell_type": "code",
   "execution_count": null,
   "metadata": {
    "ExecuteTime": {
     "end_time": "2021-08-23T21:26:59.112756Z",
     "start_time": "2021-08-23T21:26:58.972214Z"
    }
   },
   "outputs": [],
   "source": [
    "X_train"
   ]
  },
  {
   "cell_type": "markdown",
   "metadata": {},
   "source": [
    "## Baseline model"
   ]
  },
  {
   "cell_type": "code",
   "execution_count": null,
   "metadata": {
    "ExecuteTime": {
     "end_time": "2021-08-23T21:29:20.303417Z",
     "start_time": "2021-08-23T21:26:59.116757Z"
    }
   },
   "outputs": [],
   "source": [
    "from sklearn.neighbors import KNeighborsClassifier\n",
    "\n",
    "knn = KNeighborsClassifier()\n",
    "knn.fit(X_train, y_train);\n",
    "\n",
    "metrics = get_metrics(y_test, X_test, knn)\n",
    "metrics['name'] = 'K Nearest Neighbors Baseline'\n",
    "models.append(metrics)"
   ]
  },
  {
   "cell_type": "code",
   "execution_count": null,
   "metadata": {
    "ExecuteTime": {
     "end_time": "2021-08-23T21:32:58.344394Z",
     "start_time": "2021-08-23T21:29:20.308418Z"
    }
   },
   "outputs": [],
   "source": [
    "print(classification_report(y_train, knn.predict(X_train)))"
   ]
  },
  {
   "cell_type": "code",
   "execution_count": null,
   "metadata": {
    "ExecuteTime": {
     "end_time": "2021-08-23T21:34:36.006234Z",
     "start_time": "2021-08-23T21:32:58.348353Z"
    }
   },
   "outputs": [],
   "source": [
    "print(classification_report(y_test, knn.predict(X_test)))"
   ]
  },
  {
   "cell_type": "markdown",
   "metadata": {},
   "source": [
    "## Confusion Matrix"
   ]
  },
  {
   "cell_type": "code",
   "execution_count": null,
   "metadata": {
    "ExecuteTime": {
     "end_time": "2021-08-23T21:36:09.623546Z",
     "start_time": "2021-08-23T21:34:36.008229Z"
    }
   },
   "outputs": [],
   "source": [
    "plt.figure(figsize=(6,5))\n",
    "plot_confusion_matrix(knn, X_test, y_test, values_format='d', cmap=plt.cm.Blues)\n",
    "plt.title('K Nearest Neighbors')\n",
    "plt.tight_layout()\n",
    "\n",
    "plt.show()"
   ]
  },
  {
   "cell_type": "markdown",
   "metadata": {},
   "source": [
    "## Standardizing "
   ]
  },
  {
   "cell_type": "code",
   "execution_count": null,
   "metadata": {
    "ExecuteTime": {
     "end_time": "2021-08-23T21:36:10.447513Z",
     "start_time": "2021-08-23T21:36:09.625552Z"
    }
   },
   "outputs": [],
   "source": [
    "# Import StandardScaler\n",
    "from sklearn.preprocessing import StandardScaler \n",
    "\n",
    "\n",
    "# Instantiate StandardScaler\n",
    "scaler = StandardScaler()\n",
    "\n",
    "# Transform the training and test sets\n",
    "scaled_data_train = scaler.fit_transform(X_train)\n",
    "scaled_data_test = scaler.transform(X_test)\n",
    "\n",
    "# Convert into a DataFrame\n",
    "scaled_df_train = pd.DataFrame(scaled_data_train, columns=X.columns)\n",
    "scaled_df_train.head()"
   ]
  },
  {
   "cell_type": "code",
   "execution_count": null,
   "metadata": {
    "ExecuteTime": {
     "end_time": "2021-08-23T23:20:30.314366Z",
     "start_time": "2021-08-23T21:36:10.449519Z"
    }
   },
   "outputs": [],
   "source": [
    "# Import KNeighborsClassifier\n",
    "from sklearn.neighbors import KNeighborsClassifier\n",
    "\n",
    "# Instantiate KNeighborsClassifier\n",
    "knn = KNeighborsClassifier()\n",
    "# Fit the classifier\n",
    "knn.fit(scaled_data_train, y_train);\n",
    "\n",
    "\n",
    "# Predict on the test set\n",
    "\n",
    "metrics = get_metrics(y_test, scaled_data_test, knn)\n",
    "metrics['name'] = 'K Nearest Neighbors scaled'\n",
    "models.append(metrics)"
   ]
  },
  {
   "cell_type": "markdown",
   "metadata": {},
   "source": [
    "## GridSearch CV"
   ]
  },
  {
   "cell_type": "code",
   "execution_count": null,
   "metadata": {
    "ExecuteTime": {
     "end_time": "2021-08-23T23:20:30.330012Z",
     "start_time": "2021-08-23T23:20:30.316373Z"
    }
   },
   "outputs": [],
   "source": [
    "from sklearn.model_selection import GridSearchCV"
   ]
  },
  {
   "cell_type": "code",
   "execution_count": null,
   "metadata": {
    "ExecuteTime": {
     "end_time": "2021-08-24T01:00:26.534503Z",
     "start_time": "2021-08-23T23:20:30.331948Z"
    }
   },
   "outputs": [],
   "source": [
    "param_grid = {\n",
    "    'n_neighbors': [1, 5, 9], # default 5\n",
    "    'weights': ['uniform', 'distance'], # default 'uniform'\n",
    "    'leaf_size': [30, 40], # default 30\n",
    "    'p': [1, 2] # default 2\n",
    "}\n",
    "\n",
    "grid_search = GridSearchCV(knn, param_grid, cv=3, scoring='f1_macro')\n",
    "grid_search.fit(X_train, y_train)"
   ]
  },
  {
   "cell_type": "code",
   "execution_count": null,
   "metadata": {
    "ExecuteTime": {
     "end_time": "2021-08-24T01:00:26.550130Z",
     "start_time": "2021-08-24T01:00:26.536474Z"
    }
   },
   "outputs": [],
   "source": [
    "grid_search.best_params_"
   ]
  },
  {
   "cell_type": "code",
   "execution_count": null,
   "metadata": {
    "ExecuteTime": {
     "end_time": "2021-08-24T02:40:36.333692Z",
     "start_time": "2021-08-24T01:00:26.553120Z"
    }
   },
   "outputs": [],
   "source": [
    "knn_tuned = KNeighborsClassifier(n_neighbors=9, weights='distance', leaf_size=30, p=1)\n",
    "knn_tuned.fit(scaled_data_train, y_train)\n",
    "get_metrics(y_test, scaled_data_test, knn_tuned)\n",
    "metrics['name'] = 'K Nearest Neighbors tuned'\n",
    "models.append(metrics)"
   ]
  },
  {
   "cell_type": "code",
   "execution_count": null,
   "metadata": {
    "ExecuteTime": {
     "end_time": "2021-08-24T04:19:29.653268Z",
     "start_time": "2021-08-24T02:40:36.337605Z"
    }
   },
   "outputs": [],
   "source": [
    "plt.figure(figsize=(6,5))\n",
    "plot_confusion_matrix(knn_tuned, scaled_data_test, y_test, values_format='d', cmap=plt.cm.Blues)\n",
    "plt.title('K Nearest Neighbors')\n",
    "plt.tight_layout()\n",
    "\n",
    "plt.show()"
   ]
  },
  {
   "cell_type": "markdown",
   "metadata": {},
   "source": [
    "## Smote"
   ]
  },
  {
   "cell_type": "code",
   "execution_count": null,
   "metadata": {
    "ExecuteTime": {
     "end_time": "2021-08-24T04:19:29.873802Z",
     "start_time": "2021-08-24T04:19:29.656386Z"
    }
   },
   "outputs": [],
   "source": [
    "from imblearn.over_sampling import SMOTE"
   ]
  },
  {
   "cell_type": "code",
   "execution_count": null,
   "metadata": {
    "ExecuteTime": {
     "end_time": "2021-08-24T04:20:26.603143Z",
     "start_time": "2021-08-24T04:19:29.873802Z"
    }
   },
   "outputs": [],
   "source": [
    "# Previous original class distribution\n",
    "print('Original class distribution: \\n')\n",
    "print(y.value_counts())\n",
    "smote = SMOTE(random_state=42)\n",
    "X_train_resampled, y_train_resampled = smote.fit_sample(X_train, y_train) \n",
    "# Preview synthetic sample class distribution\n",
    "print('-----------------------------------------')\n",
    "print('Synthetic sample class distribution: \\n')\n",
    "print(pd.Series(y_train_resampled).value_counts()) "
   ]
  },
  {
   "cell_type": "code",
   "execution_count": null,
   "metadata": {
    "ExecuteTime": {
     "end_time": "2021-08-24T04:24:46.598421Z",
     "start_time": "2021-08-24T04:20:26.603143Z"
    }
   },
   "outputs": [],
   "source": [
    "knn_smote = KNeighborsClassifier(n_neighbors=9, weights='distance', \n",
    "                                 leaf_size=30, p=1)\n",
    "knn_smote.fit(X_train_resampled, y_train_resampled)\n",
    "get_metrics(y_test, X_test, knn_smote)\n",
    "metrics['name'] = 'K Nearest Neighbors smote'\n",
    "models.append(metrics)"
   ]
  },
  {
   "cell_type": "code",
   "execution_count": null,
   "metadata": {
    "ExecuteTime": {
     "end_time": "2021-08-24T04:35:47.182852Z",
     "start_time": "2021-08-24T04:24:46.600837Z"
    }
   },
   "outputs": [],
   "source": [
    "print(classification_report(y_train_resampled, knn_smote.predict(X_train_resampled)))"
   ]
  },
  {
   "cell_type": "code",
   "execution_count": null,
   "metadata": {
    "ExecuteTime": {
     "end_time": "2021-08-24T04:39:58.605693Z",
     "start_time": "2021-08-24T04:35:47.182852Z"
    }
   },
   "outputs": [],
   "source": [
    "print(classification_report(y_test, knn_smote.predict(X_test)))"
   ]
  },
  {
   "cell_type": "markdown",
   "metadata": {},
   "source": [
    "## Confusion matrix"
   ]
  },
  {
   "cell_type": "code",
   "execution_count": null,
   "metadata": {
    "ExecuteTime": {
     "end_time": "2021-08-24T04:43:56.714258Z",
     "start_time": "2021-08-24T04:39:58.608725Z"
    }
   },
   "outputs": [],
   "source": [
    "plot_confusion_matrix(knn_smote, X_test, y_test,\n",
    "                      values_format='d', cmap=plt.cm.Blues)\n",
    "                                      \n",
    "                     \n",
    "plt.title('K Nearest Neighbors smote')\n",
    "plt.tight_layout()\n",
    "\n",
    "plt.show()"
   ]
  },
  {
   "cell_type": "code",
   "execution_count": null,
   "metadata": {},
   "outputs": [],
   "source": []
  },
  {
   "cell_type": "code",
   "execution_count": null,
   "metadata": {},
   "outputs": [],
   "source": []
  },
  {
   "cell_type": "code",
   "execution_count": null,
   "metadata": {},
   "outputs": [],
   "source": []
  },
  {
   "cell_type": "markdown",
   "metadata": {},
   "source": [
    "# Random Forest"
   ]
  },
  {
   "cell_type": "markdown",
   "metadata": {},
   "source": [
    "## Baseline model"
   ]
  },
  {
   "cell_type": "code",
   "execution_count": null,
   "metadata": {
    "ExecuteTime": {
     "end_time": "2021-08-24T04:45:13.031653Z",
     "start_time": "2021-08-24T04:43:56.718460Z"
    }
   },
   "outputs": [],
   "source": [
    "from sklearn.ensemble import RandomForestClassifier\n",
    "\n",
    "forest = RandomForestClassifier(random_state=12)\n",
    "forest.fit(X_train, y_train);\n",
    "\n",
    "metrics = get_metrics(y_test, X_test, forest)\n",
    "metrics['name'] = 'Random Forest Baseline'\n",
    "models.append(metrics)"
   ]
  },
  {
   "cell_type": "code",
   "execution_count": null,
   "metadata": {
    "ExecuteTime": {
     "end_time": "2021-08-24T04:45:16.641363Z",
     "start_time": "2021-08-24T04:45:13.031653Z"
    }
   },
   "outputs": [],
   "source": [
    "from sklearn.metrics import confusion_matrix\n",
    "confusion_matrix(y_test,forest.predict(X_test))"
   ]
  },
  {
   "cell_type": "code",
   "execution_count": null,
   "metadata": {
    "ExecuteTime": {
     "end_time": "2021-08-24T04:45:32.159986Z",
     "start_time": "2021-08-24T04:45:16.641363Z"
    }
   },
   "outputs": [],
   "source": [
    "print(classification_report(y_train, forest.predict(X_train)))"
   ]
  },
  {
   "cell_type": "code",
   "execution_count": null,
   "metadata": {
    "ExecuteTime": {
     "end_time": "2021-08-24T04:45:38.461543Z",
     "start_time": "2021-08-24T04:45:32.162905Z"
    }
   },
   "outputs": [],
   "source": [
    "print(classification_report(y_test, forest.predict(X_test)))"
   ]
  },
  {
   "cell_type": "markdown",
   "metadata": {},
   "source": [
    "## Confusion matrix"
   ]
  },
  {
   "cell_type": "code",
   "execution_count": null,
   "metadata": {
    "ExecuteTime": {
     "end_time": "2021-08-24T04:45:42.211501Z",
     "start_time": "2021-08-24T04:45:38.463611Z"
    }
   },
   "outputs": [],
   "source": [
    "plot_confusion_matrix(forest, X_test, y_test, values_format='d', cmap=plt.cm.Blues)\n",
    "plt.title('Random forest Baseline')\n",
    "plt.tight_layout()\n",
    "\n",
    "plt.show()"
   ]
  },
  {
   "cell_type": "markdown",
   "metadata": {},
   "source": [
    "## Standardizing"
   ]
  },
  {
   "cell_type": "code",
   "execution_count": null,
   "metadata": {
    "ExecuteTime": {
     "end_time": "2021-08-24T04:47:02.538321Z",
     "start_time": "2021-08-24T04:45:42.216039Z"
    }
   },
   "outputs": [],
   "source": [
    "# Instantiate RandomForestClassifier\n",
    "forest = RandomForestClassifier()\n",
    "# Fit the classifier\n",
    "forest.fit(scaled_data_train, y_train);\n",
    "\n",
    "\n",
    "# Predict on the test set\n",
    "metrics = get_metrics(y_test, scaled_data_test, forest)\n",
    "metrics['name'] = 'Random forest scaled'\n",
    "models.append(metrics)"
   ]
  },
  {
   "cell_type": "markdown",
   "metadata": {},
   "source": [
    "## GridSearch CV"
   ]
  },
  {
   "cell_type": "code",
   "execution_count": null,
   "metadata": {
    "ExecuteTime": {
     "end_time": "2021-08-24T09:46:00.616786Z",
     "start_time": "2021-08-24T04:47:02.538321Z"
    }
   },
   "outputs": [],
   "source": [
    "param_grid = {\n",
    "    'n_estimators': [100, 200], # default 100 #boosting stages\n",
    "    'max_depth': [30, 35, 40], # default None\n",
    "    'max_features': [50, 60], # default 'auto': auto=sqrt(# of features)=11, None=# of features=122\n",
    "#     'min_samples_split' : [20,30,40],\n",
    "#     'min_samples_leaf'  : [5, 10, 15]\n",
    "    # default 'auto': auto=sqrt(# of features)=11, None=# of features=122\n",
    "}\n",
    "forest = RandomForestClassifier()\n",
    "grid_search = GridSearchCV(forest, param_grid, cv=3, scoring='f1_macro')\n",
    "grid_search.fit(scaled_data_train, y_train)"
   ]
  },
  {
   "cell_type": "code",
   "execution_count": null,
   "metadata": {
    "ExecuteTime": {
     "end_time": "2021-08-24T09:46:00.648790Z",
     "start_time": "2021-08-24T09:46:00.622790Z"
    }
   },
   "outputs": [],
   "source": [
    "grid_search.best_params_"
   ]
  },
  {
   "cell_type": "code",
   "execution_count": null,
   "metadata": {
    "ExecuteTime": {
     "end_time": "2021-08-24T09:58:56.807669Z",
     "start_time": "2021-08-24T09:46:00.650787Z"
    }
   },
   "outputs": [],
   "source": [
    "forest_tuned = RandomForestClassifier(n_estimators=200, max_depth=35,\n",
    "                                      max_features=60, min_samples_leaf=35, \n",
    "                                      min_samples_split=70)\n",
    "forest_tuned.fit(scaled_data_train, y_train)\n",
    "get_metrics(y_test, scaled_data_test, forest_tuned)\n",
    "metrics['name'] = 'Random Forest tuned1'\n",
    "models.append(metrics)"
   ]
  },
  {
   "cell_type": "code",
   "execution_count": null,
   "metadata": {
    "ExecuteTime": {
     "end_time": "2021-08-24T16:09:27.116227Z",
     "start_time": "2021-08-24T16:09:17.890951Z"
    }
   },
   "outputs": [],
   "source": [
    "print(classification_report(y_test, forest_tuned.predict(scaled_data_test)))"
   ]
  },
  {
   "cell_type": "code",
   "execution_count": null,
   "metadata": {},
   "outputs": [],
   "source": []
  },
  {
   "cell_type": "code",
   "execution_count": null,
   "metadata": {
    "ExecuteTime": {
     "end_time": "2021-08-24T09:58:56.862626Z",
     "start_time": "2021-08-23T21:26:50.413Z"
    }
   },
   "outputs": [],
   "source": [
    "param_grid = {\n",
    "    'n_estimators': [100, 200], # default 100 #boosting stages\n",
    "    'max_depth': [30, 35, 40], # default None\n",
    "    'max_features': [50, 60], # default 'auto': auto=sqrt(# of features)=11, None=# of features=122\n",
    "#     'min_samples_split' : [20,30,40],\n",
    "#     'min_samples_leaf'  : [5, 10, 15]\n",
    "    # default 'auto': auto=sqrt(# of features)=11, None=# of features=122\n",
    "}\n",
    "forest = RandomForestClassifier()\n",
    "grid_search = GridSearchCV(forest, param_grid, cv=3, scoring='f1_macro')\n",
    "grid_search.fit(scaled_data_train, y_train)"
   ]
  },
  {
   "cell_type": "code",
   "execution_count": null,
   "metadata": {
    "ExecuteTime": {
     "end_time": "2021-08-24T09:58:56.865626Z",
     "start_time": "2021-08-23T21:26:50.418Z"
    }
   },
   "outputs": [],
   "source": [
    "grid_search.best_params_"
   ]
  },
  {
   "cell_type": "code",
   "execution_count": null,
   "metadata": {
    "ExecuteTime": {
     "end_time": "2021-08-24T09:58:56.866625Z",
     "start_time": "2021-08-23T21:26:50.424Z"
    }
   },
   "outputs": [],
   "source": [
    "forest_tuned = RandomForestClassifier(n_estimators=200, max_depth=35,\n",
    "                                      max_features=60, min_samples_leaf=35, \n",
    "                                      min_samples_split=70)\n",
    "forest_tuned.fit(scaled_data_train, y_train)\n",
    "get_metrics(y_test, scaled_data_test, forest_tuned)\n",
    "metrics['name'] = 'Rand2om Forest tuned1'\n",
    "models.append(metrics)"
   ]
  },
  {
   "cell_type": "code",
   "execution_count": null,
   "metadata": {
    "ExecuteTime": {
     "end_time": "2021-08-24T09:58:56.868626Z",
     "start_time": "2021-08-23T21:26:50.430Z"
    }
   },
   "outputs": [],
   "source": [
    "print(classification_report(y_test, forest_tuned.predict(scaled_data_test))"
   ]
  },
  {
   "cell_type": "markdown",
   "metadata": {},
   "source": [
    "## Confusion matrix"
   ]
  },
  {
   "cell_type": "code",
   "execution_count": null,
   "metadata": {
    "ExecuteTime": {
     "end_time": "2021-08-24T09:58:56.869626Z",
     "start_time": "2021-08-23T21:26:50.437Z"
    }
   },
   "outputs": [],
   "source": [
    "plt.figure(figsize=(6,5))\n",
    "plot_confusion_matrix(knn, X_test, y_test, values_format='d', cmap=plt.cm.Blues)\n",
    "plt.title('Random Forest tuned1')\n",
    "plt.tight_layout()\n",
    "\n",
    "plt.show()"
   ]
  },
  {
   "cell_type": "markdown",
   "metadata": {},
   "source": [
    "## Smote"
   ]
  },
  {
   "cell_type": "code",
   "execution_count": null,
   "metadata": {
    "ExecuteTime": {
     "end_time": "2021-08-24T09:58:56.871627Z",
     "start_time": "2021-08-23T21:26:50.442Z"
    }
   },
   "outputs": [],
   "source": [
    "forest_smote = RandomForestClassifier(n_estimators=150, max_depth=40,\n",
    "                                      max_features=50, min_samples_leaf=35, \n",
    "                                      min_samples_split=70)\n",
    "forest_smote.fit(X_train_resampled, y_train_resampled)\n",
    "get_metrics(y_test, scaled_data_test, forest_smote)\n",
    "metrics['name'] = 'Random Forest smote'\n",
    "models.append(metrics)"
   ]
  },
  {
   "cell_type": "code",
   "execution_count": null,
   "metadata": {
    "ExecuteTime": {
     "end_time": "2021-08-24T09:58:56.872627Z",
     "start_time": "2021-08-23T21:26:50.448Z"
    }
   },
   "outputs": [],
   "source": [
    "print(classification_report(y_test, forest_smote.predict(scaled_data_test))"
   ]
  },
  {
   "cell_type": "markdown",
   "metadata": {
    "ExecuteTime": {
     "end_time": "2021-08-23T20:47:16.536440Z",
     "start_time": "2021-08-23T20:47:16.517893Z"
    }
   },
   "source": [
    "## Confusion matrix"
   ]
  },
  {
   "cell_type": "code",
   "execution_count": null,
   "metadata": {
    "ExecuteTime": {
     "end_time": "2021-08-24T09:58:56.873627Z",
     "start_time": "2021-08-23T21:26:50.454Z"
    }
   },
   "outputs": [],
   "source": [
    "plot_confusion_matrix(forest_tuned, scaled_data_test, y_test, values_format='d', \n",
    "                      cmap=plt.cm.Blues)\n",
    "plt.title('Random Forest Scaled')\n",
    "plt.tight_layout()\n",
    "\n",
    "plt.show()"
   ]
  },
  {
   "cell_type": "code",
   "execution_count": null,
   "metadata": {},
   "outputs": [],
   "source": []
  },
  {
   "cell_type": "code",
   "execution_count": null,
   "metadata": {},
   "outputs": [],
   "source": []
  },
  {
   "cell_type": "markdown",
   "metadata": {},
   "source": [
    "## Feature Importance"
   ]
  },
  {
   "cell_type": "code",
   "execution_count": null,
   "metadata": {
    "ExecuteTime": {
     "end_time": "2021-08-24T09:58:56.874623Z",
     "start_time": "2021-08-23T21:26:50.467Z"
    }
   },
   "outputs": [],
   "source": [
    "# Plot the feature importance of each feature\n",
    "features = X_train.shape[1]\n",
    "plt.figure(figsize=(20,20))\n",
    "plt.barh(range(features), forest.feature_importances_, align='center')\n",
    "plt.yticks(np.arange(features), X_train.columns.values)\n",
    "plt.title('Feature Importance', fontsize=20)\n",
    "plt.xlabel('Feature importance')\n",
    "plt.ylabel('Features')"
   ]
  },
  {
   "cell_type": "markdown",
   "metadata": {},
   "source": [
    "# XGBoost"
   ]
  },
  {
   "cell_type": "markdown",
   "metadata": {
    "ExecuteTime": {
     "end_time": "2021-08-23T20:49:34.723799Z",
     "start_time": "2021-08-23T20:49:34.710265Z"
    }
   },
   "source": [
    "## Baseline Model"
   ]
  },
  {
   "cell_type": "code",
   "execution_count": null,
   "metadata": {
    "ExecuteTime": {
     "end_time": "2021-08-24T09:58:56.876624Z",
     "start_time": "2021-08-23T21:26:50.475Z"
    }
   },
   "outputs": [],
   "source": [
    "from sklearn.ensemble import GradientBoostingClassifier\n",
    "\n",
    "# Instantiate XGBClassifier and fit classifier\n",
    "xgb = XGBClassifier(random_state=12)\n",
    "xgb.fit(X_train, y_train);\n",
    "\n",
    "metrics = get_metrics(y_test, X_test, xgb)\n",
    "metrics['name'] = 'XG Boost Baseline'\n",
    "models.append(metrics)"
   ]
  },
  {
   "cell_type": "code",
   "execution_count": null,
   "metadata": {
    "ExecuteTime": {
     "end_time": "2021-08-24T09:58:56.877624Z",
     "start_time": "2021-08-23T21:26:50.479Z"
    }
   },
   "outputs": [],
   "source": [
    "print(classification_report(y_train, xgb.predict(X_train))"
   ]
  },
  {
   "cell_type": "code",
   "execution_count": null,
   "metadata": {
    "ExecuteTime": {
     "end_time": "2021-08-24T09:58:56.878626Z",
     "start_time": "2021-08-23T21:26:50.484Z"
    }
   },
   "outputs": [],
   "source": [
    "print(confusion_matrix(y_test, xgb.predict(X_test)))\n",
    "print(classification_report(y_test, xgb.predict(X_test))"
   ]
  },
  {
   "cell_type": "markdown",
   "metadata": {},
   "source": [
    "## Confusion matrix"
   ]
  },
  {
   "cell_type": "code",
   "execution_count": null,
   "metadata": {},
   "outputs": [],
   "source": [
    "plot_confusion_matrix(xgb, X_test, y_test, values_format='d', \n",
    "                      cmap=plt.cm.Blues)\n",
    "plt.title('XGBoost')\n",
    "plt.tight_layout()\n",
    "\n",
    "plt.show()"
   ]
  },
  {
   "cell_type": "markdown",
   "metadata": {},
   "source": [
    "### Standardized"
   ]
  },
  {
   "cell_type": "code",
   "execution_count": null,
   "metadata": {},
   "outputs": [],
   "source": [
    "# Fit the classifier\n",
    "xgb.fit(scaled_data_train, y_train);\n",
    "\n",
    "# Predict on the test set\n",
    "metrics = get_metrics(y_test, scaled_data_test, xgb)\n",
    "metrics['name'] = 'XGBoost_scaled'\n",
    "models.append(metrics)"
   ]
  },
  {
   "cell_type": "markdown",
   "metadata": {},
   "source": [
    "### Grid search CV"
   ]
  },
  {
   "cell_type": "code",
   "execution_count": null,
   "metadata": {},
   "outputs": [],
   "source": [
    "from sklearn.model_selection import GridSearchCV"
   ]
  },
  {
   "cell_type": "code",
   "execution_count": null,
   "metadata": {},
   "outputs": [],
   "source": [
    "param_grid = {\n",
    "    'learning_rate': [0.05, 0.1],\n",
    "    'max_depth': [6, 8, 10],\n",
    "    'subsample': [0.5, 0.7],\n",
    "    'n_estimators': [100, 150, 200],\n",
    "}\n",
    "xgb = XGBClassifier()\n",
    "grid_search = GridSearchCV(xgb, param_grid, cv=None, scoring='f1_macro', n_jobs=1)\n",
    "grid_search.fit(scaled_data_train, y_train)"
   ]
  },
  {
   "cell_type": "code",
   "execution_count": null,
   "metadata": {},
   "outputs": [],
   "source": [
    "grid_search.best_params_"
   ]
  },
  {
   "cell_type": "code",
   "execution_count": null,
   "metadata": {},
   "outputs": [],
   "source": [
    "# Instantiate XGBClassifier and fit classifier\n",
    "\n",
    "# xgb_tuned = XGBClassifier(n_estimators=200, learning_rate=0.1, max_depth=10,\n",
    "#                           subsample=0.7)\n",
    "\n",
    "xgb_tuned = XGBClassifier(objective = objective='multi:softmax', num_class = 3,\n",
    "                          n_estimators = 200, learning_rate = .1, max_depth = 10, subsample =0.7)\n",
    "\n",
    "\n",
    "xgb_tuned.fit(scaled_data_train, y_train)\n",
    "get_metrics(y_test, scaled_data_test, xgb_tuned)\n",
    "metrics['name'] = 'XGBoost_tuned1'\n",
    "models.append(metrics)\n",
    "\n"
   ]
  },
  {
   "cell_type": "code",
   "execution_count": null,
   "metadata": {},
   "outputs": [],
   "source": [
    "print(classification_report(y_train, xgb_tuned.predict(scaled_data_train)))"
   ]
  },
  {
   "cell_type": "code",
   "execution_count": null,
   "metadata": {},
   "outputs": [],
   "source": [
    "print(classification_report(y_test, xgb_tuned.predict(scaled_data_test)))"
   ]
  },
  {
   "cell_type": "code",
   "execution_count": null,
   "metadata": {},
   "outputs": [],
   "source": []
  },
  {
   "cell_type": "code",
   "execution_count": null,
   "metadata": {},
   "outputs": [],
   "source": []
  },
  {
   "cell_type": "code",
   "execution_count": null,
   "metadata": {},
   "outputs": [],
   "source": []
  },
  {
   "cell_type": "code",
   "execution_count": null,
   "metadata": {},
   "outputs": [],
   "source": []
  },
  {
   "cell_type": "code",
   "execution_count": null,
   "metadata": {},
   "outputs": [],
   "source": []
  },
  {
   "cell_type": "markdown",
   "metadata": {},
   "source": [
    "# Replace target variable classes for visualization"
   ]
  },
  {
   "cell_type": "code",
   "execution_count": null,
   "metadata": {
    "ExecuteTime": {
     "end_time": "2021-08-29T17:22:03.889394Z",
     "start_time": "2021-08-29T17:22:03.575810Z"
    }
   },
   "outputs": [],
   "source": [
    "# Replace target values - there are three classes\n",
    "df2 = df.replace({'bridge_condition': {'Poor' : 2, \n",
    "                                'Fair' : 1, \n",
    "                                'Good' : 0}})\n",
    "# Check to see that it worked\n",
    "df2.iloc[15:20]"
   ]
  },
  {
   "cell_type": "code",
   "execution_count": null,
   "metadata": {
    "ExecuteTime": {
     "end_time": "2021-08-29T02:48:00.932783Z",
     "start_time": "2021-08-29T02:48:00.917451Z"
    }
   },
   "outputs": [],
   "source": [
    "df2.shape"
   ]
  },
  {
   "cell_type": "markdown",
   "metadata": {},
   "source": [
    "# Folium Heatmap"
   ]
  },
  {
   "cell_type": "code",
   "execution_count": 230,
   "metadata": {
    "ExecuteTime": {
     "end_time": "2021-08-30T19:19:29.403675Z",
     "start_time": "2021-08-30T19:19:25.635389Z"
    }
   },
   "outputs": [],
   "source": [
    "import folium\n",
    "from folium.plugins import HeatMap"
   ]
  },
  {
   "cell_type": "code",
   "execution_count": 231,
   "metadata": {
    "ExecuteTime": {
     "end_time": "2021-08-30T19:19:32.605965Z",
     "start_time": "2021-08-30T19:19:32.546352Z"
    }
   },
   "outputs": [
    {
     "data": {
      "text/html": [
       "<div style=\"width:100%;\"><div style=\"position:relative;width:100%;height:0;padding-bottom:60%;\"><span style=\"color:#565656\">Make this Notebook Trusted to load map: File -> Trust Notebook</span><iframe src=\"about:blank\" style=\"position:absolute;width:100%;height:100%;left:0;top:0;border:none !important;\" data-html=%3C%21DOCTYPE%20html%3E%0A%3Chead%3E%20%20%20%20%0A%20%20%20%20%3Cmeta%20http-equiv%3D%22content-type%22%20content%3D%22text/html%3B%20charset%3DUTF-8%22%20/%3E%0A%20%20%20%20%0A%20%20%20%20%20%20%20%20%3Cscript%3E%0A%20%20%20%20%20%20%20%20%20%20%20%20L_NO_TOUCH%20%3D%20false%3B%0A%20%20%20%20%20%20%20%20%20%20%20%20L_DISABLE_3D%20%3D%20false%3B%0A%20%20%20%20%20%20%20%20%3C/script%3E%0A%20%20%20%20%0A%20%20%20%20%3Cstyle%3Ehtml%2C%20body%20%7Bwidth%3A%20100%25%3Bheight%3A%20100%25%3Bmargin%3A%200%3Bpadding%3A%200%3B%7D%3C/style%3E%0A%20%20%20%20%3Cstyle%3E%23map%20%7Bposition%3Aabsolute%3Btop%3A0%3Bbottom%3A0%3Bright%3A0%3Bleft%3A0%3B%7D%3C/style%3E%0A%20%20%20%20%3Cscript%20src%3D%22https%3A//cdn.jsdelivr.net/npm/leaflet%401.6.0/dist/leaflet.js%22%3E%3C/script%3E%0A%20%20%20%20%3Cscript%20src%3D%22https%3A//code.jquery.com/jquery-1.12.4.min.js%22%3E%3C/script%3E%0A%20%20%20%20%3Cscript%20src%3D%22https%3A//maxcdn.bootstrapcdn.com/bootstrap/3.2.0/js/bootstrap.min.js%22%3E%3C/script%3E%0A%20%20%20%20%3Cscript%20src%3D%22https%3A//cdnjs.cloudflare.com/ajax/libs/Leaflet.awesome-markers/2.0.2/leaflet.awesome-markers.js%22%3E%3C/script%3E%0A%20%20%20%20%3Clink%20rel%3D%22stylesheet%22%20href%3D%22https%3A//cdn.jsdelivr.net/npm/leaflet%401.6.0/dist/leaflet.css%22/%3E%0A%20%20%20%20%3Clink%20rel%3D%22stylesheet%22%20href%3D%22https%3A//maxcdn.bootstrapcdn.com/bootstrap/3.2.0/css/bootstrap.min.css%22/%3E%0A%20%20%20%20%3Clink%20rel%3D%22stylesheet%22%20href%3D%22https%3A//maxcdn.bootstrapcdn.com/bootstrap/3.2.0/css/bootstrap-theme.min.css%22/%3E%0A%20%20%20%20%3Clink%20rel%3D%22stylesheet%22%20href%3D%22https%3A//maxcdn.bootstrapcdn.com/font-awesome/4.6.3/css/font-awesome.min.css%22/%3E%0A%20%20%20%20%3Clink%20rel%3D%22stylesheet%22%20href%3D%22https%3A//cdnjs.cloudflare.com/ajax/libs/Leaflet.awesome-markers/2.0.2/leaflet.awesome-markers.css%22/%3E%0A%20%20%20%20%3Clink%20rel%3D%22stylesheet%22%20href%3D%22https%3A//cdn.jsdelivr.net/gh/python-visualization/folium/folium/templates/leaflet.awesome.rotate.min.css%22/%3E%0A%20%20%20%20%0A%20%20%20%20%20%20%20%20%20%20%20%20%3Cmeta%20name%3D%22viewport%22%20content%3D%22width%3Ddevice-width%2C%0A%20%20%20%20%20%20%20%20%20%20%20%20%20%20%20%20initial-scale%3D1.0%2C%20maximum-scale%3D1.0%2C%20user-scalable%3Dno%22%20/%3E%0A%20%20%20%20%20%20%20%20%20%20%20%20%3Cstyle%3E%0A%20%20%20%20%20%20%20%20%20%20%20%20%20%20%20%20%23map_8ad79195245544b69eb35d78d97e1f0d%20%7B%0A%20%20%20%20%20%20%20%20%20%20%20%20%20%20%20%20%20%20%20%20position%3A%20relative%3B%0A%20%20%20%20%20%20%20%20%20%20%20%20%20%20%20%20%20%20%20%20width%3A%20100.0%25%3B%0A%20%20%20%20%20%20%20%20%20%20%20%20%20%20%20%20%20%20%20%20height%3A%20100.0%25%3B%0A%20%20%20%20%20%20%20%20%20%20%20%20%20%20%20%20%20%20%20%20left%3A%200.0%25%3B%0A%20%20%20%20%20%20%20%20%20%20%20%20%20%20%20%20%20%20%20%20top%3A%200.0%25%3B%0A%20%20%20%20%20%20%20%20%20%20%20%20%20%20%20%20%7D%0A%20%20%20%20%20%20%20%20%20%20%20%20%3C/style%3E%0A%20%20%20%20%20%20%20%20%0A%3C/head%3E%0A%3Cbody%3E%20%20%20%20%0A%20%20%20%20%0A%20%20%20%20%20%20%20%20%20%20%20%20%3Cdiv%20class%3D%22folium-map%22%20id%3D%22map_8ad79195245544b69eb35d78d97e1f0d%22%20%3E%3C/div%3E%0A%20%20%20%20%20%20%20%20%0A%3C/body%3E%0A%3Cscript%3E%20%20%20%20%0A%20%20%20%20%0A%20%20%20%20%20%20%20%20%20%20%20%20var%20map_8ad79195245544b69eb35d78d97e1f0d%20%3D%20L.map%28%0A%20%20%20%20%20%20%20%20%20%20%20%20%20%20%20%20%22map_8ad79195245544b69eb35d78d97e1f0d%22%2C%0A%20%20%20%20%20%20%20%20%20%20%20%20%20%20%20%20%7B%0A%20%20%20%20%20%20%20%20%20%20%20%20%20%20%20%20%20%20%20%20center%3A%20%5B40.0%2C%20-100.0%5D%2C%0A%20%20%20%20%20%20%20%20%20%20%20%20%20%20%20%20%20%20%20%20crs%3A%20L.CRS.EPSG3857%2C%0A%20%20%20%20%20%20%20%20%20%20%20%20%20%20%20%20%20%20%20%20zoom%3A%204%2C%0A%20%20%20%20%20%20%20%20%20%20%20%20%20%20%20%20%20%20%20%20zoomControl%3A%20true%2C%0A%20%20%20%20%20%20%20%20%20%20%20%20%20%20%20%20%20%20%20%20preferCanvas%3A%20false%2C%0A%20%20%20%20%20%20%20%20%20%20%20%20%20%20%20%20%7D%0A%20%20%20%20%20%20%20%20%20%20%20%20%29%3B%0A%0A%20%20%20%20%20%20%20%20%20%20%20%20%0A%0A%20%20%20%20%20%20%20%20%0A%20%20%20%20%0A%20%20%20%20%20%20%20%20%20%20%20%20var%20tile_layer_45e1751a57e141b5bd60f433889f52fb%20%3D%20L.tileLayer%28%0A%20%20%20%20%20%20%20%20%20%20%20%20%20%20%20%20%22https%3A//%7Bs%7D.tile.openstreetmap.org/%7Bz%7D/%7Bx%7D/%7By%7D.png%22%2C%0A%20%20%20%20%20%20%20%20%20%20%20%20%20%20%20%20%7B%22attribution%22%3A%20%22Data%20by%20%5Cu0026copy%3B%20%5Cu003ca%20href%3D%5C%22http%3A//openstreetmap.org%5C%22%5Cu003eOpenStreetMap%5Cu003c/a%5Cu003e%2C%20under%20%5Cu003ca%20href%3D%5C%22http%3A//www.openstreetmap.org/copyright%5C%22%5Cu003eODbL%5Cu003c/a%5Cu003e.%22%2C%20%22detectRetina%22%3A%20false%2C%20%22maxNativeZoom%22%3A%2018%2C%20%22maxZoom%22%3A%2018%2C%20%22minZoom%22%3A%200%2C%20%22noWrap%22%3A%20false%2C%20%22opacity%22%3A%201%2C%20%22subdomains%22%3A%20%22abc%22%2C%20%22tms%22%3A%20false%7D%0A%20%20%20%20%20%20%20%20%20%20%20%20%29.addTo%28map_8ad79195245544b69eb35d78d97e1f0d%29%3B%0A%20%20%20%20%20%20%20%20%0A%3C/script%3E onload=\"this.contentDocument.open();this.contentDocument.write(    decodeURIComponent(this.getAttribute('data-html')));this.contentDocument.close();\" allowfullscreen webkitallowfullscreen mozallowfullscreen></iframe></div></div>"
      ],
      "text/plain": [
       "<folium.folium.Map at 0x2a0408d0910>"
      ]
     },
     "execution_count": 231,
     "metadata": {},
     "output_type": "execute_result"
    }
   ],
   "source": [
    "# Make an empty map\n",
    "m = folium.Map(location=[40,-100], tiles=\"OpenStreetMap\", zoom_start=4)\n",
    "\n",
    "# Show the map\n",
    "m"
   ]
  },
  {
   "cell_type": "markdown",
   "metadata": {},
   "source": [
    "## By state"
   ]
  },
  {
   "cell_type": "code",
   "execution_count": 232,
   "metadata": {
    "ExecuteTime": {
     "end_time": "2021-08-30T19:19:36.848508Z",
     "start_time": "2021-08-30T19:19:36.199904Z"
    }
   },
   "outputs": [
    {
     "ename": "KeyError",
     "evalue": "\"['bridge_condition'] not in index\"",
     "output_type": "error",
     "traceback": [
      "\u001b[1;31m---------------------------------------------------------------------------\u001b[0m",
      "\u001b[1;31mKeyError\u001b[0m                                  Traceback (most recent call last)",
      "\u001b[1;32m<ipython-input-232-b4ede583e6a3>\u001b[0m in \u001b[0;36m<module>\u001b[1;34m\u001b[0m\n\u001b[1;32m----> 1\u001b[1;33m \u001b[0mdata\u001b[0m \u001b[1;33m=\u001b[0m \u001b[0mdf2\u001b[0m\u001b[1;33m.\u001b[0m\u001b[0mgroupby\u001b[0m\u001b[1;33m(\u001b[0m\u001b[1;34m'state'\u001b[0m\u001b[1;33m)\u001b[0m\u001b[1;33m.\u001b[0m\u001b[0mmedian\u001b[0m\u001b[1;33m(\u001b[0m\u001b[1;33m)\u001b[0m\u001b[1;33m[\u001b[0m\u001b[1;33m[\u001b[0m\u001b[1;34m'latitude'\u001b[0m\u001b[1;33m,\u001b[0m \u001b[1;34m'longitude'\u001b[0m\u001b[1;33m,\u001b[0m \u001b[1;34m'bridge_condition'\u001b[0m\u001b[1;33m]\u001b[0m\u001b[1;33m]\u001b[0m\u001b[1;33m.\u001b[0m\u001b[0mvalues\u001b[0m\u001b[1;33m.\u001b[0m\u001b[0mtolist\u001b[0m\u001b[1;33m(\u001b[0m\u001b[1;33m)\u001b[0m\u001b[1;33m\u001b[0m\u001b[1;33m\u001b[0m\u001b[0m\n\u001b[0m\u001b[0;32m      2\u001b[0m \u001b[0mdata\u001b[0m\u001b[1;33m\u001b[0m\u001b[1;33m\u001b[0m\u001b[0m\n",
      "\u001b[1;32m~\\anaconda3\\lib\\site-packages\\pandas\\core\\frame.py\u001b[0m in \u001b[0;36m__getitem__\u001b[1;34m(self, key)\u001b[0m\n\u001b[0;32m   2906\u001b[0m             \u001b[1;32mif\u001b[0m \u001b[0mis_iterator\u001b[0m\u001b[1;33m(\u001b[0m\u001b[0mkey\u001b[0m\u001b[1;33m)\u001b[0m\u001b[1;33m:\u001b[0m\u001b[1;33m\u001b[0m\u001b[1;33m\u001b[0m\u001b[0m\n\u001b[0;32m   2907\u001b[0m                 \u001b[0mkey\u001b[0m \u001b[1;33m=\u001b[0m \u001b[0mlist\u001b[0m\u001b[1;33m(\u001b[0m\u001b[0mkey\u001b[0m\u001b[1;33m)\u001b[0m\u001b[1;33m\u001b[0m\u001b[1;33m\u001b[0m\u001b[0m\n\u001b[1;32m-> 2908\u001b[1;33m             \u001b[0mindexer\u001b[0m \u001b[1;33m=\u001b[0m \u001b[0mself\u001b[0m\u001b[1;33m.\u001b[0m\u001b[0mloc\u001b[0m\u001b[1;33m.\u001b[0m\u001b[0m_get_listlike_indexer\u001b[0m\u001b[1;33m(\u001b[0m\u001b[0mkey\u001b[0m\u001b[1;33m,\u001b[0m \u001b[0maxis\u001b[0m\u001b[1;33m=\u001b[0m\u001b[1;36m1\u001b[0m\u001b[1;33m,\u001b[0m \u001b[0mraise_missing\u001b[0m\u001b[1;33m=\u001b[0m\u001b[1;32mTrue\u001b[0m\u001b[1;33m)\u001b[0m\u001b[1;33m[\u001b[0m\u001b[1;36m1\u001b[0m\u001b[1;33m]\u001b[0m\u001b[1;33m\u001b[0m\u001b[1;33m\u001b[0m\u001b[0m\n\u001b[0m\u001b[0;32m   2909\u001b[0m \u001b[1;33m\u001b[0m\u001b[0m\n\u001b[0;32m   2910\u001b[0m         \u001b[1;31m# take() does not accept boolean indexers\u001b[0m\u001b[1;33m\u001b[0m\u001b[1;33m\u001b[0m\u001b[1;33m\u001b[0m\u001b[0m\n",
      "\u001b[1;32m~\\anaconda3\\lib\\site-packages\\pandas\\core\\indexing.py\u001b[0m in \u001b[0;36m_get_listlike_indexer\u001b[1;34m(self, key, axis, raise_missing)\u001b[0m\n\u001b[0;32m   1252\u001b[0m             \u001b[0mkeyarr\u001b[0m\u001b[1;33m,\u001b[0m \u001b[0mindexer\u001b[0m\u001b[1;33m,\u001b[0m \u001b[0mnew_indexer\u001b[0m \u001b[1;33m=\u001b[0m \u001b[0max\u001b[0m\u001b[1;33m.\u001b[0m\u001b[0m_reindex_non_unique\u001b[0m\u001b[1;33m(\u001b[0m\u001b[0mkeyarr\u001b[0m\u001b[1;33m)\u001b[0m\u001b[1;33m\u001b[0m\u001b[1;33m\u001b[0m\u001b[0m\n\u001b[0;32m   1253\u001b[0m \u001b[1;33m\u001b[0m\u001b[0m\n\u001b[1;32m-> 1254\u001b[1;33m         \u001b[0mself\u001b[0m\u001b[1;33m.\u001b[0m\u001b[0m_validate_read_indexer\u001b[0m\u001b[1;33m(\u001b[0m\u001b[0mkeyarr\u001b[0m\u001b[1;33m,\u001b[0m \u001b[0mindexer\u001b[0m\u001b[1;33m,\u001b[0m \u001b[0maxis\u001b[0m\u001b[1;33m,\u001b[0m \u001b[0mraise_missing\u001b[0m\u001b[1;33m=\u001b[0m\u001b[0mraise_missing\u001b[0m\u001b[1;33m)\u001b[0m\u001b[1;33m\u001b[0m\u001b[1;33m\u001b[0m\u001b[0m\n\u001b[0m\u001b[0;32m   1255\u001b[0m         \u001b[1;32mreturn\u001b[0m \u001b[0mkeyarr\u001b[0m\u001b[1;33m,\u001b[0m \u001b[0mindexer\u001b[0m\u001b[1;33m\u001b[0m\u001b[1;33m\u001b[0m\u001b[0m\n\u001b[0;32m   1256\u001b[0m \u001b[1;33m\u001b[0m\u001b[0m\n",
      "\u001b[1;32m~\\anaconda3\\lib\\site-packages\\pandas\\core\\indexing.py\u001b[0m in \u001b[0;36m_validate_read_indexer\u001b[1;34m(self, key, indexer, axis, raise_missing)\u001b[0m\n\u001b[0;32m   1302\u001b[0m             \u001b[1;32mif\u001b[0m \u001b[0mraise_missing\u001b[0m\u001b[1;33m:\u001b[0m\u001b[1;33m\u001b[0m\u001b[1;33m\u001b[0m\u001b[0m\n\u001b[0;32m   1303\u001b[0m                 \u001b[0mnot_found\u001b[0m \u001b[1;33m=\u001b[0m \u001b[0mlist\u001b[0m\u001b[1;33m(\u001b[0m\u001b[0mset\u001b[0m\u001b[1;33m(\u001b[0m\u001b[0mkey\u001b[0m\u001b[1;33m)\u001b[0m \u001b[1;33m-\u001b[0m \u001b[0mset\u001b[0m\u001b[1;33m(\u001b[0m\u001b[0max\u001b[0m\u001b[1;33m)\u001b[0m\u001b[1;33m)\u001b[0m\u001b[1;33m\u001b[0m\u001b[1;33m\u001b[0m\u001b[0m\n\u001b[1;32m-> 1304\u001b[1;33m                 \u001b[1;32mraise\u001b[0m \u001b[0mKeyError\u001b[0m\u001b[1;33m(\u001b[0m\u001b[1;34mf\"{not_found} not in index\"\u001b[0m\u001b[1;33m)\u001b[0m\u001b[1;33m\u001b[0m\u001b[1;33m\u001b[0m\u001b[0m\n\u001b[0m\u001b[0;32m   1305\u001b[0m \u001b[1;33m\u001b[0m\u001b[0m\n\u001b[0;32m   1306\u001b[0m             \u001b[1;31m# we skip the warning on Categorical\u001b[0m\u001b[1;33m\u001b[0m\u001b[1;33m\u001b[0m\u001b[1;33m\u001b[0m\u001b[0m\n",
      "\u001b[1;31mKeyError\u001b[0m: \"['bridge_condition'] not in index\""
     ]
    }
   ],
   "source": [
    "data = df2.groupby('state').median()[['latitude', 'longitude', 'bridge_condition']].values.tolist()\n",
    "data"
   ]
  },
  {
   "cell_type": "code",
   "execution_count": null,
   "metadata": {
    "ExecuteTime": {
     "end_time": "2021-08-30T19:19:36.880507Z",
     "start_time": "2021-08-30T19:19:26.347Z"
    }
   },
   "outputs": [],
   "source": [
    "# gradient = {0: 'red', 1: 'brown', 2: 'green'}\n",
    "HeatMap(data = data).add_to(m)"
   ]
  },
  {
   "cell_type": "code",
   "execution_count": null,
   "metadata": {
    "ExecuteTime": {
     "end_time": "2021-08-30T19:19:36.890509Z",
     "start_time": "2021-08-30T19:19:26.625Z"
    }
   },
   "outputs": [],
   "source": [
    "display(m)"
   ]
  },
  {
   "cell_type": "markdown",
   "metadata": {},
   "source": [
    "## By Sub-structure condition"
   ]
  },
  {
   "cell_type": "code",
   "execution_count": null,
   "metadata": {
    "ExecuteTime": {
     "end_time": "2021-08-30T19:19:36.899506Z",
     "start_time": "2021-08-30T19:19:27.335Z"
    }
   },
   "outputs": [],
   "source": [
    "# Make an empty map\n",
    "m = folium.Map(location=[40,-100], tiles=\"OpenStreetMap\", zoom_start=4)\n",
    "\n",
    "#show the map\n",
    "m"
   ]
  },
  {
   "cell_type": "code",
   "execution_count": null,
   "metadata": {
    "ExecuteTime": {
     "end_time": "2021-08-30T19:19:36.928506Z",
     "start_time": "2021-08-30T19:19:27.610Z"
    }
   },
   "outputs": [],
   "source": [
    "\n",
    "data1 = df2.groupby('sub_st_condition').median()[['latitude', 'longitude', 'bridge_condition']].values.tolist()"
   ]
  },
  {
   "cell_type": "code",
   "execution_count": null,
   "metadata": {
    "ExecuteTime": {
     "end_time": "2021-08-30T19:19:36.938508Z",
     "start_time": "2021-08-30T19:19:27.913Z"
    },
    "scrolled": false
   },
   "outputs": [],
   "source": [
    "# gradient = {0: 'red', 1: 'brown', 2: 'green'}\n",
    "\n",
    "HeatMap(data = data1).add_to(m)\n",
    "display(m)"
   ]
  },
  {
   "cell_type": "markdown",
   "metadata": {},
   "source": [
    "## By snowfall days"
   ]
  },
  {
   "cell_type": "code",
   "execution_count": null,
   "metadata": {
    "ExecuteTime": {
     "end_time": "2021-08-30T19:19:36.947507Z",
     "start_time": "2021-08-30T19:19:28.560Z"
    }
   },
   "outputs": [],
   "source": [
    "# Make an empty map\n",
    "m = folium.Map(location=[40,-100], tiles=\"OpenStreetMap\", zoom_start=4)\n",
    "\n",
    "#show the map\n",
    "m"
   ]
  },
  {
   "cell_type": "code",
   "execution_count": null,
   "metadata": {
    "ExecuteTime": {
     "end_time": "2021-08-30T19:19:36.956508Z",
     "start_time": "2021-08-30T19:19:29.054Z"
    }
   },
   "outputs": [],
   "source": [
    "\n",
    "data2 = df2.groupby('snowfall_days').median()[['latitude', 'longitude', 'bridge_condition']].values.tolist()\n",
    "data2"
   ]
  },
  {
   "cell_type": "code",
   "execution_count": null,
   "metadata": {
    "ExecuteTime": {
     "end_time": "2021-08-30T19:19:36.960508Z",
     "start_time": "2021-08-30T19:19:29.310Z"
    }
   },
   "outputs": [],
   "source": [
    "# gradient = {0: 'red', 1.0: 'brown', 2.0: 'green'}\n",
    "\n",
    "HeatMap(data = data2).add_to(m)\n",
    "display(m)"
   ]
  },
  {
   "cell_type": "markdown",
   "metadata": {},
   "source": [
    "## By age of bridge"
   ]
  },
  {
   "cell_type": "code",
   "execution_count": null,
   "metadata": {},
   "outputs": [],
   "source": []
  },
  {
   "cell_type": "code",
   "execution_count": null,
   "metadata": {
    "ExecuteTime": {
     "end_time": "2021-08-30T19:19:36.996506Z",
     "start_time": "2021-08-30T19:19:30.297Z"
    }
   },
   "outputs": [],
   "source": [
    "# Make an empty map\n",
    "m = folium.Map(location=[40,-100], tiles=\"OpenStreetMap\", zoom_start=4)\n",
    "\n",
    "#show the map\n",
    "m"
   ]
  },
  {
   "cell_type": "code",
   "execution_count": null,
   "metadata": {
    "ExecuteTime": {
     "end_time": "2021-08-30T19:19:37.005507Z",
     "start_time": "2021-08-30T19:19:30.637Z"
    }
   },
   "outputs": [],
   "source": [
    "\n",
    "data3 = df2.groupby('bridge_age').median()[['latitude', 'longitude', 'bridge_condition']].values.tolist()"
   ]
  },
  {
   "cell_type": "code",
   "execution_count": null,
   "metadata": {
    "ExecuteTime": {
     "end_time": "2021-08-30T19:19:37.014507Z",
     "start_time": "2021-08-30T19:19:30.996Z"
    }
   },
   "outputs": [],
   "source": [
    "# gradient = {0: 'red', 1: 'brown', 2: 'green'}\n",
    "\n",
    "HeatMap(data = data3).add_to(m)\n",
    "display(m)"
   ]
  },
  {
   "cell_type": "markdown",
   "metadata": {},
   "source": [
    "## By Freeze and thaw cycle"
   ]
  },
  {
   "cell_type": "code",
   "execution_count": null,
   "metadata": {},
   "outputs": [],
   "source": []
  },
  {
   "cell_type": "code",
   "execution_count": null,
   "metadata": {
    "ExecuteTime": {
     "end_time": "2021-08-30T19:19:37.054506Z",
     "start_time": "2021-08-30T19:19:32.189Z"
    }
   },
   "outputs": [],
   "source": [
    "# Make an empty map\n",
    "m = folium.Map(location=[40,-100], tiles=\"OpenStreetMap\", zoom_start=4)\n",
    "\n",
    "#show the map\n",
    "m"
   ]
  },
  {
   "cell_type": "code",
   "execution_count": null,
   "metadata": {
    "ExecuteTime": {
     "end_time": "2021-08-30T19:19:37.064510Z",
     "start_time": "2021-08-30T19:19:32.557Z"
    }
   },
   "outputs": [],
   "source": [
    "\n",
    "data4 = df2.groupby('freeze_thaw_cycle').median()[['latitude', 'longitude', 'bridge_condition']].values.tolist()"
   ]
  },
  {
   "cell_type": "code",
   "execution_count": null,
   "metadata": {
    "ExecuteTime": {
     "end_time": "2021-08-30T19:19:37.065506Z",
     "start_time": "2021-08-30T19:19:32.812Z"
    }
   },
   "outputs": [],
   "source": [
    "# gradient = {0: 'red', 1: 'brown', 2: 'green'}\n",
    "\n",
    "HeatMap(data = data4).add_to(m)\n",
    "display(m)"
   ]
  },
  {
   "cell_type": "markdown",
   "metadata": {},
   "source": [
    "## By Super structure condition"
   ]
  },
  {
   "cell_type": "code",
   "execution_count": null,
   "metadata": {},
   "outputs": [],
   "source": []
  },
  {
   "cell_type": "code",
   "execution_count": null,
   "metadata": {
    "ExecuteTime": {
     "end_time": "2021-08-30T19:19:37.084505Z",
     "start_time": "2021-08-30T19:19:33.907Z"
    }
   },
   "outputs": [],
   "source": [
    "# Make an empty map\n",
    "m = folium.Map(location=[40,-100], tiles=\"OpenStreetMap\", zoom_start=4)\n",
    "\n",
    "#show the map\n",
    "m"
   ]
  },
  {
   "cell_type": "code",
   "execution_count": null,
   "metadata": {
    "ExecuteTime": {
     "end_time": "2021-08-30T19:19:37.095510Z",
     "start_time": "2021-08-30T19:19:34.325Z"
    }
   },
   "outputs": [],
   "source": [
    "\n",
    "data5 = df2.groupby('super_st_condition').median()[['latitude', 'longitude', 'bridge_condition']].values.tolist()\n",
    "data5"
   ]
  },
  {
   "cell_type": "code",
   "execution_count": null,
   "metadata": {
    "ExecuteTime": {
     "end_time": "2021-08-30T19:19:37.098510Z",
     "start_time": "2021-08-30T19:19:34.622Z"
    }
   },
   "outputs": [],
   "source": [
    "# gradient = {0: 'red', 1: 'brown', 2: 'green'}\n",
    "\n",
    "HeatMap(data = data5).add_to(m)\n",
    "display(m)"
   ]
  },
  {
   "cell_type": "markdown",
   "metadata": {},
   "source": [
    "## By County"
   ]
  },
  {
   "cell_type": "code",
   "execution_count": null,
   "metadata": {
    "ExecuteTime": {
     "end_time": "2021-08-30T19:19:37.117507Z",
     "start_time": "2021-08-30T19:19:35.275Z"
    }
   },
   "outputs": [],
   "source": [
    "# Make an empty map\n",
    "m = folium.Map(location=[40,-100], tiles=\"OpenStreetMap\", zoom_start=4)\n",
    "\n",
    "#show the map\n",
    "m"
   ]
  },
  {
   "cell_type": "code",
   "execution_count": null,
   "metadata": {
    "ExecuteTime": {
     "end_time": "2021-08-30T19:19:37.128506Z",
     "start_time": "2021-08-30T19:19:35.640Z"
    }
   },
   "outputs": [],
   "source": [
    "\n",
    "data6 = df2.groupby('county').median()[['latitude', 'longitude', 'bridge_condition']].values.tolist()\n",
    "data6"
   ]
  },
  {
   "cell_type": "code",
   "execution_count": null,
   "metadata": {
    "ExecuteTime": {
     "end_time": "2021-08-30T19:19:37.137509Z",
     "start_time": "2021-08-30T19:19:36.055Z"
    }
   },
   "outputs": [],
   "source": [
    "\n",
    "HeatMap(data = data6).add_to(m)\n",
    "display(m)"
   ]
  },
  {
   "cell_type": "markdown",
   "metadata": {},
   "source": [
    "## By New York Counties"
   ]
  },
  {
   "cell_type": "code",
   "execution_count": 243,
   "metadata": {
    "ExecuteTime": {
     "end_time": "2021-08-30T19:22:23.847419Z",
     "start_time": "2021-08-30T19:22:23.744606Z"
    }
   },
   "outputs": [
    {
     "data": {
      "text/plain": [
       "array(['  Alabama', '  Delaware', '  District of Columbia', '  Florida',\n",
       "       '  Georgia', '  Hawaii', '  Idaho', '  Illinois', '  Indiana',\n",
       "       'Iowa', '  Alaska', '  Kansas', '  Kentucky', '  Louisiana',\n",
       "       '  Maine', '  Maryland', '  Massachusetts', '  Michigan',\n",
       "       '  Minnesota', '  Mississippi', '  Missouri', '  Montana',\n",
       "       '  Nebraska', '  Nevada', '  New Hampshire', '  New Jersey',\n",
       "       '  New Mexico', '  New York', '  North Carolina', '  North Dakota',\n",
       "       '  Ohio', '  Arizona', '  Oklahoma', '  Oregon', '  Pennsylvania',\n",
       "       '  Rhode Island', '  South Carolina', '  South Dakota',\n",
       "       '  Tennessee', '  Texas', ' Texas', '  Utah', '  Arkansas',\n",
       "       '  Vermont', '  Virginia', '  Washington', '  West Virginia',\n",
       "       '  Wisconsin', '  Wyoming', '  California', '  Colorado',\n",
       "       '  Connecticut'], dtype=object)"
      ]
     },
     "execution_count": 243,
     "metadata": {},
     "output_type": "execute_result"
    }
   ],
   "source": [
    "df.state.unique()"
   ]
  },
  {
   "cell_type": "code",
   "execution_count": 254,
   "metadata": {
    "ExecuteTime": {
     "end_time": "2021-08-30T19:24:41.850936Z",
     "start_time": "2021-08-30T19:24:41.627360Z"
    }
   },
   "outputs": [
    {
     "data": {
      "text/html": [
       "<div>\n",
       "<style scoped>\n",
       "    .dataframe tbody tr th:only-of-type {\n",
       "        vertical-align: middle;\n",
       "    }\n",
       "\n",
       "    .dataframe tbody tr th {\n",
       "        vertical-align: top;\n",
       "    }\n",
       "\n",
       "    .dataframe thead th {\n",
       "        text-align: right;\n",
       "    }\n",
       "</style>\n",
       "<table border=\"1\" class=\"dataframe\">\n",
       "  <thead>\n",
       "    <tr style=\"text-align: right;\">\n",
       "      <th></th>\n",
       "      <th>state</th>\n",
       "      <th>str_id</th>\n",
       "      <th>deck_type</th>\n",
       "      <th>wearing_type</th>\n",
       "      <th>membrane_type</th>\n",
       "      <th>deck_protection</th>\n",
       "      <th>toll</th>\n",
       "      <th>freeze_thaw_cycle</th>\n",
       "      <th>snowfall_days</th>\n",
       "      <th>inventory_class_route</th>\n",
       "      <th>...</th>\n",
       "      <th>yr_reconst</th>\n",
       "      <th>skew</th>\n",
       "      <th>max_span</th>\n",
       "      <th>bridge_width</th>\n",
       "      <th>deck_width</th>\n",
       "      <th>super_st_condition</th>\n",
       "      <th>sub_st_condition</th>\n",
       "      <th>deck_condition</th>\n",
       "      <th>avg_daily_trfic</th>\n",
       "      <th>avg_truck_trfc</th>\n",
       "    </tr>\n",
       "  </thead>\n",
       "  <tbody>\n",
       "    <tr>\n",
       "      <th>80027</th>\n",
       "      <td>New York</td>\n",
       "      <td>000000002230679</td>\n",
       "      <td>1</td>\n",
       "      <td>2</td>\n",
       "      <td>0</td>\n",
       "      <td>1</td>\n",
       "      <td>3.0</td>\n",
       "      <td>80</td>\n",
       "      <td>31.0</td>\n",
       "      <td>11.0</td>\n",
       "      <td>...</td>\n",
       "      <td>2004</td>\n",
       "      <td>7.0</td>\n",
       "      <td>98.1</td>\n",
       "      <td>120.7</td>\n",
       "      <td>146.0</td>\n",
       "      <td>9.0</td>\n",
       "      <td>8.0</td>\n",
       "      <td>8.0</td>\n",
       "      <td>150322</td>\n",
       "      <td>7</td>\n",
       "    </tr>\n",
       "    <tr>\n",
       "      <th>80028</th>\n",
       "      <td>New York</td>\n",
       "      <td>000000002243440</td>\n",
       "      <td>N</td>\n",
       "      <td>1</td>\n",
       "      <td>0</td>\n",
       "      <td>N</td>\n",
       "      <td>3.0</td>\n",
       "      <td>78</td>\n",
       "      <td>16.0</td>\n",
       "      <td>14.0</td>\n",
       "      <td>...</td>\n",
       "      <td>1988</td>\n",
       "      <td>1.0</td>\n",
       "      <td>31.8</td>\n",
       "      <td>69.9</td>\n",
       "      <td>92.2</td>\n",
       "      <td>6.0</td>\n",
       "      <td>7.0</td>\n",
       "      <td>6.0</td>\n",
       "      <td>19421</td>\n",
       "      <td>8</td>\n",
       "    </tr>\n",
       "    <tr>\n",
       "      <th>80029</th>\n",
       "      <td>New York</td>\n",
       "      <td>000000005500039</td>\n",
       "      <td>1</td>\n",
       "      <td>2</td>\n",
       "      <td>0</td>\n",
       "      <td>1</td>\n",
       "      <td>3.0</td>\n",
       "      <td>80</td>\n",
       "      <td>31.0</td>\n",
       "      <td>12.0</td>\n",
       "      <td>...</td>\n",
       "      <td>0</td>\n",
       "      <td>40.0</td>\n",
       "      <td>88.9</td>\n",
       "      <td>82.7</td>\n",
       "      <td>88.9</td>\n",
       "      <td>7.0</td>\n",
       "      <td>6.0</td>\n",
       "      <td>7.0</td>\n",
       "      <td>117547</td>\n",
       "      <td>4</td>\n",
       "    </tr>\n",
       "    <tr>\n",
       "      <th>80030</th>\n",
       "      <td>New York</td>\n",
       "      <td>000000003358490</td>\n",
       "      <td>N</td>\n",
       "      <td>1</td>\n",
       "      <td>0</td>\n",
       "      <td>N</td>\n",
       "      <td>3.0</td>\n",
       "      <td>80</td>\n",
       "      <td>31.0</td>\n",
       "      <td>19.0</td>\n",
       "      <td>...</td>\n",
       "      <td>0</td>\n",
       "      <td>21.0</td>\n",
       "      <td>9.8</td>\n",
       "      <td>0.0</td>\n",
       "      <td>0.0</td>\n",
       "      <td>NaN</td>\n",
       "      <td>NaN</td>\n",
       "      <td>NaN</td>\n",
       "      <td>22857</td>\n",
       "      <td>3</td>\n",
       "    </tr>\n",
       "    <tr>\n",
       "      <th>80031</th>\n",
       "      <td>New York</td>\n",
       "      <td>000000002230680</td>\n",
       "      <td>1</td>\n",
       "      <td>2</td>\n",
       "      <td>0</td>\n",
       "      <td>1</td>\n",
       "      <td>3.0</td>\n",
       "      <td>80</td>\n",
       "      <td>31.0</td>\n",
       "      <td>11.0</td>\n",
       "      <td>...</td>\n",
       "      <td>0</td>\n",
       "      <td>18.0</td>\n",
       "      <td>230.0</td>\n",
       "      <td>107.9</td>\n",
       "      <td>113.8</td>\n",
       "      <td>7.0</td>\n",
       "      <td>8.0</td>\n",
       "      <td>7.0</td>\n",
       "      <td>150322</td>\n",
       "      <td>15</td>\n",
       "    </tr>\n",
       "    <tr>\n",
       "      <th>...</th>\n",
       "      <td>...</td>\n",
       "      <td>...</td>\n",
       "      <td>...</td>\n",
       "      <td>...</td>\n",
       "      <td>...</td>\n",
       "      <td>...</td>\n",
       "      <td>...</td>\n",
       "      <td>...</td>\n",
       "      <td>...</td>\n",
       "      <td>...</td>\n",
       "      <td>...</td>\n",
       "      <td>...</td>\n",
       "      <td>...</td>\n",
       "      <td>...</td>\n",
       "      <td>...</td>\n",
       "      <td>...</td>\n",
       "      <td>...</td>\n",
       "      <td>...</td>\n",
       "      <td>...</td>\n",
       "      <td>...</td>\n",
       "      <td>...</td>\n",
       "    </tr>\n",
       "    <tr>\n",
       "      <th>95527</th>\n",
       "      <td>New York</td>\n",
       "      <td>000000001003341</td>\n",
       "      <td>1</td>\n",
       "      <td>2</td>\n",
       "      <td>0</td>\n",
       "      <td>3</td>\n",
       "      <td>3.0</td>\n",
       "      <td>114</td>\n",
       "      <td>66.0</td>\n",
       "      <td>16.0</td>\n",
       "      <td>...</td>\n",
       "      <td>0</td>\n",
       "      <td>22.0</td>\n",
       "      <td>76.1</td>\n",
       "      <td>58.4</td>\n",
       "      <td>61.4</td>\n",
       "      <td>9.0</td>\n",
       "      <td>9.0</td>\n",
       "      <td>9.0</td>\n",
       "      <td>9767</td>\n",
       "      <td>4</td>\n",
       "    </tr>\n",
       "    <tr>\n",
       "      <th>95528</th>\n",
       "      <td>New York</td>\n",
       "      <td>000000003371480</td>\n",
       "      <td>N</td>\n",
       "      <td>6</td>\n",
       "      <td>0</td>\n",
       "      <td>N</td>\n",
       "      <td>3.0</td>\n",
       "      <td>108</td>\n",
       "      <td>43.0</td>\n",
       "      <td>19.0</td>\n",
       "      <td>...</td>\n",
       "      <td>0</td>\n",
       "      <td>19.0</td>\n",
       "      <td>23.0</td>\n",
       "      <td>32.2</td>\n",
       "      <td>36.4</td>\n",
       "      <td>NaN</td>\n",
       "      <td>NaN</td>\n",
       "      <td>NaN</td>\n",
       "      <td>984</td>\n",
       "      <td>5</td>\n",
       "    </tr>\n",
       "    <tr>\n",
       "      <th>95529</th>\n",
       "      <td>New York</td>\n",
       "      <td>000000003371580</td>\n",
       "      <td>N</td>\n",
       "      <td>6</td>\n",
       "      <td>0</td>\n",
       "      <td>N</td>\n",
       "      <td>3.0</td>\n",
       "      <td>111</td>\n",
       "      <td>115.0</td>\n",
       "      <td>17.0</td>\n",
       "      <td>...</td>\n",
       "      <td>0</td>\n",
       "      <td>28.0</td>\n",
       "      <td>24.9</td>\n",
       "      <td>26.2</td>\n",
       "      <td>33.8</td>\n",
       "      <td>NaN</td>\n",
       "      <td>NaN</td>\n",
       "      <td>NaN</td>\n",
       "      <td>1956</td>\n",
       "      <td>7</td>\n",
       "    </tr>\n",
       "    <tr>\n",
       "      <th>95530</th>\n",
       "      <td>New York</td>\n",
       "      <td>000000003371540</td>\n",
       "      <td>N</td>\n",
       "      <td>0</td>\n",
       "      <td>0</td>\n",
       "      <td>N</td>\n",
       "      <td>3.0</td>\n",
       "      <td>110</td>\n",
       "      <td>108.0</td>\n",
       "      <td>9.0</td>\n",
       "      <td>...</td>\n",
       "      <td>0</td>\n",
       "      <td>10.0</td>\n",
       "      <td>24.9</td>\n",
       "      <td>27.9</td>\n",
       "      <td>31.2</td>\n",
       "      <td>9.0</td>\n",
       "      <td>9.0</td>\n",
       "      <td>9.0</td>\n",
       "      <td>0</td>\n",
       "      <td>0</td>\n",
       "    </tr>\n",
       "    <tr>\n",
       "      <th>95531</th>\n",
       "      <td>New York</td>\n",
       "      <td>000000003371430</td>\n",
       "      <td>N</td>\n",
       "      <td>6</td>\n",
       "      <td>0</td>\n",
       "      <td>N</td>\n",
       "      <td>3.0</td>\n",
       "      <td>120</td>\n",
       "      <td>98.0</td>\n",
       "      <td>8.0</td>\n",
       "      <td>...</td>\n",
       "      <td>0</td>\n",
       "      <td>11.0</td>\n",
       "      <td>20.0</td>\n",
       "      <td>0.0</td>\n",
       "      <td>0.0</td>\n",
       "      <td>NaN</td>\n",
       "      <td>NaN</td>\n",
       "      <td>NaN</td>\n",
       "      <td>657</td>\n",
       "      <td>6</td>\n",
       "    </tr>\n",
       "  </tbody>\n",
       "</table>\n",
       "<p>15505 rows × 38 columns</p>\n",
       "</div>"
      ],
      "text/plain": [
       "            state           str_id deck_type wearing_type membrane_type  \\\n",
       "80027    New York  000000002230679         1            2             0   \n",
       "80028    New York  000000002243440         N            1             0   \n",
       "80029    New York  000000005500039         1            2             0   \n",
       "80030    New York  000000003358490         N            1             0   \n",
       "80031    New York  000000002230680         1            2             0   \n",
       "...           ...              ...       ...          ...           ...   \n",
       "95527    New York  000000001003341         1            2             0   \n",
       "95528    New York  000000003371480         N            6             0   \n",
       "95529    New York  000000003371580         N            6             0   \n",
       "95530    New York  000000003371540         N            0             0   \n",
       "95531    New York  000000003371430         N            6             0   \n",
       "\n",
       "      deck_protection  toll  freeze_thaw_cycle  snowfall_days  \\\n",
       "80027               1   3.0                 80           31.0   \n",
       "80028               N   3.0                 78           16.0   \n",
       "80029               1   3.0                 80           31.0   \n",
       "80030               N   3.0                 80           31.0   \n",
       "80031               1   3.0                 80           31.0   \n",
       "...               ...   ...                ...            ...   \n",
       "95527               3   3.0                114           66.0   \n",
       "95528               N   3.0                108           43.0   \n",
       "95529               N   3.0                111          115.0   \n",
       "95530               N   3.0                110          108.0   \n",
       "95531               N   3.0                120           98.0   \n",
       "\n",
       "       inventory_class_route  ...  yr_reconst  skew  max_span  bridge_width  \\\n",
       "80027                   11.0  ...        2004   7.0      98.1         120.7   \n",
       "80028                   14.0  ...        1988   1.0      31.8          69.9   \n",
       "80029                   12.0  ...           0  40.0      88.9          82.7   \n",
       "80030                   19.0  ...           0  21.0       9.8           0.0   \n",
       "80031                   11.0  ...           0  18.0     230.0         107.9   \n",
       "...                      ...  ...         ...   ...       ...           ...   \n",
       "95527                   16.0  ...           0  22.0      76.1          58.4   \n",
       "95528                   19.0  ...           0  19.0      23.0          32.2   \n",
       "95529                   17.0  ...           0  28.0      24.9          26.2   \n",
       "95530                    9.0  ...           0  10.0      24.9          27.9   \n",
       "95531                    8.0  ...           0  11.0      20.0           0.0   \n",
       "\n",
       "       deck_width  super_st_condition  sub_st_condition  deck_condition  \\\n",
       "80027       146.0                 9.0               8.0             8.0   \n",
       "80028        92.2                 6.0               7.0             6.0   \n",
       "80029        88.9                 7.0               6.0             7.0   \n",
       "80030         0.0                 NaN               NaN             NaN   \n",
       "80031       113.8                 7.0               8.0             7.0   \n",
       "...           ...                 ...               ...             ...   \n",
       "95527        61.4                 9.0               9.0             9.0   \n",
       "95528        36.4                 NaN               NaN             NaN   \n",
       "95529        33.8                 NaN               NaN             NaN   \n",
       "95530        31.2                 9.0               9.0             9.0   \n",
       "95531         0.0                 NaN               NaN             NaN   \n",
       "\n",
       "       avg_daily_trfic avg_truck_trfc  \n",
       "80027           150322              7  \n",
       "80028            19421              8  \n",
       "80029           117547              4  \n",
       "80030            22857              3  \n",
       "80031           150322             15  \n",
       "...                ...            ...  \n",
       "95527             9767              4  \n",
       "95528              984              5  \n",
       "95529             1956              7  \n",
       "95530                0              0  \n",
       "95531              657              6  \n",
       "\n",
       "[15505 rows x 38 columns]"
      ]
     },
     "execution_count": 254,
     "metadata": {},
     "output_type": "execute_result"
    }
   ],
   "source": [
    "ny_df = df.loc[df['state']=='  New York']\n",
    "ny_df"
   ]
  },
  {
   "cell_type": "code",
   "execution_count": 255,
   "metadata": {
    "ExecuteTime": {
     "end_time": "2021-08-30T19:24:45.594347Z",
     "start_time": "2021-08-30T19:24:45.578955Z"
    }
   },
   "outputs": [
    {
     "data": {
      "text/plain": [
       "(15505, 38)"
      ]
     },
     "execution_count": 255,
     "metadata": {},
     "output_type": "execute_result"
    }
   ],
   "source": [
    "ny_df.shape"
   ]
  },
  {
   "cell_type": "code",
   "execution_count": 256,
   "metadata": {
    "ExecuteTime": {
     "end_time": "2021-08-30T19:24:48.763901Z",
     "start_time": "2021-08-30T19:24:48.717385Z"
    }
   },
   "outputs": [
    {
     "data": {
      "text/plain": [
       "Fair    0.531893\n",
       "Good    0.368784\n",
       "Poor    0.099323\n",
       "Name: bridge_condition, dtype: float64"
      ]
     },
     "execution_count": 256,
     "metadata": {},
     "output_type": "execute_result"
    }
   ],
   "source": [
    "ny_df.bridge_condition.value_counts(normalize=True)"
   ]
  },
  {
   "cell_type": "markdown",
   "metadata": {
    "ExecuteTime": {
     "end_time": "2021-08-30T19:19:41.867521Z",
     "start_time": "2021-08-30T19:19:41.855521Z"
    }
   },
   "source": [
    "New York has 15,505 bridges out of which "
   ]
  },
  {
   "cell_type": "code",
   "execution_count": 247,
   "metadata": {
    "ExecuteTime": {
     "end_time": "2021-08-30T19:22:49.376624Z",
     "start_time": "2021-08-30T19:22:49.332630Z"
    }
   },
   "outputs": [],
   "source": [
    "# Replace target values - there are three classes\n",
    "ny_df = ny_df.replace({'bridge_condition': {'Poor' : 2, \n",
    "                                'Fair' : 1, \n",
    "                                'Good' : 0}})\n"
   ]
  },
  {
   "cell_type": "code",
   "execution_count": 248,
   "metadata": {
    "ExecuteTime": {
     "end_time": "2021-08-30T19:22:53.139279Z",
     "start_time": "2021-08-30T19:22:52.981950Z"
    }
   },
   "outputs": [
    {
     "data": {
      "text/plain": [
       "[[39.66913, -78.08838, 0.0],\n",
       " [39.30192, -78.4159, 0.0],\n",
       " [39.15882, -78.94151, 0.0],\n",
       " [38.61612, -79.61105, 2.0],\n",
       " [38.61562, -79.67168000000002, 0.0],\n",
       " [38.28342, -80.52808, 1.0],\n",
       " [38.65339, -80.3812, 0.0],\n",
       " [39.2563, -80.1265, 0.0],\n",
       " [37.99398, -80.74791, 0.0],\n",
       " [39.51474, -80.79033000000003, 2.0],\n",
       " [39.07453, -81.05601999999998, 0.0],\n",
       " [38.19353, -81.49985, 0.0],\n",
       " [38.06307, -81.57196, 0.0],\n",
       " [38.20837, -82.1122, 1.0],\n",
       " [38.71495, -81.89178000000003, 0.0],\n",
       " [39.08279, -81.71775, 0.0],\n",
       " [38.09662, -82.18916, 0.0],\n",
       " [39.44887, -78.87739, 1.0],\n",
       " [39.28364000000001, -78.96056, 1.0],\n",
       " [38.66953, -79.27016, 1.0],\n",
       " [38.99393, -79.11176, 1.0],\n",
       " [38.95743, -79.13253, 1.0],\n",
       " [38.61835, -79.31544, 2.0],\n",
       " [39.33477, -78.96406999999998, 0.0],\n",
       " [39.19327, -79.0383, 1.0],\n",
       " [38.93755, -79.16519, 1.0],\n",
       " [39.14157, -79.07300000000002, 1.0],\n",
       " [39.3397, -78.97485, 1.0],\n",
       " [39.17759, -79.05624, 2.0],\n",
       " [39.14114, -79.0748, 1.0],\n",
       " [38.60752, -79.35076, 1.0],\n",
       " [39.06851, -79.12476, 1.0],\n",
       " [38.63615, -79.33728, 1.0],\n",
       " [38.61728, -79.34709000000002, 0.0],\n",
       " [39.16526, -79.09651, 1.0],\n",
       " [38.78492, -79.28482, 1.0],\n",
       " [39.28996, -79.03585, 1.0],\n",
       " [39.43479, -78.96372, 1.0],\n",
       " [39.08988, -79.13512, 0.0],\n",
       " [39.39482, -79.01207, 1.0],\n",
       " [38.84381, -79.28514, 1.0],\n",
       " [38.82626, -79.29427, 1.0],\n",
       " [38.85865, -79.27934, 1.0],\n",
       " [39.11719, -79.16785, 2.0],\n",
       " [38.98462, -79.23369, 1.0],\n",
       " [39.07202, -79.19237, 2.0],\n",
       " [39.1196, -79.17258000000002, 2.0],\n",
       " [38.62506, -79.4348, 0.0],\n",
       " [39.12822, -79.19118, 1.0],\n",
       " [39.22158, -79.14941999999998, 1.0],\n",
       " [38.80468, -81.83664, 2.0],\n",
       " [38.41582, -82.02008000000002, 1.0],\n",
       " [38.44526, -82.00653, 1.0],\n",
       " [38.44541, -82.00665, 1.0],\n",
       " [38.82283, -81.82879, 2.0],\n",
       " [39.09216, -78.5863, 1.0],\n",
       " [39.0237, -78.66667, 1.0],\n",
       " [39.33852, -78.50974000000002, 1.0],\n",
       " [39.41546, -78.47381, 1.0],\n",
       " [39.47057, -78.44645, 0.0],\n",
       " [39.06601, -78.66368, 1.0],\n",
       " [39.52174, -78.43694, 1.0],\n",
       " [39.20777, -78.59611, 0.0],\n",
       " [39.36776, -78.5375, 1.0],\n",
       " [39.50083, -78.49022, 1.0],\n",
       " [39.09805, -78.69409, 0.0],\n",
       " [39.09628, -78.697, 1.0],\n",
       " [39.29761, -78.6006, 1.0],\n",
       " [38.95402, -78.7938, 1.0],\n",
       " [39.0181, -78.7632, 1.0],\n",
       " [38.95152, -78.79794, 0.0],\n",
       " [39.41784000000001, -78.56676999999998, 1.0],\n",
       " [38.84223, -78.87482, 2.0],\n",
       " [38.87515, -78.86216999999998, 1.0],\n",
       " [38.9273, -78.83747, 0.0],\n",
       " [39.36441, -78.62133, 1.0],\n",
       " [38.0888, -82.4701, 2.0],\n",
       " [38.0873, -82.47166999999997, 1.0],\n",
       " [38.86302, -82.12142, 2.0],\n",
       " [38.06631, -82.49389000000002, 1.0],\n",
       " [38.74594, -82.17779, 1.0],\n",
       " [38.41343, -82.34825, 1.0],\n",
       " [38.36195, -82.37246, 2.0],\n",
       " [38.4108, -82.34999, 1.0],\n",
       " [38.15057, -82.47113, 1.0],\n",
       " [38.89664000000001, -82.12268, 2.0],\n",
       " [38.09076, -82.50648000000002, 1.0],\n",
       " [38.24862, -82.43427, 0.0],\n",
       " [38.22525, -82.44543, 1.0],\n",
       " [38.25493, -82.43337, 1.0],\n",
       " [38.17024, -82.49197, 1.0],\n",
       " [38.25154000000001, -82.45465, 1.0],\n",
       " [38.25849, -82.45232, 1.0],\n",
       " [38.37817, -82.4005, 1.0],\n",
       " [38.42822, -82.39154, 0.0],\n",
       " [38.43027, -82.39169, 1.0],\n",
       " [38.32028, -82.44360999999998, 1.0],\n",
       " [39.12941, -79.46058000000002, 1.0],\n",
       " [39.12806, -79.46155, 1.0],\n",
       " [38.99937, -79.52503, 0.0],\n",
       " [38.98844, -79.53104, 1.0],\n",
       " [38.88422, -79.5992, 0.0],\n",
       " [38.83761, -79.62206, 0.0],\n",
       " [38.4447, -79.81367, 2.0],\n",
       " [38.47556, -79.79881, 2.0],\n",
       " [38.7402, -79.6922, 0.0],\n",
       " [38.41482, -79.85018000000002, 2.0],\n",
       " [38.36631, -79.87777, 2.0],\n",
       " [38.36528, -79.87919000000002, 1.0],\n",
       " [38.89262, -79.64457, 1.0],\n",
       " [38.36054, -79.90256, 1.0],\n",
       " [38.89597, -79.64777, 1.0],\n",
       " [38.54435, -79.81996, 2.0],\n",
       " [38.79825, -79.71847, 0.0],\n",
       " [38.61695, -79.80695, 1.0],\n",
       " [38.39638, -79.91396, 0.0],\n",
       " [37.96085, -80.12292, 0.0],\n",
       " [39.33285, -77.85668000000003, 1.0],\n",
       " [39.2417, -77.91853, 0.0],\n",
       " [39.36214, -77.86607, 1.0],\n",
       " [39.39671, -77.92118, 1.0],\n",
       " [39.39998, -77.92260999999998, 1.0],\n",
       " [39.58435, -77.83139, 1.0],\n",
       " [39.58464, -77.83128, 1.0],\n",
       " [39.42487, -77.93808, 1.0],\n",
       " [39.42492, -77.93806, 1.0],\n",
       " [39.42587, -77.93972, 1.0],\n",
       " [39.42521, -77.9403, 0.0],\n",
       " [39.45689, -77.96019, 2.0],\n",
       " [39.53026, -77.92376999999998, 1.0],\n",
       " [39.53037, -77.92405, 1.0],\n",
       " [39.44218, -77.9694, 1.0],\n",
       " [39.44326, -77.98911, 1.0],\n",
       " [39.44329000000001, -77.9894, 1.0],\n",
       " [39.49409, -77.96500999999998, 2.0],\n",
       " [39.37141, -78.0273, 1.0],\n",
       " [39.50039, -77.96315, 1.0],\n",
       " [39.40678, -78.02421, 1.0],\n",
       " [39.36253, -78.04818, 1.0],\n",
       " [39.55098, -77.95488, 1.0],\n",
       " [39.34012, -78.06169, 2.0],\n",
       " [39.36553, -78.07821, 1.0],\n",
       " [39.40727, -78.05946999999998, 1.0],\n",
       " [39.57408, -77.98083000000003, 1.0],\n",
       " [39.36956, -78.09723000000002, 0.0],\n",
       " [39.565, -78.05835, 1.0],\n",
       " [39.48453, -78.10114, 0.0],\n",
       " [39.45313, -78.11702, 2.0],\n",
       " [39.55952, -78.06347, 2.0],\n",
       " [39.59951, -78.06805, 1.0],\n",
       " [39.63909, -78.11652, 2.0],\n",
       " [39.47393, -78.21507, 0.0],\n",
       " [39.57608, -78.16999, 2.0],\n",
       " [39.5275, -78.23111999999998, 2.0],\n",
       " [39.52781, -78.23151999999997, 1.0],\n",
       " [38.98543, -79.26615, 1.0],\n",
       " [39.21913, -79.15156, 1.0],\n",
       " [39.12405, -79.21236, 1.0],\n",
       " [39.1216, -79.21598, 0.0],\n",
       " [39.07991, -79.24033, 1.0],\n",
       " [39.48356, -79.04698, 0.0],\n",
       " [38.58939, -79.52183000000002, 0.0],\n",
       " [38.7166, -79.4606, 2.0],\n",
       " [38.70703, -79.4655, 2.0],\n",
       " [38.70903, -79.46684, 1.0],\n",
       " [39.30636, -79.1864, 1.0],\n",
       " [38.65197, -79.51115, 2.0],\n",
       " [38.84136, -79.41914, 1.0],\n",
       " [38.65288, -79.51233, 2.0],\n",
       " [39.35171, -79.17613, 2.0],\n",
       " [39.21361, -79.24871, 1.0],\n",
       " [39.21383, -79.24865, 1.0],\n",
       " [38.62251, -79.53851999999998, 1.0],\n",
       " [39.37145, -79.19591, 1.0],\n",
       " [38.62362, -79.56585, 1.0],\n",
       " [39.03671, -79.44452, 2.0],\n",
       " [39.2346, -79.3549, 1.0],\n",
       " [38.73065, -79.61228, 1.0],\n",
       " [38.97658, -79.493, 0.0],\n",
       " [38.82377, -79.57813, 0.0],\n",
       " [38.72342, -79.62725999999998, 1.0],\n",
       " [38.41527, -79.77722, 0.0],\n",
       " [38.87202, -79.5574, 0.0],\n",
       " [38.57748, -79.70361, 0.0],\n",
       " [39.16667, -79.7026, 2.0],\n",
       " [39.39244, -79.59845, 1.0],\n",
       " [38.89925, -79.84134, 1.0],\n",
       " [38.48338, -80.04297, 0.0],\n",
       " [38.85795, -79.86180999999998, 2.0],\n",
       " [38.8424, -79.87623, 1.0],\n",
       " [39.11728, -79.74314, 1.0],\n",
       " [39.31324, -78.65774, 1.0],\n",
       " [39.31542, -78.65703, 0.0],\n",
       " [39.14867, -78.7407, 1.0],\n",
       " [39.31518, -78.65961999999998, 1.0],\n",
       " [39.18264, -78.72635, 1.0],\n",
       " [39.14776, -78.75926, 1.0],\n",
       " [39.16346, -78.75339, 0.0],\n",
       " [38.88213, -78.8935, 1.0],\n",
       " [38.97735, -78.84714, 1.0],\n",
       " [38.99009, -78.86041, 0.0],\n",
       " [38.89242, -78.90923000000002, 1.0],\n",
       " [39.27419, -78.7218, 0.0],\n",
       " [39.29713, -78.71068000000002, 1.0],\n",
       " [39.42743, -78.71498000000003, 2.0],\n",
       " [39.08844000000001, -78.89069, 1.0],\n",
       " [39.33945, -78.77511, 1.0],\n",
       " [39.26199, -78.81409000000002, 1.0],\n",
       " [39.06551, -78.91441999999998, 1.0],\n",
       " [39.07649, -78.93916999999998, 1.0],\n",
       " [39.14315, -78.90759, 1.0],\n",
       " [39.33019, -78.81501, 1.0],\n",
       " [39.06561, -78.94764, 1.0],\n",
       " [38.79779, -79.10783, 2.0],\n",
       " [39.10393, -78.95918, 1.0],\n",
       " [39.0816, -78.97045, 0.0],\n",
       " [38.70032, -79.15893, 1.0],\n",
       " [38.98847, -79.0318, 0.0],\n",
       " [39.05634000000001, -78.99943, 1.0],\n",
       " [39.28424, -78.88857, 1.0],\n",
       " [38.73045, -79.16346999999998, 1.0],\n",
       " [38.43777, -79.31667, 1.0],\n",
       " [39.25228, -78.91704, 1.0],\n",
       " [38.67402, -79.20293000000002, 1.0],\n",
       " [38.43541, -79.3195, 1.0],\n",
       " [38.64401, -79.22095, 1.0],\n",
       " [38.9422, -79.08717, 1.0],\n",
       " [39.39217, -78.86421, 1.0],\n",
       " [39.50548, -78.80966, 1.0],\n",
       " [39.51355, -78.24459, 1.0],\n",
       " [39.54603, -78.23246, 2.0],\n",
       " [39.62752, -78.22668, 1.0],\n",
       " [39.6274, -78.22735, 1.0],\n",
       " [39.62724, -78.22842, 2.0],\n",
       " [39.50091, -78.29233, 1.0],\n",
       " [39.29792, -78.43583000000002, 1.0],\n",
       " [39.61829, -78.28301, 2.0],\n",
       " [39.60712, -78.29088, 2.0],\n",
       " [39.18287, -78.50601999999998, 1.0],\n",
       " [39.58198, -78.30875, 1.0],\n",
       " [39.08864000000001, -78.5834, 2.0],\n",
       " [39.24037, -78.50965, 1.0],\n",
       " [39.10275, -78.58071, 1.0],\n",
       " [39.35498, -79.90202, 0.0],\n",
       " [39.2931, -79.93263, 1.0],\n",
       " [37.66859, -80.71205, 0.0],\n",
       " [37.60413, -80.74246, 1.0],\n",
       " [37.59876, -80.75617, 0.0],\n",
       " [39.42016, -79.88302, 0.0],\n",
       " [38.50551, -80.32833000000002, 2.0],\n",
       " [37.35548, -80.86964, 2.0],\n",
       " [37.61138, -80.76218, 1.0],\n",
       " [39.21384000000001, -79.99664, 1.0],\n",
       " [37.79758, -80.67596999999998, 1.0],\n",
       " [39.12322, -80.04167, 1.0],\n",
       " [39.21433, -79.99758, 1.0],\n",
       " [39.42666, -79.90162, 0.0],\n",
       " [37.52122, -80.81466, 2.0],\n",
       " [38.74455, -80.23563, 1.0],\n",
       " [39.34488, -79.94344, 0.0],\n",
       " [38.83182, -80.20034, 1.0],\n",
       " [39.15572, -80.04302, 1.0],\n",
       " [38.24658, -80.48209, 0.0],\n",
       " [37.51463, -80.83764000000002, 2.0],\n",
       " [39.15025, -80.06009, 2.0],\n",
       " [38.09148, -80.57078, 2.0],\n",
       " [39.50186, -79.55433000000002, 0.0],\n",
       " [38.7946, -79.90267, 0.0],\n",
       " [39.1779, -79.72379000000002, 0.0],\n",
       " [38.76148, -79.92752, 2.0],\n",
       " [38.92205, -79.84974, 2.0],\n",
       " [38.49913, -80.05523000000002, 0.0],\n",
       " [38.09922, -80.25074000000002, 1.0],\n",
       " [39.01366, -79.81116, 1.0],\n",
       " [39.01359, -79.81156, 0.0],\n",
       " [39.01385, -79.81144, 1.0],\n",
       " [38.93673, -79.85379, 0.0],\n",
       " [38.73474, -79.95259, 1.0],\n",
       " [38.99564, -79.82595, 1.0],\n",
       " [38.9954, -79.82618000000002, 1.0],\n",
       " [38.57146, -80.03249, 1.0],\n",
       " [39.1186, -79.77, 0.0],\n",
       " [38.99375, -79.83115, 1.0],\n",
       " [38.99401, -79.83106, 1.0],\n",
       " [38.54855, -80.0476, 1.0],\n",
       " [38.9497, -79.85885999999998, 0.0],\n",
       " [38.97622, -79.84643, 2.0],\n",
       " [39.12221, -79.7752, 1.0],\n",
       " [38.97653, -79.84646, 1.0],\n",
       " [39.19903, -79.74051, 1.0],\n",
       " [38.95243, -79.86126999999998, 1.0],\n",
       " [38.95252, -79.86163, 1.0],\n",
       " [38.85064000000001, -79.91135, 2.0],\n",
       " [39.28871, -79.7041, 1.0],\n",
       " [37.95492, -80.3482, 0.0],\n",
       " [39.12301, -79.78621, 1.0],\n",
       " [38.93675, -79.87765999999998, 0.0],\n",
       " [38.94836, -79.88031, 1.0],\n",
       " [39.65797, -79.53303000000002, 2.0],\n",
       " [38.73554, -79.98637, 0.0],\n",
       " [39.23681, -79.74396999999998, 1.0],\n",
       " [37.81972, -80.43628000000002, 0.0],\n",
       " [37.98925, -80.3564, 1.0],\n",
       " [38.12781, -80.29109, 2.0],\n",
       " [37.53194000000001, -80.34718000000002, 0.0],\n",
       " [39.31874000000001, -79.48834000000002, 0.0],\n",
       " [38.33171, -79.9691, 1.0],\n",
       " [38.33341, -79.96996, 1.0],\n",
       " [38.11404, -80.0934, 0.0],\n",
       " [38.91047, -79.71154, 2.0],\n",
       " [39.3311, -79.5092, 1.0],\n",
       " [39.21913, -79.56736, 2.0],\n",
       " [39.22219000000001, -79.56634, 0.0],\n",
       " [38.61177, -79.87467, 2.0],\n",
       " [37.90977, -80.21137, 1.0],\n",
       " [38.59526, -79.88391, 0.0],\n",
       " [37.76893, -80.27926, 1.0],\n",
       " [37.84456, -80.25234, 1.0],\n",
       " [37.83706, -80.25641, 1.0],\n",
       " [37.48812, -80.42113, 1.0],\n",
       " [37.91621, -80.22155, 0.0],\n",
       " [37.79163, -80.29290999999998, 1.0],\n",
       " [37.79178, -80.29309, 1.0],\n",
       " [37.46771, -80.44494, 1.0],\n",
       " [37.79058, -80.29417, 2.0],\n",
       " [38.23816, -80.08617, 1.0],\n",
       " [37.82684, -80.28229, 0.0],\n",
       " [38.88254000000001, -79.77645, 1.0],\n",
       " [39.14871, -79.64659, 1.0],\n",
       " [37.79349000000001, -80.30457, 1.0],\n",
       " [39.09749, -79.67818, 1.0],\n",
       " [38.87613, -79.78718, 1.0],\n",
       " [38.91318, -79.77027, 1.0],\n",
       " [38.1861, -80.131, 0.0],\n",
       " [38.39464, -80.03147, 1.0],\n",
       " [38.77551, -79.84778, 2.0],\n",
       " [38.24919000000001, -80.10177, 2.0],\n",
       " [38.11734000000001, -80.17412, 1.0],\n",
       " [38.95735, -79.76973000000002, 1.0],\n",
       " [38.82129000000001, -79.83735, 0.0],\n",
       " [37.92193, -80.26845, 2.0],\n",
       " [38.96611, -79.76735, 0.0],\n",
       " [39.06161, -80.10516, 1.0],\n",
       " [38.96329, -80.15373000000002, 1.0],\n",
       " [37.88248, -80.6787, 0.0],\n",
       " [39.00556, -80.14237, 1.0],\n",
       " [37.88316, -80.67935, 1.0],\n",
       " [39.00569, -80.14271, 1.0],\n",
       " [38.22986, -80.5243, 1.0],\n",
       " [37.91383, -80.6737, 1.0],\n",
       " [39.12149, -80.0953, 1.0],\n",
       " [38.22278, -80.52868000000002, 1.0],\n",
       " [37.33579, -80.95059, 2.0],\n",
       " [39.38071, -79.9759, 1.0],\n",
       " [39.42301, -79.95539000000002, 1.0],\n",
       " [37.86127000000001, -80.71499, 0.0],\n",
       " [37.8567, -80.71735, 0.0],\n",
       " [39.13818, -80.10392, 1.0],\n",
       " [37.34317, -80.95671, 2.0],\n",
       " [37.34327, -80.95669000000002, 1.0],\n",
       " [39.0778, -80.13752, 1.0],\n",
       " [37.84904, -80.72577, 0.0],\n",
       " [39.71883, -79.82242, 1.0],\n",
       " [38.20512, -80.55802, 1.0],\n",
       " [39.6715, -79.851, 1.0],\n",
       " [39.67574000000001, -79.84894, 0.0],\n",
       " [37.97075, -80.67453, 1.0],\n",
       " [37.9583, -80.6834, 1.0],\n",
       " [39.1034, -80.135, 1.0],\n",
       " [38.01826, -80.65599, 2.0],\n",
       " [38.85392, -80.25841, 1.0],\n",
       " [39.374, -80.00469, 0.0],\n",
       " [38.88132, -80.24873000000002, 2.0],\n",
       " [39.29657, -80.04647, 1.0],\n",
       " [37.34721, -80.97457, 2.0],\n",
       " [39.33989, -80.02545, 1.0],\n",
       " [38.62021, -80.38245, 2.0],\n",
       " [38.12274, -80.61969, 2.0],\n",
       " [39.32087, -79.71413000000003, 0.0],\n",
       " [38.53705, -80.11222, 1.0],\n",
       " [39.58856, -79.59846999999998, 0.0],\n",
       " [37.97677, -80.38005, 0.0],\n",
       " [39.49472, -79.6452, 1.0],\n",
       " [37.4996, -80.60467, 1.0],\n",
       " [39.48666, -79.66089000000002, 1.0],\n",
       " [37.52671, -80.60316, 1.0],\n",
       " [38.33227, -80.22414, 1.0],\n",
       " [39.55001, -79.63159, 1.0],\n",
       " [37.71422000000001, -80.5236, 1.0],\n",
       " [38.53907, -80.13251, 0.0],\n",
       " [38.01495, -80.38254, 2.0],\n",
       " [39.49108, -79.66893, 0.0],\n",
       " [39.64395, -79.60278000000002, 2.0],\n",
       " [38.53678, -80.14536, 0.0],\n",
       " [38.74624, -80.0454, 1.0],\n",
       " [39.4589, -79.6981, 2.0],\n",
       " [39.62729, -79.90378, 1.0],\n",
       " [39.16442, -80.13193000000003, 1.0],\n",
       " [39.6466, -79.8946, 1.0],\n",
       " [39.00567, -80.20968, 1.0],\n",
       " [38.22936, -80.58327, 0.0],\n",
       " [38.38727, -80.51077, 1.0],\n",
       " [38.65282, -80.38369, 1.0],\n",
       " [39.21861, -80.10951999999997, 1.0],\n",
       " [38.22084, -80.59065, 0.0],\n",
       " [39.1012, -80.1728, 0.0],\n",
       " [39.59255, -79.93174, 2.0],\n",
       " [39.5805, -79.93781, 1.0],\n",
       " [39.61129, -79.92291, 1.0],\n",
       " [39.33737, -80.06214, 1.0],\n",
       " [39.34438, -80.05877, 0.0],\n",
       " [39.15983, -80.14931999999997, 0.0],\n",
       " [39.58272, -79.9414, 1.0],\n",
       " [39.04222, -80.46619, 2.0],\n",
       " [39.00142, -80.23245, 1.0],\n",
       " [39.00163, -80.23241, 1.0],\n",
       " [39.61196, -79.93329, 1.0],\n",
       " [38.65849, -80.39913, 2.0],\n",
       " [38.55978, -80.45143, 2.0],\n",
       " [39.5361, -79.97626, 1.0],\n",
       " [39.53532, -79.97705, 0.0],\n",
       " [38.80315, -80.33828000000003, 0.0],\n",
       " [39.62882000000001, -79.93459, 1.0],\n",
       " [39.48676, -80.00528, 0.0],\n",
       " [37.65308, -80.88449, 0.0],\n",
       " [37.80672, -80.81705, 1.0],\n",
       " [37.80414, -80.81954, 1.0],\n",
       " [37.80435, -80.81967, 1.0],\n",
       " [37.42601, -80.99589, 1.0],\n",
       " [38.81972, -80.33782, 0.0],\n",
       " [39.43816, -80.04231999999998, 0.0],\n",
       " [39.53761, -79.99331, 2.0],\n",
       " [37.3139, -81.05447, 1.0],\n",
       " [38.41143, -80.54023000000002, 1.0],\n",
       " [39.44162, -80.0441, 0.0],\n",
       " [38.05405, -80.71307, 1.0],\n",
       " [37.96546, -80.75513000000002, 1.0],\n",
       " [39.2657, -80.13105, 0.0],\n",
       " [39.44665, -80.04619, 2.0],\n",
       " [39.00305, -80.2634, 1.0],\n",
       " [37.98617, -80.7497, 1.0],\n",
       " [37.67295, -80.89650999999998, 0.0],\n",
       " [37.67294, -80.89718, 1.0],\n",
       " [39.61034, -79.9695, 1.0],\n",
       " [39.35495, -80.0969, 1.0],\n",
       " [37.33899, -81.06062, 1.0],\n",
       " [38.40177, -80.56274, 1.0],\n",
       " [39.34083, -80.1085, 1.0],\n",
       " [37.33909, -81.06090999999998, 1.0],\n",
       " [38.68877, -80.43335, 2.0],\n",
       " [38.47405, -80.53683000000002, 1.0],\n",
       " [38.60187, -79.25718, 1.0],\n",
       " [39.00289, -79.07925, 1.0],\n",
       " [38.95484, -79.10516, 1.0],\n",
       " [39.62173, -78.77367, 0.0],\n",
       " [38.50099, -79.32799, 1.0],\n",
       " [38.21954, -80.31141, 0.0],\n",
       " [38.97937, -79.95045, 2.0],\n",
       " [37.5612, -80.62649, 0.0],\n",
       " [39.19845, -79.84572, 1.0],\n",
       " [39.06165, -79.921, 0.0],\n",
       " [39.05889000000001, -79.92238, 0.0],\n",
       " [37.52866, -80.655, 1.0],\n",
       " [39.29813, -79.8091, 0.0],\n",
       " [39.3369, -79.7954, 0.0],\n",
       " [39.65474, -79.63793000000003, 1.0],\n",
       " [38.2042, -80.3441, 1.0],\n",
       " [39.1554, -79.88505, 1.0],\n",
       " [38.07949, -80.4069, 1.0],\n",
       " [38.08154, -80.40597, 1.0],\n",
       " [37.53943, -80.66059, 1.0],\n",
       " [37.94358, -80.47152, 0.0],\n",
       " [39.33693, -79.80056, 0.0],\n",
       " [37.98734, -80.46065, 1.0],\n",
       " [39.70734, -79.62611, 2.0],\n",
       " [39.3271, -79.8147, 1.0],\n",
       " [39.39003, -79.79337, 2.0],\n",
       " [39.17157, -79.90118000000002, 1.0],\n",
       " [39.33411, -79.82240999999998, 0.0],\n",
       " [39.32994, -79.82451, 2.0],\n",
       " [39.29821, -79.85002, 1.0],\n",
       " [38.02524, -80.46462, 1.0],\n",
       " [39.36044, -79.82054000000002, 0.0],\n",
       " [39.17972, -79.90949, 1.0],\n",
       " [39.61023, -79.70714, 2.0],\n",
       " [37.55352, -80.69654, 2.0],\n",
       " [39.29331, -79.8644, 0.0],\n",
       " [39.29004000000001, -79.86701, 1.0],\n",
       " [37.76694000000001, -80.35593, 0.0],\n",
       " [38.65413, -79.93443, 0.0],\n",
       " [37.77078, -80.35631, 1.0],\n",
       " [37.77097, -80.35632, 1.0],\n",
       " [38.61749, -79.96717, 1.0],\n",
       " [39.41943, -79.57605, 1.0],\n",
       " [39.1683, -79.7016, 1.0],\n",
       " [37.94319, -80.8014, 0.0],\n",
       " [37.35067, -81.07701999999998, 2.0],\n",
       " [39.62883, -79.98848000000002, 2.0],\n",
       " [39.16679, -80.21710999999998, 1.0],\n",
       " [39.63391, -79.99327, 0.0],\n",
       " [38.3592, -80.61232, 0.0],\n",
       " [39.13409, -80.23933000000002, 0.0],\n",
       " [37.76948, -80.89188, 1.0],\n",
       " [39.54721, -80.04271999999997, 1.0],\n",
       " [37.77882, -80.89241, 1.0],\n",
       " [37.78289, -80.89058, 1.0],\n",
       " [37.85953, -80.85479000000002, 1.0],\n",
       " [37.78319000000001, -80.89062, 1.0],\n",
       " [37.92092, -80.82970999999998, 1.0],\n",
       " [37.37108, -81.0854, 2.0],\n",
       " [37.78079, -80.89544000000002, 2.0],\n",
       " [39.68429, -79.97889, 0.0],\n",
       " [39.5047, -80.0708, 2.0],\n",
       " [39.15663, -80.24193000000002, 2.0],\n",
       " [39.61629, -80.01632, 2.0],\n",
       " [38.67991, -80.47318, 1.0],\n",
       " [37.78124, -80.90127, 1.0],\n",
       " [37.78125, -80.90131, 1.0],\n",
       " [37.42497, -81.06701, 1.0],\n",
       " [39.50925, -80.0719, 1.0],\n",
       " [37.39663, -81.08403, 2.0],\n",
       " [39.66099000000001, -80.00093000000003, 2.0],\n",
       " [39.51895, -80.07133, 0.0],\n",
       " [39.51891, -80.07167, 0.0],\n",
       " [37.61635, -80.98597, 1.0],\n",
       " [39.48903, -80.08954, 2.0],\n",
       " [38.16768, -80.59845, 1.0],\n",
       " [39.01277, -80.1929, 1.0],\n",
       " [39.1312, -80.1438, 0.0],\n",
       " [38.90098, -80.25603000000002, 0.0],\n",
       " [38.98219, -80.21668000000003, 1.0],\n",
       " [39.58769, -79.91975, 0.0],\n",
       " [37.49333, -81.09431, 2.0],\n",
       " [37.49262, -81.095, 2.0],\n",
       " [39.36988, -80.20071, 1.0],\n",
       " [38.26241, -80.73523, 0.0],\n",
       " [39.37151, -80.20379, 1.0],\n",
       " [39.43527, -80.17279, 0.0],\n",
       " [37.44469, -81.12175, 1.0],\n",
       " [39.39333, -80.1936, 0.0],\n",
       " [39.28691, -80.24854, 0.0],\n",
       " [38.67082, -80.54758000000002, 2.0],\n",
       " [39.39301, -80.19700999999998, 0.0],\n",
       " [39.27603, -80.25501, 2.0],\n",
       " [38.85839, -80.46065, 1.0],\n",
       " [38.86683, -80.45770999999998, 0.0],\n",
       " [38.8668, -80.45773, 2.0],\n",
       " [38.9403, -80.42246, 1.0],\n",
       " [37.93943, -80.90363, 1.0],\n",
       " [39.39281, -80.20638000000002, 1.0],\n",
       " [39.58664, -80.1109, 1.0],\n",
       " [37.44173, -81.13564000000002, 2.0],\n",
       " [38.97071, -80.41686999999997, 1.0],\n",
       " [37.92547, -80.91525, 1.0],\n",
       " [39.41795, -80.19912, 0.0],\n",
       " [39.42276, -80.19809000000002, 1.0],\n",
       " [39.22121, -80.30155, 1.0],\n",
       " [37.50477, -81.11748, 1.0],\n",
       " [39.22148, -80.30169000000002, 2.0],\n",
       " [37.76798, -80.9983, 1.0],\n",
       " [39.31099, -80.26114, 1.0],\n",
       " [37.52967, -81.10937, 2.0],\n",
       " [39.48922, -80.08955, 2.0],\n",
       " [39.66103, -80.00484, 2.0],\n",
       " [39.3577, -80.15934, 2.0],\n",
       " [39.61976, -80.03062, 1.0],\n",
       " [39.52907, -80.07614000000002, 0.0],\n",
       " [39.49532, -80.09357, 2.0],\n",
       " [39.26592, -80.21175, 1.0],\n",
       " [38.91719000000001, -80.3816, 1.0],\n",
       " [39.12367, -80.28142, 1.0],\n",
       " [37.30955, -81.14058, 1.0],\n",
       " [37.29274, -81.14864, 2.0],\n",
       " [39.66703, -80.01834000000002, 1.0],\n",
       " [37.32267, -81.13855, 1.0],\n",
       " [39.6681, -80.0182, 0.0],\n",
       " [39.1322, -80.28164, 0.0],\n",
       " [37.4792, -81.07129, 0.0],\n",
       " [39.5147, -80.0989, 1.0],\n",
       " [39.47209, -80.12069, 1.0],\n",
       " [39.47227, -80.12082, 2.0],\n",
       " [39.6686, -80.0297, 2.0],\n",
       " [37.81336, -80.92308, 1.0],\n",
       " [38.51931, -80.58977, 2.0],\n",
       " [37.33577, -81.15016, 1.0],\n",
       " [39.46437, -80.13663000000003, 0.0],\n",
       " [37.54584000000001, -81.05343, 1.0],\n",
       " [38.34008, -80.68077, 0.0],\n",
       " [39.3531, -80.1963, 1.0],\n",
       " [38.8962, -80.4189, 2.0],\n",
       " [39.05147, -80.34369000000002, 0.0],\n",
       " [39.45696, -80.14538, 1.0],\n",
       " [39.48238, -80.14036, 1.0],\n",
       " [39.03639, -80.35893, 1.0],\n",
       " [39.36549, -80.19881, 1.0],\n",
       " [38.38871, -80.67168000000002, 0.0],\n",
       " [38.50122, -80.76334, 1.0],\n",
       " [38.34786, -80.83639000000002, 1.0],\n",
       " [38.36925, -80.82693, 0.0],\n",
       " [39.11772, -79.96011999999997, 2.0],\n",
       " [39.43352, -79.80556999999997, 1.0],\n",
       " [37.76175, -80.61026, 2.0],\n",
       " [39.29173, -79.87677, 1.0],\n",
       " [39.14469, -79.96018000000002, 1.0],\n",
       " [39.33304, -79.86864, 0.0],\n",
       " [37.87963, -80.56831, 1.0],\n",
       " [38.49379, -80.27701, 1.0],\n",
       " [38.47294, -80.29388, 2.0],\n",
       " [39.38749, -79.84992, 1.0],\n",
       " [37.39714, -80.80131, 0.0],\n",
       " [37.41258, -80.7944, 1.0],\n",
       " [39.59476, -79.74826999999998, 2.0],\n",
       " [39.21794000000001, -79.93833000000002, 0.0],\n",
       " [39.45394, -79.82247, 2.0],\n",
       " [39.45223, -79.82334, 0.0],\n",
       " [39.28847, -79.90429, 1.0],\n",
       " [39.3184, -79.89556999999998, 0.0],\n",
       " [38.48655, -80.29984, 1.0],\n",
       " [37.77029, -80.64025, 1.0],\n",
       " [37.42257, -80.80226, 1.0],\n",
       " [39.58534, -79.77218, 0.0],\n",
       " [38.83977, -80.13839, 2.0],\n",
       " [39.4061, -79.8617, 0.0],\n",
       " [39.4984, -79.81783, 1.0],\n",
       " [39.18331, -79.97511999999998, 1.0],\n",
       " [39.5289, -79.80528000000002, 1.0],\n",
       " [39.40417, -79.86698, 2.0],\n",
       " [39.44037, -79.84953, 1.0],\n",
       " [37.35767, -81.23111, 1.0],\n",
       " [37.37318, -81.22405, 1.0],\n",
       " [38.00428, -80.93544, 2.0],\n",
       " [39.10771, -80.4084, 1.0],\n",
       " [38.78373, -80.56521, 1.0],\n",
       " [39.109, -80.40805999999998, 1.0],\n",
       " [37.6384, -81.10959, 1.0],\n",
       " [39.22921, -80.35256, 2.0],\n",
       " [39.44929000000001, -80.24481, 0.0],\n",
       " [39.01366, -80.40664, 1.0],\n",
       " [39.01364, -80.40685, 1.0],\n",
       " [39.5039, -80.1726, 0.0],\n",
       " [38.19447, -80.80492, 1.0],\n",
       " [39.27855, -80.28416999999997, 2.0],\n",
       " [39.2602, -80.29839, 0.0],\n",
       " [37.50446, -81.13369, 2.0],\n",
       " [39.44046, -80.21049000000002, 0.0],\n",
       " [39.02296, -80.41513, 1.0],\n",
       " [39.16034000000001, -80.35358000000002, 1.0],\n",
       " [37.44721, -81.16635, 1.0],\n",
       " [39.2634, -80.3037, 0.0],\n",
       " [39.16182, -80.35338, 2.0],\n",
       " [37.70401, -81.05255, 1.0],\n",
       " [39.26514, -80.30813, 0.0],\n",
       " [39.5524, -80.1672, 1.0],\n",
       " [38.88977, -80.49086, 1.0],\n",
       " [39.49971, -80.19596999999997, 2.0],\n",
       " [38.77484000000001, -80.54895, 2.0],\n",
       " [38.67546, -80.59675, 1.0],\n",
       " [37.8829, -80.97251, 2.0],\n",
       " [37.65508, -81.08279, 2.0],\n",
       " [39.68565, -80.10944, 0.0],\n",
       " [37.58059, -81.11851, 1.0],\n",
       " [39.49988, -80.20148, 1.0],\n",
       " [39.21459, -80.34551, 2.0],\n",
       " [38.10825, -80.87635, 0.0],\n",
       " [37.6523, -81.08986, 1.0],\n",
       " [39.4723, -80.2198, 0.0],\n",
       " [39.7057, -80.10465, 0.0],\n",
       " [37.7684, -81.04, 1.0],\n",
       " [37.33015, -81.24287, 2.0],\n",
       " [38.28578, -80.94932, 2.0],\n",
       " [37.78835, -81.18321, 1.0],\n",
       " [39.52952, -80.34996, 0.0],\n",
       " [38.68305, -80.76106999999998, 1.0],\n",
       " [38.68602, -80.76446, 1.0],\n",
       " [38.3636, -80.58986999999998, 1.0],\n",
       " [39.3709, -80.10347, 1.0],\n",
       " [39.07236, -80.25591999999997, 1.0],\n",
       " [37.302, -81.09395, 1.0],\n",
       " [38.36597, -80.59794000000002, 1.0],\n",
       " [39.2881, -80.53718, 1.0],\n",
       " [38.89713, -80.72719000000002, 2.0],\n",
       " [38.6554, -80.84366999999997, 1.0],\n",
       " [37.65633, -81.3141, 2.0],\n",
       " [37.41466, -81.42811999999998, 1.0],\n",
       " [38.26237, -81.03327, 0.0],\n",
       " [39.4072, -80.48291, 1.0],\n",
       " [38.25956, -81.0348, 2.0],\n",
       " [37.35736, -81.45824, 2.0],\n",
       " [37.58595, -81.35307, 1.0],\n",
       " [37.84397, -81.23363, 0.0],\n",
       " [37.53353, -81.37756, 1.0],\n",
       " [37.57047, -81.36428000000002, 1.0],\n",
       " [39.3619, -80.5129, 1.0],\n",
       " [37.32701, -81.47651, 2.0],\n",
       " [38.63532, -80.8644, 1.0],\n",
       " [38.80787, -80.78414000000002, 1.0],\n",
       " [39.28092, -80.55521999999998, 0.0],\n",
       " [37.84556, -81.23952, 2.0],\n",
       " [39.40882, -80.49297, 1.0],\n",
       " [38.89345, -80.74356, 1.0],\n",
       " [38.88414, -80.75339, 1.0],\n",
       " [39.18857, -80.60653, 1.0],\n",
       " [38.44937, -80.96186999999998, 0.0],\n",
       " [37.54113, -81.38718, 2.0],\n",
       " [39.11178, -80.65316999999997, 1.0],\n",
       " [38.95831, -80.72756, 1.0],\n",
       " [38.91098, -80.75048000000002, 1.0],\n",
       " [39.5419, -80.44351, 2.0],\n",
       " [37.59411, -81.37804, 2.0],\n",
       " [39.22746, -80.60370999999998, 1.0],\n",
       " [39.04713, -80.69168, 0.0],\n",
       " [38.61287, -80.65071, 1.0],\n",
       " [38.93699, -80.49727, 1.0],\n",
       " [39.48673, -80.22946, 0.0],\n",
       " [39.03888, -80.44848, 0.0],\n",
       " [38.73676, -80.59909, 2.0],\n",
       " [37.65046, -81.11228, 1.0],\n",
       " [39.06437, -80.44117, 2.0],\n",
       " [37.42046, -81.49479000000002, 1.0],\n",
       " [39.03656, -80.45935, 1.0],\n",
       " [37.34658, -81.25778000000003, 0.0],\n",
       " [39.515, -80.2259, 1.0],\n",
       " [39.70902, -80.1301, 0.0],\n",
       " [39.69058, -80.14384, 0.0],\n",
       " [39.04194, -80.46183, 1.0],\n",
       " [39.2844, -80.3441, 1.0],\n",
       " [39.4236, -80.27600000000002, 1.0],\n",
       " [37.77296, -81.06605, 1.0],\n",
       " [39.455, -80.2646, 0.0],\n",
       " [39.13446, -80.42155, 1.0],\n",
       " [39.03878, -80.46815, 2.0],\n",
       " [39.01717, -80.47864, 1.0],\n",
       " [39.4724, -80.2595, 2.0],\n",
       " [38.30684, -80.82247, 2.0],\n",
       " [38.24038, -80.85421, 1.0],\n",
       " [38.56833, -80.6983, 2.0],\n",
       " [39.70844, -80.14608, 1.0],\n",
       " [39.67668, -80.16229, 0.0],\n",
       " [39.3485, -80.32431, 1.0],\n",
       " [39.6574, -80.1723, 0.0],\n",
       " [37.30539, -81.2967, 2.0],\n",
       " [38.96323, -80.51531, 2.0],\n",
       " [37.83183, -81.05331, 1.0],\n",
       " [38.96351, -80.51546, 1.0],\n",
       " [39.27327, -80.36811999999998, 0.0],\n",
       " [37.37021, -81.27048, 1.0],\n",
       " [39.27052, -80.36946999999998, 1.0],\n",
       " [39.46117, -80.2768, 0.0],\n",
       " [39.40246, -80.41741999999998, 1.0],\n",
       " [39.26297, -80.48589, 1.0],\n",
       " [38.67615, -80.77095, 2.0],\n",
       " [38.66516, -80.78016, 1.0],\n",
       " [38.07731, -81.05921, 2.0],\n",
       " [39.59845, -80.3273, 0.0],\n",
       " [37.81067, -81.18427, 1.0],\n",
       " [39.57433, -80.34333000000002, 0.0],\n",
       " [37.75857, -81.21266999999997, 1.0],\n",
       " [39.15657, -80.54804, 2.0],\n",
       " [38.09189, -81.05702, 1.0],\n",
       " [37.7584, -81.21291, 1.0],\n",
       " [37.50057, -81.33567, 2.0],\n",
       " [37.76241, -81.21446999999998, 1.0],\n",
       " [37.76228, -81.21467, 1.0],\n",
       " [39.3478, -80.4587, 1.0],\n",
       " [38.06482000000001, -81.07708000000002, 1.0],\n",
       " [37.89901, -81.15483, 1.0],\n",
       " [37.93254, -81.13946, 0.0],\n",
       " [39.67995, -80.29942, 0.0],\n",
       " [38.06564, -81.08022, 1.0],\n",
       " [39.30471, -80.48695, 0.0],\n",
       " [39.11895, -80.57779000000002, 2.0],\n",
       " [39.0954, -80.58941, 1.0],\n",
       " [38.0643, -81.08159, 0.0],\n",
       " [37.77275, -81.22041999999998, 1.0],\n",
       " [38.77403, -80.74755, 0.0],\n",
       " [37.93377, -81.14609, 1.0],\n",
       " [37.60746, -81.30066, 2.0],\n",
       " [39.5205, -80.3889, 0.0],\n",
       " [37.78047, -81.22121, 1.0],\n",
       " [37.72246, -81.25198, 1.0],\n",
       " [37.92884, -81.15603, 1.0],\n",
       " [37.71882, -81.25406, 1.0],\n",
       " [37.41643, -81.39395999999998, 1.0],\n",
       " [37.33618, -81.43414, 0.0],\n",
       " [39.42827, -80.29715, 0.0],\n",
       " [39.34316, -80.33895, 1.0],\n",
       " [38.58706, -80.70534, 2.0],\n",
       " [39.29155, -80.36492, 2.0],\n",
       " [38.94518, -80.53828, 1.0],\n",
       " [39.04964, -80.48770999999998, 1.0],\n",
       " [38.49823, -80.75350999999998, 2.0],\n",
       " [39.09561, -80.46618000000002, 1.0],\n",
       " [37.42686, -81.25591999999997, 2.0],\n",
       " [38.49933, -80.75618, 1.0],\n",
       " [37.30449, -81.31503000000002, 1.0],\n",
       " [38.4994, -80.75639, 1.0],\n",
       " [38.50106, -80.75561, 1.0],\n",
       " [37.32485, -81.30931, 0.0],\n",
       " [38.70311, -80.663, 1.0],\n",
       " [39.70666, -80.17399, 1.0],\n",
       " [38.70327, -80.6632, 2.0],\n",
       " [38.02008, -81.22545, 1.0],\n",
       " [39.47372, -80.52941, 0.0],\n",
       " [39.03195, -80.74465, 0.0],\n",
       " [38.01443, -81.62718000000002, 0.0],\n",
       " [38.84982, -80.83933, 1.0],\n",
       " [37.77345, -81.34794000000002, 0.0],\n",
       " [38.61716, -80.95085, 1.0],\n",
       " [38.61736, -80.95105, 1.0],\n",
       " [39.27417, -80.63953000000002, 1.0],\n",
       " [38.01764, -81.23951, 0.0],\n",
       " [37.46304, -81.49676, 1.0],\n",
       " [38.8721, -80.83440999999998, 1.0],\n",
       " [38.61997, -80.95841, 2.0],\n",
       " [38.87307, -80.8373, 1.0],\n",
       " [39.36916, -80.59751999999997, 0.0],\n",
       " [39.69948, -80.43553, 1.0],\n",
       " [38.236, -81.1417, 0.0],\n",
       " [38.06419, -81.2276, 1.0],\n",
       " [38.2642, -81.1337, 1.0],\n",
       " [37.45135, -81.51236, 1.0],\n",
       " [37.44841, -81.51374, 1.0],\n",
       " [37.60084000000001, -81.3797, 2.0],\n",
       " [39.1512, -80.64543, 1.0],\n",
       " [37.61159, -81.37498000000002, 1.0],\n",
       " [37.61019, -81.37572, 2.0],\n",
       " [39.04229, -80.70224, 1.0],\n",
       " [37.4107, -81.47144, 1.0],\n",
       " [39.00708, -80.71938, 1.0],\n",
       " [38.45144000000001, -80.9865, 1.0],\n",
       " [39.06407, -80.69714, 1.0],\n",
       " [38.58592, -80.92723000000002, 1.0],\n",
       " [37.41309, -81.47723, 1.0],\n",
       " [39.55856, -80.45859, 0.0],\n",
       " [37.87958, -81.26736, 1.0],\n",
       " [39.23927, -80.62038000000003, 0.0],\n",
       " [37.76825, -81.31991, 1.0],\n",
       " [38.58296, -80.93781, 1.0],\n",
       " [38.58702, -80.9361, 2.0],\n",
       " [39.341, -80.57668000000002, 0.0],\n",
       " [38.47347, -80.99465, 1.0],\n",
       " [37.89802, -81.26552, 1.0],\n",
       " [37.43088, -81.48228, 1.0],\n",
       " [37.42623, -81.48839, 2.0],\n",
       " [37.42333, -81.49056, 1.0],\n",
       " [37.91325, -81.26406, 0.0],\n",
       " [37.63815, -81.39274, 1.0],\n",
       " [37.931, -81.26253, 1.0],\n",
       " [39.36044, -80.58010999999998, 0.0],\n",
       " [37.66644, -81.38578000000003, 2.0],\n",
       " [37.91645, -81.26974, 1.0],\n",
       " [39.28141, -80.69463, 0.0],\n",
       " [37.41172, -81.57833000000002, 1.0],\n",
       " [39.03155, -80.81586999999998, 1.0],\n",
       " [38.24955, -81.19268000000002, 1.0],\n",
       " [39.68016, -80.50333, 0.0],\n",
       " [37.44379, -81.56755, 2.0],\n",
       " [39.03828, -80.81669000000002, 1.0],\n",
       " [38.35402, -81.14924, 1.0],\n",
       " [39.14024000000001, -80.45657, 1.0],\n",
       " [37.3884, -81.28826, 1.0],\n",
       " [39.3804, -80.34239000000002, 1.0],\n",
       " [39.67679, -80.19704, 0.0],\n",
       " [37.74934, -81.12555, 1.0],\n",
       " [37.34115, -81.31456, 1.0],\n",
       " [37.70229000000001, -81.14794, 0.0],\n",
       " [39.50588, -80.28538, 0.0],\n",
       " [37.73716, -81.13601, 1.0],\n",
       " [39.595, -80.2458, 2.0],\n",
       " [39.5156, -80.28554, 2.0],\n",
       " [39.66424, -80.21354000000002, 1.0],\n",
       " [38.86874, -80.60707, 2.0],\n",
       " [37.74726, -81.13843, 1.0],\n",
       " [38.68829, -80.69527, 1.0],\n",
       " [38.68847, -80.69532, 1.0],\n",
       " [39.04868, -80.52181, 1.0],\n",
       " [39.42148, -80.34493, 0.0],\n",
       " [39.36385, -80.37366, 0.0],\n",
       " [39.35886, -80.37645, 1.0],\n",
       " [38.87198, -80.61322, 1.0],\n",
       " [39.42853, -80.34845, 1.0],\n",
       " [37.75414, -81.14926, 2.0],\n",
       " [38.03191, -81.01973000000002, 0.0],\n",
       " [38.66822, -80.71799, 0.0],\n",
       " [38.56043, -80.77423, 0.0],\n",
       " [39.14602, -80.49221, 1.0],\n",
       " [38.9035, -80.61012, 1.0],\n",
       " [38.56218, -80.77401, 1.0],\n",
       " [38.9037, -80.61009, 1.0],\n",
       " [38.65085, -80.73805, 1.0],\n",
       " [39.14871, -80.49838000000003, 2.0],\n",
       " [39.51781, -80.31876, 1.0],\n",
       " [39.5231, -80.3163, 1.0],\n",
       " [38.48505, -80.82439000000002, 1.0],\n",
       " [37.72371, -81.18309, 1.0],\n",
       " [37.75673, -81.16852, 1.0],\n",
       " [37.7225, -81.18467, 1.0],\n",
       " [39.47795, -80.34948, 1.0],\n",
       " [38.49731, -80.82403000000002, 1.0],\n",
       " [37.71017, -81.19451, 1.0],\n",
       " [38.05762, -81.03246999999998, 0.0],\n",
       " [38.8615, -80.65544, 1.0],\n",
       " [38.86292, -80.6548, 2.0],\n",
       " [37.62868, -81.23823, 1.0],\n",
       " [39.14587, -80.51841, 2.0],\n",
       " [39.36742, -80.41034, 2.0],\n",
       " [38.84942, -80.66512, 1.0],\n",
       " [38.85853, -80.66081, 1.0],\n",
       " [39.71929, -80.24059, 0.0],\n",
       " [39.5123, -80.343, 0.0],\n",
       " [37.78961, -81.1734, 1.0],\n",
       " [37.36899, -81.36820999999998, 1.0],\n",
       " [39.7122, -80.25078, 0.0],\n",
       " [39.22939, -80.48801, 0.0],\n",
       " [39.53091, -80.3441, 1.0],\n",
       " [38.30422, -80.93670999999998, 1.0],\n",
       " [37.9335, -81.11159, 0.0],\n",
       " [38.30271, -80.93791, 0.0],\n",
       " [37.78744, -81.18070999999998, 1.0],\n",
       " [37.82765, -81.47218000000002, 2.0],\n",
       " [38.50242, -81.15619000000002, 0.0],\n",
       " [39.03272, -80.90268, 1.0],\n",
       " [37.94767, -81.41741999999998, 1.0],\n",
       " [38.5035, -81.15632, 1.0],\n",
       " [37.8407, -81.47369, 1.0],\n",
       " [38.56898, -81.1315, 1.0],\n",
       " [37.93721, -81.42928, 1.0],\n",
       " [38.05334000000001, -81.3752, 1.0],\n",
       " [38.18165, -81.31735, 2.0],\n",
       " [38.18446, -81.3167, 1.0],\n",
       " [38.68474000000001, -81.081, 0.0],\n",
       " [37.73693, -81.52671, 2.0],\n",
       " [37.84934000000001, -81.48005, 1.0],\n",
       " [37.85081, -81.47954, 1.0],\n",
       " [38.19091, -81.03692, 1.0],\n",
       " [37.38622, -81.4113, 1.0],\n",
       " [37.5935, -81.31613, 1.0],\n",
       " [37.87088, -81.18932, 2.0],\n",
       " [37.97983, -81.13861999999997, 1.0],\n",
       " [39.5804, -80.37, 1.0],\n",
       " [37.97639, -81.14054, 2.0],\n",
       " [39.65534, -80.33747, 1.0],\n",
       " [37.94122, -81.16108, 0.0],\n",
       " [38.121, -81.07698, 1.0],\n",
       " [37.57844, -81.33208, 1.0],\n",
       " [38.12014, -81.07991, 1.0],\n",
       " [37.60261, -81.32131, 1.0],\n",
       " [37.34479, -81.44036, 2.0],\n",
       " [37.83942, -81.21219, 2.0],\n",
       " [37.68089000000001, -81.28995, 2.0],\n",
       " [37.34441, -81.44530999999998, 2.0],\n",
       " [37.40122, -81.41936, 1.0],\n",
       " [37.67772, -81.29191, 2.0],\n",
       " [37.83768, -81.2222, 1.0],\n",
       " [39.33522, -80.50846999999997, 1.0],\n",
       " [37.30478, -81.46984, 2.0],\n",
       " [37.42434, -81.41518, 1.0],\n",
       " [39.56477, -80.73374, 2.0],\n",
       " [38.17316, -81.40103, 2.0],\n",
       " [39.83683, -80.60025, 1.0],\n",
       " [39.90671, -80.56568, 2.0],\n",
       " [37.59097, -81.67834, 2.0],\n",
       " [38.20477, -81.39307, 0.0],\n",
       " [38.0792, -81.4519, 0.0],\n",
       " [38.20881, -81.39152, 1.0],\n",
       " [39.77281, -80.64596, 1.0],\n",
       " [38.26300000000001, -81.37373000000002, 0.0],\n",
       " [39.153, -80.94991, 2.0],\n",
       " [37.69831, -81.63818, 1.0],\n",
       " [39.93126, -80.56973, 0.0],\n",
       " [37.32151, -81.81589, 0.0],\n",
       " [38.82364000000001, -80.92564, 1.0],\n",
       " [37.43979, -81.57555, 1.0],\n",
       " [38.43144, -81.11346999999998, 0.0],\n",
       " [37.26038, -81.65841, 1.0],\n",
       " [39.06236, -80.81600999999998, 0.0],\n",
       " [38.84258, -80.92195, 1.0],\n",
       " [37.79918, -81.41513, 1.0],\n",
       " [38.3588, -81.153, 1.0],\n",
       " [39.6986, -80.50875, 0.0],\n",
       " [38.25004000000001, -81.20707, 1.0],\n",
       " [37.82603, -81.40653, 2.0],\n",
       " [38.94786, -80.87643, 1.0],\n",
       " [37.56858, -81.53245, 2.0],\n",
       " [38.59803, -81.05036, 1.0],\n",
       " [37.82455, -81.41436, 2.0],\n",
       " [39.56835, -80.58248, 1.0],\n",
       " [38.85148, -80.93670999999998, 1.0],\n",
       " [38.85363, -80.93581, 2.0],\n",
       " [37.68944000000001, -81.48447, 2.0],\n",
       " [37.58701, -81.53237, 2.0],\n",
       " [39.53455, -80.60989000000002, 1.0],\n",
       " [37.59302, -81.53352, 1.0],\n",
       " [38.00023, -81.34713, 1.0],\n",
       " [37.60308, -81.53217, 1.0],\n",
       " [39.70206, -80.53648000000003, 1.0],\n",
       " [38.26956, -81.2275, 2.0],\n",
       " [37.60676, -81.53686, 2.0],\n",
       " [37.30509, -81.67533, 2.0],\n",
       " [37.61763, -81.53508000000002, 1.0],\n",
       " ...]"
      ]
     },
     "execution_count": 248,
     "metadata": {},
     "output_type": "execute_result"
    }
   ],
   "source": [
    "# ny_df_grouped = ny_df.groupby('county').median()[['latitude', 'longitude', 'bridge_condition']].values.tolist()\n",
    "ny_df_grouped = ny_df[['latitude', 'longitude', 'bridge_condition']].values.tolist()\n",
    "ny_df_grouped"
   ]
  },
  {
   "cell_type": "code",
   "execution_count": 249,
   "metadata": {
    "ExecuteTime": {
     "end_time": "2021-08-30T19:22:56.981333Z",
     "start_time": "2021-08-30T19:22:56.901646Z"
    }
   },
   "outputs": [
    {
     "data": {
      "text/html": [
       "<div style=\"width:100%;\"><div style=\"position:relative;width:100%;height:0;padding-bottom:60%;\"><span style=\"color:#565656\">Make this Notebook Trusted to load map: File -> Trust Notebook</span><iframe src=\"about:blank\" style=\"position:absolute;width:100%;height:100%;left:0;top:0;border:none !important;\" data-html=%3C%21DOCTYPE%20html%3E%0A%3Chead%3E%20%20%20%20%0A%20%20%20%20%3Cmeta%20http-equiv%3D%22content-type%22%20content%3D%22text/html%3B%20charset%3DUTF-8%22%20/%3E%0A%20%20%20%20%0A%20%20%20%20%20%20%20%20%3Cscript%3E%0A%20%20%20%20%20%20%20%20%20%20%20%20L_NO_TOUCH%20%3D%20false%3B%0A%20%20%20%20%20%20%20%20%20%20%20%20L_DISABLE_3D%20%3D%20false%3B%0A%20%20%20%20%20%20%20%20%3C/script%3E%0A%20%20%20%20%0A%20%20%20%20%3Cstyle%3Ehtml%2C%20body%20%7Bwidth%3A%20100%25%3Bheight%3A%20100%25%3Bmargin%3A%200%3Bpadding%3A%200%3B%7D%3C/style%3E%0A%20%20%20%20%3Cstyle%3E%23map%20%7Bposition%3Aabsolute%3Btop%3A0%3Bbottom%3A0%3Bright%3A0%3Bleft%3A0%3B%7D%3C/style%3E%0A%20%20%20%20%3Cscript%20src%3D%22https%3A//cdn.jsdelivr.net/npm/leaflet%401.6.0/dist/leaflet.js%22%3E%3C/script%3E%0A%20%20%20%20%3Cscript%20src%3D%22https%3A//code.jquery.com/jquery-1.12.4.min.js%22%3E%3C/script%3E%0A%20%20%20%20%3Cscript%20src%3D%22https%3A//maxcdn.bootstrapcdn.com/bootstrap/3.2.0/js/bootstrap.min.js%22%3E%3C/script%3E%0A%20%20%20%20%3Cscript%20src%3D%22https%3A//cdnjs.cloudflare.com/ajax/libs/Leaflet.awesome-markers/2.0.2/leaflet.awesome-markers.js%22%3E%3C/script%3E%0A%20%20%20%20%3Clink%20rel%3D%22stylesheet%22%20href%3D%22https%3A//cdn.jsdelivr.net/npm/leaflet%401.6.0/dist/leaflet.css%22/%3E%0A%20%20%20%20%3Clink%20rel%3D%22stylesheet%22%20href%3D%22https%3A//maxcdn.bootstrapcdn.com/bootstrap/3.2.0/css/bootstrap.min.css%22/%3E%0A%20%20%20%20%3Clink%20rel%3D%22stylesheet%22%20href%3D%22https%3A//maxcdn.bootstrapcdn.com/bootstrap/3.2.0/css/bootstrap-theme.min.css%22/%3E%0A%20%20%20%20%3Clink%20rel%3D%22stylesheet%22%20href%3D%22https%3A//maxcdn.bootstrapcdn.com/font-awesome/4.6.3/css/font-awesome.min.css%22/%3E%0A%20%20%20%20%3Clink%20rel%3D%22stylesheet%22%20href%3D%22https%3A//cdnjs.cloudflare.com/ajax/libs/Leaflet.awesome-markers/2.0.2/leaflet.awesome-markers.css%22/%3E%0A%20%20%20%20%3Clink%20rel%3D%22stylesheet%22%20href%3D%22https%3A//cdn.jsdelivr.net/gh/python-visualization/folium/folium/templates/leaflet.awesome.rotate.min.css%22/%3E%0A%20%20%20%20%0A%20%20%20%20%20%20%20%20%20%20%20%20%3Cmeta%20name%3D%22viewport%22%20content%3D%22width%3Ddevice-width%2C%0A%20%20%20%20%20%20%20%20%20%20%20%20%20%20%20%20initial-scale%3D1.0%2C%20maximum-scale%3D1.0%2C%20user-scalable%3Dno%22%20/%3E%0A%20%20%20%20%20%20%20%20%20%20%20%20%3Cstyle%3E%0A%20%20%20%20%20%20%20%20%20%20%20%20%20%20%20%20%23map_a3f8259ad478403898dcaff130f207e3%20%7B%0A%20%20%20%20%20%20%20%20%20%20%20%20%20%20%20%20%20%20%20%20position%3A%20relative%3B%0A%20%20%20%20%20%20%20%20%20%20%20%20%20%20%20%20%20%20%20%20width%3A%20100.0%25%3B%0A%20%20%20%20%20%20%20%20%20%20%20%20%20%20%20%20%20%20%20%20height%3A%20100.0%25%3B%0A%20%20%20%20%20%20%20%20%20%20%20%20%20%20%20%20%20%20%20%20left%3A%200.0%25%3B%0A%20%20%20%20%20%20%20%20%20%20%20%20%20%20%20%20%20%20%20%20top%3A%200.0%25%3B%0A%20%20%20%20%20%20%20%20%20%20%20%20%20%20%20%20%7D%0A%20%20%20%20%20%20%20%20%20%20%20%20%3C/style%3E%0A%20%20%20%20%20%20%20%20%0A%3C/head%3E%0A%3Cbody%3E%20%20%20%20%0A%20%20%20%20%0A%20%20%20%20%20%20%20%20%20%20%20%20%3Cdiv%20class%3D%22folium-map%22%20id%3D%22map_a3f8259ad478403898dcaff130f207e3%22%20%3E%3C/div%3E%0A%20%20%20%20%20%20%20%20%0A%3C/body%3E%0A%3Cscript%3E%20%20%20%20%0A%20%20%20%20%0A%20%20%20%20%20%20%20%20%20%20%20%20var%20map_a3f8259ad478403898dcaff130f207e3%20%3D%20L.map%28%0A%20%20%20%20%20%20%20%20%20%20%20%20%20%20%20%20%22map_a3f8259ad478403898dcaff130f207e3%22%2C%0A%20%20%20%20%20%20%20%20%20%20%20%20%20%20%20%20%7B%0A%20%20%20%20%20%20%20%20%20%20%20%20%20%20%20%20%20%20%20%20center%3A%20%5B40.0%2C%20-100.0%5D%2C%0A%20%20%20%20%20%20%20%20%20%20%20%20%20%20%20%20%20%20%20%20crs%3A%20L.CRS.EPSG3857%2C%0A%20%20%20%20%20%20%20%20%20%20%20%20%20%20%20%20%20%20%20%20zoom%3A%204%2C%0A%20%20%20%20%20%20%20%20%20%20%20%20%20%20%20%20%20%20%20%20zoomControl%3A%20true%2C%0A%20%20%20%20%20%20%20%20%20%20%20%20%20%20%20%20%20%20%20%20preferCanvas%3A%20false%2C%0A%20%20%20%20%20%20%20%20%20%20%20%20%20%20%20%20%7D%0A%20%20%20%20%20%20%20%20%20%20%20%20%29%3B%0A%0A%20%20%20%20%20%20%20%20%20%20%20%20%0A%0A%20%20%20%20%20%20%20%20%0A%20%20%20%20%0A%20%20%20%20%20%20%20%20%20%20%20%20var%20tile_layer_4f9a559f45c44124a46413c796b4e6c3%20%3D%20L.tileLayer%28%0A%20%20%20%20%20%20%20%20%20%20%20%20%20%20%20%20%22https%3A//%7Bs%7D.tile.openstreetmap.org/%7Bz%7D/%7Bx%7D/%7By%7D.png%22%2C%0A%20%20%20%20%20%20%20%20%20%20%20%20%20%20%20%20%7B%22attribution%22%3A%20%22Data%20by%20%5Cu0026copy%3B%20%5Cu003ca%20href%3D%5C%22http%3A//openstreetmap.org%5C%22%5Cu003eOpenStreetMap%5Cu003c/a%5Cu003e%2C%20under%20%5Cu003ca%20href%3D%5C%22http%3A//www.openstreetmap.org/copyright%5C%22%5Cu003eODbL%5Cu003c/a%5Cu003e.%22%2C%20%22detectRetina%22%3A%20false%2C%20%22maxNativeZoom%22%3A%2018%2C%20%22maxZoom%22%3A%2018%2C%20%22minZoom%22%3A%200%2C%20%22noWrap%22%3A%20false%2C%20%22opacity%22%3A%201%2C%20%22subdomains%22%3A%20%22abc%22%2C%20%22tms%22%3A%20false%7D%0A%20%20%20%20%20%20%20%20%20%20%20%20%29.addTo%28map_a3f8259ad478403898dcaff130f207e3%29%3B%0A%20%20%20%20%20%20%20%20%0A%3C/script%3E onload=\"this.contentDocument.open();this.contentDocument.write(    decodeURIComponent(this.getAttribute('data-html')));this.contentDocument.close();\" allowfullscreen webkitallowfullscreen mozallowfullscreen></iframe></div></div>"
      ],
      "text/plain": [
       "<folium.folium.Map at 0x2a040f8ab20>"
      ]
     },
     "execution_count": 249,
     "metadata": {},
     "output_type": "execute_result"
    }
   ],
   "source": [
    "# Make an empty map\n",
    "m = folium.Map(location=[40,-100], tiles=\"OpenStreetMap\", zoom_start=4)\n",
    "\n",
    "#show the map\n",
    "m"
   ]
  },
  {
   "cell_type": "code",
   "execution_count": 250,
   "metadata": {
    "ExecuteTime": {
     "end_time": "2021-08-30T19:23:11.366569Z",
     "start_time": "2021-08-30T19:23:11.078989Z"
    }
   },
   "outputs": [
    {
     "data": {
      "text/html": [
       "<div style=\"width:100%;\"><div style=\"position:relative;width:100%;height:0;padding-bottom:60%;\"><span style=\"color:#565656\">Make this Notebook Trusted to load map: File -> Trust Notebook</span><iframe src=\"about:blank\" style=\"position:absolute;width:100%;height:100%;left:0;top:0;border:none !important;\" data-html=%3C%21DOCTYPE%20html%3E%0A%3Chead%3E%20%20%20%20%0A%20%20%20%20%3Cmeta%20http-equiv%3D%22content-type%22%20content%3D%22text/html%3B%20charset%3DUTF-8%22%20/%3E%0A%20%20%20%20%0A%20%20%20%20%20%20%20%20%3Cscript%3E%0A%20%20%20%20%20%20%20%20%20%20%20%20L_NO_TOUCH%20%3D%20false%3B%0A%20%20%20%20%20%20%20%20%20%20%20%20L_DISABLE_3D%20%3D%20false%3B%0A%20%20%20%20%20%20%20%20%3C/script%3E%0A%20%20%20%20%0A%20%20%20%20%3Cstyle%3Ehtml%2C%20body%20%7Bwidth%3A%20100%25%3Bheight%3A%20100%25%3Bmargin%3A%200%3Bpadding%3A%200%3B%7D%3C/style%3E%0A%20%20%20%20%3Cstyle%3E%23map%20%7Bposition%3Aabsolute%3Btop%3A0%3Bbottom%3A0%3Bright%3A0%3Bleft%3A0%3B%7D%3C/style%3E%0A%20%20%20%20%3Cscript%20src%3D%22https%3A//cdn.jsdelivr.net/npm/leaflet%401.6.0/dist/leaflet.js%22%3E%3C/script%3E%0A%20%20%20%20%3Cscript%20src%3D%22https%3A//code.jquery.com/jquery-1.12.4.min.js%22%3E%3C/script%3E%0A%20%20%20%20%3Cscript%20src%3D%22https%3A//maxcdn.bootstrapcdn.com/bootstrap/3.2.0/js/bootstrap.min.js%22%3E%3C/script%3E%0A%20%20%20%20%3Cscript%20src%3D%22https%3A//cdnjs.cloudflare.com/ajax/libs/Leaflet.awesome-markers/2.0.2/leaflet.awesome-markers.js%22%3E%3C/script%3E%0A%20%20%20%20%3Clink%20rel%3D%22stylesheet%22%20href%3D%22https%3A//cdn.jsdelivr.net/npm/leaflet%401.6.0/dist/leaflet.css%22/%3E%0A%20%20%20%20%3Clink%20rel%3D%22stylesheet%22%20href%3D%22https%3A//maxcdn.bootstrapcdn.com/bootstrap/3.2.0/css/bootstrap.min.css%22/%3E%0A%20%20%20%20%3Clink%20rel%3D%22stylesheet%22%20href%3D%22https%3A//maxcdn.bootstrapcdn.com/bootstrap/3.2.0/css/bootstrap-theme.min.css%22/%3E%0A%20%20%20%20%3Clink%20rel%3D%22stylesheet%22%20href%3D%22https%3A//maxcdn.bootstrapcdn.com/font-awesome/4.6.3/css/font-awesome.min.css%22/%3E%0A%20%20%20%20%3Clink%20rel%3D%22stylesheet%22%20href%3D%22https%3A//cdnjs.cloudflare.com/ajax/libs/Leaflet.awesome-markers/2.0.2/leaflet.awesome-markers.css%22/%3E%0A%20%20%20%20%3Clink%20rel%3D%22stylesheet%22%20href%3D%22https%3A//cdn.jsdelivr.net/gh/python-visualization/folium/folium/templates/leaflet.awesome.rotate.min.css%22/%3E%0A%20%20%20%20%0A%20%20%20%20%20%20%20%20%20%20%20%20%3Cmeta%20name%3D%22viewport%22%20content%3D%22width%3Ddevice-width%2C%0A%20%20%20%20%20%20%20%20%20%20%20%20%20%20%20%20initial-scale%3D1.0%2C%20maximum-scale%3D1.0%2C%20user-scalable%3Dno%22%20/%3E%0A%20%20%20%20%20%20%20%20%20%20%20%20%3Cstyle%3E%0A%20%20%20%20%20%20%20%20%20%20%20%20%20%20%20%20%23map_a3f8259ad478403898dcaff130f207e3%20%7B%0A%20%20%20%20%20%20%20%20%20%20%20%20%20%20%20%20%20%20%20%20position%3A%20relative%3B%0A%20%20%20%20%20%20%20%20%20%20%20%20%20%20%20%20%20%20%20%20width%3A%20100.0%25%3B%0A%20%20%20%20%20%20%20%20%20%20%20%20%20%20%20%20%20%20%20%20height%3A%20100.0%25%3B%0A%20%20%20%20%20%20%20%20%20%20%20%20%20%20%20%20%20%20%20%20left%3A%200.0%25%3B%0A%20%20%20%20%20%20%20%20%20%20%20%20%20%20%20%20%20%20%20%20top%3A%200.0%25%3B%0A%20%20%20%20%20%20%20%20%20%20%20%20%20%20%20%20%7D%0A%20%20%20%20%20%20%20%20%20%20%20%20%3C/style%3E%0A%20%20%20%20%20%20%20%20%0A%20%20%20%20%3Cscript%20src%3D%22https%3A//cdn.jsdelivr.net/gh/python-visualization/folium%40master/folium/templates/leaflet_heat.min.js%22%3E%3C/script%3E%0A%3C/head%3E%0A%3Cbody%3E%20%20%20%20%0A%20%20%20%20%0A%20%20%20%20%20%20%20%20%20%20%20%20%3Cdiv%20class%3D%22folium-map%22%20id%3D%22map_a3f8259ad478403898dcaff130f207e3%22%20%3E%3C/div%3E%0A%20%20%20%20%20%20%20%20%0A%3C/body%3E%0A%3Cscript%3E%20%20%20%20%0A%20%20%20%20%0A%20%20%20%20%20%20%20%20%20%20%20%20var%20map_a3f8259ad478403898dcaff130f207e3%20%3D%20L.map%28%0A%20%20%20%20%20%20%20%20%20%20%20%20%20%20%20%20%22map_a3f8259ad478403898dcaff130f207e3%22%2C%0A%20%20%20%20%20%20%20%20%20%20%20%20%20%20%20%20%7B%0A%20%20%20%20%20%20%20%20%20%20%20%20%20%20%20%20%20%20%20%20center%3A%20%5B40.0%2C%20-100.0%5D%2C%0A%20%20%20%20%20%20%20%20%20%20%20%20%20%20%20%20%20%20%20%20crs%3A%20L.CRS.EPSG3857%2C%0A%20%20%20%20%20%20%20%20%20%20%20%20%20%20%20%20%20%20%20%20zoom%3A%204%2C%0A%20%20%20%20%20%20%20%20%20%20%20%20%20%20%20%20%20%20%20%20zoomControl%3A%20true%2C%0A%20%20%20%20%20%20%20%20%20%20%20%20%20%20%20%20%20%20%20%20preferCanvas%3A%20false%2C%0A%20%20%20%20%20%20%20%20%20%20%20%20%20%20%20%20%7D%0A%20%20%20%20%20%20%20%20%20%20%20%20%29%3B%0A%0A%20%20%20%20%20%20%20%20%20%20%20%20%0A%0A%20%20%20%20%20%20%20%20%0A%20%20%20%20%0A%20%20%20%20%20%20%20%20%20%20%20%20var%20tile_layer_4f9a559f45c44124a46413c796b4e6c3%20%3D%20L.tileLayer%28%0A%20%20%20%20%20%20%20%20%20%20%20%20%20%20%20%20%22https%3A//%7Bs%7D.tile.openstreetmap.org/%7Bz%7D/%7Bx%7D/%7By%7D.png%22%2C%0A%20%20%20%20%20%20%20%20%20%20%20%20%20%20%20%20%7B%22attribution%22%3A%20%22Data%20by%20%5Cu0026copy%3B%20%5Cu003ca%20href%3D%5C%22http%3A//openstreetmap.org%5C%22%5Cu003eOpenStreetMap%5Cu003c/a%5Cu003e%2C%20under%20%5Cu003ca%20href%3D%5C%22http%3A//www.openstreetmap.org/copyright%5C%22%5Cu003eODbL%5Cu003c/a%5Cu003e.%22%2C%20%22detectRetina%22%3A%20false%2C%20%22maxNativeZoom%22%3A%2018%2C%20%22maxZoom%22%3A%2018%2C%20%22minZoom%22%3A%200%2C%20%22noWrap%22%3A%20false%2C%20%22opacity%22%3A%201%2C%20%22subdomains%22%3A%20%22abc%22%2C%20%22tms%22%3A%20false%7D%0A%20%20%20%20%20%20%20%20%20%20%20%20%29.addTo%28map_a3f8259ad478403898dcaff130f207e3%29%3B%0A%20%20%20%20%20%20%20%20%0A%20%20%20%20%0A%20%20%20%20%20%20%20%20%20%20%20%20var%20heat_map_b8c0359e9ec14f9c8155a24c154eb2e5%20%3D%20L.heatLayer%28%0A%20%20%20%20%20%20%20%20%20%20%20%20%20%20%20%20%5B%5B39.66913%2C%20-78.08838%2C%200.0%5D%2C%20%5B39.30192%2C%20-78.4159%2C%200.0%5D%2C%20%5B39.15882%2C%20-78.94151%2C%200.0%5D%2C%20%5B38.61612%2C%20-79.61105%2C%202.0%5D%2C%20%5B38.61562%2C%20-79.67168000000002%2C%200.0%5D%2C%20%5B38.28342%2C%20-80.52808%2C%201.0%5D%2C%20%5B38.65339%2C%20-80.3812%2C%200.0%5D%2C%20%5B39.2563%2C%20-80.1265%2C%200.0%5D%2C%20%5B37.99398%2C%20-80.74791%2C%200.0%5D%2C%20%5B39.51474%2C%20-80.79033000000003%2C%202.0%5D%2C%20%5B39.07453%2C%20-81.05601999999998%2C%200.0%5D%2C%20%5B38.19353%2C%20-81.49985%2C%200.0%5D%2C%20%5B38.06307%2C%20-81.57196%2C%200.0%5D%2C%20%5B38.20837%2C%20-82.1122%2C%201.0%5D%2C%20%5B38.71495%2C%20-81.89178000000003%2C%200.0%5D%2C%20%5B39.08279%2C%20-81.71775%2C%200.0%5D%2C%20%5B38.09662%2C%20-82.18916%2C%200.0%5D%2C%20%5B39.44887%2C%20-78.87739%2C%201.0%5D%2C%20%5B39.28364000000001%2C%20-78.96056%2C%201.0%5D%2C%20%5B38.66953%2C%20-79.27016%2C%201.0%5D%2C%20%5B38.99393%2C%20-79.11176%2C%201.0%5D%2C%20%5B38.95743%2C%20-79.13253%2C%201.0%5D%2C%20%5B38.61835%2C%20-79.31544%2C%202.0%5D%2C%20%5B39.33477%2C%20-78.96406999999998%2C%200.0%5D%2C%20%5B39.19327%2C%20-79.0383%2C%201.0%5D%2C%20%5B38.93755%2C%20-79.16519%2C%201.0%5D%2C%20%5B39.14157%2C%20-79.07300000000002%2C%201.0%5D%2C%20%5B39.3397%2C%20-78.97485%2C%201.0%5D%2C%20%5B39.17759%2C%20-79.05624%2C%202.0%5D%2C%20%5B39.14114%2C%20-79.0748%2C%201.0%5D%2C%20%5B38.60752%2C%20-79.35076%2C%201.0%5D%2C%20%5B39.06851%2C%20-79.12476%2C%201.0%5D%2C%20%5B38.63615%2C%20-79.33728%2C%201.0%5D%2C%20%5B38.61728%2C%20-79.34709000000002%2C%200.0%5D%2C%20%5B39.16526%2C%20-79.09651%2C%201.0%5D%2C%20%5B38.78492%2C%20-79.28482%2C%201.0%5D%2C%20%5B39.28996%2C%20-79.03585%2C%201.0%5D%2C%20%5B39.43479%2C%20-78.96372%2C%201.0%5D%2C%20%5B39.08988%2C%20-79.13512%2C%200.0%5D%2C%20%5B39.39482%2C%20-79.01207%2C%201.0%5D%2C%20%5B38.84381%2C%20-79.28514%2C%201.0%5D%2C%20%5B38.82626%2C%20-79.29427%2C%201.0%5D%2C%20%5B38.85865%2C%20-79.27934%2C%201.0%5D%2C%20%5B39.11719%2C%20-79.16785%2C%202.0%5D%2C%20%5B38.98462%2C%20-79.23369%2C%201.0%5D%2C%20%5B39.07202%2C%20-79.19237%2C%202.0%5D%2C%20%5B39.1196%2C%20-79.17258000000002%2C%202.0%5D%2C%20%5B38.62506%2C%20-79.4348%2C%200.0%5D%2C%20%5B39.12822%2C%20-79.19118%2C%201.0%5D%2C%20%5B39.22158%2C%20-79.14941999999998%2C%201.0%5D%2C%20%5B38.80468%2C%20-81.83664%2C%202.0%5D%2C%20%5B38.41582%2C%20-82.02008000000002%2C%201.0%5D%2C%20%5B38.44526%2C%20-82.00653%2C%201.0%5D%2C%20%5B38.44541%2C%20-82.00665%2C%201.0%5D%2C%20%5B38.82283%2C%20-81.82879%2C%202.0%5D%2C%20%5B39.09216%2C%20-78.5863%2C%201.0%5D%2C%20%5B39.0237%2C%20-78.66667%2C%201.0%5D%2C%20%5B39.33852%2C%20-78.50974000000002%2C%201.0%5D%2C%20%5B39.41546%2C%20-78.47381%2C%201.0%5D%2C%20%5B39.47057%2C%20-78.44645%2C%200.0%5D%2C%20%5B39.06601%2C%20-78.66368%2C%201.0%5D%2C%20%5B39.52174%2C%20-78.43694%2C%201.0%5D%2C%20%5B39.20777%2C%20-78.59611%2C%200.0%5D%2C%20%5B39.36776%2C%20-78.5375%2C%201.0%5D%2C%20%5B39.50083%2C%20-78.49022%2C%201.0%5D%2C%20%5B39.09805%2C%20-78.69409%2C%200.0%5D%2C%20%5B39.09628%2C%20-78.697%2C%201.0%5D%2C%20%5B39.29761%2C%20-78.6006%2C%201.0%5D%2C%20%5B38.95402%2C%20-78.7938%2C%201.0%5D%2C%20%5B39.0181%2C%20-78.7632%2C%201.0%5D%2C%20%5B38.95152%2C%20-78.79794%2C%200.0%5D%2C%20%5B39.41784000000001%2C%20-78.56676999999998%2C%201.0%5D%2C%20%5B38.84223%2C%20-78.87482%2C%202.0%5D%2C%20%5B38.87515%2C%20-78.86216999999998%2C%201.0%5D%2C%20%5B38.9273%2C%20-78.83747%2C%200.0%5D%2C%20%5B39.36441%2C%20-78.62133%2C%201.0%5D%2C%20%5B38.0888%2C%20-82.4701%2C%202.0%5D%2C%20%5B38.0873%2C%20-82.47166999999997%2C%201.0%5D%2C%20%5B38.86302%2C%20-82.12142%2C%202.0%5D%2C%20%5B38.06631%2C%20-82.49389000000002%2C%201.0%5D%2C%20%5B38.74594%2C%20-82.17779%2C%201.0%5D%2C%20%5B38.41343%2C%20-82.34825%2C%201.0%5D%2C%20%5B38.36195%2C%20-82.37246%2C%202.0%5D%2C%20%5B38.4108%2C%20-82.34999%2C%201.0%5D%2C%20%5B38.15057%2C%20-82.47113%2C%201.0%5D%2C%20%5B38.89664000000001%2C%20-82.12268%2C%202.0%5D%2C%20%5B38.09076%2C%20-82.50648000000002%2C%201.0%5D%2C%20%5B38.24862%2C%20-82.43427%2C%200.0%5D%2C%20%5B38.22525%2C%20-82.44543%2C%201.0%5D%2C%20%5B38.25493%2C%20-82.43337%2C%201.0%5D%2C%20%5B38.17024%2C%20-82.49197%2C%201.0%5D%2C%20%5B38.25154000000001%2C%20-82.45465%2C%201.0%5D%2C%20%5B38.25849%2C%20-82.45232%2C%201.0%5D%2C%20%5B38.37817%2C%20-82.4005%2C%201.0%5D%2C%20%5B38.42822%2C%20-82.39154%2C%200.0%5D%2C%20%5B38.43027%2C%20-82.39169%2C%201.0%5D%2C%20%5B38.32028%2C%20-82.44360999999998%2C%201.0%5D%2C%20%5B39.12941%2C%20-79.46058000000002%2C%201.0%5D%2C%20%5B39.12806%2C%20-79.46155%2C%201.0%5D%2C%20%5B38.99937%2C%20-79.52503%2C%200.0%5D%2C%20%5B38.98844%2C%20-79.53104%2C%201.0%5D%2C%20%5B38.88422%2C%20-79.5992%2C%200.0%5D%2C%20%5B38.83761%2C%20-79.62206%2C%200.0%5D%2C%20%5B38.4447%2C%20-79.81367%2C%202.0%5D%2C%20%5B38.47556%2C%20-79.79881%2C%202.0%5D%2C%20%5B38.7402%2C%20-79.6922%2C%200.0%5D%2C%20%5B38.41482%2C%20-79.85018000000002%2C%202.0%5D%2C%20%5B38.36631%2C%20-79.87777%2C%202.0%5D%2C%20%5B38.36528%2C%20-79.87919000000002%2C%201.0%5D%2C%20%5B38.89262%2C%20-79.64457%2C%201.0%5D%2C%20%5B38.36054%2C%20-79.90256%2C%201.0%5D%2C%20%5B38.89597%2C%20-79.64777%2C%201.0%5D%2C%20%5B38.54435%2C%20-79.81996%2C%202.0%5D%2C%20%5B38.79825%2C%20-79.71847%2C%200.0%5D%2C%20%5B38.61695%2C%20-79.80695%2C%201.0%5D%2C%20%5B38.39638%2C%20-79.91396%2C%200.0%5D%2C%20%5B37.96085%2C%20-80.12292%2C%200.0%5D%2C%20%5B39.33285%2C%20-77.85668000000003%2C%201.0%5D%2C%20%5B39.2417%2C%20-77.91853%2C%200.0%5D%2C%20%5B39.36214%2C%20-77.86607%2C%201.0%5D%2C%20%5B39.39671%2C%20-77.92118%2C%201.0%5D%2C%20%5B39.39998%2C%20-77.92260999999998%2C%201.0%5D%2C%20%5B39.58435%2C%20-77.83139%2C%201.0%5D%2C%20%5B39.58464%2C%20-77.83128%2C%201.0%5D%2C%20%5B39.42487%2C%20-77.93808%2C%201.0%5D%2C%20%5B39.42492%2C%20-77.93806%2C%201.0%5D%2C%20%5B39.42587%2C%20-77.93972%2C%201.0%5D%2C%20%5B39.42521%2C%20-77.9403%2C%200.0%5D%2C%20%5B39.45689%2C%20-77.96019%2C%202.0%5D%2C%20%5B39.53026%2C%20-77.92376999999998%2C%201.0%5D%2C%20%5B39.53037%2C%20-77.92405%2C%201.0%5D%2C%20%5B39.44218%2C%20-77.9694%2C%201.0%5D%2C%20%5B39.44326%2C%20-77.98911%2C%201.0%5D%2C%20%5B39.44329000000001%2C%20-77.9894%2C%201.0%5D%2C%20%5B39.49409%2C%20-77.96500999999998%2C%202.0%5D%2C%20%5B39.37141%2C%20-78.0273%2C%201.0%5D%2C%20%5B39.50039%2C%20-77.96315%2C%201.0%5D%2C%20%5B39.40678%2C%20-78.02421%2C%201.0%5D%2C%20%5B39.36253%2C%20-78.04818%2C%201.0%5D%2C%20%5B39.55098%2C%20-77.95488%2C%201.0%5D%2C%20%5B39.34012%2C%20-78.06169%2C%202.0%5D%2C%20%5B39.36553%2C%20-78.07821%2C%201.0%5D%2C%20%5B39.40727%2C%20-78.05946999999998%2C%201.0%5D%2C%20%5B39.57408%2C%20-77.98083000000003%2C%201.0%5D%2C%20%5B39.36956%2C%20-78.09723000000002%2C%200.0%5D%2C%20%5B39.565%2C%20-78.05835%2C%201.0%5D%2C%20%5B39.48453%2C%20-78.10114%2C%200.0%5D%2C%20%5B39.45313%2C%20-78.11702%2C%202.0%5D%2C%20%5B39.55952%2C%20-78.06347%2C%202.0%5D%2C%20%5B39.59951%2C%20-78.06805%2C%201.0%5D%2C%20%5B39.63909%2C%20-78.11652%2C%202.0%5D%2C%20%5B39.47393%2C%20-78.21507%2C%200.0%5D%2C%20%5B39.57608%2C%20-78.16999%2C%202.0%5D%2C%20%5B39.5275%2C%20-78.23111999999998%2C%202.0%5D%2C%20%5B39.52781%2C%20-78.23151999999997%2C%201.0%5D%2C%20%5B38.98543%2C%20-79.26615%2C%201.0%5D%2C%20%5B39.21913%2C%20-79.15156%2C%201.0%5D%2C%20%5B39.12405%2C%20-79.21236%2C%201.0%5D%2C%20%5B39.1216%2C%20-79.21598%2C%200.0%5D%2C%20%5B39.07991%2C%20-79.24033%2C%201.0%5D%2C%20%5B39.48356%2C%20-79.04698%2C%200.0%5D%2C%20%5B38.58939%2C%20-79.52183000000002%2C%200.0%5D%2C%20%5B38.7166%2C%20-79.4606%2C%202.0%5D%2C%20%5B38.70703%2C%20-79.4655%2C%202.0%5D%2C%20%5B38.70903%2C%20-79.46684%2C%201.0%5D%2C%20%5B39.30636%2C%20-79.1864%2C%201.0%5D%2C%20%5B38.65197%2C%20-79.51115%2C%202.0%5D%2C%20%5B38.84136%2C%20-79.41914%2C%201.0%5D%2C%20%5B38.65288%2C%20-79.51233%2C%202.0%5D%2C%20%5B39.35171%2C%20-79.17613%2C%202.0%5D%2C%20%5B39.21361%2C%20-79.24871%2C%201.0%5D%2C%20%5B39.21383%2C%20-79.24865%2C%201.0%5D%2C%20%5B38.62251%2C%20-79.53851999999998%2C%201.0%5D%2C%20%5B39.37145%2C%20-79.19591%2C%201.0%5D%2C%20%5B38.62362%2C%20-79.56585%2C%201.0%5D%2C%20%5B39.03671%2C%20-79.44452%2C%202.0%5D%2C%20%5B39.2346%2C%20-79.3549%2C%201.0%5D%2C%20%5B38.73065%2C%20-79.61228%2C%201.0%5D%2C%20%5B38.97658%2C%20-79.493%2C%200.0%5D%2C%20%5B38.82377%2C%20-79.57813%2C%200.0%5D%2C%20%5B38.72342%2C%20-79.62725999999998%2C%201.0%5D%2C%20%5B38.41527%2C%20-79.77722%2C%200.0%5D%2C%20%5B38.87202%2C%20-79.5574%2C%200.0%5D%2C%20%5B38.57748%2C%20-79.70361%2C%200.0%5D%2C%20%5B39.16667%2C%20-79.7026%2C%202.0%5D%2C%20%5B39.39244%2C%20-79.59845%2C%201.0%5D%2C%20%5B38.89925%2C%20-79.84134%2C%201.0%5D%2C%20%5B38.48338%2C%20-80.04297%2C%200.0%5D%2C%20%5B38.85795%2C%20-79.86180999999998%2C%202.0%5D%2C%20%5B38.8424%2C%20-79.87623%2C%201.0%5D%2C%20%5B39.11728%2C%20-79.74314%2C%201.0%5D%2C%20%5B39.31324%2C%20-78.65774%2C%201.0%5D%2C%20%5B39.31542%2C%20-78.65703%2C%200.0%5D%2C%20%5B39.14867%2C%20-78.7407%2C%201.0%5D%2C%20%5B39.31518%2C%20-78.65961999999998%2C%201.0%5D%2C%20%5B39.18264%2C%20-78.72635%2C%201.0%5D%2C%20%5B39.14776%2C%20-78.75926%2C%201.0%5D%2C%20%5B39.16346%2C%20-78.75339%2C%200.0%5D%2C%20%5B38.88213%2C%20-78.8935%2C%201.0%5D%2C%20%5B38.97735%2C%20-78.84714%2C%201.0%5D%2C%20%5B38.99009%2C%20-78.86041%2C%200.0%5D%2C%20%5B38.89242%2C%20-78.90923000000002%2C%201.0%5D%2C%20%5B39.27419%2C%20-78.7218%2C%200.0%5D%2C%20%5B39.29713%2C%20-78.71068000000002%2C%201.0%5D%2C%20%5B39.42743%2C%20-78.71498000000003%2C%202.0%5D%2C%20%5B39.08844000000001%2C%20-78.89069%2C%201.0%5D%2C%20%5B39.33945%2C%20-78.77511%2C%201.0%5D%2C%20%5B39.26199%2C%20-78.81409000000002%2C%201.0%5D%2C%20%5B39.06551%2C%20-78.91441999999998%2C%201.0%5D%2C%20%5B39.07649%2C%20-78.93916999999998%2C%201.0%5D%2C%20%5B39.14315%2C%20-78.90759%2C%201.0%5D%2C%20%5B39.33019%2C%20-78.81501%2C%201.0%5D%2C%20%5B39.06561%2C%20-78.94764%2C%201.0%5D%2C%20%5B38.79779%2C%20-79.10783%2C%202.0%5D%2C%20%5B39.10393%2C%20-78.95918%2C%201.0%5D%2C%20%5B39.0816%2C%20-78.97045%2C%200.0%5D%2C%20%5B38.70032%2C%20-79.15893%2C%201.0%5D%2C%20%5B38.98847%2C%20-79.0318%2C%200.0%5D%2C%20%5B39.05634000000001%2C%20-78.99943%2C%201.0%5D%2C%20%5B39.28424%2C%20-78.88857%2C%201.0%5D%2C%20%5B38.73045%2C%20-79.16346999999998%2C%201.0%5D%2C%20%5B38.43777%2C%20-79.31667%2C%201.0%5D%2C%20%5B39.25228%2C%20-78.91704%2C%201.0%5D%2C%20%5B38.67402%2C%20-79.20293000000002%2C%201.0%5D%2C%20%5B38.43541%2C%20-79.3195%2C%201.0%5D%2C%20%5B38.64401%2C%20-79.22095%2C%201.0%5D%2C%20%5B38.9422%2C%20-79.08717%2C%201.0%5D%2C%20%5B39.39217%2C%20-78.86421%2C%201.0%5D%2C%20%5B39.50548%2C%20-78.80966%2C%201.0%5D%2C%20%5B39.51355%2C%20-78.24459%2C%201.0%5D%2C%20%5B39.54603%2C%20-78.23246%2C%202.0%5D%2C%20%5B39.62752%2C%20-78.22668%2C%201.0%5D%2C%20%5B39.6274%2C%20-78.22735%2C%201.0%5D%2C%20%5B39.62724%2C%20-78.22842%2C%202.0%5D%2C%20%5B39.50091%2C%20-78.29233%2C%201.0%5D%2C%20%5B39.29792%2C%20-78.43583000000002%2C%201.0%5D%2C%20%5B39.61829%2C%20-78.28301%2C%202.0%5D%2C%20%5B39.60712%2C%20-78.29088%2C%202.0%5D%2C%20%5B39.18287%2C%20-78.50601999999998%2C%201.0%5D%2C%20%5B39.58198%2C%20-78.30875%2C%201.0%5D%2C%20%5B39.08864000000001%2C%20-78.5834%2C%202.0%5D%2C%20%5B39.24037%2C%20-78.50965%2C%201.0%5D%2C%20%5B39.10275%2C%20-78.58071%2C%201.0%5D%2C%20%5B39.35498%2C%20-79.90202%2C%200.0%5D%2C%20%5B39.2931%2C%20-79.93263%2C%201.0%5D%2C%20%5B37.66859%2C%20-80.71205%2C%200.0%5D%2C%20%5B37.60413%2C%20-80.74246%2C%201.0%5D%2C%20%5B37.59876%2C%20-80.75617%2C%200.0%5D%2C%20%5B39.42016%2C%20-79.88302%2C%200.0%5D%2C%20%5B38.50551%2C%20-80.32833000000002%2C%202.0%5D%2C%20%5B37.35548%2C%20-80.86964%2C%202.0%5D%2C%20%5B37.61138%2C%20-80.76218%2C%201.0%5D%2C%20%5B39.21384000000001%2C%20-79.99664%2C%201.0%5D%2C%20%5B37.79758%2C%20-80.67596999999998%2C%201.0%5D%2C%20%5B39.12322%2C%20-80.04167%2C%201.0%5D%2C%20%5B39.21433%2C%20-79.99758%2C%201.0%5D%2C%20%5B39.42666%2C%20-79.90162%2C%200.0%5D%2C%20%5B37.52122%2C%20-80.81466%2C%202.0%5D%2C%20%5B38.74455%2C%20-80.23563%2C%201.0%5D%2C%20%5B39.34488%2C%20-79.94344%2C%200.0%5D%2C%20%5B38.83182%2C%20-80.20034%2C%201.0%5D%2C%20%5B39.15572%2C%20-80.04302%2C%201.0%5D%2C%20%5B38.24658%2C%20-80.48209%2C%200.0%5D%2C%20%5B37.51463%2C%20-80.83764000000002%2C%202.0%5D%2C%20%5B39.15025%2C%20-80.06009%2C%202.0%5D%2C%20%5B38.09148%2C%20-80.57078%2C%202.0%5D%2C%20%5B39.50186%2C%20-79.55433000000002%2C%200.0%5D%2C%20%5B38.7946%2C%20-79.90267%2C%200.0%5D%2C%20%5B39.1779%2C%20-79.72379000000002%2C%200.0%5D%2C%20%5B38.76148%2C%20-79.92752%2C%202.0%5D%2C%20%5B38.92205%2C%20-79.84974%2C%202.0%5D%2C%20%5B38.49913%2C%20-80.05523000000002%2C%200.0%5D%2C%20%5B38.09922%2C%20-80.25074000000002%2C%201.0%5D%2C%20%5B39.01366%2C%20-79.81116%2C%201.0%5D%2C%20%5B39.01359%2C%20-79.81156%2C%200.0%5D%2C%20%5B39.01385%2C%20-79.81144%2C%201.0%5D%2C%20%5B38.93673%2C%20-79.85379%2C%200.0%5D%2C%20%5B38.73474%2C%20-79.95259%2C%201.0%5D%2C%20%5B38.99564%2C%20-79.82595%2C%201.0%5D%2C%20%5B38.9954%2C%20-79.82618000000002%2C%201.0%5D%2C%20%5B38.57146%2C%20-80.03249%2C%201.0%5D%2C%20%5B39.1186%2C%20-79.77%2C%200.0%5D%2C%20%5B38.99375%2C%20-79.83115%2C%201.0%5D%2C%20%5B38.99401%2C%20-79.83106%2C%201.0%5D%2C%20%5B38.54855%2C%20-80.0476%2C%201.0%5D%2C%20%5B38.9497%2C%20-79.85885999999998%2C%200.0%5D%2C%20%5B38.97622%2C%20-79.84643%2C%202.0%5D%2C%20%5B39.12221%2C%20-79.7752%2C%201.0%5D%2C%20%5B38.97653%2C%20-79.84646%2C%201.0%5D%2C%20%5B39.19903%2C%20-79.74051%2C%201.0%5D%2C%20%5B38.95243%2C%20-79.86126999999998%2C%201.0%5D%2C%20%5B38.95252%2C%20-79.86163%2C%201.0%5D%2C%20%5B38.85064000000001%2C%20-79.91135%2C%202.0%5D%2C%20%5B39.28871%2C%20-79.7041%2C%201.0%5D%2C%20%5B37.95492%2C%20-80.3482%2C%200.0%5D%2C%20%5B39.12301%2C%20-79.78621%2C%201.0%5D%2C%20%5B38.93675%2C%20-79.87765999999998%2C%200.0%5D%2C%20%5B38.94836%2C%20-79.88031%2C%201.0%5D%2C%20%5B39.65797%2C%20-79.53303000000002%2C%202.0%5D%2C%20%5B38.73554%2C%20-79.98637%2C%200.0%5D%2C%20%5B39.23681%2C%20-79.74396999999998%2C%201.0%5D%2C%20%5B37.81972%2C%20-80.43628000000002%2C%200.0%5D%2C%20%5B37.98925%2C%20-80.3564%2C%201.0%5D%2C%20%5B38.12781%2C%20-80.29109%2C%202.0%5D%2C%20%5B37.53194000000001%2C%20-80.34718000000002%2C%200.0%5D%2C%20%5B39.31874000000001%2C%20-79.48834000000002%2C%200.0%5D%2C%20%5B38.33171%2C%20-79.9691%2C%201.0%5D%2C%20%5B38.33341%2C%20-79.96996%2C%201.0%5D%2C%20%5B38.11404%2C%20-80.0934%2C%200.0%5D%2C%20%5B38.91047%2C%20-79.71154%2C%202.0%5D%2C%20%5B39.3311%2C%20-79.5092%2C%201.0%5D%2C%20%5B39.21913%2C%20-79.56736%2C%202.0%5D%2C%20%5B39.22219000000001%2C%20-79.56634%2C%200.0%5D%2C%20%5B38.61177%2C%20-79.87467%2C%202.0%5D%2C%20%5B37.90977%2C%20-80.21137%2C%201.0%5D%2C%20%5B38.59526%2C%20-79.88391%2C%200.0%5D%2C%20%5B37.76893%2C%20-80.27926%2C%201.0%5D%2C%20%5B37.84456%2C%20-80.25234%2C%201.0%5D%2C%20%5B37.83706%2C%20-80.25641%2C%201.0%5D%2C%20%5B37.48812%2C%20-80.42113%2C%201.0%5D%2C%20%5B37.91621%2C%20-80.22155%2C%200.0%5D%2C%20%5B37.79163%2C%20-80.29290999999998%2C%201.0%5D%2C%20%5B37.79178%2C%20-80.29309%2C%201.0%5D%2C%20%5B37.46771%2C%20-80.44494%2C%201.0%5D%2C%20%5B37.79058%2C%20-80.29417%2C%202.0%5D%2C%20%5B38.23816%2C%20-80.08617%2C%201.0%5D%2C%20%5B37.82684%2C%20-80.28229%2C%200.0%5D%2C%20%5B38.88254000000001%2C%20-79.77645%2C%201.0%5D%2C%20%5B39.14871%2C%20-79.64659%2C%201.0%5D%2C%20%5B37.79349000000001%2C%20-80.30457%2C%201.0%5D%2C%20%5B39.09749%2C%20-79.67818%2C%201.0%5D%2C%20%5B38.87613%2C%20-79.78718%2C%201.0%5D%2C%20%5B38.91318%2C%20-79.77027%2C%201.0%5D%2C%20%5B38.1861%2C%20-80.131%2C%200.0%5D%2C%20%5B38.39464%2C%20-80.03147%2C%201.0%5D%2C%20%5B38.77551%2C%20-79.84778%2C%202.0%5D%2C%20%5B38.24919000000001%2C%20-80.10177%2C%202.0%5D%2C%20%5B38.11734000000001%2C%20-80.17412%2C%201.0%5D%2C%20%5B38.95735%2C%20-79.76973000000002%2C%201.0%5D%2C%20%5B38.82129000000001%2C%20-79.83735%2C%200.0%5D%2C%20%5B37.92193%2C%20-80.26845%2C%202.0%5D%2C%20%5B38.96611%2C%20-79.76735%2C%200.0%5D%2C%20%5B39.06161%2C%20-80.10516%2C%201.0%5D%2C%20%5B38.96329%2C%20-80.15373000000002%2C%201.0%5D%2C%20%5B37.88248%2C%20-80.6787%2C%200.0%5D%2C%20%5B39.00556%2C%20-80.14237%2C%201.0%5D%2C%20%5B37.88316%2C%20-80.67935%2C%201.0%5D%2C%20%5B39.00569%2C%20-80.14271%2C%201.0%5D%2C%20%5B38.22986%2C%20-80.5243%2C%201.0%5D%2C%20%5B37.91383%2C%20-80.6737%2C%201.0%5D%2C%20%5B39.12149%2C%20-80.0953%2C%201.0%5D%2C%20%5B38.22278%2C%20-80.52868000000002%2C%201.0%5D%2C%20%5B37.33579%2C%20-80.95059%2C%202.0%5D%2C%20%5B39.38071%2C%20-79.9759%2C%201.0%5D%2C%20%5B39.42301%2C%20-79.95539000000002%2C%201.0%5D%2C%20%5B37.86127000000001%2C%20-80.71499%2C%200.0%5D%2C%20%5B37.8567%2C%20-80.71735%2C%200.0%5D%2C%20%5B39.13818%2C%20-80.10392%2C%201.0%5D%2C%20%5B37.34317%2C%20-80.95671%2C%202.0%5D%2C%20%5B37.34327%2C%20-80.95669000000002%2C%201.0%5D%2C%20%5B39.0778%2C%20-80.13752%2C%201.0%5D%2C%20%5B37.84904%2C%20-80.72577%2C%200.0%5D%2C%20%5B39.71883%2C%20-79.82242%2C%201.0%5D%2C%20%5B38.20512%2C%20-80.55802%2C%201.0%5D%2C%20%5B39.6715%2C%20-79.851%2C%201.0%5D%2C%20%5B39.67574000000001%2C%20-79.84894%2C%200.0%5D%2C%20%5B37.97075%2C%20-80.67453%2C%201.0%5D%2C%20%5B37.9583%2C%20-80.6834%2C%201.0%5D%2C%20%5B39.1034%2C%20-80.135%2C%201.0%5D%2C%20%5B38.01826%2C%20-80.65599%2C%202.0%5D%2C%20%5B38.85392%2C%20-80.25841%2C%201.0%5D%2C%20%5B39.374%2C%20-80.00469%2C%200.0%5D%2C%20%5B38.88132%2C%20-80.24873000000002%2C%202.0%5D%2C%20%5B39.29657%2C%20-80.04647%2C%201.0%5D%2C%20%5B37.34721%2C%20-80.97457%2C%202.0%5D%2C%20%5B39.33989%2C%20-80.02545%2C%201.0%5D%2C%20%5B38.62021%2C%20-80.38245%2C%202.0%5D%2C%20%5B38.12274%2C%20-80.61969%2C%202.0%5D%2C%20%5B39.32087%2C%20-79.71413000000003%2C%200.0%5D%2C%20%5B38.53705%2C%20-80.11222%2C%201.0%5D%2C%20%5B39.58856%2C%20-79.59846999999998%2C%200.0%5D%2C%20%5B37.97677%2C%20-80.38005%2C%200.0%5D%2C%20%5B39.49472%2C%20-79.6452%2C%201.0%5D%2C%20%5B37.4996%2C%20-80.60467%2C%201.0%5D%2C%20%5B39.48666%2C%20-79.66089000000002%2C%201.0%5D%2C%20%5B37.52671%2C%20-80.60316%2C%201.0%5D%2C%20%5B38.33227%2C%20-80.22414%2C%201.0%5D%2C%20%5B39.55001%2C%20-79.63159%2C%201.0%5D%2C%20%5B37.71422000000001%2C%20-80.5236%2C%201.0%5D%2C%20%5B38.53907%2C%20-80.13251%2C%200.0%5D%2C%20%5B38.01495%2C%20-80.38254%2C%202.0%5D%2C%20%5B39.49108%2C%20-79.66893%2C%200.0%5D%2C%20%5B39.64395%2C%20-79.60278000000002%2C%202.0%5D%2C%20%5B38.53678%2C%20-80.14536%2C%200.0%5D%2C%20%5B38.74624%2C%20-80.0454%2C%201.0%5D%2C%20%5B39.4589%2C%20-79.6981%2C%202.0%5D%2C%20%5B39.62729%2C%20-79.90378%2C%201.0%5D%2C%20%5B39.16442%2C%20-80.13193000000003%2C%201.0%5D%2C%20%5B39.6466%2C%20-79.8946%2C%201.0%5D%2C%20%5B39.00567%2C%20-80.20968%2C%201.0%5D%2C%20%5B38.22936%2C%20-80.58327%2C%200.0%5D%2C%20%5B38.38727%2C%20-80.51077%2C%201.0%5D%2C%20%5B38.65282%2C%20-80.38369%2C%201.0%5D%2C%20%5B39.21861%2C%20-80.10951999999997%2C%201.0%5D%2C%20%5B38.22084%2C%20-80.59065%2C%200.0%5D%2C%20%5B39.1012%2C%20-80.1728%2C%200.0%5D%2C%20%5B39.59255%2C%20-79.93174%2C%202.0%5D%2C%20%5B39.5805%2C%20-79.93781%2C%201.0%5D%2C%20%5B39.61129%2C%20-79.92291%2C%201.0%5D%2C%20%5B39.33737%2C%20-80.06214%2C%201.0%5D%2C%20%5B39.34438%2C%20-80.05877%2C%200.0%5D%2C%20%5B39.15983%2C%20-80.14931999999997%2C%200.0%5D%2C%20%5B39.58272%2C%20-79.9414%2C%201.0%5D%2C%20%5B39.04222%2C%20-80.46619%2C%202.0%5D%2C%20%5B39.00142%2C%20-80.23245%2C%201.0%5D%2C%20%5B39.00163%2C%20-80.23241%2C%201.0%5D%2C%20%5B39.61196%2C%20-79.93329%2C%201.0%5D%2C%20%5B38.65849%2C%20-80.39913%2C%202.0%5D%2C%20%5B38.55978%2C%20-80.45143%2C%202.0%5D%2C%20%5B39.5361%2C%20-79.97626%2C%201.0%5D%2C%20%5B39.53532%2C%20-79.97705%2C%200.0%5D%2C%20%5B38.80315%2C%20-80.33828000000003%2C%200.0%5D%2C%20%5B39.62882000000001%2C%20-79.93459%2C%201.0%5D%2C%20%5B39.48676%2C%20-80.00528%2C%200.0%5D%2C%20%5B37.65308%2C%20-80.88449%2C%200.0%5D%2C%20%5B37.80672%2C%20-80.81705%2C%201.0%5D%2C%20%5B37.80414%2C%20-80.81954%2C%201.0%5D%2C%20%5B37.80435%2C%20-80.81967%2C%201.0%5D%2C%20%5B37.42601%2C%20-80.99589%2C%201.0%5D%2C%20%5B38.81972%2C%20-80.33782%2C%200.0%5D%2C%20%5B39.43816%2C%20-80.04231999999998%2C%200.0%5D%2C%20%5B39.53761%2C%20-79.99331%2C%202.0%5D%2C%20%5B37.3139%2C%20-81.05447%2C%201.0%5D%2C%20%5B38.41143%2C%20-80.54023000000002%2C%201.0%5D%2C%20%5B39.44162%2C%20-80.0441%2C%200.0%5D%2C%20%5B38.05405%2C%20-80.71307%2C%201.0%5D%2C%20%5B37.96546%2C%20-80.75513000000002%2C%201.0%5D%2C%20%5B39.2657%2C%20-80.13105%2C%200.0%5D%2C%20%5B39.44665%2C%20-80.04619%2C%202.0%5D%2C%20%5B39.00305%2C%20-80.2634%2C%201.0%5D%2C%20%5B37.98617%2C%20-80.7497%2C%201.0%5D%2C%20%5B37.67295%2C%20-80.89650999999998%2C%200.0%5D%2C%20%5B37.67294%2C%20-80.89718%2C%201.0%5D%2C%20%5B39.61034%2C%20-79.9695%2C%201.0%5D%2C%20%5B39.35495%2C%20-80.0969%2C%201.0%5D%2C%20%5B37.33899%2C%20-81.06062%2C%201.0%5D%2C%20%5B38.40177%2C%20-80.56274%2C%201.0%5D%2C%20%5B39.34083%2C%20-80.1085%2C%201.0%5D%2C%20%5B37.33909%2C%20-81.06090999999998%2C%201.0%5D%2C%20%5B38.68877%2C%20-80.43335%2C%202.0%5D%2C%20%5B38.47405%2C%20-80.53683000000002%2C%201.0%5D%2C%20%5B38.60187%2C%20-79.25718%2C%201.0%5D%2C%20%5B39.00289%2C%20-79.07925%2C%201.0%5D%2C%20%5B38.95484%2C%20-79.10516%2C%201.0%5D%2C%20%5B39.62173%2C%20-78.77367%2C%200.0%5D%2C%20%5B38.50099%2C%20-79.32799%2C%201.0%5D%2C%20%5B38.21954%2C%20-80.31141%2C%200.0%5D%2C%20%5B38.97937%2C%20-79.95045%2C%202.0%5D%2C%20%5B37.5612%2C%20-80.62649%2C%200.0%5D%2C%20%5B39.19845%2C%20-79.84572%2C%201.0%5D%2C%20%5B39.06165%2C%20-79.921%2C%200.0%5D%2C%20%5B39.05889000000001%2C%20-79.92238%2C%200.0%5D%2C%20%5B37.52866%2C%20-80.655%2C%201.0%5D%2C%20%5B39.29813%2C%20-79.8091%2C%200.0%5D%2C%20%5B39.3369%2C%20-79.7954%2C%200.0%5D%2C%20%5B39.65474%2C%20-79.63793000000003%2C%201.0%5D%2C%20%5B38.2042%2C%20-80.3441%2C%201.0%5D%2C%20%5B39.1554%2C%20-79.88505%2C%201.0%5D%2C%20%5B38.07949%2C%20-80.4069%2C%201.0%5D%2C%20%5B38.08154%2C%20-80.40597%2C%201.0%5D%2C%20%5B37.53943%2C%20-80.66059%2C%201.0%5D%2C%20%5B37.94358%2C%20-80.47152%2C%200.0%5D%2C%20%5B39.33693%2C%20-79.80056%2C%200.0%5D%2C%20%5B37.98734%2C%20-80.46065%2C%201.0%5D%2C%20%5B39.70734%2C%20-79.62611%2C%202.0%5D%2C%20%5B39.3271%2C%20-79.8147%2C%201.0%5D%2C%20%5B39.39003%2C%20-79.79337%2C%202.0%5D%2C%20%5B39.17157%2C%20-79.90118000000002%2C%201.0%5D%2C%20%5B39.33411%2C%20-79.82240999999998%2C%200.0%5D%2C%20%5B39.32994%2C%20-79.82451%2C%202.0%5D%2C%20%5B39.29821%2C%20-79.85002%2C%201.0%5D%2C%20%5B38.02524%2C%20-80.46462%2C%201.0%5D%2C%20%5B39.36044%2C%20-79.82054000000002%2C%200.0%5D%2C%20%5B39.17972%2C%20-79.90949%2C%201.0%5D%2C%20%5B39.61023%2C%20-79.70714%2C%202.0%5D%2C%20%5B37.55352%2C%20-80.69654%2C%202.0%5D%2C%20%5B39.29331%2C%20-79.8644%2C%200.0%5D%2C%20%5B39.29004000000001%2C%20-79.86701%2C%201.0%5D%2C%20%5B37.76694000000001%2C%20-80.35593%2C%200.0%5D%2C%20%5B38.65413%2C%20-79.93443%2C%200.0%5D%2C%20%5B37.77078%2C%20-80.35631%2C%201.0%5D%2C%20%5B37.77097%2C%20-80.35632%2C%201.0%5D%2C%20%5B38.61749%2C%20-79.96717%2C%201.0%5D%2C%20%5B39.41943%2C%20-79.57605%2C%201.0%5D%2C%20%5B39.1683%2C%20-79.7016%2C%201.0%5D%2C%20%5B37.94319%2C%20-80.8014%2C%200.0%5D%2C%20%5B37.35067%2C%20-81.07701999999998%2C%202.0%5D%2C%20%5B39.62883%2C%20-79.98848000000002%2C%202.0%5D%2C%20%5B39.16679%2C%20-80.21710999999998%2C%201.0%5D%2C%20%5B39.63391%2C%20-79.99327%2C%200.0%5D%2C%20%5B38.3592%2C%20-80.61232%2C%200.0%5D%2C%20%5B39.13409%2C%20-80.23933000000002%2C%200.0%5D%2C%20%5B37.76948%2C%20-80.89188%2C%201.0%5D%2C%20%5B39.54721%2C%20-80.04271999999997%2C%201.0%5D%2C%20%5B37.77882%2C%20-80.89241%2C%201.0%5D%2C%20%5B37.78289%2C%20-80.89058%2C%201.0%5D%2C%20%5B37.85953%2C%20-80.85479000000002%2C%201.0%5D%2C%20%5B37.78319000000001%2C%20-80.89062%2C%201.0%5D%2C%20%5B37.92092%2C%20-80.82970999999998%2C%201.0%5D%2C%20%5B37.37108%2C%20-81.0854%2C%202.0%5D%2C%20%5B37.78079%2C%20-80.89544000000002%2C%202.0%5D%2C%20%5B39.68429%2C%20-79.97889%2C%200.0%5D%2C%20%5B39.5047%2C%20-80.0708%2C%202.0%5D%2C%20%5B39.15663%2C%20-80.24193000000002%2C%202.0%5D%2C%20%5B39.61629%2C%20-80.01632%2C%202.0%5D%2C%20%5B38.67991%2C%20-80.47318%2C%201.0%5D%2C%20%5B37.78124%2C%20-80.90127%2C%201.0%5D%2C%20%5B37.78125%2C%20-80.90131%2C%201.0%5D%2C%20%5B37.42497%2C%20-81.06701%2C%201.0%5D%2C%20%5B39.50925%2C%20-80.0719%2C%201.0%5D%2C%20%5B37.39663%2C%20-81.08403%2C%202.0%5D%2C%20%5B39.66099000000001%2C%20-80.00093000000003%2C%202.0%5D%2C%20%5B39.51895%2C%20-80.07133%2C%200.0%5D%2C%20%5B39.51891%2C%20-80.07167%2C%200.0%5D%2C%20%5B37.61635%2C%20-80.98597%2C%201.0%5D%2C%20%5B39.48903%2C%20-80.08954%2C%202.0%5D%2C%20%5B38.16768%2C%20-80.59845%2C%201.0%5D%2C%20%5B39.01277%2C%20-80.1929%2C%201.0%5D%2C%20%5B39.1312%2C%20-80.1438%2C%200.0%5D%2C%20%5B38.90098%2C%20-80.25603000000002%2C%200.0%5D%2C%20%5B38.98219%2C%20-80.21668000000003%2C%201.0%5D%2C%20%5B39.58769%2C%20-79.91975%2C%200.0%5D%2C%20%5B37.49333%2C%20-81.09431%2C%202.0%5D%2C%20%5B37.49262%2C%20-81.095%2C%202.0%5D%2C%20%5B39.36988%2C%20-80.20071%2C%201.0%5D%2C%20%5B38.26241%2C%20-80.73523%2C%200.0%5D%2C%20%5B39.37151%2C%20-80.20379%2C%201.0%5D%2C%20%5B39.43527%2C%20-80.17279%2C%200.0%5D%2C%20%5B37.44469%2C%20-81.12175%2C%201.0%5D%2C%20%5B39.39333%2C%20-80.1936%2C%200.0%5D%2C%20%5B39.28691%2C%20-80.24854%2C%200.0%5D%2C%20%5B38.67082%2C%20-80.54758000000002%2C%202.0%5D%2C%20%5B39.39301%2C%20-80.19700999999998%2C%200.0%5D%2C%20%5B39.27603%2C%20-80.25501%2C%202.0%5D%2C%20%5B38.85839%2C%20-80.46065%2C%201.0%5D%2C%20%5B38.86683%2C%20-80.45770999999998%2C%200.0%5D%2C%20%5B38.8668%2C%20-80.45773%2C%202.0%5D%2C%20%5B38.9403%2C%20-80.42246%2C%201.0%5D%2C%20%5B37.93943%2C%20-80.90363%2C%201.0%5D%2C%20%5B39.39281%2C%20-80.20638000000002%2C%201.0%5D%2C%20%5B39.58664%2C%20-80.1109%2C%201.0%5D%2C%20%5B37.44173%2C%20-81.13564000000002%2C%202.0%5D%2C%20%5B38.97071%2C%20-80.41686999999997%2C%201.0%5D%2C%20%5B37.92547%2C%20-80.91525%2C%201.0%5D%2C%20%5B39.41795%2C%20-80.19912%2C%200.0%5D%2C%20%5B39.42276%2C%20-80.19809000000002%2C%201.0%5D%2C%20%5B39.22121%2C%20-80.30155%2C%201.0%5D%2C%20%5B37.50477%2C%20-81.11748%2C%201.0%5D%2C%20%5B39.22148%2C%20-80.30169000000002%2C%202.0%5D%2C%20%5B37.76798%2C%20-80.9983%2C%201.0%5D%2C%20%5B39.31099%2C%20-80.26114%2C%201.0%5D%2C%20%5B37.52967%2C%20-81.10937%2C%202.0%5D%2C%20%5B39.48922%2C%20-80.08955%2C%202.0%5D%2C%20%5B39.66103%2C%20-80.00484%2C%202.0%5D%2C%20%5B39.3577%2C%20-80.15934%2C%202.0%5D%2C%20%5B39.61976%2C%20-80.03062%2C%201.0%5D%2C%20%5B39.52907%2C%20-80.07614000000002%2C%200.0%5D%2C%20%5B39.49532%2C%20-80.09357%2C%202.0%5D%2C%20%5B39.26592%2C%20-80.21175%2C%201.0%5D%2C%20%5B38.91719000000001%2C%20-80.3816%2C%201.0%5D%2C%20%5B39.12367%2C%20-80.28142%2C%201.0%5D%2C%20%5B37.30955%2C%20-81.14058%2C%201.0%5D%2C%20%5B37.29274%2C%20-81.14864%2C%202.0%5D%2C%20%5B39.66703%2C%20-80.01834000000002%2C%201.0%5D%2C%20%5B37.32267%2C%20-81.13855%2C%201.0%5D%2C%20%5B39.6681%2C%20-80.0182%2C%200.0%5D%2C%20%5B39.1322%2C%20-80.28164%2C%200.0%5D%2C%20%5B37.4792%2C%20-81.07129%2C%200.0%5D%2C%20%5B39.5147%2C%20-80.0989%2C%201.0%5D%2C%20%5B39.47209%2C%20-80.12069%2C%201.0%5D%2C%20%5B39.47227%2C%20-80.12082%2C%202.0%5D%2C%20%5B39.6686%2C%20-80.0297%2C%202.0%5D%2C%20%5B37.81336%2C%20-80.92308%2C%201.0%5D%2C%20%5B38.51931%2C%20-80.58977%2C%202.0%5D%2C%20%5B37.33577%2C%20-81.15016%2C%201.0%5D%2C%20%5B39.46437%2C%20-80.13663000000003%2C%200.0%5D%2C%20%5B37.54584000000001%2C%20-81.05343%2C%201.0%5D%2C%20%5B38.34008%2C%20-80.68077%2C%200.0%5D%2C%20%5B39.3531%2C%20-80.1963%2C%201.0%5D%2C%20%5B38.8962%2C%20-80.4189%2C%202.0%5D%2C%20%5B39.05147%2C%20-80.34369000000002%2C%200.0%5D%2C%20%5B39.45696%2C%20-80.14538%2C%201.0%5D%2C%20%5B39.48238%2C%20-80.14036%2C%201.0%5D%2C%20%5B39.03639%2C%20-80.35893%2C%201.0%5D%2C%20%5B39.36549%2C%20-80.19881%2C%201.0%5D%2C%20%5B38.38871%2C%20-80.67168000000002%2C%200.0%5D%2C%20%5B38.50122%2C%20-80.76334%2C%201.0%5D%2C%20%5B38.34786%2C%20-80.83639000000002%2C%201.0%5D%2C%20%5B38.36925%2C%20-80.82693%2C%200.0%5D%2C%20%5B39.11772%2C%20-79.96011999999997%2C%202.0%5D%2C%20%5B39.43352%2C%20-79.80556999999997%2C%201.0%5D%2C%20%5B37.76175%2C%20-80.61026%2C%202.0%5D%2C%20%5B39.29173%2C%20-79.87677%2C%201.0%5D%2C%20%5B39.14469%2C%20-79.96018000000002%2C%201.0%5D%2C%20%5B39.33304%2C%20-79.86864%2C%200.0%5D%2C%20%5B37.87963%2C%20-80.56831%2C%201.0%5D%2C%20%5B38.49379%2C%20-80.27701%2C%201.0%5D%2C%20%5B38.47294%2C%20-80.29388%2C%202.0%5D%2C%20%5B39.38749%2C%20-79.84992%2C%201.0%5D%2C%20%5B37.39714%2C%20-80.80131%2C%200.0%5D%2C%20%5B37.41258%2C%20-80.7944%2C%201.0%5D%2C%20%5B39.59476%2C%20-79.74826999999998%2C%202.0%5D%2C%20%5B39.21794000000001%2C%20-79.93833000000002%2C%200.0%5D%2C%20%5B39.45394%2C%20-79.82247%2C%202.0%5D%2C%20%5B39.45223%2C%20-79.82334%2C%200.0%5D%2C%20%5B39.28847%2C%20-79.90429%2C%201.0%5D%2C%20%5B39.3184%2C%20-79.89556999999998%2C%200.0%5D%2C%20%5B38.48655%2C%20-80.29984%2C%201.0%5D%2C%20%5B37.77029%2C%20-80.64025%2C%201.0%5D%2C%20%5B37.42257%2C%20-80.80226%2C%201.0%5D%2C%20%5B39.58534%2C%20-79.77218%2C%200.0%5D%2C%20%5B38.83977%2C%20-80.13839%2C%202.0%5D%2C%20%5B39.4061%2C%20-79.8617%2C%200.0%5D%2C%20%5B39.4984%2C%20-79.81783%2C%201.0%5D%2C%20%5B39.18331%2C%20-79.97511999999998%2C%201.0%5D%2C%20%5B39.5289%2C%20-79.80528000000002%2C%201.0%5D%2C%20%5B39.40417%2C%20-79.86698%2C%202.0%5D%2C%20%5B39.44037%2C%20-79.84953%2C%201.0%5D%2C%20%5B37.35767%2C%20-81.23111%2C%201.0%5D%2C%20%5B37.37318%2C%20-81.22405%2C%201.0%5D%2C%20%5B38.00428%2C%20-80.93544%2C%202.0%5D%2C%20%5B39.10771%2C%20-80.4084%2C%201.0%5D%2C%20%5B38.78373%2C%20-80.56521%2C%201.0%5D%2C%20%5B39.109%2C%20-80.40805999999998%2C%201.0%5D%2C%20%5B37.6384%2C%20-81.10959%2C%201.0%5D%2C%20%5B39.22921%2C%20-80.35256%2C%202.0%5D%2C%20%5B39.44929000000001%2C%20-80.24481%2C%200.0%5D%2C%20%5B39.01366%2C%20-80.40664%2C%201.0%5D%2C%20%5B39.01364%2C%20-80.40685%2C%201.0%5D%2C%20%5B39.5039%2C%20-80.1726%2C%200.0%5D%2C%20%5B38.19447%2C%20-80.80492%2C%201.0%5D%2C%20%5B39.27855%2C%20-80.28416999999997%2C%202.0%5D%2C%20%5B39.2602%2C%20-80.29839%2C%200.0%5D%2C%20%5B37.50446%2C%20-81.13369%2C%202.0%5D%2C%20%5B39.44046%2C%20-80.21049000000002%2C%200.0%5D%2C%20%5B39.02296%2C%20-80.41513%2C%201.0%5D%2C%20%5B39.16034000000001%2C%20-80.35358000000002%2C%201.0%5D%2C%20%5B37.44721%2C%20-81.16635%2C%201.0%5D%2C%20%5B39.2634%2C%20-80.3037%2C%200.0%5D%2C%20%5B39.16182%2C%20-80.35338%2C%202.0%5D%2C%20%5B37.70401%2C%20-81.05255%2C%201.0%5D%2C%20%5B39.26514%2C%20-80.30813%2C%200.0%5D%2C%20%5B39.5524%2C%20-80.1672%2C%201.0%5D%2C%20%5B38.88977%2C%20-80.49086%2C%201.0%5D%2C%20%5B39.49971%2C%20-80.19596999999997%2C%202.0%5D%2C%20%5B38.77484000000001%2C%20-80.54895%2C%202.0%5D%2C%20%5B38.67546%2C%20-80.59675%2C%201.0%5D%2C%20%5B37.8829%2C%20-80.97251%2C%202.0%5D%2C%20%5B37.65508%2C%20-81.08279%2C%202.0%5D%2C%20%5B39.68565%2C%20-80.10944%2C%200.0%5D%2C%20%5B37.58059%2C%20-81.11851%2C%201.0%5D%2C%20%5B39.49988%2C%20-80.20148%2C%201.0%5D%2C%20%5B39.21459%2C%20-80.34551%2C%202.0%5D%2C%20%5B38.10825%2C%20-80.87635%2C%200.0%5D%2C%20%5B37.6523%2C%20-81.08986%2C%201.0%5D%2C%20%5B39.4723%2C%20-80.2198%2C%200.0%5D%2C%20%5B39.7057%2C%20-80.10465%2C%200.0%5D%2C%20%5B37.7684%2C%20-81.04%2C%201.0%5D%2C%20%5B37.33015%2C%20-81.24287%2C%202.0%5D%2C%20%5B38.28578%2C%20-80.94932%2C%202.0%5D%2C%20%5B37.78835%2C%20-81.18321%2C%201.0%5D%2C%20%5B39.52952%2C%20-80.34996%2C%200.0%5D%2C%20%5B38.68305%2C%20-80.76106999999998%2C%201.0%5D%2C%20%5B38.68602%2C%20-80.76446%2C%201.0%5D%2C%20%5B38.3636%2C%20-80.58986999999998%2C%201.0%5D%2C%20%5B39.3709%2C%20-80.10347%2C%201.0%5D%2C%20%5B39.07236%2C%20-80.25591999999997%2C%201.0%5D%2C%20%5B37.302%2C%20-81.09395%2C%201.0%5D%2C%20%5B38.36597%2C%20-80.59794000000002%2C%201.0%5D%2C%20%5B39.2881%2C%20-80.53718%2C%201.0%5D%2C%20%5B38.89713%2C%20-80.72719000000002%2C%202.0%5D%2C%20%5B38.6554%2C%20-80.84366999999997%2C%201.0%5D%2C%20%5B37.65633%2C%20-81.3141%2C%202.0%5D%2C%20%5B37.41466%2C%20-81.42811999999998%2C%201.0%5D%2C%20%5B38.26237%2C%20-81.03327%2C%200.0%5D%2C%20%5B39.4072%2C%20-80.48291%2C%201.0%5D%2C%20%5B38.25956%2C%20-81.0348%2C%202.0%5D%2C%20%5B37.35736%2C%20-81.45824%2C%202.0%5D%2C%20%5B37.58595%2C%20-81.35307%2C%201.0%5D%2C%20%5B37.84397%2C%20-81.23363%2C%200.0%5D%2C%20%5B37.53353%2C%20-81.37756%2C%201.0%5D%2C%20%5B37.57047%2C%20-81.36428000000002%2C%201.0%5D%2C%20%5B39.3619%2C%20-80.5129%2C%201.0%5D%2C%20%5B37.32701%2C%20-81.47651%2C%202.0%5D%2C%20%5B38.63532%2C%20-80.8644%2C%201.0%5D%2C%20%5B38.80787%2C%20-80.78414000000002%2C%201.0%5D%2C%20%5B39.28092%2C%20-80.55521999999998%2C%200.0%5D%2C%20%5B37.84556%2C%20-81.23952%2C%202.0%5D%2C%20%5B39.40882%2C%20-80.49297%2C%201.0%5D%2C%20%5B38.89345%2C%20-80.74356%2C%201.0%5D%2C%20%5B38.88414%2C%20-80.75339%2C%201.0%5D%2C%20%5B39.18857%2C%20-80.60653%2C%201.0%5D%2C%20%5B38.44937%2C%20-80.96186999999998%2C%200.0%5D%2C%20%5B37.54113%2C%20-81.38718%2C%202.0%5D%2C%20%5B39.11178%2C%20-80.65316999999997%2C%201.0%5D%2C%20%5B38.95831%2C%20-80.72756%2C%201.0%5D%2C%20%5B38.91098%2C%20-80.75048000000002%2C%201.0%5D%2C%20%5B39.5419%2C%20-80.44351%2C%202.0%5D%2C%20%5B37.59411%2C%20-81.37804%2C%202.0%5D%2C%20%5B39.22746%2C%20-80.60370999999998%2C%201.0%5D%2C%20%5B39.04713%2C%20-80.69168%2C%200.0%5D%2C%20%5B38.61287%2C%20-80.65071%2C%201.0%5D%2C%20%5B38.93699%2C%20-80.49727%2C%201.0%5D%2C%20%5B39.48673%2C%20-80.22946%2C%200.0%5D%2C%20%5B39.03888%2C%20-80.44848%2C%200.0%5D%2C%20%5B38.73676%2C%20-80.59909%2C%202.0%5D%2C%20%5B37.65046%2C%20-81.11228%2C%201.0%5D%2C%20%5B39.06437%2C%20-80.44117%2C%202.0%5D%2C%20%5B37.42046%2C%20-81.49479000000002%2C%201.0%5D%2C%20%5B39.03656%2C%20-80.45935%2C%201.0%5D%2C%20%5B37.34658%2C%20-81.25778000000003%2C%200.0%5D%2C%20%5B39.515%2C%20-80.2259%2C%201.0%5D%2C%20%5B39.70902%2C%20-80.1301%2C%200.0%5D%2C%20%5B39.69058%2C%20-80.14384%2C%200.0%5D%2C%20%5B39.04194%2C%20-80.46183%2C%201.0%5D%2C%20%5B39.2844%2C%20-80.3441%2C%201.0%5D%2C%20%5B39.4236%2C%20-80.27600000000002%2C%201.0%5D%2C%20%5B37.77296%2C%20-81.06605%2C%201.0%5D%2C%20%5B39.455%2C%20-80.2646%2C%200.0%5D%2C%20%5B39.13446%2C%20-80.42155%2C%201.0%5D%2C%20%5B39.03878%2C%20-80.46815%2C%202.0%5D%2C%20%5B39.01717%2C%20-80.47864%2C%201.0%5D%2C%20%5B39.4724%2C%20-80.2595%2C%202.0%5D%2C%20%5B38.30684%2C%20-80.82247%2C%202.0%5D%2C%20%5B38.24038%2C%20-80.85421%2C%201.0%5D%2C%20%5B38.56833%2C%20-80.6983%2C%202.0%5D%2C%20%5B39.70844%2C%20-80.14608%2C%201.0%5D%2C%20%5B39.67668%2C%20-80.16229%2C%200.0%5D%2C%20%5B39.3485%2C%20-80.32431%2C%201.0%5D%2C%20%5B39.6574%2C%20-80.1723%2C%200.0%5D%2C%20%5B37.30539%2C%20-81.2967%2C%202.0%5D%2C%20%5B38.96323%2C%20-80.51531%2C%202.0%5D%2C%20%5B37.83183%2C%20-81.05331%2C%201.0%5D%2C%20%5B38.96351%2C%20-80.51546%2C%201.0%5D%2C%20%5B39.27327%2C%20-80.36811999999998%2C%200.0%5D%2C%20%5B37.37021%2C%20-81.27048%2C%201.0%5D%2C%20%5B39.27052%2C%20-80.36946999999998%2C%201.0%5D%2C%20%5B39.46117%2C%20-80.2768%2C%200.0%5D%2C%20%5B39.40246%2C%20-80.41741999999998%2C%201.0%5D%2C%20%5B39.26297%2C%20-80.48589%2C%201.0%5D%2C%20%5B38.67615%2C%20-80.77095%2C%202.0%5D%2C%20%5B38.66516%2C%20-80.78016%2C%201.0%5D%2C%20%5B38.07731%2C%20-81.05921%2C%202.0%5D%2C%20%5B39.59845%2C%20-80.3273%2C%200.0%5D%2C%20%5B37.81067%2C%20-81.18427%2C%201.0%5D%2C%20%5B39.57433%2C%20-80.34333000000002%2C%200.0%5D%2C%20%5B37.75857%2C%20-81.21266999999997%2C%201.0%5D%2C%20%5B39.15657%2C%20-80.54804%2C%202.0%5D%2C%20%5B38.09189%2C%20-81.05702%2C%201.0%5D%2C%20%5B37.7584%2C%20-81.21291%2C%201.0%5D%2C%20%5B37.50057%2C%20-81.33567%2C%202.0%5D%2C%20%5B37.76241%2C%20-81.21446999999998%2C%201.0%5D%2C%20%5B37.76228%2C%20-81.21467%2C%201.0%5D%2C%20%5B39.3478%2C%20-80.4587%2C%201.0%5D%2C%20%5B38.06482000000001%2C%20-81.07708000000002%2C%201.0%5D%2C%20%5B37.89901%2C%20-81.15483%2C%201.0%5D%2C%20%5B37.93254%2C%20-81.13946%2C%200.0%5D%2C%20%5B39.67995%2C%20-80.29942%2C%200.0%5D%2C%20%5B38.06564%2C%20-81.08022%2C%201.0%5D%2C%20%5B39.30471%2C%20-80.48695%2C%200.0%5D%2C%20%5B39.11895%2C%20-80.57779000000002%2C%202.0%5D%2C%20%5B39.0954%2C%20-80.58941%2C%201.0%5D%2C%20%5B38.0643%2C%20-81.08159%2C%200.0%5D%2C%20%5B37.77275%2C%20-81.22041999999998%2C%201.0%5D%2C%20%5B38.77403%2C%20-80.74755%2C%200.0%5D%2C%20%5B37.93377%2C%20-81.14609%2C%201.0%5D%2C%20%5B37.60746%2C%20-81.30066%2C%202.0%5D%2C%20%5B39.5205%2C%20-80.3889%2C%200.0%5D%2C%20%5B37.78047%2C%20-81.22121%2C%201.0%5D%2C%20%5B37.72246%2C%20-81.25198%2C%201.0%5D%2C%20%5B37.92884%2C%20-81.15603%2C%201.0%5D%2C%20%5B37.71882%2C%20-81.25406%2C%201.0%5D%2C%20%5B37.41643%2C%20-81.39395999999998%2C%201.0%5D%2C%20%5B37.33618%2C%20-81.43414%2C%200.0%5D%2C%20%5B39.42827%2C%20-80.29715%2C%200.0%5D%2C%20%5B39.34316%2C%20-80.33895%2C%201.0%5D%2C%20%5B38.58706%2C%20-80.70534%2C%202.0%5D%2C%20%5B39.29155%2C%20-80.36492%2C%202.0%5D%2C%20%5B38.94518%2C%20-80.53828%2C%201.0%5D%2C%20%5B39.04964%2C%20-80.48770999999998%2C%201.0%5D%2C%20%5B38.49823%2C%20-80.75350999999998%2C%202.0%5D%2C%20%5B39.09561%2C%20-80.46618000000002%2C%201.0%5D%2C%20%5B37.42686%2C%20-81.25591999999997%2C%202.0%5D%2C%20%5B38.49933%2C%20-80.75618%2C%201.0%5D%2C%20%5B37.30449%2C%20-81.31503000000002%2C%201.0%5D%2C%20%5B38.4994%2C%20-80.75639%2C%201.0%5D%2C%20%5B38.50106%2C%20-80.75561%2C%201.0%5D%2C%20%5B37.32485%2C%20-81.30931%2C%200.0%5D%2C%20%5B38.70311%2C%20-80.663%2C%201.0%5D%2C%20%5B39.70666%2C%20-80.17399%2C%201.0%5D%2C%20%5B38.70327%2C%20-80.6632%2C%202.0%5D%2C%20%5B38.02008%2C%20-81.22545%2C%201.0%5D%2C%20%5B39.47372%2C%20-80.52941%2C%200.0%5D%2C%20%5B39.03195%2C%20-80.74465%2C%200.0%5D%2C%20%5B38.01443%2C%20-81.62718000000002%2C%200.0%5D%2C%20%5B38.84982%2C%20-80.83933%2C%201.0%5D%2C%20%5B37.77345%2C%20-81.34794000000002%2C%200.0%5D%2C%20%5B38.61716%2C%20-80.95085%2C%201.0%5D%2C%20%5B38.61736%2C%20-80.95105%2C%201.0%5D%2C%20%5B39.27417%2C%20-80.63953000000002%2C%201.0%5D%2C%20%5B38.01764%2C%20-81.23951%2C%200.0%5D%2C%20%5B37.46304%2C%20-81.49676%2C%201.0%5D%2C%20%5B38.8721%2C%20-80.83440999999998%2C%201.0%5D%2C%20%5B38.61997%2C%20-80.95841%2C%202.0%5D%2C%20%5B38.87307%2C%20-80.8373%2C%201.0%5D%2C%20%5B39.36916%2C%20-80.59751999999997%2C%200.0%5D%2C%20%5B39.69948%2C%20-80.43553%2C%201.0%5D%2C%20%5B38.236%2C%20-81.1417%2C%200.0%5D%2C%20%5B38.06419%2C%20-81.2276%2C%201.0%5D%2C%20%5B38.2642%2C%20-81.1337%2C%201.0%5D%2C%20%5B37.45135%2C%20-81.51236%2C%201.0%5D%2C%20%5B37.44841%2C%20-81.51374%2C%201.0%5D%2C%20%5B37.60084000000001%2C%20-81.3797%2C%202.0%5D%2C%20%5B39.1512%2C%20-80.64543%2C%201.0%5D%2C%20%5B37.61159%2C%20-81.37498000000002%2C%201.0%5D%2C%20%5B37.61019%2C%20-81.37572%2C%202.0%5D%2C%20%5B39.04229%2C%20-80.70224%2C%201.0%5D%2C%20%5B37.4107%2C%20-81.47144%2C%201.0%5D%2C%20%5B39.00708%2C%20-80.71938%2C%201.0%5D%2C%20%5B38.45144000000001%2C%20-80.9865%2C%201.0%5D%2C%20%5B39.06407%2C%20-80.69714%2C%201.0%5D%2C%20%5B38.58592%2C%20-80.92723000000002%2C%201.0%5D%2C%20%5B37.41309%2C%20-81.47723%2C%201.0%5D%2C%20%5B39.55856%2C%20-80.45859%2C%200.0%5D%2C%20%5B37.87958%2C%20-81.26736%2C%201.0%5D%2C%20%5B39.23927%2C%20-80.62038000000003%2C%200.0%5D%2C%20%5B37.76825%2C%20-81.31991%2C%201.0%5D%2C%20%5B38.58296%2C%20-80.93781%2C%201.0%5D%2C%20%5B38.58702%2C%20-80.9361%2C%202.0%5D%2C%20%5B39.341%2C%20-80.57668000000002%2C%200.0%5D%2C%20%5B38.47347%2C%20-80.99465%2C%201.0%5D%2C%20%5B37.89802%2C%20-81.26552%2C%201.0%5D%2C%20%5B37.43088%2C%20-81.48228%2C%201.0%5D%2C%20%5B37.42623%2C%20-81.48839%2C%202.0%5D%2C%20%5B37.42333%2C%20-81.49056%2C%201.0%5D%2C%20%5B37.91325%2C%20-81.26406%2C%200.0%5D%2C%20%5B37.63815%2C%20-81.39274%2C%201.0%5D%2C%20%5B37.931%2C%20-81.26253%2C%201.0%5D%2C%20%5B39.36044%2C%20-80.58010999999998%2C%200.0%5D%2C%20%5B37.66644%2C%20-81.38578000000003%2C%202.0%5D%2C%20%5B37.91645%2C%20-81.26974%2C%201.0%5D%2C%20%5B39.28141%2C%20-80.69463%2C%200.0%5D%2C%20%5B37.41172%2C%20-81.57833000000002%2C%201.0%5D%2C%20%5B39.03155%2C%20-80.81586999999998%2C%201.0%5D%2C%20%5B38.24955%2C%20-81.19268000000002%2C%201.0%5D%2C%20%5B39.68016%2C%20-80.50333%2C%200.0%5D%2C%20%5B37.44379%2C%20-81.56755%2C%202.0%5D%2C%20%5B39.03828%2C%20-80.81669000000002%2C%201.0%5D%2C%20%5B38.35402%2C%20-81.14924%2C%201.0%5D%2C%20%5B39.14024000000001%2C%20-80.45657%2C%201.0%5D%2C%20%5B37.3884%2C%20-81.28826%2C%201.0%5D%2C%20%5B39.3804%2C%20-80.34239000000002%2C%201.0%5D%2C%20%5B39.67679%2C%20-80.19704%2C%200.0%5D%2C%20%5B37.74934%2C%20-81.12555%2C%201.0%5D%2C%20%5B37.34115%2C%20-81.31456%2C%201.0%5D%2C%20%5B37.70229000000001%2C%20-81.14794%2C%200.0%5D%2C%20%5B39.50588%2C%20-80.28538%2C%200.0%5D%2C%20%5B37.73716%2C%20-81.13601%2C%201.0%5D%2C%20%5B39.595%2C%20-80.2458%2C%202.0%5D%2C%20%5B39.5156%2C%20-80.28554%2C%202.0%5D%2C%20%5B39.66424%2C%20-80.21354000000002%2C%201.0%5D%2C%20%5B38.86874%2C%20-80.60707%2C%202.0%5D%2C%20%5B37.74726%2C%20-81.13843%2C%201.0%5D%2C%20%5B38.68829%2C%20-80.69527%2C%201.0%5D%2C%20%5B38.68847%2C%20-80.69532%2C%201.0%5D%2C%20%5B39.04868%2C%20-80.52181%2C%201.0%5D%2C%20%5B39.42148%2C%20-80.34493%2C%200.0%5D%2C%20%5B39.36385%2C%20-80.37366%2C%200.0%5D%2C%20%5B39.35886%2C%20-80.37645%2C%201.0%5D%2C%20%5B38.87198%2C%20-80.61322%2C%201.0%5D%2C%20%5B39.42853%2C%20-80.34845%2C%201.0%5D%2C%20%5B37.75414%2C%20-81.14926%2C%202.0%5D%2C%20%5B38.03191%2C%20-81.01973000000002%2C%200.0%5D%2C%20%5B38.66822%2C%20-80.71799%2C%200.0%5D%2C%20%5B38.56043%2C%20-80.77423%2C%200.0%5D%2C%20%5B39.14602%2C%20-80.49221%2C%201.0%5D%2C%20%5B38.9035%2C%20-80.61012%2C%201.0%5D%2C%20%5B38.56218%2C%20-80.77401%2C%201.0%5D%2C%20%5B38.9037%2C%20-80.61009%2C%201.0%5D%2C%20%5B38.65085%2C%20-80.73805%2C%201.0%5D%2C%20%5B39.14871%2C%20-80.49838000000003%2C%202.0%5D%2C%20%5B39.51781%2C%20-80.31876%2C%201.0%5D%2C%20%5B39.5231%2C%20-80.3163%2C%201.0%5D%2C%20%5B38.48505%2C%20-80.82439000000002%2C%201.0%5D%2C%20%5B37.72371%2C%20-81.18309%2C%201.0%5D%2C%20%5B37.75673%2C%20-81.16852%2C%201.0%5D%2C%20%5B37.7225%2C%20-81.18467%2C%201.0%5D%2C%20%5B39.47795%2C%20-80.34948%2C%201.0%5D%2C%20%5B38.49731%2C%20-80.82403000000002%2C%201.0%5D%2C%20%5B37.71017%2C%20-81.19451%2C%201.0%5D%2C%20%5B38.05762%2C%20-81.03246999999998%2C%200.0%5D%2C%20%5B38.8615%2C%20-80.65544%2C%201.0%5D%2C%20%5B38.86292%2C%20-80.6548%2C%202.0%5D%2C%20%5B37.62868%2C%20-81.23823%2C%201.0%5D%2C%20%5B39.14587%2C%20-80.51841%2C%202.0%5D%2C%20%5B39.36742%2C%20-80.41034%2C%202.0%5D%2C%20%5B38.84942%2C%20-80.66512%2C%201.0%5D%2C%20%5B38.85853%2C%20-80.66081%2C%201.0%5D%2C%20%5B39.71929%2C%20-80.24059%2C%200.0%5D%2C%20%5B39.5123%2C%20-80.343%2C%200.0%5D%2C%20%5B37.78961%2C%20-81.1734%2C%201.0%5D%2C%20%5B37.36899%2C%20-81.36820999999998%2C%201.0%5D%2C%20%5B39.7122%2C%20-80.25078%2C%200.0%5D%2C%20%5B39.22939%2C%20-80.48801%2C%200.0%5D%2C%20%5B39.53091%2C%20-80.3441%2C%201.0%5D%2C%20%5B38.30422%2C%20-80.93670999999998%2C%201.0%5D%2C%20%5B37.9335%2C%20-81.11159%2C%200.0%5D%2C%20%5B38.30271%2C%20-80.93791%2C%200.0%5D%2C%20%5B37.78744%2C%20-81.18070999999998%2C%201.0%5D%2C%20%5B37.82765%2C%20-81.47218000000002%2C%202.0%5D%2C%20%5B38.50242%2C%20-81.15619000000002%2C%200.0%5D%2C%20%5B39.03272%2C%20-80.90268%2C%201.0%5D%2C%20%5B37.94767%2C%20-81.41741999999998%2C%201.0%5D%2C%20%5B38.5035%2C%20-81.15632%2C%201.0%5D%2C%20%5B37.8407%2C%20-81.47369%2C%201.0%5D%2C%20%5B38.56898%2C%20-81.1315%2C%201.0%5D%2C%20%5B37.93721%2C%20-81.42928%2C%201.0%5D%2C%20%5B38.05334000000001%2C%20-81.3752%2C%201.0%5D%2C%20%5B38.18165%2C%20-81.31735%2C%202.0%5D%2C%20%5B38.18446%2C%20-81.3167%2C%201.0%5D%2C%20%5B38.68474000000001%2C%20-81.081%2C%200.0%5D%2C%20%5B37.73693%2C%20-81.52671%2C%202.0%5D%2C%20%5B37.84934000000001%2C%20-81.48005%2C%201.0%5D%2C%20%5B37.85081%2C%20-81.47954%2C%201.0%5D%2C%20%5B38.19091%2C%20-81.03692%2C%201.0%5D%2C%20%5B37.38622%2C%20-81.4113%2C%201.0%5D%2C%20%5B37.5935%2C%20-81.31613%2C%201.0%5D%2C%20%5B37.87088%2C%20-81.18932%2C%202.0%5D%2C%20%5B37.97983%2C%20-81.13861999999997%2C%201.0%5D%2C%20%5B39.5804%2C%20-80.37%2C%201.0%5D%2C%20%5B37.97639%2C%20-81.14054%2C%202.0%5D%2C%20%5B39.65534%2C%20-80.33747%2C%201.0%5D%2C%20%5B37.94122%2C%20-81.16108%2C%200.0%5D%2C%20%5B38.121%2C%20-81.07698%2C%201.0%5D%2C%20%5B37.57844%2C%20-81.33208%2C%201.0%5D%2C%20%5B38.12014%2C%20-81.07991%2C%201.0%5D%2C%20%5B37.60261%2C%20-81.32131%2C%201.0%5D%2C%20%5B37.34479%2C%20-81.44036%2C%202.0%5D%2C%20%5B37.83942%2C%20-81.21219%2C%202.0%5D%2C%20%5B37.68089000000001%2C%20-81.28995%2C%202.0%5D%2C%20%5B37.34441%2C%20-81.44530999999998%2C%202.0%5D%2C%20%5B37.40122%2C%20-81.41936%2C%201.0%5D%2C%20%5B37.67772%2C%20-81.29191%2C%202.0%5D%2C%20%5B37.83768%2C%20-81.2222%2C%201.0%5D%2C%20%5B39.33522%2C%20-80.50846999999997%2C%201.0%5D%2C%20%5B37.30478%2C%20-81.46984%2C%202.0%5D%2C%20%5B37.42434%2C%20-81.41518%2C%201.0%5D%2C%20%5B39.56477%2C%20-80.73374%2C%202.0%5D%2C%20%5B38.17316%2C%20-81.40103%2C%202.0%5D%2C%20%5B39.83683%2C%20-80.60025%2C%201.0%5D%2C%20%5B39.90671%2C%20-80.56568%2C%202.0%5D%2C%20%5B37.59097%2C%20-81.67834%2C%202.0%5D%2C%20%5B38.20477%2C%20-81.39307%2C%200.0%5D%2C%20%5B38.0792%2C%20-81.4519%2C%200.0%5D%2C%20%5B38.20881%2C%20-81.39152%2C%201.0%5D%2C%20%5B39.77281%2C%20-80.64596%2C%201.0%5D%2C%20%5B38.26300000000001%2C%20-81.37373000000002%2C%200.0%5D%2C%20%5B39.153%2C%20-80.94991%2C%202.0%5D%2C%20%5B37.69831%2C%20-81.63818%2C%201.0%5D%2C%20%5B39.93126%2C%20-80.56973%2C%200.0%5D%2C%20%5B37.32151%2C%20-81.81589%2C%200.0%5D%2C%20%5B38.82364000000001%2C%20-80.92564%2C%201.0%5D%2C%20%5B37.43979%2C%20-81.57555%2C%201.0%5D%2C%20%5B38.43144%2C%20-81.11346999999998%2C%200.0%5D%2C%20%5B37.26038%2C%20-81.65841%2C%201.0%5D%2C%20%5B39.06236%2C%20-80.81600999999998%2C%200.0%5D%2C%20%5B38.84258%2C%20-80.92195%2C%201.0%5D%2C%20%5B37.79918%2C%20-81.41513%2C%201.0%5D%2C%20%5B38.3588%2C%20-81.153%2C%201.0%5D%2C%20%5B39.6986%2C%20-80.50875%2C%200.0%5D%2C%20%5B38.25004000000001%2C%20-81.20707%2C%201.0%5D%2C%20%5B37.82603%2C%20-81.40653%2C%202.0%5D%2C%20%5B38.94786%2C%20-80.87643%2C%201.0%5D%2C%20%5B37.56858%2C%20-81.53245%2C%202.0%5D%2C%20%5B38.59803%2C%20-81.05036%2C%201.0%5D%2C%20%5B37.82455%2C%20-81.41436%2C%202.0%5D%2C%20%5B39.56835%2C%20-80.58248%2C%201.0%5D%2C%20%5B38.85148%2C%20-80.93670999999998%2C%201.0%5D%2C%20%5B38.85363%2C%20-80.93581%2C%202.0%5D%2C%20%5B37.68944000000001%2C%20-81.48447%2C%202.0%5D%2C%20%5B37.58701%2C%20-81.53237%2C%202.0%5D%2C%20%5B39.53455%2C%20-80.60989000000002%2C%201.0%5D%2C%20%5B37.59302%2C%20-81.53352%2C%201.0%5D%2C%20%5B38.00023%2C%20-81.34713%2C%201.0%5D%2C%20%5B37.60308%2C%20-81.53217%2C%201.0%5D%2C%20%5B39.70206%2C%20-80.53648000000003%2C%201.0%5D%2C%20%5B38.26956%2C%20-81.2275%2C%202.0%5D%2C%20%5B37.60676%2C%20-81.53686%2C%202.0%5D%2C%20%5B37.30509%2C%20-81.67533%2C%202.0%5D%2C%20%5B37.61763%2C%20-81.53508000000002%2C%201.0%5D%2C%20%5B37.61618%2C%20-81.53614%2C%202.0%5D%2C%20%5B39.39859000000001%2C%20-80.69001999999998%2C%200.0%5D%2C%20%5B38.97914%2C%20-80.8941%2C%201.0%5D%2C%20%5B38.7126%2C%20-81.02237%2C%200.0%5D%2C%20%5B38.02047%2C%20-81.35434000000002%2C%201.0%5D%2C%20%5B38.12661%2C%20-81.30473%2C%201.0%5D%2C%20%5B38.96029%2C%20-80.90856%2C%201.0%5D%2C%20%5B38.50569%2C%20-81.1261%2C%202.0%5D%2C%20%5B37.83644%2C%20-81.44381%2C%202.0%5D%2C%20%5B39.38896%2C%20-80.59612%2C%201.0%5D%2C%20%5B38.9378%2C%20-80.81648%2C%201.0%5D%2C%20%5B39.63045%2C%20-80.47918%2C%200.0%5D%2C%20%5B38.02008%2C%20-81.25338%2C%201.0%5D%2C%20%5B39.68332%2C%20-80.45984%2C%201.0%5D%2C%20%5B37.97676%2C%20-81.27949%2C%201.0%5D%2C%20%5B37.7792%2C%20-81.37194000000002%2C%201.0%5D%2C%20%5B37.21559%2C%20-81.63157%2C%202.0%5D%2C%20%5B39.05941%2C%20-80.76805%2C%201.0%5D%2C%20%5B37.9752%2C%20-81.28356%2C%202.0%5D%2C%20%5B38.16621%2C%20-81.19406%2C%202.0%5D%2C%20%5B37.97323%2C%20-81.28469%2C%201.0%5D%2C%20%5B37.37726%2C%20-81.56535%2C%201.0%5D%2C%20%5B38.90428%2C%20-80.84812%2C%202.0%5D%2C%20%5B39.20505%2C%20-80.70296%2C%201.0%5D%2C%20%5B39.28326%2C%20-80.66519%2C%201.0%5D%2C%20%5B38.2454%2C%20-81.1659%2C%202.0%5D%2C%20%5B38.18849%2C%20-81.19317%2C%202.0%5D%2C%20%5B37.26617%2C%20-81.62064000000002%2C%202.0%5D%2C%20%5B38.53364000000001%2C%20-81.03015%2C%202.0%5D%2C%20%5B37.26712%2C%20-81.62375%2C%202.0%5D%2C%20%5B38.37825%2C%20-81.10733%2C%201.0%5D%2C%20%5B38.2429%2C%20-81.1713%2C%200.0%5D%2C%20%5B39.24044%2C%20-80.69409%2C%201.0%5D%2C%20%5B39.08264000000001%2C%20-80.77085%2C%200.0%5D%2C%20%5B38.73599%2C%20-80.9412%2C%201.0%5D%2C%20%5B39.55387%2C%20-80.54472%2C%202.0%5D%2C%20%5B39.68963%2C%20-80.47821%2C%201.0%5D%2C%20%5B38.09335%2C%20-81.24625%2C%202.0%5D%2C%20%5B37.2477%2C%20-81.64079%2C%201.0%5D%2C%20%5B38.34909%2C%20-81.13042%2C%201.0%5D%2C%20%5B37.27895%2C%20-81.62808000000003%2C%201.0%5D%2C%20%5B38.10212%2C%20-81.2477%2C%201.0%5D%2C%20%5B37.89992%2C%20-81.34623%2C%201.0%5D%2C%20%5B39.08931%2C%20-80.7817%2C%201.0%5D%2C%20%5B38.98116%2C%20-80.83435%2C%201.0%5D%2C%20%5B38.56726%2C%20-81.03276%2C%201.0%5D%2C%20%5B37.82693%2C%20-81.38266999999998%2C%201.0%5D%2C%20%5B39.67948%2C%20-80.60516%2C%202.0%5D%2C%20%5B37.3399%2C%20-81.7159%2C%201.0%5D%2C%20%5B37.7399%2C%20-81.53591%2C%202.0%5D%2C%20%5B37.88923%2C%20-81.46676%2C%200.0%5D%2C%20%5B37.59515%2C%20-81.60322%2C%201.0%5D%2C%20%5B37.95152%2C%20-81.43833000000002%2C%201.0%5D%2C%20%5B38.40568%2C%20-81.22979000000002%2C%202.0%5D%2C%20%5B37.60709%2C%20-81.60259%2C%201.0%5D%2C%20%5B39.27754%2C%20-80.81212%2C%202.0%5D%2C%20%5B38.08256%2C%20-81.38214%2C%201.0%5D%2C%20%5B39.61874%2C%20-80.65109%2C%200.0%5D%2C%20%5B37.60117%2C%20-81.61133000000002%2C%201.0%5D%2C%20%5B39.38484%2C%20-80.76583000000002%2C%201.0%5D%2C%20%5B39.56496%2C%20-80.6783%2C%201.0%5D%2C%20%5B39.20567%2C%20-80.85781%2C%200.0%5D%2C%20%5B39.57192%2C%20-80.67941%2C%200.0%5D%2C%20%5B39.44007%2C%20-80.744%2C%201.0%5D%2C%20%5B37.47314%2C%20-81.67631999999998%2C%200.0%5D%2C%20%5B37.34331%2C%20-81.73581999999998%2C%201.0%5D%2C%20%5B37.74515%2C%20-80.92528%2C%201.0%5D%2C%20%5B37.32127%2C%20-81.75115%2C%201.0%5D%2C%20%5B37.59592%2C%20-81.62568%2C%201.0%5D%2C%20%5B39.75683%2C%20-80.59545%2C%201.0%5D%2C%20%5B37.71332%2C%20-81.57708000000002%2C%201.0%5D%2C%20%5B37.5553%2C%20-81.65071%2C%201.0%5D%2C%20%5B37.87406%2C%20-81.5035%2C%200.0%5D%2C%20%5B37.66467%2C%20-81.60094000000002%2C%202.0%5D%2C%20%5B38.49244%2C%20-81.2174%2C%200.0%5D%2C%20%5B39.16686%2C%20-80.89474%2C%200.0%5D%2C%20%5B39.2796%2C%20-80.84066%2C%201.0%5D%2C%20%5B38.45536%2C%20-81.23659%2C%200.0%5D%2C%20%5B39.4043%2C%20-80.78752%2C%200.0%5D%2C%20%5B37.71295%2C%20-81.59177%2C%202.0%5D%2C%20%5B38.01522%2C%20-81.45212%2C%201.0%5D%2C%20%5B37.32901%2C%20-81.76978000000003%2C%201.0%5D%2C%20%5B37.728%2C%20-81.59111999999998%2C%201.0%5D%2C%20%5B37.71512%2C%20-81.59738%2C%201.0%5D%2C%20%5B37.38668%2C%20-81.6515%2C%202.0%5D%2C%20%5B38.9056%2C%20-80.9388%2C%201.0%5D%2C%20%5B37.29937%2C%20-81.69153%2C%202.0%5D%2C%20%5B39.39432%2C%20-80.70576%2C%200.0%5D%2C%20%5B38.1061%2C%20-81.32200999999998%2C%200.0%5D%2C%20%5B38.8551%2C%20-80.96692%2C%201.0%5D%2C%20%5B38.20241%2C%20-81.27728%2C%201.0%5D%2C%20%5B39.58699%2C%20-80.61803%2C%200.0%5D%2C%20%5B39.2873%2C%20-80.76456999999998%2C%201.0%5D%2C%20%5B37.38845%2C%20-81.66129000000002%2C%202.0%5D%2C%20%5B37.53722%2C%20-81.59315%2C%201.0%5D%2C%20%5B38.63616%2C%20-81.62303%2C%201.0%5D%2C%20%5B39.77265%2C%20-80.53185%2C%202.0%5D%2C%20%5B37.851%2C%20-81.45274%2C%202.0%5D%2C%20%5B38.20055%2C%20-81.29008%2C%201.0%5D%2C%20%5B37.94588%2C%20-81.41325%2C%201.0%5D%2C%20%5B39.04435%2C%20-80.89226%2C%201.0%5D%2C%20%5B37.6969%2C%20-81.5293%2C%201.0%5D%2C%20%5B39.67807%2C%20-80.58381%2C%200.0%5D%2C%20%5B38.7429%2C%20-81.222%2C%200.0%5D%2C%20%5B39.98247%2C%20-80.61916%2C%200.0%5D%2C%20%5B38.37243%2C%20-81.40162%2C%202.0%5D%2C%20%5B39.48185%2C%20-80.86953000000003%2C%202.0%5D%2C%20%5B38.32087%2C%20-81.42707%2C%201.0%5D%2C%20%5B38.37301%2C%20-81.40273%2C%201.0%5D%2C%20%5B38.75344000000001%2C%20-81.22236%2C%201.0%5D%2C%20%5B40.17082%2C%20-80.53541%2C%201.0%5D%2C%20%5B40.0849%2C%20-80.57821%2C%201.0%5D%2C%20%5B37.55382%2C%20-81.78873%2C%201.0%5D%2C%20%5B38.49956%2C%20-81.34799%2C%201.0%5D%2C%20%5B40.19441%2C%20-80.52891%2C%201.0%5D%2C%20%5B39.14244%2C%20-81.04672%2C%200.0%5D%2C%20%5B38.53069%2C%20-81.33949%2C%201.0%5D%2C%20%5B40.20413%2C%20-80.52868000000002%2C%201.0%5D%2C%20%5B38.78087%2C%20-81.22439%2C%202.0%5D%2C%20%5B38.24293%2C%20-81.47910999999998%2C%202.0%5D%2C%20%5B39.2739%2C%20-80.9878%2C%201.0%5D%2C%20%5B38.78223%2C%20-80.93199%2C%201.0%5D%2C%20%5B37.25434%2C%20-81.6466%2C%201.0%5D%2C%20%5B38.40296%2C%20-81.11293%2C%201.0%5D%2C%20%5B39.33581%2C%20-80.66776%2C%202.0%5D%2C%20%5B38.50121%2C%20-81.41519%2C%201.0%5D%2C%20%5B39.65891%2C%20-80.85775%2C%202.0%5D%2C%20%5B40.05014%2C%20-80.66502%2C%201.0%5D%2C%20%5B39.58579%2C%20-80.89394%2C%200.0%5D%2C%20%5B38.32405%2C%20-81.50446%2C%200.0%5D%2C%20%5B38.12252%2C%20-81.59902%2C%200.0%5D%2C%20%5B38.59562%2C%20-81.37635%2C%202.0%5D%2C%20%5B40.30218%2C%20-80.54516%2C%200.0%5D%2C%20%5B37.78998%2C%20-81.75756%2C%201.0%5D%2C%20%5B37.47686%2C%20-81.9016%2C%202.0%5D%2C%20%5B38.32403%2C%20-81.50876%2C%200.0%5D%2C%20%5B38.30004%2C%20-81.52412%2C%201.0%5D%2C%20%5B38.98217%2C%20-81.2008%2C%201.0%5D%2C%20%5B38.48469%2C%20-81.43817%2C%201.0%5D%2C%20%5B39.91445%2C%20-80.74750999999998%2C%201.0%5D%2C%20%5B39.30256%2C%20-81.05116%2C%200.0%5D%2C%20%5B39.40841%2C%20-80.99998000000002%2C%200.0%5D%2C%20%5B39.108%2C%20-81.146%2C%200.0%5D%2C%20%5B39.90555%2C%20-80.75725%2C%202.0%5D%2C%20%5B39.92924%2C%20-80.74797%2C%200.0%5D%2C%20%5B40.08966%2C%20-80.66853%2C%201.0%5D%2C%20%5B40.00339%2C%20-80.71157%2C%201.0%5D%2C%20%5B38.07584%2C%20-81.63866%2C%201.0%5D%2C%20%5B38.23996%2C%20-81.56496%2C%201.0%5D%2C%20%5B38.24033%2C%20-81.56485%2C%202.0%5D%2C%20%5B38.24109%2C%20-81.56486%2C%201.0%5D%2C%20%5B38.31229%2C%20-81.53185%2C%200.0%5D%2C%20%5B38.23716%2C%20-81.5672%2C%201.0%5D%2C%20%5B38.24249%2C%20-81.56770999999998%2C%201.0%5D%2C%20%5B39.95453%2C%20-80.74291%2C%202.0%5D%2C%20%5B39.97861%2C%20-80.73129%2C%201.0%5D%2C%20%5B38.41945%2C%20-81.48488%2C%200.0%5D%2C%20%5B40.00644000000001%2C%20-80.71981%2C%202.0%5D%2C%20%5B38.24800000000001%2C%20-81.387%2C%200.0%5D%2C%20%5B37.34915%2C%20-81.8035%2C%201.0%5D%2C%20%5B38.46955%2C%20-81.2829%2C%200.0%5D%2C%20%5B37.40157%2C%20-81.78528%2C%201.0%5D%2C%20%5B37.30994000000001%2C%20-81.82796%2C%201.0%5D%2C%20%5B38.13492%2C%20-81.44729%2C%200.0%5D%2C%20%5B37.99571%2C%20-81.51298%2C%201.0%5D%2C%20%5B38.79415%2C%20-81.14055%2C%201.0%5D%2C%20%5B37.95677%2C%20-81.53573%2C%201.0%5D%2C%20%5B37.96208%2C%20-81.53387%2C%202.0%5D%2C%20%5B38.23871%2C%20-81.40536999999998%2C%200.0%5D%2C%20%5B39.27308%2C%20-80.91433%2C%200.0%5D%2C%20%5B39.27599%2C%20-80.91303%2C%202.0%5D%2C%20%5B39.26779000000001%2C%20-80.91736%2C%201.0%5D%2C%20%5B38.5559%2C%20-81.259%2C%200.0%5D%2C%20%5B39.26794%2C%20-80.9175%2C%201.0%5D%2C%20%5B39.05521%2C%20-81.02434000000002%2C%201.0%5D%2C%20%5B39.61328%2C%20-80.75317%2C%202.0%5D%2C%20%5B37.42584%2C%20-81.79%2C%201.0%5D%2C%20%5B37.74897%2C%20-81.64208%2C%201.0%5D%2C%20%5B38.55012%2C%20-81.27163%2C%202.0%5D%2C%20%5B38.98204000000001%2C%20-81.06571%2C%201.0%5D%2C%20%5B38.92169000000001%2C%20-81.09476%2C%200.0%5D%2C%20%5B38.17287%2C%20-81.45146%2C%201.0%5D%2C%20%5B37.47531%2C%20-81.77672%2C%201.0%5D%2C%20%5B37.98599%2C%20-81.54132%2C%201.0%5D%2C%20%5B39.9626%2C%20-80.59133%2C%200.0%5D%2C%20%5B37.75051%2C%20-81.65099000000002%2C%201.0%5D%2C%20%5B40.04402%2C%20-80.55134%2C%201.0%5D%2C%20%5B37.53867%2C%20-81.75531%2C%201.0%5D%2C%20%5B37.99716%2C%20-81.54392%2C%202.0%5D%2C%20%5B37.60893%2C%20-81.7241%2C%201.0%5D%2C%20%5B37.75066%2C%20-81.65916999999997%2C%202.0%5D%2C%20%5B40.08291%2C%20-80.54653%2C%201.0%5D%2C%20%5B38.18071%2C%20-81.46571%2C%201.0%5D%2C%20%5B40.08308%2C%20-80.54678%2C%201.0%5D%2C%20%5B38.30658%2C%20-81.40701999999997%2C%200.0%5D%2C%20%5B39.76992%2C%20-80.70783%2C%201.0%5D%2C%20%5B39.2333%2C%20-80.87893000000003%2C%201.0%5D%2C%20%5B39.96572000000001%2C%20-80.51973000000002%2C%201.0%5D%2C%20%5B38.90851%2C%20-81.0403%2C%202.0%5D%2C%20%5B37.4546%2C%20-81.72248%2C%200.0%5D%2C%20%5B38.26414000000001%2C%20-81.34692%2C%202.0%5D%2C%20%5B38.06386%2C%20-81.44232%2C%200.0%5D%2C%20%5B39.11078%2C%20-80.94824%2C%200.0%5D%2C%20%5B37.69953%2C%20-81.61671%2C%201.0%5D%2C%20%5B38.94655%2C%20-81.02945%2C%201.0%5D%2C%20%5B38.58821%2C%20-81.20089%2C%200.0%5D%2C%20%5B39.33974%2C%20-80.83952%2C%202.0%5D%2C%20%5B38.38148%2C%20-81.52486%2C%200.0%5D%2C%20%5B40.05187%2C%20-80.71741%2C%201.0%5D%2C%20%5B39.50291%2C%20-80.98749000000002%2C%201.0%5D%2C%20%5B38.30981%2C%20-81.56123000000002%2C%201.0%5D%2C%20%5B40.26341%2C%20-80.6148%2C%200.0%5D%2C%20%5B39.34956%2C%20-81.06497%2C%200.0%5D%2C%20%5B38.22068%2C%20-81.60554%2C%202.0%5D%2C%20%5B40.0535%2C%20-80.72178000000002%2C%200.0%5D%2C%20%5B40.05439000000001%2C%20-80.7214%2C%200.0%5D%2C%20%5B40.05423%2C%20-80.72158%2C%200.0%5D%2C%20%5B38.30683%2C%20-81.56642%2C%201.0%5D%2C%20%5B38.31719%2C%20-81.56166%2C%201.0%5D%2C%20%5B38.45656%2C%20-81.49608%2C%201.0%5D%2C%20%5B37.63915%2C%20-81.87682%2C%201.0%5D%2C%20%5B38.50388%2C%20-81.47529%2C%200.0%5D%2C%20%5B38.45644%2C%20-81.49788000000002%2C%200.0%5D%2C%20%5B40.05052%2C%20-80.72648000000002%2C%201.0%5D%2C%20%5B38.50441%2C%20-81.47551999999997%2C%202.0%5D%2C%20%5B40.18253%2C%20-80.66413%2C%201.0%5D%2C%20%5B40.06335%2C%20-80.72345%2C%201.0%5D%2C%20%5B40.04988%2C%20-80.73040999999998%2C%201.0%5D%2C%20%5B40.18574%2C%20-80.66318000000003%2C%202.0%5D%2C%20%5B39.1034%2C%20-81.1934%2C%201.0%5D%2C%20%5B37.77497%2C%20-81.82323000000002%2C%201.0%5D%2C%20%5B40.07247%2C%20-80.72295%2C%202.0%5D%2C%20%5B39.33719%2C%20-80.91994%2C%201.0%5D%2C%20%5B39.35603%2C%20-80.91091%2C%202.0%5D%2C%20%5B39.47726%2C%20-80.85185%2C%200.0%5D%2C%20%5B37.61197%2C%20-81.73933000000002%2C%201.0%5D%2C%20%5B39.31168%2C%20-80.93579%2C%202.0%5D%2C%20%5B40.14662%2C%20-80.52533000000003%2C%202.0%5D%2C%20%5B40.03182%2C%20-80.5832%2C%202.0%5D%2C%20%5B39.07455%2C%20-81.05603%2C%200.0%5D%2C%20%5B37.92013%2C%20-81.60249%2C%200.0%5D%2C%20%5B39.07509%2C%20-81.05596%2C%202.0%5D%2C%20%5B38.30615%2C%20-81.42243%2C%201.0%5D%2C%20%5B38.1956%2C%20-81.47926%2C%201.0%5D%2C%20%5B38.19708%2C%20-81.47873%2C%201.0%5D%2C%20%5B37.55901%2C%20-81.97104%2C%200.0%5D%2C%20%5B38.40904000000001%2C%20-81.5771%2C%201.0%5D%2C%20%5B37.82062%2C%20-81.85204%2C%201.0%5D%2C%20%5B38.28118%2C%20-81.6417%2C%201.0%5D%2C%20%5B39.08513%2C%20-81.26034%2C%201.0%5D%2C%20%5B38.38407%2C%20-81.59385%2C%201.0%5D%2C%20%5B37.87486%2C%20-81.83267%2C%200.0%5D%2C%20%5B38.33312%2C%20-81.62259%2C%201.0%5D%2C%20%5B38.016%2C%20-81.77078%2C%200.0%5D%2C%20%5B38.33409%2C%20-81.62233%2C%201.0%5D%2C%20%5B38.36572%2C%20-81.60765%2C%202.0%5D%2C%20%5B37.75314%2C%20-81.89636%2C%201.0%5D%2C%20%5B38.82705%2C%20-81.39278%2C%200.0%5D%2C%20%5B37.63964%2C%20-81.9489%2C%200.0%5D%2C%20%5B38.37692%2C%20-81.60628%2C%201.0%5D%2C%20%5B39.16039%2C%20-81.23408%2C%201.0%5D%2C%20%5B38.95263%2C%20-81.33909%2C%200.0%5D%2C%20%5B38.5961%2C%20-81.509%2C%200.0%5D%2C%20%5B38.16444%2C%20-81.71242%2C%201.0%5D%2C%20%5B37.94145%2C%20-81.8164%2C%201.0%5D%2C%20%5B37.93477%2C%20-81.82413000000003%2C%201.0%5D%2C%20%5B38.0857%2C%20-81.75399999999998%2C%201.0%5D%2C%20%5B38.18054%2C%20-81.71002%2C%202.0%5D%2C%20%5B38.35833%2C%20-81.62747%2C%201.0%5D%2C%20%5B39.28078%2C%20-80.98682%2C%200.0%5D%2C%20%5B38.85115%2C%20-81.19381%2C%201.0%5D%2C%20%5B38.66253%2C%20-81.28414000000002%2C%200.0%5D%2C%20%5B40.09894%2C%20-80.5853%2C%202.0%5D%2C%20%5B40.06504%2C%20-80.60639%2C%201.0%5D%2C%20%5B38.05894%2C%20-81.5735%2C%200.0%5D%2C%20%5B38.51902000000001%2C%20-81.3578%2C%201.0%5D%2C%20%5B37.73438%2C%20-81.72839%2C%201.0%5D%2C%20%5B40.004%2C%20-80.64197%2C%201.0%5D%2C%20%5B38.09485%2C%20-81.56169%2C%200.0%5D%2C%20%5B38.46064000000001%2C%20-81.39022%2C%200.0%5D%2C%20%5B37.80622%2C%20-81.7025%2C%202.0%5D%2C%20%5B40.04449%2C%20-80.63055%2C%201.0%5D%2C%20%5B40.04469%2C%20-80.63056%2C%202.0%5D%2C%20%5B39.22496%2C%20-81.0327%2C%201.0%5D%2C%20%5B39.45469%2C%20-80.92141%2C%201.0%5D%2C%20%5B39.51523%2C%20-80.89491%2C%201.0%5D%2C%20%5B40.04713%2C%20-80.63298%2C%201.0%5D%2C%20%5B40.20678%2C%20-80.55358000000003%2C%200.0%5D%2C%20%5B37.5786%2C%20-81.81305%2C%201.0%5D%2C%20%5B39.53257%2C%20-80.89086999999998%2C%202.0%5D%2C%20%5B37.89042%2C%20-81.67318%2C%202.0%5D%2C%20%5B39.24945%2C%20-81.02911999999998%2C%201.0%5D%2C%20%5B37.79716%2C%20-81.71735%2C%201.0%5D%2C%20%5B40.02701%2C%20-80.65272%2C%200.0%5D%2C%20%5B40.04867%2C%20-80.64254%2C%201.0%5D%2C%20%5B38.43209%2C%20-81.42555%2C%200.0%5D%2C%20%5B39.53174%2C%20-80.89739%2C%200.0%5D%2C%20%5B39.91433%2C%20-80.7141%2C%201.0%5D%2C%20%5B40.06659000000001%2C%20-80.63880999999998%2C%202.0%5D%2C%20%5B38.19813%2C%20-81.54056%2C%202.0%5D%2C%20%5B40.20024%2C%20-80.57239%2C%201.0%5D%2C%20%5B39.64011%2C%20-80.85601%2C%200.0%5D%2C%20%5B38.25676%2C%20-81.51984%2C%200.0%5D%2C%20%5B39.63578%2C%20-80.85847%2C%200.0%5D%2C%20%5B37.45864%2C%20-81.88987%2C%201.0%5D%2C%20%5B37.59627%2C%20-81.82906%2C%200.0%5D%2C%20%5B38.36967%2C%20-81.54647%2C%200.0%5D%2C%20%5B40.07247%2C%20-80.72336999999997%2C%202.0%5D%2C%20%5B39.39436%2C%20-81.0599%2C%200.0%5D%2C%20%5B40.38977%2C%20-80.5688%2C%202.0%5D%2C%20%5B37.69212%2C%20-81.86569%2C%201.0%5D%2C%20%5B39.116%2C%20-81.1952%2C%200.0%5D%2C%20%5B38.47786%2C%20-81.50144%2C%200.0%5D%2C%20%5B38.43717%2C%20-81.52065%2C%201.0%5D%2C%20%5B38.74823%2C%20-81.37331%2C%200.0%5D%2C%20%5B38.14285%2C%20-81.65894%2C%201.0%5D%2C%20%5B38.74304%2C%20-81.37945%2C%201.0%5D%2C%20%5B37.76849%2C%20-81.83649%2C%201.0%5D%2C%20%5B38.77856%2C%20-81.36329%2C%201.0%5D%2C%20%5B40.07231%2C%20-80.73791999999997%2C%200.0%5D%2C%20%5B37.75838%2C%20-81.84629%2C%202.0%5D%2C%20%5B38.32993%2C%20-81.58034%2C%201.0%5D%2C%20%5B37.56017%2C%20-81.94247%2C%202.0%5D%2C%20%5B38.41542000000001%2C%20-81.54603%2C%200.0%5D%2C%20%5B38.2154%2C%20-81.64%2C%202.0%5D%2C%20%5B38.38705%2C%20-81.55960999999998%2C%200.0%5D%2C%20%5B37.63621%2C%20-81.91332%2C%202.0%5D%2C%20%5B38.13617%2C%20-81.68200999999998%2C%200.0%5D%2C%20%5B39.55422%2C%20-81.00520999999998%2C%201.0%5D%2C%20%5B38.87502%2C%20-81.33426999999998%2C%202.0%5D%2C%20%5B37.75609%2C%20-81.85970999999998%2C%202.0%5D%2C%20%5B40.38867%2C%20-80.59594%2C%201.0%5D%2C%20%5B37.73033%2C%20-81.87416%2C%201.0%5D%2C%20%5B38.13377%2C%20-81.68851%2C%201.0%5D%2C%20%5B38.3662%2C%20-81.58057%2C%201.0%5D%2C%20%5B39.43554%2C%20-81.07128%2C%202.0%5D%2C%20%5B38.36539000000001%2C%20-81.58358%2C%200.0%5D%2C%20%5B38.36467%2C%20-81.58407%2C%200.0%5D%2C%20%5B38.62397%2C%20-81.46694000000002%2C%202.0%5D%2C%20%5B38.18001%2C%20-81.67627%2C%202.0%5D%2C%20%5B37.9021%2C%20-81.80566999999998%2C%201.0%5D%2C%20%5B37.82333%2C%20-81.87924%2C%201.0%5D%2C%20%5B37.82169%2C%20-81.8802%2C%201.0%5D%2C%20%5B38.36042%2C%20-81.63277%2C%201.0%5D%2C%20%5B38.07864%2C%20-81.76504%2C%200.0%5D%2C%20%5B37.96322%2C%20-81.8191%2C%201.0%5D%2C%20%5B37.76321%2C%20-81.91686999999997%2C%201.0%5D%2C%20%5B38.30257%2C%20-81.66614%2C%201.0%5D%2C%20%5B38.35804%2C%20-81.6408%2C%201.0%5D%2C%20%5B37.7639%2C%20-81.9174%2C%201.0%5D%2C%20%5B39.23886%2C%20-81.22442%2C%201.0%5D%2C%20%5B38.79174%2C%20-81.43965%2C%200.0%5D%2C%20%5B38.35618%2C%20-81.64589000000002%2C%201.0%5D%2C%20%5B38.81586%2C%20-81.43059000000002%2C%201.0%5D%2C%20%5B38.35402%2C%20-81.64984%2C%201.0%5D%2C%20%5B38.3091%2C%20-81.671%2C%201.0%5D%2C%20%5B37.81445%2C%20-81.90164%2C%202.0%5D%2C%20%5B37.98581%2C%20-81.82269000000002%2C%201.0%5D%2C%20%5B40.50147%2C%20-80.61135%2C%200.0%5D%2C%20%5B38.41347%2C%20-81.62923%2C%201.0%5D%2C%20%5B38.42665%2C%20-81.62331999999998%2C%200.0%5D%2C%20%5B38.5565%2C%20-81.56236%2C%201.0%5D%2C%20%5B38.2049%2C%20-81.73%2C%201.0%5D%2C%20%5B38.41238%2C%20-81.63311999999998%2C%201.0%5D%2C%20%5B38.35767%2C%20-81.65903%2C%202.0%5D%2C%20%5B38.41749%2C%20-81.63190999999998%2C%200.0%5D%2C%20%5B39.18976%2C%20-81.27023%2C%200.0%5D%2C%20%5B37.96372%2C%20-81.85141999999998%2C%202.0%5D%2C%20%5B37.96246%2C%20-81.85199%2C%201.0%5D%2C%20%5B37.9586%2C%20-81.85398%2C%201.0%5D%2C%20%5B37.77873%2C%20-81.9372%2C%200.0%5D%2C%20%5B38.37558%2C%20-81.66561%2C%200.0%5D%2C%20%5B38.10049%2C%20-81.79374%2C%200.0%5D%2C%20%5B37.98919%2C%20-81.8455%2C%200.0%5D%2C%20%5B39.48708%2C%20-80.93369%2C%201.0%5D%2C%20%5B39.40394000000001%2C%20-80.97433000000002%2C%201.0%5D%2C%20%5B40.29985%2C%20-80.53223%2C%201.0%5D%2C%20%5B39.21037000000001%2C%20-81.07212%2C%200.0%5D%2C%20%5B39.41329%2C%20-80.97374%2C%201.0%5D%2C%20%5B38.50737%2C%20-81.40942%2C%201.0%5D%2C%20%5B38.50709000000001%2C%20-81.4096%2C%202.0%5D%2C%20%5B39.59341%2C%20-80.88734000000002%2C%202.0%5D%2C%20%5B37.9898%2C%20-81.852%2C%200.0%5D%2C%20%5B38.31434%2C%20-81.70397%2C%200.0%5D%2C%20%5B38.3143%2C%20-81.70401%2C%202.0%5D%2C%20%5B37.86625%2C%20-81.91264%2C%201.0%5D%2C%20%5B37.66703%2C%20-82.00463%2C%201.0%5D%2C%20%5B38.82696%2C%20-81.46489%2C%201.0%5D%2C%20%5B37.70377%2C%20-81.99101999999998%2C%202.0%5D%2C%20%5B38.49108%2C%20-81.62443%2C%200.0%5D%2C%20%5B37.84068%2C%20-81.92846%2C%201.0%5D%2C%20%5B38.52117%2C%20-81.61657%2C%201.0%5D%2C%20%5B38.46284%2C%20-81.64409%2C%201.0%5D%2C%20%5B38.34129%2C%20-81.70151%2C%201.0%5D%2C%20%5B38.34149%2C%20-81.70146%2C%201.0%5D%2C%20%5B37.82788%2C%20-81.94412%2C%201.0%5D%2C%20%5B38.4714%2C%20-81.64398%2C%200.0%5D%2C%20%5B38.47145%2C%20-81.64418%2C%200.0%5D%2C%20%5B39.31911%2C%20-81.2398%2C%200.0%5D%2C%20%5B38.41133%2C%20-81.67771%2C%201.0%5D%2C%20%5B38.10435%2C%20-81.8221%2C%200.0%5D%2C%20%5B38.35831%2C%20-81.7035%2C%201.0%5D%2C%20%5B38.35847%2C%20-81.70352%2C%201.0%5D%2C%20%5B39.06702%2C%20-81.36811%2C%201.0%5D%2C%20%5B38.49578%2C%20-81.64294%2C%200.0%5D%2C%20%5B38.31523%2C%20-81.72785%2C%200.0%5D%2C%20%5B38.66743%2C%20-81.56186%2C%200.0%5D%2C%20%5B37.72587%2C%20-82.00175%2C%202.0%5D%2C%20%5B38.07868%2C%20-81.84101%2C%200.0%5D%2C%20%5B38.08464%2C%20-81.83845%2C%202.0%5D%2C%20%5B38.08474%2C%20-81.83863000000002%2C%202.0%5D%2C%20%5B39.85969%2C%20-80.79292%2C%200.0%5D%2C%20%5B39.79176%2C%20-80.82652%2C%200.0%5D%2C%20%5B39.1037%2C%20-81.1619%2C%201.0%5D%2C%20%5B39.99053%2C%20-80.73188%2C%202.0%5D%2C%20%5B40.25356%2C%20-80.60134000000002%2C%201.0%5D%2C%20%5B37.61234%2C%20-81.86743%2C%201.0%5D%2C%20%5B38.3755%2C%20-81.51268%2C%201.0%5D%2C%20%5B38.43951%2C%20-81.48476%2C%201.0%5D%2C%20%5B40.04253%2C%20-80.70931%2C%201.0%5D%2C%20%5B37.97164%2C%20-81.70407%2C%201.0%5D%2C%20%5B37.97939%2C%20-81.70047%2C%201.0%5D%2C%20%5B40.04383%2C%20-80.71166%2C%201.0%5D%2C%20%5B38.29999%2C%20-81.55364%2C%201.0%5D%2C%20%5B38.25711%2C%20-81.57382%2C%201.0%5D%2C%20%5B37.78511%2C%20-81.79355%2C%201.0%5D%2C%20%5B38.26174%2C%20-81.57375%2C%201.0%5D%2C%20%5B39.21357%2C%20-81.12053%2C%201.0%5D%2C%20%5B38.2617%2C%20-81.57399000000002%2C%200.0%5D%2C%20%5B40.15843%2C%20-80.65718000000003%2C%202.0%5D%2C%20%5B37.97215%2C%20-81.71139000000002%2C%201.0%5D%2C%20%5B40.07392%2C%20-80.70161%2C%201.0%5D%2C%20%5B40.0738%2C%20-80.70194000000002%2C%202.0%5D%2C%20%5B39.4744%2C%20-80.99748000000002%2C%201.0%5D%2C%20%5B40.02568%2C%20-80.72666%2C%200.0%5D%2C%20%5B37.5773%2C%20-81.8968%2C%201.0%5D%2C%20%5B38.30968%2C%20-81.5568%2C%201.0%5D%2C%20%5B38.63803%2C%20-81.40182%2C%200.0%5D%2C%20%5B38.46653%2C%20-81.48305%2C%201.0%5D%2C%20%5B38.89908%2C%20-81.59517%2C%200.0%5D%2C%20%5B38.52497%2C%20-81.77295%2C%201.0%5D%2C%20%5B37.82951%2C%20-82.0977%2C%201.0%5D%2C%20%5B38.53896%2C%20-81.76793%2C%200.0%5D%2C%20%5B37.67684000000001%2C%20-82.17569%2C%202.0%5D%2C%20%5B38.45001%2C%20-81.81698%2C%201.0%5D%2C%20%5B37.70349%2C%20-82.16439%2C%201.0%5D%2C%20%5B39.22293%2C%20-81.45005%2C%200.0%5D%2C%20%5B38.39623%2C%20-81.84824%2C%200.0%5D%2C%20%5B38.39628%2C%20-81.84823%2C%200.0%5D%2C%20%5B38.4456%2C%20-81.82523%2C%202.0%5D%2C%20%5B37.93843%2C%20-82.06163000000002%2C%201.0%5D%2C%20%5B38.35109%2C%20-81.86971%2C%201.0%5D%2C%20%5B38.47833%2C%20-81.81355%2C%201.0%5D%2C%20%5B39.00431%2C%20-81.56499000000002%2C%202.0%5D%2C%20%5B38.34037%2C%20-81.87958%2C%200.0%5D%2C%20%5B38.5112%2C%20-81.79981%2C%202.0%5D%2C%20%5B38.39685%2C%20-81.85938%2C%201.0%5D%2C%20%5B39.17119%2C%20-81.49263%2C%200.0%5D%2C%20%5B37.70979000000001%2C%20-82.17989%2C%200.0%5D%2C%20%5B38.04272%2C%20-82.02758%2C%201.0%5D%2C%20%5B38.41451%2C%20-81.8588%2C%201.0%5D%2C%20%5B38.96905%2C%20-81.59801%2C%200.0%5D%2C%20%5B38.43345%2C%20-81.85331%2C%200.0%5D%2C%20%5B39.07587%2C%20-81.55311%2C%201.0%5D%2C%20%5B39.26442%2C%20-81.46262%2C%202.0%5D%2C%20%5B39.09365%2C%20-81.5448%2C%200.0%5D%2C%20%5B39.07692%2C%20-81.55299000000002%2C%200.0%5D%2C%20%5B38.22405%2C%20-81.96553%2C%202.0%5D%2C%20%5B38.03598%2C%20-82.05349%2C%201.0%5D%2C%20%5B39.11411%2C%20-81.54553%2C%201.0%5D%2C%20%5B37.77735%2C%20-82.17398%2C%200.0%5D%2C%20%5B38.94048%2C%20-81.63353000000002%2C%201.0%5D%2C%20%5B38.23264%2C%20-81.96783%2C%202.0%5D%2C%20%5B37.777%2C%20-82.17926%2C%201.0%5D%2C%20%5B38.93553%2C%20-81.63723%2C%200.0%5D%2C%20%5B37.76833%2C%20-82.1915%2C%201.0%5D%2C%20%5B38.51528%2C%20-81.84425%2C%202.0%5D%2C%20%5B39.35928%2C%20-81.44189%2C%201.0%5D%2C%20%5B39.35934%2C%20-81.44215%2C%201.0%5D%2C%20%5B39.177%2C%20-81.53059%2C%202.0%5D%2C%20%5B38.04975%2C%20-82.06706%2C%201.0%5D%2C%20%5B39.1668%2C%20-81.54006%2C%201.0%5D%2C%20%5B38.07752%2C%20-82.05456%2C%202.0%5D%2C%20%5B38.74442%2C%20-81.74178%2C%200.0%5D%2C%20%5B38.05256%2C%20-82.06926%2C%201.0%5D%2C%20%5B38.82432%2C%20-81.70716%2C%202.0%5D%2C%20%5B38.75213%2C%20-81.74143000000002%2C%202.0%5D%2C%20%5B39.23671%2C%20-81.51055%2C%202.0%5D%2C%20%5B37.86218%2C%20-82.16156%2C%201.0%5D%2C%20%5B39.26755%2C%20-81.49925999999998%2C%202.0%5D%2C%20%5B39.26755%2C%20-81.49951%2C%202.0%5D%2C%20%5B38.77106%2C%20-81.73708%2C%200.0%5D%2C%20%5B38.89083%2C%20-81.68236999999998%2C%201.0%5D%2C%20%5B38.97829%2C%20-81.6407%2C%201.0%5D%2C%20%5B39.00409000000001%2C%20-81.62854%2C%200.0%5D%2C%20%5B39.00431%2C%20-81.62855%2C%200.0%5D%2C%20%5B38.15204%2C%20-82.03522%2C%201.0%5D%2C%20%5B37.66166%2C%20-82.26217%2C%201.0%5D%2C%20%5B37.70326%2C%20-82.24311999999998%2C%201.0%5D%2C%20%5B38.2191%2C%20-82.005%2C%201.0%5D%2C%20%5B38.82008%2C%20-81.7277%2C%201.0%5D%2C%20%5B38.90666%2C%20-81.6867%2C%201.0%5D%2C%20%5B38.81999%2C%20-81.72796%2C%201.0%5D%2C%20%5B37.97161%2C%20-82.12558%2C%201.0%5D%2C%20%5B38.89629%2C%20-81.69704%2C%200.0%5D%2C%20%5B38.7122%2C%20-81.78655%2C%202.0%5D%2C%20%5B37.95504%2C%20-82.14129%2C%201.0%5D%2C%20%5B37.76184%2C%20-82.23093%2C%202.0%5D%2C%20%5B37.67075%2C%20-82.2749%2C%202.0%5D%2C%20%5B39.20212%2C%20-81.56228%2C%201.0%5D%2C%20%5B39.11244%2C%20-81.60538000000003%2C%200.0%5D%2C%20%5B37.67313%2C%20-82.27994%2C%201.0%5D%2C%20%5B39.38759%2C%20-81.47369%2C%202.0%5D%2C%20%5B38.00497%2C%20-82.1321%2C%201.0%5D%2C%20%5B38.50816%2C%20-81.89887%2C%202.0%5D%2C%20%5B38.61766%2C%20-81.8482%2C%200.0%5D%2C%20%5B39.25596%2C%20-81.54675999999998%2C%201.0%5D%2C%20%5B38.17315%2C%20-82.06003%2C%200.0%5D%2C%20%5B39.25894%2C%20-81.54619%2C%200.0%5D%2C%20%5B39.25626%2C%20-81.54802%2C%200.0%5D%2C%20%5B38.02961%2C%20-82.13078%2C%201.0%5D%2C%20%5B38.4557%2C%20-81.93216%2C%201.0%5D%2C%20%5B37.77783%2C%20-82.24746%2C%202.0%5D%2C%20%5B38.35476%2C%20-81.71246%2C%201.0%5D%2C%20%5B39.0132%2C%20-81.40438%2C%200.0%5D%2C%20%5B38.50975%2C%20-81.64384%2C%201.0%5D%2C%20%5B39.33478%2C%20-81.24975%2C%201.0%5D%2C%20%5B38.5096%2C%20-81.64416%2C%201.0%5D%2C%20%5B38.51334%2C%20-81.64544000000002%2C%201.0%5D%2C%20%5B37.75313%2C%20-81.99974%2C%202.0%5D%2C%20%5B37.74727%2C%20-82.00269%2C%201.0%5D%2C%20%5B38.90467%2C%20-81.46037%2C%201.0%5D%2C%20%5B38.10103%2C%20-81.83993000000002%2C%201.0%5D%2C%20%5B38.37975%2C%20-81.71223%2C%202.0%5D%2C%20%5B38.52623%2C%20-81.64423000000002%2C%201.0%5D%2C%20%5B37.73622%2C%20-82.0126%2C%201.0%5D%2C%20%5B37.74409%2C%20-82.009%2C%201.0%5D%2C%20%5B37.81002%2C%20-81.98215%2C%201.0%5D%2C%20%5B37.78883%2C%20-81.99244%2C%201.0%5D%2C%20%5B38.3299%2C%20-81.741%2C%202.0%5D%2C%20%5B38.53701%2C%20-81.64386999999998%2C%201.0%5D%2C%20%5B38.56209000000001%2C%20-81.63631%2C%200.0%5D%2C%20%5B38.56216%2C%20-81.63654%2C%201.0%5D%2C%20%5B38.36119%2C%20-81.73216%2C%200.0%5D%2C%20%5B38.1299%2C%20-81.8408%2C%201.0%5D%2C%20%5B37.75828%2C%20-82.01295999999998%2C%202.0%5D%2C%20%5B39.0649%2C%20-81.40375999999998%2C%202.0%5D%2C%20%5B39.01849%2C%20-81.42631999999998%2C%200.0%5D%2C%20%5B38.36265%2C%20-81.73739%2C%200.0%5D%2C%20%5B39.01597%2C%20-81.42765%2C%200.0%5D%2C%20%5B37.75979%2C%20-82.02525%2C%201.0%5D%2C%20%5B38.58866%2C%20-81.64010999999998%2C%200.0%5D%2C%20%5B38.36858%2C%20-81.74455999999998%2C%201.0%5D%2C%20%5B38.58855%2C%20-81.64116%2C%201.0%5D%2C%20%5B38.43943%2C%20-81.71615%2C%201.0%5D%2C%20%5B38.07123%2C%20-81.88864000000002%2C%201.0%5D%2C%20%5B38.51375%2C%20-81.68191%2C%201.0%5D%2C%20%5B37.88363%2C%20-81.97617%2C%202.0%5D%2C%20%5B38.25811%2C%20-82.2973%2C%201.0%5D%2C%20%5B38.33481%2C%20-82.26399%2C%201.0%5D%2C%20%5B37.8031%2C%20-81.93672%2C%200.0%5D%2C%20%5B37.80975%2C%20-81.93394%2C%200.0%5D%2C%20%5B38.90045%2C%20-81.42299%2C%202.0%5D%2C%20%5B38.56304%2C%20-81.95747%2C%201.0%5D%2C%20%5B38.43274%2C%20-82.01884%2C%201.0%5D%2C%20%5B38.73502%2C%20-81.87655%2C%200.0%5D%2C%20%5B38.69501%2C%20-81.89578%2C%200.0%5D%2C%20%5B38.99091%2C%20-81.76193%2C%202.0%5D%2C%20%5B38.54587%2C%20-81.97335%2C%200.0%5D%2C%20%5B38.54569%2C%20-81.97345%2C%200.0%5D%2C%20%5B38.11374%2C%20-82.18136%2C%201.0%5D%2C%20%5B37.9571%2C%20-82.25473000000002%2C%201.0%5D%2C%20%5B37.86003%2C%20-82.30011999999998%2C%201.0%5D%2C%20%5B38.51886%2C%20-81.99489%2C%201.0%5D%2C%20%5B38.27819%2C%20-82.11440999999998%2C%200.0%5D%2C%20%5B38.08662%2C%20-82.20429%2C%200.0%5D%2C%20%5B38.41962%2C%20-82.05131999999998%2C%201.0%5D%2C%20%5B38.47164%2C%20-82.03401%2C%201.0%5D%2C%20%5B37.93533%2C%20-82.28399999999998%2C%201.0%5D%2C%20%5B37.85052%2C%20-82.32321999999998%2C%201.0%5D%2C%20%5B39.20513%2C%20-81.68688%2C%200.0%5D%2C%20%5B38.55568%2C%20-82.00084%2C%201.0%5D%2C%20%5B38.55557%2C%20-82.00093000000003%2C%200.0%5D%2C%20%5B38.39138%2C%20-82.08292%2C%201.0%5D%2C%20%5B39.17668%2C%20-81.71263%2C%201.0%5D%2C%20%5B38.73088%2C%20-81.93473%2C%200.0%5D%2C%20%5B38.58012%2C%20-82.00599%2C%200.0%5D%2C%20%5B38.88137%2C%20-81.86401%2C%200.0%5D%2C%20%5B38.32428%2C%20-82.12691%2C%201.0%5D%2C%20%5B37.94287%2C%20-82.30425%2C%200.0%5D%2C%20%5B37.8845%2C%20-82.346%2C%201.0%5D%2C%20%5B38.35666%2C%20-82.12754%2C%200.0%5D%2C%20%5B38.35602%2C%20-82.12798000000002%2C%200.0%5D%2C%20%5B38.38821%2C%20-82.11303000000002%2C%201.0%5D%2C%20%5B38.43028%2C%20-82.10441999999998%2C%201.0%5D%2C%20%5B38.43015%2C%20-82.10463%2C%201.0%5D%2C%20%5B38.48668%2C%20-81.53245%2C%201.0%5D%2C%20%5B37.85058%2C%20-81.99698000000002%2C%201.0%5D%2C%20%5B38.34033%2C%20-81.77%2C%202.0%5D%2C%20%5B37.87893%2C%20-81.98558%2C%202.0%5D%2C%20%5B38.15515%2C%20-81.86005%2C%201.0%5D%2C%20%5B38.18131%2C%20-81.84893000000002%2C%201.0%5D%2C%20%5B38.96439%2C%20-81.4791%2C%200.0%5D%2C%20%5B38.18127%2C%20-81.84918%2C%201.0%5D%2C%20%5B38.31088%2C%20-81.7917%2C%200.0%5D%2C%20%5B37.84521%2C%20-82.00886%2C%202.0%5D%2C%20%5B38.47143%2C%20-81.71699%2C%200.0%5D%2C%20%5B39.29865%2C%20-81.32242%2C%200.0%5D%2C%20%5B37.81763%2C%20-82.02413%2C%201.0%5D%2C%20%5B38.61165%2C%20-81.65349%2C%202.0%5D%2C%20%5B38.28652%2C%20-81.80667%2C%201.0%5D%2C%20%5B37.80271%2C%20-82.03164%2C%201.0%5D%2C%20%5B39.09923%2C%20-81.42536%2C%201.0%5D%2C%20%5B39.17965%2C%20-81.38679%2C%200.0%5D%2C%20%5B37.90348%2C%20-81.98897%2C%201.0%5D%2C%20%5B37.96836%2C%20-81.95936%2C%201.0%5D%2C%20%5B38.38775%2C%20-81.76814%2C%201.0%5D%2C%20%5B38.3876%2C%20-81.76827%2C%201.0%5D%2C%20%5B38.50231%2C%20-81.71435%2C%200.0%5D%2C%20%5B38.38582%2C%20-81.76947%2C%202.0%5D%2C%20%5B38.83105%2C%20-81.56448%2C%201.0%5D%2C%20%5B38.33368%2C%20-81.79945%2C%201.0%5D%2C%20%5B38.2132%2C%20-81.85600000000002%2C%201.0%5D%2C%20%5B37.78514000000001%2C%20-82.05468%2C%202.0%5D%2C%20%5B38.13678%2C%20-81.8953%2C%200.0%5D%2C%20%5B38.14692%2C%20-81.89086999999998%2C%202.0%5D%2C%20%5B37.85036%2C%20-82.02854%2C%202.0%5D%2C%20%5B37.67001%2C%20-82.11395%2C%201.0%5D%2C%20%5B38.48733%2C%20-81.74088%2C%201.0%5D%2C%20%5B38.42706%2C%20-81.76951%2C%201.0%5D%2C%20%5B38.37993%2C%20-81.79173%2C%201.0%5D%2C%20%5B37.9747%2C%20-81.98155%2C%200.0%5D%2C%20%5B38.9816%2C%20-81.95959%2C%201.0%5D%2C%20%5B38.26073%2C%20-82.29885999999998%2C%201.0%5D%2C%20%5B38.42969%2C%20-82.22599%2C%201.0%5D%2C%20%5B38.33314%2C%20-82.2713%2C%201.0%5D%2C%20%5B38.13534%2C%20-82.36423%2C%202.0%5D%2C%20%5B38.99026%2C%20-81.96298%2C%201.0%5D%2C%20%5B38.4189%2C%20-82.23779%2C%202.0%5D%2C%20%5B38.61598%2C%20-82.14544000000002%2C%200.0%5D%2C%20%5B38.45417%2C%20-82.22276%2C%200.0%5D%2C%20%5B38.89508%2C%20-82.01614000000002%2C%202.0%5D%2C%20%5B38.48502%2C%20-82.21783%2C%200.0%5D%2C%20%5B38.41639%2C%20-82.25118%2C%201.0%5D%2C%20%5B37.92376%2C%20-82.48057%2C%201.0%5D%2C%20%5B38.42087%2C%20-82.2522%2C%201.0%5D%2C%20%5B38.16832%2C%20-82.37829%2C%202.0%5D%2C%20%5B38.3473%2C%20-82.29527%2C%202.0%5D%2C%20%5B38.16807%2C%20-82.37858%2C%201.0%5D%2C%20%5B38.41695%2C%20-82.26443%2C%201.0%5D%2C%20%5B38.63446%2C%20-82.16398000000002%2C%201.0%5D%2C%20%5B38.55223%2C%20-82.21276%2C%201.0%5D%2C%20%5B38.34884%2C%20-82.30848%2C%202.0%5D%2C%20%5B38.14951%2C%20-82.40186%2C%201.0%5D%2C%20%5B38.14172%2C%20-82.40665%2C%201.0%5D%2C%20%5B38.41704%2C%20-82.29086%2C%201.0%5D%2C%20%5B38.56023%2C%20-82.22395%2C%201.0%5D%2C%20%5B38.74013%2C%20-82.1394%2C%202.0%5D%2C%20%5B38.41928%2C%20-82.29004%2C%201.0%5D%2C%20%5B38.56128%2C%20-82.22765%2C%201.0%5D%2C%20%5B38.30593%2C%20-82.34817%2C%201.0%5D%2C%20%5B38.33279%2C%20-82.33653000000002%2C%202.0%5D%2C%20%5B38.33174%2C%20-82.33748%2C%200.0%5D%2C%20%5B38.81472%2C%20-82.11175%2C%200.0%5D%2C%20%5B38.89649%2C%20-82.07784000000002%2C%200.0%5D%2C%20%5B38.96566%2C%20-82.04559%2C%200.0%5D%2C%20%5B38.46829%2C%20-82.2804%2C%200.0%5D%2C%20%5B38.39322%2C%20-82.31761%2C%201.0%5D%2C%20%5B38.37975%2C%20-82.33407%2C%201.0%5D%2C%20%5B38.37945%2C%20-82.33454%2C%201.0%5D%2C%20%5B38.22051%2C%20-82.2029%2C%201.0%5D%2C%20%5B38.40308%2C%20-82.11798%2C%202.0%5D%2C%20%5B38.20358%2C%20-82.22348000000002%2C%202.0%5D%2C%20%5B37.8588%2C%20-82.38348%2C%202.0%5D%2C%20%5B37.95691%2C%20-82.33858000000002%2C%201.0%5D%2C%20%5B38.42394%2C%20-82.12250999999998%2C%201.0%5D%2C%20%5B37.83778%2C%20-82.40972%2C%201.0%5D%2C%20%5B38.44154%2C%20-82.13008%2C%201.0%5D%2C%20%5B38.44172%2C%20-82.13008%2C%201.0%5D%2C%20%5B38.65555%2C%20-82.02988%2C%201.0%5D%2C%20%5B38.66883%2C%20-82.03453%2C%201.0%5D%2C%20%5B37.85563%2C%20-82.41411%2C%201.0%5D%2C%20%5B37.98298%2C%20-82.35580999999998%2C%201.0%5D%2C%20%5B37.98029%2C%20-82.35932%2C%202.0%5D%2C%20%5B38.43672%2C%20-82.16329%2C%201.0%5D%2C%20%5B38.7664%2C%20-82.009%2C%200.0%5D%2C%20%5B38.44335%2C%20-82.16213%2C%201.0%5D%2C%20%5B38.55913%2C%20-82.12122%2C%200.0%5D%2C%20%5B38.46006%2C%20-82.1679%2C%201.0%5D%2C%20%5B38.11399%2C%20-82.3293%2C%201.0%5D%2C%20%5B38.84053%2C%20-81.99128%2C%200.0%5D%2C%20%5B38.53424%2C%20-82.14251%2C%201.0%5D%2C%20%5B38.36069000000001%2C%20-82.22431999999998%2C%201.0%5D%2C%20%5B38.77006%2C%20-82.0347%2C%200.0%5D%2C%20%5B38.33198%2C%20-82.24112%2C%202.0%5D%2C%20%5B38.7176%2C%20-82.07405%2C%202.0%5D%2C%20%5B38.16942%2C%20-82.33221999999998%2C%201.0%5D%2C%20%5B38.32995%2C%20-82.25806999999998%2C%201.0%5D%2C%20%5B38.97153%2C%20-81.95609%2C%201.0%5D%2C%20%5B38.38842%2C%20-82.43552%2C%202.0%5D%2C%20%5B38.3886%2C%20-82.43557%2C%202.0%5D%2C%20%5B38.13618%2C%20-82.55343%2C%201.0%5D%2C%20%5B38.40392%2C%20-82.43019%2C%202.0%5D%2C%20%5B38.33584000000001%2C%20-82.49051999999998%2C%201.0%5D%2C%20%5B38.42458%2C%20-82.45139%2C%201.0%5D%2C%20%5B38.40638%2C%20-82.45994%2C%202.0%5D%2C%20%5B37.7776%2C%20-82.24762%2C%202.0%5D%2C%20%5B38.56648%2C%20-81.88389000000002%2C%200.0%5D%2C%20%5B39.25791%2C%20-81.55542%2C%200.0%5D%2C%20%5B39.25816%2C%20-81.5556%2C%200.0%5D%2C%20%5B38.98651%2C%20-81.68648%2C%200.0%5D%2C%20%5B38.92351%2C%20-81.72006%2C%202.0%5D%2C%20%5B38.92438%2C%20-81.71968000000003%2C%201.0%5D%2C%20%5B38.92365%2C%20-81.72022%2C%201.0%5D%2C%20%5B38.92408%2C%20-81.7235%2C%201.0%5D%2C%20%5B37.69994000000001%2C%20-82.29602%2C%202.0%5D%2C%20%5B39.20618%2C%20-81.58953000000002%2C%200.0%5D%2C%20%5B38.34513%2C%20-81.99779000000002%2C%202.0%5D%2C%20%5B39.26435%2C%20-81.56744%2C%202.0%5D%2C%20%5B38.04678%2C%20-82.14248%2C%201.0%5D%2C%20%5B39.24674%2C%20-81.57606%2C%201.0%5D%2C%20%5B39.3029%2C%20-81.54925%2C%200.0%5D%2C%20%5B37.7067%2C%20-82.30553%2C%201.0%5D%2C%20%5B38.81371%2C%20-81.79015%2C%200.0%5D%2C%20%5B39.07069%2C%20-81.66929%2C%200.0%5D%2C%20%5B38.18477%2C%20-82.08746%2C%201.0%5D%2C%20%5B38.69512%2C%20-81.8528%2C%201.0%5D%2C%20%5B39.06215%2C%20-81.68047%2C%202.0%5D%2C%20%5B38.541%2C%20-81.93032%2C%202.0%5D%2C%20%5B38.2691%2C%20-82.06573%2C%201.0%5D%2C%20%5B38.30682%2C%20-82.04861%2C%202.0%5D%2C%20%5B38.45565%2C%20-81.97969%2C%201.0%5D%2C%20%5B37.89573%2C%20-82.24492%2C%202.0%5D%2C%20%5B38.26977%2C%20-82.0718%2C%200.0%5D%2C%20%5B38.43353%2C%20-81.99596%2C%200.0%5D%2C%20%5B38.62193%2C%20-81.90777%2C%201.0%5D%2C%20%5B38.27861%2C%20-82.07514%2C%201.0%5D%2C%20%5B37.7589%2C%20-82.31700000000002%2C%201.0%5D%2C%20%5B38.15362%2C%20-82.13534%2C%202.0%5D%2C%20%5B37.90953%2C%20-82.24859000000002%2C%200.0%5D%2C%20%5B38.74322%2C%20-81.62533%2C%201.0%5D%2C%20%5B38.64539%2C%20-81.67181%2C%200.0%5D%2C%20%5B37.66876%2C%20-82.12701%2C%201.0%5D%2C%20%5B38.90668%2C%20-81.54791999999998%2C%200.0%5D%2C%20%5B37.98016%2C%20-81.98759%2C%201.0%5D%2C%20%5B37.64776%2C%20-82.14076999999997%2C%200.0%5D%2C%20%5B38.53151%2C%20-81.73040999999998%2C%201.0%5D%2C%20%5B37.63098%2C%20-82.14903000000002%2C%202.0%5D%2C%20%5B38.67804%2C%20-81.66141%2C%201.0%5D%2C%20%5B38.68454000000001%2C%20-81.66306%2C%202.0%5D%2C%20%5B38.40929000000001%2C%20-81.79343%2C%201.0%5D%2C%20%5B38.68619%2C%20-81.66362%2C%202.0%5D%2C%20%5B38.07145%2C%20-81.95208000000002%2C%200.0%5D%2C%20%5B38.41343%2C%20-81.79643%2C%201.0%5D%2C%20%5B37.98677%2C%20-81.99623000000003%2C%201.0%5D%2C%20%5B37.70279%2C%20-82.12746%2C%201.0%5D%2C%20%5B38.34306%2C%20-81.83131%2C%200.0%5D%2C%20%5B37.66356%2C%20-82.1567%2C%201.0%5D%2C%20%5B37.66166%2C%20-82.15771%2C%201.0%5D%2C%20%5B37.79955%2C%20-82.09633000000002%2C%201.0%5D%2C%20%5B38.81932000000001%2C%20-81.6195%2C%201.0%5D%2C%20%5B37.73008%2C%20-82.13391999999997%2C%202.0%5D%2C%20%5B37.85814%2C%20-82.07506%2C%202.0%5D%2C%20%5B38.00294%2C%20-82.00833%2C%202.0%5D%2C%20%5B39.1016%2C%20-81.49038%2C%200.0%5D%2C%20%5B39.31339000000001%2C%20-77.79283000000002%2C%201.0%5D%2C%20%5B39.41904%2C%20-77.75218000000002%2C%202.0%5D%2C%20%5B39.21606%2C%20-77.85654%2C%201.0%5D%2C%20%5B39.251%2C%20-77.84066%2C%201.0%5D%2C%20%5B38.25867%2C%20-82.52929%2C%202.0%5D%2C%20%5B38.40373%2C%20-82.48109000000002%2C%201.0%5D%2C%20%5B38.40109%2C%20-82.48291%2C%201.0%5D%2C%20%5B38.40127%2C%20-82.48295%2C%201.0%5D%2C%20%5B38.41291%2C%20-82.48456999999998%2C%201.0%5D%2C%20%5B38.3725%2C%20-82.5055%2C%201.0%5D%2C%20%5B38.41667%2C%20-82.48648%2C%201.0%5D%2C%20%5B38.34068%2C%20-82.5221%2C%202.0%5D%2C%20%5B38.23279%2C%20-82.59826%2C%201.0%5D%2C%20%5B38.30866%2C%20-82.56322%2C%200.0%5D%2C%20%5B38.23285%2C%20-82.59849%2C%201.0%5D%2C%20%5B38.22501%2C%20-82.60517%2C%201.0%5D%2C%20%5B38.40433%2C%20-82.59473%2C%201.0%5D%2C%20%5B39.63152%2C%20-78.78199000000002%2C%201.0%5D%2C%20%5B39.33995%2C%20-78.93166%2C%201.0%5D%2C%20%5B38.77871%2C%20-79.22551%2C%201.0%5D%2C%20%5B38.98846%2C%20-79.12465%2C%201.0%5D%2C%20%5B38.51548%2C%20-79.36274%2C%201.0%5D%2C%20%5B39.56246%2C%20-78.84801%2C%201.0%5D%2C%20%5B39.05083%2C%20-79.10995%2C%201.0%5D%2C%20%5B39.02446%2C%20-79.1299%2C%201.0%5D%2C%20%5B39.14135%2C%20-79.07294%2C%201.0%5D%2C%20%5B38.55767%2C%20-79.73581999999998%2C%201.0%5D%2C%20%5B38.12465%2C%20-79.9507%2C%202.0%5D%2C%20%5B38.48167%2C%20-79.7803%2C%200.0%5D%2C%20%5B39.11554%2C%20-79.48015%2C%201.0%5D%2C%20%5B38.26027%2C%20-79.90025%2C%201.0%5D%2C%20%5B38.4643%2C%20-79.80476%2C%201.0%5D%2C%20%5B38.45107%2C%20-79.81362%2C%201.0%5D%2C%20%5B39.01479000000001%2C%20-79.54703%2C%200.0%5D%2C%20%5B38.83756%2C%20-79.64291%2C%200.0%5D%2C%20%5B38.15348%2C%20-79.98294%2C%202.0%5D%2C%20%5B38.16429%2C%20-79.98191%2C%201.0%5D%2C%20%5B37.94411%2C%20-80.09048%2C%201.0%5D%2C%20%5B39.12629%2C%20-79.52108%2C%202.0%5D%2C%20%5B38.30609000000001%2C%20-79.94345%2C%200.0%5D%2C%20%5B38.56613%2C%20-79.82047%2C%201.0%5D%2C%20%5B38.55627%2C%20-79.83051999999998%2C%202.0%5D%2C%20%5B37.64485%2C%20-80.26595999999998%2C%201.0%5D%2C%20%5B38.19363%2C%20-80.01275%2C%202.0%5D%2C%20%5B38.19209%2C%20-80.02018000000002%2C%201.0%5D%2C%20%5B38.71117%2C%20-79.77956999999998%2C%202.0%5D%2C%20%5B38.33832%2C%20-79.9627%2C%202.0%5D%2C%20%5B37.78236%2C%20-80.23275%2C%202.0%5D%2C%20%5B38.8128%2C%20-79.7418%2C%201.0%5D%2C%20%5B39.34685%2C%20-79.48751%2C%200.0%5D%2C%20%5B38.1322%2C%20-80.08185%2C%201.0%5D%2C%20%5B39.21131%2C%20-79.57249%2C%201.0%5D%2C%20%5B37.91067%2C%20-80.20198%2C%201.0%5D%2C%20%5B38.60348%2C%20-79.2281%2C%202.0%5D%2C%20%5B39.38218%2C%20-78.85101999999998%2C%200.0%5D%2C%20%5B38.99286%2C%20-79.04498000000002%2C%201.0%5D%2C%20%5B39.13346%2C%20-78.98186%2C%201.0%5D%2C%20%5B38.4487%2C%20-79.31798%2C%201.0%5D%2C%20%5B39.06088%2C%20-79.02249%2C%201.0%5D%2C%20%5B38.60694%2C%20-79.24861999999997%2C%201.0%5D%2C%20%5B38.62595%2C%20-79.24736%2C%201.0%5D%2C%20%5B38.56876%2C%20-79.27931%2C%201.0%5D%2C%20%5B39.33713%2C%20-78.91064%2C%201.0%5D%2C%20%5B39.29672%2C%20-78.93245999999998%2C%201.0%5D%2C%20%5B39.33737%2C%20-78.91771%2C%200.0%5D%2C%20%5B38.51324%2C%20-79.32436%2C%201.0%5D%2C%20%5B39.13807%2C%20-79.86423%2C%201.0%5D%2C%20%5B38.23517%2C%20-80.30122%2C%201.0%5D%2C%20%5B37.74408%2C%20-80.54588000000003%2C%201.0%5D%2C%20%5B39.66241%2C%20-79.61976%2C%201.0%5D%2C%20%5B37.84704%2C%20-80.50163%2C%201.0%5D%2C%20%5B37.75343%2C%20-80.54666999999998%2C%201.0%5D%2C%20%5B38.81832%2C%20-80.04444000000002%2C%201.0%5D%2C%20%5B39.29849%2C%20-79.81029000000002%2C%201.0%5D%2C%20%5B39.36885%2C%20-79.77729000000002%2C%200.0%5D%2C%20%5B39.19667000000001%2C%20-79.86346%2C%201.0%5D%2C%20%5B38.08275%2C%20-80.40204%2C%200.0%5D%2C%20%5B37.53214000000001%2C%20-80.66127%2C%200.0%5D%2C%20%5B39.65482%2C%20-79.64046%2C%201.0%5D%2C%20%5B39.19559%2C%20-79.86806%2C%202.0%5D%2C%20%5B38.07671%2C%20-80.41054%2C%202.0%5D%2C%20%5B38.06357%2C%20-80.42201999999997%2C%200.0%5D%2C%20%5B39.22328%2C%20-79.86452%2C%202.0%5D%2C%20%5B37.97247%2C%20-80.46825%2C%202.0%5D%2C%20%5B39.16739000000001%2C%20-79.89373%2C%202.0%5D%2C%20%5B37.65124%2C%20-80.62423000000003%2C%201.0%5D%2C%20%5B39.3882%2C%20-79.7917%2C%202.0%5D%2C%20%5B39.3301%2C%20-79.825%2C%201.0%5D%2C%20%5B39.22602%2C%20-79.87724%2C%201.0%5D%2C%20%5B39.32821%2C%20-79.83292%2C%202.0%5D%2C%20%5B39.64653%2C%20-78.23254%2C%200.0%5D%2C%20%5B39.28917%2C%20-78.43275%2C%201.0%5D%2C%20%5B39.29786%2C%20-78.43488%2C%202.0%5D%2C%20%5B39.01551%2C%20-78.6051%2C%201.0%5D%2C%20%5B39.15817%2C%20-78.53527%2C%201.0%5D%2C%20%5B39.08113%2C%20-78.57928000000003%2C%202.0%5D%2C%20%5B39.62621%2C%20-78.31147%2C%201.0%5D%2C%20%5B39.55422%2C%20-79.80243%2C%201.0%5D%2C%20%5B37.82769%2C%20-80.6384%2C%200.0%5D%2C%20%5B37.7266%2C%20-80.68771%2C%201.0%5D%2C%20%5B37.79886%2C%20-80.65971%2C%200.0%5D%2C%20%5B37.66144%2C%20-80.72618%2C%200.0%5D%2C%20%5B39.39868%2C%20-79.89689%2C%202.0%5D%2C%20%5B39.41892%2C%20-79.89065%2C%200.0%5D%2C%20%5B38.56999%2C%20-80.306%2C%202.0%5D%2C%20%5B37.94062%2C%20-80.6067%2C%200.0%5D%2C%20%5B37.34854%2C%20-80.88613000000002%2C%201.0%5D%2C%20%5B39.48376%2C%20-79.8668%2C%201.0%5D%2C%20%5B37.54771%2C%20-80.80076%2C%202.0%5D%2C%20%5B39.14619%2C%20-80.03922%2C%201.0%5D%2C%20%5B39.14886%2C%20-80.04004%2C%201.0%5D%2C%20%5B37.90224%2C%20-80.63964%2C%200.0%5D%2C%20%5B38.78276%2C%20-80.22227%2C%200.0%5D%2C%20%5B38.75376%2C%20-80.23714%2C%201.0%5D%2C%20%5B37.66983%2C%20-80.75515%2C%201.0%5D%2C%20%5B39.44441%2C%20-79.90584%2C%200.0%5D%2C%20%5B39.15048%2C%20-80.05381%2C%202.0%5D%2C%20%5B38.81957%2C%20-80.2169%2C%201.0%5D%2C%20%5B39.06855%2C%20-80.10394000000002%2C%201.0%5D%2C%20%5B38.19535%2C%20-80.52455%2C%202.0%5D%2C%20%5B38.94891%2C%20-80.16769000000002%2C%201.0%5D%2C%20%5B39.01126%2C%20-80.13826%2C%202.0%5D%2C%20%5B37.88359000000001%2C%20-80.67976999999998%2C%200.0%5D%2C%20%5B37.92568%2C%20-80.66292%2C%201.0%5D%2C%20%5B38.98205%2C%20-80.15853%2C%200.0%5D%2C%20%5B38.99809000000001%2C%20-80.15198000000002%2C%201.0%5D%2C%20%5B37.94887%2C%20-80.65578000000002%2C%201.0%5D%2C%20%5B39.07292%2C%20-80.12029%2C%201.0%5D%2C%20%5B38.69447%2C%20-79.97594000000002%2C%202.0%5D%2C%20%5B37.53575%2C%20-80.52662%2C%202.0%5D%2C%20%5B39.00948%2C%20-79.8242%2C%202.0%5D%2C%20%5B38.93775%2C%20-79.86019%2C%201.0%5D%2C%20%5B39.58753%2C%20-79.5432%2C%201.0%5D%2C%20%5B39.22818%2C%20-79.72112%2C%202.0%5D%2C%20%5B38.95433%2C%20-79.85745%2C%201.0%5D%2C%20%5B38.95267%2C%20-79.85866%2C%201.0%5D%2C%20%5B38.41612%2C%20-80.11922%2C%201.0%5D%2C%20%5B37.76721%2C%20-80.42791%2C%201.0%5D%2C%20%5B38.29806%2C%20-80.17671%2C%202.0%5D%2C%20%5B37.53398%2C%20-80.5383%2C%201.0%5D%2C%20%5B38.73413%2C%20-79.96953%2C%201.0%5D%2C%20%5B38.63228%2C%20-80.02339%2C%200.0%5D%2C%20%5B39.05512%2C%20-79.81848000000002%2C%201.0%5D%2C%20%5B38.68136%2C%20-80.00304%2C%201.0%5D%2C%20%5B39.31693%2C%20-79.69367%2C%201.0%5D%2C%20%5B38.73376%2C%20-79.98002%2C%201.0%5D%2C%20%5B39.65375%2C%20-79.53065%2C%202.0%5D%2C%20%5B39.54291%2C%20-79.58715%2C%202.0%5D%2C%20%5B37.81653%2C%20-80.428%2C%201.0%5D%2C%20%5B38.74552%2C%20-79.9872%2C%201.0%5D%2C%20%5B39.47893%2C%20-79.63346999999997%2C%200.0%5D%2C%20%5B39.28326%2C%20-79.73034%2C%200.0%5D%2C%20%5B38.13657%2C%20-80.28828%2C%201.0%5D%2C%20%5B39.48845%2C%20-79.63297%2C%201.0%5D%2C%20%5B37.54627%2C%20-80.57568%2C%202.0%5D%2C%20%5B37.55696%2C%20-80.572%2C%201.0%5D%2C%20%5B39.41625%2C%20-79.68806%2C%202.0%5D%2C%20%5B39.53418%2C%20-79.63166%2C%201.0%5D%2C%20%5B39.56199%2C%20-79.62159%2C%201.0%5D%2C%20%5B38.33111%2C%20-80.22195%2C%201.0%5D%2C%20%5B37.69736%2C%20-80.52528000000002%2C%200.0%5D%2C%20%5B38.05929%2C%20-80.35576%2C%200.0%5D%2C%20%5B39.38706%2C%20-79.71726%2C%200.0%5D%2C%20%5B39.62673%2C%20-79.59943%2C%201.0%5D%2C%20%5B39.1899%2C%20-79.81825%2C%202.0%5D%2C%20%5B39.00952%2C%20-79.90777%2C%202.0%5D%2C%20%5B38.89726%2C%20-79.96767%2C%201.0%5D%2C%20%5B39.464%2C%20-79.69136%2C%201.0%5D%2C%20%5B38.0966%2C%20-80.35889%2C%202.0%5D%2C%20%5B37.84598%2C%20-80.47948000000002%2C%201.0%5D%2C%20%5B38.93934%2C%20-80.23877%2C%201.0%5D%2C%20%5B38.99841%2C%20-80.21025999999998%2C%201.0%5D%2C%20%5B38.44568%2C%20-80.47809000000002%2C%202.0%5D%2C%20%5B39.62724%2C%20-79.90346%2C%201.0%5D%2C%20%5B38.99994%2C%20-80.21321%2C%201.0%5D%2C%20%5B38.63016%2C%20-80.39214%2C%201.0%5D%2C%20%5B39.51300000000001%2C%20-79.9638%2C%200.0%5D%2C%20%5B39.15453%2C%20-80.1401%2C%202.0%5D%2C%20%5B39.02306%2C%20-80.20563%2C%202.0%5D%2C%20%5B38.99559%2C%20-80.22052%2C%201.0%5D%2C%20%5B38.78439%2C%20-80.32526%2C%200.0%5D%2C%20%5B37.75266%2C%20-80.8158%2C%201.0%5D%2C%20%5B39.34956%2C%20-80.05315999999998%2C%201.0%5D%2C%20%5B39.59963%2C%20-79.93023000000002%2C%201.0%5D%2C%20%5B38.99893%2C%20-80.22671%2C%200.0%5D%2C%20%5B39.00259000000001%2C%20-80.22511%2C%201.0%5D%2C%20%5B39.62316%2C%20-79.92183%2C%202.0%5D%2C%20%5B39.6182%2C%20-79.92499000000002%2C%201.0%5D%2C%20%5B38.79452%2C%20-80.33009%2C%201.0%5D%2C%20%5B38.99825%2C%20-80.23236%2C%201.0%5D%2C%20%5B39.02921%2C%20-80.22031%2C%202.0%5D%2C%20%5B38.56427%2C%20-80.44501%2C%201.0%5D%2C%20%5B39.6526%2C%20-79.9147%2C%200.0%5D%2C%20%5B39.04534%2C%20-80.4644%2C%200.0%5D%2C%20%5B38.124%2C%20-80.65785%2C%201.0%5D%2C%20%5B38.99704000000001%2C%20-80.24124%2C%201.0%5D%2C%20%5B39.58403%2C%20-79.95371999999998%2C%201.0%5D%2C%20%5B38.88443%2C%20-80.29741%2C%202.0%5D%2C%20%5B37.31391%2C%20-81.03988000000003%2C%201.0%5D%2C%20%5B39.39887%2C%20-80.04735%2C%201.0%5D%2C%20%5B37.82838%2C%20-80.80315%2C%201.0%5D%2C%20%5B37.65109%2C%20-80.88678%2C%201.0%5D%2C%20%5B37.56227%2C%20-80.93053%2C%201.0%5D%2C%20%5B39.22409%2C%20-80.13858%2C%201.0%5D%2C%20%5B38.617%2C%20-79.86974000000002%2C%202.0%5D%2C%20%5B39.18549%2C%20-79.59475%2C%200.0%5D%2C%20%5B37.7207%2C%20-80.30256%2C%201.0%5D%2C%20%5B39.09719000000001%2C%20-79.64197%2C%201.0%5D%2C%20%5B37.48911%2C%20-80.4116%2C%200.0%5D%2C%20%5B39.09116%2C%20-79.64799000000002%2C%201.0%5D%2C%20%5B37.91743%2C%20-80.21361%2C%200.0%5D%2C%20%5B37.79872%2C%20-80.27887%2C%201.0%5D%2C%20%5B38.59845%2C%20-79.89883%2C%201.0%5D%2C%20%5B37.9558%2C%20-80.21001%2C%200.0%5D%2C%20%5B37.94439000000001%2C%20-80.21717%2C%202.0%5D%2C%20%5B37.81618%2C%20-80.28063%2C%201.0%5D%2C%20%5B37.79068%2C%20-80.29438%2C%202.0%5D%2C%20%5B38.2083%2C%20-80.09827%2C%201.0%5D%2C%20%5B37.56226%2C%20-80.40496%2C%202.0%5D%2C%20%5B37.8015%2C%20-80.293%2C%201.0%5D%2C%20%5B37.78154%2C%20-80.30487%2C%200.0%5D%2C%20%5B38.2245%2C%20-80.09597%2C%201.0%5D%2C%20%5B37.56168%2C%20-80.40961999999998%2C%201.0%5D%2C%20%5B37.79875%2C%20-80.2996%2C%201.0%5D%2C%20%5B38.24113%2C%20-80.08995%2C%201.0%5D%2C%20%5B39.43748%2C%20-79.51371999999998%2C%201.0%5D%2C%20%5B38.11446%2C%20-80.15865%2C%202.0%5D%2C%20%5B39.12148%2C%20-79.67545%2C%200.0%5D%2C%20%5B38.87621%2C%20-79.79791%2C%201.0%5D%2C%20%5B38.11425%2C%20-80.16683%2C%200.0%5D%2C%20%5B37.91911%2C%20-80.25992%2C%201.0%5D%2C%20%5B38.1946%2C%20-80.13575%2C%200.0%5D%2C%20%5B38.19835%2C%20-80.13493000000003%2C%202.0%5D%2C%20%5B37.77051%2C%20-80.34198%2C%201.0%5D%2C%20%5B38.27117%2C%20-80.10624%2C%200.0%5D%2C%20%5B38.8244%2C%20-79.84528%2C%202.0%5D%2C%20%5B37.76107%2C%20-80.35446%2C%202.0%5D%2C%20%5B37.48952%2C%20-80.48952%2C%201.0%5D%2C%20%5B37.7705%2C%20-80.36851999999998%2C%201.0%5D%2C%20%5B37.6124%2C%20-80.44385%2C%200.0%5D%2C%20%5B39.33729%2C%20-79.99164%2C%201.0%5D%2C%20%5B38.222%2C%20-80.5328%2C%201.0%5D%2C%20%5B39.69708%2C%20-79.81671999999998%2C%201.0%5D%2C%20%5B38.0857%2C%20-80.59976%2C%200.0%5D%2C%20%5B38.48044%2C%20-80.41332%2C%200.0%5D%2C%20%5B37.33648%2C%20-80.95302%2C%202.0%5D%2C%20%5B39.07442%2C%20-80.13408000000003%2C%201.0%5D%2C%20%5B37.86076%2C%20-80.71504%2C%201.0%5D%2C%20%5B38.42844%2C%20-80.44728%2C%201.0%5D%2C%20%5B37.85784%2C%20-80.71762%2C%201.0%5D%2C%20%5B37.85319000000001%2C%20-80.7219%2C%201.0%5D%2C%20%5B39.7022%2C%20-79.8291%2C%200.0%5D%2C%20%5B38.2121%2C%20-80.55558%2C%202.0%5D%2C%20%5B39.70507%2C%20-79.83083%2C%202.0%5D%2C%20%5B39.6758%2C%20-79.84858%2C%200.0%5D%2C%20%5B37.6025%2C%20-80.84588000000002%2C%201.0%5D%2C%20%5B39.6805%2C%20-79.8476%2C%200.0%5D%2C%20%5B39.6809%2C%20-79.848%2C%200.0%5D%2C%20%5B39.68767%2C%20-79.8456%2C%200.0%5D%2C%20%5B39.60939000000001%2C%20-79.88578000000003%2C%200.0%5D%2C%20%5B39.60888%2C%20-79.88902%2C%201.0%5D%2C%20%5B38.91487%2C%20-80.2295%2C%201.0%5D%2C%20%5B37.95138%2C%20-80.69041%2C%201.0%5D%2C%20%5B39.29567%2C%20-80.04482%2C%200.0%5D%2C%20%5B39.66931%2C%20-79.8637%2C%201.0%5D%2C%20%5B38.56874000000001%2C%20-80.40132%2C%200.0%5D%2C%20%5B39.31839%2C%20-80.04228%2C%201.0%5D%2C%20%5B39.30691%2C%20-80.0483%2C%201.0%5D%2C%20%5B39.29423%2C%20-80.05549%2C%201.0%5D%2C%20%5B37.83948%2C%20-80.75368%2C%201.0%5D%2C%20%5B38.74817%2C%20-80.32641%2C%201.0%5D%2C%20%5B39.06175%2C%20-80.17492%2C%200.0%5D%2C%20%5B39.6674%2C%20-80.05075%2C%200.0%5D%2C%20%5B39.48263%2C%20-80.1429%2C%202.0%5D%2C%20%5B39.52945%2C%20-80.12109%2C%201.0%5D%2C%20%5B37.27848%2C%20-81.19321%2C%202.0%5D%2C%20%5B37.43962%2C%20-81.12054%2C%201.0%5D%2C%20%5B39.69244000000001%2C%20-80.04275%2C%201.0%5D%2C%20%5B39.1619%2C%20-80.22%2C%202.0%5D%2C%20%5B39.64284%2C%20-79.98384%2C%201.0%5D%2C%20%5B37.36672%2C%20-81.07513%2C%201.0%5D%2C%20%5B39.52982%2C%20-80.0443%2C%202.0%5D%2C%20%5B38.66458%2C%20-80.46889%2C%200.0%5D%2C%20%5B39.01035%2C%20-80.30254000000002%2C%201.0%5D%2C%20%5B37.36647%2C%20-81.08293%2C%201.0%5D%2C%20%5B37.36016%2C%20-81.08596999999997%2C%201.0%5D%2C%20%5B37.85354%2C%20-80.85779000000002%2C%200.0%5D%2C%20%5B39.47201%2C%20-80.08073%2C%202.0%5D%2C%20%5B37.78059%2C%20-80.89514%2C%201.0%5D%2C%20%5B38.49624%2C%20-80.55717%2C%200.0%5D%2C%20%5B38.45404%2C%20-80.5777%2C%201.0%5D%2C%20%5B37.86534%2C%20-80.85709%2C%202.0%5D%2C%20%5B39.47464%2C%20-80.0851%2C%200.0%5D%2C%20%5B37.83545%2C%20-80.87286%2C%201.0%5D%2C%20%5B39.2048%2C%20-80.21936%2C%200.0%5D%2C%20%5B39.51399%2C%20-80.06808000000002%2C%200.0%5D%2C%20%5B37.43536%2C%20-81.06151%2C%200.0%5D%2C%20%5B37.35833%2C%20-81.09715%2C%202.0%5D%2C%20%5B37.42655%2C%20-81.0659%2C%201.0%5D%2C%20%5B37.41779%2C%20-81.07081%2C%200.0%5D%2C%20%5B37.42604%2C%20-81.06709000000002%2C%201.0%5D%2C%20%5B39.51687%2C%20-80.07075%2C%200.0%5D%2C%20%5B39.27231%2C%20-80.19218000000002%2C%200.0%5D%2C%20%5B37.60799%2C%20-80.98689%2C%202.0%5D%2C%20%5B37.39589%2C%20-81.08554000000002%2C%201.0%5D%2C%20%5B39.52223%2C%20-80.07141999999997%2C%202.0%5D%2C%20%5B39.69576%2C%20-79.98661%2C%201.0%5D%2C%20%5B39.1355%2C%20-80.2624%2C%200.0%5D%2C%20%5B39.48898%2C%20-80.09128%2C%200.0%5D%2C%20%5B38.78083%2C%20-80.43666999999998%2C%200.0%5D%2C%20%5B38.49411%2C%20-80.5769%2C%201.0%5D%2C%20%5B39.11511%2C%20-80.2777%2C%202.0%5D%2C%20%5B37.46503%2C%20-81.06401%2C%202.0%5D%2C%20%5B39.36915%2C%20-80.15722%2C%201.0%5D%2C%20%5B37.31968%2C%20-81.13493000000003%2C%201.0%5D%2C%20%5B37.54475%2C%20-80.68795%2C%200.0%5D%2C%20%5B39.39177%2C%20-79.80366%2C%200.0%5D%2C%20%5B39.29856%2C%20-79.85112%2C%200.0%5D%2C%20%5B39.18638%2C%20-79.9069%2C%201.0%5D%2C%20%5B37.50617%2C%20-80.71507%2C%200.0%5D%2C%20%5B39.61022%2C%20-79.70711%2C%200.0%5D%2C%20%5B37.7765%2C%20-80.59472%2C%202.0%5D%2C%20%5B39.432%2C%20-79.7986%2C%202.0%5D%2C%20%5B37.91151%2C%20-80.53256%2C%200.0%5D%2C%20%5B39.20339%2C%20-79.9148%2C%201.0%5D%2C%20%5B37.74818%2C%20-80.61791%2C%201.0%5D%2C%20%5B38.87%2C%20-80.08479%2C%202.0%5D%2C%20%5B38.42147%2C%20-80.3037%2C%200.0%5D%2C%20%5B38.47068%2C%20-80.28267%2C%201.0%5D%2C%20%5B39.44219%2C%20-79.81311%2C%201.0%5D%2C%20%5B38.78399%2C%20-80.14023%2C%201.0%5D%2C%20%5B39.44955%2C%20-79.81508000000002%2C%202.0%5D%2C%20%5B38.7548%2C%20-80.15799%2C%202.0%5D%2C%20%5B39.38846%2C%20-79.84869%2C%200.0%5D%2C%20%5B39.2858%2C%20-79.9017%2C%201.0%5D%2C%20%5B39.65018%2C%20-79.72185%2C%202.0%5D%2C%20%5B37.79246%2C%20-80.62082%2C%202.0%5D%2C%20%5B38.65278%2C%20-80.21222%2C%201.0%5D%2C%20%5B37.69713%2C%20-80.66765%2C%201.0%5D%2C%20%5B37.89019%2C%20-80.57869000000002%2C%201.0%5D%2C%20%5B37.7309%2C%20-80.6561%2C%200.0%5D%2C%20%5B39.28938%2C%20-79.90897%2C%201.0%5D%2C%20%5B39.4044%2C%20-79.8557%2C%200.0%5D%2C%20%5B38.84242%2C%20-80.13173%2C%200.0%5D%2C%20%5B38.8364%2C%20-80.13815%2C%201.0%5D%2C%20%5B39.50095%2C%20-79.81278%2C%201.0%5D%2C%20%5B38.27864%2C%20-80.4101%2C%202.0%5D%2C%20%5B37.82563%2C%20-80.62489000000002%2C%201.0%5D%2C%20%5B37.51598%2C%20-80.76991%2C%202.0%5D%2C%20%5B39.39535%2C%20-79.87049%2C%201.0%5D%2C%20%5B39.52812%2C%20-79.80654%2C%201.0%5D%2C%20%5B39.34373%2C%20-79.90064%2C%201.0%5D%2C%20%5B39.54331%2C%20-80.11893%2C%200.0%5D%2C%20%5B39.46572000000001%2C%20-80.15822%2C%201.0%5D%2C%20%5B39.66467%2C%20-80.06012%2C%200.0%5D%2C%20%5B38.87316%2C%20-80.44936%2C%202.0%5D%2C%20%5B39.05446%2C%20-80.3617%2C%201.0%5D%2C%20%5B39.6661%2C%20-80.0631%2C%201.0%5D%2C%20%5B37.49587%2C%20-81.10266%2C%201.0%5D%2C%20%5B38.67539%2C%20-80.54736%2C%200.0%5D%2C%20%5B39.28513%2C%20-80.25198%2C%200.0%5D%2C%20%5B37.80358%2C%20-81.5725%2C%200.0%5D%2C%20%5B37.39606%2C%20-81.15252%2C%201.0%5D%2C%20%5B39.32752%2C%20-80.23545%2C%201.0%5D%2C%20%5B39.13395%2C%20-80.33232%2C%200.0%5D%2C%20%5B39.4325%2C%20-80.1871%2C%201.0%5D%2C%20%5B39.39291%2C%20-80.20661%2C%201.0%5D%2C%20%5B39.06363%2C%20-80.36828%2C%201.0%5D%2C%20%5B39.4052%2C%20-80.20395%2C%201.0%5D%2C%20%5B37.27179%2C%20-81.21755999999998%2C%202.0%5D%2C%20%5B39.40936%2C%20-80.20624000000002%2C%201.0%5D%2C%20%5B39.22602%2C%20-80.29691%2C%201.0%5D%2C%20%5B39.41611%2C%20-80.20603%2C%200.0%5D%2C%20%5B39.71396%2C%20-80.05963%2C%201.0%5D%2C%20%5B39.23396%2C%20-80.29613%2C%201.0%5D%2C%20%5B39.71495%2C%20-80.06104%2C%201.0%5D%2C%20%5B39.25768%2C%20-80.28683000000002%2C%201.0%5D%2C%20%5B39.50639%2C%20-80.16785%2C%200.0%5D%2C%20%5B39.71993%2C%20-80.06248000000002%2C%201.0%5D%2C%20%5B39.07042%2C%20-80.38325999999998%2C%202.0%5D%2C%20%5B39.54559%2C%20-80.15116%2C%201.0%5D%2C%20%5B39.60529%2C%20-80.12538%2C%201.0%5D%2C%20%5B39.18803%2C%20-80.33296999999997%2C%201.0%5D%2C%20%5B38.81663%2C%20-80.51364000000002%2C%201.0%5D%2C%20%5B39.45686%2C%20-80.20316%2C%202.0%5D%2C%20%5B39.05393%2C%20-80.40043%2C%202.0%5D%2C%20%5B39.70068%2C%20-79.99706%2C%200.0%5D%2C%20%5B37.47033%2C%20-81.06704%2C%201.0%5D%2C%20%5B37.34227%2C%20-81.12624%2C%202.0%5D%2C%20%5B37.34276%2C%20-81.12697%2C%201.0%5D%2C%20%5B37.32243%2C%20-81.13736%2C%201.0%5D%2C%20%5B38.52325%2C%20-80.57636%2C%201.0%5D%2C%20%5B38.67712%2C%20-80.50338%2C%202.0%5D%2C%20%5B37.27407%2C%20-81.1645%2C%202.0%5D%2C%20%5B39.6738%2C%20-80.0195%2C%201.0%5D%2C%20%5B39.51324%2C%20-80.10084%2C%200.0%5D%2C%20%5B37.47948%2C%20-81.07319%2C%201.0%5D%2C%20%5B37.38356%2C%20-81.12143%2C%201.0%5D%2C%20%5B37.28357000000001%2C%20-81.16775%2C%202.0%5D%2C%20%5B38.92184%2C%20-80.39686999999998%2C%200.0%5D%2C%20%5B39.46821%2C%20-80.1315%2C%200.0%5D%2C%20%5B37.33228%2C%20-81.15018%2C%201.0%5D%2C%20%5B39.6671%2C%20-80.03548%2C%200.0%5D%2C%20%5B39.172%2C%20-80.2809%2C%201.0%5D%2C%20%5B39.67452%2C%20-80.03515%2C%201.0%5D%2C%20%5B39.4569%2C%20-80.14514%2C%201.0%5D%2C%20%5B39.55056%2C%20-80.09904%2C%202.0%5D%2C%20%5B37.54437%2C%20-81.05943%2C%200.0%5D%2C%20%5B37.55446%2C%20-81.05545%2C%202.0%5D%2C%20%5B39.31342%2C%20-80.22279%2C%200.0%5D%2C%20%5B39.5297%2C%20-80.1166%2C%201.0%5D%2C%20%5B38.15096%2C%20-80.92714000000002%2C%201.0%5D%2C%20%5B37.85603%2C%20-81.067%2C%201.0%5D%2C%20%5B38.69716%2C%20-80.66925%2C%201.0%5D%2C%20%5B39.33079%2C%20-80.36241%2C%200.0%5D%2C%20%5B39.17658%2C%20-80.43897%2C%200.0%5D%2C%20%5B39.67415%2C%20-80.19537%2C%200.0%5D%2C%20%5B38.76229%2C%20-80.6417%2C%202.0%5D%2C%20%5B39.41596%2C%20-80.32460999999998%2C%200.0%5D%2C%20%5B39.28632%2C%20-80.38919%2C%202.0%5D%2C%20%5B39.18275%2C%20-80.44008000000002%2C%201.0%5D%2C%20%5B39.37357%2C%20-80.34773%2C%201.0%5D%2C%20%5B39.41828%2C%20-80.32691%2C%200.0%5D%2C%20%5B37.3905%2C%20-81.29118000000003%2C%201.0%5D%2C%20%5B39.48857%2C%20-80.01185%2C%202.0%5D%2C%20%5B39.62484%2C%20-79.94481%2C%200.0%5D%2C%20%5B37.69359%2C%20-80.8768%2C%201.0%5D%2C%20%5B38.71154%2C%20-80.39488%2C%201.0%5D%2C%20%5B38.88048%2C%20-80.3157%2C%201.0%5D%2C%20%5B37.66724%2C%20-80.89196%2C%201.0%5D%2C%20%5B39.5786%2C%20-79.976%2C%202.0%5D%2C%20%5B39.5786%2C%20-79.9763%2C%202.0%5D%2C%20%5B39.23954000000001%2C%20-80.14433000000002%2C%201.0%5D%2C%20%5B39.26608%2C%20-80.13233000000002%2C%200.0%5D%2C%20%5B39.2687%2C%20-80.13225%2C%200.0%5D%2C%20%5B39.5863%2C%20-79.9764%2C%202.0%5D%2C%20%5B38.04786%2C%20-80.72173000000002%2C%202.0%5D%2C%20%5B38.04447%2C%20-80.72366%2C%201.0%5D%2C%20%5B39.44981%2C%20-80.04701%2C%200.0%5D%2C%20%5B39.58821%2C%20-79.97925%2C%201.0%5D%2C%20%5B39.5202%2C%20-80.0159%2C%202.0%5D%2C%20%5B37.96921%2C%20-80.76366%2C%200.0%5D%2C%20%5B37.3629%2C%20-81.04876999999998%2C%201.0%5D%2C%20%5B39.34924%2C%20-80.10381%2C%201.0%5D%2C%20%5B37.96871%2C%20-80.76857%2C%201.0%5D%2C%20%5B37.37921%2C%20-81.04385%2C%201.0%5D%2C%20%5B39.59781%2C%20-79.98761%2C%200.0%5D%2C%20%5B37.7225%2C%20-80.88975%2C%201.0%5D%2C%20%5B39.6675%2C%20-79.9583%2C%201.0%5D%2C%20%5B38.47401%2C%20-80.54195%2C%201.0%5D%2C%20%5B38.63601%2C%20-80.46609000000002%2C%201.0%5D%2C%20%5B37.38659000000001%2C%20-81.05461%2C%201.0%5D%2C%20%5B39.37725%2C%20-80.10889%2C%201.0%5D%2C%20%5B39.62284%2C%20-79.98912%2C%201.0%5D%2C%20%5B39.62721%2C%20-79.98845%2C%202.0%5D%2C%20%5B39.0746%2C%20-80.64061%2C%201.0%5D%2C%20%5B37.41982%2C%20-81.42175999999998%2C%201.0%5D%2C%20%5B38.65411%2C%20-80.84532%2C%201.0%5D%2C%20%5B39.4034%2C%20-80.48299%2C%201.0%5D%2C%20%5B38.79773%2C%20-80.7776%2C%201.0%5D%2C%20%5B37.82337%2C%20-80.63684%2C%200.0%5D%2C%20%5B37.28792%2C%20-81.2635%2C%202.0%5D%2C%20%5B37.76445%2C%20-81.04347%2C%201.0%5D%2C%20%5B38.45922%2C%20-80.71880999999998%2C%201.0%5D%2C%20%5B37.9793%2C%20-80.94659%2C%201.0%5D%2C%20%5B38.07065%2C%20-80.90541999999998%2C%202.0%5D%2C%20%5B38.92723%2C%20-80.49729%2C%201.0%5D%2C%20%5B39.27607%2C%20-80.32883000000002%2C%202.0%5D%2C%20%5B37.38197%2C%20-81.22776%2C%200.0%5D%2C%20%5B39.22869%2C%20-80.35217%2C%202.0%5D%2C%20%5B37.99862%2C%20-80.9424%2C%202.0%5D%2C%20%5B39.51584%2C%20-80.21276%2C%201.0%5D%2C%20%5B37.63969%2C%20-81.11147%2C%201.0%5D%2C%20%5B39.60346%2C%20-80.17138%2C%201.0%5D%2C%20%5B37.65033%2C%20-81.10847%2C%201.0%5D%2C%20%5B38.46731%2C%20-80.72458%2C%201.0%5D%2C%20%5B38.89549%2C%20-80.52016%2C%202.0%5D%2C%20%5B37.35477%2C%20-81.24745%2C%201.0%5D%2C%20%5B38.13823%2C%20-80.88549%2C%201.0%5D%2C%20%5B39.23923%2C%20-80.35729%2C%201.0%5D%2C%20%5B37.3537%2C%20-81.25424%2C%202.0%5D%2C%20%5B39.4615%2C%20-80.2527%2C%202.0%5D%2C%20%5B38.61699%2C%20-80.66311%2C%201.0%5D%2C%20%5B39.04108%2C%20-80.46106%2C%201.0%5D%2C%20%5B39.70153%2C%20-80.13826999999998%2C%200.0%5D%2C%20%5B39.06394%2C%20-80.453%2C%202.0%5D%2C%20%5B39.38174%2C%20-80.29804%2C%200.0%5D%2C%20%5B39.28563%2C%20-80.34628000000002%2C%200.0%5D%2C%20%5B37.339%2C%20-81.26974%2C%201.0%5D%2C%20%5B38.79095%2C%20-80.58921%2C%201.0%5D%2C%20%5B39.35001%2C%20-80.31779%2C%201.0%5D%2C%20%5B39.27297%2C%20-80.3565%2C%201.0%5D%2C%20%5B39.02523%2C%20-80.47757%2C%200.0%5D%2C%20%5B38.24015%2C%20-80.85436%2C%201.0%5D%2C%20%5B39.10276%2C%20-80.37838%2C%201.0%5D%2C%20%5B39.30892%2C%20-80.27848%2C%202.0%5D%2C%20%5B39.159%2C%20-80.3551%2C%201.0%5D%2C%20%5B39.15928%2C%20-80.3555%2C%201.0%5D%2C%20%5B38.679%2C%20-80.59071999999998%2C%202.0%5D%2C%20%5B39.45906%2C%20-80.21256%2C%200.0%5D%2C%20%5B39.09157%2C%20-80.39352%2C%201.0%5D%2C%20%5B39.01975%2C%20-80.42866%2C%201.0%5D%2C%20%5B39.53238%2C%20-80.17924000000002%2C%201.0%5D%2C%20%5B39.0196%2C%20-80.43033%2C%202.0%5D%2C%20%5B39.07285%2C%20-80.40529000000002%2C%201.0%5D%2C%20%5B39.13648%2C%20-80.37478%2C%202.0%5D%2C%20%5B39.46689%2C%20-80.21378%2C%202.0%5D%2C%20%5B39.02671%2C%20-80.4307%2C%202.0%5D%2C%20%5B39.12223%2C%20-80.38688%2C%202.0%5D%2C%20%5B39.471%2C%20-80.21715999999998%2C%201.0%5D%2C%20%5B38.86691%2C%20-80.51339%2C%201.0%5D%2C%20%5B39.5845%2C%20-80.1633%2C%200.0%5D%2C%20%5B37.45538%2C%20-81.18124%2C%201.0%5D%2C%20%5B37.36836%2C%20-81.22176999999998%2C%201.0%5D%2C%20%5B39.27714%2C%20-80.31799000000002%2C%201.0%5D%2C%20%5B39.47587%2C%20-80.22176999999998%2C%201.0%5D%2C%20%5B37.78787%2C%20-81.18269000000002%2C%201.0%5D%2C%20%5B37.789%2C%20-81.18406999999998%2C%201.0%5D%2C%20%5B38.46181%2C%20-80.86819%2C%200.0%5D%2C%20%5B39.21326%2C%20-80.50706%2C%200.0%5D%2C%20%5B38.69201%2C%20-80.7608%2C%201.0%5D%2C%20%5B38.68643%2C%20-80.76387%2C%201.0%5D%2C%20%5B38.67682%2C%20-80.77073%2C%201.0%5D%2C%20%5B37.76553%2C%20-81.20134%2C%202.0%5D%2C%20%5B39.55149%2C%20-80.34826%2C%202.0%5D%2C%20%5B39.56438%2C%20-80.34339%2C%200.0%5D%2C%20%5B39.32166%2C%20-80.46498000000003%2C%201.0%5D%2C%20%5B37.76076%2C%20-81.20952%2C%201.0%5D%2C%20%5B39.27603%2C%20-80.4887%2C%201.0%5D%2C%20%5B39.69476%2C%20-80.28565%2C%202.0%5D%2C%20%5B37.41911%2C%20-81.42573%2C%201.0%5D%2C%20%5B38.89597%2C%20-80.73186%2C%201.0%5D%2C%20%5B37.5911%2C%20-81.34835%2C%201.0%5D%2C%20%5B38.55895%2C%20-80.89437%2C%200.0%5D%2C%20%5B38.24258%2C%20-81.04526%2C%200.0%5D%2C%20%5B38.86795%2C%20-80.74799%2C%202.0%5D%2C%20%5B38.63767%2C%20-80.85928%2C%201.0%5D%2C%20%5B39.05413%2C%20-80.65935%2C%201.0%5D%2C%20%5B37.53802%2C%20-81.37881999999998%2C%201.0%5D%2C%20%5B38.13629%2C%20-81.10035%2C%201.0%5D%2C%20%5B37.80214%2C%20-81.25726999999998%2C%201.0%5D%2C%20%5B38.44487%2C%20-80.9555%2C%200.0%5D%2C%20%5B37.84649%2C%20-81.23873%2C%201.0%5D%2C%20%5B37.84634000000001%2C%20-81.23894%2C%201.0%5D%2C%20%5B38.88714%2C%20-80.74673%2C%202.0%5D%2C%20%5B39.4096%2C%20-80.4957%2C%201.0%5D%2C%20%5B38.25806%2C%20-81.05147%2C%200.0%5D%2C%20%5B37.42191%2C%20-81.44115%2C%201.0%5D%2C%20%5B37.41894%2C%20-81.44413%2C%201.0%5D%2C%20%5B37.54184%2C%20-81.3887%2C%202.0%5D%2C%20%5B38.45244%2C%20-80.96817%2C%201.0%5D%2C%20%5B38.82315%2C%20-80.79185%2C%200.0%5D%2C%20%5B37.85672%2C%20-81.25056%2C%200.0%5D%2C%20%5B38.08209%2C%20-81.14595%2C%200.0%5D%2C%20%5B37.58179000000001%2C%20-81.38179000000002%2C%201.0%5D%2C%20%5B38.07493%2C%20-81.15379%2C%202.0%5D%2C%20%5B37.40499000000001%2C%20-81.46621%2C%202.0%5D%2C%20%5B37.86568%2C%20-81.25364%2C%200.0%5D%2C%20%5B37.60022%2C%20-81.37897%2C%201.0%5D%2C%20%5B37.59651%2C%20-81.38138000000002%2C%202.0%5D%2C%20%5B39.567%2C%20-80.4427%2C%202.0%5D%2C%20%5B38.83619%2C%20-80.79838000000002%2C%201.0%5D%2C%20%5B37.20758%2C%20-81.56331999999998%2C%201.0%5D%2C%20%5B37.8665%2C%20-81.2603%2C%201.0%5D%2C%20%5B38.45689%2C%20-80.98437%2C%200.0%5D%2C%20%5B37.77047%2C%20-81.30722%2C%202.0%5D%2C%20%5B39.5533%2C%20-80.4577%2C%200.0%5D%2C%20%5B37.8717%2C%20-81.2629%2C%201.0%5D%2C%20%5B39.04158%2C%20-80.47083%2C%201.0%5D%2C%20%5B39.39923%2C%20-80.29732%2C%200.0%5D%2C%20%5B39.2895%2C%20-80.35136%2C%201.0%5D%2C%20%5B39.70751%2C%20-80.14799000000002%2C%201.0%5D%2C%20%5B37.41981%2C%20-81.24173%2C%201.0%5D%2C%20%5B37.41711%2C%20-81.24455%2C%202.0%5D%2C%20%5B37.41762%2C%20-81.24486%2C%202.0%5D%2C%20%5B39.51154%2C%20-80.24838000000003%2C%201.0%5D%2C%20%5B37.68215%2C%20-81.12394%2C%201.0%5D%2C%20%5B37.30279%2C%20-81.30033%2C%201.0%5D%2C%20%5B39.19898%2C%20-80.40414%2C%201.0%5D%2C%20%5B39.46256%2C%20-80.27683%2C%200.0%5D%2C%20%5B39.048%2C%20-80.47967%2C%201.0%5D%2C%20%5B39.29327%2C%20-80.36229%2C%202.0%5D%2C%20%5B38.89133%2C%20-80.55815%2C%201.0%5D%2C%20%5B38.58009000000001%2C%20-80.70907%2C%201.0%5D%2C%20%5B39.57767%2C%20-80.22658%2C%200.0%5D%2C%20%5B39.23653%2C%20-80.39654%2C%200.0%5D%2C%20%5B38.50062%2C%20-80.75304%2C%202.0%5D%2C%20%5B39.12662%2C%20-80.4521%2C%201.0%5D%2C%20%5B39.07852000000001%2C%20-80.47738000000003%2C%201.0%5D%2C%20%5B38.50075%2C%20-80.75546999999997%2C%201.0%5D%2C%20%5B37.30558%2C%20-81.31496%2C%201.0%5D%2C%20%5B37.30707%2C%20-81.31442%2C%201.0%5D%2C%20%5B39.08659%2C%20-80.47561%2C%202.0%5D%2C%20%5B39.34371%2C%20-80.35181999999998%2C%201.0%5D%2C%20%5B37.32391%2C%20-81.31175%2C%202.0%5D%2C%20%5B37.33338%2C%20-81.54186%2C%201.0%5D%2C%20%5B39.35999%2C%20-80.58445%2C%202.0%5D%2C%20%5B38.21015%2C%20-81.13755%2C%201.0%5D%2C%20%5B38.23859%2C%20-81.12585%2C%200.0%5D%2C%20%5B37.64439%2C%20-81.40344%2C%201.0%5D%2C%20%5B38.21187000000001%2C%20-81.14049%2C%201.0%5D%2C%20%5B38.247%2C%20-81.125%2C%202.0%5D%2C%20%5B38.61714%2C%20-80.9515%2C%201.0%5D%2C%20%5B38.61774000000001%2C%20-80.95208000000002%2C%201.0%5D%2C%20%5B37.35209%2C%20-81.54714%2C%201.0%5D%2C%20%5B37.88287%2C%20-81.15643%2C%201.0%5D%2C%20%5B39.5789%2C%20-80.3441%2C%201.0%5D%2C%20%5B39.55544%2C%20-80.3562%2C%201.0%5D%2C%20%5B39.15977%2C%20-80.55099%2C%201.0%5D%2C%20%5B39.45602%2C%20-80.40641%2C%200.0%5D%2C%20%5B39.66936%2C%20-80.30354%2C%200.0%5D%2C%20%5B39.2894%2C%20-80.49023000000003%2C%202.0%5D%2C%20%5B39.30088%2C%20-80.48565%2C%200.0%5D%2C%20%5B38.04309%2C%20-81.08787%2C%200.0%5D%2C%20%5B39.46321%2C%20-80.40834%2C%202.0%5D%2C%20%5B37.90579%2C%20-81.15491999999998%2C%201.0%5D%2C%20%5B37.77691%2C%20-81.21621999999998%2C%201.0%5D%2C%20%5B39.03469000000001%2C%20-80.61950999999998%2C%200.0%5D%2C%20%5B39.04353%2C%20-80.61603000000002%2C%202.0%5D%2C%20%5B38.65747%2C%20-80.80203%2C%201.0%5D%2C%20%5B38.78229%2C%20-80.74413%2C%201.0%5D%2C%20%5B37.31335%2C%20-81.43392%2C%201.0%5D%2C%20%5B38.45089%2C%20-80.90432%2C%202.0%5D%2C%20%5B37.92892%2C%20-81.15115%2C%201.0%5D%2C%20%5B38.60978%2C%20-80.83036%2C%201.0%5D%2C%20%5B37.79328%2C%20-81.21685%2C%202.0%5D%2C%20%5B37.72194%2C%20-81.25194%2C%201.0%5D%2C%20%5B37.71885%2C%20-81.25449%2C%201.0%5D%2C%20%5B38.05023%2C%20-81.10009000000002%2C%200.0%5D%2C%20%5B39.38682%2C%20-80.4613%2C%201.0%5D%2C%20%5B39.38737%2C%20-80.46188000000002%2C%202.0%5D%2C%20%5B37.33004%2C%20-81.4378%2C%202.0%5D%2C%20%5B37.85109%2C%20-81.19721%2C%201.0%5D%2C%20%5B37.33561%2C%20-81.43608%2C%201.0%5D%2C%20%5B37.87108%2C%20-81.18894%2C%202.0%5D%2C%20%5B38.86871%2C%20-80.71753000000002%2C%202.0%5D%2C%20%5B39.19736%2C%20-80.55956%2C%201.0%5D%2C%20%5B37.59706%2C%20-81.3203%2C%202.0%5D%2C%20%5B38.19829%2C%20-81.03966%2C%201.0%5D%2C%20%5B38.6312%2C%20-80.8354%2C%201.0%5D%2C%20%5B39.28789%2C%20-80.5184%2C%201.0%5D%2C%20%5B39.06641%2C%20-80.69893%2C%201.0%5D%2C%20%5B38.01239%2C%20-81.20326999999997%2C%202.0%5D%2C%20%5B37.87987%2C%20-81.26629%2C%201.0%5D%2C%20%5B37.87967%2C%20-81.26699%2C%201.0%5D%2C%20%5B37.89446%2C%20-81.26321999999998%2C%200.0%5D%2C%20%5B39.32853%2C%20-80.57925999999998%2C%200.0%5D%2C%20%5B38.201%2C%20-81.1232%2C%202.0%5D%2C%20%5B37.89433%2C%20-81.26703%2C%201.0%5D%2C%20%5B38.84184000000001%2C%20-80.81936999999998%2C%200.0%5D%2C%20%5B38.62311%2C%20-80.92449%2C%201.0%5D%2C%20%5B37.41825%2C%20-81.4891%2C%201.0%5D%2C%20%5B38.96047%2C%20-80.76505%2C%202.0%5D%2C%20%5B38.90909%2C%20-80.79001%2C%202.0%5D%2C%20%5B38.59754%2C%20-80.94464%2C%201.0%5D%2C%20%5B37.92801%2C%20-81.26105%2C%201.0%5D%2C%20%5B39.3606%2C%20-80.57775%2C%200.0%5D%2C%20%5B37.32286%2C%20-81.5431%2C%201.0%5D%2C%20%5B37.91916%2C%20-81.26874000000002%2C%200.0%5D%2C%20%5B37.93333%2C%20-81.26247%2C%201.0%5D%2C%20%5B39.50372%2C%20-80.58652%2C%201.0%5D%2C%20%5B37.91323%2C%20-81.34727%2C%202.0%5D%2C%20%5B37.28665%2C%20-81.63905%2C%201.0%5D%2C%20%5B38.124%2C%20-81.2516%2C%200.0%5D%2C%20%5B39.25658%2C%20-80.71114%2C%201.0%5D%2C%20%5B38.5847%2C%20-81.03475%2C%200.0%5D%2C%20%5B38.67798%2C%20-80.99359%2C%201.0%5D%2C%20%5B38.42685%2C%20-81.11417%2C%201.0%5D%2C%20%5B38.42879%2C%20-81.11565999999998%2C%200.0%5D%2C%20%5B39.04303%2C%20-80.82434%2C%202.0%5D%2C%20%5B37.71179%2C%20-81.45421%2C%202.0%5D%2C%20%5B38.12658%2C%20-81.26241999999998%2C%200.0%5D%2C%20%5B37.9913%2C%20-81.32663000000002%2C%202.0%5D%2C%20%5B38.59521%2C%20-81.04299%2C%201.0%5D%2C%20%5B37.29012%2C%20-81.65201%2C%202.0%5D%2C%20%5B37.98938%2C%20-81.33126%2C%201.0%5D%2C%20%5B38.88162%2C%20-80.91035%2C%201.0%5D%2C%20%5B39.04739%2C%20-80.5096%2C%201.0%5D%2C%20%5B37.42691%2C%20-81.27651%2C%201.0%5D%2C%20%5B38.04927%2C%20-80.98884%2C%200.0%5D%2C%20%5B39.2844%2C%20-80.39757%2C%200.0%5D%2C%20%5B37.32334%2C%20-81.32714%2C%202.0%5D%2C%20%5B37.71251%2C%20-81.14950999999998%2C%201.0%5D%2C%20%5B37.76651%2C%20-81.12481%2C%202.0%5D%2C%20%5B37.71316%2C%20-81.15203000000002%2C%201.0%5D%2C%20%5B39.59289%2C%20-80.25284%2C%200.0%5D%2C%20%5B37.84868%2C%20-81.09317%2C%201.0%5D%2C%20%5B39.45149%2C%20-80.32574%2C%200.0%5D%2C%20%5B39.7161%2C%20-80.19793%2C%201.0%5D%2C%20%5B37.35637%2C%20-81.325%2C%202.0%5D%2C%20%5B38.03459%2C%20-81.01264%2C%201.0%5D%2C%20%5B38.03046%2C%20-81.01581999999998%2C%200.0%5D%2C%20%5B39.04801%2C%20-80.53369%2C%202.0%5D%2C%20%5B37.66326%2C%20-81.19088%2C%201.0%5D%2C%20%5B39.51945%2C%20-80.3053%2C%200.0%5D%2C%20%5B37.76197%2C%20-81.14692%2C%201.0%5D%2C%20%5B39.38577%2C%20-80.3733%2C%201.0%5D%2C%20%5B37.74974%2C%20-81.15565%2C%201.0%5D%2C%20%5B39.71987%2C%20-80.21376%2C%200.0%5D%2C%20%5B39.42034%2C%20-80.36265999999998%2C%202.0%5D%2C%20%5B39.3443%2C%20-80.4013%2C%200.0%5D%2C%20%5B38.86288%2C%20-80.63568000000002%2C%201.0%5D%2C%20%5B39.71883%2C%20-80.21993%2C%201.0%5D%2C%20%5B39.09645%2C%20-80.52605%2C%201.0%5D%2C%20%5B38.81224%2C%20-80.66731%2C%201.0%5D%2C%20%5B37.75172%2C%20-81.16943%2C%202.0%5D%2C%20%5B39.47528%2C%20-80.34705%2C%200.0%5D%2C%20%5B37.95293%2C%20-81.0779%2C%201.0%5D%2C%20%5B38.85173%2C%20-80.65298%2C%201.0%5D%2C%20%5B38.76965%2C%20-80.6932%2C%201.0%5D%2C%20%5B38.1166%2C%20-81.00492%2C%202.0%5D%2C%20%5B37.94363%2C%20-81.08629%2C%201.0%5D%2C%20%5B37.4081%2C%20-81.33895%2C%201.0%5D%2C%20%5B38.83128%2C%20-80.66975%2C%201.0%5D%2C%20%5B38.85749000000001%2C%20-80.65819%2C%201.0%5D%2C%20%5B37.63413%2C%20-81.23864%2C%202.0%5D%2C%20%5B38.8584%2C%20-80.66059%2C%201.0%5D%2C%20%5B37.36168%2C%20-81.36593%2C%202.0%5D%2C%20%5B38.81921%2C%20-80.6811%2C%202.0%5D%2C%20%5B37.78938%2C%20-81.17251%2C%201.0%5D%2C%20%5B39.71042%2C%20-80.2506%2C%201.0%5D%2C%20%5B37.44585%2C%20-81.33354%2C%202.0%5D%2C%20%5B39.69395%2C%20-80.26088%2C%201.0%5D%2C%20%5B39.23365%2C%20-80.48782%2C%200.0%5D%2C%20%5B37.79362%2C%20-81.17468000000002%2C%202.0%5D%2C%20%5B37.40804%2C%20-81.35625%2C%200.0%5D%2C%20%5B37.78704000000001%2C%20-81.18101999999998%2C%201.0%5D%2C%20%5B38.46133%2C%20-80.86477%2C%200.0%5D%2C%20%5B38.55432%2C%20-81.12832%2C%201.0%5D%2C%20%5B38.18106%2C%20-81.30672%2C%202.0%5D%2C%20%5B39.29618%2C%20-80.77408%2C%202.0%5D%2C%20%5B39.3867%2C%20-80.7323%2C%200.0%5D%2C%20%5B37.73806%2C%20-81.51835%2C%201.0%5D%2C%20%5B37.84008%2C%20-81.4724%2C%201.0%5D%2C%20%5B38.05069%2C%20-81.37509%2C%200.0%5D%2C%20%5B38.0546%2C%20-81.37524%2C%201.0%5D%2C%20%5B38.18378%2C%20-81.31501%2C%202.0%5D%2C%20%5B39.09941%2C%20-80.87957%2C%200.0%5D%2C%20%5B38.18247%2C%20-81.31681999999998%2C%202.0%5D%2C%20%5B37.84537%2C%20-81.47654%2C%201.0%5D%2C%20%5B37.48026%2C%20-81.64556%2C%201.0%5D%2C%20%5B38.46605%2C%20-81.18939%2C%201.0%5D%2C%20%5B38.16945%2C%20-81.32999000000002%2C%202.0%5D%2C%20%5B38.47883%2C%20-81.93041%2C%200.0%5D%2C%20%5B37.94543%2C%20-81.43759%2C%202.0%5D%2C%20%5B38.99287%2C%20-80.94236%2C%201.0%5D%2C%20%5B38.17417%2C%20-81.33261%2C%200.0%5D%2C%20%5B38.07713%2C%20-81.38001%2C%200.0%5D%2C%20%5B39.31957%2C%20-80.78896999999998%2C%201.0%5D%2C%20%5B37.71707%2C%20-81.55086999999997%2C%201.0%5D%2C%20%5B37.47111%2C%20-81.6651%2C%201.0%5D%2C%20%5B39.27778%2C%20-80.81213000000002%2C%202.0%5D%2C%20%5B39.27222%2C%20-80.64041999999998%2C%201.0%5D%2C%20%5B39.20056%2C%20-80.67596999999998%2C%202.0%5D%2C%20%5B39.25804%2C%20-80.64859%2C%200.0%5D%2C%20%5B37.41387%2C%20-81.52221999999998%2C%201.0%5D%2C%20%5B39.20877%2C%20-80.67485%2C%200.0%5D%2C%20%5B38.21952%2C%20-81.15011%2C%201.0%5D%2C%20%5B38.3047%2C%20-81.1117%2C%202.0%5D%2C%20%5B38.2624%2C%20-81.1337%2C%201.0%5D%2C%20%5B39.05288%2C%20-80.75647%2C%201.0%5D%2C%20%5B38.22526%2C%20-81.15238000000002%2C%201.0%5D%2C%20%5B39.26168%2C%20-80.65621%2C%200.0%5D%2C%20%5B38.22646%2C%20-81.1529%2C%201.0%5D%2C%20%5B39.67529%2C%20-80.4549%2C%201.0%5D%2C%20%5B38.07138%2C%20-81.22959%2C%201.0%5D%2C%20%5B39.68503%2C%20-80.4539%2C%200.0%5D%2C%20%5B39.68362%2C%20-80.45806%2C%200.0%5D%2C%20%5B39.68344%2C%20-80.45906%2C%202.0%5D%2C%20%5B39.68656%2C%20-80.45951%2C%201.0%5D%2C%20%5B38.09459%2C%20-81.2259%2C%201.0%5D%2C%20%5B37.41602%2C%20-81.54129%2C%202.0%5D%2C%20%5B38.38973%2C%20-81.08758%2C%201.0%5D%2C%20%5B38.88184%2C%20-80.85436999999997%2C%202.0%5D%2C%20%5B38.27789%2C%20-81.14388000000002%2C%200.0%5D%2C%20%5B37.38484%2C%20-81.5614%2C%201.0%5D%2C%20%5B38.16792%2C%20-81.19821999999998%2C%201.0%5D%2C%20%5B38.13791%2C%20-81.21300000000002%2C%202.0%5D%2C%20%5B37.2655%2C%20-81.61718%2C%201.0%5D%2C%20%5B37.26186%2C%20-81.62108%2C%202.0%5D%2C%20%5B38.3442%2C%20-81.1187%2C%201.0%5D%2C%20%5B38.93369000000001%2C%20-80.83876%2C%202.0%5D%2C%20%5B39.08759000000001%2C%20-80.76565%2C%201.0%5D%2C%20%5B39.69974000000001%2C%20-80.46766%2C%202.0%5D%2C%20%5B37.97855%2C%20-81.29460999999998%2C%200.0%5D%2C%20%5B38.244%2C%20-81.1713%2C%200.0%5D%2C%20%5B39.20737%2C%20-80.7105%2C%201.0%5D%2C%20%5B39.68976%2C%20-80.47694%2C%202.0%5D%2C%20%5B38.10015%2C%20-81.24306999999997%2C%200.0%5D%2C%20%5B38.75188%2C%20-80.97425%2C%201.0%5D%2C%20%5B37.93155%2C%20-81.3624%2C%200.0%5D%2C%20%5B38.77808%2C%20-80.96691%2C%200.0%5D%2C%20%5B39.2847%2C%20-80.723%2C%202.0%5D%2C%20%5B39.26743%2C%20-80.73353%2C%200.0%5D%2C%20%5B37.70078%2C%20-81.47872%2C%201.0%5D%2C%20%5B38.63463%2C%20-81.04212%2C%200.0%5D%2C%20%5B39.64624%2C%20-80.55216999999998%2C%202.0%5D%2C%20%5B37.99789000000001%2C%20-81.34512%2C%202.0%5D%2C%20%5B39.40491%2C%20-80.67303000000003%2C%200.0%5D%2C%20%5B39.57945%2C%20-80.59181%2C%200.0%5D%2C%20%5B38.08296%2C%20-81.3101%2C%201.0%5D%2C%20%5B38.9537%2C%20-80.90007%2C%201.0%5D%2C%20%5B38.08685%2C%20-81.31258000000003%2C%200.0%5D%2C%20%5B37.6807%2C%20-81.50317%2C%201.0%5D%2C%20%5B38.26362%2C%20-81.23153%2C%202.0%5D%2C%20%5B37.84929%2C%20-81.42595%2C%201.0%5D%2C%20%5B38.44939%2C%20-81.14503%2C%201.0%5D%2C%20%5B37.83997%2C%20-81.43361%2C%201.0%5D%2C%20%5B39.73953%2C%20-80.5245%2C%200.0%5D%2C%20%5B39.52586%2C%20-80.63139%2C%202.0%5D%2C%20%5B37.68118%2C%20-81.51123%2C%201.0%5D%2C%20%5B37.3832%2C%20-81.64984%2C%201.0%5D%2C%20%5B37.28848%2C%20-81.69422%2C%202.0%5D%2C%20%5B38.13589%2C%20-81.30289%2C%201.0%5D%2C%20%5B37.30251%2C%20-81.68949%2C%201.0%5D%2C%20%5B37.30216%2C%20-81.69069%2C%202.0%5D%2C%20%5B39.52728%2C%20-80.63856%2C%200.0%5D%2C%20%5B38.07821%2C%20-81.3339%2C%201.0%5D%2C%20%5B38.02928%2C%20-81.35746%2C%201.0%5D%2C%20%5B38.1022%2C%20-81.32348%2C%200.0%5D%2C%20%5B37.54117%2C%20-81.58569%2C%201.0%5D%2C%20%5B39.09536%2C%20-80.8542%2C%202.0%5D%2C%20%5B39.78121%2C%20-80.52113%2C%201.0%5D%2C%20%5B39.15756%2C%20-80.82743%2C%201.0%5D%2C%20%5B39.09556%2C%20-80.85806%2C%201.0%5D%2C%20%5B39.15777%2C%20-80.82928000000003%2C%201.0%5D%2C%20%5B37.32119%2C%20-81.69386%2C%202.0%5D%2C%20%5B38.9448%2C%20-80.68623000000002%2C%201.0%5D%2C%20%5B37.68834%2C%20-81.28275%2C%202.0%5D%2C%20%5B37.83955%2C%20-81.21264000000002%2C%202.0%5D%2C%20%5B39.67179%2C%20-80.33612%2C%200.0%5D%2C%20%5B38.93028%2C%20-80.69906%2C%200.0%5D%2C%20%5B39.63083%2C%20-80.35799%2C%201.0%5D%2C%20%5B37.9994%2C%20-81.14272%2C%201.0%5D%2C%20%5B38.0706%2C%20-81.11134%2C%202.0%5D%2C%20%5B39.67542%2C%20-80.3395%2C%200.0%5D%2C%20%5B39.29061%2C%20-80.52845%2C%202.0%5D%2C%20%5B39.06375%2C%20-80.64233%2C%201.0%5D%2C%20%5B39.95361%2C%20-80.54004%2C%200.0%5D%2C%20%5B37.69183%2C%20-81.6235%2C%202.0%5D%2C%20%5B37.45028%2C%20-81.73701%2C%201.0%5D%2C%20%5B38.05525%2C%20-81.45754000000002%2C%201.0%5D%2C%20%5B38.84738%2C%20-81.08688000000002%2C%201.0%5D%2C%20%5B38.85548%2C%20-81.08348000000002%2C%201.0%5D%2C%20%5B38.08886%2C%20-81.44779%2C%201.0%5D%2C%20%5B39.1226%2C%20-80.95775%2C%200.0%5D%2C%20%5B39.15968%2C%20-80.94372%2C%200.0%5D%2C%20%5B39.27435%2C%20-80.88965999999998%2C%202.0%5D%2C%20%5B38.10683%2C%20-81.44904%2C%202.0%5D%2C%20%5B39.93058%2C%20-80.57148000000002%2C%200.0%5D%2C%20%5B37.3515%2C%20-81.80062%2C%200.0%5D%2C%20%5B39.14381%2C%20-80.95893000000002%2C%202.0%5D%2C%20%5B37.3362%2C%20-81.81%2C%202.0%5D%2C%20%5B39.76373%2C%20-80.65869%2C%202.0%5D%2C%20%5B37.36039%2C%20-81.80318%2C%201.0%5D%2C%20%5B37.96635%2C%20-81.5244%2C%201.0%5D%2C%20%5B39.42986%2C%20-80.8291%2C%202.0%5D%2C%20%5B37.37143%2C%20-81.80218%2C%202.0%5D%2C%20%5B38.89293%2C%20-81.09109000000002%2C%202.0%5D%2C%20%5B37.68172%2C%20-81.66168%2C%201.0%5D%2C%20%5B37.95542%2C%20-81.53789%2C%201.0%5D%2C%20%5B39.18565%2C%20-80.95452%2C%201.0%5D%2C%20%5B37.58274%2C%20-81.71255%2C%201.0%5D%2C%20%5B38.15837%2C%20-81.44581%2C%201.0%5D%2C%20%5B39.4298%2C%20-80.839%2C%200.0%5D%2C%20%5B38.04547%2C%20-81.26918%2C%200.0%5D%2C%20%5B38.57596%2C%20-81.02113%2C%201.0%5D%2C%20%5B38.06045%2C%20-81.26462%2C%201.0%5D%2C%20%5B38.99965%2C%20-80.82175%2C%202.0%5D%2C%20%5B38.07757%2C%20-81.26042%2C%201.0%5D%2C%20%5B37.93951%2C%20-81.32682%2C%201.0%5D%2C%20%5B37.77101%2C%20-81.40599%2C%201.0%5D%2C%20%5B37.98696%2C%20-81.30559000000002%2C%201.0%5D%2C%20%5B38.56724000000001%2C%20-81.03282%2C%200.0%5D%2C%20%5B37.49876%2C%20-81.53323%2C%201.0%5D%2C%20%5B38.03391%2C%20-81.28581%2C%201.0%5D%2C%20%5B38.39746%2C%20-81.115%2C%200.0%5D%2C%20%5B37.25194000000001%2C%20-81.64856999999998%2C%202.0%5D%2C%20%5B38.59117%2C%20-81.02434000000002%2C%200.0%5D%2C%20%5B37.82581%2C%20-81.38485%2C%201.0%5D%2C%20%5B37.49961%2C%20-81.53679%2C%201.0%5D%2C%20%5B39.00933%2C%20-80.82589%2C%201.0%5D%2C%20%5B40.1238%2C%20-80.62637%2C%202.0%5D%2C%20%5B38.50136%2C%20-81.41475%2C%201.0%5D%2C%20%5B38.0634%2C%20-81.62062%2C%201.0%5D%2C%20%5B39.08363%2C%20-81.13852%2C%202.0%5D%2C%20%5B39.26369%2C%20-81.05544%2C%201.0%5D%2C%20%5B38.94494%2C%20-81.20952%2C%200.0%5D%2C%20%5B38.59428%2C%20-81.37801999999998%2C%202.0%5D%2C%20%5B40.15652%2C%20-80.62066%2C%202.0%5D%2C%20%5B38.12507%2C%20-81.60141%2C%201.0%5D%2C%20%5B37.47815%2C%20-81.90128%2C%202.0%5D%2C%20%5B40.12594%2C%20-80.63932%2C%201.0%5D%2C%20%5B40.2379%2C%20-80.58482%2C%202.0%5D%2C%20%5B38.4492%2C%20-81.45593000000002%2C%201.0%5D%2C%20%5B38.74678%2C%20-81.31581%2C%202.0%5D%2C%20%5B38.23939%2C%20-81.5576%2C%201.0%5D%2C%20%5B40.00147%2C%20-80.70831%2C%200.0%5D%2C%20%5B40.36584000000001%2C%20-80.5283%2C%200.0%5D%2C%20%5B39.95755%2C%20-80.73292%2C%201.0%5D%2C%20%5B37.52678%2C%20-81.89132%2C%201.0%5D%2C%20%5B39.53617%2C%20-80.94229%2C%201.0%5D%2C%20%5B39.92671%2C%20-80.75086%2C%202.0%5D%2C%20%5B38.12968%2C%20-81.61594000000002%2C%201.0%5D%2C%20%5B40.04859%2C%20-80.69218000000002%2C%201.0%5D%2C%20%5B40.2395%2C%20-80.59822%2C%201.0%5D%2C%20%5B40.306%2C%20-80.56565%2C%200.0%5D%2C%20%5B40.07156%2C%20-80.68414%2C%202.0%5D%2C%20%5B38.62042%2C%20-81.38924%2C%202.0%5D%2C%20%5B39.00552%2C%20-81.20606%2C%202.0%5D%2C%20%5B39.01182%2C%20-81.20326%2C%200.0%5D%2C%20%5B38.41575%2C%20-81.48824%2C%201.0%5D%2C%20%5B38.42054%2C%20-81.48602%2C%201.0%5D%2C%20%5B38.48388%2C%20-81.45877%2C%201.0%5D%2C%20%5B40.25172%2C%20-80.59989%2C%201.0%5D%2C%20%5B40.30997%2C%20-80.57178%2C%201.0%5D%2C%20%5B40.0669%2C%20-80.69312%2C%200.0%5D%2C%20%5B37.67745%2C%20-81.83655999999998%2C%202.0%5D%2C%20%5B39.53606%2C%20-80.9564%2C%200.0%5D%2C%20%5B37.61069000000001%2C%20-81.86891999999997%2C%201.0%5D%2C%20%5B38.47915%2C%20-81.46564000000002%2C%201.0%5D%2C%20%5B39.99812%2C%20-80.73111%2C%201.0%5D%2C%20%5B38.5312%2C%20-81.44169000000002%2C%201.0%5D%2C%20%5B39.48841%2C%20-80.98236999999997%2C%201.0%5D%2C%20%5B39.1016%2C%20-81.171%2C%200.0%5D%2C%20%5B37.6648%2C%20-81.84852%2C%201.0%5D%2C%20%5B38.2571%2C%20-81.57368000000002%2C%201.0%5D%2C%20%5B40.25902%2C%20-80.60485%2C%202.0%5D%2C%20%5B38.51797%2C%20-81.45128000000003%2C%200.0%5D%2C%20%5B40.30214%2C%20-80.58414%2C%201.0%5D%2C%20%5B38.40295%2C%20-81.50695%2C%201.0%5D%2C%20%5B38.30059%2C%20-81.55594%2C%201.0%5D%2C%20%5B40.01714000000001%2C%20-80.72766%2C%200.0%5D%2C%20%5B40.07431%2C%20-80.70096%2C%202.0%5D%2C%20%5B40.02145%2C%20-80.72739%2C%200.0%5D%2C%20%5B39.135%2C%20-81.1623%2C%200.0%5D%2C%20%5B38.14307%2C%20-81.63345%2C%200.0%5D%2C%20%5B38.40886%2C%20-81.22951%2C%201.0%5D%2C%20%5B39.27745%2C%20-80.81678000000002%2C%200.0%5D%2C%20%5B37.88397%2C%20-81.47958%2C%202.0%5D%2C%20%5B39.5659%2C%20-80.67808000000002%2C%200.0%5D%2C%20%5B37.54317%2C%20-81.63908%2C%202.0%5D%2C%20%5B39.07832%2C%20-80.91771%2C%202.0%5D%2C%20%5B38.96314%2C%20-80.97367%2C%202.0%5D%2C%20%5B39.39664000000001%2C%20-80.76634%2C%200.0%5D%2C%20%5B38.70976%2C%20-81.09931%2C%202.0%5D%2C%20%5B39.62604%2C%20-80.65805999999998%2C%200.0%5D%2C%20%5B39.20405%2C%20-80.86458%2C%200.0%5D%2C%20%5B39.29595%2C%20-80.82146999999998%2C%200.0%5D%2C%20%5B37.66747%2C%20-81.59354%2C%201.0%5D%2C%20%5B38.18478%2C%20-81.35616999999998%2C%200.0%5D%2C%20%5B39.82612%2C%20-80.5663%2C%202.0%5D%2C%20%5B38.03824%2C%20-81.42772%2C%201.0%5D%2C%20%5B37.66703%2C%20-81.60073%2C%201.0%5D%2C%20%5B37.75395%2C%20-81.56263%2C%201.0%5D%2C%20%5B38.12914%2C%20-81.38819000000002%2C%201.0%5D%2C%20%5B38.1311%2C%20-81.38932%2C%201.0%5D%2C%20%5B38.875%2C%20-81.039%2C%202.0%5D%2C%20%5B38.21557%2C%20-81.35481999999998%2C%201.0%5D%2C%20%5B38.59133%2C%20-81.17825%2C%201.0%5D%2C%20%5B38.02082%2C%20-81.45111999999997%2C%201.0%5D%2C%20%5B37.33131%2C%20-81.77043%2C%202.0%5D%2C%20%5B39.82847%2C%20-80.58369%2C%200.0%5D%2C%20%5B37.7129%2C%20-81.59708%2C%202.0%5D%2C%20%5B39.96344000000001%2C%20-80.51916999999997%2C%200.0%5D%2C%20%5B37.70853%2C%20-81.60248%2C%201.0%5D%2C%20%5B38.3299%2C%20-81.313%2C%201.0%5D%2C%20%5B38.13528%2C%20-81.40563%2C%200.0%5D%2C%20%5B38.03307%2C%20-81.45403%2C%201.0%5D%2C%20%5B39.34365%2C%20-80.82933%2C%201.0%5D%2C%20%5B39.56098%2C%20-80.72623%2C%202.0%5D%2C%20%5B37.58761%2C%20-81.66423%2C%201.0%5D%2C%20%5B38.57334%2C%20-81.2054%2C%202.0%5D%2C%20%5B38.48042%2C%20-81.24962%2C%200.0%5D%2C%20%5B37.68364%2C%20-81.62526%2C%201.0%5D%2C%20%5B38.6762%2C%20-81.20273%2C%200.0%5D%2C%20%5B37.39582%2C%20-81.8027%2C%201.0%5D%2C%20%5B38.23516%2C%20-81.4139%2C%201.0%5D%2C%20%5B38.16788%2C%20-81.44731999999998%2C%201.0%5D%2C%20%5B38.22952%2C%20-81.41985%2C%200.0%5D%2C%20%5B37.624%2C%20-81.70364000000002%2C%202.0%5D%2C%20%5B38.2207%2C%20-81.42666%2C%200.0%5D%2C%20%5B37.4779%2C%20-81.774%2C%201.0%5D%2C%20%5B37.62396%2C%20-81.70752%2C%201.0%5D%2C%20%5B39.58062%2C%20-80.77843%2C%201.0%5D%2C%20%5B39.46635%2C%20-80.83651%2C%202.0%5D%2C%20%5B39.27494%2C%20-80.9313%2C%201.0%5D%2C%20%5B38.17445%2C%20-81.45721999999998%2C%202.0%5D%2C%20%5B37.61317%2C%20-81.71986%2C%201.0%5D%2C%20%5B39.77919%2C%20-80.69107%2C%201.0%5D%2C%20%5B39.30647%2C%20-80.92271%2C%202.0%5D%2C%20%5B37.74979%2C%20-81.66257%2C%201.0%5D%2C%20%5B38.4248%2C%20-81.34857%2C%202.0%5D%2C%20%5B38.52376%2C%20-81.30234%2C%200.0%5D%2C%20%5B39.09069%2C%20-81.03409%2C%200.0%5D%2C%20%5B39.09976%2C%20-81.0312%2C%200.0%5D%2C%20%5B37.90305%2C%20-81.59973000000002%2C%202.0%5D%2C%20%5B39.34458%2C%20-80.91539%2C%201.0%5D%2C%20%5B38.5272%2C%20-81.30809%2C%202.0%5D%2C%20%5B39.2307%2C%20-80.97213%2C%201.0%5D%2C%20%5B37.53582%2C%20-81.77203%2C%202.0%5D%2C%20%5B38.53919000000001%2C%20-81.3051%2C%202.0%5D%2C%20%5B37.75128%2C%20-81.67511999999998%2C%202.0%5D%2C%20%5B40.14234%2C%20-80.52871999999998%2C%202.0%5D%2C%20%5B38.18332%2C%20-81.47601%2C%201.0%5D%2C%20%5B38.9785%2C%20-81.09951%2C%201.0%5D%2C%20%5B39.24864%2C%20-80.97055999999998%2C%202.0%5D%2C%20%5B37.54063%2C%20-81.77717%2C%202.0%5D%2C%20%5B37.46441%2C%20-81.81424%2C%201.0%5D%2C%20%5B38.19472%2C%20-81.47715%2C%201.0%5D%2C%20%5B39.5864%2C%20-80.81125%2C%201.0%5D%2C%20%5B39.149%2C%20-81.025%2C%202.0%5D%2C%20%5B37.32032%2C%20-81.69612%2C%201.0%5D%2C%20%5B38.322%2C%20-81.2317%2C%200.0%5D%2C%20%5B39.36283%2C%20-80.7353%2C%200.0%5D%2C%20%5B37.38807%2C%20-81.66906%2C%202.0%5D%2C%20%5B39.14865%2C%20-80.84076999999998%2C%200.0%5D%2C%20%5B39.29391%2C%20-80.77088%2C%202.0%5D%2C%20%5B37.855%2C%20-81.45541999999998%2C%202.0%5D%2C%20%5B38.19901%2C%20-81.29539%2C%202.0%5D%2C%20%5B40.16026%2C%20-80.53103%2C%201.0%5D%2C%20%5B39.5215%2C%20-80.84711999999998%2C%200.0%5D%2C%20%5B40.08777%2C%20-80.57021%2C%201.0%5D%2C%20%5B40.03718%2C%20-80.59549%2C%200.0%5D%2C%20%5B39.28352%2C%20-80.96781%2C%201.0%5D%2C%20%5B37.66207%2C%20-81.73536999999997%2C%202.0%5D%2C%20%5B39.61197%2C%20-80.81124%2C%202.0%5D%2C%20%5B39.1424%2C%20-81.04016999999997%2C%202.0%5D%2C%20%5B40.19385%2C%20-80.52563%2C%202.0%5D%2C%20%5B38.94765%2C%20-81.13623%2C%201.0%5D%2C%20%5B38.19591%2C%20-81.49517%2C%201.0%5D%2C%20%5B37.59561%2C%20-81.77413%2C%201.0%5D%2C%20%5B38.53099%2C%20-81.34008%2C%200.0%5D%2C%20%5B38.53115%2C%20-81.34023%2C%200.0%5D%2C%20%5B40.07895%2C%20-80.58993000000002%2C%200.0%5D%2C%20%5B39.1481%2C%20-81.04664%2C%201.0%5D%2C%20%5B38.04358%2C%20-81.57319%2C%200.0%5D%2C%20%5B40.07572%2C%20-80.59474%2C%201.0%5D%2C%20%5B39.06095%2C%20-81.0926%2C%200.0%5D%2C%20%5B39.16053%2C%20-81.04466%2C%201.0%5D%2C%20%5B40.18329%2C%20-80.54451%2C%200.0%5D%2C%20%5B37.42876%2C%20-81.86123%2C%202.0%5D%2C%20%5B40.07742%2C%20-80.59971%2C%202.0%5D%2C%20%5B39.4429%2C%20-80.91261%2C%201.0%5D%2C%20%5B38.51923%2C%20-81.35788000000002%2C%201.0%5D%2C%20%5B40.16344%2C%20-80.55918%2C%201.0%5D%2C%20%5B38.84041%2C%20-81.20709000000002%2C%202.0%5D%2C%20%5B37.42344%2C%20-81.87011%2C%201.0%5D%2C%20%5B39.28457%2C%20-80.99668%2C%201.0%5D%2C%20%5B38.32996%2C%20-81.45365%2C%200.0%5D%2C%20%5B38.58284%2C%20-81.20433%2C%201.0%5D%2C%20%5B38.2275%2C%20-81.59689%2C%200.0%5D%2C%20%5B40.07416%2C%20-80.7073%2C%202.0%5D%2C%20%5B37.61872%2C%20-81.8816%2C%202.0%5D%2C%20%5B38.4611%2C%20-81.48966%2C%200.0%5D%2C%20%5B40.05111%2C%20-80.72131999999998%2C%201.0%5D%2C%20%5B40.3974%2C%20-80.54902%2C%200.0%5D%2C%20%5B39.18508%2C%20-81.14607%2C%202.0%5D%2C%20%5B38.30985%2C%20-81.56328%2C%201.0%5D%2C%20%5B38.7817%2C%20-81.34074%2C%200.0%5D%2C%20%5B38.3177%2C%20-81.56125%2C%201.0%5D%2C%20%5B37.7855%2C%20-81.80919%2C%202.0%5D%2C%20%5B38.30695%2C%20-81.56659%2C%201.0%5D%2C%20%5B38.31696%2C%20-81.56198%2C%201.0%5D%2C%20%5B39.44153%2C%20-81.0248%2C%201.0%5D%2C%20%5B40.07328%2C%20-80.71481999999997%2C%202.0%5D%2C%20%5B40.30713%2C%20-80.60005%2C%201.0%5D%2C%20%5B37.73065%2C%20-81.83793%2C%201.0%5D%2C%20%5B37.58435%2C%20-81.90588000000002%2C%201.0%5D%2C%20%5B40.07869%2C%20-80.71478%2C%201.0%5D%2C%20%5B38.3669%2C%20-81.54404%2C%202.0%5D%2C%20%5B38.45465%2C%20-81.50304%2C%201.0%5D%2C%20%5B37.72886%2C%20-81.84404%2C%200.0%5D%2C%20%5B38.5028%2C%20-81.483%2C%201.0%5D%2C%20%5B40.18441%2C%20-80.66813%2C%201.0%5D%2C%20%5B38.51297%2C%20-81.47959%2C%200.0%5D%2C%20%5B40.0702%2C%20-80.72674%2C%201.0%5D%2C%20%5B38.1466%2C%20-81.65434%2C%202.0%5D%2C%20%5B38.44888%2C%20-81.51351%2C%201.0%5D%2C%20%5B38.44906%2C%20-81.51358%2C%201.0%5D%2C%20%5B38.79974%2C%20-81.3484%2C%201.0%5D%2C%20%5B37.77201%2C%20-81.8309%2C%201.0%5D%2C%20%5B37.76745%2C%20-81.83394%2C%202.0%5D%2C%20%5B37.84845%2C%20-81.79809%2C%201.0%5D%2C%20%5B39.41917%2C%20-81.09022%2C%200.0%5D%2C%20%5B38.39943%2C%20-81.57914%2C%200.0%5D%2C%20%5B38.27883%2C%20-81.63946%2C%202.0%5D%2C%20%5B37.91427%2C%20-81.81%2C%200.0%5D%2C%20%5B38.34179%2C%20-81.61222%2C%201.0%5D%2C%20%5B38.39323%2C%20-81.58896999999997%2C%200.0%5D%2C%20%5B37.87449%2C%20-81.83295%2C%201.0%5D%2C%20%5B37.89458%2C%20-81.82366999999998%2C%201.0%5D%2C%20%5B37.59054%2C%20-81.96574%2C%201.0%5D%2C%20%5B38.38261%2C%20-81.59836%2C%201.0%5D%2C%20%5B38.29254%2C%20-81.6425%2C%200.0%5D%2C%20%5B38.96473%2C%20-81.32468%2C%200.0%5D%2C%20%5B38.37673%2C%20-81.60519000000002%2C%201.0%5D%2C%20%5B38.29806%2C%20-81.64434%2C%202.0%5D%2C%20%5B38.29969000000001%2C%20-81.64498%2C%201.0%5D%2C%20%5B40.56929%2C%20-80.54484000000002%2C%200.0%5D%2C%20%5B38.36331%2C%20-81.61972%2C%201.0%5D%2C%20%5B38.35322%2C%20-81.62833%2C%201.0%5D%2C%20%5B38.35345%2C%20-81.6285%2C%201.0%5D%2C%20%5B37.82717%2C%20-81.87510999999998%2C%202.0%5D%2C%20%5B38.38411%2C%20-81.61553%2C%200.0%5D%2C%20%5B38.36115%2C%20-81.62739%2C%201.0%5D%2C%20%5B38.36145%2C%20-81.62738%2C%201.0%5D%2C%20%5B39.14421%2C%20-81.25556%2C%201.0%5D%2C%20%5B40.53875%2C%20-80.57319%2C%201.0%5D%2C%20%5B38.62091%2C%20-81.51177%2C%202.0%5D%2C%20%5B38.55352%2C%20-81.5444%2C%201.0%5D%2C%20%5B38.8538%2C%20-81.4028%2C%200.0%5D%2C%20%5B39.21317%2C%20-81.23104000000002%2C%201.0%5D%2C%20%5B40.56039000000001%2C%20-80.5682%2C%202.0%5D%2C%20%5B38.30394%2C%20-81.66769000000002%2C%201.0%5D%2C%20%5B38.35651%2C%20-81.64304%2C%201.0%5D%2C%20%5B37.41817%2C%20-81.87748%2C%201.0%5D%2C%20%5B38.21006%2C%20-81.51214%2C%200.0%5D%2C%20%5B39.14213%2C%20-81.0735%2C%200.0%5D%2C%20%5B38.66467%2C%20-81.3028%2C%200.0%5D%2C%20%5B39.61658%2C%20-80.84510999999998%2C%201.0%5D%2C%20%5B38.33434000000001%2C%20-81.46108000000002%2C%200.0%5D%2C%20%5B38.20906%2C%20-81.52065999999998%2C%201.0%5D%2C%20%5B38.46763%2C%20-81.39918%2C%201.0%5D%2C%20%5B40.01319%2C%20-80.65264%2C%202.0%5D%2C%20%5B37.73797%2C%20-81.74268000000002%2C%201.0%5D%2C%20%5B39.37051%2C%20-80.97174%2C%201.0%5D%2C%20%5B39.13044%2C%20-81.08894000000002%2C%201.0%5D%2C%20%5B38.21991%2C%20-81.52295%2C%201.0%5D%2C%20%5B39.56119%2C%20-80.88074%2C%201.0%5D%2C%20%5B38.33996%2C%20-81.46821%2C%200.0%5D%2C%20%5B40.0482%2C%20-80.64334000000002%2C%201.0%5D%2C%20%5B37.94784%2C%20-81.65324%2C%201.0%5D%2C%20%5B38.20323%2C%20-81.53615%2C%201.0%5D%2C%20%5B38.20747%2C%20-81.53536%2C%200.0%5D%2C%20%5B37.90331%2C%20-81.67811999999998%2C%201.0%5D%2C%20%5B39.28325%2C%20-81.02496%2C%201.0%5D%2C%20%5B39.45191%2C%20-80.94508%2C%201.0%5D%2C%20%5B40.04627%2C%20-80.65465999999998%2C%202.0%5D%2C%20%5B38.25611%2C%20-81.5206%2C%200.0%5D%2C%20%5B40.04288%2C%20-80.65939%2C%201.0%5D%2C%20%5B37.59795%2C%20-81.82784000000002%2C%201.0%5D%2C%20%5B40.24005%2C%20-80.56217%2C%201.0%5D%2C%20%5B40.04467%2C%20-80.66031%2C%201.0%5D%2C%20%5B38.34553%2C%20-81.48411999999998%2C%200.0%5D%2C%20%5B38.78943%2C%20-81.2743%2C%201.0%5D%2C%20%5B38.17885%2C%20-81.56515999999998%2C%201.0%5D%2C%20%5B38.89902%2C%20-81.4248%2C%201.0%5D%2C%20%5B38.31806%2C%20-81.70005%2C%202.0%5D%2C%20%5B37.7991%2C%20-81.943%2C%201.0%5D%2C%20%5B38.32451%2C%20-81.69889%2C%200.0%5D%2C%20%5B40.01451%2C%20-80.73347%2C%201.0%5D%2C%20%5B38.46642%2C%20-81.48277%2C%201.0%5D%2C%20%5B38.5095%2C%20-81.46300000000002%2C%201.0%5D%2C%20%5B39.13800000000001%2C%20-81.163%2C%200.0%5D%2C%20%5B37.5079%2C%20-81.92989%2C%201.0%5D%2C%20%5B38.2046%2C%20-81.925%2C%200.0%5D%2C%20%5B38.73332%2C%20-81.67675%2C%202.0%5D%2C%20%5B39.23226%2C%20-81.44203%2C%202.0%5D%2C%20%5B38.42962%2C%20-81.82458000000003%2C%201.0%5D%2C%20%5B38.04%2C%20-82.01%2C%200.0%5D%2C%20%5B38.4298%2C%20-81.8285%2C%200.0%5D%2C%20%5B37.96234000000001%2C%20-82.04887%2C%202.0%5D%2C%20%5B38.03685%2C%20-82.01629%2C%201.0%5D%2C%20%5B37.92703%2C%20-82.06817%2C%200.0%5D%2C%20%5B38.43121%2C%20-81.83523000000002%2C%201.0%5D%2C%20%5B39.34796%2C%20-81.39882%2C%201.0%5D%2C%20%5B38.39735%2C%20-81.85405%2C%201.0%5D%2C%20%5B37.6968%2C%20-82.18348%2C%201.0%5D%2C%20%5B38.39615%2C%20-81.85946%2C%201.0%5D%2C%20%5B38.99686%2C%20-81.57854%2C%200.0%5D%2C%20%5B37.70245%2C%20-82.185%2C%200.0%5D%2C%20%5B37.7087%2C%20-82.184%2C%201.0%5D%2C%20%5B38.99921%2C%20-81.58049%2C%200.0%5D%2C%20%5B38.30427%2C%20-81.91044000000002%2C%201.0%5D%2C%20%5B38.2916%2C%20-81.92%2C%201.0%5D%2C%20%5B39.08864000000001%2C%20-81.54301%2C%201.0%5D%2C%20%5B38.44812%2C%20-81.84914%2C%201.0%5D%2C%20%5B39.07583%2C%20-81.55311%2C%201.0%5D%2C%20%5B38.79321%2C%20-81.68853%2C%201.0%5D%2C%20%5B38.31475%2C%20-81.91666%2C%202.0%5D%2C%20%5B38.72679%2C%20-81.72270999999998%2C%200.0%5D%2C%20%5B37.726%2C%20-82.19206%2C%201.0%5D%2C%20%5B38.36978%2C%20-81.89529%2C%200.0%5D%2C%20%5B39.11536%2C%20-81.54581%2C%200.0%5D%2C%20%5B38.45316%2C%20-81.86078%2C%202.0%5D%2C%20%5B38.80123%2C%20-81.69929%2C%202.0%5D%2C%20%5B37.78645%2C%20-82.17405%2C%201.0%5D%2C%20%5B38.73312%2C%20-81.73373000000002%2C%200.0%5D%2C%20%5B37.7422%2C%20-82.197%2C%201.0%5D%2C%20%5B38.90481%2C%20-81.65885%2C%202.0%5D%2C%20%5B38.80947000000001%2C%20-81.70504%2C%200.0%5D%2C%20%5B38.82556%2C%20-81.69896999999997%2C%201.0%5D%2C%20%5B38.43536%2C%20-81.88382%2C%201.0%5D%2C%20%5B38.45546%2C%20-81.87711999999998%2C%201.0%5D%2C%20%5B38.90869%2C%20-81.66296%2C%201.0%5D%2C%20%5B39.17744%2C%20-81.53515%2C%201.0%5D%2C%20%5B39.18164%2C%20-81.53334%2C%201.0%5D%2C%20%5B38.83718%2C%20-81.70003%2C%202.0%5D%2C%20%5B39.33414000000001%2C%20-81.46243%2C%201.0%5D%2C%20%5B38.88752%2C%20-81.67841999999997%2C%201.0%5D%2C%20%5B38.25159%2C%20-81.9798%2C%201.0%5D%2C%20%5B39.38884%2C%20-81.43970999999998%2C%202.0%5D%2C%20%5B38.00033%2C%20-82.09848000000002%2C%201.0%5D%2C%20%5B39.31397%2C%20-81.47803%2C%200.0%5D%2C%20%5B38.62164%2C%20-81.80963%2C%201.0%5D%2C%20%5B38.23842%2C%20-81.98947%2C%202.0%5D%2C%20%5B39.01688%2C%20-81.62276999999997%2C%200.0%5D%2C%20%5B39.17869%2C%20-81.54599%2C%202.0%5D%2C%20%5B39.26676%2C%20-81.50702%2C%201.0%5D%2C%20%5B39.267%2C%20-81.50698%2C%200.0%5D%2C%20%5B38.00324000000001%2C%20-82.10529%2C%201.0%5D%2C%20%5B39.26602000000001%2C%20-81.51084%2C%201.0%5D%2C%20%5B38.82061%2C%20-81.72619%2C%201.0%5D%2C%20%5B37.89173%2C%20-82.16135%2C%200.0%5D%2C%20%5B38.82515%2C%20-81.72652%2C%200.0%5D%2C%20%5B37.94389%2C%20-82.1405%2C%201.0%5D%2C%20%5B38.45394%2C%20-81.90381%2C%200.0%5D%2C%20%5B38.4019%2C%20-81.93023000000002%2C%201.0%5D%2C%20%5B38.14506%2C%20-82.05641999999997%2C%201.0%5D%2C%20%5B37.66944%2C%20-82.27639%2C%201.0%5D%2C%20%5B39.25574%2C%20-81.53505%2C%200.0%5D%2C%20%5B39.16734%2C%20-81.57791999999998%2C%202.0%5D%2C%20%5B37.76997%2C%20-82.23662%2C%200.0%5D%2C%20%5B38.91593%2C%20-81.41977%2C%200.0%5D%2C%20%5B38.40631%2C%20-81.66158%2C%200.0%5D%2C%20%5B37.7067%2C%20-81.98848000000002%2C%202.0%5D%2C%20%5B37.69434%2C%20-81.99648%2C%201.0%5D%2C%20%5B38.59182%2C%20-81.57906%2C%200.0%5D%2C%20%5B38.46277%2C%20-81.64309%2C%201.0%5D%2C%20%5B39.19109%2C%20-81.29669%2C%200.0%5D%2C%20%5B38.36347%2C%20-81.69144%2C%201.0%5D%2C%20%5B38.41035%2C%20-81.66958000000002%2C%200.0%5D%2C%20%5B38.34038%2C%20-81.70515999999998%2C%201.0%5D%2C%20%5B37.71888%2C%20-81.99406%2C%200.0%5D%2C%20%5B39.412%2C%20-81.1959%2C%202.0%5D%2C%20%5B38.47752%2C%20-81.64313%2C%200.0%5D%2C%20%5B38.30318%2C%20-81.7259%2C%201.0%5D%2C%20%5B39.391%2C%20-81.20858%2C%202.0%5D%2C%20%5B38.30955%2C%20-81.72802%2C%201.0%5D%2C%20%5B38.48633%2C%20-81.64565%2C%201.0%5D%2C%20%5B37.84953%2C%20-81.94385%2C%201.0%5D%2C%20%5B38.8958%2C%20-81.45306%2C%202.0%5D%2C%20%5B38.45762%2C%20-81.66184%2C%200.0%5D%2C%20%5B38.30815%2C%20-81.73236%2C%201.0%5D%2C%20%5B38.07209%2C%20-81.84305%2C%201.0%5D%2C%20%5B37.76416%2C%20-81.98637%2C%201.0%5D%2C%20%5B38.66323%2C%20-81.56628%2C%200.0%5D%2C%20%5B38.35469000000001%2C%20-81.71258%2C%202.0%5D%2C%20%5B38.36%2C%20-81.7117%2C%201.0%5D%2C%20%5B38.24213%2C%20-81.76807%2C%201.0%5D%2C%20%5B38.24373%2C%20-81.76751999999998%2C%201.0%5D%2C%20%5B38.50412%2C%20-81.64601%2C%200.0%5D%2C%20%5B38.23955%2C%20-81.77109%2C%200.0%5D%2C%20%5B38.40202%2C%20-81.69518000000002%2C%201.0%5D%2C%20%5B38.36135%2C%20-81.71597%2C%201.0%5D%2C%20%5B37.75907%2C%20-81.9969%2C%202.0%5D%2C%20%5B37.75676%2C%20-82.0001%2C%202.0%5D%2C%20%5B37.75702%2C%20-82.00071%2C%202.0%5D%2C%20%5B38.03373%2C%20-81.87340999999998%2C%200.0%5D%2C%20%5B38.35471%2C%20-81.64498%2C%201.0%5D%2C%20%5B38.35755%2C%20-81.6438%2C%201.0%5D%2C%20%5B39.23864%2C%20-81.2244%2C%201.0%5D%2C%20%5B38.20015%2C%20-81.71931%2C%201.0%5D%2C%20%5B38.30733%2C%20-81.66943%2C%201.0%5D%2C%20%5B39.311%2C%20-81.1926%2C%202.0%5D%2C%20%5B38.8191%2C%20-81.42896999999998%2C%202.0%5D%2C%20%5B39.19283%2C%20-81.25213000000002%2C%201.0%5D%2C%20%5B38.4311%2C%20-81.616%2C%202.0%5D%2C%20%5B37.76861%2C%20-81.92643000000002%2C%201.0%5D%2C%20%5B39.213%2C%20-81.2454%2C%200.0%5D%2C%20%5B38.41353%2C%20-81.62994%2C%201.0%5D%2C%20%5B38.41306%2C%20-81.63046999999997%2C%201.0%5D%2C%20%5B38.41472%2C%20-81.63079%2C%201.0%5D%2C%20%5B39.228%2C%20-81.2436%2C%201.0%5D%2C%20%5B40.52509000000001%2C%20-80.6066%2C%200.0%5D%2C%20%5B40.54837%2C%20-80.59591999999998%2C%202.0%5D%2C%20%5B40.62123%2C%20-80.56371%2C%201.0%5D%2C%20%5B38.92973%2C%20-81.39754%2C%200.0%5D%2C%20%5B38.09785%2C%20-81.79167%2C%200.0%5D%2C%20%5B38.41437%2C%20-81.64602%2C%200.0%5D%2C%20%5B37.78138%2C%20-81.94139%2C%202.0%5D%2C%20%5B38.49073%2C%20-81.61295%2C%201.0%5D%2C%20%5B38.37432%2C%20-81.66805%2C%202.0%5D%2C%20%5B38.30856%2C%20-81.70107%2C%201.0%5D%2C%20%5B37.80304%2C%20-81.93669%2C%200.0%5D%2C%20%5B38.83633%2C%20-81.82798000000003%2C%202.0%5D%2C%20%5B38.1606%2C%20-82.14635%2C%201.0%5D%2C%20%5B38.43274%2C%20-82.02011%2C%201.0%5D%2C%20%5B38.33513%2C%20-82.06968%2C%201.0%5D%2C%20%5B37.92384000000001%2C%20-82.26409%2C%201.0%5D%2C%20%5B38.27389%2C%20-82.1043%2C%202.0%5D%2C%20%5B38.43509%2C%20-82.03063%2C%201.0%5D%2C%20%5B38.08782%2C%20-82.19274%2C%201.0%5D%2C%20%5B37.93102%2C%20-82.2692%2C%201.0%5D%2C%20%5B37.91881%2C%20-81.76597%2C%201.0%5D%2C%20%5B37.68528%2C%20-81.87566%2C%202.0%5D%2C%20%5B38.4062%2C%20-81.54034%2C%200.0%5D%2C%20%5B38.80342%2C%20-81.35321%2C%200.0%5D%2C%20%5B38.40735%2C%20-81.54186999999997%2C%200.0%5D%2C%20%5B40.39784%2C%20-80.57531999999998%2C%201.0%5D%2C%20%5B37.60516%2C%20-81.91725%2C%201.0%5D%2C%20%5B38.77874%2C%20-81.36941999999998%2C%200.0%5D%2C%20%5B37.63588%2C%20-81.9071%2C%201.0%5D%2C%20%5B39.21803%2C%20-81.16157%2C%202.0%5D%2C%20%5B38.85482%2C%20-81.33648000000002%2C%201.0%5D%2C%20%5B38.41867%2C%20-81.54491999999998%2C%201.0%5D%2C%20%5B40.43842%2C%20-80.56273%2C%200.0%5D%2C%20%5B38.13664%2C%20-81.67921%2C%201.0%5D%2C%20%5B38.1952%2C%20-81.654%2C%201.0%5D%2C%20%5B38.11784%2C%20-81.69243%2C%201.0%5D%2C%20%5B40.35825%2C%20-80.60935%2C%202.0%5D%2C%20%5B40.39101%2C%20-80.594%2C%201.0%5D%2C%20%5B40.39077%2C%20-80.59447%2C%201.0%5D%2C%20%5B39.43194%2C%20-81.07114%2C%200.0%5D%2C%20%5B37.56427%2C%20-81.95475%2C%202.0%5D%2C%20%5B40.37956%2C%20-80.60516%2C%201.0%5D%2C%20%5B40.41429%2C%20-80.58846%2C%201.0%5D%2C%20%5B37.74262%2C%20-81.87405%2C%201.0%5D%2C%20%5B38.79396%2C%20-81.38445%2C%202.0%5D%2C%20%5B37.55534%2C%20-81.96600000000002%2C%201.0%5D%2C%20%5B38.35886%2C%20-81.59433%2C%200.0%5D%2C%20%5B38.56861%2C%20-81.65867%2C%201.0%5D%2C%20%5B37.8721%2C%20-81.98544%2C%201.0%5D%2C%20%5B37.57914%2C%20-82.12369%2C%201.0%5D%2C%20%5B39.11211%2C%20-81.40505999999998%2C%202.0%5D%2C%20%5B37.63663%2C%20-82.0986%2C%201.0%5D%2C%20%5B38.80129%2C%20-81.55553%2C%200.0%5D%2C%20%5B38.44308%2C%20-81.72698000000003%2C%200.0%5D%2C%20%5B38.18215%2C%20-81.84940999999998%2C%202.0%5D%2C%20%5B37.75851%2C%20-82.04785%2C%202.0%5D%2C%20%5B38.33223%2C%20-81.97699%2C%202.0%5D%2C%20%5B39.25396%2C%20-81.54160999999998%2C%200.0%5D%2C%20%5B38.94881%2C%20-81.68838000000002%2C%202.0%5D%2C%20%5B37.96817%2C%20-82.15205999999998%2C%201.0%5D%2C%20%5B37.90807%2C%20-82.17992%2C%201.0%5D%2C%20%5B37.70396%2C%20-82.27466%2C%201.0%5D%2C%20%5B38.01315%2C%20-82.13291%2C%200.0%5D%2C%20%5B39.2557%2C%20-81.54675999999998%2C%201.0%5D%2C%20%5B38.78408%2C%20-81.77365%2C%202.0%5D%2C%20%5B38.78015%2C%20-81.77620999999998%2C%202.0%5D%2C%20%5B38.5321%2C%20-81.895%2C%200.0%5D%2C%20%5B37.83768%2C%20-82.219%2C%201.0%5D%2C%20%5B37.98431%2C%20-82.15252%2C%201.0%5D%2C%20%5B38.94182%2C%20-81.70403%2C%201.0%5D%2C%20%5B38.901%2C%20-81.72452%2C%201.0%5D%2C%20%5B38.94699%2C%20-81.7033%2C%201.0%5D%2C%20%5B39.26029000000001%2C%20-81.55636%2C%202.0%5D%2C%20%5B38.48192%2C%20-81.92775%2C%200.0%5D%2C%20%5B37.68757%2C%20-82.29711999999998%2C%201.0%5D%2C%20%5B38.23402%2C%20-82.04489000000002%2C%200.0%5D%2C%20%5B38.59342%2C%20-81.87761%2C%200.0%5D%2C%20%5B38.92194%2C%20-81.72247%2C%202.0%5D%2C%20%5B39.23358%2C%20-81.57448000000002%2C%200.0%5D%2C%20%5B39.2937%2C%20-81.54626%2C%201.0%5D%2C%20%5B39.24719%2C%20-81.57043%2C%200.0%5D%2C%20%5B38.34376%2C%20-82.00118%2C%201.0%5D%2C%20%5B39.00096%2C%20-81.69159%2C%200.0%5D%2C%20%5B39.26523%2C%20-81.56539000000002%2C%202.0%5D%2C%20%5B38.47373%2C%20-81.94473%2C%200.0%5D%2C%20%5B37.78762%2C%20-82.26507%2C%200.0%5D%2C%20%5B39.26334%2C%20-81.57323000000002%2C%200.0%5D%2C%20%5B39.05498%2C%20-81.67426%2C%200.0%5D%2C%20%5B37.81748%2C%20-82.25734%2C%202.0%5D%2C%20%5B37.89429000000001%2C%20-82.22261%2C%202.0%5D%2C%20%5B39.2589%2C%20-81.58197%2C%200.0%5D%2C%20%5B38.98368%2C%20-81.71484%2C%201.0%5D%2C%20%5B38.05564%2C%20-81.8659%2C%201.0%5D%2C%20%5B38.54447%2C%20-81.63838%2C%201.0%5D%2C%20%5B39.22171%2C%20-81.31551999999998%2C%202.0%5D%2C%20%5B37.73025%2C%20-82.02006999999998%2C%201.0%5D%2C%20%5B38.55904%2C%20-81.63456%2C%200.0%5D%2C%20%5B39.10335%2C%20-81.37782%2C%200.0%5D%2C%20%5B38.64497%2C%20-81.59673000000002%2C%202.0%5D%2C%20%5B37.65255%2C%20-82.06172%2C%200.0%5D%2C%20%5B37.62487%2C%20-82.07531%2C%201.0%5D%2C%20%5B38.03357000000001%2C%20-81.88806%2C%201.0%5D%2C%20%5B39.01427%2C%20-81.42730999999998%2C%201.0%5D%2C%20%5B37.75773%2C%20-82.01987%2C%201.0%5D%2C%20%5B39.38499%2C%20-81.25245%2C%200.0%5D%2C%20%5B38.2681%2C%20-81.78874%2C%201.0%5D%2C%20%5B37.81924%2C%20-81.99779000000002%2C%200.0%5D%2C%20%5B38.58854%2C%20-81.64142%2C%201.0%5D%2C%20%5B38.60225%2C%20-81.63515%2C%200.0%5D%2C%20%5B38.59821%2C%20-81.64086%2C%201.0%5D%2C%20%5B38.85567%2C%20-81.52054%2C%202.0%5D%2C%20%5B39.05754%2C%20-81.42434%2C%201.0%5D%2C%20%5B38.96235%2C%20-81.96092%2C%201.0%5D%2C%20%5B38.94198%2C%20-81.97274%2C%201.0%5D%2C%20%5B38.43122%2C%20-82.21429%2C%201.0%5D%2C%20%5B38.5264%2C%20-82.17531%2C%201.0%5D%2C%20%5B38.33802%2C%20-82.26398%2C%200.0%5D%2C%20%5B37.92376%2C%20-82.46011999999997%2C%202.0%5D%2C%20%5B38.44253%2C%20-82.21986%2C%201.0%5D%2C%20%5B38.72317%2C%20-82.08968%2C%201.0%5D%2C%20%5B38.77868%2C%20-82.06408%2C%200.0%5D%2C%20%5B38.68715%2C%20-82.10746%2C%201.0%5D%2C%20%5B38.76861%2C%20-82.07029%2C%200.0%5D%2C%20%5B38.729%2C%20-82.09100000000002%2C%200.0%5D%2C%20%5B38.78146%2C%20-82.07034%2C%200.0%5D%2C%20%5B38.16697%2C%20-82.3583%2C%201.0%5D%2C%20%5B38.43501%2C%20-82.23711999999998%2C%201.0%5D%2C%20%5B38.52481%2C%20-81.99342%2C%202.0%5D%2C%20%5B38.11956%2C%20-82.18535%2C%201.0%5D%2C%20%5B38.41748%2C%20-82.04859%2C%200.0%5D%2C%20%5B39.27386%2C%20-81.64658%2C%201.0%5D%2C%20%5B38.40587%2C%20-82.06036%2C%200.0%5D%2C%20%5B38.15787%2C%20-82.17658%2C%201.0%5D%2C%20%5B38.42538%2C%20-82.05479%2C%201.0%5D%2C%20%5B38.19197%2C%20-82.16618000000003%2C%201.0%5D%2C%20%5B39.15116%2C%20-81.71515%2C%200.0%5D%2C%20%5B38.88596%2C%20-81.84398%2C%201.0%5D%2C%20%5B38.39175%2C%20-82.07717%2C%200.0%5D%2C%20%5B38.67344%2C%20-81.945%2C%202.0%5D%2C%20%5B38.56838%2C%20-82.00194%2C%200.0%5D%2C%20%5B38.70148%2C%20-81.9405%2C%200.0%5D%2C%20%5B38.85115%2C%20-81.87442%2C%201.0%5D%2C%20%5B38.04238%2C%20-82.25646%2C%201.0%5D%2C%20%5B38.14766%2C%20-82.21247%2C%202.0%5D%2C%20%5B38.85696%2C%20-81.88025%2C%200.0%5D%2C%20%5B38.42424000000001%2C%20-82.09257%2C%201.0%5D%2C%20%5B38.42408%2C%20-82.09272%2C%201.0%5D%2C%20%5B37.99484%2C%20-82.29696%2C%201.0%5D%2C%20%5B38.44934%2C%20-82.08775%2C%201.0%5D%2C%20%5B38.74986%2C%20-81.95221%2C%200.0%5D%2C%20%5B38.22072%2C%20-82.20149%2C%201.0%5D%2C%20%5B38.41794%2C%20-82.11325%2C%201.0%5D%2C%20%5B38.75109000000001%2C%20-81.96109%2C%202.0%5D%2C%20%5B37.8218%2C%20-82.39737%2C%202.0%5D%2C%20%5B38.17659%2C%20-82.23506%2C%202.0%5D%2C%20%5B38.70364%2C%20-81.99483000000002%2C%201.0%5D%2C%20%5B38.74127%2C%20-81.97828%2C%202.0%5D%2C%20%5B38.64796%2C%20-82.0277%2C%202.0%5D%2C%20%5B38.06972%2C%20-82.3%2C%201.0%5D%2C%20%5B38.88094%2C%20-81.9239%2C%202.0%5D%2C%20%5B38.34951%2C%20-82.18297%2C%202.0%5D%2C%20%5B38.44043%2C%20-82.14135%2C%201.0%5D%2C%20%5B37.98498%2C%20-82.35876999999998%2C%201.0%5D%2C%20%5B38.44103%2C%20-81.73047%2C%201.0%5D%2C%20%5B38.52694%2C%20-81.69135%2C%201.0%5D%2C%20%5B37.84586%2C%20-82.00946%2C%201.0%5D%2C%20%5B37.93522%2C%20-81.96896%2C%201.0%5D%2C%20%5B38.43149%2C%20-81.73786%2C%202.0%5D%2C%20%5B38.29815%2C%20-81.80249%2C%201.0%5D%2C%20%5B39.36299%2C%20-81.29598%2C%202.0%5D%2C%20%5B37.84632%2C%20-82.0149%2C%201.0%5D%2C%20%5B38.43315%2C%20-81.74175%2C%200.0%5D%2C%20%5B37.59501%2C%20-82.13148000000002%2C%202.0%5D%2C%20%5B37.59473%2C%20-82.13223%2C%201.0%5D%2C%20%5B38.76902000000001%2C%20-81.58565%2C%200.0%5D%2C%20%5B39.16855%2C%20-81.39571%2C%200.0%5D%2C%20%5B37.927%2C%20-81.98181%2C%201.0%5D%2C%20%5B38.33253%2C%20-81.79539%2C%200.0%5D%2C%20%5B38.42541%2C%20-81.75237%2C%201.0%5D%2C%20%5B37.83607%2C%20-82.02857%2C%202.0%5D%2C%20%5B38.8238%2C%20-81.56727%2C%202.0%5D%2C%20%5B38.28256%2C%20-81.82319%2C%201.0%5D%2C%20%5B38.6804%2C%20-81.63684%2C%202.0%5D%2C%20%5B37.8503%2C%20-82.02587%2C%201.0%5D%2C%20%5B38.2938%2C%20-81.82113000000003%2C%201.0%5D%2C%20%5B37.6694%2C%20-82.11131%2C%201.0%5D%2C%20%5B38.66751%2C%20-81.6494%2C%201.0%5D%2C%20%5B38.66757%2C%20-81.64962%2C%201.0%5D%2C%20%5B37.83106%2C%20-82.04169%2C%201.0%5D%2C%20%5B38.16145%2C%20-81.89178000000003%2C%201.0%5D%2C%20%5B37.82794000000001%2C%20-82.04783%2C%201.0%5D%2C%20%5B38.51906%2C%20-81.7273%2C%202.0%5D%2C%20%5B38.16028%2C%20-81.89655%2C%202.0%5D%2C%20%5B37.84719000000001%2C%20-82.04372%2C%201.0%5D%2C%20%5B37.64796%2C%20-82.13586%2C%201.0%5D%2C%20%5B38.8734%2C%20-81.564%2C%200.0%5D%2C%20%5B38.8424%2C%20-81.57973%2C%200.0%5D%2C%20%5B37.82316%2C%20-82.05931%2C%202.0%5D%2C%20%5B37.8197%2C%20-82.0611%2C%200.0%5D%2C%20%5B37.63314%2C%20-82.14822%2C%201.0%5D%2C%20%5B37.62236%2C%20-82.15514%2C%201.0%5D%2C%20%5B39.28264%2C%20-81.37589%2C%200.0%5D%2C%20%5B37.98162%2C%20-81.99165%2C%201.0%5D%2C%20%5B37.84615%2C%20-82.05714%2C%201.0%5D%2C%20%5B38.68763%2C%20-81.66529%2C%201.0%5D%2C%20%5B38.82477%2C%20-81.60175%2C%200.0%5D%2C%20%5B38.3119%2C%20-81.8438%2C%202.0%5D%2C%20%5B37.84942%2C%20-82.06285%2C%202.0%5D%2C%20%5B39.18081%2C%20-81.43847%2C%202.0%5D%2C%20%5B39.28035%2C%20-81.39401%2C%200.0%5D%2C%20%5B38.38064%2C%20-81.82328000000003%2C%201.0%5D%2C%20%5B37.97483%2C%20-82.01706999999998%2C%202.0%5D%2C%20%5B37.97475%2C%20-82.01847%2C%202.0%5D%2C%20%5B37.8289%2C%20-82.08749%2C%201.0%5D%2C%20%5B37.97332%2C%20-82.02104%2C%201.0%5D%2C%20%5B38.09212%2C%20-81.96781%2C%201.0%5D%2C%20%5B37.73075%2C%20-82.13654%2C%202.0%5D%2C%20%5B37.85812%2C%20-82.08185999999998%2C%201.0%5D%2C%20%5B38.2042%2C%20-81.92200000000003%2C%200.0%5D%2C%20%5B38.1776%2C%20-80.36453%2C%200.0%5D%2C%20%5B39.32063%2C%20-77.74557%2C%200.0%5D%2C%20%5B39.27091%2C%20-77.78185%2C%200.0%5D%2C%20%5B39.2553%2C%20-77.81997%2C%202.0%5D%2C%20%5B39.31336%2C%20-77.79259%2C%201.0%5D%2C%20%5B39.18424%2C%20-77.87541%2C%201.0%5D%2C%20%5B39.28067%2C%20-77.8388%2C%201.0%5D%2C%20%5B39.30942%2C%20-77.84308%2C%201.0%5D%2C%20%5B39.32662%2C%20-77.85363000000002%2C%201.0%5D%2C%20%5B39.36492%2C%20-77.86915%2C%201.0%5D%2C%20%5B39.36968%2C%20-77.8763%2C%201.0%5D%2C%20%5B39.38144000000001%2C%20-77.89484%2C%201.0%5D%2C%20%5B39.39413%2C%20-77.91698000000002%2C%201.0%5D%2C%20%5B39.38035%2C%20-77.93939%2C%201.0%5D%2C%20%5B39.41905%2C%20-77.92872%2C%201.0%5D%2C%20%5B39.04494%2C%20-78.73503000000002%2C%201.0%5D%2C%20%5B39.0414%2C%20-78.74707%2C%202.0%5D%2C%20%5B39.26132%2C%20-78.63954%2C%202.0%5D%2C%20%5B39.04526%2C%20-78.757%2C%201.0%5D%2C%20%5B38.87169%2C%20-78.84848000000002%2C%201.0%5D%2C%20%5B39.14771%2C%20-78.71984%2C%201.0%5D%2C%20%5B39.39161%2C%20-78.60178%2C%201.0%5D%2C%20%5B38.87499%2C%20-78.8653%2C%201.0%5D%2C%20%5B38.87673%2C%20-78.86634000000002%2C%201.0%5D%2C%20%5B39.05533%2C%20-78.7815%2C%201.0%5D%2C%20%5B39.04965%2C%20-78.78711%2C%201.0%5D%2C%20%5B38.87722%2C%20-78.87971%2C%201.0%5D%2C%20%5B39.15046%2C%20-78.74582%2C%201.0%5D%2C%20%5B38.8499%2C%20-78.90332%2C%201.0%5D%2C%20%5B39.05527%2C%20-78.80336%2C%201.0%5D%2C%20%5B39.31147%2C%20-78.6817%2C%201.0%5D%2C%20%5B38.98923%2C%20-78.84196%2C%201.0%5D%2C%20%5B38.98143%2C%20-78.85261%2C%201.0%5D%2C%20%5B39.13689%2C%20-78.78039%2C%200.0%5D%2C%20%5B39.10694%2C%20-78.80843%2C%200.0%5D%2C%20%5B38.96552%2C%20-78.89348000000003%2C%200.0%5D%2C%20%5B38.96078%2C%20-78.90048%2C%200.0%5D%2C%20%5B39.4394%2C%20-78.6765%2C%201.0%5D%2C%20%5B39.30263%2C%20-78.8001%2C%201.0%5D%2C%20%5B39.08137%2C%20-78.91591%2C%201.0%5D%2C%20%5B39.53771%2C%20-78.699%2C%200.0%5D%2C%20%5B39.14571%2C%20-78.90474%2C%201.0%5D%2C%20%5B39.07833%2C%20-78.95205%2C%201.0%5D%2C%20%5B38.84072000000001%2C%20-79.07373%2C%200.0%5D%2C%20%5B39.07915%2C%20-78.95739%2C%201.0%5D%2C%20%5B39.09886%2C%20-78.95766%2C%201.0%5D%2C%20%5B38.75695%2C%20-79.12688%2C%201.0%5D%2C%20%5B39.49939000000001%2C%20-78.76496%2C%201.0%5D%2C%20%5B39.54438%2C%20-78.74356999999998%2C%202.0%5D%2C%20%5B38.70422%2C%20-79.16911%2C%200.0%5D%2C%20%5B39.51016%2C%20-78.77136999999998%2C%201.0%5D%2C%20%5B39.18914%2C%20-78.93811%2C%200.0%5D%2C%20%5B38.6708%2C%20-79.3061%2C%201.0%5D%2C%20%5B39.1425%2C%20-79.0759%2C%200.0%5D%2C%20%5B38.65572%2C%20-79.32058%2C%200.0%5D%2C%20%5B38.85613%2C%20-79.22601%2C%200.0%5D%2C%20%5B38.60916%2C%20-79.35325%2C%201.0%5D%2C%20%5B38.65485%2C%20-79.33258000000002%2C%201.0%5D%2C%20%5B38.78925%2C%20-79.27216999999997%2C%200.0%5D%2C%20%5B39.32316%2C%20-79.01595%2C%201.0%5D%2C%20%5B39.29057%2C%20-79.03605999999998%2C%200.0%5D%2C%20%5B38.78485%2C%20-79.29035999999998%2C%201.0%5D%2C%20%5B38.76435%2C%20-79.31974%2C%200.0%5D%2C%20%5B39.17582%2C%20-79.11898000000002%2C%202.0%5D%2C%20%5B38.61427%2C%20-79.4001%2C%200.0%5D%2C%20%5B39.15525%2C%20-79.13503%2C%201.0%5D%2C%20%5B38.85852%2C%20-79.28725%2C%201.0%5D%2C%20%5B39.07726%2C%20-79.1832%2C%201.0%5D%2C%20%5B39.33928%2C%20-79.06761999999998%2C%202.0%5D%2C%20%5B39.12289000000001%2C%20-79.17719%2C%201.0%5D%2C%20%5B39.18945%2C%20-79.15637%2C%200.0%5D%2C%20%5B39.19306%2C%20-79.16909%2C%200.0%5D%2C%20%5B39.19508%2C%20-79.16901%2C%201.0%5D%2C%20%5B39.08285%2C%20-79.23053%2C%201.0%5D%2C%20%5B39.0836%2C%20-79.23228%2C%201.0%5D%2C%20%5B38.8352%2C%20-79.37559%2C%202.0%5D%2C%20%5B39.13800000000001%2C%20-79.23100000000002%2C%200.0%5D%2C%20%5B38.78809%2C%20-79.40674%2C%201.0%5D%2C%20%5B38.74321%2C%20-79.43569000000002%2C%201.0%5D%2C%20%5B39.38464000000001%2C%20-79.13655%2C%200.0%5D%2C%20%5B39.21654%2C%20-79.22183000000003%2C%201.0%5D%2C%20%5B38.60858%2C%20-79.52552%2C%201.0%5D%2C%20%5B38.82915%2C%20-79.41869%2C%201.0%5D%2C%20%5B38.84144000000001%2C%20-79.41497%2C%202.0%5D%2C%20%5B38.63829000000001%2C%20-79.5201%2C%200.0%5D%2C%20%5B38.58858%2C%20-79.54619%2C%201.0%5D%2C%20%5B38.63846%2C%20-79.52508%2C%202.0%5D%2C%20%5B38.8847%2C%20-79.4057%2C%201.0%5D%2C%20%5B39.51746%2C%20-77.88939%2C%200.0%5D%2C%20%5B39.44509%2C%20-77.92774%2C%200.0%5D%2C%20%5B39.31308%2C%20-78.00065%2C%200.0%5D%2C%20%5B39.58008%2C%20-77.87606%2C%201.0%5D%2C%20%5B39.5624%2C%20-77.89819%2C%201.0%5D%2C%20%5B39.45341%2C%20-77.95918%2C%200.0%5D%2C%20%5B39.51756%2C%20-77.93183%2C%201.0%5D%2C%20%5B39.50676%2C%20-77.93970999999998%2C%201.0%5D%2C%20%5B39.46467%2C%20-77.96611%2C%201.0%5D%2C%20%5B39.32926%2C%20-78.0406%2C%202.0%5D%2C%20%5B39.46981%2C%20-77.97918%2C%200.0%5D%2C%20%5B39.50625%2C%20-77.96427%2C%201.0%5D%2C%20%5B39.47051%2C%20-77.98902%2C%201.0%5D%2C%20%5B39.37477%2C%20-78.03766%2C%201.0%5D%2C%20%5B39.33236%2C%20-78.06594%2C%201.0%5D%2C%20%5B39.31887%2C%20-78.07348%2C%201.0%5D%2C%20%5B39.58557%2C%20-77.95374%2C%201.0%5D%2C%20%5B39.5391%2C%20-77.98507%2C%202.0%5D%2C%20%5B39.51285%2C%20-78.03623%2C%200.0%5D%2C%20%5B39.55596%2C%20-78.01763000000003%2C%201.0%5D%2C%20%5B39.43582%2C%20-78.11751%2C%201.0%5D%2C%20%5B39.57553%2C%20-78.05062%2C%200.0%5D%2C%20%5B39.49098%2C%20-78.09568%2C%201.0%5D%2C%20%5B39.47234%2C%20-78.10799%2C%201.0%5D%2C%20%5B39.56628%2C%20-78.06139%2C%200.0%5D%2C%20%5B39.55203%2C%20-78.07828%2C%201.0%5D%2C%20%5B39.41702%2C%20-78.1545%2C%200.0%5D%2C%20%5B39.62035%2C%20-78.1558%2C%202.0%5D%2C%20%5B39.50706%2C%20-78.21714%2C%201.0%5D%2C%20%5B39.5011%2C%20-78.22632%2C%202.0%5D%2C%20%5B39.51833%2C%20-78.226%2C%201.0%5D%2C%20%5B39.44795%2C%20-78.2677%2C%200.0%5D%2C%20%5B39.69119%2C%20-78.17336%2C%200.0%5D%2C%20%5B39.69213%2C%20-78.17389%2C%201.0%5D%2C%20%5B39.62787%2C%20-78.22509000000002%2C%202.0%5D%2C%20%5B39.6276%2C%20-78.22596%2C%202.0%5D%2C%20%5B39.46346%2C%20-78.31196%2C%201.0%5D%2C%20%5B39.36734000000001%2C%20-79.1786%2C%201.0%5D%2C%20%5B39.2555%2C%20-79.2349%2C%200.0%5D%2C%20%5B39.3125%2C%20-79.21139000000002%2C%201.0%5D%2C%20%5B39.38705%2C%20-79.18091%2C%201.0%5D%2C%20%5B39.2122%2C%20-79.2695%2C%201.0%5D%2C%20%5B38.9736%2C%20-79.4003%2C%202.0%5D%2C%20%5B39.1341%2C%20-79.32600000000002%2C%200.0%5D%2C%20%5B38.81414%2C%20-79.54911%2C%201.0%5D%2C%20%5B39.06682%2C%20-79.4277%2C%200.0%5D%2C%20%5B38.41691%2C%20-79.76696%2C%201.0%5D%2C%20%5B38.92043%2C%20-79.52483000000002%2C%202.0%5D%2C%20%5B39.14%2C%20-79.42%2C%200.0%5D%2C%20%5B39.29333%2C%20-79.34665%2C%201.0%5D%2C%20%5B38.91158%2C%20-79.54257%2C%200.0%5D%2C%20%5B39.27311%2C%20-79.3656%2C%202.0%5D%2C%20%5B39.14884%2C%20-79.4381%2C%200.0%5D%2C%20%5B39.14807%2C%20-79.71318000000002%2C%201.0%5D%2C%20%5B38.64053%2C%20-79.9618%2C%201.0%5D%2C%20%5B38.80906%2C%20-79.88206%2C%201.0%5D%2C%20%5B38.7922%2C%20-79.89154%2C%202.0%5D%2C%20%5B39.16585%2C%20-79.71167%2C%201.0%5D%2C%20%5B37.89703%2C%20-80.32426%2C%201.0%5D%2C%20%5B37.77713%2C%20-80.38303%2C%200.0%5D%2C%20%5B37.78226%2C%20-80.38186999999998%2C%201.0%5D%2C%20%5B37.7896%2C%20-80.38410999999998%2C%201.0%5D%2C%20%5B38.78334%2C%20-79.91017%2C%200.0%5D%2C%20%5B37.77827%2C%20-80.39443%2C%202.0%5D%2C%20%5B39.38568%2C%20-79.62023%2C%202.0%5D%2C%20%5B38.57309%2C%20-80.02014%2C%202.0%5D%2C%20%5B39.57332%2C%20-79.53078000000002%2C%201.0%5D%2C%20%5B38.65995%2C%20-79.98089%2C%201.0%5D%2C%20%5B39.66289%2C%20-79.48915%2C%201.0%5D%2C%20%5B39.01193%2C%20-79.81308%2C%200.0%5D%2C%20%5B38.85869%2C%20-79.88847%2C%201.0%5D%2C%20%5B39.38929%2C%20-79.63031%2C%200.0%5D%2C%20%5B39.01115%2C%20-79.81733%2C%200.0%5D%2C%20%5B38.85763%2C%20-79.89414000000002%2C%201.0%5D%2C%20%5B37.78895%2C%20-80.40572%2C%201.0%5D%2C%20%5B38.02389%2C%20-82.43183%2C%200.0%5D%2C%20%5B38.42106%2C%20-82.2522%2C%201.0%5D%2C%20%5B38.61087%2C%20-82.16688%2C%201.0%5D%2C%20%5B38.15048%2C%20-82.38493000000003%2C%202.0%5D%2C%20%5B38.41811%2C%20-82.26115%2C%202.0%5D%2C%20%5B38.98927%2C%20-81.99654%2C%201.0%5D%2C%20%5B38.4103%2C%20-82.27056%2C%201.0%5D%2C%20%5B38.16186%2C%20-82.39047%2C%202.0%5D%2C%20%5B38.3794%2C%20-82.29111%2C%201.0%5D%2C%20%5B38.80806%2C%20-82.09664000000002%2C%201.0%5D%2C%20%5B38.55955%2C%20-82.21419%2C%200.0%5D%2C%20%5B38.41645%2C%20-82.29029%2C%201.0%5D%2C%20%5B38.58619%2C%20-82.21148000000002%2C%202.0%5D%2C%20%5B38.41944%2C%20-82.29%2C%201.0%5D%2C%20%5B38.41897%2C%20-82.29045%2C%201.0%5D%2C%20%5B38.25%2C%20-82.37128%2C%200.0%5D%2C%20%5B38.41582%2C%20-82.29533%2C%201.0%5D%2C%20%5B38.18884%2C%20-82.40647%2C%202.0%5D%2C%20%5B38.74198%2C%20-82.14968%2C%201.0%5D%2C%20%5B38.68167%2C%20-82.18333%2C%201.0%5D%2C%20%5B38.26346%2C%20-82.38322%2C%201.0%5D%2C%20%5B38.37933%2C%20-82.33404%2C%202.0%5D%2C%20%5B38.05186%2C%20-82.48608%2C%201.0%5D%2C%20%5B38.5861%2C%20-82.23949%2C%201.0%5D%2C%20%5B38.11396%2C%20-82.4604%2C%202.0%5D%2C%20%5B38.5065%2C%20-82.28399999999998%2C%201.0%5D%2C%20%5B38.47952%2C%20-82.29896%2C%201.0%5D%2C%20%5B38.13412%2C%20-82.46621%2C%201.0%5D%2C%20%5B38.83117%2C%20-82.14255%2C%201.0%5D%2C%20%5B38.85578%2C%20-82.13458%2C%201.0%5D%2C%20%5B38.24309%2C%20-82.42515999999998%2C%202.0%5D%2C%20%5B38.07516%2C%20-82.50725%2C%201.0%5D%2C%20%5B38.36457%2C%20-82.37397%2C%201.0%5D%2C%20%5B38.21824%2C%20-82.44725%2C%201.0%5D%2C%20%5B38.15991%2C%20-82.47448%2C%201.0%5D%2C%20%5B38.41298%2C%20-82.36103%2C%201.0%5D%2C%20%5B38.41125%2C%20-81.99274%2C%200.0%5D%2C%20%5B39.24609%2C%20-81.59774%2C%202.0%5D%2C%20%5B38.83566%2C%20-81.79836%2C%201.0%5D%2C%20%5B38.93721%2C%20-81.75014%2C%201.0%5D%2C%20%5B38.62271%2C%20-81.90183%2C%200.0%5D%2C%20%5B38.33529%2C%20-82.03716%2C%202.0%5D%2C%20%5B38.83007%2C%20-81.80548%2C%200.0%5D%2C%20%5B38.19878%2C%20-82.10361999999998%2C%201.0%5D%2C%20%5B38.53683%2C%20-81.94859%2C%201.0%5D%2C%20%5B39.1242%2C%20-81.67118%2C%202.0%5D%2C%20%5B39.05112%2C%20-81.70859%2C%201.0%5D%2C%20%5B38.43719%2C%20-82.00074000000002%2C%200.0%5D%2C%20%5B38.32333%2C%20-82.0569%2C%201.0%5D%2C%20%5B39.00374%2C%20-81.73735%2C%201.0%5D%2C%20%5B38.39423%2C%20-82.02877%2C%201.0%5D%2C%20%5B38.3945%2C%20-82.029%2C%201.0%5D%2C%20%5B38.71296%2C%20-81.88135%2C%202.0%5D%2C%20%5B37.92134%2C%20-82.25233%2C%201.0%5D%2C%20%5B38.39815%2C%20-82.03331999999997%2C%201.0%5D%2C%20%5B37.89684000000001%2C%20-82.40455%2C%201.0%5D%2C%20%5B38.60702%2C%20-82.08081999999997%2C%201.0%5D%2C%20%5B38.3104%2C%20-82.22076%2C%202.0%5D%2C%20%5B38.32301%2C%20-82.21956999999998%2C%201.0%5D%2C%20%5B38.48154%2C%20-82.15019000000002%2C%201.0%5D%2C%20%5B37.98976%2C%20-82.38311999999998%2C%201.0%5D%2C%20%5B38.43433%2C%20-82.17671999999997%2C%201.0%5D%2C%20%5B37.89435%2C%20-82.43314000000002%2C%202.0%5D%2C%20%5B38.39962%2C%20-82.20172%2C%200.0%5D%2C%20%5B37.89935%2C%20-82.43648%2C%200.0%5D%2C%20%5B38.53172%2C%20-82.14339%2C%202.0%5D%2C%20%5B38.85127%2C%20-81.9977%2C%201.0%5D%2C%20%5B38.24441%2C%20-82.28605%2C%200.0%5D%2C%20%5B37.99842%2C%20-82.40666999999998%2C%201.0%5D%2C%20%5B38.77067%2C%20-82.04834%2C%200.0%5D%2C%20%5B37.92206%2C%20-82.44725%2C%201.0%5D%2C%20%5B38.40227%2C%20-82.42713%2C%201.0%5D%2C%20%5B38.30029%2C%20-82.47593%2C%200.0%5D%2C%20%5B38.13593%2C%20-82.55534%2C%201.0%5D%2C%20%5B38.40747%2C%20-82.43462%2C%202.0%5D%2C%20%5B38.40676%2C%20-82.44168%2C%202.0%5D%2C%20%5B38.22114000000001%2C%20-82.53563%2C%202.0%5D%2C%20%5B38.11867%2C%20-82.58685%2C%201.0%5D%2C%20%5B38.26167%2C%20-82.52986999999997%2C%201.0%5D%2C%20%5B38.39712%2C%20-82.46812%2C%201.0%5D%2C%20%5B38.28405%2C%20-82.53333%2C%201.0%5D%2C%20%5B38.40394000000001%2C%20-82.47835%2C%201.0%5D%2C%20%5B38.40177%2C%20-82.48008%2C%200.0%5D%2C%20%5B38.32415%2C%20-82.521%2C%201.0%5D%2C%20%5B38.2508%2C%20-82.556%2C%201.0%5D%2C%20%5B38.33242%2C%20-82.52076%2C%202.0%5D%2C%20%5B38.3748%2C%20-82.5016%2C%202.0%5D%2C%20%5B38.40495%2C%20-82.49269%2C%201.0%5D%2C%20%5B38.40398%2C%20-82.49696%2C%202.0%5D%2C%20%5B38.39765%2C%20-82.50032%2C%201.0%5D%2C%20%5B38.2703%2C%20-82.5724%2C%201.0%5D%2C%20%5B38.39571%2C%20-82.51585%2C%201.0%5D%2C%20%5B38.37186%2C%20-82.5455%2C%201.0%5D%2C%20%5B38.39186%2C%20-82.54772%2C%201.0%5D%2C%20%5B38.39087%2C%20-82.5737%2C%201.0%5D%2C%20%5B38.41195%2C%20-82.36206%2C%202.0%5D%2C%20%5B38.06848%2C%20-82.53586999999997%2C%201.0%5D%2C%20%5B38.14681%2C%20-82.50109%2C%202.0%5D%2C%20%5B38.38997%2C%20-82.39895%2C%201.0%5D%2C%20%5B38.29327%2C%20-82.44771999999998%2C%201.0%5D%2C%20%5B38.39291%2C%20-82.40691%2C%201.0%5D%2C%20%5B38.42358%2C%20-82.39759000000002%2C%201.0%5D%2C%20%5B38.32419%2C%20-82.44889%2C%201.0%5D%2C%20%5B39.43444%2C%20-77.80711%2C%200.0%5D%2C%20%5B38.92103%2C%20-79.52589%2C%200.0%5D%2C%20%5B38.50356%2C%20-79.77299000000002%2C%201.0%5D%2C%20%5B38.43951%2C%20-80.25404%2C%200.0%5D%2C%20%5B38.35874%2C%20-80.38981%2C%201.0%5D%2C%20%5B37.71462%2C%20-80.89295%2C%201.0%5D%2C%20%5B38.87104%2C%20-80.59322%2C%200.0%5D%2C%20%5B39.5264%2C%20-80.3668%2C%201.0%5D%2C%20%5B37.68133%2C%20-81.4778%2C%200.0%5D%2C%20%5B39.13575%2C%20-80.92963%2C%200.0%5D%2C%20%5B37.48178%2C%20-81.89822%2C%200.0%5D%2C%20%5B39.2588%2C%20-81.10656999999998%2C%200.0%5D%2C%20%5B38.39324000000001%2C%20-81.65749%2C%200.0%5D%2C%20%5B38.3301%2C%20-81.94678%2C%200.0%5D%2C%20%5B37.89343%2C%20-82.23993%2C%200.0%5D%2C%20%5B38.77454%2C%20-81.98654%2C%201.0%5D%2C%20%5B39.40012%2C%20-78.44258%2C%201.0%5D%2C%20%5B39.09565%2C%20-78.5949%2C%201.0%5D%2C%20%5B39.46858%2C%20-78.4344%2C%200.0%5D%2C%20%5B39.00987%2C%20-78.66651%2C%201.0%5D%2C%20%5B39.47059%2C%20-78.44651%2C%200.0%5D%2C%20%5B39.47013%2C%20-78.44714%2C%200.0%5D%2C%20%5B39.34667%2C%20-78.51612%2C%200.0%5D%2C%20%5B39.22873%2C%20-78.57760999999998%2C%202.0%5D%2C%20%5B39.53062%2C%20-78.45774%2C%201.0%5D%2C%20%5B39.13804%2C%20-78.66202%2C%201.0%5D%2C%20%5B39.29471%2C%20-78.58965%2C%200.0%5D%2C%20%5B39.12584%2C%20-78.67642%2C%201.0%5D%2C%20%5B39.30011%2C%20-78.60408000000002%2C%202.0%5D%2C%20%5B38.10951%2C%20-79.96051%2C%202.0%5D%2C%20%5B38.27823%2C%20-79.87994%2C%201.0%5D%2C%20%5B38.11302%2C%20-79.95974%2C%201.0%5D%2C%20%5B39.22494%2C%20-79.42416999999998%2C%201.0%5D%2C%20%5B38.07941%2C%20-79.99519000000002%2C%202.0%5D%2C%20%5B38.49153%2C%20-79.7982%2C%201.0%5D%2C%20%5B38.35473%2C%20-79.86604%2C%201.0%5D%2C%20%5B38.6576%2C%20-79.72%2C%201.0%5D%2C%20%5B38.34163%2C%20-79.89765%2C%200.0%5D%2C%20%5B38.40384%2C%20-79.86782%2C%201.0%5D%2C%20%5B39.13878%2C%20-79.51078000000003%2C%201.0%5D%2C%20%5B39.14291%2C%20-79.50998%2C%201.0%5D%2C%20%5B38.18253%2C%20-80.00579%2C%201.0%5D%2C%20%5B39.03725%2C%20-79.59494000000002%2C%202.0%5D%2C%20%5B37.97545%2C%20-80.1071%2C%202.0%5D%2C%20%5B38.35923%2C%20-79.92430999999998%2C%201.0%5D%2C%20%5B37.96561%2C%20-80.13036%2C%202.0%5D%2C%20%5B37.96707%2C%20-80.13093%2C%201.0%5D%2C%20%5B37.96899000000001%2C%20-80.13284%2C%200.0%5D%2C%20%5B39.0613%2C%20-79.60637%2C%201.0%5D%2C%20%5B39.29798%2C%20-79.49116%2C%200.0%5D%2C%20%5B38.90767%2C%20-79.697%2C%200.0%5D%2C%20%5B39.42662%2C%20-78.90845999999998%2C%201.0%5D%2C%20%5B38.99238%2C%20-79.12418000000002%2C%201.0%5D%2C%20%5B38.9923%2C%20-79.12543000000002%2C%200.0%5D%2C%20%5B38.94779000000001%2C%20-79.15041%2C%200.0%5D%2C%20%5B39.18902%2C%20-79.0443%2C%202.0%5D%2C%20%5B38.67354%2C%20-79.29903%2C%201.0%5D%2C%20%5B38.52236%2C%20-79.37273%2C%201.0%5D%2C%20%5B39.03087%2C%20-79.12571%2C%200.0%5D%2C%20%5B39.12277%2C%20-79.08788%2C%201.0%5D%2C%20%5B38.89103%2C%20-79.20229%2C%201.0%5D%2C%20%5B38.77113%2C%20-79.26134%2C%202.0%5D%2C%20%5B39.0619%2C%20-79.1201%2C%201.0%5D%2C%20%5B38.69787%2C%20-79.31212%2C%202.0%5D%2C%20%5B38.83697%2C%20-79.24693%2C%201.0%5D%2C%20%5B38.7125%2C%20-79.30818000000002%2C%201.0%5D%2C%20%5B38.7125%2C%20-79.30897%2C%202.0%5D%2C%20%5B39.43671%2C%20-78.97579%2C%201.0%5D%2C%20%5B38.78358%2C%20-79.29977%2C%201.0%5D%2C%20%5B38.74705%2C%20-79.33886%2C%201.0%5D%2C%20%5B38.5618%2C%20-79.42917%2C%202.0%5D%2C%20%5B39.36931%2C%20-79.03248%2C%201.0%5D%2C%20%5B39.36872%2C%20-79.03313%2C%202.0%5D%2C%20%5B38.74498%2C%20-79.34105%2C%201.0%5D%2C%20%5B39.07227%2C%20-79.20474%2C%201.0%5D%2C%20%5B39.30872%2C%20-79.09163000000002%2C%201.0%5D%2C%20%5B39.30668%2C%20-79.09403%2C%201.0%5D%2C%20%5B39.19607%2C%20-79.15296%2C%201.0%5D%2C%20%5B39.13015%2C%20-79.20219%2C%201.0%5D%2C%20%5B38.90474%2C%20-79.31529%2C%202.0%5D%2C%20%5B39.00445%2C%20-79.26658%2C%201.0%5D%2C%20%5B39.47705%2C%20-79.06721%2C%201.0%5D%2C%20%5B39.48006%2C%20-79.0661%2C%201.0%5D%2C%20%5B38.74067%2C%20-79.43118%2C%200.0%5D%2C%20%5B38.74162000000001%2C%20-79.43313%2C%200.0%5D%2C%20%5B38.67326%2C%20-79.48878%2C%201.0%5D%2C%20%5B38.67245%2C%20-79.48977%2C%201.0%5D%2C%20%5B39.3988%2C%20-79.13338%2C%201.0%5D%2C%20%5B39.1811%2C%20-79.244%2C%200.0%5D%2C%20%5B38.84698%2C%20-79.42187%2C%202.0%5D%2C%20%5B38.86162%2C%20-79.41545%2C%201.0%5D%2C%20%5B38.88698%2C%20-79.40337%2C%201.0%5D%2C%20%5B38.87342%2C%20-79.41022%2C%202.0%5D%2C%20%5B39.30822%2C%20-79.21452%2C%201.0%5D%2C%20%5B39.20795%2C%20-79.26482%2C%201.0%5D%2C%20%5B39.31013%2C%20-79.21439000000002%2C%201.0%5D%2C%20%5B39.2328%2C%20-79.2559%2C%200.0%5D%2C%20%5B39.2698%2C%20-79.26228%2C%202.0%5D%2C%20%5B38.85946%2C%20-79.46828000000002%2C%200.0%5D%2C%20%5B38.6901%2C%20-79.566%2C%200.0%5D%2C%20%5B38.97519000000001%2C%20-79.43222%2C%201.0%5D%2C%20%5B38.77058%2C%20-79.55554000000002%2C%201.0%5D%2C%20%5B38.27672000000001%2C%20-79.83744%2C%201.0%5D%2C%20%5B38.93727%2C%20-79.51845%2C%201.0%5D%2C%20%5B38.96996%2C%20-79.50291%2C%201.0%5D%2C%20%5B39.2741%2C%20-79.36971%2C%200.0%5D%2C%20%5B38.37317%2C%20-79.81061%2C%201.0%5D%2C%20%5B38.57638%2C%20-79.71579%2C%201.0%5D%2C%20%5B39.14865%2C%20-79.43805%2C%200.0%5D%2C%20%5B39.40471%2C%20-79.58908000000002%2C%201.0%5D%2C%20%5B39.16508%2C%20-79.70729%2C%201.0%5D%2C%20%5B39.12211%2C%20-79.72843%2C%202.0%5D%2C%20%5B37.77336%2C%20-80.37631999999998%2C%201.0%5D%2C%20%5B38.8944%2C%20-79.84621%2C%201.0%5D%2C%20%5B38.89744%2C%20-79.84508000000002%2C%202.0%5D%2C%20%5B38.89748%2C%20-79.84568%2C%201.0%5D%2C%20%5B38.83753%2C%20-79.87568%2C%201.0%5D%2C%20%5B38.89514000000001%2C%20-79.85651%2C%201.0%5D%2C%20%5B37.792%2C%20-80.38466%2C%201.0%5D%2C%20%5B37.79196%2C%20-80.38488000000002%2C%201.0%5D%2C%20%5B38.91833%2C%20-79.84572%2C%201.0%5D%2C%20%5B37.78207%2C%20-80.39745%2C%200.0%5D%2C%20%5B37.66398%2C%20-80.45285%2C%201.0%5D%2C%20%5B39.0555%2C%20-78.7813%2C%201.0%5D%2C%20%5B39.28517%2C%20-78.67978000000002%2C%201.0%5D%2C%20%5B39.39169%2C%20-78.627%2C%201.0%5D%2C%20%5B38.87807%2C%20-78.8846%2C%201.0%5D%2C%20%5B39.2503%2C%20-78.70079%2C%202.0%5D%2C%20%5B39.13741%2C%20-78.7715%2C%200.0%5D%2C%20%5B39.1706%2C%20-78.75675%2C%200.0%5D%2C%20%5B39.15463%2C%20-78.76535%2C%201.0%5D%2C%20%5B39.10459%2C%20-78.79115999999998%2C%200.0%5D%2C%20%5B38.96616%2C%20-78.8601%2C%201.0%5D%2C%20%5B39.44777%2C%20-78.65427%2C%201.0%5D%2C%20%5B39.53219%2C%20-78.61369%2C%200.0%5D%2C%20%5B39.52988%2C%20-78.615%2C%200.0%5D%2C%20%5B39.53453%2C%20-78.61267%2C%201.0%5D%2C%20%5B39.24281%2C%20-78.83800000000002%2C%200.0%5D%2C%20%5B39.32735%2C%20-78.79647%2C%201.0%5D%2C%20%5B39.19889000000001%2C%20-78.86242%2C%200.0%5D%2C%20%5B39.22071%2C%20-78.8528%2C%201.0%5D%2C%20%5B39.05623%2C%20-78.97046%2C%201.0%5D%2C%20%5B39.09765%2C%20-78.95517%2C%201.0%5D%2C%20%5B39.08011%2C%20-78.96431%2C%201.0%5D%2C%20%5B39.08586%2C%20-78.96213%2C%201.0%5D%2C%20%5B39.1323%2C%20-78.9508%2C%201.0%5D%2C%20%5B39.31129%2C%20-78.86219%2C%201.0%5D%2C%20%5B39.13225%2C%20-78.9512%2C%201.0%5D%2C%20%5B39.05032%2C%20-78.99304000000002%2C%201.0%5D%2C%20%5B39.45099%2C%20-78.81325%2C%201.0%5D%2C%20%5B39.48169%2C%20-78.79916999999998%2C%201.0%5D%2C%20%5B39.25331%2C%20-78.91485%2C%201.0%5D%2C%20%5B38.99238%2C%20-79.04413000000002%2C%201.0%5D%2C%20%5B39.13345%2C%20-78.9847%2C%200.0%5D%2C%20%5B39.3928%2C%20-78.85579%2C%201.0%5D%2C%20%5B39.14233%2C%20-78.98051%2C%200.0%5D%2C%20%5B38.6221%2C%20-79.23635%2C%201.0%5D%2C%20%5B39.43181%2C%20-78.85479000000002%2C%201.0%5D%2C%20%5B38.89223%2C%20-79.12399%2C%201.0%5D%2C%20%5B38.93676%2C%20-79.10301%2C%201.0%5D%2C%20%5B38.51301%2C%20-79.3106%2C%201.0%5D%2C%20%5B39.58986%2C%20-78.0022%2C%201.0%5D%2C%20%5B39.50747%2C%20-78.04526%2C%201.0%5D%2C%20%5B39.48616%2C%20-78.06051%2C%200.0%5D%2C%20%5B39.57442%2C%20-78.03726999999998%2C%202.0%5D%2C%20%5B39.44026%2C%20-78.12895%2C%201.0%5D%2C%20%5B39.40471%2C%20-78.14939%2C%201.0%5D%2C%20%5B39.4426%2C%20-78.13164%2C%201.0%5D%2C%20%5B39.39892%2C%20-78.1541%2C%201.0%5D%2C%20%5B39.58031%2C%20-78.19054%2C%200.0%5D%2C%20%5B39.43268%2C%20-78.26783%2C%201.0%5D%2C%20%5B39.44217%2C%20-78.26353%2C%201.0%5D%2C%20%5B39.56885%2C%20-78.20028%2C%201.0%5D%2C%20%5B39.6933%2C%20-78.17563%2C%201.0%5D%2C%20%5B39.45741%2C%20-78.29941%2C%201.0%5D%2C%20%5B39.51826%2C%20-78.2692%2C%201.0%5D%2C%20%5B39.48802%2C%20-78.28820999999998%2C%201.0%5D%2C%20%5B39.64982%2C%20-78.23653%2C%201.0%5D%2C%20%5B39.22206%2C%20-78.455%2C%200.0%5D%2C%20%5B39.17887%2C%20-78.48248000000002%2C%200.0%5D%2C%20%5B39.5944%2C%20-78.31812%2C%201.0%5D%2C%20%5B39.09389%2C%20-78.56931%2C%201.0%5D%2C%20%5B39.40298%2C%20-78.41771%2C%201.0%5D%2C%20%5B39.04274%2C%20-78.5983%2C%201.0%5D%2C%20%5B39.47571%2C%20-79.84904%2C%202.0%5D%2C%20%5B37.8323%2C%20-80.64251999999998%2C%201.0%5D%2C%20%5B37.66875%2C%20-80.71955%2C%201.0%5D%2C%20%5B39.65571%2C%20-79.76294%2C%201.0%5D%2C%20%5B38.47799000000001%2C%20-80.34809%2C%202.0%5D%2C%20%5B37.85088%2C%20-80.64581%2C%201.0%5D%2C%20%5B39.0114%2C%20-80.09135%2C%201.0%5D%2C%20%5B39.21004%2C%20-79.9943%2C%201.0%5D%2C%20%5B38.7328%2C%20-80.23640999999998%2C%200.0%5D%2C%20%5B39.46628%2C%20-79.87834000000002%2C%201.0%5D%2C%20%5B37.6491%2C%20-80.75149%2C%200.0%5D%2C%20%5B38.4719%2C%20-80.3632%2C%201.0%5D%2C%20%5B37.69363%2C%20-80.73845%2C%200.0%5D%2C%20%5B37.35521%2C%20-80.89572%2C%201.0%5D%2C%20%5B39.31987%2C%20-79.65673000000002%2C%201.0%5D%2C%20%5B38.09053%2C%20-80.25202%2C%200.0%5D%2C%20%5B38.92384000000001%2C%20-79.85698000000002%2C%201.0%5D%2C%20%5B39.38684%2C%20-79.62966%2C%201.0%5D%2C%20%5B38.68126%2C%20-79.97506%2C%200.0%5D%2C%20%5B38.5526%2C%20-80.03726%2C%202.0%5D%2C%20%5B38.98881%2C%20-79.83131999999998%2C%200.0%5D%2C%20%5B39.49814%2C%20-79.58111%2C%202.0%5D%2C%20%5B39.19761%2C%20-79.72965%2C%201.0%5D%2C%20%5B37.68466%2C%20-80.4564%2C%202.0%5D%2C%20%5B38.50988%2C%20-80.06799000000002%2C%200.0%5D%2C%20%5B39.52589%2C%20-79.57174%2C%202.0%5D%2C%20%5B38.94734%2C%20-79.85714%2C%201.0%5D%2C%20%5B38.63626%2C%20-80.0084%2C%200.0%5D%2C%20%5B39.02619%2C%20-79.81968%2C%200.0%5D%2C%20%5B38.60718%2C%20-80.02646999999997%2C%200.0%5D%2C%20%5B39.35165%2C%20-79.66315999999998%2C%200.0%5D%2C%20%5B38.95376%2C%20-79.85866%2C%200.0%5D%2C%20%5B38.91909%2C%20-79.87595999999998%2C%201.0%5D%2C%20%5B39.01119%2C%20-79.83508%2C%202.0%5D%2C%20%5B37.50272%2C%20-80.55776999999998%2C%201.0%5D%2C%20%5B38.9367%2C%20-79.87475%2C%200.0%5D%2C%20%5B39.06799%2C%20-79.81114000000002%2C%200.0%5D%2C%20%5B39.08171%2C%20-79.81069000000002%2C%201.0%5D%2C%20%5B39.11875%2C%20-79.79361%2C%200.0%5D%2C%20%5B39.05303%2C%20-79.8259%2C%202.0%5D%2C%20%5B38.6827%2C%20-80.00614%2C%200.0%5D%2C%20%5B38.6024%2C%20-80.05796%2C%200.0%5D%2C%20%5B39.65676%2C%20-79.54099000000002%2C%201.0%5D%2C%20%5B39.23629%2C%20-79.75097%2C%202.0%5D%2C%20%5B38.30606%2C%20-80.20241%2C%201.0%5D%2C%20%5B37.74443%2C%20-80.46828000000002%2C%200.0%5D%2C%20%5B39.45821%2C%20-79.65528%2C%200.0%5D%2C%20%5B37.55879%2C%20-80.56857%2C%202.0%5D%2C%20%5B39.32427%2C%20-79.72213%2C%201.0%5D%2C%20%5B39.65778%2C%20-79.57347%2C%201.0%5D%2C%20%5B38.90729%2C%20-79.6987%2C%202.0%5D%2C%20%5B38.90927%2C%20-79.70167%2C%201.0%5D%2C%20%5B38.36357%2C%20-79.96668000000003%2C%201.0%5D%2C%20%5B39.19374000000001%2C%20-79.58483000000003%2C%200.0%5D%2C%20%5B39.38299%2C%20-79.49174000000002%2C%200.0%5D%2C%20%5B38.55758%2C%20-79.89638000000002%2C%200.0%5D%2C%20%5B37.91379000000001%2C%20-80.20407%2C%201.0%5D%2C%20%5B37.48316%2C%20-80.41443000000002%2C%201.0%5D%2C%20%5B39.18458%2C%20-79.60023000000002%2C%200.0%5D%2C%20%5B37.47304000000001%2C%20-80.4202%2C%201.0%5D%2C%20%5B37.79173%2C%20-80.27129000000002%2C%201.0%5D%2C%20%5B37.79965%2C%20-80.28023%2C%201.0%5D%2C%20%5B37.79985%2C%20-80.28044%2C%201.0%5D%2C%20%5B37.80025%2C%20-80.28083000000002%2C%201.0%5D%2C%20%5B37.92187%2C%20-80.22598%2C%201.0%5D%2C%20%5B39.00245%2C%20-79.7153%2C%201.0%5D%2C%20%5B39.14282%2C%20-79.6467%2C%201.0%5D%2C%20%5B38.82682%2C%20-79.80152%2C%201.0%5D%2C%20%5B38.21899000000001%2C%20-80.09454000000002%2C%202.0%5D%2C%20%5B39.14801%2C%20-79.64950999999998%2C%200.0%5D%2C%20%5B37.55961%2C%20-80.41086%2C%201.0%5D%2C%20%5B38.98311%2C%20-79.73051%2C%201.0%5D%2C%20%5B37.78447%2C%20-80.30613000000002%2C%201.0%5D%2C%20%5B37.80389%2C%20-80.30587%2C%202.0%5D%2C%20%5B37.80389%2C%20-80.30587%2C%201.0%5D%2C%20%5B39.0699%2C%20-79.69800000000002%2C%201.0%5D%2C%20%5B38.82344000000001%2C%20-79.81891999999998%2C%200.0%5D%2C%20%5B38.11846%2C%20-80.15853%2C%202.0%5D%2C%20%5B37.57677%2C%20-80.42119%2C%201.0%5D%2C%20%5B38.25746%2C%20-80.10036%2C%200.0%5D%2C%20%5B38.18691%2C%20-80.13476999999997%2C%201.0%5D%2C%20%5B39.04393%2C%20-79.72322%2C%200.0%5D%2C%20%5B37.73087%2C%20-80.36255%2C%201.0%5D%2C%20%5B38.26167%2C%20-80.11206999999997%2C%201.0%5D%2C%20%5B39.458%2C%20-79.532%2C%200.0%5D%2C%20%5B39.08307%2C%20-79.71851%2C%201.0%5D%2C%20%5B38.73081%2C%20-79.9048%2C%202.0%5D%2C%20%5B38.1568%2C%20-80.18146%2C%200.0%5D%2C%20%5B39.42502%2C%20-79.90791%2C%200.0%5D%2C%20%5B38.75734%2C%20-80.234%2C%201.0%5D%2C%20%5B38.83162%2C%20-80.19856%2C%202.0%5D%2C%20%5B37.89766%2C%20-80.65095%2C%201.0%5D%2C%20%5B38.99807%2C%20-80.12725%2C%201.0%5D%2C%20%5B38.81955%2C%20-80.21392%2C%202.0%5D%2C%20%5B38.93283%2C%20-80.15943%2C%202.0%5D%2C%20%5B39.17958%2C%20-80.05275%2C%201.0%5D%2C%20%5B38.94054000000001%2C%20-80.17038000000002%2C%202.0%5D%2C%20%5B38.46836%2C%20-80.39816%2C%202.0%5D%2C%20%5B37.60425%2C%20-80.80656%2C%202.0%5D%2C%20%5B38.98221%2C%20-80.15850999999998%2C%201.0%5D%2C%20%5B38.98239%2C%20-80.15859%2C%201.0%5D%2C%20%5B37.97402%2C%20-80.64185%2C%200.0%5D%2C%20%5B39.07307%2C%20-80.12119%2C%201.0%5D%2C%20%5B37.63979000000001%2C%20-80.80448%2C%201.0%5D%2C%20%5B38.0605%2C%20-80.60781999999998%2C%200.0%5D%2C%20%5B37.60161%2C%20-80.82356999999998%2C%202.0%5D%2C%20%5B38.56236%2C%20-80.37759%2C%201.0%5D%2C%20%5B39.22995%2C%20-80.05459%2C%202.0%5D%2C%20%5B39.05722%2C%20-80.14106%2C%202.0%5D%2C%20%5B37.85803%2C%20-80.71517%2C%201.0%5D%2C%20%5B37.85792%2C%20-80.71794%2C%201.0%5D%2C%20%5B37.85708%2C%20-80.71839%2C%200.0%5D%2C%20%5B37.45965%2C%20-80.90405%2C%201.0%5D%2C%20%5B37.88459%2C%20-80.70705%2C%201.0%5D%2C%20%5B39.14217%2C%20-80.10836%2C%202.0%5D%2C%20%5B38.22076%2C%20-80.55233%2C%201.0%5D%2C%20%5B38.21676%2C%20-80.55536%2C%200.0%5D%2C%20%5B37.35245%2C%20-80.95998%2C%202.0%5D%2C%20%5B38.15803%2C%20-80.58426%2C%201.0%5D%2C%20%5B37.98673%2C%20-80.66826999999998%2C%202.0%5D%2C%20%5B39.68749%2C%20-79.84538%2C%200.0%5D%2C%20%5B38.29599%2C%20-80.52216%2C%201.0%5D%2C%20%5B37.4773%2C%20-80.91105999999998%2C%201.0%5D%2C%20%5B38.56843%2C%20-80.39694%2C%200.0%5D%2C%20%5B39.44707%2C%20-79.67822%2C%201.0%5D%2C%20%5B39.51453%2C%20-79.64485%2C%202.0%5D%2C%20%5B39.54436%2C%20-79.63020999999998%2C%201.0%5D%2C%20%5B39.18312%2C%20-79.81398%2C%201.0%5D%2C%20%5B38.0578%2C%20-80.3568%2C%201.0%5D%2C%20%5B38.65436%2C%20-80.07214%2C%201.0%5D%2C%20%5B38.5387%2C%20-80.128%2C%201.0%5D%2C%20%5B38.88513%2C%20-79.96266999999997%2C%201.0%5D%2C%20%5B38.09273%2C%20-80.34980999999998%2C%202.0%5D%2C%20%5B37.84222000000001%2C%20-80.47077%2C%200.0%5D%2C%20%5B39.01919%2C%20-79.90737%2C%201.0%5D%2C%20%5B38.8761%2C%20-79.9775%2C%200.0%5D%2C%20%5B39.4595%2C%20-79.7014%2C%201.0%5D%2C%20%5B38.88634%2C%20-80.26508000000003%2C%201.0%5D%2C%20%5B39.65368%2C%20-79.88928%2C%200.0%5D%2C%20%5B39.15385%2C%20-80.1358%2C%201.0%5D%2C%20%5B37.92687%2C%20-80.72702%2C%201.0%5D%2C%20%5B38.51631%2C%20-80.4476%2C%200.0%5D%2C%20%5B39.27357%2C%20-80.08086%2C%202.0%5D%2C%20%5B39.62338%2C%20-79.91254%2C%200.0%5D%2C%20%5B39.37681%2C%20-80.03448%2C%200.0%5D%2C%20%5B39.3987%2C%20-80.02404%2C%201.0%5D%2C%20%5B37.65231%2C%20-80.8611%2C%201.0%5D%2C%20%5B37.83204%2C%20-80.77736%2C%201.0%5D%2C%20%5B39.59969%2C%20-79.9305%2C%201.0%5D%2C%20%5B38.99512%2C%20-80.22764000000002%2C%201.0%5D%2C%20%5B39.48063%2C%20-79.9901%2C%200.0%5D%2C%20%5B39.4806%2C%20-79.9902%2C%200.0%5D%2C%20%5B39.62315%2C%20-79.92293000000002%2C%202.0%5D%2C%20%5B39.26648%2C%20-80.09888000000002%2C%201.0%5D%2C%20%5B37.31333%2C%20-81.02776%2C%201.0%5D%2C%20%5B39.588%2C%20-79.94145%2C%201.0%5D%2C%20%5B39.61621%2C%20-79.93283000000002%2C%200.0%5D%2C%20%5B38.99623%2C%20-80.23897%2C%201.0%5D%2C%20%5B38.5554%2C%20-80.452%2C%202.0%5D%2C%20%5B38.82158%2C%20-80.32418%2C%201.0%5D%2C%20%5B39.12135%2C%20-80.18118%2C%201.0%5D%2C%20%5B37.8032%2C%20-80.81105%2C%201.0%5D%2C%20%5B39.163%2C%20-80.161%2C%201.0%5D%2C%20%5B38.88494%2C%20-80.29626999999998%2C%201.0%5D%2C%20%5B38.7801%2C%20-80.35297%2C%202.0%5D%2C%20%5B38.79999%2C%20-80.34376999999998%2C%201.0%5D%2C%20%5B37.80632%2C%20-80.81618%2C%201.0%5D%2C%20%5B37.80643%2C%20-80.81634%2C%201.0%5D%2C%20%5B38.99921%2C%20-80.25254%2C%201.0%5D%2C%20%5B39.24856%2C%20-80.13105999999998%2C%201.0%5D%2C%20%5B39.23216%2C%20-80.13973%2C%201.0%5D%2C%20%5B39.11865%2C%20-80.19722%2C%202.0%5D%2C%20%5B37.61167%2C%20-80.91781999999998%2C%201.0%5D%2C%20%5B39.24201%2C%20-80.13996%2C%201.0%5D%2C%20%5B39.53178%2C%20-79.99756%2C%202.0%5D%2C%20%5B39.53192%2C%20-79.99774000000002%2C%202.0%5D%2C%20%5B37.3135%2C%20-81.05641%2C%201.0%5D%2C%20%5B38.4589%2C%20-80.52306999999998%2C%201.0%5D%2C%20%5B39.62852%2C%20-79.95398%2C%202.0%5D%2C%20%5B37.6726%2C%20-80.89433000000002%2C%201.0%5D%2C%20%5B38.45579%2C%20-80.52504%2C%202.0%5D%2C%20%5B38.45557%2C%20-80.52887%2C%200.0%5D%2C%20%5B37.30288%2C%20-81.06945999999998%2C%200.0%5D%2C%20%5B39.12043%2C%20-80.2083%2C%201.0%5D%2C%20%5B38.41286%2C%20-80.55400999999998%2C%200.0%5D%2C%20%5B38.4405%2C%20-80.54101%2C%202.0%5D%2C%20%5B37.97042%2C%20-80.76432%2C%201.0%5D%2C%20%5B37.70827%2C%20-80.88745%2C%202.0%5D%2C%20%5B39.44861%2C%20-80.05744%2C%201.0%5D%2C%20%5B39.00472%2C%20-80.27472%2C%201.0%5D%2C%20%5B39.38847%2C%20-80.08766999999997%2C%202.0%5D%2C%20%5B37.88797%2C%20-80.80889%2C%201.0%5D%2C%20%5B38.16109%2C%20-80.69118%2C%202.0%5D%2C%20%5B39.60484%2C%20-79.99285%2C%201.0%5D%2C%20%5B39.00779%2C%20-80.28575%2C%201.0%5D%2C%20%5B38.16655%2C%20-80.68981%2C%200.0%5D%2C%20%5B38.11638%2C%20-80.71862%2C%201.0%5D%2C%20%5B38.47692%2C%20-79.3288%2C%201.0%5D%2C%20%5B37.5285%2C%20-80.62868%2C%200.0%5D%2C%20%5B39.63014%2C%20-79.62021%2C%201.0%5D%2C%20%5B38.93911%2C%20-79.96121%2C%202.0%5D%2C%20%5B39.05392%2C%20-79.92092%2C%201.0%5D%2C%20%5B37.86851%2C%20-80.48952%2C%201.0%5D%2C%20%5B39.34617%2C%20-79.77775%2C%201.0%5D%2C%20%5B39.0284%2C%20-79.93395%2C%201.0%5D%2C%20%5B39.67289%2C%20-79.62541%2C%202.0%5D%2C%20%5B39.15189%2C%20-79.88297%2C%201.0%5D%2C%20%5B37.52981%2C%20-80.65836999999998%2C%201.0%5D%2C%20%5B39.7009%2C%20-79.6164%2C%200.0%5D%2C%20%5B39.69703%2C%20-79.61851%2C%200.0%5D%2C%20%5B39.4194%2C%20-79.7568%2C%200.0%5D%2C%20%5B39.65892%2C%20-79.63833000000002%2C%201.0%5D%2C%20%5B39.11814%2C%20-79.91067%2C%201.0%5D%2C%20%5B39.33431%2C%20-79.80585%2C%200.0%5D%2C%20%5B37.99239%2C%20-80.45456%2C%201.0%5D%2C%20%5B38.95991%2C%20-79.99053%2C%202.0%5D%2C%20%5B39.71514000000001%2C%20-79.62413000000002%2C%201.0%5D%2C%20%5B39.32593%2C%20-79.81876%2C%201.0%5D%2C%20%5B37.64655%2C%20-80.62503000000002%2C%201.0%5D%2C%20%5B39.29868%2C%20-79.83336%2C%200.0%5D%2C%20%5B38.98746%2C%20-79.98586999999998%2C%201.0%5D%2C%20%5B39.10423%2C%20-79.94034%2C%201.0%5D%2C%20%5B38.27114%2C%20-80.34262%2C%201.0%5D%2C%20%5B37.4966%2C%20-80.70827%2C%202.0%5D%2C%20%5B37.54535%2C%20-80.68615%2C%200.0%5D%2C%20%5B39.3904%2C%20-79.8071%2C%202.0%5D%2C%20%5B39.12989%2C%20-79.93576999999998%2C%202.0%5D%2C%20%5B38.27056%2C%20-80.35092%2C%201.0%5D%2C%20%5B39.6628%2C%20-79.67434%2C%201.0%5D%2C%20%5B39.3927%2C%20-79.8187%2C%202.0%5D%2C%20%5B37.86803%2C%20-80.55368%2C%201.0%5D%2C%20%5B39.33068%2C%20-79.85035%2C%200.0%5D%2C%20%5B39.65594%2C%20-79.68934%2C%200.0%5D%2C%20%5B39.33887%2C%20-79.85562%2C%200.0%5D%2C%20%5B39.03651%2C%20-79.75729%2C%200.0%5D%2C%20%5B39.2926%2C%20-79.6348%2C%202.0%5D%2C%20%5B38.91138%2C%20-79.82231999999998%2C%202.0%5D%2C%20%5B37.3686%2C%20-81.0725%2C%201.0%5D%2C%20%5B37.3939%2C%20-81.06096%2C%202.0%5D%2C%20%5B38.29122%2C%20-80.64126%2C%201.0%5D%2C%20%5B39.26811%2C%20-80.17068%2C%202.0%5D%2C%20%5B37.36695%2C%20-81.07472%2C%202.0%5D%2C%20%5B38.4828%2C%20-80.55673%2C%200.0%5D%2C%20%5B39.1319%2C%20-80.244%2C%200.0%5D%2C%20%5B38.14543%2C%20-80.71807%2C%201.0%5D%2C%20%5B38.44362%2C%20-80.57755999999998%2C%202.0%5D%2C%20%5B39.50168%2C%20-80.06689%2C%202.0%5D%2C%20%5B39.68195%2C%20-79.97784%2C%200.0%5D%2C%20%5B37.36417%2C%20-81.08679000000002%2C%202.0%5D%2C%20%5B39.48067%2C%20-80.07812%2C%201.0%5D%2C%20%5B38.34369%2C%20-80.63241%2C%200.0%5D%2C%20%5B37.29944%2C%20-81.12079%2C%201.0%5D%2C%20%5B38.75357%2C%20-80.43889%2C%201.0%5D%2C%20%5B38.33409%2C%20-80.63999%2C%201.0%5D%2C%20%5B37.42504%2C%20-81.06597%2C%201.0%5D%2C%20%5B37.40259%2C%20-81.07645%2C%201.0%5D%2C%20%5B38.76508%2C%20-80.4367%2C%201.0%5D%2C%20%5B37.60316%2C%20-80.98648%2C%201.0%5D%2C%20%5B39.58348%2C%20-80.03737%2C%200.0%5D%2C%20%5B39.55833%2C%20-80.05%2C%202.0%5D%2C%20%5B37.42577%2C%20-81.0729%2C%201.0%5D%2C%20%5B39.47493%2C%20-80.09527%2C%200.0%5D%2C%20%5B37.42371%2C%20-81.07424%2C%202.0%5D%2C%20%5B37.34877%2C%20-81.10883000000003%2C%201.0%5D%2C%20%5B38.46613%2C%20-80.58769000000002%2C%200.0%5D%2C%20%5B39.65867%2C%20-80.00820999999998%2C%201.0%5D%2C%20%5B39.6549%2C%20-80.0102%2C%202.0%5D%2C%20%5B37.61117%2C%20-80.99131%2C%201.0%5D%2C%20%5B39.655%2C%20-80.0105%2C%201.0%5D%2C%20%5B38.91606%2C%20-80.3788%2C%200.0%5D%2C%20%5B39.36992%2C%20-80.00758%2C%201.0%5D%2C%20%5B39.6673%2C%20-79.8606%2C%200.0%5D%2C%20%5B37.34487%2C%20-80.97876%2C%201.0%5D%2C%20%5B39.1258%2C%20-80.1352%2C%200.0%5D%2C%20%5B39.33979%2C%20-80.03055%2C%200.0%5D%2C%20%5B39.30568%2C%20-80.04767%2C%200.0%5D%2C%20%5B38.86763%2C%20-80.26546%2C%202.0%5D%2C%20%5B38.97397%2C%20-80.21484%2C%201.0%5D%2C%20%5B38.87404%2C%20-80.26414%2C%201.0%5D%2C%20%5B39.04331%2C%20-80.35799%2C%200.0%5D%2C%20%5B38.61291%2C%20-80.56609%2C%201.0%5D%2C%20%5B39.57666%2C%20-80.0971%2C%202.0%5D%2C%20%5B39.1822%2C%20-80.2911%2C%200.0%5D%2C%20%5B38.67243%2C%20-80.54177%2C%202.0%5D%2C%20%5B38.99906%2C%20-80.38415%2C%201.0%5D%2C%20%5B39.37644%2C%20-80.2%2C%201.0%5D%2C%20%5B37.47202%2C%20-81.11068%2C%202.0%5D%2C%20%5B37.40834%2C%20-81.14025%2C%201.0%5D%2C%20%5B39.33801%2C%20-80.22268000000003%2C%202.0%5D%2C%20%5B37.4921%2C%20-81.10179000000002%2C%201.0%5D%2C%20%5B37.92364%2C%20-80.90128%2C%200.0%5D%2C%20%5B39.6662%2C%20-80.0631%2C%202.0%5D%2C%20%5B39.3922%2C%20-80.1984%2C%201.0%5D%2C%20%5B39.53388%2C%20-80.12886%2C%201.0%5D%2C%20%5B37.49562%2C%20-81.10265%2C%201.0%5D%2C%20%5B39.28423%2C%20-80.25615%2C%202.0%5D%2C%20%5B39.00497%2C%20-80.39251%2C%201.0%5D%2C%20%5B39.00171%2C%20-80.39413%2C%201.0%5D%2C%20%5B39.00487%2C%20-80.39260999999998%2C%201.0%5D%2C%20%5B39.00812%2C%20-80.39601%2C%202.0%5D%2C%20%5B39.50555%2C%20-80.15307%2C%201.0%5D%2C%20%5B39.2318%2C%20-80.28846999999998%2C%201.0%5D%2C%20%5B39.53708%2C%20-80.13866%2C%200.0%5D%2C%20%5B39.25169%2C%20-80.28463%2C%201.0%5D%2C%20%5B39.22624%2C%20-80.29720999999998%2C%201.0%5D%2C%20%5B39.25167%2C%20-80.28497%2C%201.0%5D%2C%20%5B39.10809%2C%20-80.28560999999998%2C%200.0%5D%2C%20%5B37.3161%2C%20-81.13564000000002%2C%201.0%5D%2C%20%5B39.15813%2C%20-80.2636%2C%200.0%5D%2C%20%5B37.47035%2C%20-81.06728000000003%2C%201.0%5D%2C%20%5B39.3746%2C%20-80.1597%2C%200.0%5D%2C%20%5B38.32854%2C%20-80.66538%2C%201.0%5D%2C%20%5B38.46909%2C%20-80.5987%2C%201.0%5D%2C%20%5B39.66687%2C%20-80.02121%2C%201.0%5D%2C%20%5B39.66678%2C%20-80.02161%2C%201.0%5D%2C%20%5B39.04158%2C%20-80.32865%2C%201.0%5D%2C%20%5B39.17619000000001%2C%20-80.2632%2C%201.0%5D%2C%20%5B37.47968%2C%20-81.07382%2C%201.0%5D%2C%20%5B39.62223%2C%20-80.05019%2C%201.0%5D%2C%20%5B37.33995%2C%20-81.14081%2C%201.0%5D%2C%20%5B39.6786%2C%20-80.0237%2C%201.0%5D%2C%20%5B37.40397%2C%20-81.11579%2C%201.0%5D%2C%20%5B37.28256%2C%20-81.17206999999998%2C%200.0%5D%2C%20%5B39.57307%2C%20-80.08045%2C%202.0%5D%2C%20%5B38.83413%2C%20-80.44789%2C%201.0%5D%2C%20%5B38.36017%2C%20-80.67526%2C%200.0%5D%2C%20%5B38.92729%2C%20-80.40346%2C%201.0%5D%2C%20%5B38.83488%2C%20-80.44819%2C%202.0%5D%2C%20%5B38.82117%2C%20-80.45900999999998%2C%202.0%5D%2C%20%5B39.18942%2C%20-80.28102%2C%200.0%5D%2C%20%5B38.77617%2C%20-80.48246%2C%201.0%5D%2C%20%5B37.42921%2C%20-81.11808%2C%201.0%5D%2C%20%5B38.87186%2C%20-80.4369%2C%201.0%5D%2C%20%5B37.3255%2C%20-81.31161999999998%2C%201.0%5D%2C%20%5B39.0448%2C%20-80.5003%2C%201.0%5D%2C%20%5B38.7621%2C%20-80.63715%2C%202.0%5D%2C%20%5B38.69687%2C%20-80.66885%2C%201.0%5D%2C%20%5B38.36803%2C%20-80.82875%2C%200.0%5D%2C%20%5B37.74905%2C%20-81.11995999999998%2C%202.0%5D%2C%20%5B37.85406%2C%20-81.07124%2C%200.0%5D%2C%20%5B38.91734%2C%20-80.56678000000002%2C%201.0%5D%2C%20%5B39.39655%2C%20-80.33652%2C%202.0%5D%2C%20%5B38.7741%2C%20-80.63883%2C%200.0%5D%2C%20%5B39.21123%2C%20-80.30545%2C%200.0%5D%2C%20%5B39.54405%2C%20-80.14243%2C%201.0%5D%2C%20%5B39.54377%2C%20-80.14408%2C%200.0%5D%2C%20%5B39.54548%2C%20-80.14336%2C%202.0%5D%2C%20%5B37.40311%2C%20-81.16549%2C%201.0%5D%2C%20%5B39.2341%2C%20-80.29648%2C%201.0%5D%2C%20%5B39.43413%2C%20-80.20368%2C%200.0%5D%2C%20%5B39.50735%2C%20-80.16806%2C%201.0%5D%2C%20%5B39.14951%2C%20-80.34435%2C%201.0%5D%2C%20%5B39.59968%2C%20-80.12374%2C%201.0%5D%2C%20%5B39.29736%2C%20-80.2776%2C%200.0%5D%2C%20%5B37.9609%2C%20-80.91856%2C%201.0%5D%2C%20%5B39.54938%2C%20-80.15423%2C%200.0%5D%2C%20%5B39.30674000000001%2C%20-80.27455%2C%201.0%5D%2C%20%5B39.30697%2C%20-80.27468%2C%201.0%5D%2C%20%5B39.05408%2C%20-80.40058%2C%202.0%5D%2C%20%5B39.16601%2C%20-80.34664000000002%2C%201.0%5D%2C%20%5B39.17255%2C%20-80.34394%2C%200.0%5D%2C%20%5B39.15934%2C%20-80.35571999999998%2C%201.0%5D%2C%20%5B39.57311%2C%20-80.15358%2C%202.0%5D%2C%20%5B39.55075%2C%20-80.16463%2C%201.0%5D%2C%20%5B39.264%2C%20-80.3067%2C%200.0%5D%2C%20%5B39.09168%2C%20-80.39378%2C%201.0%5D%2C%20%5B39.01973%2C%20-80.4292%2C%202.0%5D%2C%20%5B39.01969%2C%20-80.42925%2C%202.0%5D%2C%20%5B38.50438%2C%20-80.67724%2C%202.0%5D%2C%20%5B39.10122%2C%20-80.39206999999998%2C%201.0%5D%2C%20%5B39.13664%2C%20-80.37501999999998%2C%201.0%5D%2C%20%5B37.86146%2C%20-80.98357%2C%202.0%5D%2C%20%5B39.6798%2C%20-80.1085%2C%201.0%5D%2C%20%5B39.46114%2C%20-80.2165%2C%201.0%5D%2C%20%5B39.68808%2C%20-80.11064%2C%200.0%5D%2C%20%5B39.21757%2C%20-80.34213000000003%2C%200.0%5D%2C%20%5B39.41237%2C%20-80.24704%2C%201.0%5D%2C%20%5B37.29133%2C%20-81.25496%2C%201.0%5D%2C%20%5B38.10718%2C%20-80.87827%2C%201.0%5D%2C%20%5B39.21741%2C%20-80.34644%2C%201.0%5D%2C%20%5B39.43606%2C%20-79.80768%2C%200.0%5D%2C%20%5B37.51494%2C%20-80.72891%2C%202.0%5D%2C%20%5B39.13087%2C%20-79.95852%2C%200.0%5D%2C%20%5B37.81561%2C%20-80.60254%2C%201.0%5D%2C%20%5B37.8156%2C%20-80.6027%2C%201.0%5D%2C%20%5B37.55443%2C%20-80.72549000000002%2C%202.0%5D%2C%20%5B38.816%2C%20-80.12675%2C%201.0%5D%2C%20%5B39.65035%2C%20-79.72189%2C%202.0%5D%2C%20%5B39.38766%2C%20-79.85284%2C%202.0%5D%2C%20%5B39.4479%2C%20-79.82311%2C%200.0%5D%2C%20%5B37.39903%2C%20-80.80359%2C%201.0%5D%2C%20%5B37.88992%2C%20-80.57907%2C%201.0%5D%2C%20%5B38.91608%2C%20-80.08887%2C%201.0%5D%2C%20%5B39.67296%2C%20-79.71682%2C%201.0%5D%2C%20%5B38.91816%2C%20-80.08910999999998%2C%201.0%5D%2C%20%5B38.97501%2C%20-80.06188%2C%201.0%5D%2C%20%5B39.52919%2C%20-79.79694%2C%201.0%5D%2C%20%5B39.5711%2C%20-79.7762%2C%201.0%5D%2C%20%5B38.84188%2C%20-80.13395%2C%202.0%5D%2C%20%5B38.34181%2C%20-80.37447%2C%201.0%5D%2C%20%5B39.39853%2C%20-79.86825999999998%2C%201.0%5D%2C%20%5B39.5166%2C%20-79.80996%2C%202.0%5D%2C%20%5B38.896%2C%20-80.11426999999998%2C%201.0%5D%2C%20%5B39.39765%2C%20-79.86887%2C%200.0%5D%2C%20%5B37.90278%2C%20-80.59546%2C%201.0%5D%2C%20%5B37.52955%2C%20-80.7701%2C%201.0%5D%2C%20%5B37.82369%2C%20-80.63401%2C%200.0%5D%2C%20%5B39.53526%2C%20-79.81055%2C%200.0%5D%2C%20%5B39.27669%2C%20-80.32189%2C%201.0%5D%2C%20%5B39.17305%2C%20-80.37325%2C%201.0%5D%2C%20%5B38.93016%2C%20-80.4912%2C%200.0%5D%2C%20%5B39.22272%2C%20-80.34971999999998%2C%202.0%5D%2C%20%5B37.97632%2C%20-80.94683%2C%202.0%5D%2C%20%5B39.7078%2C%20-80.1155%2C%200.0%5D%2C%20%5B39.48462%2C%20-80.22596%2C%200.0%5D%2C%20%5B37.61525%2C%20-81.11936999999998%2C%201.0%5D%2C%20%5B39.27712%2C%20-80.3282%2C%201.0%5D%2C%20%5B39.51049%2C%20-80.21595%2C%201.0%5D%2C%20%5B38.59819%2C%20-80.48944%2C%201.0%5D%2C%20%5B39.62772%2C%20-79.98815%2C%201.0%5D%2C%20%5B39.40104%2C%20-80.48018%2C%202.0%5D%2C%20%5B39.03797%2C%20-80.65796%2C%200.0%5D%2C%20%5B39.52088%2C%20-80.42264%2C%200.0%5D%2C%20%5B39.40456%2C%20-80.48288000000002%2C%200.0%5D%2C%20%5B39.3337%2C%20-80.5176%2C%201.0%5D%2C%20%5B39.03925%2C%20-80.6609%2C%201.0%5D%2C%20%5B39.40502%2C%20-80.48284%2C%201.0%5D%2C%20%5B38.48822%2C%20-80.92813000000002%2C%201.0%5D%2C%20%5B39.40657%2C%20-80.48508000000002%2C%201.0%5D%2C%20%5B38.74753%2C%20-80.80475%2C%201.0%5D%2C%20%5B37.60365%2C%20-81.34361%2C%202.0%5D%2C%20%5B37.35555%2C%20-81.46%2C%201.0%5D%2C%20%5B38.5633%2C%20-80.89613%2C%202.0%5D%2C%20%5B38.25356%2C%20-81.04354000000002%2C%201.0%5D%2C%20%5B37.32601%2C%20-81.47581%2C%201.0%5D%2C%20%5B38.64228%2C%20-80.85996999999998%2C%200.0%5D%2C%20%5B37.41606%2C%20-81.43625%2C%201.0%5D%2C%20%5B39.26064%2C%20-80.56322%2C%202.0%5D%2C%20%5B38.56699%2C%20-80.89801%2C%201.0%5D%2C%20%5B38.92363%2C%20-80.72758%2C%200.0%5D%2C%20%5B39.2827%2C%20-80.559%2C%202.0%5D%2C%20%5B39.37026%2C%20-80.51647%2C%201.0%5D%2C%20%5B38.11851%2C%20-81.11702%2C%201.0%5D%2C%20%5B38.49417%2C%20-80.93943%2C%201.0%5D%2C%20%5B37.41609%2C%20-81.44852%2C%201.0%5D%2C%20%5B38.92539%2C%20-80.73831%2C%201.0%5D%2C%20%5B39.01828%2C%20-80.69457%2C%202.0%5D%2C%20%5B39.01908%2C%20-80.69476%2C%202.0%5D%2C%20%5B39.01277%2C%20-80.70371999999998%2C%200.0%5D%2C%20%5B38.05447%2C%20-81.16016%2C%201.0%5D%2C%20%5B37.59124%2C%20-81.37649%2C%202.0%5D%2C%20%5B38.91587%2C%20-80.75186%2C%201.0%5D%2C%20%5B39.03978%2C%20-80.69633%2C%201.0%5D%2C%20%5B37.59536%2C%20-81.3798%2C%202.0%5D%2C%20%5B38.26617%2C%20-80.81696%2C%200.0%5D%2C%20%5B39.71304%2C%20-80.11636999999997%2C%201.0%5D%2C%20%5B39.18248%2C%20-80.3775%2C%200.0%5D%2C%20%5B37.35636%2C%20-81.24589%2C%201.0%5D%2C%20%5B37.46994%2C%20-81.19382%2C%202.0%5D%2C%20%5B39.56309%2C%20-80.19511%2C%201.0%5D%2C%20%5B39.27849000000001%2C%20-80.3349%2C%202.0%5D%2C%20%5B39.51289000000001%2C%20-80.22332%2C%200.0%5D%2C%20%5B39.3119%2C%20-80.3226%2C%201.0%5D%2C%20%5B39.005%2C%20-80.47667%2C%201.0%5D%2C%20%5B37.34533%2C%20-81.26045%2C%201.0%5D%2C%20%5B39.28319000000001%2C%20-80.34177%2C%201.0%5D%2C%20%5B39.51802%2C%20-80.22694%2C%200.0%5D%2C%20%5B39.01477%2C%20-80.47716%2C%202.0%5D%2C%20%5B39.45081%2C%20-80.26437%2C%201.0%5D%2C%20%5B38.48674000000001%2C%20-80.73164%2C%201.0%5D%2C%20%5B39.2816%2C%20-80.35127%2C%202.0%5D%2C%20%5B39.4323%2C%20-80.27762%2C%200.0%5D%2C%20%5B37.35874%2C%20-81.26333000000002%2C%201.0%5D%2C%20%5B39.28756%2C%20-80.34876%2C%202.0%5D%2C%20%5B39.28209%2C%20-80.35171%2C%201.0%5D%2C%20%5B39.19282000000001%2C%20-80.39806%2C%200.0%5D%2C%20%5B39.01525%2C%20-80.48448%2C%201.0%5D%2C%20%5B39.4761%2C%20-80.2595%2C%202.0%5D%2C%20%5B38.49356%2C%20-80.73538%2C%202.0%5D%2C%20%5B39.39453%2C%20-80.30358000000003%2C%202.0%5D%2C%20%5B39.4575%2C%20-80.27283%2C%200.0%5D%2C%20%5B39.65107%2C%20-80.1776%2C%201.0%5D%2C%20%5B37.41911%2C%20-81.2435%2C%202.0%5D%2C%20%5B38.52233%2C%20-80.72875%2C%201.0%5D%2C%20%5B39.3491%2C%20-80.3291%2C%200.0%5D%2C%20%5B39.14522%2C%20-80.42907%2C%201.0%5D%2C%20%5B37.6819%2C%20-81.12523%2C%201.0%5D%2C%20%5B38.31076%2C%20-80.83346%2C%201.0%5D%2C%20%5B37.91459%2C%20-81.02008000000002%2C%201.0%5D%2C%20%5B39.43112%2C%20-80.24192%2C%200.0%5D%2C%20%5B38.07369%2C%20-80.8951%2C%201.0%5D%2C%20%5B37.78926%2C%20-81.18528%2C%201.0%5D%2C%20%5B39.34045%2C%20-80.44524%2C%201.0%5D%2C%20%5B37.74329%2C%20-81.20788%2C%201.0%5D%2C%20%5B37.74331%2C%20-81.20823%2C%201.0%5D%2C%20%5B37.80629%2C%20-81.18281%2C%201.0%5D%2C%20%5B37.93148%2C%20-81.12512%2C%200.0%5D%2C%20%5B37.37141%2C%20-81.3847%2C%200.0%5D%2C%20%5B38.74436%2C%20-80.74051%2C%201.0%5D%2C%20%5B38.91014000000001%2C%20-80.6656%2C%201.0%5D%2C%20%5B38.75026%2C%20-80.74277%2C%201.0%5D%2C%20%5B37.70458%2C%20-81.23645%2C%201.0%5D%2C%20%5B38.25418%2C%20-80.97918%2C%201.0%5D%2C%20%5B39.52429%2C%20-80.37026%2C%200.0%5D%2C%20%5B38.60811%2C%20-80.81446%2C%201.0%5D%2C%20%5B39.66002%2C%20-80.30367%2C%200.0%5D%2C%20%5B38.60839%2C%20-80.81456%2C%201.0%5D%2C%20%5B39.29261%2C%20-80.48647%2C%202.0%5D%2C%20%5B39.30542%2C%20-80.48038000000003%2C%201.0%5D%2C%20%5B38.76794%2C%20-80.74150999999998%2C%201.0%5D%2C%20%5B37.70729%2C%20-81.24252%2C%201.0%5D%2C%20%5B37.4049%2C%20-81.38237%2C%201.0%5D%2C%20%5B37.29751%2C%20-81.43368000000002%2C%201.0%5D%2C%20%5B38.91911%2C%20-80.67166%2C%201.0%5D%2C%20%5B39.67737%2C%20-80.30181%2C%200.0%5D%2C%20%5B38.86275%2C%20-80.69960999999998%2C%202.0%5D%2C%20%5B38.98355%2C%20-80.64428000000002%2C%202.0%5D%2C%20%5B37.40994%2C%20-81.38634%2C%202.0%5D%2C%20%5B39.3844%2C%20-80.4498%2C%201.0%5D%2C%20%5B37.93335%2C%20-81.14412%2C%201.0%5D%2C%20%5B37.62761%2C%20-81.28967%2C%202.0%5D%2C%20%5B39.1655%2C%20-80.56%2C%200.0%5D%2C%20%5B38.92524%2C%20-80.67638000000002%2C%201.0%5D%2C%20%5B39.31624%2C%20-80.4869%2C%202.0%5D%2C%20%5B39.30879%2C%20-80.49509%2C%200.0%5D%2C%20%5B37.33896%2C%20-81.42772%2C%202.0%5D%2C%20%5B38.94915%2C%20-80.67008%2C%202.0%5D%2C%20%5B39.61579%2C%20-80.4158%2C%202.0%5D%2C%20%5B38.45628%2C%20-80.97766999999997%2C%202.0%5D%2C%20%5B38.70374%2C%20-80.86305%2C%202.0%5D%2C%20%5B39.18984%2C%20-80.62948%2C%200.0%5D%2C%20%5B38.11388%2C%20-81.14364%2C%201.0%5D%2C%20%5B38.45695%2C%20-80.98163000000002%2C%200.0%5D%2C%20%5B37.6828%2C%20-81.34929%2C%202.0%5D%2C%20%5B37.86755%2C%20-81.2636%2C%201.0%5D%2C%20%5B37.86757%2C%20-81.26374%2C%201.0%5D%2C%20%5B37.87224000000001%2C%20-81.26234000000002%2C%201.0%5D%2C%20%5B38.68456%2C%20-80.88525%2C%200.0%5D%2C%20%5B38.92785%2C%20-80.76859%2C%201.0%5D%2C%20%5B39.07298%2C%20-80.69864%2C%201.0%5D%2C%20%5B37.76638%2C%20-81.31908%2C%201.0%5D%2C%20%5B39.33087%2C%20-80.57892%2C%201.0%5D%2C%20%5B38.1948%2C%20-81.124%2C%201.0%5D%2C%20%5B37.89481%2C%20-81.26624%2C%201.0%5D%2C%20%5B38.68456%2C%20-80.89328%2C%200.0%5D%2C%20%5B39.09036%2C%20-80.70081%2C%202.0%5D%2C%20%5B38.78963%2C%20-80.84679%2C%200.0%5D%2C%20%5B38.56638%2C%20-80.95362%2C%201.0%5D%2C%20%5B39.35169000000001%2C%20-80.5751%2C%202.0%5D%2C%20%5B39.2407%2C%20-80.63569%2C%201.0%5D%2C%20%5B37.94328%2C%20-81.25435%2C%201.0%5D%2C%20%5B37.41934000000001%2C%20-81.4971%2C%201.0%5D%2C%20%5B37.33684%2C%20-81.53835%2C%201.0%5D%2C%20%5B37.91623%2C%20-81.27059%2C%201.0%5D%2C%20%5B39.47251%2C%20-80.52668%2C%202.0%5D%2C%20%5B37.33803%2C%20-81.53902%2C%201.0%5D%2C%20%5B37.76404%2C%20-81.41667%2C%202.0%5D%2C%20%5B39.28298%2C%20-80.69483000000002%2C%201.0%5D%2C%20%5B38.24315%2C%20-81.19378%2C%201.0%5D%2C%20%5B38.44688%2C%20-81.0978%2C%202.0%5D%2C%20%5B39.02021%2C%20-80.82375%2C%201.0%5D%2C%20%5B39.24317%2C%20-80.71821%2C%200.0%5D%2C%20%5B37.50571%2C%20-81.54166%2C%202.0%5D%2C%20%5B38.35788%2C%20-80.83771999999998%2C%200.0%5D%2C%20%5B39.44636%2C%20-80.31281%2C%200.0%5D%2C%20%5B39.37394000000001%2C%20-80.35189%2C%201.0%5D%2C%20%5B38.57711%2C%20-80.73765999999998%2C%201.0%5D%2C%20%5B38.57702000000001%2C%20-80.73789000000002%2C%201.0%5D%2C%20%5B37.32485%2C%20-81.32493000000002%2C%202.0%5D%2C%20%5B37.72266%2C%20-81.14546%2C%200.0%5D%2C%20%5B37.75097%2C%20-81.13297%2C%202.0%5D%2C%20%5B37.34732%2C%20-81.31975%2C%201.0%5D%2C%20%5B37.74985%2C%20-81.14010999999998%2C%201.0%5D%2C%20%5B39.61313%2C%20-80.24708000000003%2C%201.0%5D%2C%20%5B37.7495%2C%20-81.14061%2C%201.0%5D%2C%20%5B38.66322%2C%20-80.71005%2C%201.0%5D%2C%20%5B39.23281%2C%20-80.44077%2C%201.0%5D%2C%20%5B39.51718%2C%20-80.30168%2C%202.0%5D%2C%20%5B37.75054%2C%20-81.1475%2C%201.0%5D%2C%20%5B38.03061%2C%20-81.01796%2C%200.0%5D%2C%20%5B39.55919%2C%20-80.28315%2C%202.0%5D%2C%20%5B39.51983%2C%20-80.30599000000002%2C%201.0%5D%2C%20%5B37.75448%2C%20-81.15119%2C%201.0%5D%2C%20%5B37.75296%2C%20-81.15202%2C%201.0%5D%2C%20%5B37.75459%2C%20-81.15154%2C%201.0%5D%2C%20%5B39.38467%2C%20-80.38044000000002%2C%202.0%5D%2C%20%5B38.92615%2C%20-80.60385%2C%202.0%5D%2C%20%5B39.10653%2C%20-80.51671%2C%201.0%5D%2C%20%5B38.97036%2C%20-80.58272%2C%201.0%5D%2C%20%5B39.09109%2C%20-80.53004%2C%202.0%5D%2C%20%5B39.4253%2C%20-80.36726%2C%202.0%5D%2C%20%5B38.65588%2C%20-80.74039%2C%201.0%5D%2C%20%5B39.33357%2C%20-80.41743000000002%2C%202.0%5D%2C%20%5B37.75691%2C%20-81.16975%2C%201.0%5D%2C%20%5B38.48916%2C%20-80.82512%2C%200.0%5D%2C%20%5B39.33632%2C%20-80.41713%2C%200.0%5D%2C%20%5B38.86417%2C%20-80.65001%2C%201.0%5D%2C%20%5B38.86441%2C%20-80.65006%2C%201.0%5D%2C%20%5B38.85655%2C%20-80.65649%2C%201.0%5D%2C%20%5B37.30311%2C%20-81.30344000000002%2C%201.0%5D%2C%20%5B39.30794%2C%20-80.35415%2C%202.0%5D%2C%20%5B39.15069%2C%20-80.43623000000002%2C%202.0%5D%2C%20%5B38.3268%2C%20-80.83252%2C%200.0%5D%2C%20%5B38.50895%2C%20-80.74631%2C%201.0%5D%2C%20%5B38.99519%2C%20-80.51264%2C%201.0%5D%2C%20%5B38.50035%2C%20-80.75501%2C%201.0%5D%2C%20%5B39.04929%2C%20-80.49115%2C%200.0%5D%2C%20%5B38.87865%2C%20-80.57395%2C%202.0%5D%2C%20%5B39.7138%2C%20-80.16563000000002%2C%200.0%5D%2C%20%5B37.33005%2C%20-81.3048%2C%201.0%5D%2C%20%5B39.11393%2C%20-80.46186%2C%202.0%5D%2C%20%5B38.36831%2C%20-80.82007%2C%202.0%5D%2C%20%5B39.39265%2C%20-80.32582%2C%201.0%5D%2C%20%5B39.47076%2C%20-80.28756%2C%200.0%5D%2C%20%5B37.5804%2C%20-81.43344%2C%201.0%5D%2C%20%5B37.36265%2C%20-81.5342%2C%201.0%5D%2C%20%5B38.742%2C%20-80.88844%2C%201.0%5D%2C%20%5B38.23489%2C%20-81.12948%2C%200.0%5D%2C%20%5B37.42968%2C%20-81.50822%2C%202.0%5D%2C%20%5B38.21455%2C%20-81.1437%2C%202.0%5D%2C%20%5B37.42806%2C%20-81.51017%2C%201.0%5D%2C%20%5B38.68874%2C%20-80.92019%2C%201.0%5D%2C%20%5B38.70084%2C%20-80.91555%2C%202.0%5D%2C%20%5B37.43355%2C%20-81.5123%2C%202.0%5D%2C%20%5B37.45818%2C%20-81.50085%2C%200.0%5D%2C%20%5B37.97527%2C%20-81.26151999999998%2C%201.0%5D%2C%20%5B37.43912%2C%20-81.5101%2C%201.0%5D%2C%20%5B39.67023%2C%20-80.45271%2C%202.0%5D%2C%20%5B39.67066%2C%20-80.45300999999998%2C%201.0%5D%2C%20%5B38.22246%2C%20-81.15175%2C%201.0%5D%2C%20%5B37.44575%2C%20-81.5131%2C%201.0%5D%2C%20%5B37.23778%2C%20-81.61046999999998%2C%201.0%5D%2C%20%5B38.2259%2C%20-81.1525%2C%201.0%5D%2C%20%5B37.36607%2C%20-81.55198%2C%202.0%5D%2C%20%5B39.67543%2C%20-80.45399%2C%201.0%5D%2C%20%5B38.70894000000001%2C%20-80.92361%2C%202.0%5D%2C%20%5B37.57304%2C%20-81.46202%2C%201.0%5D%2C%20%5B37.62556%2C%20-81.23825%2C%201.0%5D%2C%20%5B37.7318%2C%20-81.19216999999998%2C%201.0%5D%2C%20%5B37.79152%2C%20-81.16445999999998%2C%201.0%5D%2C%20%5B37.62753%2C%20-81.24088%2C%201.0%5D%2C%20%5B38.85782%2C%20-80.65968000000002%2C%201.0%5D%2C%20%5B38.65994%2C%20-80.7591%2C%201.0%5D%2C%20%5B39.33927%2C%20-80.43039%2C%200.0%5D%2C%20%5B38.96736%2C%20-80.61248%2C%201.0%5D%2C%20%5B38.86052%2C%20-80.66404%2C%201.0%5D%2C%20%5B38.57491%2C%20-80.80112%2C%201.0%5D%2C%20%5B39.16895%2C%20-80.51841%2C%200.0%5D%2C%20%5B37.79498%2C%20-81.17254%2C%201.0%5D%2C%20%5B38.4658%2C%20-80.857%2C%202.0%5D%2C%20%5B39.68376%2C%20-80.2668%2C%200.0%5D%2C%20%5B38.77365%2C%20-80.71464%2C%200.0%5D%2C%20%5B39.52967%2C%20-80.3472%2C%200.0%5D%2C%20%5B39.44528%2C%20-80.38873000000002%2C%200.0%5D%2C%20%5B37.87447%2C%20-81.1407%2C%201.0%5D%2C%20%5B38.84571%2C%20-80.99025999999998%2C%201.0%5D%2C%20%5B39.14465%2C%20-80.84626%2C%202.0%5D%2C%20%5B38.55377%2C%20-81.12988%2C%200.0%5D%2C%20%5B38.18133%2C%20-81.30604%2C%201.0%5D%2C%20%5B38.5638%2C%20-81.1319%2C%200.0%5D%2C%20%5B39.29523%2C%20-80.78021%2C%202.0%5D%2C%20%5B39.29554%2C%20-80.78015%2C%201.0%5D%2C%20%5B37.95009%2C%20-81.421%2C%202.0%5D%2C%20%5B37.31656%2C%20-81.71674%2C%201.0%5D%2C%20%5B38.56849%2C%20-81.13353000000002%2C%201.0%5D%2C%20%5B39.40129%2C%20-80.73241999999998%2C%201.0%5D%2C%20%5B37.73579%2C%20-81.52433%2C%201.0%5D%2C%20%5B37.43259000000001%2C%20-81.66409%2C%202.0%5D%2C%20%5B37.8663%2C%20-81.46975%2C%202.0%5D%2C%20%5B39.75934%2C%20-80.56336%2C%200.0%5D%2C%20%5B38.84282%2C%20-81.00927%2C%201.0%5D%2C%20%5B37.94663%2C%20-81.43704%2C%202.0%5D%2C%20%5B37.47687%2C%20-81.65482%2C%202.0%5D%2C%20%5B38.69228%2C%20-81.0863%2C%202.0%5D%2C%20%5B37.92858%2C%20-81.15531%2C%201.0%5D%2C%20%5B37.81031%2C%20-81.21247%2C%201.0%5D%2C%20%5B37.93009%2C%20-81.15751999999998%2C%201.0%5D%2C%20%5B37.93009%2C%20-81.1578%2C%201.0%5D%2C%20%5B37.32105%2C%20-81.43975999999998%2C%202.0%5D%2C%20%5B38.83776%2C%20-80.72999%2C%201.0%5D%2C%20%5B37.3261%2C%20-81.44%2C%201.0%5D%2C%20%5B38.96074%2C%20-80.67086%2C%202.0%5D%2C%20%5B37.61325%2C%20-81.30789%2C%202.0%5D%2C%20%5B37.38586%2C%20-81.41648%2C%201.0%5D%2C%20%5B39.29274%2C%20-80.51383%2C%201.0%5D%2C%20%5B37.82553%2C%20-81.21363000000002%2C%201.0%5D%2C%20%5B37.96777%2C%20-81.14729%2C%202.0%5D%2C%20%5B37.82555%2C%20-81.214%2C%201.0%5D%2C%20%5B39.45466%2C%20-80.43701%2C%200.0%5D%2C%20%5B39.31219%2C%20-80.50711%2C%202.0%5D%2C%20%5B38.87976%2C%20-80.71694000000002%2C%202.0%5D%2C%20%5B37.83531%2C%20-81.21542%2C%201.0%5D%2C%20%5B37.83543%2C%20-81.21557%2C%201.0%5D%2C%20%5B39.28688%2C%20-80.52431999999997%2C%202.0%5D%2C%20%5B38.62446%2C%20-80.8443%2C%200.0%5D%2C%20%5B37.63609%2C%20-81.31408%2C%202.0%5D%2C%20%5B37.5789%2C%20-81.34061%2C%201.0%5D%2C%20%5B37.40504%2C%20-81.42124%2C%202.0%5D%2C%20%5B39.0386%2C%20-80.65075%2C%201.0%5D%2C%20%5B38.06744000000001%2C%20-81.44845%2C%201.0%5D%2C%20%5B39.5705%2C%20-80.73295999999998%2C%200.0%5D%2C%20%5B38.19037%2C%20-81.3953%2C%200.0%5D%2C%20%5B38.58216%2C%20-81.21047%2C%201.0%5D%2C%20%5B38.58237%2C%20-81.21049000000002%2C%201.0%5D%2C%20%5B39.90834%2C%20-80.5673%2C%202.0%5D%2C%20%5B38.264%2C%20-81.368%2C%200.0%5D%2C%20%5B38.10427%2C%20-81.44308000000002%2C%202.0%5D%2C%20%5B39.768%2C%20-80.64407%2C%200.0%5D%2C%20%5B38.78912%2C%20-81.12159%2C%202.0%5D%2C%20%5B38.45922%2C%20-81.28482%2C%200.0%5D%2C%20%5B37.99541%2C%20-81.50278%2C%202.0%5D%2C%20%5B39.69639%2C%20-80.49818%2C%200.0%5D%2C%20%5B37.50248%2C%20-81.54349%2C%201.0%5D%2C%20%5B38.68192%2C%20-80.99579%2C%201.0%5D%2C%20%5B37.92884%2C%20-81.35159%2C%201.0%5D%2C%20%5B37.7117%2C%20-81.45309%2C%201.0%5D%2C%20%5B37.43572%2C%20-81.58051%2C%201.0%5D%2C%20%5B38.3231%2C%20-81.171%2C%200.0%5D%2C%20%5B38.59761%2C%20-81.04106999999998%2C%201.0%5D%2C%20%5B37.43211%2C%20-81.58596999999997%2C%202.0%5D%2C%20%5B38.59755%2C%20-81.04117%2C%201.0%5D%2C%20%5B38.59594%2C%20-81.04231999999998%2C%201.0%5D%2C%20%5B37.93281%2C%20-81.36029%2C%201.0%5D%2C%20%5B37.43831%2C%20-81.5892%2C%202.0%5D%2C%20%5B37.26793%2C%20-81.66729000000002%2C%202.0%5D%2C%20%5B37.26948%2C%20-81.66688%2C%201.0%5D%2C%20%5B37.28176%2C%20-81.6674%2C%201.0%5D%2C%20%5B38.25521%2C%20-81.21611%2C%201.0%5D%2C%20%5B37.99649%2C%20-81.33796%2C%201.0%5D%2C%20%5B39.58453%2C%20-80.57745%2C%202.0%5D%2C%20%5B37.58199000000001%2C%20-81.53696%2C%200.0%5D%2C%20%5B39.28667%2C%20-80.73%2C%202.0%5D%2C%20%5B38.37161%2C%20-81.16905%2C%202.0%5D%2C%20%5B39.65975%2C%20-80.55408%2C%202.0%5D%2C%20%5B38.332%2C%20-81.19478000000002%2C%200.0%5D%2C%20%5B37.85995%2C%20-81.41606999999998%2C%202.0%5D%2C%20%5B38.26275%2C%20-81.22889%2C%201.0%5D%2C%20%5B38.8019%2C%20-80.97585%2C%202.0%5D%2C%20%5B39.52199%2C%20-80.62706999999997%2C%202.0%5D%2C%20%5B37.37839%2C%20-81.64298000000002%2C%202.0%5D%2C%20%5B39.3548%2C%20-80.70896%2C%201.0%5D%2C%20%5B37.61054%2C%20-81.54111999999998%2C%201.0%5D%2C%20%5B37.6199%2C%20-81.53741%2C%202.0%5D%2C%20%5B38.72556%2C%20-81.01849%2C%202.0%5D%2C%20%5B38.01857%2C%20-81.35282%2C%202.0%5D%2C%20%5B37.3337%2C%20-81.67359%2C%202.0%5D%2C%20%5B38.85051%2C%20-80.96316999999998%2C%202.0%5D%2C%20%5B38.20517%2C%20-81.26985%2C%202.0%5D%2C%20%5B39.26985%2C%20-80.65777%2C%201.0%5D%2C%20%5B38.3032%2C%20-81.1222%2C%200.0%5D%2C%20%5B38.304%2C%20-81.1225%2C%200.0%5D%2C%20%5B39.64274%2C%20-80.48174%2C%200.0%5D%2C%20%5B38.10285%2C%20-81.22213%2C%201.0%5D%2C%20%5B38.7783%2C%20-80.90224%2C%200.0%5D%2C%20%5B37.9761%2C%20-81.28189%2C%202.0%5D%2C%20%5B38.72292%2C%20-80.93266%2C%202.0%5D%2C%20%5B38.09972%2C%20-81.22845%2C%201.0%5D%2C%20%5B39.12513%2C%20-80.73998%2C%202.0%5D%2C%20%5B37.37856%2C%20-81.56354%2C%201.0%5D%2C%20%5B37.37259%2C%20-81.56934%2C%201.0%5D%2C%20%5B38.26169%2C%20-81.15634%2C%200.0%5D%2C%20%5B37.2649%2C%20-81.619%2C%202.0%5D%2C%20%5B39.69216%2C%20-80.46692%2C%201.0%5D%2C%20%5B39.65344%2C%20-80.48633000000002%2C%201.0%5D%2C%20%5B39.28303%2C%20-80.67089%2C%200.0%5D%2C%20%5B37.23296%2C%20-81.63750999999998%2C%201.0%5D%2C%20%5B39.27519%2C%20-80.67515%2C%200.0%5D%2C%20%5B37.27102%2C%20-81.62066999999998%2C%202.0%5D%2C%20%5B38.53614%2C%20-81.03413%2C%202.0%5D%2C%20%5B37.23221%2C%20-81.64194%2C%201.0%5D%2C%20%5B37.70871%2C%20-81.42295%2C%202.0%5D%2C%20%5B37.42976%2C%20-81.55204%2C%202.0%5D%2C%20%5B39.59812%2C%20-80.52462%2C%201.0%5D%2C%20%5B38.46327%2C%20-81.07309000000002%2C%200.0%5D%2C%20%5B39.38557%2C%20-80.6293%2C%200.0%5D%2C%20%5B38.08857%2C%20-81.25008000000003%2C%201.0%5D%2C%20%5B38.05369%2C%20-81.26709%2C%200.0%5D%2C%20%5B39.50616%2C%20-80.57599%2C%201.0%5D%2C%20%5B38.56792%2C%20-81.02958000000002%2C%201.0%5D%2C%20%5B37.24862%2C%20-81.64448%2C%201.0%5D%2C%20%5B38.75343%2C%20-80.942%2C%202.0%5D%2C%20%5B38.22947%2C%20-81.19369%2C%200.0%5D%2C%20%5B38.99026%2C%20-80.83126999999998%2C%201.0%5D%2C%20%5B38.39941%2C%20-81.11372%2C%202.0%5D%2C%20%5B39.58672%2C%20-80.54095%2C%202.0%5D%2C%20%5B37.44766%2C%20-81.56038000000002%2C%200.0%5D%2C%20%5B39.73472%2C%20-80.5806%2C%201.0%5D%2C%20%5B37.66588%2C%20-81.57373%2C%202.0%5D%2C%20%5B37.66831%2C%20-81.57283000000002%2C%202.0%5D%2C%20%5B39.51577%2C%20-80.69416%2C%201.0%5D%2C%20%5B39.27628%2C%20-80.8111%2C%202.0%5D%2C%20%5B38.6937%2C%20-81.09568%2C%200.0%5D%2C%20%5B37.86381%2C%20-81.48711999999998%2C%202.0%5D%2C%20%5B39.5945%2C%20-80.66128%2C%200.0%5D%2C%20%5B39.56252%2C%20-80.6773%2C%201.0%5D%2C%20%5B37.33853%2C%20-81.73326999999998%2C%202.0%5D%2C%20%5B38.1008%2C%20-81.38171%2C%201.0%5D%2C%20%5B38.96764%2C%20-80.97024%2C%202.0%5D%2C%20%5B37.47566%2C%20-81.67213000000002%2C%202.0%5D%2C%20%5B38.74327%2C%20-81.08422%2C%200.0%5D%2C%20%5B37.34228%2C%20-81.73912%2C%201.0%5D%2C%20%5B39.44453%2C%20-80.7457%2C%201.0%5D%2C%20%5B39.56113%2C%20-80.68929%2C%200.0%5D%2C%20%5B39.32845%2C%20-80.8089%2C%200.0%5D%2C%20%5B37.55556%2C%20-81.64804000000002%2C%201.0%5D%2C%20%5B39.06845%2C%20-80.9353%2C%201.0%5D%2C%20%5B38.86234%2C%20-81.03448%2C%200.0%5D%2C%20%5B39.82626%2C%20-80.56527%2C%200.0%5D%2C%20%5B37.67173%2C%20-81.59853000000003%2C%201.0%5D%2C%20%5B37.44728%2C%20-81.70227%2C%200.0%5D%2C%20%5B39.75438%2C%20-80.60543%2C%202.0%5D%2C%20%5B38.12669%2C%20-81.38835999999998%2C%201.0%5D%2C%20%5B39.63023%2C%20-80.67298000000002%2C%201.0%5D%2C%20%5B39.56462%2C%20-80.70545%2C%202.0%5D%2C%20%5B37.45977%2C%20-81.70421999999998%2C%202.0%5D%2C%20%5B39.31439%2C%20-80.82818%2C%202.0%5D%2C%20%5B38.75431%2C%20-81.10588%2C%200.0%5D%2C%20%5B39.63209000000001%2C%20-80.68128%2C%201.0%5D%2C%20%5B37.34827%2C%20-81.76371999999998%2C%201.0%5D%2C%20%5B37.73512%2C%20-81.5864%2C%202.0%5D%2C%20%5B38.87127%2C%20-81.0558%2C%200.0%5D%2C%20%5B37.67712%2C%20-81.61779%2C%202.0%5D%2C%20%5B38.14129000000001%2C%20-81.40191999999998%2C%200.0%5D%2C%20%5B39.43196%2C%20-80.78485%2C%201.0%5D%2C%20%5B37.80203%2C%20-81.59309%2C%200.0%5D%2C%20%5B37.32095%2C%20-81.81430999999998%2C%201.0%5D%2C%20%5B39.58224000000001%2C%20-80.74895%2C%201.0%5D%2C%20%5B37.34173%2C%20-81.81013%2C%201.0%5D%2C%20%5B37.32328%2C%20-81.81931999999998%2C%202.0%5D%2C%20%5B37.41148%2C%20-81.77943%2C%202.0%5D%2C%20%5B39.37424%2C%20-80.8578%2C%202.0%5D%2C%20%5B39.51465%2C%20-80.78938000000002%2C%201.0%5D%2C%20%5B39.76579%2C%20-80.66608000000002%2C%200.0%5D%2C%20%5B37.41379000000001%2C%20-81.78366%2C%202.0%5D%2C%20%5B38.67948%2C%20-81.19765%2C%202.0%5D%2C%20%5B37.99624%2C%20-81.51971999999998%2C%200.0%5D%2C%20%5B37.96939%2C%20-81.53277%2C%201.0%5D%2C%20%5B38.14246%2C%20-81.45257%2C%201.0%5D%2C%20%5B39.38775%2C%20-80.8607%2C%202.0%5D%2C%20%5B37.41819%2C%20-81.79093%2C%201.0%5D%2C%20%5B37.74888%2C%20-81.63901%2C%202.0%5D%2C%20%5B39.07671%2C%20-81.01201%2C%201.0%5D%2C%20%5B38.90816%2C%20-81.09893000000002%2C%202.0%5D%2C%20%5B40.04445%2C%20-80.54442%2C%202.0%5D%2C%20%5B37.98292%2C%20-81.53715%2C%201.0%5D%2C%20%5B37.38622%2C%20-81.8126%2C%202.0%5D%2C%20%5B38.21924%2C%20-81.42685%2C%201.0%5D%2C%20%5B39.61338%2C%20-80.7612%2C%202.0%5D%2C%20%5B38.22337%2C%20-81.42834%2C%201.0%5D%2C%20%5B38.36258%2C%20-81.36325%2C%202.0%5D%2C%20%5B39.58806%2C%20-80.77879%2C%202.0%5D%2C%20%5B38.57022%2C%20-81.2699%2C%201.0%5D%2C%20%5B38.8747%2C%20-81.1247%2C%200.0%5D%2C%20%5B39.24633%2C%20-80.94575%2C%200.0%5D%2C%20%5B39.88533%2C%20-80.64131%2C%201.0%5D%2C%20%5B39.60276%2C%20-80.78057%2C%202.0%5D%2C%20%5B39.52829000000001%2C%20-80.81774%2C%202.0%5D%2C%20%5B37.60471%2C%20-81.73071999999998%2C%201.0%5D%2C%20%5B37.83198%2C%20-81.63135%2C%202.0%5D%2C%20%5B38.18214%2C%20-81.46837%2C%202.0%5D%2C%20%5B38.2024%2C%20-81.459%2C%201.0%5D%2C%20%5B38.4599%2C%20-81.08800000000002%2C%201.0%5D%2C%20%5B38.3032%2C%20-81.1623%2C%200.0%5D%2C%20%5B38.2496%2C%20-81.5324%2C%201.0%5D%2C%20%5B38.94625%2C%20-81.20237%2C%201.0%5D%2C%20%5B39.57617%2C%20-80.89768000000002%2C%200.0%5D%2C%20%5B38.19069%2C%20-81.56094%2C%200.0%5D%2C%20%5B38.33257%2C%20-81.49674%2C%201.0%5D%2C%20%5B39.56945%2C%20-80.90353%2C%200.0%5D%2C%20%5B38.94411%2C%20-81.20647%2C%200.0%5D%2C%20%5B39.36262%2C%20-81.00506999999998%2C%202.0%5D%2C%20%5B39.52943%2C%20-80.92452%2C%201.0%5D%2C%20%5B37.48222%2C%20-81.89669%2C%200.0%5D%2C%20%5B37.50375%2C%20-81.88764%2C%202.0%5D%2C%20%5B37.80287%2C%20-81.75033%2C%201.0%5D%2C%20%5B40.21586%2C%20-80.59281%2C%201.0%5D%2C%20%5B39.9271%2C%20-80.7367%2C%201.0%5D%2C%20%5B37.5038%2C%20-81.8907%2C%202.0%5D%2C%20%5B39.35627%2C%20-81.01673000000002%2C%202.0%5D%2C%20%5B38.31681%2C%20-81.52041%2C%201.0%5D%2C%20%5B38.31624%2C%20-81.52079%2C%200.0%5D%2C%20%5B40.36665%2C%20-80.52521%2C%200.0%5D%2C%20%5B37.72942000000001%2C%20-81.79446999999998%2C%201.0%5D%2C%20%5B39.91385%2C%20-80.7539%2C%201.0%5D%2C%20%5B38.48358%2C%20-81.44524%2C%201.0%5D%2C%20%5B40.05917%2C%20-80.68226999999997%2C%201.0%5D%2C%20%5B39.116%2C%20-81.1438%2C%200.0%5D%2C%20%5B40.05951%2C%20-80.68218%2C%201.0%5D%2C%20%5B38.30979%2C%20-81.53049%2C%200.0%5D%2C%20%5B37.73051%2C%20-81.80028%2C%201.0%5D%2C%20%5B38.98556%2C%20-81.20981%2C%202.0%5D%2C%20%5B40.08885%2C%20-80.67159000000002%2C%200.0%5D%2C%20%5B40.04899%2C%20-80.69451%2C%202.0%5D%2C%20%5B37.49868%2C%20-81.91115%2C%201.0%5D%2C%20%5B38.61673%2C%20-81.39033%2C%201.0%5D%2C%20%5B38.62042%2C%20-81.3886%2C%201.0%5D%2C%20%5B37.941%2C%20-81.7093%2C%200.0%5D%2C%20%5B38.02489%2C%20-81.3547%2C%201.0%5D%2C%20%5B37.52066%2C%20-81.58849000000002%2C%201.0%5D%2C%20%5B38.94686%2C%20-80.92055%2C%200.0%5D%2C%20%5B38.07233%2C%20-81.33583%2C%201.0%5D%2C%20%5B37.5446%2C%20-81.58114%2C%201.0%5D%2C%20%5B38.09943%2C%20-81.3236%2C%202.0%5D%2C%20%5B39.53243%2C%20-80.64244000000002%2C%200.0%5D%2C%20%5B37.52767%2C%20-81.59469%2C%202.0%5D%2C%20%5B39.52948%2C%20-80.64424%2C%200.0%5D%2C%20%5B37.85084000000001%2C%20-81.44594000000002%2C%201.0%5D%2C%20%5B39.70779%2C%20-80.56116%2C%201.0%5D%2C%20%5B39.44415%2C%20-80.69158%2C%201.0%5D%2C%20%5B39.28831%2C%20-80.76791999999998%2C%201.0%5D%2C%20%5B38.03969%2C%20-81.36355%2C%201.0%5D%2C%20%5B38.18635%2C%20-81.29897%2C%201.0%5D%2C%20%5B39.28989%2C%20-80.77146%2C%201.0%5D%2C%20%5B39.4038%2C%20-80.7161%2C%202.0%5D%2C%20%5B39.58012%2C%20-80.63035%2C%201.0%5D%2C%20%5B38.31696%2C%20-81.42589%2C%201.0%5D%2C%20%5B39.2866%2C%20-80.9633%2C%201.0%5D%2C%20%5B37.5506%2C%20-81.78291999999998%2C%201.0%5D%2C%20%5B37.92165%2C%20-81.6118%2C%202.0%5D%2C%20%5B38.47045%2C%20-81.3584%2C%200.0%5D%2C%20%5B38.49033%2C%20-81.34935%2C%201.0%5D%2C%20%5B39.97573%2C%20-80.6306%2C%201.0%5D%2C%20%5B37.80016%2C%20-81.6733%2C%201.0%5D%2C%20%5B37.54912%2C%20-81.79314000000002%2C%202.0%5D%2C%20%5B38.46896%2C%20-81.36471999999998%2C%202.0%5D%2C%20%5B40.06173%2C%20-80.59274%2C%200.0%5D%2C%20%5B37.54377%2C%20-81.79655%2C%201.0%5D%2C%20%5B38.19591%2C%20-81.49846%2C%201.0%5D%2C%20%5B38.19189%2C%20-81.50044%2C%202.0%5D%2C%20%5B38.19297%2C%20-81.50019%2C%201.0%5D%2C%20%5B37.72578%2C%20-81.71768%2C%200.0%5D%2C%20%5B39.27646%2C%20-80.98744%2C%202.0%5D%2C%20%5B39.84072000000001%2C%20-80.71154%2C%200.0%5D%2C%20%5B37.56199%2C%20-81.79711999999998%2C%202.0%5D%2C%20%5B39.13918%2C%20-81.05452%2C%202.0%5D%2C%20%5B37.75153%2C%20-81.66956%2C%202.0%5D%2C%20%5B38.54812%2C%20-81.30022%2C%201.0%5D%2C%20%5B38.54825%2C%20-81.30033%2C%201.0%5D%2C%20%5B39.36065%2C%20-80.91035%2C%201.0%5D%2C%20%5B39.34881%2C%20-80.91627%2C%200.0%5D%2C%20%5B38.30623%2C%20-81.41929%2C%201.0%5D%2C%20%5B37.61146%2C%20-81.74261%2C%201.0%5D%2C%20%5B40.06718%2C%20-80.56815%2C%202.0%5D%2C%20%5B40.06726%2C%20-80.56851999999998%2C%201.0%5D%2C%20%5B39.23894%2C%20-80.97988000000002%2C%202.0%5D%2C%20%5B38.85125%2C%20-81.16685%2C%201.0%5D%2C%20%5B37.54213%2C%20-81.78072%2C%200.0%5D%2C%20%5B39.59051%2C%20-80.8091%2C%200.0%5D%2C%20%5B37.46058%2C%20-81.81827%2C%201.0%5D%2C%20%5B37.60225%2C%20-81.94659%2C%201.0%5D%2C%20%5B37.91023%2C%20-81.80551%2C%201.0%5D%2C%20%5B39.28428%2C%20-81.15547%2C%200.0%5D%2C%20%5B39.256%2C%20-81.1756%2C%201.0%5D%2C%20%5B38.88634%2C%20-81.35358000000002%2C%201.0%5D%2C%20%5B38.34157%2C%20-81.61183%2C%201.0%5D%2C%20%5B38.50204%2C%20-81.53626%2C%200.0%5D%2C%20%5B39.03559%2C%20-81.28643000000002%2C%201.0%5D%2C%20%5B37.63859%2C%20-81.94323%2C%201.0%5D%2C%20%5B38.45422%2C%20-81.56383000000002%2C%201.0%5D%2C%20%5B38.29578%2C%20-81.6384%2C%200.0%5D%2C%20%5B38.37601%2C%20-81.60455999999998%2C%200.0%5D%2C%20%5B39.16674%2C%20-81.22853%2C%201.0%5D%2C%20%5B39.29094%2C%20-81.1688%2C%202.0%5D%2C%20%5B38.37675%2C%20-81.60504%2C%201.0%5D%2C%20%5B40.50371%2C%20-80.57523%2C%201.0%5D%2C%20%5B38.36443%2C%20-81.61568%2C%202.0%5D%2C%20%5B38.35132%2C%20-81.62284%2C%201.0%5D%2C%20%5B38.02621%2C%20-81.77514000000002%2C%201.0%5D%2C%20%5B37.82956%2C%20-81.87011%2C%201.0%5D%2C%20%5B38.35223%2C%20-81.62666999999998%2C%201.0%5D%2C%20%5B37.92004%2C%20-81.82887%2C%201.0%5D%2C%20%5B38.18053%2C%20-81.70777%2C%202.0%5D%2C%20%5B38.36235%2C%20-81.62353%2C%201.0%5D%2C%20%5B39.76664%2C%20-80.62642%2C%201.0%5D%2C%20%5B39.13743%2C%20-80.93406%2C%202.0%5D%2C%20%5B38.03953%2C%20-81.45628%2C%201.0%5D%2C%20%5B39.57157%2C%20-80.7232%2C%202.0%5D%2C%20%5B38.58309000000001%2C%20-81.20437%2C%201.0%5D%2C%20%5B37.88412%2C%20-81.53305%2C%200.0%5D%2C%20%5B38.79791%2C%20-81.10243%2C%201.0%5D%2C%20%5B38.14336%2C%20-81.63767%2C%201.0%5D%2C%20%5B38.29779%2C%20-81.56555%2C%201.0%5D%2C%20%5B37.49842%2C%20-81.93626%2C%201.0%5D%2C%20%5B38.63597%2C%20-81.40646%2C%201.0%5D%2C%20%5B39.07793%2C%20-81.19738000000002%2C%202.0%5D%2C%20%5B40.0514%2C%20-80.72166%2C%200.0%5D%2C%20%5B40.30626%2C%20-80.59481%2C%201.0%5D%2C%20%5B38.31525%2C%20-81.56036999999998%2C%202.0%5D%2C%20%5B40.05069%2C%20-80.72364%2C%201.0%5D%2C%20%5B40.05133%2C%20-80.72336%2C%201.0%5D%2C%20%5B38.3056%2C%20-81.56649%2C%201.0%5D%2C%20%5B38.30542%2C%20-81.56664%2C%201.0%5D%2C%20%5B40.0611%2C%20-80.71979%2C%201.0%5D%2C%20%5B40.42811%2C%20-80.53676999999998%2C%201.0%5D%2C%20%5B40.07373%2C%20-80.71377%2C%202.0%5D%2C%20%5B40.1237%2C%20-80.68896%2C%201.0%5D%2C%20%5B38.852%2C%20-81.309%2C%200.0%5D%2C%20%5B40.07457%2C%20-80.71614%2C%202.0%5D%2C%20%5B40.0625%2C%20-80.72214%2C%201.0%5D%2C%20%5B39.1149%2C%20-81.1858%2C%201.0%5D%2C%20%5B38.36582%2C%20-81.54258%2C%202.0%5D%2C%20%5B37.62018%2C%20-81.892%2C%201.0%5D%2C%20%5B38.44757%2C%20-81.50702%2C%201.0%5D%2C%20%5B38.46286%2C%20-81.50012%2C%202.0%5D%2C%20%5B38.94671%2C%20-81.27126%2C%201.0%5D%2C%20%5B40.07222%2C%20-80.72454%2C%201.0%5D%2C%20%5B40.12314%2C%20-80.69935%2C%201.0%5D%2C%20%5B39.111%2C%20-81.1948%2C%201.0%5D%2C%20%5B38.2118%2C%20-81.622%2C%201.0%5D%2C%20%5B39.19889000000001%2C%20-81.15306%2C%202.0%5D%2C%20%5B40.3924%2C%20-80.56851999999998%2C%202.0%5D%2C%20%5B40.18465%2C%20-80.54444000000002%2C%201.0%5D%2C%20%5B37.47928%2C%20-81.83895%2C%201.0%5D%2C%20%5B37.45356%2C%20-81.8509%2C%202.0%5D%2C%20%5B38.4733%2C%20-81.37729%2C%201.0%5D%2C%20%5B38.6593%2C%20-81.29205999999998%2C%200.0%5D%2C%20%5B37.93802%2C%20-81.63118%2C%201.0%5D%2C%20%5B38.46028%2C%20-81.38721%2C%201.0%5D%2C%20%5B38.80268%2C%20-81.22495%2C%201.0%5D%2C%20%5B40.00839000000001%2C%20-80.63797%2C%202.0%5D%2C%20%5B40.19066%2C%20-80.55184%2C%201.0%5D%2C%20%5B39.42346%2C%20-80.93064%2C%201.0%5D%2C%20%5B40.20612%2C%20-80.54502%2C%201.0%5D%2C%20%5B40.05728%2C%20-80.61918%2C%201.0%5D%2C%20%5B37.80157%2C%20-81.7086%2C%202.0%5D%2C%20%5B37.46847%2C%20-81.86191%2C%201.0%5D%2C%20%5B38.22807%2C%20-81.51018%2C%200.0%5D%2C%20%5B38.6757%2C%20-81.29928000000002%2C%200.0%5D%2C%20%5B38.22645%2C%20-81.51392%2C%201.0%5D%2C%20%5B40.0487%2C%20-80.63426%2C%202.0%5D%2C%20%5B39.61832%2C%20-80.84698%2C%202.0%5D%2C%20%5B39.37373%2C%20-80.96669%2C%200.0%5D%2C%20%5B39.69858%2C%20-80.81282%2C%200.0%5D%2C%20%5B38.21379%2C%20-81.52544%2C%200.0%5D%2C%20%5B39.90492%2C%20-80.71143000000002%2C%202.0%5D%2C%20%5B39.13051%2C%20-81.08975%2C%201.0%5D%2C%20%5B39.88578%2C%20-80.72476%2C%201.0%5D%2C%20%5B38.02044%2C%20-81.61994%2C%200.0%5D%2C%20%5B37.58527%2C%20-81.82146999999998%2C%201.0%5D%2C%20%5B39.3227%2C%20-81.00107%2C%202.0%5D%2C%20%5B39.54148%2C%20-80.89997%2C%201.0%5D%2C%20%5B40.03449000000001%2C%20-80.65732%2C%201.0%5D%2C%20%5B38.19351%2C%20-81.54536%2C%200.0%5D%2C%20%5B38.01281%2C%20-81.63016%2C%200.0%5D%2C%20%5B37.59233%2C%20-81.82905%2C%200.0%5D%2C%20%5B39.1156%2C%20-81.112%2C%200.0%5D%2C%20%5B38.22929%2C%20-81.53375%2C%201.0%5D%2C%20%5B37.79919%2C%20-81.73453%2C%202.0%5D%2C%20%5B38.17934%2C%20-81.7118%2C%200.0%5D%2C%20%5B39.26772%2C%20-81.1944%2C%200.0%5D%2C%20%5B40.54025%2C%20-80.56681%2C%200.0%5D%2C%20%5B37.9536%2C%20-81.81743%2C%201.0%5D%2C%20%5B37.90809%2C%20-81.84259%2C%201.0%5D%2C%20%5B38.33423%2C%20-81.64415%2C%202.0%5D%2C%20%5B38.66346%2C%20-81.48914%2C%200.0%5D%2C%20%5B37.63626%2C%20-81.91156%2C%201.0%5D%2C%20%5B39.24829%2C%20-81.21396999999997%2C%201.0%5D%2C%20%5B39.11821%2C%20-81.27674%2C%202.0%5D%2C%20%5B39.25091%2C%20-81.21275%2C%202.0%5D%2C%20%5B38.42231%2C%20-81.61223000000003%2C%200.0%5D%2C%20%5B40.49776%2C%20-80.60263%2C%201.0%5D%2C%20%5B38.35575%2C%20-81.64372%2C%200.0%5D%2C%20%5B38.34934000000001%2C%20-81.64996%2C%200.0%5D%2C%20%5B38.35658%2C%20-81.64666%2C%201.0%5D%2C%20%5B37.99191%2C%20-81.81721%2C%202.0%5D%2C%20%5B38.2031%2C%20-81.723%2C%201.0%5D%2C%20%5B38.78809%2C%20-81.44735%2C%201.0%5D%2C%20%5B38.44464%2C%20-81.61131%2C%201.0%5D%2C%20%5B38.41289%2C%20-81.63063000000002%2C%201.0%5D%2C%20%5B39.04793%2C%20-81.32893%2C%201.0%5D%2C%20%5B38.41994%2C%20-81.62763000000002%2C%200.0%5D%2C%20%5B38.41271%2C%20-81.6312%2C%201.0%5D%2C%20%5B39.24696%2C%20-81.23392%2C%200.0%5D%2C%20%5B40.61951%2C%20-80.56178%2C%201.0%5D%2C%20%5B38.2534%2C%20-81.712%2C%201.0%5D%2C%20%5B38.09517%2C%20-81.78591%2C%201.0%5D%2C%20%5B38.05396%2C%20-81.8054%2C%201.0%5D%2C%20%5B38.37937%2C%20-81.66181999999998%2C%201.0%5D%2C%20%5B38.5505%2C%20-81.58125%2C%202.0%5D%2C%20%5B38.93188%2C%20-81.40034%2C%201.0%5D%2C%20%5B38.36623%2C%20-81.66858%2C%202.0%5D%2C%20%5B38.46412%2C%20-81.50695999999998%2C%200.0%5D%2C%20%5B38.76355%2C%20-81.36516999999998%2C%200.0%5D%2C%20%5B40.46322%2C%20-80.53357%2C%202.0%5D%2C%20%5B39.18926%2C%20-81.1628%2C%202.0%5D%2C%20%5B38.74742%2C%20-81.37478%2C%200.0%5D%2C%20%5B38.14264%2C%20-81.66051%2C%200.0%5D%2C%20%5B38.79152%2C%20-81.35449%2C%201.0%5D%2C%20%5B37.76055%2C%20-81.84257%2C%201.0%5D%2C%20%5B37.76296%2C%20-81.84196%2C%201.0%5D%2C%20%5B38.35589%2C%20-81.56605%2C%201.0%5D%2C%20%5B38.81709%2C%20-81.35174%2C%201.0%5D%2C%20%5B37.85002%2C%20-81.80669%2C%202.0%5D%2C%20%5B38.37428%2C%20-81.56263%2C%202.0%5D%2C%20%5B37.72987%2C%20-81.86310999999998%2C%200.0%5D%2C%20%5B37.75718%2C%20-81.8538%2C%200.0%5D%2C%20%5B38.416%2C%20-81.54678%2C%201.0%5D%2C%20%5B38.41612%2C%20-81.54699000000002%2C%201.0%5D%2C%20%5B38.33298%2C%20-81.58691%2C%201.0%5D%2C%20%5B40.38919%2C%20-80.59398%2C%200.0%5D%2C%20%5B39.09286%2C%20-81.23071%2C%200.0%5D%2C%20%5B40.38845%2C%20-80.5944%2C%201.0%5D%2C%20%5B37.73012%2C%20-81.87272%2C%202.0%5D%2C%20%5B38.33497%2C%20-81.5961%2C%201.0%5D%2C%20%5B38.33489%2C%20-81.59631%2C%201.0%5D%2C%20%5B38.33399%2C%20-81.59692%2C%201.0%5D%2C%20%5B40.41545%2C%20-80.58849000000002%2C%202.0%5D%2C%20%5B37.74271%2C%20-81.87448%2C%200.0%5D%2C%20%5B38.3286%2C%20-81.602%2C%201.0%5D%2C%20%5B38.01625%2C%20-81.75532%2C%200.0%5D%2C%20%5B37.84716%2C%20-81.99521%2C%202.0%5D%2C%20%5B38.37337%2C%20-81.75036%2C%201.0%5D%2C%20%5B37.83897%2C%20-82.00478000000003%2C%200.0%5D%2C%20%5B38.37991%2C%20-81.75325%2C%201.0%5D%2C%20%5B38.37801%2C%20-81.75421%2C%201.0%5D%2C%20%5B39.28876%2C%20-81.07003%2C%200.0%5D%2C%20%5B39.80924%2C%20-80.81577%2C%201.0%5D%2C%20%5B37.94128%2C%20-81.70997%2C%200.0%5D%2C%20%5B38.09352%2C%20-81.63933%2C%200.0%5D%2C%20%5B38.22699%2C%20-81.57987%2C%201.0%5D%2C%20%5B38.2907%2C%20-81.55%2C%202.0%5D%2C%20%5B40.39888%2C%20-80.52663000000003%2C%200.0%5D%2C%20%5B38.3617%2C%20-81.52%2C%201.0%5D%2C%20%5B37.5702%2C%20-81.88813%2C%201.0%5D%2C%20%5B40.30545%2C%20-80.57725%2C%200.0%5D%2C%20%5B40.0796%2C%20-80.69275999999998%2C%201.0%5D%2C%20%5B40.3044%2C%20-80.58079000000002%2C%201.0%5D%2C%20%5B40.08148%2C%20-80.69218000000002%2C%201.0%5D%2C%20%5B39.28275%2C%20-81.08422%2C%202.0%5D%2C%20%5B40.09163%2C%20-80.68839%2C%200.0%5D%2C%20%5B40.08629000000001%2C%20-80.69156%2C%201.0%5D%2C%20%5B40.07173%2C%20-80.69884%2C%202.0%5D%2C%20%5B40.04443%2C%20-80.7124%2C%201.0%5D%2C%20%5B38.37708%2C%20-81.51848000000003%2C%201.0%5D%2C%20%5B38.41199%2C%20-81.50404%2C%200.0%5D%2C%20%5B37.78515%2C%20-81.79715%2C%202.0%5D%2C%20%5B37.67632%2C%20-81.84739%2C%201.0%5D%2C%20%5B38.30143%2C%20-81.55675%2C%201.0%5D%2C%20%5B39.135%2C%20-81.1626%2C%200.0%5D%2C%20%5B39.5397%2C%20-80.96632%2C%200.0%5D%2C%20%5B37.73387%2C%20-81.82383%2C%201.0%5D%2C%20%5B38.65028%2C%20-81.39503%2C%200.0%5D%2C%20%5B39.22335%2C%20-81.12194000000002%2C%200.0%5D%2C%20%5B40.02088%2C%20-80.73156%2C%202.0%5D%2C%20%5B37.48405%2C%20-81.94026%2C%200.0%5D%2C%20%5B40.02115%2C%20-80.73147%2C%201.0%5D%2C%20%5B40.02125%2C%20-80.73143%2C%201.0%5D%2C%20%5B38.74186%2C%20-81.67493%2C%200.0%5D%2C%20%5B38.74179%2C%20-81.67538%2C%200.0%5D%2C%20%5B39.21451%2C%20-81.44960999999998%2C%202.0%5D%2C%20%5B38.3921%2C%20-81.84093%2C%201.0%5D%2C%20%5B37.96957%2C%20-82.03826%2C%200.0%5D%2C%20%5B38.43375%2C%20-81.82675%2C%201.0%5D%2C%20%5B37.9641%2C%20-82.04646%2C%201.0%5D%2C%20%5B37.9188%2C%20-82.06804%2C%202.0%5D%2C%20%5B38.42026%2C%20-81.83476%2C%201.0%5D%2C%20%5B37.68448%2C%20-82.18053%2C%201.0%5D%2C%20%5B37.70538%2C%20-82.17098%2C%201.0%5D%2C%20%5B38.42219%2C%20-81.83851999999997%2C%201.0%5D%2C%20%5B38.93591%2C%20-81.5955%2C%201.0%5D%2C%20%5B37.69126%2C%20-82.18219%2C%200.0%5D%2C%20%5B38.39851%2C%20-81.85571%2C%201.0%5D%2C%20%5B38.75308%2C%20-81.68909000000002%2C%200.0%5D%2C%20%5B38.00384%2C%20-82.04128%2C%202.0%5D%2C%20%5B38.25214%2C%20-81.92596999999998%2C%201.0%5D%2C%20%5B38.75923%2C%20-81.69216%2C%200.0%5D%2C%20%5B38.10429%2C%20-82.00001999999998%2C%200.0%5D%2C%20%5B38.75957%2C%20-81.69238%2C%200.0%5D%2C%20%5B37.71121%2C%20-82.18266%2C%201.0%5D%2C%20%5B39.0887%2C%20-81.54324%2C%201.0%5D%2C%20%5B37.71468%2C%20-82.18804%2C%200.0%5D%2C%20%5B39.00766%2C%20-81.58242%2C%201.0%5D%2C%20%5B39.08883%2C%20-81.54361999999998%2C%200.0%5D%2C%20%5B38.658%2C%20-81.7566%2C%201.0%5D%2C%20%5B38.83606%2C%20-81.67273%2C%200.0%5D%2C%20%5B38.31401%2C%20-81.91895%2C%202.0%5D%2C%20%5B38.93124%2C%20-81.62805999999998%2C%202.0%5D%2C%20%5B39.12271%2C%20-81.54364%2C%200.0%5D%2C%20%5B39.06483%2C%20-81.57160999999998%2C%201.0%5D%2C%20%5B39.06459%2C%20-81.57176%2C%200.0%5D%2C%20%5B37.7378%2C%20-82.194%2C%201.0%5D%2C%20%5B38.95969%2C%20-81.62293000000003%2C%202.0%5D%2C%20%5B38.42706%2C%20-81.88295%2C%201.0%5D%2C%20%5B38.42552%2C%20-81.8841%2C%200.0%5D%2C%20%5B38.46781%2C%20-81.8648%2C%202.0%5D%2C%20%5B39.18523%2C%20-81.52401%2C%200.0%5D%2C%20%5B39.34923%2C%20-81.44878%2C%201.0%5D%2C%20%5B39.3494%2C%20-81.44905%2C%200.0%5D%2C%20%5B38.01962%2C%20-82.07857%2C%202.0%5D%2C%20%5B38.77588%2C%20-81.72413%2C%200.0%5D%2C%20%5B39.18899%2C%20-81.52983%2C%200.0%5D%2C%20%5B39.23389%2C%20-81.50894%2C%200.0%5D%2C%20%5B39.05247%2C%20-81.59679%2C%201.0%5D%2C%20%5B39.05263%2C%20-81.59707%2C%201.0%5D%2C%20%5B37.85916%2C%20-82.15762%2C%202.0%5D%2C%20%5B38.8446%2C%20-81.69963%2C%201.0%5D%2C%20%5B38.45582%2C%20-81.8834%2C%201.0%5D%2C%20%5B38.45601%2C%20-81.8834%2C%202.0%5D%2C%20%5B37.74375%2C%20-82.21437%2C%201.0%5D%2C%20%5B39.01139000000001%2C%20-81.62344%2C%200.0%5D%2C%20%5B38.81894000000001%2C%20-81.71542%2C%200.0%5D%2C%20%5B37.77335%2C%20-82.2045%2C%201.0%5D%2C%20%5B39.1834%2C%20-81.54446%2C%201.0%5D%2C%20%5B38.62808%2C%20-81.80921%2C%200.0%5D%2C%20%5B38.88043%2C%20-81.68986%2C%200.0%5D%2C%20%5B38.13577%2C%20-82.04055%2C%200.0%5D%2C%20%5B39.26613%2C%20-81.51108%2C%200.0%5D%2C%20%5B38.71409%2C%20-81.77498%2C%201.0%5D%2C%20%5B38.23448%2C%20-82.00033%2C%201.0%5D%2C%20%5B39.26633%2C%20-81.51138%2C%201.0%5D%2C%20%5B39.26677%2C%20-81.51233%2C%200.0%5D%2C%20%5B39.40877%2C%20-81.44809000000002%2C%201.0%5D%2C%20%5B38.78268%2C%20-81.74812%2C%201.0%5D%2C%20%5B38.45384%2C%20-81.90352%2C%200.0%5D%2C%20%5B39.25804%2C%20-81.53133000000003%2C%201.0%5D%2C%20%5B37.76314%2C%20-82.23491999999997%2C%201.0%5D%2C%20%5B38.24178%2C%20-82.0144%2C%201.0%5D%2C%20%5B39.25548%2C%20-81.53499000000002%2C%200.0%5D%2C%20%5B38.50718%2C%20-81.89538%2C%202.0%5D%2C%20%5B38.1763%2C%20-82.05025%2C%200.0%5D%2C%20%5B37.97773%2C%20-82.14345%2C%201.0%5D%2C%20%5B37.70458%2C%20-82.26935%2C%201.0%5D%2C%20%5B39.25414%2C%20-81.54151%2C%200.0%5D%2C%20%5B38.90489%2C%20-81.71282%2C%201.0%5D%2C%20%5B38.01027%2C%20-82.13313000000002%2C%202.0%5D%2C%20%5B38.17354%2C%20-81.5636%2C%200.0%5D%2C%20%5B38.34687%2C%20-81.48226%2C%201.0%5D%2C%20%5B39.57463%2C%20-80.89313%2C%201.0%5D%2C%20%5B38.33362%2C%20-81.48969%2C%200.0%5D%2C%20%5B38.30996%2C%20-81.70430999999998%2C%202.0%5D%2C%20%5B38.0327%2C%20-81.83418%2C%201.0%5D%2C%20%5B38.30953%2C%20-81.70501999999998%2C%200.0%5D%2C%20%5B37.81347%2C%20-81.93604%2C%201.0%5D%2C%20%5B37.93882%2C%20-81.87982%2C%201.0%5D%2C%20%5B38.05858%2C%20-81.82446999999998%2C%202.0%5D%2C%20%5B38.33033%2C%20-81.69785999999998%2C%200.0%5D%2C%20%5B38.846%2C%20-81.45428000000003%2C%201.0%5D%2C%20%5B40.61955%2C%20-80.58986999999998%2C%201.0%5D%2C%20%5B38.36562%2C%20-81.68718%2C%202.0%5D%2C%20%5B38.36666%2C%20-81.68711%2C%201.0%5D%2C%20%5B38.40821%2C%20-81.66765%2C%201.0%5D%2C%20%5B37.85849%2C%20-81.9275%2C%201.0%5D%2C%20%5B38.46293%2C%20-81.64556999999998%2C%201.0%5D%2C%20%5B40.54882%2C%20-80.63079%2C%201.0%5D%2C%20%5B38.57622%2C%20-81.59333000000002%2C%201.0%5D%2C%20%5B39.40259%2C%20-81.19818000000002%2C%201.0%5D%2C%20%5B38.4774%2C%20-81.64334000000002%2C%200.0%5D%2C%20%5B38.58592%2C%20-81.59228%2C%202.0%5D%2C%20%5B38.47574%2C%20-81.64437%2C%202.0%5D%2C%20%5B39.38609%2C%20-81.20914%2C%201.0%5D%2C%20%5B37.82621%2C%20-81.95397%2C%202.0%5D%2C%20%5B38.07979%2C%20-81.83655%2C%202.0%5D%2C%20%5B37.84269000000001%2C%20-81.94646999999998%2C%202.0%5D%2C%20%5B38.52611%2C%20-81.63083%2C%201.0%5D%2C%20%5B38.48672%2C%20-81.64949%2C%200.0%5D%2C%20%5B38.08023%2C%20-81.83994%2C%202.0%5D%2C%20%5B37.76414000000001%2C%20-81.98637%2C%202.0%5D%2C%20%5B39.31800000000001%2C%20-81.2552%2C%200.0%5D%2C%20%5B37.73732%2C%20-82.00220999999998%2C%200.0%5D%2C%20%5B38.49793%2C%20-81.6479%2C%201.0%5D%2C%20%5B37.76693%2C%20-81.98861%2C%202.0%5D%2C%20%5B38.32215%2C%20-81.73351%2C%201.0%5D%2C%20%5B38.36113%2C%20-81.71528%2C%201.0%5D%2C%20%5B38.54391%2C%20-81.62952%2C%200.0%5D%2C%20%5B37.74955%2C%20-82.00027%2C%201.0%5D%2C%20%5B37.78088%2C%20-81.98929%2C%201.0%5D%2C%20%5B38.56173%2C%20-81.62501%2C%201.0%5D%2C%20%5B39.05512%2C%20-81.39044%2C%200.0%5D%2C%20%5B37.79317%2C%20-81.98754%2C%201.0%5D%2C%20%5B38.54486%2C%20-81.63694%2C%200.0%5D%2C%20%5B38.38254000000001%2C%20-81.71346%2C%201.0%5D%2C%20%5B38.05014%2C%20-81.86891%2C%200.0%5D%2C%20%5B38.54484%2C%20-81.63725%2C%200.0%5D%2C%20%5B38.08591%2C%20-81.85776%2C%200.0%5D%2C%20%5B38.08472%2C%20-81.85866999999998%2C%200.0%5D%2C%20%5B38.56188%2C%20-81.63549%2C%202.0%5D%2C%20%5B38.13593%2C%20-81.83542%2C%201.0%5D%2C%20%5B37.84269000000001%2C%20-81.97511999999998%2C%201.0%5D%2C%20%5B38.27863%2C%20-81.77303%2C%200.0%5D%2C%20%5B38.04563%2C%20-81.88243%2C%200.0%5D%2C%20%5B38.07649%2C%20-81.87491%2C%202.0%5D%2C%20%5B38.69323%2C%20-81.58614%2C%200.0%5D%2C%20%5B39.13174%2C%20-81.37732%2C%201.0%5D%2C%20%5B39.00106%2C%20-81.44082%2C%201.0%5D%2C%20%5B37.55111%2C%20-82.12556%2C%200.0%5D%2C%20%5B38.59635%2C%20-81.63996%2C%201.0%5D%2C%20%5B38.35566%2C%20-81.75345%2C%202.0%5D%2C%20%5B38.59824%2C%20-81.6396%2C%201.0%5D%2C%20%5B37.83332%2C%20-82.00059%2C%201.0%5D%2C%20%5B37.60081%2C%20-82.10799999999998%2C%201.0%5D%2C%20%5B38.95869%2C%20-81.96276999999998%2C%200.0%5D%2C%20%5B38.9383%2C%20-81.97272%2C%200.0%5D%2C%20%5B38.95557%2C%20-81.96495999999998%2C%200.0%5D%2C%20%5B38.87408%2C%20-82.00423%2C%202.0%5D%2C%20%5B38.48016%2C%20-82.1992%2C%201.0%5D%2C%20%5B38.77245%2C%20-82.06373%2C%200.0%5D%2C%20%5B38.44383%2C%20-82.21843%2C%201.0%5D%2C%20%5B38.52068%2C%20-81.59985999999998%2C%202.0%5D%2C%20%5B38.30761%2C%20-81.70026999999997%2C%201.0%5D%2C%20%5B37.81184%2C%20-81.93115%2C%201.0%5D%2C%20%5B38.41006%2C%20-81.65301%2C%201.0%5D%2C%20%5B39.07593%2C%20-81.7168%2C%202.0%5D%2C%20%5B38.27775%2C%20-82.09441%2C%201.0%5D%2C%20%5B38.43981%2C%20-82.01868%2C%201.0%5D%2C%20%5B39.1304%2C%20-81.69241%2C%202.0%5D%2C%20%5B38.86741%2C%20-81.81838%2C%201.0%5D%2C%20%5B38.56508%2C%20-81.96876999999998%2C%200.0%5D%2C%20%5B38.50467%2C%20-81.99717%2C%200.0%5D%2C%20%5B37.92607%2C%20-82.2667%2C%201.0%5D%2C%20%5B39.25925%2C%20-81.64492%2C%200.0%5D%2C%20%5B38.62608%2C%20-81.94803%2C%202.0%5D%2C%20%5B38.23861%2C%20-82.12978000000003%2C%201.0%5D%2C%20%5B38.44869%2C%20-82.03166%2C%202.0%5D%2C%20%5B37.93753%2C%20-82.27931%2C%200.0%5D%2C%20%5B37.79031%2C%20-82.34836%2C%202.0%5D%2C%20%5B38.40567%2C%20-82.06344%2C%201.0%5D%2C%20%5B39.23798%2C%20-81.66911%2C%200.0%5D%2C%20%5B38.56099%2C%20-81.99564000000002%2C%201.0%5D%2C%20%5B38.6539%2C%20-81.95222%2C%201.0%5D%2C%20%5B39.0939%2C%20-81.74324%2C%202.0%5D%2C%20%5B38.86382%2C%20-81.85351%2C%200.0%5D%2C%20%5B38.55178%2C%20-82.01161%2C%200.0%5D%2C%20%5B38.61461%2C%20-81.98246%2C%200.0%5D%2C%20%5B39.17502%2C%20-81.71687%2C%201.0%5D%2C%20%5B38.5821%2C%20-81.99922%2C%201.0%5D%2C%20%5B38.14582%2C%20-82.2141%2C%201.0%5D%2C%20%5B38.59166%2C%20-82.00583%2C%200.0%5D%2C%20%5B38.45729%2C%20-82.0722%2C%200.0%5D%2C%20%5B38.69042%2C%20-81.96524000000002%2C%200.0%5D%2C%20%5B38.25506%2C%20-82.17863%2C%202.0%5D%2C%20%5B38.44205%2C%20-82.09136%2C%201.0%5D%2C%20%5B38.41787%2C%20-82.10448000000002%2C%200.0%5D%2C%20%5B38.38383%2C%20-82.12189000000002%2C%201.0%5D%2C%20%5B38.42898%2C%20-82.10231999999998%2C%201.0%5D%2C%20%5B38.1502%2C%20-81.861%2C%201.0%5D%2C%20%5B38.21579000000001%2C%20-81.83492%2C%202.0%5D%2C%20%5B38.30948%2C%20-81.79124%2C%201.0%5D%2C%20%5B37.98701%2C%20-81.94173%2C%201.0%5D%2C%20%5B37.6561%2C%20-82.09458000000002%2C%202.0%5D%2C%20%5B38.45542%2C%20-81.72323%2C%200.0%5D%2C%20%5B37.84488%2C%20-82.00992%2C%200.0%5D%2C%20%5B38.84251%2C%20-81.54221%2C%200.0%5D%2C%20%5B37.75558%2C%20-82.05123%2C%202.0%5D%2C%20%5B38.21706%2C%20-81.842%2C%201.0%5D%2C%20%5B39.10287%2C%20-81.42258000000002%2C%200.0%5D%2C%20%5B37.84576%2C%20-82.01465%2C%201.0%5D%2C%20%5B38.11299%2C%20-81.89124%2C%200.0%5D%2C%20%5B38.42787%2C%20-81.74712%2C%202.0%5D%2C%20%5B37.84235%2C%20-82.01994%2C%202.0%5D%2C%20%5B37.98526%2C%20-81.95430999999998%2C%201.0%5D%2C%20%5B39.16881%2C%20-81.39535%2C%200.0%5D%2C%20%5B39.35193%2C%20-81.31144%2C%201.0%5D%2C%20%5B38.29951%2C%20-81.8125%2C%201.0%5D%2C%20%5B37.85017%2C%20-82.02186%2C%202.0%5D%2C%20%5B37.67536%2C%20-82.10656%2C%201.0%5D%2C%20%5B37.83239%2C%20-82.03453%2C%201.0%5D%2C%20%5B38.3327%2C%20-81.80202%2C%200.0%5D%2C%20%5B38.26086%2C%20-81.83594000000002%2C%201.0%5D%2C%20%5B37.83175%2C%20-82.04235%2C%202.0%5D%2C%20%5B37.82976%2C%20-82.04417%2C%201.0%5D%2C%20%5B38.48399000000001%2C%20-81.7395%2C%202.0%5D%2C%20%5B38.22329000000001%2C%20-81.86182%2C%200.0%5D%2C%20%5B37.8474%2C%20-82.042%2C%201.0%5D%2C%20%5B38.61469%2C%20-81.68368000000002%2C%200.0%5D%2C%20%5B38.33965%2C%20-81.8132%2C%201.0%5D%2C%20%5B38.7094%2C%20-81.63953000000002%2C%202.0%5D%2C%20%5B37.69846%2C%20-82.11527%2C%202.0%5D%2C%20%5B37.99546%2C%20-82.00613%2C%201.0%5D%2C%20%5B37.62478%2C%20-82.14964%2C%201.0%5D%2C%20%5B38.7786%2C%20-82.06438%2C%200.0%5D%2C%20%5B38.78111%2C%20-82.06371999999998%2C%202.0%5D%2C%20%5B38.76456%2C%20-82.07202%2C%201.0%5D%2C%20%5B38.27664%2C%20-82.30878%2C%201.0%5D%2C%20%5B38.65205%2C%20-82.13444%2C%202.0%5D%2C%20%5B38.77861%2C%20-82.09395%2C%200.0%5D%2C%20%5B38.64306%2C%20-82.1531%2C%201.0%5D%2C%20%5B38.17594%2C%20-82.37141%2C%202.0%5D%2C%20%5B38.76786%2C%20-82.09456%2C%202.0%5D%2C%20%5B38.3464%2C%20-82.29308%2C%202.0%5D%2C%20%5B38.41558%2C%20-82.26833%2C%201.0%5D%2C%20%5B38.41576%2C%20-82.26841%2C%202.0%5D%2C%20%5B39.00557%2C%20-81.99042%2C%201.0%5D%2C%20%5B38.38205%2C%20-82.28483%2C%201.0%5D%2C%20%5B38.80108%2C%20-82.10055%2C%200.0%5D%2C%20%5B38.41716%2C%20-82.2827%2C%201.0%5D%2C%20%5B38.41699000000001%2C%20-82.28278%2C%201.0%5D%2C%20%5B38.91627%2C%20-82.05123%2C%200.0%5D%2C%20%5B38.19419%2C%20-82.39036999999998%2C%201.0%5D%2C%20%5B38.24672%2C%20-82.37203000000002%2C%201.0%5D%2C%20%5B38.18282%2C%20-82.40174%2C%202.0%5D%2C%20%5B38.74005%2C%20-82.14129%2C%201.0%5D%2C%20%5B38.31719%2C%20-82.33941%2C%202.0%5D%2C%20%5B38.44036%2C%20-82.28974000000002%2C%201.0%5D%2C%20%5B38.49812%2C%20-82.2628%2C%201.0%5D%2C%20%5B38.07941%2C%20-82.45748%2C%201.0%5D%2C%20%5B38.3965%2C%20-82.32236%2C%201.0%5D%2C%20%5B38.70773%2C%20-82.17669000000002%2C%201.0%5D%2C%20%5B38.41194%2C%20-82.31605%2C%201.0%5D%2C%20%5B38.00743%2C%20-82.50477%2C%201.0%5D%2C%20%5B39.01269%2C%20-82.04008%2C%201.0%5D%2C%20%5B38.45955%2C%20-82.30181999999998%2C%201.0%5D%2C%20%5B38.12176%2C%20-82.46008%2C%201.0%5D%2C%20%5B38.50454000000001%2C%20-82.28388000000002%2C%201.0%5D%2C%20%5B38.83715%2C%20-82.13973%2C%200.0%5D%2C%20%5B38.90993%2C%20-81.71103000000002%2C%201.0%5D%2C%20%5B38.85948%2C%20-81.73517%2C%201.0%5D%2C%20%5B37.91523%2C%20-82.18086%2C%201.0%5D%2C%20%5B37.99295%2C%20-82.14562%2C%201.0%5D%2C%20%5B38.61624000000001%2C%20-81.85494%2C%202.0%5D%2C%20%5B38.79395%2C%20-81.77091%2C%202.0%5D%2C%20%5B37.67943%2C%20-82.29526%2C%202.0%5D%2C%20%5B37.77992%2C%20-82.24923000000003%2C%201.0%5D%2C%20%5B38.45892%2C%20-81.934%2C%201.0%5D%2C%20%5B37.7021%2C%20-82.28504000000002%2C%200.0%5D%2C%20%5B37.70056%2C%20-82.28963%2C%201.0%5D%2C%20%5B38.95443%2C%20-81.7039%2C%200.0%5D%2C%20%5B38.48212%2C%20-81.92761999999998%2C%200.0%5D%2C%20%5B39.25915%2C%20-81.5611%2C%201.0%5D%2C%20%5B39.22676%2C%20-81.57668000000002%2C%200.0%5D%2C%20%5B39.25938%2C%20-81.56116999999998%2C%201.0%5D%2C%20%5B38.92212%2C%20-81.72269%2C%202.0%5D%2C%20%5B37.69793%2C%20-82.30011999999998%2C%201.0%5D%2C%20%5B39.0073%2C%20-81.68783%2C%201.0%5D%2C%20%5B38.75777%2C%20-82.01216%2C%200.0%5D%2C%20%5B38.16828%2C%20-82.08341999999998%2C%201.0%5D%2C%20%5B39.34661%2C%20-81.53093%2C%200.0%5D%2C%20%5B39.32201%2C%20-81.54348%2C%200.0%5D%2C%20%5B38.69405%2C%20-81.84334%2C%200.0%5D%2C%20%5B39.28325%2C%20-81.5622%2C%201.0%5D%2C%20%5B38.81249%2C%20-81.78809%2C%200.0%5D%2C%20%5B39.25756%2C%20-81.58096%2C%201.0%5D%2C%20%5B37.82181%2C%20-82.25667%2C%201.0%5D%2C%20%5B37.81677%2C%20-82.25903000000002%2C%201.0%5D%2C%20%5B37.7114%2C%20-82.30758%2C%201.0%5D%2C%20%5B38.20325%2C%20-82.0923%2C%202.0%5D%2C%20%5B38.93701%2C%20-81.74996%2C%201.0%5D%2C%20%5B38.18738%2C%20-82.10285%2C%201.0%5D%2C%20%5B38.3675%2C%20-82.02229%2C%202.0%5D%2C%20%5B38.99985%2C%20-81.72353000000003%2C%200.0%5D%2C%20%5B39.25142%2C%20-81.60311999999998%2C%200.0%5D%2C%20%5B39.14905%2C%20-81.43491999999998%2C%202.0%5D%2C%20%5B37.99069%2C%20-81.98567%2C%201.0%5D%2C%20%5B38.00731%2C%20-81.97805%2C%201.0%5D%2C%20%5B39.13528%2C%20-81.44588%2C%201.0%5D%2C%20%5B38.33796%2C%20-81.82449%2C%201.0%5D%2C%20%5B39.24166%2C%20-81.40135%2C%201.0%5D%2C%20%5B39.22464%2C%20-81.40983%2C%200.0%5D%2C%20%5B39.10841%2C%20-81.46613%2C%202.0%5D%2C%20%5B39.21353%2C%20-81.42385%2C%201.0%5D%2C%20%5B38.70946%2C%20-81.66543%2C%202.0%5D%2C%20%5B39.33388%2C%20-81.36711%2C%202.0%5D%2C%20%5B37.8267%2C%20-82.07876%2C%202.0%5D%2C%20%5B38.73337%2C%20-81.66308000000002%2C%201.0%5D%2C%20%5B37.9745%2C%20-82.01946%2C%201.0%5D%2C%20%5B37.97545%2C%20-82.01966%2C%201.0%5D%2C%20%5B37.82888%2C%20-82.08748%2C%201.0%5D%2C%20%5B37.7966%2C%20-82.10849%2C%202.0%5D%2C%20%5B38.39179%2C%20-81.83195%2C%200.0%5D%2C%20%5B38.80645%2C%20-81.63614%2C%200.0%5D%2C%20%5B38.38811%2C%20-81.83416%2C%201.0%5D%2C%20%5B39.31037%2C%20-78.93806%2C%201.0%5D%2C%20%5B38.95924%2C%20-79.11454%2C%201.0%5D%2C%20%5B38.96104%2C%20-79.11433000000002%2C%201.0%5D%2C%20%5B39.45392%2C%20-78.87064000000002%2C%200.0%5D%2C%20%5B38.98982%2C%20-78.6573%2C%201.0%5D%2C%20%5B39.04451%2C%20-78.6381%2C%201.0%5D%2C%20%5B38.93519000000001%2C%20-78.69244%2C%201.0%5D%2C%20%5B39.06906%2C%20-78.62841999999998%2C%201.0%5D%2C%20%5B39.26749%2C%20-78.54956999999997%2C%201.0%5D%2C%20%5B39.26895%2C%20-78.55261999999998%2C%201.0%5D%2C%20%5B39.06478%2C%20-78.65517%2C%202.0%5D%2C%20%5B39.06607%2C%20-78.6549%2C%201.0%5D%2C%20%5B39.04054%2C%20-78.71047%2C%200.0%5D%2C%20%5B39.04195%2C%20-78.71095%2C%201.0%5D%2C%20%5B39.04202%2C%20-78.71179000000002%2C%201.0%5D%2C%20%5B39.28508%2C%20-78.59144%2C%201.0%5D%2C%20%5B39.04585%2C%20-78.73892%2C%201.0%5D%2C%20%5B39.04567%2C%20-78.73905%2C%201.0%5D%2C%20%5B38.86357%2C%20-78.83001%2C%201.0%5D%2C%20%5B39.41118%2C%20-78.56103%2C%201.0%5D%2C%20%5B38.97009%2C%20-78.80118%2C%201.0%5D%2C%20%5B39.41908%2C%20-78.57768%2C%201.0%5D%2C%20%5B39.24195%2C%20-78.66748%2C%201.0%5D%2C%20%5B39.41814%2C%20-78.5797%2C%200.0%5D%2C%20%5B39.0529%2C%20-78.7811%2C%201.0%5D%2C%20%5B39.42683%2C%20-78.59501%2C%201.0%5D%2C%20%5B39.05205%2C%20-78.78273%2C%201.0%5D%2C%20%5B39.21203%2C%20-77.81568%2C%201.0%5D%2C%20%5B39.21962%2C%20-77.81594%2C%201.0%5D%2C%20%5B39.33527%2C%20-77.75827%2C%201.0%5D%2C%20%5B39.21166%2C%20-77.83485%2C%200.0%5D%2C%20%5B39.25452%2C%20-77.81643000000003%2C%201.0%5D%2C%20%5B39.17704000000001%2C%20-77.8912%2C%201.0%5D%2C%20%5B39.27401%2C%20-77.84751999999997%2C%201.0%5D%2C%20%5B39.29556%2C%20-77.83955%2C%201.0%5D%2C%20%5B39.30416%2C%20-77.84116999999998%2C%201.0%5D%2C%20%5B39.48295%2C%20-77.83183000000002%2C%201.0%5D%2C%20%5B39.37693%2C%20-77.88802%2C%201.0%5D%2C%20%5B39.37712%2C%20-77.88795%2C%201.0%5D%2C%20%5B39.38159%2C%20-77.89466%2C%201.0%5D%2C%20%5B39.38669%2C%20-77.94827%2C%201.0%5D%2C%20%5B39.35424%2C%20-77.9663%2C%201.0%5D%2C%20%5B39.35651%2C%20-77.96995%2C%201.0%5D%2C%20%5B39.31985%2C%20-77.98850999999998%2C%202.0%5D%2C%20%5B39.5596%2C%20-77.88864000000002%2C%200.0%5D%2C%20%5B39.5043%2C%20-77.92383000000002%2C%200.0%5D%2C%20%5B39.45165%2C%20-77.95366999999997%2C%201.0%5D%2C%20%5B39.4179%2C%20-77.97102%2C%200.0%5D%2C%20%5B39.47429%2C%20-77.95621%2C%201.0%5D%2C%20%5B39.47056%2C%20-77.96202%2C%201.0%5D%2C%20%5B39.47356%2C%20-77.96065%2C%201.0%5D%2C%20%5B39.46661%2C%20-77.96457%2C%201.0%5D%2C%20%5B39.33471%2C%20-78.05346999999998%2C%201.0%5D%2C%20%5B39.46966%2C%20-77.98566%2C%201.0%5D%2C%20%5B39.47917%2C%20-77.98174%2C%200.0%5D%2C%20%5B39.50921%2C%20-77.96659%2C%201.0%5D%2C%20%5B39.55922%2C%20-77.95496999999997%2C%201.0%5D%2C%20%5B39.46687%2C%20-78.00518000000002%2C%201.0%5D%2C%20%5B39.34549000000001%2C%20-78.06735%2C%202.0%5D%2C%20%5B39.46393%2C%20-78.00804000000002%2C%201.0%5D%2C%20%5B39.46378%2C%20-78.01094%2C%201.0%5D%2C%20%5B38.27876%2C%20-82.53218000000003%2C%201.0%5D%2C%20%5B38.35559%2C%20-82.50851999999998%2C%201.0%5D%2C%20%5B38.35468%2C%20-82.5092%2C%201.0%5D%2C%20%5B38.23836%2C%20-82.57679%2C%201.0%5D%2C%20%5B38.40627%2C%20-82.5005%2C%202.0%5D%2C%20%5B38.30337%2C%20-82.54833%2C%201.0%5D%2C%20%5B38.19209%2C%20-82.59997%2C%201.0%5D%2C%20%5B38.39206%2C%20-82.54785%2C%201.0%5D%2C%20%5B38.39113%2C%20-82.55691%2C%201.0%5D%2C%20%5B38.39041%2C%20-82.56477%2C%202.0%5D%2C%20%5B38.20045%2C%20-82.43793000000002%2C%202.0%5D%2C%20%5B38.25129%2C%20-82.4144%2C%202.0%5D%2C%20%5B38.85467%2C%20-82.13207%2C%200.0%5D%2C%20%5B38.37381%2C%20-82.37042%2C%202.0%5D%2C%20%5B38.7712%2C%20-82.18421%2C%200.0%5D%2C%20%5B38.81936%2C%20-82.162%2C%201.0%5D%2C%20%5B38.24525%2C%20-82.4311%2C%201.0%5D%2C%20%5B38.18115%2C%20-82.47577%2C%202.0%5D%2C%20%5B38.36266%2C%20-82.39367%2C%201.0%5D%2C%20%5B38.17713%2C%20-82.48138%2C%202.0%5D%2C%20%5B38.19409%2C%20-82.4738%2C%200.0%5D%2C%20%5B38.25912%2C%20-82.44572%2C%201.0%5D%2C%20%5B38.39264%2C%20-82.40408000000002%2C%200.0%5D%2C%20%5B38.08978%2C%20-82.54456%2C%201.0%5D%2C%20%5B38.08965%2C%20-82.54603%2C%201.0%5D%2C%20%5B38.42245%2C%20-82.39218000000002%2C%201.0%5D%2C%20%5B38.33805%2C%20-82.45082%2C%201.0%5D%2C%20%5B38.33434000000001%2C%20-82.45444%2C%201.0%5D%2C%20%5B38.21488%2C%20-82.21462%2C%201.0%5D%2C%20%5B38.77012%2C%20-81.95487%2C%200.0%5D%2C%20%5B38.15617%2C%20-82.24269%2C%201.0%5D%2C%20%5B38.43936%2C%20-82.12259%2C%201.0%5D%2C%20%5B38.80585%2C%20-81.95134%2C%201.0%5D%2C%20%5B37.96566%2C%20-82.34510999999998%2C%201.0%5D%2C%20%5B38.67012%2C%20-82.03038000000002%2C%201.0%5D%2C%20%5B38.45629%2C%20-82.13121%2C%201.0%5D%2C%20%5B38.69994000000001%2C%20-82.0168%2C%200.0%5D%2C%20%5B38.92222%2C%20-81.91167%2C%202.0%5D%2C%20%5B38.43106%2C%20-82.15904%2C%201.0%5D%2C%20%5B38.39641%2C%20-82.17724%2C%201.0%5D%2C%20%5B38.3236%2C%20-82.21186%2C%201.0%5D%2C%20%5B37.99258%2C%20-82.37833%2C%202.0%5D%2C%20%5B38.9262%2C%20-81.94226%2C%201.0%5D%2C%20%5B38.34777%2C%20-82.21656%2C%202.0%5D%2C%20%5B38.19674000000001%2C%20-82.28709%2C%201.0%5D%2C%20%5B38.43251%2C%20-82.18693%2C%201.0%5D%2C%20%5B38.43269%2C%20-82.18694%2C%201.0%5D%2C%20%5B38.3582%2C%20-82.2232%2C%202.0%5D%2C%20%5B38.54909%2C%20-82.14535%2C%202.0%5D%2C%20%5B38.42811%2C%20-82.20276%2C%201.0%5D%2C%20%5B37.99999%2C%20-82.40178%2C%201.0%5D%2C%20%5B38.43092%2C%20-82.20342%2C%201.0%5D%2C%20%5B38.43112%2C%20-82.20349%2C%201.0%5D%2C%20%5B38.34961%2C%20-82.44785999999998%2C%201.0%5D%2C%20%5B38.39129000000001%2C%20-82.42859%2C%201.0%5D%2C%20%5B38.14121%2C%20-82.56857%2C%200.0%5D%2C%20%5B38.39403%2C%20-82.45237%2C%201.0%5D%2C%20%5B38.40618%2C%20-82.44719%2C%202.0%5D%2C%20%5B38.11636%2C%20-82.58288%2C%201.0%5D%2C%20%5B38.39729000000001%2C%20-82.46818%2C%201.0%5D%2C%20%5B38.39863%2C%20-82.4685%2C%201.0%5D%2C%20%5B38.116%2C%20-82.6%2C%201.0%5D%2C%20%5B38.99187%2C%20-81.72775%2C%201.0%5D%2C%20%5B37.76045%2C%20-82.31153%2C%201.0%5D%2C%20%5B38.74012000000001%2C%20-81.85542%2C%201.0%5D%2C%20%5B39.25209%2C%20-81.61203%2C%200.0%5D%2C%20%5B38.60943%2C%20-81.91806%2C%201.0%5D%2C%20%5B38.3891%2C%20-82.02811%2C%202.0%5D%2C%20%5B37.74849%2C%20-82.32561%2C%201.0%5D%2C%20%5B38.2816%2C%20-82.07953%2C%201.0%5D%2C%20%5B39.19521%2C%20-81.64742%2C%202.0%5D%2C%20%5B38.99173%2C%20-81.75050999999998%2C%200.0%5D%2C%20%5B38.22218%2C%20-82.11335%2C%201.0%5D%2C%20%5B38.71131%2C%20-81.88463%2C%200.0%5D%2C%20%5B39.19674000000001%2C%20-81.65356%2C%202.0%5D%2C%20%5B38.32016%2C%20-80.09764%2C%201.0%5D%2C%20%5B38.54376%2C%20-80.03572%2C%200.0%5D%2C%20%5B38.25058%2C%20-80.22712%2C%200.0%5D%2C%20%5B38.13631%2C%20-80.29936%2C%200.0%5D%2C%20%5B37.40972%2C%20-81.42566%2C%201.0%5D%2C%20%5B39.28998%2C%20-80.53581%2C%200.0%5D%2C%20%5B39.29013%2C%20-80.53582%2C%200.0%5D%2C%20%5B38.9401%2C%20-80.71996999999998%2C%200.0%5D%2C%20%5B40.1833%2C%20-80.67655%2C%200.0%5D%2C%20%5B37.59871%2C%20-81.97349%2C%202.0%5D%2C%20%5B38.08526%2C%20-81.75896%2C%200.0%5D%2C%20%5B38.42077000000001%2C%20-81.64227%2C%200.0%5D%2C%20%5B39.26935%2C%20-77.76983%2C%201.0%5D%2C%20%5B39.27126%2C%20-77.77926%2C%201.0%5D%2C%20%5B39.25526%2C%20-77.81859%2C%202.0%5D%2C%20%5B39.45419%2C%20-78.87051%2C%201.0%5D%2C%20%5B38.72246%2C%20-79.23351%2C%201.0%5D%2C%20%5B38.98343%2C%20-79.1249%2C%201.0%5D%2C%20%5B38.99189000000001%2C%20-79.12248000000002%2C%201.0%5D%2C%20%5B39.24503%2C%20-79.00586%2C%202.0%5D%2C%20%5B38.50979%2C%20-79.36797%2C%200.0%5D%2C%20%5B38.52016%2C%20-79.36919%2C%200.0%5D%2C%20%5B39.41514%2C%20-78.93074%2C%201.0%5D%2C%20%5B39.33769%2C%20-78.97041%2C%201.0%5D%2C%20%5B39.12788%2C%20-79.0783%2C%200.0%5D%2C%20%5B38.92154%2C%20-79.1809%2C%200.0%5D%2C%20%5B39.14247%2C%20-79.07441%2C%200.0%5D%2C%20%5B38.88441%2C%20-79.20411999999997%2C%201.0%5D%2C%20%5B38.65987%2C%20-79.31815999999998%2C%200.0%5D%2C%20%5B38.66129%2C%20-79.31875%2C%202.0%5D%2C%20%5B38.59821%2C%20-79.35293%2C%201.0%5D%2C%20%5B38.61841%2C%20-79.34852%2C%201.0%5D%2C%20%5B38.78702%2C%20-79.26673000000002%2C%201.0%5D%2C%20%5B39.32219%2C%20-79.0099%2C%201.0%5D%2C%20%5B39.32387%2C%20-79.01751%2C%201.0%5D%2C%20%5B38.80551%2C%20-79.2762%2C%200.0%5D%2C%20%5B38.78286%2C%20-79.29605%2C%200.0%5D%2C%20%5B38.76914%2C%20-79.31459%2C%200.0%5D%2C%20%5B39.40617%2C%20-79.00293%2C%200.0%5D%2C%20%5B39.3662%2C%20-79.03003000000002%2C%201.0%5D%2C%20%5B38.99456%2C%20-79.21443000000002%2C%201.0%5D%2C%20%5B38.74086%2C%20-79.34619%2C%201.0%5D%2C%20%5B38.61603%2C%20-79.41144%2C%200.0%5D%2C%20%5B39.0727%2C%20-79.19681%2C%201.0%5D%2C%20%5B39.18832%2C%20-79.14315%2C%201.0%5D%2C%20%5B39.19638%2C%20-79.15297%2C%201.0%5D%2C%20%5B39.12955%2C%20-79.20135%2C%201.0%5D%2C%20%5B39.18994%2C%20-79.17165%2C%201.0%5D%2C%20%5B39.13706%2C%20-79.2016%2C%201.0%5D%2C%20%5B39.12644%2C%20-79.2093%2C%201.0%5D%2C%20%5B39.2148%2C%20-77.84227%2C%201.0%5D%2C%20%5B39.40054%2C%20-77.77427%2C%201.0%5D%2C%20%5B39.28054%2C%20-77.83892%2C%201.0%5D%2C%20%5B39.30949%2C%20-77.84285%2C%201.0%5D%2C%20%5B39.29832%2C%20-77.85252%2C%200.0%5D%2C%20%5B39.32634%2C%20-77.85381%2C%201.0%5D%2C%20%5B39.36197%2C%20-77.86623%2C%201.0%5D%2C%20%5B39.36512000000001%2C%20-77.86972%2C%201.0%5D%2C%20%5B39.39404%2C%20-77.90053%2C%201.0%5D%2C%20%5B39.39698%2C%20-77.92101%2C%201.0%5D%2C%20%5B39.37107%2C%20-77.94091999999998%2C%201.0%5D%2C%20%5B39.40452%2C%20-77.92959%2C%200.0%5D%2C%20%5B39.41898%2C%20-77.92896%2C%201.0%5D%2C%20%5B39.58369%2C%20-77.85571999999998%2C%201.0%5D%2C%20%5B39.45984%2C%20-77.9193%2C%201.0%5D%2C%20%5B39.42474%2C%20-77.95298000000003%2C%201.0%5D%2C%20%5B39.57974%2C%20-77.8765%2C%201.0%5D%2C%20%5B39.5624%2C%20-77.89819%2C%201.0%5D%2C%20%5B39.54588%2C%20-77.91141%2C%201.0%5D%2C%20%5B39.45438%2C%20-77.96113000000003%2C%201.0%5D%2C%20%5B39.51751%2C%20-77.93149%2C%201.0%5D%2C%20%5B39.44223%2C%20-77.97025%2C%201.0%5D%2C%20%5B39.47028%2C%20-77.96435%2C%200.0%5D%2C%20%5B39.49635%2C%20-77.95954%2C%201.0%5D%2C%20%5B39.50795%2C%20-77.96185%2C%201.0%5D%2C%20%5B39.48481%2C%20-77.97693000000002%2C%201.0%5D%2C%20%5B39.46491%2C%20-77.99016%2C%201.0%5D%2C%20%5B39.47047%2C%20-77.98919000000002%2C%201.0%5D%2C%20%5B39.34024%2C%20-78.06198%2C%202.0%5D%2C%20%5B39.31488%2C%20-78.07578000000002%2C%201.0%5D%2C%20%5B39.55101%2C%20-77.97482%2C%200.0%5D%2C%20%5B39.36603%2C%20-78.1009%2C%201.0%5D%2C%20%5B39.55656%2C%20-78.01598%2C%201.0%5D%2C%20%5B39.38266%2C%20-78.14452%2C%201.0%5D%2C%20%5B39.62052%2C%20-78.02834%2C%201.0%5D%2C%20%5B39.47653%2C%20-78.10632%2C%201.0%5D%2C%20%5B39.37162%2C%20-78.16116%2C%200.0%5D%2C%20%5B38.9539%2C%20-78.80445999999998%2C%201.0%5D%2C%20%5B38.96245%2C%20-78.80407%2C%201.0%5D%2C%20%5B39.23674000000001%2C%20-78.67065%2C%201.0%5D%2C%20%5B38.8467%2C%20-78.87203000000002%2C%201.0%5D%2C%20%5B39.16425%2C%20-78.71540999999998%2C%201.0%5D%2C%20%5B38.87412%2C%20-78.8653%2C%201.0%5D%2C%20%5B38.92402%2C%20-78.84153%2C%201.0%5D%2C%20%5B39.30189%2C%20-78.65894%2C%201.0%5D%2C%20%5B39.35402%2C%20-78.63625%2C%201.0%5D%2C%20%5B38.84855%2C%20-78.89457%2C%201.0%5D%2C%20%5B39.27011%2C%20-78.68639%2C%201.0%5D%2C%20%5B38.8778%2C%20-78.88708000000003%2C%201.0%5D%2C%20%5B38.96843%2C%20-78.8451%2C%200.0%5D%2C%20%5B39.1379%2C%20-78.76825%2C%201.0%5D%2C%20%5B39.14352%2C%20-78.7657%2C%201.0%5D%2C%20%5B39.17256%2C%20-78.76122%2C%201.0%5D%2C%20%5B38.81325%2C%20-78.94166%2C%201.0%5D%2C%20%5B39.10792%2C%20-78.80521%2C%200.0%5D%2C%20%5B38.96609%2C%20-78.8815%2C%201.0%5D%2C%20%5B39.1371%2C%20-78.81426%2C%200.0%5D%2C%20%5B39.09399000000001%2C%20-78.87997%2C%201.0%5D%2C%20%5B39.0654%2C%20-78.9212%2C%201.0%5D%2C%20%5B39.00727%2C%20-78.95340999999998%2C%201.0%5D%2C%20%5B38.97829%2C%20-78.97689%2C%202.0%5D%2C%20%5B39.33528%2C%20-78.80954%2C%201.0%5D%2C%20%5B39.10209%2C%20-78.94151%2C%201.0%5D%2C%20%5B38.75462%2C%20-79.12798000000002%2C%201.0%5D%2C%20%5B38.79208%2C%20-79.10982%2C%201.0%5D%2C%20%5B39.51346%2C%20-78.75636%2C%201.0%5D%2C%20%5B39.31336%2C%20-78.85875%2C%201.0%5D%2C%20%5B39.51794%2C%20-78.76374%2C%200.0%5D%2C%20%5B39.17017%2C%20-78.9398%2C%201.0%5D%2C%20%5B39.28695%2C%20-78.89119000000002%2C%201.0%5D%2C%20%5B39.46484%2C%20-78.80574%2C%201.0%5D%2C%20%5B38.69506%2C%20-79.19039000000002%2C%201.0%5D%2C%20%5B38.50838%2C%20-79.28205%2C%201.0%5D%2C%20%5B39.39202%2C%20-78.8531%2C%200.0%5D%2C%20%5B38.80742%2C%20-79.39083000000002%2C%202.0%5D%2C%20%5B38.8113%2C%20-79.39311%2C%201.0%5D%2C%20%5B39.168%2C%20-79.2335%2C%200.0%5D%2C%20%5B38.59346%2C%20-79.52384%2C%201.0%5D%2C%20%5B39.39456%2C%20-79.13273000000002%2C%201.0%5D%2C%20%5B39.184%2C%20-79.2436%2C%200.0%5D%2C%20%5B38.67202%2C%20-79.49628%2C%201.0%5D%2C%20%5B38.85607%2C%20-79.41554000000002%2C%202.0%5D%2C%20%5B38.86714%2C%20-79.41186%2C%202.0%5D%2C%20%5B38.8808%2C%20-79.4067%2C%201.0%5D%2C%20%5B38.89057%2C%20-79.4023%2C%200.0%5D%2C%20%5B38.57041%2C%20-79.57009000000002%2C%201.0%5D%2C%20%5B39.30727%2C%20-79.21391%2C%202.0%5D%2C%20%5B39.21219%2C%20-79.26886%2C%201.0%5D%2C%20%5B38.62497000000001%2C%20-79.55999%2C%201.0%5D%2C%20%5B39.26029000000001%2C%20-79.2584%2C%200.0%5D%2C%20%5B38.86379%2C%20-79.45454000000002%2C%201.0%5D%2C%20%5B38.80004%2C%20-79.54544%2C%202.0%5D%2C%20%5B39.06675%2C%20-79.42578%2C%200.0%5D%2C%20%5B38.95041%2C%20-79.50926%2C%202.0%5D%2C%20%5B38.82837%2C%20-79.57051%2C%201.0%5D%2C%20%5B38.93376%2C%20-79.52118%2C%200.0%5D%2C%20%5B38.86433%2C%20-79.55763%2C%202.0%5D%2C%20%5B38.53036%2C%20-79.727%2C%201.0%5D%2C%20%5B38.27249000000001%2C%20-79.85288%2C%200.0%5D%2C%20%5B38.55648%2C%20-79.73446%2C%201.0%5D%2C%20%5B37.67192%2C%20-80.42173000000003%2C%202.0%5D%2C%20%5B39.41213%2C%20-79.58538%2C%201.0%5D%2C%20%5B37.77335%2C%20-80.37683%2C%201.0%5D%2C%20%5B39.38425%2C%20-79.60065%2C%202.0%5D%2C%20%5B38.74325%2C%20-79.91644000000002%2C%201.0%5D%2C%20%5B39.38235%2C%20-79.60468%2C%202.0%5D%2C%20%5B38.67544%2C%20-79.95164%2C%202.0%5D%2C%20%5B38.98917%2C%20-79.80314%2C%202.0%5D%2C%20%5B39.41703%2C%20-79.59329%2C%200.0%5D%2C%20%5B37.78066%2C%20-80.38786%2C%200.0%5D%2C%20%5B37.78946%2C%20-80.38446%2C%201.0%5D%2C%20%5B39.61691%2C%20-78.04498000000002%2C%201.0%5D%2C%20%5B39.56934%2C%20-78.07323000000002%2C%201.0%5D%2C%20%5B39.59753%2C%20-78.17039%2C%202.0%5D%2C%20%5B39.43581%2C%20-78.25497%2C%201.0%5D%2C%20%5B39.52292%2C%20-78.22595%2C%202.0%5D%2C%20%5B39.48123%2C%20-78.2512%2C%200.0%5D%2C%20%5B39.56724000000001%2C%20-78.22623%2C%202.0%5D%2C%20%5B39.48522%2C%20-78.27792%2C%200.0%5D%2C%20%5B39.65735%2C%20-78.2049%2C%201.0%5D%2C%20%5B39.64046%2C%20-78.21888%2C%200.0%5D%2C%20%5B39.24203%2C%20-78.4379%2C%201.0%5D%2C%20%5B39.28529%2C%20-78.43030999999998%2C%201.0%5D%2C%20%5B39.1838%2C%20-78.48674%2C%201.0%5D%2C%20%5B39.52886%2C%20-78.34813%2C%201.0%5D%2C%20%5B39.06506%2C%20-78.58117%2C%201.0%5D%2C%20%5B39.48099000000001%2C%20-78.38447%2C%202.0%5D%2C%20%5B39.40209%2C%20-78.42451%2C%202.0%5D%2C%20%5B39.19858%2C%20-79.97763%2C%202.0%5D%2C%20%5B37.81161%2C%20-80.64595%2C%200.0%5D%2C%20%5B39.20955%2C%20-79.97766999999997%2C%201.0%5D%2C%20%5B37.80638%2C%20-80.65607%2C%201.0%5D%2C%20%5B39.04136%2C%20-80.06755%2C%202.0%5D%2C%20%5B38.68742%2C%20-80.23996%2C%201.0%5D%2C%20%5B38.50545%2C%20-80.32968000000002%2C%201.0%5D%2C%20%5B37.67984000000001%2C%20-80.72483000000003%2C%201.0%5D%2C%20%5B37.73354000000001%2C%20-80.70243%2C%201.0%5D%2C%20%5B39.47817%2C%20-79.86605%2C%202.0%5D%2C%20%5B39.35444%2C%20-79.93032%2C%200.0%5D%2C%20%5B39.65849%2C%20-79.78067%2C%202.0%5D%2C%20%5B37.90368%2C%20-80.63332%2C%201.0%5D%2C%20%5B38.73938%2C%20-80.23635999999998%2C%201.0%5D%2C%20%5B37.90185%2C%20-80.63943%2C%200.0%5D%2C%20%5B37.90274%2C%20-80.63981%2C%200.0%5D%2C%20%5B38.87032%2C%20-80.18043%2C%202.0%5D%2C%20%5B39.15299%2C%20-80.04333000000003%2C%201.0%5D%2C%20%5B37.53263%2C%20-80.8184%2C%202.0%5D%2C%20%5B38.92834000000001%2C%20-80.1573%2C%201.0%5D%2C%20%5B38.98432%2C%20-79.81276%2C%201.0%5D%2C%20%5B38.07939%2C%20-80.25027%2C%201.0%5D%2C%20%5B38.49272%2C%20-80.05501%2C%202.0%5D%2C%20%5B38.54371%2C%20-80.03461999999998%2C%201.0%5D%2C%20%5B38.75512%2C%20-79.93288000000003%2C%201.0%5D%2C%20%5B38.90822%2C%20-79.86085%2C%200.0%5D%2C%20%5B38.54559%2C%20-80.03702%2C%202.0%5D%2C%20%5B39.1835%2C%20-79.72854%2C%200.0%5D%2C%20%5B37.78447%2C%20-80.40145%2C%202.0%5D%2C%20%5B38.5507%2C%20-80.04025%2C%201.0%5D%2C%20%5B38.91419000000001%2C%20-79.8647%2C%201.0%5D%2C%20%5B37.6826%2C%20-80.45541999999998%2C%202.0%5D%2C%20%5B39.19744%2C%20-79.72887%2C%202.0%5D%2C%20%5B38.88514%2C%20-79.88325999999998%2C%200.0%5D%2C%20%5B38.97078%2C%20-79.84177%2C%202.0%5D%2C%20%5B38.73159%2C%20-79.95975%2C%201.0%5D%2C%20%5B38.9463%2C%20-79.85629%2C%201.0%5D%2C%20%5B38.38984%2C%20-80.12817%2C%200.0%5D%2C%20%5B39.03749000000001%2C%20-79.8154%2C%200.0%5D%2C%20%5B38.9541%2C%20-79.85749%2C%200.0%5D%2C%20%5B38.97792000000001%2C%20-79.84626%2C%200.0%5D%2C%20%5B39.58968%2C%20-79.54651%2C%201.0%5D%2C%20%5B38.70965%2C%20-79.97863000000002%2C%201.0%5D%2C%20%5B39.3495%2C%20-79.6681%2C%201.0%5D%2C%20%5B37.53621%2C%20-80.53888%2C%201.0%5D%2C%20%5B39.31936%2C%20-79.68798000000002%2C%201.0%5D%2C%20%5B38.61025%2C%20-80.0342%2C%201.0%5D%2C%20%5B38.6221%2C%20-80.03229%2C%200.0%5D%2C%20%5B39.0298%2C%20-79.83475%2C%202.0%5D%2C%20%5B39.58409%2C%20-79.56667%2C%201.0%5D%2C%20%5B38.94812%2C%20-79.88023000000003%2C%200.0%5D%2C%20%5B37.81671%2C%20-80.4278%2C%201.0%5D%2C%20%5B38.60399%2C%20-80.05484%2C%200.0%5D%2C%20%5B39.28521%2C%20-79.72779%2C%201.0%5D%2C%20%5B39.44512%2C%20-79.65404000000002%2C%201.0%5D%2C%20%5B37.80402%2C%20-80.45023%2C%201.0%5D%2C%20%5B37.69013%2C%20-80.50822%2C%201.0%5D%2C%20%5B38.74132%2C%20-79.68517%2C%200.0%5D%2C%20%5B38.83784%2C%20-79.6436%2C%200.0%5D%2C%20%5B39.15277%2C%20-79.49616999999998%2C%201.0%5D%2C%20%5B37.94948%2C%20-80.08325%2C%200.0%5D%2C%20%5B38.6339%2C%20-79.7604%2C%200.0%5D%2C%20%5B38.95863%2C%20-79.60569%2C%200.0%5D%2C%20%5B39.05249%2C%20-79.57588%2C%201.0%5D%2C%20%5B38.57673%2C%20-79.81475%2C%201.0%5D%2C%20%5B38.22683%2C%20-79.9845%2C%200.0%5D%2C%20%5B38.26424%2C%20-79.96987%2C%201.0%5D%2C%20%5B38.35792%2C%20-79.92727%2C%201.0%5D%2C%20%5B38.18732%2C%20-80.02126%2C%201.0%5D%2C%20%5B38.40818%2C%20-79.91915%2C%201.0%5D%2C%20%5B38.19779000000001%2C%20-80.02757%2C%200.0%5D%2C%20%5B38.80759000000001%2C%20-79.73777%2C%200.0%5D%2C%20%5B38.41112%2C%20-79.93313%2C%202.0%5D%2C%20%5B38.36833%2C%20-79.95533%2C%201.0%5D%2C%20%5B38.91199%2C%20-79.70571%2C%201.0%5D%2C%20%5B39.07479%2C%20-79.62848000000002%2C%200.0%5D%2C%20%5B38.90812%2C%20-79.72153%2C%201.0%5D%2C%20%5B38.66148%2C%20-79.84461999999998%2C%200.0%5D%2C%20%5B39.32683%2C%20-79.52251%2C%200.0%5D%2C%20%5B37.72344%2C%20-80.29774%2C%201.0%5D%2C%20%5B37.91625%2C%20-80.21091%2C%201.0%5D%2C%20%5B37.77004%2C%20-80.27994%2C%201.0%5D%2C%20%5B39.08802%2C%20-79.64953%2C%201.0%5D%2C%20%5B37.84607000000001%2C%20-80.24969%2C%201.0%5D%2C%20%5B39.41995%2C%20-79.49432%2C%200.0%5D%2C%20%5B39.42391%2C%20-79.49427%2C%200.0%5D%2C%20%5B37.80237%2C%20-80.28358%2C%201.0%5D%2C%20%5B37.8023%2C%20-80.2858%2C%201.0%5D%2C%20%5B37.79227%2C%20-80.29388%2C%200.0%5D%2C%20%5B39.09576%2C%20-79.66915999999998%2C%201.0%5D%2C%20%5B38.21923%2C%20-80.09459%2C%201.0%5D%2C%20%5B37.83037%2C%20-80.27919%2C%200.0%5D%2C%20%5B38.9827%2C%20-79.7297%2C%200.0%5D%2C%20%5B37.79396%2C%20-80.30068%2C%202.0%5D%2C%20%5B37.79806%2C%20-80.29996%2C%200.0%5D%2C%20%5B38.87454%2C%20-80.18954000000002%2C%200.0%5D%2C%20%5B39.09019%2C%20-80.08655999999998%2C%201.0%5D%2C%20%5B39.05376%2C%20-80.1115%2C%201.0%5D%2C%20%5B39.0183%2C%20-80.13013000000002%2C%201.0%5D%2C%20%5B39.17802%2C%20-80.05561%2C%201.0%5D%2C%20%5B37.68357%2C%20-80.77085%2C%201.0%5D%2C%20%5B39.0587%2C%20-80.12091%2C%202.0%5D%2C%20%5B38.22873%2C%20-80.5231%2C%201.0%5D%2C%20%5B38.25455%2C%20-80.51187%2C%201.0%5D%2C%20%5B39.33664%2C%20-79.99049000000002%2C%200.0%5D%2C%20%5B39.20897%2C%20-80.05396%2C%201.0%5D%2C%20%5B37.86745%2C%20-80.70082%2C%201.0%5D%2C%20%5B39.38112%2C%20-79.97466999999997%2C%200.0%5D%2C%20%5B39.38529000000001%2C%20-79.97431%2C%200.0%5D%2C%20%5B38.47888%2C%20-80.41638%2C%201.0%5D%2C%20%5B39.141%2C%20-80.1012%2C%200.0%5D%2C%20%5B39.24383%2C%20-80.05152%2C%201.0%5D%2C%20%5B38.4385%2C%20-80.44246%2C%201.0%5D%2C%20%5B37.59789%2C%20-80.83901999999998%2C%201.0%5D%2C%20%5B39.1149%2C%20-80.119%2C%201.0%5D%2C%20%5B39.71901%2C%20-79.82267%2C%201.0%5D%2C%20%5B39.14242%2C%20-80.10806%2C%201.0%5D%2C%20%5B38.37867%2C%20-80.48002%2C%201.0%5D%2C%20%5B39.6716%2C%20-79.8509%2C%201.0%5D%2C%20%5B39.14206%2C%20-80.11294000000002%2C%201.0%5D%2C%20%5B37.34594%2C%20-80.96641%2C%201.0%5D%2C%20%5B39.05963%2C%20-80.15491%2C%201.0%5D%2C%20%5B39.65868%2C%20-79.86398%2C%201.0%5D%2C%20%5B39.33775%2C%20-80.02288%2C%201.0%5D%2C%20%5B39.67097%2C%20-79.85906%2C%200.0%5D%2C%20%5B38.84155%2C%20-80.26691%2C%200.0%5D%2C%20%5B38.92894%2C%20-80.22689%2C%201.0%5D%2C%20%5B38.80037%2C%20-80.2914%2C%201.0%5D%2C%20%5B37.3269%2C%20-80.99%2C%202.0%5D%2C%20%5B39.50484%2C%20-79.64287%2C%202.0%5D%2C%20%5B39.58028%2C%20-79.60689%2C%201.0%5D%2C%20%5B38.68157%2C%20-80.05308000000002%2C%202.0%5D%2C%20%5B37.50374%2C%20-80.61288%2C%201.0%5D%2C%20%5B39.44998%2C%20-79.68127%2C%200.0%5D%2C%20%5B39.54952%2C%20-79.6325%2C%201.0%5D%2C%20%5B39.18663%2C%20-79.81541999999997%2C%201.0%5D%2C%20%5B38.00255%2C%20-80.38672%2C%201.0%5D%2C%20%5B37.51896%2C%20-80.61788%2C%202.0%5D%2C%20%5B37.52518%2C%20-80.61551999999998%2C%201.0%5D%2C%20%5B38.89992%2C%20-79.96599%2C%202.0%5D%2C%20%5B39.496%2C%20-79.6754%2C%201.0%5D%2C%20%5B38.93387%2C%20-79.95232%2C%200.0%5D%2C%20%5B39.11319%2C%20-79.86856999999998%2C%201.0%5D%2C%20%5B37.84567%2C%20-80.47963%2C%201.0%5D%2C%20%5B38.99854000000001%2C%20-80.2101%2C%201.0%5D%2C%20%5B37.78829%2C%20-80.78914%2C%201.0%5D%2C%20%5B37.78902%2C%20-80.78931999999998%2C%202.0%5D%2C%20%5B38.99981%2C%20-80.21345%2C%201.0%5D%2C%20%5B38.9334%2C%20-80.24582%2C%201.0%5D%2C%20%5B38.96836%2C%20-80.2301%2C%202.0%5D%2C%20%5B38.51804%2C%20-80.44792%2C%200.0%5D%2C%20%5B39.608%2C%20-79.91899000000002%2C%201.0%5D%2C%20%5B38.77912%2C%20-80.32543000000003%2C%200.0%5D%2C%20%5B39.30607%2C%20-80.07151%2C%201.0%5D%2C%20%5B38.64849%2C%20-80.39145%2C%201.0%5D%2C%20%5B39.61153%2C%20-79.92294%2C%201.0%5D%2C%20%5B39.58147%2C%20-79.93895%2C%201.0%5D%2C%20%5B39.60004%2C%20-79.93183%2C%200.0%5D%2C%20%5B39.1124%2C%20-80.1717%2C%200.0%5D%2C%20%5B38.9442%2C%20-80.25491%2C%201.0%5D%2C%20%5B39.6233%2C%20-79.92268%2C%201.0%5D%2C%20%5B39.62324%2C%20-79.92405%2C%200.0%5D%2C%20%5B39.59163%2C%20-79.94122%2C%200.0%5D%2C%20%5B39.59248%2C%20-79.94385%2C%202.0%5D%2C%20%5B39.56069%2C%20-79.95987%2C%200.0%5D%2C%20%5B39.6262%2C%20-79.9305%2C%200.0%5D%2C%20%5B38.99697000000001%2C%20-80.241%2C%201.0%5D%2C%20%5B37.80128%2C%20-80.81154000000002%2C%201.0%5D%2C%20%5B38.40402%2C%20-80.52888%2C%201.0%5D%2C%20%5B38.88559%2C%20-80.29791%2C%202.0%5D%2C%20%5B38.25706%2C%20-80.60155999999998%2C%201.0%5D%2C%20%5B37.95535%2C%20-80.74499%2C%201.0%5D%2C%20%5B38.57352%2C%20-80.4572%2C%200.0%5D%2C%20%5B39.65779000000001%2C%20-79.93224000000002%2C%201.0%5D%2C%20%5B39.53754%2C%20-79.99306999999997%2C%201.0%5D%2C%20%5B38.73007%2C%20-80.3876%2C%201.0%5D%2C%20%5B37.3101%2C%20-81.0573%2C%202.0%5D%2C%20%5B39.57892%2C%20-79.9756%2C%200.0%5D%2C%20%5B39.57835%2C%20-79.9762%2C%202.0%5D%2C%20%5B37.3132%2C%20-81.06000999999998%2C%201.0%5D%2C%20%5B37.31319000000001%2C%20-81.06033000000002%2C%201.0%5D%2C%20%5B39.62751%2C%20-79.9553%2C%201.0%5D%2C%20%5B37.4365%2C%20-81.00451%2C%201.0%5D%2C%20%5B39.5847%2C%20-79.9792%2C%201.0%5D%2C%20%5B39.6263%2C%20-79.9589%2C%200.0%5D%2C%20%5B38.09793%2C%20-80.69971%2C%202.0%5D%2C%20%5B38.87487%2C%20-80.32851%2C%201.0%5D%2C%20%5B39.52%2C%20-80.0156%2C%202.0%5D%2C%20%5B38.40853%2C%20-80.55558%2C%201.0%5D%2C%20%5B38.86993%2C%20-80.33416%2C%200.0%5D%2C%20%5B38.18173%2C%20-80.66615%2C%200.0%5D%2C%20%5B37.97385%2C%20-80.76489000000002%2C%202.0%5D%2C%20%5B39.6679%2C%20-79.9482%2C%200.0%5D%2C%20%5B37.37881%2C%20-81.04432%2C%201.0%5D%2C%20%5B38.47251%2C%20-80.53242%2C%200.0%5D%2C%20%5B37.89041%2C%20-80.81102%2C%200.0%5D%2C%20%5B39.45246%2C%20-80.06047%2C%201.0%5D%2C%20%5B37.36191%2C%20-81.06081999999998%2C%201.0%5D%2C%20%5B38.15511%2C%20-80.69112%2C%202.0%5D%2C%20%5B37.38675%2C%20-81.0543%2C%201.0%5D%2C%20%5B39.13358%2C%20-78.98201999999998%2C%201.0%5D%2C%20%5B39.39329%2C%20-78.85819000000002%2C%201.0%5D%2C%20%5B39.44324%2C%20-78.83744%2C%201.0%5D%2C%20%5B38.631%2C%20-79.24376%2C%201.0%5D%2C%20%5B39.43297000000001%2C%20-78.8529%2C%201.0%5D%2C%20%5B38.92282%2C%20-79.11276%2C%201.0%5D%2C%20%5B38.50971%2C%20-79.31846%2C%201.0%5D%2C%20%5B38.85875%2C%20-79.1549%2C%201.0%5D%2C%20%5B39.64864%2C%20-78.76585%2C%201.0%5D%2C%20%5B38.0741%2C%20-80.37708%2C%200.0%5D%2C%20%5B39.11851%2C%20-79.87495%2C%200.0%5D%2C%20%5B39.50987%2C%20-79.6924%2C%200.0%5D%2C%20%5B37.83255%2C%20-80.50468000000002%2C%200.0%5D%2C%20%5B38.96758%2C%20-79.96226999999998%2C%201.0%5D%2C%20%5B39.02554%2C%20-79.9369%2C%201.0%5D%2C%20%5B38.8259%2C%20-80.03473000000002%2C%201.0%5D%2C%20%5B39.07756%2C%20-79.91825%2C%201.0%5D%2C%20%5B39.63154%2C%20-79.64567%2C%201.0%5D%2C%20%5B39.6282%2C%20-79.6487%2C%200.0%5D%2C%20%5B37.43281%2C%20-80.70409000000002%2C%200.0%5D%2C%20%5B39.67665%2C%20-79.6262%2C%201.0%5D%2C%20%5B38.08273%2C%20-80.40198000000002%2C%201.0%5D%2C%20%5B37.42993%2C%20-80.70829%2C%201.0%5D%2C%20%5B39.65511%2C%20-79.64043000000002%2C%201.0%5D%2C%20%5B39.30351%2C%20-79.81572%2C%200.0%5D%2C%20%5B39.15939%2C%20-79.88818%2C%201.0%5D%2C%20%5B37.5407%2C%20-80.66364%2C%201.0%5D%2C%20%5B38.96007%2C%20-79.99054%2C%201.0%5D%2C%20%5B39.6562%2C%20-79.64921%2C%201.0%5D%2C%20%5B37.98961%2C%20-80.46019%2C%201.0%5D%2C%20%5B38.19132000000001%2C%20-80.36570999999998%2C%201.0%5D%2C%20%5B39.09405%2C%20-79.93538000000002%2C%201.0%5D%2C%20%5B37.66167%2C%20-80.62111999999998%2C%201.0%5D%2C%20%5B39.27828%2C%20-79.85047%2C%200.0%5D%2C%20%5B37.66487%2C%20-80.62418000000002%2C%201.0%5D%2C%20%5B39.27789%2C%20-79.85826999999998%2C%200.0%5D%2C%20%5B38.71581%2C%20-80.13305%2C%201.0%5D%2C%20%5B38.01696%2C%20-80.46973%2C%201.0%5D%2C%20%5B37.79534%2C%20-80.3017%2C%200.0%5D%2C%20%5B38.12316%2C%20-80.15111%2C%202.0%5D%2C%20%5B39.13733%2C%20-79.66364%2C%201.0%5D%2C%20%5B38.81054%2C%20-79.82643%2C%200.0%5D%2C%20%5B39.15517%2C%20-79.65948%2C%201.0%5D%2C%20%5B37.77848%2C%20-80.32595%2C%200.0%5D%2C%20%5B38.9743%2C%20-79.75291%2C%200.0%5D%2C%20%5B39.05063%2C%20-79.72061%2C%201.0%5D%2C%20%5B38.8818%2C%20-79.80539%2C%202.0%5D%2C%20%5B37.77064%2C%20-80.34168000000003%2C%201.0%5D%2C%20%5B38.12686%2C%20-80.17446%2C%201.0%5D%2C%20%5B38.88053%2C%20-79.81851999999998%2C%201.0%5D%2C%20%5B39.28376%2C%20-79.622%2C%202.0%5D%2C%20%5B37.77177%2C%20-80.35636%2C%201.0%5D%2C%20%5B37.77067%2C%20-80.36168%2C%201.0%5D%2C%20%5B37.77068%2C%20-80.36837%2C%201.0%5D%2C%20%5B38.66729%2C%20-79.94173%2C%200.0%5D%2C%20%5B37.37149%2C%20-81.06979%2C%201.0%5D%2C%20%5B37.3665%2C%20-81.0758%2C%201.0%5D%2C%20%5B37.84625%2C%20-80.8542%2C%201.0%5D%2C%20%5B38.95473%2C%20-80.32840999999998%2C%201.0%5D%2C%20%5B39.12533%2C%20-80.24639%2C%200.0%5D%2C%20%5B37.35997%2C%20-81.08598%2C%202.0%5D%2C%20%5B39.54923%2C%20-80.04166%2C%200.0%5D%2C%20%5B39.67887%2C%20-79.97833%2C%201.0%5D%2C%20%5B39.1012%2C%20-80.2628%2C%200.0%5D%2C%20%5B39.68295%2C%20-79.97898%2C%200.0%5D%2C%20%5B39.32252%2C%20-80.15697%2C%201.0%5D%2C%20%5B37.28432%2C%20-81.1258%2C%201.0%5D%2C%20%5B39.6395%2C%20-80.002%2C%200.0%5D%2C%20%5B39.5046%2C%20-80.0706%2C%202.0%5D%2C%20%5B38.48211%2C%20-80.56723000000002%2C%201.0%5D%2C%20%5B39.64186%2C%20-80.00425%2C%200.0%5D%2C%20%5B37.41149%2C%20-81.07127%2C%201.0%5D%2C%20%5B37.42653%2C%20-81.06560999999998%2C%201.0%5D%2C%20%5B39.55825%2C%20-80.0472%2C%201.0%5D%2C%20%5B39.69014%2C%20-79.98289%2C%202.0%5D%2C%20%5B39.33223%2C%20-80.03585%2C%201.0%5D%2C%20%5B37.35791%2C%20-80.97747%2C%200.0%5D%2C%20%5B38.74035%2C%20-80.32630999999998%2C%202.0%5D%2C%20%5B38.87531%2C%20-80.26417%2C%201.0%5D%2C%20%5B39.50328%2C%20-79.9578%2C%202.0%5D%2C%20%5B39.28126%2C%20-80.06860999999998%2C%200.0%5D%2C%20%5B38.5641%2C%20-80.41926%2C%201.0%5D%2C%20%5B39.05121%2C%20-80.35558%2C%200.0%5D%2C%20%5B39.52997%2C%20-80.12127%2C%200.0%5D%2C%20%5B39.69263%2C%20-80.04256%2C%201.0%5D%2C%20%5B39.49632%2C%20-80.14081999999998%2C%200.0%5D%2C%20%5B39.44305%2C%20-80.16825%2C%201.0%5D%2C%20%5B39.2972%2C%20-80.24%2C%201.0%5D%2C%20%5B39.36352%2C%20-80.20858%2C%200.0%5D%2C%20%5B38.4695%2C%20-80.64174%2C%201.0%5D%2C%20%5B39.28842%2C%20-80.24741999999998%2C%200.0%5D%2C%20%5B39.28826%2C%20-80.24785%2C%202.0%5D%2C%20%5B39.55324%2C%20-80.11891%2C%200.0%5D%2C%20%5B39.35424%2C%20-80.21736999999997%2C%200.0%5D%2C%20%5B39.55394%2C%20-80.11969%2C%200.0%5D%2C%20%5B37.40603%2C%20-81.14753%2C%201.0%5D%2C%20%5B39.39902%2C%20-80.19971%2C%202.0%5D%2C%20%5B39.28181%2C%20-80.25783%2C%202.0%5D%2C%20%5B37.92699%2C%20-80.90813%2C%201.0%5D%2C%20%5B39.4322%2C%20-80.1873%2C%201.0%5D%2C%20%5B37.76884%2C%20-80.98482%2C%201.0%5D%2C%20%5B39.40533%2C%20-80.20389%2C%201.0%5D%2C%20%5B39.60339000000001%2C%20-80.10694000000002%2C%200.0%5D%2C%20%5B39.41472%2C%20-80.20338000000002%2C%200.0%5D%2C%20%5B39.28944%2C%20-80.26566%2C%200.0%5D%2C%20%5B37.73626%2C%20-81.00954%2C%201.0%5D%2C%20%5B39.22739%2C%20-80.29848%2C%202.0%5D%2C%20%5B37.26907%2C%20-81.22678%2C%201.0%5D%2C%20%5B39.22896%2C%20-80.29861%2C%201.0%5D%2C%20%5B37.42577%2C%20-81.06775999999998%2C%201.0%5D%2C%20%5B39.61844%2C%20-80.02039%2C%202.0%5D%2C%20%5B37.35829%2C%20-81.10122%2C%201.0%5D%2C%20%5B37.34753%2C%20-81.10759%2C%202.0%5D%2C%20%5B38.49144%2C%20-80.57162%2C%201.0%5D%2C%20%5B38.49174%2C%20-80.57298%2C%201.0%5D%2C%20%5B39.66036%2C%20-80.00463%2C%200.0%5D%2C%20%5B39.48774%2C%20-80.09081%2C%200.0%5D%2C%20%5B39.21714%2C%20-80.22476999999998%2C%200.0%5D%2C%20%5B39.66019%2C%20-80.00891999999997%2C%200.0%5D%2C%20%5B39.06245%2C%20-80.30303%2C%200.0%5D%2C%20%5B39.56233%2C%20-80.06170999999998%2C%200.0%5D%2C%20%5B39.49679%2C%20-80.09467%2C%202.0%5D%2C%20%5B39.16294%2C%20-80.26135%2C%200.0%5D%2C%20%5B39.56406%2C%20-80.06461%2C%202.0%5D%2C%20%5B37.308%2C%20-81.14165%2C%201.0%5D%2C%20%5B38.78774%2C%20-80.44509000000002%2C%202.0%5D%2C%20%5B39.43635%2C%20-80.13046%2C%200.0%5D%2C%20%5B39.26909000000001%2C%20-80.21351999999997%2C%200.0%5D%2C%20%5B39.43562%2C%20-80.13306999999998%2C%201.0%5D%2C%20%5B37.32366%2C%20-81.13941%2C%201.0%5D%2C%20%5B39.44691%2C%20-80.12986%2C%200.0%5D%2C%20%5B37.27383%2C%20-81.16452%2C%201.0%5D%2C%20%5B39.5093%2C%20-80.1004%2C%200.0%5D%2C%20%5B38.85861%2C%20-80.42075%2C%201.0%5D%2C%20%5B37.32797%2C%20-81.14371%2C%200.0%5D%2C%20%5B39.6786%2C%20-80.0237%2C%201.0%5D%2C%20%5B38.5189%2C%20-80.5886%2C%202.0%5D%2C%20%5B39.22511%2C%20-80.2477%2C%200.0%5D%2C%20%5B39.56904%2C%20-80.07999000000002%2C%202.0%5D%2C%20%5B39.68213%2C%20-80.02507%2C%201.0%5D%2C%20%5B37.54329%2C%20-81.0531%2C%202.0%5D%2C%20%5B38.52103%2C%20-80.5939%2C%202.0%5D%2C%20%5B39.28244%2C%20-80.22643000000002%2C%201.0%5D%2C%20%5B39.60396%2C%20-80.06943000000003%2C%201.0%5D%2C%20%5B37.62732000000001%2C%20-81.01788%2C%201.0%5D%2C%20%5B37.43298%2C%20-81.11005%2C%201.0%5D%2C%20%5B38.82521%2C%20-80.45306%2C%200.0%5D%2C%20%5B37.50046%2C%20-80.71211%2C%201.0%5D%2C%20%5B37.97097%2C%20-80.49703000000002%2C%202.0%5D%2C%20%5B37.78274%2C%20-80.59248000000002%2C%201.0%5D%2C%20%5B39.6213%2C%20-79.705%2C%202.0%5D%2C%20%5B39.34316%2C%20-79.84532%2C%201.0%5D%2C%20%5B39.20716%2C%20-79.91471999999997%2C%201.0%5D%2C%20%5B38.2199%2C%20-80.39519%2C%202.0%5D%2C%20%5B39.29451%2C%20-79.87724%2C%201.0%5D%2C%20%5B37.73507%2C%20-80.62907%2C%201.0%5D%2C%20%5B37.39954%2C%20-80.79001%2C%200.0%5D%2C%20%5B37.39674%2C%20-80.7973%2C%201.0%5D%2C%20%5B37.76248%2C%20-80.6297%2C%201.0%5D%2C%20%5B39.3141%2C%20-79.8852%2C%202.0%5D%2C%20%5B37.40052%2C%20-80.80095%2C%201.0%5D%2C%20%5B39.15541%2C%20-79.96802%2C%201.0%5D%2C%20%5B39.65319%2C%20-79.72315%2C%200.0%5D%2C%20%5B39.09072000000001%2C%20-80.00154%2C%202.0%5D%2C%20%5B38.96224%2C%20-80.06553000000002%2C%201.0%5D%2C%20%5B38.97485%2C%20-80.062%2C%201.0%5D%2C%20%5B38.48393%2C%20-80.29955%2C%201.0%5D%2C%20%5B37.50616%2C%20-80.76484%2C%201.0%5D%2C%20%5B39.57%2C%20-79.7761%2C%202.0%5D%2C%20%5B38.73086%2C%20-80.18800999999998%2C%202.0%5D%2C%20%5B38.70579%2C%20-80.20136%2C%201.0%5D%2C%20%5B38.72817%2C%20-80.19452%2C%200.0%5D%2C%20%5B39.43808%2C%20-79.8483%2C%201.0%5D%2C%20%5B39.39944000000001%2C%20-79.86824%2C%200.0%5D%2C%20%5B39.40657%2C%20-79.86521%2C%201.0%5D%2C%20%5B39.39247%2C%20-79.87339%2C%202.0%5D%2C%20%5B38.85693%2C%20-80.13636%2C%201.0%5D%2C%20%5B39.5256%2C%20-79.81185%2C%202.0%5D%2C%20%5B39.56265%2C%20-79.79708000000002%2C%202.0%5D%2C%20%5B39.27565%2C%20-80.32193000000002%2C%201.0%5D%2C%20%5B39.55769%2C%20-80.18347%2C%201.0%5D%2C%20%5B39.25778%2C%20-80.28645999999998%2C%201.0%5D%2C%20%5B39.50586%2C%20-80.1681%2C%201.0%5D%2C%20%5B39.01072%2C%20-80.41028%2C%200.0%5D%2C%20%5B39.42675%2C%20-80.20936999999998%2C%200.0%5D%2C%20%5B38.88053%2C%20-80.4762%2C%200.0%5D%2C%20%5B38.92252%2C%20-80.4578%2C%201.0%5D%2C%20%5B37.26476%2C%20-81.24014%2C%201.0%5D%2C%20%5B39.2983%2C%20-80.279%2C%200.0%5D%2C%20%5B39.18815%2C%20-80.33313000000003%2C%201.0%5D%2C%20%5B38.1412%2C%20-80.83719%2C%202.0%5D%2C%20%5B39.15889%2C%20-80.34946%2C%201.0%5D%2C%20%5B39.17259%2C%20-80.34423000000002%2C%201.0%5D%2C%20%5B38.02377%2C%20-80.89479%2C%202.0%5D%2C%20%5B39.2626%2C%20-80.3016%2C%200.0%5D%2C%20%5B39.16192%2C%20-80.35354%2C%202.0%5D%2C%20%5B39.08897%2C%20-80.38922%2C%202.0%5D%2C%20%5B39.06735%2C%20-80.40386%2C%201.0%5D%2C%20%5B39.31449%2C%20-80.28358%2C%200.0%5D%2C%20%5B37.87349%2C%20-80.97442%2C%200.0%5D%2C%20%5B39.02172%2C%20-80.42769%2C%201.0%5D%2C%20%5B39.0217%2C%20-80.42775%2C%201.0%5D%2C%20%5B39.01853%2C%20-80.42999%2C%202.0%5D%2C%20%5B39.10249%2C%20-80.38996%2C%201.0%5D%2C%20%5B39.46019%2C%20-80.21611%2C%202.0%5D%2C%20%5B39.25187%2C%20-80.3186%2C%201.0%5D%2C%20%5B39.10431%2C%20-80.39206%2C%201.0%5D%2C%20%5B37.85988%2C%20-80.98719%2C%201.0%5D%2C%20%5B39.12207%2C%20-80.38665%2C%202.0%5D%2C%20%5B39.6724%2C%20-80.11771%2C%200.0%5D%2C%20%5B39.58516%2C%20-80.1629%2C%200.0%5D%2C%20%5B39.16652%2C%20-80.3684%2C%201.0%5D%2C%20%5B39.10613%2C%20-80.39915%2C%200.0%5D%2C%20%5B38.07776%2C%20-80.89188%2C%200.0%5D%2C%20%5B39.2769%2C%20-80.31787%2C%201.0%5D%2C%20%5B39.2716%2C%20-80.3213%2C%202.0%5D%2C%20%5B39.40366%2C%20-80.4128%2C%201.0%5D%2C%20%5B39.3406%2C%20-80.44483000000002%2C%200.0%5D%2C%20%5B38.69238%2C%20-80.76092%2C%200.0%5D%2C%20%5B38.34221%2C%20-80.68578000000002%2C%200.0%5D%2C%20%5B37.55803%2C%20-81.05490999999998%2C%201.0%5D%2C%20%5B39.5308%2C%20-80.11599%2C%201.0%5D%2C%20%5B38.90383%2C%20-80.42246%2C%201.0%5D%2C%20%5B39.19939%2C%20-80.28090999999998%2C%200.0%5D%2C%20%5B39.09285%2C%20-80.4781%2C%200.0%5D%2C%20%5B39.58636%2C%20-80.23673000000002%2C%200.0%5D%2C%20%5B38.76292%2C%20-80.63956%2C%200.0%5D%2C%20%5B38.3679%2C%20-80.82856%2C%200.0%5D%2C%20%5B39.68386%2C%20-80.19219%2C%201.0%5D%2C%20%5B39.06795%2C%20-80.49419%2C%200.0%5D%2C%20%5B38.77048%2C%20-80.63943%2C%201.0%5D%2C%20%5B39.26126%2C%20-80.40195%2C%200.0%5D%2C%20%5B39.1635%2C%20-80.452%2C%202.0%5D%2C%20%5B37.30879%2C%20-81.32965%2C%200.0%5D%2C%20%5B38.65933%2C%20-80.6973%2C%201.0%5D%2C%20%5B39.59222000000001%2C%20-80.24635%2C%201.0%5D%2C%20%5B39.59253%2C%20-80.24656%2C%200.0%5D%2C%20%5B38.04025%2C%20-80.99679%2C%202.0%5D%2C%20%5B37.76703%2C%20-81.12458000000002%2C%201.0%5D%2C%20%5B39.36348%2C%20-80.36434%2C%202.0%5D%2C%20%5B39.02818%2C%20-80.52848%2C%201.0%5D%2C%20%5B37.75036%2C%20-81.13884%2C%201.0%5D%2C%20%5B39.45148%2C%20-80.32574%2C%200.0%5D%2C%20%5B38.80275%2C%20-80.6441%2C%201.0%5D%2C%20%5B38.51695%2C%20-80.78242%2C%202.0%5D%2C%20%5B38.66138%2C%20-80.7151%2C%201.0%5D%2C%20%5B39.5467%2C%20-80.2854%2C%200.0%5D%2C%20%5B39.51644%2C%20-80.30425%2C%201.0%5D%2C%20%5B37.93676%2C%20-81.06318%2C%201.0%5D%2C%20%5B37.76183%2C%20-81.14665%2C%201.0%5D%2C%20%5B39.5207%2C%20-80.3055%2C%200.0%5D%2C%20%5B39.72002%2C%20-80.20813000000003%2C%201.0%5D%2C%20%5B38.67403%2C%20-80.71847%2C%202.0%5D%2C%20%5B39.464%2C%20-80.3397%2C%200.0%5D%2C%20%5B37.75709000000001%2C%20-81.15673000000002%2C%202.0%5D%2C%20%5B38.66428%2C%20-80.73082%2C%202.0%5D%2C%20%5B38.17286%2C%20-80.6874%2C%201.0%5D%2C%20%5B39.66979%2C%20-79.96441%2C%201.0%5D%2C%20%5B39.26814%2C%20-80.16293%2C%202.0%5D%2C%20%5B38.23092000000001%2C%20-80.66404%2C%201.0%5D%2C%20%5B39.6268%2C%20-79.98862%2C%202.0%5D%2C%20%5B38.02214%2C%20-80.7639%2C%201.0%5D%2C%20%5B39.66495%2C%20-80.35008%2C%200.0%5D%2C%20%5B38.87171%2C%20-80.73858%2C%201.0%5D%2C%20%5B38.60768%2C%20-80.86764000000002%2C%201.0%5D%2C%20%5B37.4201%2C%20-81.42432%2C%201.0%5D%2C%20%5B39.19077%2C%20-80.5874%2C%201.0%5D%2C%20%5B38.13162%2C%20-81.0942%2C%201.0%5D%2C%20%5B37.41547%2C%20-81.42917%2C%201.0%5D%2C%20%5B37.58894%2C%20-81.34937%2C%202.0%5D%2C%20%5B37.60308%2C%20-81.34397%2C%201.0%5D%2C%20%5B39.52866%2C%20-80.42673%2C%201.0%5D%2C%20%5B37.5734%2C%20-81.35923000000003%2C%201.0%5D%2C%20%5B39.6791%2C%20-80.3535%2C%201.0%5D%2C%20%5B38.13491%2C%20-81.1007%2C%200.0%5D%2C%20%5B37.41507%2C%20-81.43547%2C%202.0%5D%2C%20%5B39.4094%2C%20-80.4905%2C%202.0%5D%2C%20%5B39.27644%2C%20-80.55694%2C%200.0%5D%2C%20%5B37.80582%2C%20-81.25771999999998%2C%201.0%5D%2C%20%5B39.36454000000001%2C%20-80.51501999999998%2C%201.0%5D%2C%20%5B39.02952%2C%20-80.6791%2C%202.0%5D%2C%20%5B37.33394000000001%2C%20-81.48147%2C%201.0%5D%2C%20%5B39.37447%2C%20-80.5153%2C%200.0%5D%2C%20%5B37.41552%2C%20-81.44508%2C%202.0%5D%2C%20%5B39.23009%2C%20-80.58813%2C%202.0%5D%2C%20%5B37.7291%2C%20-81.30351%2C%201.0%5D%2C%20%5B37.41588%2C%20-81.45109000000002%2C%201.0%5D%2C%20%5B37.57443%2C%20-81.37934%2C%201.0%5D%2C%20%5B37.74011%2C%20-81.30505%2C%201.0%5D%2C%20%5B37.49029%2C%20-81.42172%2C%201.0%5D%2C%20%5B37.58554%2C%20-81.38%2C%202.0%5D%2C%20%5B39.04107%2C%20-80.43901%2C%201.0%5D%2C%20%5B39.10951%2C%20-80.40666%2C%201.0%5D%2C%20%5B39.71503%2C%20-80.1106%2C%200.0%5D%2C%20%5B39.28029%2C%20-80.32526999999997%2C%201.0%5D%2C%20%5B37.62738%2C%20-81.11429%2C%201.0%5D%2C%20%5B37.61501%2C%20-81.12011%2C%201.0%5D%2C%20%5B37.62747%2C%20-81.11563000000002%2C%201.0%5D%2C%20%5B37.37755%2C%20-81.23167%2C%202.0%5D%2C%20%5B39.03628%2C%20-80.44861999999998%2C%202.0%5D%2C%20%5B39.27951%2C%20-80.33031%2C%201.0%5D%2C%20%5B38.00294%2C%20-80.94407%2C%200.0%5D%2C%20%5B38.4674%2C%20-80.72454%2C%201.0%5D%2C%20%5B39.27965%2C%20-80.33459%2C%202.0%5D%2C%20%5B38.06678%2C%20-80.91745999999998%2C%201.0%5D%2C%20%5B39.23833%2C%20-80.35745%2C%202.0%5D%2C%20%5B38.73951%2C%20-80.59928000000002%2C%201.0%5D%2C%20%5B37.35392%2C%20-81.25334000000002%2C%202.0%5D%2C%20%5B39.46086%2C%20-80.25194%2C%202.0%5D%2C%20%5B39.01434%2C%20-80.47162%2C%201.0%5D%2C%20%5B39.01457%2C%20-80.47176999999998%2C%201.0%5D%2C%20%5B39.18559000000001%2C%20-80.39010999999998%2C%201.0%5D%2C%20%5B38.61235%2C%20-80.66844%2C%202.0%5D%2C%20%5B39.04336%2C%20-80.46212%2C%202.0%5D%2C%20%5B39.34709%2C%20-80.31501999999998%2C%200.0%5D%2C%20%5B39.04149%2C%20-80.46525%2C%202.0%5D%2C%20%5B39.21078%2C%20-80.38369%2C%201.0%5D%2C%20%5B39.02926%2C%20-80.4741%2C%201.0%5D%2C%20%5B39.45209000000001%2C%20-80.26858%2C%202.0%5D%2C%20%5B37.75518%2C%20-81.08096%2C%200.0%5D%2C%20%5B38.76561%2C%20-80.60387%2C%202.0%5D%2C%20%5B39.44442%2C%20-80.27468%2C%202.0%5D%2C%20%5B39.36445%2C%20-80.31436%2C%200.0%5D%2C%20%5B39.26774%2C%20-80.36189%2C%201.0%5D%2C%20%5B39.28816%2C%20-80.35287%2C%201.0%5D%2C%20%5B39.57215%2C%20-80.21454%2C%202.0%5D%2C%20%5B39.67514%2C%20-80.16428%2C%202.0%5D%2C%20%5B38.57446%2C%20-80.70165%2C%202.0%5D%2C%20%5B37.77385%2C%20-81.19479%2C%202.0%5D%2C%20%5B39.44918%2C%20-80.39675%2C%202.0%5D%2C%20%5B38.28006%2C%20-80.962%2C%200.0%5D%2C%20%5B37.5743%2C%20-81.2931%2C%201.0%5D%2C%20%5B37.29244%2C%20-81.42532%2C%202.0%5D%2C%20%5B39.32168%2C%20-80.46539%2C%200.0%5D%2C%20%5B37.75993%2C%20-81.21096%2C%202.0%5D%2C%20%5B39.32225%2C%20-80.4662%2C%202.0%5D%2C%20%5B39.571%2C%20-80.34626999999998%2C%200.0%5D%2C%20%5B37.88287%2C%20-81.15643%2C%201.0%5D%2C%20%5B37.40276%2C%20-81.37999%2C%201.0%5D%2C%20%5B37.62933%2C%20-81.27618000000002%2C%202.0%5D%2C%20%5B39.37942%2C%20-80.44328%2C%201.0%5D%2C%20%5B37.97511%2C%20-81.11624%2C%202.0%5D%2C%20%5B39.29374%2C%20-80.48747%2C%202.0%5D%2C%20%5B39.28925%2C%20-80.49021%2C%202.0%5D%2C%20%5B37.97567%2C%20-81.11938%2C%200.0%5D%2C%20%5B38.0839%2C%20-81.06883%2C%201.0%5D%2C%20%5B38.96916%2C%20-80.64882%2C%202.0%5D%2C%20%5B38.25809%2C%20-80.98913%2C%202.0%5D%2C%20%5B37.50473%2C%20-81.34208000000002%2C%201.0%5D%2C%20%5B37.89681%2C%20-81.16043%2C%200.0%5D%2C%20%5B37.30566%2C%20-81.43481%2C%201.0%5D%2C%20%5B37.89045%2C%20-81.16465%2C%201.0%5D%2C%20%5B39.03248%2C%20-80.62342%2C%200.0%5D%2C%20%5B39.09752%2C%20-80.59218%2C%201.0%5D%2C%20%5B39.30478%2C%20-80.492%2C%200.0%5D%2C%20%5B37.89457%2C%20-81.16636%2C%201.0%5D%2C%20%5B37.41396%2C%20-81.38961%2C%202.0%5D%2C%20%5B39.70251%2C%20-80.30017%2C%200.0%5D%2C%20%5B37.60802%2C%20-81.30334%2C%201.0%5D%2C%20%5B37.88992%2C%20-81.17362%2C%201.0%5D%2C%20%5B37.62986%2C%20-81.2946%2C%201.0%5D%2C%20%5B37.60845%2C%20-81.30467%2C%202.0%5D%2C%20%5B37.88941%2C%20-81.17488%2C%201.0%5D%2C%20%5B39.27784000000001%2C%20-80.51246%2C%201.0%5D%2C%20%5B38.27029%2C%20-80.99851%2C%200.0%5D%2C%20%5B37.41895%2C%20-81.24428%2C%201.0%5D%2C%20%5B39.04614%2C%20-80.47543%2C%201.0%5D%2C%20%5B39.66481%2C%20-80.1731%2C%201.0%5D%2C%20%5B39.45926%2C%20-80.27466%2C%201.0%5D%2C%20%5B38.36302%2C%20-80.80541%2C%202.0%5D%2C%20%5B37.6816%2C%20-81.12554%2C%201.0%5D%2C%20%5B38.57857%2C%20-80.70551%2C%201.0%5D%2C%20%5B39.12702%2C%20-80.44149%2C%200.0%5D%2C%20%5B38.76864000000001%2C%20-80.6162%2C%201.0%5D%2C%20%5B37.33569%2C%20-81.29087%2C%202.0%5D%2C%20%5B39.11326%2C%20-80.45192%2C%201.0%5D%2C%20%5B37.4209%2C%20-81.2535%2C%202.0%5D%2C%20%5B37.43257%2C%20-81.25182%2C%201.0%5D%2C%20%5B37.43061%2C%20-81.25319%2C%202.0%5D%2C%20%5B38.50245%2C%20-80.75216999999998%2C%200.0%5D%2C%20%5B38.50033%2C%20-80.75443%2C%201.0%5D%2C%20%5B38.50057%2C%20-80.75533%2C%201.0%5D%2C%20%5B39.58101%2C%20-80.23151999999997%2C%200.0%5D%2C%20%5B37.30637%2C%20-81.3147%2C%200.0%5D%2C%20%5B39.22637%2C%20-80.40678%2C%202.0%5D%2C%20%5B39.4165%2C%20-80.31456999999997%2C%200.0%5D%2C%20%5B39.54031%2C%20-80.25525999999998%2C%202.0%5D%2C%20%5B37.38542%2C%20-81.28249%2C%201.0%5D%2C%20%5B38.15061%2C%20-80.92723000000002%2C%201.0%5D%2C%20%5B38.2122%2C%20-81.1337%2C%200.0%5D%2C%20%5B38.58105%2C%20-80.95934%2C%202.0%5D%2C%20%5B38.21013%2C%20-81.13832%2C%201.0%5D%2C%20%5B38.38067%2C%20-81.05875999999998%2C%200.0%5D%2C%20%5B38.8681%2C%20-80.82897%2C%201.0%5D%2C%20%5B37.42909%2C%20-81.50572%2C%201.0%5D%2C%20%5B37.79955%2C%20-81.33644%2C%201.0%5D%2C%20%5B37.97153%2C%20-81.25653%2C%201.0%5D%2C%20%5B38.69055%2C%20-80.92058%2C%201.0%5D%2C%20%5B39.2114%2C%20-80.67%2C%201.0%5D%2C%20%5B38.86184%2C%20-80.83969%2C%201.0%5D%2C%20%5B38.70246%2C%20-80.917%2C%202.0%5D%2C%20%5B39.29341%2C%20-80.63261999999997%2C%201.0%5D%2C%20%5B37.59441%2C%20-81.37781%2C%201.0%5D%2C%20%5B39.04194%2C%20-80.69445%2C%202.0%5D%2C%20%5B37.59581%2C%20-81.37868%2C%201.0%5D%2C%20%5B38.45073%2C%20-80.98078000000002%2C%201.0%5D%2C%20%5B38.19879%2C%20-81.10044%2C%201.0%5D%2C%20%5B38.46542%2C%20-80.97521%2C%201.0%5D%2C%20%5B37.59921%2C%20-81.38117%2C%202.0%5D%2C%20%5B37.85291%2C%20-81.26378000000003%2C%201.0%5D%2C%20%5B37.75373%2C%20-81.31188%2C%201.0%5D%2C%20%5B39.17271%2C%20-80.63866999999998%2C%200.0%5D%2C%20%5B38.09814%2C%20-81.1541%2C%201.0%5D%2C%20%5B38.10707%2C%20-81.15127%2C%201.0%5D%2C%20%5B37.8721%2C%20-81.26266%2C%201.0%5D%2C%20%5B38.67953%2C%20-80.88163%2C%200.0%5D%2C%20%5B37.76164%2C%20-81.31749%2C%201.0%5D%2C%20%5B38.202%2C%20-81.1131%2C%201.0%5D%2C%20%5B37.76758%2C%20-81.3187%2C%201.0%5D%2C%20%5B38.13481%2C%20-81.14763%2C%200.0%5D%2C%20%5B38.1937%2C%20-81.1232%2C%200.0%5D%2C%20%5B38.1934%2C%20-81.124%2C%201.0%5D%2C%20%5B37.36642%2C%20-81.51097%2C%202.0%5D%2C%20%5B37.90361%2C%20-81.26258%2C%202.0%5D%2C%20%5B39.19403%2C%20-80.6494%2C%202.0%5D%2C%20%5B38.2111%2C%20-81.12%2C%200.0%5D%2C%20%5B39.36213%2C%20-80.57018000000002%2C%200.0%5D%2C%20%5B39.08506%2C%20-80.70522%2C%201.0%5D%2C%20%5B38.91731%2C%20-80.78971999999997%2C%201.0%5D%2C%20%5B38.92842%2C%20-80.78645999999998%2C%201.0%5D%2C%20%5B39.36005%2C%20-80.57923000000002%2C%202.0%5D%2C%20%5B37.93085%2C%20-81.26221%2C%201.0%5D%2C%20%5B39.47169%2C%20-80.52637%2C%200.0%5D%2C%20%5B39.01564000000001%2C%20-80.74842%2C%200.0%5D%2C%20%5B38.35123%2C%20-81.14106%2C%200.0%5D%2C%20%5B38.47589%2C%20-81.08236%2C%201.0%5D%2C%20%5B37.8286%2C%20-81.38835%2C%202.0%5D%2C%20%5B39.24291%2C%20-80.71795999999998%2C%201.0%5D%2C%20%5B38.2508%2C%20-81.1931%2C%201.0%5D%2C%20%5B38.65087%2C%20-80.7377%2C%201.0%5D%2C%20%5B37.76775%2C%20-81.1566%2C%201.0%5D%2C%20%5B38.61763%2C%20-80.7567%2C%202.0%5D%2C%20%5B39.5553%2C%20-80.303%2C%200.0%5D%2C%20%5B39.1499%2C%20-80.5033%2C%200.0%5D%2C%20%5B39.33381%2C%20-80.41679%2C%202.0%5D%2C%20%5B37.95349%2C%20-81.07775%2C%201.0%5D%2C%20%5B38.30005%2C%20-80.91588%2C%201.0%5D%2C%20%5B37.95606%2C%20-81.07894%2C%202.0%5D%2C%20%5B38.6819%2C%20-80.73639%2C%201.0%5D%2C%20%5B38.11648%2C%20-81.00513000000002%2C%202.0%5D%2C%20%5B39.52386%2C%20-80.3322%2C%200.0%5D%2C%20%5B38.86122%2C%20-80.65543000000002%2C%201.0%5D%2C%20%5B37.73103%2C%20-81.19338%2C%201.0%5D%2C%20%5B38.84926%2C%20-80.66489%2C%201.0%5D%2C%20%5B37.74298%2C%20-81.19046999999998%2C%201.0%5D%2C%20%5B38.81807%2C%20-80.68587%2C%201.0%5D%2C%20%5B37.40813%2C%20-81.34940999999998%2C%202.0%5D%2C%20%5B39.67744%2C%20-80.2681%2C%201.0%5D%2C%20%5B39.52571%2C%20-80.34368%2C%200.0%5D%2C%20%5B39.70313%2C%20-80.25758%2C%202.0%5D%2C%20%5B39.53059%2C%20-80.34396%2C%200.0%5D%2C%20%5B39.0897%2C%20-80.56192%2C%201.0%5D%2C%20%5B37.92773%2C%20-81.11605%2C%200.0%5D%2C%20%5B38.81436%2C%20-80.69648000000002%2C%200.0%5D%2C%20%5B39.04267%2C%20-80.89525%2C%201.0%5D%2C%20%5B38.5007%2C%20-81.15545999999998%2C%200.0%5D%2C%20%5B38.18099%2C%20-81.30708%2C%200.0%5D%2C%20%5B38.49166%2C%20-81.1626%2C%202.0%5D%2C%20%5B38.5212%2C%20-81.149%2C%200.0%5D%2C%20%5B37.86073%2C%20-81.46335%2C%201.0%5D%2C%20%5B38.50928%2C%20-81.1598%2C%200.0%5D%2C%20%5B39.68387%2C%20-80.50478000000003%2C%202.0%5D%2C%20%5B39.39896%2C%20-80.64564%2C%200.0%5D%2C%20%5B39.68621%2C%20-80.50737%2C%201.0%5D%2C%20%5B39.2837%2C%20-80.7052%2C%202.0%5D%2C%20%5B37.41709%2C%20-81.58999%2C%201.0%5D%2C%20%5B37.43211%2C%20-81.58319%2C%201.0%5D%2C%20%5B37.42933%2C%20-81.58591%2C%200.0%5D%2C%20%5B37.43057%2C%20-81.58553%2C%201.0%5D%2C%20%5B38.59617%2C%20-81.04241%2C%201.0%5D%2C%20%5B37.43445%2C%20-81.58593%2C%202.0%5D%2C%20%5B39.04623%2C%20-80.83061%2C%200.0%5D%2C%20%5B38.76965%2C%20-80.96463%2C%201.0%5D%2C%20%5B38.76321%2C%20-80.96929%2C%201.0%5D%2C%20%5B37.99304%2C%20-81.33498%2C%201.0%5D%2C%20%5B39.70131%2C%20-80.51706%2C%200.0%5D%2C%20%5B37.44142%2C%20-81.59366%2C%201.0%5D%2C%20%5B37.57459%2C%20-81.53531%2C%201.0%5D%2C%20%5B37.58575%2C%20-81.5319%2C%202.0%5D%2C%20%5B37.44135%2C%20-81.59975%2C%201.0%5D%2C%20%5B39.70457%2C%20-80.52336%2C%201.0%5D%2C%20%5B37.99892%2C%20-81.34300999999998%2C%201.0%5D%2C%20%5B37.58322%2C%20-81.53726999999998%2C%201.0%5D%2C%20%5B37.9979%2C%20-81.34512%2C%202.0%5D%2C%20%5B39.49161%2C%20-80.63503%2C%202.0%5D%2C%20%5B38.37737%2C%20-81.17211999999998%2C%200.0%5D%2C%20%5B39.70766%2C%20-80.53262%2C%200.0%5D%2C%20%5B38.08686%2C%20-81.31255999999998%2C%201.0%5D%2C%20%5B37.51281%2C%20-81.57919%2C%201.0%5D%2C%20%5B37.8321%2C%20-81.433%2C%201.0%5D%2C%20%5B38.26441%2C%20-81.23089%2C%202.0%5D%2C%20%5B37.51569%2C%20-81.58064%2C%202.0%5D%2C%20%5B37.30269000000001%2C%20-81.67958%2C%201.0%5D%2C%20%5B38.7157%2C%20-81.02147%2C%202.0%5D%2C%20%5B38.14472%2C%20-81.29252%2C%201.0%5D%2C%20%5B38.0186%2C%20-81.35283000000003%2C%201.0%5D%2C%20%5B38.97675%2C%20-80.89831%2C%200.0%5D%2C%20%5B38.09551%2C%20-81.32066%2C%200.0%5D%2C%20%5B37.60546%2C%20-81.30996999999998%2C%202.0%5D%2C%20%5B39.38997%2C%20-80.4614%2C%201.0%5D%2C%20%5B37.85091%2C%20-81.19715%2C%202.0%5D%2C%20%5B37.33521%2C%20-81.43573%2C%201.0%5D%2C%20%5B37.3855%2C%20-81.41304000000002%2C%201.0%5D%2C%20%5B37.60301%2C%20-81.31331%2C%202.0%5D%2C%20%5B37.58005%2C%20-81.3268%2C%201.0%5D%2C%20%5B39.5854%2C%20-80.3699%2C%201.0%5D%2C%20%5B38.44759000000001%2C%20-80.92165%2C%200.0%5D%2C%20%5B39.5188%2C%20-80.4051%2C%200.0%5D%2C%20%5B37.4185%2C%20-81.40387%2C%201.0%5D%2C%20%5B38.00745%2C%20-81.13231999999998%2C%201.0%5D%2C%20%5B37.9862%2C%20-81.1441%2C%201.0%5D%2C%20%5B38.62091%2C%20-80.84409000000002%2C%201.0%5D%2C%20%5B37.42051%2C%20-81.40884%2C%201.0%5D%2C%20%5B37.67996%2C%20-81.28983000000002%2C%202.0%5D%2C%20%5B39.5194%2C%20-80.41317%2C%201.0%5D%2C%20%5B39.67469000000001%2C%20-80.33764000000002%2C%200.0%5D%2C%20%5B37.5231%2C%20-81.36703%2C%201.0%5D%2C%20%5B37.83794%2C%20-81.22196%2C%201.0%5D%2C%20%5B37.42279%2C%20-81.41633%2C%201.0%5D%2C%20%5B38.15736%2C%20-81.40656%2C%200.0%5D%2C%20%5B39.8348%2C%20-80.60033%2C%202.0%5D%2C%20%5B38.26425%2C%20-81.35902%2C%202.0%5D%2C%20%5B39.5599%2C%20-80.7372%2C%200.0%5D%2C%20%5B38.26464%2C%20-81.36107%2C%200.0%5D%2C%20%5B39.46628%2C%20-80.78778%2C%202.0%5D%2C%20%5B39.62625%2C%20-80.71218%2C%202.0%5D%2C%20%5B38.45184%2C%20-81.27925%2C%200.0%5D%2C%20%5B39.27386%2C%20-80.88828000000002%2C%200.0%5D%2C%20%5B39.62059%2C%20-80.72054%2C%202.0%5D%2C%20%5B39.44338%2C%20-80.81013%2C%201.0%5D%2C%20%5B37.32061%2C%20-81.81284000000002%2C%201.0%5D%2C%20%5B38.4604%2C%20-81.28520999999998%2C%200.0%5D%2C%20%5B38.78829%2C%20-81.13024%2C%201.0%5D%2C%20%5B37.35365%2C%20-81.8018%2C%201.0%5D%2C%20%5B37.80659%2C%20-81.34087%2C%201.0%5D%2C%20%5B38.61875%2C%20-80.96073%2C%201.0%5D%2C%20%5B38.39133%2C%20-81.06929000000002%2C%202.0%5D%2C%20%5B39.02284%2C%20-80.77089000000002%2C%201.0%5D%2C%20%5B38.2823%2C%20-81.1247%2C%200.0%5D%2C%20%5B39.02245%2C%20-80.77207%2C%202.0%5D%2C%20%5B39.39697%2C%20-80.59017%2C%202.0%5D%2C%20%5B39.03799%2C%20-80.76544%2C%201.0%5D%2C%20%5B39.39111%2C%20-80.59436%2C%200.0%5D%2C%20%5B38.71643%2C%20-80.92426999999998%2C%202.0%5D%2C%20%5B39.26665%2C%20-80.65899999999998%2C%201.0%5D%2C%20%5B37.58821%2C%20-81.45767%2C%201.0%5D%2C%20%5B39.02531%2C%20-80.77951%2C%202.0%5D%2C%20%5B38.07528%2C%20-81.23250999999998%2C%201.0%5D%2C%20%5B38.2042%2C%20-81.1738%2C%200.0%5D%2C%20%5B37.5924%2C%20-81.45924000000002%2C%201.0%5D%2C%20%5B37.20635%2C%20-81.6372%2C%202.0%5D%2C%20%5B38.98945%2C%20-80.80107%2C%201.0%5D%2C%20%5B38.16287%2C%20-81.19594000000002%2C%201.0%5D%2C%20%5B38.1414%2C%20-81.20699%2C%201.0%5D%2C%20%5B38.2779%2C%20-81.14389%2C%200.0%5D%2C%20%5B39.49521%2C%20-80.56019%2C%201.0%5D%2C%20%5B37.22496%2C%20-81.63474000000002%2C%201.0%5D%2C%20%5B38.10116%2C%20-81.23043%2C%200.0%5D%2C%20%5B39.50076%2C%20-80.55922%2C%200.0%5D%2C%20%5B39.49853%2C%20-80.56262%2C%202.0%5D%2C%20%5B39.66029%2C%20-80.48475%2C%200.0%5D%2C%20%5B39.6908%2C%20-80.47023%2C%200.0%5D%2C%20%5B37.266%2C%20-81.62343%2C%202.0%5D%2C%20%5B38.81602%2C%20-80.8982%2C%201.0%5D%2C%20%5B38.03307%2C%20-81.27044000000002%2C%201.0%5D%2C%20%5B37.71162%2C%20-81.42067%2C%202.0%5D%2C%20%5B38.73777000000001%2C%20-80.93898%2C%201.0%5D%2C%20%5B39.27994%2C%20-80.67744%2C%201.0%5D%2C%20%5B37.98063%2C%20-81.29932%2C%201.0%5D%2C%20%5B38.10041%2C%20-81.24347%2C%200.0%5D%2C%20%5B38.08585%2C%20-81.2527%2C%201.0%5D%2C%20%5B38.5679%2C%20-81.13316999999998%2C%201.0%5D%2C%20%5B38.73208%2C%20-81.05503%2C%200.0%5D%2C%20%5B39.57988%2C%20-80.64524%2C%200.0%5D%2C%20%5B38.18151%2C%20-81.31721%2C%201.0%5D%2C%20%5B39.01063%2C%20-80.92551%2C%201.0%5D%2C%20%5B38.1543%2C%20-81.3336%2C%201.0%5D%2C%20%5B37.67062%2C%20-81.56121999999998%2C%201.0%5D%2C%20%5B38.16604%2C%20-81.33086999999998%2C%200.0%5D%2C%20%5B38.99443%2C%20-80.93782%2C%201.0%5D%2C%20%5B37.47833%2C%20-81.65334%2C%201.0%5D%2C%20%5B38.172%2C%20-81.3314%2C%200.0%5D%2C%20%5B38.321%2C%20-81.2635%2C%200.0%5D%2C%20%5B38.98135%2C%20-80.94906999999998%2C%201.0%5D%2C%20%5B39.40037%2C%20-80.74735%2C%202.0%5D%2C%20%5B38.17831%2C%20-81.33372%2C%201.0%5D%2C%20%5B39.57984%2C%20-80.6619%2C%200.0%5D%2C%20%5B38.18006%2C%20-81.33498%2C%201.0%5D%2C%20%5B38.92567%2C%20-80.98173%2C%201.0%5D%2C%20%5B39.00864%2C%20-80.94289%2C%201.0%5D%2C%20%5B37.34159%2C%20-81.72584%2C%202.0%5D%2C%20%5B37.88155%2C%20-81.48033000000002%2C%201.0%5D%2C%20%5B38.68639%2C%20-81.10163%2C%201.0%5D%2C%20%5B38.93371%2C%20-80.98355%2C%200.0%5D%2C%20%5B37.47593%2C%20-81.66971%2C%202.0%5D%2C%20%5B37.48077%2C%20-81.66773%2C%202.0%5D%2C%20%5B37.87567%2C%20-81.48794000000002%2C%201.0%5D%2C%20%5B37.56347%2C%20-81.63266%2C%201.0%5D%2C%20%5B37.87288%2C%20-81.4925%2C%201.0%5D%2C%20%5B38.95601%2C%20-80.98201999999998%2C%200.0%5D%2C%20%5B39.44057%2C%20-80.7484%2C%200.0%5D%2C%20%5B37.95794%2C%20-81.4566%2C%201.0%5D%2C%20%5B38.42817%2C%20-81.23775%2C%201.0%5D%2C%20%5B39.29987%2C%20-80.82228%2C%201.0%5D%2C%20%5B38.44967000000001%2C%20-81.2322%2C%201.0%5D%2C%20%5B39.84754%2C%20-80.55577%2C%200.0%5D%2C%20%5B39.56535%2C%20-80.69663%2C%201.0%5D%2C%20%5B37.44476%2C%20-81.70241999999998%2C%201.0%5D%2C%20%5B37.71282%2C%20-81.58176999999998%2C%201.0%5D%2C%20%5B37.28848%2C%20-81.69422%2C%201.0%5D%2C%20%5B37.28916%2C%20-81.69533%2C%201.0%5D%2C%20%5B39.01545%2C%20-80.88549%2C%202.0%5D%2C%20%5B39.55389%2C%20-80.62424%2C%200.0%5D%2C%20%5B37.30177%2C%20-81.69091%2C%201.0%5D%2C%20%5B37.5435%2C%20-81.5825%2C%202.0%5D%2C%20%5B39.45023%2C%20-80.68111%2C%201.0%5D%2C%20%5B37.68896%2C%20-81.52016%2C%201.0%5D%2C%20%5B38.1543%2C%20-81.3043%2C%202.0%5D%2C%20%5B37.38878%2C%20-81.66051999999998%2C%202.0%5D%2C%20%5B39.09575%2C%20-80.85928%2C%201.0%5D%2C%20%5B39.29907%2C%20-80.76095%2C%201.0%5D%2C%20%5B37.32075%2C%20-81.69627%2C%201.0%5D%2C%20%5B39.28623%2C%20-80.76979%2C%201.0%5D%2C%20%5B39.40783%2C%20-80.71236%2C%201.0%5D%2C%20%5B38.18763%2C%20-81.29789%2C%201.0%5D%2C%20%5B38.19411%2C%20-81.29611%2C%202.0%5D%2C%20%5B38.65988%2C%20-81.07646%2C%202.0%5D%2C%20%5B37.82022%2C%20-81.47261999999998%2C%201.0%5D%2C%20%5B38.50761%2C%20-81.33538%2C%202.0%5D%2C%20%5B37.87057%2C%20-81.63566%2C%201.0%5D%2C%20%5B38.45871%2C%20-81.36049%2C%200.0%5D%2C%20%5B38.47016%2C%20-81.35693%2C%200.0%5D%2C%20%5B37.55069%2C%20-81.78589000000002%2C%201.0%5D%2C%20%5B40.09649%2C%20-80.57226999999997%2C%202.0%5D%2C%20%5B38.48818%2C%20-81.35291%2C%201.0%5D%2C%20%5B40.08259%2C%20-80.58099%2C%202.0%5D%2C%20%5B39.52845%2C%20-80.85469%2C%200.0%5D%2C%20%5B38.94765%2C%20-81.13623%2C%200.0%5D%2C%20%5B37.55846%2C%20-81.79075%2C%202.0%5D%2C%20%5B39.6121%2C%20-80.81657%2C%200.0%5D%2C%20%5B39.40922%2C%20-80.91823000000002%2C%200.0%5D%2C%20%5B38.19329000000001%2C%20-81.49954%2C%201.0%5D%2C%20%5B39.08255%2C%20-81.07758000000003%2C%202.0%5D%2C%20%5B39.06167%2C%20-81.08798%2C%202.0%5D%2C%20%5B40.07692%2C%20-80.59141%2C%201.0%5D%2C%20%5B38.09421%2C%20-81.24884%2C%201.0%5D%2C%20%5B39.3869%2C%20-80.63338%2C%200.0%5D%2C%20%5B38.23705%2C%20-81.18545999999998%2C%200.0%5D%2C%20%5B39.38949%2C%20-80.63490999999998%2C%202.0%5D%2C%20%5B39.3765%2C%20-80.6417%2C%200.0%5D%2C%20%5B37.98726%2C%20-81.30674%2C%201.0%5D%2C%20%5B38.91103%2C%20-80.86882%2C%201.0%5D%2C%20%5B39.39347%2C%20-80.63568000000002%2C%200.0%5D%2C%20%5B37.40705%2C%20-81.57624%2C%201.0%5D%2C%20%5B37.90284000000001%2C%20-81.34851%2C%202.0%5D%2C%20%5B38.91756%2C%20-80.86818000000002%2C%202.0%5D%2C%20%5B38.305%2C%20-81.1616%2C%201.0%5D%2C%20%5B38.47585%2C%20-81.0814%2C%201.0%5D%2C%20%5B38.32314%2C%20-81.49891%2C%200.0%5D%2C%20%5B38.94488%2C%20-81.20388%2C%200.0%5D%2C%20%5B40.04997%2C%20-80.66529%2C%201.0%5D%2C%20%5B38.2377%2C%20-81.54296%2C%201.0%5D%2C%20%5B39.2637%2C%20-81.05544%2C%201.0%5D%2C%20%5B38.48641%2C%20-81.42882%2C%201.0%5D%2C%20%5B39.26529%2C%20-81.05651%2C%200.0%5D%2C%20%5B40.00173%2C%20-80.69745%2C%201.0%5D%2C%20%5B38.32388%2C%20-81.50778000000003%2C%200.0%5D%2C%20%5B39.9282%2C%20-80.73487%2C%202.0%5D%2C%20%5B39.53293%2C%20-80.92945999999998%2C%201.0%5D%2C%20%5B38.09786%2C%20-81.61501%2C%200.0%5D%2C%20%5B39.927%2C%20-80.7388%2C%202.0%5D%2C%20%5B38.24286%2C%20-81.55058000000002%2C%201.0%5D%2C%20%5B38.44768%2C%20-81.45617%2C%202.0%5D%2C%20%5B39.92654%2C%20-80.74266%2C%202.0%5D%2C%20%5B37.79549%2C%20-81.76302%2C%201.0%5D%2C%20%5B37.7933%2C%20-81.765%2C%202.0%5D%2C%20%5B39.59262%2C%20-80.90934%2C%201.0%5D%2C%20%5B39.90559%2C%20-80.75735%2C%201.0%5D%2C%20%5B39.81372%2C%20-80.80286%2C%201.0%5D%2C%20%5B39.49928%2C%20-80.95827%2C%201.0%5D%2C%20%5B39.4094%2C%20-81.00291%2C%201.0%5D%2C%20%5B40.30578%2C%20-80.56175999999998%2C%200.0%5D%2C%20%5B37.34632%2C%20-81.80594%2C%202.0%5D%2C%20%5B38.47181%2C%20-81.2837%2C%201.0%5D%2C%20%5B37.32348%2C%20-81.81981%2C%201.0%5D%2C%20%5B37.61954%2C%20-81.68485%2C%201.0%5D%2C%20%5B37.41278%2C%20-81.78246999999998%2C%202.0%5D%2C%20%5B39.44431%2C%20-80.82309000000002%2C%200.0%5D%2C%20%5B39.4291%2C%20-80.83149%2C%200.0%5D%2C%20%5B37.68678%2C%20-81.65872%2C%202.0%5D%2C%20%5B37.76005%2C%20-81.62603%2C%202.0%5D%2C%20%5B39.18559000000001%2C%20-80.95385999999998%2C%200.0%5D%2C%20%5B37.96874%2C%20-81.53175999999998%2C%200.0%5D%2C%20%5B39.27148%2C%20-80.91473%2C%202.0%5D%2C%20%5B38.15427%2C%20-81.44778000000002%2C%200.0%5D%2C%20%5B39.27522%2C%20-80.91428%2C%200.0%5D%2C%20%5B38.15885%2C%20-81.44735%2C%200.0%5D%2C%20%5B39.46878%2C%20-80.8226%2C%201.0%5D%2C%20%5B37.9794%2C%20-81.5335%2C%201.0%5D%2C%20%5B39.61063%2C%20-80.75641999999998%2C%202.0%5D%2C%20%5B39.83329000000001%2C%20-80.64798%2C%201.0%5D%2C%20%5B38.9195%2C%20-81.09453%2C%200.0%5D%2C%20%5B38.91825%2C%20-81.09577%2C%200.0%5D%2C%20%5B38.22096%2C%20-81.42900999999998%2C%200.0%5D%2C%20%5B38.57192%2C%20-81.26348%2C%201.0%5D%2C%20%5B38.93482%2C%20-81.09156999999998%2C%201.0%5D%2C%20%5B39.24488%2C%20-80.94223000000002%2C%200.0%5D%2C%20%5B38.82466%2C%20-81.14685%2C%202.0%5D%2C%20%5B38.57016%2C%20-81.26961999999997%2C%201.0%5D%2C%20%5B38.18584%2C%20-81.45159%2C%201.0%5D%2C%20%5B39.6051%2C%20-80.77167%2C%200.0%5D%2C%20%5B38.76989%2C%20-81.18089%2C%201.0%5D%2C%20%5B38.1751%2C%20-81.464%2C%200.0%5D%2C%20%5B39.0917%2C%20-81.03021%2C%202.0%5D%2C%20%5B38.7198%2C%20-81.21%2C%202.0%5D%2C%20%5B39.76513%2C%20-80.70524%2C%201.0%5D%2C%20%5B38.52587%2C%20-81.30416%2C%201.0%5D%2C%20%5B38.15453%2C%20-81.85136%2C%201.0%5D%2C%20%5B39.52105%2C%20-80.82942%2C%201.0%5D%2C%20%5B37.84944%2C%20-81.62728%2C%200.0%5D%2C%20%5B39.82575%2C%20-80.57173%2C%201.0%5D%2C%20%5B37.56698%2C%20-81.65205999999998%2C%201.0%5D%2C%20%5B38.74819%2C%20-81.09976%2C%201.0%5D%2C%20%5B38.04877000000001%2C%20-81.43199%2C%201.0%5D%2C%20%5B39.16684%2C%20-80.90187%2C%201.0%5D%2C%20%5B38.7167%2C%20-81.96615%2C%202.0%5D%2C%20%5B37.33433%2C%20-81.76911%2C%201.0%5D%2C%20%5B39.32504%2C%20-80.8327%2C%202.0%5D%2C%20%5B37.95882%2C%20-81.4839%2C%201.0%5D%2C%20%5B38.61172%2C%20-81.1786%2C%202.0%5D%2C%20%5B38.98338%2C%20-81.00158%2C%202.0%5D%2C%20%5B38.77415%2C%20-81.10379%2C%202.0%5D%2C%20%5B38.2086%2C%20-81.37189000000002%2C%201.0%5D%2C%20%5B37.33968%2C%20-81.77771%2C%201.0%5D%2C%20%5B38.48003%2C%20-81.24763%2C%200.0%5D%2C%20%5B39.18894%2C%20-80.90977%2C%201.0%5D%2C%20%5B39.07668%2C%20-80.96446%2C%202.0%5D%2C%20%5B37.34397%2C%20-81.78121%2C%202.0%5D%2C%20%5B39.56985%2C%20-80.72791%2C%200.0%5D%2C%20%5B37.50815%2C%20-81.92990999999998%2C%201.0%5D%2C%20%5B39.45654%2C%20-81.01071999999998%2C%200.0%5D%2C%20%5B40.07437%2C%20-80.70725%2C%202.0%5D%2C%20%5B38.31744000000001%2C%20-81.55688%2C%201.0%5D%2C%20%5B39.36273%2C%20-81.05790999999998%2C%202.0%5D%2C%20%5B38.30964%2C%20-81.56109000000002%2C%201.0%5D%2C%20%5B40.05135%2C%20-80.72099%2C%200.0%5D%2C%20%5B38.3157%2C%20-81.55966%2C%202.0%5D%2C%20%5B37.78654%2C%20-81.80693000000002%2C%202.0%5D%2C%20%5B40.07328%2C%20-80.71189%2C%201.0%5D%2C%20%5B38.45607%2C%20-81.49513%2C%201.0%5D%2C%20%5B40.06047%2C%20-80.71865%2C%201.0%5D%2C%20%5B40.05266%2C%20-80.72261%2C%201.0%5D%2C%20%5B40.07349%2C%20-80.71271999999998%2C%202.0%5D%2C%20%5B38.3816%2C%20-81.53154%2C%201.0%5D%2C%20%5B38.36422%2C%20-81.53992%2C%202.0%5D%2C%20%5B40.07348%2C%20-80.71423%2C%201.0%5D%2C%20%5B40.07349%2C%20-80.71477%2C%202.0%5D%2C%20%5B37.84673%2C%20-81.62868%2C%200.0%5D%2C%20%5B39.61122%2C%20-80.78818000000003%2C%202.0%5D%2C%20%5B37.74343%2C%20-81.67784%2C%202.0%5D%2C%20%5B40.10386%2C%20-80.54800999999998%2C%202.0%5D%2C%20%5B39.25197%2C%20-80.96696999999998%2C%202.0%5D%2C%20%5B37.74141%2C%20-81.68441%2C%201.0%5D%2C%20%5B37.73257%2C%20-81.68906%2C%201.0%5D%2C%20%5B40.09841%2C%20-80.5554%2C%202.0%5D%2C%20%5B40.08975%2C%20-80.56272%2C%202.0%5D%2C%20%5B38.3791%2C%20-81.392%2C%200.0%5D%2C%20%5B39.03643%2C%20-81.27568000000002%2C%202.0%5D%2C%20%5B38.63102%2C%20-81.47306999999998%2C%202.0%5D%2C%20%5B38.44342%2C%20-81.56231%2C%200.0%5D%2C%20%5B40.43564%2C%20-80.59445%2C%201.0%5D%2C%20%5B39.37786%2C%20-81.11715%2C%200.0%5D%2C%20%5B38.34087%2C%20-81.61305%2C%201.0%5D%2C%20%5B38.4439%2C%20-81.567%2C%201.0%5D%2C%20%5B37.87439000000001%2C%20-81.83333%2C%202.0%5D%2C%20%5B39.13874000000001%2C%20-81.23776%2C%201.0%5D%2C%20%5B38.3464%2C%20-81.61519%2C%201.0%5D%2C%20%5B38.38278%2C%20-81.59853000000003%2C%201.0%5D%2C%20%5B39.10312%2C%20-81.25728000000002%2C%200.0%5D%2C%20%5B37.82857%2C%20-81.85909000000002%2C%202.0%5D%2C%20%5B38.37541%2C%20-81.60594%2C%201.0%5D%2C%20%5B38.98396%2C%20-81.32003%2C%202.0%5D%2C%20%5B37.8296%2C%20-81.86399999999998%2C%201.0%5D%2C%20%5B39.45765%2C%20-81.09418000000002%2C%200.0%5D%2C%20%5B38.35062%2C%20-81.62448%2C%201.0%5D%2C%20%5B38.18201%2C%20-81.70544%2C%201.0%5D%2C%20%5B38.18093%2C%20-81.70618%2C%202.0%5D%2C%20%5B37.9195%2C%20-81.83099%2C%202.0%5D%2C%20%5B39.3909%2C%20-81.13309%2C%201.0%5D%2C%20%5B38.38425%2C%20-81.61534%2C%200.0%5D%2C%20%5B37.94149%2C%20-81.82224000000002%2C%201.0%5D%2C%20%5B38.3543%2C%20-81.63061%2C%201.0%5D%2C%20%5B38.79673%2C%20-81.21778%2C%200.0%5D%2C%20%5B38.20737%2C%20-81.49826%2C%202.0%5D%2C%20%5B39.27969%2C%20-80.98709000000002%2C%201.0%5D%2C%20%5B40.07093%2C%20-80.60025%2C%200.0%5D%2C%20%5B39.2291%2C%20-81.0136%2C%200.0%5D%2C%20%5B40.07393%2C%20-80.59937%2C%202.0%5D%2C%20%5B37.88458%2C%20-81.6532%2C%202.0%5D%2C%20%5B40.18488%2C%20-80.54635%2C%201.0%5D%2C%20%5B39.61413%2C%20-80.8307%2C%200.0%5D%2C%20%5B39.79047%2C%20-80.74414%2C%201.0%5D%2C%20%5B40.09126%2C%20-80.59705%2C%202.0%5D%2C%20%5B39.07442%2C%20-81.0954%2C%202.0%5D%2C%20%5B40.06361%2C%20-80.61371%2C%202.0%5D%2C%20%5B38.80217%2C%20-81.22924%2C%201.0%5D%2C%20%5B39.45393%2C%20-80.91672%2C%200.0%5D%2C%20%5B39.91442%2C%20-80.69327%2C%200.0%5D%2C%20%5B39.48963%2C%20-80.90496999999998%2C%201.0%5D%2C%20%5B39.01055%2C%20-81.13817%2C%201.0%5D%2C%20%5B39.51867%2C%20-80.89291%2C%200.0%5D%2C%20%5B38.2279%2C%20-81.51106999999998%2C%200.0%5D%2C%20%5B38.96419%2C%20-81.16264%2C%200.0%5D%2C%20%5B39.50346%2C%20-80.90211%2C%200.0%5D%2C%20%5B39.55175%2C%20-80.88034%2C%201.0%5D%2C%20%5B37.7969%2C%20-81.7156%2C%201.0%5D%2C%20%5B39.53459%2C%20-80.89121%2C%200.0%5D%2C%20%5B39.5401%2C%20-80.88913000000002%2C%201.0%5D%2C%20%5B38.21983%2C%20-81.52306999999998%2C%202.0%5D%2C%20%5B38.2123%2C%20-81.5269%2C%201.0%5D%2C%20%5B39.20323%2C%20-81.0578%2C%200.0%5D%2C%20%5B38.79313%2C%20-81.25541%2C%201.0%5D%2C%20%5B37.58697%2C%20-81.82148000000002%2C%202.0%5D%2C%20%5B37.45822%2C%20-81.88144%2C%202.0%5D%2C%20%5B38.22505%2C%20-81.52917%2C%201.0%5D%2C%20%5B37.9045%2C%20-81.67907%2C%201.0%5D%2C%20%5B37.79687%2C%20-81.73245%2C%201.0%5D%2C%20%5B40.04481%2C%20-80.65574000000002%2C%202.0%5D%2C%20%5B38.34522%2C%20-81.47855%2C%200.0%5D%2C%20%5B40.06188%2C%20-80.72136%2C%201.0%5D%2C%20%5B37.76207%2C%20-81.82334%2C%201.0%5D%2C%20%5B37.69214%2C%20-81.85646%2C%201.0%5D%2C%20%5B38.94364%2C%20-81.26892%2C%200.0%5D%2C%20%5B38.4923%2C%20-81.48509%2C%200.0%5D%2C%20%5B38.45488%2C%20-81.503%2C%201.0%5D%2C%20%5B39.4723%2C%20-81.01756%2C%201.0%5D%2C%20%5B38.94815%2C%20-81.27105999999998%2C%202.0%5D%2C%20%5B37.93014%2C%20-81.75249000000002%2C%201.0%5D%2C%20%5B39.1131%2C%20-81.1934%2C%202.0%5D%2C%20%5B39.07899000000001%2C%20-81.21188000000002%2C%200.0%5D%2C%20%5B40.072%2C%20-80.72691%2C%202.0%5D%2C%20%5B38.78985%2C%20-81.35158%2C%201.0%5D%2C%20%5B38.76516%2C%20-81.36365%2C%200.0%5D%2C%20%5B38.43708%2C%20-81.52043%2C%201.0%5D%2C%20%5B38.82421%2C%20-81.33782%2C%200.0%5D%2C%20%5B38.80093%2C%20-81.3491%2C%202.0%5D%2C%20%5B38.80368%2C%20-81.34963%2C%200.0%5D%2C%20%5B39.20861%2C%20-81.15745%2C%202.0%5D%2C%20%5B38.40449%2C%20-81.54151999999998%2C%201.0%5D%2C%20%5B39.21163%2C%20-81.15834%2C%201.0%5D%2C%20%5B40.07122%2C%20-80.7381%2C%202.0%5D%2C%20%5B40.44504000000001%2C%20-80.55268000000002%2C%202.0%5D%2C%20%5B37.99408%2C%20-81.73785%2C%202.0%5D%2C%20%5B37.63983%2C%20-81.90541%2C%201.0%5D%2C%20%5B38.2125%2C%20-81.64%2C%202.0%5D%2C%20%5B38.41964%2C%20-81.54456%2C%201.0%5D%2C%20%5B38.41979%2C%20-81.54483%2C%201.0%5D%2C%20%5B37.57532%2C%20-81.93893%2C%201.0%5D%2C%20%5B39.17236%2C%20-81.18923000000002%2C%201.0%5D%2C%20%5B40.4421%2C%20-80.56667%2C%202.0%5D%2C%20%5B38.36783%2C%20-81.57543000000003%2C%201.0%5D%2C%20%5B40.38821%2C%20-80.59568%2C%201.0%5D%2C%20%5B40.39069%2C%20-80.59470999999998%2C%201.0%5D%2C%20%5B37.54485%2C%20-81.96202%2C%201.0%5D%2C%20%5B37.72925%2C%20-81.87751999999998%2C%201.0%5D%2C%20%5B40.56335%2C%20-80.55587%2C%201.0%5D%2C%20%5B38.65773%2C%20-81.49089000000002%2C%201.0%5D%2C%20%5B38.85112%2C%20-81.39903000000002%2C%201.0%5D%2C%20%5B38.34656%2C%20-81.63883%2C%201.0%5D%2C%20%5B38.35952%2C%20-81.63316999999998%2C%201.0%5D%2C%20%5B38.78451%2C%20-81.4341%2C%200.0%5D%2C%20%5B39.21%2C%20-81.2317%2C%201.0%5D%2C%20%5B37.81449%2C%20-81.89166999999998%2C%200.0%5D%2C%20%5B38.35826%2C%20-81.63988%2C%201.0%5D%2C%20%5B37.97141%2C%20-81.82198000000002%2C%201.0%5D%2C%20%5B39.23827%2C%20-81.22293%2C%200.0%5D%2C%20%5B38.35802%2C%20-81.64358%2C%201.0%5D%2C%20%5B40.49711%2C%20-80.6042%2C%201.0%5D%2C%20%5B38.30736%2C%20-81.66942%2C%202.0%5D%2C%20%5B37.86088%2C%20-81.87756999999998%2C%202.0%5D%2C%20%5B39.13385%2C%20-81.27809%2C%200.0%5D%2C%20%5B38.35527%2C%20-81.64846999999997%2C%201.0%5D%2C%20%5B38.35486%2C%20-81.65071999999998%2C%201.0%5D%2C%20%5B38.43558%2C%20-81.61326%2C%201.0%5D%2C%20%5B39.26%2C%20-81.2223%2C%202.0%5D%2C%20%5B38.56017%2C%20-81.56076999999998%2C%201.0%5D%2C%20%5B38.1375%2C%20-81.75953%2C%202.0%5D%2C%20%5B38.2331%2C%20-81.71600000000002%2C%200.0%5D%2C%20%5B40.60755%2C%20-80.56269%2C%200.0%5D%2C%20%5B39.34847%2C%20-81.18844%2C%202.0%5D%2C%20%5B38.32292%2C%20-81.67787%2C%201.0%5D%2C%20%5B39.21316%2C%20-81.25705%2C%202.0%5D%2C%20%5B40.62139000000001%2C%20-80.56349%2C%201.0%5D%2C%20%5B37.94999%2C%20-81.85885%2C%200.0%5D%2C%20%5B39.20117%2C%20-81.26841999999998%2C%201.0%5D%2C%20%5B37.78117%2C%20-81.94147%2C%200.0%5D%2C%20%5B38.39236%2C%20-81.65923000000002%2C%201.0%5D%2C%20%5B38.51617%2C%20-81.60095%2C%201.0%5D%2C%20%5B38.9547%2C%20-81.3934%2C%202.0%5D%2C%20%5B38.3085%2C%20-81.70100000000002%2C%202.0%5D%2C%20%5B39.63846%2C%20-80.85746999999998%2C%201.0%5D%2C%20%5B40.04376%2C%20-80.65865%2C%202.0%5D%2C%20%5B39.96197%2C%20-80.69958000000003%2C%202.0%5D%2C%20%5B39.81597%2C%20-80.77296%2C%202.0%5D%2C%20%5B37.58884000000001%2C%20-81.83383%2C%201.0%5D%2C%20%5B39.41371%2C%20-80.97283%2C%202.0%5D%2C%20%5B39.91273%2C%20-80.72848%2C%201.0%5D%2C%20%5B39.15806%2C%20-81.09905%2C%201.0%5D%2C%20%5B39.63778%2C%20-80.86627%2C%201.0%5D%2C%20%5B38.31755%2C%20-81.70005%2C%202.0%5D%2C%20%5B38.31892%2C%20-81.70002%2C%200.0%5D%2C%20%5B38.31998%2C%20-81.70055%2C%201.0%5D%2C%20%5B38.2729%2C%20-81.723%2C%201.0%5D%2C%20%5B38.31321%2C%20-81.70449%2C%200.0%5D%2C%20%5B38.32887%2C%20-81.69756%2C%201.0%5D%2C%20%5B38.36599%2C%20-81.68053%2C%201.0%5D%2C%20%5B38.40521%2C%20-81.66309%2C%201.0%5D%2C%20%5B37.7109%2C%20-81.98702%2C%200.0%5D%2C%20%5B37.54653%2C%20-82.06443%2C%202.0%5D%2C%20%5B38.36465%2C%20-81.68675999999998%2C%201.0%5D%2C%20%5B39.06681%2C%20-81.3551%2C%200.0%5D%2C%20%5B38.46281%2C%20-81.64366%2C%201.0%5D%2C%20%5B38.46344000000001%2C%20-81.64449%2C%201.0%5D%2C%20%5B38.36406%2C%20-81.6917%2C%201.0%5D%2C%20%5B38.98535%2C%20-81.39944%2C%201.0%5D%2C%20%5B38.34059%2C%20-81.7053%2C%201.0%5D%2C%20%5B38.36048%2C%20-81.69774%2C%201.0%5D%2C%20%5B39.31999%2C%20-81.24061%2C%200.0%5D%2C%20%5B39.38696%2C%20-81.21%2C%202.0%5D%2C%20%5B38.3217%2C%20-81.719%2C%202.0%5D%2C%20%5B39.3881%2C%20-81.21438%2C%201.0%5D%2C%20%5B39.329%2C%20-81.2432%2C%202.0%5D%2C%20%5B38.49576%2C%20-81.64272%2C%200.0%5D%2C%20%5B38.45891%2C%20-81.66138000000002%2C%200.0%5D%2C%20%5B38.06603%2C%20-81.8456%2C%201.0%5D%2C%20%5B38.30757%2C%20-81.7339%2C%202.0%5D%2C%20%5B39.14275%2C%20-81.33745%2C%200.0%5D%2C%20%5B38.7661%2C%20-81.314%2C%202.0%5D%2C%20%5B38.24049%2C%20-81.56443%2C%201.0%5D%2C%20%5B38.06943%2C%20-81.64463%2C%201.0%5D%2C%20%5B40.24392%2C%20-80.59623%2C%201.0%5D%2C%20%5B38.53441%2C%20-81.42834%2C%200.0%5D%2C%20%5B38.23291%2C%20-81.57141999999997%2C%202.0%5D%2C%20%5B40.00528%2C%20-80.71705%2C%200.0%5D%2C%20%5B38.31494%2C%20-81.53426%2C%201.0%5D%2C%20%5B37.61072%2C%20-81.86174%2C%201.0%5D%2C%20%5B37.59972%2C%20-81.86799%2C%201.0%5D%2C%20%5B38.7649%2C%20-81.32300000000002%2C%201.0%5D%2C%20%5B40.15226%2C%20-80.64938000000002%2C%201.0%5D%2C%20%5B37.79039%2C%20-81.78281%2C%201.0%5D%2C%20%5B40.00752%2C%20-80.7225%2C%202.0%5D%2C%20%5B37.52654%2C%20-81.90558%2C%202.0%5D%2C%20%5B37.61362%2C%20-81.86737%2C%201.0%5D%2C%20%5B37.97668%2C%20-81.69988000000002%2C%202.0%5D%2C%20%5B39.2879%2C%20-81.07861%2C%201.0%5D%2C%20%5B40.36929%2C%20-80.5459%2C%201.0%5D%2C%20%5B39.28799%2C%20-81.07972%2C%200.0%5D%2C%20%5B38.497%2C%20-81.459%2C%200.0%5D%2C%20%5B39.1019%2C%20-81.172%2C%202.0%5D%2C%20%5B38.15041%2C%20-81.62364000000002%2C%200.0%5D%2C%20%5B38.15919%2C%20-81.61975%2C%200.0%5D%2C%20%5B40.01299%2C%20-80.72733000000002%2C%200.0%5D%2C%20%5B40.0715%2C%20-80.69906%2C%202.0%5D%2C%20%5B40.07651%2C%20-80.69663%2C%201.0%5D%2C%20%5B38.30067%2C%20-81.55595%2C%201.0%5D%2C%20%5B37.95382%2C%20-81.71819%2C%202.0%5D%2C%20%5B40.02465%2C%20-80.7256%2C%201.0%5D%2C%20%5B37.46629%2C%20-81.94596999999997%2C%201.0%5D%2C%20%5B39.07743%2C%20-81.19011%2C%200.0%5D%2C%20%5B40.02661%2C%20-80.72779%2C%202.0%5D%2C%20%5B38.3097%2C%20-81.55662%2C%200.0%5D%2C%20%5B39.50018%2C%20-80.98711%2C%202.0%5D%2C%20%5B37.79946%2C%20-81.79496%2C%201.0%5D%2C%20%5B37.6447%2C%20-81.867%2C%201.0%5D%2C%20%5B38.38612%2C%20-81.84042%2C%201.0%5D%2C%20%5B38.00954%2C%20-82.01819%2C%201.0%5D%2C%20%5B38.32705%2C%20-81.87266%2C%201.0%5D%2C%20%5B39.23388%2C%20-81.44286%2C%200.0%5D%2C%20%5B38.49007%2C%20-81.79933%2C%202.0%5D%2C%20%5B39.22833%2C%20-81.4483%2C%201.0%5D%2C%20%5B38.93701%2C%20-81.59079%2C%200.0%5D%2C%20%5B38.35307%2C%20-81.8683%2C%201.0%5D%2C%20%5B37.94212%2C%20-82.06069000000002%2C%201.0%5D%2C%20%5B37.95363%2C%20-82.05637%2C%201.0%5D%2C%20%5B38.43985%2C%20-81.83085%2C%201.0%5D%2C%20%5B38.42712%2C%20-81.83736%2C%200.0%5D%2C%20%5B39.20495%2C%20-81.47012%2C%200.0%5D%2C%20%5B38.00427%2C%20-82.03738%2C%200.0%5D%2C%20%5B38.98353%2C%20-81.58133000000002%2C%200.0%5D%2C%20%5B37.86822%2C%20-82.1051%2C%202.0%5D%2C%20%5B39.15876%2C%20-81.50085%2C%200.0%5D%2C%20%5B38.35279%2C%20-81.88334%2C%202.0%5D%2C%20%5B38.51843%2C%20-81.80873000000003%2C%201.0%5D%2C%20%5B38.28005%2C%20-81.92556%2C%201.0%5D%2C%20%5B38.54274%2C%20-81.80255%2C%201.0%5D%2C%20%5B39.07627%2C%20-81.55265%2C%201.0%5D%2C%20%5B38.87648%2C%20-81.65091%2C%200.0%5D%2C%20%5B38.83168%2C%20-81.6729%2C%200.0%5D%2C%20%5B38.79972%2C%20-81.69202%2C%202.0%5D%2C%20%5B37.73524000000001%2C%20-82.19054%2C%200.0%5D%2C%20%5B39.11568%2C%20-81.54558%2C%200.0%5D%2C%20%5B38.37227%2C%20-81.89851%2C%201.0%5D%2C%20%5B39.122%2C%20-81.546%2C%201.0%5D%2C%20%5B39.122%2C%20-81.54632%2C%201.0%5D%2C%20%5B38.92133%2C%20-81.64449%2C%201.0%5D%2C%20%5B38.96741%2C%20-81.62899999999998%2C%201.0%5D%2C%20%5B38.9674%2C%20-81.62904%2C%201.0%5D%2C%20%5B39.1821%2C%20-81.52843%2C%201.0%5D%2C%20%5B39.14055%2C%20-81.54908%2C%201.0%5D%2C%20%5B38.45524%2C%20-81.87723000000003%2C%202.0%5D%2C%20%5B39.17731%2C%20-81.53455%2C%200.0%5D%2C%20%5B39.18163%2C%20-81.53313%2C%201.0%5D%2C%20%5B39.16686%2C%20-81.54028000000002%2C%201.0%5D%2C%20%5B39.23254%2C%20-81.51091%2C%200.0%5D%2C%20%5B38.75051%2C%20-81.7413%2C%202.0%5D%2C%20%5B38.98428%2C%20-81.63209%2C%200.0%5D%2C%20%5B38.91174%2C%20-81.66731999999998%2C%201.0%5D%2C%20%5B39.38883%2C%20-81.43946%2C%202.0%5D%2C%20%5B39.2457%2C%20-81.50873%2C%202.0%5D%2C%20%5B37.74367%2C%20-82.21564000000002%2C%201.0%5D%2C%20%5B39.01128%2C%20-81.62289%2C%201.0%5D%2C%20%5B39.01134%2C%20-81.62311%2C%201.0%5D%2C%20%5B38.89135%2C%20-81.68177%2C%201.0%5D%2C%20%5B38.23778%2C%20-81.99005%2C%200.0%5D%2C%20%5B39.0049%2C%20-81.62845%2C%201.0%5D%2C%20%5B38.87894%2C%20-81.68924%2C%201.0%5D%2C%20%5B39.38998%2C%20-81.44458%2C%200.0%5D%2C%20%5B39.28815%2C%20-81.49648%2C%201.0%5D%2C%20%5B39.28825%2C%20-81.49671%2C%201.0%5D%2C%20%5B38.06952%2C%20-82.07616999999998%2C%201.0%5D%2C%20%5B37.75993%2C%20-82.2196%2C%202.0%5D%2C%20%5B37.87172%2C%20-82.17234%2C%201.0%5D%2C%20%5B39.26774%2C%20-81.51552%2C%200.0%5D%2C%20%5B37.87279%2C%20-82.17463000000002%2C%201.0%5D%2C%20%5B39.28552%2C%20-81.51054%2C%202.0%5D%2C%20%5B37.77275%2C%20-82.22894000000002%2C%202.0%5D%2C%20%5B39.25787%2C%20-81.53116%2C%200.0%5D%2C%20%5B39.17024%2C%20-81.57605%2C%200.0%5D%2C%20%5B39.25932%2C%20-81.53353%2C%200.0%5D%2C%20%5B38.94808%2C%20-81.68596%2C%201.0%5D%2C%20%5B38.6175%2C%20-81.84333000000002%2C%200.0%5D%2C%20%5B37.77389%2C%20-82.23812%2C%201.0%5D%2C%20%5B38.95758%2C%20-81.68425%2C%201.0%5D%2C%20%5B38.16939%2C%20-82.05821%2C%202.0%5D%2C%20%5B38.34142%2C%20-81.97858000000002%2C%201.0%5D%2C%20%5B39.14244%2C%20-81.33813%2C%200.0%5D%2C%20%5B38.48919%2C%20-81.65056%2C%201.0%5D%2C%20%5B38.36043%2C%20-81.71282%2C%201.0%5D%2C%20%5B39.02674%2C%20-81.39678%2C%200.0%5D%2C%20%5B38.35806%2C%20-81.71564000000002%2C%201.0%5D%2C%20%5B38.05829%2C%20-81.85623000000002%2C%200.0%5D%2C%20%5B39.04597%2C%20-81.39095%2C%201.0%5D%2C%20%5B37.65228%2C%20-82.0454%2C%201.0%5D%2C%20%5B38.51614%2C%20-81.64541%2C%201.0%5D%2C%20%5B39.146%2C%20-81.346%2C%200.0%5D%2C%20%5B39.36859000000001%2C%20-81.23957%2C%200.0%5D%2C%20%5B37.83672%2C%20-81.96508%2C%201.0%5D%2C%20%5B38.52635%2C%20-81.64454%2C%201.0%5D%2C%20%5B37.80338%2C%20-81.98259%2C%201.0%5D%2C%20%5B38.53015%2C%20-81.6449%2C%201.0%5D%2C%20%5B37.74392%2C%20-82.01163000000003%2C%202.0%5D%2C%20%5B38.05045%2C%20-81.87274000000002%2C%200.0%5D%2C%20%5B38.51393%2C%20-81.65724%2C%201.0%5D%2C%20%5B38.13596%2C%20-81.83566%2C%201.0%5D%2C%20%5B39.08797%2C%20-81.70285%2C%201.0%5D%2C%20%5B37.84188%2C%20-81.97694%2C%201.0%5D%2C%20%5B38.6519%2C%20-81.6%2C%202.0%5D%2C%20%5B37.81172%2C%20-81.99561%2C%201.0%5D%2C%20%5B38.70915%2C%20-81.57699000000002%2C%200.0%5D%2C%20%5B39.2176%2C%20-81.33747%2C%201.0%5D%2C%20%5B38.26813%2C%20-81.78903000000003%2C%201.0%5D%2C%20%5B37.8888%2C%20-81.96861%2C%201.0%5D%2C%20%5B38.28462%2C%20-81.78474%2C%201.0%5D%2C%20%5B38.59787%2C%20-81.63991999999998%2C%200.0%5D%2C%20%5B37.96246%2C%20-81.93843000000003%2C%201.0%5D%2C%20%5B38.82464%2C%20-81.53513000000002%2C%201.0%5D%2C%20%5B38.97709%2C%20-81.46276%2C%200.0%5D%2C%20%5B38.97675%2C%20-81.95398%2C%201.0%5D%2C%20%5B38.4314%2C%20-82.21406%2C%201.0%5D%2C%20%5B37.56559%2C%20-81.95427%2C%202.0%5D%2C%20%5B38.3347%2C%20-81.59836999999997%2C%201.0%5D%2C%20%5B40.38188%2C%20-80.60502%2C%201.0%5D%2C%20%5B37.74018%2C%20-81.87684%2C%201.0%5D%2C%20%5B40.37779000000001%2C%20-80.61025%2C%201.0%5D%2C%20%5B38.42518%2C%20-81.56073%2C%200.0%5D%2C%20%5B38.00955%2C%20-81.75605999999998%2C%200.0%5D%2C%20%5B38.35866%2C%20-81.59348%2C%200.0%5D%2C%20%5B37.84901%2C%20-81.99512%2C%202.0%5D%2C%20%5B37.84893%2C%20-81.9968%2C%201.0%5D%2C%20%5B38.97354%2C%20-81.47117%2C%202.0%5D%2C%20%5B38.2671%2C%20-81.80544%2C%201.0%5D%2C%20%5B38.26724%2C%20-81.80565%2C%201.0%5D%2C%20%5B39.18328%2C%20-81.3716%2C%202.0%5D%2C%20%5B38.37727%2C%20-81.75506999999998%2C%201.0%5D%2C%20%5B38.18232%2C%20-81.84915%2C%202.0%5D%2C%20%5B37.69349%2C%20-82.07627%2C%201.0%5D%2C%20%5B37.75856%2C%20-82.04788%2C%201.0%5D%2C%20%5B39.10477%2C%20-81.41501%2C%200.0%5D%2C%20%5B37.84623%2C%20-82.00868%2C%202.0%5D%2C%20%5B38.22227%2C%20-81.83457%2C%201.0%5D%2C%20%5B37.81477%2C%20-82.02466%2C%201.0%5D%2C%20%5B38.38226%2C%20-81.76126%2C%201.0%5D%2C%20%5B38.61033%2C%20-81.65590999999998%2C%201.0%5D%2C%20%5B37.80123%2C%20-82.03432%2C%201.0%5D%2C%20%5B38.11303%2C%20-81.89126%2C%201.0%5D%2C%20%5B37.56623%2C%20-82.14375%2C%201.0%5D%2C%20%5B38.16472%2C%20-81.8689%2C%201.0%5D%2C%20%5B37.89636%2C%20-81.99435%2C%201.0%5D%2C%20%5B37.93063%2C%20-81.97999%2C%202.0%5D%2C%20%5B38.21568%2C%20-81.84828%2C%202.0%5D%2C%20%5B37.82576%2C%20-82.03005%2C%202.0%5D%2C%20%5B37.83793%2C%20-82.02552%2C%201.0%5D%2C%20%5B38.27544%2C%20-81.82513%2C%202.0%5D%2C%20%5B38.35712%2C%20-81.78934%2C%200.0%5D%2C%20%5B37.97018%2C%20-81.97058%2C%201.0%5D%2C%20%5B37.56292%2C%20-82.0468%2C%201.0%5D%2C%20%5B38.45198%2C%20-82.01051%2C%200.0%5D%2C%20%5B38.85274%2C%20-81.82264%2C%201.0%5D%2C%20%5B38.10346%2C%20-82.17775%2C%202.0%5D%2C%20%5B38.50055%2C%20-81.99343%2C%201.0%5D%2C%20%5B38.08261%2C%20-82.19028%2C%201.0%5D%2C%20%5B38.30547%2C%20-82.08823000000002%2C%202.0%5D%2C%20%5B38.43509%2C%20-82.03063%2C%201.0%5D%2C%20%5B38.00638%2C%20-82.23046%2C%201.0%5D%2C%20%5B37.91427%2C%20-82.27705999999998%2C%201.0%5D%2C%20%5B37.93287%2C%20-82.26916%2C%201.0%5D%2C%20%5B38.74038%2C%20-81.8944%2C%201.0%5D%2C%20%5B38.25207%2C%20-82.12475%2C%201.0%5D%2C%20%5B37.79366%2C%20-82.3435%2C%200.0%5D%2C%20%5B39.12825%2C%20-81.71845%2C%202.0%5D%2C%20%5B38.42553%2C%20-82.05497%2C%201.0%5D%2C%20%5B37.8509%2C%20-82.3218%2C%200.0%5D%2C%20%5B38.88693%2C%20-81.83949%2C%201.0%5D%2C%20%5B37.93677%2C%20-82.2858%2C%201.0%5D%2C%20%5B37.93926%2C%20-82.28723000000002%2C%202.0%5D%2C%20%5B38.17537%2C%20-82.17808000000002%2C%200.0%5D%2C%20%5B38.62177%2C%20-81.97805%2C%200.0%5D%2C%20%5B38.71457%2C%20-81.93489%2C%202.0%5D%2C%20%5B38.5405%2C%20-82.02038%2C%200.0%5D%2C%20%5B37.94379%2C%20-82.30139%2C%201.0%5D%2C%20%5B39.15372%2C%20-81.73535%2C%200.0%5D%2C%20%5B38.49129%2C%20-82.0527%2C%201.0%5D%2C%20%5B38.12258%2C%20-82.23745%2C%201.0%5D%2C%20%5B38.68072%2C%20-81.97712%2C%201.0%5D%2C%20%5B38.4226%2C%20-82.10531%2C%201.0%5D%2C%20%5B38.71581%2C%20-81.96851%2C%200.0%5D%2C%20%5B38.18418%2C%20-82.22316%2C%202.0%5D%2C%20%5B37.85906%2C%20-82.37871%2C%200.0%5D%2C%20%5B38.1599%2C%20-82.24128%2C%201.0%5D%2C%20%5B38.16104%2C%20-82.2415%2C%202.0%5D%2C%20%5B38.17473%2C%20-82.23597%2C%201.0%5D%2C%20%5B37.92305%2C%20-82.4506%2C%202.0%5D%2C%20%5B38.23115%2C%20-82.31331999999998%2C%201.0%5D%2C%20%5B38.21804%2C%20-82.32075%2C%202.0%5D%2C%20%5B38.26467%2C%20-82.30216999999998%2C%202.0%5D%2C%20%5B38.42954%2C%20-82.2259%2C%201.0%5D%2C%20%5B38.77905%2C%20-82.06387%2C%202.0%5D%2C%20%5B38.77781%2C%20-82.06466%2C%200.0%5D%2C%20%5B38.02411%2C%20-82.4189%2C%201.0%5D%2C%20%5B38.67051%2C%20-82.11908000000003%2C%202.0%5D%2C%20%5B38.42596%2C%20-82.23701%2C%202.0%5D%2C%20%5B38.78123%2C%20-82.07059%2C%200.0%5D%2C%20%5B38.79438%2C%20-82.06900999999998%2C%201.0%5D%2C%20%5B38.29614%2C%20-82.30451%2C%200.0%5D%2C%20%5B38.30695%2C%20-82.30798%2C%201.0%5D%2C%20%5B38.97954%2C%20-81.99288%2C%201.0%5D%2C%20%5B38.17198%2C%20-82.37448%2C%202.0%5D%2C%20%5B38.41793%2C%20-82.26105%2C%202.0%5D%2C%20%5B38.90102%2C%20-82.03843%2C%201.0%5D%2C%20%5B38.766%2C%20-82.10239%2C%201.0%5D%2C%20%5B38.91051%2C%20-82.04117%2C%201.0%5D%2C%20%5B38.80465%2C%20-82.09825%2C%202.0%5D%2C%20%5B38.8012%2C%20-82.10033%2C%201.0%5D%2C%20%5B38.23948%2C%20-82.37154%2C%201.0%5D%2C%20%5B38.41644%2C%20-82.29047%2C%201.0%5D%2C%20%5B38.23129%2C%20-82.37768%2C%201.0%5D%2C%20%5B38.07184%2C%20-82.4522%2C%200.0%5D%2C%20%5B38.41043%2C%20-82.29649%2C%201.0%5D%2C%20%5B38.18367%2C%20-82.40257%2C%202.0%5D%2C%20%5B38.81453%2C%20-82.11188%2C%200.0%5D%2C%20%5B38.47049000000001%2C%20-82.27767%2C%202.0%5D%2C%20%5B38.74491%2C%20-82.1535%2C%201.0%5D%2C%20%5B38.39275%2C%20-82.32%2C%200.0%5D%2C%20%5B38.74566%2C%20-82.15773%2C%200.0%5D%2C%20%5B38.00619%2C%20-82.50683000000002%2C%201.0%5D%2C%20%5B38.38089%2C%20-82.33346999999998%2C%202.0%5D%2C%20%5B37.79388%2C%20-82.05299000000002%2C%201.0%5D%2C%20%5B37.97087%2C%20-81.97165%2C%202.0%5D%2C%20%5B38.371%2C%20-81.78931999999998%2C%200.0%5D%2C%20%5B37.88577%2C%20-82.01589%2C%201.0%5D%2C%20%5B38.81791%2C%20-81.58357%2C%200.0%5D%2C%20%5B37.97412%2C%20-81.98049%2C%202.0%5D%2C%20%5B37.64937000000001%2C%20-82.13152%2C%200.0%5D%2C%20%5B38.49173%2C%20-81.74124%2C%201.0%5D%2C%20%5B38.12702%2C%20-81.91369%2C%200.0%5D%2C%20%5B37.82528%2C%20-82.05385%2C%201.0%5D%2C%20%5B37.8467%2C%20-82.04545%2C%201.0%5D%2C%20%5B37.82471%2C%20-82.05691%2C%201.0%5D%2C%20%5B39.24716%2C%20-81.38776999999997%2C%201.0%5D%2C%20%5B37.85484%2C%20-82.04489000000002%2C%201.0%5D%2C%20%5B37.82492%2C%20-82.06008%2C%201.0%5D%2C%20%5B37.99057%2C%20-81.98546%2C%201.0%5D%2C%20%5B39.23226%2C%20-81.40024%2C%201.0%5D%2C%20%5B37.98176%2C%20-81.99183000000002%2C%201.0%5D%2C%20%5B39.04679%2C%20-81.49254%2C%200.0%5D%2C%20%5B38.44859%2C%20-81.77711%2C%200.0%5D%2C%20%5B37.62124%2C%20-82.16251%2C%201.0%5D%2C%20%5B39.2436%2C%20-81.40115%2C%202.0%5D%2C%20%5B38.6898%2C%20-81.66583%2C%200.0%5D%2C%20%5B37.62192%2C%20-82.16804%2C%201.0%5D%2C%20%5B39.18097%2C%20-81.43859%2C%202.0%5D%2C%20%5B38.3391%2C%20-81.84104%2C%202.0%5D%2C%20%5B39.326%2C%20-81.372%2C%200.0%5D%2C%20%5B38.34109%2C%20-81.84227%2C%200.0%5D%2C%20%5B37.97491%2C%20-82.01652%2C%201.0%5D%2C%20%5B38.73341%2C%20-81.66272%2C%200.0%5D%2C%20%5B38.00159%2C%20-82.00777%2C%202.0%5D%2C%20%5B38.1959%2C%20-81.918%2C%202.0%5D%2C%20%5B37.70524%2C%20-82.14585%2C%202.0%5D%2C%20%5B39.04441%2C%20-81.51956%2C%201.0%5D%2C%20%5B39.23542%2C%20-81.43032%2C%200.0%5D%2C%20%5B38.38854%2C%20-81.83399%2C%201.0%5D%2C%20%5B37.85812%2C%20-82.08187%2C%202.0%5D%2C%20%5B39.25366%2C%20-79.39862%2C%201.0%5D%2C%20%5B38.42228%2C%20-79.80773%2C%201.0%5D%2C%20%5B38.27238%2C%20-79.88072%2C%201.0%5D%2C%20%5B38.28565%2C%20-79.87565%2C%200.0%5D%2C%20%5B38.10043%2C%20-79.97079000000002%2C%201.0%5D%2C%20%5B38.54848%2C%20-79.76116999999998%2C%200.0%5D%2C%20%5B38.41769%2C%20-79.82944%2C%201.0%5D%2C%20%5B38.53857%2C%20-79.77395%2C%200.0%5D%2C%20%5B38.06422%2C%20-80.0053%2C%201.0%5D%2C%20%5B39.40018%2C%20-78.43778%2C%201.0%5D%2C%20%5B39.07595%2C%20-78.60467%2C%201.0%5D%2C%20%5B39.33447%2C%20-78.49839%2C%201.0%5D%2C%20%5B39.33615%2C%20-78.50343000000002%2C%201.0%5D%2C%20%5B39.4157%2C%20-78.47424000000002%2C%201.0%5D%2C%20%5B39.47017%2C%20-78.44723%2C%200.0%5D%2C%20%5B39.06642%2C%20-78.65473%2C%200.0%5D%2C%20%5B39.34794%2C%20-78.51562%2C%200.0%5D%2C%20%5B39.06581%2C%20-78.66373%2C%201.0%5D%2C%20%5B39.53228%2C%20-78.45588000000002%2C%201.0%5D%2C%20%5B39.53866%2C%20-78.45557%2C%201.0%5D%2C%20%5B39.29383%2C%20-78.59102%2C%201.0%5D%2C%20%5B39.12134%2C%20-78.67974%2C%201.0%5D%2C%20%5B39.29982%2C%20-78.60387%2C%201.0%5D%2C%20%5B38.91215%2C%20-78.79796%2C%201.0%5D%2C%20%5B39.04482%2C%20-78.73543000000002%2C%201.0%5D%2C%20%5B39.4452%2C%20-78.54415999999998%2C%201.0%5D%2C%20%5B38.86576%2C%20-78.83445999999998%2C%201.0%5D%2C%20%5B38.85944%2C%20-81.73541%2C%201.0%5D%2C%20%5B38.44991%2C%20-81.92961%2C%201.0%5D%2C%20%5B39.25648%2C%20-81.54800999999998%2C%200.0%5D%2C%20%5B38.45056%2C%20-81.93171%2C%200.0%5D%2C%20%5B38.02598%2C%20-82.13116%2C%202.0%5D%2C%20%5B37.9651%2C%20-82.16%2C%201.0%5D%2C%20%5B38.47858%2C%20-81.92241%2C%200.0%5D%2C%20%5B38.90092%2C%20-81.7243%2C%201.0%5D%2C%20%5B38.45599%2C%20-81.93554%2C%200.0%5D%2C%20%5B38.90459%2C%20-81.72364%2C%201.0%5D%2C%20%5B37.92291%2C%20-82.18585999999998%2C%202.0%5D%2C%20%5B38.40796%2C%20-81.96139000000002%2C%200.0%5D%2C%20%5B38.92302%2C%20-81.71925999999998%2C%201.0%5D%2C%20%5B38.52064%2C%20-81.91056%2C%200.0%5D%2C%20%5B38.89124%2C%20-81.73695%2C%201.0%5D%2C%20%5B38.89146%2C%20-81.73704000000002%2C%201.0%5D%2C%20%5B38.40804%2C%20-81.9663%2C%202.0%5D%2C%20%5B38.91863%2C%20-81.72553%2C%201.0%5D%2C%20%5B38.25446%2C%20-82.04016999999997%2C%201.0%5D%2C%20%5B38.6868%2C%20-81.83792%2C%202.0%5D%2C%20%5B38.52277%2C%20-81.91819%2C%201.0%5D%2C%20%5B39.26545%2C%20-81.56560999999998%2C%202.0%5D%2C%20%5B38.63579%2C%20-81.86891999999997%2C%201.0%5D%2C%20%5B39.30757%2C%20-81.5515%2C%202.0%5D%2C%20%5B39.05253%2C%20-81.67488%2C%200.0%5D%2C%20%5B38.17596%2C%20-82.09265%2C%201.0%5D%2C%20%5B38.03517%2C%20-82.15888000000002%2C%201.0%5D%2C%20%5B38.48413%2C%20-81.95116999999998%2C%200.0%5D%2C%20%5B39.15028%2C%20-81.6359%2C%200.0%5D%2C%20%5B37.81271%2C%20-82.27014%2C%201.0%5D%2C%20%5B38.8637%2C%20-81.78%2C%200.0%5D%2C%20%5B38.44231%2C%20-81.98399%2C%202.0%5D%2C%20%5B39.03646%2C%20-81.7031%2C%201.0%5D%2C%20%5B38.45586%2C%20-81.97967%2C%201.0%5D%2C%20%5B38.35253%2C%20-82.02903%2C%200.0%5D%2C%20%5B37.79849%2C%20-82.28591%2C%202.0%5D%2C%20%5B38.22076%2C%20-82.21897%2C%202.0%5D%2C%20%5B38.21123%2C%20-82.22593%2C%201.0%5D%2C%20%5B38.28695%2C%20-82.1969%2C%201.0%5D%2C%20%5B38.43221%2C%20-82.1334%2C%201.0%5D%2C%20%5B37.90835%2C%20-82.37835%2C%202.0%5D%2C%20%5B38.31406%2C%20-82.19071%2C%200.0%5D%2C%20%5B37.96876%2C%20-82.35601%2C%202.0%5D%2C%20%5B37.9757%2C%20-82.35635%2C%201.0%5D%2C%20%5B38.44029000000001%2C%20-82.14114000000002%2C%201.0%5D%2C%20%5B38.29867%2C%20-82.21374%2C%201.0%5D%2C%20%5B38.93903%2C%20-81.91888%2C%201.0%5D%2C%20%5B38.58837%2C%20-82.08836%2C%200.0%5D%2C%20%5B38.3365%2C%20-82.20824%2C%202.0%5D%2C%20%5B38.43655%2C%20-82.16322%2C%201.0%5D%2C%20%5B38.76836%2C%20-82.0101%2C%202.0%5D%2C%20%5B38.39585%2C%20-82.18732%2C%201.0%5D%2C%20%5B38.45205%2C%20-82.16841%2C%200.0%5D%2C%20%5B38.77233%2C%20-82.01899%2C%202.0%5D%2C%20%5B38.39962%2C%20-82.20004%2C%200.0%5D%2C%20%5B38.32339%2C%20-82.23783%2C%201.0%5D%2C%20%5B38.3419%2C%20-82.23100000000002%2C%200.0%5D%2C%20%5B38.31993%2C%20-82.24193000000002%2C%201.0%5D%2C%20%5B38.44356%2C%20-82.18999000000002%2C%201.0%5D%2C%20%5B38.41049%2C%20-82.20996%2C%200.0%5D%2C%20%5B38.4311%2C%20-82.20623%2C%201.0%5D%2C%20%5B38.77089%2C%20-82.04828%2C%200.0%5D%2C%20%5B38.97483%2C%20-81.95479%2C%201.0%5D%2C%20%5B38.40147%2C%20-82.42628%2C%201.0%5D%2C%20%5B38.10064000000001%2C%20-82.56704%2C%201.0%5D%2C%20%5B38.1336%2C%20-82.5587%2C%201.0%5D%2C%20%5B38.32715%2C%20-82.47606999999998%2C%201.0%5D%2C%20%5B38.17837%2C%20-82.55870999999998%2C%202.0%5D%2C%20%5B38.11328%2C%20-82.59142%2C%201.0%5D%2C%20%5B38.26419%2C%20-82.52861%2C%201.0%5D%2C%20%5B38.40598%2C%20-82.46346%2C%202.0%5D%2C%20%5B38.24305%2C%20-82.55238%2C%201.0%5D%2C%20%5B38.40156%2C%20-82.48008%2C%200.0%5D%2C%20%5B38.40827%2C%20-82.48253000000003%2C%201.0%5D%2C%20%5B38.05512%2C%20-82.4868%2C%201.0%5D%2C%20%5B38.7322%2C%20-82.17186%2C%201.0%5D%2C%20%5B38.4838%2C%20-82.29451%2C%201.0%5D%2C%20%5B38.73144%2C%20-82.17951%2C%201.0%5D%2C%20%5B38.49135%2C%20-82.29468%2C%201.0%5D%2C%20%5B38.83494%2C%20-82.14794%2C%201.0%5D%2C%20%5B38.41345%2C%20-82.34794000000002%2C%201.0%5D%2C%20%5B38.40933%2C%20-82.35306%2C%201.0%5D%2C%20%5B38.4095%2C%20-82.35327%2C%201.0%5D%2C%20%5B38.15711%2C%20-82.47339000000002%2C%201.0%5D%2C%20%5B38.25174000000001%2C%20-82.43183%2C%202.0%5D%2C%20%5B38.24506%2C%20-82.43925%2C%201.0%5D%2C%20%5B38.40595%2C%20-82.36573%2C%201.0%5D%2C%20%5B38.30707%2C%20-82.4257%2C%202.0%5D%2C%20%5B38.1639%2C%20-82.49396%2C%202.0%5D%2C%20%5B38.41252%2C%20-82.38655%2C%201.0%5D%2C%20%5B38.25054%2C%20-82.46406%2C%200.0%5D%2C%20%5B38.39291%2C%20-82.40691%2C%201.0%5D%2C%20%5B38.39342%2C%20-82.40718000000003%2C%200.0%5D%2C%20%5B38.39496%2C%20-82.41324%2C%200.0%5D%2C%20%5B38.35218%2C%20-82.43848%2C%200.0%5D%2C%20%5B38.93725%2C%20-81.7544%2C%201.0%5D%2C%20%5B37.79824%2C%20-82.28851%2C%200.0%5D%2C%20%5B38.91031%2C%20-81.77198%2C%201.0%5D%2C%20%5B39.11932%2C%20-81.67407%2C%200.0%5D%2C%20%5B38.40752%2C%20-82.01302%2C%201.0%5D%2C%20%5B38.08284%2C%20-82.16573000000002%2C%202.0%5D%2C%20%5B38.94633%2C%20-81.7602%2C%202.0%5D%2C%20%5B38.54622%2C%20-81.95234%2C%200.0%5D%2C%20%5B39.17408%2C%20-81.65563%2C%200.0%5D%2C%20%5B38.99249%2C%20-81.74631%2C%200.0%5D%2C%20%5B37.91287%2C%20-82.25294%2C%201.0%5D%2C%20%5B39.00374%2C%20-81.74436999999998%2C%200.0%5D%2C%20%5B38.41848%2C%20-82.02141%2C%201.0%5D%2C%20%5B38.42599000000001%2C%20-82.0202%2C%202.0%5D%2C%20%5B37.9219%2C%20-82.25464000000002%2C%200.0%5D%2C%20%5B38.40927%2C%20-82.48295%2C%201.0%5D%2C%20%5B38.41086%2C%20-82.48365%2C%201.0%5D%2C%20%5B38.41191%2C%20-82.48409000000002%2C%201.0%5D%2C%20%5B38.29937%2C%20-82.54182%2C%201.0%5D%2C%20%5B38.39747%2C%20-82.50023%2C%201.0%5D%2C%20%5B38.39553%2C%20-82.51581%2C%201.0%5D%2C%20%5B38.39661%2C%20-82.51645%2C%201.0%5D%2C%20%5B38.3093%2C%20-82.57137%2C%201.0%5D%2C%20%5B38.39634%2C%20-82.5415%2C%201.0%5D%2C%20%5B38.39022%2C%20-82.5649%2C%202.0%5D%2C%20%5B38.39101%2C%20-82.57384%2C%201.0%5D%2C%20%5B37.92956%2C%20-81.12427%2C%200.0%5D%2C%20%5B38.84641%2C%20-81.00169%2C%200.0%5D%2C%20%5B37.62807%2C%20-81.67853000000002%2C%202.0%5D%2C%20%5B39.42009%2C%20-80.94829%2C%200.0%5D%2C%20%5B39.25868%2C%20-81.10639%2C%200.0%5D%2C%20%5B38.77168%2C%20-81.66903%2C%200.0%5D%2C%20%5B37.89328%2C%20-82.23770999999998%2C%200.0%5D%2C%20%5B38.37739000000001%2C%20-82.24958000000002%2C%201.0%5D%2C%20%5B39.46734%2C%20-78.02438000000002%2C%200.0%5D%2C%20%5B38.92155%2C%20-79.52695%2C%200.0%5D%2C%20%5B39.39466%2C%20-79.57307%2C%200.0%5D%2C%20%5B37.98665%2C%20-80.46154%2C%200.0%5D%2C%20%5B38.34944%2C%20-80.39299%2C%200.0%5D%2C%20%5B37.67693%2C%20-81.11971%2C%201.0%5D%5D%2C%0A%20%20%20%20%20%20%20%20%20%20%20%20%20%20%20%20%7B%22blur%22%3A%2015%2C%20%22maxZoom%22%3A%2018%2C%20%22minOpacity%22%3A%200.5%2C%20%22radius%22%3A%2025%7D%0A%20%20%20%20%20%20%20%20%20%20%20%20%29.addTo%28map_a3f8259ad478403898dcaff130f207e3%29%3B%0A%20%20%20%20%20%20%20%20%0A%3C/script%3E onload=\"this.contentDocument.open();this.contentDocument.write(    decodeURIComponent(this.getAttribute('data-html')));this.contentDocument.close();\" allowfullscreen webkitallowfullscreen mozallowfullscreen></iframe></div></div>"
      ],
      "text/plain": [
       "<folium.folium.Map at 0x2a040f8ab20>"
      ]
     },
     "metadata": {},
     "output_type": "display_data"
    }
   ],
   "source": [
    "\n",
    "HeatMap(data = ny_df_grouped).add_to(m)\n",
    "display(m)"
   ]
  },
  {
   "cell_type": "code",
   "execution_count": null,
   "metadata": {},
   "outputs": [],
   "source": []
  },
  {
   "cell_type": "code",
   "execution_count": null,
   "metadata": {},
   "outputs": [],
   "source": []
  },
  {
   "cell_type": "code",
   "execution_count": null,
   "metadata": {},
   "outputs": [],
   "source": []
  },
  {
   "cell_type": "code",
   "execution_count": null,
   "metadata": {},
   "outputs": [],
   "source": []
  },
  {
   "cell_type": "code",
   "execution_count": null,
   "metadata": {},
   "outputs": [],
   "source": []
  }
 ],
 "metadata": {
  "kernelspec": {
   "display_name": "Python 3",
   "language": "python",
   "name": "python3"
  },
  "language_info": {
   "codemirror_mode": {
    "name": "ipython",
    "version": 3
   },
   "file_extension": ".py",
   "mimetype": "text/x-python",
   "name": "python",
   "nbconvert_exporter": "python",
   "pygments_lexer": "ipython3",
   "version": "3.8.5"
  },
  "toc": {
   "base_numbering": 1,
   "nav_menu": {},
   "number_sections": true,
   "sideBar": true,
   "skip_h1_title": false,
   "title_cell": "Table of Contents",
   "title_sidebar": "Contents",
   "toc_cell": false,
   "toc_position": {
    "height": "calc(100% - 180px)",
    "left": "10px",
    "top": "150px",
    "width": "243px"
   },
   "toc_section_display": true,
   "toc_window_display": true
  },
  "varInspector": {
   "cols": {
    "lenName": 16,
    "lenType": 16,
    "lenVar": 40
   },
   "kernels_config": {
    "python": {
     "delete_cmd_postfix": "",
     "delete_cmd_prefix": "del ",
     "library": "var_list.py",
     "varRefreshCmd": "print(var_dic_list())"
    },
    "r": {
     "delete_cmd_postfix": ") ",
     "delete_cmd_prefix": "rm(",
     "library": "var_list.r",
     "varRefreshCmd": "cat(var_dic_list()) "
    }
   },
   "types_to_exclude": [
    "module",
    "function",
    "builtin_function_or_method",
    "instance",
    "_Feature"
   ],
   "window_display": false
  }
 },
 "nbformat": 4,
 "nbformat_minor": 4
}
