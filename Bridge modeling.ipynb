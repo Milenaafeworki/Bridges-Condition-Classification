{
 "cells": [
  {
   "cell_type": "markdown",
   "metadata": {},
   "source": [
    "# Modeling"
   ]
  },
  {
   "cell_type": "code",
   "execution_count": null,
   "metadata": {},
   "outputs": [],
   "source": []
  },
  {
   "cell_type": "code",
   "execution_count": null,
   "metadata": {},
   "outputs": [],
   "source": []
  },
  {
   "cell_type": "code",
   "execution_count": null,
   "metadata": {},
   "outputs": [],
   "source": []
  },
  {
   "cell_type": "code",
   "execution_count": null,
   "metadata": {},
   "outputs": [],
   "source": []
  },
  {
   "cell_type": "code",
   "execution_count": null,
   "metadata": {},
   "outputs": [],
   "source": []
  },
  {
   "cell_type": "code",
   "execution_count": 18,
   "metadata": {
    "ExecuteTime": {
     "end_time": "2021-08-30T19:37:16.210130Z",
     "start_time": "2021-08-30T19:37:16.199879Z"
    }
   },
   "outputs": [],
   "source": [
    "#import necessary libraries\n",
    "\n",
    "import pandas as pd\n",
    "import numpy as np\n",
    "import seaborn as sns\n",
    "import matplotlib.pyplot as plt\n",
    "\n",
    "\n",
    "pd.options.mode.chained_assignment = None  # default='warn'\n",
    "\n",
    "from sklearn.model_selection import train_test_split, cross_val_score\n",
    "\n",
    "from sklearn.metrics import confusion_matrix, classification_report\n",
    "import warnings\n",
    "warnings.simplefilter(action='ignore', category=FutureWarning)\n",
    "# sns.set_style('whitegrid')\n",
    "\n",
    "from sklearn.metrics import plot_confusion_matrix\n",
    "\n",
    "from xgboost import XGBClassifier"
   ]
  },
  {
   "cell_type": "code",
   "execution_count": null,
   "metadata": {},
   "outputs": [],
   "source": []
  },
  {
   "cell_type": "markdown",
   "metadata": {
    "ExecuteTime": {
     "end_time": "2021-08-23T17:48:31.624510Z",
     "start_time": "2021-08-23T17:48:30.526151Z"
    }
   },
   "source": [
    "## Read CSV file"
   ]
  },
  {
   "cell_type": "code",
   "execution_count": 19,
   "metadata": {
    "ExecuteTime": {
     "end_time": "2021-08-30T19:37:18.446180Z",
     "start_time": "2021-08-30T19:37:16.216434Z"
    }
   },
   "outputs": [
    {
     "data": {
      "text/html": [
       "<div>\n",
       "<style scoped>\n",
       "    .dataframe tbody tr th:only-of-type {\n",
       "        vertical-align: middle;\n",
       "    }\n",
       "\n",
       "    .dataframe tbody tr th {\n",
       "        vertical-align: top;\n",
       "    }\n",
       "\n",
       "    .dataframe thead th {\n",
       "        text-align: right;\n",
       "    }\n",
       "</style>\n",
       "<table border=\"1\" class=\"dataframe\">\n",
       "  <thead>\n",
       "    <tr style=\"text-align: right;\">\n",
       "      <th></th>\n",
       "      <th>state</th>\n",
       "      <th>str_id</th>\n",
       "      <th>deck_type</th>\n",
       "      <th>wearing_type</th>\n",
       "      <th>membrane_type</th>\n",
       "      <th>deck_protection</th>\n",
       "      <th>toll</th>\n",
       "      <th>freeze_thaw_cycle</th>\n",
       "      <th>snowfall_days</th>\n",
       "      <th>inventory_class_route</th>\n",
       "      <th>...</th>\n",
       "      <th>yr_reconst</th>\n",
       "      <th>skew</th>\n",
       "      <th>max_span</th>\n",
       "      <th>bridge_width</th>\n",
       "      <th>deck_width</th>\n",
       "      <th>super_st_condition</th>\n",
       "      <th>sub_st_condition</th>\n",
       "      <th>deck_condition</th>\n",
       "      <th>avg_daily_trfic</th>\n",
       "      <th>avg_truck_trfc</th>\n",
       "    </tr>\n",
       "  </thead>\n",
       "  <tbody>\n",
       "    <tr>\n",
       "      <th>0</th>\n",
       "      <td>Alabama</td>\n",
       "      <td>021480</td>\n",
       "      <td>1</td>\n",
       "      <td>0</td>\n",
       "      <td>0</td>\n",
       "      <td>0</td>\n",
       "      <td>3.0</td>\n",
       "      <td>14</td>\n",
       "      <td>0.0</td>\n",
       "      <td>2.0</td>\n",
       "      <td>...</td>\n",
       "      <td>0</td>\n",
       "      <td>23.0</td>\n",
       "      <td>274.9</td>\n",
       "      <td>38.1</td>\n",
       "      <td>41.0</td>\n",
       "      <td>7.0</td>\n",
       "      <td>7.0</td>\n",
       "      <td>7.0</td>\n",
       "      <td>4940</td>\n",
       "      <td>35</td>\n",
       "    </tr>\n",
       "    <tr>\n",
       "      <th>1</th>\n",
       "      <td>Alabama</td>\n",
       "      <td>009763</td>\n",
       "      <td>N</td>\n",
       "      <td>6</td>\n",
       "      <td>0</td>\n",
       "      <td>0</td>\n",
       "      <td>3.0</td>\n",
       "      <td>14</td>\n",
       "      <td>0.0</td>\n",
       "      <td>7.0</td>\n",
       "      <td>...</td>\n",
       "      <td>0</td>\n",
       "      <td>45.0</td>\n",
       "      <td>12.1</td>\n",
       "      <td>0.0</td>\n",
       "      <td>0.0</td>\n",
       "      <td>NaN</td>\n",
       "      <td>NaN</td>\n",
       "      <td>NaN</td>\n",
       "      <td>280</td>\n",
       "      <td>7</td>\n",
       "    </tr>\n",
       "    <tr>\n",
       "      <th>2</th>\n",
       "      <td>Alabama</td>\n",
       "      <td>003324</td>\n",
       "      <td>N</td>\n",
       "      <td>N</td>\n",
       "      <td>N</td>\n",
       "      <td>N</td>\n",
       "      <td>3.0</td>\n",
       "      <td>14</td>\n",
       "      <td>0.0</td>\n",
       "      <td>6.0</td>\n",
       "      <td>...</td>\n",
       "      <td>2009</td>\n",
       "      <td>0.0</td>\n",
       "      <td>7.9</td>\n",
       "      <td>0.0</td>\n",
       "      <td>0.0</td>\n",
       "      <td>NaN</td>\n",
       "      <td>NaN</td>\n",
       "      <td>NaN</td>\n",
       "      <td>420</td>\n",
       "      <td>7</td>\n",
       "    </tr>\n",
       "    <tr>\n",
       "      <th>3</th>\n",
       "      <td>Alabama</td>\n",
       "      <td>006369</td>\n",
       "      <td>1</td>\n",
       "      <td>0</td>\n",
       "      <td>0</td>\n",
       "      <td>0</td>\n",
       "      <td>3.0</td>\n",
       "      <td>14</td>\n",
       "      <td>0.0</td>\n",
       "      <td>6.0</td>\n",
       "      <td>...</td>\n",
       "      <td>0</td>\n",
       "      <td>0.0</td>\n",
       "      <td>60.0</td>\n",
       "      <td>23.6</td>\n",
       "      <td>27.6</td>\n",
       "      <td>7.0</td>\n",
       "      <td>7.0</td>\n",
       "      <td>6.0</td>\n",
       "      <td>420</td>\n",
       "      <td>7</td>\n",
       "    </tr>\n",
       "    <tr>\n",
       "      <th>4</th>\n",
       "      <td>Alabama</td>\n",
       "      <td>015078</td>\n",
       "      <td>2</td>\n",
       "      <td>0</td>\n",
       "      <td>0</td>\n",
       "      <td>0</td>\n",
       "      <td>3.0</td>\n",
       "      <td>14</td>\n",
       "      <td>0.0</td>\n",
       "      <td>8.0</td>\n",
       "      <td>...</td>\n",
       "      <td>0</td>\n",
       "      <td>0.0</td>\n",
       "      <td>15.1</td>\n",
       "      <td>23.6</td>\n",
       "      <td>24.9</td>\n",
       "      <td>5.0</td>\n",
       "      <td>6.0</td>\n",
       "      <td>5.0</td>\n",
       "      <td>70</td>\n",
       "      <td>0</td>\n",
       "    </tr>\n",
       "  </tbody>\n",
       "</table>\n",
       "<p>5 rows × 38 columns</p>\n",
       "</div>"
      ],
      "text/plain": [
       "       state           str_id deck_type wearing_type membrane_type  \\\n",
       "0    Alabama  021480                  1            0             0   \n",
       "1    Alabama  009763                  N            6             0   \n",
       "2    Alabama  003324                  N            N             N   \n",
       "3    Alabama  006369                  1            0             0   \n",
       "4    Alabama  015078                  2            0             0   \n",
       "\n",
       "  deck_protection  toll  freeze_thaw_cycle  snowfall_days  \\\n",
       "0               0   3.0                 14            0.0   \n",
       "1               0   3.0                 14            0.0   \n",
       "2               N   3.0                 14            0.0   \n",
       "3               0   3.0                 14            0.0   \n",
       "4               0   3.0                 14            0.0   \n",
       "\n",
       "   inventory_class_route  ...  yr_reconst  skew  max_span  bridge_width  \\\n",
       "0                    2.0  ...           0  23.0     274.9          38.1   \n",
       "1                    7.0  ...           0  45.0      12.1           0.0   \n",
       "2                    6.0  ...        2009   0.0       7.9           0.0   \n",
       "3                    6.0  ...           0   0.0      60.0          23.6   \n",
       "4                    8.0  ...           0   0.0      15.1          23.6   \n",
       "\n",
       "   deck_width  super_st_condition  sub_st_condition  deck_condition  \\\n",
       "0        41.0                 7.0               7.0             7.0   \n",
       "1         0.0                 NaN               NaN             NaN   \n",
       "2         0.0                 NaN               NaN             NaN   \n",
       "3        27.6                 7.0               7.0             6.0   \n",
       "4        24.9                 5.0               6.0             5.0   \n",
       "\n",
       "   avg_daily_trfic avg_truck_trfc  \n",
       "0             4940             35  \n",
       "1              280              7  \n",
       "2              420              7  \n",
       "3              420              7  \n",
       "4               70              0  \n",
       "\n",
       "[5 rows x 38 columns]"
      ]
     },
     "execution_count": 19,
     "metadata": {},
     "output_type": "execute_result"
    }
   ],
   "source": [
    "df1 = pd.read_csv('bridge_data_cleaned1')\n",
    "df1.head()"
   ]
  },
  {
   "cell_type": "code",
   "execution_count": 20,
   "metadata": {
    "ExecuteTime": {
     "end_time": "2021-08-30T19:37:20.943410Z",
     "start_time": "2021-08-30T19:37:18.452180Z"
    }
   },
   "outputs": [
    {
     "data": {
      "text/html": [
       "<div>\n",
       "<style scoped>\n",
       "    .dataframe tbody tr th:only-of-type {\n",
       "        vertical-align: middle;\n",
       "    }\n",
       "\n",
       "    .dataframe tbody tr th {\n",
       "        vertical-align: top;\n",
       "    }\n",
       "\n",
       "    .dataframe thead th {\n",
       "        text-align: right;\n",
       "    }\n",
       "</style>\n",
       "<table border=\"1\" class=\"dataframe\">\n",
       "  <thead>\n",
       "    <tr style=\"text-align: right;\">\n",
       "      <th></th>\n",
       "      <th>state</th>\n",
       "      <th>str_id</th>\n",
       "      <th>deck_type</th>\n",
       "      <th>wearing_type</th>\n",
       "      <th>membrane_type</th>\n",
       "      <th>deck_protection</th>\n",
       "      <th>toll</th>\n",
       "      <th>freeze_thaw_cycle</th>\n",
       "      <th>snowfall_days</th>\n",
       "      <th>inventory_class_route</th>\n",
       "      <th>...</th>\n",
       "      <th>yr_reconst</th>\n",
       "      <th>skew</th>\n",
       "      <th>max_span</th>\n",
       "      <th>bridge_width</th>\n",
       "      <th>deck_width</th>\n",
       "      <th>super_st_condition</th>\n",
       "      <th>sub_st_condition</th>\n",
       "      <th>deck_condition</th>\n",
       "      <th>avg_daily_trfic</th>\n",
       "      <th>avg_truck_trfc</th>\n",
       "    </tr>\n",
       "  </thead>\n",
       "  <tbody>\n",
       "    <tr>\n",
       "      <th>0</th>\n",
       "      <td>Minnesota</td>\n",
       "      <td>L9347</td>\n",
       "      <td>8</td>\n",
       "      <td>8</td>\n",
       "      <td>0</td>\n",
       "      <td>N</td>\n",
       "      <td>3</td>\n",
       "      <td>114</td>\n",
       "      <td>83.0</td>\n",
       "      <td>9</td>\n",
       "      <td>...</td>\n",
       "      <td>0</td>\n",
       "      <td>0.0</td>\n",
       "      <td>32.2</td>\n",
       "      <td>24.0</td>\n",
       "      <td>25.9</td>\n",
       "      <td>5.0</td>\n",
       "      <td>5.0</td>\n",
       "      <td>7.0</td>\n",
       "      <td>40</td>\n",
       "      <td>15</td>\n",
       "    </tr>\n",
       "    <tr>\n",
       "      <th>1</th>\n",
       "      <td>Minnesota</td>\n",
       "      <td>L9903</td>\n",
       "      <td>N</td>\n",
       "      <td>N</td>\n",
       "      <td>N</td>\n",
       "      <td>N</td>\n",
       "      <td>3</td>\n",
       "      <td>112</td>\n",
       "      <td>83.0</td>\n",
       "      <td>9</td>\n",
       "      <td>...</td>\n",
       "      <td>0</td>\n",
       "      <td>0.0</td>\n",
       "      <td>11.5</td>\n",
       "      <td>0.0</td>\n",
       "      <td>0.0</td>\n",
       "      <td>NaN</td>\n",
       "      <td>NaN</td>\n",
       "      <td>NaN</td>\n",
       "      <td>28</td>\n",
       "      <td>4</td>\n",
       "    </tr>\n",
       "    <tr>\n",
       "      <th>2</th>\n",
       "      <td>Minnesota</td>\n",
       "      <td>96781</td>\n",
       "      <td>N</td>\n",
       "      <td>N</td>\n",
       "      <td>N</td>\n",
       "      <td>N</td>\n",
       "      <td>3</td>\n",
       "      <td>96</td>\n",
       "      <td>111.0</td>\n",
       "      <td>7</td>\n",
       "      <td>...</td>\n",
       "      <td>0</td>\n",
       "      <td>30.0</td>\n",
       "      <td>11.8</td>\n",
       "      <td>0.0</td>\n",
       "      <td>0.0</td>\n",
       "      <td>NaN</td>\n",
       "      <td>NaN</td>\n",
       "      <td>NaN</td>\n",
       "      <td>450</td>\n",
       "      <td>4</td>\n",
       "    </tr>\n",
       "    <tr>\n",
       "      <th>3</th>\n",
       "      <td>Minnesota</td>\n",
       "      <td>34J05</td>\n",
       "      <td>N</td>\n",
       "      <td>N</td>\n",
       "      <td>N</td>\n",
       "      <td>N</td>\n",
       "      <td>3</td>\n",
       "      <td>111</td>\n",
       "      <td>89.0</td>\n",
       "      <td>9</td>\n",
       "      <td>...</td>\n",
       "      <td>0</td>\n",
       "      <td>4.0</td>\n",
       "      <td>12.1</td>\n",
       "      <td>0.0</td>\n",
       "      <td>0.0</td>\n",
       "      <td>NaN</td>\n",
       "      <td>NaN</td>\n",
       "      <td>NaN</td>\n",
       "      <td>48</td>\n",
       "      <td>10</td>\n",
       "    </tr>\n",
       "    <tr>\n",
       "      <th>4</th>\n",
       "      <td>Minnesota</td>\n",
       "      <td>17508</td>\n",
       "      <td>8</td>\n",
       "      <td>6</td>\n",
       "      <td>0</td>\n",
       "      <td>N</td>\n",
       "      <td>3</td>\n",
       "      <td>112</td>\n",
       "      <td>83.0</td>\n",
       "      <td>9</td>\n",
       "      <td>...</td>\n",
       "      <td>0</td>\n",
       "      <td>0.0</td>\n",
       "      <td>44.9</td>\n",
       "      <td>20.3</td>\n",
       "      <td>21.7</td>\n",
       "      <td>8.0</td>\n",
       "      <td>7.0</td>\n",
       "      <td>7.0</td>\n",
       "      <td>20</td>\n",
       "      <td>3</td>\n",
       "    </tr>\n",
       "  </tbody>\n",
       "</table>\n",
       "<p>5 rows × 38 columns</p>\n",
       "</div>"
      ],
      "text/plain": [
       "         state           str_id deck_type wearing_type membrane_type  \\\n",
       "0    Minnesota  L9347                   8            8             0   \n",
       "1    Minnesota  L9903                   N            N             N   \n",
       "2    Minnesota  96781                   N            N             N   \n",
       "3    Minnesota  34J05                   N            N             N   \n",
       "4    Minnesota  17508                   8            6             0   \n",
       "\n",
       "  deck_protection  toll  freeze_thaw_cycle  snowfall_days  \\\n",
       "0               N     3                114           83.0   \n",
       "1               N     3                112           83.0   \n",
       "2               N     3                 96          111.0   \n",
       "3               N     3                111           89.0   \n",
       "4               N     3                112           83.0   \n",
       "\n",
       "   inventory_class_route  ...  yr_reconst  skew  max_span  bridge_width  \\\n",
       "0                      9  ...           0   0.0      32.2          24.0   \n",
       "1                      9  ...           0   0.0      11.5           0.0   \n",
       "2                      7  ...           0  30.0      11.8           0.0   \n",
       "3                      9  ...           0   4.0      12.1           0.0   \n",
       "4                      9  ...           0   0.0      44.9          20.3   \n",
       "\n",
       "   deck_width  super_st_condition  sub_st_condition  deck_condition  \\\n",
       "0        25.9                 5.0               5.0             7.0   \n",
       "1         0.0                 NaN               NaN             NaN   \n",
       "2         0.0                 NaN               NaN             NaN   \n",
       "3         0.0                 NaN               NaN             NaN   \n",
       "4        21.7                 8.0               7.0             7.0   \n",
       "\n",
       "   avg_daily_trfic avg_truck_trfc  \n",
       "0               40             15  \n",
       "1               28              4  \n",
       "2              450              4  \n",
       "3               48             10  \n",
       "4               20              3  \n",
       "\n",
       "[5 rows x 38 columns]"
      ]
     },
     "execution_count": 20,
     "metadata": {},
     "output_type": "execute_result"
    }
   ],
   "source": [
    "df2 = pd.read_csv('bridge_data_cleaned2')\n",
    "df2.head()"
   ]
  },
  {
   "cell_type": "code",
   "execution_count": 21,
   "metadata": {
    "ExecuteTime": {
     "end_time": "2021-08-30T19:37:22.887810Z",
     "start_time": "2021-08-30T19:37:20.947417Z"
    }
   },
   "outputs": [
    {
     "data": {
      "text/html": [
       "<div>\n",
       "<style scoped>\n",
       "    .dataframe tbody tr th:only-of-type {\n",
       "        vertical-align: middle;\n",
       "    }\n",
       "\n",
       "    .dataframe tbody tr th {\n",
       "        vertical-align: top;\n",
       "    }\n",
       "\n",
       "    .dataframe thead th {\n",
       "        text-align: right;\n",
       "    }\n",
       "</style>\n",
       "<table border=\"1\" class=\"dataframe\">\n",
       "  <thead>\n",
       "    <tr style=\"text-align: right;\">\n",
       "      <th></th>\n",
       "      <th>state</th>\n",
       "      <th>str_id</th>\n",
       "      <th>deck_type</th>\n",
       "      <th>wearing_type</th>\n",
       "      <th>membrane_type</th>\n",
       "      <th>deck_protection</th>\n",
       "      <th>toll</th>\n",
       "      <th>freeze_thaw_cycle</th>\n",
       "      <th>snowfall_days</th>\n",
       "      <th>inventory_class_route</th>\n",
       "      <th>...</th>\n",
       "      <th>yr_reconst</th>\n",
       "      <th>skew</th>\n",
       "      <th>max_span</th>\n",
       "      <th>bridge_width</th>\n",
       "      <th>deck_width</th>\n",
       "      <th>super_st_condition</th>\n",
       "      <th>sub_st_condition</th>\n",
       "      <th>deck_condition</th>\n",
       "      <th>avg_daily_trfic</th>\n",
       "      <th>avg_truck_trfc</th>\n",
       "    </tr>\n",
       "  </thead>\n",
       "  <tbody>\n",
       "    <tr>\n",
       "      <th>0</th>\n",
       "      <td>Pennsylvania</td>\n",
       "      <td>000000000018583</td>\n",
       "      <td>1</td>\n",
       "      <td>6</td>\n",
       "      <td>2</td>\n",
       "      <td>0</td>\n",
       "      <td>3</td>\n",
       "      <td>117</td>\n",
       "      <td>59.0</td>\n",
       "      <td>2</td>\n",
       "      <td>...</td>\n",
       "      <td>0</td>\n",
       "      <td>1.0</td>\n",
       "      <td>21.0</td>\n",
       "      <td>49.2</td>\n",
       "      <td>52.5</td>\n",
       "      <td>6.0</td>\n",
       "      <td>6.0</td>\n",
       "      <td>6.0</td>\n",
       "      <td>12394</td>\n",
       "      <td>10</td>\n",
       "    </tr>\n",
       "    <tr>\n",
       "      <th>1</th>\n",
       "      <td>Pennsylvania</td>\n",
       "      <td>000000000041175</td>\n",
       "      <td>1</td>\n",
       "      <td>1</td>\n",
       "      <td>0</td>\n",
       "      <td>1</td>\n",
       "      <td>3</td>\n",
       "      <td>117</td>\n",
       "      <td>70.0</td>\n",
       "      <td>1</td>\n",
       "      <td>...</td>\n",
       "      <td>0</td>\n",
       "      <td>35.0</td>\n",
       "      <td>240.2</td>\n",
       "      <td>52.2</td>\n",
       "      <td>55.1</td>\n",
       "      <td>8.0</td>\n",
       "      <td>7.0</td>\n",
       "      <td>7.0</td>\n",
       "      <td>12189</td>\n",
       "      <td>15</td>\n",
       "    </tr>\n",
       "    <tr>\n",
       "      <th>2</th>\n",
       "      <td>Pennsylvania</td>\n",
       "      <td>000000000041176</td>\n",
       "      <td>1</td>\n",
       "      <td>1</td>\n",
       "      <td>0</td>\n",
       "      <td>1</td>\n",
       "      <td>3</td>\n",
       "      <td>117</td>\n",
       "      <td>70.0</td>\n",
       "      <td>1</td>\n",
       "      <td>...</td>\n",
       "      <td>0</td>\n",
       "      <td>34.0</td>\n",
       "      <td>226.0</td>\n",
       "      <td>51.8</td>\n",
       "      <td>54.8</td>\n",
       "      <td>8.0</td>\n",
       "      <td>7.0</td>\n",
       "      <td>7.0</td>\n",
       "      <td>12744</td>\n",
       "      <td>14</td>\n",
       "    </tr>\n",
       "    <tr>\n",
       "      <th>3</th>\n",
       "      <td>Pennsylvania</td>\n",
       "      <td>000000000004028</td>\n",
       "      <td>1</td>\n",
       "      <td>3</td>\n",
       "      <td>0</td>\n",
       "      <td>1</td>\n",
       "      <td>3</td>\n",
       "      <td>104</td>\n",
       "      <td>48.0</td>\n",
       "      <td>1</td>\n",
       "      <td>...</td>\n",
       "      <td>2004</td>\n",
       "      <td>0.0</td>\n",
       "      <td>32.2</td>\n",
       "      <td>40.0</td>\n",
       "      <td>43.6</td>\n",
       "      <td>8.0</td>\n",
       "      <td>6.0</td>\n",
       "      <td>6.0</td>\n",
       "      <td>8169</td>\n",
       "      <td>34</td>\n",
       "    </tr>\n",
       "    <tr>\n",
       "      <th>4</th>\n",
       "      <td>Pennsylvania</td>\n",
       "      <td>000000000009312</td>\n",
       "      <td>N</td>\n",
       "      <td>N</td>\n",
       "      <td>N</td>\n",
       "      <td>N</td>\n",
       "      <td>3</td>\n",
       "      <td>117</td>\n",
       "      <td>70.0</td>\n",
       "      <td>1</td>\n",
       "      <td>...</td>\n",
       "      <td>0</td>\n",
       "      <td>56.0</td>\n",
       "      <td>37.1</td>\n",
       "      <td>0.0</td>\n",
       "      <td>0.0</td>\n",
       "      <td>NaN</td>\n",
       "      <td>NaN</td>\n",
       "      <td>NaN</td>\n",
       "      <td>11792</td>\n",
       "      <td>39</td>\n",
       "    </tr>\n",
       "  </tbody>\n",
       "</table>\n",
       "<p>5 rows × 38 columns</p>\n",
       "</div>"
      ],
      "text/plain": [
       "            state           str_id deck_type wearing_type membrane_type  \\\n",
       "0    Pennsylvania  000000000018583         1            6             2   \n",
       "1    Pennsylvania  000000000041175         1            1             0   \n",
       "2    Pennsylvania  000000000041176         1            1             0   \n",
       "3    Pennsylvania  000000000004028         1            3             0   \n",
       "4    Pennsylvania  000000000009312         N            N             N   \n",
       "\n",
       "  deck_protection  toll  freeze_thaw_cycle  snowfall_days  \\\n",
       "0               0     3                117           59.0   \n",
       "1               1     3                117           70.0   \n",
       "2               1     3                117           70.0   \n",
       "3               1     3                104           48.0   \n",
       "4               N     3                117           70.0   \n",
       "\n",
       "   inventory_class_route  ...  yr_reconst  skew  max_span  bridge_width  \\\n",
       "0                      2  ...           0   1.0      21.0          49.2   \n",
       "1                      1  ...           0  35.0     240.2          52.2   \n",
       "2                      1  ...           0  34.0     226.0          51.8   \n",
       "3                      1  ...        2004   0.0      32.2          40.0   \n",
       "4                      1  ...           0  56.0      37.1           0.0   \n",
       "\n",
       "   deck_width  super_st_condition  sub_st_condition  deck_condition  \\\n",
       "0        52.5                 6.0               6.0             6.0   \n",
       "1        55.1                 8.0               7.0             7.0   \n",
       "2        54.8                 8.0               7.0             7.0   \n",
       "3        43.6                 8.0               6.0             6.0   \n",
       "4         0.0                 NaN               NaN             NaN   \n",
       "\n",
       "   avg_daily_trfic avg_truck_trfc  \n",
       "0            12394             10  \n",
       "1            12189             15  \n",
       "2            12744             14  \n",
       "3             8169             34  \n",
       "4            11792             39  \n",
       "\n",
       "[5 rows x 38 columns]"
      ]
     },
     "execution_count": 21,
     "metadata": {},
     "output_type": "execute_result"
    }
   ],
   "source": [
    "df3 = pd.read_csv('bridge_data_cleaned3')\n",
    "df3.head()"
   ]
  },
  {
   "cell_type": "code",
   "execution_count": 22,
   "metadata": {
    "ExecuteTime": {
     "end_time": "2021-08-30T19:37:23.453517Z",
     "start_time": "2021-08-30T19:37:22.890813Z"
    }
   },
   "outputs": [
    {
     "data": {
      "text/html": [
       "<div>\n",
       "<style scoped>\n",
       "    .dataframe tbody tr th:only-of-type {\n",
       "        vertical-align: middle;\n",
       "    }\n",
       "\n",
       "    .dataframe tbody tr th {\n",
       "        vertical-align: top;\n",
       "    }\n",
       "\n",
       "    .dataframe thead th {\n",
       "        text-align: right;\n",
       "    }\n",
       "</style>\n",
       "<table border=\"1\" class=\"dataframe\">\n",
       "  <thead>\n",
       "    <tr style=\"text-align: right;\">\n",
       "      <th></th>\n",
       "      <th>state</th>\n",
       "      <th>str_id</th>\n",
       "      <th>deck_type</th>\n",
       "      <th>wearing_type</th>\n",
       "      <th>membrane_type</th>\n",
       "      <th>deck_protection</th>\n",
       "      <th>toll</th>\n",
       "      <th>freeze_thaw_cycle</th>\n",
       "      <th>snowfall_days</th>\n",
       "      <th>inventory_class_route</th>\n",
       "      <th>...</th>\n",
       "      <th>yr_reconst</th>\n",
       "      <th>skew</th>\n",
       "      <th>max_span</th>\n",
       "      <th>bridge_width</th>\n",
       "      <th>deck_width</th>\n",
       "      <th>super_st_condition</th>\n",
       "      <th>sub_st_condition</th>\n",
       "      <th>deck_condition</th>\n",
       "      <th>avg_daily_trfic</th>\n",
       "      <th>avg_truck_trfc</th>\n",
       "    </tr>\n",
       "  </thead>\n",
       "  <tbody>\n",
       "    <tr>\n",
       "      <th>0</th>\n",
       "      <td>Alabama</td>\n",
       "      <td>021480</td>\n",
       "      <td>1</td>\n",
       "      <td>0</td>\n",
       "      <td>0</td>\n",
       "      <td>0</td>\n",
       "      <td>3.0</td>\n",
       "      <td>14</td>\n",
       "      <td>0.0</td>\n",
       "      <td>2.0</td>\n",
       "      <td>...</td>\n",
       "      <td>0</td>\n",
       "      <td>23.0</td>\n",
       "      <td>274.9</td>\n",
       "      <td>38.1</td>\n",
       "      <td>41.0</td>\n",
       "      <td>7.0</td>\n",
       "      <td>7.0</td>\n",
       "      <td>7.0</td>\n",
       "      <td>4940</td>\n",
       "      <td>35</td>\n",
       "    </tr>\n",
       "    <tr>\n",
       "      <th>1</th>\n",
       "      <td>Alabama</td>\n",
       "      <td>009763</td>\n",
       "      <td>N</td>\n",
       "      <td>6</td>\n",
       "      <td>0</td>\n",
       "      <td>0</td>\n",
       "      <td>3.0</td>\n",
       "      <td>14</td>\n",
       "      <td>0.0</td>\n",
       "      <td>7.0</td>\n",
       "      <td>...</td>\n",
       "      <td>0</td>\n",
       "      <td>45.0</td>\n",
       "      <td>12.1</td>\n",
       "      <td>0.0</td>\n",
       "      <td>0.0</td>\n",
       "      <td>NaN</td>\n",
       "      <td>NaN</td>\n",
       "      <td>NaN</td>\n",
       "      <td>280</td>\n",
       "      <td>7</td>\n",
       "    </tr>\n",
       "    <tr>\n",
       "      <th>2</th>\n",
       "      <td>Alabama</td>\n",
       "      <td>003324</td>\n",
       "      <td>N</td>\n",
       "      <td>N</td>\n",
       "      <td>N</td>\n",
       "      <td>N</td>\n",
       "      <td>3.0</td>\n",
       "      <td>14</td>\n",
       "      <td>0.0</td>\n",
       "      <td>6.0</td>\n",
       "      <td>...</td>\n",
       "      <td>2009</td>\n",
       "      <td>0.0</td>\n",
       "      <td>7.9</td>\n",
       "      <td>0.0</td>\n",
       "      <td>0.0</td>\n",
       "      <td>NaN</td>\n",
       "      <td>NaN</td>\n",
       "      <td>NaN</td>\n",
       "      <td>420</td>\n",
       "      <td>7</td>\n",
       "    </tr>\n",
       "    <tr>\n",
       "      <th>3</th>\n",
       "      <td>Alabama</td>\n",
       "      <td>006369</td>\n",
       "      <td>1</td>\n",
       "      <td>0</td>\n",
       "      <td>0</td>\n",
       "      <td>0</td>\n",
       "      <td>3.0</td>\n",
       "      <td>14</td>\n",
       "      <td>0.0</td>\n",
       "      <td>6.0</td>\n",
       "      <td>...</td>\n",
       "      <td>0</td>\n",
       "      <td>0.0</td>\n",
       "      <td>60.0</td>\n",
       "      <td>23.6</td>\n",
       "      <td>27.6</td>\n",
       "      <td>7.0</td>\n",
       "      <td>7.0</td>\n",
       "      <td>6.0</td>\n",
       "      <td>420</td>\n",
       "      <td>7</td>\n",
       "    </tr>\n",
       "    <tr>\n",
       "      <th>4</th>\n",
       "      <td>Alabama</td>\n",
       "      <td>015078</td>\n",
       "      <td>2</td>\n",
       "      <td>0</td>\n",
       "      <td>0</td>\n",
       "      <td>0</td>\n",
       "      <td>3.0</td>\n",
       "      <td>14</td>\n",
       "      <td>0.0</td>\n",
       "      <td>8.0</td>\n",
       "      <td>...</td>\n",
       "      <td>0</td>\n",
       "      <td>0.0</td>\n",
       "      <td>15.1</td>\n",
       "      <td>23.6</td>\n",
       "      <td>24.9</td>\n",
       "      <td>5.0</td>\n",
       "      <td>6.0</td>\n",
       "      <td>5.0</td>\n",
       "      <td>70</td>\n",
       "      <td>0</td>\n",
       "    </tr>\n",
       "  </tbody>\n",
       "</table>\n",
       "<p>5 rows × 38 columns</p>\n",
       "</div>"
      ],
      "text/plain": [
       "       state           str_id deck_type wearing_type membrane_type  \\\n",
       "0    Alabama  021480                  1            0             0   \n",
       "1    Alabama  009763                  N            6             0   \n",
       "2    Alabama  003324                  N            N             N   \n",
       "3    Alabama  006369                  1            0             0   \n",
       "4    Alabama  015078                  2            0             0   \n",
       "\n",
       "  deck_protection  toll  freeze_thaw_cycle  snowfall_days  \\\n",
       "0               0   3.0                 14            0.0   \n",
       "1               0   3.0                 14            0.0   \n",
       "2               N   3.0                 14            0.0   \n",
       "3               0   3.0                 14            0.0   \n",
       "4               0   3.0                 14            0.0   \n",
       "\n",
       "   inventory_class_route  ...  yr_reconst  skew  max_span  bridge_width  \\\n",
       "0                    2.0  ...           0  23.0     274.9          38.1   \n",
       "1                    7.0  ...           0  45.0      12.1           0.0   \n",
       "2                    6.0  ...        2009   0.0       7.9           0.0   \n",
       "3                    6.0  ...           0   0.0      60.0          23.6   \n",
       "4                    8.0  ...           0   0.0      15.1          23.6   \n",
       "\n",
       "   deck_width  super_st_condition  sub_st_condition  deck_condition  \\\n",
       "0        41.0                 7.0               7.0             7.0   \n",
       "1         0.0                 NaN               NaN             NaN   \n",
       "2         0.0                 NaN               NaN             NaN   \n",
       "3        27.6                 7.0               7.0             6.0   \n",
       "4        24.9                 5.0               6.0             5.0   \n",
       "\n",
       "   avg_daily_trfic avg_truck_trfc  \n",
       "0             4940             35  \n",
       "1              280              7  \n",
       "2              420              7  \n",
       "3              420              7  \n",
       "4               70              0  \n",
       "\n",
       "[5 rows x 38 columns]"
      ]
     },
     "execution_count": 22,
     "metadata": {},
     "output_type": "execute_result"
    }
   ],
   "source": [
    "df = pd.concat([df1, df2, df3])\n",
    "df.head()"
   ]
  },
  {
   "cell_type": "code",
   "execution_count": 23,
   "metadata": {
    "ExecuteTime": {
     "end_time": "2021-08-30T19:37:23.468416Z",
     "start_time": "2021-08-30T19:37:23.456415Z"
    }
   },
   "outputs": [
    {
     "data": {
      "text/plain": [
       "(592756, 38)"
      ]
     },
     "execution_count": 23,
     "metadata": {},
     "output_type": "execute_result"
    }
   ],
   "source": [
    "df.shape"
   ]
  },
  {
   "cell_type": "code",
   "execution_count": null,
   "metadata": {},
   "outputs": [],
   "source": []
  },
  {
   "cell_type": "code",
   "execution_count": 25,
   "metadata": {
    "ExecuteTime": {
     "end_time": "2021-08-30T19:37:24.530002Z",
     "start_time": "2021-08-30T19:37:24.173436Z"
    }
   },
   "outputs": [
    {
     "data": {
      "text/html": [
       "<div>\n",
       "<style scoped>\n",
       "    .dataframe tbody tr th:only-of-type {\n",
       "        vertical-align: middle;\n",
       "    }\n",
       "\n",
       "    .dataframe tbody tr th {\n",
       "        vertical-align: top;\n",
       "    }\n",
       "\n",
       "    .dataframe thead th {\n",
       "        text-align: right;\n",
       "    }\n",
       "</style>\n",
       "<table border=\"1\" class=\"dataframe\">\n",
       "  <thead>\n",
       "    <tr style=\"text-align: right;\">\n",
       "      <th></th>\n",
       "      <th>state</th>\n",
       "      <th>str_id</th>\n",
       "      <th>deck_type</th>\n",
       "      <th>wearing_type</th>\n",
       "      <th>membrane_type</th>\n",
       "      <th>deck_protection</th>\n",
       "      <th>toll</th>\n",
       "      <th>freeze_thaw_cycle</th>\n",
       "      <th>snowfall_days</th>\n",
       "      <th>inventory_class_route</th>\n",
       "      <th>...</th>\n",
       "      <th>yr_reconst</th>\n",
       "      <th>skew</th>\n",
       "      <th>max_span</th>\n",
       "      <th>bridge_width</th>\n",
       "      <th>deck_width</th>\n",
       "      <th>super_st_condition</th>\n",
       "      <th>sub_st_condition</th>\n",
       "      <th>deck_condition</th>\n",
       "      <th>avg_daily_trfic</th>\n",
       "      <th>avg_truck_trfc</th>\n",
       "    </tr>\n",
       "  </thead>\n",
       "  <tbody>\n",
       "    <tr>\n",
       "      <th>93045</th>\n",
       "      <td>Iowa</td>\n",
       "      <td>000000000171401</td>\n",
       "      <td>N</td>\n",
       "      <td>N</td>\n",
       "      <td>N</td>\n",
       "      <td>N</td>\n",
       "      <td>3.0</td>\n",
       "      <td>116</td>\n",
       "      <td>74.0</td>\n",
       "      <td>7.0</td>\n",
       "      <td>...</td>\n",
       "      <td>0</td>\n",
       "      <td>45.0</td>\n",
       "      <td>9.8</td>\n",
       "      <td>0.0</td>\n",
       "      <td>0.0</td>\n",
       "      <td>NaN</td>\n",
       "      <td>NaN</td>\n",
       "      <td>NaN</td>\n",
       "      <td>230</td>\n",
       "      <td>19</td>\n",
       "    </tr>\n",
       "    <tr>\n",
       "      <th>93046</th>\n",
       "      <td>Iowa</td>\n",
       "      <td>000000000171920</td>\n",
       "      <td>8</td>\n",
       "      <td>7</td>\n",
       "      <td>0</td>\n",
       "      <td>0</td>\n",
       "      <td>3.0</td>\n",
       "      <td>116</td>\n",
       "      <td>74.0</td>\n",
       "      <td>8.0</td>\n",
       "      <td>...</td>\n",
       "      <td>2008</td>\n",
       "      <td>0.0</td>\n",
       "      <td>160.1</td>\n",
       "      <td>14.4</td>\n",
       "      <td>16.1</td>\n",
       "      <td>0.0</td>\n",
       "      <td>0.0</td>\n",
       "      <td>0.0</td>\n",
       "      <td>60</td>\n",
       "      <td>0</td>\n",
       "    </tr>\n",
       "    <tr>\n",
       "      <th>93047</th>\n",
       "      <td>Iowa</td>\n",
       "      <td>000000000021055</td>\n",
       "      <td>1</td>\n",
       "      <td>4</td>\n",
       "      <td>0</td>\n",
       "      <td>0</td>\n",
       "      <td>3.0</td>\n",
       "      <td>118</td>\n",
       "      <td>73.0</td>\n",
       "      <td>14.0</td>\n",
       "      <td>...</td>\n",
       "      <td>0</td>\n",
       "      <td>0.0</td>\n",
       "      <td>500.0</td>\n",
       "      <td>24.9</td>\n",
       "      <td>33.1</td>\n",
       "      <td>6.0</td>\n",
       "      <td>6.0</td>\n",
       "      <td>6.0</td>\n",
       "      <td>10500</td>\n",
       "      <td>2</td>\n",
       "    </tr>\n",
       "    <tr>\n",
       "      <th>93048</th>\n",
       "      <td>Iowa</td>\n",
       "      <td>000000000020860</td>\n",
       "      <td>1</td>\n",
       "      <td>0</td>\n",
       "      <td>0</td>\n",
       "      <td>1</td>\n",
       "      <td>3.0</td>\n",
       "      <td>118</td>\n",
       "      <td>73.0</td>\n",
       "      <td>14.0</td>\n",
       "      <td>...</td>\n",
       "      <td>1999</td>\n",
       "      <td>0.0</td>\n",
       "      <td>644.0</td>\n",
       "      <td>29.2</td>\n",
       "      <td>32.8</td>\n",
       "      <td>5.0</td>\n",
       "      <td>5.0</td>\n",
       "      <td>6.0</td>\n",
       "      <td>11800</td>\n",
       "      <td>12</td>\n",
       "    </tr>\n",
       "    <tr>\n",
       "      <th>93049</th>\n",
       "      <td>Iowa</td>\n",
       "      <td>000000000502671</td>\n",
       "      <td>N</td>\n",
       "      <td>N</td>\n",
       "      <td>N</td>\n",
       "      <td>N</td>\n",
       "      <td>3.0</td>\n",
       "      <td>118</td>\n",
       "      <td>73.0</td>\n",
       "      <td>19.0</td>\n",
       "      <td>...</td>\n",
       "      <td>0</td>\n",
       "      <td>15.0</td>\n",
       "      <td>9.8</td>\n",
       "      <td>0.0</td>\n",
       "      <td>0.0</td>\n",
       "      <td>NaN</td>\n",
       "      <td>NaN</td>\n",
       "      <td>NaN</td>\n",
       "      <td>1060</td>\n",
       "      <td>0</td>\n",
       "    </tr>\n",
       "    <tr>\n",
       "      <th>...</th>\n",
       "      <td>...</td>\n",
       "      <td>...</td>\n",
       "      <td>...</td>\n",
       "      <td>...</td>\n",
       "      <td>...</td>\n",
       "      <td>...</td>\n",
       "      <td>...</td>\n",
       "      <td>...</td>\n",
       "      <td>...</td>\n",
       "      <td>...</td>\n",
       "      <td>...</td>\n",
       "      <td>...</td>\n",
       "      <td>...</td>\n",
       "      <td>...</td>\n",
       "      <td>...</td>\n",
       "      <td>...</td>\n",
       "      <td>...</td>\n",
       "      <td>...</td>\n",
       "      <td>...</td>\n",
       "      <td>...</td>\n",
       "      <td>...</td>\n",
       "    </tr>\n",
       "    <tr>\n",
       "      <th>116789</th>\n",
       "      <td>Iowa</td>\n",
       "      <td>000000000700340</td>\n",
       "      <td>1</td>\n",
       "      <td>1</td>\n",
       "      <td>0</td>\n",
       "      <td>1</td>\n",
       "      <td>3.0</td>\n",
       "      <td>119</td>\n",
       "      <td>64.0</td>\n",
       "      <td>11.0</td>\n",
       "      <td>...</td>\n",
       "      <td>0</td>\n",
       "      <td>31.0</td>\n",
       "      <td>85.0</td>\n",
       "      <td>62.7</td>\n",
       "      <td>65.6</td>\n",
       "      <td>9.0</td>\n",
       "      <td>9.0</td>\n",
       "      <td>9.0</td>\n",
       "      <td>13450</td>\n",
       "      <td>18</td>\n",
       "    </tr>\n",
       "    <tr>\n",
       "      <th>116790</th>\n",
       "      <td>Iowa</td>\n",
       "      <td>000000000034671</td>\n",
       "      <td>1</td>\n",
       "      <td>1</td>\n",
       "      <td>0</td>\n",
       "      <td>1</td>\n",
       "      <td>3.0</td>\n",
       "      <td>115</td>\n",
       "      <td>75.0</td>\n",
       "      <td>7.0</td>\n",
       "      <td>...</td>\n",
       "      <td>0</td>\n",
       "      <td>0.0</td>\n",
       "      <td>30.8</td>\n",
       "      <td>30.5</td>\n",
       "      <td>33.1</td>\n",
       "      <td>9.0</td>\n",
       "      <td>9.0</td>\n",
       "      <td>9.0</td>\n",
       "      <td>700</td>\n",
       "      <td>0</td>\n",
       "    </tr>\n",
       "    <tr>\n",
       "      <th>116791</th>\n",
       "      <td>Iowa</td>\n",
       "      <td>000000000230571</td>\n",
       "      <td>1</td>\n",
       "      <td>1</td>\n",
       "      <td>0</td>\n",
       "      <td>0</td>\n",
       "      <td>3.0</td>\n",
       "      <td>115</td>\n",
       "      <td>75.0</td>\n",
       "      <td>9.0</td>\n",
       "      <td>...</td>\n",
       "      <td>0</td>\n",
       "      <td>15.0</td>\n",
       "      <td>30.8</td>\n",
       "      <td>30.5</td>\n",
       "      <td>33.1</td>\n",
       "      <td>9.0</td>\n",
       "      <td>9.0</td>\n",
       "      <td>9.0</td>\n",
       "      <td>25</td>\n",
       "      <td>0</td>\n",
       "    </tr>\n",
       "    <tr>\n",
       "      <th>116792</th>\n",
       "      <td>Iowa</td>\n",
       "      <td>000000000003060</td>\n",
       "      <td>1</td>\n",
       "      <td>6</td>\n",
       "      <td>0</td>\n",
       "      <td>0</td>\n",
       "      <td>3.0</td>\n",
       "      <td>117</td>\n",
       "      <td>67.0</td>\n",
       "      <td>19.0</td>\n",
       "      <td>...</td>\n",
       "      <td>1984</td>\n",
       "      <td>24.0</td>\n",
       "      <td>28.9</td>\n",
       "      <td>24.3</td>\n",
       "      <td>34.4</td>\n",
       "      <td>0.0</td>\n",
       "      <td>0.0</td>\n",
       "      <td>0.0</td>\n",
       "      <td>3160</td>\n",
       "      <td>0</td>\n",
       "    </tr>\n",
       "    <tr>\n",
       "      <th>116793</th>\n",
       "      <td>Iowa</td>\n",
       "      <td>000000000004490</td>\n",
       "      <td>1</td>\n",
       "      <td>1</td>\n",
       "      <td>0</td>\n",
       "      <td>0</td>\n",
       "      <td>3.0</td>\n",
       "      <td>116</td>\n",
       "      <td>89.0</td>\n",
       "      <td>7.0</td>\n",
       "      <td>...</td>\n",
       "      <td>0</td>\n",
       "      <td>0.0</td>\n",
       "      <td>99.1</td>\n",
       "      <td>22.0</td>\n",
       "      <td>26.9</td>\n",
       "      <td>6.0</td>\n",
       "      <td>5.0</td>\n",
       "      <td>4.0</td>\n",
       "      <td>610</td>\n",
       "      <td>0</td>\n",
       "    </tr>\n",
       "  </tbody>\n",
       "</table>\n",
       "<p>23748 rows × 38 columns</p>\n",
       "</div>"
      ],
      "text/plain": [
       "         state           str_id deck_type wearing_type membrane_type  \\\n",
       "93045     Iowa  000000000171401         N            N             N   \n",
       "93046     Iowa  000000000171920         8            7             0   \n",
       "93047     Iowa  000000000021055         1            4             0   \n",
       "93048     Iowa  000000000020860         1            0             0   \n",
       "93049     Iowa  000000000502671         N            N             N   \n",
       "...        ...              ...       ...          ...           ...   \n",
       "116789    Iowa  000000000700340         1            1             0   \n",
       "116790    Iowa  000000000034671         1            1             0   \n",
       "116791    Iowa  000000000230571         1            1             0   \n",
       "116792    Iowa  000000000003060         1            6             0   \n",
       "116793    Iowa  000000000004490         1            1             0   \n",
       "\n",
       "       deck_protection  toll  freeze_thaw_cycle  snowfall_days  \\\n",
       "93045                N   3.0                116           74.0   \n",
       "93046                0   3.0                116           74.0   \n",
       "93047                0   3.0                118           73.0   \n",
       "93048                1   3.0                118           73.0   \n",
       "93049                N   3.0                118           73.0   \n",
       "...                ...   ...                ...            ...   \n",
       "116789               1   3.0                119           64.0   \n",
       "116790               1   3.0                115           75.0   \n",
       "116791               0   3.0                115           75.0   \n",
       "116792               0   3.0                117           67.0   \n",
       "116793               0   3.0                116           89.0   \n",
       "\n",
       "        inventory_class_route  ...  yr_reconst  skew  max_span  bridge_width  \\\n",
       "93045                     7.0  ...           0  45.0       9.8           0.0   \n",
       "93046                     8.0  ...        2008   0.0     160.1          14.4   \n",
       "93047                    14.0  ...           0   0.0     500.0          24.9   \n",
       "93048                    14.0  ...        1999   0.0     644.0          29.2   \n",
       "93049                    19.0  ...           0  15.0       9.8           0.0   \n",
       "...                       ...  ...         ...   ...       ...           ...   \n",
       "116789                   11.0  ...           0  31.0      85.0          62.7   \n",
       "116790                    7.0  ...           0   0.0      30.8          30.5   \n",
       "116791                    9.0  ...           0  15.0      30.8          30.5   \n",
       "116792                   19.0  ...        1984  24.0      28.9          24.3   \n",
       "116793                    7.0  ...           0   0.0      99.1          22.0   \n",
       "\n",
       "        deck_width  super_st_condition  sub_st_condition  deck_condition  \\\n",
       "93045          0.0                 NaN               NaN             NaN   \n",
       "93046         16.1                 0.0               0.0             0.0   \n",
       "93047         33.1                 6.0               6.0             6.0   \n",
       "93048         32.8                 5.0               5.0             6.0   \n",
       "93049          0.0                 NaN               NaN             NaN   \n",
       "...            ...                 ...               ...             ...   \n",
       "116789        65.6                 9.0               9.0             9.0   \n",
       "116790        33.1                 9.0               9.0             9.0   \n",
       "116791        33.1                 9.0               9.0             9.0   \n",
       "116792        34.4                 0.0               0.0             0.0   \n",
       "116793        26.9                 6.0               5.0             4.0   \n",
       "\n",
       "        avg_daily_trfic avg_truck_trfc  \n",
       "93045               230             19  \n",
       "93046                60              0  \n",
       "93047             10500              2  \n",
       "93048             11800             12  \n",
       "93049              1060              0  \n",
       "...                 ...            ...  \n",
       "116789            13450             18  \n",
       "116790              700              0  \n",
       "116791               25              0  \n",
       "116792             3160              0  \n",
       "116793              610              0  \n",
       "\n",
       "[23748 rows x 38 columns]"
      ]
     },
     "execution_count": 25,
     "metadata": {},
     "output_type": "execute_result"
    }
   ],
   "source": [
    "df.loc[df['state']=='  Iowa']"
   ]
  },
  {
   "cell_type": "code",
   "execution_count": 26,
   "metadata": {
    "ExecuteTime": {
     "end_time": "2021-08-30T19:37:24.671601Z",
     "start_time": "2021-08-30T19:37:24.537005Z"
    }
   },
   "outputs": [
    {
     "data": {
      "text/plain": [
       "Series([], Name: bridge_condition, dtype: int64)"
      ]
     },
     "execution_count": 26,
     "metadata": {},
     "output_type": "execute_result"
    }
   ],
   "source": [
    "df.loc[df['state']=='Iowa'].bridge_condition.value_counts()"
   ]
  },
  {
   "cell_type": "code",
   "execution_count": 27,
   "metadata": {
    "ExecuteTime": {
     "end_time": "2021-08-30T19:37:27.574924Z",
     "start_time": "2021-08-30T19:37:24.679605Z"
    }
   },
   "outputs": [],
   "source": [
    "df['state'] = df['state'].replace(' Iowa', 'Iowa', regex=True)\n",
    "df['state'] = df['state'].replace('  Iowa', 'Iowa')\n",
    "# df['state'] = df.loc[(df['state']=='  Iowa').str.strip()]\n",
    "# df[df['state']=='  Iowa']"
   ]
  },
  {
   "cell_type": "code",
   "execution_count": 28,
   "metadata": {
    "ExecuteTime": {
     "end_time": "2021-08-30T19:37:27.760921Z",
     "start_time": "2021-08-30T19:37:27.578923Z"
    }
   },
   "outputs": [
    {
     "data": {
      "text/html": [
       "<div>\n",
       "<style scoped>\n",
       "    .dataframe tbody tr th:only-of-type {\n",
       "        vertical-align: middle;\n",
       "    }\n",
       "\n",
       "    .dataframe tbody tr th {\n",
       "        vertical-align: top;\n",
       "    }\n",
       "\n",
       "    .dataframe thead th {\n",
       "        text-align: right;\n",
       "    }\n",
       "</style>\n",
       "<table border=\"1\" class=\"dataframe\">\n",
       "  <thead>\n",
       "    <tr style=\"text-align: right;\">\n",
       "      <th></th>\n",
       "      <th>state</th>\n",
       "      <th>str_id</th>\n",
       "      <th>deck_type</th>\n",
       "      <th>wearing_type</th>\n",
       "      <th>membrane_type</th>\n",
       "      <th>deck_protection</th>\n",
       "      <th>toll</th>\n",
       "      <th>freeze_thaw_cycle</th>\n",
       "      <th>snowfall_days</th>\n",
       "      <th>inventory_class_route</th>\n",
       "      <th>...</th>\n",
       "      <th>yr_reconst</th>\n",
       "      <th>skew</th>\n",
       "      <th>max_span</th>\n",
       "      <th>bridge_width</th>\n",
       "      <th>deck_width</th>\n",
       "      <th>super_st_condition</th>\n",
       "      <th>sub_st_condition</th>\n",
       "      <th>deck_condition</th>\n",
       "      <th>avg_daily_trfic</th>\n",
       "      <th>avg_truck_trfc</th>\n",
       "    </tr>\n",
       "  </thead>\n",
       "  <tbody>\n",
       "    <tr>\n",
       "      <th>106432</th>\n",
       "      <td>Iowa</td>\n",
       "      <td>000000000361340</td>\n",
       "      <td>1</td>\n",
       "      <td>1</td>\n",
       "      <td>0</td>\n",
       "      <td>0</td>\n",
       "      <td>3.0</td>\n",
       "      <td>118</td>\n",
       "      <td>65.0</td>\n",
       "      <td>8.0</td>\n",
       "      <td>...</td>\n",
       "      <td>0</td>\n",
       "      <td>0.0</td>\n",
       "      <td>48.9</td>\n",
       "      <td>29.9</td>\n",
       "      <td>33.1</td>\n",
       "      <td>6.0</td>\n",
       "      <td>5.0</td>\n",
       "      <td>6.0</td>\n",
       "      <td>40</td>\n",
       "      <td>0</td>\n",
       "    </tr>\n",
       "  </tbody>\n",
       "</table>\n",
       "<p>1 rows × 38 columns</p>\n",
       "</div>"
      ],
      "text/plain": [
       "       state           str_id deck_type wearing_type membrane_type  \\\n",
       "106432  Iowa  000000000361340         1            1             0   \n",
       "\n",
       "       deck_protection  toll  freeze_thaw_cycle  snowfall_days  \\\n",
       "106432               0   3.0                118           65.0   \n",
       "\n",
       "        inventory_class_route  ...  yr_reconst  skew  max_span  bridge_width  \\\n",
       "106432                    8.0  ...           0   0.0      48.9          29.9   \n",
       "\n",
       "        deck_width  super_st_condition  sub_st_condition  deck_condition  \\\n",
       "106432        33.1                 6.0               5.0             6.0   \n",
       "\n",
       "        avg_daily_trfic avg_truck_trfc  \n",
       "106432               40              0  \n",
       "\n",
       "[1 rows x 38 columns]"
      ]
     },
     "execution_count": 28,
     "metadata": {},
     "output_type": "execute_result"
    }
   ],
   "source": [
    "df.loc[df['state']=='Iowa']"
   ]
  },
  {
   "cell_type": "code",
   "execution_count": 29,
   "metadata": {
    "ExecuteTime": {
     "end_time": "2021-08-30T19:37:27.806920Z",
     "start_time": "2021-08-30T19:37:27.797920Z"
    }
   },
   "outputs": [
    {
     "data": {
      "text/plain": [
       "(592756, 38)"
      ]
     },
     "execution_count": 29,
     "metadata": {},
     "output_type": "execute_result"
    }
   ],
   "source": [
    "df.shape"
   ]
  },
  {
   "cell_type": "code",
   "execution_count": 30,
   "metadata": {
    "ExecuteTime": {
     "end_time": "2021-08-30T19:37:27.822920Z",
     "start_time": "2021-08-30T19:37:27.810921Z"
    }
   },
   "outputs": [],
   "source": [
    "# sns.set_style('darkgrid')"
   ]
  },
  {
   "cell_type": "code",
   "execution_count": null,
   "metadata": {},
   "outputs": [],
   "source": []
  },
  {
   "cell_type": "code",
   "execution_count": 34,
   "metadata": {
    "ExecuteTime": {
     "end_time": "2021-08-30T19:38:07.243310Z",
     "start_time": "2021-08-30T19:37:36.909657Z"
    }
   },
   "outputs": [
    {
     "data": {
      "image/png": "[encoded data removed]",
      "text/plain": [
       "<Figure size 432x432 with 1 Axes>"
      ]
     },
     "metadata": {},
     "output_type": "display_data"
    }
   ],
   "source": [
    "import seaborn as sns\n",
    "sns.set_theme(style=\"whitegrid\")\n",
    "\n",
    "# Draw a nested barplot by bridge_condition and avg_daily_trfic\n",
    "g = sns.catplot(\n",
    "    data=df, kind=\"bar\",\n",
    "    x=\"bridge_condition\", y=\"avg_daily_trfic\",\n",
    "     height=6\n",
    ")\n",
    "g.despine(left=True)\n",
    "g.set_axis_labels(\"\", \"Average Daily Traffic\")\n",
    "plt.title(\"Condition of Bridge vs Average Daily Traffic\", fontsize=20);"
   ]
  },
  {
   "cell_type": "code",
   "execution_count": null,
   "metadata": {},
   "outputs": [],
   "source": []
  },
  {
   "cell_type": "code",
   "execution_count": 35,
   "metadata": {
    "ExecuteTime": {
     "end_time": "2021-08-30T19:38:09.663020Z",
     "start_time": "2021-08-30T19:38:07.246313Z"
    }
   },
   "outputs": [
    {
     "data": {
      "text/plain": [
       "Text(0.5, 0, 'Bridge Condition')"
      ]
     },
     "execution_count": 35,
     "metadata": {},
     "output_type": "execute_result"
    },
    {
     "data": {
      "image/png": "[encoded data removed]",
      "text/plain": [
       "<Figure size 576x432 with 1 Axes>"
      ]
     },
     "metadata": {},
     "output_type": "display_data"
    }
   ],
   "source": [
    "#plot number of bridges according to condition\n",
    "sns.set_theme(style=\"darkgrid\")\n",
    "plt.figure(figsize=(8,6))\n",
    "sns.histplot(df['bridge_condition'], bins='auto');\n",
    "plt.title('Classification of Bridges', fontsize=20)\n",
    "plt.ylabel('Number of Bridges')\n",
    "plt.xlabel('Bridge Condition')"
   ]
  },
  {
   "cell_type": "code",
   "execution_count": 36,
   "metadata": {
    "ExecuteTime": {
     "end_time": "2021-08-30T19:38:41.774057Z",
     "start_time": "2021-08-30T19:38:09.667021Z"
    }
   },
   "outputs": [
    {
     "data": {
      "image/png": "[encoded data removed]",
      "text/plain": [
       "<Figure size 432x432 with 1 Axes>"
      ]
     },
     "metadata": {},
     "output_type": "display_data"
    }
   ],
   "source": [
    "import seaborn as sns\n",
    "sns.set_theme(style=\"whitegrid\")\n",
    "\n",
    "# Draw a nested barplot by bridge_condition and avg_daily_trfic\n",
    "g = sns.catplot(\n",
    "    data=df, kind=\"bar\",\n",
    "    x=\"bridge_condition\", y='avg_truck_trfc',\n",
    "     height=6\n",
    ")\n",
    "g.despine(left=True)\n",
    "g.set_axis_labels(\"\", \"Average Daily Truck Traffic\")\n",
    "plt.title(\"Average Daily Truck Traffic per Condition\", fontsize=20);"
   ]
  },
  {
   "cell_type": "code",
   "execution_count": null,
   "metadata": {},
   "outputs": [],
   "source": []
  },
  {
   "cell_type": "code",
   "execution_count": 37,
   "metadata": {
    "ExecuteTime": {
     "end_time": "2021-08-30T19:38:51.838180Z",
     "start_time": "2021-08-30T19:38:41.779058Z"
    }
   },
   "outputs": [
    {
     "data": {
      "image/png": "[encoded data removed]",
      "text/plain": [
       "<Figure size 1008x576 with 2 Axes>"
      ]
     },
     "metadata": {},
     "output_type": "display_data"
    }
   ],
   "source": [
    "# plot wells on map with respect to water point height\n",
    "plt.figure(figsize=(14,8))\n",
    "\n",
    "plt.scatter(x='longitude', y='latitude', c='bridge_age' , data=df2, s=10, cmap='twilight')\n",
    "plt.colorbar().set_label('Average Daily Traffic')\n",
    "plt.xlabel('Longitude', fontsize=15)\n",
    "plt.ylabel('Latitude', fontsize=15)\n",
    "plt.title('Location of bridges and Average daily Traffic', fontsize=20)\n",
    "\n",
    "plt.show()\n"
   ]
  },
  {
   "cell_type": "code",
   "execution_count": null,
   "metadata": {},
   "outputs": [],
   "source": []
  },
  {
   "cell_type": "code",
   "execution_count": 38,
   "metadata": {
    "ExecuteTime": {
     "end_time": "2021-08-30T19:39:25.726901Z",
     "start_time": "2021-08-30T19:38:51.842181Z"
    }
   },
   "outputs": [
    {
     "data": {
      "image/png": "[encoded data removed]",
      "text/plain": [
       "<Figure size 432x432 with 1 Axes>"
      ]
     },
     "metadata": {},
     "output_type": "display_data"
    }
   ],
   "source": [
    "import seaborn as sns\n",
    "sns.set_theme(style=\"whitegrid\")\n",
    "\n",
    "# Draw a nested barplot by bridge_condition and avg_daily_trfic\n",
    "g = sns.catplot(\n",
    "    data=df, kind=\"bar\",\n",
    "    x=\"bridge_condition\", y='bridge_age',\n",
    "     height=6\n",
    ")\n",
    "g.despine(left=True)\n",
    "g.set_axis_labels('','Bridge Age')\n",
    "plt.title(\"Condition of Bridge vs Age\", fontsize=20);"
   ]
  },
  {
   "cell_type": "code",
   "execution_count": 39,
   "metadata": {
    "ExecuteTime": {
     "end_time": "2021-08-30T19:39:25.804955Z",
     "start_time": "2021-08-30T19:39:25.730901Z"
    }
   },
   "outputs": [
    {
     "data": {
      "text/plain": [
       "61     12253\n",
       "56     11774\n",
       "51     11518\n",
       "53      9369\n",
       "58      8934\n",
       "       ...  \n",
       "220        1\n",
       "214        1\n",
       "212        1\n",
       "162        1\n",
       "324        1\n",
       "Name: bridge_age, Length: 215, dtype: int64"
      ]
     },
     "execution_count": 39,
     "metadata": {},
     "output_type": "execute_result"
    }
   ],
   "source": [
    "df.bridge_age.value_counts()"
   ]
  },
  {
   "cell_type": "code",
   "execution_count": null,
   "metadata": {
    "ExecuteTime": {
     "end_time": "2021-08-30T17:26:00.962220Z",
     "start_time": "2021-08-30T17:25:58.879944Z"
    }
   },
   "outputs": [],
   "source": [
    "\n",
    "\n"
   ]
  },
  {
   "cell_type": "code",
   "execution_count": 40,
   "metadata": {
    "ExecuteTime": {
     "end_time": "2021-08-30T19:39:25.868955Z",
     "start_time": "2021-08-30T19:39:25.808953Z"
    }
   },
   "outputs": [
    {
     "data": {
      "text/html": [
       "<div>\n",
       "<style scoped>\n",
       "    .dataframe tbody tr th:only-of-type {\n",
       "        vertical-align: middle;\n",
       "    }\n",
       "\n",
       "    .dataframe tbody tr th {\n",
       "        vertical-align: top;\n",
       "    }\n",
       "\n",
       "    .dataframe thead th {\n",
       "        text-align: right;\n",
       "    }\n",
       "</style>\n",
       "<table border=\"1\" class=\"dataframe\">\n",
       "  <thead>\n",
       "    <tr style=\"text-align: right;\">\n",
       "      <th></th>\n",
       "      <th>state</th>\n",
       "      <th>bridge_condition</th>\n",
       "    </tr>\n",
       "  </thead>\n",
       "  <tbody>\n",
       "    <tr>\n",
       "      <th>0</th>\n",
       "      <td>Alabama</td>\n",
       "      <td>Good</td>\n",
       "    </tr>\n",
       "    <tr>\n",
       "      <th>1</th>\n",
       "      <td>Alabama</td>\n",
       "      <td>Fair</td>\n",
       "    </tr>\n",
       "    <tr>\n",
       "      <th>2</th>\n",
       "      <td>Alabama</td>\n",
       "      <td>Good</td>\n",
       "    </tr>\n",
       "    <tr>\n",
       "      <th>3</th>\n",
       "      <td>Alabama</td>\n",
       "      <td>Fair</td>\n",
       "    </tr>\n",
       "    <tr>\n",
       "      <th>4</th>\n",
       "      <td>Alabama</td>\n",
       "      <td>Fair</td>\n",
       "    </tr>\n",
       "  </tbody>\n",
       "</table>\n",
       "</div>"
      ],
      "text/plain": [
       "       state bridge_condition\n",
       "0    Alabama             Good\n",
       "1    Alabama             Fair\n",
       "2    Alabama             Good\n",
       "3    Alabama             Fair\n",
       "4    Alabama             Fair"
      ]
     },
     "execution_count": 40,
     "metadata": {},
     "output_type": "execute_result"
    }
   ],
   "source": [
    "dff = df[['state', 'bridge_condition']]\n",
    "dff.head()"
   ]
  },
  {
   "cell_type": "code",
   "execution_count": null,
   "metadata": {},
   "outputs": [],
   "source": []
  },
  {
   "cell_type": "code",
   "execution_count": 41,
   "metadata": {
    "ExecuteTime": {
     "end_time": "2021-08-30T19:39:26.370955Z",
     "start_time": "2021-08-30T19:39:25.872959Z"
    },
    "scrolled": true
   },
   "outputs": [
    {
     "data": {
      "text/html": [
       "<div>\n",
       "<style scoped>\n",
       "    .dataframe tbody tr th:only-of-type {\n",
       "        vertical-align: middle;\n",
       "    }\n",
       "\n",
       "    .dataframe tbody tr th {\n",
       "        vertical-align: top;\n",
       "    }\n",
       "\n",
       "    .dataframe thead th {\n",
       "        text-align: right;\n",
       "    }\n",
       "</style>\n",
       "<table border=\"1\" class=\"dataframe\">\n",
       "  <thead>\n",
       "    <tr style=\"text-align: right;\">\n",
       "      <th></th>\n",
       "      <th>state</th>\n",
       "      <th>bridge_condition</th>\n",
       "      <th>perc_count</th>\n",
       "    </tr>\n",
       "  </thead>\n",
       "  <tbody>\n",
       "    <tr>\n",
       "      <th>0</th>\n",
       "      <td>Alabama</td>\n",
       "      <td>Fair</td>\n",
       "      <td>0.550587</td>\n",
       "    </tr>\n",
       "    <tr>\n",
       "      <th>1</th>\n",
       "      <td>Alabama</td>\n",
       "      <td>Good</td>\n",
       "      <td>0.410988</td>\n",
       "    </tr>\n",
       "    <tr>\n",
       "      <th>2</th>\n",
       "      <td>Alabama</td>\n",
       "      <td>Poor</td>\n",
       "      <td>0.038425</td>\n",
       "    </tr>\n",
       "    <tr>\n",
       "      <th>3</th>\n",
       "      <td>Alaska</td>\n",
       "      <td>Fair</td>\n",
       "      <td>0.482892</td>\n",
       "    </tr>\n",
       "    <tr>\n",
       "      <th>4</th>\n",
       "      <td>Alaska</td>\n",
       "      <td>Good</td>\n",
       "      <td>0.434474</td>\n",
       "    </tr>\n",
       "  </tbody>\n",
       "</table>\n",
       "</div>"
      ],
      "text/plain": [
       "       state bridge_condition  perc_count\n",
       "0    Alabama             Fair    0.550587\n",
       "1    Alabama             Good    0.410988\n",
       "2    Alabama             Poor    0.038425\n",
       "3     Alaska             Fair    0.482892\n",
       "4     Alaska             Good    0.434474"
      ]
     },
     "execution_count": 41,
     "metadata": {},
     "output_type": "execute_result"
    }
   ],
   "source": [
    "dfx = dff.groupby('state')['bridge_condition'].value_counts(normalize=True).reset_index(name='perc_count')\n",
    "dfx.head()"
   ]
  },
  {
   "cell_type": "code",
   "execution_count": 42,
   "metadata": {
    "ExecuteTime": {
     "end_time": "2021-08-30T19:39:26.402481Z",
     "start_time": "2021-08-30T19:39:26.373954Z"
    }
   },
   "outputs": [
    {
     "data": {
      "text/html": [
       "<div>\n",
       "<style scoped>\n",
       "    .dataframe tbody tr th:only-of-type {\n",
       "        vertical-align: middle;\n",
       "    }\n",
       "\n",
       "    .dataframe tbody tr th {\n",
       "        vertical-align: top;\n",
       "    }\n",
       "\n",
       "    .dataframe thead th {\n",
       "        text-align: right;\n",
       "    }\n",
       "</style>\n",
       "<table border=\"1\" class=\"dataframe\">\n",
       "  <thead>\n",
       "    <tr style=\"text-align: right;\">\n",
       "      <th></th>\n",
       "      <th>state</th>\n",
       "      <th>bridge_condition</th>\n",
       "      <th>perc_count</th>\n",
       "    </tr>\n",
       "  </thead>\n",
       "  <tbody>\n",
       "    <tr>\n",
       "      <th>143</th>\n",
       "      <td>West Virginia</td>\n",
       "      <td>Poor</td>\n",
       "      <td>0.212489</td>\n",
       "    </tr>\n",
       "    <tr>\n",
       "      <th>152</th>\n",
       "      <td>Iowa</td>\n",
       "      <td>Poor</td>\n",
       "      <td>0.190879</td>\n",
       "    </tr>\n",
       "    <tr>\n",
       "      <th>116</th>\n",
       "      <td>Rhode Island</td>\n",
       "      <td>Poor</td>\n",
       "      <td>0.182944</td>\n",
       "    </tr>\n",
       "    <tr>\n",
       "      <th>122</th>\n",
       "      <td>South Dakota</td>\n",
       "      <td>Poor</td>\n",
       "      <td>0.177805</td>\n",
       "    </tr>\n",
       "    <tr>\n",
       "      <th>113</th>\n",
       "      <td>Pennsylvania</td>\n",
       "      <td>Poor</td>\n",
       "      <td>0.143127</td>\n",
       "    </tr>\n",
       "    <tr>\n",
       "      <th>56</th>\n",
       "      <td>Maine</td>\n",
       "      <td>Poor</td>\n",
       "      <td>0.130526</td>\n",
       "    </tr>\n",
       "    <tr>\n",
       "      <th>53</th>\n",
       "      <td>Louisiana</td>\n",
       "      <td>Poor</td>\n",
       "      <td>0.123979</td>\n",
       "    </tr>\n",
       "    <tr>\n",
       "      <th>65</th>\n",
       "      <td>Michigan</td>\n",
       "      <td>Poor</td>\n",
       "      <td>0.109354</td>\n",
       "    </tr>\n",
       "    <tr>\n",
       "      <th>101</th>\n",
       "      <td>North Dakota</td>\n",
       "      <td>Poor</td>\n",
       "      <td>0.103464</td>\n",
       "    </tr>\n",
       "    <tr>\n",
       "      <th>107</th>\n",
       "      <td>Oklahoma</td>\n",
       "      <td>Poor</td>\n",
       "      <td>0.100594</td>\n",
       "    </tr>\n",
       "    <tr>\n",
       "      <th>95</th>\n",
       "      <td>New York</td>\n",
       "      <td>Poor</td>\n",
       "      <td>0.099323</td>\n",
       "    </tr>\n",
       "    <tr>\n",
       "      <th>62</th>\n",
       "      <td>Massachusetts</td>\n",
       "      <td>Poor</td>\n",
       "      <td>0.090401</td>\n",
       "    </tr>\n",
       "    <tr>\n",
       "      <th>74</th>\n",
       "      <td>Missouri</td>\n",
       "      <td>Poor</td>\n",
       "      <td>0.089619</td>\n",
       "    </tr>\n",
       "    <tr>\n",
       "      <th>41</th>\n",
       "      <td>Illinois</td>\n",
       "      <td>Poor</td>\n",
       "      <td>0.089411</td>\n",
       "    </tr>\n",
       "    <tr>\n",
       "      <th>86</th>\n",
       "      <td>New Hampshire</td>\n",
       "      <td>Poor</td>\n",
       "      <td>0.088403</td>\n",
       "    </tr>\n",
       "    <tr>\n",
       "      <th>80</th>\n",
       "      <td>Nebraska</td>\n",
       "      <td>Poor</td>\n",
       "      <td>0.085166</td>\n",
       "    </tr>\n",
       "    <tr>\n",
       "      <th>5</th>\n",
       "      <td>Alaska</td>\n",
       "      <td>Poor</td>\n",
       "      <td>0.082634</td>\n",
       "    </tr>\n",
       "    <tr>\n",
       "      <th>71</th>\n",
       "      <td>Mississippi</td>\n",
       "      <td>Poor</td>\n",
       "      <td>0.082415</td>\n",
       "    </tr>\n",
       "    <tr>\n",
       "      <th>98</th>\n",
       "      <td>North Carolina</td>\n",
       "      <td>Poor</td>\n",
       "      <td>0.081483</td>\n",
       "    </tr>\n",
       "    <tr>\n",
       "      <th>119</th>\n",
       "      <td>South Carolina</td>\n",
       "      <td>Poor</td>\n",
       "      <td>0.078833</td>\n",
       "    </tr>\n",
       "  </tbody>\n",
       "</table>\n",
       "</div>"
      ],
      "text/plain": [
       "                state bridge_condition  perc_count\n",
       "143     West Virginia             Poor    0.212489\n",
       "152              Iowa             Poor    0.190879\n",
       "116      Rhode Island             Poor    0.182944\n",
       "122      South Dakota             Poor    0.177805\n",
       "113      Pennsylvania             Poor    0.143127\n",
       "56              Maine             Poor    0.130526\n",
       "53          Louisiana             Poor    0.123979\n",
       "65           Michigan             Poor    0.109354\n",
       "101      North Dakota             Poor    0.103464\n",
       "107          Oklahoma             Poor    0.100594\n",
       "95           New York             Poor    0.099323\n",
       "62      Massachusetts             Poor    0.090401\n",
       "74           Missouri             Poor    0.089619\n",
       "41           Illinois             Poor    0.089411\n",
       "86      New Hampshire             Poor    0.088403\n",
       "80           Nebraska             Poor    0.085166\n",
       "5              Alaska             Poor    0.082634\n",
       "71        Mississippi             Poor    0.082415\n",
       "98     North Carolina             Poor    0.081483\n",
       "119    South Carolina             Poor    0.078833"
      ]
     },
     "execution_count": 42,
     "metadata": {},
     "output_type": "execute_result"
    }
   ],
   "source": [
    "poor_df = dfx.loc[dfx['bridge_condition']=='Poor'].sort_values(by='perc_count', ascending=False)[:20]\n",
    "poor_df"
   ]
  },
  {
   "cell_type": "code",
   "execution_count": 43,
   "metadata": {
    "ExecuteTime": {
     "end_time": "2021-08-30T19:39:27.681477Z",
     "start_time": "2021-08-30T19:39:26.406483Z"
    }
   },
   "outputs": [
    {
     "data": {
      "image/png": "[encoded data removed]",
      "text/plain": [
       "<Figure size 864x576 with 1 Axes>"
      ]
     },
     "metadata": {},
     "output_type": "display_data"
    }
   ],
   "source": [
    "plt.figure(figsize=(12,8))\n",
    "sns.barplot(y=poor_df['state'], x=poor_df['perc_count'], color='r')\n",
    "plt.xlabel('Percentage')\n",
    "plt.ylabel('States')\n",
    "plt.title('Top 20 States with Poor Bridge Condition(%)', fontsize=20);"
   ]
  },
  {
   "cell_type": "code",
   "execution_count": 44,
   "metadata": {
    "ExecuteTime": {
     "end_time": "2021-08-30T19:39:27.728518Z",
     "start_time": "2021-08-30T19:39:27.698479Z"
    }
   },
   "outputs": [
    {
     "data": {
      "text/html": [
       "<div>\n",
       "<style scoped>\n",
       "    .dataframe tbody tr th:only-of-type {\n",
       "        vertical-align: middle;\n",
       "    }\n",
       "\n",
       "    .dataframe tbody tr th {\n",
       "        vertical-align: top;\n",
       "    }\n",
       "\n",
       "    .dataframe thead th {\n",
       "        text-align: right;\n",
       "    }\n",
       "</style>\n",
       "<table border=\"1\" class=\"dataframe\">\n",
       "  <thead>\n",
       "    <tr style=\"text-align: right;\">\n",
       "      <th></th>\n",
       "      <th>state</th>\n",
       "      <th>bridge_condition</th>\n",
       "      <th>perc_count</th>\n",
       "    </tr>\n",
       "  </thead>\n",
       "  <tbody>\n",
       "    <tr>\n",
       "      <th>155</th>\n",
       "      <td>Iowa</td>\n",
       "      <td>Fair</td>\n",
       "      <td>1.000000</td>\n",
       "    </tr>\n",
       "    <tr>\n",
       "      <th>33</th>\n",
       "      <td>Hawaii</td>\n",
       "      <td>Fair</td>\n",
       "      <td>0.735079</td>\n",
       "    </tr>\n",
       "    <tr>\n",
       "      <th>24</th>\n",
       "      <td>District of Columbia</td>\n",
       "      <td>Fair</td>\n",
       "      <td>0.716129</td>\n",
       "    </tr>\n",
       "    <tr>\n",
       "      <th>60</th>\n",
       "      <td>Massachusetts</td>\n",
       "      <td>Fair</td>\n",
       "      <td>0.657093</td>\n",
       "    </tr>\n",
       "    <tr>\n",
       "      <th>87</th>\n",
       "      <td>New Jersey</td>\n",
       "      <td>Fair</td>\n",
       "      <td>0.656988</td>\n",
       "    </tr>\n",
       "    <tr>\n",
       "      <th>18</th>\n",
       "      <td>Connecticut</td>\n",
       "      <td>Fair</td>\n",
       "      <td>0.654053</td>\n",
       "    </tr>\n",
       "    <tr>\n",
       "      <th>21</th>\n",
       "      <td>Delaware</td>\n",
       "      <td>Fair</td>\n",
       "      <td>0.651807</td>\n",
       "    </tr>\n",
       "    <tr>\n",
       "      <th>36</th>\n",
       "      <td>Idaho</td>\n",
       "      <td>Fair</td>\n",
       "      <td>0.648389</td>\n",
       "    </tr>\n",
       "    <tr>\n",
       "      <th>147</th>\n",
       "      <td>Wyoming</td>\n",
       "      <td>Fair</td>\n",
       "      <td>0.647251</td>\n",
       "    </tr>\n",
       "    <tr>\n",
       "      <th>114</th>\n",
       "      <td>Rhode Island</td>\n",
       "      <td>Fair</td>\n",
       "      <td>0.634113</td>\n",
       "    </tr>\n",
       "    <tr>\n",
       "      <th>48</th>\n",
       "      <td>Kentucky</td>\n",
       "      <td>Fair</td>\n",
       "      <td>0.632639</td>\n",
       "    </tr>\n",
       "    <tr>\n",
       "      <th>135</th>\n",
       "      <td>Virginia</td>\n",
       "      <td>Fair</td>\n",
       "      <td>0.629563</td>\n",
       "    </tr>\n",
       "    <tr>\n",
       "      <th>75</th>\n",
       "      <td>Montana</td>\n",
       "      <td>Fair</td>\n",
       "      <td>0.626055</td>\n",
       "    </tr>\n",
       "    <tr>\n",
       "      <th>57</th>\n",
       "      <td>Maryland</td>\n",
       "      <td>Fair</td>\n",
       "      <td>0.625792</td>\n",
       "    </tr>\n",
       "    <tr>\n",
       "      <th>108</th>\n",
       "      <td>Oregon</td>\n",
       "      <td>Fair</td>\n",
       "      <td>0.612911</td>\n",
       "    </tr>\n",
       "    <tr>\n",
       "      <th>129</th>\n",
       "      <td>Utah</td>\n",
       "      <td>Fair</td>\n",
       "      <td>0.600000</td>\n",
       "    </tr>\n",
       "    <tr>\n",
       "      <th>54</th>\n",
       "      <td>Maine</td>\n",
       "      <td>Fair</td>\n",
       "      <td>0.582737</td>\n",
       "    </tr>\n",
       "    <tr>\n",
       "      <th>15</th>\n",
       "      <td>Colorado</td>\n",
       "      <td>Fair</td>\n",
       "      <td>0.577638</td>\n",
       "    </tr>\n",
       "    <tr>\n",
       "      <th>90</th>\n",
       "      <td>New Mexico</td>\n",
       "      <td>Fair</td>\n",
       "      <td>0.577100</td>\n",
       "    </tr>\n",
       "    <tr>\n",
       "      <th>0</th>\n",
       "      <td>Alabama</td>\n",
       "      <td>Fair</td>\n",
       "      <td>0.550587</td>\n",
       "    </tr>\n",
       "  </tbody>\n",
       "</table>\n",
       "</div>"
      ],
      "text/plain": [
       "                      state bridge_condition  perc_count\n",
       "155                    Iowa             Fair    1.000000\n",
       "33                   Hawaii             Fair    0.735079\n",
       "24     District of Columbia             Fair    0.716129\n",
       "60            Massachusetts             Fair    0.657093\n",
       "87               New Jersey             Fair    0.656988\n",
       "18              Connecticut             Fair    0.654053\n",
       "21                 Delaware             Fair    0.651807\n",
       "36                    Idaho             Fair    0.648389\n",
       "147                 Wyoming             Fair    0.647251\n",
       "114            Rhode Island             Fair    0.634113\n",
       "48                 Kentucky             Fair    0.632639\n",
       "135                Virginia             Fair    0.629563\n",
       "75                  Montana             Fair    0.626055\n",
       "57                 Maryland             Fair    0.625792\n",
       "108                  Oregon             Fair    0.612911\n",
       "129                    Utah             Fair    0.600000\n",
       "54                    Maine             Fair    0.582737\n",
       "15                 Colorado             Fair    0.577638\n",
       "90               New Mexico             Fair    0.577100\n",
       "0                   Alabama             Fair    0.550587"
      ]
     },
     "execution_count": 44,
     "metadata": {},
     "output_type": "execute_result"
    }
   ],
   "source": [
    "fair_df = dfx.loc[dfx['bridge_condition']=='Fair'].sort_values(by='perc_count', ascending=False)[:20]\n",
    "fair_df"
   ]
  },
  {
   "cell_type": "code",
   "execution_count": 45,
   "metadata": {
    "ExecuteTime": {
     "end_time": "2021-08-30T19:39:28.728112Z",
     "start_time": "2021-08-30T19:39:27.734520Z"
    }
   },
   "outputs": [
    {
     "data": {
      "image/png": "[encoded data removed]",
      "text/plain": [
       "<Figure size 864x576 with 1 Axes>"
      ]
     },
     "metadata": {},
     "output_type": "display_data"
    }
   ],
   "source": [
    "plt.figure(figsize=(12,8))\n",
    "sns.barplot(y=fair_df['state'], x=fair_df['perc_count'], color='b')\n",
    "plt.xlabel('Percentage')\n",
    "plt.ylabel('States')\n",
    "plt.title('Top 20 States with Fair Bridge Condition(%)', fontsize=20);"
   ]
  },
  {
   "cell_type": "code",
   "execution_count": null,
   "metadata": {},
   "outputs": [],
   "source": []
  },
  {
   "cell_type": "code",
   "execution_count": 46,
   "metadata": {
    "ExecuteTime": {
     "end_time": "2021-08-30T19:39:30.368272Z",
     "start_time": "2021-08-30T19:39:28.732113Z"
    }
   },
   "outputs": [
    {
     "data": {
      "image/png": "[encoded data removed]",
      "text/plain": [
       "<Figure size 432x576 with 1 Axes>"
      ]
     },
     "metadata": {},
     "output_type": "display_data"
    }
   ],
   "source": [
    "import seaborn as sns\n",
    "import matplotlib.pyplot as plt\n",
    "sns.set_theme(style=\"whitegrid\")\n",
    "\n",
    "# Initialize the matplotlib figure\n",
    "f, ax = plt.subplots(figsize=(6, 8))\n",
    "\n",
    "\n",
    "# Plot the fair bridge_condition\n",
    "sns.set_color_codes(\"pastel\")\n",
    "sns.barplot(x=\"perc_count\", y=\"state\", data=fair_df,\n",
    "            label=\"Fair\", color=\"b\")\n",
    "\n",
    "# Plot the poor bridge_condition\n",
    "sns.set_color_codes(\"muted\")\n",
    "sns.barplot(x=\"perc_count\", y=\"state\", data=poor_df,\n",
    "            label=\"Poor\", color=\"b\")\n",
    "\n",
    "# Add a legend and informative axis label\n",
    "ax.legend(ncol=2, loc=\"lower right\", frameon=True)\n",
    "ax.set(xlim=(0, 1.0), ylabel=\"States\", xlabel=\"Percentage of Bridge count\")\n",
    "plt.title('Top 20 States with Fair & Poor Conditions(%)', fontsize=20)\n",
    "sns.despine(left=True, bottom=True)\n"
   ]
  },
  {
   "cell_type": "code",
   "execution_count": 47,
   "metadata": {
    "ExecuteTime": {
     "end_time": "2021-08-30T19:39:30.760272Z",
     "start_time": "2021-08-30T19:39:30.372272Z"
    }
   },
   "outputs": [
    {
     "data": {
      "text/html": [
       "<div>\n",
       "<style scoped>\n",
       "    .dataframe tbody tr th:only-of-type {\n",
       "        vertical-align: middle;\n",
       "    }\n",
       "\n",
       "    .dataframe tbody tr th {\n",
       "        vertical-align: top;\n",
       "    }\n",
       "\n",
       "    .dataframe thead th {\n",
       "        text-align: right;\n",
       "    }\n",
       "</style>\n",
       "<table border=\"1\" class=\"dataframe\">\n",
       "  <thead>\n",
       "    <tr style=\"text-align: right;\">\n",
       "      <th></th>\n",
       "      <th>state</th>\n",
       "      <th>bridge_condition</th>\n",
       "      <th>condition_count</th>\n",
       "    </tr>\n",
       "  </thead>\n",
       "  <tbody>\n",
       "    <tr>\n",
       "      <th>0</th>\n",
       "      <td>Texas</td>\n",
       "      <td>Good</td>\n",
       "      <td>27656</td>\n",
       "    </tr>\n",
       "    <tr>\n",
       "      <th>1</th>\n",
       "      <td>Texas</td>\n",
       "      <td>Fair</td>\n",
       "      <td>26069</td>\n",
       "    </tr>\n",
       "    <tr>\n",
       "      <th>2</th>\n",
       "      <td>Ohio</td>\n",
       "      <td>Good</td>\n",
       "      <td>16008</td>\n",
       "    </tr>\n",
       "    <tr>\n",
       "      <th>3</th>\n",
       "      <td>Illinois</td>\n",
       "      <td>Good</td>\n",
       "      <td>12325</td>\n",
       "    </tr>\n",
       "    <tr>\n",
       "      <th>4</th>\n",
       "      <td>California</td>\n",
       "      <td>Good</td>\n",
       "      <td>12240</td>\n",
       "    </tr>\n",
       "  </tbody>\n",
       "</table>\n",
       "</div>"
      ],
      "text/plain": [
       "          state bridge_condition  condition_count\n",
       "0         Texas             Good            27656\n",
       "1         Texas             Fair            26069\n",
       "2          Ohio             Good            16008\n",
       "3      Illinois             Good            12325\n",
       "4    California             Good            12240"
      ]
     },
     "execution_count": 47,
     "metadata": {},
     "output_type": "execute_result"
    }
   ],
   "source": [
    "df_count = dff.groupby('state')['bridge_condition'].value_counts().sort_values(ascending=False).reset_index(name='condition_count')\n",
    "df_count.head()"
   ]
  },
  {
   "cell_type": "code",
   "execution_count": null,
   "metadata": {},
   "outputs": [],
   "source": []
  },
  {
   "cell_type": "code",
   "execution_count": 48,
   "metadata": {
    "ExecuteTime": {
     "end_time": "2021-08-30T19:39:30.792273Z",
     "start_time": "2021-08-30T19:39:30.764276Z"
    }
   },
   "outputs": [
    {
     "data": {
      "text/html": [
       "<div>\n",
       "<style scoped>\n",
       "    .dataframe tbody tr th:only-of-type {\n",
       "        vertical-align: middle;\n",
       "    }\n",
       "\n",
       "    .dataframe tbody tr th {\n",
       "        vertical-align: top;\n",
       "    }\n",
       "\n",
       "    .dataframe thead th {\n",
       "        text-align: right;\n",
       "    }\n",
       "</style>\n",
       "<table border=\"1\" class=\"dataframe\">\n",
       "  <thead>\n",
       "    <tr style=\"text-align: right;\">\n",
       "      <th></th>\n",
       "      <th>state</th>\n",
       "      <th>bridge_condition</th>\n",
       "      <th>condition_count</th>\n",
       "    </tr>\n",
       "  </thead>\n",
       "  <tbody>\n",
       "    <tr>\n",
       "      <th>51</th>\n",
       "      <td>Iowa</td>\n",
       "      <td>Poor</td>\n",
       "      <td>4533</td>\n",
       "    </tr>\n",
       "    <tr>\n",
       "      <th>66</th>\n",
       "      <td>Pennsylvania</td>\n",
       "      <td>Poor</td>\n",
       "      <td>2799</td>\n",
       "    </tr>\n",
       "    <tr>\n",
       "      <th>70</th>\n",
       "      <td>Oklahoma</td>\n",
       "      <td>Poor</td>\n",
       "      <td>2319</td>\n",
       "    </tr>\n",
       "    <tr>\n",
       "      <th>72</th>\n",
       "      <td>Illinois</td>\n",
       "      <td>Poor</td>\n",
       "      <td>2284</td>\n",
       "    </tr>\n",
       "    <tr>\n",
       "      <th>74</th>\n",
       "      <td>Missouri</td>\n",
       "      <td>Poor</td>\n",
       "      <td>2128</td>\n",
       "    </tr>\n",
       "  </tbody>\n",
       "</table>\n",
       "</div>"
      ],
      "text/plain": [
       "             state bridge_condition  condition_count\n",
       "51            Iowa             Poor             4533\n",
       "66    Pennsylvania             Poor             2799\n",
       "70        Oklahoma             Poor             2319\n",
       "72        Illinois             Poor             2284\n",
       "74        Missouri             Poor             2128"
      ]
     },
     "execution_count": 48,
     "metadata": {},
     "output_type": "execute_result"
    }
   ],
   "source": [
    "poor_count = df_count.loc[df_count['bridge_condition']=='Poor'].sort_values(by='condition_count', ascending=False)[:20]\n",
    "poor_count.head()"
   ]
  },
  {
   "cell_type": "code",
   "execution_count": 49,
   "metadata": {
    "ExecuteTime": {
     "end_time": "2021-08-30T19:39:32.040376Z",
     "start_time": "2021-08-30T19:39:30.796276Z"
    }
   },
   "outputs": [
    {
     "data": {
      "image/png": "[encoded data removed]",
      "text/plain": [
       "<Figure size 864x576 with 1 Axes>"
      ]
     },
     "metadata": {},
     "output_type": "display_data"
    }
   ],
   "source": [
    "plt.figure(figsize=(12,8))\n",
    "sns.barplot(y=poor_count['state'], x=poor_count['condition_count'], color='r')\n",
    "plt.xlabel('Number of bridges')\n",
    "plt.ylabel('States')\n",
    "plt.title('Top 20 States with Poor Bridge Condition', fontsize=20);"
   ]
  },
  {
   "cell_type": "code",
   "execution_count": null,
   "metadata": {},
   "outputs": [],
   "source": []
  },
  {
   "cell_type": "code",
   "execution_count": 50,
   "metadata": {
    "ExecuteTime": {
     "end_time": "2021-08-30T19:39:32.072374Z",
     "start_time": "2021-08-30T19:39:32.044377Z"
    }
   },
   "outputs": [
    {
     "data": {
      "text/html": [
       "<div>\n",
       "<style scoped>\n",
       "    .dataframe tbody tr th:only-of-type {\n",
       "        vertical-align: middle;\n",
       "    }\n",
       "\n",
       "    .dataframe tbody tr th {\n",
       "        vertical-align: top;\n",
       "    }\n",
       "\n",
       "    .dataframe thead th {\n",
       "        text-align: right;\n",
       "    }\n",
       "</style>\n",
       "<table border=\"1\" class=\"dataframe\">\n",
       "  <thead>\n",
       "    <tr style=\"text-align: right;\">\n",
       "      <th></th>\n",
       "      <th>state</th>\n",
       "      <th>bridge_condition</th>\n",
       "      <th>condition_count</th>\n",
       "    </tr>\n",
       "  </thead>\n",
       "  <tbody>\n",
       "    <tr>\n",
       "      <th>1</th>\n",
       "      <td>Texas</td>\n",
       "      <td>Fair</td>\n",
       "      <td>26069</td>\n",
       "    </tr>\n",
       "    <tr>\n",
       "      <th>6</th>\n",
       "      <td>Missouri</td>\n",
       "      <td>Fair</td>\n",
       "      <td>12082</td>\n",
       "    </tr>\n",
       "    <tr>\n",
       "      <th>7</th>\n",
       "      <td>Illinois</td>\n",
       "      <td>Fair</td>\n",
       "      <td>10936</td>\n",
       "    </tr>\n",
       "    <tr>\n",
       "      <th>8</th>\n",
       "      <td>Oklahoma</td>\n",
       "      <td>Fair</td>\n",
       "      <td>10851</td>\n",
       "    </tr>\n",
       "    <tr>\n",
       "      <th>9</th>\n",
       "      <td>California</td>\n",
       "      <td>Fair</td>\n",
       "      <td>10764</td>\n",
       "    </tr>\n",
       "  </tbody>\n",
       "</table>\n",
       "</div>"
      ],
      "text/plain": [
       "          state bridge_condition  condition_count\n",
       "1         Texas             Fair            26069\n",
       "6      Missouri             Fair            12082\n",
       "7      Illinois             Fair            10936\n",
       "8      Oklahoma             Fair            10851\n",
       "9    California             Fair            10764"
      ]
     },
     "execution_count": 50,
     "metadata": {},
     "output_type": "execute_result"
    }
   ],
   "source": [
    "fair_count = df_count.loc[df_count['bridge_condition']=='Fair'].sort_values(by='condition_count', ascending=False)[:20]\n",
    "fair_count.head()"
   ]
  },
  {
   "cell_type": "code",
   "execution_count": 51,
   "metadata": {
    "ExecuteTime": {
     "end_time": "2021-08-30T19:39:33.199960Z",
     "start_time": "2021-08-30T19:39:32.077376Z"
    }
   },
   "outputs": [
    {
     "data": {
      "image/png": "[encoded data removed]",
      "text/plain": [
       "<Figure size 864x576 with 1 Axes>"
      ]
     },
     "metadata": {},
     "output_type": "display_data"
    }
   ],
   "source": [
    "plt.figure(figsize=(12,8))\n",
    "sns.barplot(y=fair_count['state'], x=fair_count['condition_count'], color='r')\n",
    "plt.xlabel('Number of bridges')\n",
    "plt.ylabel('States')\n",
    "plt.title('Top 20 States with Fair Bridge Condition', fontsize=20);"
   ]
  },
  {
   "cell_type": "code",
   "execution_count": null,
   "metadata": {},
   "outputs": [],
   "source": []
  },
  {
   "cell_type": "code",
   "execution_count": null,
   "metadata": {},
   "outputs": [],
   "source": []
  },
  {
   "cell_type": "code",
   "execution_count": null,
   "metadata": {},
   "outputs": [],
   "source": []
  },
  {
   "cell_type": "code",
   "execution_count": 52,
   "metadata": {
    "ExecuteTime": {
     "end_time": "2021-08-30T19:39:34.524667Z",
     "start_time": "2021-08-30T19:39:33.203964Z"
    }
   },
   "outputs": [
    {
     "data": {
      "image/png": "[encoded data removed]",
      "text/plain": [
       "<Figure size 432x864 with 1 Axes>"
      ]
     },
     "metadata": {},
     "output_type": "display_data"
    }
   ],
   "source": [
    "import seaborn as sns\n",
    "import matplotlib.pyplot as plt\n",
    "sns.set_theme(style=\"whitegrid\")\n",
    "\n",
    "# Initialize the matplotlib figure\n",
    "f, ax = plt.subplots(figsize=(6, 12))\n",
    "\n",
    "\n",
    "# Plot the fair bridge_condition\n",
    "sns.set_color_codes(\"pastel\")\n",
    "sns.barplot(x=\"condition_count\", y=\"state\", data=fair_count,\n",
    "            label=\"Fair\", color=\"b\")\n",
    "\n",
    "# Plot the poor bridge_condition\n",
    "sns.set_color_codes(\"muted\")\n",
    "sns.barplot(x=\"condition_count\", y=\"state\", data=poor_count,\n",
    "            label=\"Poor\", color=\"b\")\n",
    "\n",
    "# Add a legend and informative axis label\n",
    "ax.legend(ncol=2, loc=\"lower right\", frameon=True)\n",
    "ax.set(xlim=(0, 30000), ylabel=\"States\", xlabel=\"Number of Bridges\")\n",
    "plt.title('Top 20 States with Fair & Poor Conditions', fontsize=20)\n",
    "sns.despine(left=True, bottom=True)\n"
   ]
  },
  {
   "cell_type": "code",
   "execution_count": null,
   "metadata": {},
   "outputs": [],
   "source": []
  },
  {
   "cell_type": "code",
   "execution_count": null,
   "metadata": {},
   "outputs": [],
   "source": []
  },
  {
   "cell_type": "code",
   "execution_count": null,
   "metadata": {},
   "outputs": [],
   "source": []
  },
  {
   "cell_type": "code",
   "execution_count": null,
   "metadata": {},
   "outputs": [],
   "source": []
  },
  {
   "cell_type": "code",
   "execution_count": null,
   "metadata": {},
   "outputs": [],
   "source": []
  },
  {
   "cell_type": "code",
   "execution_count": null,
   "metadata": {},
   "outputs": [],
   "source": []
  },
  {
   "cell_type": "code",
   "execution_count": null,
   "metadata": {},
   "outputs": [],
   "source": []
  },
  {
   "cell_type": "code",
   "execution_count": null,
   "metadata": {},
   "outputs": [],
   "source": []
  },
  {
   "cell_type": "code",
   "execution_count": null,
   "metadata": {},
   "outputs": [],
   "source": []
  },
  {
   "cell_type": "code",
   "execution_count": null,
   "metadata": {},
   "outputs": [],
   "source": []
  },
  {
   "cell_type": "code",
   "execution_count": null,
   "metadata": {},
   "outputs": [],
   "source": []
  },
  {
   "cell_type": "code",
   "execution_count": null,
   "metadata": {},
   "outputs": [],
   "source": []
  },
  {
   "cell_type": "code",
   "execution_count": null,
   "metadata": {},
   "outputs": [],
   "source": []
  },
  {
   "cell_type": "code",
   "execution_count": null,
   "metadata": {},
   "outputs": [],
   "source": []
  },
  {
   "cell_type": "code",
   "execution_count": null,
   "metadata": {},
   "outputs": [],
   "source": []
  },
  {
   "cell_type": "code",
   "execution_count": null,
   "metadata": {},
   "outputs": [],
   "source": []
  },
  {
   "cell_type": "code",
   "execution_count": null,
   "metadata": {},
   "outputs": [],
   "source": []
  },
  {
   "cell_type": "code",
   "execution_count": null,
   "metadata": {},
   "outputs": [],
   "source": []
  },
  {
   "cell_type": "code",
   "execution_count": null,
   "metadata": {},
   "outputs": [],
   "source": []
  },
  {
   "cell_type": "code",
   "execution_count": null,
   "metadata": {},
   "outputs": [],
   "source": []
  },
  {
   "cell_type": "code",
   "execution_count": null,
   "metadata": {},
   "outputs": [],
   "source": []
  },
  {
   "cell_type": "code",
   "execution_count": null,
   "metadata": {},
   "outputs": [],
   "source": []
  },
  {
   "cell_type": "code",
   "execution_count": null,
   "metadata": {},
   "outputs": [],
   "source": []
  },
  {
   "cell_type": "code",
   "execution_count": null,
   "metadata": {},
   "outputs": [],
   "source": []
  },
  {
   "cell_type": "code",
   "execution_count": null,
   "metadata": {},
   "outputs": [],
   "source": []
  },
  {
   "cell_type": "code",
   "execution_count": null,
   "metadata": {},
   "outputs": [],
   "source": []
  },
  {
   "cell_type": "code",
   "execution_count": null,
   "metadata": {},
   "outputs": [],
   "source": []
  },
  {
   "cell_type": "code",
   "execution_count": null,
   "metadata": {},
   "outputs": [],
   "source": []
  },
  {
   "cell_type": "code",
   "execution_count": null,
   "metadata": {},
   "outputs": [],
   "source": []
  },
  {
   "cell_type": "code",
   "execution_count": null,
   "metadata": {},
   "outputs": [],
   "source": []
  },
  {
   "cell_type": "code",
   "execution_count": null,
   "metadata": {},
   "outputs": [],
   "source": []
  },
  {
   "cell_type": "code",
   "execution_count": null,
   "metadata": {},
   "outputs": [],
   "source": []
  },
  {
   "cell_type": "code",
   "execution_count": null,
   "metadata": {},
   "outputs": [],
   "source": []
  },
  {
   "cell_type": "code",
   "execution_count": null,
   "metadata": {},
   "outputs": [],
   "source": []
  },
  {
   "cell_type": "code",
   "execution_count": null,
   "metadata": {},
   "outputs": [],
   "source": []
  },
  {
   "cell_type": "code",
   "execution_count": null,
   "metadata": {},
   "outputs": [],
   "source": []
  },
  {
   "cell_type": "code",
   "execution_count": null,
   "metadata": {},
   "outputs": [],
   "source": []
  },
  {
   "cell_type": "code",
   "execution_count": null,
   "metadata": {},
   "outputs": [],
   "source": []
  },
  {
   "cell_type": "code",
   "execution_count": null,
   "metadata": {},
   "outputs": [],
   "source": []
  },
  {
   "cell_type": "code",
   "execution_count": null,
   "metadata": {},
   "outputs": [],
   "source": []
  },
  {
   "cell_type": "code",
   "execution_count": null,
   "metadata": {},
   "outputs": [],
   "source": []
  },
  {
   "cell_type": "code",
   "execution_count": null,
   "metadata": {},
   "outputs": [],
   "source": []
  },
  {
   "cell_type": "code",
   "execution_count": null,
   "metadata": {},
   "outputs": [],
   "source": []
  },
  {
   "cell_type": "code",
   "execution_count": null,
   "metadata": {},
   "outputs": [],
   "source": []
  },
  {
   "cell_type": "code",
   "execution_count": null,
   "metadata": {},
   "outputs": [],
   "source": []
  },
  {
   "cell_type": "code",
   "execution_count": null,
   "metadata": {},
   "outputs": [],
   "source": []
  },
  {
   "cell_type": "code",
   "execution_count": null,
   "metadata": {},
   "outputs": [],
   "source": []
  },
  {
   "cell_type": "code",
   "execution_count": null,
   "metadata": {},
   "outputs": [],
   "source": []
  },
  {
   "cell_type": "code",
   "execution_count": null,
   "metadata": {},
   "outputs": [],
   "source": []
  },
  {
   "cell_type": "code",
   "execution_count": null,
   "metadata": {},
   "outputs": [],
   "source": []
  },
  {
   "cell_type": "code",
   "execution_count": null,
   "metadata": {},
   "outputs": [],
   "source": []
  },
  {
   "cell_type": "code",
   "execution_count": null,
   "metadata": {},
   "outputs": [],
   "source": []
  },
  {
   "cell_type": "code",
   "execution_count": null,
   "metadata": {},
   "outputs": [],
   "source": []
  },
  {
   "cell_type": "code",
   "execution_count": null,
   "metadata": {},
   "outputs": [],
   "source": []
  },
  {
   "cell_type": "code",
   "execution_count": null,
   "metadata": {},
   "outputs": [],
   "source": []
  },
  {
   "cell_type": "code",
   "execution_count": null,
   "metadata": {
    "ExecuteTime": {
     "end_time": "2021-08-29T19:12:09.024385Z",
     "start_time": "2021-08-29T19:12:09.000344Z"
    }
   },
   "outputs": [],
   "source": []
  },
  {
   "cell_type": "code",
   "execution_count": null,
   "metadata": {
    "ExecuteTime": {
     "end_time": "2021-08-29T21:54:10.430251Z",
     "start_time": "2021-08-29T21:54:10.406642Z"
    }
   },
   "outputs": [],
   "source": []
  },
  {
   "cell_type": "code",
   "execution_count": null,
   "metadata": {},
   "outputs": [],
   "source": []
  },
  {
   "cell_type": "code",
   "execution_count": null,
   "metadata": {},
   "outputs": [],
   "source": []
  },
  {
   "cell_type": "code",
   "execution_count": null,
   "metadata": {},
   "outputs": [],
   "source": []
  },
  {
   "cell_type": "code",
   "execution_count": null,
   "metadata": {},
   "outputs": [],
   "source": []
  },
  {
   "cell_type": "code",
   "execution_count": null,
   "metadata": {},
   "outputs": [],
   "source": []
  },
  {
   "cell_type": "code",
   "execution_count": null,
   "metadata": {},
   "outputs": [],
   "source": []
  },
  {
   "cell_type": "code",
   "execution_count": null,
   "metadata": {},
   "outputs": [],
   "source": []
  },
  {
   "cell_type": "code",
   "execution_count": null,
   "metadata": {},
   "outputs": [],
   "source": []
  },
  {
   "cell_type": "code",
   "execution_count": null,
   "metadata": {},
   "outputs": [],
   "source": []
  },
  {
   "cell_type": "code",
   "execution_count": null,
   "metadata": {},
   "outputs": [],
   "source": []
  },
  {
   "cell_type": "code",
   "execution_count": null,
   "metadata": {},
   "outputs": [],
   "source": []
  },
  {
   "cell_type": "code",
   "execution_count": null,
   "metadata": {},
   "outputs": [],
   "source": []
  },
  {
   "cell_type": "code",
   "execution_count": null,
   "metadata": {},
   "outputs": [],
   "source": []
  },
  {
   "cell_type": "code",
   "execution_count": null,
   "metadata": {},
   "outputs": [],
   "source": []
  },
  {
   "cell_type": "code",
   "execution_count": null,
   "metadata": {},
   "outputs": [],
   "source": []
  },
  {
   "cell_type": "code",
   "execution_count": null,
   "metadata": {},
   "outputs": [],
   "source": []
  },
  {
   "cell_type": "code",
   "execution_count": null,
   "metadata": {},
   "outputs": [],
   "source": []
  },
  {
   "cell_type": "code",
   "execution_count": null,
   "metadata": {},
   "outputs": [],
   "source": []
  },
  {
   "cell_type": "code",
   "execution_count": null,
   "metadata": {},
   "outputs": [],
   "source": []
  },
  {
   "cell_type": "code",
   "execution_count": null,
   "metadata": {},
   "outputs": [],
   "source": []
  },
  {
   "cell_type": "code",
   "execution_count": null,
   "metadata": {},
   "outputs": [],
   "source": []
  },
  {
   "cell_type": "code",
   "execution_count": null,
   "metadata": {},
   "outputs": [],
   "source": []
  },
  {
   "cell_type": "code",
   "execution_count": null,
   "metadata": {},
   "outputs": [],
   "source": []
  },
  {
   "cell_type": "code",
   "execution_count": null,
   "metadata": {},
   "outputs": [],
   "source": []
  },
  {
   "cell_type": "code",
   "execution_count": 59,
   "metadata": {
    "ExecuteTime": {
     "end_time": "2021-08-30T19:39:43.607299Z",
     "start_time": "2021-08-30T19:39:43.595301Z"
    }
   },
   "outputs": [
    {
     "data": {
      "text/plain": [
       "Index(['state', 'str_id', 'deck_type', 'wearing_type', 'membrane_type',\n",
       "       'deck_protection', 'toll', 'freeze_thaw_cycle', 'snowfall_days',\n",
       "       'inventory_class_route', 'lanes_on_str', 'lanes_under_str',\n",
       "       'level_service_code', 'yr_avg_traffic', 'inventory_route_code',\n",
       "       'truck_network_code', 'min_vertical_underclearance',\n",
       "       'min_lateral_underclearanceR', 'min_lateral_underclearanceL', 'county',\n",
       "       'design_material', 'construction_design_value', 'num_spans',\n",
       "       'structure_length', 'bridge_condition', 'bridge_age', 'latitude',\n",
       "       'longitude', 'yr_reconst', 'skew', 'max_span', 'bridge_width',\n",
       "       'deck_width', 'super_st_condition', 'sub_st_condition',\n",
       "       'deck_condition', 'avg_daily_trfic', 'avg_truck_trfc'],\n",
       "      dtype='object')"
      ]
     },
     "execution_count": 59,
     "metadata": {},
     "output_type": "execute_result"
    }
   ],
   "source": [
    "df.columns"
   ]
  },
  {
   "cell_type": "code",
   "execution_count": null,
   "metadata": {},
   "outputs": [],
   "source": []
  },
  {
   "cell_type": "code",
   "execution_count": null,
   "metadata": {},
   "outputs": [],
   "source": []
  },
  {
   "cell_type": "code",
   "execution_count": null,
   "metadata": {},
   "outputs": [],
   "source": []
  },
  {
   "cell_type": "code",
   "execution_count": null,
   "metadata": {},
   "outputs": [],
   "source": []
  },
  {
   "cell_type": "code",
   "execution_count": null,
   "metadata": {},
   "outputs": [],
   "source": []
  },
  {
   "cell_type": "code",
   "execution_count": null,
   "metadata": {},
   "outputs": [],
   "source": []
  },
  {
   "cell_type": "code",
   "execution_count": 63,
   "metadata": {
    "ExecuteTime": {
     "end_time": "2021-08-30T23:42:38.524721Z",
     "start_time": "2021-08-30T23:42:07.434773Z"
    }
   },
   "outputs": [
    {
     "ename": "ValueError",
     "evalue": "cannot reindex from a duplicate axis",
     "output_type": "error",
     "traceback": [
      "\u001b[1;31m---------------------------------------------------------------------------\u001b[0m",
      "\u001b[1;31mValueError\u001b[0m                                Traceback (most recent call last)",
      "\u001b[1;32m<ipython-input-63-b4e665e62512>\u001b[0m in \u001b[0;36m<module>\u001b[1;34m\u001b[0m\n\u001b[0;32m      6\u001b[0m \u001b[1;33m\u001b[0m\u001b[0m\n\u001b[0;32m      7\u001b[0m \u001b[1;31m# Plot the distribution of clarity ratings, conditional on carat\u001b[0m\u001b[1;33m\u001b[0m\u001b[1;33m\u001b[0m\u001b[1;33m\u001b[0m\u001b[0m\n\u001b[1;32m----> 8\u001b[1;33m sns.displot(\n\u001b[0m\u001b[0;32m      9\u001b[0m     \u001b[0mdata\u001b[0m\u001b[1;33m=\u001b[0m\u001b[0mdf\u001b[0m\u001b[1;33m,\u001b[0m\u001b[1;33m\u001b[0m\u001b[1;33m\u001b[0m\u001b[0m\n\u001b[0;32m     10\u001b[0m     \u001b[0mx\u001b[0m\u001b[1;33m=\u001b[0m\u001b[1;34m\"snowfall_days\"\u001b[0m\u001b[1;33m,\u001b[0m \u001b[0mhue\u001b[0m\u001b[1;33m=\u001b[0m\u001b[1;34m\"super_st_condition\"\u001b[0m\u001b[1;33m,\u001b[0m\u001b[1;33m\u001b[0m\u001b[1;33m\u001b[0m\u001b[0m\n",
      "\u001b[1;32m~\\anaconda3\\lib\\site-packages\\seaborn\\distributions.py\u001b[0m in \u001b[0;36mdisplot\u001b[1;34m(data, x, y, hue, row, col, weights, kind, rug, rug_kws, log_scale, legend, palette, hue_order, hue_norm, color, col_wrap, row_order, col_order, height, aspect, facet_kws, **kwargs)\u001b[0m\n\u001b[0;32m   2297\u001b[0m \u001b[1;33m\u001b[0m\u001b[0m\n\u001b[0;32m   2298\u001b[0m             \u001b[0m_assign_default_kwargs\u001b[0m\u001b[1;33m(\u001b[0m\u001b[0mkde_kws\u001b[0m\u001b[1;33m,\u001b[0m \u001b[0mp\u001b[0m\u001b[1;33m.\u001b[0m\u001b[0mplot_univariate_density\u001b[0m\u001b[1;33m,\u001b[0m \u001b[0mkdeplot\u001b[0m\u001b[1;33m)\u001b[0m\u001b[1;33m\u001b[0m\u001b[1;33m\u001b[0m\u001b[0m\n\u001b[1;32m-> 2299\u001b[1;33m             \u001b[0mp\u001b[0m\u001b[1;33m.\u001b[0m\u001b[0mplot_univariate_density\u001b[0m\u001b[1;33m(\u001b[0m\u001b[1;33m**\u001b[0m\u001b[0mkde_kws\u001b[0m\u001b[1;33m)\u001b[0m\u001b[1;33m\u001b[0m\u001b[1;33m\u001b[0m\u001b[0m\n\u001b[0m\u001b[0;32m   2300\u001b[0m \u001b[1;33m\u001b[0m\u001b[0m\n\u001b[0;32m   2301\u001b[0m         \u001b[1;32melse\u001b[0m\u001b[1;33m:\u001b[0m\u001b[1;33m\u001b[0m\u001b[1;33m\u001b[0m\u001b[0m\n",
      "\u001b[1;32m~\\anaconda3\\lib\\site-packages\\seaborn\\distributions.py\u001b[0m in \u001b[0;36mplot_univariate_density\u001b[1;34m(self, multiple, common_norm, common_grid, warn_singular, fill, legend, estimate_kws, **plot_kws)\u001b[0m\n\u001b[0;32m    926\u001b[0m \u001b[1;33m\u001b[0m\u001b[0m\n\u001b[0;32m    927\u001b[0m         \u001b[1;31m# Do the computation\u001b[0m\u001b[1;33m\u001b[0m\u001b[1;33m\u001b[0m\u001b[1;33m\u001b[0m\u001b[0m\n\u001b[1;32m--> 928\u001b[1;33m         densities = self._compute_univariate_density(\n\u001b[0m\u001b[0;32m    929\u001b[0m             \u001b[0mself\u001b[0m\u001b[1;33m.\u001b[0m\u001b[0mdata_variable\u001b[0m\u001b[1;33m,\u001b[0m\u001b[1;33m\u001b[0m\u001b[1;33m\u001b[0m\u001b[0m\n\u001b[0;32m    930\u001b[0m             \u001b[0mcommon_norm\u001b[0m\u001b[1;33m,\u001b[0m\u001b[1;33m\u001b[0m\u001b[1;33m\u001b[0m\u001b[0m\n",
      "\u001b[1;32m~\\anaconda3\\lib\\site-packages\\seaborn\\distributions.py\u001b[0m in \u001b[0;36m_compute_univariate_density\u001b[1;34m(self, data_variable, common_norm, common_grid, estimate_kws, log_scale, warn_singular)\u001b[0m\n\u001b[0;32m    294\u001b[0m         \u001b[1;32mif\u001b[0m \u001b[0mset\u001b[0m\u001b[1;33m(\u001b[0m\u001b[0mself\u001b[0m\u001b[1;33m.\u001b[0m\u001b[0mvariables\u001b[0m\u001b[1;33m)\u001b[0m \u001b[1;33m-\u001b[0m \u001b[1;33m{\u001b[0m\u001b[1;34m\"x\"\u001b[0m\u001b[1;33m,\u001b[0m \u001b[1;34m\"y\"\u001b[0m\u001b[1;33m}\u001b[0m\u001b[1;33m:\u001b[0m\u001b[1;33m\u001b[0m\u001b[1;33m\u001b[0m\u001b[0m\n\u001b[0;32m    295\u001b[0m             \u001b[1;32mif\u001b[0m \u001b[0mcommon_grid\u001b[0m\u001b[1;33m:\u001b[0m\u001b[1;33m\u001b[0m\u001b[1;33m\u001b[0m\u001b[0m\n\u001b[1;32m--> 296\u001b[1;33m                 \u001b[0mall_observations\u001b[0m \u001b[1;33m=\u001b[0m \u001b[0mself\u001b[0m\u001b[1;33m.\u001b[0m\u001b[0mcomp_data\u001b[0m\u001b[1;33m.\u001b[0m\u001b[0mdropna\u001b[0m\u001b[1;33m(\u001b[0m\u001b[1;33m)\u001b[0m\u001b[1;33m\u001b[0m\u001b[1;33m\u001b[0m\u001b[0m\n\u001b[0m\u001b[0;32m    297\u001b[0m                 \u001b[0mestimator\u001b[0m\u001b[1;33m.\u001b[0m\u001b[0mdefine_support\u001b[0m\u001b[1;33m(\u001b[0m\u001b[0mall_observations\u001b[0m\u001b[1;33m[\u001b[0m\u001b[0mdata_variable\u001b[0m\u001b[1;33m]\u001b[0m\u001b[1;33m)\u001b[0m\u001b[1;33m\u001b[0m\u001b[1;33m\u001b[0m\u001b[0m\n\u001b[0;32m    298\u001b[0m         \u001b[1;32melse\u001b[0m\u001b[1;33m:\u001b[0m\u001b[1;33m\u001b[0m\u001b[1;33m\u001b[0m\u001b[0m\n",
      "\u001b[1;32m~\\anaconda3\\lib\\site-packages\\seaborn\\_core.py\u001b[0m in \u001b[0;36mcomp_data\u001b[1;34m(self)\u001b[0m\n\u001b[0;32m   1055\u001b[0m                     \u001b[0morig\u001b[0m \u001b[1;33m=\u001b[0m \u001b[0mself\u001b[0m\u001b[1;33m.\u001b[0m\u001b[0mplot_data\u001b[0m\u001b[1;33m[\u001b[0m\u001b[0mvar\u001b[0m\u001b[1;33m]\u001b[0m\u001b[1;33m.\u001b[0m\u001b[0mdropna\u001b[0m\u001b[1;33m(\u001b[0m\u001b[1;33m)\u001b[0m\u001b[1;33m\u001b[0m\u001b[1;33m\u001b[0m\u001b[0m\n\u001b[0;32m   1056\u001b[0m                 \u001b[0mcomp_col\u001b[0m \u001b[1;33m=\u001b[0m \u001b[0mpd\u001b[0m\u001b[1;33m.\u001b[0m\u001b[0mSeries\u001b[0m\u001b[1;33m(\u001b[0m\u001b[0mindex\u001b[0m\u001b[1;33m=\u001b[0m\u001b[0morig\u001b[0m\u001b[1;33m.\u001b[0m\u001b[0mindex\u001b[0m\u001b[1;33m,\u001b[0m \u001b[0mdtype\u001b[0m\u001b[1;33m=\u001b[0m\u001b[0mfloat\u001b[0m\u001b[1;33m,\u001b[0m \u001b[0mname\u001b[0m\u001b[1;33m=\u001b[0m\u001b[0mvar\u001b[0m\u001b[1;33m)\u001b[0m\u001b[1;33m\u001b[0m\u001b[1;33m\u001b[0m\u001b[0m\n\u001b[1;32m-> 1057\u001b[1;33m                 \u001b[0mcomp_col\u001b[0m\u001b[1;33m.\u001b[0m\u001b[0mloc\u001b[0m\u001b[1;33m[\u001b[0m\u001b[0morig\u001b[0m\u001b[1;33m.\u001b[0m\u001b[0mindex\u001b[0m\u001b[1;33m]\u001b[0m \u001b[1;33m=\u001b[0m \u001b[0mpd\u001b[0m\u001b[1;33m.\u001b[0m\u001b[0mto_numeric\u001b[0m\u001b[1;33m(\u001b[0m\u001b[0maxis\u001b[0m\u001b[1;33m.\u001b[0m\u001b[0mconvert_units\u001b[0m\u001b[1;33m(\u001b[0m\u001b[0morig\u001b[0m\u001b[1;33m)\u001b[0m\u001b[1;33m)\u001b[0m\u001b[1;33m\u001b[0m\u001b[1;33m\u001b[0m\u001b[0m\n\u001b[0m\u001b[0;32m   1058\u001b[0m \u001b[1;33m\u001b[0m\u001b[0m\n\u001b[0;32m   1059\u001b[0m                 \u001b[1;32mif\u001b[0m \u001b[0maxis\u001b[0m\u001b[1;33m.\u001b[0m\u001b[0mget_scale\u001b[0m\u001b[1;33m(\u001b[0m\u001b[1;33m)\u001b[0m \u001b[1;33m==\u001b[0m \u001b[1;34m\"log\"\u001b[0m\u001b[1;33m:\u001b[0m\u001b[1;33m\u001b[0m\u001b[1;33m\u001b[0m\u001b[0m\n",
      "\u001b[1;32m~\\anaconda3\\lib\\site-packages\\pandas\\core\\indexing.py\u001b[0m in \u001b[0;36m__setitem__\u001b[1;34m(self, key, value)\u001b[0m\n\u001b[0;32m    668\u001b[0m \u001b[1;33m\u001b[0m\u001b[0m\n\u001b[0;32m    669\u001b[0m         \u001b[0miloc\u001b[0m \u001b[1;33m=\u001b[0m \u001b[0mself\u001b[0m \u001b[1;32mif\u001b[0m \u001b[0mself\u001b[0m\u001b[1;33m.\u001b[0m\u001b[0mname\u001b[0m \u001b[1;33m==\u001b[0m \u001b[1;34m\"iloc\"\u001b[0m \u001b[1;32melse\u001b[0m \u001b[0mself\u001b[0m\u001b[1;33m.\u001b[0m\u001b[0mobj\u001b[0m\u001b[1;33m.\u001b[0m\u001b[0miloc\u001b[0m\u001b[1;33m\u001b[0m\u001b[1;33m\u001b[0m\u001b[0m\n\u001b[1;32m--> 670\u001b[1;33m         \u001b[0miloc\u001b[0m\u001b[1;33m.\u001b[0m\u001b[0m_setitem_with_indexer\u001b[0m\u001b[1;33m(\u001b[0m\u001b[0mindexer\u001b[0m\u001b[1;33m,\u001b[0m \u001b[0mvalue\u001b[0m\u001b[1;33m)\u001b[0m\u001b[1;33m\u001b[0m\u001b[1;33m\u001b[0m\u001b[0m\n\u001b[0m\u001b[0;32m    671\u001b[0m \u001b[1;33m\u001b[0m\u001b[0m\n\u001b[0;32m    672\u001b[0m     \u001b[1;32mdef\u001b[0m \u001b[0m_validate_key\u001b[0m\u001b[1;33m(\u001b[0m\u001b[0mself\u001b[0m\u001b[1;33m,\u001b[0m \u001b[0mkey\u001b[0m\u001b[1;33m,\u001b[0m \u001b[0maxis\u001b[0m\u001b[1;33m:\u001b[0m \u001b[0mint\u001b[0m\u001b[1;33m)\u001b[0m\u001b[1;33m:\u001b[0m\u001b[1;33m\u001b[0m\u001b[1;33m\u001b[0m\u001b[0m\n",
      "\u001b[1;32m~\\anaconda3\\lib\\site-packages\\pandas\\core\\indexing.py\u001b[0m in \u001b[0;36m_setitem_with_indexer\u001b[1;34m(self, indexer, value)\u001b[0m\n\u001b[0;32m   1790\u001b[0m                 \u001b[1;31m# setting for extensionarrays that store dicts. Need to decide\u001b[0m\u001b[1;33m\u001b[0m\u001b[1;33m\u001b[0m\u001b[1;33m\u001b[0m\u001b[0m\n\u001b[0;32m   1791\u001b[0m                 \u001b[1;31m# if it's worth supporting that.\u001b[0m\u001b[1;33m\u001b[0m\u001b[1;33m\u001b[0m\u001b[1;33m\u001b[0m\u001b[0m\n\u001b[1;32m-> 1792\u001b[1;33m                 \u001b[0mvalue\u001b[0m \u001b[1;33m=\u001b[0m \u001b[0mself\u001b[0m\u001b[1;33m.\u001b[0m\u001b[0m_align_series\u001b[0m\u001b[1;33m(\u001b[0m\u001b[0mindexer\u001b[0m\u001b[1;33m,\u001b[0m \u001b[0mSeries\u001b[0m\u001b[1;33m(\u001b[0m\u001b[0mvalue\u001b[0m\u001b[1;33m)\u001b[0m\u001b[1;33m)\u001b[0m\u001b[1;33m\u001b[0m\u001b[1;33m\u001b[0m\u001b[0m\n\u001b[0m\u001b[0;32m   1793\u001b[0m \u001b[1;33m\u001b[0m\u001b[0m\n\u001b[0;32m   1794\u001b[0m             \u001b[1;32melif\u001b[0m \u001b[0misinstance\u001b[0m\u001b[1;33m(\u001b[0m\u001b[0mvalue\u001b[0m\u001b[1;33m,\u001b[0m \u001b[0mABCDataFrame\u001b[0m\u001b[1;33m)\u001b[0m\u001b[1;33m:\u001b[0m\u001b[1;33m\u001b[0m\u001b[1;33m\u001b[0m\u001b[0m\n",
      "\u001b[1;32m~\\anaconda3\\lib\\site-packages\\pandas\\core\\indexing.py\u001b[0m in \u001b[0;36m_align_series\u001b[1;34m(self, indexer, ser, multiindex_indexer)\u001b[0m\n\u001b[0;32m   1909\u001b[0m             \u001b[1;31m# series, so need to broadcast (see GH5206)\u001b[0m\u001b[1;33m\u001b[0m\u001b[1;33m\u001b[0m\u001b[1;33m\u001b[0m\u001b[0m\n\u001b[0;32m   1910\u001b[0m             \u001b[1;32mif\u001b[0m \u001b[0msum_aligners\u001b[0m \u001b[1;33m==\u001b[0m \u001b[0mself\u001b[0m\u001b[1;33m.\u001b[0m\u001b[0mndim\u001b[0m \u001b[1;32mand\u001b[0m \u001b[0mall\u001b[0m\u001b[1;33m(\u001b[0m\u001b[0mis_sequence\u001b[0m\u001b[1;33m(\u001b[0m\u001b[0m_\u001b[0m\u001b[1;33m)\u001b[0m \u001b[1;32mfor\u001b[0m \u001b[0m_\u001b[0m \u001b[1;32min\u001b[0m \u001b[0mindexer\u001b[0m\u001b[1;33m)\u001b[0m\u001b[1;33m:\u001b[0m\u001b[1;33m\u001b[0m\u001b[1;33m\u001b[0m\u001b[0m\n\u001b[1;32m-> 1911\u001b[1;33m                 \u001b[0mser\u001b[0m \u001b[1;33m=\u001b[0m \u001b[0mser\u001b[0m\u001b[1;33m.\u001b[0m\u001b[0mreindex\u001b[0m\u001b[1;33m(\u001b[0m\u001b[0mobj\u001b[0m\u001b[1;33m.\u001b[0m\u001b[0maxes\u001b[0m\u001b[1;33m[\u001b[0m\u001b[1;36m0\u001b[0m\u001b[1;33m]\u001b[0m\u001b[1;33m[\u001b[0m\u001b[0mindexer\u001b[0m\u001b[1;33m[\u001b[0m\u001b[1;36m0\u001b[0m\u001b[1;33m]\u001b[0m\u001b[1;33m]\u001b[0m\u001b[1;33m,\u001b[0m \u001b[0mcopy\u001b[0m\u001b[1;33m=\u001b[0m\u001b[1;32mTrue\u001b[0m\u001b[1;33m)\u001b[0m\u001b[1;33m.\u001b[0m\u001b[0m_values\u001b[0m\u001b[1;33m\u001b[0m\u001b[1;33m\u001b[0m\u001b[0m\n\u001b[0m\u001b[0;32m   1912\u001b[0m \u001b[1;33m\u001b[0m\u001b[0m\n\u001b[0;32m   1913\u001b[0m                 \u001b[1;31m# single indexer\u001b[0m\u001b[1;33m\u001b[0m\u001b[1;33m\u001b[0m\u001b[1;33m\u001b[0m\u001b[0m\n",
      "\u001b[1;32m~\\anaconda3\\lib\\site-packages\\pandas\\core\\series.py\u001b[0m in \u001b[0;36mreindex\u001b[1;34m(self, index, **kwargs)\u001b[0m\n\u001b[0;32m   4397\u001b[0m     )\n\u001b[0;32m   4398\u001b[0m     \u001b[1;32mdef\u001b[0m \u001b[0mreindex\u001b[0m\u001b[1;33m(\u001b[0m\u001b[0mself\u001b[0m\u001b[1;33m,\u001b[0m \u001b[0mindex\u001b[0m\u001b[1;33m=\u001b[0m\u001b[1;32mNone\u001b[0m\u001b[1;33m,\u001b[0m \u001b[1;33m**\u001b[0m\u001b[0mkwargs\u001b[0m\u001b[1;33m)\u001b[0m\u001b[1;33m:\u001b[0m\u001b[1;33m\u001b[0m\u001b[1;33m\u001b[0m\u001b[0m\n\u001b[1;32m-> 4399\u001b[1;33m         \u001b[1;32mreturn\u001b[0m \u001b[0msuper\u001b[0m\u001b[1;33m(\u001b[0m\u001b[1;33m)\u001b[0m\u001b[1;33m.\u001b[0m\u001b[0mreindex\u001b[0m\u001b[1;33m(\u001b[0m\u001b[0mindex\u001b[0m\u001b[1;33m=\u001b[0m\u001b[0mindex\u001b[0m\u001b[1;33m,\u001b[0m \u001b[1;33m**\u001b[0m\u001b[0mkwargs\u001b[0m\u001b[1;33m)\u001b[0m\u001b[1;33m\u001b[0m\u001b[1;33m\u001b[0m\u001b[0m\n\u001b[0m\u001b[0;32m   4400\u001b[0m \u001b[1;33m\u001b[0m\u001b[0m\n\u001b[0;32m   4401\u001b[0m     def drop(\n",
      "\u001b[1;32m~\\anaconda3\\lib\\site-packages\\pandas\\core\\generic.py\u001b[0m in \u001b[0;36mreindex\u001b[1;34m(self, *args, **kwargs)\u001b[0m\n\u001b[0;32m   4459\u001b[0m \u001b[1;33m\u001b[0m\u001b[0m\n\u001b[0;32m   4460\u001b[0m         \u001b[1;31m# perform the reindex on the axes\u001b[0m\u001b[1;33m\u001b[0m\u001b[1;33m\u001b[0m\u001b[1;33m\u001b[0m\u001b[0m\n\u001b[1;32m-> 4461\u001b[1;33m         return self._reindex_axes(\n\u001b[0m\u001b[0;32m   4462\u001b[0m             \u001b[0maxes\u001b[0m\u001b[1;33m,\u001b[0m \u001b[0mlevel\u001b[0m\u001b[1;33m,\u001b[0m \u001b[0mlimit\u001b[0m\u001b[1;33m,\u001b[0m \u001b[0mtolerance\u001b[0m\u001b[1;33m,\u001b[0m \u001b[0mmethod\u001b[0m\u001b[1;33m,\u001b[0m \u001b[0mfill_value\u001b[0m\u001b[1;33m,\u001b[0m \u001b[0mcopy\u001b[0m\u001b[1;33m\u001b[0m\u001b[1;33m\u001b[0m\u001b[0m\n\u001b[0;32m   4463\u001b[0m         ).__finalize__(self, method=\"reindex\")\n",
      "\u001b[1;32m~\\anaconda3\\lib\\site-packages\\pandas\\core\\generic.py\u001b[0m in \u001b[0;36m_reindex_axes\u001b[1;34m(self, axes, level, limit, tolerance, method, fill_value, copy)\u001b[0m\n\u001b[0;32m   4479\u001b[0m \u001b[1;33m\u001b[0m\u001b[0m\n\u001b[0;32m   4480\u001b[0m             \u001b[0maxis\u001b[0m \u001b[1;33m=\u001b[0m \u001b[0mself\u001b[0m\u001b[1;33m.\u001b[0m\u001b[0m_get_axis_number\u001b[0m\u001b[1;33m(\u001b[0m\u001b[0ma\u001b[0m\u001b[1;33m)\u001b[0m\u001b[1;33m\u001b[0m\u001b[1;33m\u001b[0m\u001b[0m\n\u001b[1;32m-> 4481\u001b[1;33m             obj = obj._reindex_with_indexers(\n\u001b[0m\u001b[0;32m   4482\u001b[0m                 \u001b[1;33m{\u001b[0m\u001b[0maxis\u001b[0m\u001b[1;33m:\u001b[0m \u001b[1;33m[\u001b[0m\u001b[0mnew_index\u001b[0m\u001b[1;33m,\u001b[0m \u001b[0mindexer\u001b[0m\u001b[1;33m]\u001b[0m\u001b[1;33m}\u001b[0m\u001b[1;33m,\u001b[0m\u001b[1;33m\u001b[0m\u001b[1;33m\u001b[0m\u001b[0m\n\u001b[0;32m   4483\u001b[0m                 \u001b[0mfill_value\u001b[0m\u001b[1;33m=\u001b[0m\u001b[0mfill_value\u001b[0m\u001b[1;33m,\u001b[0m\u001b[1;33m\u001b[0m\u001b[1;33m\u001b[0m\u001b[0m\n",
      "\u001b[1;32m~\\anaconda3\\lib\\site-packages\\pandas\\core\\generic.py\u001b[0m in \u001b[0;36m_reindex_with_indexers\u001b[1;34m(self, reindexers, fill_value, copy, allow_dups)\u001b[0m\n\u001b[0;32m   4522\u001b[0m \u001b[1;33m\u001b[0m\u001b[0m\n\u001b[0;32m   4523\u001b[0m             \u001b[1;31m# TODO: speed up on homogeneous DataFrame objects\u001b[0m\u001b[1;33m\u001b[0m\u001b[1;33m\u001b[0m\u001b[1;33m\u001b[0m\u001b[0m\n\u001b[1;32m-> 4524\u001b[1;33m             new_data = new_data.reindex_indexer(\n\u001b[0m\u001b[0;32m   4525\u001b[0m                 \u001b[0mindex\u001b[0m\u001b[1;33m,\u001b[0m\u001b[1;33m\u001b[0m\u001b[1;33m\u001b[0m\u001b[0m\n\u001b[0;32m   4526\u001b[0m                 \u001b[0mindexer\u001b[0m\u001b[1;33m,\u001b[0m\u001b[1;33m\u001b[0m\u001b[1;33m\u001b[0m\u001b[0m\n",
      "\u001b[1;32m~\\anaconda3\\lib\\site-packages\\pandas\\core\\internals\\managers.py\u001b[0m in \u001b[0;36mreindex_indexer\u001b[1;34m(self, new_axis, indexer, axis, fill_value, allow_dups, copy, consolidate)\u001b[0m\n\u001b[0;32m   1274\u001b[0m         \u001b[1;31m# some axes don't allow reindexing with dups\u001b[0m\u001b[1;33m\u001b[0m\u001b[1;33m\u001b[0m\u001b[1;33m\u001b[0m\u001b[0m\n\u001b[0;32m   1275\u001b[0m         \u001b[1;32mif\u001b[0m \u001b[1;32mnot\u001b[0m \u001b[0mallow_dups\u001b[0m\u001b[1;33m:\u001b[0m\u001b[1;33m\u001b[0m\u001b[1;33m\u001b[0m\u001b[0m\n\u001b[1;32m-> 1276\u001b[1;33m             \u001b[0mself\u001b[0m\u001b[1;33m.\u001b[0m\u001b[0maxes\u001b[0m\u001b[1;33m[\u001b[0m\u001b[0maxis\u001b[0m\u001b[1;33m]\u001b[0m\u001b[1;33m.\u001b[0m\u001b[0m_can_reindex\u001b[0m\u001b[1;33m(\u001b[0m\u001b[0mindexer\u001b[0m\u001b[1;33m)\u001b[0m\u001b[1;33m\u001b[0m\u001b[1;33m\u001b[0m\u001b[0m\n\u001b[0m\u001b[0;32m   1277\u001b[0m \u001b[1;33m\u001b[0m\u001b[0m\n\u001b[0;32m   1278\u001b[0m         \u001b[1;32mif\u001b[0m \u001b[0maxis\u001b[0m \u001b[1;33m>=\u001b[0m \u001b[0mself\u001b[0m\u001b[1;33m.\u001b[0m\u001b[0mndim\u001b[0m\u001b[1;33m:\u001b[0m\u001b[1;33m\u001b[0m\u001b[1;33m\u001b[0m\u001b[0m\n",
      "\u001b[1;32m~\\anaconda3\\lib\\site-packages\\pandas\\core\\indexes\\base.py\u001b[0m in \u001b[0;36m_can_reindex\u001b[1;34m(self, indexer)\u001b[0m\n\u001b[0;32m   3287\u001b[0m         \u001b[1;31m# trying to reindex on an axis with duplicates\u001b[0m\u001b[1;33m\u001b[0m\u001b[1;33m\u001b[0m\u001b[1;33m\u001b[0m\u001b[0m\n\u001b[0;32m   3288\u001b[0m         \u001b[1;32mif\u001b[0m \u001b[1;32mnot\u001b[0m \u001b[0mself\u001b[0m\u001b[1;33m.\u001b[0m\u001b[0mis_unique\u001b[0m \u001b[1;32mand\u001b[0m \u001b[0mlen\u001b[0m\u001b[1;33m(\u001b[0m\u001b[0mindexer\u001b[0m\u001b[1;33m)\u001b[0m\u001b[1;33m:\u001b[0m\u001b[1;33m\u001b[0m\u001b[1;33m\u001b[0m\u001b[0m\n\u001b[1;32m-> 3289\u001b[1;33m             \u001b[1;32mraise\u001b[0m \u001b[0mValueError\u001b[0m\u001b[1;33m(\u001b[0m\u001b[1;34m\"cannot reindex from a duplicate axis\"\u001b[0m\u001b[1;33m)\u001b[0m\u001b[1;33m\u001b[0m\u001b[1;33m\u001b[0m\u001b[0m\n\u001b[0m\u001b[0;32m   3290\u001b[0m \u001b[1;33m\u001b[0m\u001b[0m\n\u001b[0;32m   3291\u001b[0m     \u001b[1;32mdef\u001b[0m \u001b[0mreindex\u001b[0m\u001b[1;33m(\u001b[0m\u001b[0mself\u001b[0m\u001b[1;33m,\u001b[0m \u001b[0mtarget\u001b[0m\u001b[1;33m,\u001b[0m \u001b[0mmethod\u001b[0m\u001b[1;33m=\u001b[0m\u001b[1;32mNone\u001b[0m\u001b[1;33m,\u001b[0m \u001b[0mlevel\u001b[0m\u001b[1;33m=\u001b[0m\u001b[1;32mNone\u001b[0m\u001b[1;33m,\u001b[0m \u001b[0mlimit\u001b[0m\u001b[1;33m=\u001b[0m\u001b[1;32mNone\u001b[0m\u001b[1;33m,\u001b[0m \u001b[0mtolerance\u001b[0m\u001b[1;33m=\u001b[0m\u001b[1;32mNone\u001b[0m\u001b[1;33m)\u001b[0m\u001b[1;33m:\u001b[0m\u001b[1;33m\u001b[0m\u001b[1;33m\u001b[0m\u001b[0m\n",
      "\u001b[1;31mValueError\u001b[0m: cannot reindex from a duplicate axis"
     ]
    },
    {
     "data": {
      "image/png": "[encoded data removed]",
      "text/plain": [
       "<Figure size 432x432 with 1 Axes>"
      ]
     },
     "metadata": {},
     "output_type": "display_data"
    }
   ],
   "source": [
    "import seaborn as sns\n",
    "sns.set_theme(style=\"whitegrid\")\n",
    "\n",
    "# Load the diamonds dataset\n",
    "# diamonds = sns.load_dataset(\"diamonds\")\n",
    "\n",
    "# Plot the distribution of clarity ratings, conditional on carat\n",
    "sns.displot(\n",
    "    data=df,\n",
    "    x=\"snowfall_days\", hue=\"super_st_condition\",\n",
    "    kind=\"kde\", height=6,\n",
    "    multiple=\"fill\", clip=(0, None),\n",
    "    palette=\"ch:rot=-.25,hue=1,light=.75\",\n",
    ")"
   ]
  },
  {
   "cell_type": "code",
   "execution_count": null,
   "metadata": {
    "ExecuteTime": {
     "end_time": "2021-08-30T23:42:38.553170Z",
     "start_time": "2021-08-30T23:42:15.974Z"
    }
   },
   "outputs": [],
   "source": [
    "import seaborn as sns\n",
    "sns.set_theme()\n",
    "\n",
    "# Load the penguins dataset\n",
    "# penguins = sns.load_dataset(\"penguins\")\n",
    "\n",
    "# Plot sepal width as a function of sepal_length across days\n",
    "g = sns.lmplot(\n",
    "    data=df,\n",
    "    x=\"structure_length\", y=\"bridge_width\", hue=\"bridge_condition\",\n",
    "    height=5\n",
    ")\n",
    "\n",
    "# Use more informative axis labels than are provided by default\n",
    "g.set_axis_labels(\"Snoot length (mm)\", \"Snoot depth (mm)\")"
   ]
  },
  {
   "cell_type": "code",
   "execution_count": null,
   "metadata": {
    "ExecuteTime": {
     "end_time": "2021-08-30T19:40:09.716682Z",
     "start_time": "2021-08-30T19:37:15.031Z"
    }
   },
   "outputs": [],
   "source": [
    "df.columns"
   ]
  },
  {
   "cell_type": "code",
   "execution_count": null,
   "metadata": {
    "ExecuteTime": {
     "end_time": "2021-08-30T19:40:09.718681Z",
     "start_time": "2021-08-30T19:37:15.041Z"
    }
   },
   "outputs": [],
   "source": [
    "import seaborn as sns\n",
    "\n",
    "sns.set_theme(style=\"darkgrid\")\n",
    "# df = sns.load_dataset(\"penguins\")\n",
    "sns.displot(\n",
    "    df, x=\"avg_truck_trfc\", col=\"bridge_age\", row=\"bridge_condition\",\n",
    "    binwidth=3, height=3, facet_kws=dict(margin_titles=True),\n",
    ")"
   ]
  },
  {
   "cell_type": "code",
   "execution_count": null,
   "metadata": {},
   "outputs": [],
   "source": []
  },
  {
   "cell_type": "code",
   "execution_count": null,
   "metadata": {},
   "outputs": [],
   "source": []
  },
  {
   "cell_type": "markdown",
   "metadata": {},
   "source": [
    "## Creating Dummies"
   ]
  },
  {
   "cell_type": "code",
   "execution_count": null,
   "metadata": {
    "ExecuteTime": {
     "end_time": "2021-08-30T19:33:47.464152Z",
     "start_time": "2021-08-30T19:33:40.498Z"
    }
   },
   "outputs": [],
   "source": [
    "df.columns"
   ]
  },
  {
   "cell_type": "code",
   "execution_count": null,
   "metadata": {
    "ExecuteTime": {
     "end_time": "2021-08-30T19:33:47.466151Z",
     "start_time": "2021-08-30T19:33:40.528Z"
    }
   },
   "outputs": [],
   "source": [
    "df.info()"
   ]
  },
  {
   "cell_type": "code",
   "execution_count": null,
   "metadata": {
    "ExecuteTime": {
     "end_time": "2021-08-30T19:33:47.469155Z",
     "start_time": "2021-08-30T19:33:40.541Z"
    }
   },
   "outputs": [],
   "source": [
    "# df['sub_st_condition'] = df.sub_st_condition.astype('str')\n",
    "# df['super_st_condition'] = df.super_st_condition.astype('str')\n",
    "# df['deck_condition'] = df.deck_condition.astype('str')\n",
    "# df['mnt_respons'] = df.mnt_respons.astype('str')\n",
    "df['toll'] = df.toll.astype('str')"
   ]
  },
  {
   "cell_type": "code",
   "execution_count": null,
   "metadata": {
    "ExecuteTime": {
     "end_time": "2021-08-30T19:33:47.471154Z",
     "start_time": "2021-08-30T19:33:40.551Z"
    }
   },
   "outputs": [],
   "source": [
    "#separate the features into target, categorical and continuous variables\n",
    "target = ['bridge_condition']\n",
    "\n",
    "categorical = ['deck_type', 'wearing_type', 'membrane_type', 'deck_protection',\n",
    "               'toll', 'design_material','super_st_condition',\n",
    "               'sub_st_condition']\n",
    "\n",
    "continuous = ['freeze_thaw_cycle', 'snowfall_days', 'structure_length', 'bridge_age',\n",
    "              'latitude', 'longitude', 'yr_reconst', 'skew',\n",
    "              'max_span', 'bridge_width', 'deck_width', 'avg_daily_trfic', 'num_spans']\n",
    "\n",
    "to_drop = ['state', 'str_id', 'deck_condition', 'mnt_respons']"
   ]
  },
  {
   "cell_type": "code",
   "execution_count": null,
   "metadata": {
    "ExecuteTime": {
     "end_time": "2021-08-30T19:33:47.472151Z",
     "start_time": "2021-08-30T19:33:40.564Z"
    }
   },
   "outputs": [],
   "source": [
    "df.info()"
   ]
  },
  {
   "cell_type": "code",
   "execution_count": null,
   "metadata": {
    "ExecuteTime": {
     "end_time": "2021-08-30T19:33:47.475156Z",
     "start_time": "2021-08-30T19:33:40.834Z"
    }
   },
   "outputs": [],
   "source": [
    "# print number of classes in each category\n",
    "for col in categorical:\n",
    "    print(col, df[col].value_counts().count())"
   ]
  },
  {
   "cell_type": "code",
   "execution_count": null,
   "metadata": {
    "ExecuteTime": {
     "end_time": "2021-08-30T19:33:47.477151Z",
     "start_time": "2021-08-30T19:33:40.982Z"
    }
   },
   "outputs": [],
   "source": [
    "df.drop(to_drop+target+continuous, axis=1).columns"
   ]
  },
  {
   "cell_type": "code",
   "execution_count": null,
   "metadata": {
    "ExecuteTime": {
     "end_time": "2021-08-30T19:33:47.478152Z",
     "start_time": "2021-08-30T19:33:41.083Z"
    }
   },
   "outputs": [],
   "source": [
    "df_dummies = pd.get_dummies(df.drop(to_drop+target, axis=1))\n",
    "df_dummies.head()"
   ]
  },
  {
   "cell_type": "code",
   "execution_count": null,
   "metadata": {
    "ExecuteTime": {
     "end_time": "2021-08-30T19:33:47.480152Z",
     "start_time": "2021-08-30T19:33:41.360Z"
    }
   },
   "outputs": [],
   "source": [
    "df_dummies.shape"
   ]
  },
  {
   "cell_type": "code",
   "execution_count": null,
   "metadata": {
    "ExecuteTime": {
     "end_time": "2021-08-30T19:33:47.482152Z",
     "start_time": "2021-08-30T19:33:41.496Z"
    }
   },
   "outputs": [],
   "source": [
    "df_dummies.info()"
   ]
  },
  {
   "cell_type": "code",
   "execution_count": null,
   "metadata": {
    "ExecuteTime": {
     "end_time": "2021-08-30T19:33:47.484153Z",
     "start_time": "2021-08-30T19:33:41.511Z"
    }
   },
   "outputs": [],
   "source": [
    "df.num_spans.value_counts().count()"
   ]
  },
  {
   "cell_type": "code",
   "execution_count": null,
   "metadata": {
    "ExecuteTime": {
     "end_time": "2021-08-30T19:33:47.486153Z",
     "start_time": "2021-08-30T19:33:41.671Z"
    }
   },
   "outputs": [],
   "source": [
    "df_dummies['bridge_condition'] = df['bridge_condition']"
   ]
  },
  {
   "cell_type": "code",
   "execution_count": null,
   "metadata": {
    "ExecuteTime": {
     "end_time": "2021-08-30T19:33:47.488153Z",
     "start_time": "2021-08-30T19:33:41.712Z"
    }
   },
   "outputs": [],
   "source": [
    "df_dummies.head()"
   ]
  },
  {
   "cell_type": "code",
   "execution_count": null,
   "metadata": {
    "ExecuteTime": {
     "end_time": "2021-08-30T19:33:47.490153Z",
     "start_time": "2021-08-30T19:33:41.721Z"
    }
   },
   "outputs": [],
   "source": [
    "df_dummies.bridge_condition.value_counts(normalize=True)"
   ]
  },
  {
   "cell_type": "code",
   "execution_count": null,
   "metadata": {
    "ExecuteTime": {
     "end_time": "2021-08-30T19:33:47.492154Z",
     "start_time": "2021-08-30T19:33:41.736Z"
    }
   },
   "outputs": [],
   "source": [
    "# assign variables for features and target \n",
    "X = df_dummies.drop('bridge_condition', axis = 1)\n",
    "y = df_dummies['bridge_condition']"
   ]
  },
  {
   "cell_type": "code",
   "execution_count": null,
   "metadata": {
    "ExecuteTime": {
     "end_time": "2021-08-30T19:33:47.494283Z",
     "start_time": "2021-08-30T19:33:41.748Z"
    }
   },
   "outputs": [],
   "source": [
    "# split into test and train data sets\n",
    "X_train, X_test, y_train, y_test = train_test_split(X, y, test_size=0.3, random_state = 42)"
   ]
  },
  {
   "cell_type": "markdown",
   "metadata": {},
   "source": [
    "# KNN"
   ]
  },
  {
   "cell_type": "code",
   "execution_count": null,
   "metadata": {
    "ExecuteTime": {
     "end_time": "2021-08-30T19:33:47.496154Z",
     "start_time": "2021-08-30T19:33:42.325Z"
    }
   },
   "outputs": [],
   "source": [
    "from sklearn.metrics import precision_score, recall_score, accuracy_score, f1_score\n",
    "\n",
    "models = []\n",
    "def get_metrics(y_test, X_test, model):\n",
    "    labels = y_test.to_numpy()\n",
    "    preds = model.predict(X_test)\n",
    "    \n",
    "    metrics = {}\n",
    "    metrics['accuracy'] = accuracy_score(labels, preds)\n",
    "    metrics['f1'] = f1_score(labels, preds, average='macro')\n",
    "    metrics['precision'] = precision_score(labels, preds, average='macro')\n",
    "    metrics['recall'] = recall_score(labels, preds, average='macro')\n",
    "    \n",
    "    return metrics"
   ]
  },
  {
   "cell_type": "code",
   "execution_count": null,
   "metadata": {
    "ExecuteTime": {
     "end_time": "2021-08-30T19:33:47.498157Z",
     "start_time": "2021-08-30T19:33:42.337Z"
    }
   },
   "outputs": [],
   "source": [
    "X_train"
   ]
  },
  {
   "cell_type": "markdown",
   "metadata": {},
   "source": [
    "## Baseline model"
   ]
  },
  {
   "cell_type": "code",
   "execution_count": null,
   "metadata": {
    "ExecuteTime": {
     "end_time": "2021-08-30T19:33:47.500151Z",
     "start_time": "2021-08-30T19:33:42.352Z"
    }
   },
   "outputs": [],
   "source": [
    "from sklearn.neighbors import KNeighborsClassifier\n",
    "\n",
    "knn = KNeighborsClassifier()\n",
    "knn.fit(X_train, y_train);\n",
    "\n",
    "metrics = get_metrics(y_test, X_test, knn)\n",
    "metrics['name'] = 'K Nearest Neighbors Baseline'\n",
    "models.append(metrics)"
   ]
  },
  {
   "cell_type": "code",
   "execution_count": null,
   "metadata": {
    "ExecuteTime": {
     "end_time": "2021-08-30T19:33:47.503154Z",
     "start_time": "2021-08-30T19:33:42.368Z"
    }
   },
   "outputs": [],
   "source": [
    "print(classification_report(y_train, knn.predict(X_train)))"
   ]
  },
  {
   "cell_type": "code",
   "execution_count": null,
   "metadata": {
    "ExecuteTime": {
     "end_time": "2021-08-30T19:33:47.505150Z",
     "start_time": "2021-08-30T19:33:42.378Z"
    }
   },
   "outputs": [],
   "source": [
    "print(classification_report(y_test, knn.predict(X_test)))"
   ]
  },
  {
   "cell_type": "markdown",
   "metadata": {},
   "source": [
    "## Confusion Matrix"
   ]
  },
  {
   "cell_type": "code",
   "execution_count": null,
   "metadata": {
    "ExecuteTime": {
     "end_time": "2021-08-30T19:33:47.507152Z",
     "start_time": "2021-08-30T19:33:42.391Z"
    }
   },
   "outputs": [],
   "source": [
    "plt.figure(figsize=(6,5))\n",
    "plot_confusion_matrix(knn, X_test, y_test, values_format='d', cmap=plt.cm.Blues)\n",
    "plt.title('K Nearest Neighbors')\n",
    "plt.tight_layout()\n",
    "\n",
    "plt.show()"
   ]
  },
  {
   "cell_type": "markdown",
   "metadata": {},
   "source": [
    "## Standardizing "
   ]
  },
  {
   "cell_type": "code",
   "execution_count": null,
   "metadata": {
    "ExecuteTime": {
     "end_time": "2021-08-30T19:33:47.508150Z",
     "start_time": "2021-08-30T19:33:42.404Z"
    }
   },
   "outputs": [],
   "source": [
    "# Import StandardScaler\n",
    "from sklearn.preprocessing import StandardScaler \n",
    "\n",
    "\n",
    "# Instantiate StandardScaler\n",
    "scaler = StandardScaler()\n",
    "\n",
    "# Transform the training and test sets\n",
    "scaled_data_train = scaler.fit_transform(X_train)\n",
    "scaled_data_test = scaler.transform(X_test)\n",
    "\n",
    "# Convert into a DataFrame\n",
    "scaled_df_train = pd.DataFrame(scaled_data_train, columns=X.columns)\n",
    "scaled_df_train.head()"
   ]
  },
  {
   "cell_type": "code",
   "execution_count": null,
   "metadata": {
    "ExecuteTime": {
     "end_time": "2021-08-30T19:33:47.510152Z",
     "start_time": "2021-08-30T19:33:42.415Z"
    }
   },
   "outputs": [],
   "source": [
    "# Import KNeighborsClassifier\n",
    "from sklearn.neighbors import KNeighborsClassifier\n",
    "\n",
    "# Instantiate KNeighborsClassifier\n",
    "knn = KNeighborsClassifier()\n",
    "# Fit the classifier\n",
    "knn.fit(scaled_data_train, y_train);\n",
    "\n",
    "\n",
    "# Predict on the test set\n",
    "\n",
    "metrics = get_metrics(y_test, scaled_data_test, knn)\n",
    "metrics['name'] = 'K Nearest Neighbors scaled'\n",
    "models.append(metrics)"
   ]
  },
  {
   "cell_type": "markdown",
   "metadata": {},
   "source": [
    "## GridSearch CV"
   ]
  },
  {
   "cell_type": "code",
   "execution_count": null,
   "metadata": {
    "ExecuteTime": {
     "end_time": "2021-08-30T19:33:47.512152Z",
     "start_time": "2021-08-30T19:33:42.430Z"
    }
   },
   "outputs": [],
   "source": [
    "from sklearn.model_selection import GridSearchCV"
   ]
  },
  {
   "cell_type": "code",
   "execution_count": null,
   "metadata": {
    "ExecuteTime": {
     "end_time": "2021-08-30T19:33:47.514152Z",
     "start_time": "2021-08-30T19:33:42.440Z"
    }
   },
   "outputs": [],
   "source": [
    "param_grid = {\n",
    "    'n_neighbors': [1, 5, 9], # default 5\n",
    "    'weights': ['uniform', 'distance'], # default 'uniform'\n",
    "    'leaf_size': [30, 40], # default 30\n",
    "    'p': [1, 2] # default 2\n",
    "}\n",
    "\n",
    "grid_search = GridSearchCV(knn, param_grid, cv=3, scoring='f1_macro')\n",
    "grid_search.fit(X_train, y_train)"
   ]
  },
  {
   "cell_type": "code",
   "execution_count": null,
   "metadata": {
    "ExecuteTime": {
     "end_time": "2021-08-30T19:33:47.515150Z",
     "start_time": "2021-08-30T19:33:42.449Z"
    }
   },
   "outputs": [],
   "source": [
    "grid_search.best_params_"
   ]
  },
  {
   "cell_type": "code",
   "execution_count": null,
   "metadata": {
    "ExecuteTime": {
     "end_time": "2021-08-30T19:33:47.517153Z",
     "start_time": "2021-08-30T19:33:42.459Z"
    }
   },
   "outputs": [],
   "source": [
    "knn_tuned = KNeighborsClassifier(n_neighbors=9, weights='distance', leaf_size=30, p=1)\n",
    "knn_tuned.fit(scaled_data_train, y_train)\n",
    "get_metrics(y_test, scaled_data_test, knn_tuned)\n",
    "metrics['name'] = 'K Nearest Neighbors tuned'\n",
    "models.append(metrics)"
   ]
  },
  {
   "cell_type": "code",
   "execution_count": null,
   "metadata": {
    "ExecuteTime": {
     "end_time": "2021-08-30T19:33:47.518151Z",
     "start_time": "2021-08-30T19:33:42.469Z"
    }
   },
   "outputs": [],
   "source": [
    "plt.figure(figsize=(6,5))\n",
    "plot_confusion_matrix(knn_tuned, scaled_data_test, y_test, values_format='d', cmap=plt.cm.Blues)\n",
    "plt.title('K Nearest Neighbors')\n",
    "plt.tight_layout()\n",
    "\n",
    "plt.show()"
   ]
  },
  {
   "cell_type": "markdown",
   "metadata": {},
   "source": [
    "## Smote"
   ]
  },
  {
   "cell_type": "code",
   "execution_count": null,
   "metadata": {
    "ExecuteTime": {
     "end_time": "2021-08-30T19:33:47.520151Z",
     "start_time": "2021-08-30T19:33:42.484Z"
    }
   },
   "outputs": [],
   "source": [
    "from imblearn.over_sampling import SMOTE"
   ]
  },
  {
   "cell_type": "code",
   "execution_count": null,
   "metadata": {
    "ExecuteTime": {
     "end_time": "2021-08-30T19:33:47.522151Z",
     "start_time": "2021-08-30T19:33:42.504Z"
    }
   },
   "outputs": [],
   "source": [
    "# Previous original class distribution\n",
    "print('Original class distribution: \\n')\n",
    "print(y.value_counts())\n",
    "smote = SMOTE(random_state=42)\n",
    "X_train_resampled, y_train_resampled = smote.fit_sample(X_train, y_train) \n",
    "# Preview synthetic sample class distribution\n",
    "print('-----------------------------------------')\n",
    "print('Synthetic sample class distribution: \\n')\n",
    "print(pd.Series(y_train_resampled).value_counts()) "
   ]
  },
  {
   "cell_type": "code",
   "execution_count": null,
   "metadata": {
    "ExecuteTime": {
     "end_time": "2021-08-30T19:33:47.523151Z",
     "start_time": "2021-08-30T19:33:42.515Z"
    }
   },
   "outputs": [],
   "source": [
    "knn_smote = KNeighborsClassifier(n_neighbors=9, weights='distance', \n",
    "                                 leaf_size=30, p=1)\n",
    "knn_smote.fit(X_train_resampled, y_train_resampled)\n",
    "get_metrics(y_test, X_test, knn_smote)\n",
    "metrics['name'] = 'K Nearest Neighbors smote'\n",
    "models.append(metrics)"
   ]
  },
  {
   "cell_type": "code",
   "execution_count": null,
   "metadata": {
    "ExecuteTime": {
     "end_time": "2021-08-30T19:33:47.524150Z",
     "start_time": "2021-08-30T19:33:42.551Z"
    }
   },
   "outputs": [],
   "source": [
    "print(classification_report(y_train_resampled, knn_smote.predict(X_train_resampled)))"
   ]
  },
  {
   "cell_type": "code",
   "execution_count": null,
   "metadata": {
    "ExecuteTime": {
     "end_time": "2021-08-30T19:33:47.527151Z",
     "start_time": "2021-08-30T19:33:42.562Z"
    }
   },
   "outputs": [],
   "source": [
    "print(classification_report(y_test, knn_smote.predict(X_test)))"
   ]
  },
  {
   "cell_type": "markdown",
   "metadata": {},
   "source": [
    "## Confusion matrix"
   ]
  },
  {
   "cell_type": "code",
   "execution_count": null,
   "metadata": {
    "ExecuteTime": {
     "end_time": "2021-08-30T19:33:47.528150Z",
     "start_time": "2021-08-30T19:33:42.577Z"
    }
   },
   "outputs": [],
   "source": [
    "plot_confusion_matrix(knn_smote, X_test, y_test,\n",
    "                      values_format='d', cmap=plt.cm.Blues)\n",
    "                                      \n",
    "                     \n",
    "plt.title('K Nearest Neighbors smote')\n",
    "plt.tight_layout()\n",
    "\n",
    "plt.show()"
   ]
  },
  {
   "cell_type": "code",
   "execution_count": null,
   "metadata": {},
   "outputs": [],
   "source": []
  },
  {
   "cell_type": "code",
   "execution_count": null,
   "metadata": {},
   "outputs": [],
   "source": []
  },
  {
   "cell_type": "code",
   "execution_count": null,
   "metadata": {},
   "outputs": [],
   "source": []
  },
  {
   "cell_type": "markdown",
   "metadata": {},
   "source": [
    "# Random Forest"
   ]
  },
  {
   "cell_type": "markdown",
   "metadata": {},
   "source": [
    "## Baseline model"
   ]
  },
  {
   "cell_type": "code",
   "execution_count": null,
   "metadata": {
    "ExecuteTime": {
     "end_time": "2021-08-30T19:33:47.531151Z",
     "start_time": "2021-08-30T19:33:42.614Z"
    }
   },
   "outputs": [],
   "source": [
    "from sklearn.ensemble import RandomForestClassifier\n",
    "\n",
    "forest = RandomForestClassifier(random_state=12)\n",
    "forest.fit(X_train, y_train);\n",
    "\n",
    "metrics = get_metrics(y_test, X_test, forest)\n",
    "metrics['name'] = 'Random Forest Baseline'\n",
    "models.append(metrics)"
   ]
  },
  {
   "cell_type": "code",
   "execution_count": null,
   "metadata": {
    "ExecuteTime": {
     "end_time": "2021-08-30T19:33:47.533152Z",
     "start_time": "2021-08-30T19:33:42.624Z"
    }
   },
   "outputs": [],
   "source": [
    "from sklearn.metrics import confusion_matrix\n",
    "confusion_matrix(y_test,forest.predict(X_test))"
   ]
  },
  {
   "cell_type": "code",
   "execution_count": null,
   "metadata": {
    "ExecuteTime": {
     "end_time": "2021-08-30T19:33:47.534150Z",
     "start_time": "2021-08-30T19:33:42.633Z"
    }
   },
   "outputs": [],
   "source": [
    "print(classification_report(y_train, forest.predict(X_train)))"
   ]
  },
  {
   "cell_type": "code",
   "execution_count": null,
   "metadata": {
    "ExecuteTime": {
     "end_time": "2021-08-30T19:33:47.535150Z",
     "start_time": "2021-08-30T19:33:42.643Z"
    }
   },
   "outputs": [],
   "source": [
    "print(classification_report(y_test, forest.predict(X_test)))"
   ]
  },
  {
   "cell_type": "markdown",
   "metadata": {},
   "source": [
    "## Confusion matrix"
   ]
  },
  {
   "cell_type": "code",
   "execution_count": null,
   "metadata": {
    "ExecuteTime": {
     "end_time": "2021-08-30T19:33:47.537150Z",
     "start_time": "2021-08-30T19:33:42.656Z"
    }
   },
   "outputs": [],
   "source": [
    "plot_confusion_matrix(forest, X_test, y_test, values_format='d', cmap=plt.cm.Blues)\n",
    "plt.title('Random forest Baseline')\n",
    "plt.tight_layout()\n",
    "\n",
    "plt.show()"
   ]
  },
  {
   "cell_type": "markdown",
   "metadata": {},
   "source": [
    "## Standardizing"
   ]
  },
  {
   "cell_type": "code",
   "execution_count": null,
   "metadata": {
    "ExecuteTime": {
     "end_time": "2021-08-30T19:33:47.571153Z",
     "start_time": "2021-08-30T19:33:42.672Z"
    }
   },
   "outputs": [],
   "source": [
    "# Instantiate RandomForestClassifier\n",
    "forest = RandomForestClassifier()\n",
    "# Fit the classifier\n",
    "forest.fit(scaled_data_train, y_train);\n",
    "\n",
    "\n",
    "# Predict on the test set\n",
    "metrics = get_metrics(y_test, scaled_data_test, forest)\n",
    "metrics['name'] = 'Random forest scaled'\n",
    "models.append(metrics)"
   ]
  },
  {
   "cell_type": "markdown",
   "metadata": {},
   "source": [
    "## GridSearch CV"
   ]
  },
  {
   "cell_type": "code",
   "execution_count": null,
   "metadata": {
    "ExecuteTime": {
     "end_time": "2021-08-30T19:33:47.574152Z",
     "start_time": "2021-08-30T19:33:42.686Z"
    }
   },
   "outputs": [],
   "source": [
    "param_grid = {\n",
    "    'n_estimators': [100, 200], # default 100 #boosting stages\n",
    "    'max_depth': [30, 35, 40], # default None\n",
    "    'max_features': [50, 60], # default 'auto': auto=sqrt(# of features)=11, None=# of features=122\n",
    "#     'min_samples_split' : [20,30,40],\n",
    "#     'min_samples_leaf'  : [5, 10, 15]\n",
    "    # default 'auto': auto=sqrt(# of features)=11, None=# of features=122\n",
    "}\n",
    "forest = RandomForestClassifier()\n",
    "grid_search = GridSearchCV(forest, param_grid, cv=3, scoring='f1_macro')\n",
    "grid_search.fit(scaled_data_train, y_train)"
   ]
  },
  {
   "cell_type": "code",
   "execution_count": null,
   "metadata": {
    "ExecuteTime": {
     "end_time": "2021-08-30T19:33:47.575151Z",
     "start_time": "2021-08-30T19:33:42.696Z"
    }
   },
   "outputs": [],
   "source": [
    "grid_search.best_params_"
   ]
  },
  {
   "cell_type": "code",
   "execution_count": null,
   "metadata": {
    "ExecuteTime": {
     "end_time": "2021-08-30T19:33:47.577152Z",
     "start_time": "2021-08-30T19:33:42.707Z"
    }
   },
   "outputs": [],
   "source": [
    "forest_tuned = RandomForestClassifier(n_estimators=200, max_depth=35,\n",
    "                                      max_features=60, min_samples_leaf=35, \n",
    "                                      min_samples_split=70)\n",
    "forest_tuned.fit(scaled_data_train, y_train)\n",
    "get_metrics(y_test, scaled_data_test, forest_tuned)\n",
    "metrics['name'] = 'Random Forest tuned1'\n",
    "models.append(metrics)"
   ]
  },
  {
   "cell_type": "code",
   "execution_count": null,
   "metadata": {
    "ExecuteTime": {
     "end_time": "2021-08-30T19:33:47.579152Z",
     "start_time": "2021-08-30T19:33:42.720Z"
    }
   },
   "outputs": [],
   "source": [
    "print(classification_report(y_test, forest_tuned.predict(scaled_data_test)))"
   ]
  },
  {
   "cell_type": "code",
   "execution_count": null,
   "metadata": {},
   "outputs": [],
   "source": []
  },
  {
   "cell_type": "code",
   "execution_count": null,
   "metadata": {
    "ExecuteTime": {
     "end_time": "2021-08-30T19:33:47.581153Z",
     "start_time": "2021-08-30T19:33:42.736Z"
    }
   },
   "outputs": [],
   "source": [
    "param_grid = {\n",
    "    'n_estimators': [100, 200], # default 100 #boosting stages\n",
    "    'max_depth': [30, 35, 40], # default None\n",
    "    'max_features': [50, 60], # default 'auto': auto=sqrt(# of features)=11, None=# of features=122\n",
    "#     'min_samples_split' : [20,30,40],\n",
    "#     'min_samples_leaf'  : [5, 10, 15]\n",
    "    # default 'auto': auto=sqrt(# of features)=11, None=# of features=122\n",
    "}\n",
    "forest = RandomForestClassifier()\n",
    "grid_search = GridSearchCV(forest, param_grid, cv=3, scoring='f1_macro')\n",
    "grid_search.fit(scaled_data_train, y_train)"
   ]
  },
  {
   "cell_type": "code",
   "execution_count": null,
   "metadata": {
    "ExecuteTime": {
     "end_time": "2021-08-30T19:33:47.583153Z",
     "start_time": "2021-08-30T19:33:42.746Z"
    }
   },
   "outputs": [],
   "source": [
    "grid_search.best_params_"
   ]
  },
  {
   "cell_type": "code",
   "execution_count": null,
   "metadata": {
    "ExecuteTime": {
     "end_time": "2021-08-30T19:33:47.585152Z",
     "start_time": "2021-08-30T19:33:42.756Z"
    }
   },
   "outputs": [],
   "source": [
    "forest_tuned = RandomForestClassifier(n_estimators=200, max_depth=35,\n",
    "                                      max_features=60, min_samples_leaf=35, \n",
    "                                      min_samples_split=70)\n",
    "forest_tuned.fit(scaled_data_train, y_train)\n",
    "get_metrics(y_test, scaled_data_test, forest_tuned)\n",
    "metrics['name'] = 'Rand2om Forest tuned1'\n",
    "models.append(metrics)"
   ]
  },
  {
   "cell_type": "code",
   "execution_count": null,
   "metadata": {
    "ExecuteTime": {
     "end_time": "2021-08-30T19:33:47.586152Z",
     "start_time": "2021-08-30T19:33:42.765Z"
    }
   },
   "outputs": [],
   "source": [
    "print(classification_report(y_test, forest_tuned.predict(scaled_data_test))"
   ]
  },
  {
   "cell_type": "markdown",
   "metadata": {},
   "source": [
    "## Confusion matrix"
   ]
  },
  {
   "cell_type": "code",
   "execution_count": null,
   "metadata": {
    "ExecuteTime": {
     "end_time": "2021-08-30T19:33:47.589157Z",
     "start_time": "2021-08-30T19:33:42.777Z"
    }
   },
   "outputs": [],
   "source": [
    "plt.figure(figsize=(6,5))\n",
    "plot_confusion_matrix(knn, X_test, y_test, values_format='d', cmap=plt.cm.Blues)\n",
    "plt.title('Random Forest tuned1')\n",
    "plt.tight_layout()\n",
    "\n",
    "plt.show()"
   ]
  },
  {
   "cell_type": "markdown",
   "metadata": {},
   "source": [
    "## Smote"
   ]
  },
  {
   "cell_type": "code",
   "execution_count": null,
   "metadata": {
    "ExecuteTime": {
     "end_time": "2021-08-30T19:33:47.591153Z",
     "start_time": "2021-08-30T19:33:42.790Z"
    }
   },
   "outputs": [],
   "source": [
    "forest_smote = RandomForestClassifier(n_estimators=150, max_depth=40,\n",
    "                                      max_features=50, min_samples_leaf=35, \n",
    "                                      min_samples_split=70)\n",
    "forest_smote.fit(X_train_resampled, y_train_resampled)\n",
    "get_metrics(y_test, scaled_data_test, forest_smote)\n",
    "metrics['name'] = 'Random Forest smote'\n",
    "models.append(metrics)"
   ]
  },
  {
   "cell_type": "code",
   "execution_count": null,
   "metadata": {
    "ExecuteTime": {
     "end_time": "2021-08-30T19:33:47.594156Z",
     "start_time": "2021-08-30T19:33:42.799Z"
    }
   },
   "outputs": [],
   "source": [
    "print(classification_report(y_test, forest_smote.predict(scaled_data_test))"
   ]
  },
  {
   "cell_type": "markdown",
   "metadata": {
    "ExecuteTime": {
     "end_time": "2021-08-23T20:47:16.536440Z",
     "start_time": "2021-08-23T20:47:16.517893Z"
    }
   },
   "source": [
    "## Confusion matrix"
   ]
  },
  {
   "cell_type": "code",
   "execution_count": null,
   "metadata": {
    "ExecuteTime": {
     "end_time": "2021-08-30T19:33:47.596155Z",
     "start_time": "2021-08-30T19:33:42.812Z"
    }
   },
   "outputs": [],
   "source": [
    "plot_confusion_matrix(forest_tuned, scaled_data_test, y_test, values_format='d', \n",
    "                      cmap=plt.cm.Blues)\n",
    "plt.title('Random Forest Scaled')\n",
    "plt.tight_layout()\n",
    "\n",
    "plt.show()"
   ]
  },
  {
   "cell_type": "code",
   "execution_count": null,
   "metadata": {},
   "outputs": [],
   "source": []
  },
  {
   "cell_type": "code",
   "execution_count": null,
   "metadata": {},
   "outputs": [],
   "source": []
  },
  {
   "cell_type": "markdown",
   "metadata": {},
   "source": [
    "## Feature Importance"
   ]
  },
  {
   "cell_type": "code",
   "execution_count": null,
   "metadata": {
    "ExecuteTime": {
     "end_time": "2021-08-30T19:33:47.598155Z",
     "start_time": "2021-08-30T19:33:42.837Z"
    }
   },
   "outputs": [],
   "source": [
    "# Plot the feature importance of each feature\n",
    "features = X_train.shape[1]\n",
    "plt.figure(figsize=(20,20))\n",
    "plt.barh(range(features), forest.feature_importances_, align='center')\n",
    "plt.yticks(np.arange(features), X_train.columns.values)\n",
    "plt.title('Feature Importance', fontsize=20)\n",
    "plt.xlabel('Feature importance')\n",
    "plt.ylabel('Features')"
   ]
  },
  {
   "cell_type": "markdown",
   "metadata": {},
   "source": [
    "# XGBoost"
   ]
  },
  {
   "cell_type": "markdown",
   "metadata": {
    "ExecuteTime": {
     "end_time": "2021-08-23T20:49:34.723799Z",
     "start_time": "2021-08-23T20:49:34.710265Z"
    }
   },
   "source": [
    "## Baseline Model"
   ]
  },
  {
   "cell_type": "code",
   "execution_count": null,
   "metadata": {
    "ExecuteTime": {
     "end_time": "2021-08-30T19:33:47.599151Z",
     "start_time": "2021-08-30T19:33:42.854Z"
    }
   },
   "outputs": [],
   "source": [
    "from sklearn.ensemble import GradientBoostingClassifier\n",
    "\n",
    "# Instantiate XGBClassifier and fit classifier\n",
    "xgb = XGBClassifier(random_state=12)\n",
    "xgb.fit(X_train, y_train);\n",
    "\n",
    "metrics = get_metrics(y_test, X_test, xgb)\n",
    "metrics['name'] = 'XG Boost Baseline'\n",
    "models.append(metrics)"
   ]
  },
  {
   "cell_type": "code",
   "execution_count": null,
   "metadata": {
    "ExecuteTime": {
     "end_time": "2021-08-30T19:33:47.601153Z",
     "start_time": "2021-08-30T19:33:42.887Z"
    }
   },
   "outputs": [],
   "source": [
    "print(classification_report(y_train, xgb.predict(X_train))"
   ]
  },
  {
   "cell_type": "code",
   "execution_count": null,
   "metadata": {
    "ExecuteTime": {
     "end_time": "2021-08-30T19:33:47.603153Z",
     "start_time": "2021-08-30T19:33:42.897Z"
    }
   },
   "outputs": [],
   "source": [
    "print(confusion_matrix(y_test, xgb.predict(X_test)))\n",
    "print(classification_report(y_test, xgb.predict(X_test))"
   ]
  },
  {
   "cell_type": "markdown",
   "metadata": {},
   "source": [
    "## Confusion matrix"
   ]
  },
  {
   "cell_type": "code",
   "execution_count": null,
   "metadata": {
    "ExecuteTime": {
     "end_time": "2021-08-30T19:33:47.605155Z",
     "start_time": "2021-08-30T19:33:42.910Z"
    }
   },
   "outputs": [],
   "source": [
    "plot_confusion_matrix(xgb, X_test, y_test, values_format='d', \n",
    "                      cmap=plt.cm.Blues)\n",
    "plt.title('XGBoost')\n",
    "plt.tight_layout()\n",
    "\n",
    "plt.show()"
   ]
  },
  {
   "cell_type": "markdown",
   "metadata": {},
   "source": [
    "### Standardized"
   ]
  },
  {
   "cell_type": "code",
   "execution_count": null,
   "metadata": {
    "ExecuteTime": {
     "end_time": "2021-08-30T19:33:47.613153Z",
     "start_time": "2021-08-30T19:33:42.924Z"
    }
   },
   "outputs": [],
   "source": [
    "# Fit the classifier\n",
    "xgb.fit(scaled_data_train, y_train);\n",
    "\n",
    "# Predict on the test set\n",
    "metrics = get_metrics(y_test, scaled_data_test, xgb)\n",
    "metrics['name'] = 'XGBoost_scaled'\n",
    "models.append(metrics)"
   ]
  },
  {
   "cell_type": "markdown",
   "metadata": {},
   "source": [
    "### Grid search CV"
   ]
  },
  {
   "cell_type": "code",
   "execution_count": null,
   "metadata": {
    "ExecuteTime": {
     "end_time": "2021-08-30T19:33:47.615153Z",
     "start_time": "2021-08-30T19:33:42.937Z"
    }
   },
   "outputs": [],
   "source": [
    "from sklearn.model_selection import GridSearchCV"
   ]
  },
  {
   "cell_type": "code",
   "execution_count": null,
   "metadata": {
    "ExecuteTime": {
     "end_time": "2021-08-30T19:33:47.617154Z",
     "start_time": "2021-08-30T19:33:42.947Z"
    }
   },
   "outputs": [],
   "source": [
    "param_grid = {\n",
    "    'learning_rate': [0.05, 0.1],\n",
    "    'max_depth': [6, 8, 10],\n",
    "    'subsample': [0.5, 0.7],\n",
    "    'n_estimators': [100, 150, 200],\n",
    "}\n",
    "xgb = XGBClassifier()\n",
    "grid_search = GridSearchCV(xgb, param_grid, cv=None, scoring='f1_macro', n_jobs=1)\n",
    "grid_search.fit(scaled_data_train, y_train)"
   ]
  },
  {
   "cell_type": "code",
   "execution_count": null,
   "metadata": {
    "ExecuteTime": {
     "end_time": "2021-08-30T19:33:47.619156Z",
     "start_time": "2021-08-30T19:33:42.956Z"
    }
   },
   "outputs": [],
   "source": [
    "grid_search.best_params_"
   ]
  },
  {
   "cell_type": "code",
   "execution_count": null,
   "metadata": {
    "ExecuteTime": {
     "end_time": "2021-08-30T19:33:47.621153Z",
     "start_time": "2021-08-30T19:33:42.968Z"
    }
   },
   "outputs": [],
   "source": [
    "# Instantiate XGBClassifier and fit classifier\n",
    "\n",
    "# xgb_tuned = XGBClassifier(n_estimators=200, learning_rate=0.1, max_depth=10,\n",
    "#                           subsample=0.7)\n",
    "\n",
    "xgb_tuned = XGBClassifier(objective = objective='multi:softmax', num_class = 3,\n",
    "                          n_estimators = 200, learning_rate = .1, max_depth = 10, subsample =0.7)\n",
    "\n",
    "\n",
    "xgb_tuned.fit(scaled_data_train, y_train)\n",
    "get_metrics(y_test, scaled_data_test, xgb_tuned)\n",
    "metrics['name'] = 'XGBoost_tuned1'\n",
    "models.append(metrics)\n",
    "\n"
   ]
  },
  {
   "cell_type": "code",
   "execution_count": null,
   "metadata": {
    "ExecuteTime": {
     "end_time": "2021-08-30T19:33:47.624176Z",
     "start_time": "2021-08-30T19:33:42.985Z"
    }
   },
   "outputs": [],
   "source": [
    "print(classification_report(y_train, xgb_tuned.predict(scaled_data_train)))"
   ]
  },
  {
   "cell_type": "code",
   "execution_count": null,
   "metadata": {
    "ExecuteTime": {
     "end_time": "2021-08-30T19:33:47.626155Z",
     "start_time": "2021-08-30T19:33:43.002Z"
    }
   },
   "outputs": [],
   "source": [
    "print(classification_report(y_test, xgb_tuned.predict(scaled_data_test)))"
   ]
  },
  {
   "cell_type": "code",
   "execution_count": null,
   "metadata": {},
   "outputs": [],
   "source": []
  },
  {
   "cell_type": "code",
   "execution_count": null,
   "metadata": {},
   "outputs": [],
   "source": []
  },
  {
   "cell_type": "code",
   "execution_count": null,
   "metadata": {},
   "outputs": [],
   "source": []
  },
  {
   "cell_type": "code",
   "execution_count": null,
   "metadata": {},
   "outputs": [],
   "source": []
  },
  {
   "cell_type": "code",
   "execution_count": null,
   "metadata": {},
   "outputs": [],
   "source": []
  },
  {
   "cell_type": "markdown",
   "metadata": {},
   "source": [
    "# Replace target variable classes for visualization"
   ]
  },
  {
   "cell_type": "code",
   "execution_count": null,
   "metadata": {
    "ExecuteTime": {
     "end_time": "2021-08-30T19:33:47.628155Z",
     "start_time": "2021-08-30T19:33:43.072Z"
    }
   },
   "outputs": [],
   "source": [
    "# Replace target values - there are three classes\n",
    "df2 = df.replace({'bridge_condition': {'Poor' : 2, \n",
    "                                'Fair' : 1, \n",
    "                                'Good' : 0}})\n",
    "# Check to see that it worked\n",
    "df2.iloc[15:20]"
   ]
  },
  {
   "cell_type": "code",
   "execution_count": null,
   "metadata": {
    "ExecuteTime": {
     "end_time": "2021-08-30T19:33:47.630152Z",
     "start_time": "2021-08-30T19:33:43.088Z"
    }
   },
   "outputs": [],
   "source": [
    "df2.shape"
   ]
  },
  {
   "cell_type": "markdown",
   "metadata": {},
   "source": [
    "# Folium Heatmap"
   ]
  },
  {
   "cell_type": "code",
   "execution_count": null,
   "metadata": {
    "ExecuteTime": {
     "end_time": "2021-08-30T19:33:47.631153Z",
     "start_time": "2021-08-30T19:33:43.243Z"
    }
   },
   "outputs": [],
   "source": [
    "import folium\n",
    "from folium.plugins import HeatMap"
   ]
  },
  {
   "cell_type": "code",
   "execution_count": null,
   "metadata": {
    "ExecuteTime": {
     "end_time": "2021-08-30T19:33:47.633154Z",
     "start_time": "2021-08-30T19:33:43.259Z"
    }
   },
   "outputs": [],
   "source": [
    "# Make an empty map\n",
    "m = folium.Map(location=[40,-100], tiles=\"OpenStreetMap\", zoom_start=4)\n",
    "\n",
    "# Show the map\n",
    "m"
   ]
  },
  {
   "cell_type": "markdown",
   "metadata": {},
   "source": [
    "## By state"
   ]
  },
  {
   "cell_type": "code",
   "execution_count": null,
   "metadata": {
    "ExecuteTime": {
     "end_time": "2021-08-30T19:33:47.635155Z",
     "start_time": "2021-08-30T19:33:43.281Z"
    }
   },
   "outputs": [],
   "source": [
    "data = df2.groupby('state').median()[['latitude', 'longitude', 'bridge_condition']].values.tolist()\n",
    "data"
   ]
  },
  {
   "cell_type": "code",
   "execution_count": null,
   "metadata": {
    "ExecuteTime": {
     "end_time": "2021-08-30T19:33:47.637156Z",
     "start_time": "2021-08-30T19:33:43.292Z"
    }
   },
   "outputs": [],
   "source": [
    "# gradient = {0: 'red', 1: 'brown', 2: 'green'}\n",
    "HeatMap(data = data).add_to(m)"
   ]
  },
  {
   "cell_type": "code",
   "execution_count": null,
   "metadata": {
    "ExecuteTime": {
     "end_time": "2021-08-30T19:33:47.640154Z",
     "start_time": "2021-08-30T19:33:43.484Z"
    }
   },
   "outputs": [],
   "source": [
    "display(m)"
   ]
  },
  {
   "cell_type": "markdown",
   "metadata": {},
   "source": [
    "## By Sub-structure condition"
   ]
  },
  {
   "cell_type": "code",
   "execution_count": null,
   "metadata": {
    "ExecuteTime": {
     "end_time": "2021-08-30T19:33:47.642154Z",
     "start_time": "2021-08-30T19:33:43.610Z"
    }
   },
   "outputs": [],
   "source": [
    "# Make an empty map\n",
    "m = folium.Map(location=[40,-100], tiles=\"OpenStreetMap\", zoom_start=4)\n",
    "\n",
    "#show the map\n",
    "m"
   ]
  },
  {
   "cell_type": "code",
   "execution_count": null,
   "metadata": {
    "ExecuteTime": {
     "end_time": "2021-08-30T19:33:47.643151Z",
     "start_time": "2021-08-30T19:33:43.730Z"
    }
   },
   "outputs": [],
   "source": [
    "\n",
    "data1 = df2.groupby('sub_st_condition').median()[['latitude', 'longitude', 'bridge_condition']].values.tolist()"
   ]
  },
  {
   "cell_type": "code",
   "execution_count": null,
   "metadata": {
    "ExecuteTime": {
     "end_time": "2021-08-30T19:33:47.645153Z",
     "start_time": "2021-08-30T19:33:43.851Z"
    },
    "scrolled": false
   },
   "outputs": [],
   "source": [
    "# gradient = {0: 'red', 1: 'brown', 2: 'green'}\n",
    "\n",
    "HeatMap(data = data1).add_to(m)\n",
    "display(m)"
   ]
  },
  {
   "cell_type": "markdown",
   "metadata": {},
   "source": [
    "## By snowfall days"
   ]
  },
  {
   "cell_type": "code",
   "execution_count": null,
   "metadata": {
    "ExecuteTime": {
     "end_time": "2021-08-30T19:33:47.647153Z",
     "start_time": "2021-08-30T19:33:43.865Z"
    }
   },
   "outputs": [],
   "source": [
    "# Make an empty map\n",
    "m = folium.Map(location=[40,-100], tiles=\"OpenStreetMap\", zoom_start=4)\n",
    "\n",
    "#show the map\n",
    "m"
   ]
  },
  {
   "cell_type": "code",
   "execution_count": null,
   "metadata": {
    "ExecuteTime": {
     "end_time": "2021-08-30T19:33:47.648151Z",
     "start_time": "2021-08-30T19:33:44.053Z"
    }
   },
   "outputs": [],
   "source": [
    "\n",
    "data2 = df2.groupby('snowfall_days').median()[['latitude', 'longitude', 'bridge_condition']].values.tolist()\n",
    "data2"
   ]
  },
  {
   "cell_type": "code",
   "execution_count": null,
   "metadata": {
    "ExecuteTime": {
     "end_time": "2021-08-30T19:33:47.659155Z",
     "start_time": "2021-08-30T19:33:44.127Z"
    }
   },
   "outputs": [],
   "source": [
    "# gradient = {0: 'red', 1.0: 'brown', 2.0: 'green'}\n",
    "\n",
    "HeatMap(data = data2).add_to(m)\n",
    "display(m)"
   ]
  },
  {
   "cell_type": "markdown",
   "metadata": {},
   "source": [
    "## By age of bridge"
   ]
  },
  {
   "cell_type": "code",
   "execution_count": null,
   "metadata": {},
   "outputs": [],
   "source": []
  },
  {
   "cell_type": "code",
   "execution_count": null,
   "metadata": {
    "ExecuteTime": {
     "end_time": "2021-08-30T19:33:47.661154Z",
     "start_time": "2021-08-30T19:33:44.149Z"
    }
   },
   "outputs": [],
   "source": [
    "# Make an empty map\n",
    "m = folium.Map(location=[40,-100], tiles=\"OpenStreetMap\", zoom_start=4)\n",
    "\n",
    "#show the map\n",
    "m"
   ]
  },
  {
   "cell_type": "code",
   "execution_count": null,
   "metadata": {
    "ExecuteTime": {
     "end_time": "2021-08-30T19:33:47.663153Z",
     "start_time": "2021-08-30T19:33:44.158Z"
    }
   },
   "outputs": [],
   "source": [
    "\n",
    "data3 = df2.groupby('bridge_age').median()[['latitude', 'longitude', 'bridge_condition']].values.tolist()"
   ]
  },
  {
   "cell_type": "code",
   "execution_count": null,
   "metadata": {
    "ExecuteTime": {
     "end_time": "2021-08-30T19:33:47.665151Z",
     "start_time": "2021-08-30T19:33:44.167Z"
    }
   },
   "outputs": [],
   "source": [
    "# gradient = {0: 'red', 1: 'brown', 2: 'green'}\n",
    "\n",
    "HeatMap(data = data3).add_to(m)\n",
    "display(m)"
   ]
  },
  {
   "cell_type": "markdown",
   "metadata": {},
   "source": [
    "## By Freeze and thaw cycle"
   ]
  },
  {
   "cell_type": "code",
   "execution_count": null,
   "metadata": {},
   "outputs": [],
   "source": []
  },
  {
   "cell_type": "code",
   "execution_count": 17,
   "metadata": {
    "ExecuteTime": {
     "end_time": "2021-08-30T19:33:50.600464Z",
     "start_time": "2021-08-30T19:33:50.545469Z"
    }
   },
   "outputs": [
    {
     "ename": "NameError",
     "evalue": "name 'folium' is not defined",
     "output_type": "error",
     "traceback": [
      "\u001b[1;31m---------------------------------------------------------------------------\u001b[0m",
      "\u001b[1;31mNameError\u001b[0m                                 Traceback (most recent call last)",
      "\u001b[1;32m<ipython-input-17-058be2418772>\u001b[0m in \u001b[0;36m<module>\u001b[1;34m\u001b[0m\n\u001b[0;32m      1\u001b[0m \u001b[1;31m# Make an empty map\u001b[0m\u001b[1;33m\u001b[0m\u001b[1;33m\u001b[0m\u001b[1;33m\u001b[0m\u001b[0m\n\u001b[1;32m----> 2\u001b[1;33m \u001b[0mm\u001b[0m \u001b[1;33m=\u001b[0m \u001b[0mfolium\u001b[0m\u001b[1;33m.\u001b[0m\u001b[0mMap\u001b[0m\u001b[1;33m(\u001b[0m\u001b[0mlocation\u001b[0m\u001b[1;33m=\u001b[0m\u001b[1;33m[\u001b[0m\u001b[1;36m40\u001b[0m\u001b[1;33m,\u001b[0m\u001b[1;33m-\u001b[0m\u001b[1;36m100\u001b[0m\u001b[1;33m]\u001b[0m\u001b[1;33m,\u001b[0m \u001b[0mtiles\u001b[0m\u001b[1;33m=\u001b[0m\u001b[1;34m\"OpenStreetMap\"\u001b[0m\u001b[1;33m,\u001b[0m \u001b[0mzoom_start\u001b[0m\u001b[1;33m=\u001b[0m\u001b[1;36m4\u001b[0m\u001b[1;33m)\u001b[0m\u001b[1;33m\u001b[0m\u001b[1;33m\u001b[0m\u001b[0m\n\u001b[0m\u001b[0;32m      3\u001b[0m \u001b[1;33m\u001b[0m\u001b[0m\n\u001b[0;32m      4\u001b[0m \u001b[1;31m#show the map\u001b[0m\u001b[1;33m\u001b[0m\u001b[1;33m\u001b[0m\u001b[1;33m\u001b[0m\u001b[0m\n\u001b[0;32m      5\u001b[0m \u001b[0mm\u001b[0m\u001b[1;33m\u001b[0m\u001b[1;33m\u001b[0m\u001b[0m\n",
      "\u001b[1;31mNameError\u001b[0m: name 'folium' is not defined"
     ]
    }
   ],
   "source": [
    "# Make an empty map\n",
    "m = folium.Map(location=[40,-100], tiles=\"OpenStreetMap\", zoom_start=4)\n",
    "\n",
    "#show the map\n",
    "m"
   ]
  },
  {
   "cell_type": "code",
   "execution_count": null,
   "metadata": {
    "ExecuteTime": {
     "end_time": "2021-08-30T19:33:50.608466Z",
     "start_time": "2021-08-30T19:33:44.194Z"
    }
   },
   "outputs": [],
   "source": [
    "\n",
    "data4 = df2.groupby('freeze_thaw_cycle').median()[['latitude', 'longitude', 'bridge_condition']].values.tolist()"
   ]
  },
  {
   "cell_type": "code",
   "execution_count": null,
   "metadata": {
    "ExecuteTime": {
     "end_time": "2021-08-30T19:33:50.610468Z",
     "start_time": "2021-08-30T19:33:44.204Z"
    }
   },
   "outputs": [],
   "source": [
    "# gradient = {0: 'red', 1: 'brown', 2: 'green'}\n",
    "\n",
    "HeatMap(data = data4).add_to(m)\n",
    "display(m)"
   ]
  },
  {
   "cell_type": "markdown",
   "metadata": {},
   "source": [
    "## By Super structure condition"
   ]
  },
  {
   "cell_type": "code",
   "execution_count": null,
   "metadata": {},
   "outputs": [],
   "source": []
  },
  {
   "cell_type": "code",
   "execution_count": null,
   "metadata": {
    "ExecuteTime": {
     "end_time": "2021-08-30T19:33:50.612475Z",
     "start_time": "2021-08-30T19:33:44.223Z"
    }
   },
   "outputs": [],
   "source": [
    "# Make an empty map\n",
    "m = folium.Map(location=[40,-100], tiles=\"OpenStreetMap\", zoom_start=4)\n",
    "\n",
    "#show the map\n",
    "m"
   ]
  },
  {
   "cell_type": "code",
   "execution_count": null,
   "metadata": {
    "ExecuteTime": {
     "end_time": "2021-08-30T19:33:50.614467Z",
     "start_time": "2021-08-30T19:33:44.235Z"
    }
   },
   "outputs": [],
   "source": [
    "\n",
    "data5 = df2.groupby('super_st_condition').median()[['latitude', 'longitude', 'bridge_condition']].values.tolist()\n",
    "data5"
   ]
  },
  {
   "cell_type": "code",
   "execution_count": null,
   "metadata": {
    "ExecuteTime": {
     "end_time": "2021-08-30T19:33:50.616468Z",
     "start_time": "2021-08-30T19:33:44.245Z"
    }
   },
   "outputs": [],
   "source": [
    "# gradient = {0: 'red', 1: 'brown', 2: 'green'}\n",
    "\n",
    "HeatMap(data = data5).add_to(m)\n",
    "display(m)"
   ]
  },
  {
   "cell_type": "markdown",
   "metadata": {},
   "source": [
    "## By County"
   ]
  },
  {
   "cell_type": "code",
   "execution_count": null,
   "metadata": {
    "ExecuteTime": {
     "end_time": "2021-08-30T19:33:50.618466Z",
     "start_time": "2021-08-30T19:33:44.258Z"
    }
   },
   "outputs": [],
   "source": [
    "# Make an empty map\n",
    "m = folium.Map(location=[40,-100], tiles=\"OpenStreetMap\", zoom_start=4)\n",
    "\n",
    "#show the map\n",
    "m"
   ]
  },
  {
   "cell_type": "code",
   "execution_count": null,
   "metadata": {
    "ExecuteTime": {
     "end_time": "2021-08-30T19:33:50.621467Z",
     "start_time": "2021-08-30T19:33:44.269Z"
    }
   },
   "outputs": [],
   "source": [
    "\n",
    "data6 = df2.groupby('county').median()[['latitude', 'longitude', 'bridge_condition']].values.tolist()\n",
    "data6"
   ]
  },
  {
   "cell_type": "code",
   "execution_count": null,
   "metadata": {
    "ExecuteTime": {
     "end_time": "2021-08-30T19:33:50.623467Z",
     "start_time": "2021-08-30T19:33:44.286Z"
    }
   },
   "outputs": [],
   "source": [
    "\n",
    "HeatMap(data = data6).add_to(m)\n",
    "display(m)"
   ]
  },
  {
   "cell_type": "markdown",
   "metadata": {},
   "source": [
    "## By New York Counties"
   ]
  },
  {
   "cell_type": "code",
   "execution_count": null,
   "metadata": {
    "ExecuteTime": {
     "end_time": "2021-08-30T19:33:50.626468Z",
     "start_time": "2021-08-30T19:33:44.300Z"
    }
   },
   "outputs": [],
   "source": [
    "df.state.unique()"
   ]
  },
  {
   "cell_type": "code",
   "execution_count": null,
   "metadata": {
    "ExecuteTime": {
     "end_time": "2021-08-30T19:33:50.628469Z",
     "start_time": "2021-08-30T19:33:44.311Z"
    }
   },
   "outputs": [],
   "source": [
    "ny_df = df.loc[df['state']=='  New York']\n",
    "ny_df"
   ]
  },
  {
   "cell_type": "code",
   "execution_count": null,
   "metadata": {
    "ExecuteTime": {
     "end_time": "2021-08-30T19:33:50.630467Z",
     "start_time": "2021-08-30T19:33:44.321Z"
    }
   },
   "outputs": [],
   "source": [
    "ny_df.shape"
   ]
  },
  {
   "cell_type": "code",
   "execution_count": null,
   "metadata": {
    "ExecuteTime": {
     "end_time": "2021-08-30T19:33:50.633468Z",
     "start_time": "2021-08-30T19:33:44.332Z"
    }
   },
   "outputs": [],
   "source": [
    "ny_df.bridge_condition.value_counts(normalize=True)"
   ]
  },
  {
   "cell_type": "markdown",
   "metadata": {
    "ExecuteTime": {
     "end_time": "2021-08-30T19:19:41.867521Z",
     "start_time": "2021-08-30T19:19:41.855521Z"
    }
   },
   "source": [
    "New York has 15,505 bridges out of which "
   ]
  },
  {
   "cell_type": "code",
   "execution_count": null,
   "metadata": {
    "ExecuteTime": {
     "end_time": "2021-08-30T19:33:50.635466Z",
     "start_time": "2021-08-30T19:33:44.346Z"
    }
   },
   "outputs": [],
   "source": [
    "# Replace target values - there are three classes\n",
    "ny_df = ny_df.replace({'bridge_condition': {'Poor' : 2, \n",
    "                                'Fair' : 1, \n",
    "                                'Good' : 0}})\n"
   ]
  },
  {
   "cell_type": "code",
   "execution_count": null,
   "metadata": {
    "ExecuteTime": {
     "end_time": "2021-08-30T19:33:50.645466Z",
     "start_time": "2021-08-30T19:33:44.384Z"
    }
   },
   "outputs": [],
   "source": [
    "# ny_df_grouped = ny_df.groupby('county').median()[['latitude', 'longitude', 'bridge_condition']].values.tolist()\n",
    "ny_df_grouped = ny_df[['latitude', 'longitude', 'bridge_condition']].values.tolist()\n",
    "ny_df_grouped"
   ]
  },
  {
   "cell_type": "code",
   "execution_count": null,
   "metadata": {
    "ExecuteTime": {
     "end_time": "2021-08-30T19:33:50.648467Z",
     "start_time": "2021-08-30T19:33:44.397Z"
    }
   },
   "outputs": [],
   "source": [
    "# Make an empty map\n",
    "m = folium.Map(location=[40,-100], tiles=\"OpenStreetMap\", zoom_start=4)\n",
    "\n",
    "#show the map\n",
    "m"
   ]
  },
  {
   "cell_type": "code",
   "execution_count": null,
   "metadata": {
    "ExecuteTime": {
     "end_time": "2021-08-30T19:33:50.650468Z",
     "start_time": "2021-08-30T19:33:44.409Z"
    }
   },
   "outputs": [],
   "source": [
    "\n",
    "HeatMap(data = ny_df_grouped).add_to(m)\n",
    "display(m)"
   ]
  },
  {
   "cell_type": "code",
   "execution_count": null,
   "metadata": {},
   "outputs": [],
   "source": []
  },
  {
   "cell_type": "code",
   "execution_count": null,
   "metadata": {},
   "outputs": [],
   "source": []
  },
  {
   "cell_type": "code",
   "execution_count": null,
   "metadata": {},
   "outputs": [],
   "source": []
  },
  {
   "cell_type": "code",
   "execution_count": null,
   "metadata": {},
   "outputs": [],
   "source": []
  },
  {
   "cell_type": "code",
   "execution_count": null,
   "metadata": {},
   "outputs": [],
   "source": []
  }
 ],
 "metadata": {
  "kernelspec": {
   "display_name": "Python 3",
   "language": "python",
   "name": "python3"
  },
  "language_info": {
   "codemirror_mode": {
    "name": "ipython",
    "version": 3
   },
   "file_extension": ".py",
   "mimetype": "text/x-python",
   "name": "python",
   "nbconvert_exporter": "python",
   "pygments_lexer": "ipython3",
   "version": "3.8.5"
  },
  "toc": {
   "base_numbering": 1,
   "nav_menu": {},
   "number_sections": true,
   "sideBar": true,
   "skip_h1_title": false,
   "title_cell": "Table of Contents",
   "title_sidebar": "Contents",
   "toc_cell": false,
   "toc_position": {
    "height": "calc(100% - 180px)",
    "left": "10px",
    "top": "150px",
    "width": "243px"
   },
   "toc_section_display": true,
   "toc_window_display": true
  },
  "varInspector": {
   "cols": {
    "lenName": 16,
    "lenType": 16,
    "lenVar": 40
   },
   "kernels_config": {
    "python": {
     "delete_cmd_postfix": "",
     "delete_cmd_prefix": "del ",
     "library": "var_list.py",
     "varRefreshCmd": "print(var_dic_list())"
    },
    "r": {
     "delete_cmd_postfix": ") ",
     "delete_cmd_prefix": "rm(",
     "library": "var_list.r",
     "varRefreshCmd": "cat(var_dic_list()) "
    }
   },
   "types_to_exclude": [
    "module",
    "function",
    "builtin_function_or_method",
    "instance",
    "_Feature"
   ],
   "window_display": false
  }
 },
 "nbformat": 4,
 "nbformat_minor": 4
}
