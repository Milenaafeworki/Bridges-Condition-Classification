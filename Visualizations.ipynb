{
 "cells": [
  {
   "cell_type": "markdown",
   "metadata": {},
   "source": [
    "# Visualizations"
   ]
  },
  {
   "cell_type": "code",
   "execution_count": 1,
   "metadata": {
    "ExecuteTime": {
     "end_time": "2021-09-07T06:47:51.548464Z",
     "start_time": "2021-09-07T06:47:48.378062Z"
    }
   },
   "outputs": [],
   "source": [
    "#import necessary libraries\n",
    "import pandas as pd\n",
    "import numpy as np\n",
    "import seaborn as sns\n",
    "import matplotlib.pyplot as plt\n"
   ]
  },
  {
   "cell_type": "markdown",
   "metadata": {},
   "source": [
    "## Read CSV file"
   ]
  },
  {
   "cell_type": "code",
   "execution_count": 2,
   "metadata": {
    "ExecuteTime": {
     "end_time": "2021-09-07T06:47:53.361832Z",
     "start_time": "2021-09-07T06:47:51.553461Z"
    }
   },
   "outputs": [
    {
     "data": {
      "text/html": [
       "<div>\n",
       "<style scoped>\n",
       "    .dataframe tbody tr th:only-of-type {\n",
       "        vertical-align: middle;\n",
       "    }\n",
       "\n",
       "    .dataframe tbody tr th {\n",
       "        vertical-align: top;\n",
       "    }\n",
       "\n",
       "    .dataframe thead th {\n",
       "        text-align: right;\n",
       "    }\n",
       "</style>\n",
       "<table border=\"1\" class=\"dataframe\">\n",
       "  <thead>\n",
       "    <tr style=\"text-align: right;\">\n",
       "      <th></th>\n",
       "      <th>state</th>\n",
       "      <th>str_id</th>\n",
       "      <th>deck_type</th>\n",
       "      <th>wearing_type</th>\n",
       "      <th>membrane_type</th>\n",
       "      <th>deck_protection</th>\n",
       "      <th>toll</th>\n",
       "      <th>freeze_thaw_cycle</th>\n",
       "      <th>snowfall_days</th>\n",
       "      <th>inventory_class_route</th>\n",
       "      <th>...</th>\n",
       "      <th>yr_reconst</th>\n",
       "      <th>skew</th>\n",
       "      <th>max_span</th>\n",
       "      <th>bridge_width</th>\n",
       "      <th>deck_width</th>\n",
       "      <th>super_st_condition</th>\n",
       "      <th>sub_st_condition</th>\n",
       "      <th>deck_condition</th>\n",
       "      <th>avg_daily_trfic</th>\n",
       "      <th>avg_truck_trfc</th>\n",
       "    </tr>\n",
       "  </thead>\n",
       "  <tbody>\n",
       "    <tr>\n",
       "      <th>0</th>\n",
       "      <td>Alabama</td>\n",
       "      <td>021480</td>\n",
       "      <td>1</td>\n",
       "      <td>0</td>\n",
       "      <td>0</td>\n",
       "      <td>0</td>\n",
       "      <td>3.0</td>\n",
       "      <td>14.0</td>\n",
       "      <td>0.0</td>\n",
       "      <td>2.0</td>\n",
       "      <td>...</td>\n",
       "      <td>0.0</td>\n",
       "      <td>23.0</td>\n",
       "      <td>274.9</td>\n",
       "      <td>38.1</td>\n",
       "      <td>41.0</td>\n",
       "      <td>7.0</td>\n",
       "      <td>7.0</td>\n",
       "      <td>7.0</td>\n",
       "      <td>4940.0</td>\n",
       "      <td>35.0</td>\n",
       "    </tr>\n",
       "    <tr>\n",
       "      <th>1</th>\n",
       "      <td>Alabama</td>\n",
       "      <td>009763</td>\n",
       "      <td>N</td>\n",
       "      <td>6</td>\n",
       "      <td>0</td>\n",
       "      <td>0</td>\n",
       "      <td>3.0</td>\n",
       "      <td>14.0</td>\n",
       "      <td>0.0</td>\n",
       "      <td>7.0</td>\n",
       "      <td>...</td>\n",
       "      <td>0.0</td>\n",
       "      <td>45.0</td>\n",
       "      <td>12.1</td>\n",
       "      <td>0.0</td>\n",
       "      <td>0.0</td>\n",
       "      <td>NaN</td>\n",
       "      <td>NaN</td>\n",
       "      <td>NaN</td>\n",
       "      <td>280.0</td>\n",
       "      <td>7.0</td>\n",
       "    </tr>\n",
       "    <tr>\n",
       "      <th>2</th>\n",
       "      <td>Alabama</td>\n",
       "      <td>003324</td>\n",
       "      <td>N</td>\n",
       "      <td>N</td>\n",
       "      <td>N</td>\n",
       "      <td>N</td>\n",
       "      <td>3.0</td>\n",
       "      <td>14.0</td>\n",
       "      <td>0.0</td>\n",
       "      <td>6.0</td>\n",
       "      <td>...</td>\n",
       "      <td>2009.0</td>\n",
       "      <td>0.0</td>\n",
       "      <td>7.9</td>\n",
       "      <td>0.0</td>\n",
       "      <td>0.0</td>\n",
       "      <td>NaN</td>\n",
       "      <td>NaN</td>\n",
       "      <td>NaN</td>\n",
       "      <td>420.0</td>\n",
       "      <td>7.0</td>\n",
       "    </tr>\n",
       "    <tr>\n",
       "      <th>3</th>\n",
       "      <td>Alabama</td>\n",
       "      <td>006369</td>\n",
       "      <td>1</td>\n",
       "      <td>0</td>\n",
       "      <td>0</td>\n",
       "      <td>0</td>\n",
       "      <td>3.0</td>\n",
       "      <td>14.0</td>\n",
       "      <td>0.0</td>\n",
       "      <td>6.0</td>\n",
       "      <td>...</td>\n",
       "      <td>0.0</td>\n",
       "      <td>0.0</td>\n",
       "      <td>60.0</td>\n",
       "      <td>23.6</td>\n",
       "      <td>27.6</td>\n",
       "      <td>7.0</td>\n",
       "      <td>7.0</td>\n",
       "      <td>6.0</td>\n",
       "      <td>420.0</td>\n",
       "      <td>7.0</td>\n",
       "    </tr>\n",
       "    <tr>\n",
       "      <th>4</th>\n",
       "      <td>Alabama</td>\n",
       "      <td>015078</td>\n",
       "      <td>2</td>\n",
       "      <td>0</td>\n",
       "      <td>0</td>\n",
       "      <td>0</td>\n",
       "      <td>3.0</td>\n",
       "      <td>14.0</td>\n",
       "      <td>0.0</td>\n",
       "      <td>8.0</td>\n",
       "      <td>...</td>\n",
       "      <td>0.0</td>\n",
       "      <td>0.0</td>\n",
       "      <td>15.1</td>\n",
       "      <td>23.6</td>\n",
       "      <td>24.9</td>\n",
       "      <td>5.0</td>\n",
       "      <td>6.0</td>\n",
       "      <td>5.0</td>\n",
       "      <td>70.0</td>\n",
       "      <td>0.0</td>\n",
       "    </tr>\n",
       "  </tbody>\n",
       "</table>\n",
       "<p>5 rows × 38 columns</p>\n",
       "</div>"
      ],
      "text/plain": [
       "     state  str_id deck_type wearing_type membrane_type deck_protection  toll  \\\n",
       "0  Alabama  021480         1            0             0               0   3.0   \n",
       "1  Alabama  009763         N            6             0               0   3.0   \n",
       "2  Alabama  003324         N            N             N               N   3.0   \n",
       "3  Alabama  006369         1            0             0               0   3.0   \n",
       "4  Alabama  015078         2            0             0               0   3.0   \n",
       "\n",
       "   freeze_thaw_cycle  snowfall_days  inventory_class_route  ...  yr_reconst  \\\n",
       "0               14.0            0.0                    2.0  ...         0.0   \n",
       "1               14.0            0.0                    7.0  ...         0.0   \n",
       "2               14.0            0.0                    6.0  ...      2009.0   \n",
       "3               14.0            0.0                    6.0  ...         0.0   \n",
       "4               14.0            0.0                    8.0  ...         0.0   \n",
       "\n",
       "   skew  max_span  bridge_width  deck_width  super_st_condition  \\\n",
       "0  23.0     274.9          38.1        41.0                 7.0   \n",
       "1  45.0      12.1           0.0         0.0                 NaN   \n",
       "2   0.0       7.9           0.0         0.0                 NaN   \n",
       "3   0.0      60.0          23.6        27.6                 7.0   \n",
       "4   0.0      15.1          23.6        24.9                 5.0   \n",
       "\n",
       "   sub_st_condition  deck_condition  avg_daily_trfic avg_truck_trfc  \n",
       "0               7.0             7.0           4940.0           35.0  \n",
       "1               NaN             NaN            280.0            7.0  \n",
       "2               NaN             NaN            420.0            7.0  \n",
       "3               7.0             6.0            420.0            7.0  \n",
       "4               6.0             5.0             70.0            0.0  \n",
       "\n",
       "[5 rows x 38 columns]"
      ]
     },
     "execution_count": 2,
     "metadata": {},
     "output_type": "execute_result"
    }
   ],
   "source": [
    "df1 = pd.read_csv('bridge_data_cleaned1')\n",
    "df1.head()"
   ]
  },
  {
   "cell_type": "code",
   "execution_count": 3,
   "metadata": {
    "ExecuteTime": {
     "end_time": "2021-09-07T06:47:55.045617Z",
     "start_time": "2021-09-07T06:47:53.365963Z"
    }
   },
   "outputs": [
    {
     "data": {
      "text/html": [
       "<div>\n",
       "<style scoped>\n",
       "    .dataframe tbody tr th:only-of-type {\n",
       "        vertical-align: middle;\n",
       "    }\n",
       "\n",
       "    .dataframe tbody tr th {\n",
       "        vertical-align: top;\n",
       "    }\n",
       "\n",
       "    .dataframe thead th {\n",
       "        text-align: right;\n",
       "    }\n",
       "</style>\n",
       "<table border=\"1\" class=\"dataframe\">\n",
       "  <thead>\n",
       "    <tr style=\"text-align: right;\">\n",
       "      <th></th>\n",
       "      <th>state</th>\n",
       "      <th>str_id</th>\n",
       "      <th>deck_type</th>\n",
       "      <th>wearing_type</th>\n",
       "      <th>membrane_type</th>\n",
       "      <th>deck_protection</th>\n",
       "      <th>toll</th>\n",
       "      <th>freeze_thaw_cycle</th>\n",
       "      <th>snowfall_days</th>\n",
       "      <th>inventory_class_route</th>\n",
       "      <th>...</th>\n",
       "      <th>yr_reconst</th>\n",
       "      <th>skew</th>\n",
       "      <th>max_span</th>\n",
       "      <th>bridge_width</th>\n",
       "      <th>deck_width</th>\n",
       "      <th>super_st_condition</th>\n",
       "      <th>sub_st_condition</th>\n",
       "      <th>deck_condition</th>\n",
       "      <th>avg_daily_trfic</th>\n",
       "      <th>avg_truck_trfc</th>\n",
       "    </tr>\n",
       "  </thead>\n",
       "  <tbody>\n",
       "    <tr>\n",
       "      <th>0</th>\n",
       "      <td>Minnesota</td>\n",
       "      <td>L9347</td>\n",
       "      <td>8</td>\n",
       "      <td>8</td>\n",
       "      <td>0</td>\n",
       "      <td>N</td>\n",
       "      <td>3</td>\n",
       "      <td>114.0</td>\n",
       "      <td>83.0</td>\n",
       "      <td>9</td>\n",
       "      <td>...</td>\n",
       "      <td>0.0</td>\n",
       "      <td>0.0</td>\n",
       "      <td>32.2</td>\n",
       "      <td>24.0</td>\n",
       "      <td>25.9</td>\n",
       "      <td>5.0</td>\n",
       "      <td>5.0</td>\n",
       "      <td>7.0</td>\n",
       "      <td>40.0</td>\n",
       "      <td>6.0</td>\n",
       "    </tr>\n",
       "    <tr>\n",
       "      <th>1</th>\n",
       "      <td>Minnesota</td>\n",
       "      <td>L9903</td>\n",
       "      <td>N</td>\n",
       "      <td>N</td>\n",
       "      <td>N</td>\n",
       "      <td>N</td>\n",
       "      <td>3</td>\n",
       "      <td>112.0</td>\n",
       "      <td>83.0</td>\n",
       "      <td>9</td>\n",
       "      <td>...</td>\n",
       "      <td>0.0</td>\n",
       "      <td>0.0</td>\n",
       "      <td>11.5</td>\n",
       "      <td>0.0</td>\n",
       "      <td>0.0</td>\n",
       "      <td>NaN</td>\n",
       "      <td>NaN</td>\n",
       "      <td>NaN</td>\n",
       "      <td>28.0</td>\n",
       "      <td>0.0</td>\n",
       "    </tr>\n",
       "    <tr>\n",
       "      <th>2</th>\n",
       "      <td>Minnesota</td>\n",
       "      <td>96781</td>\n",
       "      <td>N</td>\n",
       "      <td>N</td>\n",
       "      <td>N</td>\n",
       "      <td>N</td>\n",
       "      <td>3</td>\n",
       "      <td>96.0</td>\n",
       "      <td>111.0</td>\n",
       "      <td>7</td>\n",
       "      <td>...</td>\n",
       "      <td>0.0</td>\n",
       "      <td>30.0</td>\n",
       "      <td>11.8</td>\n",
       "      <td>0.0</td>\n",
       "      <td>0.0</td>\n",
       "      <td>NaN</td>\n",
       "      <td>NaN</td>\n",
       "      <td>NaN</td>\n",
       "      <td>450.0</td>\n",
       "      <td>4.0</td>\n",
       "    </tr>\n",
       "    <tr>\n",
       "      <th>3</th>\n",
       "      <td>Minnesota</td>\n",
       "      <td>34J05</td>\n",
       "      <td>N</td>\n",
       "      <td>N</td>\n",
       "      <td>N</td>\n",
       "      <td>N</td>\n",
       "      <td>3</td>\n",
       "      <td>111.0</td>\n",
       "      <td>89.0</td>\n",
       "      <td>9</td>\n",
       "      <td>...</td>\n",
       "      <td>0.0</td>\n",
       "      <td>4.0</td>\n",
       "      <td>12.1</td>\n",
       "      <td>0.0</td>\n",
       "      <td>0.0</td>\n",
       "      <td>NaN</td>\n",
       "      <td>NaN</td>\n",
       "      <td>NaN</td>\n",
       "      <td>48.0</td>\n",
       "      <td>7.0</td>\n",
       "    </tr>\n",
       "    <tr>\n",
       "      <th>4</th>\n",
       "      <td>Minnesota</td>\n",
       "      <td>17508</td>\n",
       "      <td>8</td>\n",
       "      <td>6</td>\n",
       "      <td>0</td>\n",
       "      <td>N</td>\n",
       "      <td>3</td>\n",
       "      <td>112.0</td>\n",
       "      <td>83.0</td>\n",
       "      <td>9</td>\n",
       "      <td>...</td>\n",
       "      <td>0.0</td>\n",
       "      <td>0.0</td>\n",
       "      <td>44.9</td>\n",
       "      <td>20.3</td>\n",
       "      <td>21.7</td>\n",
       "      <td>8.0</td>\n",
       "      <td>7.0</td>\n",
       "      <td>7.0</td>\n",
       "      <td>20.0</td>\n",
       "      <td>17.0</td>\n",
       "    </tr>\n",
       "  </tbody>\n",
       "</table>\n",
       "<p>5 rows × 38 columns</p>\n",
       "</div>"
      ],
      "text/plain": [
       "       state str_id deck_type wearing_type membrane_type deck_protection  \\\n",
       "0  Minnesota  L9347         8            8             0               N   \n",
       "1  Minnesota  L9903         N            N             N               N   \n",
       "2  Minnesota  96781         N            N             N               N   \n",
       "3  Minnesota  34J05         N            N             N               N   \n",
       "4  Minnesota  17508         8            6             0               N   \n",
       "\n",
       "   toll  freeze_thaw_cycle  snowfall_days  inventory_class_route  ...  \\\n",
       "0     3              114.0           83.0                      9  ...   \n",
       "1     3              112.0           83.0                      9  ...   \n",
       "2     3               96.0          111.0                      7  ...   \n",
       "3     3              111.0           89.0                      9  ...   \n",
       "4     3              112.0           83.0                      9  ...   \n",
       "\n",
       "   yr_reconst  skew  max_span  bridge_width  deck_width  super_st_condition  \\\n",
       "0         0.0   0.0      32.2          24.0        25.9                 5.0   \n",
       "1         0.0   0.0      11.5           0.0         0.0                 NaN   \n",
       "2         0.0  30.0      11.8           0.0         0.0                 NaN   \n",
       "3         0.0   4.0      12.1           0.0         0.0                 NaN   \n",
       "4         0.0   0.0      44.9          20.3        21.7                 8.0   \n",
       "\n",
       "   sub_st_condition  deck_condition  avg_daily_trfic avg_truck_trfc  \n",
       "0               5.0             7.0             40.0            6.0  \n",
       "1               NaN             NaN             28.0            0.0  \n",
       "2               NaN             NaN            450.0            4.0  \n",
       "3               NaN             NaN             48.0            7.0  \n",
       "4               7.0             7.0             20.0           17.0  \n",
       "\n",
       "[5 rows x 38 columns]"
      ]
     },
     "execution_count": 3,
     "metadata": {},
     "output_type": "execute_result"
    }
   ],
   "source": [
    "df2 = pd.read_csv('bridge_data_cleaned2')\n",
    "df2.head()"
   ]
  },
  {
   "cell_type": "code",
   "execution_count": 4,
   "metadata": {
    "ExecuteTime": {
     "end_time": "2021-09-07T06:47:56.873692Z",
     "start_time": "2021-09-07T06:47:55.045617Z"
    }
   },
   "outputs": [
    {
     "data": {
      "text/html": [
       "<div>\n",
       "<style scoped>\n",
       "    .dataframe tbody tr th:only-of-type {\n",
       "        vertical-align: middle;\n",
       "    }\n",
       "\n",
       "    .dataframe tbody tr th {\n",
       "        vertical-align: top;\n",
       "    }\n",
       "\n",
       "    .dataframe thead th {\n",
       "        text-align: right;\n",
       "    }\n",
       "</style>\n",
       "<table border=\"1\" class=\"dataframe\">\n",
       "  <thead>\n",
       "    <tr style=\"text-align: right;\">\n",
       "      <th></th>\n",
       "      <th>state</th>\n",
       "      <th>str_id</th>\n",
       "      <th>deck_type</th>\n",
       "      <th>wearing_type</th>\n",
       "      <th>membrane_type</th>\n",
       "      <th>deck_protection</th>\n",
       "      <th>toll</th>\n",
       "      <th>freeze_thaw_cycle</th>\n",
       "      <th>snowfall_days</th>\n",
       "      <th>inventory_class_route</th>\n",
       "      <th>...</th>\n",
       "      <th>yr_reconst</th>\n",
       "      <th>skew</th>\n",
       "      <th>max_span</th>\n",
       "      <th>bridge_width</th>\n",
       "      <th>deck_width</th>\n",
       "      <th>super_st_condition</th>\n",
       "      <th>sub_st_condition</th>\n",
       "      <th>deck_condition</th>\n",
       "      <th>avg_daily_trfic</th>\n",
       "      <th>avg_truck_trfc</th>\n",
       "    </tr>\n",
       "  </thead>\n",
       "  <tbody>\n",
       "    <tr>\n",
       "      <th>0</th>\n",
       "      <td>Pennsylvania</td>\n",
       "      <td>000000000018583</td>\n",
       "      <td>1</td>\n",
       "      <td>6</td>\n",
       "      <td>2</td>\n",
       "      <td>0</td>\n",
       "      <td>3</td>\n",
       "      <td>117.0</td>\n",
       "      <td>59.0</td>\n",
       "      <td>2</td>\n",
       "      <td>...</td>\n",
       "      <td>0.0</td>\n",
       "      <td>1.0</td>\n",
       "      <td>21.0</td>\n",
       "      <td>49.2</td>\n",
       "      <td>52.5</td>\n",
       "      <td>6.0</td>\n",
       "      <td>6.0</td>\n",
       "      <td>6.0</td>\n",
       "      <td>12394.0</td>\n",
       "      <td>10.0</td>\n",
       "    </tr>\n",
       "    <tr>\n",
       "      <th>1</th>\n",
       "      <td>Pennsylvania</td>\n",
       "      <td>000000000041175</td>\n",
       "      <td>1</td>\n",
       "      <td>1</td>\n",
       "      <td>0</td>\n",
       "      <td>1</td>\n",
       "      <td>3</td>\n",
       "      <td>117.0</td>\n",
       "      <td>70.0</td>\n",
       "      <td>1</td>\n",
       "      <td>...</td>\n",
       "      <td>0.0</td>\n",
       "      <td>35.0</td>\n",
       "      <td>240.2</td>\n",
       "      <td>52.2</td>\n",
       "      <td>55.1</td>\n",
       "      <td>8.0</td>\n",
       "      <td>7.0</td>\n",
       "      <td>7.0</td>\n",
       "      <td>12189.0</td>\n",
       "      <td>15.0</td>\n",
       "    </tr>\n",
       "    <tr>\n",
       "      <th>2</th>\n",
       "      <td>Pennsylvania</td>\n",
       "      <td>000000000041176</td>\n",
       "      <td>1</td>\n",
       "      <td>1</td>\n",
       "      <td>0</td>\n",
       "      <td>1</td>\n",
       "      <td>3</td>\n",
       "      <td>117.0</td>\n",
       "      <td>70.0</td>\n",
       "      <td>1</td>\n",
       "      <td>...</td>\n",
       "      <td>0.0</td>\n",
       "      <td>34.0</td>\n",
       "      <td>226.0</td>\n",
       "      <td>51.8</td>\n",
       "      <td>54.8</td>\n",
       "      <td>8.0</td>\n",
       "      <td>7.0</td>\n",
       "      <td>7.0</td>\n",
       "      <td>12744.0</td>\n",
       "      <td>14.0</td>\n",
       "    </tr>\n",
       "    <tr>\n",
       "      <th>3</th>\n",
       "      <td>Pennsylvania</td>\n",
       "      <td>000000000004028</td>\n",
       "      <td>1</td>\n",
       "      <td>3</td>\n",
       "      <td>0</td>\n",
       "      <td>1</td>\n",
       "      <td>3</td>\n",
       "      <td>104.0</td>\n",
       "      <td>48.0</td>\n",
       "      <td>1</td>\n",
       "      <td>...</td>\n",
       "      <td>2004.0</td>\n",
       "      <td>0.0</td>\n",
       "      <td>32.2</td>\n",
       "      <td>40.0</td>\n",
       "      <td>43.6</td>\n",
       "      <td>8.0</td>\n",
       "      <td>6.0</td>\n",
       "      <td>6.0</td>\n",
       "      <td>8169.0</td>\n",
       "      <td>34.0</td>\n",
       "    </tr>\n",
       "    <tr>\n",
       "      <th>4</th>\n",
       "      <td>Pennsylvania</td>\n",
       "      <td>000000000009312</td>\n",
       "      <td>N</td>\n",
       "      <td>N</td>\n",
       "      <td>N</td>\n",
       "      <td>N</td>\n",
       "      <td>3</td>\n",
       "      <td>117.0</td>\n",
       "      <td>70.0</td>\n",
       "      <td>1</td>\n",
       "      <td>...</td>\n",
       "      <td>0.0</td>\n",
       "      <td>56.0</td>\n",
       "      <td>37.1</td>\n",
       "      <td>0.0</td>\n",
       "      <td>0.0</td>\n",
       "      <td>NaN</td>\n",
       "      <td>NaN</td>\n",
       "      <td>NaN</td>\n",
       "      <td>11792.0</td>\n",
       "      <td>39.0</td>\n",
       "    </tr>\n",
       "  </tbody>\n",
       "</table>\n",
       "<p>5 rows × 38 columns</p>\n",
       "</div>"
      ],
      "text/plain": [
       "          state           str_id deck_type wearing_type membrane_type  \\\n",
       "0  Pennsylvania  000000000018583         1            6             2   \n",
       "1  Pennsylvania  000000000041175         1            1             0   \n",
       "2  Pennsylvania  000000000041176         1            1             0   \n",
       "3  Pennsylvania  000000000004028         1            3             0   \n",
       "4  Pennsylvania  000000000009312         N            N             N   \n",
       "\n",
       "  deck_protection  toll  freeze_thaw_cycle  snowfall_days  \\\n",
       "0               0     3              117.0           59.0   \n",
       "1               1     3              117.0           70.0   \n",
       "2               1     3              117.0           70.0   \n",
       "3               1     3              104.0           48.0   \n",
       "4               N     3              117.0           70.0   \n",
       "\n",
       "   inventory_class_route  ...  yr_reconst  skew  max_span  bridge_width  \\\n",
       "0                      2  ...         0.0   1.0      21.0          49.2   \n",
       "1                      1  ...         0.0  35.0     240.2          52.2   \n",
       "2                      1  ...         0.0  34.0     226.0          51.8   \n",
       "3                      1  ...      2004.0   0.0      32.2          40.0   \n",
       "4                      1  ...         0.0  56.0      37.1           0.0   \n",
       "\n",
       "   deck_width  super_st_condition  sub_st_condition  deck_condition  \\\n",
       "0        52.5                 6.0               6.0             6.0   \n",
       "1        55.1                 8.0               7.0             7.0   \n",
       "2        54.8                 8.0               7.0             7.0   \n",
       "3        43.6                 8.0               6.0             6.0   \n",
       "4         0.0                 NaN               NaN             NaN   \n",
       "\n",
       "   avg_daily_trfic avg_truck_trfc  \n",
       "0          12394.0           10.0  \n",
       "1          12189.0           15.0  \n",
       "2          12744.0           14.0  \n",
       "3           8169.0           34.0  \n",
       "4          11792.0           39.0  \n",
       "\n",
       "[5 rows x 38 columns]"
      ]
     },
     "execution_count": 4,
     "metadata": {},
     "output_type": "execute_result"
    }
   ],
   "source": [
    "df3 = pd.read_csv('bridge_data_cleaned3')\n",
    "df3.head()"
   ]
  },
  {
   "cell_type": "code",
   "execution_count": 5,
   "metadata": {
    "ExecuteTime": {
     "end_time": "2021-09-07T06:47:57.408223Z",
     "start_time": "2021-09-07T06:47:56.877692Z"
    }
   },
   "outputs": [
    {
     "data": {
      "text/html": [
       "<div>\n",
       "<style scoped>\n",
       "    .dataframe tbody tr th:only-of-type {\n",
       "        vertical-align: middle;\n",
       "    }\n",
       "\n",
       "    .dataframe tbody tr th {\n",
       "        vertical-align: top;\n",
       "    }\n",
       "\n",
       "    .dataframe thead th {\n",
       "        text-align: right;\n",
       "    }\n",
       "</style>\n",
       "<table border=\"1\" class=\"dataframe\">\n",
       "  <thead>\n",
       "    <tr style=\"text-align: right;\">\n",
       "      <th></th>\n",
       "      <th>state</th>\n",
       "      <th>str_id</th>\n",
       "      <th>deck_type</th>\n",
       "      <th>wearing_type</th>\n",
       "      <th>membrane_type</th>\n",
       "      <th>deck_protection</th>\n",
       "      <th>toll</th>\n",
       "      <th>freeze_thaw_cycle</th>\n",
       "      <th>snowfall_days</th>\n",
       "      <th>inventory_class_route</th>\n",
       "      <th>...</th>\n",
       "      <th>yr_reconst</th>\n",
       "      <th>skew</th>\n",
       "      <th>max_span</th>\n",
       "      <th>bridge_width</th>\n",
       "      <th>deck_width</th>\n",
       "      <th>super_st_condition</th>\n",
       "      <th>sub_st_condition</th>\n",
       "      <th>deck_condition</th>\n",
       "      <th>avg_daily_trfic</th>\n",
       "      <th>avg_truck_trfc</th>\n",
       "    </tr>\n",
       "  </thead>\n",
       "  <tbody>\n",
       "    <tr>\n",
       "      <th>0</th>\n",
       "      <td>Alabama</td>\n",
       "      <td>021480</td>\n",
       "      <td>1</td>\n",
       "      <td>0</td>\n",
       "      <td>0</td>\n",
       "      <td>0</td>\n",
       "      <td>3.0</td>\n",
       "      <td>14.0</td>\n",
       "      <td>0.0</td>\n",
       "      <td>2.0</td>\n",
       "      <td>...</td>\n",
       "      <td>0.0</td>\n",
       "      <td>23.0</td>\n",
       "      <td>274.9</td>\n",
       "      <td>38.1</td>\n",
       "      <td>41.0</td>\n",
       "      <td>7.0</td>\n",
       "      <td>7.0</td>\n",
       "      <td>7.0</td>\n",
       "      <td>4940.0</td>\n",
       "      <td>35.0</td>\n",
       "    </tr>\n",
       "    <tr>\n",
       "      <th>1</th>\n",
       "      <td>Alabama</td>\n",
       "      <td>009763</td>\n",
       "      <td>N</td>\n",
       "      <td>6</td>\n",
       "      <td>0</td>\n",
       "      <td>0</td>\n",
       "      <td>3.0</td>\n",
       "      <td>14.0</td>\n",
       "      <td>0.0</td>\n",
       "      <td>7.0</td>\n",
       "      <td>...</td>\n",
       "      <td>0.0</td>\n",
       "      <td>45.0</td>\n",
       "      <td>12.1</td>\n",
       "      <td>0.0</td>\n",
       "      <td>0.0</td>\n",
       "      <td>NaN</td>\n",
       "      <td>NaN</td>\n",
       "      <td>NaN</td>\n",
       "      <td>280.0</td>\n",
       "      <td>7.0</td>\n",
       "    </tr>\n",
       "    <tr>\n",
       "      <th>2</th>\n",
       "      <td>Alabama</td>\n",
       "      <td>003324</td>\n",
       "      <td>N</td>\n",
       "      <td>N</td>\n",
       "      <td>N</td>\n",
       "      <td>N</td>\n",
       "      <td>3.0</td>\n",
       "      <td>14.0</td>\n",
       "      <td>0.0</td>\n",
       "      <td>6.0</td>\n",
       "      <td>...</td>\n",
       "      <td>2009.0</td>\n",
       "      <td>0.0</td>\n",
       "      <td>7.9</td>\n",
       "      <td>0.0</td>\n",
       "      <td>0.0</td>\n",
       "      <td>NaN</td>\n",
       "      <td>NaN</td>\n",
       "      <td>NaN</td>\n",
       "      <td>420.0</td>\n",
       "      <td>7.0</td>\n",
       "    </tr>\n",
       "    <tr>\n",
       "      <th>3</th>\n",
       "      <td>Alabama</td>\n",
       "      <td>006369</td>\n",
       "      <td>1</td>\n",
       "      <td>0</td>\n",
       "      <td>0</td>\n",
       "      <td>0</td>\n",
       "      <td>3.0</td>\n",
       "      <td>14.0</td>\n",
       "      <td>0.0</td>\n",
       "      <td>6.0</td>\n",
       "      <td>...</td>\n",
       "      <td>0.0</td>\n",
       "      <td>0.0</td>\n",
       "      <td>60.0</td>\n",
       "      <td>23.6</td>\n",
       "      <td>27.6</td>\n",
       "      <td>7.0</td>\n",
       "      <td>7.0</td>\n",
       "      <td>6.0</td>\n",
       "      <td>420.0</td>\n",
       "      <td>7.0</td>\n",
       "    </tr>\n",
       "    <tr>\n",
       "      <th>4</th>\n",
       "      <td>Alabama</td>\n",
       "      <td>015078</td>\n",
       "      <td>2</td>\n",
       "      <td>0</td>\n",
       "      <td>0</td>\n",
       "      <td>0</td>\n",
       "      <td>3.0</td>\n",
       "      <td>14.0</td>\n",
       "      <td>0.0</td>\n",
       "      <td>8.0</td>\n",
       "      <td>...</td>\n",
       "      <td>0.0</td>\n",
       "      <td>0.0</td>\n",
       "      <td>15.1</td>\n",
       "      <td>23.6</td>\n",
       "      <td>24.9</td>\n",
       "      <td>5.0</td>\n",
       "      <td>6.0</td>\n",
       "      <td>5.0</td>\n",
       "      <td>70.0</td>\n",
       "      <td>0.0</td>\n",
       "    </tr>\n",
       "  </tbody>\n",
       "</table>\n",
       "<p>5 rows × 38 columns</p>\n",
       "</div>"
      ],
      "text/plain": [
       "     state  str_id deck_type wearing_type membrane_type deck_protection  toll  \\\n",
       "0  Alabama  021480         1            0             0               0   3.0   \n",
       "1  Alabama  009763         N            6             0               0   3.0   \n",
       "2  Alabama  003324         N            N             N               N   3.0   \n",
       "3  Alabama  006369         1            0             0               0   3.0   \n",
       "4  Alabama  015078         2            0             0               0   3.0   \n",
       "\n",
       "   freeze_thaw_cycle  snowfall_days  inventory_class_route  ...  yr_reconst  \\\n",
       "0               14.0            0.0                    2.0  ...         0.0   \n",
       "1               14.0            0.0                    7.0  ...         0.0   \n",
       "2               14.0            0.0                    6.0  ...      2009.0   \n",
       "3               14.0            0.0                    6.0  ...         0.0   \n",
       "4               14.0            0.0                    8.0  ...         0.0   \n",
       "\n",
       "   skew  max_span  bridge_width  deck_width  super_st_condition  \\\n",
       "0  23.0     274.9          38.1        41.0                 7.0   \n",
       "1  45.0      12.1           0.0         0.0                 NaN   \n",
       "2   0.0       7.9           0.0         0.0                 NaN   \n",
       "3   0.0      60.0          23.6        27.6                 7.0   \n",
       "4   0.0      15.1          23.6        24.9                 5.0   \n",
       "\n",
       "   sub_st_condition  deck_condition  avg_daily_trfic avg_truck_trfc  \n",
       "0               7.0             7.0           4940.0           35.0  \n",
       "1               NaN             NaN            280.0            7.0  \n",
       "2               NaN             NaN            420.0            7.0  \n",
       "3               7.0             6.0            420.0            7.0  \n",
       "4               6.0             5.0             70.0            0.0  \n",
       "\n",
       "[5 rows x 38 columns]"
      ]
     },
     "execution_count": 5,
     "metadata": {},
     "output_type": "execute_result"
    }
   ],
   "source": [
    "df = pd.concat([df1, df2, df3])\n",
    "df.head()"
   ]
  },
  {
   "cell_type": "code",
   "execution_count": 6,
   "metadata": {
    "ExecuteTime": {
     "end_time": "2021-09-07T06:47:57.423756Z",
     "start_time": "2021-09-07T06:47:57.412225Z"
    }
   },
   "outputs": [
    {
     "data": {
      "text/plain": [
       "(592756, 38)"
      ]
     },
     "execution_count": 6,
     "metadata": {},
     "output_type": "execute_result"
    }
   ],
   "source": [
    "df.shape"
   ]
  },
  {
   "cell_type": "code",
   "execution_count": null,
   "metadata": {},
   "outputs": [],
   "source": []
  },
  {
   "cell_type": "markdown",
   "metadata": {},
   "source": [
    "## Target Variables Class count"
   ]
  },
  {
   "cell_type": "code",
   "execution_count": 7,
   "metadata": {
    "ExecuteTime": {
     "end_time": "2021-09-07T06:47:58.117310Z",
     "start_time": "2021-09-07T06:47:57.428283Z"
    }
   },
   "outputs": [
    {
     "data": {
      "image/png": "[encoded data removed]",
      "text/plain": [
       "<Figure size 432x432 with 1 Axes>"
      ]
     },
     "metadata": {},
     "output_type": "display_data"
    }
   ],
   "source": [
    "#plot number of bridges according to condition\n",
    "percent = df['bridge_condition'].value_counts(normalize=True)*100\n",
    "condition = ['Good', 'Fair', 'Poor']\n",
    "\n",
    "sns.set_theme(style=\"whitegrid\")\n",
    "\n",
    "plt.figure(figsize=(6,6))\n",
    "sns.barplot(x=condition, y=percent[condition].values)\n",
    "plt.title('Classification of Bridges', fontsize=20)\n",
    "plt.ylabel('Bridges count(%)',fontsize=15)\n",
    "plt.show()\n"
   ]
  },
  {
   "cell_type": "markdown",
   "metadata": {},
   "source": [
    "## Bridge Condition vs Average daily traffic"
   ]
  },
  {
   "cell_type": "code",
   "execution_count": 8,
   "metadata": {
    "ExecuteTime": {
     "end_time": "2021-09-07T06:48:27.580024Z",
     "start_time": "2021-09-07T06:47:58.124313Z"
    }
   },
   "outputs": [
    {
     "data": {
      "image/png": "[encoded data removed]",
      "text/plain": [
       "<Figure size 432x432 with 1 Axes>"
      ]
     },
     "metadata": {},
     "output_type": "display_data"
    }
   ],
   "source": [
    "sns.set_theme(style='whitegrid')\n",
    "# Draw a nested barplot by bridge_condition and avg_daily_trfic\n",
    "g = sns.catplot(\n",
    "    data=df, kind='bar',\n",
    "    x='bridge_condition', y='avg_daily_trfic',\n",
    "     height=6\n",
    ")\n",
    "g.despine(left=True)\n",
    "g.set_axis_labels('', 'Average Daily Traffic', fontsize=15)\n",
    "plt.title('Condition of Bridge vs Average Daily Traffic', fontsize=20);"
   ]
  },
  {
   "cell_type": "code",
   "execution_count": 9,
   "metadata": {
    "ExecuteTime": {
     "end_time": "2021-09-07T06:48:27.664596Z",
     "start_time": "2021-09-07T06:48:27.584024Z"
    }
   },
   "outputs": [
    {
     "data": {
      "text/plain": [
       "array([  4940.,    280.,    420., ..., 103400., 109800., 145238.])"
      ]
     },
     "execution_count": 9,
     "metadata": {},
     "output_type": "execute_result"
    }
   ],
   "source": [
    "df.avg_daily_trfic.unique()"
   ]
  },
  {
   "cell_type": "markdown",
   "metadata": {},
   "source": [
    "## Average Daily Truck Traffic"
   ]
  },
  {
   "cell_type": "code",
   "execution_count": 10,
   "metadata": {
    "ExecuteTime": {
     "end_time": "2021-09-07T06:48:54.413565Z",
     "start_time": "2021-09-07T06:48:27.668600Z"
    }
   },
   "outputs": [
    {
     "data": {
      "image/png": "[encoded data removed]",
      "text/plain": [
       "<Figure size 432x432 with 1 Axes>"
      ]
     },
     "metadata": {},
     "output_type": "display_data"
    }
   ],
   "source": [
    "# Draw a nested barplot by bridge_condition and avg_truck_traffic\n",
    "g = sns.catplot(\n",
    "    data=df, kind=\"bar\",\n",
    "    x=\"bridge_condition\", y='avg_truck_trfc',\n",
    "     height=6\n",
    ")\n",
    "g.despine(left=True)\n",
    "g.set_axis_labels(\"\", \"Average Daily Truck Traffic\")\n",
    "plt.title(\"Average Daily Truck Traffic per Condition\", fontsize=20);"
   ]
  },
  {
   "cell_type": "markdown",
   "metadata": {
    "ExecuteTime": {
     "end_time": "2021-08-30T20:48:36.976683Z",
     "start_time": "2021-08-30T20:48:36.962634Z"
    }
   },
   "source": [
    "## Bridge Condition vs Age"
   ]
  },
  {
   "cell_type": "code",
   "execution_count": 11,
   "metadata": {
    "ExecuteTime": {
     "end_time": "2021-09-07T06:49:22.819868Z",
     "start_time": "2021-09-07T06:48:54.417091Z"
    }
   },
   "outputs": [
    {
     "data": {
      "image/png": "[encoded data removed]",
      "text/plain": [
       "<Figure size 432x432 with 1 Axes>"
      ]
     },
     "metadata": {},
     "output_type": "display_data"
    }
   ],
   "source": [
    "# Draw a nested barplot by bridge_condition and bridge_age\n",
    "g = sns.catplot(\n",
    "    data=df, kind=\"bar\",\n",
    "    x=\"bridge_condition\", y='bridge_age',\n",
    "     height=6\n",
    ")\n",
    "g.despine(left=True)\n",
    "g.set_axis_labels('','Bridge Age', fontsize=15)\n",
    "plt.title(\"Condition of Bridge vs Age\", fontsize=20);"
   ]
  },
  {
   "cell_type": "markdown",
   "metadata": {},
   "source": [
    "## States with Freeze and Thaw cycle"
   ]
  },
  {
   "cell_type": "code",
   "execution_count": 12,
   "metadata": {
    "ExecuteTime": {
     "end_time": "2021-09-07T06:49:22.850401Z",
     "start_time": "2021-09-07T06:49:22.823871Z"
    }
   },
   "outputs": [],
   "source": [
    "freeze_df = df[['state', 'freeze_thaw_cycle']]"
   ]
  },
  {
   "cell_type": "code",
   "execution_count": 13,
   "metadata": {
    "ExecuteTime": {
     "end_time": "2021-09-07T06:49:23.320033Z",
     "start_time": "2021-09-07T06:49:22.853947Z"
    }
   },
   "outputs": [
    {
     "name": "stderr",
     "output_type": "stream",
     "text": [
      "C:\\Users\\milen\\anaconda3\\lib\\site-packages\\pandas\\core\\frame.py:4163: SettingWithCopyWarning: \n",
      "A value is trying to be set on a copy of a slice from a DataFrame\n",
      "\n",
      "See the caveats in the documentation: https://pandas.pydata.org/pandas-docs/stable/user_guide/indexing.html#returning-a-view-versus-a-copy\n",
      "  return super().drop(\n"
     ]
    }
   ],
   "source": [
    "no_freeze_df = freeze_df.loc[freeze_df['freeze_thaw_cycle']==0.0]\n",
    "freeze_df.drop(no_freeze_df.index, axis=0, inplace=True)"
   ]
  },
  {
   "cell_type": "code",
   "execution_count": 14,
   "metadata": {
    "ExecuteTime": {
     "end_time": "2021-09-07T06:49:23.462034Z",
     "start_time": "2021-09-07T06:49:23.323035Z"
    }
   },
   "outputs": [],
   "source": [
    "frz_df = freeze_df.groupby('state').max().sort_values(by= 'freeze_thaw_cycle', ascending=False)[:15]\n",
    "frz_df = frz_df.reset_index()"
   ]
  },
  {
   "cell_type": "code",
   "execution_count": 15,
   "metadata": {
    "ExecuteTime": {
     "end_time": "2021-09-07T06:49:23.510035Z",
     "start_time": "2021-09-07T06:49:23.466038Z"
    }
   },
   "outputs": [
    {
     "data": {
      "text/html": [
       "<div>\n",
       "<style scoped>\n",
       "    .dataframe tbody tr th:only-of-type {\n",
       "        vertical-align: middle;\n",
       "    }\n",
       "\n",
       "    .dataframe tbody tr th {\n",
       "        vertical-align: top;\n",
       "    }\n",
       "\n",
       "    .dataframe thead th {\n",
       "        text-align: right;\n",
       "    }\n",
       "</style>\n",
       "<table border=\"1\" class=\"dataframe\">\n",
       "  <thead>\n",
       "    <tr style=\"text-align: right;\">\n",
       "      <th></th>\n",
       "      <th>state</th>\n",
       "      <th>freeze_thaw_cycle</th>\n",
       "    </tr>\n",
       "  </thead>\n",
       "  <tbody>\n",
       "    <tr>\n",
       "      <th>0</th>\n",
       "      <td>Colorado</td>\n",
       "      <td>177.0</td>\n",
       "    </tr>\n",
       "    <tr>\n",
       "      <th>1</th>\n",
       "      <td>New Mexico</td>\n",
       "      <td>167.0</td>\n",
       "    </tr>\n",
       "    <tr>\n",
       "      <th>2</th>\n",
       "      <td>Oregon</td>\n",
       "      <td>166.0</td>\n",
       "    </tr>\n",
       "    <tr>\n",
       "      <th>3</th>\n",
       "      <td>Utah</td>\n",
       "      <td>163.0</td>\n",
       "    </tr>\n",
       "    <tr>\n",
       "      <th>4</th>\n",
       "      <td>California</td>\n",
       "      <td>161.0</td>\n",
       "    </tr>\n",
       "  </tbody>\n",
       "</table>\n",
       "</div>"
      ],
      "text/plain": [
       "        state  freeze_thaw_cycle\n",
       "0    Colorado              177.0\n",
       "1  New Mexico              167.0\n",
       "2      Oregon              166.0\n",
       "3        Utah              163.0\n",
       "4  California              161.0"
      ]
     },
     "execution_count": 15,
     "metadata": {},
     "output_type": "execute_result"
    }
   ],
   "source": [
    "frz_df.head()"
   ]
  },
  {
   "cell_type": "code",
   "execution_count": 16,
   "metadata": {
    "ExecuteTime": {
     "end_time": "2021-09-07T06:49:24.406036Z",
     "start_time": "2021-09-07T06:49:23.514038Z"
    }
   },
   "outputs": [
    {
     "data": {
      "image/png": "[encoded data removed]",
      "text/plain": [
       "<Figure size 576x432 with 1 Axes>"
      ]
     },
     "metadata": {},
     "output_type": "display_data"
    }
   ],
   "source": [
    "fig = plt.figure(figsize=(8,6))\n",
    "sns.barplot(\n",
    "    data=frz_df,\n",
    "    y=\"state\", x=\"freeze_thaw_cycle\", color='b')\n",
    "plt.xlabel('Freeze Thaw cycle')\n",
    "plt.ylabel('States')\n",
    "plt.title('Top 15 States with high Freeze-Thaw cycle', fontsize=20);"
   ]
  },
  {
   "cell_type": "markdown",
   "metadata": {},
   "source": [
    "## States and their Bridge Condition"
   ]
  },
  {
   "cell_type": "markdown",
   "metadata": {},
   "source": [
    "### By Percentage "
   ]
  },
  {
   "cell_type": "code",
   "execution_count": 17,
   "metadata": {
    "ExecuteTime": {
     "end_time": "2021-09-07T06:49:24.470037Z",
     "start_time": "2021-09-07T06:49:24.410039Z"
    }
   },
   "outputs": [
    {
     "data": {
      "text/html": [
       "<div>\n",
       "<style scoped>\n",
       "    .dataframe tbody tr th:only-of-type {\n",
       "        vertical-align: middle;\n",
       "    }\n",
       "\n",
       "    .dataframe tbody tr th {\n",
       "        vertical-align: top;\n",
       "    }\n",
       "\n",
       "    .dataframe thead th {\n",
       "        text-align: right;\n",
       "    }\n",
       "</style>\n",
       "<table border=\"1\" class=\"dataframe\">\n",
       "  <thead>\n",
       "    <tr style=\"text-align: right;\">\n",
       "      <th></th>\n",
       "      <th>state</th>\n",
       "      <th>bridge_condition</th>\n",
       "    </tr>\n",
       "  </thead>\n",
       "  <tbody>\n",
       "    <tr>\n",
       "      <th>0</th>\n",
       "      <td>Alabama</td>\n",
       "      <td>Good</td>\n",
       "    </tr>\n",
       "    <tr>\n",
       "      <th>1</th>\n",
       "      <td>Alabama</td>\n",
       "      <td>Fair</td>\n",
       "    </tr>\n",
       "    <tr>\n",
       "      <th>2</th>\n",
       "      <td>Alabama</td>\n",
       "      <td>Good</td>\n",
       "    </tr>\n",
       "    <tr>\n",
       "      <th>3</th>\n",
       "      <td>Alabama</td>\n",
       "      <td>Fair</td>\n",
       "    </tr>\n",
       "    <tr>\n",
       "      <th>4</th>\n",
       "      <td>Alabama</td>\n",
       "      <td>Fair</td>\n",
       "    </tr>\n",
       "  </tbody>\n",
       "</table>\n",
       "</div>"
      ],
      "text/plain": [
       "     state bridge_condition\n",
       "0  Alabama             Good\n",
       "1  Alabama             Fair\n",
       "2  Alabama             Good\n",
       "3  Alabama             Fair\n",
       "4  Alabama             Fair"
      ]
     },
     "execution_count": 17,
     "metadata": {},
     "output_type": "execute_result"
    }
   ],
   "source": [
    "dff = df[['state', 'bridge_condition']]\n",
    "dff.head()"
   ]
  },
  {
   "cell_type": "code",
   "execution_count": 18,
   "metadata": {
    "ExecuteTime": {
     "end_time": "2021-09-07T06:49:24.816034Z",
     "start_time": "2021-09-07T06:49:24.474036Z"
    }
   },
   "outputs": [
    {
     "data": {
      "text/html": [
       "<div>\n",
       "<style scoped>\n",
       "    .dataframe tbody tr th:only-of-type {\n",
       "        vertical-align: middle;\n",
       "    }\n",
       "\n",
       "    .dataframe tbody tr th {\n",
       "        vertical-align: top;\n",
       "    }\n",
       "\n",
       "    .dataframe thead th {\n",
       "        text-align: right;\n",
       "    }\n",
       "</style>\n",
       "<table border=\"1\" class=\"dataframe\">\n",
       "  <thead>\n",
       "    <tr style=\"text-align: right;\">\n",
       "      <th></th>\n",
       "      <th>state</th>\n",
       "      <th>bridge_condition</th>\n",
       "      <th>perc_count</th>\n",
       "    </tr>\n",
       "  </thead>\n",
       "  <tbody>\n",
       "    <tr>\n",
       "      <th>0</th>\n",
       "      <td>Alabama</td>\n",
       "      <td>Fair</td>\n",
       "      <td>0.550587</td>\n",
       "    </tr>\n",
       "    <tr>\n",
       "      <th>1</th>\n",
       "      <td>Alabama</td>\n",
       "      <td>Good</td>\n",
       "      <td>0.410988</td>\n",
       "    </tr>\n",
       "    <tr>\n",
       "      <th>2</th>\n",
       "      <td>Alabama</td>\n",
       "      <td>Poor</td>\n",
       "      <td>0.038425</td>\n",
       "    </tr>\n",
       "    <tr>\n",
       "      <th>3</th>\n",
       "      <td>Alaska</td>\n",
       "      <td>Fair</td>\n",
       "      <td>0.482892</td>\n",
       "    </tr>\n",
       "    <tr>\n",
       "      <th>4</th>\n",
       "      <td>Alaska</td>\n",
       "      <td>Good</td>\n",
       "      <td>0.434474</td>\n",
       "    </tr>\n",
       "  </tbody>\n",
       "</table>\n",
       "</div>"
      ],
      "text/plain": [
       "     state bridge_condition  perc_count\n",
       "0  Alabama             Fair    0.550587\n",
       "1  Alabama             Good    0.410988\n",
       "2  Alabama             Poor    0.038425\n",
       "3   Alaska             Fair    0.482892\n",
       "4   Alaska             Good    0.434474"
      ]
     },
     "execution_count": 18,
     "metadata": {},
     "output_type": "execute_result"
    }
   ],
   "source": [
    "dfx = dff.groupby('state')['bridge_condition'].value_counts(normalize=True).reset_index(name='perc_count')\n",
    "dfx.head()"
   ]
  },
  {
   "cell_type": "code",
   "execution_count": 19,
   "metadata": {
    "ExecuteTime": {
     "end_time": "2021-09-07T06:49:24.848035Z",
     "start_time": "2021-09-07T06:49:24.819035Z"
    }
   },
   "outputs": [
    {
     "data": {
      "text/html": [
       "<div>\n",
       "<style scoped>\n",
       "    .dataframe tbody tr th:only-of-type {\n",
       "        vertical-align: middle;\n",
       "    }\n",
       "\n",
       "    .dataframe tbody tr th {\n",
       "        vertical-align: top;\n",
       "    }\n",
       "\n",
       "    .dataframe thead th {\n",
       "        text-align: right;\n",
       "    }\n",
       "</style>\n",
       "<table border=\"1\" class=\"dataframe\">\n",
       "  <thead>\n",
       "    <tr style=\"text-align: right;\">\n",
       "      <th></th>\n",
       "      <th>state</th>\n",
       "      <th>bridge_condition</th>\n",
       "      <th>perc_count</th>\n",
       "    </tr>\n",
       "  </thead>\n",
       "  <tbody>\n",
       "    <tr>\n",
       "      <th>146</th>\n",
       "      <td>West Virginia</td>\n",
       "      <td>Poor</td>\n",
       "      <td>0.212489</td>\n",
       "    </tr>\n",
       "    <tr>\n",
       "      <th>47</th>\n",
       "      <td>Iowa</td>\n",
       "      <td>Poor</td>\n",
       "      <td>0.190871</td>\n",
       "    </tr>\n",
       "    <tr>\n",
       "      <th>119</th>\n",
       "      <td>Rhode Island</td>\n",
       "      <td>Poor</td>\n",
       "      <td>0.182944</td>\n",
       "    </tr>\n",
       "    <tr>\n",
       "      <th>125</th>\n",
       "      <td>South Dakota</td>\n",
       "      <td>Poor</td>\n",
       "      <td>0.177805</td>\n",
       "    </tr>\n",
       "    <tr>\n",
       "      <th>116</th>\n",
       "      <td>Pennsylvania</td>\n",
       "      <td>Poor</td>\n",
       "      <td>0.143127</td>\n",
       "    </tr>\n",
       "    <tr>\n",
       "      <th>59</th>\n",
       "      <td>Maine</td>\n",
       "      <td>Poor</td>\n",
       "      <td>0.130526</td>\n",
       "    </tr>\n",
       "    <tr>\n",
       "      <th>56</th>\n",
       "      <td>Louisiana</td>\n",
       "      <td>Poor</td>\n",
       "      <td>0.123979</td>\n",
       "    </tr>\n",
       "    <tr>\n",
       "      <th>68</th>\n",
       "      <td>Michigan</td>\n",
       "      <td>Poor</td>\n",
       "      <td>0.109354</td>\n",
       "    </tr>\n",
       "    <tr>\n",
       "      <th>104</th>\n",
       "      <td>North Dakota</td>\n",
       "      <td>Poor</td>\n",
       "      <td>0.103464</td>\n",
       "    </tr>\n",
       "    <tr>\n",
       "      <th>110</th>\n",
       "      <td>Oklahoma</td>\n",
       "      <td>Poor</td>\n",
       "      <td>0.100594</td>\n",
       "    </tr>\n",
       "  </tbody>\n",
       "</table>\n",
       "</div>"
      ],
      "text/plain": [
       "             state bridge_condition  perc_count\n",
       "146  West Virginia             Poor    0.212489\n",
       "47            Iowa             Poor    0.190871\n",
       "119   Rhode Island             Poor    0.182944\n",
       "125   South Dakota             Poor    0.177805\n",
       "116   Pennsylvania             Poor    0.143127\n",
       "59           Maine             Poor    0.130526\n",
       "56       Louisiana             Poor    0.123979\n",
       "68        Michigan             Poor    0.109354\n",
       "104   North Dakota             Poor    0.103464\n",
       "110       Oklahoma             Poor    0.100594"
      ]
     },
     "execution_count": 19,
     "metadata": {},
     "output_type": "execute_result"
    }
   ],
   "source": [
    "poor_df = dfx.loc[dfx['bridge_condition']=='Poor'].sort_values(by='perc_count', ascending=False)[:10]\n",
    "poor_df"
   ]
  },
  {
   "cell_type": "code",
   "execution_count": 20,
   "metadata": {
    "ExecuteTime": {
     "end_time": "2021-09-07T06:49:25.585614Z",
     "start_time": "2021-09-07T06:49:24.852038Z"
    }
   },
   "outputs": [
    {
     "data": {
      "image/png": "[encoded data removed]",
      "text/plain": [
       "<Figure size 864x576 with 1 Axes>"
      ]
     },
     "metadata": {},
     "output_type": "display_data"
    }
   ],
   "source": [
    "plt.figure(figsize=(12,8))\n",
    "sns.barplot(y=poor_df['state'], x=poor_df['perc_count']*100, color='r')\n",
    "plt.xlabel('Poor condition %')\n",
    "plt.ylabel('States')\n",
    "plt.title('Top 10 States with Poor Bridge Condition(%)', fontsize=20);"
   ]
  },
  {
   "cell_type": "code",
   "execution_count": 21,
   "metadata": {
    "ExecuteTime": {
     "end_time": "2021-09-07T06:49:25.616614Z",
     "start_time": "2021-09-07T06:49:25.589616Z"
    }
   },
   "outputs": [
    {
     "data": {
      "text/html": [
       "<div>\n",
       "<style scoped>\n",
       "    .dataframe tbody tr th:only-of-type {\n",
       "        vertical-align: middle;\n",
       "    }\n",
       "\n",
       "    .dataframe tbody tr th {\n",
       "        vertical-align: top;\n",
       "    }\n",
       "\n",
       "    .dataframe thead th {\n",
       "        text-align: right;\n",
       "    }\n",
       "</style>\n",
       "<table border=\"1\" class=\"dataframe\">\n",
       "  <thead>\n",
       "    <tr style=\"text-align: right;\">\n",
       "      <th></th>\n",
       "      <th>state</th>\n",
       "      <th>bridge_condition</th>\n",
       "      <th>perc_count</th>\n",
       "    </tr>\n",
       "  </thead>\n",
       "  <tbody>\n",
       "    <tr>\n",
       "      <th>33</th>\n",
       "      <td>Hawaii</td>\n",
       "      <td>Fair</td>\n",
       "      <td>0.735079</td>\n",
       "    </tr>\n",
       "    <tr>\n",
       "      <th>24</th>\n",
       "      <td>District of Columbia</td>\n",
       "      <td>Fair</td>\n",
       "      <td>0.716129</td>\n",
       "    </tr>\n",
       "    <tr>\n",
       "      <th>63</th>\n",
       "      <td>Massachusetts</td>\n",
       "      <td>Fair</td>\n",
       "      <td>0.657093</td>\n",
       "    </tr>\n",
       "    <tr>\n",
       "      <th>90</th>\n",
       "      <td>New Jersey</td>\n",
       "      <td>Fair</td>\n",
       "      <td>0.656988</td>\n",
       "    </tr>\n",
       "    <tr>\n",
       "      <th>18</th>\n",
       "      <td>Connecticut</td>\n",
       "      <td>Fair</td>\n",
       "      <td>0.654053</td>\n",
       "    </tr>\n",
       "    <tr>\n",
       "      <th>21</th>\n",
       "      <td>Delaware</td>\n",
       "      <td>Fair</td>\n",
       "      <td>0.651807</td>\n",
       "    </tr>\n",
       "    <tr>\n",
       "      <th>36</th>\n",
       "      <td>Idaho</td>\n",
       "      <td>Fair</td>\n",
       "      <td>0.648389</td>\n",
       "    </tr>\n",
       "    <tr>\n",
       "      <th>150</th>\n",
       "      <td>Wyoming</td>\n",
       "      <td>Fair</td>\n",
       "      <td>0.647251</td>\n",
       "    </tr>\n",
       "    <tr>\n",
       "      <th>117</th>\n",
       "      <td>Rhode Island</td>\n",
       "      <td>Fair</td>\n",
       "      <td>0.634113</td>\n",
       "    </tr>\n",
       "    <tr>\n",
       "      <th>51</th>\n",
       "      <td>Kentucky</td>\n",
       "      <td>Fair</td>\n",
       "      <td>0.632639</td>\n",
       "    </tr>\n",
       "  </tbody>\n",
       "</table>\n",
       "</div>"
      ],
      "text/plain": [
       "                    state bridge_condition  perc_count\n",
       "33                 Hawaii             Fair    0.735079\n",
       "24   District of Columbia             Fair    0.716129\n",
       "63          Massachusetts             Fair    0.657093\n",
       "90             New Jersey             Fair    0.656988\n",
       "18            Connecticut             Fair    0.654053\n",
       "21               Delaware             Fair    0.651807\n",
       "36                  Idaho             Fair    0.648389\n",
       "150               Wyoming             Fair    0.647251\n",
       "117          Rhode Island             Fair    0.634113\n",
       "51               Kentucky             Fair    0.632639"
      ]
     },
     "execution_count": 21,
     "metadata": {},
     "output_type": "execute_result"
    }
   ],
   "source": [
    "fair_df = dfx.loc[dfx['bridge_condition']=='Fair'].sort_values(by='perc_count', ascending=False)[:10]\n",
    "fair_df"
   ]
  },
  {
   "cell_type": "code",
   "execution_count": 22,
   "metadata": {
    "ExecuteTime": {
     "end_time": "2021-09-07T06:49:26.497614Z",
     "start_time": "2021-09-07T06:49:25.620615Z"
    }
   },
   "outputs": [
    {
     "data": {
      "image/png": "[encoded data removed]",
      "text/plain": [
       "<Figure size 864x576 with 1 Axes>"
      ]
     },
     "metadata": {},
     "output_type": "display_data"
    }
   ],
   "source": [
    "plt.figure(figsize=(12,8))\n",
    "sns.barplot(y=fair_df['state'], x=fair_df['perc_count'], color='b')\n",
    "plt.xlabel('Percentage')\n",
    "plt.ylabel('States')\n",
    "plt.title('Top 10 States with Fair Bridge Condition(%)', fontsize=20);"
   ]
  },
  {
   "cell_type": "code",
   "execution_count": 23,
   "metadata": {
    "ExecuteTime": {
     "end_time": "2021-09-07T06:49:27.439790Z",
     "start_time": "2021-09-07T06:49:26.508616Z"
    }
   },
   "outputs": [
    {
     "data": {
      "image/png": "[encoded data removed]",
      "text/plain": [
       "<Figure size 432x576 with 1 Axes>"
      ]
     },
     "metadata": {},
     "output_type": "display_data"
    }
   ],
   "source": [
    "# Initialize the matplotlib figure\n",
    "f, ax = plt.subplots(figsize=(6, 8))\n",
    "\n",
    "\n",
    "# Plot the fair bridge_condition\n",
    "sns.set_color_codes(\"pastel\")\n",
    "sns.barplot(x=\"perc_count\", y=\"state\", data=fair_df,\n",
    "            label=\"Fair\", color=\"b\")\n",
    "\n",
    "# Plot the poor bridge_condition\n",
    "sns.set_color_codes(\"muted\")\n",
    "sns.barplot(x=\"perc_count\", y=\"state\", data=poor_df,\n",
    "            label=\"Poor\", color=\"r\")\n",
    "\n",
    "# Add a legend and informative axis label\n",
    "ax.legend(ncol=2, loc=\"lower right\", frameon=True)\n",
    "ax.set(xlim=(0, 1), ylabel=\"States\", xlabel=\"Percentage of Bridge count\")\n",
    "plt.title('Top 10 States with Fair & Poor Conditions(%)', fontsize=20)\n",
    "sns.despine(left=True, bottom=True)"
   ]
  },
  {
   "cell_type": "code",
   "execution_count": null,
   "metadata": {},
   "outputs": [],
   "source": []
  },
  {
   "cell_type": "markdown",
   "metadata": {},
   "source": [
    "### By Number of bridges"
   ]
  },
  {
   "cell_type": "code",
   "execution_count": 24,
   "metadata": {
    "ExecuteTime": {
     "end_time": "2021-09-07T06:49:27.831789Z",
     "start_time": "2021-09-07T06:49:27.445791Z"
    }
   },
   "outputs": [
    {
     "data": {
      "text/html": [
       "<div>\n",
       "<style scoped>\n",
       "    .dataframe tbody tr th:only-of-type {\n",
       "        vertical-align: middle;\n",
       "    }\n",
       "\n",
       "    .dataframe tbody tr th {\n",
       "        vertical-align: top;\n",
       "    }\n",
       "\n",
       "    .dataframe thead th {\n",
       "        text-align: right;\n",
       "    }\n",
       "</style>\n",
       "<table border=\"1\" class=\"dataframe\">\n",
       "  <thead>\n",
       "    <tr style=\"text-align: right;\">\n",
       "      <th></th>\n",
       "      <th>state</th>\n",
       "      <th>bridge_condition</th>\n",
       "      <th>condition_count</th>\n",
       "    </tr>\n",
       "  </thead>\n",
       "  <tbody>\n",
       "    <tr>\n",
       "      <th>0</th>\n",
       "      <td>Texas</td>\n",
       "      <td>Good</td>\n",
       "      <td>27657</td>\n",
       "    </tr>\n",
       "    <tr>\n",
       "      <th>1</th>\n",
       "      <td>Texas</td>\n",
       "      <td>Fair</td>\n",
       "      <td>26070</td>\n",
       "    </tr>\n",
       "    <tr>\n",
       "      <th>2</th>\n",
       "      <td>Ohio</td>\n",
       "      <td>Good</td>\n",
       "      <td>16008</td>\n",
       "    </tr>\n",
       "    <tr>\n",
       "      <th>3</th>\n",
       "      <td>Illinois</td>\n",
       "      <td>Good</td>\n",
       "      <td>12325</td>\n",
       "    </tr>\n",
       "    <tr>\n",
       "      <th>4</th>\n",
       "      <td>California</td>\n",
       "      <td>Good</td>\n",
       "      <td>12240</td>\n",
       "    </tr>\n",
       "  </tbody>\n",
       "</table>\n",
       "</div>"
      ],
      "text/plain": [
       "        state bridge_condition  condition_count\n",
       "0       Texas             Good            27657\n",
       "1       Texas             Fair            26070\n",
       "2        Ohio             Good            16008\n",
       "3    Illinois             Good            12325\n",
       "4  California             Good            12240"
      ]
     },
     "execution_count": 24,
     "metadata": {},
     "output_type": "execute_result"
    }
   ],
   "source": [
    "df_count = dff.groupby('state')['bridge_condition'].value_counts().sort_values(ascending=False).reset_index(name='condition_count')\n",
    "df_count.head()"
   ]
  },
  {
   "cell_type": "code",
   "execution_count": 25,
   "metadata": {
    "ExecuteTime": {
     "end_time": "2021-09-07T06:49:27.862842Z",
     "start_time": "2021-09-07T06:49:27.838792Z"
    }
   },
   "outputs": [
    {
     "data": {
      "text/html": [
       "<div>\n",
       "<style scoped>\n",
       "    .dataframe tbody tr th:only-of-type {\n",
       "        vertical-align: middle;\n",
       "    }\n",
       "\n",
       "    .dataframe tbody tr th {\n",
       "        vertical-align: top;\n",
       "    }\n",
       "\n",
       "    .dataframe thead th {\n",
       "        text-align: right;\n",
       "    }\n",
       "</style>\n",
       "<table border=\"1\" class=\"dataframe\">\n",
       "  <thead>\n",
       "    <tr style=\"text-align: right;\">\n",
       "      <th></th>\n",
       "      <th>state</th>\n",
       "      <th>bridge_condition</th>\n",
       "      <th>condition_count</th>\n",
       "    </tr>\n",
       "  </thead>\n",
       "  <tbody>\n",
       "    <tr>\n",
       "      <th>51</th>\n",
       "      <td>Iowa</td>\n",
       "      <td>Poor</td>\n",
       "      <td>4533</td>\n",
       "    </tr>\n",
       "    <tr>\n",
       "      <th>66</th>\n",
       "      <td>Pennsylvania</td>\n",
       "      <td>Poor</td>\n",
       "      <td>2799</td>\n",
       "    </tr>\n",
       "    <tr>\n",
       "      <th>70</th>\n",
       "      <td>Oklahoma</td>\n",
       "      <td>Poor</td>\n",
       "      <td>2319</td>\n",
       "    </tr>\n",
       "    <tr>\n",
       "      <th>72</th>\n",
       "      <td>Illinois</td>\n",
       "      <td>Poor</td>\n",
       "      <td>2284</td>\n",
       "    </tr>\n",
       "    <tr>\n",
       "      <th>74</th>\n",
       "      <td>Missouri</td>\n",
       "      <td>Poor</td>\n",
       "      <td>2128</td>\n",
       "    </tr>\n",
       "  </tbody>\n",
       "</table>\n",
       "</div>"
      ],
      "text/plain": [
       "           state bridge_condition  condition_count\n",
       "51          Iowa             Poor             4533\n",
       "66  Pennsylvania             Poor             2799\n",
       "70      Oklahoma             Poor             2319\n",
       "72      Illinois             Poor             2284\n",
       "74      Missouri             Poor             2128"
      ]
     },
     "execution_count": 25,
     "metadata": {},
     "output_type": "execute_result"
    }
   ],
   "source": [
    "poor_count = df_count.loc[df_count['bridge_condition']=='Poor'].sort_values(by='condition_count', ascending=False)[:10]\n",
    "poor_count.head()"
   ]
  },
  {
   "cell_type": "code",
   "execution_count": 26,
   "metadata": {
    "ExecuteTime": {
     "end_time": "2021-09-07T06:49:28.572062Z",
     "start_time": "2021-09-07T06:49:27.866367Z"
    }
   },
   "outputs": [
    {
     "data": {
      "image/png": "[encoded data removed]",
      "text/plain": [
       "<Figure size 864x576 with 1 Axes>"
      ]
     },
     "metadata": {},
     "output_type": "display_data"
    }
   ],
   "source": [
    "plt.figure(figsize=(12,8))\n",
    "sns.barplot(y=poor_count['state'], x=poor_count['condition_count'], color='r')\n",
    "plt.xlabel('Number of bridges')\n",
    "plt.ylabel('States')\n",
    "plt.title('Top 10 States with Poor Bridge Condition', fontsize=20);"
   ]
  },
  {
   "cell_type": "code",
   "execution_count": 27,
   "metadata": {
    "ExecuteTime": {
     "end_time": "2021-09-07T06:49:28.604008Z",
     "start_time": "2021-09-07T06:49:28.575942Z"
    }
   },
   "outputs": [
    {
     "data": {
      "text/html": [
       "<div>\n",
       "<style scoped>\n",
       "    .dataframe tbody tr th:only-of-type {\n",
       "        vertical-align: middle;\n",
       "    }\n",
       "\n",
       "    .dataframe tbody tr th {\n",
       "        vertical-align: top;\n",
       "    }\n",
       "\n",
       "    .dataframe thead th {\n",
       "        text-align: right;\n",
       "    }\n",
       "</style>\n",
       "<table border=\"1\" class=\"dataframe\">\n",
       "  <thead>\n",
       "    <tr style=\"text-align: right;\">\n",
       "      <th></th>\n",
       "      <th>state</th>\n",
       "      <th>bridge_condition</th>\n",
       "      <th>condition_count</th>\n",
       "    </tr>\n",
       "  </thead>\n",
       "  <tbody>\n",
       "    <tr>\n",
       "      <th>1</th>\n",
       "      <td>Texas</td>\n",
       "      <td>Fair</td>\n",
       "      <td>26070</td>\n",
       "    </tr>\n",
       "    <tr>\n",
       "      <th>6</th>\n",
       "      <td>Missouri</td>\n",
       "      <td>Fair</td>\n",
       "      <td>12082</td>\n",
       "    </tr>\n",
       "    <tr>\n",
       "      <th>7</th>\n",
       "      <td>Illinois</td>\n",
       "      <td>Fair</td>\n",
       "      <td>10936</td>\n",
       "    </tr>\n",
       "    <tr>\n",
       "      <th>8</th>\n",
       "      <td>Oklahoma</td>\n",
       "      <td>Fair</td>\n",
       "      <td>10851</td>\n",
       "    </tr>\n",
       "    <tr>\n",
       "      <th>9</th>\n",
       "      <td>California</td>\n",
       "      <td>Fair</td>\n",
       "      <td>10764</td>\n",
       "    </tr>\n",
       "  </tbody>\n",
       "</table>\n",
       "</div>"
      ],
      "text/plain": [
       "        state bridge_condition  condition_count\n",
       "1       Texas             Fair            26070\n",
       "6    Missouri             Fair            12082\n",
       "7    Illinois             Fair            10936\n",
       "8    Oklahoma             Fair            10851\n",
       "9  California             Fair            10764"
      ]
     },
     "execution_count": 27,
     "metadata": {},
     "output_type": "execute_result"
    }
   ],
   "source": [
    "fair_count = df_count.loc[df_count['bridge_condition']=='Fair'].sort_values(by='condition_count', ascending=False)[:10]\n",
    "fair_count.head()"
   ]
  },
  {
   "cell_type": "code",
   "execution_count": 28,
   "metadata": {
    "ExecuteTime": {
     "end_time": "2021-09-07T06:49:29.237595Z",
     "start_time": "2021-09-07T06:49:28.608543Z"
    }
   },
   "outputs": [
    {
     "data": {
      "image/png": "[encoded data removed]",
      "text/plain": [
       "<Figure size 864x576 with 1 Axes>"
      ]
     },
     "metadata": {},
     "output_type": "display_data"
    }
   ],
   "source": [
    "plt.figure(figsize=(12,8))\n",
    "sns.barplot(y=fair_count['state'], x=fair_count['condition_count'], color='r')\n",
    "plt.xlabel('Number of bridges')\n",
    "plt.ylabel('States')\n",
    "plt.title('Top 20 States with Fair Bridge Condition', fontsize=20);"
   ]
  },
  {
   "cell_type": "code",
   "execution_count": 29,
   "metadata": {
    "ExecuteTime": {
     "end_time": "2021-09-07T06:49:30.137165Z",
     "start_time": "2021-09-07T06:49:29.241119Z"
    }
   },
   "outputs": [
    {
     "data": {
      "image/png": "[encoded data removed]",
      "text/plain": [
       "<Figure size 432x864 with 1 Axes>"
      ]
     },
     "metadata": {},
     "output_type": "display_data"
    }
   ],
   "source": [
    "# Initialize the matplotlib figure\n",
    "f, ax = plt.subplots(figsize=(6, 12))\n",
    "\n",
    "\n",
    "# Plot the fair bridge_condition\n",
    "sns.set_color_codes(\"pastel\")\n",
    "sns.barplot(x=\"condition_count\", y=\"state\", data=fair_count,\n",
    "            label=\"Fair\", color=\"b\")\n",
    "\n",
    "# Plot the poor bridge_condition\n",
    "sns.set_color_codes(\"muted\")\n",
    "sns.barplot(x=\"condition_count\", y=\"state\", data=poor_count,\n",
    "            label=\"Poor\", color=\"r\")\n",
    "\n",
    "# Add a legend and informative axis label\n",
    "ax.legend(ncol=2, loc=\"lower right\", frameon=True)\n",
    "ax.set(xlim=(0, 30000), ylabel=\"States\", xlabel=\"Number of Bridges\")\n",
    "plt.title('Top 10 States with Fair & Poor Conditions', fontsize=20)\n",
    "sns.despine(left=True, bottom=True)"
   ]
  },
  {
   "cell_type": "markdown",
   "metadata": {},
   "source": [
    "# Folium Heatmap"
   ]
  },
  {
   "cell_type": "code",
   "execution_count": null,
   "metadata": {},
   "outputs": [],
   "source": []
  },
  {
   "cell_type": "code",
   "execution_count": 30,
   "metadata": {
    "ExecuteTime": {
     "end_time": "2021-09-07T06:49:33.249308Z",
     "start_time": "2021-09-07T06:49:30.141167Z"
    }
   },
   "outputs": [],
   "source": [
    "import folium\n",
    "from folium.plugins import HeatMap"
   ]
  },
  {
   "cell_type": "code",
   "execution_count": 31,
   "metadata": {
    "ExecuteTime": {
     "end_time": "2021-09-07T06:49:34.195834Z",
     "start_time": "2021-09-07T06:49:33.260313Z"
    }
   },
   "outputs": [
    {
     "data": {
      "text/html": [
       "<div>\n",
       "<style scoped>\n",
       "    .dataframe tbody tr th:only-of-type {\n",
       "        vertical-align: middle;\n",
       "    }\n",
       "\n",
       "    .dataframe tbody tr th {\n",
       "        vertical-align: top;\n",
       "    }\n",
       "\n",
       "    .dataframe thead th {\n",
       "        text-align: right;\n",
       "    }\n",
       "</style>\n",
       "<table border=\"1\" class=\"dataframe\">\n",
       "  <thead>\n",
       "    <tr style=\"text-align: right;\">\n",
       "      <th></th>\n",
       "      <th>state</th>\n",
       "      <th>str_id</th>\n",
       "      <th>deck_type</th>\n",
       "      <th>wearing_type</th>\n",
       "      <th>membrane_type</th>\n",
       "      <th>deck_protection</th>\n",
       "      <th>toll</th>\n",
       "      <th>freeze_thaw_cycle</th>\n",
       "      <th>snowfall_days</th>\n",
       "      <th>inventory_class_route</th>\n",
       "      <th>...</th>\n",
       "      <th>yr_reconst</th>\n",
       "      <th>skew</th>\n",
       "      <th>max_span</th>\n",
       "      <th>bridge_width</th>\n",
       "      <th>deck_width</th>\n",
       "      <th>super_st_condition</th>\n",
       "      <th>sub_st_condition</th>\n",
       "      <th>deck_condition</th>\n",
       "      <th>avg_daily_trfic</th>\n",
       "      <th>avg_truck_trfc</th>\n",
       "    </tr>\n",
       "  </thead>\n",
       "  <tbody>\n",
       "    <tr>\n",
       "      <th>15</th>\n",
       "      <td>Alabama</td>\n",
       "      <td>013329</td>\n",
       "      <td>N</td>\n",
       "      <td>N</td>\n",
       "      <td>N</td>\n",
       "      <td>N</td>\n",
       "      <td>3.0</td>\n",
       "      <td>14.0</td>\n",
       "      <td>0.0</td>\n",
       "      <td>6.0</td>\n",
       "      <td>...</td>\n",
       "      <td>0.0</td>\n",
       "      <td>30.0</td>\n",
       "      <td>13.8</td>\n",
       "      <td>0.0</td>\n",
       "      <td>0.0</td>\n",
       "      <td>NaN</td>\n",
       "      <td>NaN</td>\n",
       "      <td>NaN</td>\n",
       "      <td>1820.0</td>\n",
       "      <td>9.0</td>\n",
       "    </tr>\n",
       "    <tr>\n",
       "      <th>16</th>\n",
       "      <td>Alabama</td>\n",
       "      <td>009759</td>\n",
       "      <td>N</td>\n",
       "      <td>6</td>\n",
       "      <td>0</td>\n",
       "      <td>0</td>\n",
       "      <td>3.0</td>\n",
       "      <td>14.0</td>\n",
       "      <td>0.0</td>\n",
       "      <td>8.0</td>\n",
       "      <td>...</td>\n",
       "      <td>0.0</td>\n",
       "      <td>0.0</td>\n",
       "      <td>12.1</td>\n",
       "      <td>0.0</td>\n",
       "      <td>0.0</td>\n",
       "      <td>NaN</td>\n",
       "      <td>NaN</td>\n",
       "      <td>NaN</td>\n",
       "      <td>295.0</td>\n",
       "      <td>15.0</td>\n",
       "    </tr>\n",
       "    <tr>\n",
       "      <th>17</th>\n",
       "      <td>Alabama</td>\n",
       "      <td>017064</td>\n",
       "      <td>2</td>\n",
       "      <td>0</td>\n",
       "      <td>0</td>\n",
       "      <td>0</td>\n",
       "      <td>3.0</td>\n",
       "      <td>14.0</td>\n",
       "      <td>0.0</td>\n",
       "      <td>7.0</td>\n",
       "      <td>...</td>\n",
       "      <td>0.0</td>\n",
       "      <td>0.0</td>\n",
       "      <td>34.1</td>\n",
       "      <td>28.5</td>\n",
       "      <td>30.8</td>\n",
       "      <td>7.0</td>\n",
       "      <td>6.0</td>\n",
       "      <td>7.0</td>\n",
       "      <td>775.0</td>\n",
       "      <td>30.0</td>\n",
       "    </tr>\n",
       "    <tr>\n",
       "      <th>18</th>\n",
       "      <td>Alabama</td>\n",
       "      <td>019836</td>\n",
       "      <td>2</td>\n",
       "      <td>0</td>\n",
       "      <td>0</td>\n",
       "      <td>0</td>\n",
       "      <td>3.0</td>\n",
       "      <td>14.0</td>\n",
       "      <td>0.0</td>\n",
       "      <td>8.0</td>\n",
       "      <td>...</td>\n",
       "      <td>0.0</td>\n",
       "      <td>0.0</td>\n",
       "      <td>34.1</td>\n",
       "      <td>27.9</td>\n",
       "      <td>27.9</td>\n",
       "      <td>8.0</td>\n",
       "      <td>8.0</td>\n",
       "      <td>8.0</td>\n",
       "      <td>95.0</td>\n",
       "      <td>0.0</td>\n",
       "    </tr>\n",
       "    <tr>\n",
       "      <th>19</th>\n",
       "      <td>Alabama</td>\n",
       "      <td>006867</td>\n",
       "      <td>N</td>\n",
       "      <td>6</td>\n",
       "      <td>0</td>\n",
       "      <td>0</td>\n",
       "      <td>3.0</td>\n",
       "      <td>14.0</td>\n",
       "      <td>0.0</td>\n",
       "      <td>8.0</td>\n",
       "      <td>...</td>\n",
       "      <td>0.0</td>\n",
       "      <td>0.0</td>\n",
       "      <td>14.1</td>\n",
       "      <td>0.0</td>\n",
       "      <td>0.0</td>\n",
       "      <td>NaN</td>\n",
       "      <td>NaN</td>\n",
       "      <td>NaN</td>\n",
       "      <td>250.0</td>\n",
       "      <td>7.0</td>\n",
       "    </tr>\n",
       "  </tbody>\n",
       "</table>\n",
       "<p>5 rows × 38 columns</p>\n",
       "</div>"
      ],
      "text/plain": [
       "      state  str_id deck_type wearing_type membrane_type deck_protection  \\\n",
       "15  Alabama  013329         N            N             N               N   \n",
       "16  Alabama  009759         N            6             0               0   \n",
       "17  Alabama  017064         2            0             0               0   \n",
       "18  Alabama  019836         2            0             0               0   \n",
       "19  Alabama  006867         N            6             0               0   \n",
       "\n",
       "    toll  freeze_thaw_cycle  snowfall_days  inventory_class_route  ...  \\\n",
       "15   3.0               14.0            0.0                    6.0  ...   \n",
       "16   3.0               14.0            0.0                    8.0  ...   \n",
       "17   3.0               14.0            0.0                    7.0  ...   \n",
       "18   3.0               14.0            0.0                    8.0  ...   \n",
       "19   3.0               14.0            0.0                    8.0  ...   \n",
       "\n",
       "    yr_reconst  skew  max_span  bridge_width  deck_width  super_st_condition  \\\n",
       "15         0.0  30.0      13.8           0.0         0.0                 NaN   \n",
       "16         0.0   0.0      12.1           0.0         0.0                 NaN   \n",
       "17         0.0   0.0      34.1          28.5        30.8                 7.0   \n",
       "18         0.0   0.0      34.1          27.9        27.9                 8.0   \n",
       "19         0.0   0.0      14.1           0.0         0.0                 NaN   \n",
       "\n",
       "    sub_st_condition  deck_condition  avg_daily_trfic avg_truck_trfc  \n",
       "15               NaN             NaN           1820.0            9.0  \n",
       "16               NaN             NaN            295.0           15.0  \n",
       "17               6.0             7.0            775.0           30.0  \n",
       "18               8.0             8.0             95.0            0.0  \n",
       "19               NaN             NaN            250.0            7.0  \n",
       "\n",
       "[5 rows x 38 columns]"
      ]
     },
     "execution_count": 31,
     "metadata": {},
     "output_type": "execute_result"
    }
   ],
   "source": [
    "# Replace target values - there are three classes\n",
    "df2 = df.replace({'bridge_condition': {'Poor' : 2, \n",
    "                                'Fair' : 1, \n",
    "                                'Good' : 0}})\n",
    "# Check to see that it worked\n",
    "df2.iloc[15:20]"
   ]
  },
  {
   "cell_type": "code",
   "execution_count": 32,
   "metadata": {
    "ExecuteTime": {
     "end_time": "2021-09-07T06:49:34.211362Z",
     "start_time": "2021-09-07T06:49:34.199838Z"
    }
   },
   "outputs": [
    {
     "data": {
      "text/plain": [
       "(592756, 38)"
      ]
     },
     "execution_count": 32,
     "metadata": {},
     "output_type": "execute_result"
    }
   ],
   "source": [
    "df2.shape"
   ]
  },
  {
   "cell_type": "code",
   "execution_count": 33,
   "metadata": {
    "ExecuteTime": {
     "end_time": "2021-09-07T06:49:34.259418Z",
     "start_time": "2021-09-07T06:49:34.214890Z"
    }
   },
   "outputs": [],
   "source": [
    "# Make an empty map\n",
    "m = folium.Map(location=[40,-100], tiles=\"OpenStreetMap\", zoom_start=4)\n",
    "\n",
    "# Show the map\n",
    "# m"
   ]
  },
  {
   "cell_type": "markdown",
   "metadata": {},
   "source": [
    "## By state"
   ]
  },
  {
   "cell_type": "code",
   "execution_count": 34,
   "metadata": {
    "ExecuteTime": {
     "end_time": "2021-09-07T06:49:35.333053Z",
     "start_time": "2021-09-07T06:49:34.263420Z"
    }
   },
   "outputs": [
    {
     "data": {
      "text/plain": [
       "[[33.10078, -86.73788, 1.0],\n",
       " [59.44058, -143.5963, 1.0],\n",
       " [33.4656, -111.8803, 0.0],\n",
       " [35.047259999999994, -92.46783, 1.0],\n",
       " [36.754575, -120.20894999999999, 0.0],\n",
       " [39.59688, -104.96555000000001, 1.0],\n",
       " [41.547574999999995, -72.829515, 1.0],\n",
       " [39.495025, -75.58209, 1.0],\n",
       " [38.89227, -77.0123, 1.0],\n",
       " [28.097705, -81.73315500000001, 0.0],\n",
       " [33.256820000000005, -83.90822, 0.0],\n",
       " [21.34625, -157.8547, 1.0],\n",
       " [43.725170000000006, -115.30425, 1.0],\n",
       " [40.20565, -88.98392, 1.0],\n",
       " [39.841629999999995, -86.22824999999999, 1.0],\n",
       " [42.03548, -93.30979, 1.0],\n",
       " [38.5375, -97.24078, 0.0],\n",
       " [37.53889, -85.01527, 1.0],\n",
       " [30.8242, -92.1362, 1.0],\n",
       " [44.48111, -69.85784, 1.0],\n",
       " [39.29555, -76.82200999999998, 1.0],\n",
       " [42.32037, -71.44185, 1.0],\n",
       " [42.91239, -84.39364, 1.0],\n",
       " [44.89703, -93.97028, 0.0],\n",
       " [32.70944, -89.52905, 0.0],\n",
       " [38.70211, -92.847, 1.0],\n",
       " [46.868945, -111.2556, 1.0],\n",
       " [41.1198, -97.5007, 0.0],\n",
       " [36.66074, -115.2626, 1.0],\n",
       " [43.38619, -71.63842000000001, 0.0],\n",
       " [40.57264, -74.46401, 1.0],\n",
       " [35.103790000000004, -106.54945000000001, 1.0],\n",
       " [42.4633, -75.30894, 1.0],\n",
       " [35.64015, -80.117685, 1.0],\n",
       " [47.344435000000004, -99.118335, 0.0],\n",
       " [40.324915000000004, -82.940635, 0.0],\n",
       " [35.51584000000001, -97.26927, 1.0],\n",
       " [44.521694999999994, -122.86165, 1.0],\n",
       " [40.494405, -76.961725, 1.0],\n",
       " [41.78879000000001, -71.46864000000002, 1.0],\n",
       " [34.21083, -81.09361, 1.0],\n",
       " [44.06886, -98.14093, 1.0],\n",
       " [35.873035, -86.70748499999999, 1.0],\n",
       " [31.2618, -97.17084, 0.0],\n",
       " [40.07501, -111.849, 1.0],\n",
       " [43.97481, -72.66531, 0.0],\n",
       " [37.39816, -78.47242, 1.0],\n",
       " [47.23533, -121.9695, 0.0],\n",
       " [38.67142, -80.939205, 1.0],\n",
       " [44.06872, -89.78878, 0.0],\n",
       " [42.863569999999996, -106.68555, 1.0]]"
      ]
     },
     "execution_count": 34,
     "metadata": {},
     "output_type": "execute_result"
    }
   ],
   "source": [
    "data = df2.groupby('state').median()[['latitude', 'longitude', 'bridge_condition']].values.tolist()\n",
    "data"
   ]
  },
  {
   "cell_type": "code",
   "execution_count": 35,
   "metadata": {
    "ExecuteTime": {
     "end_time": "2021-09-07T06:49:35.364704Z",
     "start_time": "2021-09-07T06:49:35.337059Z"
    },
    "scrolled": false
   },
   "outputs": [
    {
     "data": {
      "text/html": [
       "<div style=\"width:100%;\"><div style=\"position:relative;width:100%;height:0;padding-bottom:60%;\"><span style=\"color:#565656\">Make this Notebook Trusted to load map: File -> Trust Notebook</span><iframe src=\"about:blank\" style=\"position:absolute;width:100%;height:100%;left:0;top:0;border:none !important;\" data-html=%3C%21DOCTYPE%20html%3E%0A%3Chead%3E%20%20%20%20%0A%20%20%20%20%3Cmeta%20http-equiv%3D%22content-type%22%20content%3D%22text/html%3B%20charset%3DUTF-8%22%20/%3E%0A%20%20%20%20%0A%20%20%20%20%20%20%20%20%3Cscript%3E%0A%20%20%20%20%20%20%20%20%20%20%20%20L_NO_TOUCH%20%3D%20false%3B%0A%20%20%20%20%20%20%20%20%20%20%20%20L_DISABLE_3D%20%3D%20false%3B%0A%20%20%20%20%20%20%20%20%3C/script%3E%0A%20%20%20%20%0A%20%20%20%20%3Cstyle%3Ehtml%2C%20body%20%7Bwidth%3A%20100%25%3Bheight%3A%20100%25%3Bmargin%3A%200%3Bpadding%3A%200%3B%7D%3C/style%3E%0A%20%20%20%20%3Cstyle%3E%23map%20%7Bposition%3Aabsolute%3Btop%3A0%3Bbottom%3A0%3Bright%3A0%3Bleft%3A0%3B%7D%3C/style%3E%0A%20%20%20%20%3Cscript%20src%3D%22https%3A//cdn.jsdelivr.net/npm/leaflet%401.6.0/dist/leaflet.js%22%3E%3C/script%3E%0A%20%20%20%20%3Cscript%20src%3D%22https%3A//code.jquery.com/jquery-1.12.4.min.js%22%3E%3C/script%3E%0A%20%20%20%20%3Cscript%20src%3D%22https%3A//maxcdn.bootstrapcdn.com/bootstrap/3.2.0/js/bootstrap.min.js%22%3E%3C/script%3E%0A%20%20%20%20%3Cscript%20src%3D%22https%3A//cdnjs.cloudflare.com/ajax/libs/Leaflet.awesome-markers/2.0.2/leaflet.awesome-markers.js%22%3E%3C/script%3E%0A%20%20%20%20%3Clink%20rel%3D%22stylesheet%22%20href%3D%22https%3A//cdn.jsdelivr.net/npm/leaflet%401.6.0/dist/leaflet.css%22/%3E%0A%20%20%20%20%3Clink%20rel%3D%22stylesheet%22%20href%3D%22https%3A//maxcdn.bootstrapcdn.com/bootstrap/3.2.0/css/bootstrap.min.css%22/%3E%0A%20%20%20%20%3Clink%20rel%3D%22stylesheet%22%20href%3D%22https%3A//maxcdn.bootstrapcdn.com/bootstrap/3.2.0/css/bootstrap-theme.min.css%22/%3E%0A%20%20%20%20%3Clink%20rel%3D%22stylesheet%22%20href%3D%22https%3A//maxcdn.bootstrapcdn.com/font-awesome/4.6.3/css/font-awesome.min.css%22/%3E%0A%20%20%20%20%3Clink%20rel%3D%22stylesheet%22%20href%3D%22https%3A//cdnjs.cloudflare.com/ajax/libs/Leaflet.awesome-markers/2.0.2/leaflet.awesome-markers.css%22/%3E%0A%20%20%20%20%3Clink%20rel%3D%22stylesheet%22%20href%3D%22https%3A//cdn.jsdelivr.net/gh/python-visualization/folium/folium/templates/leaflet.awesome.rotate.min.css%22/%3E%0A%20%20%20%20%0A%20%20%20%20%20%20%20%20%20%20%20%20%3Cmeta%20name%3D%22viewport%22%20content%3D%22width%3Ddevice-width%2C%0A%20%20%20%20%20%20%20%20%20%20%20%20%20%20%20%20initial-scale%3D1.0%2C%20maximum-scale%3D1.0%2C%20user-scalable%3Dno%22%20/%3E%0A%20%20%20%20%20%20%20%20%20%20%20%20%3Cstyle%3E%0A%20%20%20%20%20%20%20%20%20%20%20%20%20%20%20%20%23map_abd0a895d8f141f0bb335a7665cfef2e%20%7B%0A%20%20%20%20%20%20%20%20%20%20%20%20%20%20%20%20%20%20%20%20position%3A%20relative%3B%0A%20%20%20%20%20%20%20%20%20%20%20%20%20%20%20%20%20%20%20%20width%3A%20100.0%25%3B%0A%20%20%20%20%20%20%20%20%20%20%20%20%20%20%20%20%20%20%20%20height%3A%20100.0%25%3B%0A%20%20%20%20%20%20%20%20%20%20%20%20%20%20%20%20%20%20%20%20left%3A%200.0%25%3B%0A%20%20%20%20%20%20%20%20%20%20%20%20%20%20%20%20%20%20%20%20top%3A%200.0%25%3B%0A%20%20%20%20%20%20%20%20%20%20%20%20%20%20%20%20%7D%0A%20%20%20%20%20%20%20%20%20%20%20%20%3C/style%3E%0A%20%20%20%20%20%20%20%20%0A%20%20%20%20%3Cscript%20src%3D%22https%3A//cdn.jsdelivr.net/gh/python-visualization/folium%40master/folium/templates/leaflet_heat.min.js%22%3E%3C/script%3E%0A%3C/head%3E%0A%3Cbody%3E%20%20%20%20%0A%20%20%20%20%0A%20%20%20%20%20%20%20%20%20%20%20%20%3Cdiv%20class%3D%22folium-map%22%20id%3D%22map_abd0a895d8f141f0bb335a7665cfef2e%22%20%3E%3C/div%3E%0A%20%20%20%20%20%20%20%20%0A%3C/body%3E%0A%3Cscript%3E%20%20%20%20%0A%20%20%20%20%0A%20%20%20%20%20%20%20%20%20%20%20%20var%20map_abd0a895d8f141f0bb335a7665cfef2e%20%3D%20L.map%28%0A%20%20%20%20%20%20%20%20%20%20%20%20%20%20%20%20%22map_abd0a895d8f141f0bb335a7665cfef2e%22%2C%0A%20%20%20%20%20%20%20%20%20%20%20%20%20%20%20%20%7B%0A%20%20%20%20%20%20%20%20%20%20%20%20%20%20%20%20%20%20%20%20center%3A%20%5B40.0%2C%20-100.0%5D%2C%0A%20%20%20%20%20%20%20%20%20%20%20%20%20%20%20%20%20%20%20%20crs%3A%20L.CRS.EPSG3857%2C%0A%20%20%20%20%20%20%20%20%20%20%20%20%20%20%20%20%20%20%20%20zoom%3A%204%2C%0A%20%20%20%20%20%20%20%20%20%20%20%20%20%20%20%20%20%20%20%20zoomControl%3A%20true%2C%0A%20%20%20%20%20%20%20%20%20%20%20%20%20%20%20%20%20%20%20%20preferCanvas%3A%20false%2C%0A%20%20%20%20%20%20%20%20%20%20%20%20%20%20%20%20%7D%0A%20%20%20%20%20%20%20%20%20%20%20%20%29%3B%0A%0A%20%20%20%20%20%20%20%20%20%20%20%20%0A%0A%20%20%20%20%20%20%20%20%0A%20%20%20%20%0A%20%20%20%20%20%20%20%20%20%20%20%20var%20tile_layer_717efbd85c044e2ab5ebf28915c2b582%20%3D%20L.tileLayer%28%0A%20%20%20%20%20%20%20%20%20%20%20%20%20%20%20%20%22https%3A//%7Bs%7D.tile.openstreetmap.org/%7Bz%7D/%7Bx%7D/%7By%7D.png%22%2C%0A%20%20%20%20%20%20%20%20%20%20%20%20%20%20%20%20%7B%22attribution%22%3A%20%22Data%20by%20%5Cu0026copy%3B%20%5Cu003ca%20href%3D%5C%22http%3A//openstreetmap.org%5C%22%5Cu003eOpenStreetMap%5Cu003c/a%5Cu003e%2C%20under%20%5Cu003ca%20href%3D%5C%22http%3A//www.openstreetmap.org/copyright%5C%22%5Cu003eODbL%5Cu003c/a%5Cu003e.%22%2C%20%22detectRetina%22%3A%20false%2C%20%22maxNativeZoom%22%3A%2018%2C%20%22maxZoom%22%3A%2018%2C%20%22minZoom%22%3A%200%2C%20%22noWrap%22%3A%20false%2C%20%22opacity%22%3A%201%2C%20%22subdomains%22%3A%20%22abc%22%2C%20%22tms%22%3A%20false%7D%0A%20%20%20%20%20%20%20%20%20%20%20%20%29.addTo%28map_abd0a895d8f141f0bb335a7665cfef2e%29%3B%0A%20%20%20%20%20%20%20%20%0A%20%20%20%20%0A%20%20%20%20%20%20%20%20%20%20%20%20var%20heat_map_955fcb109216445bbfa5c3181e592109%20%3D%20L.heatLayer%28%0A%20%20%20%20%20%20%20%20%20%20%20%20%20%20%20%20%5B%5B33.10078%2C%20-86.73788%2C%201.0%5D%2C%20%5B59.44058%2C%20-143.5963%2C%201.0%5D%2C%20%5B33.4656%2C%20-111.8803%2C%200.0%5D%2C%20%5B35.047259999999994%2C%20-92.46783%2C%201.0%5D%2C%20%5B36.754575%2C%20-120.20894999999999%2C%200.0%5D%2C%20%5B39.59688%2C%20-104.96555000000001%2C%201.0%5D%2C%20%5B41.547574999999995%2C%20-72.829515%2C%201.0%5D%2C%20%5B39.495025%2C%20-75.58209%2C%201.0%5D%2C%20%5B38.89227%2C%20-77.0123%2C%201.0%5D%2C%20%5B28.097705%2C%20-81.73315500000001%2C%200.0%5D%2C%20%5B33.256820000000005%2C%20-83.90822%2C%200.0%5D%2C%20%5B21.34625%2C%20-157.8547%2C%201.0%5D%2C%20%5B43.725170000000006%2C%20-115.30425%2C%201.0%5D%2C%20%5B40.20565%2C%20-88.98392%2C%201.0%5D%2C%20%5B39.841629999999995%2C%20-86.22824999999999%2C%201.0%5D%2C%20%5B42.03548%2C%20-93.30979%2C%201.0%5D%2C%20%5B38.5375%2C%20-97.24078%2C%200.0%5D%2C%20%5B37.53889%2C%20-85.01527%2C%201.0%5D%2C%20%5B30.8242%2C%20-92.1362%2C%201.0%5D%2C%20%5B44.48111%2C%20-69.85784%2C%201.0%5D%2C%20%5B39.29555%2C%20-76.82200999999998%2C%201.0%5D%2C%20%5B42.32037%2C%20-71.44185%2C%201.0%5D%2C%20%5B42.91239%2C%20-84.39364%2C%201.0%5D%2C%20%5B44.89703%2C%20-93.97028%2C%200.0%5D%2C%20%5B32.70944%2C%20-89.52905%2C%200.0%5D%2C%20%5B38.70211%2C%20-92.847%2C%201.0%5D%2C%20%5B46.868945%2C%20-111.2556%2C%201.0%5D%2C%20%5B41.1198%2C%20-97.5007%2C%200.0%5D%2C%20%5B36.66074%2C%20-115.2626%2C%201.0%5D%2C%20%5B43.38619%2C%20-71.63842000000001%2C%200.0%5D%2C%20%5B40.57264%2C%20-74.46401%2C%201.0%5D%2C%20%5B35.103790000000004%2C%20-106.54945000000001%2C%201.0%5D%2C%20%5B42.4633%2C%20-75.30894%2C%201.0%5D%2C%20%5B35.64015%2C%20-80.117685%2C%201.0%5D%2C%20%5B47.344435000000004%2C%20-99.118335%2C%200.0%5D%2C%20%5B40.324915000000004%2C%20-82.940635%2C%200.0%5D%2C%20%5B35.51584000000001%2C%20-97.26927%2C%201.0%5D%2C%20%5B44.521694999999994%2C%20-122.86165%2C%201.0%5D%2C%20%5B40.494405%2C%20-76.961725%2C%201.0%5D%2C%20%5B41.78879000000001%2C%20-71.46864000000002%2C%201.0%5D%2C%20%5B34.21083%2C%20-81.09361%2C%201.0%5D%2C%20%5B44.06886%2C%20-98.14093%2C%201.0%5D%2C%20%5B35.873035%2C%20-86.70748499999999%2C%201.0%5D%2C%20%5B31.2618%2C%20-97.17084%2C%200.0%5D%2C%20%5B40.07501%2C%20-111.849%2C%201.0%5D%2C%20%5B43.97481%2C%20-72.66531%2C%200.0%5D%2C%20%5B37.39816%2C%20-78.47242%2C%201.0%5D%2C%20%5B47.23533%2C%20-121.9695%2C%200.0%5D%2C%20%5B38.67142%2C%20-80.939205%2C%201.0%5D%2C%20%5B44.06872%2C%20-89.78878%2C%200.0%5D%2C%20%5B42.863569999999996%2C%20-106.68555%2C%201.0%5D%5D%2C%0A%20%20%20%20%20%20%20%20%20%20%20%20%20%20%20%20%7B%22blur%22%3A%2015%2C%20%22maxZoom%22%3A%2018%2C%20%22minOpacity%22%3A%200.5%2C%20%22radius%22%3A%2025%7D%0A%20%20%20%20%20%20%20%20%20%20%20%20%29.addTo%28map_abd0a895d8f141f0bb335a7665cfef2e%29%3B%0A%20%20%20%20%20%20%20%20%0A%3C/script%3E onload=\"this.contentDocument.open();this.contentDocument.write(    decodeURIComponent(this.getAttribute('data-html')));this.contentDocument.close();\" allowfullscreen webkitallowfullscreen mozallowfullscreen></iframe></div></div>"
      ],
      "text/plain": [
       "<folium.folium.Map at 0x21d88f9f8e0>"
      ]
     },
     "metadata": {},
     "output_type": "display_data"
    }
   ],
   "source": [
    "HeatMap(data = data).add_to(m)\n",
    "display(m)"
   ]
  },
  {
   "cell_type": "code",
   "execution_count": 36,
   "metadata": {
    "ExecuteTime": {
     "end_time": "2021-09-07T06:49:36.453207Z",
     "start_time": "2021-09-07T06:49:35.368634Z"
    }
   },
   "outputs": [
    {
     "data": {
      "text/html": [
       "<div>\n",
       "<style scoped>\n",
       "    .dataframe tbody tr th:only-of-type {\n",
       "        vertical-align: middle;\n",
       "    }\n",
       "\n",
       "    .dataframe tbody tr th {\n",
       "        vertical-align: top;\n",
       "    }\n",
       "\n",
       "    .dataframe thead th {\n",
       "        text-align: right;\n",
       "    }\n",
       "</style>\n",
       "<table border=\"1\" class=\"dataframe\">\n",
       "  <thead>\n",
       "    <tr style=\"text-align: right;\">\n",
       "      <th></th>\n",
       "      <th>toll</th>\n",
       "      <th>freeze_thaw_cycle</th>\n",
       "      <th>snowfall_days</th>\n",
       "      <th>inventory_class_route</th>\n",
       "      <th>lanes_on_str</th>\n",
       "      <th>lanes_under_str</th>\n",
       "      <th>level_service_code</th>\n",
       "      <th>yr_avg_traffic</th>\n",
       "      <th>inventory_route_code</th>\n",
       "      <th>truck_network_code</th>\n",
       "      <th>...</th>\n",
       "      <th>yr_reconst</th>\n",
       "      <th>skew</th>\n",
       "      <th>max_span</th>\n",
       "      <th>bridge_width</th>\n",
       "      <th>deck_width</th>\n",
       "      <th>super_st_condition</th>\n",
       "      <th>sub_st_condition</th>\n",
       "      <th>deck_condition</th>\n",
       "      <th>avg_daily_trfic</th>\n",
       "      <th>avg_truck_trfc</th>\n",
       "    </tr>\n",
       "    <tr>\n",
       "      <th>state</th>\n",
       "      <th></th>\n",
       "      <th></th>\n",
       "      <th></th>\n",
       "      <th></th>\n",
       "      <th></th>\n",
       "      <th></th>\n",
       "      <th></th>\n",
       "      <th></th>\n",
       "      <th></th>\n",
       "      <th></th>\n",
       "      <th></th>\n",
       "      <th></th>\n",
       "      <th></th>\n",
       "      <th></th>\n",
       "      <th></th>\n",
       "      <th></th>\n",
       "      <th></th>\n",
       "      <th></th>\n",
       "      <th></th>\n",
       "      <th></th>\n",
       "      <th></th>\n",
       "    </tr>\n",
       "  </thead>\n",
       "  <tbody>\n",
       "    <tr>\n",
       "      <th>Alabama</th>\n",
       "      <td>3.0</td>\n",
       "      <td>29.0</td>\n",
       "      <td>1.0</td>\n",
       "      <td>8.0</td>\n",
       "      <td>2</td>\n",
       "      <td>0</td>\n",
       "      <td>1</td>\n",
       "      <td>2013.0</td>\n",
       "      <td>0</td>\n",
       "      <td>0</td>\n",
       "      <td>...</td>\n",
       "      <td>0.0</td>\n",
       "      <td>0.0</td>\n",
       "      <td>24.0</td>\n",
       "      <td>24.0</td>\n",
       "      <td>26.9</td>\n",
       "      <td>7.0</td>\n",
       "      <td>7.0</td>\n",
       "      <td>6.0</td>\n",
       "      <td>750.0</td>\n",
       "      <td>5.0</td>\n",
       "    </tr>\n",
       "    <tr>\n",
       "      <th>Alaska</th>\n",
       "      <td>3.0</td>\n",
       "      <td>56.0</td>\n",
       "      <td>142.0</td>\n",
       "      <td>9.0</td>\n",
       "      <td>2</td>\n",
       "      <td>0</td>\n",
       "      <td>1</td>\n",
       "      <td>2018.0</td>\n",
       "      <td>0</td>\n",
       "      <td>0</td>\n",
       "      <td>...</td>\n",
       "      <td>0.0</td>\n",
       "      <td>0.0</td>\n",
       "      <td>62.7</td>\n",
       "      <td>20.0</td>\n",
       "      <td>24.9</td>\n",
       "      <td>7.0</td>\n",
       "      <td>7.0</td>\n",
       "      <td>7.0</td>\n",
       "      <td>100.0</td>\n",
       "      <td>8.0</td>\n",
       "    </tr>\n",
       "    <tr>\n",
       "      <th>Arizona</th>\n",
       "      <td>3.0</td>\n",
       "      <td>6.0</td>\n",
       "      <td>0.0</td>\n",
       "      <td>8.0</td>\n",
       "      <td>2</td>\n",
       "      <td>0</td>\n",
       "      <td>1</td>\n",
       "      <td>2017.0</td>\n",
       "      <td>0</td>\n",
       "      <td>0</td>\n",
       "      <td>...</td>\n",
       "      <td>0.0</td>\n",
       "      <td>0.0</td>\n",
       "      <td>12.1</td>\n",
       "      <td>27.9</td>\n",
       "      <td>33.8</td>\n",
       "      <td>7.0</td>\n",
       "      <td>7.0</td>\n",
       "      <td>7.0</td>\n",
       "      <td>5000.0</td>\n",
       "      <td>7.0</td>\n",
       "    </tr>\n",
       "    <tr>\n",
       "      <th>Arkansas</th>\n",
       "      <td>3.0</td>\n",
       "      <td>40.0</td>\n",
       "      <td>11.0</td>\n",
       "      <td>8.0</td>\n",
       "      <td>2</td>\n",
       "      <td>0</td>\n",
       "      <td>1</td>\n",
       "      <td>2018.0</td>\n",
       "      <td>0</td>\n",
       "      <td>0</td>\n",
       "      <td>...</td>\n",
       "      <td>0.0</td>\n",
       "      <td>0.0</td>\n",
       "      <td>29.2</td>\n",
       "      <td>24.3</td>\n",
       "      <td>26.6</td>\n",
       "      <td>7.0</td>\n",
       "      <td>7.0</td>\n",
       "      <td>7.0</td>\n",
       "      <td>770.0</td>\n",
       "      <td>1.0</td>\n",
       "    </tr>\n",
       "    <tr>\n",
       "      <th>California</th>\n",
       "      <td>3.0</td>\n",
       "      <td>2.0</td>\n",
       "      <td>1.0</td>\n",
       "      <td>11.0</td>\n",
       "      <td>2</td>\n",
       "      <td>0</td>\n",
       "      <td>0</td>\n",
       "      <td>2010.0</td>\n",
       "      <td>0</td>\n",
       "      <td>0</td>\n",
       "      <td>...</td>\n",
       "      <td>0.0</td>\n",
       "      <td>10.0</td>\n",
       "      <td>45.9</td>\n",
       "      <td>38.4</td>\n",
       "      <td>41.7</td>\n",
       "      <td>7.0</td>\n",
       "      <td>7.0</td>\n",
       "      <td>7.0</td>\n",
       "      <td>6000.0</td>\n",
       "      <td>5.0</td>\n",
       "    </tr>\n",
       "  </tbody>\n",
       "</table>\n",
       "<p>5 rows × 29 columns</p>\n",
       "</div>"
      ],
      "text/plain": [
       "            toll  freeze_thaw_cycle  snowfall_days  inventory_class_route  \\\n",
       "state                                                                       \n",
       "Alabama      3.0               29.0            1.0                    8.0   \n",
       "Alaska       3.0               56.0          142.0                    9.0   \n",
       "Arizona      3.0                6.0            0.0                    8.0   \n",
       "Arkansas     3.0               40.0           11.0                    8.0   \n",
       "California   3.0                2.0            1.0                   11.0   \n",
       "\n",
       "            lanes_on_str  lanes_under_str  level_service_code  yr_avg_traffic  \\\n",
       "state                                                                           \n",
       "Alabama                2                0                   1          2013.0   \n",
       "Alaska                 2                0                   1          2018.0   \n",
       "Arizona                2                0                   1          2017.0   \n",
       "Arkansas               2                0                   1          2018.0   \n",
       "California             2                0                   0          2010.0   \n",
       "\n",
       "            inventory_route_code  truck_network_code  ...  yr_reconst  skew  \\\n",
       "state                                                 ...                     \n",
       "Alabama                        0                   0  ...         0.0   0.0   \n",
       "Alaska                         0                   0  ...         0.0   0.0   \n",
       "Arizona                        0                   0  ...         0.0   0.0   \n",
       "Arkansas                       0                   0  ...         0.0   0.0   \n",
       "California                     0                   0  ...         0.0  10.0   \n",
       "\n",
       "            max_span  bridge_width  deck_width  super_st_condition  \\\n",
       "state                                                                \n",
       "Alabama         24.0          24.0        26.9                 7.0   \n",
       "Alaska          62.7          20.0        24.9                 7.0   \n",
       "Arizona         12.1          27.9        33.8                 7.0   \n",
       "Arkansas        29.2          24.3        26.6                 7.0   \n",
       "California      45.9          38.4        41.7                 7.0   \n",
       "\n",
       "            sub_st_condition  deck_condition  avg_daily_trfic  avg_truck_trfc  \n",
       "state                                                                          \n",
       "Alabama                  7.0             6.0            750.0             5.0  \n",
       "Alaska                   7.0             7.0            100.0             8.0  \n",
       "Arizona                  7.0             7.0           5000.0             7.0  \n",
       "Arkansas                 7.0             7.0            770.0             1.0  \n",
       "California               7.0             7.0           6000.0             5.0  \n",
       "\n",
       "[5 rows x 29 columns]"
      ]
     },
     "execution_count": 36,
     "metadata": {},
     "output_type": "execute_result"
    }
   ],
   "source": [
    "states_df = df2.groupby('state').median()\n",
    "states_df.head()"
   ]
  },
  {
   "cell_type": "code",
   "execution_count": 37,
   "metadata": {
    "ExecuteTime": {
     "end_time": "2021-09-07T06:49:36.469208Z",
     "start_time": "2021-09-07T06:49:36.457211Z"
    }
   },
   "outputs": [],
   "source": [
    "states_df = states_df.reset_index()"
   ]
  },
  {
   "cell_type": "code",
   "execution_count": 38,
   "metadata": {
    "ExecuteTime": {
     "end_time": "2021-09-07T06:49:36.864208Z",
     "start_time": "2021-09-07T06:49:36.473211Z"
    },
    "scrolled": false
   },
   "outputs": [
    {
     "data": {
      "text/html": [
       "<div style=\"width:100%;\"><div style=\"position:relative;width:100%;height:0;padding-bottom:60%;\"><span style=\"color:#565656\">Make this Notebook Trusted to load map: File -> Trust Notebook</span><iframe src=\"about:blank\" style=\"position:absolute;width:100%;height:100%;left:0;top:0;border:none !important;\" data-html=%3C%21DOCTYPE%20html%3E%0A%3Chead%3E%20%20%20%20%0A%20%20%20%20%3Cmeta%20http-equiv%3D%22content-type%22%20content%3D%22text/html%3B%20charset%3DUTF-8%22%20/%3E%0A%20%20%20%20%0A%20%20%20%20%20%20%20%20%3Cscript%3E%0A%20%20%20%20%20%20%20%20%20%20%20%20L_NO_TOUCH%20%3D%20false%3B%0A%20%20%20%20%20%20%20%20%20%20%20%20L_DISABLE_3D%20%3D%20false%3B%0A%20%20%20%20%20%20%20%20%3C/script%3E%0A%20%20%20%20%0A%20%20%20%20%3Cstyle%3Ehtml%2C%20body%20%7Bwidth%3A%20100%25%3Bheight%3A%20100%25%3Bmargin%3A%200%3Bpadding%3A%200%3B%7D%3C/style%3E%0A%20%20%20%20%3Cstyle%3E%23map%20%7Bposition%3Aabsolute%3Btop%3A0%3Bbottom%3A0%3Bright%3A0%3Bleft%3A0%3B%7D%3C/style%3E%0A%20%20%20%20%3Cscript%20src%3D%22https%3A//cdn.jsdelivr.net/npm/leaflet%401.6.0/dist/leaflet.js%22%3E%3C/script%3E%0A%20%20%20%20%3Cscript%20src%3D%22https%3A//code.jquery.com/jquery-1.12.4.min.js%22%3E%3C/script%3E%0A%20%20%20%20%3Cscript%20src%3D%22https%3A//maxcdn.bootstrapcdn.com/bootstrap/3.2.0/js/bootstrap.min.js%22%3E%3C/script%3E%0A%20%20%20%20%3Cscript%20src%3D%22https%3A//cdnjs.cloudflare.com/ajax/libs/Leaflet.awesome-markers/2.0.2/leaflet.awesome-markers.js%22%3E%3C/script%3E%0A%20%20%20%20%3Clink%20rel%3D%22stylesheet%22%20href%3D%22https%3A//cdn.jsdelivr.net/npm/leaflet%401.6.0/dist/leaflet.css%22/%3E%0A%20%20%20%20%3Clink%20rel%3D%22stylesheet%22%20href%3D%22https%3A//maxcdn.bootstrapcdn.com/bootstrap/3.2.0/css/bootstrap.min.css%22/%3E%0A%20%20%20%20%3Clink%20rel%3D%22stylesheet%22%20href%3D%22https%3A//maxcdn.bootstrapcdn.com/bootstrap/3.2.0/css/bootstrap-theme.min.css%22/%3E%0A%20%20%20%20%3Clink%20rel%3D%22stylesheet%22%20href%3D%22https%3A//maxcdn.bootstrapcdn.com/font-awesome/4.6.3/css/font-awesome.min.css%22/%3E%0A%20%20%20%20%3Clink%20rel%3D%22stylesheet%22%20href%3D%22https%3A//cdnjs.cloudflare.com/ajax/libs/Leaflet.awesome-markers/2.0.2/leaflet.awesome-markers.css%22/%3E%0A%20%20%20%20%3Clink%20rel%3D%22stylesheet%22%20href%3D%22https%3A//cdn.jsdelivr.net/gh/python-visualization/folium/folium/templates/leaflet.awesome.rotate.min.css%22/%3E%0A%20%20%20%20%0A%20%20%20%20%20%20%20%20%20%20%20%20%3Cmeta%20name%3D%22viewport%22%20content%3D%22width%3Ddevice-width%2C%0A%20%20%20%20%20%20%20%20%20%20%20%20%20%20%20%20initial-scale%3D1.0%2C%20maximum-scale%3D1.0%2C%20user-scalable%3Dno%22%20/%3E%0A%20%20%20%20%20%20%20%20%20%20%20%20%3Cstyle%3E%0A%20%20%20%20%20%20%20%20%20%20%20%20%20%20%20%20%23map_abd0a895d8f141f0bb335a7665cfef2e%20%7B%0A%20%20%20%20%20%20%20%20%20%20%20%20%20%20%20%20%20%20%20%20position%3A%20relative%3B%0A%20%20%20%20%20%20%20%20%20%20%20%20%20%20%20%20%20%20%20%20width%3A%20100.0%25%3B%0A%20%20%20%20%20%20%20%20%20%20%20%20%20%20%20%20%20%20%20%20height%3A%20100.0%25%3B%0A%20%20%20%20%20%20%20%20%20%20%20%20%20%20%20%20%20%20%20%20left%3A%200.0%25%3B%0A%20%20%20%20%20%20%20%20%20%20%20%20%20%20%20%20%20%20%20%20top%3A%200.0%25%3B%0A%20%20%20%20%20%20%20%20%20%20%20%20%20%20%20%20%7D%0A%20%20%20%20%20%20%20%20%20%20%20%20%3C/style%3E%0A%20%20%20%20%20%20%20%20%0A%20%20%20%20%3Cscript%20src%3D%22https%3A//cdn.jsdelivr.net/gh/python-visualization/folium%40master/folium/templates/leaflet_heat.min.js%22%3E%3C/script%3E%0A%3C/head%3E%0A%3Cbody%3E%20%20%20%20%0A%20%20%20%20%0A%20%20%20%20%20%20%20%20%20%20%20%20%3Cdiv%20class%3D%22folium-map%22%20id%3D%22map_abd0a895d8f141f0bb335a7665cfef2e%22%20%3E%3C/div%3E%0A%20%20%20%20%20%20%20%20%0A%3C/body%3E%0A%3Cscript%3E%20%20%20%20%0A%20%20%20%20%0A%20%20%20%20%20%20%20%20%20%20%20%20var%20map_abd0a895d8f141f0bb335a7665cfef2e%20%3D%20L.map%28%0A%20%20%20%20%20%20%20%20%20%20%20%20%20%20%20%20%22map_abd0a895d8f141f0bb335a7665cfef2e%22%2C%0A%20%20%20%20%20%20%20%20%20%20%20%20%20%20%20%20%7B%0A%20%20%20%20%20%20%20%20%20%20%20%20%20%20%20%20%20%20%20%20center%3A%20%5B40.0%2C%20-100.0%5D%2C%0A%20%20%20%20%20%20%20%20%20%20%20%20%20%20%20%20%20%20%20%20crs%3A%20L.CRS.EPSG3857%2C%0A%20%20%20%20%20%20%20%20%20%20%20%20%20%20%20%20%20%20%20%20zoom%3A%204%2C%0A%20%20%20%20%20%20%20%20%20%20%20%20%20%20%20%20%20%20%20%20zoomControl%3A%20true%2C%0A%20%20%20%20%20%20%20%20%20%20%20%20%20%20%20%20%20%20%20%20preferCanvas%3A%20false%2C%0A%20%20%20%20%20%20%20%20%20%20%20%20%20%20%20%20%7D%0A%20%20%20%20%20%20%20%20%20%20%20%20%29%3B%0A%0A%20%20%20%20%20%20%20%20%20%20%20%20%0A%0A%20%20%20%20%20%20%20%20%0A%20%20%20%20%0A%20%20%20%20%20%20%20%20%20%20%20%20var%20tile_layer_717efbd85c044e2ab5ebf28915c2b582%20%3D%20L.tileLayer%28%0A%20%20%20%20%20%20%20%20%20%20%20%20%20%20%20%20%22https%3A//%7Bs%7D.tile.openstreetmap.org/%7Bz%7D/%7Bx%7D/%7By%7D.png%22%2C%0A%20%20%20%20%20%20%20%20%20%20%20%20%20%20%20%20%7B%22attribution%22%3A%20%22Data%20by%20%5Cu0026copy%3B%20%5Cu003ca%20href%3D%5C%22http%3A//openstreetmap.org%5C%22%5Cu003eOpenStreetMap%5Cu003c/a%5Cu003e%2C%20under%20%5Cu003ca%20href%3D%5C%22http%3A//www.openstreetmap.org/copyright%5C%22%5Cu003eODbL%5Cu003c/a%5Cu003e.%22%2C%20%22detectRetina%22%3A%20false%2C%20%22maxNativeZoom%22%3A%2018%2C%20%22maxZoom%22%3A%2018%2C%20%22minZoom%22%3A%200%2C%20%22noWrap%22%3A%20false%2C%20%22opacity%22%3A%201%2C%20%22subdomains%22%3A%20%22abc%22%2C%20%22tms%22%3A%20false%7D%0A%20%20%20%20%20%20%20%20%20%20%20%20%29.addTo%28map_abd0a895d8f141f0bb335a7665cfef2e%29%3B%0A%20%20%20%20%20%20%20%20%0A%20%20%20%20%0A%20%20%20%20%20%20%20%20%20%20%20%20var%20heat_map_955fcb109216445bbfa5c3181e592109%20%3D%20L.heatLayer%28%0A%20%20%20%20%20%20%20%20%20%20%20%20%20%20%20%20%5B%5B33.10078%2C%20-86.73788%2C%201.0%5D%2C%20%5B59.44058%2C%20-143.5963%2C%201.0%5D%2C%20%5B33.4656%2C%20-111.8803%2C%200.0%5D%2C%20%5B35.047259999999994%2C%20-92.46783%2C%201.0%5D%2C%20%5B36.754575%2C%20-120.20894999999999%2C%200.0%5D%2C%20%5B39.59688%2C%20-104.96555000000001%2C%201.0%5D%2C%20%5B41.547574999999995%2C%20-72.829515%2C%201.0%5D%2C%20%5B39.495025%2C%20-75.58209%2C%201.0%5D%2C%20%5B38.89227%2C%20-77.0123%2C%201.0%5D%2C%20%5B28.097705%2C%20-81.73315500000001%2C%200.0%5D%2C%20%5B33.256820000000005%2C%20-83.90822%2C%200.0%5D%2C%20%5B21.34625%2C%20-157.8547%2C%201.0%5D%2C%20%5B43.725170000000006%2C%20-115.30425%2C%201.0%5D%2C%20%5B40.20565%2C%20-88.98392%2C%201.0%5D%2C%20%5B39.841629999999995%2C%20-86.22824999999999%2C%201.0%5D%2C%20%5B42.03548%2C%20-93.30979%2C%201.0%5D%2C%20%5B38.5375%2C%20-97.24078%2C%200.0%5D%2C%20%5B37.53889%2C%20-85.01527%2C%201.0%5D%2C%20%5B30.8242%2C%20-92.1362%2C%201.0%5D%2C%20%5B44.48111%2C%20-69.85784%2C%201.0%5D%2C%20%5B39.29555%2C%20-76.82200999999998%2C%201.0%5D%2C%20%5B42.32037%2C%20-71.44185%2C%201.0%5D%2C%20%5B42.91239%2C%20-84.39364%2C%201.0%5D%2C%20%5B44.89703%2C%20-93.97028%2C%200.0%5D%2C%20%5B32.70944%2C%20-89.52905%2C%200.0%5D%2C%20%5B38.70211%2C%20-92.847%2C%201.0%5D%2C%20%5B46.868945%2C%20-111.2556%2C%201.0%5D%2C%20%5B41.1198%2C%20-97.5007%2C%200.0%5D%2C%20%5B36.66074%2C%20-115.2626%2C%201.0%5D%2C%20%5B43.38619%2C%20-71.63842000000001%2C%200.0%5D%2C%20%5B40.57264%2C%20-74.46401%2C%201.0%5D%2C%20%5B35.103790000000004%2C%20-106.54945000000001%2C%201.0%5D%2C%20%5B42.4633%2C%20-75.30894%2C%201.0%5D%2C%20%5B35.64015%2C%20-80.117685%2C%201.0%5D%2C%20%5B47.344435000000004%2C%20-99.118335%2C%200.0%5D%2C%20%5B40.324915000000004%2C%20-82.940635%2C%200.0%5D%2C%20%5B35.51584000000001%2C%20-97.26927%2C%201.0%5D%2C%20%5B44.521694999999994%2C%20-122.86165%2C%201.0%5D%2C%20%5B40.494405%2C%20-76.961725%2C%201.0%5D%2C%20%5B41.78879000000001%2C%20-71.46864000000002%2C%201.0%5D%2C%20%5B34.21083%2C%20-81.09361%2C%201.0%5D%2C%20%5B44.06886%2C%20-98.14093%2C%201.0%5D%2C%20%5B35.873035%2C%20-86.70748499999999%2C%201.0%5D%2C%20%5B31.2618%2C%20-97.17084%2C%200.0%5D%2C%20%5B40.07501%2C%20-111.849%2C%201.0%5D%2C%20%5B43.97481%2C%20-72.66531%2C%200.0%5D%2C%20%5B37.39816%2C%20-78.47242%2C%201.0%5D%2C%20%5B47.23533%2C%20-121.9695%2C%200.0%5D%2C%20%5B38.67142%2C%20-80.939205%2C%201.0%5D%2C%20%5B44.06872%2C%20-89.78878%2C%200.0%5D%2C%20%5B42.863569999999996%2C%20-106.68555%2C%201.0%5D%5D%2C%0A%20%20%20%20%20%20%20%20%20%20%20%20%20%20%20%20%7B%22blur%22%3A%2015%2C%20%22maxZoom%22%3A%2018%2C%20%22minOpacity%22%3A%200.5%2C%20%22radius%22%3A%2025%7D%0A%20%20%20%20%20%20%20%20%20%20%20%20%29.addTo%28map_abd0a895d8f141f0bb335a7665cfef2e%29%3B%0A%20%20%20%20%20%20%20%20%0A%20%20%20%20%0A%20%20%20%20%20%20%20%20%20%20%20%20var%20marker_8ab35fef15464b2caefb0b12dc6d2606%20%3D%20L.marker%28%0A%20%20%20%20%20%20%20%20%20%20%20%20%20%20%20%20%5B33.10078%2C%20-86.73788%5D%2C%0A%20%20%20%20%20%20%20%20%20%20%20%20%20%20%20%20%7B%7D%0A%20%20%20%20%20%20%20%20%20%20%20%20%29.addTo%28map_abd0a895d8f141f0bb335a7665cfef2e%29%3B%0A%20%20%20%20%20%20%20%20%0A%20%20%20%20%0A%20%20%20%20%20%20%20%20var%20popup_9824d4c044d445398b2c0a9dc2a5b781%20%3D%20L.popup%28%7B%22autoClose%22%3A%20false%2C%20%22maxWidth%22%3A%20%22100%25%22%7D%29%3B%0A%0A%20%20%20%20%20%20%20%20%0A%20%20%20%20%20%20%20%20%20%20%20%20var%20html_6c0399cf1033490fb3412242b98c8819%20%3D%20%24%28%60%3Cdiv%20id%3D%22html_6c0399cf1033490fb3412242b98c8819%22%20style%3D%22width%3A%20100.0%25%3B%20height%3A%20100.0%25%3B%22%3EAlabama%3C/div%3E%60%29%5B0%5D%3B%0A%20%20%20%20%20%20%20%20%20%20%20%20popup_9824d4c044d445398b2c0a9dc2a5b781.setContent%28html_6c0399cf1033490fb3412242b98c8819%29%3B%0A%20%20%20%20%20%20%20%20%0A%0A%20%20%20%20%20%20%20%20marker_8ab35fef15464b2caefb0b12dc6d2606.bindPopup%28popup_9824d4c044d445398b2c0a9dc2a5b781%29%0A%20%20%20%20%20%20%20%20.openPopup%28%29%3B%0A%0A%20%20%20%20%20%20%20%20%0A%20%20%20%20%0A%20%20%20%20%0A%20%20%20%20%20%20%20%20%20%20%20%20var%20marker_cc87e5973dc54abbbfdc61ce943f568b%20%3D%20L.marker%28%0A%20%20%20%20%20%20%20%20%20%20%20%20%20%20%20%20%5B59.44058%2C%20-143.5963%5D%2C%0A%20%20%20%20%20%20%20%20%20%20%20%20%20%20%20%20%7B%7D%0A%20%20%20%20%20%20%20%20%20%20%20%20%29.addTo%28map_abd0a895d8f141f0bb335a7665cfef2e%29%3B%0A%20%20%20%20%20%20%20%20%0A%20%20%20%20%0A%20%20%20%20%20%20%20%20var%20popup_1cb0dc0641dd45ed964877c2160d211c%20%3D%20L.popup%28%7B%22autoClose%22%3A%20false%2C%20%22maxWidth%22%3A%20%22100%25%22%7D%29%3B%0A%0A%20%20%20%20%20%20%20%20%0A%20%20%20%20%20%20%20%20%20%20%20%20var%20html_9ef85aa2b69c4dc184cfb00a3032c61a%20%3D%20%24%28%60%3Cdiv%20id%3D%22html_9ef85aa2b69c4dc184cfb00a3032c61a%22%20style%3D%22width%3A%20100.0%25%3B%20height%3A%20100.0%25%3B%22%3EAlaska%3C/div%3E%60%29%5B0%5D%3B%0A%20%20%20%20%20%20%20%20%20%20%20%20popup_1cb0dc0641dd45ed964877c2160d211c.setContent%28html_9ef85aa2b69c4dc184cfb00a3032c61a%29%3B%0A%20%20%20%20%20%20%20%20%0A%0A%20%20%20%20%20%20%20%20marker_cc87e5973dc54abbbfdc61ce943f568b.bindPopup%28popup_1cb0dc0641dd45ed964877c2160d211c%29%0A%20%20%20%20%20%20%20%20.openPopup%28%29%3B%0A%0A%20%20%20%20%20%20%20%20%0A%20%20%20%20%0A%20%20%20%20%0A%20%20%20%20%20%20%20%20%20%20%20%20var%20marker_f7151af46da34a3cb487e0e1afe45b7e%20%3D%20L.marker%28%0A%20%20%20%20%20%20%20%20%20%20%20%20%20%20%20%20%5B33.4656%2C%20-111.8803%5D%2C%0A%20%20%20%20%20%20%20%20%20%20%20%20%20%20%20%20%7B%7D%0A%20%20%20%20%20%20%20%20%20%20%20%20%29.addTo%28map_abd0a895d8f141f0bb335a7665cfef2e%29%3B%0A%20%20%20%20%20%20%20%20%0A%20%20%20%20%0A%20%20%20%20%20%20%20%20var%20popup_1df0f072c15e4ca4b685932d40a28bba%20%3D%20L.popup%28%7B%22autoClose%22%3A%20false%2C%20%22maxWidth%22%3A%20%22100%25%22%7D%29%3B%0A%0A%20%20%20%20%20%20%20%20%0A%20%20%20%20%20%20%20%20%20%20%20%20var%20html_8b02fd6e89d6476392773d35bb180fec%20%3D%20%24%28%60%3Cdiv%20id%3D%22html_8b02fd6e89d6476392773d35bb180fec%22%20style%3D%22width%3A%20100.0%25%3B%20height%3A%20100.0%25%3B%22%3EArizona%3C/div%3E%60%29%5B0%5D%3B%0A%20%20%20%20%20%20%20%20%20%20%20%20popup_1df0f072c15e4ca4b685932d40a28bba.setContent%28html_8b02fd6e89d6476392773d35bb180fec%29%3B%0A%20%20%20%20%20%20%20%20%0A%0A%20%20%20%20%20%20%20%20marker_f7151af46da34a3cb487e0e1afe45b7e.bindPopup%28popup_1df0f072c15e4ca4b685932d40a28bba%29%0A%20%20%20%20%20%20%20%20.openPopup%28%29%3B%0A%0A%20%20%20%20%20%20%20%20%0A%20%20%20%20%0A%20%20%20%20%0A%20%20%20%20%20%20%20%20%20%20%20%20var%20marker_dbf71d8eb2164405bee40bfbf8dceee9%20%3D%20L.marker%28%0A%20%20%20%20%20%20%20%20%20%20%20%20%20%20%20%20%5B35.047259999999994%2C%20-92.46783%5D%2C%0A%20%20%20%20%20%20%20%20%20%20%20%20%20%20%20%20%7B%7D%0A%20%20%20%20%20%20%20%20%20%20%20%20%29.addTo%28map_abd0a895d8f141f0bb335a7665cfef2e%29%3B%0A%20%20%20%20%20%20%20%20%0A%20%20%20%20%0A%20%20%20%20%20%20%20%20var%20popup_77a8f0e32afa4d338566388e2a5c2a19%20%3D%20L.popup%28%7B%22autoClose%22%3A%20false%2C%20%22maxWidth%22%3A%20%22100%25%22%7D%29%3B%0A%0A%20%20%20%20%20%20%20%20%0A%20%20%20%20%20%20%20%20%20%20%20%20var%20html_cdcbbc8c4b194db6821cafd15f9ee0d2%20%3D%20%24%28%60%3Cdiv%20id%3D%22html_cdcbbc8c4b194db6821cafd15f9ee0d2%22%20style%3D%22width%3A%20100.0%25%3B%20height%3A%20100.0%25%3B%22%3EArkansas%3C/div%3E%60%29%5B0%5D%3B%0A%20%20%20%20%20%20%20%20%20%20%20%20popup_77a8f0e32afa4d338566388e2a5c2a19.setContent%28html_cdcbbc8c4b194db6821cafd15f9ee0d2%29%3B%0A%20%20%20%20%20%20%20%20%0A%0A%20%20%20%20%20%20%20%20marker_dbf71d8eb2164405bee40bfbf8dceee9.bindPopup%28popup_77a8f0e32afa4d338566388e2a5c2a19%29%0A%20%20%20%20%20%20%20%20.openPopup%28%29%3B%0A%0A%20%20%20%20%20%20%20%20%0A%20%20%20%20%0A%20%20%20%20%0A%20%20%20%20%20%20%20%20%20%20%20%20var%20marker_0f03606340dd431195bd6590cd191f71%20%3D%20L.marker%28%0A%20%20%20%20%20%20%20%20%20%20%20%20%20%20%20%20%5B36.754575%2C%20-120.20894999999999%5D%2C%0A%20%20%20%20%20%20%20%20%20%20%20%20%20%20%20%20%7B%7D%0A%20%20%20%20%20%20%20%20%20%20%20%20%29.addTo%28map_abd0a895d8f141f0bb335a7665cfef2e%29%3B%0A%20%20%20%20%20%20%20%20%0A%20%20%20%20%0A%20%20%20%20%20%20%20%20var%20popup_b4c22f771413450a81f5c87b0b8907e3%20%3D%20L.popup%28%7B%22autoClose%22%3A%20false%2C%20%22maxWidth%22%3A%20%22100%25%22%7D%29%3B%0A%0A%20%20%20%20%20%20%20%20%0A%20%20%20%20%20%20%20%20%20%20%20%20var%20html_9f76924549ac4446b30b9e7edf8886a9%20%3D%20%24%28%60%3Cdiv%20id%3D%22html_9f76924549ac4446b30b9e7edf8886a9%22%20style%3D%22width%3A%20100.0%25%3B%20height%3A%20100.0%25%3B%22%3ECalifornia%3C/div%3E%60%29%5B0%5D%3B%0A%20%20%20%20%20%20%20%20%20%20%20%20popup_b4c22f771413450a81f5c87b0b8907e3.setContent%28html_9f76924549ac4446b30b9e7edf8886a9%29%3B%0A%20%20%20%20%20%20%20%20%0A%0A%20%20%20%20%20%20%20%20marker_0f03606340dd431195bd6590cd191f71.bindPopup%28popup_b4c22f771413450a81f5c87b0b8907e3%29%0A%20%20%20%20%20%20%20%20.openPopup%28%29%3B%0A%0A%20%20%20%20%20%20%20%20%0A%20%20%20%20%0A%20%20%20%20%0A%20%20%20%20%20%20%20%20%20%20%20%20var%20marker_2357b1034b254d85941541ec85df5bd5%20%3D%20L.marker%28%0A%20%20%20%20%20%20%20%20%20%20%20%20%20%20%20%20%5B39.59688%2C%20-104.96555000000001%5D%2C%0A%20%20%20%20%20%20%20%20%20%20%20%20%20%20%20%20%7B%7D%0A%20%20%20%20%20%20%20%20%20%20%20%20%29.addTo%28map_abd0a895d8f141f0bb335a7665cfef2e%29%3B%0A%20%20%20%20%20%20%20%20%0A%20%20%20%20%0A%20%20%20%20%20%20%20%20var%20popup_db0e34fd090b4c5b88622ab904e87dba%20%3D%20L.popup%28%7B%22autoClose%22%3A%20false%2C%20%22maxWidth%22%3A%20%22100%25%22%7D%29%3B%0A%0A%20%20%20%20%20%20%20%20%0A%20%20%20%20%20%20%20%20%20%20%20%20var%20html_965dd3bcc1b54836981eeec95d912387%20%3D%20%24%28%60%3Cdiv%20id%3D%22html_965dd3bcc1b54836981eeec95d912387%22%20style%3D%22width%3A%20100.0%25%3B%20height%3A%20100.0%25%3B%22%3EColorado%3C/div%3E%60%29%5B0%5D%3B%0A%20%20%20%20%20%20%20%20%20%20%20%20popup_db0e34fd090b4c5b88622ab904e87dba.setContent%28html_965dd3bcc1b54836981eeec95d912387%29%3B%0A%20%20%20%20%20%20%20%20%0A%0A%20%20%20%20%20%20%20%20marker_2357b1034b254d85941541ec85df5bd5.bindPopup%28popup_db0e34fd090b4c5b88622ab904e87dba%29%0A%20%20%20%20%20%20%20%20.openPopup%28%29%3B%0A%0A%20%20%20%20%20%20%20%20%0A%20%20%20%20%0A%20%20%20%20%0A%20%20%20%20%20%20%20%20%20%20%20%20var%20marker_d8027fc94b6b4026b07eb226c477ab09%20%3D%20L.marker%28%0A%20%20%20%20%20%20%20%20%20%20%20%20%20%20%20%20%5B41.547574999999995%2C%20-72.829515%5D%2C%0A%20%20%20%20%20%20%20%20%20%20%20%20%20%20%20%20%7B%7D%0A%20%20%20%20%20%20%20%20%20%20%20%20%29.addTo%28map_abd0a895d8f141f0bb335a7665cfef2e%29%3B%0A%20%20%20%20%20%20%20%20%0A%20%20%20%20%0A%20%20%20%20%20%20%20%20var%20popup_d021aaddbdd04ae5b0f25d0aacb7a3ec%20%3D%20L.popup%28%7B%22autoClose%22%3A%20false%2C%20%22maxWidth%22%3A%20%22100%25%22%7D%29%3B%0A%0A%20%20%20%20%20%20%20%20%0A%20%20%20%20%20%20%20%20%20%20%20%20var%20html_17337152d909476596d14da2c9263367%20%3D%20%24%28%60%3Cdiv%20id%3D%22html_17337152d909476596d14da2c9263367%22%20style%3D%22width%3A%20100.0%25%3B%20height%3A%20100.0%25%3B%22%3EConnecticut%3C/div%3E%60%29%5B0%5D%3B%0A%20%20%20%20%20%20%20%20%20%20%20%20popup_d021aaddbdd04ae5b0f25d0aacb7a3ec.setContent%28html_17337152d909476596d14da2c9263367%29%3B%0A%20%20%20%20%20%20%20%20%0A%0A%20%20%20%20%20%20%20%20marker_d8027fc94b6b4026b07eb226c477ab09.bindPopup%28popup_d021aaddbdd04ae5b0f25d0aacb7a3ec%29%0A%20%20%20%20%20%20%20%20.openPopup%28%29%3B%0A%0A%20%20%20%20%20%20%20%20%0A%20%20%20%20%0A%20%20%20%20%0A%20%20%20%20%20%20%20%20%20%20%20%20var%20marker_f23934c97b3548348ce694a7c9056c16%20%3D%20L.marker%28%0A%20%20%20%20%20%20%20%20%20%20%20%20%20%20%20%20%5B39.495025%2C%20-75.58209%5D%2C%0A%20%20%20%20%20%20%20%20%20%20%20%20%20%20%20%20%7B%7D%0A%20%20%20%20%20%20%20%20%20%20%20%20%29.addTo%28map_abd0a895d8f141f0bb335a7665cfef2e%29%3B%0A%20%20%20%20%20%20%20%20%0A%20%20%20%20%0A%20%20%20%20%20%20%20%20var%20popup_7cf2bdb130ae4f3d985932ea0e8a4119%20%3D%20L.popup%28%7B%22autoClose%22%3A%20false%2C%20%22maxWidth%22%3A%20%22100%25%22%7D%29%3B%0A%0A%20%20%20%20%20%20%20%20%0A%20%20%20%20%20%20%20%20%20%20%20%20var%20html_c237da9972cf481187f7be10c9189148%20%3D%20%24%28%60%3Cdiv%20id%3D%22html_c237da9972cf481187f7be10c9189148%22%20style%3D%22width%3A%20100.0%25%3B%20height%3A%20100.0%25%3B%22%3EDelaware%3C/div%3E%60%29%5B0%5D%3B%0A%20%20%20%20%20%20%20%20%20%20%20%20popup_7cf2bdb130ae4f3d985932ea0e8a4119.setContent%28html_c237da9972cf481187f7be10c9189148%29%3B%0A%20%20%20%20%20%20%20%20%0A%0A%20%20%20%20%20%20%20%20marker_f23934c97b3548348ce694a7c9056c16.bindPopup%28popup_7cf2bdb130ae4f3d985932ea0e8a4119%29%0A%20%20%20%20%20%20%20%20.openPopup%28%29%3B%0A%0A%20%20%20%20%20%20%20%20%0A%20%20%20%20%0A%20%20%20%20%0A%20%20%20%20%20%20%20%20%20%20%20%20var%20marker_7933e3c76be741bc96c597d16405b68c%20%3D%20L.marker%28%0A%20%20%20%20%20%20%20%20%20%20%20%20%20%20%20%20%5B38.89227%2C%20-77.0123%5D%2C%0A%20%20%20%20%20%20%20%20%20%20%20%20%20%20%20%20%7B%7D%0A%20%20%20%20%20%20%20%20%20%20%20%20%29.addTo%28map_abd0a895d8f141f0bb335a7665cfef2e%29%3B%0A%20%20%20%20%20%20%20%20%0A%20%20%20%20%0A%20%20%20%20%20%20%20%20var%20popup_ec855ed5f9e74c07a7803fdaabcbcf9e%20%3D%20L.popup%28%7B%22autoClose%22%3A%20false%2C%20%22maxWidth%22%3A%20%22100%25%22%7D%29%3B%0A%0A%20%20%20%20%20%20%20%20%0A%20%20%20%20%20%20%20%20%20%20%20%20var%20html_56b6ed8e01aa4f19a7ecf7472baf7ffb%20%3D%20%24%28%60%3Cdiv%20id%3D%22html_56b6ed8e01aa4f19a7ecf7472baf7ffb%22%20style%3D%22width%3A%20100.0%25%3B%20height%3A%20100.0%25%3B%22%3EDistrict%20of%20Columbia%3C/div%3E%60%29%5B0%5D%3B%0A%20%20%20%20%20%20%20%20%20%20%20%20popup_ec855ed5f9e74c07a7803fdaabcbcf9e.setContent%28html_56b6ed8e01aa4f19a7ecf7472baf7ffb%29%3B%0A%20%20%20%20%20%20%20%20%0A%0A%20%20%20%20%20%20%20%20marker_7933e3c76be741bc96c597d16405b68c.bindPopup%28popup_ec855ed5f9e74c07a7803fdaabcbcf9e%29%0A%20%20%20%20%20%20%20%20.openPopup%28%29%3B%0A%0A%20%20%20%20%20%20%20%20%0A%20%20%20%20%0A%20%20%20%20%0A%20%20%20%20%20%20%20%20%20%20%20%20var%20marker_700421cad6aa4c5c9a7f5b44578aae98%20%3D%20L.marker%28%0A%20%20%20%20%20%20%20%20%20%20%20%20%20%20%20%20%5B28.097705%2C%20-81.73315500000001%5D%2C%0A%20%20%20%20%20%20%20%20%20%20%20%20%20%20%20%20%7B%7D%0A%20%20%20%20%20%20%20%20%20%20%20%20%29.addTo%28map_abd0a895d8f141f0bb335a7665cfef2e%29%3B%0A%20%20%20%20%20%20%20%20%0A%20%20%20%20%0A%20%20%20%20%20%20%20%20var%20popup_c0e45161723f4530b914ec1862f668e4%20%3D%20L.popup%28%7B%22autoClose%22%3A%20false%2C%20%22maxWidth%22%3A%20%22100%25%22%7D%29%3B%0A%0A%20%20%20%20%20%20%20%20%0A%20%20%20%20%20%20%20%20%20%20%20%20var%20html_8e4f9d2af3fe494297978c0c88c006de%20%3D%20%24%28%60%3Cdiv%20id%3D%22html_8e4f9d2af3fe494297978c0c88c006de%22%20style%3D%22width%3A%20100.0%25%3B%20height%3A%20100.0%25%3B%22%3EFlorida%3C/div%3E%60%29%5B0%5D%3B%0A%20%20%20%20%20%20%20%20%20%20%20%20popup_c0e45161723f4530b914ec1862f668e4.setContent%28html_8e4f9d2af3fe494297978c0c88c006de%29%3B%0A%20%20%20%20%20%20%20%20%0A%0A%20%20%20%20%20%20%20%20marker_700421cad6aa4c5c9a7f5b44578aae98.bindPopup%28popup_c0e45161723f4530b914ec1862f668e4%29%0A%20%20%20%20%20%20%20%20.openPopup%28%29%3B%0A%0A%20%20%20%20%20%20%20%20%0A%20%20%20%20%0A%20%20%20%20%0A%20%20%20%20%20%20%20%20%20%20%20%20var%20marker_d66b4d8b9b3543b18ba3824ee7297328%20%3D%20L.marker%28%0A%20%20%20%20%20%20%20%20%20%20%20%20%20%20%20%20%5B33.256820000000005%2C%20-83.90822%5D%2C%0A%20%20%20%20%20%20%20%20%20%20%20%20%20%20%20%20%7B%7D%0A%20%20%20%20%20%20%20%20%20%20%20%20%29.addTo%28map_abd0a895d8f141f0bb335a7665cfef2e%29%3B%0A%20%20%20%20%20%20%20%20%0A%20%20%20%20%0A%20%20%20%20%20%20%20%20var%20popup_59c899ea1588430d89c798af64c85db3%20%3D%20L.popup%28%7B%22autoClose%22%3A%20false%2C%20%22maxWidth%22%3A%20%22100%25%22%7D%29%3B%0A%0A%20%20%20%20%20%20%20%20%0A%20%20%20%20%20%20%20%20%20%20%20%20var%20html_e9a2d8aaff3742328df86827a5060d06%20%3D%20%24%28%60%3Cdiv%20id%3D%22html_e9a2d8aaff3742328df86827a5060d06%22%20style%3D%22width%3A%20100.0%25%3B%20height%3A%20100.0%25%3B%22%3EGeorgia%3C/div%3E%60%29%5B0%5D%3B%0A%20%20%20%20%20%20%20%20%20%20%20%20popup_59c899ea1588430d89c798af64c85db3.setContent%28html_e9a2d8aaff3742328df86827a5060d06%29%3B%0A%20%20%20%20%20%20%20%20%0A%0A%20%20%20%20%20%20%20%20marker_d66b4d8b9b3543b18ba3824ee7297328.bindPopup%28popup_59c899ea1588430d89c798af64c85db3%29%0A%20%20%20%20%20%20%20%20.openPopup%28%29%3B%0A%0A%20%20%20%20%20%20%20%20%0A%20%20%20%20%0A%20%20%20%20%0A%20%20%20%20%20%20%20%20%20%20%20%20var%20marker_d9c34927eaf645bda1df37bb84079037%20%3D%20L.marker%28%0A%20%20%20%20%20%20%20%20%20%20%20%20%20%20%20%20%5B21.34625%2C%20-157.8547%5D%2C%0A%20%20%20%20%20%20%20%20%20%20%20%20%20%20%20%20%7B%7D%0A%20%20%20%20%20%20%20%20%20%20%20%20%29.addTo%28map_abd0a895d8f141f0bb335a7665cfef2e%29%3B%0A%20%20%20%20%20%20%20%20%0A%20%20%20%20%0A%20%20%20%20%20%20%20%20var%20popup_3b65f3366d244186b50c3e08f86b4a5c%20%3D%20L.popup%28%7B%22autoClose%22%3A%20false%2C%20%22maxWidth%22%3A%20%22100%25%22%7D%29%3B%0A%0A%20%20%20%20%20%20%20%20%0A%20%20%20%20%20%20%20%20%20%20%20%20var%20html_a80481152d4944019d626521fb2c7774%20%3D%20%24%28%60%3Cdiv%20id%3D%22html_a80481152d4944019d626521fb2c7774%22%20style%3D%22width%3A%20100.0%25%3B%20height%3A%20100.0%25%3B%22%3EHawaii%3C/div%3E%60%29%5B0%5D%3B%0A%20%20%20%20%20%20%20%20%20%20%20%20popup_3b65f3366d244186b50c3e08f86b4a5c.setContent%28html_a80481152d4944019d626521fb2c7774%29%3B%0A%20%20%20%20%20%20%20%20%0A%0A%20%20%20%20%20%20%20%20marker_d9c34927eaf645bda1df37bb84079037.bindPopup%28popup_3b65f3366d244186b50c3e08f86b4a5c%29%0A%20%20%20%20%20%20%20%20.openPopup%28%29%3B%0A%0A%20%20%20%20%20%20%20%20%0A%20%20%20%20%0A%20%20%20%20%0A%20%20%20%20%20%20%20%20%20%20%20%20var%20marker_baff9662c8d2476884bc3529c6045664%20%3D%20L.marker%28%0A%20%20%20%20%20%20%20%20%20%20%20%20%20%20%20%20%5B43.725170000000006%2C%20-115.30425%5D%2C%0A%20%20%20%20%20%20%20%20%20%20%20%20%20%20%20%20%7B%7D%0A%20%20%20%20%20%20%20%20%20%20%20%20%29.addTo%28map_abd0a895d8f141f0bb335a7665cfef2e%29%3B%0A%20%20%20%20%20%20%20%20%0A%20%20%20%20%0A%20%20%20%20%20%20%20%20var%20popup_5ca0a58c30c14986a7bef32576d925fd%20%3D%20L.popup%28%7B%22autoClose%22%3A%20false%2C%20%22maxWidth%22%3A%20%22100%25%22%7D%29%3B%0A%0A%20%20%20%20%20%20%20%20%0A%20%20%20%20%20%20%20%20%20%20%20%20var%20html_904e5110a4ec4d2a826ec082974dc8c4%20%3D%20%24%28%60%3Cdiv%20id%3D%22html_904e5110a4ec4d2a826ec082974dc8c4%22%20style%3D%22width%3A%20100.0%25%3B%20height%3A%20100.0%25%3B%22%3EIdaho%3C/div%3E%60%29%5B0%5D%3B%0A%20%20%20%20%20%20%20%20%20%20%20%20popup_5ca0a58c30c14986a7bef32576d925fd.setContent%28html_904e5110a4ec4d2a826ec082974dc8c4%29%3B%0A%20%20%20%20%20%20%20%20%0A%0A%20%20%20%20%20%20%20%20marker_baff9662c8d2476884bc3529c6045664.bindPopup%28popup_5ca0a58c30c14986a7bef32576d925fd%29%0A%20%20%20%20%20%20%20%20.openPopup%28%29%3B%0A%0A%20%20%20%20%20%20%20%20%0A%20%20%20%20%0A%20%20%20%20%0A%20%20%20%20%20%20%20%20%20%20%20%20var%20marker_67316a9072be4ad087a1c08f7269c5c6%20%3D%20L.marker%28%0A%20%20%20%20%20%20%20%20%20%20%20%20%20%20%20%20%5B40.20565%2C%20-88.98392%5D%2C%0A%20%20%20%20%20%20%20%20%20%20%20%20%20%20%20%20%7B%7D%0A%20%20%20%20%20%20%20%20%20%20%20%20%29.addTo%28map_abd0a895d8f141f0bb335a7665cfef2e%29%3B%0A%20%20%20%20%20%20%20%20%0A%20%20%20%20%0A%20%20%20%20%20%20%20%20var%20popup_8c616403b89742bb8896dc6dc9ac50f6%20%3D%20L.popup%28%7B%22autoClose%22%3A%20false%2C%20%22maxWidth%22%3A%20%22100%25%22%7D%29%3B%0A%0A%20%20%20%20%20%20%20%20%0A%20%20%20%20%20%20%20%20%20%20%20%20var%20html_ebd4e456369748e8b44d21e4417ef760%20%3D%20%24%28%60%3Cdiv%20id%3D%22html_ebd4e456369748e8b44d21e4417ef760%22%20style%3D%22width%3A%20100.0%25%3B%20height%3A%20100.0%25%3B%22%3EIllinois%3C/div%3E%60%29%5B0%5D%3B%0A%20%20%20%20%20%20%20%20%20%20%20%20popup_8c616403b89742bb8896dc6dc9ac50f6.setContent%28html_ebd4e456369748e8b44d21e4417ef760%29%3B%0A%20%20%20%20%20%20%20%20%0A%0A%20%20%20%20%20%20%20%20marker_67316a9072be4ad087a1c08f7269c5c6.bindPopup%28popup_8c616403b89742bb8896dc6dc9ac50f6%29%0A%20%20%20%20%20%20%20%20.openPopup%28%29%3B%0A%0A%20%20%20%20%20%20%20%20%0A%20%20%20%20%0A%20%20%20%20%0A%20%20%20%20%20%20%20%20%20%20%20%20var%20marker_a5d5eb3c9578411d8a7757037a0d0d34%20%3D%20L.marker%28%0A%20%20%20%20%20%20%20%20%20%20%20%20%20%20%20%20%5B39.841629999999995%2C%20-86.22824999999999%5D%2C%0A%20%20%20%20%20%20%20%20%20%20%20%20%20%20%20%20%7B%7D%0A%20%20%20%20%20%20%20%20%20%20%20%20%29.addTo%28map_abd0a895d8f141f0bb335a7665cfef2e%29%3B%0A%20%20%20%20%20%20%20%20%0A%20%20%20%20%0A%20%20%20%20%20%20%20%20var%20popup_d39c1457f70744e5801e714e6be9dba5%20%3D%20L.popup%28%7B%22autoClose%22%3A%20false%2C%20%22maxWidth%22%3A%20%22100%25%22%7D%29%3B%0A%0A%20%20%20%20%20%20%20%20%0A%20%20%20%20%20%20%20%20%20%20%20%20var%20html_d6d40da10ea44180aba0f1e466f69e66%20%3D%20%24%28%60%3Cdiv%20id%3D%22html_d6d40da10ea44180aba0f1e466f69e66%22%20style%3D%22width%3A%20100.0%25%3B%20height%3A%20100.0%25%3B%22%3EIndiana%3C/div%3E%60%29%5B0%5D%3B%0A%20%20%20%20%20%20%20%20%20%20%20%20popup_d39c1457f70744e5801e714e6be9dba5.setContent%28html_d6d40da10ea44180aba0f1e466f69e66%29%3B%0A%20%20%20%20%20%20%20%20%0A%0A%20%20%20%20%20%20%20%20marker_a5d5eb3c9578411d8a7757037a0d0d34.bindPopup%28popup_d39c1457f70744e5801e714e6be9dba5%29%0A%20%20%20%20%20%20%20%20.openPopup%28%29%3B%0A%0A%20%20%20%20%20%20%20%20%0A%20%20%20%20%0A%20%20%20%20%0A%20%20%20%20%20%20%20%20%20%20%20%20var%20marker_c05668b3d2b24764a09283e0ee58c6c4%20%3D%20L.marker%28%0A%20%20%20%20%20%20%20%20%20%20%20%20%20%20%20%20%5B42.03548%2C%20-93.30979%5D%2C%0A%20%20%20%20%20%20%20%20%20%20%20%20%20%20%20%20%7B%7D%0A%20%20%20%20%20%20%20%20%20%20%20%20%29.addTo%28map_abd0a895d8f141f0bb335a7665cfef2e%29%3B%0A%20%20%20%20%20%20%20%20%0A%20%20%20%20%0A%20%20%20%20%20%20%20%20var%20popup_1389d6859af247c486e843b990a5c4b6%20%3D%20L.popup%28%7B%22autoClose%22%3A%20false%2C%20%22maxWidth%22%3A%20%22100%25%22%7D%29%3B%0A%0A%20%20%20%20%20%20%20%20%0A%20%20%20%20%20%20%20%20%20%20%20%20var%20html_bdb96fc8bf2c41228f52682729e83a6f%20%3D%20%24%28%60%3Cdiv%20id%3D%22html_bdb96fc8bf2c41228f52682729e83a6f%22%20style%3D%22width%3A%20100.0%25%3B%20height%3A%20100.0%25%3B%22%3EIowa%3C/div%3E%60%29%5B0%5D%3B%0A%20%20%20%20%20%20%20%20%20%20%20%20popup_1389d6859af247c486e843b990a5c4b6.setContent%28html_bdb96fc8bf2c41228f52682729e83a6f%29%3B%0A%20%20%20%20%20%20%20%20%0A%0A%20%20%20%20%20%20%20%20marker_c05668b3d2b24764a09283e0ee58c6c4.bindPopup%28popup_1389d6859af247c486e843b990a5c4b6%29%0A%20%20%20%20%20%20%20%20.openPopup%28%29%3B%0A%0A%20%20%20%20%20%20%20%20%0A%20%20%20%20%0A%20%20%20%20%0A%20%20%20%20%20%20%20%20%20%20%20%20var%20marker_42e43c0795a84943bcad2ae66d5e3c4a%20%3D%20L.marker%28%0A%20%20%20%20%20%20%20%20%20%20%20%20%20%20%20%20%5B38.5375%2C%20-97.24078%5D%2C%0A%20%20%20%20%20%20%20%20%20%20%20%20%20%20%20%20%7B%7D%0A%20%20%20%20%20%20%20%20%20%20%20%20%29.addTo%28map_abd0a895d8f141f0bb335a7665cfef2e%29%3B%0A%20%20%20%20%20%20%20%20%0A%20%20%20%20%0A%20%20%20%20%20%20%20%20var%20popup_ad844c04a8ca4efaa407488bcbe9a7b7%20%3D%20L.popup%28%7B%22autoClose%22%3A%20false%2C%20%22maxWidth%22%3A%20%22100%25%22%7D%29%3B%0A%0A%20%20%20%20%20%20%20%20%0A%20%20%20%20%20%20%20%20%20%20%20%20var%20html_4d9986201bab4ba1a718011e7dbdf9e5%20%3D%20%24%28%60%3Cdiv%20id%3D%22html_4d9986201bab4ba1a718011e7dbdf9e5%22%20style%3D%22width%3A%20100.0%25%3B%20height%3A%20100.0%25%3B%22%3EKansas%3C/div%3E%60%29%5B0%5D%3B%0A%20%20%20%20%20%20%20%20%20%20%20%20popup_ad844c04a8ca4efaa407488bcbe9a7b7.setContent%28html_4d9986201bab4ba1a718011e7dbdf9e5%29%3B%0A%20%20%20%20%20%20%20%20%0A%0A%20%20%20%20%20%20%20%20marker_42e43c0795a84943bcad2ae66d5e3c4a.bindPopup%28popup_ad844c04a8ca4efaa407488bcbe9a7b7%29%0A%20%20%20%20%20%20%20%20.openPopup%28%29%3B%0A%0A%20%20%20%20%20%20%20%20%0A%20%20%20%20%0A%20%20%20%20%0A%20%20%20%20%20%20%20%20%20%20%20%20var%20marker_d5927f831f864b5bb9f858649579b3cc%20%3D%20L.marker%28%0A%20%20%20%20%20%20%20%20%20%20%20%20%20%20%20%20%5B37.53889%2C%20-85.01527%5D%2C%0A%20%20%20%20%20%20%20%20%20%20%20%20%20%20%20%20%7B%7D%0A%20%20%20%20%20%20%20%20%20%20%20%20%29.addTo%28map_abd0a895d8f141f0bb335a7665cfef2e%29%3B%0A%20%20%20%20%20%20%20%20%0A%20%20%20%20%0A%20%20%20%20%20%20%20%20var%20popup_529e3c2b919146e2be3533143abb9b15%20%3D%20L.popup%28%7B%22autoClose%22%3A%20false%2C%20%22maxWidth%22%3A%20%22100%25%22%7D%29%3B%0A%0A%20%20%20%20%20%20%20%20%0A%20%20%20%20%20%20%20%20%20%20%20%20var%20html_27ec018f6d924239b9ccc346636b7922%20%3D%20%24%28%60%3Cdiv%20id%3D%22html_27ec018f6d924239b9ccc346636b7922%22%20style%3D%22width%3A%20100.0%25%3B%20height%3A%20100.0%25%3B%22%3EKentucky%3C/div%3E%60%29%5B0%5D%3B%0A%20%20%20%20%20%20%20%20%20%20%20%20popup_529e3c2b919146e2be3533143abb9b15.setContent%28html_27ec018f6d924239b9ccc346636b7922%29%3B%0A%20%20%20%20%20%20%20%20%0A%0A%20%20%20%20%20%20%20%20marker_d5927f831f864b5bb9f858649579b3cc.bindPopup%28popup_529e3c2b919146e2be3533143abb9b15%29%0A%20%20%20%20%20%20%20%20.openPopup%28%29%3B%0A%0A%20%20%20%20%20%20%20%20%0A%20%20%20%20%0A%20%20%20%20%0A%20%20%20%20%20%20%20%20%20%20%20%20var%20marker_b1d6bae615174ef0b802486b2ddd0a3a%20%3D%20L.marker%28%0A%20%20%20%20%20%20%20%20%20%20%20%20%20%20%20%20%5B30.8242%2C%20-92.1362%5D%2C%0A%20%20%20%20%20%20%20%20%20%20%20%20%20%20%20%20%7B%7D%0A%20%20%20%20%20%20%20%20%20%20%20%20%29.addTo%28map_abd0a895d8f141f0bb335a7665cfef2e%29%3B%0A%20%20%20%20%20%20%20%20%0A%20%20%20%20%0A%20%20%20%20%20%20%20%20var%20popup_5adef9562695454a954c1ff68c4fdce3%20%3D%20L.popup%28%7B%22autoClose%22%3A%20false%2C%20%22maxWidth%22%3A%20%22100%25%22%7D%29%3B%0A%0A%20%20%20%20%20%20%20%20%0A%20%20%20%20%20%20%20%20%20%20%20%20var%20html_04988c32c8224c578899ee34c41e7d46%20%3D%20%24%28%60%3Cdiv%20id%3D%22html_04988c32c8224c578899ee34c41e7d46%22%20style%3D%22width%3A%20100.0%25%3B%20height%3A%20100.0%25%3B%22%3ELouisiana%3C/div%3E%60%29%5B0%5D%3B%0A%20%20%20%20%20%20%20%20%20%20%20%20popup_5adef9562695454a954c1ff68c4fdce3.setContent%28html_04988c32c8224c578899ee34c41e7d46%29%3B%0A%20%20%20%20%20%20%20%20%0A%0A%20%20%20%20%20%20%20%20marker_b1d6bae615174ef0b802486b2ddd0a3a.bindPopup%28popup_5adef9562695454a954c1ff68c4fdce3%29%0A%20%20%20%20%20%20%20%20.openPopup%28%29%3B%0A%0A%20%20%20%20%20%20%20%20%0A%20%20%20%20%0A%20%20%20%20%0A%20%20%20%20%20%20%20%20%20%20%20%20var%20marker_db35bbf4faea49dc8afa1a83c7089f76%20%3D%20L.marker%28%0A%20%20%20%20%20%20%20%20%20%20%20%20%20%20%20%20%5B44.48111%2C%20-69.85784%5D%2C%0A%20%20%20%20%20%20%20%20%20%20%20%20%20%20%20%20%7B%7D%0A%20%20%20%20%20%20%20%20%20%20%20%20%29.addTo%28map_abd0a895d8f141f0bb335a7665cfef2e%29%3B%0A%20%20%20%20%20%20%20%20%0A%20%20%20%20%0A%20%20%20%20%20%20%20%20var%20popup_8a944f484a7e4aa5bf522b015855779d%20%3D%20L.popup%28%7B%22autoClose%22%3A%20false%2C%20%22maxWidth%22%3A%20%22100%25%22%7D%29%3B%0A%0A%20%20%20%20%20%20%20%20%0A%20%20%20%20%20%20%20%20%20%20%20%20var%20html_5ca0d52fb44942338fabe4ed077f3c5e%20%3D%20%24%28%60%3Cdiv%20id%3D%22html_5ca0d52fb44942338fabe4ed077f3c5e%22%20style%3D%22width%3A%20100.0%25%3B%20height%3A%20100.0%25%3B%22%3EMaine%3C/div%3E%60%29%5B0%5D%3B%0A%20%20%20%20%20%20%20%20%20%20%20%20popup_8a944f484a7e4aa5bf522b015855779d.setContent%28html_5ca0d52fb44942338fabe4ed077f3c5e%29%3B%0A%20%20%20%20%20%20%20%20%0A%0A%20%20%20%20%20%20%20%20marker_db35bbf4faea49dc8afa1a83c7089f76.bindPopup%28popup_8a944f484a7e4aa5bf522b015855779d%29%0A%20%20%20%20%20%20%20%20.openPopup%28%29%3B%0A%0A%20%20%20%20%20%20%20%20%0A%20%20%20%20%0A%20%20%20%20%0A%20%20%20%20%20%20%20%20%20%20%20%20var%20marker_229cc1269faa4db7ac18d2a7e2900cb5%20%3D%20L.marker%28%0A%20%20%20%20%20%20%20%20%20%20%20%20%20%20%20%20%5B39.29555%2C%20-76.82200999999998%5D%2C%0A%20%20%20%20%20%20%20%20%20%20%20%20%20%20%20%20%7B%7D%0A%20%20%20%20%20%20%20%20%20%20%20%20%29.addTo%28map_abd0a895d8f141f0bb335a7665cfef2e%29%3B%0A%20%20%20%20%20%20%20%20%0A%20%20%20%20%0A%20%20%20%20%20%20%20%20var%20popup_454e5c02b8dd47cfbe7ff0c87fa5b8e9%20%3D%20L.popup%28%7B%22autoClose%22%3A%20false%2C%20%22maxWidth%22%3A%20%22100%25%22%7D%29%3B%0A%0A%20%20%20%20%20%20%20%20%0A%20%20%20%20%20%20%20%20%20%20%20%20var%20html_39c2e79b7a3c408e84e5f2945c4d7f80%20%3D%20%24%28%60%3Cdiv%20id%3D%22html_39c2e79b7a3c408e84e5f2945c4d7f80%22%20style%3D%22width%3A%20100.0%25%3B%20height%3A%20100.0%25%3B%22%3EMaryland%3C/div%3E%60%29%5B0%5D%3B%0A%20%20%20%20%20%20%20%20%20%20%20%20popup_454e5c02b8dd47cfbe7ff0c87fa5b8e9.setContent%28html_39c2e79b7a3c408e84e5f2945c4d7f80%29%3B%0A%20%20%20%20%20%20%20%20%0A%0A%20%20%20%20%20%20%20%20marker_229cc1269faa4db7ac18d2a7e2900cb5.bindPopup%28popup_454e5c02b8dd47cfbe7ff0c87fa5b8e9%29%0A%20%20%20%20%20%20%20%20.openPopup%28%29%3B%0A%0A%20%20%20%20%20%20%20%20%0A%20%20%20%20%0A%20%20%20%20%0A%20%20%20%20%20%20%20%20%20%20%20%20var%20marker_c90b0d34e0e44f8d84e80b56f2cf4bc4%20%3D%20L.marker%28%0A%20%20%20%20%20%20%20%20%20%20%20%20%20%20%20%20%5B42.32037%2C%20-71.44185%5D%2C%0A%20%20%20%20%20%20%20%20%20%20%20%20%20%20%20%20%7B%7D%0A%20%20%20%20%20%20%20%20%20%20%20%20%29.addTo%28map_abd0a895d8f141f0bb335a7665cfef2e%29%3B%0A%20%20%20%20%20%20%20%20%0A%20%20%20%20%0A%20%20%20%20%20%20%20%20var%20popup_611ffd9a4a834f188400014f243653f2%20%3D%20L.popup%28%7B%22autoClose%22%3A%20false%2C%20%22maxWidth%22%3A%20%22100%25%22%7D%29%3B%0A%0A%20%20%20%20%20%20%20%20%0A%20%20%20%20%20%20%20%20%20%20%20%20var%20html_39f23194761f40dfbb09ac31d8a0e2fe%20%3D%20%24%28%60%3Cdiv%20id%3D%22html_39f23194761f40dfbb09ac31d8a0e2fe%22%20style%3D%22width%3A%20100.0%25%3B%20height%3A%20100.0%25%3B%22%3EMassachusetts%3C/div%3E%60%29%5B0%5D%3B%0A%20%20%20%20%20%20%20%20%20%20%20%20popup_611ffd9a4a834f188400014f243653f2.setContent%28html_39f23194761f40dfbb09ac31d8a0e2fe%29%3B%0A%20%20%20%20%20%20%20%20%0A%0A%20%20%20%20%20%20%20%20marker_c90b0d34e0e44f8d84e80b56f2cf4bc4.bindPopup%28popup_611ffd9a4a834f188400014f243653f2%29%0A%20%20%20%20%20%20%20%20.openPopup%28%29%3B%0A%0A%20%20%20%20%20%20%20%20%0A%20%20%20%20%0A%20%20%20%20%0A%20%20%20%20%20%20%20%20%20%20%20%20var%20marker_07d793d095ae48e0ac1418f0436cc681%20%3D%20L.marker%28%0A%20%20%20%20%20%20%20%20%20%20%20%20%20%20%20%20%5B42.91239%2C%20-84.39364%5D%2C%0A%20%20%20%20%20%20%20%20%20%20%20%20%20%20%20%20%7B%7D%0A%20%20%20%20%20%20%20%20%20%20%20%20%29.addTo%28map_abd0a895d8f141f0bb335a7665cfef2e%29%3B%0A%20%20%20%20%20%20%20%20%0A%20%20%20%20%0A%20%20%20%20%20%20%20%20var%20popup_c09ad098a75c42ecbfd1f81ab50e3ae0%20%3D%20L.popup%28%7B%22autoClose%22%3A%20false%2C%20%22maxWidth%22%3A%20%22100%25%22%7D%29%3B%0A%0A%20%20%20%20%20%20%20%20%0A%20%20%20%20%20%20%20%20%20%20%20%20var%20html_ab4df7b7357c4152af126b7a4c6bffc9%20%3D%20%24%28%60%3Cdiv%20id%3D%22html_ab4df7b7357c4152af126b7a4c6bffc9%22%20style%3D%22width%3A%20100.0%25%3B%20height%3A%20100.0%25%3B%22%3EMichigan%3C/div%3E%60%29%5B0%5D%3B%0A%20%20%20%20%20%20%20%20%20%20%20%20popup_c09ad098a75c42ecbfd1f81ab50e3ae0.setContent%28html_ab4df7b7357c4152af126b7a4c6bffc9%29%3B%0A%20%20%20%20%20%20%20%20%0A%0A%20%20%20%20%20%20%20%20marker_07d793d095ae48e0ac1418f0436cc681.bindPopup%28popup_c09ad098a75c42ecbfd1f81ab50e3ae0%29%0A%20%20%20%20%20%20%20%20.openPopup%28%29%3B%0A%0A%20%20%20%20%20%20%20%20%0A%20%20%20%20%0A%20%20%20%20%0A%20%20%20%20%20%20%20%20%20%20%20%20var%20marker_ff94fd622d0e4bd49310903e1ffd030a%20%3D%20L.marker%28%0A%20%20%20%20%20%20%20%20%20%20%20%20%20%20%20%20%5B44.89703%2C%20-93.97028%5D%2C%0A%20%20%20%20%20%20%20%20%20%20%20%20%20%20%20%20%7B%7D%0A%20%20%20%20%20%20%20%20%20%20%20%20%29.addTo%28map_abd0a895d8f141f0bb335a7665cfef2e%29%3B%0A%20%20%20%20%20%20%20%20%0A%20%20%20%20%0A%20%20%20%20%20%20%20%20var%20popup_e1f0dab1bb4d475a8eafa1569381636c%20%3D%20L.popup%28%7B%22autoClose%22%3A%20false%2C%20%22maxWidth%22%3A%20%22100%25%22%7D%29%3B%0A%0A%20%20%20%20%20%20%20%20%0A%20%20%20%20%20%20%20%20%20%20%20%20var%20html_33d2131695f447f7a00fb79ce09605b4%20%3D%20%24%28%60%3Cdiv%20id%3D%22html_33d2131695f447f7a00fb79ce09605b4%22%20style%3D%22width%3A%20100.0%25%3B%20height%3A%20100.0%25%3B%22%3EMinnesota%3C/div%3E%60%29%5B0%5D%3B%0A%20%20%20%20%20%20%20%20%20%20%20%20popup_e1f0dab1bb4d475a8eafa1569381636c.setContent%28html_33d2131695f447f7a00fb79ce09605b4%29%3B%0A%20%20%20%20%20%20%20%20%0A%0A%20%20%20%20%20%20%20%20marker_ff94fd622d0e4bd49310903e1ffd030a.bindPopup%28popup_e1f0dab1bb4d475a8eafa1569381636c%29%0A%20%20%20%20%20%20%20%20.openPopup%28%29%3B%0A%0A%20%20%20%20%20%20%20%20%0A%20%20%20%20%0A%20%20%20%20%0A%20%20%20%20%20%20%20%20%20%20%20%20var%20marker_8cd4886cc5b7417c99183cab4f04506b%20%3D%20L.marker%28%0A%20%20%20%20%20%20%20%20%20%20%20%20%20%20%20%20%5B32.70944%2C%20-89.52905%5D%2C%0A%20%20%20%20%20%20%20%20%20%20%20%20%20%20%20%20%7B%7D%0A%20%20%20%20%20%20%20%20%20%20%20%20%29.addTo%28map_abd0a895d8f141f0bb335a7665cfef2e%29%3B%0A%20%20%20%20%20%20%20%20%0A%20%20%20%20%0A%20%20%20%20%20%20%20%20var%20popup_d507bb40d71649b6aa1ff436d6c13045%20%3D%20L.popup%28%7B%22autoClose%22%3A%20false%2C%20%22maxWidth%22%3A%20%22100%25%22%7D%29%3B%0A%0A%20%20%20%20%20%20%20%20%0A%20%20%20%20%20%20%20%20%20%20%20%20var%20html_547db99dcdc84f2aacaf95ea198588d6%20%3D%20%24%28%60%3Cdiv%20id%3D%22html_547db99dcdc84f2aacaf95ea198588d6%22%20style%3D%22width%3A%20100.0%25%3B%20height%3A%20100.0%25%3B%22%3EMississippi%3C/div%3E%60%29%5B0%5D%3B%0A%20%20%20%20%20%20%20%20%20%20%20%20popup_d507bb40d71649b6aa1ff436d6c13045.setContent%28html_547db99dcdc84f2aacaf95ea198588d6%29%3B%0A%20%20%20%20%20%20%20%20%0A%0A%20%20%20%20%20%20%20%20marker_8cd4886cc5b7417c99183cab4f04506b.bindPopup%28popup_d507bb40d71649b6aa1ff436d6c13045%29%0A%20%20%20%20%20%20%20%20.openPopup%28%29%3B%0A%0A%20%20%20%20%20%20%20%20%0A%20%20%20%20%0A%20%20%20%20%0A%20%20%20%20%20%20%20%20%20%20%20%20var%20marker_4accbf6a325a4325aabb78daa715ea77%20%3D%20L.marker%28%0A%20%20%20%20%20%20%20%20%20%20%20%20%20%20%20%20%5B38.70211%2C%20-92.847%5D%2C%0A%20%20%20%20%20%20%20%20%20%20%20%20%20%20%20%20%7B%7D%0A%20%20%20%20%20%20%20%20%20%20%20%20%29.addTo%28map_abd0a895d8f141f0bb335a7665cfef2e%29%3B%0A%20%20%20%20%20%20%20%20%0A%20%20%20%20%0A%20%20%20%20%20%20%20%20var%20popup_52de2bf2d1c047ebad65897e6241c878%20%3D%20L.popup%28%7B%22autoClose%22%3A%20false%2C%20%22maxWidth%22%3A%20%22100%25%22%7D%29%3B%0A%0A%20%20%20%20%20%20%20%20%0A%20%20%20%20%20%20%20%20%20%20%20%20var%20html_e07d8290dfec461c86db9f13fd701ef4%20%3D%20%24%28%60%3Cdiv%20id%3D%22html_e07d8290dfec461c86db9f13fd701ef4%22%20style%3D%22width%3A%20100.0%25%3B%20height%3A%20100.0%25%3B%22%3EMissouri%3C/div%3E%60%29%5B0%5D%3B%0A%20%20%20%20%20%20%20%20%20%20%20%20popup_52de2bf2d1c047ebad65897e6241c878.setContent%28html_e07d8290dfec461c86db9f13fd701ef4%29%3B%0A%20%20%20%20%20%20%20%20%0A%0A%20%20%20%20%20%20%20%20marker_4accbf6a325a4325aabb78daa715ea77.bindPopup%28popup_52de2bf2d1c047ebad65897e6241c878%29%0A%20%20%20%20%20%20%20%20.openPopup%28%29%3B%0A%0A%20%20%20%20%20%20%20%20%0A%20%20%20%20%0A%20%20%20%20%0A%20%20%20%20%20%20%20%20%20%20%20%20var%20marker_ed1b27067fcf4f42920ac89cf529bed1%20%3D%20L.marker%28%0A%20%20%20%20%20%20%20%20%20%20%20%20%20%20%20%20%5B46.868945%2C%20-111.2556%5D%2C%0A%20%20%20%20%20%20%20%20%20%20%20%20%20%20%20%20%7B%7D%0A%20%20%20%20%20%20%20%20%20%20%20%20%29.addTo%28map_abd0a895d8f141f0bb335a7665cfef2e%29%3B%0A%20%20%20%20%20%20%20%20%0A%20%20%20%20%0A%20%20%20%20%20%20%20%20var%20popup_020d4831fc72427190596ff38c045326%20%3D%20L.popup%28%7B%22autoClose%22%3A%20false%2C%20%22maxWidth%22%3A%20%22100%25%22%7D%29%3B%0A%0A%20%20%20%20%20%20%20%20%0A%20%20%20%20%20%20%20%20%20%20%20%20var%20html_246735db3fef47998dc728a2aab74046%20%3D%20%24%28%60%3Cdiv%20id%3D%22html_246735db3fef47998dc728a2aab74046%22%20style%3D%22width%3A%20100.0%25%3B%20height%3A%20100.0%25%3B%22%3EMontana%3C/div%3E%60%29%5B0%5D%3B%0A%20%20%20%20%20%20%20%20%20%20%20%20popup_020d4831fc72427190596ff38c045326.setContent%28html_246735db3fef47998dc728a2aab74046%29%3B%0A%20%20%20%20%20%20%20%20%0A%0A%20%20%20%20%20%20%20%20marker_ed1b27067fcf4f42920ac89cf529bed1.bindPopup%28popup_020d4831fc72427190596ff38c045326%29%0A%20%20%20%20%20%20%20%20.openPopup%28%29%3B%0A%0A%20%20%20%20%20%20%20%20%0A%20%20%20%20%0A%20%20%20%20%0A%20%20%20%20%20%20%20%20%20%20%20%20var%20marker_114d3958865d4d79bc696b3a0782a8bb%20%3D%20L.marker%28%0A%20%20%20%20%20%20%20%20%20%20%20%20%20%20%20%20%5B41.1198%2C%20-97.5007%5D%2C%0A%20%20%20%20%20%20%20%20%20%20%20%20%20%20%20%20%7B%7D%0A%20%20%20%20%20%20%20%20%20%20%20%20%29.addTo%28map_abd0a895d8f141f0bb335a7665cfef2e%29%3B%0A%20%20%20%20%20%20%20%20%0A%20%20%20%20%0A%20%20%20%20%20%20%20%20var%20popup_781e94c6f57d4436a555ed01ff6c2be1%20%3D%20L.popup%28%7B%22autoClose%22%3A%20false%2C%20%22maxWidth%22%3A%20%22100%25%22%7D%29%3B%0A%0A%20%20%20%20%20%20%20%20%0A%20%20%20%20%20%20%20%20%20%20%20%20var%20html_e66d5be8fadc4f37a1316a385cfc9d77%20%3D%20%24%28%60%3Cdiv%20id%3D%22html_e66d5be8fadc4f37a1316a385cfc9d77%22%20style%3D%22width%3A%20100.0%25%3B%20height%3A%20100.0%25%3B%22%3ENebraska%3C/div%3E%60%29%5B0%5D%3B%0A%20%20%20%20%20%20%20%20%20%20%20%20popup_781e94c6f57d4436a555ed01ff6c2be1.setContent%28html_e66d5be8fadc4f37a1316a385cfc9d77%29%3B%0A%20%20%20%20%20%20%20%20%0A%0A%20%20%20%20%20%20%20%20marker_114d3958865d4d79bc696b3a0782a8bb.bindPopup%28popup_781e94c6f57d4436a555ed01ff6c2be1%29%0A%20%20%20%20%20%20%20%20.openPopup%28%29%3B%0A%0A%20%20%20%20%20%20%20%20%0A%20%20%20%20%0A%20%20%20%20%0A%20%20%20%20%20%20%20%20%20%20%20%20var%20marker_ba8fc5f5937e41e181c7a49e092778dc%20%3D%20L.marker%28%0A%20%20%20%20%20%20%20%20%20%20%20%20%20%20%20%20%5B36.66074%2C%20-115.2626%5D%2C%0A%20%20%20%20%20%20%20%20%20%20%20%20%20%20%20%20%7B%7D%0A%20%20%20%20%20%20%20%20%20%20%20%20%29.addTo%28map_abd0a895d8f141f0bb335a7665cfef2e%29%3B%0A%20%20%20%20%20%20%20%20%0A%20%20%20%20%0A%20%20%20%20%20%20%20%20var%20popup_b6c3fe5b87414ad5bcb8f49af5d9ebae%20%3D%20L.popup%28%7B%22autoClose%22%3A%20false%2C%20%22maxWidth%22%3A%20%22100%25%22%7D%29%3B%0A%0A%20%20%20%20%20%20%20%20%0A%20%20%20%20%20%20%20%20%20%20%20%20var%20html_ca05035e0b4044a9b19517883a995944%20%3D%20%24%28%60%3Cdiv%20id%3D%22html_ca05035e0b4044a9b19517883a995944%22%20style%3D%22width%3A%20100.0%25%3B%20height%3A%20100.0%25%3B%22%3ENevada%3C/div%3E%60%29%5B0%5D%3B%0A%20%20%20%20%20%20%20%20%20%20%20%20popup_b6c3fe5b87414ad5bcb8f49af5d9ebae.setContent%28html_ca05035e0b4044a9b19517883a995944%29%3B%0A%20%20%20%20%20%20%20%20%0A%0A%20%20%20%20%20%20%20%20marker_ba8fc5f5937e41e181c7a49e092778dc.bindPopup%28popup_b6c3fe5b87414ad5bcb8f49af5d9ebae%29%0A%20%20%20%20%20%20%20%20.openPopup%28%29%3B%0A%0A%20%20%20%20%20%20%20%20%0A%20%20%20%20%0A%20%20%20%20%0A%20%20%20%20%20%20%20%20%20%20%20%20var%20marker_fec6361424244fef9ccf26380c8adae8%20%3D%20L.marker%28%0A%20%20%20%20%20%20%20%20%20%20%20%20%20%20%20%20%5B43.38619%2C%20-71.63842000000001%5D%2C%0A%20%20%20%20%20%20%20%20%20%20%20%20%20%20%20%20%7B%7D%0A%20%20%20%20%20%20%20%20%20%20%20%20%29.addTo%28map_abd0a895d8f141f0bb335a7665cfef2e%29%3B%0A%20%20%20%20%20%20%20%20%0A%20%20%20%20%0A%20%20%20%20%20%20%20%20var%20popup_b7cf90baee3c4d2f8738fe74be972c2f%20%3D%20L.popup%28%7B%22autoClose%22%3A%20false%2C%20%22maxWidth%22%3A%20%22100%25%22%7D%29%3B%0A%0A%20%20%20%20%20%20%20%20%0A%20%20%20%20%20%20%20%20%20%20%20%20var%20html_b8147fa2f00a496f998ba81e8fefefc4%20%3D%20%24%28%60%3Cdiv%20id%3D%22html_b8147fa2f00a496f998ba81e8fefefc4%22%20style%3D%22width%3A%20100.0%25%3B%20height%3A%20100.0%25%3B%22%3ENew%20Hampshire%3C/div%3E%60%29%5B0%5D%3B%0A%20%20%20%20%20%20%20%20%20%20%20%20popup_b7cf90baee3c4d2f8738fe74be972c2f.setContent%28html_b8147fa2f00a496f998ba81e8fefefc4%29%3B%0A%20%20%20%20%20%20%20%20%0A%0A%20%20%20%20%20%20%20%20marker_fec6361424244fef9ccf26380c8adae8.bindPopup%28popup_b7cf90baee3c4d2f8738fe74be972c2f%29%0A%20%20%20%20%20%20%20%20.openPopup%28%29%3B%0A%0A%20%20%20%20%20%20%20%20%0A%20%20%20%20%0A%20%20%20%20%0A%20%20%20%20%20%20%20%20%20%20%20%20var%20marker_454cd6a3b8eb4c908ab81f0b0d6ca998%20%3D%20L.marker%28%0A%20%20%20%20%20%20%20%20%20%20%20%20%20%20%20%20%5B40.57264%2C%20-74.46401%5D%2C%0A%20%20%20%20%20%20%20%20%20%20%20%20%20%20%20%20%7B%7D%0A%20%20%20%20%20%20%20%20%20%20%20%20%29.addTo%28map_abd0a895d8f141f0bb335a7665cfef2e%29%3B%0A%20%20%20%20%20%20%20%20%0A%20%20%20%20%0A%20%20%20%20%20%20%20%20var%20popup_69a3bb45fe084c61abbe45fc0f03f91c%20%3D%20L.popup%28%7B%22autoClose%22%3A%20false%2C%20%22maxWidth%22%3A%20%22100%25%22%7D%29%3B%0A%0A%20%20%20%20%20%20%20%20%0A%20%20%20%20%20%20%20%20%20%20%20%20var%20html_550c8aa01b634340bee2aa01e37cacf3%20%3D%20%24%28%60%3Cdiv%20id%3D%22html_550c8aa01b634340bee2aa01e37cacf3%22%20style%3D%22width%3A%20100.0%25%3B%20height%3A%20100.0%25%3B%22%3ENew%20Jersey%3C/div%3E%60%29%5B0%5D%3B%0A%20%20%20%20%20%20%20%20%20%20%20%20popup_69a3bb45fe084c61abbe45fc0f03f91c.setContent%28html_550c8aa01b634340bee2aa01e37cacf3%29%3B%0A%20%20%20%20%20%20%20%20%0A%0A%20%20%20%20%20%20%20%20marker_454cd6a3b8eb4c908ab81f0b0d6ca998.bindPopup%28popup_69a3bb45fe084c61abbe45fc0f03f91c%29%0A%20%20%20%20%20%20%20%20.openPopup%28%29%3B%0A%0A%20%20%20%20%20%20%20%20%0A%20%20%20%20%0A%20%20%20%20%0A%20%20%20%20%20%20%20%20%20%20%20%20var%20marker_7063850d1c27416d81d7c0d9490b50d3%20%3D%20L.marker%28%0A%20%20%20%20%20%20%20%20%20%20%20%20%20%20%20%20%5B35.103790000000004%2C%20-106.54945000000001%5D%2C%0A%20%20%20%20%20%20%20%20%20%20%20%20%20%20%20%20%7B%7D%0A%20%20%20%20%20%20%20%20%20%20%20%20%29.addTo%28map_abd0a895d8f141f0bb335a7665cfef2e%29%3B%0A%20%20%20%20%20%20%20%20%0A%20%20%20%20%0A%20%20%20%20%20%20%20%20var%20popup_88e296d687a3435a9d27e87a58e5a4fe%20%3D%20L.popup%28%7B%22autoClose%22%3A%20false%2C%20%22maxWidth%22%3A%20%22100%25%22%7D%29%3B%0A%0A%20%20%20%20%20%20%20%20%0A%20%20%20%20%20%20%20%20%20%20%20%20var%20html_f5b9528c5be64f2c9f72ca2932be7b3d%20%3D%20%24%28%60%3Cdiv%20id%3D%22html_f5b9528c5be64f2c9f72ca2932be7b3d%22%20style%3D%22width%3A%20100.0%25%3B%20height%3A%20100.0%25%3B%22%3ENew%20Mexico%3C/div%3E%60%29%5B0%5D%3B%0A%20%20%20%20%20%20%20%20%20%20%20%20popup_88e296d687a3435a9d27e87a58e5a4fe.setContent%28html_f5b9528c5be64f2c9f72ca2932be7b3d%29%3B%0A%20%20%20%20%20%20%20%20%0A%0A%20%20%20%20%20%20%20%20marker_7063850d1c27416d81d7c0d9490b50d3.bindPopup%28popup_88e296d687a3435a9d27e87a58e5a4fe%29%0A%20%20%20%20%20%20%20%20.openPopup%28%29%3B%0A%0A%20%20%20%20%20%20%20%20%0A%20%20%20%20%0A%20%20%20%20%0A%20%20%20%20%20%20%20%20%20%20%20%20var%20marker_e4e976fe08714dfeb1fc1c28bfc7748c%20%3D%20L.marker%28%0A%20%20%20%20%20%20%20%20%20%20%20%20%20%20%20%20%5B42.4633%2C%20-75.30894%5D%2C%0A%20%20%20%20%20%20%20%20%20%20%20%20%20%20%20%20%7B%7D%0A%20%20%20%20%20%20%20%20%20%20%20%20%29.addTo%28map_abd0a895d8f141f0bb335a7665cfef2e%29%3B%0A%20%20%20%20%20%20%20%20%0A%20%20%20%20%0A%20%20%20%20%20%20%20%20var%20popup_85694026811e41c5b6936e411a852dbf%20%3D%20L.popup%28%7B%22autoClose%22%3A%20false%2C%20%22maxWidth%22%3A%20%22100%25%22%7D%29%3B%0A%0A%20%20%20%20%20%20%20%20%0A%20%20%20%20%20%20%20%20%20%20%20%20var%20html_60d112a6098649ea89be841502b85033%20%3D%20%24%28%60%3Cdiv%20id%3D%22html_60d112a6098649ea89be841502b85033%22%20style%3D%22width%3A%20100.0%25%3B%20height%3A%20100.0%25%3B%22%3ENew%20York%3C/div%3E%60%29%5B0%5D%3B%0A%20%20%20%20%20%20%20%20%20%20%20%20popup_85694026811e41c5b6936e411a852dbf.setContent%28html_60d112a6098649ea89be841502b85033%29%3B%0A%20%20%20%20%20%20%20%20%0A%0A%20%20%20%20%20%20%20%20marker_e4e976fe08714dfeb1fc1c28bfc7748c.bindPopup%28popup_85694026811e41c5b6936e411a852dbf%29%0A%20%20%20%20%20%20%20%20.openPopup%28%29%3B%0A%0A%20%20%20%20%20%20%20%20%0A%20%20%20%20%0A%20%20%20%20%0A%20%20%20%20%20%20%20%20%20%20%20%20var%20marker_fd8b77ed540b44d483438e944fda7a45%20%3D%20L.marker%28%0A%20%20%20%20%20%20%20%20%20%20%20%20%20%20%20%20%5B35.64015%2C%20-80.117685%5D%2C%0A%20%20%20%20%20%20%20%20%20%20%20%20%20%20%20%20%7B%7D%0A%20%20%20%20%20%20%20%20%20%20%20%20%29.addTo%28map_abd0a895d8f141f0bb335a7665cfef2e%29%3B%0A%20%20%20%20%20%20%20%20%0A%20%20%20%20%0A%20%20%20%20%20%20%20%20var%20popup_52108de0a2404d17a225e5c2f990cb64%20%3D%20L.popup%28%7B%22autoClose%22%3A%20false%2C%20%22maxWidth%22%3A%20%22100%25%22%7D%29%3B%0A%0A%20%20%20%20%20%20%20%20%0A%20%20%20%20%20%20%20%20%20%20%20%20var%20html_0d2a525a650445b7b84e181428a3210f%20%3D%20%24%28%60%3Cdiv%20id%3D%22html_0d2a525a650445b7b84e181428a3210f%22%20style%3D%22width%3A%20100.0%25%3B%20height%3A%20100.0%25%3B%22%3ENorth%20Carolina%3C/div%3E%60%29%5B0%5D%3B%0A%20%20%20%20%20%20%20%20%20%20%20%20popup_52108de0a2404d17a225e5c2f990cb64.setContent%28html_0d2a525a650445b7b84e181428a3210f%29%3B%0A%20%20%20%20%20%20%20%20%0A%0A%20%20%20%20%20%20%20%20marker_fd8b77ed540b44d483438e944fda7a45.bindPopup%28popup_52108de0a2404d17a225e5c2f990cb64%29%0A%20%20%20%20%20%20%20%20.openPopup%28%29%3B%0A%0A%20%20%20%20%20%20%20%20%0A%20%20%20%20%0A%20%20%20%20%0A%20%20%20%20%20%20%20%20%20%20%20%20var%20marker_1f1f5b8c7e634f2fa290de14b5ed4710%20%3D%20L.marker%28%0A%20%20%20%20%20%20%20%20%20%20%20%20%20%20%20%20%5B47.344435000000004%2C%20-99.118335%5D%2C%0A%20%20%20%20%20%20%20%20%20%20%20%20%20%20%20%20%7B%7D%0A%20%20%20%20%20%20%20%20%20%20%20%20%29.addTo%28map_abd0a895d8f141f0bb335a7665cfef2e%29%3B%0A%20%20%20%20%20%20%20%20%0A%20%20%20%20%0A%20%20%20%20%20%20%20%20var%20popup_70f8d5286f284025abd077357a984f48%20%3D%20L.popup%28%7B%22autoClose%22%3A%20false%2C%20%22maxWidth%22%3A%20%22100%25%22%7D%29%3B%0A%0A%20%20%20%20%20%20%20%20%0A%20%20%20%20%20%20%20%20%20%20%20%20var%20html_1b830a61a89a4b57b5e0235e24733e1a%20%3D%20%24%28%60%3Cdiv%20id%3D%22html_1b830a61a89a4b57b5e0235e24733e1a%22%20style%3D%22width%3A%20100.0%25%3B%20height%3A%20100.0%25%3B%22%3ENorth%20Dakota%3C/div%3E%60%29%5B0%5D%3B%0A%20%20%20%20%20%20%20%20%20%20%20%20popup_70f8d5286f284025abd077357a984f48.setContent%28html_1b830a61a89a4b57b5e0235e24733e1a%29%3B%0A%20%20%20%20%20%20%20%20%0A%0A%20%20%20%20%20%20%20%20marker_1f1f5b8c7e634f2fa290de14b5ed4710.bindPopup%28popup_70f8d5286f284025abd077357a984f48%29%0A%20%20%20%20%20%20%20%20.openPopup%28%29%3B%0A%0A%20%20%20%20%20%20%20%20%0A%20%20%20%20%0A%20%20%20%20%0A%20%20%20%20%20%20%20%20%20%20%20%20var%20marker_0b9c55fda94d494a8d3f7fe06dc00f2e%20%3D%20L.marker%28%0A%20%20%20%20%20%20%20%20%20%20%20%20%20%20%20%20%5B40.324915000000004%2C%20-82.940635%5D%2C%0A%20%20%20%20%20%20%20%20%20%20%20%20%20%20%20%20%7B%7D%0A%20%20%20%20%20%20%20%20%20%20%20%20%29.addTo%28map_abd0a895d8f141f0bb335a7665cfef2e%29%3B%0A%20%20%20%20%20%20%20%20%0A%20%20%20%20%0A%20%20%20%20%20%20%20%20var%20popup_d07bef2816824c25be0f97ae2ea4a8b5%20%3D%20L.popup%28%7B%22autoClose%22%3A%20false%2C%20%22maxWidth%22%3A%20%22100%25%22%7D%29%3B%0A%0A%20%20%20%20%20%20%20%20%0A%20%20%20%20%20%20%20%20%20%20%20%20var%20html_e42643996dea4ebc87f8e00fc246ece6%20%3D%20%24%28%60%3Cdiv%20id%3D%22html_e42643996dea4ebc87f8e00fc246ece6%22%20style%3D%22width%3A%20100.0%25%3B%20height%3A%20100.0%25%3B%22%3EOhio%3C/div%3E%60%29%5B0%5D%3B%0A%20%20%20%20%20%20%20%20%20%20%20%20popup_d07bef2816824c25be0f97ae2ea4a8b5.setContent%28html_e42643996dea4ebc87f8e00fc246ece6%29%3B%0A%20%20%20%20%20%20%20%20%0A%0A%20%20%20%20%20%20%20%20marker_0b9c55fda94d494a8d3f7fe06dc00f2e.bindPopup%28popup_d07bef2816824c25be0f97ae2ea4a8b5%29%0A%20%20%20%20%20%20%20%20.openPopup%28%29%3B%0A%0A%20%20%20%20%20%20%20%20%0A%20%20%20%20%0A%20%20%20%20%0A%20%20%20%20%20%20%20%20%20%20%20%20var%20marker_55d76975ddfe46a7a9fe6e8354948eb1%20%3D%20L.marker%28%0A%20%20%20%20%20%20%20%20%20%20%20%20%20%20%20%20%5B35.51584000000001%2C%20-97.26927%5D%2C%0A%20%20%20%20%20%20%20%20%20%20%20%20%20%20%20%20%7B%7D%0A%20%20%20%20%20%20%20%20%20%20%20%20%29.addTo%28map_abd0a895d8f141f0bb335a7665cfef2e%29%3B%0A%20%20%20%20%20%20%20%20%0A%20%20%20%20%0A%20%20%20%20%20%20%20%20var%20popup_889ef11a2f5846639a8489ff1d7614c1%20%3D%20L.popup%28%7B%22autoClose%22%3A%20false%2C%20%22maxWidth%22%3A%20%22100%25%22%7D%29%3B%0A%0A%20%20%20%20%20%20%20%20%0A%20%20%20%20%20%20%20%20%20%20%20%20var%20html_2361845fbffb4c27b416fdb781de9056%20%3D%20%24%28%60%3Cdiv%20id%3D%22html_2361845fbffb4c27b416fdb781de9056%22%20style%3D%22width%3A%20100.0%25%3B%20height%3A%20100.0%25%3B%22%3EOklahoma%3C/div%3E%60%29%5B0%5D%3B%0A%20%20%20%20%20%20%20%20%20%20%20%20popup_889ef11a2f5846639a8489ff1d7614c1.setContent%28html_2361845fbffb4c27b416fdb781de9056%29%3B%0A%20%20%20%20%20%20%20%20%0A%0A%20%20%20%20%20%20%20%20marker_55d76975ddfe46a7a9fe6e8354948eb1.bindPopup%28popup_889ef11a2f5846639a8489ff1d7614c1%29%0A%20%20%20%20%20%20%20%20.openPopup%28%29%3B%0A%0A%20%20%20%20%20%20%20%20%0A%20%20%20%20%0A%20%20%20%20%0A%20%20%20%20%20%20%20%20%20%20%20%20var%20marker_6d71850b3a584203b2ddb337a7f31d70%20%3D%20L.marker%28%0A%20%20%20%20%20%20%20%20%20%20%20%20%20%20%20%20%5B44.521694999999994%2C%20-122.86165%5D%2C%0A%20%20%20%20%20%20%20%20%20%20%20%20%20%20%20%20%7B%7D%0A%20%20%20%20%20%20%20%20%20%20%20%20%29.addTo%28map_abd0a895d8f141f0bb335a7665cfef2e%29%3B%0A%20%20%20%20%20%20%20%20%0A%20%20%20%20%0A%20%20%20%20%20%20%20%20var%20popup_f278fd6989354beda9058843df333ca7%20%3D%20L.popup%28%7B%22autoClose%22%3A%20false%2C%20%22maxWidth%22%3A%20%22100%25%22%7D%29%3B%0A%0A%20%20%20%20%20%20%20%20%0A%20%20%20%20%20%20%20%20%20%20%20%20var%20html_5b45ca3b555545ad844bfdf0c3b40b63%20%3D%20%24%28%60%3Cdiv%20id%3D%22html_5b45ca3b555545ad844bfdf0c3b40b63%22%20style%3D%22width%3A%20100.0%25%3B%20height%3A%20100.0%25%3B%22%3EOregon%3C/div%3E%60%29%5B0%5D%3B%0A%20%20%20%20%20%20%20%20%20%20%20%20popup_f278fd6989354beda9058843df333ca7.setContent%28html_5b45ca3b555545ad844bfdf0c3b40b63%29%3B%0A%20%20%20%20%20%20%20%20%0A%0A%20%20%20%20%20%20%20%20marker_6d71850b3a584203b2ddb337a7f31d70.bindPopup%28popup_f278fd6989354beda9058843df333ca7%29%0A%20%20%20%20%20%20%20%20.openPopup%28%29%3B%0A%0A%20%20%20%20%20%20%20%20%0A%20%20%20%20%0A%20%20%20%20%0A%20%20%20%20%20%20%20%20%20%20%20%20var%20marker_5277598f0bd64775b8c8657c66080213%20%3D%20L.marker%28%0A%20%20%20%20%20%20%20%20%20%20%20%20%20%20%20%20%5B40.494405%2C%20-76.961725%5D%2C%0A%20%20%20%20%20%20%20%20%20%20%20%20%20%20%20%20%7B%7D%0A%20%20%20%20%20%20%20%20%20%20%20%20%29.addTo%28map_abd0a895d8f141f0bb335a7665cfef2e%29%3B%0A%20%20%20%20%20%20%20%20%0A%20%20%20%20%0A%20%20%20%20%20%20%20%20var%20popup_365ea742b53444478496410858eda12e%20%3D%20L.popup%28%7B%22autoClose%22%3A%20false%2C%20%22maxWidth%22%3A%20%22100%25%22%7D%29%3B%0A%0A%20%20%20%20%20%20%20%20%0A%20%20%20%20%20%20%20%20%20%20%20%20var%20html_9dae2555bef146eaadbb74760ea06481%20%3D%20%24%28%60%3Cdiv%20id%3D%22html_9dae2555bef146eaadbb74760ea06481%22%20style%3D%22width%3A%20100.0%25%3B%20height%3A%20100.0%25%3B%22%3EPennsylvania%3C/div%3E%60%29%5B0%5D%3B%0A%20%20%20%20%20%20%20%20%20%20%20%20popup_365ea742b53444478496410858eda12e.setContent%28html_9dae2555bef146eaadbb74760ea06481%29%3B%0A%20%20%20%20%20%20%20%20%0A%0A%20%20%20%20%20%20%20%20marker_5277598f0bd64775b8c8657c66080213.bindPopup%28popup_365ea742b53444478496410858eda12e%29%0A%20%20%20%20%20%20%20%20.openPopup%28%29%3B%0A%0A%20%20%20%20%20%20%20%20%0A%20%20%20%20%0A%20%20%20%20%0A%20%20%20%20%20%20%20%20%20%20%20%20var%20marker_026ac276593e4051a180a4c2db439bf0%20%3D%20L.marker%28%0A%20%20%20%20%20%20%20%20%20%20%20%20%20%20%20%20%5B41.78879000000001%2C%20-71.46864000000002%5D%2C%0A%20%20%20%20%20%20%20%20%20%20%20%20%20%20%20%20%7B%7D%0A%20%20%20%20%20%20%20%20%20%20%20%20%29.addTo%28map_abd0a895d8f141f0bb335a7665cfef2e%29%3B%0A%20%20%20%20%20%20%20%20%0A%20%20%20%20%0A%20%20%20%20%20%20%20%20var%20popup_81cb7a95ca9e46f8bb925720d3615977%20%3D%20L.popup%28%7B%22autoClose%22%3A%20false%2C%20%22maxWidth%22%3A%20%22100%25%22%7D%29%3B%0A%0A%20%20%20%20%20%20%20%20%0A%20%20%20%20%20%20%20%20%20%20%20%20var%20html_48b5b178f2ac42688a7327064ca9ab65%20%3D%20%24%28%60%3Cdiv%20id%3D%22html_48b5b178f2ac42688a7327064ca9ab65%22%20style%3D%22width%3A%20100.0%25%3B%20height%3A%20100.0%25%3B%22%3ERhode%20Island%3C/div%3E%60%29%5B0%5D%3B%0A%20%20%20%20%20%20%20%20%20%20%20%20popup_81cb7a95ca9e46f8bb925720d3615977.setContent%28html_48b5b178f2ac42688a7327064ca9ab65%29%3B%0A%20%20%20%20%20%20%20%20%0A%0A%20%20%20%20%20%20%20%20marker_026ac276593e4051a180a4c2db439bf0.bindPopup%28popup_81cb7a95ca9e46f8bb925720d3615977%29%0A%20%20%20%20%20%20%20%20.openPopup%28%29%3B%0A%0A%20%20%20%20%20%20%20%20%0A%20%20%20%20%0A%20%20%20%20%0A%20%20%20%20%20%20%20%20%20%20%20%20var%20marker_724d16131c124f04be02e4673668b5df%20%3D%20L.marker%28%0A%20%20%20%20%20%20%20%20%20%20%20%20%20%20%20%20%5B34.21083%2C%20-81.09361%5D%2C%0A%20%20%20%20%20%20%20%20%20%20%20%20%20%20%20%20%7B%7D%0A%20%20%20%20%20%20%20%20%20%20%20%20%29.addTo%28map_abd0a895d8f141f0bb335a7665cfef2e%29%3B%0A%20%20%20%20%20%20%20%20%0A%20%20%20%20%0A%20%20%20%20%20%20%20%20var%20popup_6e69e84db86945719877b3b4ebd6d944%20%3D%20L.popup%28%7B%22autoClose%22%3A%20false%2C%20%22maxWidth%22%3A%20%22100%25%22%7D%29%3B%0A%0A%20%20%20%20%20%20%20%20%0A%20%20%20%20%20%20%20%20%20%20%20%20var%20html_bc3ba3ce2063439cbe2aaf48726ccda8%20%3D%20%24%28%60%3Cdiv%20id%3D%22html_bc3ba3ce2063439cbe2aaf48726ccda8%22%20style%3D%22width%3A%20100.0%25%3B%20height%3A%20100.0%25%3B%22%3ESouth%20Carolina%3C/div%3E%60%29%5B0%5D%3B%0A%20%20%20%20%20%20%20%20%20%20%20%20popup_6e69e84db86945719877b3b4ebd6d944.setContent%28html_bc3ba3ce2063439cbe2aaf48726ccda8%29%3B%0A%20%20%20%20%20%20%20%20%0A%0A%20%20%20%20%20%20%20%20marker_724d16131c124f04be02e4673668b5df.bindPopup%28popup_6e69e84db86945719877b3b4ebd6d944%29%0A%20%20%20%20%20%20%20%20.openPopup%28%29%3B%0A%0A%20%20%20%20%20%20%20%20%0A%20%20%20%20%0A%20%20%20%20%0A%20%20%20%20%20%20%20%20%20%20%20%20var%20marker_6961f7c096ad439cbfd16bd94579b94c%20%3D%20L.marker%28%0A%20%20%20%20%20%20%20%20%20%20%20%20%20%20%20%20%5B44.06886%2C%20-98.14093%5D%2C%0A%20%20%20%20%20%20%20%20%20%20%20%20%20%20%20%20%7B%7D%0A%20%20%20%20%20%20%20%20%20%20%20%20%29.addTo%28map_abd0a895d8f141f0bb335a7665cfef2e%29%3B%0A%20%20%20%20%20%20%20%20%0A%20%20%20%20%0A%20%20%20%20%20%20%20%20var%20popup_47f43073628f4ac5b75909620fd20f19%20%3D%20L.popup%28%7B%22autoClose%22%3A%20false%2C%20%22maxWidth%22%3A%20%22100%25%22%7D%29%3B%0A%0A%20%20%20%20%20%20%20%20%0A%20%20%20%20%20%20%20%20%20%20%20%20var%20html_66d97771c89c41309f9e0a5f8118cc8b%20%3D%20%24%28%60%3Cdiv%20id%3D%22html_66d97771c89c41309f9e0a5f8118cc8b%22%20style%3D%22width%3A%20100.0%25%3B%20height%3A%20100.0%25%3B%22%3ESouth%20Dakota%3C/div%3E%60%29%5B0%5D%3B%0A%20%20%20%20%20%20%20%20%20%20%20%20popup_47f43073628f4ac5b75909620fd20f19.setContent%28html_66d97771c89c41309f9e0a5f8118cc8b%29%3B%0A%20%20%20%20%20%20%20%20%0A%0A%20%20%20%20%20%20%20%20marker_6961f7c096ad439cbfd16bd94579b94c.bindPopup%28popup_47f43073628f4ac5b75909620fd20f19%29%0A%20%20%20%20%20%20%20%20.openPopup%28%29%3B%0A%0A%20%20%20%20%20%20%20%20%0A%20%20%20%20%0A%20%20%20%20%0A%20%20%20%20%20%20%20%20%20%20%20%20var%20marker_914d3d1f0b9548bb8c70d8a30cad2a86%20%3D%20L.marker%28%0A%20%20%20%20%20%20%20%20%20%20%20%20%20%20%20%20%5B35.873035%2C%20-86.70748499999999%5D%2C%0A%20%20%20%20%20%20%20%20%20%20%20%20%20%20%20%20%7B%7D%0A%20%20%20%20%20%20%20%20%20%20%20%20%29.addTo%28map_abd0a895d8f141f0bb335a7665cfef2e%29%3B%0A%20%20%20%20%20%20%20%20%0A%20%20%20%20%0A%20%20%20%20%20%20%20%20var%20popup_c5faedd5694f41718ae9e3c3b1b2722e%20%3D%20L.popup%28%7B%22autoClose%22%3A%20false%2C%20%22maxWidth%22%3A%20%22100%25%22%7D%29%3B%0A%0A%20%20%20%20%20%20%20%20%0A%20%20%20%20%20%20%20%20%20%20%20%20var%20html_4dfb9ad258494855bad5cde36d6a9638%20%3D%20%24%28%60%3Cdiv%20id%3D%22html_4dfb9ad258494855bad5cde36d6a9638%22%20style%3D%22width%3A%20100.0%25%3B%20height%3A%20100.0%25%3B%22%3ETennessee%3C/div%3E%60%29%5B0%5D%3B%0A%20%20%20%20%20%20%20%20%20%20%20%20popup_c5faedd5694f41718ae9e3c3b1b2722e.setContent%28html_4dfb9ad258494855bad5cde36d6a9638%29%3B%0A%20%20%20%20%20%20%20%20%0A%0A%20%20%20%20%20%20%20%20marker_914d3d1f0b9548bb8c70d8a30cad2a86.bindPopup%28popup_c5faedd5694f41718ae9e3c3b1b2722e%29%0A%20%20%20%20%20%20%20%20.openPopup%28%29%3B%0A%0A%20%20%20%20%20%20%20%20%0A%20%20%20%20%0A%20%20%20%20%0A%20%20%20%20%20%20%20%20%20%20%20%20var%20marker_aca4717ced8943a1935fccd65280ca14%20%3D%20L.marker%28%0A%20%20%20%20%20%20%20%20%20%20%20%20%20%20%20%20%5B31.2618%2C%20-97.17084%5D%2C%0A%20%20%20%20%20%20%20%20%20%20%20%20%20%20%20%20%7B%7D%0A%20%20%20%20%20%20%20%20%20%20%20%20%29.addTo%28map_abd0a895d8f141f0bb335a7665cfef2e%29%3B%0A%20%20%20%20%20%20%20%20%0A%20%20%20%20%0A%20%20%20%20%20%20%20%20var%20popup_c5320ae6501a47bd822df72594392668%20%3D%20L.popup%28%7B%22autoClose%22%3A%20false%2C%20%22maxWidth%22%3A%20%22100%25%22%7D%29%3B%0A%0A%20%20%20%20%20%20%20%20%0A%20%20%20%20%20%20%20%20%20%20%20%20var%20html_1519514c704946d3ab6e1f7b9e86509b%20%3D%20%24%28%60%3Cdiv%20id%3D%22html_1519514c704946d3ab6e1f7b9e86509b%22%20style%3D%22width%3A%20100.0%25%3B%20height%3A%20100.0%25%3B%22%3ETexas%3C/div%3E%60%29%5B0%5D%3B%0A%20%20%20%20%20%20%20%20%20%20%20%20popup_c5320ae6501a47bd822df72594392668.setContent%28html_1519514c704946d3ab6e1f7b9e86509b%29%3B%0A%20%20%20%20%20%20%20%20%0A%0A%20%20%20%20%20%20%20%20marker_aca4717ced8943a1935fccd65280ca14.bindPopup%28popup_c5320ae6501a47bd822df72594392668%29%0A%20%20%20%20%20%20%20%20.openPopup%28%29%3B%0A%0A%20%20%20%20%20%20%20%20%0A%20%20%20%20%0A%20%20%20%20%0A%20%20%20%20%20%20%20%20%20%20%20%20var%20marker_811f85ca200942018372bbb622132b1f%20%3D%20L.marker%28%0A%20%20%20%20%20%20%20%20%20%20%20%20%20%20%20%20%5B40.07501%2C%20-111.849%5D%2C%0A%20%20%20%20%20%20%20%20%20%20%20%20%20%20%20%20%7B%7D%0A%20%20%20%20%20%20%20%20%20%20%20%20%29.addTo%28map_abd0a895d8f141f0bb335a7665cfef2e%29%3B%0A%20%20%20%20%20%20%20%20%0A%20%20%20%20%0A%20%20%20%20%20%20%20%20var%20popup_237f469a93e4497bb859e6f1d4ac4c71%20%3D%20L.popup%28%7B%22autoClose%22%3A%20false%2C%20%22maxWidth%22%3A%20%22100%25%22%7D%29%3B%0A%0A%20%20%20%20%20%20%20%20%0A%20%20%20%20%20%20%20%20%20%20%20%20var%20html_888683d4d37441039fdf0eac46a4b884%20%3D%20%24%28%60%3Cdiv%20id%3D%22html_888683d4d37441039fdf0eac46a4b884%22%20style%3D%22width%3A%20100.0%25%3B%20height%3A%20100.0%25%3B%22%3EUtah%3C/div%3E%60%29%5B0%5D%3B%0A%20%20%20%20%20%20%20%20%20%20%20%20popup_237f469a93e4497bb859e6f1d4ac4c71.setContent%28html_888683d4d37441039fdf0eac46a4b884%29%3B%0A%20%20%20%20%20%20%20%20%0A%0A%20%20%20%20%20%20%20%20marker_811f85ca200942018372bbb622132b1f.bindPopup%28popup_237f469a93e4497bb859e6f1d4ac4c71%29%0A%20%20%20%20%20%20%20%20.openPopup%28%29%3B%0A%0A%20%20%20%20%20%20%20%20%0A%20%20%20%20%0A%20%20%20%20%0A%20%20%20%20%20%20%20%20%20%20%20%20var%20marker_135efd19ecd441b49b72dc5baac09389%20%3D%20L.marker%28%0A%20%20%20%20%20%20%20%20%20%20%20%20%20%20%20%20%5B43.97481%2C%20-72.66531%5D%2C%0A%20%20%20%20%20%20%20%20%20%20%20%20%20%20%20%20%7B%7D%0A%20%20%20%20%20%20%20%20%20%20%20%20%29.addTo%28map_abd0a895d8f141f0bb335a7665cfef2e%29%3B%0A%20%20%20%20%20%20%20%20%0A%20%20%20%20%0A%20%20%20%20%20%20%20%20var%20popup_bca7a1ab4b4a4b6681531cc4ab21d867%20%3D%20L.popup%28%7B%22autoClose%22%3A%20false%2C%20%22maxWidth%22%3A%20%22100%25%22%7D%29%3B%0A%0A%20%20%20%20%20%20%20%20%0A%20%20%20%20%20%20%20%20%20%20%20%20var%20html_83eb7a17062d43c4b83af26cb2fc2086%20%3D%20%24%28%60%3Cdiv%20id%3D%22html_83eb7a17062d43c4b83af26cb2fc2086%22%20style%3D%22width%3A%20100.0%25%3B%20height%3A%20100.0%25%3B%22%3EVermont%3C/div%3E%60%29%5B0%5D%3B%0A%20%20%20%20%20%20%20%20%20%20%20%20popup_bca7a1ab4b4a4b6681531cc4ab21d867.setContent%28html_83eb7a17062d43c4b83af26cb2fc2086%29%3B%0A%20%20%20%20%20%20%20%20%0A%0A%20%20%20%20%20%20%20%20marker_135efd19ecd441b49b72dc5baac09389.bindPopup%28popup_bca7a1ab4b4a4b6681531cc4ab21d867%29%0A%20%20%20%20%20%20%20%20.openPopup%28%29%3B%0A%0A%20%20%20%20%20%20%20%20%0A%20%20%20%20%0A%20%20%20%20%0A%20%20%20%20%20%20%20%20%20%20%20%20var%20marker_37f9d2124b854d97b516bf5cf098e42f%20%3D%20L.marker%28%0A%20%20%20%20%20%20%20%20%20%20%20%20%20%20%20%20%5B37.39816%2C%20-78.47242%5D%2C%0A%20%20%20%20%20%20%20%20%20%20%20%20%20%20%20%20%7B%7D%0A%20%20%20%20%20%20%20%20%20%20%20%20%29.addTo%28map_abd0a895d8f141f0bb335a7665cfef2e%29%3B%0A%20%20%20%20%20%20%20%20%0A%20%20%20%20%0A%20%20%20%20%20%20%20%20var%20popup_74371dbed9ff4ea5a6f0632c0804d919%20%3D%20L.popup%28%7B%22autoClose%22%3A%20false%2C%20%22maxWidth%22%3A%20%22100%25%22%7D%29%3B%0A%0A%20%20%20%20%20%20%20%20%0A%20%20%20%20%20%20%20%20%20%20%20%20var%20html_982021c6fd0245a8a7027d594e9f3eca%20%3D%20%24%28%60%3Cdiv%20id%3D%22html_982021c6fd0245a8a7027d594e9f3eca%22%20style%3D%22width%3A%20100.0%25%3B%20height%3A%20100.0%25%3B%22%3EVirginia%3C/div%3E%60%29%5B0%5D%3B%0A%20%20%20%20%20%20%20%20%20%20%20%20popup_74371dbed9ff4ea5a6f0632c0804d919.setContent%28html_982021c6fd0245a8a7027d594e9f3eca%29%3B%0A%20%20%20%20%20%20%20%20%0A%0A%20%20%20%20%20%20%20%20marker_37f9d2124b854d97b516bf5cf098e42f.bindPopup%28popup_74371dbed9ff4ea5a6f0632c0804d919%29%0A%20%20%20%20%20%20%20%20.openPopup%28%29%3B%0A%0A%20%20%20%20%20%20%20%20%0A%20%20%20%20%0A%20%20%20%20%0A%20%20%20%20%20%20%20%20%20%20%20%20var%20marker_e018d920d9e84ecb8125837452561487%20%3D%20L.marker%28%0A%20%20%20%20%20%20%20%20%20%20%20%20%20%20%20%20%5B47.23533%2C%20-121.9695%5D%2C%0A%20%20%20%20%20%20%20%20%20%20%20%20%20%20%20%20%7B%7D%0A%20%20%20%20%20%20%20%20%20%20%20%20%29.addTo%28map_abd0a895d8f141f0bb335a7665cfef2e%29%3B%0A%20%20%20%20%20%20%20%20%0A%20%20%20%20%0A%20%20%20%20%20%20%20%20var%20popup_ad958ad907874adf94aef0e1a905ce8e%20%3D%20L.popup%28%7B%22autoClose%22%3A%20false%2C%20%22maxWidth%22%3A%20%22100%25%22%7D%29%3B%0A%0A%20%20%20%20%20%20%20%20%0A%20%20%20%20%20%20%20%20%20%20%20%20var%20html_5b99a20c79064fc48e4cfa593da4d5a0%20%3D%20%24%28%60%3Cdiv%20id%3D%22html_5b99a20c79064fc48e4cfa593da4d5a0%22%20style%3D%22width%3A%20100.0%25%3B%20height%3A%20100.0%25%3B%22%3EWashington%3C/div%3E%60%29%5B0%5D%3B%0A%20%20%20%20%20%20%20%20%20%20%20%20popup_ad958ad907874adf94aef0e1a905ce8e.setContent%28html_5b99a20c79064fc48e4cfa593da4d5a0%29%3B%0A%20%20%20%20%20%20%20%20%0A%0A%20%20%20%20%20%20%20%20marker_e018d920d9e84ecb8125837452561487.bindPopup%28popup_ad958ad907874adf94aef0e1a905ce8e%29%0A%20%20%20%20%20%20%20%20.openPopup%28%29%3B%0A%0A%20%20%20%20%20%20%20%20%0A%20%20%20%20%0A%20%20%20%20%0A%20%20%20%20%20%20%20%20%20%20%20%20var%20marker_39af4392ec804696a472b5de4e335b13%20%3D%20L.marker%28%0A%20%20%20%20%20%20%20%20%20%20%20%20%20%20%20%20%5B38.67142%2C%20-80.939205%5D%2C%0A%20%20%20%20%20%20%20%20%20%20%20%20%20%20%20%20%7B%7D%0A%20%20%20%20%20%20%20%20%20%20%20%20%29.addTo%28map_abd0a895d8f141f0bb335a7665cfef2e%29%3B%0A%20%20%20%20%20%20%20%20%0A%20%20%20%20%0A%20%20%20%20%20%20%20%20var%20popup_89241cb4f6194a7bb210848e36e01ef7%20%3D%20L.popup%28%7B%22autoClose%22%3A%20false%2C%20%22maxWidth%22%3A%20%22100%25%22%7D%29%3B%0A%0A%20%20%20%20%20%20%20%20%0A%20%20%20%20%20%20%20%20%20%20%20%20var%20html_5b589df611e84216bb4f289b1cc36806%20%3D%20%24%28%60%3Cdiv%20id%3D%22html_5b589df611e84216bb4f289b1cc36806%22%20style%3D%22width%3A%20100.0%25%3B%20height%3A%20100.0%25%3B%22%3EWest%20Virginia%3C/div%3E%60%29%5B0%5D%3B%0A%20%20%20%20%20%20%20%20%20%20%20%20popup_89241cb4f6194a7bb210848e36e01ef7.setContent%28html_5b589df611e84216bb4f289b1cc36806%29%3B%0A%20%20%20%20%20%20%20%20%0A%0A%20%20%20%20%20%20%20%20marker_39af4392ec804696a472b5de4e335b13.bindPopup%28popup_89241cb4f6194a7bb210848e36e01ef7%29%0A%20%20%20%20%20%20%20%20.openPopup%28%29%3B%0A%0A%20%20%20%20%20%20%20%20%0A%20%20%20%20%0A%20%20%20%20%0A%20%20%20%20%20%20%20%20%20%20%20%20var%20marker_592a8395a23642ae9ba2b48e856b6cad%20%3D%20L.marker%28%0A%20%20%20%20%20%20%20%20%20%20%20%20%20%20%20%20%5B44.06872%2C%20-89.78878%5D%2C%0A%20%20%20%20%20%20%20%20%20%20%20%20%20%20%20%20%7B%7D%0A%20%20%20%20%20%20%20%20%20%20%20%20%29.addTo%28map_abd0a895d8f141f0bb335a7665cfef2e%29%3B%0A%20%20%20%20%20%20%20%20%0A%20%20%20%20%0A%20%20%20%20%20%20%20%20var%20popup_d22382ccb9e144718ddf007eb282adc8%20%3D%20L.popup%28%7B%22autoClose%22%3A%20false%2C%20%22maxWidth%22%3A%20%22100%25%22%7D%29%3B%0A%0A%20%20%20%20%20%20%20%20%0A%20%20%20%20%20%20%20%20%20%20%20%20var%20html_6e038937ac534f7c9483300220c489c3%20%3D%20%24%28%60%3Cdiv%20id%3D%22html_6e038937ac534f7c9483300220c489c3%22%20style%3D%22width%3A%20100.0%25%3B%20height%3A%20100.0%25%3B%22%3EWisconsin%3C/div%3E%60%29%5B0%5D%3B%0A%20%20%20%20%20%20%20%20%20%20%20%20popup_d22382ccb9e144718ddf007eb282adc8.setContent%28html_6e038937ac534f7c9483300220c489c3%29%3B%0A%20%20%20%20%20%20%20%20%0A%0A%20%20%20%20%20%20%20%20marker_592a8395a23642ae9ba2b48e856b6cad.bindPopup%28popup_d22382ccb9e144718ddf007eb282adc8%29%0A%20%20%20%20%20%20%20%20.openPopup%28%29%3B%0A%0A%20%20%20%20%20%20%20%20%0A%20%20%20%20%0A%20%20%20%20%0A%20%20%20%20%20%20%20%20%20%20%20%20var%20marker_630effcd0d714a57a09c48eb13fa874a%20%3D%20L.marker%28%0A%20%20%20%20%20%20%20%20%20%20%20%20%20%20%20%20%5B42.863569999999996%2C%20-106.68555%5D%2C%0A%20%20%20%20%20%20%20%20%20%20%20%20%20%20%20%20%7B%7D%0A%20%20%20%20%20%20%20%20%20%20%20%20%29.addTo%28map_abd0a895d8f141f0bb335a7665cfef2e%29%3B%0A%20%20%20%20%20%20%20%20%0A%20%20%20%20%0A%20%20%20%20%20%20%20%20var%20popup_2ab9f7e0e3b94794b3cde19f9bd0f60e%20%3D%20L.popup%28%7B%22autoClose%22%3A%20false%2C%20%22maxWidth%22%3A%20%22100%25%22%7D%29%3B%0A%0A%20%20%20%20%20%20%20%20%0A%20%20%20%20%20%20%20%20%20%20%20%20var%20html_f2d40ea1258d477581c3899ce1d2a43f%20%3D%20%24%28%60%3Cdiv%20id%3D%22html_f2d40ea1258d477581c3899ce1d2a43f%22%20style%3D%22width%3A%20100.0%25%3B%20height%3A%20100.0%25%3B%22%3EWyoming%3C/div%3E%60%29%5B0%5D%3B%0A%20%20%20%20%20%20%20%20%20%20%20%20popup_2ab9f7e0e3b94794b3cde19f9bd0f60e.setContent%28html_f2d40ea1258d477581c3899ce1d2a43f%29%3B%0A%20%20%20%20%20%20%20%20%0A%0A%20%20%20%20%20%20%20%20marker_630effcd0d714a57a09c48eb13fa874a.bindPopup%28popup_2ab9f7e0e3b94794b3cde19f9bd0f60e%29%0A%20%20%20%20%20%20%20%20.openPopup%28%29%3B%0A%0A%20%20%20%20%20%20%20%20%0A%20%20%20%20%0A%3C/script%3E onload=\"this.contentDocument.open();this.contentDocument.write(    decodeURIComponent(this.getAttribute('data-html')));this.contentDocument.close();\" allowfullscreen webkitallowfullscreen mozallowfullscreen></iframe></div></div>"
      ],
      "text/plain": [
       "<folium.folium.Map at 0x21d88f9f8e0>"
      ]
     },
     "execution_count": 38,
     "metadata": {},
     "output_type": "execute_result"
    }
   ],
   "source": [
    "for i in range(0,len(states_df)):\n",
    "    folium.Marker(location=[states_df.iloc[i]['latitude'], states_df.iloc[i]['longitude']],\n",
    "     popup=folium.Popup(states_df.iloc[i]['state'], show=True),\n",
    "   ).add_to(m)\n",
    "    \n",
    "m"
   ]
  },
  {
   "cell_type": "markdown",
   "metadata": {},
   "source": [
    "## By Sub-structure condition"
   ]
  },
  {
   "cell_type": "code",
   "execution_count": 39,
   "metadata": {
    "ExecuteTime": {
     "end_time": "2021-09-07T06:49:36.911207Z",
     "start_time": "2021-09-07T06:49:36.868209Z"
    }
   },
   "outputs": [
    {
     "data": {
      "text/html": [
       "<div style=\"width:100%;\"><div style=\"position:relative;width:100%;height:0;padding-bottom:60%;\"><span style=\"color:#565656\">Make this Notebook Trusted to load map: File -> Trust Notebook</span><iframe src=\"about:blank\" style=\"position:absolute;width:100%;height:100%;left:0;top:0;border:none !important;\" data-html=%3C%21DOCTYPE%20html%3E%0A%3Chead%3E%20%20%20%20%0A%20%20%20%20%3Cmeta%20http-equiv%3D%22content-type%22%20content%3D%22text/html%3B%20charset%3DUTF-8%22%20/%3E%0A%20%20%20%20%0A%20%20%20%20%20%20%20%20%3Cscript%3E%0A%20%20%20%20%20%20%20%20%20%20%20%20L_NO_TOUCH%20%3D%20false%3B%0A%20%20%20%20%20%20%20%20%20%20%20%20L_DISABLE_3D%20%3D%20false%3B%0A%20%20%20%20%20%20%20%20%3C/script%3E%0A%20%20%20%20%0A%20%20%20%20%3Cstyle%3Ehtml%2C%20body%20%7Bwidth%3A%20100%25%3Bheight%3A%20100%25%3Bmargin%3A%200%3Bpadding%3A%200%3B%7D%3C/style%3E%0A%20%20%20%20%3Cstyle%3E%23map%20%7Bposition%3Aabsolute%3Btop%3A0%3Bbottom%3A0%3Bright%3A0%3Bleft%3A0%3B%7D%3C/style%3E%0A%20%20%20%20%3Cscript%20src%3D%22https%3A//cdn.jsdelivr.net/npm/leaflet%401.6.0/dist/leaflet.js%22%3E%3C/script%3E%0A%20%20%20%20%3Cscript%20src%3D%22https%3A//code.jquery.com/jquery-1.12.4.min.js%22%3E%3C/script%3E%0A%20%20%20%20%3Cscript%20src%3D%22https%3A//maxcdn.bootstrapcdn.com/bootstrap/3.2.0/js/bootstrap.min.js%22%3E%3C/script%3E%0A%20%20%20%20%3Cscript%20src%3D%22https%3A//cdnjs.cloudflare.com/ajax/libs/Leaflet.awesome-markers/2.0.2/leaflet.awesome-markers.js%22%3E%3C/script%3E%0A%20%20%20%20%3Clink%20rel%3D%22stylesheet%22%20href%3D%22https%3A//cdn.jsdelivr.net/npm/leaflet%401.6.0/dist/leaflet.css%22/%3E%0A%20%20%20%20%3Clink%20rel%3D%22stylesheet%22%20href%3D%22https%3A//maxcdn.bootstrapcdn.com/bootstrap/3.2.0/css/bootstrap.min.css%22/%3E%0A%20%20%20%20%3Clink%20rel%3D%22stylesheet%22%20href%3D%22https%3A//maxcdn.bootstrapcdn.com/bootstrap/3.2.0/css/bootstrap-theme.min.css%22/%3E%0A%20%20%20%20%3Clink%20rel%3D%22stylesheet%22%20href%3D%22https%3A//maxcdn.bootstrapcdn.com/font-awesome/4.6.3/css/font-awesome.min.css%22/%3E%0A%20%20%20%20%3Clink%20rel%3D%22stylesheet%22%20href%3D%22https%3A//cdnjs.cloudflare.com/ajax/libs/Leaflet.awesome-markers/2.0.2/leaflet.awesome-markers.css%22/%3E%0A%20%20%20%20%3Clink%20rel%3D%22stylesheet%22%20href%3D%22https%3A//cdn.jsdelivr.net/gh/python-visualization/folium/folium/templates/leaflet.awesome.rotate.min.css%22/%3E%0A%20%20%20%20%0A%20%20%20%20%20%20%20%20%20%20%20%20%3Cmeta%20name%3D%22viewport%22%20content%3D%22width%3Ddevice-width%2C%0A%20%20%20%20%20%20%20%20%20%20%20%20%20%20%20%20initial-scale%3D1.0%2C%20maximum-scale%3D1.0%2C%20user-scalable%3Dno%22%20/%3E%0A%20%20%20%20%20%20%20%20%20%20%20%20%3Cstyle%3E%0A%20%20%20%20%20%20%20%20%20%20%20%20%20%20%20%20%23map_7e0519fbd09b45f5bce03f24a017fa00%20%7B%0A%20%20%20%20%20%20%20%20%20%20%20%20%20%20%20%20%20%20%20%20position%3A%20relative%3B%0A%20%20%20%20%20%20%20%20%20%20%20%20%20%20%20%20%20%20%20%20width%3A%20100.0%25%3B%0A%20%20%20%20%20%20%20%20%20%20%20%20%20%20%20%20%20%20%20%20height%3A%20100.0%25%3B%0A%20%20%20%20%20%20%20%20%20%20%20%20%20%20%20%20%20%20%20%20left%3A%200.0%25%3B%0A%20%20%20%20%20%20%20%20%20%20%20%20%20%20%20%20%20%20%20%20top%3A%200.0%25%3B%0A%20%20%20%20%20%20%20%20%20%20%20%20%20%20%20%20%7D%0A%20%20%20%20%20%20%20%20%20%20%20%20%3C/style%3E%0A%20%20%20%20%20%20%20%20%0A%3C/head%3E%0A%3Cbody%3E%20%20%20%20%0A%20%20%20%20%0A%20%20%20%20%20%20%20%20%20%20%20%20%3Cdiv%20class%3D%22folium-map%22%20id%3D%22map_7e0519fbd09b45f5bce03f24a017fa00%22%20%3E%3C/div%3E%0A%20%20%20%20%20%20%20%20%0A%3C/body%3E%0A%3Cscript%3E%20%20%20%20%0A%20%20%20%20%0A%20%20%20%20%20%20%20%20%20%20%20%20var%20map_7e0519fbd09b45f5bce03f24a017fa00%20%3D%20L.map%28%0A%20%20%20%20%20%20%20%20%20%20%20%20%20%20%20%20%22map_7e0519fbd09b45f5bce03f24a017fa00%22%2C%0A%20%20%20%20%20%20%20%20%20%20%20%20%20%20%20%20%7B%0A%20%20%20%20%20%20%20%20%20%20%20%20%20%20%20%20%20%20%20%20center%3A%20%5B40.0%2C%20-100.0%5D%2C%0A%20%20%20%20%20%20%20%20%20%20%20%20%20%20%20%20%20%20%20%20crs%3A%20L.CRS.EPSG3857%2C%0A%20%20%20%20%20%20%20%20%20%20%20%20%20%20%20%20%20%20%20%20zoom%3A%204%2C%0A%20%20%20%20%20%20%20%20%20%20%20%20%20%20%20%20%20%20%20%20zoomControl%3A%20true%2C%0A%20%20%20%20%20%20%20%20%20%20%20%20%20%20%20%20%20%20%20%20preferCanvas%3A%20false%2C%0A%20%20%20%20%20%20%20%20%20%20%20%20%20%20%20%20%7D%0A%20%20%20%20%20%20%20%20%20%20%20%20%29%3B%0A%0A%20%20%20%20%20%20%20%20%20%20%20%20%0A%0A%20%20%20%20%20%20%20%20%0A%20%20%20%20%0A%20%20%20%20%20%20%20%20%20%20%20%20var%20tile_layer_2195fd3609bc43169b43c050166ca516%20%3D%20L.tileLayer%28%0A%20%20%20%20%20%20%20%20%20%20%20%20%20%20%20%20%22https%3A//%7Bs%7D.tile.openstreetmap.org/%7Bz%7D/%7Bx%7D/%7By%7D.png%22%2C%0A%20%20%20%20%20%20%20%20%20%20%20%20%20%20%20%20%7B%22attribution%22%3A%20%22Data%20by%20%5Cu0026copy%3B%20%5Cu003ca%20href%3D%5C%22http%3A//openstreetmap.org%5C%22%5Cu003eOpenStreetMap%5Cu003c/a%5Cu003e%2C%20under%20%5Cu003ca%20href%3D%5C%22http%3A//www.openstreetmap.org/copyright%5C%22%5Cu003eODbL%5Cu003c/a%5Cu003e.%22%2C%20%22detectRetina%22%3A%20false%2C%20%22maxNativeZoom%22%3A%2018%2C%20%22maxZoom%22%3A%2018%2C%20%22minZoom%22%3A%200%2C%20%22noWrap%22%3A%20false%2C%20%22opacity%22%3A%201%2C%20%22subdomains%22%3A%20%22abc%22%2C%20%22tms%22%3A%20false%7D%0A%20%20%20%20%20%20%20%20%20%20%20%20%29.addTo%28map_7e0519fbd09b45f5bce03f24a017fa00%29%3B%0A%20%20%20%20%20%20%20%20%0A%3C/script%3E onload=\"this.contentDocument.open();this.contentDocument.write(    decodeURIComponent(this.getAttribute('data-html')));this.contentDocument.close();\" allowfullscreen webkitallowfullscreen mozallowfullscreen></iframe></div></div>"
      ],
      "text/plain": [
       "<folium.folium.Map at 0x21d8a722160>"
      ]
     },
     "execution_count": 39,
     "metadata": {},
     "output_type": "execute_result"
    }
   ],
   "source": [
    "# Make an empty map\n",
    "m = folium.Map(location=[40,-100], tiles=\"OpenStreetMap\", zoom_start=4)\n",
    "\n",
    "#show the map\n",
    "m"
   ]
  },
  {
   "cell_type": "code",
   "execution_count": 40,
   "metadata": {
    "ExecuteTime": {
     "end_time": "2021-09-07T06:49:37.750776Z",
     "start_time": "2021-09-07T06:49:36.915207Z"
    }
   },
   "outputs": [],
   "source": [
    "data1 = df2.groupby('sub_st_condition').median()[['latitude', 'longitude',\n",
    "                                                  'bridge_condition']].values.tolist()"
   ]
  },
  {
   "cell_type": "code",
   "execution_count": 41,
   "metadata": {
    "ExecuteTime": {
     "end_time": "2021-09-07T06:49:37.796779Z",
     "start_time": "2021-09-07T06:49:37.762778Z"
    }
   },
   "outputs": [
    {
     "data": {
      "text/html": [
       "<div style=\"width:100%;\"><div style=\"position:relative;width:100%;height:0;padding-bottom:60%;\"><span style=\"color:#565656\">Make this Notebook Trusted to load map: File -> Trust Notebook</span><iframe src=\"about:blank\" style=\"position:absolute;width:100%;height:100%;left:0;top:0;border:none !important;\" data-html=%3C%21DOCTYPE%20html%3E%0A%3Chead%3E%20%20%20%20%0A%20%20%20%20%3Cmeta%20http-equiv%3D%22content-type%22%20content%3D%22text/html%3B%20charset%3DUTF-8%22%20/%3E%0A%20%20%20%20%0A%20%20%20%20%20%20%20%20%3Cscript%3E%0A%20%20%20%20%20%20%20%20%20%20%20%20L_NO_TOUCH%20%3D%20false%3B%0A%20%20%20%20%20%20%20%20%20%20%20%20L_DISABLE_3D%20%3D%20false%3B%0A%20%20%20%20%20%20%20%20%3C/script%3E%0A%20%20%20%20%0A%20%20%20%20%3Cstyle%3Ehtml%2C%20body%20%7Bwidth%3A%20100%25%3Bheight%3A%20100%25%3Bmargin%3A%200%3Bpadding%3A%200%3B%7D%3C/style%3E%0A%20%20%20%20%3Cstyle%3E%23map%20%7Bposition%3Aabsolute%3Btop%3A0%3Bbottom%3A0%3Bright%3A0%3Bleft%3A0%3B%7D%3C/style%3E%0A%20%20%20%20%3Cscript%20src%3D%22https%3A//cdn.jsdelivr.net/npm/leaflet%401.6.0/dist/leaflet.js%22%3E%3C/script%3E%0A%20%20%20%20%3Cscript%20src%3D%22https%3A//code.jquery.com/jquery-1.12.4.min.js%22%3E%3C/script%3E%0A%20%20%20%20%3Cscript%20src%3D%22https%3A//maxcdn.bootstrapcdn.com/bootstrap/3.2.0/js/bootstrap.min.js%22%3E%3C/script%3E%0A%20%20%20%20%3Cscript%20src%3D%22https%3A//cdnjs.cloudflare.com/ajax/libs/Leaflet.awesome-markers/2.0.2/leaflet.awesome-markers.js%22%3E%3C/script%3E%0A%20%20%20%20%3Clink%20rel%3D%22stylesheet%22%20href%3D%22https%3A//cdn.jsdelivr.net/npm/leaflet%401.6.0/dist/leaflet.css%22/%3E%0A%20%20%20%20%3Clink%20rel%3D%22stylesheet%22%20href%3D%22https%3A//maxcdn.bootstrapcdn.com/bootstrap/3.2.0/css/bootstrap.min.css%22/%3E%0A%20%20%20%20%3Clink%20rel%3D%22stylesheet%22%20href%3D%22https%3A//maxcdn.bootstrapcdn.com/bootstrap/3.2.0/css/bootstrap-theme.min.css%22/%3E%0A%20%20%20%20%3Clink%20rel%3D%22stylesheet%22%20href%3D%22https%3A//maxcdn.bootstrapcdn.com/font-awesome/4.6.3/css/font-awesome.min.css%22/%3E%0A%20%20%20%20%3Clink%20rel%3D%22stylesheet%22%20href%3D%22https%3A//cdnjs.cloudflare.com/ajax/libs/Leaflet.awesome-markers/2.0.2/leaflet.awesome-markers.css%22/%3E%0A%20%20%20%20%3Clink%20rel%3D%22stylesheet%22%20href%3D%22https%3A//cdn.jsdelivr.net/gh/python-visualization/folium/folium/templates/leaflet.awesome.rotate.min.css%22/%3E%0A%20%20%20%20%0A%20%20%20%20%20%20%20%20%20%20%20%20%3Cmeta%20name%3D%22viewport%22%20content%3D%22width%3Ddevice-width%2C%0A%20%20%20%20%20%20%20%20%20%20%20%20%20%20%20%20initial-scale%3D1.0%2C%20maximum-scale%3D1.0%2C%20user-scalable%3Dno%22%20/%3E%0A%20%20%20%20%20%20%20%20%20%20%20%20%3Cstyle%3E%0A%20%20%20%20%20%20%20%20%20%20%20%20%20%20%20%20%23map_7e0519fbd09b45f5bce03f24a017fa00%20%7B%0A%20%20%20%20%20%20%20%20%20%20%20%20%20%20%20%20%20%20%20%20position%3A%20relative%3B%0A%20%20%20%20%20%20%20%20%20%20%20%20%20%20%20%20%20%20%20%20width%3A%20100.0%25%3B%0A%20%20%20%20%20%20%20%20%20%20%20%20%20%20%20%20%20%20%20%20height%3A%20100.0%25%3B%0A%20%20%20%20%20%20%20%20%20%20%20%20%20%20%20%20%20%20%20%20left%3A%200.0%25%3B%0A%20%20%20%20%20%20%20%20%20%20%20%20%20%20%20%20%20%20%20%20top%3A%200.0%25%3B%0A%20%20%20%20%20%20%20%20%20%20%20%20%20%20%20%20%7D%0A%20%20%20%20%20%20%20%20%20%20%20%20%3C/style%3E%0A%20%20%20%20%20%20%20%20%0A%20%20%20%20%3Cscript%20src%3D%22https%3A//cdn.jsdelivr.net/gh/python-visualization/folium%40master/folium/templates/leaflet_heat.min.js%22%3E%3C/script%3E%0A%3C/head%3E%0A%3Cbody%3E%20%20%20%20%0A%20%20%20%20%0A%20%20%20%20%20%20%20%20%20%20%20%20%3Cdiv%20class%3D%22folium-map%22%20id%3D%22map_7e0519fbd09b45f5bce03f24a017fa00%22%20%3E%3C/div%3E%0A%20%20%20%20%20%20%20%20%0A%3C/body%3E%0A%3Cscript%3E%20%20%20%20%0A%20%20%20%20%0A%20%20%20%20%20%20%20%20%20%20%20%20var%20map_7e0519fbd09b45f5bce03f24a017fa00%20%3D%20L.map%28%0A%20%20%20%20%20%20%20%20%20%20%20%20%20%20%20%20%22map_7e0519fbd09b45f5bce03f24a017fa00%22%2C%0A%20%20%20%20%20%20%20%20%20%20%20%20%20%20%20%20%7B%0A%20%20%20%20%20%20%20%20%20%20%20%20%20%20%20%20%20%20%20%20center%3A%20%5B40.0%2C%20-100.0%5D%2C%0A%20%20%20%20%20%20%20%20%20%20%20%20%20%20%20%20%20%20%20%20crs%3A%20L.CRS.EPSG3857%2C%0A%20%20%20%20%20%20%20%20%20%20%20%20%20%20%20%20%20%20%20%20zoom%3A%204%2C%0A%20%20%20%20%20%20%20%20%20%20%20%20%20%20%20%20%20%20%20%20zoomControl%3A%20true%2C%0A%20%20%20%20%20%20%20%20%20%20%20%20%20%20%20%20%20%20%20%20preferCanvas%3A%20false%2C%0A%20%20%20%20%20%20%20%20%20%20%20%20%20%20%20%20%7D%0A%20%20%20%20%20%20%20%20%20%20%20%20%29%3B%0A%0A%20%20%20%20%20%20%20%20%20%20%20%20%0A%0A%20%20%20%20%20%20%20%20%0A%20%20%20%20%0A%20%20%20%20%20%20%20%20%20%20%20%20var%20tile_layer_2195fd3609bc43169b43c050166ca516%20%3D%20L.tileLayer%28%0A%20%20%20%20%20%20%20%20%20%20%20%20%20%20%20%20%22https%3A//%7Bs%7D.tile.openstreetmap.org/%7Bz%7D/%7Bx%7D/%7By%7D.png%22%2C%0A%20%20%20%20%20%20%20%20%20%20%20%20%20%20%20%20%7B%22attribution%22%3A%20%22Data%20by%20%5Cu0026copy%3B%20%5Cu003ca%20href%3D%5C%22http%3A//openstreetmap.org%5C%22%5Cu003eOpenStreetMap%5Cu003c/a%5Cu003e%2C%20under%20%5Cu003ca%20href%3D%5C%22http%3A//www.openstreetmap.org/copyright%5C%22%5Cu003eODbL%5Cu003c/a%5Cu003e.%22%2C%20%22detectRetina%22%3A%20false%2C%20%22maxNativeZoom%22%3A%2018%2C%20%22maxZoom%22%3A%2018%2C%20%22minZoom%22%3A%200%2C%20%22noWrap%22%3A%20false%2C%20%22opacity%22%3A%201%2C%20%22subdomains%22%3A%20%22abc%22%2C%20%22tms%22%3A%20false%7D%0A%20%20%20%20%20%20%20%20%20%20%20%20%29.addTo%28map_7e0519fbd09b45f5bce03f24a017fa00%29%3B%0A%20%20%20%20%20%20%20%20%0A%20%20%20%20%0A%20%20%20%20%20%20%20%20%20%20%20%20var%20heat_map_a628ba08d6614f03976995df02e60006%20%3D%20L.heatLayer%28%0A%20%20%20%20%20%20%20%20%20%20%20%20%20%20%20%20%5B%5B39.451025%2C%20-93.53890000000001%2C%202.0%5D%2C%20%5B34.43694%2C%20-89.8547%2C%202.0%5D%2C%20%5B36.964205%2C%20-90.88640000000001%2C%202.0%5D%2C%20%5B40.603139999999996%2C%20-93.10563%2C%202.0%5D%2C%20%5B39.884465000000006%2C%20-91.25610499999999%2C%202.0%5D%2C%20%5B39.31018%2C%20-89.28709%2C%201.0%5D%2C%20%5B39.04107%2C%20-89.22192%2C%201.0%5D%2C%20%5B38.27374%2C%20-90.68598%2C%200.0%5D%2C%20%5B39.58188%2C%20-89.27488000000002%2C%200.0%5D%2C%20%5B40.431255%2C%20-84.75824000000003%2C%200.0%5D%5D%2C%0A%20%20%20%20%20%20%20%20%20%20%20%20%20%20%20%20%7B%22blur%22%3A%2015%2C%20%22maxZoom%22%3A%2018%2C%20%22minOpacity%22%3A%200.5%2C%20%22radius%22%3A%2025%7D%0A%20%20%20%20%20%20%20%20%20%20%20%20%29.addTo%28map_7e0519fbd09b45f5bce03f24a017fa00%29%3B%0A%20%20%20%20%20%20%20%20%0A%3C/script%3E onload=\"this.contentDocument.open();this.contentDocument.write(    decodeURIComponent(this.getAttribute('data-html')));this.contentDocument.close();\" allowfullscreen webkitallowfullscreen mozallowfullscreen></iframe></div></div>"
      ],
      "text/plain": [
       "<folium.folium.Map at 0x21d8a722160>"
      ]
     },
     "metadata": {},
     "output_type": "display_data"
    }
   ],
   "source": [
    "HeatMap(data = data1).add_to(m)\n",
    "display(m)"
   ]
  },
  {
   "cell_type": "markdown",
   "metadata": {},
   "source": [
    "## By snowfall days"
   ]
  },
  {
   "cell_type": "code",
   "execution_count": 42,
   "metadata": {
    "ExecuteTime": {
     "end_time": "2021-09-07T06:49:37.860780Z",
     "start_time": "2021-09-07T06:49:37.799778Z"
    }
   },
   "outputs": [
    {
     "data": {
      "text/html": [
       "<div style=\"width:100%;\"><div style=\"position:relative;width:100%;height:0;padding-bottom:60%;\"><span style=\"color:#565656\">Make this Notebook Trusted to load map: File -> Trust Notebook</span><iframe src=\"about:blank\" style=\"position:absolute;width:100%;height:100%;left:0;top:0;border:none !important;\" data-html=%3C%21DOCTYPE%20html%3E%0A%3Chead%3E%20%20%20%20%0A%20%20%20%20%3Cmeta%20http-equiv%3D%22content-type%22%20content%3D%22text/html%3B%20charset%3DUTF-8%22%20/%3E%0A%20%20%20%20%0A%20%20%20%20%20%20%20%20%3Cscript%3E%0A%20%20%20%20%20%20%20%20%20%20%20%20L_NO_TOUCH%20%3D%20false%3B%0A%20%20%20%20%20%20%20%20%20%20%20%20L_DISABLE_3D%20%3D%20false%3B%0A%20%20%20%20%20%20%20%20%3C/script%3E%0A%20%20%20%20%0A%20%20%20%20%3Cstyle%3Ehtml%2C%20body%20%7Bwidth%3A%20100%25%3Bheight%3A%20100%25%3Bmargin%3A%200%3Bpadding%3A%200%3B%7D%3C/style%3E%0A%20%20%20%20%3Cstyle%3E%23map%20%7Bposition%3Aabsolute%3Btop%3A0%3Bbottom%3A0%3Bright%3A0%3Bleft%3A0%3B%7D%3C/style%3E%0A%20%20%20%20%3Cscript%20src%3D%22https%3A//cdn.jsdelivr.net/npm/leaflet%401.6.0/dist/leaflet.js%22%3E%3C/script%3E%0A%20%20%20%20%3Cscript%20src%3D%22https%3A//code.jquery.com/jquery-1.12.4.min.js%22%3E%3C/script%3E%0A%20%20%20%20%3Cscript%20src%3D%22https%3A//maxcdn.bootstrapcdn.com/bootstrap/3.2.0/js/bootstrap.min.js%22%3E%3C/script%3E%0A%20%20%20%20%3Cscript%20src%3D%22https%3A//cdnjs.cloudflare.com/ajax/libs/Leaflet.awesome-markers/2.0.2/leaflet.awesome-markers.js%22%3E%3C/script%3E%0A%20%20%20%20%3Clink%20rel%3D%22stylesheet%22%20href%3D%22https%3A//cdn.jsdelivr.net/npm/leaflet%401.6.0/dist/leaflet.css%22/%3E%0A%20%20%20%20%3Clink%20rel%3D%22stylesheet%22%20href%3D%22https%3A//maxcdn.bootstrapcdn.com/bootstrap/3.2.0/css/bootstrap.min.css%22/%3E%0A%20%20%20%20%3Clink%20rel%3D%22stylesheet%22%20href%3D%22https%3A//maxcdn.bootstrapcdn.com/bootstrap/3.2.0/css/bootstrap-theme.min.css%22/%3E%0A%20%20%20%20%3Clink%20rel%3D%22stylesheet%22%20href%3D%22https%3A//maxcdn.bootstrapcdn.com/font-awesome/4.6.3/css/font-awesome.min.css%22/%3E%0A%20%20%20%20%3Clink%20rel%3D%22stylesheet%22%20href%3D%22https%3A//cdnjs.cloudflare.com/ajax/libs/Leaflet.awesome-markers/2.0.2/leaflet.awesome-markers.css%22/%3E%0A%20%20%20%20%3Clink%20rel%3D%22stylesheet%22%20href%3D%22https%3A//cdn.jsdelivr.net/gh/python-visualization/folium/folium/templates/leaflet.awesome.rotate.min.css%22/%3E%0A%20%20%20%20%0A%20%20%20%20%20%20%20%20%20%20%20%20%3Cmeta%20name%3D%22viewport%22%20content%3D%22width%3Ddevice-width%2C%0A%20%20%20%20%20%20%20%20%20%20%20%20%20%20%20%20initial-scale%3D1.0%2C%20maximum-scale%3D1.0%2C%20user-scalable%3Dno%22%20/%3E%0A%20%20%20%20%20%20%20%20%20%20%20%20%3Cstyle%3E%0A%20%20%20%20%20%20%20%20%20%20%20%20%20%20%20%20%23map_6b9c61a808e14a10948b167240a387a2%20%7B%0A%20%20%20%20%20%20%20%20%20%20%20%20%20%20%20%20%20%20%20%20position%3A%20relative%3B%0A%20%20%20%20%20%20%20%20%20%20%20%20%20%20%20%20%20%20%20%20width%3A%20100.0%25%3B%0A%20%20%20%20%20%20%20%20%20%20%20%20%20%20%20%20%20%20%20%20height%3A%20100.0%25%3B%0A%20%20%20%20%20%20%20%20%20%20%20%20%20%20%20%20%20%20%20%20left%3A%200.0%25%3B%0A%20%20%20%20%20%20%20%20%20%20%20%20%20%20%20%20%20%20%20%20top%3A%200.0%25%3B%0A%20%20%20%20%20%20%20%20%20%20%20%20%20%20%20%20%7D%0A%20%20%20%20%20%20%20%20%20%20%20%20%3C/style%3E%0A%20%20%20%20%20%20%20%20%0A%3C/head%3E%0A%3Cbody%3E%20%20%20%20%0A%20%20%20%20%0A%20%20%20%20%20%20%20%20%20%20%20%20%3Cdiv%20class%3D%22folium-map%22%20id%3D%22map_6b9c61a808e14a10948b167240a387a2%22%20%3E%3C/div%3E%0A%20%20%20%20%20%20%20%20%0A%3C/body%3E%0A%3Cscript%3E%20%20%20%20%0A%20%20%20%20%0A%20%20%20%20%20%20%20%20%20%20%20%20var%20map_6b9c61a808e14a10948b167240a387a2%20%3D%20L.map%28%0A%20%20%20%20%20%20%20%20%20%20%20%20%20%20%20%20%22map_6b9c61a808e14a10948b167240a387a2%22%2C%0A%20%20%20%20%20%20%20%20%20%20%20%20%20%20%20%20%7B%0A%20%20%20%20%20%20%20%20%20%20%20%20%20%20%20%20%20%20%20%20center%3A%20%5B40.0%2C%20-100.0%5D%2C%0A%20%20%20%20%20%20%20%20%20%20%20%20%20%20%20%20%20%20%20%20crs%3A%20L.CRS.EPSG3857%2C%0A%20%20%20%20%20%20%20%20%20%20%20%20%20%20%20%20%20%20%20%20zoom%3A%204%2C%0A%20%20%20%20%20%20%20%20%20%20%20%20%20%20%20%20%20%20%20%20zoomControl%3A%20true%2C%0A%20%20%20%20%20%20%20%20%20%20%20%20%20%20%20%20%20%20%20%20preferCanvas%3A%20false%2C%0A%20%20%20%20%20%20%20%20%20%20%20%20%20%20%20%20%7D%0A%20%20%20%20%20%20%20%20%20%20%20%20%29%3B%0A%0A%20%20%20%20%20%20%20%20%20%20%20%20%0A%0A%20%20%20%20%20%20%20%20%0A%20%20%20%20%0A%20%20%20%20%20%20%20%20%20%20%20%20var%20tile_layer_4eacbb0e9e1e4e3aa9d50161725593fa%20%3D%20L.tileLayer%28%0A%20%20%20%20%20%20%20%20%20%20%20%20%20%20%20%20%22https%3A//%7Bs%7D.tile.openstreetmap.org/%7Bz%7D/%7Bx%7D/%7By%7D.png%22%2C%0A%20%20%20%20%20%20%20%20%20%20%20%20%20%20%20%20%7B%22attribution%22%3A%20%22Data%20by%20%5Cu0026copy%3B%20%5Cu003ca%20href%3D%5C%22http%3A//openstreetmap.org%5C%22%5Cu003eOpenStreetMap%5Cu003c/a%5Cu003e%2C%20under%20%5Cu003ca%20href%3D%5C%22http%3A//www.openstreetmap.org/copyright%5C%22%5Cu003eODbL%5Cu003c/a%5Cu003e.%22%2C%20%22detectRetina%22%3A%20false%2C%20%22maxNativeZoom%22%3A%2018%2C%20%22maxZoom%22%3A%2018%2C%20%22minZoom%22%3A%200%2C%20%22noWrap%22%3A%20false%2C%20%22opacity%22%3A%201%2C%20%22subdomains%22%3A%20%22abc%22%2C%20%22tms%22%3A%20false%7D%0A%20%20%20%20%20%20%20%20%20%20%20%20%29.addTo%28map_6b9c61a808e14a10948b167240a387a2%29%3B%0A%20%20%20%20%20%20%20%20%0A%3C/script%3E onload=\"this.contentDocument.open();this.contentDocument.write(    decodeURIComponent(this.getAttribute('data-html')));this.contentDocument.close();\" allowfullscreen webkitallowfullscreen mozallowfullscreen></iframe></div></div>"
      ],
      "text/plain": [
       "<folium.folium.Map at 0x21d8a725df0>"
      ]
     },
     "execution_count": 42,
     "metadata": {},
     "output_type": "execute_result"
    }
   ],
   "source": [
    "# Make an empty map\n",
    "m = folium.Map(location=[40,-100], tiles=\"OpenStreetMap\", zoom_start=4)\n",
    "\n",
    "#show the map\n",
    "m"
   ]
  },
  {
   "cell_type": "code",
   "execution_count": 43,
   "metadata": {
    "ExecuteTime": {
     "end_time": "2021-09-07T06:49:38.993777Z",
     "start_time": "2021-09-07T06:49:37.864780Z"
    }
   },
   "outputs": [
    {
     "data": {
      "text/plain": [
       "[[30.81525, -90.9198, 0.0],\n",
       " [32.71175, -95.51144, 0.0],\n",
       " [33.01422, -93.85991, 1.0],\n",
       " [34.09958, -84.40154, 0.0],\n",
       " [33.806045, -92.33647500000001, 1.0],\n",
       " [33.21925, -96.67408, 1.0],\n",
       " [34.739055, -83.205245, 1.0],\n",
       " [34.157685, -92.15238, 1.0],\n",
       " [34.496230000000004, -89.98381499999999, 1.0],\n",
       " [35.2489, -89.05008500000001, 1.0],\n",
       " [35.74039, -82.17408499999999, 1.0],\n",
       " [34.69527, -95.30958, 1.0],\n",
       " [36.5909, -79.4095, 1.0],\n",
       " [35.850105, -86.98658499999999, 1.0],\n",
       " [35.659585, -86.54159, 1.0],\n",
       " [36.52417, -87.59483, 1.0],\n",
       " [36.66052, -86.85858, 1.0],\n",
       " [35.43073, -95.95705, 1.0],\n",
       " [37.589625, -86.79764, 1.0],\n",
       " [36.08979, -95.61946499999999, 1.0],\n",
       " [36.76089, -95.94744499999999, 1.0],\n",
       " [36.000455, -93.4646, 1.0],\n",
       " [38.08543, -87.58839, 1.0],\n",
       " [37.33333, -99.14954, 1.0],\n",
       " [36.21252, -89.68290999999998, 1.0],\n",
       " [38.02805, -86.3869, 1.0],\n",
       " [36.62914000000001, -85.333745, 1.0],\n",
       " [36.7107, -97.3004, 1.0],\n",
       " [37.04388, -89.28664, 1.0],\n",
       " [37.38908, -84.01389, 1.0],\n",
       " [37.976115, -87.035955, 1.0],\n",
       " [38.255575, -88.96998499999998, 1.0],\n",
       " [37.92598, -84.5425, 1.0],\n",
       " [38.612605, -93.53547499999999, 1.0],\n",
       " [38.55017, -84.72639000000002, 1.0],\n",
       " [37.95438, -89.99684, 1.0],\n",
       " [38.45552, -93.99012, 0.0],\n",
       " [39.338445, -86.034325, 1.0],\n",
       " [38.94064, -92.25189, 1.0],\n",
       " [39.308890000000005, -86.76462000000001, 1.0],\n",
       " [38.93903, -89.10075, 1.0],\n",
       " [39.02277, -92.23167000000001, 1.0],\n",
       " [39.802690000000005, -84.45583, 1.0],\n",
       " [39.41549000000001, -91.37309, 1.0],\n",
       " [39.43717, -97.12972, 1.0],\n",
       " [39.88078, -86.71959, 0.0],\n",
       " [39.725625, -91.03562, 1.0],\n",
       " [38.713975000000005, -98.953315, 1.0],\n",
       " [40.0904, -95.8934, 0.0],\n",
       " [40.0003, -97.67, 1.0],\n",
       " [40.04017, -87.17268, 0.0],\n",
       " [41.803215, -98.7029, 1.0],\n",
       " [40.45268, -96.00855, 1.0],\n",
       " [40.5913, -96.678, 1.0],\n",
       " [40.49065, -85.65257, 1.0],\n",
       " [40.82715, -88.97987, 1.0],\n",
       " [40.94484, -84.583505, 0.0],\n",
       " [40.478635, -91.177075, 1.0],\n",
       " [41.2214, -96.7324, 1.0],\n",
       " [40.905114999999995, -88.3938, 1.0],\n",
       " [41.139700000000005, -87.32036, 1.0],\n",
       " [41.51106, -88.059905, 1.0],\n",
       " [41.087055, -91.74241, 1.0],\n",
       " [41.3139, -96.2517, 1.0],\n",
       " [41.62772, -93.48636, 1.0],\n",
       " [41.43901000000001, -93.160855, 1.0],\n",
       " [40.74128, -81.267075, 1.0],\n",
       " [41.58701000000001, -95.05632, 1.0],\n",
       " [41.30674000000001, -92.88866, 1.0],\n",
       " [41.88169, -90.95045, 1.0],\n",
       " [41.85898, -90.83156, 0.0],\n",
       " [41.20311, -81.42808000000002, 1.0],\n",
       " [42.35187, -95.45906, 1.0],\n",
       " [41.963350000000005, -93.98913999999999, 1.0],\n",
       " [42.26404, -93.83904, 1.0],\n",
       " [42.521, -81.4785, 1.0],\n",
       " [42.61912, -89.5061, 1.0],\n",
       " [42.996135, -85.20516500000002, 1.0],\n",
       " [44.315155000000004, -95.9306, 1.0],\n",
       " [42.72519000000001, -90.63017, 1.0],\n",
       " [42.87025, -83.38871, 1.0],\n",
       " [43.02365, -88.05684000000002, 1.0],\n",
       " [42.593779999999995, -83.767065, 1.0],\n",
       " [43.87473, -94.94, 1.0],\n",
       " [43.14175, -89.38481, 1.0],\n",
       " [43.16264, -89.93616, 0.0],\n",
       " [43.003795, -88.30588499999999, 1.0],\n",
       " [46.70661, -102.99289999999999, 1.0],\n",
       " [43.72474, -93.08981, 1.0],\n",
       " [43.24142, -92.08162999999999, 1.0],\n",
       " [43.72144, -92.58198, 1.0],\n",
       " [43.55545500000001, -87.88026500000001, 1.0],\n",
       " [44.17882, -91.95486, 1.0],\n",
       " [42.813855000000004, -78.81341499999999, 1.0],\n",
       " [43.970034999999996, -92.01425, 1.0],\n",
       " [43.51214, -90.64944, 0.0],\n",
       " [43.45794, -92.49581, 1.0],\n",
       " [43.1804, -74.67373, 1.0],\n",
       " [42.49439, -77.75319, 1.0],\n",
       " [44.33298, -88.83138000000002, 1.0],\n",
       " [47.14749, -116.8226, 1.0],\n",
       " [43.68546, -94.28423, 1.0],\n",
       " [42.737475, -78.70931, 1.0],\n",
       " [44.60706, -90.80077, 1.0],\n",
       " [43.85701, -79.5107, 1.0],\n",
       " [44.25103, -90.099545, 1.0],\n",
       " [42.357955000000004, -78.33973, 1.0],\n",
       " [42.223910000000004, -77.31930999999999, 1.0],\n",
       " [44.462135, -75.632525, 1.0],\n",
       " [45.3963, -87.71743500000002, 1.0],\n",
       " [45.10883, -89.57228, 0.0],\n",
       " [45.842425, -94.513725, 0.0],\n",
       " [44.93348, -91.16597, 1.0],\n",
       " [45.77649, -105.3886, 1.0],\n",
       " [46.511955, -95.438635, 0.0],\n",
       " [44.52799, -90.16089, 1.0],\n",
       " [45.3951, -93.71696, 1.0],\n",
       " [46.25277, -95.08914, 0.0],\n",
       " [44.69796, -105.9938, 1.0],\n",
       " [47.29629, -96.34198, 0.0],\n",
       " [47.951515, -122.05815000000001, 0.0],\n",
       " [46.153735, -92.534265, 1.0],\n",
       " [46.11305, -95.0255, 1.0],\n",
       " [44.198365, -91.232295, 1.0],\n",
       " [47.55404, -95.69480999999999, 0.0],\n",
       " [46.99628, -96.43206, 0.0],\n",
       " [45.58591, -95.51664, 1.0],\n",
       " [44.187595, -72.65946, 0.0],\n",
       " [45.769115, -117.83250000000001, 1.0],\n",
       " [47.43996, -94.60767, 1.0],\n",
       " [45.91013, -109.8377, 1.0],\n",
       " [46.481809999999996, -93.16721000000001, 0.0],\n",
       " [44.04535, -73.72932, 1.0],\n",
       " [44.637415000000004, -73.9054, 1.0],\n",
       " [46.641805, -116.17935, 1.0],\n",
       " [44.54885, -72.05014, 0.0],\n",
       " [45.55498, -89.844615, 1.0],\n",
       " [45.57997, -86.97891, 1.0],\n",
       " [48.230315000000004, -116.50035, 1.0],\n",
       " [47.80283, -111.586, 0.0],\n",
       " [44.847314999999995, -116.08335, 1.0],\n",
       " [47.29536, -115.0427, 1.0],\n",
       " [48.33076, -106.1639, 1.0],\n",
       " [45.86543, -105.4249, 1.0],\n",
       " [46.924165, -121.0524, 1.0],\n",
       " [46.13389, -111.3987, 1.0],\n",
       " [45.51385, -87.21198000000003, 1.0],\n",
       " [48.049144999999996, -115.54065, 1.0],\n",
       " [40.73744000000001, -106.837, 1.0],\n",
       " [45.7315, -115.9028, 0.0],\n",
       " [46.97825, -114.094, 1.0],\n",
       " [46.26814, -112.1841, 1.0],\n",
       " [45.67732, -111.01055, 1.0],\n",
       " [40.44196500000001, -106.8486, 1.0],\n",
       " [47.06053, -115.4951, 1.0],\n",
       " [46.60602, -112.02125, 1.0],\n",
       " [46.783235000000005, -109.7072, 1.0],\n",
       " [45.10667, -117.3484, 1.0],\n",
       " [47.517934999999994, -120.64445, 0.5],\n",
       " [46.26708, -106.4214, 1.0],\n",
       " [48.14939, -114.2922, 1.0],\n",
       " [44.47668, -115.65435, 0.0],\n",
       " [41.15688, -110.5796, 1.0],\n",
       " [44.9355, -114.7641, 1.0],\n",
       " [61.7615, -149.4432, 2.0],\n",
       " [45.184735, -114.20515, 1.0],\n",
       " [64.0412, -145.6809, 0.0],\n",
       " [47.01592, -114.4453, 1.0],\n",
       " [61.4352, -149.3089, 1.0],\n",
       " [48.49467, -121.3343, 1.0],\n",
       " [45.052885, -115.2416, 0.5],\n",
       " [64.3331, -158.7374, 0.0],\n",
       " [47.822125, -121.03815, 1.0],\n",
       " [47.41786, -120.9605, 1.0],\n",
       " [46.0804, -113.14205000000001, 1.0],\n",
       " [46.883, -113.9176, 1.0],\n",
       " [48.94367, -115.8685, 1.0],\n",
       " [65.410485, -145.65145, 0.5],\n",
       " [60.80518, -148.88675, 1.0],\n",
       " [45.65923, -114.32, 1.0],\n",
       " [46.443439999999995, -114.15559999999999, 0.0],\n",
       " [43.47139, -110.7393, 1.0],\n",
       " [44.7178, -109.6672, 1.0],\n",
       " [48.35791, -113.0124, 1.0],\n",
       " [50.492575, -121.76034999999999, 1.0],\n",
       " [48.91279, -116.2129, 1.0],\n",
       " [44.11887, -110.76570000000001, 1.0],\n",
       " [64.0695, -141.8496, 1.0],\n",
       " [46.034135, -113.7522, 0.0],\n",
       " [45.173564999999996, -109.6173, 1.0],\n",
       " [45.349135000000004, -113.45785000000001, 1.0],\n",
       " [45.57799, -113.0691, 1.0],\n",
       " [48.816289999999995, -113.63315, 1.0],\n",
       " [45.59659500000001, -110.1203, 1.0],\n",
       " [45.814930000000004, -112.89095, 1.0],\n",
       " [47.42805, -113.714, 1.0],\n",
       " [47.981629999999996, -113.75645, 1.0],\n",
       " [44.46151, -109.8582, 0.0],\n",
       " [48.72089, -114.001, 1.0],\n",
       " [63.60878, -149.4739, 1.0],\n",
       " [48.84004, -114.387, 1.0],\n",
       " [62.00443, -145.3756, 1.0],\n",
       " [61.988249999999994, -146.94670000000002, 1.0],\n",
       " [63.1698, -145.5325, 1.0],\n",
       " [45.01078, -110.7222, 1.0],\n",
       " [59.41263000000001, -135.9995, 0.0],\n",
       " [56.92592, -132.7737, 1.0],\n",
       " [44.99003, -110.1119, 1.0],\n",
       " [59.51226, -135.5575, 1.0],\n",
       " [63.38764, -143.7586, 0.5],\n",
       " [61.085139999999996, -146.2344, 0.0],\n",
       " [68.14312, -151.7333, 0.0],\n",
       " [61.696529999999996, -149.03485, 1.0],\n",
       " [61.33335, -145.2758, 1.0],\n",
       " [61.80278000000001, -147.6844, 0.0],\n",
       " [62.809005, -143.7467, 0.0],\n",
       " [68.192635, -149.4367, 0.5],\n",
       " [61.093335, -145.8785, 1.0],\n",
       " [58.348150000000004, -134.50855, 1.0],\n",
       " [63.45736000000001, -145.85434999999998, 1.0],\n",
       " [61.45528, -143.7639, 1.0],\n",
       " [61.429405, -143.11845, 0.0],\n",
       " [63.4915, -149.77415, 1.0],\n",
       " [62.88942, -149.7642, 1.0],\n",
       " [61.6225, -144.5472, 1.0],\n",
       " [63.51600000000001, -150.9098, 0.0],\n",
       " [61.884170000000005, -145.2614, 0.5]]"
      ]
     },
     "execution_count": 43,
     "metadata": {},
     "output_type": "execute_result"
    }
   ],
   "source": [
    "data2 = df2.groupby('snowfall_days').median()[['latitude', 'longitude', 'bridge_condition']].values.tolist()\n",
    "data2"
   ]
  },
  {
   "cell_type": "code",
   "execution_count": 44,
   "metadata": {
    "ExecuteTime": {
     "end_time": "2021-09-07T06:49:39.040778Z",
     "start_time": "2021-09-07T06:49:38.996778Z"
    },
    "scrolled": false
   },
   "outputs": [
    {
     "data": {
      "text/html": [
       "<div style=\"width:100%;\"><div style=\"position:relative;width:100%;height:0;padding-bottom:60%;\"><span style=\"color:#565656\">Make this Notebook Trusted to load map: File -> Trust Notebook</span><iframe src=\"about:blank\" style=\"position:absolute;width:100%;height:100%;left:0;top:0;border:none !important;\" data-html=%3C%21DOCTYPE%20html%3E%0A%3Chead%3E%20%20%20%20%0A%20%20%20%20%3Cmeta%20http-equiv%3D%22content-type%22%20content%3D%22text/html%3B%20charset%3DUTF-8%22%20/%3E%0A%20%20%20%20%0A%20%20%20%20%20%20%20%20%3Cscript%3E%0A%20%20%20%20%20%20%20%20%20%20%20%20L_NO_TOUCH%20%3D%20false%3B%0A%20%20%20%20%20%20%20%20%20%20%20%20L_DISABLE_3D%20%3D%20false%3B%0A%20%20%20%20%20%20%20%20%3C/script%3E%0A%20%20%20%20%0A%20%20%20%20%3Cstyle%3Ehtml%2C%20body%20%7Bwidth%3A%20100%25%3Bheight%3A%20100%25%3Bmargin%3A%200%3Bpadding%3A%200%3B%7D%3C/style%3E%0A%20%20%20%20%3Cstyle%3E%23map%20%7Bposition%3Aabsolute%3Btop%3A0%3Bbottom%3A0%3Bright%3A0%3Bleft%3A0%3B%7D%3C/style%3E%0A%20%20%20%20%3Cscript%20src%3D%22https%3A//cdn.jsdelivr.net/npm/leaflet%401.6.0/dist/leaflet.js%22%3E%3C/script%3E%0A%20%20%20%20%3Cscript%20src%3D%22https%3A//code.jquery.com/jquery-1.12.4.min.js%22%3E%3C/script%3E%0A%20%20%20%20%3Cscript%20src%3D%22https%3A//maxcdn.bootstrapcdn.com/bootstrap/3.2.0/js/bootstrap.min.js%22%3E%3C/script%3E%0A%20%20%20%20%3Cscript%20src%3D%22https%3A//cdnjs.cloudflare.com/ajax/libs/Leaflet.awesome-markers/2.0.2/leaflet.awesome-markers.js%22%3E%3C/script%3E%0A%20%20%20%20%3Clink%20rel%3D%22stylesheet%22%20href%3D%22https%3A//cdn.jsdelivr.net/npm/leaflet%401.6.0/dist/leaflet.css%22/%3E%0A%20%20%20%20%3Clink%20rel%3D%22stylesheet%22%20href%3D%22https%3A//maxcdn.bootstrapcdn.com/bootstrap/3.2.0/css/bootstrap.min.css%22/%3E%0A%20%20%20%20%3Clink%20rel%3D%22stylesheet%22%20href%3D%22https%3A//maxcdn.bootstrapcdn.com/bootstrap/3.2.0/css/bootstrap-theme.min.css%22/%3E%0A%20%20%20%20%3Clink%20rel%3D%22stylesheet%22%20href%3D%22https%3A//maxcdn.bootstrapcdn.com/font-awesome/4.6.3/css/font-awesome.min.css%22/%3E%0A%20%20%20%20%3Clink%20rel%3D%22stylesheet%22%20href%3D%22https%3A//cdnjs.cloudflare.com/ajax/libs/Leaflet.awesome-markers/2.0.2/leaflet.awesome-markers.css%22/%3E%0A%20%20%20%20%3Clink%20rel%3D%22stylesheet%22%20href%3D%22https%3A//cdn.jsdelivr.net/gh/python-visualization/folium/folium/templates/leaflet.awesome.rotate.min.css%22/%3E%0A%20%20%20%20%0A%20%20%20%20%20%20%20%20%20%20%20%20%3Cmeta%20name%3D%22viewport%22%20content%3D%22width%3Ddevice-width%2C%0A%20%20%20%20%20%20%20%20%20%20%20%20%20%20%20%20initial-scale%3D1.0%2C%20maximum-scale%3D1.0%2C%20user-scalable%3Dno%22%20/%3E%0A%20%20%20%20%20%20%20%20%20%20%20%20%3Cstyle%3E%0A%20%20%20%20%20%20%20%20%20%20%20%20%20%20%20%20%23map_6b9c61a808e14a10948b167240a387a2%20%7B%0A%20%20%20%20%20%20%20%20%20%20%20%20%20%20%20%20%20%20%20%20position%3A%20relative%3B%0A%20%20%20%20%20%20%20%20%20%20%20%20%20%20%20%20%20%20%20%20width%3A%20100.0%25%3B%0A%20%20%20%20%20%20%20%20%20%20%20%20%20%20%20%20%20%20%20%20height%3A%20100.0%25%3B%0A%20%20%20%20%20%20%20%20%20%20%20%20%20%20%20%20%20%20%20%20left%3A%200.0%25%3B%0A%20%20%20%20%20%20%20%20%20%20%20%20%20%20%20%20%20%20%20%20top%3A%200.0%25%3B%0A%20%20%20%20%20%20%20%20%20%20%20%20%20%20%20%20%7D%0A%20%20%20%20%20%20%20%20%20%20%20%20%3C/style%3E%0A%20%20%20%20%20%20%20%20%0A%20%20%20%20%3Cscript%20src%3D%22https%3A//cdn.jsdelivr.net/gh/python-visualization/folium%40master/folium/templates/leaflet_heat.min.js%22%3E%3C/script%3E%0A%3C/head%3E%0A%3Cbody%3E%20%20%20%20%0A%20%20%20%20%0A%20%20%20%20%20%20%20%20%20%20%20%20%3Cdiv%20class%3D%22folium-map%22%20id%3D%22map_6b9c61a808e14a10948b167240a387a2%22%20%3E%3C/div%3E%0A%20%20%20%20%20%20%20%20%0A%3C/body%3E%0A%3Cscript%3E%20%20%20%20%0A%20%20%20%20%0A%20%20%20%20%20%20%20%20%20%20%20%20var%20map_6b9c61a808e14a10948b167240a387a2%20%3D%20L.map%28%0A%20%20%20%20%20%20%20%20%20%20%20%20%20%20%20%20%22map_6b9c61a808e14a10948b167240a387a2%22%2C%0A%20%20%20%20%20%20%20%20%20%20%20%20%20%20%20%20%7B%0A%20%20%20%20%20%20%20%20%20%20%20%20%20%20%20%20%20%20%20%20center%3A%20%5B40.0%2C%20-100.0%5D%2C%0A%20%20%20%20%20%20%20%20%20%20%20%20%20%20%20%20%20%20%20%20crs%3A%20L.CRS.EPSG3857%2C%0A%20%20%20%20%20%20%20%20%20%20%20%20%20%20%20%20%20%20%20%20zoom%3A%204%2C%0A%20%20%20%20%20%20%20%20%20%20%20%20%20%20%20%20%20%20%20%20zoomControl%3A%20true%2C%0A%20%20%20%20%20%20%20%20%20%20%20%20%20%20%20%20%20%20%20%20preferCanvas%3A%20false%2C%0A%20%20%20%20%20%20%20%20%20%20%20%20%20%20%20%20%7D%0A%20%20%20%20%20%20%20%20%20%20%20%20%29%3B%0A%0A%20%20%20%20%20%20%20%20%20%20%20%20%0A%0A%20%20%20%20%20%20%20%20%0A%20%20%20%20%0A%20%20%20%20%20%20%20%20%20%20%20%20var%20tile_layer_4eacbb0e9e1e4e3aa9d50161725593fa%20%3D%20L.tileLayer%28%0A%20%20%20%20%20%20%20%20%20%20%20%20%20%20%20%20%22https%3A//%7Bs%7D.tile.openstreetmap.org/%7Bz%7D/%7Bx%7D/%7By%7D.png%22%2C%0A%20%20%20%20%20%20%20%20%20%20%20%20%20%20%20%20%7B%22attribution%22%3A%20%22Data%20by%20%5Cu0026copy%3B%20%5Cu003ca%20href%3D%5C%22http%3A//openstreetmap.org%5C%22%5Cu003eOpenStreetMap%5Cu003c/a%5Cu003e%2C%20under%20%5Cu003ca%20href%3D%5C%22http%3A//www.openstreetmap.org/copyright%5C%22%5Cu003eODbL%5Cu003c/a%5Cu003e.%22%2C%20%22detectRetina%22%3A%20false%2C%20%22maxNativeZoom%22%3A%2018%2C%20%22maxZoom%22%3A%2018%2C%20%22minZoom%22%3A%200%2C%20%22noWrap%22%3A%20false%2C%20%22opacity%22%3A%201%2C%20%22subdomains%22%3A%20%22abc%22%2C%20%22tms%22%3A%20false%7D%0A%20%20%20%20%20%20%20%20%20%20%20%20%29.addTo%28map_6b9c61a808e14a10948b167240a387a2%29%3B%0A%20%20%20%20%20%20%20%20%0A%20%20%20%20%0A%20%20%20%20%20%20%20%20%20%20%20%20var%20heat_map_794201f57a2149d4910559768fe8db57%20%3D%20L.heatLayer%28%0A%20%20%20%20%20%20%20%20%20%20%20%20%20%20%20%20%5B%5B30.81525%2C%20-90.9198%2C%200.0%5D%2C%20%5B32.71175%2C%20-95.51144%2C%200.0%5D%2C%20%5B33.01422%2C%20-93.85991%2C%201.0%5D%2C%20%5B34.09958%2C%20-84.40154%2C%200.0%5D%2C%20%5B33.806045%2C%20-92.33647500000001%2C%201.0%5D%2C%20%5B33.21925%2C%20-96.67408%2C%201.0%5D%2C%20%5B34.739055%2C%20-83.205245%2C%201.0%5D%2C%20%5B34.157685%2C%20-92.15238%2C%201.0%5D%2C%20%5B34.496230000000004%2C%20-89.98381499999999%2C%201.0%5D%2C%20%5B35.2489%2C%20-89.05008500000001%2C%201.0%5D%2C%20%5B35.74039%2C%20-82.17408499999999%2C%201.0%5D%2C%20%5B34.69527%2C%20-95.30958%2C%201.0%5D%2C%20%5B36.5909%2C%20-79.4095%2C%201.0%5D%2C%20%5B35.850105%2C%20-86.98658499999999%2C%201.0%5D%2C%20%5B35.659585%2C%20-86.54159%2C%201.0%5D%2C%20%5B36.52417%2C%20-87.59483%2C%201.0%5D%2C%20%5B36.66052%2C%20-86.85858%2C%201.0%5D%2C%20%5B35.43073%2C%20-95.95705%2C%201.0%5D%2C%20%5B37.589625%2C%20-86.79764%2C%201.0%5D%2C%20%5B36.08979%2C%20-95.61946499999999%2C%201.0%5D%2C%20%5B36.76089%2C%20-95.94744499999999%2C%201.0%5D%2C%20%5B36.000455%2C%20-93.4646%2C%201.0%5D%2C%20%5B38.08543%2C%20-87.58839%2C%201.0%5D%2C%20%5B37.33333%2C%20-99.14954%2C%201.0%5D%2C%20%5B36.21252%2C%20-89.68290999999998%2C%201.0%5D%2C%20%5B38.02805%2C%20-86.3869%2C%201.0%5D%2C%20%5B36.62914000000001%2C%20-85.333745%2C%201.0%5D%2C%20%5B36.7107%2C%20-97.3004%2C%201.0%5D%2C%20%5B37.04388%2C%20-89.28664%2C%201.0%5D%2C%20%5B37.38908%2C%20-84.01389%2C%201.0%5D%2C%20%5B37.976115%2C%20-87.035955%2C%201.0%5D%2C%20%5B38.255575%2C%20-88.96998499999998%2C%201.0%5D%2C%20%5B37.92598%2C%20-84.5425%2C%201.0%5D%2C%20%5B38.612605%2C%20-93.53547499999999%2C%201.0%5D%2C%20%5B38.55017%2C%20-84.72639000000002%2C%201.0%5D%2C%20%5B37.95438%2C%20-89.99684%2C%201.0%5D%2C%20%5B38.45552%2C%20-93.99012%2C%200.0%5D%2C%20%5B39.338445%2C%20-86.034325%2C%201.0%5D%2C%20%5B38.94064%2C%20-92.25189%2C%201.0%5D%2C%20%5B39.308890000000005%2C%20-86.76462000000001%2C%201.0%5D%2C%20%5B38.93903%2C%20-89.10075%2C%201.0%5D%2C%20%5B39.02277%2C%20-92.23167000000001%2C%201.0%5D%2C%20%5B39.802690000000005%2C%20-84.45583%2C%201.0%5D%2C%20%5B39.41549000000001%2C%20-91.37309%2C%201.0%5D%2C%20%5B39.43717%2C%20-97.12972%2C%201.0%5D%2C%20%5B39.88078%2C%20-86.71959%2C%200.0%5D%2C%20%5B39.725625%2C%20-91.03562%2C%201.0%5D%2C%20%5B38.713975000000005%2C%20-98.953315%2C%201.0%5D%2C%20%5B40.0904%2C%20-95.8934%2C%200.0%5D%2C%20%5B40.0003%2C%20-97.67%2C%201.0%5D%2C%20%5B40.04017%2C%20-87.17268%2C%200.0%5D%2C%20%5B41.803215%2C%20-98.7029%2C%201.0%5D%2C%20%5B40.45268%2C%20-96.00855%2C%201.0%5D%2C%20%5B40.5913%2C%20-96.678%2C%201.0%5D%2C%20%5B40.49065%2C%20-85.65257%2C%201.0%5D%2C%20%5B40.82715%2C%20-88.97987%2C%201.0%5D%2C%20%5B40.94484%2C%20-84.583505%2C%200.0%5D%2C%20%5B40.478635%2C%20-91.177075%2C%201.0%5D%2C%20%5B41.2214%2C%20-96.7324%2C%201.0%5D%2C%20%5B40.905114999999995%2C%20-88.3938%2C%201.0%5D%2C%20%5B41.139700000000005%2C%20-87.32036%2C%201.0%5D%2C%20%5B41.51106%2C%20-88.059905%2C%201.0%5D%2C%20%5B41.087055%2C%20-91.74241%2C%201.0%5D%2C%20%5B41.3139%2C%20-96.2517%2C%201.0%5D%2C%20%5B41.62772%2C%20-93.48636%2C%201.0%5D%2C%20%5B41.43901000000001%2C%20-93.160855%2C%201.0%5D%2C%20%5B40.74128%2C%20-81.267075%2C%201.0%5D%2C%20%5B41.58701000000001%2C%20-95.05632%2C%201.0%5D%2C%20%5B41.30674000000001%2C%20-92.88866%2C%201.0%5D%2C%20%5B41.88169%2C%20-90.95045%2C%201.0%5D%2C%20%5B41.85898%2C%20-90.83156%2C%200.0%5D%2C%20%5B41.20311%2C%20-81.42808000000002%2C%201.0%5D%2C%20%5B42.35187%2C%20-95.45906%2C%201.0%5D%2C%20%5B41.963350000000005%2C%20-93.98913999999999%2C%201.0%5D%2C%20%5B42.26404%2C%20-93.83904%2C%201.0%5D%2C%20%5B42.521%2C%20-81.4785%2C%201.0%5D%2C%20%5B42.61912%2C%20-89.5061%2C%201.0%5D%2C%20%5B42.996135%2C%20-85.20516500000002%2C%201.0%5D%2C%20%5B44.315155000000004%2C%20-95.9306%2C%201.0%5D%2C%20%5B42.72519000000001%2C%20-90.63017%2C%201.0%5D%2C%20%5B42.87025%2C%20-83.38871%2C%201.0%5D%2C%20%5B43.02365%2C%20-88.05684000000002%2C%201.0%5D%2C%20%5B42.593779999999995%2C%20-83.767065%2C%201.0%5D%2C%20%5B43.87473%2C%20-94.94%2C%201.0%5D%2C%20%5B43.14175%2C%20-89.38481%2C%201.0%5D%2C%20%5B43.16264%2C%20-89.93616%2C%200.0%5D%2C%20%5B43.003795%2C%20-88.30588499999999%2C%201.0%5D%2C%20%5B46.70661%2C%20-102.99289999999999%2C%201.0%5D%2C%20%5B43.72474%2C%20-93.08981%2C%201.0%5D%2C%20%5B43.24142%2C%20-92.08162999999999%2C%201.0%5D%2C%20%5B43.72144%2C%20-92.58198%2C%201.0%5D%2C%20%5B43.55545500000001%2C%20-87.88026500000001%2C%201.0%5D%2C%20%5B44.17882%2C%20-91.95486%2C%201.0%5D%2C%20%5B42.813855000000004%2C%20-78.81341499999999%2C%201.0%5D%2C%20%5B43.970034999999996%2C%20-92.01425%2C%201.0%5D%2C%20%5B43.51214%2C%20-90.64944%2C%200.0%5D%2C%20%5B43.45794%2C%20-92.49581%2C%201.0%5D%2C%20%5B43.1804%2C%20-74.67373%2C%201.0%5D%2C%20%5B42.49439%2C%20-77.75319%2C%201.0%5D%2C%20%5B44.33298%2C%20-88.83138000000002%2C%201.0%5D%2C%20%5B47.14749%2C%20-116.8226%2C%201.0%5D%2C%20%5B43.68546%2C%20-94.28423%2C%201.0%5D%2C%20%5B42.737475%2C%20-78.70931%2C%201.0%5D%2C%20%5B44.60706%2C%20-90.80077%2C%201.0%5D%2C%20%5B43.85701%2C%20-79.5107%2C%201.0%5D%2C%20%5B44.25103%2C%20-90.099545%2C%201.0%5D%2C%20%5B42.357955000000004%2C%20-78.33973%2C%201.0%5D%2C%20%5B42.223910000000004%2C%20-77.31930999999999%2C%201.0%5D%2C%20%5B44.462135%2C%20-75.632525%2C%201.0%5D%2C%20%5B45.3963%2C%20-87.71743500000002%2C%201.0%5D%2C%20%5B45.10883%2C%20-89.57228%2C%200.0%5D%2C%20%5B45.842425%2C%20-94.513725%2C%200.0%5D%2C%20%5B44.93348%2C%20-91.16597%2C%201.0%5D%2C%20%5B45.77649%2C%20-105.3886%2C%201.0%5D%2C%20%5B46.511955%2C%20-95.438635%2C%200.0%5D%2C%20%5B44.52799%2C%20-90.16089%2C%201.0%5D%2C%20%5B45.3951%2C%20-93.71696%2C%201.0%5D%2C%20%5B46.25277%2C%20-95.08914%2C%200.0%5D%2C%20%5B44.69796%2C%20-105.9938%2C%201.0%5D%2C%20%5B47.29629%2C%20-96.34198%2C%200.0%5D%2C%20%5B47.951515%2C%20-122.05815000000001%2C%200.0%5D%2C%20%5B46.153735%2C%20-92.534265%2C%201.0%5D%2C%20%5B46.11305%2C%20-95.0255%2C%201.0%5D%2C%20%5B44.198365%2C%20-91.232295%2C%201.0%5D%2C%20%5B47.55404%2C%20-95.69480999999999%2C%200.0%5D%2C%20%5B46.99628%2C%20-96.43206%2C%200.0%5D%2C%20%5B45.58591%2C%20-95.51664%2C%201.0%5D%2C%20%5B44.187595%2C%20-72.65946%2C%200.0%5D%2C%20%5B45.769115%2C%20-117.83250000000001%2C%201.0%5D%2C%20%5B47.43996%2C%20-94.60767%2C%201.0%5D%2C%20%5B45.91013%2C%20-109.8377%2C%201.0%5D%2C%20%5B46.481809999999996%2C%20-93.16721000000001%2C%200.0%5D%2C%20%5B44.04535%2C%20-73.72932%2C%201.0%5D%2C%20%5B44.637415000000004%2C%20-73.9054%2C%201.0%5D%2C%20%5B46.641805%2C%20-116.17935%2C%201.0%5D%2C%20%5B44.54885%2C%20-72.05014%2C%200.0%5D%2C%20%5B45.55498%2C%20-89.844615%2C%201.0%5D%2C%20%5B45.57997%2C%20-86.97891%2C%201.0%5D%2C%20%5B48.230315000000004%2C%20-116.50035%2C%201.0%5D%2C%20%5B47.80283%2C%20-111.586%2C%200.0%5D%2C%20%5B44.847314999999995%2C%20-116.08335%2C%201.0%5D%2C%20%5B47.29536%2C%20-115.0427%2C%201.0%5D%2C%20%5B48.33076%2C%20-106.1639%2C%201.0%5D%2C%20%5B45.86543%2C%20-105.4249%2C%201.0%5D%2C%20%5B46.924165%2C%20-121.0524%2C%201.0%5D%2C%20%5B46.13389%2C%20-111.3987%2C%201.0%5D%2C%20%5B45.51385%2C%20-87.21198000000003%2C%201.0%5D%2C%20%5B48.049144999999996%2C%20-115.54065%2C%201.0%5D%2C%20%5B40.73744000000001%2C%20-106.837%2C%201.0%5D%2C%20%5B45.7315%2C%20-115.9028%2C%200.0%5D%2C%20%5B46.97825%2C%20-114.094%2C%201.0%5D%2C%20%5B46.26814%2C%20-112.1841%2C%201.0%5D%2C%20%5B45.67732%2C%20-111.01055%2C%201.0%5D%2C%20%5B40.44196500000001%2C%20-106.8486%2C%201.0%5D%2C%20%5B47.06053%2C%20-115.4951%2C%201.0%5D%2C%20%5B46.60602%2C%20-112.02125%2C%201.0%5D%2C%20%5B46.783235000000005%2C%20-109.7072%2C%201.0%5D%2C%20%5B45.10667%2C%20-117.3484%2C%201.0%5D%2C%20%5B47.517934999999994%2C%20-120.64445%2C%200.5%5D%2C%20%5B46.26708%2C%20-106.4214%2C%201.0%5D%2C%20%5B48.14939%2C%20-114.2922%2C%201.0%5D%2C%20%5B44.47668%2C%20-115.65435%2C%200.0%5D%2C%20%5B41.15688%2C%20-110.5796%2C%201.0%5D%2C%20%5B44.9355%2C%20-114.7641%2C%201.0%5D%2C%20%5B61.7615%2C%20-149.4432%2C%202.0%5D%2C%20%5B45.184735%2C%20-114.20515%2C%201.0%5D%2C%20%5B64.0412%2C%20-145.6809%2C%200.0%5D%2C%20%5B47.01592%2C%20-114.4453%2C%201.0%5D%2C%20%5B61.4352%2C%20-149.3089%2C%201.0%5D%2C%20%5B48.49467%2C%20-121.3343%2C%201.0%5D%2C%20%5B45.052885%2C%20-115.2416%2C%200.5%5D%2C%20%5B64.3331%2C%20-158.7374%2C%200.0%5D%2C%20%5B47.822125%2C%20-121.03815%2C%201.0%5D%2C%20%5B47.41786%2C%20-120.9605%2C%201.0%5D%2C%20%5B46.0804%2C%20-113.14205000000001%2C%201.0%5D%2C%20%5B46.883%2C%20-113.9176%2C%201.0%5D%2C%20%5B48.94367%2C%20-115.8685%2C%201.0%5D%2C%20%5B65.410485%2C%20-145.65145%2C%200.5%5D%2C%20%5B60.80518%2C%20-148.88675%2C%201.0%5D%2C%20%5B45.65923%2C%20-114.32%2C%201.0%5D%2C%20%5B46.443439999999995%2C%20-114.15559999999999%2C%200.0%5D%2C%20%5B43.47139%2C%20-110.7393%2C%201.0%5D%2C%20%5B44.7178%2C%20-109.6672%2C%201.0%5D%2C%20%5B48.35791%2C%20-113.0124%2C%201.0%5D%2C%20%5B50.492575%2C%20-121.76034999999999%2C%201.0%5D%2C%20%5B48.91279%2C%20-116.2129%2C%201.0%5D%2C%20%5B44.11887%2C%20-110.76570000000001%2C%201.0%5D%2C%20%5B64.0695%2C%20-141.8496%2C%201.0%5D%2C%20%5B46.034135%2C%20-113.7522%2C%200.0%5D%2C%20%5B45.173564999999996%2C%20-109.6173%2C%201.0%5D%2C%20%5B45.349135000000004%2C%20-113.45785000000001%2C%201.0%5D%2C%20%5B45.57799%2C%20-113.0691%2C%201.0%5D%2C%20%5B48.816289999999995%2C%20-113.63315%2C%201.0%5D%2C%20%5B45.59659500000001%2C%20-110.1203%2C%201.0%5D%2C%20%5B45.814930000000004%2C%20-112.89095%2C%201.0%5D%2C%20%5B47.42805%2C%20-113.714%2C%201.0%5D%2C%20%5B47.981629999999996%2C%20-113.75645%2C%201.0%5D%2C%20%5B44.46151%2C%20-109.8582%2C%200.0%5D%2C%20%5B48.72089%2C%20-114.001%2C%201.0%5D%2C%20%5B63.60878%2C%20-149.4739%2C%201.0%5D%2C%20%5B48.84004%2C%20-114.387%2C%201.0%5D%2C%20%5B62.00443%2C%20-145.3756%2C%201.0%5D%2C%20%5B61.988249999999994%2C%20-146.94670000000002%2C%201.0%5D%2C%20%5B63.1698%2C%20-145.5325%2C%201.0%5D%2C%20%5B45.01078%2C%20-110.7222%2C%201.0%5D%2C%20%5B59.41263000000001%2C%20-135.9995%2C%200.0%5D%2C%20%5B56.92592%2C%20-132.7737%2C%201.0%5D%2C%20%5B44.99003%2C%20-110.1119%2C%201.0%5D%2C%20%5B59.51226%2C%20-135.5575%2C%201.0%5D%2C%20%5B63.38764%2C%20-143.7586%2C%200.5%5D%2C%20%5B61.085139999999996%2C%20-146.2344%2C%200.0%5D%2C%20%5B68.14312%2C%20-151.7333%2C%200.0%5D%2C%20%5B61.696529999999996%2C%20-149.03485%2C%201.0%5D%2C%20%5B61.33335%2C%20-145.2758%2C%201.0%5D%2C%20%5B61.80278000000001%2C%20-147.6844%2C%200.0%5D%2C%20%5B62.809005%2C%20-143.7467%2C%200.0%5D%2C%20%5B68.192635%2C%20-149.4367%2C%200.5%5D%2C%20%5B61.093335%2C%20-145.8785%2C%201.0%5D%2C%20%5B58.348150000000004%2C%20-134.50855%2C%201.0%5D%2C%20%5B63.45736000000001%2C%20-145.85434999999998%2C%201.0%5D%2C%20%5B61.45528%2C%20-143.7639%2C%201.0%5D%2C%20%5B61.429405%2C%20-143.11845%2C%200.0%5D%2C%20%5B63.4915%2C%20-149.77415%2C%201.0%5D%2C%20%5B62.88942%2C%20-149.7642%2C%201.0%5D%2C%20%5B61.6225%2C%20-144.5472%2C%201.0%5D%2C%20%5B63.51600000000001%2C%20-150.9098%2C%200.0%5D%2C%20%5B61.884170000000005%2C%20-145.2614%2C%200.5%5D%5D%2C%0A%20%20%20%20%20%20%20%20%20%20%20%20%20%20%20%20%7B%22blur%22%3A%2015%2C%20%22maxZoom%22%3A%2018%2C%20%22minOpacity%22%3A%200.5%2C%20%22radius%22%3A%2025%7D%0A%20%20%20%20%20%20%20%20%20%20%20%20%29.addTo%28map_6b9c61a808e14a10948b167240a387a2%29%3B%0A%20%20%20%20%20%20%20%20%0A%3C/script%3E onload=\"this.contentDocument.open();this.contentDocument.write(    decodeURIComponent(this.getAttribute('data-html')));this.contentDocument.close();\" allowfullscreen webkitallowfullscreen mozallowfullscreen></iframe></div></div>"
      ],
      "text/plain": [
       "<folium.folium.Map at 0x21d8a725df0>"
      ]
     },
     "metadata": {},
     "output_type": "display_data"
    }
   ],
   "source": [
    "HeatMap(data = data2).add_to(m)\n",
    "display(m)"
   ]
  },
  {
   "cell_type": "markdown",
   "metadata": {},
   "source": [
    "## By age of bridge"
   ]
  },
  {
   "cell_type": "code",
   "execution_count": 45,
   "metadata": {
    "ExecuteTime": {
     "end_time": "2021-09-07T06:49:39.088372Z",
     "start_time": "2021-09-07T06:49:39.044310Z"
    }
   },
   "outputs": [
    {
     "data": {
      "text/html": [
       "<div style=\"width:100%;\"><div style=\"position:relative;width:100%;height:0;padding-bottom:60%;\"><span style=\"color:#565656\">Make this Notebook Trusted to load map: File -> Trust Notebook</span><iframe src=\"about:blank\" style=\"position:absolute;width:100%;height:100%;left:0;top:0;border:none !important;\" data-html=%3C%21DOCTYPE%20html%3E%0A%3Chead%3E%20%20%20%20%0A%20%20%20%20%3Cmeta%20http-equiv%3D%22content-type%22%20content%3D%22text/html%3B%20charset%3DUTF-8%22%20/%3E%0A%20%20%20%20%0A%20%20%20%20%20%20%20%20%3Cscript%3E%0A%20%20%20%20%20%20%20%20%20%20%20%20L_NO_TOUCH%20%3D%20false%3B%0A%20%20%20%20%20%20%20%20%20%20%20%20L_DISABLE_3D%20%3D%20false%3B%0A%20%20%20%20%20%20%20%20%3C/script%3E%0A%20%20%20%20%0A%20%20%20%20%3Cstyle%3Ehtml%2C%20body%20%7Bwidth%3A%20100%25%3Bheight%3A%20100%25%3Bmargin%3A%200%3Bpadding%3A%200%3B%7D%3C/style%3E%0A%20%20%20%20%3Cstyle%3E%23map%20%7Bposition%3Aabsolute%3Btop%3A0%3Bbottom%3A0%3Bright%3A0%3Bleft%3A0%3B%7D%3C/style%3E%0A%20%20%20%20%3Cscript%20src%3D%22https%3A//cdn.jsdelivr.net/npm/leaflet%401.6.0/dist/leaflet.js%22%3E%3C/script%3E%0A%20%20%20%20%3Cscript%20src%3D%22https%3A//code.jquery.com/jquery-1.12.4.min.js%22%3E%3C/script%3E%0A%20%20%20%20%3Cscript%20src%3D%22https%3A//maxcdn.bootstrapcdn.com/bootstrap/3.2.0/js/bootstrap.min.js%22%3E%3C/script%3E%0A%20%20%20%20%3Cscript%20src%3D%22https%3A//cdnjs.cloudflare.com/ajax/libs/Leaflet.awesome-markers/2.0.2/leaflet.awesome-markers.js%22%3E%3C/script%3E%0A%20%20%20%20%3Clink%20rel%3D%22stylesheet%22%20href%3D%22https%3A//cdn.jsdelivr.net/npm/leaflet%401.6.0/dist/leaflet.css%22/%3E%0A%20%20%20%20%3Clink%20rel%3D%22stylesheet%22%20href%3D%22https%3A//maxcdn.bootstrapcdn.com/bootstrap/3.2.0/css/bootstrap.min.css%22/%3E%0A%20%20%20%20%3Clink%20rel%3D%22stylesheet%22%20href%3D%22https%3A//maxcdn.bootstrapcdn.com/bootstrap/3.2.0/css/bootstrap-theme.min.css%22/%3E%0A%20%20%20%20%3Clink%20rel%3D%22stylesheet%22%20href%3D%22https%3A//maxcdn.bootstrapcdn.com/font-awesome/4.6.3/css/font-awesome.min.css%22/%3E%0A%20%20%20%20%3Clink%20rel%3D%22stylesheet%22%20href%3D%22https%3A//cdnjs.cloudflare.com/ajax/libs/Leaflet.awesome-markers/2.0.2/leaflet.awesome-markers.css%22/%3E%0A%20%20%20%20%3Clink%20rel%3D%22stylesheet%22%20href%3D%22https%3A//cdn.jsdelivr.net/gh/python-visualization/folium/folium/templates/leaflet.awesome.rotate.min.css%22/%3E%0A%20%20%20%20%0A%20%20%20%20%20%20%20%20%20%20%20%20%3Cmeta%20name%3D%22viewport%22%20content%3D%22width%3Ddevice-width%2C%0A%20%20%20%20%20%20%20%20%20%20%20%20%20%20%20%20initial-scale%3D1.0%2C%20maximum-scale%3D1.0%2C%20user-scalable%3Dno%22%20/%3E%0A%20%20%20%20%20%20%20%20%20%20%20%20%3Cstyle%3E%0A%20%20%20%20%20%20%20%20%20%20%20%20%20%20%20%20%23map_4578f6c6607a4de4adf4e8aa43eb28e1%20%7B%0A%20%20%20%20%20%20%20%20%20%20%20%20%20%20%20%20%20%20%20%20position%3A%20relative%3B%0A%20%20%20%20%20%20%20%20%20%20%20%20%20%20%20%20%20%20%20%20width%3A%20100.0%25%3B%0A%20%20%20%20%20%20%20%20%20%20%20%20%20%20%20%20%20%20%20%20height%3A%20100.0%25%3B%0A%20%20%20%20%20%20%20%20%20%20%20%20%20%20%20%20%20%20%20%20left%3A%200.0%25%3B%0A%20%20%20%20%20%20%20%20%20%20%20%20%20%20%20%20%20%20%20%20top%3A%200.0%25%3B%0A%20%20%20%20%20%20%20%20%20%20%20%20%20%20%20%20%7D%0A%20%20%20%20%20%20%20%20%20%20%20%20%3C/style%3E%0A%20%20%20%20%20%20%20%20%0A%3C/head%3E%0A%3Cbody%3E%20%20%20%20%0A%20%20%20%20%0A%20%20%20%20%20%20%20%20%20%20%20%20%3Cdiv%20class%3D%22folium-map%22%20id%3D%22map_4578f6c6607a4de4adf4e8aa43eb28e1%22%20%3E%3C/div%3E%0A%20%20%20%20%20%20%20%20%0A%3C/body%3E%0A%3Cscript%3E%20%20%20%20%0A%20%20%20%20%0A%20%20%20%20%20%20%20%20%20%20%20%20var%20map_4578f6c6607a4de4adf4e8aa43eb28e1%20%3D%20L.map%28%0A%20%20%20%20%20%20%20%20%20%20%20%20%20%20%20%20%22map_4578f6c6607a4de4adf4e8aa43eb28e1%22%2C%0A%20%20%20%20%20%20%20%20%20%20%20%20%20%20%20%20%7B%0A%20%20%20%20%20%20%20%20%20%20%20%20%20%20%20%20%20%20%20%20center%3A%20%5B40.0%2C%20-100.0%5D%2C%0A%20%20%20%20%20%20%20%20%20%20%20%20%20%20%20%20%20%20%20%20crs%3A%20L.CRS.EPSG3857%2C%0A%20%20%20%20%20%20%20%20%20%20%20%20%20%20%20%20%20%20%20%20zoom%3A%204%2C%0A%20%20%20%20%20%20%20%20%20%20%20%20%20%20%20%20%20%20%20%20zoomControl%3A%20true%2C%0A%20%20%20%20%20%20%20%20%20%20%20%20%20%20%20%20%20%20%20%20preferCanvas%3A%20false%2C%0A%20%20%20%20%20%20%20%20%20%20%20%20%20%20%20%20%7D%0A%20%20%20%20%20%20%20%20%20%20%20%20%29%3B%0A%0A%20%20%20%20%20%20%20%20%20%20%20%20%0A%0A%20%20%20%20%20%20%20%20%0A%20%20%20%20%0A%20%20%20%20%20%20%20%20%20%20%20%20var%20tile_layer_15a16214fb2b4d3182ce8f767fddcc91%20%3D%20L.tileLayer%28%0A%20%20%20%20%20%20%20%20%20%20%20%20%20%20%20%20%22https%3A//%7Bs%7D.tile.openstreetmap.org/%7Bz%7D/%7Bx%7D/%7By%7D.png%22%2C%0A%20%20%20%20%20%20%20%20%20%20%20%20%20%20%20%20%7B%22attribution%22%3A%20%22Data%20by%20%5Cu0026copy%3B%20%5Cu003ca%20href%3D%5C%22http%3A//openstreetmap.org%5C%22%5Cu003eOpenStreetMap%5Cu003c/a%5Cu003e%2C%20under%20%5Cu003ca%20href%3D%5C%22http%3A//www.openstreetmap.org/copyright%5C%22%5Cu003eODbL%5Cu003c/a%5Cu003e.%22%2C%20%22detectRetina%22%3A%20false%2C%20%22maxNativeZoom%22%3A%2018%2C%20%22maxZoom%22%3A%2018%2C%20%22minZoom%22%3A%200%2C%20%22noWrap%22%3A%20false%2C%20%22opacity%22%3A%201%2C%20%22subdomains%22%3A%20%22abc%22%2C%20%22tms%22%3A%20false%7D%0A%20%20%20%20%20%20%20%20%20%20%20%20%29.addTo%28map_4578f6c6607a4de4adf4e8aa43eb28e1%29%3B%0A%20%20%20%20%20%20%20%20%0A%3C/script%3E onload=\"this.contentDocument.open();this.contentDocument.write(    decodeURIComponent(this.getAttribute('data-html')));this.contentDocument.close();\" allowfullscreen webkitallowfullscreen mozallowfullscreen></iframe></div></div>"
      ],
      "text/plain": [
       "<folium.folium.Map at 0x21d8a748460>"
      ]
     },
     "execution_count": 45,
     "metadata": {},
     "output_type": "execute_result"
    }
   ],
   "source": [
    "# Make an empty map\n",
    "m = folium.Map(location=[40,-100], tiles=\"OpenStreetMap\", zoom_start=4)\n",
    "\n",
    "#show the map\n",
    "m"
   ]
  },
  {
   "cell_type": "code",
   "execution_count": 46,
   "metadata": {
    "ExecuteTime": {
     "end_time": "2021-09-07T06:49:40.225958Z",
     "start_time": "2021-09-07T06:49:39.092377Z"
    }
   },
   "outputs": [],
   "source": [
    "data3 = df2.groupby('bridge_age').median()[['latitude', 'longitude', 'bridge_condition']].values.tolist()"
   ]
  },
  {
   "cell_type": "code",
   "execution_count": 47,
   "metadata": {
    "ExecuteTime": {
     "end_time": "2021-09-07T06:49:40.256494Z",
     "start_time": "2021-09-07T06:49:40.228959Z"
    }
   },
   "outputs": [
    {
     "data": {
      "text/html": [
       "<div style=\"width:100%;\"><div style=\"position:relative;width:100%;height:0;padding-bottom:60%;\"><span style=\"color:#565656\">Make this Notebook Trusted to load map: File -> Trust Notebook</span><iframe src=\"about:blank\" style=\"position:absolute;width:100%;height:100%;left:0;top:0;border:none !important;\" data-html=%3C%21DOCTYPE%20html%3E%0A%3Chead%3E%20%20%20%20%0A%20%20%20%20%3Cmeta%20http-equiv%3D%22content-type%22%20content%3D%22text/html%3B%20charset%3DUTF-8%22%20/%3E%0A%20%20%20%20%0A%20%20%20%20%20%20%20%20%3Cscript%3E%0A%20%20%20%20%20%20%20%20%20%20%20%20L_NO_TOUCH%20%3D%20false%3B%0A%20%20%20%20%20%20%20%20%20%20%20%20L_DISABLE_3D%20%3D%20false%3B%0A%20%20%20%20%20%20%20%20%3C/script%3E%0A%20%20%20%20%0A%20%20%20%20%3Cstyle%3Ehtml%2C%20body%20%7Bwidth%3A%20100%25%3Bheight%3A%20100%25%3Bmargin%3A%200%3Bpadding%3A%200%3B%7D%3C/style%3E%0A%20%20%20%20%3Cstyle%3E%23map%20%7Bposition%3Aabsolute%3Btop%3A0%3Bbottom%3A0%3Bright%3A0%3Bleft%3A0%3B%7D%3C/style%3E%0A%20%20%20%20%3Cscript%20src%3D%22https%3A//cdn.jsdelivr.net/npm/leaflet%401.6.0/dist/leaflet.js%22%3E%3C/script%3E%0A%20%20%20%20%3Cscript%20src%3D%22https%3A//code.jquery.com/jquery-1.12.4.min.js%22%3E%3C/script%3E%0A%20%20%20%20%3Cscript%20src%3D%22https%3A//maxcdn.bootstrapcdn.com/bootstrap/3.2.0/js/bootstrap.min.js%22%3E%3C/script%3E%0A%20%20%20%20%3Cscript%20src%3D%22https%3A//cdnjs.cloudflare.com/ajax/libs/Leaflet.awesome-markers/2.0.2/leaflet.awesome-markers.js%22%3E%3C/script%3E%0A%20%20%20%20%3Clink%20rel%3D%22stylesheet%22%20href%3D%22https%3A//cdn.jsdelivr.net/npm/leaflet%401.6.0/dist/leaflet.css%22/%3E%0A%20%20%20%20%3Clink%20rel%3D%22stylesheet%22%20href%3D%22https%3A//maxcdn.bootstrapcdn.com/bootstrap/3.2.0/css/bootstrap.min.css%22/%3E%0A%20%20%20%20%3Clink%20rel%3D%22stylesheet%22%20href%3D%22https%3A//maxcdn.bootstrapcdn.com/bootstrap/3.2.0/css/bootstrap-theme.min.css%22/%3E%0A%20%20%20%20%3Clink%20rel%3D%22stylesheet%22%20href%3D%22https%3A//maxcdn.bootstrapcdn.com/font-awesome/4.6.3/css/font-awesome.min.css%22/%3E%0A%20%20%20%20%3Clink%20rel%3D%22stylesheet%22%20href%3D%22https%3A//cdnjs.cloudflare.com/ajax/libs/Leaflet.awesome-markers/2.0.2/leaflet.awesome-markers.css%22/%3E%0A%20%20%20%20%3Clink%20rel%3D%22stylesheet%22%20href%3D%22https%3A//cdn.jsdelivr.net/gh/python-visualization/folium/folium/templates/leaflet.awesome.rotate.min.css%22/%3E%0A%20%20%20%20%0A%20%20%20%20%20%20%20%20%20%20%20%20%3Cmeta%20name%3D%22viewport%22%20content%3D%22width%3Ddevice-width%2C%0A%20%20%20%20%20%20%20%20%20%20%20%20%20%20%20%20initial-scale%3D1.0%2C%20maximum-scale%3D1.0%2C%20user-scalable%3Dno%22%20/%3E%0A%20%20%20%20%20%20%20%20%20%20%20%20%3Cstyle%3E%0A%20%20%20%20%20%20%20%20%20%20%20%20%20%20%20%20%23map_4578f6c6607a4de4adf4e8aa43eb28e1%20%7B%0A%20%20%20%20%20%20%20%20%20%20%20%20%20%20%20%20%20%20%20%20position%3A%20relative%3B%0A%20%20%20%20%20%20%20%20%20%20%20%20%20%20%20%20%20%20%20%20width%3A%20100.0%25%3B%0A%20%20%20%20%20%20%20%20%20%20%20%20%20%20%20%20%20%20%20%20height%3A%20100.0%25%3B%0A%20%20%20%20%20%20%20%20%20%20%20%20%20%20%20%20%20%20%20%20left%3A%200.0%25%3B%0A%20%20%20%20%20%20%20%20%20%20%20%20%20%20%20%20%20%20%20%20top%3A%200.0%25%3B%0A%20%20%20%20%20%20%20%20%20%20%20%20%20%20%20%20%7D%0A%20%20%20%20%20%20%20%20%20%20%20%20%3C/style%3E%0A%20%20%20%20%20%20%20%20%0A%20%20%20%20%3Cscript%20src%3D%22https%3A//cdn.jsdelivr.net/gh/python-visualization/folium%40master/folium/templates/leaflet_heat.min.js%22%3E%3C/script%3E%0A%3C/head%3E%0A%3Cbody%3E%20%20%20%20%0A%20%20%20%20%0A%20%20%20%20%20%20%20%20%20%20%20%20%3Cdiv%20class%3D%22folium-map%22%20id%3D%22map_4578f6c6607a4de4adf4e8aa43eb28e1%22%20%3E%3C/div%3E%0A%20%20%20%20%20%20%20%20%0A%3C/body%3E%0A%3Cscript%3E%20%20%20%20%0A%20%20%20%20%0A%20%20%20%20%20%20%20%20%20%20%20%20var%20map_4578f6c6607a4de4adf4e8aa43eb28e1%20%3D%20L.map%28%0A%20%20%20%20%20%20%20%20%20%20%20%20%20%20%20%20%22map_4578f6c6607a4de4adf4e8aa43eb28e1%22%2C%0A%20%20%20%20%20%20%20%20%20%20%20%20%20%20%20%20%7B%0A%20%20%20%20%20%20%20%20%20%20%20%20%20%20%20%20%20%20%20%20center%3A%20%5B40.0%2C%20-100.0%5D%2C%0A%20%20%20%20%20%20%20%20%20%20%20%20%20%20%20%20%20%20%20%20crs%3A%20L.CRS.EPSG3857%2C%0A%20%20%20%20%20%20%20%20%20%20%20%20%20%20%20%20%20%20%20%20zoom%3A%204%2C%0A%20%20%20%20%20%20%20%20%20%20%20%20%20%20%20%20%20%20%20%20zoomControl%3A%20true%2C%0A%20%20%20%20%20%20%20%20%20%20%20%20%20%20%20%20%20%20%20%20preferCanvas%3A%20false%2C%0A%20%20%20%20%20%20%20%20%20%20%20%20%20%20%20%20%7D%0A%20%20%20%20%20%20%20%20%20%20%20%20%29%3B%0A%0A%20%20%20%20%20%20%20%20%20%20%20%20%0A%0A%20%20%20%20%20%20%20%20%0A%20%20%20%20%0A%20%20%20%20%20%20%20%20%20%20%20%20var%20tile_layer_15a16214fb2b4d3182ce8f767fddcc91%20%3D%20L.tileLayer%28%0A%20%20%20%20%20%20%20%20%20%20%20%20%20%20%20%20%22https%3A//%7Bs%7D.tile.openstreetmap.org/%7Bz%7D/%7Bx%7D/%7By%7D.png%22%2C%0A%20%20%20%20%20%20%20%20%20%20%20%20%20%20%20%20%7B%22attribution%22%3A%20%22Data%20by%20%5Cu0026copy%3B%20%5Cu003ca%20href%3D%5C%22http%3A//openstreetmap.org%5C%22%5Cu003eOpenStreetMap%5Cu003c/a%5Cu003e%2C%20under%20%5Cu003ca%20href%3D%5C%22http%3A//www.openstreetmap.org/copyright%5C%22%5Cu003eODbL%5Cu003c/a%5Cu003e.%22%2C%20%22detectRetina%22%3A%20false%2C%20%22maxNativeZoom%22%3A%2018%2C%20%22maxZoom%22%3A%2018%2C%20%22minZoom%22%3A%200%2C%20%22noWrap%22%3A%20false%2C%20%22opacity%22%3A%201%2C%20%22subdomains%22%3A%20%22abc%22%2C%20%22tms%22%3A%20false%7D%0A%20%20%20%20%20%20%20%20%20%20%20%20%29.addTo%28map_4578f6c6607a4de4adf4e8aa43eb28e1%29%3B%0A%20%20%20%20%20%20%20%20%0A%20%20%20%20%0A%20%20%20%20%20%20%20%20%20%20%20%20var%20heat_map_9f8b7984a65f40c79457c48bee0c9f59%20%3D%20L.heatLayer%28%0A%20%20%20%20%20%20%20%20%20%20%20%20%20%20%20%20%5B%5B39.05814%2C%20-94.48965%2C%200.0%5D%2C%20%5B40.147%2C%20-96.2382%2C%200.0%5D%2C%20%5B38.81111%2C%20-89.86777%2C%200.0%5D%2C%20%5B38.603970000000004%2C%20-90.27826%2C%200.0%5D%2C%20%5B38.925394999999995%2C%20-90.5327%2C%200.0%5D%2C%20%5B38.596334999999996%2C%20-89.99890499999998%2C%200.0%5D%2C%20%5B38.49928%2C%20-90.08051%2C%200.0%5D%2C%20%5B38.398325%2C%20-90.64789999999999%2C%200.0%5D%2C%20%5B37.64444%2C%20-90.7271%2C%200.0%5D%2C%20%5B38.71697%2C%20-90.5344%2C%200.0%5D%2C%20%5B38.555324999999996%2C%20-91.35976500000001%2C%200.0%5D%2C%20%5B38.51144%2C%20-91.34474%2C%200.0%5D%2C%20%5B38.56667%2C%20-90.79902%2C%200.0%5D%2C%20%5B38.13227%2C%20-91.49082%2C%200.0%5D%2C%20%5B38.29924000000001%2C%20-91.16325%2C%200.0%5D%2C%20%5B38.15083%2C%20-91.88612%2C%200.0%5D%2C%20%5B38.2275%2C%20-91.52665%2C%200.0%5D%2C%20%5B38.36477%2C%20-90.99022%2C%200.0%5D%2C%20%5B38.52473%2C%20-91.06539%2C%200.0%5D%2C%20%5B38.71164%2C%20-90.82694%2C%200.0%5D%2C%20%5B38.15556%2C%20-90.77312%2C%200.0%5D%2C%20%5B38.26902000000001%2C%20-90.91247%2C%200.0%5D%2C%20%5B38.17411%2C%20-90.31821%2C%200.0%5D%2C%20%5B38.261210000000005%2C%20-90.454815%2C%200.0%5D%2C%20%5B38.14361%2C%20-90.06393499999999%2C%200.0%5D%2C%20%5B38.030275%2C%20-90.34113500000001%2C%200.0%5D%2C%20%5B38.238325%2C%20-90.16537%2C%200.0%5D%2C%20%5B38.48833%2C%20-90.13723%2C%200.0%5D%2C%20%5B38.30053%2C%20-89.51167%2C%200.0%5D%2C%20%5B38.468495000000004%2C%20-89.862315%2C%200.0%5D%2C%20%5B38.461425000000006%2C%20-89.82127000000001%2C%200.0%5D%2C%20%5B38.02882%2C%20-90.32741%2C%200.0%5D%2C%20%5B38.379940000000005%2C%20-90.605635%2C%200.0%5D%2C%20%5B38.12176%2C%20-89.99937%2C%200.0%5D%2C%20%5B38.28256%2C%20-90.72528%2C%201.0%5D%2C%20%5B38.32546%2C%20-90.4015%2C%201.0%5D%2C%20%5B38.48303%2C%20-90.30701%2C%201.0%5D%2C%20%5B37.562039999999996%2C%20-89.237675%2C%201.0%5D%2C%20%5B38.40853%2C%20-90.11591%2C%201.0%5D%2C%20%5B38.60258%2C%20-90.63032%2C%201.0%5D%2C%20%5B38.773235%2C%20-90.56855%2C%201.0%5D%2C%20%5B38.5264%2C%20-90.61806%2C%201.0%5D%2C%20%5B38.851865000000004%2C%20-90.79749%2C%201.0%5D%2C%20%5B38.90870500000001%2C%20-90.96405%2C%201.0%5D%2C%20%5B39.23636%2C%20-90.85979%2C%201.0%5D%2C%20%5B38.42011%2C%20-90.50547%2C%201.0%5D%2C%20%5B37.81722%2C%20-90.4348%2C%201.0%5D%2C%20%5B38.43809%2C%20-89.742765%2C%201.0%5D%2C%20%5B38.9162%2C%20-89.38656%2C%201.0%5D%2C%20%5B38.42231%2C%20-89.88668%2C%201.0%5D%2C%20%5B38.6059%2C%20-91.02549%2C%201.0%5D%2C%20%5B37.94948%2C%20-90.046355%2C%201.0%5D%2C%20%5B38.37903%2C%20-89.69827%2C%201.0%5D%2C%20%5B38.62624%2C%20-89.80521%2C%201.0%5D%2C%20%5B38.0184%2C%20-91.1875%2C%201.0%5D%2C%20%5B38.666905%2C%20-91.05792%2C%201.0%5D%2C%20%5B37.80257%2C%20-90.12895499999999%2C%201.0%5D%2C%20%5B38.84076%2C%20-89.53441%2C%201.0%5D%2C%20%5B38.639894999999996%2C%20-89.84029500000001%2C%201.0%5D%2C%20%5B38.19328%2C%20-90.01423500000001%2C%201.0%5D%2C%20%5B38.62989%2C%20-89.87586999999998%2C%201.0%5D%2C%20%5B37.04544%2C%20-89.36388000000002%2C%201.0%5D%2C%20%5B38.35962%2C%20-89.985645%2C%201.0%5D%2C%20%5B38.785875%2C%20-89.94886%2C%201.0%5D%2C%20%5B38.469944999999996%2C%20-90.217525%2C%201.0%5D%2C%20%5B38.345415%2C%20-90.08406500000001%2C%201.0%5D%2C%20%5B37.631615%2C%20-90.50630000000001%2C%201.0%5D%2C%20%5B39.20373%2C%20-89.05336%2C%201.0%5D%2C%20%5B38.41223%2C%20-91.47063%2C%201.0%5D%2C%20%5B37.840289999999996%2C%20-89.69913%2C%201.0%5D%2C%20%5B37.32528%2C%20-90.25745%2C%201.0%5D%2C%20%5B37.791955%2C%20-90.783025%2C%201.0%5D%2C%20%5B38.001014999999995%2C%20-91.527625%2C%201.0%5D%2C%20%5B37.09694%2C%20-90.70409%2C%201.0%5D%2C%20%5B37.371635%2C%20-92.56162499999999%2C%201.0%5D%2C%20%5B38.1023%2C%20-92.47414%2C%201.0%5D%2C%20%5B38.132485%2C%20-93.07285999999999%2C%201.0%5D%2C%20%5B37.78444%2C%20-92.44172%2C%201.0%5D%2C%20%5B36.73125%2C%20-90.61015%2C%201.0%5D%2C%20%5B36.57558%2C%20-90.80329%2C%201.0%5D%2C%20%5B37.958275%2C%20-90.53974%2C%201.0%5D%2C%20%5B37.693889999999996%2C%20-93.953725%2C%201.0%5D%2C%20%5B37.01805%2C%20-92.33751%2C%201.0%5D%2C%20%5B36.822845%2C%20-94.11283%2C%201.0%5D%2C%20%5B37.598145%2C%20-90.975325%2C%201.0%5D%2C%20%5B38.04243%2C%20-92.97073%2C%201.0%5D%2C%20%5B40.149%2C%20-96.5206%2C%201.0%5D%2C%20%5B38.236869999999996%2C%20-91.49602999999999%2C%201.0%5D%2C%20%5B37.83639%2C%20-92.34509%2C%201.0%5D%2C%20%5B37.416160000000005%2C%20-85.10774500000001%2C%201.0%5D%2C%20%5B38.10884000000001%2C%20-91.18233000000001%2C%201.0%5D%2C%20%5B38.607730000000004%2C%20-93.54151999999999%2C%201.0%5D%2C%20%5B38.364445%2C%20-88.30476%2C%201.0%5D%2C%20%5B38.29937%2C%20-87.93704%2C%201.0%5D%2C%20%5B38.58276%2C%20-88.09639000000001%2C%201.0%5D%2C%20%5B38.03674%2C%20-89.39794%2C%201.0%5D%2C%20%5B38.8551%2C%20-92.35706%2C%201.0%5D%2C%20%5B39.304405%2C%20-89.237565%2C%201.0%5D%2C%20%5B39.09208%2C%20-88.34917%2C%201.0%5D%2C%20%5B39.16738%2C%20-88.28268%2C%201.0%5D%2C%20%5B39.48589000000001%2C%20-89.35788000000002%2C%201.0%5D%2C%20%5B39.630975%2C%20-90.87616%2C%201.0%5D%2C%20%5B41.25224%2C%20-83.69926%2C%201.0%5D%2C%20%5B39.538565000000006%2C%20-92.92981%2C%201.0%5D%2C%20%5B40.7888%2C%20-90.99323%2C%201.0%5D%2C%20%5B40.681075%2C%20-89.73643%2C%201.0%5D%2C%20%5B40.21918%2C%20-91.04813%2C%201.0%5D%2C%20%5B40.50465%2C%20-87.93505%2C%201.0%5D%2C%20%5B40.72912%2C%20-82.8312%2C%201.0%5D%2C%20%5B40.77404%2C%20-87.33769500000001%2C%201.0%5D%2C%20%5B40.484775000000006%2C%20-82.13215%2C%201.0%5D%2C%20%5B40.14971%2C%20-88.18868%2C%201.0%5D%2C%20%5B39.20139%2C%20-88.30043%2C%201.0%5D%2C%20%5B40.62956%2C%20-80.34888000000002%2C%201.0%5D%2C%20%5B40.847645%2C%20-79.428015%2C%201.0%5D%2C%20%5B40.81265%2C%20-79.49426%2C%201.0%5D%2C%20%5B40.308155%2C%20-84.042915%2C%201.0%5D%2C%20%5B40.755795%2C%20-78.23859%2C%201.0%5D%2C%20%5B40.779610000000005%2C%20-79.991615%2C%201.0%5D%2C%20%5B40.673775%2C%20-80.22984500000001%2C%201.0%5D%2C%20%5B39.51073000000001%2C%20-87.05648500000001%2C%201.0%5D%2C%20%5B40.13698%2C%20-88.20749%2C%201.0%5D%2C%20%5B40.575805%2C%20-80.98497%2C%201.0%5D%2C%20%5B40.63017%2C%20-77.81508500000001%2C%201.0%5D%2C%20%5B41.1009%2C%20-76.74129%2C%201.0%5D%2C%20%5B40.697725000000005%2C%20-75.201205%2C%201.0%5D%2C%20%5B41.237815%2C%20-79.38519%2C%201.0%5D%2C%20%5B40.910560000000004%2C%20-75.72616500000001%2C%201.0%5D%2C%20%5B40.7685%2C%20-78.52999%2C%201.0%5D%2C%20%5B40.965255%2C%20-75.168545%2C%201.0%5D%2C%20%5B41.40945%2C%20-76.92453499999999%2C%201.0%5D%2C%20%5B40.64423%2C%20-80.12042500000001%2C%201.0%5D%2C%20%5B40.84519%2C%20-74.97988000000002%2C%201.0%5D%2C%20%5B40.82562%2C%20-75.2277%2C%201.0%5D%2C%20%5B40.466115%2C%20-77.027035%2C%201.0%5D%2C%20%5B41.96253%2C%20-73.7697%2C%201.0%5D%2C%20%5B40.245355%2C%20-78.953345%2C%201.0%5D%2C%20%5B40.67599000000001%2C%20-76.1458%2C%201.0%5D%2C%20%5B40.421095%2C%20-75.192035%2C%201.0%5D%2C%20%5B41.363645000000005%2C%20-76.744205%2C%201.0%5D%2C%20%5B41.21238%2C%20-76.4614%2C%201.0%5D%2C%20%5B41.38325%2C%20-75.744585%2C%201.0%5D%2C%20%5B39.85419%2C%20-79.33092500000001%2C%201.0%5D%2C%20%5B40.1412%2C%20-76.08015%2C%201.0%5D%2C%20%5B41.156904999999995%2C%20-75.12453%2C%201.0%5D%2C%20%5B40.90118%2C%20-76.28224%2C%201.0%5D%2C%20%5B40.912175%2C%20-74.852395%2C%201.0%5D%2C%20%5B40.72313%2C%20-75.27264%2C%201.0%5D%2C%20%5B40.5382%2C%20-75.278%2C%201.0%5D%2C%20%5B41.545055000000005%2C%20-74.90005%2C%201.0%5D%2C%20%5B40.38402%2C%20-79.82305499999998%2C%201.0%5D%2C%20%5B42.26046%2C%20-73.13309%2C%201.0%5D%2C%20%5B42.19564%2C%20-72.71113000000003%2C%201.0%5D%2C%20%5B41.90189%2C%20-75.73796%2C%201.0%5D%2C%20%5B40.61058%2C%20-80.89832%2C%201.0%5D%2C%20%5B43.4737%2C%20-72.38395%2C%202.0%5D%2C%20%5B42.261685%2C%20-74.767865%2C%200.5%5D%2C%20%5B42.0341%2C%20-72.42331999999998%2C%201.0%5D%2C%20%5B40.905005%2C%20-77.399835%2C%201.0%5D%2C%20%5B41.814595%2C%20-73.154595%2C%201.0%5D%2C%20%5B42.44791%2C%20-71.00429%2C%201.0%5D%2C%20%5B40.70697%2C%20-75.042705%2C%201.0%5D%2C%20%5B42.8862%2C%20-72.28652%2C%201.0%5D%2C%20%5B40.632239999999996%2C%20-75.24524%2C%201.0%5D%2C%20%5B41.753755%2C%20-75.11083499999998%2C%201.0%5D%2C%20%5B39.86072%2C%20-77.39378%2C%201.0%5D%2C%20%5B40.87817%2C%20-75.35391%2C%201.0%5D%2C%20%5B40.38635%2C%20-75.23268%2C%202.0%5D%2C%20%5B42.074614999999994%2C%20-74.965485%2C%201.0%5D%2C%20%5B40.50256%2C%20-75.73875%2C%201.0%5D%2C%20%5B43.75732%2C%20-73.07172%2C%201.0%5D%2C%20%5B42.1587%2C%20-71.31955%2C%201.0%5D%2C%20%5B42.65168%2C%20-73.15018%2C%201.0%5D%2C%20%5B40.66723%2C%20-79.10688%2C%201.0%5D%2C%20%5B41.013635%2C%20-74.53087500000001%2C%201.0%5D%2C%20%5B39.95789%2C%20-75.92098499999999%2C%201.0%5D%2C%20%5B42.562465%2C%20-72.70139499999999%2C%201.5%5D%2C%20%5B42.368955%2C%20-74.130565%2C%201.5%5D%2C%20%5B41.42356%2C%20-83.94669%2C%201.0%5D%2C%20%5B40.52694%2C%20-75.4218%2C%201.0%5D%2C%20%5B40.80107%2C%20-74.67317%2C%201.0%5D%2C%20%5B39.767065%2C%20-76.60239999999999%2C%201.0%5D%2C%20%5B40.23777000000001%2C%20-75.19131%2C%200.0%5D%2C%20%5B41.98241%2C%20-74.874%2C%201.0%5D%2C%20%5B43.57730500000001%2C%20-72.704485%2C%201.0%5D%2C%20%5B41.20667%2C%20-78.82361%2C%201.0%5D%2C%20%5B40.47288%2C%20-74.83074%2C%201.0%5D%2C%20%5B42.651365%2C%20-72.070235%2C%201.0%5D%2C%20%5B40.32909%2C%20-75.401655%2C%200.5%5D%2C%20%5B41.18805%2C%20-77.06275%2C%201.0%5D%2C%20%5B39.94901%2C%20-77.60678%2C%201.0%5D%2C%20%5B39.644765%2C%20-77.8117%2C%200.5%5D%2C%20%5B40.101985%2C%20-76.575485%2C%201.5%5D%2C%20%5B40.189035000000004%2C%20-77.57050000000001%2C%202.0%5D%2C%20%5B40.659155%2C%20-75.34650500000001%2C%201.0%5D%2C%20%5B40.11362%2C%20-77.76181%2C%201.0%5D%2C%20%5B39.55325%2C%20-77.6396%2C%201.0%5D%2C%20%5B41.129245%2C%20-74.51127%2C%200.5%5D%2C%20%5B40.43448%2C%20-74.64517%2C%201.0%5D%2C%20%5B39.810705000000006%2C%20-77.401285%2C%201.0%5D%2C%20%5B39.442655%2C%20-80.46278%2C%201.0%5D%2C%20%5B40.12703%2C%20-75.16624%2C%201.0%5D%2C%20%5B39.64182%2C%20-76.65874000000002%2C%201.0%5D%2C%20%5B39.95882%2C%20-75.65536999999998%2C%201.0%5D%2C%20%5B40.373115%2C%20-75.3829%2C%201.5%5D%2C%20%5B40.02087%2C%20-75.10336%2C%202.0%5D%2C%20%5B43.953%2C%20-76.10255%2C%200.0%5D%2C%20%5B40.27905500000001%2C%20-75.03384%2C%201.0%5D%2C%20%5B41.43739000000001%2C%20-73.13503%2C%201.5%5D%2C%20%5B40.25674%2C%20-75.051935%2C%201.0%5D%2C%20%5B40.06892%2C%20-75.34058%2C%202.0%5D%2C%20%5B40.51697%2C%20-75.29114%2C%201.0%5D%2C%20%5B42.27097%2C%20-71.06815%2C%201.0%5D%2C%20%5B42.67948%2C%20-70.83711%2C%200.0%5D%2C%20%5B40.04356%2C%20-75.02065999999998%2C%200.0%5D%5D%2C%0A%20%20%20%20%20%20%20%20%20%20%20%20%20%20%20%20%7B%22blur%22%3A%2015%2C%20%22maxZoom%22%3A%2018%2C%20%22minOpacity%22%3A%200.5%2C%20%22radius%22%3A%2025%7D%0A%20%20%20%20%20%20%20%20%20%20%20%20%29.addTo%28map_4578f6c6607a4de4adf4e8aa43eb28e1%29%3B%0A%20%20%20%20%20%20%20%20%0A%3C/script%3E onload=\"this.contentDocument.open();this.contentDocument.write(    decodeURIComponent(this.getAttribute('data-html')));this.contentDocument.close();\" allowfullscreen webkitallowfullscreen mozallowfullscreen></iframe></div></div>"
      ],
      "text/plain": [
       "<folium.folium.Map at 0x21d8a748460>"
      ]
     },
     "metadata": {},
     "output_type": "display_data"
    }
   ],
   "source": [
    "HeatMap(data = data3).add_to(m)\n",
    "display(m)"
   ]
  },
  {
   "cell_type": "markdown",
   "metadata": {},
   "source": [
    "## By Freeze and thaw cycle"
   ]
  },
  {
   "cell_type": "code",
   "execution_count": 48,
   "metadata": {
    "ExecuteTime": {
     "end_time": "2021-09-07T06:49:40.304554Z",
     "start_time": "2021-09-07T06:49:40.260577Z"
    }
   },
   "outputs": [
    {
     "data": {
      "text/html": [
       "<div style=\"width:100%;\"><div style=\"position:relative;width:100%;height:0;padding-bottom:60%;\"><span style=\"color:#565656\">Make this Notebook Trusted to load map: File -> Trust Notebook</span><iframe src=\"about:blank\" style=\"position:absolute;width:100%;height:100%;left:0;top:0;border:none !important;\" data-html=%3C%21DOCTYPE%20html%3E%0A%3Chead%3E%20%20%20%20%0A%20%20%20%20%3Cmeta%20http-equiv%3D%22content-type%22%20content%3D%22text/html%3B%20charset%3DUTF-8%22%20/%3E%0A%20%20%20%20%0A%20%20%20%20%20%20%20%20%3Cscript%3E%0A%20%20%20%20%20%20%20%20%20%20%20%20L_NO_TOUCH%20%3D%20false%3B%0A%20%20%20%20%20%20%20%20%20%20%20%20L_DISABLE_3D%20%3D%20false%3B%0A%20%20%20%20%20%20%20%20%3C/script%3E%0A%20%20%20%20%0A%20%20%20%20%3Cstyle%3Ehtml%2C%20body%20%7Bwidth%3A%20100%25%3Bheight%3A%20100%25%3Bmargin%3A%200%3Bpadding%3A%200%3B%7D%3C/style%3E%0A%20%20%20%20%3Cstyle%3E%23map%20%7Bposition%3Aabsolute%3Btop%3A0%3Bbottom%3A0%3Bright%3A0%3Bleft%3A0%3B%7D%3C/style%3E%0A%20%20%20%20%3Cscript%20src%3D%22https%3A//cdn.jsdelivr.net/npm/leaflet%401.6.0/dist/leaflet.js%22%3E%3C/script%3E%0A%20%20%20%20%3Cscript%20src%3D%22https%3A//code.jquery.com/jquery-1.12.4.min.js%22%3E%3C/script%3E%0A%20%20%20%20%3Cscript%20src%3D%22https%3A//maxcdn.bootstrapcdn.com/bootstrap/3.2.0/js/bootstrap.min.js%22%3E%3C/script%3E%0A%20%20%20%20%3Cscript%20src%3D%22https%3A//cdnjs.cloudflare.com/ajax/libs/Leaflet.awesome-markers/2.0.2/leaflet.awesome-markers.js%22%3E%3C/script%3E%0A%20%20%20%20%3Clink%20rel%3D%22stylesheet%22%20href%3D%22https%3A//cdn.jsdelivr.net/npm/leaflet%401.6.0/dist/leaflet.css%22/%3E%0A%20%20%20%20%3Clink%20rel%3D%22stylesheet%22%20href%3D%22https%3A//maxcdn.bootstrapcdn.com/bootstrap/3.2.0/css/bootstrap.min.css%22/%3E%0A%20%20%20%20%3Clink%20rel%3D%22stylesheet%22%20href%3D%22https%3A//maxcdn.bootstrapcdn.com/bootstrap/3.2.0/css/bootstrap-theme.min.css%22/%3E%0A%20%20%20%20%3Clink%20rel%3D%22stylesheet%22%20href%3D%22https%3A//maxcdn.bootstrapcdn.com/font-awesome/4.6.3/css/font-awesome.min.css%22/%3E%0A%20%20%20%20%3Clink%20rel%3D%22stylesheet%22%20href%3D%22https%3A//cdnjs.cloudflare.com/ajax/libs/Leaflet.awesome-markers/2.0.2/leaflet.awesome-markers.css%22/%3E%0A%20%20%20%20%3Clink%20rel%3D%22stylesheet%22%20href%3D%22https%3A//cdn.jsdelivr.net/gh/python-visualization/folium/folium/templates/leaflet.awesome.rotate.min.css%22/%3E%0A%20%20%20%20%0A%20%20%20%20%20%20%20%20%20%20%20%20%3Cmeta%20name%3D%22viewport%22%20content%3D%22width%3Ddevice-width%2C%0A%20%20%20%20%20%20%20%20%20%20%20%20%20%20%20%20initial-scale%3D1.0%2C%20maximum-scale%3D1.0%2C%20user-scalable%3Dno%22%20/%3E%0A%20%20%20%20%20%20%20%20%20%20%20%20%3Cstyle%3E%0A%20%20%20%20%20%20%20%20%20%20%20%20%20%20%20%20%23map_e44dd5c2329e4b27ae87c40ccf2878e0%20%7B%0A%20%20%20%20%20%20%20%20%20%20%20%20%20%20%20%20%20%20%20%20position%3A%20relative%3B%0A%20%20%20%20%20%20%20%20%20%20%20%20%20%20%20%20%20%20%20%20width%3A%20100.0%25%3B%0A%20%20%20%20%20%20%20%20%20%20%20%20%20%20%20%20%20%20%20%20height%3A%20100.0%25%3B%0A%20%20%20%20%20%20%20%20%20%20%20%20%20%20%20%20%20%20%20%20left%3A%200.0%25%3B%0A%20%20%20%20%20%20%20%20%20%20%20%20%20%20%20%20%20%20%20%20top%3A%200.0%25%3B%0A%20%20%20%20%20%20%20%20%20%20%20%20%20%20%20%20%7D%0A%20%20%20%20%20%20%20%20%20%20%20%20%3C/style%3E%0A%20%20%20%20%20%20%20%20%0A%3C/head%3E%0A%3Cbody%3E%20%20%20%20%0A%20%20%20%20%0A%20%20%20%20%20%20%20%20%20%20%20%20%3Cdiv%20class%3D%22folium-map%22%20id%3D%22map_e44dd5c2329e4b27ae87c40ccf2878e0%22%20%3E%3C/div%3E%0A%20%20%20%20%20%20%20%20%0A%3C/body%3E%0A%3Cscript%3E%20%20%20%20%0A%20%20%20%20%0A%20%20%20%20%20%20%20%20%20%20%20%20var%20map_e44dd5c2329e4b27ae87c40ccf2878e0%20%3D%20L.map%28%0A%20%20%20%20%20%20%20%20%20%20%20%20%20%20%20%20%22map_e44dd5c2329e4b27ae87c40ccf2878e0%22%2C%0A%20%20%20%20%20%20%20%20%20%20%20%20%20%20%20%20%7B%0A%20%20%20%20%20%20%20%20%20%20%20%20%20%20%20%20%20%20%20%20center%3A%20%5B40.0%2C%20-100.0%5D%2C%0A%20%20%20%20%20%20%20%20%20%20%20%20%20%20%20%20%20%20%20%20crs%3A%20L.CRS.EPSG3857%2C%0A%20%20%20%20%20%20%20%20%20%20%20%20%20%20%20%20%20%20%20%20zoom%3A%204%2C%0A%20%20%20%20%20%20%20%20%20%20%20%20%20%20%20%20%20%20%20%20zoomControl%3A%20true%2C%0A%20%20%20%20%20%20%20%20%20%20%20%20%20%20%20%20%20%20%20%20preferCanvas%3A%20false%2C%0A%20%20%20%20%20%20%20%20%20%20%20%20%20%20%20%20%7D%0A%20%20%20%20%20%20%20%20%20%20%20%20%29%3B%0A%0A%20%20%20%20%20%20%20%20%20%20%20%20%0A%0A%20%20%20%20%20%20%20%20%0A%20%20%20%20%0A%20%20%20%20%20%20%20%20%20%20%20%20var%20tile_layer_46b1074a92d54bd0a2ae3401f91d45c6%20%3D%20L.tileLayer%28%0A%20%20%20%20%20%20%20%20%20%20%20%20%20%20%20%20%22https%3A//%7Bs%7D.tile.openstreetmap.org/%7Bz%7D/%7Bx%7D/%7By%7D.png%22%2C%0A%20%20%20%20%20%20%20%20%20%20%20%20%20%20%20%20%7B%22attribution%22%3A%20%22Data%20by%20%5Cu0026copy%3B%20%5Cu003ca%20href%3D%5C%22http%3A//openstreetmap.org%5C%22%5Cu003eOpenStreetMap%5Cu003c/a%5Cu003e%2C%20under%20%5Cu003ca%20href%3D%5C%22http%3A//www.openstreetmap.org/copyright%5C%22%5Cu003eODbL%5Cu003c/a%5Cu003e.%22%2C%20%22detectRetina%22%3A%20false%2C%20%22maxNativeZoom%22%3A%2018%2C%20%22maxZoom%22%3A%2018%2C%20%22minZoom%22%3A%200%2C%20%22noWrap%22%3A%20false%2C%20%22opacity%22%3A%201%2C%20%22subdomains%22%3A%20%22abc%22%2C%20%22tms%22%3A%20false%7D%0A%20%20%20%20%20%20%20%20%20%20%20%20%29.addTo%28map_e44dd5c2329e4b27ae87c40ccf2878e0%29%3B%0A%20%20%20%20%20%20%20%20%0A%3C/script%3E onload=\"this.contentDocument.open();this.contentDocument.write(    decodeURIComponent(this.getAttribute('data-html')));this.contentDocument.close();\" allowfullscreen webkitallowfullscreen mozallowfullscreen></iframe></div></div>"
      ],
      "text/plain": [
       "<folium.folium.Map at 0x21d8a7631c0>"
      ]
     },
     "execution_count": 48,
     "metadata": {},
     "output_type": "execute_result"
    }
   ],
   "source": [
    "# Make an empty map\n",
    "m = folium.Map(location=[40,-100], tiles=\"OpenStreetMap\", zoom_start=4)\n",
    "\n",
    "#show the map\n",
    "m"
   ]
  },
  {
   "cell_type": "code",
   "execution_count": 49,
   "metadata": {
    "ExecuteTime": {
     "end_time": "2021-09-07T06:49:41.315132Z",
     "start_time": "2021-09-07T06:49:40.307555Z"
    }
   },
   "outputs": [],
   "source": [
    "data4 = df2.groupby('freeze_thaw_cycle').median()[['latitude', 'longitude',\n",
    "                                                   'bridge_condition']].values.tolist()"
   ]
  },
  {
   "cell_type": "code",
   "execution_count": 50,
   "metadata": {
    "ExecuteTime": {
     "end_time": "2021-09-07T06:49:41.345658Z",
     "start_time": "2021-09-07T06:49:41.318135Z"
    }
   },
   "outputs": [
    {
     "data": {
      "text/html": [
       "<div style=\"width:100%;\"><div style=\"position:relative;width:100%;height:0;padding-bottom:60%;\"><span style=\"color:#565656\">Make this Notebook Trusted to load map: File -> Trust Notebook</span><iframe src=\"about:blank\" style=\"position:absolute;width:100%;height:100%;left:0;top:0;border:none !important;\" data-html=%3C%21DOCTYPE%20html%3E%0A%3Chead%3E%20%20%20%20%0A%20%20%20%20%3Cmeta%20http-equiv%3D%22content-type%22%20content%3D%22text/html%3B%20charset%3DUTF-8%22%20/%3E%0A%20%20%20%20%0A%20%20%20%20%20%20%20%20%3Cscript%3E%0A%20%20%20%20%20%20%20%20%20%20%20%20L_NO_TOUCH%20%3D%20false%3B%0A%20%20%20%20%20%20%20%20%20%20%20%20L_DISABLE_3D%20%3D%20false%3B%0A%20%20%20%20%20%20%20%20%3C/script%3E%0A%20%20%20%20%0A%20%20%20%20%3Cstyle%3Ehtml%2C%20body%20%7Bwidth%3A%20100%25%3Bheight%3A%20100%25%3Bmargin%3A%200%3Bpadding%3A%200%3B%7D%3C/style%3E%0A%20%20%20%20%3Cstyle%3E%23map%20%7Bposition%3Aabsolute%3Btop%3A0%3Bbottom%3A0%3Bright%3A0%3Bleft%3A0%3B%7D%3C/style%3E%0A%20%20%20%20%3Cscript%20src%3D%22https%3A//cdn.jsdelivr.net/npm/leaflet%401.6.0/dist/leaflet.js%22%3E%3C/script%3E%0A%20%20%20%20%3Cscript%20src%3D%22https%3A//code.jquery.com/jquery-1.12.4.min.js%22%3E%3C/script%3E%0A%20%20%20%20%3Cscript%20src%3D%22https%3A//maxcdn.bootstrapcdn.com/bootstrap/3.2.0/js/bootstrap.min.js%22%3E%3C/script%3E%0A%20%20%20%20%3Cscript%20src%3D%22https%3A//cdnjs.cloudflare.com/ajax/libs/Leaflet.awesome-markers/2.0.2/leaflet.awesome-markers.js%22%3E%3C/script%3E%0A%20%20%20%20%3Clink%20rel%3D%22stylesheet%22%20href%3D%22https%3A//cdn.jsdelivr.net/npm/leaflet%401.6.0/dist/leaflet.css%22/%3E%0A%20%20%20%20%3Clink%20rel%3D%22stylesheet%22%20href%3D%22https%3A//maxcdn.bootstrapcdn.com/bootstrap/3.2.0/css/bootstrap.min.css%22/%3E%0A%20%20%20%20%3Clink%20rel%3D%22stylesheet%22%20href%3D%22https%3A//maxcdn.bootstrapcdn.com/bootstrap/3.2.0/css/bootstrap-theme.min.css%22/%3E%0A%20%20%20%20%3Clink%20rel%3D%22stylesheet%22%20href%3D%22https%3A//maxcdn.bootstrapcdn.com/font-awesome/4.6.3/css/font-awesome.min.css%22/%3E%0A%20%20%20%20%3Clink%20rel%3D%22stylesheet%22%20href%3D%22https%3A//cdnjs.cloudflare.com/ajax/libs/Leaflet.awesome-markers/2.0.2/leaflet.awesome-markers.css%22/%3E%0A%20%20%20%20%3Clink%20rel%3D%22stylesheet%22%20href%3D%22https%3A//cdn.jsdelivr.net/gh/python-visualization/folium/folium/templates/leaflet.awesome.rotate.min.css%22/%3E%0A%20%20%20%20%0A%20%20%20%20%20%20%20%20%20%20%20%20%3Cmeta%20name%3D%22viewport%22%20content%3D%22width%3Ddevice-width%2C%0A%20%20%20%20%20%20%20%20%20%20%20%20%20%20%20%20initial-scale%3D1.0%2C%20maximum-scale%3D1.0%2C%20user-scalable%3Dno%22%20/%3E%0A%20%20%20%20%20%20%20%20%20%20%20%20%3Cstyle%3E%0A%20%20%20%20%20%20%20%20%20%20%20%20%20%20%20%20%23map_e44dd5c2329e4b27ae87c40ccf2878e0%20%7B%0A%20%20%20%20%20%20%20%20%20%20%20%20%20%20%20%20%20%20%20%20position%3A%20relative%3B%0A%20%20%20%20%20%20%20%20%20%20%20%20%20%20%20%20%20%20%20%20width%3A%20100.0%25%3B%0A%20%20%20%20%20%20%20%20%20%20%20%20%20%20%20%20%20%20%20%20height%3A%20100.0%25%3B%0A%20%20%20%20%20%20%20%20%20%20%20%20%20%20%20%20%20%20%20%20left%3A%200.0%25%3B%0A%20%20%20%20%20%20%20%20%20%20%20%20%20%20%20%20%20%20%20%20top%3A%200.0%25%3B%0A%20%20%20%20%20%20%20%20%20%20%20%20%20%20%20%20%7D%0A%20%20%20%20%20%20%20%20%20%20%20%20%3C/style%3E%0A%20%20%20%20%20%20%20%20%0A%20%20%20%20%3Cscript%20src%3D%22https%3A//cdn.jsdelivr.net/gh/python-visualization/folium%40master/folium/templates/leaflet_heat.min.js%22%3E%3C/script%3E%0A%3C/head%3E%0A%3Cbody%3E%20%20%20%20%0A%20%20%20%20%0A%20%20%20%20%20%20%20%20%20%20%20%20%3Cdiv%20class%3D%22folium-map%22%20id%3D%22map_e44dd5c2329e4b27ae87c40ccf2878e0%22%20%3E%3C/div%3E%0A%20%20%20%20%20%20%20%20%0A%3C/body%3E%0A%3Cscript%3E%20%20%20%20%0A%20%20%20%20%0A%20%20%20%20%20%20%20%20%20%20%20%20var%20map_e44dd5c2329e4b27ae87c40ccf2878e0%20%3D%20L.map%28%0A%20%20%20%20%20%20%20%20%20%20%20%20%20%20%20%20%22map_e44dd5c2329e4b27ae87c40ccf2878e0%22%2C%0A%20%20%20%20%20%20%20%20%20%20%20%20%20%20%20%20%7B%0A%20%20%20%20%20%20%20%20%20%20%20%20%20%20%20%20%20%20%20%20center%3A%20%5B40.0%2C%20-100.0%5D%2C%0A%20%20%20%20%20%20%20%20%20%20%20%20%20%20%20%20%20%20%20%20crs%3A%20L.CRS.EPSG3857%2C%0A%20%20%20%20%20%20%20%20%20%20%20%20%20%20%20%20%20%20%20%20zoom%3A%204%2C%0A%20%20%20%20%20%20%20%20%20%20%20%20%20%20%20%20%20%20%20%20zoomControl%3A%20true%2C%0A%20%20%20%20%20%20%20%20%20%20%20%20%20%20%20%20%20%20%20%20preferCanvas%3A%20false%2C%0A%20%20%20%20%20%20%20%20%20%20%20%20%20%20%20%20%7D%0A%20%20%20%20%20%20%20%20%20%20%20%20%29%3B%0A%0A%20%20%20%20%20%20%20%20%20%20%20%20%0A%0A%20%20%20%20%20%20%20%20%0A%20%20%20%20%0A%20%20%20%20%20%20%20%20%20%20%20%20var%20tile_layer_46b1074a92d54bd0a2ae3401f91d45c6%20%3D%20L.tileLayer%28%0A%20%20%20%20%20%20%20%20%20%20%20%20%20%20%20%20%22https%3A//%7Bs%7D.tile.openstreetmap.org/%7Bz%7D/%7Bx%7D/%7By%7D.png%22%2C%0A%20%20%20%20%20%20%20%20%20%20%20%20%20%20%20%20%7B%22attribution%22%3A%20%22Data%20by%20%5Cu0026copy%3B%20%5Cu003ca%20href%3D%5C%22http%3A//openstreetmap.org%5C%22%5Cu003eOpenStreetMap%5Cu003c/a%5Cu003e%2C%20under%20%5Cu003ca%20href%3D%5C%22http%3A//www.openstreetmap.org/copyright%5C%22%5Cu003eODbL%5Cu003c/a%5Cu003e.%22%2C%20%22detectRetina%22%3A%20false%2C%20%22maxNativeZoom%22%3A%2018%2C%20%22maxZoom%22%3A%2018%2C%20%22minZoom%22%3A%200%2C%20%22noWrap%22%3A%20false%2C%20%22opacity%22%3A%201%2C%20%22subdomains%22%3A%20%22abc%22%2C%20%22tms%22%3A%20false%7D%0A%20%20%20%20%20%20%20%20%20%20%20%20%29.addTo%28map_e44dd5c2329e4b27ae87c40ccf2878e0%29%3B%0A%20%20%20%20%20%20%20%20%0A%20%20%20%20%0A%20%20%20%20%20%20%20%20%20%20%20%20var%20heat_map_b1895fad70f24639b0dc54c568d95bcf%20%3D%20L.heatLayer%28%0A%20%20%20%20%20%20%20%20%20%20%20%20%20%20%20%20%5B%5B29.650440000000003%2C%20-97.55334%2C%200.0%5D%2C%20%5B30.196620000000003%2C%20-97.09991500000001%2C%200.0%5D%2C%20%5B34.05278%2C%20-117.3626%2C%200.0%5D%2C%20%5B30.18871%2C%20-98.66002%2C%200.0%5D%2C%20%5B29.61493%2C%20-98.30733%2C%200.0%5D%2C%20%5B29.86976%2C%20-98.510795%2C%200.0%5D%2C%20%5B35.08023%2C%20-114.63650000000001%2C%200.0%5D%2C%20%5B30.594805%2C%20-96.394785%2C%200.0%5D%2C%20%5B30.429859999999998%2C%20-82.94414%2C%200.0%5D%2C%20%5B30.53243%2C%20-97.55387999999999%2C%200.0%5D%2C%20%5B30.74265%2C%20-92.24%2C%201.0%5D%2C%20%5B31.138025%2C%20-93.2482%2C%200.0%5D%2C%20%5B31.08073%2C%20-97.30127%2C%200.0%5D%2C%20%5B31.35013%2C%20-88.02544%2C%201.0%5D%2C%20%5B31.18551%2C%20-93.92014%2C%201.0%5D%2C%20%5B31.805805%2C%20-95.60332%2C%201.0%5D%2C%20%5B31.660985%2C%20-85.52487500000001%2C%201.0%5D%2C%20%5B31.92433%2C%20-84.52056%2C%200.0%5D%2C%20%5B32.116825000000006%2C%20-95.99767499999999%2C%200.0%5D%2C%20%5B31.64637%2C%20-90.4787%2C%200.0%5D%2C%20%5B31.85873%2C%20-90.65644%2C%200.0%5D%2C%20%5B32.43164%2C%20-91.84381%2C%200.0%5D%2C%20%5B32.90507%2C%20-96.66835%2C%200.0%5D%2C%20%5B32.569045%2C%20-90.28316000000001%2C%201.0%5D%2C%20%5B32.812%2C%20-89.32529%2C%200.0%5D%2C%20%5B32.68416%2C%20-89.73586%2C%200.0%5D%2C%20%5B32.99813%2C%20-89.98664000000002%2C%200.0%5D%2C%20%5B33.269420000000004%2C%20-93.8975%2C%201.0%5D%2C%20%5B33.4925%2C%20-89.29763%2C%200.0%5D%2C%20%5B33.85825%2C%20-90.74321%2C%201.0%5D%2C%20%5B33.8303%2C%20-89.4567%2C%200.0%5D%2C%20%5B33.903705%2C%20-90.85746499999999%2C%200.0%5D%2C%20%5B33.6281%2C%20-86.78451%2C%201.0%5D%2C%20%5B33.95123%2C%20-84.68388999999999%2C%200.0%5D%2C%20%5B33.916895%2C%20-89.31266500000001%2C%201.0%5D%2C%20%5B34.358255%2C%20-91.742295%2C%201.0%5D%2C%20%5B34.226420000000005%2C%20-85.72391999999998%2C%200.0%5D%2C%20%5B35.1532%2C%20-89.88386%2C%201.0%5D%2C%20%5B34.803709999999995%2C%20-82.78757%2C%201.0%5D%2C%20%5B34.51909%2C%20-92.43301%2C%200.0%5D%2C%20%5B33.982009999999995%2C%20-86.06232%2C%200.0%5D%2C%20%5B35.0823%2C%20-84.93643499999999%2C%201.0%5D%2C%20%5B35.420665%2C%20-89.634715%2C%201.0%5D%2C%20%5B34.65156%2C%20-98.11976%2C%201.0%5D%2C%20%5B35.06277%2C%20-94.34367499999999%2C%201.0%5D%2C%20%5B35.15849%2C%20-91.4444%2C%200.0%5D%2C%20%5B34.709019999999995%2C%20-88.90246%2C%201.0%5D%2C%20%5B35.177715%2C%20-86.98845499999999%2C%201.0%5D%2C%20%5B36.446615%2C%20-88.37049999999999%2C%201.0%5D%2C%20%5B35.50675%2C%20-84.67746%2C%200.0%5D%2C%20%5B35.79317%2C%20-88.63880500000002%2C%201.0%5D%2C%20%5B35.57947%2C%20-86.371735%2C%201.0%5D%2C%20%5B35.870554999999996%2C%20-83.94655499999999%2C%201.0%5D%2C%20%5B35.838615000000004%2C%20-87.001875%2C%201.0%5D%2C%20%5B35.60324%2C%20-82.39386999999998%2C%201.0%5D%2C%20%5B36.24013%2C%20-90.34087%2C%201.0%5D%2C%20%5B36.135855%2C%20-88.615695%2C%201.0%5D%2C%20%5B40.00061000000001%2C%20-82.10757500000001%2C%201.0%5D%2C%20%5B36.101775%2C%20-85.35878499999998%2C%201.0%5D%2C%20%5B35.79625%2C%20-92.74468%2C%201.0%5D%2C%20%5B36.34833%2C%20-94.03948%2C%201.0%5D%2C%20%5B42.34629%2C%20-86.23536%2C%201.0%5D%2C%20%5B36.99166%2C%20-88.71361%2C%201.0%5D%2C%20%5B36.080895%2C%20-89.46816%2C%201.0%5D%2C%20%5B35.60164%2C%20-97.29134%2C%201.0%5D%2C%20%5B36.82236%2C%20-83.599915%2C%201.0%5D%2C%20%5B36.91472%2C%20-81.65794%2C%201.0%5D%2C%20%5B36.04132%2C%20-80.24055%2C%201.0%5D%2C%20%5B36.642835000000005%2C%20-83.73972499999999%2C%201.0%5D%2C%20%5B39.45068%2C%20-77.44726999999997%2C%201.0%5D%2C%20%5B36.97406%2C%20-88.00596999999999%2C%201.0%5D%2C%20%5B37.367295%2C%20-87.53375%2C%201.0%5D%2C%20%5B37.4175%2C%20-82.47861%2C%201.0%5D%2C%20%5B36.28337%2C%20-88.90639%2C%201.0%5D%2C%20%5B37.520970000000005%2C%20-85.73166500000002%2C%200.0%5D%2C%20%5B36.929585%2C%20-90.400425%2C%201.0%5D%2C%20%5B37.94453%2C%20-88.56979999999999%2C%201.0%5D%2C%20%5B38.252105%2C%20-89.07212%2C%201.0%5D%2C%20%5B39.99625%2C%20-75.70286999999998%2C%201.0%5D%2C%20%5B37.846705%2C%20-79.623705%2C%201.0%5D%2C%20%5B38.879670000000004%2C%20-77.574285%2C%201.0%5D%2C%20%5B46.39474000000001%2C%20-90.80089%2C%200.0%5D%2C%20%5B39.89435%2C%20-81.69122%2C%201.0%5D%2C%20%5B38.06111%2C%20-90.6776%2C%201.0%5D%2C%20%5B37.116935%2C%20-89.64734999999999%2C%201.0%5D%2C%20%5B38.371685%2C%20-93.924835%2C%201.0%5D%2C%20%5B38.9373%2C%20-81.421175%2C%201.0%5D%2C%20%5B38.30483%2C%20-88.07523%2C%201.0%5D%2C%20%5B38.128795%2C%20-93.489165%2C%201.0%5D%2C%20%5B38.49486%2C%20-84.378195%2C%201.0%5D%2C%20%5B38.81302%2C%20-83.11821499999999%2C%201.0%5D%2C%20%5B38.5%2C%20-90.34506%2C%201.0%5D%2C%20%5B38.460544999999996%2C%20-92.67445000000001%2C%201.0%5D%2C%20%5B40.277995000000004%2C%20-78.87025%2C%201.0%5D%2C%20%5B38.52238%2C%20-85.4706%2C%201.0%5D%2C%20%5B38.89746%2C%20-91.70693%2C%201.0%5D%2C%20%5B38.984365%2C%20-87.08960000000002%2C%201.0%5D%2C%20%5B39.41608%2C%20-89.65102999999999%2C%201.0%5D%2C%20%5B39.01631%2C%20-89.3241%2C%201.0%5D%2C%20%5B38.91318%2C%20-91.81018%2C%201.0%5D%2C%20%5B39.60642%2C%20-84.00415500000001%2C%201.0%5D%2C%20%5B39.374075000000005%2C%20-81.165425%2C%201.0%5D%2C%20%5B39.70208%2C%20-84.04576%2C%201.0%5D%2C%20%5B39.32721%2C%20-95.38416%2C%200.0%5D%2C%20%5B39.843845%2C%20-94.74251000000001%2C%201.0%5D%2C%20%5B39.761585%2C%20-86.481915%2C%201.0%5D%2C%20%5B39.97496000000001%2C%20-85.301255%2C%201.0%5D%2C%20%5B40.12213%2C%20-89.22570999999999%2C%201.0%5D%2C%20%5B40.49902%2C%20-80.20196999999997%2C%201.0%5D%2C%20%5B40.76367%2C%20-86.30376%2C%200.0%5D%2C%20%5B41.49875%2C%20-88.23151%2C%201.0%5D%2C%20%5B42.75119%2C%20-85.29771%2C%201.0%5D%2C%20%5B40.713145%2C%20-88.115025%2C%200.0%5D%2C%20%5B42.66969%2C%20-93.24968%2C%201.0%5D%2C%20%5B42.271785%2C%20-83.16804%2C%201.0%5D%2C%20%5B41.30715%2C%20-92.653065%2C%201.0%5D%2C%20%5B41.3932%2C%20-91.66936%2C%201.0%5D%2C%20%5B42.29342000000001%2C%20-90.53175%2C%201.0%5D%2C%20%5B41.535025%2C%20-91.672315%2C%201.0%5D%2C%20%5B42.09906%2C%20-91.24947%2C%201.0%5D%2C%20%5B41.714529999999996%2C%20-90.373805%2C%201.0%5D%2C%20%5B42.68429%2C%20-88.14258000000002%2C%201.0%5D%2C%20%5B41.73101%2C%20-83.978465%2C%201.0%5D%2C%20%5B41.4808%2C%20-96.71169%2C%200.0%5D%2C%20%5B41.82251%2C%20-97.5725%2C%201.0%5D%2C%20%5B42.510400000000004%2C%20-97.4889%2C%201.0%5D%2C%20%5B41.80119%2C%20-97.4213%2C%201.0%5D%2C%20%5B40.835449999999994%2C%20-98.71412000000001%2C%201.0%5D%2C%20%5B41.60627%2C%20-98.4511%2C%201.0%5D%2C%20%5B43.35991%2C%20-99.8853%2C%201.0%5D%2C%20%5B43.62978%2C%20-107.3116%2C%201.0%5D%2C%20%5B42.8479%2C%20-108.36045%2C%201.0%5D%2C%20%5B42.89186%2C%20-112.0409%2C%201.0%5D%2C%20%5B41.146%2C%20-103.5011%2C%201.0%5D%2C%20%5B43.6917%2C%20-104.33255%2C%201.0%5D%2C%20%5B40.045415%2C%20-105.063%2C%201.0%5D%2C%20%5B46.26459000000001%2C%20-107.953%2C%201.0%5D%2C%20%5B40.545249999999996%2C%20-106.68525%2C%201.0%5D%2C%20%5B45.70642%2C%20-111.4252%2C%201.0%5D%2C%20%5B42.449825%2C%20-108.7519%2C%201.0%5D%2C%20%5B40.6398%2C%20-105.0369%2C%201.0%5D%2C%20%5B44.05518%2C%20-106.92545%2C%201.0%5D%2C%20%5B42.9186%2C%20-109.493%2C%201.0%5D%2C%20%5B44.40636%2C%20-113.1189%2C%201.0%5D%2C%20%5B42.36055%2C%20-112.03909999999999%2C%201.0%5D%2C%20%5B44.084284999999994%2C%20-108.6412%2C%201.0%5D%2C%20%5B44.44364%2C%20-110.15809999999999%2C%201.0%5D%2C%20%5B41.93854%2C%20-104.966%2C%201.0%5D%2C%20%5B39.537155%2C%20-119.7261%2C%201.0%5D%2C%20%5B42.33933%2C%20-105.3259%2C%200.0%5D%2C%20%5B39.72527%2C%20-105.0125%2C%201.0%5D%2C%20%5B42.1762%2C%20-112.4302%2C%201.0%5D%2C%20%5B44.27363%2C%20-111.1629%2C%201.0%5D%2C%20%5B38.72%2C%20-106.0644%2C%201.0%5D%2C%20%5B41.92926%2C%20-119.2622%2C%201.0%5D%2C%20%5B46.89716%2C%20-120.3773%2C%201.0%5D%2C%20%5B39.59669%2C%20-104.94255000000001%2C%201.0%5D%2C%20%5B42.17871%2C%20-118.6048%2C%201.0%5D%2C%20%5B38.546994999999995%2C%20-109.32065%2C%201.0%5D%2C%20%5B43.74411%2C%20-119.5325%2C%201.0%5D%2C%20%5B38.36379%2C%20-105.7476%2C%201.0%5D%2C%20%5B42.21378%2C%20-118.794%2C%201.0%5D%2C%20%5B37.359044999999995%2C%20-112.06649999999999%2C%201.0%5D%2C%20%5B43.01734%2C%20-118.0838%2C%201.0%5D%2C%20%5B43.43264%2C%20-119.1817%2C%200.0%5D%2C%20%5B38.88192%2C%20-104.8179%2C%201.0%5D%2C%20%5B43.709895%2C%20-119.0787%2C%200.5%5D%2C%20%5B37.1293%2C%20-105.5819%2C%201.0%5D%2C%20%5B37.5747%2C%20-106.1584%2C%201.0%5D%2C%20%5B38.914604999999995%2C%20-105.5923%2C%201.0%5D%2C%20%5B38.07477%2C%20-106.19365%2C%201.0%5D%2C%20%5B38.40941%2C%20-105.6889%2C%201.0%5D%5D%2C%0A%20%20%20%20%20%20%20%20%20%20%20%20%20%20%20%20%7B%22blur%22%3A%2015%2C%20%22maxZoom%22%3A%2018%2C%20%22minOpacity%22%3A%200.5%2C%20%22radius%22%3A%2025%7D%0A%20%20%20%20%20%20%20%20%20%20%20%20%29.addTo%28map_e44dd5c2329e4b27ae87c40ccf2878e0%29%3B%0A%20%20%20%20%20%20%20%20%0A%3C/script%3E onload=\"this.contentDocument.open();this.contentDocument.write(    decodeURIComponent(this.getAttribute('data-html')));this.contentDocument.close();\" allowfullscreen webkitallowfullscreen mozallowfullscreen></iframe></div></div>"
      ],
      "text/plain": [
       "<folium.folium.Map at 0x21d8a7631c0>"
      ]
     },
     "metadata": {},
     "output_type": "display_data"
    }
   ],
   "source": [
    "HeatMap(data = data4).add_to(m)\n",
    "display(m)"
   ]
  },
  {
   "cell_type": "markdown",
   "metadata": {},
   "source": [
    "## By Super structure condition"
   ]
  },
  {
   "cell_type": "code",
   "execution_count": 51,
   "metadata": {
    "ExecuteTime": {
     "end_time": "2021-09-07T06:49:41.392707Z",
     "start_time": "2021-09-07T06:49:41.349185Z"
    }
   },
   "outputs": [
    {
     "data": {
      "text/html": [
       "<div style=\"width:100%;\"><div style=\"position:relative;width:100%;height:0;padding-bottom:60%;\"><span style=\"color:#565656\">Make this Notebook Trusted to load map: File -> Trust Notebook</span><iframe src=\"about:blank\" style=\"position:absolute;width:100%;height:100%;left:0;top:0;border:none !important;\" data-html=%3C%21DOCTYPE%20html%3E%0A%3Chead%3E%20%20%20%20%0A%20%20%20%20%3Cmeta%20http-equiv%3D%22content-type%22%20content%3D%22text/html%3B%20charset%3DUTF-8%22%20/%3E%0A%20%20%20%20%0A%20%20%20%20%20%20%20%20%3Cscript%3E%0A%20%20%20%20%20%20%20%20%20%20%20%20L_NO_TOUCH%20%3D%20false%3B%0A%20%20%20%20%20%20%20%20%20%20%20%20L_DISABLE_3D%20%3D%20false%3B%0A%20%20%20%20%20%20%20%20%3C/script%3E%0A%20%20%20%20%0A%20%20%20%20%3Cstyle%3Ehtml%2C%20body%20%7Bwidth%3A%20100%25%3Bheight%3A%20100%25%3Bmargin%3A%200%3Bpadding%3A%200%3B%7D%3C/style%3E%0A%20%20%20%20%3Cstyle%3E%23map%20%7Bposition%3Aabsolute%3Btop%3A0%3Bbottom%3A0%3Bright%3A0%3Bleft%3A0%3B%7D%3C/style%3E%0A%20%20%20%20%3Cscript%20src%3D%22https%3A//cdn.jsdelivr.net/npm/leaflet%401.6.0/dist/leaflet.js%22%3E%3C/script%3E%0A%20%20%20%20%3Cscript%20src%3D%22https%3A//code.jquery.com/jquery-1.12.4.min.js%22%3E%3C/script%3E%0A%20%20%20%20%3Cscript%20src%3D%22https%3A//maxcdn.bootstrapcdn.com/bootstrap/3.2.0/js/bootstrap.min.js%22%3E%3C/script%3E%0A%20%20%20%20%3Cscript%20src%3D%22https%3A//cdnjs.cloudflare.com/ajax/libs/Leaflet.awesome-markers/2.0.2/leaflet.awesome-markers.js%22%3E%3C/script%3E%0A%20%20%20%20%3Clink%20rel%3D%22stylesheet%22%20href%3D%22https%3A//cdn.jsdelivr.net/npm/leaflet%401.6.0/dist/leaflet.css%22/%3E%0A%20%20%20%20%3Clink%20rel%3D%22stylesheet%22%20href%3D%22https%3A//maxcdn.bootstrapcdn.com/bootstrap/3.2.0/css/bootstrap.min.css%22/%3E%0A%20%20%20%20%3Clink%20rel%3D%22stylesheet%22%20href%3D%22https%3A//maxcdn.bootstrapcdn.com/bootstrap/3.2.0/css/bootstrap-theme.min.css%22/%3E%0A%20%20%20%20%3Clink%20rel%3D%22stylesheet%22%20href%3D%22https%3A//maxcdn.bootstrapcdn.com/font-awesome/4.6.3/css/font-awesome.min.css%22/%3E%0A%20%20%20%20%3Clink%20rel%3D%22stylesheet%22%20href%3D%22https%3A//cdnjs.cloudflare.com/ajax/libs/Leaflet.awesome-markers/2.0.2/leaflet.awesome-markers.css%22/%3E%0A%20%20%20%20%3Clink%20rel%3D%22stylesheet%22%20href%3D%22https%3A//cdn.jsdelivr.net/gh/python-visualization/folium/folium/templates/leaflet.awesome.rotate.min.css%22/%3E%0A%20%20%20%20%0A%20%20%20%20%20%20%20%20%20%20%20%20%3Cmeta%20name%3D%22viewport%22%20content%3D%22width%3Ddevice-width%2C%0A%20%20%20%20%20%20%20%20%20%20%20%20%20%20%20%20initial-scale%3D1.0%2C%20maximum-scale%3D1.0%2C%20user-scalable%3Dno%22%20/%3E%0A%20%20%20%20%20%20%20%20%20%20%20%20%3Cstyle%3E%0A%20%20%20%20%20%20%20%20%20%20%20%20%20%20%20%20%23map_596cf8db44c24b518e71580ce6598c75%20%7B%0A%20%20%20%20%20%20%20%20%20%20%20%20%20%20%20%20%20%20%20%20position%3A%20relative%3B%0A%20%20%20%20%20%20%20%20%20%20%20%20%20%20%20%20%20%20%20%20width%3A%20100.0%25%3B%0A%20%20%20%20%20%20%20%20%20%20%20%20%20%20%20%20%20%20%20%20height%3A%20100.0%25%3B%0A%20%20%20%20%20%20%20%20%20%20%20%20%20%20%20%20%20%20%20%20left%3A%200.0%25%3B%0A%20%20%20%20%20%20%20%20%20%20%20%20%20%20%20%20%20%20%20%20top%3A%200.0%25%3B%0A%20%20%20%20%20%20%20%20%20%20%20%20%20%20%20%20%7D%0A%20%20%20%20%20%20%20%20%20%20%20%20%3C/style%3E%0A%20%20%20%20%20%20%20%20%0A%3C/head%3E%0A%3Cbody%3E%20%20%20%20%0A%20%20%20%20%0A%20%20%20%20%20%20%20%20%20%20%20%20%3Cdiv%20class%3D%22folium-map%22%20id%3D%22map_596cf8db44c24b518e71580ce6598c75%22%20%3E%3C/div%3E%0A%20%20%20%20%20%20%20%20%0A%3C/body%3E%0A%3Cscript%3E%20%20%20%20%0A%20%20%20%20%0A%20%20%20%20%20%20%20%20%20%20%20%20var%20map_596cf8db44c24b518e71580ce6598c75%20%3D%20L.map%28%0A%20%20%20%20%20%20%20%20%20%20%20%20%20%20%20%20%22map_596cf8db44c24b518e71580ce6598c75%22%2C%0A%20%20%20%20%20%20%20%20%20%20%20%20%20%20%20%20%7B%0A%20%20%20%20%20%20%20%20%20%20%20%20%20%20%20%20%20%20%20%20center%3A%20%5B40.0%2C%20-100.0%5D%2C%0A%20%20%20%20%20%20%20%20%20%20%20%20%20%20%20%20%20%20%20%20crs%3A%20L.CRS.EPSG3857%2C%0A%20%20%20%20%20%20%20%20%20%20%20%20%20%20%20%20%20%20%20%20zoom%3A%204%2C%0A%20%20%20%20%20%20%20%20%20%20%20%20%20%20%20%20%20%20%20%20zoomControl%3A%20true%2C%0A%20%20%20%20%20%20%20%20%20%20%20%20%20%20%20%20%20%20%20%20preferCanvas%3A%20false%2C%0A%20%20%20%20%20%20%20%20%20%20%20%20%20%20%20%20%7D%0A%20%20%20%20%20%20%20%20%20%20%20%20%29%3B%0A%0A%20%20%20%20%20%20%20%20%20%20%20%20%0A%0A%20%20%20%20%20%20%20%20%0A%20%20%20%20%0A%20%20%20%20%20%20%20%20%20%20%20%20var%20tile_layer_59ea05bdf8c441889a1c990c04bc713f%20%3D%20L.tileLayer%28%0A%20%20%20%20%20%20%20%20%20%20%20%20%20%20%20%20%22https%3A//%7Bs%7D.tile.openstreetmap.org/%7Bz%7D/%7Bx%7D/%7By%7D.png%22%2C%0A%20%20%20%20%20%20%20%20%20%20%20%20%20%20%20%20%7B%22attribution%22%3A%20%22Data%20by%20%5Cu0026copy%3B%20%5Cu003ca%20href%3D%5C%22http%3A//openstreetmap.org%5C%22%5Cu003eOpenStreetMap%5Cu003c/a%5Cu003e%2C%20under%20%5Cu003ca%20href%3D%5C%22http%3A//www.openstreetmap.org/copyright%5C%22%5Cu003eODbL%5Cu003c/a%5Cu003e.%22%2C%20%22detectRetina%22%3A%20false%2C%20%22maxNativeZoom%22%3A%2018%2C%20%22maxZoom%22%3A%2018%2C%20%22minZoom%22%3A%200%2C%20%22noWrap%22%3A%20false%2C%20%22opacity%22%3A%201%2C%20%22subdomains%22%3A%20%22abc%22%2C%20%22tms%22%3A%20false%7D%0A%20%20%20%20%20%20%20%20%20%20%20%20%29.addTo%28map_596cf8db44c24b518e71580ce6598c75%29%3B%0A%20%20%20%20%20%20%20%20%0A%3C/script%3E onload=\"this.contentDocument.open();this.contentDocument.write(    decodeURIComponent(this.getAttribute('data-html')));this.contentDocument.close();\" allowfullscreen webkitallowfullscreen mozallowfullscreen></iframe></div></div>"
      ],
      "text/plain": [
       "<folium.folium.Map at 0x21d8a77d280>"
      ]
     },
     "execution_count": 51,
     "metadata": {},
     "output_type": "execute_result"
    }
   ],
   "source": [
    "# Make an empty map\n",
    "m = folium.Map(location=[40,-100], tiles=\"OpenStreetMap\", zoom_start=4)\n",
    "\n",
    "#show the map\n",
    "m"
   ]
  },
  {
   "cell_type": "code",
   "execution_count": 52,
   "metadata": {
    "ExecuteTime": {
     "end_time": "2021-09-07T06:49:42.273708Z",
     "start_time": "2021-09-07T06:49:41.395711Z"
    }
   },
   "outputs": [
    {
     "data": {
      "text/plain": [
       "[[39.3292, -93.41373, 2.0],\n",
       " [40.265985, -83.49901000000001, 2.0],\n",
       " [38.65, -90.6217, 2.0],\n",
       " [40.33672, -88.518445, 2.0],\n",
       " [39.85921, -86.92074000000002, 2.0],\n",
       " [39.553, -88.17093, 1.0],\n",
       " [39.08619, -90.03333, 1.0],\n",
       " [38.342095, -91.17092, 0.0],\n",
       " [39.24333, -89.45774, 0.0],\n",
       " [40.463335, -84.202155, 0.0]]"
      ]
     },
     "execution_count": 52,
     "metadata": {},
     "output_type": "execute_result"
    }
   ],
   "source": [
    "data5 = df2.groupby('super_st_condition').median()[['latitude', 'longitude', 'bridge_condition']].values.tolist()\n",
    "data5"
   ]
  },
  {
   "cell_type": "code",
   "execution_count": 53,
   "metadata": {
    "ExecuteTime": {
     "end_time": "2021-09-07T06:49:42.304280Z",
     "start_time": "2021-09-07T06:49:42.277712Z"
    }
   },
   "outputs": [
    {
     "data": {
      "text/html": [
       "<div style=\"width:100%;\"><div style=\"position:relative;width:100%;height:0;padding-bottom:60%;\"><span style=\"color:#565656\">Make this Notebook Trusted to load map: File -> Trust Notebook</span><iframe src=\"about:blank\" style=\"position:absolute;width:100%;height:100%;left:0;top:0;border:none !important;\" data-html=%3C%21DOCTYPE%20html%3E%0A%3Chead%3E%20%20%20%20%0A%20%20%20%20%3Cmeta%20http-equiv%3D%22content-type%22%20content%3D%22text/html%3B%20charset%3DUTF-8%22%20/%3E%0A%20%20%20%20%0A%20%20%20%20%20%20%20%20%3Cscript%3E%0A%20%20%20%20%20%20%20%20%20%20%20%20L_NO_TOUCH%20%3D%20false%3B%0A%20%20%20%20%20%20%20%20%20%20%20%20L_DISABLE_3D%20%3D%20false%3B%0A%20%20%20%20%20%20%20%20%3C/script%3E%0A%20%20%20%20%0A%20%20%20%20%3Cstyle%3Ehtml%2C%20body%20%7Bwidth%3A%20100%25%3Bheight%3A%20100%25%3Bmargin%3A%200%3Bpadding%3A%200%3B%7D%3C/style%3E%0A%20%20%20%20%3Cstyle%3E%23map%20%7Bposition%3Aabsolute%3Btop%3A0%3Bbottom%3A0%3Bright%3A0%3Bleft%3A0%3B%7D%3C/style%3E%0A%20%20%20%20%3Cscript%20src%3D%22https%3A//cdn.jsdelivr.net/npm/leaflet%401.6.0/dist/leaflet.js%22%3E%3C/script%3E%0A%20%20%20%20%3Cscript%20src%3D%22https%3A//code.jquery.com/jquery-1.12.4.min.js%22%3E%3C/script%3E%0A%20%20%20%20%3Cscript%20src%3D%22https%3A//maxcdn.bootstrapcdn.com/bootstrap/3.2.0/js/bootstrap.min.js%22%3E%3C/script%3E%0A%20%20%20%20%3Cscript%20src%3D%22https%3A//cdnjs.cloudflare.com/ajax/libs/Leaflet.awesome-markers/2.0.2/leaflet.awesome-markers.js%22%3E%3C/script%3E%0A%20%20%20%20%3Clink%20rel%3D%22stylesheet%22%20href%3D%22https%3A//cdn.jsdelivr.net/npm/leaflet%401.6.0/dist/leaflet.css%22/%3E%0A%20%20%20%20%3Clink%20rel%3D%22stylesheet%22%20href%3D%22https%3A//maxcdn.bootstrapcdn.com/bootstrap/3.2.0/css/bootstrap.min.css%22/%3E%0A%20%20%20%20%3Clink%20rel%3D%22stylesheet%22%20href%3D%22https%3A//maxcdn.bootstrapcdn.com/bootstrap/3.2.0/css/bootstrap-theme.min.css%22/%3E%0A%20%20%20%20%3Clink%20rel%3D%22stylesheet%22%20href%3D%22https%3A//maxcdn.bootstrapcdn.com/font-awesome/4.6.3/css/font-awesome.min.css%22/%3E%0A%20%20%20%20%3Clink%20rel%3D%22stylesheet%22%20href%3D%22https%3A//cdnjs.cloudflare.com/ajax/libs/Leaflet.awesome-markers/2.0.2/leaflet.awesome-markers.css%22/%3E%0A%20%20%20%20%3Clink%20rel%3D%22stylesheet%22%20href%3D%22https%3A//cdn.jsdelivr.net/gh/python-visualization/folium/folium/templates/leaflet.awesome.rotate.min.css%22/%3E%0A%20%20%20%20%0A%20%20%20%20%20%20%20%20%20%20%20%20%3Cmeta%20name%3D%22viewport%22%20content%3D%22width%3Ddevice-width%2C%0A%20%20%20%20%20%20%20%20%20%20%20%20%20%20%20%20initial-scale%3D1.0%2C%20maximum-scale%3D1.0%2C%20user-scalable%3Dno%22%20/%3E%0A%20%20%20%20%20%20%20%20%20%20%20%20%3Cstyle%3E%0A%20%20%20%20%20%20%20%20%20%20%20%20%20%20%20%20%23map_596cf8db44c24b518e71580ce6598c75%20%7B%0A%20%20%20%20%20%20%20%20%20%20%20%20%20%20%20%20%20%20%20%20position%3A%20relative%3B%0A%20%20%20%20%20%20%20%20%20%20%20%20%20%20%20%20%20%20%20%20width%3A%20100.0%25%3B%0A%20%20%20%20%20%20%20%20%20%20%20%20%20%20%20%20%20%20%20%20height%3A%20100.0%25%3B%0A%20%20%20%20%20%20%20%20%20%20%20%20%20%20%20%20%20%20%20%20left%3A%200.0%25%3B%0A%20%20%20%20%20%20%20%20%20%20%20%20%20%20%20%20%20%20%20%20top%3A%200.0%25%3B%0A%20%20%20%20%20%20%20%20%20%20%20%20%20%20%20%20%7D%0A%20%20%20%20%20%20%20%20%20%20%20%20%3C/style%3E%0A%20%20%20%20%20%20%20%20%0A%20%20%20%20%3Cscript%20src%3D%22https%3A//cdn.jsdelivr.net/gh/python-visualization/folium%40master/folium/templates/leaflet_heat.min.js%22%3E%3C/script%3E%0A%3C/head%3E%0A%3Cbody%3E%20%20%20%20%0A%20%20%20%20%0A%20%20%20%20%20%20%20%20%20%20%20%20%3Cdiv%20class%3D%22folium-map%22%20id%3D%22map_596cf8db44c24b518e71580ce6598c75%22%20%3E%3C/div%3E%0A%20%20%20%20%20%20%20%20%0A%3C/body%3E%0A%3Cscript%3E%20%20%20%20%0A%20%20%20%20%0A%20%20%20%20%20%20%20%20%20%20%20%20var%20map_596cf8db44c24b518e71580ce6598c75%20%3D%20L.map%28%0A%20%20%20%20%20%20%20%20%20%20%20%20%20%20%20%20%22map_596cf8db44c24b518e71580ce6598c75%22%2C%0A%20%20%20%20%20%20%20%20%20%20%20%20%20%20%20%20%7B%0A%20%20%20%20%20%20%20%20%20%20%20%20%20%20%20%20%20%20%20%20center%3A%20%5B40.0%2C%20-100.0%5D%2C%0A%20%20%20%20%20%20%20%20%20%20%20%20%20%20%20%20%20%20%20%20crs%3A%20L.CRS.EPSG3857%2C%0A%20%20%20%20%20%20%20%20%20%20%20%20%20%20%20%20%20%20%20%20zoom%3A%204%2C%0A%20%20%20%20%20%20%20%20%20%20%20%20%20%20%20%20%20%20%20%20zoomControl%3A%20true%2C%0A%20%20%20%20%20%20%20%20%20%20%20%20%20%20%20%20%20%20%20%20preferCanvas%3A%20false%2C%0A%20%20%20%20%20%20%20%20%20%20%20%20%20%20%20%20%7D%0A%20%20%20%20%20%20%20%20%20%20%20%20%29%3B%0A%0A%20%20%20%20%20%20%20%20%20%20%20%20%0A%0A%20%20%20%20%20%20%20%20%0A%20%20%20%20%0A%20%20%20%20%20%20%20%20%20%20%20%20var%20tile_layer_59ea05bdf8c441889a1c990c04bc713f%20%3D%20L.tileLayer%28%0A%20%20%20%20%20%20%20%20%20%20%20%20%20%20%20%20%22https%3A//%7Bs%7D.tile.openstreetmap.org/%7Bz%7D/%7Bx%7D/%7By%7D.png%22%2C%0A%20%20%20%20%20%20%20%20%20%20%20%20%20%20%20%20%7B%22attribution%22%3A%20%22Data%20by%20%5Cu0026copy%3B%20%5Cu003ca%20href%3D%5C%22http%3A//openstreetmap.org%5C%22%5Cu003eOpenStreetMap%5Cu003c/a%5Cu003e%2C%20under%20%5Cu003ca%20href%3D%5C%22http%3A//www.openstreetmap.org/copyright%5C%22%5Cu003eODbL%5Cu003c/a%5Cu003e.%22%2C%20%22detectRetina%22%3A%20false%2C%20%22maxNativeZoom%22%3A%2018%2C%20%22maxZoom%22%3A%2018%2C%20%22minZoom%22%3A%200%2C%20%22noWrap%22%3A%20false%2C%20%22opacity%22%3A%201%2C%20%22subdomains%22%3A%20%22abc%22%2C%20%22tms%22%3A%20false%7D%0A%20%20%20%20%20%20%20%20%20%20%20%20%29.addTo%28map_596cf8db44c24b518e71580ce6598c75%29%3B%0A%20%20%20%20%20%20%20%20%0A%20%20%20%20%0A%20%20%20%20%20%20%20%20%20%20%20%20var%20heat_map_f6dddba9eec2414da09192178397b0c3%20%3D%20L.heatLayer%28%0A%20%20%20%20%20%20%20%20%20%20%20%20%20%20%20%20%5B%5B39.3292%2C%20-93.41373%2C%202.0%5D%2C%20%5B40.265985%2C%20-83.49901000000001%2C%202.0%5D%2C%20%5B38.65%2C%20-90.6217%2C%202.0%5D%2C%20%5B40.33672%2C%20-88.518445%2C%202.0%5D%2C%20%5B39.85921%2C%20-86.92074000000002%2C%202.0%5D%2C%20%5B39.553%2C%20-88.17093%2C%201.0%5D%2C%20%5B39.08619%2C%20-90.03333%2C%201.0%5D%2C%20%5B38.342095%2C%20-91.17092%2C%200.0%5D%2C%20%5B39.24333%2C%20-89.45774%2C%200.0%5D%2C%20%5B40.463335%2C%20-84.202155%2C%200.0%5D%5D%2C%0A%20%20%20%20%20%20%20%20%20%20%20%20%20%20%20%20%7B%22blur%22%3A%2015%2C%20%22maxZoom%22%3A%2018%2C%20%22minOpacity%22%3A%200.5%2C%20%22radius%22%3A%2025%7D%0A%20%20%20%20%20%20%20%20%20%20%20%20%29.addTo%28map_596cf8db44c24b518e71580ce6598c75%29%3B%0A%20%20%20%20%20%20%20%20%0A%3C/script%3E onload=\"this.contentDocument.open();this.contentDocument.write(    decodeURIComponent(this.getAttribute('data-html')));this.contentDocument.close();\" allowfullscreen webkitallowfullscreen mozallowfullscreen></iframe></div></div>"
      ],
      "text/plain": [
       "<folium.folium.Map at 0x21d8a77d280>"
      ]
     },
     "metadata": {},
     "output_type": "display_data"
    }
   ],
   "source": [
    "HeatMap(data = data5).add_to(m)\n",
    "display(m)"
   ]
  },
  {
   "cell_type": "markdown",
   "metadata": {},
   "source": [
    "## By County"
   ]
  },
  {
   "cell_type": "code",
   "execution_count": 54,
   "metadata": {
    "ExecuteTime": {
     "end_time": "2021-09-07T06:49:42.454281Z",
     "start_time": "2021-09-07T06:49:42.308285Z"
    }
   },
   "outputs": [
    {
     "data": {
      "text/html": [
       "<div style=\"width:100%;\"><div style=\"position:relative;width:100%;height:0;padding-bottom:60%;\"><span style=\"color:#565656\">Make this Notebook Trusted to load map: File -> Trust Notebook</span><iframe src=\"about:blank\" style=\"position:absolute;width:100%;height:100%;left:0;top:0;border:none !important;\" data-html=%3C%21DOCTYPE%20html%3E%0A%3Chead%3E%20%20%20%20%0A%20%20%20%20%3Cmeta%20http-equiv%3D%22content-type%22%20content%3D%22text/html%3B%20charset%3DUTF-8%22%20/%3E%0A%20%20%20%20%0A%20%20%20%20%20%20%20%20%3Cscript%3E%0A%20%20%20%20%20%20%20%20%20%20%20%20L_NO_TOUCH%20%3D%20false%3B%0A%20%20%20%20%20%20%20%20%20%20%20%20L_DISABLE_3D%20%3D%20false%3B%0A%20%20%20%20%20%20%20%20%3C/script%3E%0A%20%20%20%20%0A%20%20%20%20%3Cstyle%3Ehtml%2C%20body%20%7Bwidth%3A%20100%25%3Bheight%3A%20100%25%3Bmargin%3A%200%3Bpadding%3A%200%3B%7D%3C/style%3E%0A%20%20%20%20%3Cstyle%3E%23map%20%7Bposition%3Aabsolute%3Btop%3A0%3Bbottom%3A0%3Bright%3A0%3Bleft%3A0%3B%7D%3C/style%3E%0A%20%20%20%20%3Cscript%20src%3D%22https%3A//cdn.jsdelivr.net/npm/leaflet%401.6.0/dist/leaflet.js%22%3E%3C/script%3E%0A%20%20%20%20%3Cscript%20src%3D%22https%3A//code.jquery.com/jquery-1.12.4.min.js%22%3E%3C/script%3E%0A%20%20%20%20%3Cscript%20src%3D%22https%3A//maxcdn.bootstrapcdn.com/bootstrap/3.2.0/js/bootstrap.min.js%22%3E%3C/script%3E%0A%20%20%20%20%3Cscript%20src%3D%22https%3A//cdnjs.cloudflare.com/ajax/libs/Leaflet.awesome-markers/2.0.2/leaflet.awesome-markers.js%22%3E%3C/script%3E%0A%20%20%20%20%3Clink%20rel%3D%22stylesheet%22%20href%3D%22https%3A//cdn.jsdelivr.net/npm/leaflet%401.6.0/dist/leaflet.css%22/%3E%0A%20%20%20%20%3Clink%20rel%3D%22stylesheet%22%20href%3D%22https%3A//maxcdn.bootstrapcdn.com/bootstrap/3.2.0/css/bootstrap.min.css%22/%3E%0A%20%20%20%20%3Clink%20rel%3D%22stylesheet%22%20href%3D%22https%3A//maxcdn.bootstrapcdn.com/bootstrap/3.2.0/css/bootstrap-theme.min.css%22/%3E%0A%20%20%20%20%3Clink%20rel%3D%22stylesheet%22%20href%3D%22https%3A//maxcdn.bootstrapcdn.com/font-awesome/4.6.3/css/font-awesome.min.css%22/%3E%0A%20%20%20%20%3Clink%20rel%3D%22stylesheet%22%20href%3D%22https%3A//cdnjs.cloudflare.com/ajax/libs/Leaflet.awesome-markers/2.0.2/leaflet.awesome-markers.css%22/%3E%0A%20%20%20%20%3Clink%20rel%3D%22stylesheet%22%20href%3D%22https%3A//cdn.jsdelivr.net/gh/python-visualization/folium/folium/templates/leaflet.awesome.rotate.min.css%22/%3E%0A%20%20%20%20%0A%20%20%20%20%20%20%20%20%20%20%20%20%3Cmeta%20name%3D%22viewport%22%20content%3D%22width%3Ddevice-width%2C%0A%20%20%20%20%20%20%20%20%20%20%20%20%20%20%20%20initial-scale%3D1.0%2C%20maximum-scale%3D1.0%2C%20user-scalable%3Dno%22%20/%3E%0A%20%20%20%20%20%20%20%20%20%20%20%20%3Cstyle%3E%0A%20%20%20%20%20%20%20%20%20%20%20%20%20%20%20%20%23map_6e2be5516baa4d58896626b1d0837ef6%20%7B%0A%20%20%20%20%20%20%20%20%20%20%20%20%20%20%20%20%20%20%20%20position%3A%20relative%3B%0A%20%20%20%20%20%20%20%20%20%20%20%20%20%20%20%20%20%20%20%20width%3A%20100.0%25%3B%0A%20%20%20%20%20%20%20%20%20%20%20%20%20%20%20%20%20%20%20%20height%3A%20100.0%25%3B%0A%20%20%20%20%20%20%20%20%20%20%20%20%20%20%20%20%20%20%20%20left%3A%200.0%25%3B%0A%20%20%20%20%20%20%20%20%20%20%20%20%20%20%20%20%20%20%20%20top%3A%200.0%25%3B%0A%20%20%20%20%20%20%20%20%20%20%20%20%20%20%20%20%7D%0A%20%20%20%20%20%20%20%20%20%20%20%20%3C/style%3E%0A%20%20%20%20%20%20%20%20%0A%3C/head%3E%0A%3Cbody%3E%20%20%20%20%0A%20%20%20%20%0A%20%20%20%20%20%20%20%20%20%20%20%20%3Cdiv%20class%3D%22folium-map%22%20id%3D%22map_6e2be5516baa4d58896626b1d0837ef6%22%20%3E%3C/div%3E%0A%20%20%20%20%20%20%20%20%0A%3C/body%3E%0A%3Cscript%3E%20%20%20%20%0A%20%20%20%20%0A%20%20%20%20%20%20%20%20%20%20%20%20var%20map_6e2be5516baa4d58896626b1d0837ef6%20%3D%20L.map%28%0A%20%20%20%20%20%20%20%20%20%20%20%20%20%20%20%20%22map_6e2be5516baa4d58896626b1d0837ef6%22%2C%0A%20%20%20%20%20%20%20%20%20%20%20%20%20%20%20%20%7B%0A%20%20%20%20%20%20%20%20%20%20%20%20%20%20%20%20%20%20%20%20center%3A%20%5B40.0%2C%20-100.0%5D%2C%0A%20%20%20%20%20%20%20%20%20%20%20%20%20%20%20%20%20%20%20%20crs%3A%20L.CRS.EPSG3857%2C%0A%20%20%20%20%20%20%20%20%20%20%20%20%20%20%20%20%20%20%20%20zoom%3A%204%2C%0A%20%20%20%20%20%20%20%20%20%20%20%20%20%20%20%20%20%20%20%20zoomControl%3A%20true%2C%0A%20%20%20%20%20%20%20%20%20%20%20%20%20%20%20%20%20%20%20%20preferCanvas%3A%20false%2C%0A%20%20%20%20%20%20%20%20%20%20%20%20%20%20%20%20%7D%0A%20%20%20%20%20%20%20%20%20%20%20%20%29%3B%0A%0A%20%20%20%20%20%20%20%20%20%20%20%20%0A%0A%20%20%20%20%20%20%20%20%0A%20%20%20%20%0A%20%20%20%20%20%20%20%20%20%20%20%20var%20tile_layer_fbb3cb6837f64ad6b162372cf0af8e99%20%3D%20L.tileLayer%28%0A%20%20%20%20%20%20%20%20%20%20%20%20%20%20%20%20%22https%3A//%7Bs%7D.tile.openstreetmap.org/%7Bz%7D/%7Bx%7D/%7By%7D.png%22%2C%0A%20%20%20%20%20%20%20%20%20%20%20%20%20%20%20%20%7B%22attribution%22%3A%20%22Data%20by%20%5Cu0026copy%3B%20%5Cu003ca%20href%3D%5C%22http%3A//openstreetmap.org%5C%22%5Cu003eOpenStreetMap%5Cu003c/a%5Cu003e%2C%20under%20%5Cu003ca%20href%3D%5C%22http%3A//www.openstreetmap.org/copyright%5C%22%5Cu003eODbL%5Cu003c/a%5Cu003e.%22%2C%20%22detectRetina%22%3A%20false%2C%20%22maxNativeZoom%22%3A%2018%2C%20%22maxZoom%22%3A%2018%2C%20%22minZoom%22%3A%200%2C%20%22noWrap%22%3A%20false%2C%20%22opacity%22%3A%201%2C%20%22subdomains%22%3A%20%22abc%22%2C%20%22tms%22%3A%20false%7D%0A%20%20%20%20%20%20%20%20%20%20%20%20%29.addTo%28map_6e2be5516baa4d58896626b1d0837ef6%29%3B%0A%20%20%20%20%20%20%20%20%0A%3C/script%3E onload=\"this.contentDocument.open();this.contentDocument.write(    decodeURIComponent(this.getAttribute('data-html')));this.contentDocument.close();\" allowfullscreen webkitallowfullscreen mozallowfullscreen></iframe></div></div>"
      ],
      "text/plain": [
       "<folium.folium.Map at 0x21d8a784ee0>"
      ]
     },
     "execution_count": 54,
     "metadata": {},
     "output_type": "execute_result"
    }
   ],
   "source": [
    "# Make an empty map\n",
    "m = folium.Map(location=[40,-100], tiles=\"OpenStreetMap\", zoom_start=4)\n",
    "\n",
    "#show the map\n",
    "m"
   ]
  },
  {
   "cell_type": "code",
   "execution_count": 55,
   "metadata": {
    "ExecuteTime": {
     "end_time": "2021-09-07T06:49:43.704417Z",
     "start_time": "2021-09-07T06:49:42.458283Z"
    }
   },
   "outputs": [
    {
     "data": {
      "text/plain": [
       "[[34.21805, -82.41122, 1.0],\n",
       " [30.27167, -92.3857, 1.0],\n",
       " [37.855385, -75.64924500000001, 1.0],\n",
       " [43.59711, -116.314, 0.0],\n",
       " [40.218, -94.25587, 1.0],\n",
       " [39.986955, -94.607315, 1.0],\n",
       " [44.026650000000004, -73.09123499999998, 0.0],\n",
       " [33.56474, -81.78218000000001, 1.0],\n",
       " [46.592995, -93.52061499999999, 0.0],\n",
       " [29.68806, -82.36417, 0.0],\n",
       " [36.06099, -79.41264, 1.0],\n",
       " [37.701065, -122.0759, 1.0],\n",
       " [37.46965, -105.9711, 1.0],\n",
       " [42.56663, -73.93361999999998, 1.0],\n",
       " [38.032385, -78.55462, 1.0],\n",
       " [44.595615, -83.44292, 0.0],\n",
       " [34.90889, -88.55666, 0.0],\n",
       " [55.15021, -162.32565, 1.0],\n",
       " [36.01977, -81.31896499999999, 1.0],\n",
       " [38.808425, -77.07518999999999, 1.0],\n",
       " [36.69573, -98.37769, 1.0],\n",
       " [46.36834, -86.91603, 1.0],\n",
       " [43.28354, -91.41158, 1.0],\n",
       " [42.623835, -85.878815, 1.0],\n",
       " [42.15399, -78.15523, 1.0],\n",
       " [37.71391, -80.09692, 1.0],\n",
       " [40.45199, -79.97688000000002, 1.0],\n",
       " [40.876795, -85.04037, 1.0],\n",
       " [30.66811, -92.8324, 0.0],\n",
       " [33.01227, -81.29087, 1.0],\n",
       " [45.062394999999995, -83.58622, 1.0],\n",
       " [38.70347, -119.8259, 1.0],\n",
       " [38.41117, -120.8289, 1.0],\n",
       " [37.33984, -77.96836, 1.0],\n",
       " [37.57344000000001, -79.11564, 1.0],\n",
       " [31.173525000000005, -90.78862, 0.0],\n",
       " [61.20055, -149.6942, 1.0],\n",
       " [34.62723, -84.10599000000002, 1.0],\n",
       " [39.9606, -94.85868, 1.0],\n",
       " [32.38478, -102.4202, 0.0],\n",
       " [44.09543, -70.21598, 1.0],\n",
       " [31.316085, -94.72798499999999, 1.0],\n",
       " [39.12956, -76.64324, 1.0],\n",
       " [45.19085, -93.278985, 0.0],\n",
       " [34.980275, -80.128195, 0.0],\n",
       " [42.1284, -98.03595, 1.0],\n",
       " [44.97835, -85.2101, 1.0],\n",
       " [35.2468, -109.4261, 1.0],\n",
       " [40.733925, -92.858345, 1.0],\n",
       " [31.7482, -82.31563, 0.0],\n",
       " [37.36507, -78.82093, 1.0],\n",
       " [28.048785000000002, -97.082065, 0.0],\n",
       " [39.651345, -104.8099, 1.0],\n",
       " [33.68073, -98.68127, 1.0],\n",
       " [37.16095, -107.0465, 1.0],\n",
       " [44.0096, -83.94556499999999, 1.0],\n",
       " [34.3239, -91.37788, 1.0],\n",
       " [38.86936, -77.07131, 1.0],\n",
       " [40.795055, -79.521275, 1.0],\n",
       " [46.20825500000001, -68.016535, 1.0],\n",
       " [30.2273, -90.9089, 0.0],\n",
       " [36.44066, -81.49664, 1.0],\n",
       " [40.88406, -82.29758000000002, 0.0],\n",
       " [33.197540000000004, -91.86631, 0.0],\n",
       " [41.7818, -80.76513, 0.0],\n",
       " [46.301955, -117.05955, 0.0],\n",
       " [29.96027, -91.06021, 0.0],\n",
       " [28.92436, -98.46370999999999, 0.0],\n",
       " [39.65104, -95.36586, 1.0],\n",
       " [39.33952, -82.08644, 0.0],\n",
       " [31.326190000000004, -82.8576, 0.0],\n",
       " [39.42528, -74.590815, 1.0],\n",
       " [34.37218, -96.03661, 0.0],\n",
       " [33.09032, -89.58221999999998, 0.0],\n",
       " [39.22818000000001, -91.86829, 1.0],\n",
       " [41.688465, -94.91026, 1.0],\n",
       " [40.561975000000004, -84.26505, 0.0],\n",
       " [38.157075, -79.08979500000001, 1.0],\n",
       " [43.770335, -98.45921, 1.0],\n",
       " [29.878324999999997, -96.260505, 1.0],\n",
       " [32.565020000000004, -86.58549000000002, 1.0],\n",
       " [36.08556, -81.9449, 1.0],\n",
       " [31.035000000000004, -92.07095000000001, 1.0],\n",
       " [37.381280000000004, -102.6902, 1.0],\n",
       " [31.55209, -82.45286499999999, 1.0],\n",
       " [34.279525, -102.81135, 0.0],\n",
       " [44.499885000000006, -117.17625000000001, 1.0],\n",
       " [30.625770000000003, -87.688905, 1.0],\n",
       " [37.044585, -88.97583500000002, 1.0],\n",
       " [39.38869, -76.65601, 1.0],\n",
       " [39.2999, -76.61947, 1.0],\n",
       " [33.237815, -81.063695, 1.0],\n",
       " [29.73844, -99.09434, 0.0],\n",
       " [34.31624, -83.46799999999998, 0.0],\n",
       " [41.5755, -103.6767, 0.0],\n",
       " [42.799099999999996, -112.36365, 1.0],\n",
       " [46.75126, -88.44275, 0.0],\n",
       " [37.25333, -98.58576500000001, 1.0],\n",
       " [31.96196, -85.29574000000002, 1.0],\n",
       " [46.916095, -97.99729500000001, 0.0],\n",
       " [41.6886, -70.34448, 1.0],\n",
       " [33.2966, -81.36035, 1.0],\n",
       " [36.985695, -85.91666, 1.0],\n",
       " [45.39547, -91.77302, 1.0],\n",
       " [33.99251, -83.71738, 0.0],\n",
       " [36.83667, -93.78807, 1.0],\n",
       " [39.20333, -85.87186, 1.0],\n",
       " [38.39532, -98.644095, 0.0],\n",
       " [34.22099, -84.8043, 0.0],\n",
       " [30.103425, -97.31733, 0.0],\n",
       " [38.25763, -94.342615, 1.0],\n",
       " [38.12268, -83.62583000000002, 1.0],\n",
       " [36.31527, -92.37926, 0.0],\n",
       " [43.566505, -84.08793, 1.0],\n",
       " [46.594620000000006, -91.13628499999999, 1.0],\n",
       " [33.57917, -99.24277, 0.0],\n",
       " [44.3706, -98.18587, 1.0],\n",
       " [42.282650000000004, -111.3485, 1.0],\n",
       " [35.44182500000001, -77.06568500000003, 1.0],\n",
       " [30.695880000000002, -93.295415, 0.0],\n",
       " [40.515299999999996, -80.50484499999999, 1.0],\n",
       " [45.21568, -112.79105, 1.0],\n",
       " [46.86273, -95.84773, 0.0],\n",
       " [35.31497, -99.63767, 0.0],\n",
       " [37.36391, -79.46472500000002, 1.0],\n",
       " [28.399645000000003, -97.75227000000001, 0.0],\n",
       " [43.52166, -71.45601500000001, 0.0],\n",
       " [31.09162, -97.3373, 1.0],\n",
       " [40.03022, -80.87993, 0.0],\n",
       " [47.59693, -94.83203, 0.0],\n",
       " [31.76913, -83.24631, 1.0],\n",
       " [47.257104999999996, -116.7039, 1.0],\n",
       " [43.14199, -101.7018, 1.0],\n",
       " [42.96597, -73.13265, 0.0],\n",
       " [48.07167000000001, -99.28667, 0.0],\n",
       " [38.09333, -103.1365, 1.0],\n",
       " [40.64947, -93.41608, 1.0],\n",
       " [44.62035, -85.9589, 1.0],\n",
       " [40.92016, -74.07159, 1.0],\n",
       " [33.220690000000005, -79.81385, 1.0],\n",
       " [40.38841, -75.92062, 1.0],\n",
       " [42.34803, -73.22164000000002, 1.0],\n",
       " [35.1053, -106.6122, 1.0],\n",
       " [41.8848, -86.37355000000001, 1.0],\n",
       " [36.06056, -76.94536, 0.0],\n",
       " [59.93695, -164.0371, 1.0],\n",
       " [29.46162, -98.50806, 0.0],\n",
       " [32.85753, -83.73356, 0.0],\n",
       " [32.404615, -93.0413, 1.0],\n",
       " [45.18589, -107.64240000000001, 1.0],\n",
       " [45.29797, -96.29431, 0.0],\n",
       " [46.96228, -103.4879, 0.0],\n",
       " [43.2263, -112.3594, 1.0],\n",
       " [42.47018, -92.3368, 0.0],\n",
       " [40.452295, -85.33156, 1.0],\n",
       " [34.567915, -78.58481, 0.0],\n",
       " [36.09371, -98.56528, 1.0],\n",
       " [40.47504, -78.38937, 0.0],\n",
       " [30.19612, -98.40367, 0.0],\n",
       " [37.143705, -81.107295, 1.0],\n",
       " [32.431110000000004, -83.35505, 0.0],\n",
       " [35.58585, -85.20617, 0.0],\n",
       " [35.57033, -84.10777, 1.0],\n",
       " [44.042485, -94.05337, 0.0],\n",
       " [43.960240000000006, -115.86785, 1.0],\n",
       " [33.74725, -90.79819, 1.0],\n",
       " [37.287459999999996, -89.994675, 1.0],\n",
       " [42.98275, -97.89149, 1.0],\n",
       " [38.88005, -89.42468000000002, 1.0],\n",
       " [48.364955, -116.55135, 1.0],\n",
       " [43.49694, -112.0101, 1.0],\n",
       " [39.93978, -92.249695, 1.0],\n",
       " [32.745895000000004, -101.40195, 0.0],\n",
       " [31.880370000000006, -97.61166, 1.0],\n",
       " [32.557249999999996, -93.65176, 1.0],\n",
       " [37.492345, -79.812355, 1.0],\n",
       " [48.749775, -100.65485000000001, 1.0],\n",
       " [40.04471, -105.232, 1.0],\n",
       " [48.806495, -116.3947, 1.0],\n",
       " [37.99361, -94.695735, 1.0],\n",
       " [33.449045, -94.21631, 0.0],\n",
       " [46.107845000000005, -103.41, 0.0],\n",
       " [42.2779, -102.9727, 0.0],\n",
       " [41.71078, -112.1694, 1.0],\n",
       " [38.47639, -82.75667, 0.0],\n",
       " [37.62861, -84.90583000000002, 1.0],\n",
       " [38.730555, -84.09291999999999, 1.0],\n",
       " [41.77647, -76.57129, 1.0],\n",
       " [35.131545, -84.919375, 0.0],\n",
       " [41.93619, -85.00108, 1.0],\n",
       " [31.218575, -81.97525999999999, 0.0],\n",
       " [38.68847, -80.73639, 1.0],\n",
       " [29.29311, -95.39354, 0.0],\n",
       " [30.653005, -96.31744499999999, 0.0],\n",
       " [37.53305, -83.38472, 0.0],\n",
       " [37.75889, -86.50806, 0.0],\n",
       " [42.769615, -92.34222, 0.0],\n",
       " [28.21198, -80.68208, 0.0],\n",
       " [30.3501, -103.44885, 1.0],\n",
       " [34.3913, -101.05975000000001, 0.5],\n",
       " [58.724680000000006, -156.7809, 2.0],\n",
       " [41.8408, -71.14855, 1.0],\n",
       " [36.61154000000001, -82.17955, 1.0],\n",
       " [46.25231, -111.4489, 1.0],\n",
       " [40.840755, -73.89137, 1.0],\n",
       " [40.3044, -80.57725, 1.0],\n",
       " [44.33555, -96.75726, 1.0],\n",
       " [30.773640000000004, -83.67603000000003, 1.0],\n",
       " [42.115115, -75.896675, 1.0],\n",
       " [39.945570000000004, -105.08355, 0.5],\n",
       " [26.12403, -80.20299, 0.0],\n",
       " [39.973355, -90.78513000000001, 1.0],\n",
       " [43.77751, -99.07806, 1.0],\n",
       " [36.585755, -78.00747, 1.0],\n",
       " [33.966879999999996, -96.29761500000001, 1.0],\n",
       " [39.723805, -91.787725, 1.0],\n",
       " [37.581275, -78.48675, 1.0],\n",
       " [40.293445000000006, -75.082085, 1.0],\n",
       " [42.728359999999995, -95.140785, 1.0],\n",
       " [37.72824, -79.35565, 1.0],\n",
       " [40.947500000000005, -98.885, 0.0],\n",
       " [38.000695, -85.69666, 1.0],\n",
       " [32.346239999999995, -81.77026000000001, 1.0],\n",
       " [32.10228, -85.72371500000001, 1.0],\n",
       " [35.582265, -82.54289999999999, 1.0],\n",
       " [41.392555, -89.49640499999998, 1.0],\n",
       " [35.7178, -81.75978, 1.0],\n",
       " [46.83667, -100.5923, 0.0],\n",
       " [30.48311, -96.65023, 1.0],\n",
       " [39.98615, -74.75485, 1.0],\n",
       " [30.72082, -98.23734, 0.0],\n",
       " [45.78533, -92.36468, 1.0],\n",
       " [41.8283, -96.385, 0.0],\n",
       " [39.34232, -90.436545, 1.0],\n",
       " [39.728944999999996, -121.6172, 1.0],\n",
       " [33.261265, -83.96405999999999, 0.0],\n",
       " [35.39832, -80.58459, 1.0],\n",
       " [38.411925, -82.27092999999999, 1.0],\n",
       " [41.78665, -111.828, 1.0],\n",
       " [35.12812, -98.38995, 1.0],\n",
       " [32.48362, -93.83386999999999, 1.0],\n",
       " [38.15029000000001, -120.6152, 1.0],\n",
       " [30.22637, -93.266085, 0.0],\n",
       " [36.030195000000006, -93.85819000000001, 1.0],\n",
       " [32.04253, -92.16720000000001, 0.0],\n",
       " [44.4389, -72.03881, 0.0],\n",
       " [33.85301, -85.97569, 1.0],\n",
       " [32.37827, -99.373415, 1.0],\n",
       " [38.85263, -91.95478, 1.0],\n",
       " [36.627085, -88.31597500000001, 1.0],\n",
       " [44.06222, -88.16216, 1.0],\n",
       " [38.60761, -76.59351, 1.0],\n",
       " [43.32722, -114.7891, 1.0],\n",
       " [40.4494, -78.76069, 1.0],\n",
       " [39.71209, -75.113545, 1.0],\n",
       " [26.13557, -97.54713, 0.0],\n",
       " [29.86617, -93.12931, 0.0],\n",
       " [32.976545, -94.96228, 0.0],\n",
       " [38.856944999999996, -84.30965, 1.0],\n",
       " [35.52669, -97.89996, 1.0],\n",
       " [32.37545, -82.05714, 0.0],\n",
       " [35.82817, -86.08851999999997, 0.0],\n",
       " [43.64864, -116.67415, 1.0],\n",
       " [37.379135000000005, -89.666575, 1.0],\n",
       " [39.10051, -74.80564, 1.0],\n",
       " [41.43286, -106.8434, 1.0],\n",
       " [42.771249999999995, -111.6062, 1.0],\n",
       " [36.86861, -88.95389, 1.0],\n",
       " [46.63069, -92.58548, 0.0],\n",
       " [38.13665, -77.22392500000001, 1.0],\n",
       " [39.450630000000004, -88.54228, 1.0],\n",
       " [39.17698000000001, -119.7459, 0.0],\n",
       " [35.22102, -101.276, 1.0],\n",
       " [36.2358, -90.95469, 1.0],\n",
       " [34.780815000000004, -76.71065999999999, 1.0],\n",
       " [44.81199, -93.64495, 0.0],\n",
       " [47.39589500000001, -111.37950000000001, 1.0],\n",
       " [37.33445, -84.93472, 1.0],\n",
       " [40.958349999999996, -94.766645, 1.0],\n",
       " [42.50369, -113.6177, 1.0],\n",
       " [34.501705, -102.3039, 0.0],\n",
       " [36.39518, -79.33207, 0.0],\n",
       " [31.73713, -91.8725, 0.0],\n",
       " [35.6864, -81.2407, 1.0],\n",
       " [34.92113, -85.15169, 0.0],\n",
       " [33.90969, -108.7392, 1.0],\n",
       " [42.244110000000006, -78.640705, 0.0],\n",
       " [48.849334999999996, -98.370125, 0.0],\n",
       " [42.933170000000004, -76.5702, 1.0],\n",
       " [39.62675, -75.94338, 1.0],\n",
       " [41.87428, -93.89316, 1.0],\n",
       " [40.86294, -77.81423000000001, 1.0],\n",
       " [43.111795, -93.24064, 1.0],\n",
       " [38.71576, -106.1058, 1.0],\n",
       " [32.7825, -85.54369999999999, 0.0],\n",
       " [40.13971, -88.14296999999998, 0.0],\n",
       " [39.538790000000006, -92.921385, 0.0],\n",
       " [37.34596, -77.13813, 1.0],\n",
       " [38.560465, -76.95616999999999, 1.0],\n",
       " [43.16992, -98.47491, 1.0],\n",
       " [32.82042, -80.011425, 1.0],\n",
       " [45.188385, -85.012365, 1.0],\n",
       " [26.988640000000004, -82.02748000000003, 0.0],\n",
       " [38.04305, -78.47868000000001, 1.0],\n",
       " [30.822470000000006, -82.05125, 0.0],\n",
       " [38.33491, -96.66102000000001, 0.0],\n",
       " [32.187285, -81.03030999999999, 0.0],\n",
       " [32.3062, -84.76146999999997, 0.0],\n",
       " [34.48153, -85.3499, 1.0],\n",
       " [42.14588, -79.3828, 1.0],\n",
       " [33.38779, -104.5227, 1.0],\n",
       " [36.26231, -87.07965, 0.0],\n",
       " [45.41331, -84.59277, 1.0],\n",
       " [47.56333, -120.6314, 0.0],\n",
       " [42.146355, -76.80446, 1.0],\n",
       " [42.497659999999996, -75.566615, 1.0],\n",
       " [35.177414999999996, -94.81862000000001, 1.0],\n",
       " [42.813, -100.6258, 1.0],\n",
       " [36.770455, -76.27992, 1.0],\n",
       " [42.91506, -72.27479, 1.0],\n",
       " [39.86802, -75.82425999999998, 1.0],\n",
       " [37.32886, -77.6635, 1.0],\n",
       " [39.98953, -102.7833, 0.0],\n",
       " [42.95041, -92.13515, 0.0],\n",
       " [33.28498, -91.33441, 1.0],\n",
       " [34.437909999999995, -100.1667, 1.0],\n",
       " [32.83425, -86.66908000000002, 0.0],\n",
       " [45.031635, -91.38881, 1.0],\n",
       " [45.5133, -92.95488, 0.0],\n",
       " [44.45135500000001, -73.0623, 0.0],\n",
       " [33.427640000000004, -89.29615, 0.0],\n",
       " [47.62638, -110.5966, 1.0],\n",
       " [36.08957, -76.62979, 1.0],\n",
       " [37.0763, -89.14437, 1.0],\n",
       " [39.47356, -118.7823, 1.0],\n",
       " [35.07512, -107.6558, 1.0],\n",
       " [36.78875, -102.4939, 0.0],\n",
       " [28.85526, -82.366905, 0.0],\n",
       " [45.342780000000005, -122.57169999999999, 1.0],\n",
       " [32.08194, -90.76183, 1.0],\n",
       " [32.834950000000006, -93.02924999999999, 1.0],\n",
       " [48.08058, -124.0781, 0.0],\n",
       " [43.910585, -84.77844999999999, 1.0],\n",
       " [33.715095000000005, -80.20064500000001, 1.0],\n",
       " [41.17526, -79.44878000000001, 1.0],\n",
       " [38.349509999999995, -93.13439, 0.0],\n",
       " [32.13404, -88.67954, 1.0],\n",
       " [46.01339, -123.756, 1.0],\n",
       " [39.17089, -94.27445, 1.0],\n",
       " [42.73104, -91.18626, 0.0],\n",
       " [39.74247, -105.5991, 1.0],\n",
       " [40.995540000000005, -78.53761999999999, 1.0],\n",
       " [46.8154, -115.2574, 1.0],\n",
       " [33.6597, -85.56052, 1.0],\n",
       " [39.08583, -84.1916, 0.0],\n",
       " [35.27092000000001, -92.29362, 1.0],\n",
       " [31.024440000000006, -82.71552, 0.0],\n",
       " [41.09232, -86.39437, 1.0],\n",
       " [39.49611, -97.64793, 0.0],\n",
       " [34.19393, -90.54464, 0.0],\n",
       " [34.5931, -96.31113, 1.0],\n",
       " [33.93554, -84.55049, 0.0],\n",
       " [31.905050000000003, -109.8792, 0.0],\n",
       " [35.90728, -83.16111, 1.0],\n",
       " [35.2312, -111.6484, 1.0],\n",
       " [44.94264, -97.08302, 1.0],\n",
       " [31.57474, -85.98810999999998, 0.0],\n",
       " [38.21345, -95.726205, 0.0],\n",
       " [31.892485, -100.43205, 1.0],\n",
       " [34.712185000000005, -87.75407, 1.0],\n",
       " [38.54075, -92.24041, 1.0],\n",
       " [31.79808, -99.42184, 1.0],\n",
       " [39.507270000000005, -88.26648, 0.0],\n",
       " [41.525, -97.17075, 0.0],\n",
       " [32.93013, -80.71249, 1.0],\n",
       " [26.16005, -81.47944, 0.0],\n",
       " [33.12383, -96.70101, 0.0],\n",
       " [34.95346, -100.2278, 1.0],\n",
       " [37.2583, -77.39838, 1.0],\n",
       " [29.693255, -96.53984, 1.0],\n",
       " [31.17725, -83.761045, 0.0],\n",
       " [42.096940000000004, -82.63049499999997, 1.0],\n",
       " [40.774935, -80.74019000000001, 0.0],\n",
       " [34.30706, -78.71401999999998, 0.0],\n",
       " [39.15667, -122.1544, 1.0],\n",
       " [29.74345, -98.17242, 0.0],\n",
       " [34.6085, -98.48333, 1.0],\n",
       " [31.343840000000004, -99.86298, 0.0],\n",
       " [31.530965000000002, -91.62049999999999, 0.0],\n",
       " [31.41835, -86.98634999999999, 1.0],\n",
       " [37.220815, -106.02115, 1.0],\n",
       " [37.95402, -122.05345, 0.0],\n",
       " [42.778485, -105.4262, 1.0],\n",
       " [35.266675, -92.680245, 0.0],\n",
       " [41.87142, -87.762145, 1.0],\n",
       " [33.615269999999995, -97.16615, 1.0],\n",
       " [38.84931, -92.85139, 0.0],\n",
       " [43.43783, -123.892, 1.0],\n",
       " [32.98922, -86.222845, 1.0],\n",
       " [31.855405, -90.40322499999999, 0.0],\n",
       " [45.75539, -101.27275, 1.0],\n",
       " [42.60021, -76.10167, 1.0],\n",
       " [31.399605, -97.78628, 0.0],\n",
       " [40.30483, -81.88361, 1.0],\n",
       " [37.18309, -105.4164, 1.0],\n",
       " [34.047675, -100.24435, 1.0],\n",
       " [34.27528, -98.3885, 1.0],\n",
       " [44.05051, -95.19727, 0.0],\n",
       " [31.38884, -86.54638, 0.0],\n",
       " [37.772535000000005, -79.99196999999998, 1.0],\n",
       " [33.34806, -84.759, 0.0],\n",
       " [37.24414, -96.95188, 1.0],\n",
       " [46.180319999999995, -122.89500000000001, 1.0],\n",
       " [36.75155, -95.131025, 1.0],\n",
       " [35.83524, -90.62469, 0.0],\n",
       " [31.327975000000002, -102.34845, 1.0],\n",
       " [35.15165, -77.11978, 1.0],\n",
       " [39.01838, -91.22376, 1.0],\n",
       " [35.94444, -96.35941, 1.0],\n",
       " [31.718975, -86.29772, 1.0],\n",
       " [31.934545, -83.75654, 0.0],\n",
       " [35.256195, -90.229915, 1.0],\n",
       " [35.69937, -89.33219, 1.0],\n",
       " [44.326175, -104.6875, 1.0],\n",
       " [33.6661, -101.24705, 1.0],\n",
       " [35.26028, -90.80193, 1.0],\n",
       " [46.366935, -94.12992, 1.0],\n",
       " [38.21605, -103.82735, 1.0],\n",
       " [31.052775, -104.7111, 1.0],\n",
       " [34.17167, -86.84283, 1.0],\n",
       " [38.48079, -77.97896, 1.0],\n",
       " [39.36175, -77.54285499999999, 1.0],\n",
       " [41.9165, -96.8017, 1.0],\n",
       " [36.459985, -76.07566999999999, 1.0],\n",
       " [42.44536, -124.2936, 1.0],\n",
       " [41.2387, -99.4674, 0.0],\n",
       " [41.438435, -81.677855, 1.0],\n",
       " [37.35201, -93.75906, 1.0],\n",
       " [40.90942, -109.7292, 0.0],\n",
       " [44.66151, -93.16681, 1.0],\n",
       " [31.43795, -85.61153000000002, 1.0],\n",
       " [36.283125, -102.82845, 0.0],\n",
       " [32.819320000000005, -96.775565, 1.0],\n",
       " [43.05908, -89.3702, 1.0],\n",
       " [48.80951, -105.4535, 1.0],\n",
       " [36.58407, -79.40314000000002, 0.0],\n",
       " [35.788664999999995, -75.73138, 1.0],\n",
       " [40.15245, -84.60854, 0.0],\n",
       " [34.291740000000004, -79.9795, 1.0],\n",
       " [40.306825, -76.798585, 1.0],\n",
       " [36.121674999999996, -86.731565, 1.0],\n",
       " [35.949655, -80.54168, 1.0],\n",
       " [38.6627, -87.13557, 1.0],\n",
       " [40.789159999999995, -92.48295999999999, 1.0],\n",
       " [43.66824, -98.08637, 1.0],\n",
       " [42.7532, -103.2567, 0.0],\n",
       " [40.87625, -99.94665, 1.0],\n",
       " [45.5006, -97.85748, 1.0],\n",
       " [34.44687999999999, -104.16665, 1.0],\n",
       " [32.04491, -93.70775, 1.0],\n",
       " [40.18985, -88.952865, 0.0],\n",
       " [35.958175, -85.81335999999999, 1.0],\n",
       " [34.86907, -89.92539000000002, 0.0],\n",
       " [29.08721, -97.34034, 1.0],\n",
       " [34.833285000000004, -102.40495, 0.5],\n",
       " [39.16653, -84.95714, 1.0],\n",
       " [39.43279, -88.18097, 1.0],\n",
       " [46.13311, -112.83625, 1.0],\n",
       " [41.31966, -84.53623, 0.0],\n",
       " [41.80378, -124.0326, 0.0],\n",
       " [40.28461, -82.88653000000002, 1.0],\n",
       " [38.772765, -95.68690000000001, 1.0],\n",
       " [63.78028000000001, -148.933, 1.0],\n",
       " [37.63707, -91.5535, 1.0],\n",
       " [33.12249, -97.10768, 0.0],\n",
       " [39.74154, -104.9676, 1.0],\n",
       " [40.86663, -91.17008, 1.0],\n",
       " [44.064475, -121.3072, 0.0],\n",
       " [33.807845, -91.38387, 0.0],\n",
       " [41.1185, -102.0722, 1.0],\n",
       " [36.09639, -99.13333, 0.0],\n",
       " [33.6111, -100.8156, 0.0],\n",
       " [37.140875, -82.35835999999999, 1.0],\n",
       " [46.10195, -98.42811, 0.0],\n",
       " [38.92889, -97.08974, 1.0],\n",
       " [36.117175, -87.35627, 0.0],\n",
       " [59.76876, -154.1246, 1.0],\n",
       " [34.38828, -79.37289, 1.0],\n",
       " [28.517834999999998, -99.757155, 0.0],\n",
       " [37.082705000000004, -77.58080000000001, 1.0],\n",
       " [38.89227, -77.0123, 1.0],\n",
       " [48.9233, -103.1144, 1.0],\n",
       " [29.67695, -83.26288000000002, 1.0],\n",
       " [42.4567, -96.8641, 1.0],\n",
       " [32.34979000000001, -106.7596, 1.0],\n",
       " [39.28348, -80.676705, 1.0],\n",
       " [43.238789999999995, -92.837615, 0.0],\n",
       " [37.71866, -108.5062, 1.0],\n",
       " [39.78667, -95.18833, 1.0],\n",
       " [34.932294999999996, -100.76724999999999, 1.0],\n",
       " [32.16378, -83.79654000000002, 0.0],\n",
       " [44.81833, -87.38120999999998, 0.0],\n",
       " [33.150525, -80.38376, 1.0],\n",
       " [31.57292, -84.14099, 0.0],\n",
       " [41.26262, -96.12899999999999, 0.0],\n",
       " [33.616389999999996, -91.79743500000001, 0.0],\n",
       " [41.852705, -88.03607, 1.0],\n",
       " [38.347245, -86.87364500000001, 0.0],\n",
       " [42.47332, -90.840555, 1.0],\n",
       " [40.26872, -110.42314999999999, 1.0],\n",
       " [41.41612, -70.55653000000002, 0.0],\n",
       " [40.0417, -101.545, 0.0],\n",
       " [36.23638, -90.06427, 1.0],\n",
       " [44.98883, -92.01407, 1.0],\n",
       " [34.94085, -77.96495999999998, 1.0],\n",
       " [35.99104000000001, -78.8971, 1.0],\n",
       " [41.70834, -73.79431, 1.0],\n",
       " [30.30917, -81.66306, 0.0],\n",
       " [36.06836, -89.34439500000002, 1.0],\n",
       " [39.641225, -106.58105, 1.0],\n",
       " [31.33266, -84.92226, 0.0],\n",
       " [30.45806, -91.11856, 1.0],\n",
       " [32.68879, -91.2689, 1.0],\n",
       " [30.84717, -91.0592, 1.0],\n",
       " [32.37551499999999, -98.79446, 1.0],\n",
       " [42.61168, -84.79786999999997, 1.0],\n",
       " [44.765690000000006, -91.41849500000001, 1.0],\n",
       " [30.70372, -83.00393000000003, 0.0],\n",
       " [31.84901, -102.3824, 1.0],\n",
       " [32.58888, -104.2474, 0.0],\n",
       " [39.70497, -87.7417, 0.0],\n",
       " [35.89929, -77.64085, 1.0],\n",
       " [33.799395000000004, -81.961845, 1.0],\n",
       " [37.238745, -86.33694499999999, 1.0],\n",
       " [45.453615, -98.83417, 1.0],\n",
       " [38.0005, -99.08691, 0.0],\n",
       " [39.04279, -88.50784, 0.0],\n",
       " [38.73062, -120.7368, 0.0],\n",
       " [31.926090000000002, -106.23904999999999, 1.0],\n",
       " [34.24639, -83.06852999999998, 1.0],\n",
       " [37.54424, -96.05398500000001, 1.0],\n",
       " [41.62489000000001, -85.88737, 1.0],\n",
       " [41.05784, -115.4283, 1.0],\n",
       " [38.08833, -83.07875, 1.0],\n",
       " [32.470675, -96.96224000000001, 0.0],\n",
       " [38.72528, -98.24554, 1.0],\n",
       " [32.64935, -86.33339000000002, 1.0],\n",
       " [32.5722, -82.31268, 0.0],\n",
       " [39.10199, -110.8707, 1.0],\n",
       " [43.44495, -94.61995, 1.0],\n",
       " [46.26, -100.2333, 0.0],\n",
       " [36.70238, -77.53374000000002, 0.0],\n",
       " [32.22218, -98.25002, 0.0],\n",
       " [42.745740000000005, -78.832065, 1.0],\n",
       " [30.96697, -87.27803, 1.0],\n",
       " [37.875375, -117.2428, 0.5],\n",
       " [42.57493, -73.73508500000001, 1.0],\n",
       " [37.6925, -83.97583, 0.0],\n",
       " [34.016785, -86.038735, 0.0],\n",
       " [40.67936, -116.49015, 1.0],\n",
       " [30.68175, -92.38326, 1.0],\n",
       " [32.17281, -81.91331, 0.0],\n",
       " [64.84747, -147.43385, 1.0],\n",
       " [38.85396, -77.22062, 0.0],\n",
       " [38.86149, -77.28632499999999, 1.0],\n",
       " [41.121015, -73.47492, 1.0],\n",
       " [43.32981, -103.4218, 1.0],\n",
       " [46.40408, -104.3928, 0.0],\n",
       " [38.8834, -77.17893000000002, 1.0],\n",
       " [31.2574, -96.92816, 1.0],\n",
       " [33.602959999999996, -96.07838000000001, 1.0],\n",
       " [43.64219, -93.96811, 1.0],\n",
       " [45.039895, -98.95638, 1.0],\n",
       " [35.09904, -92.34499, 0.0],\n",
       " [38.75513, -77.79573500000001, 1.0],\n",
       " [38.83895, -88.75, 1.0],\n",
       " [36.41073, -84.953575, 1.0],\n",
       " [47.08294, -109.4019, 1.0],\n",
       " [48.58064, -118.51570000000001, 1.0],\n",
       " [43.56576, -92.30841, 1.0],\n",
       " [38.01173, -100.8386, 0.0],\n",
       " [32.740485, -100.40325, 1.0],\n",
       " [29.48161, -81.25624, 0.0],\n",
       " [48.32006, -114.2819, 1.0],\n",
       " [38.38278, -83.68777, 1.0],\n",
       " [34.058205, -79.76638, 1.0],\n",
       " [37.59083, -85.25562, 1.0],\n",
       " [37.85523, -78.25494, 1.0],\n",
       " [33.982545, -99.683475, 1.0],\n",
       " [43.75256, -88.46353, 0.0],\n",
       " [37.82592, -99.69186, 0.0],\n",
       " [45.56116, -88.63539, 1.0],\n",
       " [31.304555, -89.280295, 0.0],\n",
       " [36.08472, -80.28554, 1.0],\n",
       " [29.579825, -95.71443, 0.0],\n",
       " [47.45743, -98.86301, 0.0],\n",
       " [40.12174, -87.23953, 1.0],\n",
       " [39.733815, -84.88163000000002, 0.0],\n",
       " [32.16437, -91.6913, 0.0],\n",
       " [39.40285, -77.47211, 1.0],\n",
       " [38.2961, -77.48397, 1.0],\n",
       " [43.65892, -93.343255, 0.0],\n",
       " [31.7391, -96.22175, 1.0],\n",
       " [42.48682, -107.6963, 1.0],\n",
       " [36.74856, -119.7542, 1.0],\n",
       " [28.90452, -99.11203, 0.0],\n",
       " [40.5619, -100.21424999999999, 0.0],\n",
       " [36.477475, -84.42433499999999, 1.0],\n",
       " [40.2385, -99.8389, 0.0],\n",
       " [30.584115, -84.61197, 1.0],\n",
       " [40.26235, -96.69, 1.0],\n",
       " [36.66323, -80.91911, 1.0],\n",
       " [45.44082, -111.02914999999999, 1.0],\n",
       " [38.83981, -82.296795, 1.0],\n",
       " [29.411295, -95.04030499999999, 0.0],\n",
       " [41.3809, -102.27755, 0.0],\n",
       " [36.50685, -97.98409, 1.0],\n",
       " [34.51572, -93.08791, 1.0],\n",
       " [37.60278, -84.49778, 1.0],\n",
       " [39.603225, -79.344605, 1.0],\n",
       " [34.7127, -97.32596, 1.0],\n",
       " [33.16616, -101.3657, 1.0],\n",
       " [38.38283, -91.51136, 1.0],\n",
       " [35.2832, -81.18725, 1.0],\n",
       " [36.44078, -76.69955, 1.0],\n",
       " [38.99722, -96.76917, 1.0],\n",
       " [41.4696, -81.24344, 0.0],\n",
       " [43.883305, -116.503, 1.0],\n",
       " [43.00317, -83.67710500000001, 1.0],\n",
       " [31.092129999999997, -85.84553, 1.0],\n",
       " [40.21289, -94.426, 0.0],\n",
       " [30.86111, -88.63571, 0.0],\n",
       " [33.470780000000005, -79.34169, 1.0],\n",
       " [36.17336, -88.72485999999998, 1.0],\n",
       " [33.688895, -110.9477, 0.0],\n",
       " [29.750394999999997, -82.76545, 1.0],\n",
       " [35.238735000000005, -86.96370499999999, 0.0],\n",
       " [30.27108, -98.87493, 0.0],\n",
       " [45.5316, -120.1963, 0.0],\n",
       " [38.76321, -81.00158, 1.0],\n",
       " [39.79927, -105.4893, 1.0],\n",
       " [48.626509999999996, -113.0154, 1.0],\n",
       " [26.93995, -81.12255, 0.0],\n",
       " [43.94169, -84.45729, 1.0],\n",
       " [33.235884999999996, -82.59840499999999, 0.0],\n",
       " [32.004165, -101.3614, 0.0],\n",
       " [39.5566, -122.1961, 1.0],\n",
       " [39.76043, -75.151015, 1.0],\n",
       " [31.19254, -81.53390999999998, 0.0],\n",
       " [46.44607, -89.87870000000001, 1.0],\n",
       " [46.91776, -103.9567, 1.0],\n",
       " [28.699705, -97.40005, 0.5],\n",
       " [29.53812, -97.44213500000001, 0.0],\n",
       " [37.68394, -77.77242, 1.0],\n",
       " [44.42681, -92.67107, 0.0],\n",
       " [42.925555, -114.72535, 1.0],\n",
       " [34.49474, -84.9162, 0.0],\n",
       " [42.04588, -104.307, 1.0],\n",
       " [40.5717, -99.845, 0.0],\n",
       " [38.96979, -100.4481, 1.0],\n",
       " [35.02812, -97.86436, 1.0],\n",
       " [43.88632, -71.81059, 0.0],\n",
       " [35.307865, -100.05850000000001, 1.0],\n",
       " [36.29128, -83.55225, 1.0],\n",
       " [38.98819, -109.2977, 1.0],\n",
       " [47.94044500000001, -97.248885, 0.0],\n",
       " [44.935045, -73.27234, 0.5],\n",
       " [44.7154, -85.6144, 1.0],\n",
       " [46.48769, -113.3414, 1.0],\n",
       " [40.589119999999994, -97.11155500000001, 1.0],\n",
       " [31.64605, -92.52194, 1.0],\n",
       " [36.296525, -78.65877, 1.0],\n",
       " [43.295460000000006, -84.60209, 1.0],\n",
       " [36.73694, -88.63722, 1.0],\n",
       " [35.55002, -100.6095, 1.0],\n",
       " [47.03236, -123.6446, 0.0],\n",
       " [33.70602, -96.54927, 1.0],\n",
       " [41.4661, -98.6117, 1.0],\n",
       " [42.608914999999996, -89.572125, 0.0],\n",
       " [43.736450000000005, -88.99923000000001, 0.0],\n",
       " [37.85746, -80.44325500000002, 1.0],\n",
       " [37.42057, -86.97015999999998, 1.0],\n",
       " [32.95378, -109.1976, 1.0],\n",
       " [36.67284, -77.55729500000001, 1.0],\n",
       " [38.53333, -82.92860999999998, 0.0],\n",
       " [34.849940000000004, -82.35768999999998, 0.0],\n",
       " [37.66839, -96.044, 1.0],\n",
       " [34.9302, -99.51073, 1.0],\n",
       " [32.456410000000005, -94.79311, 1.0],\n",
       " [43.14022, -99.23746, 1.0],\n",
       " [33.777159999999995, -89.806, 0.0],\n",
       " [47.376485, -98.120305, 0.0],\n",
       " [30.5159, -96.00407, 1.0],\n",
       " [41.25945, -92.64715, 0.0],\n",
       " [29.61956, -98.00586, 0.0],\n",
       " [40.0181, -81.53315, 1.0],\n",
       " [36.065695000000005, -79.81977499999999, 1.0],\n",
       " [29.90939, -85.2838, 1.0],\n",
       " [38.72705, -106.9884, 1.0],\n",
       " [41.67484, -94.54137, 1.0],\n",
       " [33.959185000000005, -84.04234500000001, 0.0],\n",
       " [44.12643, -101.4871, 1.0],\n",
       " [34.588750000000005, -83.53999999999999, 1.0],\n",
       " [58.847045, -135.44780000000003, 0.0],\n",
       " [32.813500000000005, -87.65361, 0.0],\n",
       " [36.560045, -78.726835, 1.0],\n",
       " [40.700599999999994, -98.42605, 0.0],\n",
       " [36.19745, -83.25829, 1.0],\n",
       " [39.18610000000001, -85.30094500000001, 0.0],\n",
       " [44.6542, -96.98633, 1.0],\n",
       " [42.154889999999995, -72.605715, 1.0],\n",
       " [42.28879000000001, -72.74641, 1.0],\n",
       " [32.79854, -81.05696999999998, 1.0],\n",
       " [37.03878, -76.37415, 1.0],\n",
       " [40.49537, -85.76453000000002, 0.0],\n",
       " [44.59724, -98.92767, 1.0],\n",
       " [37.74278, -77.45541999999998, 1.0],\n",
       " [36.25947, -101.39025000000001, 1.0],\n",
       " [43.66613, -97.83457, 1.0],\n",
       " [33.776844999999994, -85.21244000000002, 0.0],\n",
       " [27.504435, -81.80302, 0.0],\n",
       " [35.13487500000001, -89.010055, 1.0],\n",
       " [37.7425, -88.17806, 1.0],\n",
       " [45.54876, -103.5487, 0.5],\n",
       " [39.05527, -78.84153, 1.0],\n",
       " [39.548895, -76.330405, 1.0],\n",
       " [36.90889, -83.32555, 1.0],\n",
       " [34.68248, -99.857575, 0.0],\n",
       " [35.34784000000001, -78.7674, 0.0],\n",
       " [43.57268, -118.9581, 0.0],\n",
       " [37.15333, -98.15908, 1.0],\n",
       " [29.794224999999997, -95.386985, 0.0],\n",
       " [39.18803, -89.21806, 1.0],\n",
       " [38.4371, -78.87013, 1.0],\n",
       " [34.444190000000006, -83.066015, 0.0],\n",
       " [41.75676, -72.70052, 1.0],\n",
       " [35.72224, -102.3412, 1.0],\n",
       " [38.04747, -97.38528, 0.0],\n",
       " [35.17422, -95.26511, 1.0],\n",
       " [20.05106, -155.481, 1.0],\n",
       " [36.41872, -82.97898, 1.0],\n",
       " [40.4117, -101.1033, 0.0],\n",
       " [30.003205, -97.898075, 0.0],\n",
       " [35.548275000000004, -86.41712999999999, 1.0],\n",
       " [33.31086, -85.13398000000002, 1.0],\n",
       " [35.724270000000004, -100.35785, 1.0],\n",
       " [33.71444, -93.64328, 0.0],\n",
       " [35.59905999999999, -88.33722, 1.0],\n",
       " [39.74939000000001, -86.45888000000002, 1.0],\n",
       " [26.744740000000004, -81.22504, 0.0],\n",
       " [44.96696, -93.33375, 1.0],\n",
       " [37.595839999999995, -77.44931999999999, 1.0],\n",
       " [38.57417, -88.075305, 1.0],\n",
       " [43.06454, -74.99356999999998, 1.0],\n",
       " [28.53645, -82.47879, 0.0],\n",
       " [36.32966, -77.02504, 1.0],\n",
       " [46.435105, -102.46719999999999, 1.0],\n",
       " [35.87825, -87.53845, 1.0],\n",
       " [37.94609, -93.32976, 1.0],\n",
       " [26.23437, -98.1724, 0.0],\n",
       " [39.15981, -83.544405, 0.0],\n",
       " [27.38036, -81.39553000000002, 0.0],\n",
       " [32.00425, -97.12038, 1.0],\n",
       " [28.01599, -82.35118, 0.0],\n",
       " [41.82807, -84.57994000000002, 1.0],\n",
       " [32.30139, -90.287475, 1.0],\n",
       " [37.91947, -107.2593, 1.0],\n",
       " [40.1758, -100.9917, 0.0],\n",
       " [39.50198, -82.43245, 0.0],\n",
       " [33.80055, -102.1566, 1.0],\n",
       " [38.10228, -99.82388, 1.0],\n",
       " [35.06573, -79.23549, 1.0],\n",
       " [33.145070000000004, -85.83649500000001, 1.0],\n",
       " [42.2046, -98.4261, 0.0],\n",
       " [21.37195, -157.8942, 1.0],\n",
       " [32.44042, -97.79022, 0.0],\n",
       " [45.65253, -121.5838, 1.0],\n",
       " [42.0625, -100.99845, 0.0],\n",
       " [57.959464999999994, -135.4581, 0.0],\n",
       " [37.26804, -77.322665, 1.0],\n",
       " [33.323655, -95.318525, 1.0],\n",
       " [33.915465, -78.99530999999999, 0.0],\n",
       " [34.355740000000004, -92.87972, 1.0],\n",
       " [43.71938, -108.21515, 1.0],\n",
       " [47.0067, -88.59631, 0.0],\n",
       " [31.526285, -87.67802499999999, 0.0],\n",
       " [39.296315, -92.42563, 1.0],\n",
       " [36.740925000000004, -91.87390500000001, 1.0],\n",
       " [47.001729999999995, -94.93361, 0.0],\n",
       " [40.747355, -74.071045, 1.0],\n",
       " [31.177410000000002, -105.5038, 1.0],\n",
       " [37.65058, -104.829, 1.0],\n",
       " [35.11594, -96.31795, 1.0],\n",
       " [40.86263, -123.8405, 1.0],\n",
       " [36.00098, -87.82875, 1.0],\n",
       " [33.12982, -96.12576, 0.0],\n",
       " [40.58635, -74.90047, 1.0],\n",
       " [40.42054, -77.96142, 0.5],\n",
       " [40.852835000000006, -85.492185, 1.0],\n",
       " [41.22878, -82.72093000000002, 1.0],\n",
       " [43.261205000000004, -97.976205, 1.0],\n",
       " [35.50875999999999, -76.25352, 1.0],\n",
       " [29.97404, -91.8368, 1.0],\n",
       " [30.31333, -91.3312, 1.0],\n",
       " [42.399315, -95.47854000000001, 1.0],\n",
       " [45.82705, -115.7916, 1.0],\n",
       " [32.8763, -115.5948, 0.0],\n",
       " [35.76743, -91.58539, 0.0],\n",
       " [27.6482, -80.46297, 0.0],\n",
       " [40.61546500000001, -79.13481999999999, 1.0],\n",
       " [42.68109, -84.49452499999998, 1.0],\n",
       " [37.12898, -118.2773, 0.0],\n",
       " [42.923235, -85.00073499999999, 1.0],\n",
       " [44.27705, -83.69179000000001, 1.0],\n",
       " [41.83906, -91.86625, 0.0],\n",
       " [35.81649, -80.85933, 1.0],\n",
       " [31.264815, -100.9427, 1.0],\n",
       " [37.69592, -90.63793, 1.0],\n",
       " [40.73444, -87.88078, 1.0],\n",
       " [31.59496, -83.24497, 0.0],\n",
       " [43.626325, -84.754075, 1.0],\n",
       " [45.58545, -93.30222, 0.0],\n",
       " [48.15936, -122.6078, 1.0],\n",
       " [36.8684, -76.78108, 1.0],\n",
       " [32.72155, -90.95306, 1.0],\n",
       " [47.403525, -93.497105, 0.5],\n",
       " [34.256905, -88.36603999999997, 0.0],\n",
       " [36.119204999999994, -91.89948000000001, 1.0],\n",
       " [33.2294, -98.19585, 1.0],\n",
       " [38.940585, -90.801925, 1.0],\n",
       " [32.2987, -92.6152, 1.0],\n",
       " [37.27779000000001, -76.751915, 1.0],\n",
       " [37.23544, -92.96616, 1.0],\n",
       " [40.42793, -84.99651999999998, 0.0],\n",
       " [30.74842, -103.8924, 0.0],\n",
       " [38.25528, -88.88973, 1.0],\n",
       " [31.58417, -89.854675, 0.0],\n",
       " [30.247495, -92.81655, 1.0],\n",
       " [29.97875, -90.161915, 0.0],\n",
       " [32.80363, -81.94129000000002, 0.0],\n",
       " [39.005075, -85.6554, 1.0],\n",
       " [44.072469999999996, -98.56489, 1.0],\n",
       " [42.685745000000004, -114.38765000000001, 1.0],\n",
       " [39.08341, -90.31297, 0.0],\n",
       " [37.87222, -84.57291500000001, 1.0],\n",
       " [39.76286, -98.22622, 0.0],\n",
       " [27.15665, -98.78358, 0.0],\n",
       " [27.75568, -98.08652, 0.0],\n",
       " [42.372069999999994, -90.161565, 0.5],\n",
       " [38.86909, -94.02897, 0.0],\n",
       " [35.40896500000001, -78.503765, 1.0],\n",
       " [32.81465, -90.914265, 1.0],\n",
       " [42.36292, -123.4448, 1.0],\n",
       " [39.623725, -111.89935, 1.0],\n",
       " [47.02795, -110.2837, 0.0],\n",
       " [58.3574, -134.5236, 1.0],\n",
       " [43.85792, -90.16298, 1.0],\n",
       " [40.584115, -77.349145, 1.0],\n",
       " [42.27556, -85.57333, 1.0],\n",
       " [44.641149999999996, -85.131025, 0.0],\n",
       " [45.87393, -93.31273999999999, 0.0],\n",
       " [38.358285, -81.58090999999999, 1.0],\n",
       " [45.054585, -95.00775, 0.0],\n",
       " [41.8731, -88.39, 0.0],\n",
       " [41.134665, -87.87024, 1.0],\n",
       " [28.88678, -97.84830500000001, 1.0],\n",
       " [22.01544, -159.4425, 1.0],\n",
       " [32.67196, -96.3143, 1.0],\n",
       " [36.79654, -97.24676500000001, 1.0],\n",
       " [40.5266, -98.92455, 0.0],\n",
       " [37.972745, -101.26769999999999, 1.0],\n",
       " [41.1094, -101.6918, 0.0],\n",
       " [32.74975, -88.66537, 0.0],\n",
       " [60.17861, -149.6808, 1.0],\n",
       " [41.4834, -88.57385, 0.0],\n",
       " [27.03714, -97.79043, 0.0],\n",
       " [44.36779, -69.77216, 1.0],\n",
       " [42.58245, -87.95196999999997, 0.0],\n",
       " [42.84863, -85.5195, 1.0],\n",
       " [39.02639, -84.53445, 1.0],\n",
       " [41.36329, -92.19392, 1.0],\n",
       " [35.36741000000001, -119.0209, 0.0],\n",
       " [30.065640000000002, -99.15336, 0.0],\n",
       " [34.247395, -80.602575, 0.0],\n",
       " [55.394400000000005, -131.6375, 1.0],\n",
       " [44.54514, -87.64206999999998, 0.0],\n",
       " [47.39091, -88.270875, 0.5],\n",
       " [42.822, -99.6119, 1.0],\n",
       " [46.87667, -99.69333499999999, 1.0],\n",
       " [41.2214, -103.6636, 0.0],\n",
       " [30.48581, -99.76941500000001, 0.0],\n",
       " [47.54358, -122.18745, 1.0],\n",
       " [38.29697, -77.11417, 1.0],\n",
       " [37.714865, -77.115455, 1.0],\n",
       " [37.742375, -76.92735000000002, 1.0],\n",
       " [35.884245, -97.92533499999999, 1.0],\n",
       " [37.573235, -98.09973500000001, 1.0],\n",
       " [36.42105, -119.5378, 1.0],\n",
       " [44.37219, -97.70119, 1.0],\n",
       " [29.270245000000003, -100.45335, 1.0],\n",
       " [34.98949, -99.03412, 0.0],\n",
       " [39.29444, -102.5768, 1.0],\n",
       " [47.60969, -122.67195, 0.0],\n",
       " [47.10317, -120.6993, 1.0],\n",
       " [48.766805, -96.91074499999999, 0.0],\n",
       " [42.22982, -121.6866, 0.0],\n",
       " [27.494979999999998, -97.8409, 1.0],\n",
       " [45.824195, -120.92625, 1.0],\n",
       " [37.33805, -82.91972, 1.0],\n",
       " [40.02548, -87.28801, 1.0],\n",
       " [57.652359999999994, -152.49464999999998, 1.0],\n",
       " [48.36846, -93.55129, 0.0],\n",
       " [47.66169, -116.7514, 1.0],\n",
       " [41.26036, -85.85243, 1.0],\n",
       " [43.180944999999994, -94.2167, 1.0],\n",
       " [61.87317, -162.0432, 0.0],\n",
       " [43.87682, -91.14088, 1.0],\n",
       " [33.6627, -113.8706, 0.0],\n",
       " [37.23401, -107.7947, 0.0],\n",
       " [28.395905000000003, -99.230655, 0.0],\n",
       " [41.72012, -85.42043000000002, 1.0],\n",
       " [46.39548, -98.55675500000001, 0.0],\n",
       " [41.57079, -86.77702, 1.0],\n",
       " [41.34766, -88.92519, 1.0],\n",
       " [31.70741, -92.14525, 0.0],\n",
       " [37.19278, -95.299005, 1.0],\n",
       " [44.94384, -96.28831, 0.0],\n",
       " [41.4364, -75.64582, 1.0],\n",
       " [37.63531, -92.62593, 1.0],\n",
       " [38.980215, -90.19607500000001, 0.0],\n",
       " [30.22077, -92.03913, 1.0],\n",
       " [29.689640000000004, -90.62010000000001, 1.0],\n",
       " [41.669844999999995, -87.81994499999999, 1.0],\n",
       " [56.30928, -158.4092, 1.0],\n",
       " [48.688375, -94.672365, 0.0],\n",
       " [33.58032, -89.54226, 0.0],\n",
       " [33.90388, -102.3273, 0.0],\n",
       " [44.58689, -72.665245, 0.0],\n",
       " [31.171440000000004, -98.18047, 0.0],\n",
       " [40.17749, -80.60472, 1.0],\n",
       " [40.62746, -116.9279, 1.0],\n",
       " [44.03978500000001, -123.0727, 1.0],\n",
       " [45.18225, -89.1634, 0.0],\n",
       " [31.047510000000003, -83.05900500000001, 0.0],\n",
       " [43.043800000000005, -83.24467, 1.0],\n",
       " [41.157625, -104.82805, 1.0],\n",
       " [40.538945, -105.09625, 1.0],\n",
       " [37.573750000000004, -85.701945, 0.0],\n",
       " [37.198915, -104.5051, 1.0],\n",
       " [40.366, -120.4554, 1.0],\n",
       " [46.73878, -116.8634, 1.0],\n",
       " [34.85958, -95.27, 0.0],\n",
       " [34.816145, -88.68952, 1.0],\n",
       " [37.10695, -84.07083, 1.0],\n",
       " [34.40184, -82.14881, 1.0],\n",
       " [29.43066, -96.994755, 1.0],\n",
       " [38.17778, -87.355, 1.0],\n",
       " [34.898435, -94.64914999999999, 0.0],\n",
       " [44.370695, -93.75301999999999, 0.0],\n",
       " [32.68773, -103.31635, 1.0],\n",
       " [32.764305, -89.53998000000001, 0.0],\n",
       " [39.18689000000001, -95.01913, 0.0],\n",
       " [40.36759000000001, -76.459325, 1.0],\n",
       " [34.294059999999995, -88.65386, 0.0],\n",
       " [44.86122, -85.79333000000003, 1.0],\n",
       " [33.52956, -90.31841, 1.0],\n",
       " [40.59825, -75.55025, 1.0],\n",
       " [45.09134, -113.9046, 0.0],\n",
       " [41.88168, -84.04965499999999, 0.0],\n",
       " [35.274985, -77.65033499999998, 1.0],\n",
       " [31.094355, -95.772395, 1.0],\n",
       " [37.10164, -83.3925, 1.0],\n",
       " [37.13333, -82.83111, 1.0],\n",
       " [29.26278, -82.76261, 1.0],\n",
       " [40.22816, -87.63072, 1.0],\n",
       " [46.910555, -112.11525, 1.0],\n",
       " [33.95436, -81.1973, 1.0],\n",
       " [37.78775, -79.44128, 1.0],\n",
       " [30.239035, -94.64803, 1.0],\n",
       " [40.06154, -82.45718000000002, 1.0],\n",
       " [34.631809999999994, -87.16606, 1.0],\n",
       " [38.90919, -96.74732, 1.0],\n",
       " [32.55507, -92.652205, 1.0],\n",
       " [42.02864, -93.97357500000001, 1.0],\n",
       " [36.35479, -100.3108, 1.0],\n",
       " [41.76144500000001, -73.16470500000001, 1.0],\n",
       " [33.718709999999994, -94.3448, 0.0],\n",
       " [28.338685000000005, -98.10361, 0.0],\n",
       " [40.94512, -88.35445, 1.0],\n",
       " [30.47741, -90.79521, 1.0],\n",
       " [30.737515000000002, -98.66291, 1.0],\n",
       " [38.76556, -89.41582, 1.0],\n",
       " [31.747805, -81.71191000000002, 0.0],\n",
       " [34.79853, -91.91264, 0.0],\n",
       " [41.371605, -82.121355, 0.0],\n",
       " [35.85704, -106.2781, 0.5],\n",
       " [34.09073, -118.2266, 0.0],\n",
       " [35.75497, -84.32497, 0.0],\n",
       " [39.04239, -77.5351, 0.0],\n",
       " [41.137365, -91.19691, 1.0],\n",
       " ...]"
      ]
     },
     "execution_count": 55,
     "metadata": {},
     "output_type": "execute_result"
    }
   ],
   "source": [
    "data6 = df2.groupby('county').median()[['latitude', 'longitude', 'bridge_condition']].values.tolist()\n",
    "data6"
   ]
  },
  {
   "cell_type": "code",
   "execution_count": 56,
   "metadata": {
    "ExecuteTime": {
     "end_time": "2021-09-07T06:49:43.781981Z",
     "start_time": "2021-09-07T06:49:43.708421Z"
    }
   },
   "outputs": [
    {
     "data": {
      "text/html": [
       "<div style=\"width:100%;\"><div style=\"position:relative;width:100%;height:0;padding-bottom:60%;\"><span style=\"color:#565656\">Make this Notebook Trusted to load map: File -> Trust Notebook</span><iframe src=\"about:blank\" style=\"position:absolute;width:100%;height:100%;left:0;top:0;border:none !important;\" data-html=%3C%21DOCTYPE%20html%3E%0A%3Chead%3E%20%20%20%20%0A%20%20%20%20%3Cmeta%20http-equiv%3D%22content-type%22%20content%3D%22text/html%3B%20charset%3DUTF-8%22%20/%3E%0A%20%20%20%20%0A%20%20%20%20%20%20%20%20%3Cscript%3E%0A%20%20%20%20%20%20%20%20%20%20%20%20L_NO_TOUCH%20%3D%20false%3B%0A%20%20%20%20%20%20%20%20%20%20%20%20L_DISABLE_3D%20%3D%20false%3B%0A%20%20%20%20%20%20%20%20%3C/script%3E%0A%20%20%20%20%0A%20%20%20%20%3Cstyle%3Ehtml%2C%20body%20%7Bwidth%3A%20100%25%3Bheight%3A%20100%25%3Bmargin%3A%200%3Bpadding%3A%200%3B%7D%3C/style%3E%0A%20%20%20%20%3Cstyle%3E%23map%20%7Bposition%3Aabsolute%3Btop%3A0%3Bbottom%3A0%3Bright%3A0%3Bleft%3A0%3B%7D%3C/style%3E%0A%20%20%20%20%3Cscript%20src%3D%22https%3A//cdn.jsdelivr.net/npm/leaflet%401.6.0/dist/leaflet.js%22%3E%3C/script%3E%0A%20%20%20%20%3Cscript%20src%3D%22https%3A//code.jquery.com/jquery-1.12.4.min.js%22%3E%3C/script%3E%0A%20%20%20%20%3Cscript%20src%3D%22https%3A//maxcdn.bootstrapcdn.com/bootstrap/3.2.0/js/bootstrap.min.js%22%3E%3C/script%3E%0A%20%20%20%20%3Cscript%20src%3D%22https%3A//cdnjs.cloudflare.com/ajax/libs/Leaflet.awesome-markers/2.0.2/leaflet.awesome-markers.js%22%3E%3C/script%3E%0A%20%20%20%20%3Clink%20rel%3D%22stylesheet%22%20href%3D%22https%3A//cdn.jsdelivr.net/npm/leaflet%401.6.0/dist/leaflet.css%22/%3E%0A%20%20%20%20%3Clink%20rel%3D%22stylesheet%22%20href%3D%22https%3A//maxcdn.bootstrapcdn.com/bootstrap/3.2.0/css/bootstrap.min.css%22/%3E%0A%20%20%20%20%3Clink%20rel%3D%22stylesheet%22%20href%3D%22https%3A//maxcdn.bootstrapcdn.com/bootstrap/3.2.0/css/bootstrap-theme.min.css%22/%3E%0A%20%20%20%20%3Clink%20rel%3D%22stylesheet%22%20href%3D%22https%3A//maxcdn.bootstrapcdn.com/font-awesome/4.6.3/css/font-awesome.min.css%22/%3E%0A%20%20%20%20%3Clink%20rel%3D%22stylesheet%22%20href%3D%22https%3A//cdnjs.cloudflare.com/ajax/libs/Leaflet.awesome-markers/2.0.2/leaflet.awesome-markers.css%22/%3E%0A%20%20%20%20%3Clink%20rel%3D%22stylesheet%22%20href%3D%22https%3A//cdn.jsdelivr.net/gh/python-visualization/folium/folium/templates/leaflet.awesome.rotate.min.css%22/%3E%0A%20%20%20%20%0A%20%20%20%20%20%20%20%20%20%20%20%20%3Cmeta%20name%3D%22viewport%22%20content%3D%22width%3Ddevice-width%2C%0A%20%20%20%20%20%20%20%20%20%20%20%20%20%20%20%20initial-scale%3D1.0%2C%20maximum-scale%3D1.0%2C%20user-scalable%3Dno%22%20/%3E%0A%20%20%20%20%20%20%20%20%20%20%20%20%3Cstyle%3E%0A%20%20%20%20%20%20%20%20%20%20%20%20%20%20%20%20%23map_6e2be5516baa4d58896626b1d0837ef6%20%7B%0A%20%20%20%20%20%20%20%20%20%20%20%20%20%20%20%20%20%20%20%20position%3A%20relative%3B%0A%20%20%20%20%20%20%20%20%20%20%20%20%20%20%20%20%20%20%20%20width%3A%20100.0%25%3B%0A%20%20%20%20%20%20%20%20%20%20%20%20%20%20%20%20%20%20%20%20height%3A%20100.0%25%3B%0A%20%20%20%20%20%20%20%20%20%20%20%20%20%20%20%20%20%20%20%20left%3A%200.0%25%3B%0A%20%20%20%20%20%20%20%20%20%20%20%20%20%20%20%20%20%20%20%20top%3A%200.0%25%3B%0A%20%20%20%20%20%20%20%20%20%20%20%20%20%20%20%20%7D%0A%20%20%20%20%20%20%20%20%20%20%20%20%3C/style%3E%0A%20%20%20%20%20%20%20%20%0A%20%20%20%20%3Cscript%20src%3D%22https%3A//cdn.jsdelivr.net/gh/python-visualization/folium%40master/folium/templates/leaflet_heat.min.js%22%3E%3C/script%3E%0A%3C/head%3E%0A%3Cbody%3E%20%20%20%20%0A%20%20%20%20%0A%20%20%20%20%20%20%20%20%20%20%20%20%3Cdiv%20class%3D%22folium-map%22%20id%3D%22map_6e2be5516baa4d58896626b1d0837ef6%22%20%3E%3C/div%3E%0A%20%20%20%20%20%20%20%20%0A%3C/body%3E%0A%3Cscript%3E%20%20%20%20%0A%20%20%20%20%0A%20%20%20%20%20%20%20%20%20%20%20%20var%20map_6e2be5516baa4d58896626b1d0837ef6%20%3D%20L.map%28%0A%20%20%20%20%20%20%20%20%20%20%20%20%20%20%20%20%22map_6e2be5516baa4d58896626b1d0837ef6%22%2C%0A%20%20%20%20%20%20%20%20%20%20%20%20%20%20%20%20%7B%0A%20%20%20%20%20%20%20%20%20%20%20%20%20%20%20%20%20%20%20%20center%3A%20%5B40.0%2C%20-100.0%5D%2C%0A%20%20%20%20%20%20%20%20%20%20%20%20%20%20%20%20%20%20%20%20crs%3A%20L.CRS.EPSG3857%2C%0A%20%20%20%20%20%20%20%20%20%20%20%20%20%20%20%20%20%20%20%20zoom%3A%204%2C%0A%20%20%20%20%20%20%20%20%20%20%20%20%20%20%20%20%20%20%20%20zoomControl%3A%20true%2C%0A%20%20%20%20%20%20%20%20%20%20%20%20%20%20%20%20%20%20%20%20preferCanvas%3A%20false%2C%0A%20%20%20%20%20%20%20%20%20%20%20%20%20%20%20%20%7D%0A%20%20%20%20%20%20%20%20%20%20%20%20%29%3B%0A%0A%20%20%20%20%20%20%20%20%20%20%20%20%0A%0A%20%20%20%20%20%20%20%20%0A%20%20%20%20%0A%20%20%20%20%20%20%20%20%20%20%20%20var%20tile_layer_fbb3cb6837f64ad6b162372cf0af8e99%20%3D%20L.tileLayer%28%0A%20%20%20%20%20%20%20%20%20%20%20%20%20%20%20%20%22https%3A//%7Bs%7D.tile.openstreetmap.org/%7Bz%7D/%7Bx%7D/%7By%7D.png%22%2C%0A%20%20%20%20%20%20%20%20%20%20%20%20%20%20%20%20%7B%22attribution%22%3A%20%22Data%20by%20%5Cu0026copy%3B%20%5Cu003ca%20href%3D%5C%22http%3A//openstreetmap.org%5C%22%5Cu003eOpenStreetMap%5Cu003c/a%5Cu003e%2C%20under%20%5Cu003ca%20href%3D%5C%22http%3A//www.openstreetmap.org/copyright%5C%22%5Cu003eODbL%5Cu003c/a%5Cu003e.%22%2C%20%22detectRetina%22%3A%20false%2C%20%22maxNativeZoom%22%3A%2018%2C%20%22maxZoom%22%3A%2018%2C%20%22minZoom%22%3A%200%2C%20%22noWrap%22%3A%20false%2C%20%22opacity%22%3A%201%2C%20%22subdomains%22%3A%20%22abc%22%2C%20%22tms%22%3A%20false%7D%0A%20%20%20%20%20%20%20%20%20%20%20%20%29.addTo%28map_6e2be5516baa4d58896626b1d0837ef6%29%3B%0A%20%20%20%20%20%20%20%20%0A%20%20%20%20%0A%20%20%20%20%20%20%20%20%20%20%20%20var%20heat_map_7080ddc8d4ca43378b3c8ef8f51910df%20%3D%20L.heatLayer%28%0A%20%20%20%20%20%20%20%20%20%20%20%20%20%20%20%20%5B%5B34.21805%2C%20-82.41122%2C%201.0%5D%2C%20%5B30.27167%2C%20-92.3857%2C%201.0%5D%2C%20%5B37.855385%2C%20-75.64924500000001%2C%201.0%5D%2C%20%5B43.59711%2C%20-116.314%2C%200.0%5D%2C%20%5B40.218%2C%20-94.25587%2C%201.0%5D%2C%20%5B39.986955%2C%20-94.607315%2C%201.0%5D%2C%20%5B44.026650000000004%2C%20-73.09123499999998%2C%200.0%5D%2C%20%5B33.56474%2C%20-81.78218000000001%2C%201.0%5D%2C%20%5B46.592995%2C%20-93.52061499999999%2C%200.0%5D%2C%20%5B29.68806%2C%20-82.36417%2C%200.0%5D%2C%20%5B36.06099%2C%20-79.41264%2C%201.0%5D%2C%20%5B37.701065%2C%20-122.0759%2C%201.0%5D%2C%20%5B37.46965%2C%20-105.9711%2C%201.0%5D%2C%20%5B42.56663%2C%20-73.93361999999998%2C%201.0%5D%2C%20%5B38.032385%2C%20-78.55462%2C%201.0%5D%2C%20%5B44.595615%2C%20-83.44292%2C%200.0%5D%2C%20%5B34.90889%2C%20-88.55666%2C%200.0%5D%2C%20%5B55.15021%2C%20-162.32565%2C%201.0%5D%2C%20%5B36.01977%2C%20-81.31896499999999%2C%201.0%5D%2C%20%5B38.808425%2C%20-77.07518999999999%2C%201.0%5D%2C%20%5B36.69573%2C%20-98.37769%2C%201.0%5D%2C%20%5B46.36834%2C%20-86.91603%2C%201.0%5D%2C%20%5B43.28354%2C%20-91.41158%2C%201.0%5D%2C%20%5B42.623835%2C%20-85.878815%2C%201.0%5D%2C%20%5B42.15399%2C%20-78.15523%2C%201.0%5D%2C%20%5B37.71391%2C%20-80.09692%2C%201.0%5D%2C%20%5B40.45199%2C%20-79.97688000000002%2C%201.0%5D%2C%20%5B40.876795%2C%20-85.04037%2C%201.0%5D%2C%20%5B30.66811%2C%20-92.8324%2C%200.0%5D%2C%20%5B33.01227%2C%20-81.29087%2C%201.0%5D%2C%20%5B45.062394999999995%2C%20-83.58622%2C%201.0%5D%2C%20%5B38.70347%2C%20-119.8259%2C%201.0%5D%2C%20%5B38.41117%2C%20-120.8289%2C%201.0%5D%2C%20%5B37.33984%2C%20-77.96836%2C%201.0%5D%2C%20%5B37.57344000000001%2C%20-79.11564%2C%201.0%5D%2C%20%5B31.173525000000005%2C%20-90.78862%2C%200.0%5D%2C%20%5B61.20055%2C%20-149.6942%2C%201.0%5D%2C%20%5B34.62723%2C%20-84.10599000000002%2C%201.0%5D%2C%20%5B39.9606%2C%20-94.85868%2C%201.0%5D%2C%20%5B32.38478%2C%20-102.4202%2C%200.0%5D%2C%20%5B44.09543%2C%20-70.21598%2C%201.0%5D%2C%20%5B31.316085%2C%20-94.72798499999999%2C%201.0%5D%2C%20%5B39.12956%2C%20-76.64324%2C%201.0%5D%2C%20%5B45.19085%2C%20-93.278985%2C%200.0%5D%2C%20%5B34.980275%2C%20-80.128195%2C%200.0%5D%2C%20%5B42.1284%2C%20-98.03595%2C%201.0%5D%2C%20%5B44.97835%2C%20-85.2101%2C%201.0%5D%2C%20%5B35.2468%2C%20-109.4261%2C%201.0%5D%2C%20%5B40.733925%2C%20-92.858345%2C%201.0%5D%2C%20%5B31.7482%2C%20-82.31563%2C%200.0%5D%2C%20%5B37.36507%2C%20-78.82093%2C%201.0%5D%2C%20%5B28.048785000000002%2C%20-97.082065%2C%200.0%5D%2C%20%5B39.651345%2C%20-104.8099%2C%201.0%5D%2C%20%5B33.68073%2C%20-98.68127%2C%201.0%5D%2C%20%5B37.16095%2C%20-107.0465%2C%201.0%5D%2C%20%5B44.0096%2C%20-83.94556499999999%2C%201.0%5D%2C%20%5B34.3239%2C%20-91.37788%2C%201.0%5D%2C%20%5B38.86936%2C%20-77.07131%2C%201.0%5D%2C%20%5B40.795055%2C%20-79.521275%2C%201.0%5D%2C%20%5B46.20825500000001%2C%20-68.016535%2C%201.0%5D%2C%20%5B30.2273%2C%20-90.9089%2C%200.0%5D%2C%20%5B36.44066%2C%20-81.49664%2C%201.0%5D%2C%20%5B40.88406%2C%20-82.29758000000002%2C%200.0%5D%2C%20%5B33.197540000000004%2C%20-91.86631%2C%200.0%5D%2C%20%5B41.7818%2C%20-80.76513%2C%200.0%5D%2C%20%5B46.301955%2C%20-117.05955%2C%200.0%5D%2C%20%5B29.96027%2C%20-91.06021%2C%200.0%5D%2C%20%5B28.92436%2C%20-98.46370999999999%2C%200.0%5D%2C%20%5B39.65104%2C%20-95.36586%2C%201.0%5D%2C%20%5B39.33952%2C%20-82.08644%2C%200.0%5D%2C%20%5B31.326190000000004%2C%20-82.8576%2C%200.0%5D%2C%20%5B39.42528%2C%20-74.590815%2C%201.0%5D%2C%20%5B34.37218%2C%20-96.03661%2C%200.0%5D%2C%20%5B33.09032%2C%20-89.58221999999998%2C%200.0%5D%2C%20%5B39.22818000000001%2C%20-91.86829%2C%201.0%5D%2C%20%5B41.688465%2C%20-94.91026%2C%201.0%5D%2C%20%5B40.561975000000004%2C%20-84.26505%2C%200.0%5D%2C%20%5B38.157075%2C%20-79.08979500000001%2C%201.0%5D%2C%20%5B43.770335%2C%20-98.45921%2C%201.0%5D%2C%20%5B29.878324999999997%2C%20-96.260505%2C%201.0%5D%2C%20%5B32.565020000000004%2C%20-86.58549000000002%2C%201.0%5D%2C%20%5B36.08556%2C%20-81.9449%2C%201.0%5D%2C%20%5B31.035000000000004%2C%20-92.07095000000001%2C%201.0%5D%2C%20%5B37.381280000000004%2C%20-102.6902%2C%201.0%5D%2C%20%5B31.55209%2C%20-82.45286499999999%2C%201.0%5D%2C%20%5B34.279525%2C%20-102.81135%2C%200.0%5D%2C%20%5B44.499885000000006%2C%20-117.17625000000001%2C%201.0%5D%2C%20%5B30.625770000000003%2C%20-87.688905%2C%201.0%5D%2C%20%5B37.044585%2C%20-88.97583500000002%2C%201.0%5D%2C%20%5B39.38869%2C%20-76.65601%2C%201.0%5D%2C%20%5B39.2999%2C%20-76.61947%2C%201.0%5D%2C%20%5B33.237815%2C%20-81.063695%2C%201.0%5D%2C%20%5B29.73844%2C%20-99.09434%2C%200.0%5D%2C%20%5B34.31624%2C%20-83.46799999999998%2C%200.0%5D%2C%20%5B41.5755%2C%20-103.6767%2C%200.0%5D%2C%20%5B42.799099999999996%2C%20-112.36365%2C%201.0%5D%2C%20%5B46.75126%2C%20-88.44275%2C%200.0%5D%2C%20%5B37.25333%2C%20-98.58576500000001%2C%201.0%5D%2C%20%5B31.96196%2C%20-85.29574000000002%2C%201.0%5D%2C%20%5B46.916095%2C%20-97.99729500000001%2C%200.0%5D%2C%20%5B41.6886%2C%20-70.34448%2C%201.0%5D%2C%20%5B33.2966%2C%20-81.36035%2C%201.0%5D%2C%20%5B36.985695%2C%20-85.91666%2C%201.0%5D%2C%20%5B45.39547%2C%20-91.77302%2C%201.0%5D%2C%20%5B33.99251%2C%20-83.71738%2C%200.0%5D%2C%20%5B36.83667%2C%20-93.78807%2C%201.0%5D%2C%20%5B39.20333%2C%20-85.87186%2C%201.0%5D%2C%20%5B38.39532%2C%20-98.644095%2C%200.0%5D%2C%20%5B34.22099%2C%20-84.8043%2C%200.0%5D%2C%20%5B30.103425%2C%20-97.31733%2C%200.0%5D%2C%20%5B38.25763%2C%20-94.342615%2C%201.0%5D%2C%20%5B38.12268%2C%20-83.62583000000002%2C%201.0%5D%2C%20%5B36.31527%2C%20-92.37926%2C%200.0%5D%2C%20%5B43.566505%2C%20-84.08793%2C%201.0%5D%2C%20%5B46.594620000000006%2C%20-91.13628499999999%2C%201.0%5D%2C%20%5B33.57917%2C%20-99.24277%2C%200.0%5D%2C%20%5B44.3706%2C%20-98.18587%2C%201.0%5D%2C%20%5B42.282650000000004%2C%20-111.3485%2C%201.0%5D%2C%20%5B35.44182500000001%2C%20-77.06568500000003%2C%201.0%5D%2C%20%5B30.695880000000002%2C%20-93.295415%2C%200.0%5D%2C%20%5B40.515299999999996%2C%20-80.50484499999999%2C%201.0%5D%2C%20%5B45.21568%2C%20-112.79105%2C%201.0%5D%2C%20%5B46.86273%2C%20-95.84773%2C%200.0%5D%2C%20%5B35.31497%2C%20-99.63767%2C%200.0%5D%2C%20%5B37.36391%2C%20-79.46472500000002%2C%201.0%5D%2C%20%5B28.399645000000003%2C%20-97.75227000000001%2C%200.0%5D%2C%20%5B43.52166%2C%20-71.45601500000001%2C%200.0%5D%2C%20%5B31.09162%2C%20-97.3373%2C%201.0%5D%2C%20%5B40.03022%2C%20-80.87993%2C%200.0%5D%2C%20%5B47.59693%2C%20-94.83203%2C%200.0%5D%2C%20%5B31.76913%2C%20-83.24631%2C%201.0%5D%2C%20%5B47.257104999999996%2C%20-116.7039%2C%201.0%5D%2C%20%5B43.14199%2C%20-101.7018%2C%201.0%5D%2C%20%5B42.96597%2C%20-73.13265%2C%200.0%5D%2C%20%5B48.07167000000001%2C%20-99.28667%2C%200.0%5D%2C%20%5B38.09333%2C%20-103.1365%2C%201.0%5D%2C%20%5B40.64947%2C%20-93.41608%2C%201.0%5D%2C%20%5B44.62035%2C%20-85.9589%2C%201.0%5D%2C%20%5B40.92016%2C%20-74.07159%2C%201.0%5D%2C%20%5B33.220690000000005%2C%20-79.81385%2C%201.0%5D%2C%20%5B40.38841%2C%20-75.92062%2C%201.0%5D%2C%20%5B42.34803%2C%20-73.22164000000002%2C%201.0%5D%2C%20%5B35.1053%2C%20-106.6122%2C%201.0%5D%2C%20%5B41.8848%2C%20-86.37355000000001%2C%201.0%5D%2C%20%5B36.06056%2C%20-76.94536%2C%200.0%5D%2C%20%5B59.93695%2C%20-164.0371%2C%201.0%5D%2C%20%5B29.46162%2C%20-98.50806%2C%200.0%5D%2C%20%5B32.85753%2C%20-83.73356%2C%200.0%5D%2C%20%5B32.404615%2C%20-93.0413%2C%201.0%5D%2C%20%5B45.18589%2C%20-107.64240000000001%2C%201.0%5D%2C%20%5B45.29797%2C%20-96.29431%2C%200.0%5D%2C%20%5B46.96228%2C%20-103.4879%2C%200.0%5D%2C%20%5B43.2263%2C%20-112.3594%2C%201.0%5D%2C%20%5B42.47018%2C%20-92.3368%2C%200.0%5D%2C%20%5B40.452295%2C%20-85.33156%2C%201.0%5D%2C%20%5B34.567915%2C%20-78.58481%2C%200.0%5D%2C%20%5B36.09371%2C%20-98.56528%2C%201.0%5D%2C%20%5B40.47504%2C%20-78.38937%2C%200.0%5D%2C%20%5B30.19612%2C%20-98.40367%2C%200.0%5D%2C%20%5B37.143705%2C%20-81.107295%2C%201.0%5D%2C%20%5B32.431110000000004%2C%20-83.35505%2C%200.0%5D%2C%20%5B35.58585%2C%20-85.20617%2C%200.0%5D%2C%20%5B35.57033%2C%20-84.10777%2C%201.0%5D%2C%20%5B44.042485%2C%20-94.05337%2C%200.0%5D%2C%20%5B43.960240000000006%2C%20-115.86785%2C%201.0%5D%2C%20%5B33.74725%2C%20-90.79819%2C%201.0%5D%2C%20%5B37.287459999999996%2C%20-89.994675%2C%201.0%5D%2C%20%5B42.98275%2C%20-97.89149%2C%201.0%5D%2C%20%5B38.88005%2C%20-89.42468000000002%2C%201.0%5D%2C%20%5B48.364955%2C%20-116.55135%2C%201.0%5D%2C%20%5B43.49694%2C%20-112.0101%2C%201.0%5D%2C%20%5B39.93978%2C%20-92.249695%2C%201.0%5D%2C%20%5B32.745895000000004%2C%20-101.40195%2C%200.0%5D%2C%20%5B31.880370000000006%2C%20-97.61166%2C%201.0%5D%2C%20%5B32.557249999999996%2C%20-93.65176%2C%201.0%5D%2C%20%5B37.492345%2C%20-79.812355%2C%201.0%5D%2C%20%5B48.749775%2C%20-100.65485000000001%2C%201.0%5D%2C%20%5B40.04471%2C%20-105.232%2C%201.0%5D%2C%20%5B48.806495%2C%20-116.3947%2C%201.0%5D%2C%20%5B37.99361%2C%20-94.695735%2C%201.0%5D%2C%20%5B33.449045%2C%20-94.21631%2C%200.0%5D%2C%20%5B46.107845000000005%2C%20-103.41%2C%200.0%5D%2C%20%5B42.2779%2C%20-102.9727%2C%200.0%5D%2C%20%5B41.71078%2C%20-112.1694%2C%201.0%5D%2C%20%5B38.47639%2C%20-82.75667%2C%200.0%5D%2C%20%5B37.62861%2C%20-84.90583000000002%2C%201.0%5D%2C%20%5B38.730555%2C%20-84.09291999999999%2C%201.0%5D%2C%20%5B41.77647%2C%20-76.57129%2C%201.0%5D%2C%20%5B35.131545%2C%20-84.919375%2C%200.0%5D%2C%20%5B41.93619%2C%20-85.00108%2C%201.0%5D%2C%20%5B31.218575%2C%20-81.97525999999999%2C%200.0%5D%2C%20%5B38.68847%2C%20-80.73639%2C%201.0%5D%2C%20%5B29.29311%2C%20-95.39354%2C%200.0%5D%2C%20%5B30.653005%2C%20-96.31744499999999%2C%200.0%5D%2C%20%5B37.53305%2C%20-83.38472%2C%200.0%5D%2C%20%5B37.75889%2C%20-86.50806%2C%200.0%5D%2C%20%5B42.769615%2C%20-92.34222%2C%200.0%5D%2C%20%5B28.21198%2C%20-80.68208%2C%200.0%5D%2C%20%5B30.3501%2C%20-103.44885%2C%201.0%5D%2C%20%5B34.3913%2C%20-101.05975000000001%2C%200.5%5D%2C%20%5B58.724680000000006%2C%20-156.7809%2C%202.0%5D%2C%20%5B41.8408%2C%20-71.14855%2C%201.0%5D%2C%20%5B36.61154000000001%2C%20-82.17955%2C%201.0%5D%2C%20%5B46.25231%2C%20-111.4489%2C%201.0%5D%2C%20%5B40.840755%2C%20-73.89137%2C%201.0%5D%2C%20%5B40.3044%2C%20-80.57725%2C%201.0%5D%2C%20%5B44.33555%2C%20-96.75726%2C%201.0%5D%2C%20%5B30.773640000000004%2C%20-83.67603000000003%2C%201.0%5D%2C%20%5B42.115115%2C%20-75.896675%2C%201.0%5D%2C%20%5B39.945570000000004%2C%20-105.08355%2C%200.5%5D%2C%20%5B26.12403%2C%20-80.20299%2C%200.0%5D%2C%20%5B39.973355%2C%20-90.78513000000001%2C%201.0%5D%2C%20%5B43.77751%2C%20-99.07806%2C%201.0%5D%2C%20%5B36.585755%2C%20-78.00747%2C%201.0%5D%2C%20%5B33.966879999999996%2C%20-96.29761500000001%2C%201.0%5D%2C%20%5B39.723805%2C%20-91.787725%2C%201.0%5D%2C%20%5B37.581275%2C%20-78.48675%2C%201.0%5D%2C%20%5B40.293445000000006%2C%20-75.082085%2C%201.0%5D%2C%20%5B42.728359999999995%2C%20-95.140785%2C%201.0%5D%2C%20%5B37.72824%2C%20-79.35565%2C%201.0%5D%2C%20%5B40.947500000000005%2C%20-98.885%2C%200.0%5D%2C%20%5B38.000695%2C%20-85.69666%2C%201.0%5D%2C%20%5B32.346239999999995%2C%20-81.77026000000001%2C%201.0%5D%2C%20%5B32.10228%2C%20-85.72371500000001%2C%201.0%5D%2C%20%5B35.582265%2C%20-82.54289999999999%2C%201.0%5D%2C%20%5B41.392555%2C%20-89.49640499999998%2C%201.0%5D%2C%20%5B35.7178%2C%20-81.75978%2C%201.0%5D%2C%20%5B46.83667%2C%20-100.5923%2C%200.0%5D%2C%20%5B30.48311%2C%20-96.65023%2C%201.0%5D%2C%20%5B39.98615%2C%20-74.75485%2C%201.0%5D%2C%20%5B30.72082%2C%20-98.23734%2C%200.0%5D%2C%20%5B45.78533%2C%20-92.36468%2C%201.0%5D%2C%20%5B41.8283%2C%20-96.385%2C%200.0%5D%2C%20%5B39.34232%2C%20-90.436545%2C%201.0%5D%2C%20%5B39.728944999999996%2C%20-121.6172%2C%201.0%5D%2C%20%5B33.261265%2C%20-83.96405999999999%2C%200.0%5D%2C%20%5B35.39832%2C%20-80.58459%2C%201.0%5D%2C%20%5B38.411925%2C%20-82.27092999999999%2C%201.0%5D%2C%20%5B41.78665%2C%20-111.828%2C%201.0%5D%2C%20%5B35.12812%2C%20-98.38995%2C%201.0%5D%2C%20%5B32.48362%2C%20-93.83386999999999%2C%201.0%5D%2C%20%5B38.15029000000001%2C%20-120.6152%2C%201.0%5D%2C%20%5B30.22637%2C%20-93.266085%2C%200.0%5D%2C%20%5B36.030195000000006%2C%20-93.85819000000001%2C%201.0%5D%2C%20%5B32.04253%2C%20-92.16720000000001%2C%200.0%5D%2C%20%5B44.4389%2C%20-72.03881%2C%200.0%5D%2C%20%5B33.85301%2C%20-85.97569%2C%201.0%5D%2C%20%5B32.37827%2C%20-99.373415%2C%201.0%5D%2C%20%5B38.85263%2C%20-91.95478%2C%201.0%5D%2C%20%5B36.627085%2C%20-88.31597500000001%2C%201.0%5D%2C%20%5B44.06222%2C%20-88.16216%2C%201.0%5D%2C%20%5B38.60761%2C%20-76.59351%2C%201.0%5D%2C%20%5B43.32722%2C%20-114.7891%2C%201.0%5D%2C%20%5B40.4494%2C%20-78.76069%2C%201.0%5D%2C%20%5B39.71209%2C%20-75.113545%2C%201.0%5D%2C%20%5B26.13557%2C%20-97.54713%2C%200.0%5D%2C%20%5B29.86617%2C%20-93.12931%2C%200.0%5D%2C%20%5B32.976545%2C%20-94.96228%2C%200.0%5D%2C%20%5B38.856944999999996%2C%20-84.30965%2C%201.0%5D%2C%20%5B35.52669%2C%20-97.89996%2C%201.0%5D%2C%20%5B32.37545%2C%20-82.05714%2C%200.0%5D%2C%20%5B35.82817%2C%20-86.08851999999997%2C%200.0%5D%2C%20%5B43.64864%2C%20-116.67415%2C%201.0%5D%2C%20%5B37.379135000000005%2C%20-89.666575%2C%201.0%5D%2C%20%5B39.10051%2C%20-74.80564%2C%201.0%5D%2C%20%5B41.43286%2C%20-106.8434%2C%201.0%5D%2C%20%5B42.771249999999995%2C%20-111.6062%2C%201.0%5D%2C%20%5B36.86861%2C%20-88.95389%2C%201.0%5D%2C%20%5B46.63069%2C%20-92.58548%2C%200.0%5D%2C%20%5B38.13665%2C%20-77.22392500000001%2C%201.0%5D%2C%20%5B39.450630000000004%2C%20-88.54228%2C%201.0%5D%2C%20%5B39.17698000000001%2C%20-119.7459%2C%200.0%5D%2C%20%5B35.22102%2C%20-101.276%2C%201.0%5D%2C%20%5B36.2358%2C%20-90.95469%2C%201.0%5D%2C%20%5B34.780815000000004%2C%20-76.71065999999999%2C%201.0%5D%2C%20%5B44.81199%2C%20-93.64495%2C%200.0%5D%2C%20%5B47.39589500000001%2C%20-111.37950000000001%2C%201.0%5D%2C%20%5B37.33445%2C%20-84.93472%2C%201.0%5D%2C%20%5B40.958349999999996%2C%20-94.766645%2C%201.0%5D%2C%20%5B42.50369%2C%20-113.6177%2C%201.0%5D%2C%20%5B34.501705%2C%20-102.3039%2C%200.0%5D%2C%20%5B36.39518%2C%20-79.33207%2C%200.0%5D%2C%20%5B31.73713%2C%20-91.8725%2C%200.0%5D%2C%20%5B35.6864%2C%20-81.2407%2C%201.0%5D%2C%20%5B34.92113%2C%20-85.15169%2C%200.0%5D%2C%20%5B33.90969%2C%20-108.7392%2C%201.0%5D%2C%20%5B42.244110000000006%2C%20-78.640705%2C%200.0%5D%2C%20%5B48.849334999999996%2C%20-98.370125%2C%200.0%5D%2C%20%5B42.933170000000004%2C%20-76.5702%2C%201.0%5D%2C%20%5B39.62675%2C%20-75.94338%2C%201.0%5D%2C%20%5B41.87428%2C%20-93.89316%2C%201.0%5D%2C%20%5B40.86294%2C%20-77.81423000000001%2C%201.0%5D%2C%20%5B43.111795%2C%20-93.24064%2C%201.0%5D%2C%20%5B38.71576%2C%20-106.1058%2C%201.0%5D%2C%20%5B32.7825%2C%20-85.54369999999999%2C%200.0%5D%2C%20%5B40.13971%2C%20-88.14296999999998%2C%200.0%5D%2C%20%5B39.538790000000006%2C%20-92.921385%2C%200.0%5D%2C%20%5B37.34596%2C%20-77.13813%2C%201.0%5D%2C%20%5B38.560465%2C%20-76.95616999999999%2C%201.0%5D%2C%20%5B43.16992%2C%20-98.47491%2C%201.0%5D%2C%20%5B32.82042%2C%20-80.011425%2C%201.0%5D%2C%20%5B45.188385%2C%20-85.012365%2C%201.0%5D%2C%20%5B26.988640000000004%2C%20-82.02748000000003%2C%200.0%5D%2C%20%5B38.04305%2C%20-78.47868000000001%2C%201.0%5D%2C%20%5B30.822470000000006%2C%20-82.05125%2C%200.0%5D%2C%20%5B38.33491%2C%20-96.66102000000001%2C%200.0%5D%2C%20%5B32.187285%2C%20-81.03030999999999%2C%200.0%5D%2C%20%5B32.3062%2C%20-84.76146999999997%2C%200.0%5D%2C%20%5B34.48153%2C%20-85.3499%2C%201.0%5D%2C%20%5B42.14588%2C%20-79.3828%2C%201.0%5D%2C%20%5B33.38779%2C%20-104.5227%2C%201.0%5D%2C%20%5B36.26231%2C%20-87.07965%2C%200.0%5D%2C%20%5B45.41331%2C%20-84.59277%2C%201.0%5D%2C%20%5B47.56333%2C%20-120.6314%2C%200.0%5D%2C%20%5B42.146355%2C%20-76.80446%2C%201.0%5D%2C%20%5B42.497659999999996%2C%20-75.566615%2C%201.0%5D%2C%20%5B35.177414999999996%2C%20-94.81862000000001%2C%201.0%5D%2C%20%5B42.813%2C%20-100.6258%2C%201.0%5D%2C%20%5B36.770455%2C%20-76.27992%2C%201.0%5D%2C%20%5B42.91506%2C%20-72.27479%2C%201.0%5D%2C%20%5B39.86802%2C%20-75.82425999999998%2C%201.0%5D%2C%20%5B37.32886%2C%20-77.6635%2C%201.0%5D%2C%20%5B39.98953%2C%20-102.7833%2C%200.0%5D%2C%20%5B42.95041%2C%20-92.13515%2C%200.0%5D%2C%20%5B33.28498%2C%20-91.33441%2C%201.0%5D%2C%20%5B34.437909999999995%2C%20-100.1667%2C%201.0%5D%2C%20%5B32.83425%2C%20-86.66908000000002%2C%200.0%5D%2C%20%5B45.031635%2C%20-91.38881%2C%201.0%5D%2C%20%5B45.5133%2C%20-92.95488%2C%200.0%5D%2C%20%5B44.45135500000001%2C%20-73.0623%2C%200.0%5D%2C%20%5B33.427640000000004%2C%20-89.29615%2C%200.0%5D%2C%20%5B47.62638%2C%20-110.5966%2C%201.0%5D%2C%20%5B36.08957%2C%20-76.62979%2C%201.0%5D%2C%20%5B37.0763%2C%20-89.14437%2C%201.0%5D%2C%20%5B39.47356%2C%20-118.7823%2C%201.0%5D%2C%20%5B35.07512%2C%20-107.6558%2C%201.0%5D%2C%20%5B36.78875%2C%20-102.4939%2C%200.0%5D%2C%20%5B28.85526%2C%20-82.366905%2C%200.0%5D%2C%20%5B45.342780000000005%2C%20-122.57169999999999%2C%201.0%5D%2C%20%5B32.08194%2C%20-90.76183%2C%201.0%5D%2C%20%5B32.834950000000006%2C%20-93.02924999999999%2C%201.0%5D%2C%20%5B48.08058%2C%20-124.0781%2C%200.0%5D%2C%20%5B43.910585%2C%20-84.77844999999999%2C%201.0%5D%2C%20%5B33.715095000000005%2C%20-80.20064500000001%2C%201.0%5D%2C%20%5B41.17526%2C%20-79.44878000000001%2C%201.0%5D%2C%20%5B38.349509999999995%2C%20-93.13439%2C%200.0%5D%2C%20%5B32.13404%2C%20-88.67954%2C%201.0%5D%2C%20%5B46.01339%2C%20-123.756%2C%201.0%5D%2C%20%5B39.17089%2C%20-94.27445%2C%201.0%5D%2C%20%5B42.73104%2C%20-91.18626%2C%200.0%5D%2C%20%5B39.74247%2C%20-105.5991%2C%201.0%5D%2C%20%5B40.995540000000005%2C%20-78.53761999999999%2C%201.0%5D%2C%20%5B46.8154%2C%20-115.2574%2C%201.0%5D%2C%20%5B33.6597%2C%20-85.56052%2C%201.0%5D%2C%20%5B39.08583%2C%20-84.1916%2C%200.0%5D%2C%20%5B35.27092000000001%2C%20-92.29362%2C%201.0%5D%2C%20%5B31.024440000000006%2C%20-82.71552%2C%200.0%5D%2C%20%5B41.09232%2C%20-86.39437%2C%201.0%5D%2C%20%5B39.49611%2C%20-97.64793%2C%200.0%5D%2C%20%5B34.19393%2C%20-90.54464%2C%200.0%5D%2C%20%5B34.5931%2C%20-96.31113%2C%201.0%5D%2C%20%5B33.93554%2C%20-84.55049%2C%200.0%5D%2C%20%5B31.905050000000003%2C%20-109.8792%2C%200.0%5D%2C%20%5B35.90728%2C%20-83.16111%2C%201.0%5D%2C%20%5B35.2312%2C%20-111.6484%2C%201.0%5D%2C%20%5B44.94264%2C%20-97.08302%2C%201.0%5D%2C%20%5B31.57474%2C%20-85.98810999999998%2C%200.0%5D%2C%20%5B38.21345%2C%20-95.726205%2C%200.0%5D%2C%20%5B31.892485%2C%20-100.43205%2C%201.0%5D%2C%20%5B34.712185000000005%2C%20-87.75407%2C%201.0%5D%2C%20%5B38.54075%2C%20-92.24041%2C%201.0%5D%2C%20%5B31.79808%2C%20-99.42184%2C%201.0%5D%2C%20%5B39.507270000000005%2C%20-88.26648%2C%200.0%5D%2C%20%5B41.525%2C%20-97.17075%2C%200.0%5D%2C%20%5B32.93013%2C%20-80.71249%2C%201.0%5D%2C%20%5B26.16005%2C%20-81.47944%2C%200.0%5D%2C%20%5B33.12383%2C%20-96.70101%2C%200.0%5D%2C%20%5B34.95346%2C%20-100.2278%2C%201.0%5D%2C%20%5B37.2583%2C%20-77.39838%2C%201.0%5D%2C%20%5B29.693255%2C%20-96.53984%2C%201.0%5D%2C%20%5B31.17725%2C%20-83.761045%2C%200.0%5D%2C%20%5B42.096940000000004%2C%20-82.63049499999997%2C%201.0%5D%2C%20%5B40.774935%2C%20-80.74019000000001%2C%200.0%5D%2C%20%5B34.30706%2C%20-78.71401999999998%2C%200.0%5D%2C%20%5B39.15667%2C%20-122.1544%2C%201.0%5D%2C%20%5B29.74345%2C%20-98.17242%2C%200.0%5D%2C%20%5B34.6085%2C%20-98.48333%2C%201.0%5D%2C%20%5B31.343840000000004%2C%20-99.86298%2C%200.0%5D%2C%20%5B31.530965000000002%2C%20-91.62049999999999%2C%200.0%5D%2C%20%5B31.41835%2C%20-86.98634999999999%2C%201.0%5D%2C%20%5B37.220815%2C%20-106.02115%2C%201.0%5D%2C%20%5B37.95402%2C%20-122.05345%2C%200.0%5D%2C%20%5B42.778485%2C%20-105.4262%2C%201.0%5D%2C%20%5B35.266675%2C%20-92.680245%2C%200.0%5D%2C%20%5B41.87142%2C%20-87.762145%2C%201.0%5D%2C%20%5B33.615269999999995%2C%20-97.16615%2C%201.0%5D%2C%20%5B38.84931%2C%20-92.85139%2C%200.0%5D%2C%20%5B43.43783%2C%20-123.892%2C%201.0%5D%2C%20%5B32.98922%2C%20-86.222845%2C%201.0%5D%2C%20%5B31.855405%2C%20-90.40322499999999%2C%200.0%5D%2C%20%5B45.75539%2C%20-101.27275%2C%201.0%5D%2C%20%5B42.60021%2C%20-76.10167%2C%201.0%5D%2C%20%5B31.399605%2C%20-97.78628%2C%200.0%5D%2C%20%5B40.30483%2C%20-81.88361%2C%201.0%5D%2C%20%5B37.18309%2C%20-105.4164%2C%201.0%5D%2C%20%5B34.047675%2C%20-100.24435%2C%201.0%5D%2C%20%5B34.27528%2C%20-98.3885%2C%201.0%5D%2C%20%5B44.05051%2C%20-95.19727%2C%200.0%5D%2C%20%5B31.38884%2C%20-86.54638%2C%200.0%5D%2C%20%5B37.772535000000005%2C%20-79.99196999999998%2C%201.0%5D%2C%20%5B33.34806%2C%20-84.759%2C%200.0%5D%2C%20%5B37.24414%2C%20-96.95188%2C%201.0%5D%2C%20%5B46.180319999999995%2C%20-122.89500000000001%2C%201.0%5D%2C%20%5B36.75155%2C%20-95.131025%2C%201.0%5D%2C%20%5B35.83524%2C%20-90.62469%2C%200.0%5D%2C%20%5B31.327975000000002%2C%20-102.34845%2C%201.0%5D%2C%20%5B35.15165%2C%20-77.11978%2C%201.0%5D%2C%20%5B39.01838%2C%20-91.22376%2C%201.0%5D%2C%20%5B35.94444%2C%20-96.35941%2C%201.0%5D%2C%20%5B31.718975%2C%20-86.29772%2C%201.0%5D%2C%20%5B31.934545%2C%20-83.75654%2C%200.0%5D%2C%20%5B35.256195%2C%20-90.229915%2C%201.0%5D%2C%20%5B35.69937%2C%20-89.33219%2C%201.0%5D%2C%20%5B44.326175%2C%20-104.6875%2C%201.0%5D%2C%20%5B33.6661%2C%20-101.24705%2C%201.0%5D%2C%20%5B35.26028%2C%20-90.80193%2C%201.0%5D%2C%20%5B46.366935%2C%20-94.12992%2C%201.0%5D%2C%20%5B38.21605%2C%20-103.82735%2C%201.0%5D%2C%20%5B31.052775%2C%20-104.7111%2C%201.0%5D%2C%20%5B34.17167%2C%20-86.84283%2C%201.0%5D%2C%20%5B38.48079%2C%20-77.97896%2C%201.0%5D%2C%20%5B39.36175%2C%20-77.54285499999999%2C%201.0%5D%2C%20%5B41.9165%2C%20-96.8017%2C%201.0%5D%2C%20%5B36.459985%2C%20-76.07566999999999%2C%201.0%5D%2C%20%5B42.44536%2C%20-124.2936%2C%201.0%5D%2C%20%5B41.2387%2C%20-99.4674%2C%200.0%5D%2C%20%5B41.438435%2C%20-81.677855%2C%201.0%5D%2C%20%5B37.35201%2C%20-93.75906%2C%201.0%5D%2C%20%5B40.90942%2C%20-109.7292%2C%200.0%5D%2C%20%5B44.66151%2C%20-93.16681%2C%201.0%5D%2C%20%5B31.43795%2C%20-85.61153000000002%2C%201.0%5D%2C%20%5B36.283125%2C%20-102.82845%2C%200.0%5D%2C%20%5B32.819320000000005%2C%20-96.775565%2C%201.0%5D%2C%20%5B43.05908%2C%20-89.3702%2C%201.0%5D%2C%20%5B48.80951%2C%20-105.4535%2C%201.0%5D%2C%20%5B36.58407%2C%20-79.40314000000002%2C%200.0%5D%2C%20%5B35.788664999999995%2C%20-75.73138%2C%201.0%5D%2C%20%5B40.15245%2C%20-84.60854%2C%200.0%5D%2C%20%5B34.291740000000004%2C%20-79.9795%2C%201.0%5D%2C%20%5B40.306825%2C%20-76.798585%2C%201.0%5D%2C%20%5B36.121674999999996%2C%20-86.731565%2C%201.0%5D%2C%20%5B35.949655%2C%20-80.54168%2C%201.0%5D%2C%20%5B38.6627%2C%20-87.13557%2C%201.0%5D%2C%20%5B40.789159999999995%2C%20-92.48295999999999%2C%201.0%5D%2C%20%5B43.66824%2C%20-98.08637%2C%201.0%5D%2C%20%5B42.7532%2C%20-103.2567%2C%200.0%5D%2C%20%5B40.87625%2C%20-99.94665%2C%201.0%5D%2C%20%5B45.5006%2C%20-97.85748%2C%201.0%5D%2C%20%5B34.44687999999999%2C%20-104.16665%2C%201.0%5D%2C%20%5B32.04491%2C%20-93.70775%2C%201.0%5D%2C%20%5B40.18985%2C%20-88.952865%2C%200.0%5D%2C%20%5B35.958175%2C%20-85.81335999999999%2C%201.0%5D%2C%20%5B34.86907%2C%20-89.92539000000002%2C%200.0%5D%2C%20%5B29.08721%2C%20-97.34034%2C%201.0%5D%2C%20%5B34.833285000000004%2C%20-102.40495%2C%200.5%5D%2C%20%5B39.16653%2C%20-84.95714%2C%201.0%5D%2C%20%5B39.43279%2C%20-88.18097%2C%201.0%5D%2C%20%5B46.13311%2C%20-112.83625%2C%201.0%5D%2C%20%5B41.31966%2C%20-84.53623%2C%200.0%5D%2C%20%5B41.80378%2C%20-124.0326%2C%200.0%5D%2C%20%5B40.28461%2C%20-82.88653000000002%2C%201.0%5D%2C%20%5B38.772765%2C%20-95.68690000000001%2C%201.0%5D%2C%20%5B63.78028000000001%2C%20-148.933%2C%201.0%5D%2C%20%5B37.63707%2C%20-91.5535%2C%201.0%5D%2C%20%5B33.12249%2C%20-97.10768%2C%200.0%5D%2C%20%5B39.74154%2C%20-104.9676%2C%201.0%5D%2C%20%5B40.86663%2C%20-91.17008%2C%201.0%5D%2C%20%5B44.064475%2C%20-121.3072%2C%200.0%5D%2C%20%5B33.807845%2C%20-91.38387%2C%200.0%5D%2C%20%5B41.1185%2C%20-102.0722%2C%201.0%5D%2C%20%5B36.09639%2C%20-99.13333%2C%200.0%5D%2C%20%5B33.6111%2C%20-100.8156%2C%200.0%5D%2C%20%5B37.140875%2C%20-82.35835999999999%2C%201.0%5D%2C%20%5B46.10195%2C%20-98.42811%2C%200.0%5D%2C%20%5B38.92889%2C%20-97.08974%2C%201.0%5D%2C%20%5B36.117175%2C%20-87.35627%2C%200.0%5D%2C%20%5B59.76876%2C%20-154.1246%2C%201.0%5D%2C%20%5B34.38828%2C%20-79.37289%2C%201.0%5D%2C%20%5B28.517834999999998%2C%20-99.757155%2C%200.0%5D%2C%20%5B37.082705000000004%2C%20-77.58080000000001%2C%201.0%5D%2C%20%5B38.89227%2C%20-77.0123%2C%201.0%5D%2C%20%5B48.9233%2C%20-103.1144%2C%201.0%5D%2C%20%5B29.67695%2C%20-83.26288000000002%2C%201.0%5D%2C%20%5B42.4567%2C%20-96.8641%2C%201.0%5D%2C%20%5B32.34979000000001%2C%20-106.7596%2C%201.0%5D%2C%20%5B39.28348%2C%20-80.676705%2C%201.0%5D%2C%20%5B43.238789999999995%2C%20-92.837615%2C%200.0%5D%2C%20%5B37.71866%2C%20-108.5062%2C%201.0%5D%2C%20%5B39.78667%2C%20-95.18833%2C%201.0%5D%2C%20%5B34.932294999999996%2C%20-100.76724999999999%2C%201.0%5D%2C%20%5B32.16378%2C%20-83.79654000000002%2C%200.0%5D%2C%20%5B44.81833%2C%20-87.38120999999998%2C%200.0%5D%2C%20%5B33.150525%2C%20-80.38376%2C%201.0%5D%2C%20%5B31.57292%2C%20-84.14099%2C%200.0%5D%2C%20%5B41.26262%2C%20-96.12899999999999%2C%200.0%5D%2C%20%5B33.616389999999996%2C%20-91.79743500000001%2C%200.0%5D%2C%20%5B41.852705%2C%20-88.03607%2C%201.0%5D%2C%20%5B38.347245%2C%20-86.87364500000001%2C%200.0%5D%2C%20%5B42.47332%2C%20-90.840555%2C%201.0%5D%2C%20%5B40.26872%2C%20-110.42314999999999%2C%201.0%5D%2C%20%5B41.41612%2C%20-70.55653000000002%2C%200.0%5D%2C%20%5B40.0417%2C%20-101.545%2C%200.0%5D%2C%20%5B36.23638%2C%20-90.06427%2C%201.0%5D%2C%20%5B44.98883%2C%20-92.01407%2C%201.0%5D%2C%20%5B34.94085%2C%20-77.96495999999998%2C%201.0%5D%2C%20%5B35.99104000000001%2C%20-78.8971%2C%201.0%5D%2C%20%5B41.70834%2C%20-73.79431%2C%201.0%5D%2C%20%5B30.30917%2C%20-81.66306%2C%200.0%5D%2C%20%5B36.06836%2C%20-89.34439500000002%2C%201.0%5D%2C%20%5B39.641225%2C%20-106.58105%2C%201.0%5D%2C%20%5B31.33266%2C%20-84.92226%2C%200.0%5D%2C%20%5B30.45806%2C%20-91.11856%2C%201.0%5D%2C%20%5B32.68879%2C%20-91.2689%2C%201.0%5D%2C%20%5B30.84717%2C%20-91.0592%2C%201.0%5D%2C%20%5B32.37551499999999%2C%20-98.79446%2C%201.0%5D%2C%20%5B42.61168%2C%20-84.79786999999997%2C%201.0%5D%2C%20%5B44.765690000000006%2C%20-91.41849500000001%2C%201.0%5D%2C%20%5B30.70372%2C%20-83.00393000000003%2C%200.0%5D%2C%20%5B31.84901%2C%20-102.3824%2C%201.0%5D%2C%20%5B32.58888%2C%20-104.2474%2C%200.0%5D%2C%20%5B39.70497%2C%20-87.7417%2C%200.0%5D%2C%20%5B35.89929%2C%20-77.64085%2C%201.0%5D%2C%20%5B33.799395000000004%2C%20-81.961845%2C%201.0%5D%2C%20%5B37.238745%2C%20-86.33694499999999%2C%201.0%5D%2C%20%5B45.453615%2C%20-98.83417%2C%201.0%5D%2C%20%5B38.0005%2C%20-99.08691%2C%200.0%5D%2C%20%5B39.04279%2C%20-88.50784%2C%200.0%5D%2C%20%5B38.73062%2C%20-120.7368%2C%200.0%5D%2C%20%5B31.926090000000002%2C%20-106.23904999999999%2C%201.0%5D%2C%20%5B34.24639%2C%20-83.06852999999998%2C%201.0%5D%2C%20%5B37.54424%2C%20-96.05398500000001%2C%201.0%5D%2C%20%5B41.62489000000001%2C%20-85.88737%2C%201.0%5D%2C%20%5B41.05784%2C%20-115.4283%2C%201.0%5D%2C%20%5B38.08833%2C%20-83.07875%2C%201.0%5D%2C%20%5B32.470675%2C%20-96.96224000000001%2C%200.0%5D%2C%20%5B38.72528%2C%20-98.24554%2C%201.0%5D%2C%20%5B32.64935%2C%20-86.33339000000002%2C%201.0%5D%2C%20%5B32.5722%2C%20-82.31268%2C%200.0%5D%2C%20%5B39.10199%2C%20-110.8707%2C%201.0%5D%2C%20%5B43.44495%2C%20-94.61995%2C%201.0%5D%2C%20%5B46.26%2C%20-100.2333%2C%200.0%5D%2C%20%5B36.70238%2C%20-77.53374000000002%2C%200.0%5D%2C%20%5B32.22218%2C%20-98.25002%2C%200.0%5D%2C%20%5B42.745740000000005%2C%20-78.832065%2C%201.0%5D%2C%20%5B30.96697%2C%20-87.27803%2C%201.0%5D%2C%20%5B37.875375%2C%20-117.2428%2C%200.5%5D%2C%20%5B42.57493%2C%20-73.73508500000001%2C%201.0%5D%2C%20%5B37.6925%2C%20-83.97583%2C%200.0%5D%2C%20%5B34.016785%2C%20-86.038735%2C%200.0%5D%2C%20%5B40.67936%2C%20-116.49015%2C%201.0%5D%2C%20%5B30.68175%2C%20-92.38326%2C%201.0%5D%2C%20%5B32.17281%2C%20-81.91331%2C%200.0%5D%2C%20%5B64.84747%2C%20-147.43385%2C%201.0%5D%2C%20%5B38.85396%2C%20-77.22062%2C%200.0%5D%2C%20%5B38.86149%2C%20-77.28632499999999%2C%201.0%5D%2C%20%5B41.121015%2C%20-73.47492%2C%201.0%5D%2C%20%5B43.32981%2C%20-103.4218%2C%201.0%5D%2C%20%5B46.40408%2C%20-104.3928%2C%200.0%5D%2C%20%5B38.8834%2C%20-77.17893000000002%2C%201.0%5D%2C%20%5B31.2574%2C%20-96.92816%2C%201.0%5D%2C%20%5B33.602959999999996%2C%20-96.07838000000001%2C%201.0%5D%2C%20%5B43.64219%2C%20-93.96811%2C%201.0%5D%2C%20%5B45.039895%2C%20-98.95638%2C%201.0%5D%2C%20%5B35.09904%2C%20-92.34499%2C%200.0%5D%2C%20%5B38.75513%2C%20-77.79573500000001%2C%201.0%5D%2C%20%5B38.83895%2C%20-88.75%2C%201.0%5D%2C%20%5B36.41073%2C%20-84.953575%2C%201.0%5D%2C%20%5B47.08294%2C%20-109.4019%2C%201.0%5D%2C%20%5B48.58064%2C%20-118.51570000000001%2C%201.0%5D%2C%20%5B43.56576%2C%20-92.30841%2C%201.0%5D%2C%20%5B38.01173%2C%20-100.8386%2C%200.0%5D%2C%20%5B32.740485%2C%20-100.40325%2C%201.0%5D%2C%20%5B29.48161%2C%20-81.25624%2C%200.0%5D%2C%20%5B48.32006%2C%20-114.2819%2C%201.0%5D%2C%20%5B38.38278%2C%20-83.68777%2C%201.0%5D%2C%20%5B34.058205%2C%20-79.76638%2C%201.0%5D%2C%20%5B37.59083%2C%20-85.25562%2C%201.0%5D%2C%20%5B37.85523%2C%20-78.25494%2C%201.0%5D%2C%20%5B33.982545%2C%20-99.683475%2C%201.0%5D%2C%20%5B43.75256%2C%20-88.46353%2C%200.0%5D%2C%20%5B37.82592%2C%20-99.69186%2C%200.0%5D%2C%20%5B45.56116%2C%20-88.63539%2C%201.0%5D%2C%20%5B31.304555%2C%20-89.280295%2C%200.0%5D%2C%20%5B36.08472%2C%20-80.28554%2C%201.0%5D%2C%20%5B29.579825%2C%20-95.71443%2C%200.0%5D%2C%20%5B47.45743%2C%20-98.86301%2C%200.0%5D%2C%20%5B40.12174%2C%20-87.23953%2C%201.0%5D%2C%20%5B39.733815%2C%20-84.88163000000002%2C%200.0%5D%2C%20%5B32.16437%2C%20-91.6913%2C%200.0%5D%2C%20%5B39.40285%2C%20-77.47211%2C%201.0%5D%2C%20%5B38.2961%2C%20-77.48397%2C%201.0%5D%2C%20%5B43.65892%2C%20-93.343255%2C%200.0%5D%2C%20%5B31.7391%2C%20-96.22175%2C%201.0%5D%2C%20%5B42.48682%2C%20-107.6963%2C%201.0%5D%2C%20%5B36.74856%2C%20-119.7542%2C%201.0%5D%2C%20%5B28.90452%2C%20-99.11203%2C%200.0%5D%2C%20%5B40.5619%2C%20-100.21424999999999%2C%200.0%5D%2C%20%5B36.477475%2C%20-84.42433499999999%2C%201.0%5D%2C%20%5B40.2385%2C%20-99.8389%2C%200.0%5D%2C%20%5B30.584115%2C%20-84.61197%2C%201.0%5D%2C%20%5B40.26235%2C%20-96.69%2C%201.0%5D%2C%20%5B36.66323%2C%20-80.91911%2C%201.0%5D%2C%20%5B45.44082%2C%20-111.02914999999999%2C%201.0%5D%2C%20%5B38.83981%2C%20-82.296795%2C%201.0%5D%2C%20%5B29.411295%2C%20-95.04030499999999%2C%200.0%5D%2C%20%5B41.3809%2C%20-102.27755%2C%200.0%5D%2C%20%5B36.50685%2C%20-97.98409%2C%201.0%5D%2C%20%5B34.51572%2C%20-93.08791%2C%201.0%5D%2C%20%5B37.60278%2C%20-84.49778%2C%201.0%5D%2C%20%5B39.603225%2C%20-79.344605%2C%201.0%5D%2C%20%5B34.7127%2C%20-97.32596%2C%201.0%5D%2C%20%5B33.16616%2C%20-101.3657%2C%201.0%5D%2C%20%5B38.38283%2C%20-91.51136%2C%201.0%5D%2C%20%5B35.2832%2C%20-81.18725%2C%201.0%5D%2C%20%5B36.44078%2C%20-76.69955%2C%201.0%5D%2C%20%5B38.99722%2C%20-96.76917%2C%201.0%5D%2C%20%5B41.4696%2C%20-81.24344%2C%200.0%5D%2C%20%5B43.883305%2C%20-116.503%2C%201.0%5D%2C%20%5B43.00317%2C%20-83.67710500000001%2C%201.0%5D%2C%20%5B31.092129999999997%2C%20-85.84553%2C%201.0%5D%2C%20%5B40.21289%2C%20-94.426%2C%200.0%5D%2C%20%5B30.86111%2C%20-88.63571%2C%200.0%5D%2C%20%5B33.470780000000005%2C%20-79.34169%2C%201.0%5D%2C%20%5B36.17336%2C%20-88.72485999999998%2C%201.0%5D%2C%20%5B33.688895%2C%20-110.9477%2C%200.0%5D%2C%20%5B29.750394999999997%2C%20-82.76545%2C%201.0%5D%2C%20%5B35.238735000000005%2C%20-86.96370499999999%2C%200.0%5D%2C%20%5B30.27108%2C%20-98.87493%2C%200.0%5D%2C%20%5B45.5316%2C%20-120.1963%2C%200.0%5D%2C%20%5B38.76321%2C%20-81.00158%2C%201.0%5D%2C%20%5B39.79927%2C%20-105.4893%2C%201.0%5D%2C%20%5B48.626509999999996%2C%20-113.0154%2C%201.0%5D%2C%20%5B26.93995%2C%20-81.12255%2C%200.0%5D%2C%20%5B43.94169%2C%20-84.45729%2C%201.0%5D%2C%20%5B33.235884999999996%2C%20-82.59840499999999%2C%200.0%5D%2C%20%5B32.004165%2C%20-101.3614%2C%200.0%5D%2C%20%5B39.5566%2C%20-122.1961%2C%201.0%5D%2C%20%5B39.76043%2C%20-75.151015%2C%201.0%5D%2C%20%5B31.19254%2C%20-81.53390999999998%2C%200.0%5D%2C%20%5B46.44607%2C%20-89.87870000000001%2C%201.0%5D%2C%20%5B46.91776%2C%20-103.9567%2C%201.0%5D%2C%20%5B28.699705%2C%20-97.40005%2C%200.5%5D%2C%20%5B29.53812%2C%20-97.44213500000001%2C%200.0%5D%2C%20%5B37.68394%2C%20-77.77242%2C%201.0%5D%2C%20%5B44.42681%2C%20-92.67107%2C%200.0%5D%2C%20%5B42.925555%2C%20-114.72535%2C%201.0%5D%2C%20%5B34.49474%2C%20-84.9162%2C%200.0%5D%2C%20%5B42.04588%2C%20-104.307%2C%201.0%5D%2C%20%5B40.5717%2C%20-99.845%2C%200.0%5D%2C%20%5B38.96979%2C%20-100.4481%2C%201.0%5D%2C%20%5B35.02812%2C%20-97.86436%2C%201.0%5D%2C%20%5B43.88632%2C%20-71.81059%2C%200.0%5D%2C%20%5B35.307865%2C%20-100.05850000000001%2C%201.0%5D%2C%20%5B36.29128%2C%20-83.55225%2C%201.0%5D%2C%20%5B38.98819%2C%20-109.2977%2C%201.0%5D%2C%20%5B47.94044500000001%2C%20-97.248885%2C%200.0%5D%2C%20%5B44.935045%2C%20-73.27234%2C%200.5%5D%2C%20%5B44.7154%2C%20-85.6144%2C%201.0%5D%2C%20%5B46.48769%2C%20-113.3414%2C%201.0%5D%2C%20%5B40.589119999999994%2C%20-97.11155500000001%2C%201.0%5D%2C%20%5B31.64605%2C%20-92.52194%2C%201.0%5D%2C%20%5B36.296525%2C%20-78.65877%2C%201.0%5D%2C%20%5B43.295460000000006%2C%20-84.60209%2C%201.0%5D%2C%20%5B36.73694%2C%20-88.63722%2C%201.0%5D%2C%20%5B35.55002%2C%20-100.6095%2C%201.0%5D%2C%20%5B47.03236%2C%20-123.6446%2C%200.0%5D%2C%20%5B33.70602%2C%20-96.54927%2C%201.0%5D%2C%20%5B41.4661%2C%20-98.6117%2C%201.0%5D%2C%20%5B42.608914999999996%2C%20-89.572125%2C%200.0%5D%2C%20%5B43.736450000000005%2C%20-88.99923000000001%2C%200.0%5D%2C%20%5B37.85746%2C%20-80.44325500000002%2C%201.0%5D%2C%20%5B37.42057%2C%20-86.97015999999998%2C%201.0%5D%2C%20%5B32.95378%2C%20-109.1976%2C%201.0%5D%2C%20%5B36.67284%2C%20-77.55729500000001%2C%201.0%5D%2C%20%5B38.53333%2C%20-82.92860999999998%2C%200.0%5D%2C%20%5B34.849940000000004%2C%20-82.35768999999998%2C%200.0%5D%2C%20%5B37.66839%2C%20-96.044%2C%201.0%5D%2C%20%5B34.9302%2C%20-99.51073%2C%201.0%5D%2C%20%5B32.456410000000005%2C%20-94.79311%2C%201.0%5D%2C%20%5B43.14022%2C%20-99.23746%2C%201.0%5D%2C%20%5B33.777159999999995%2C%20-89.806%2C%200.0%5D%2C%20%5B47.376485%2C%20-98.120305%2C%200.0%5D%2C%20%5B30.5159%2C%20-96.00407%2C%201.0%5D%2C%20%5B41.25945%2C%20-92.64715%2C%200.0%5D%2C%20%5B29.61956%2C%20-98.00586%2C%200.0%5D%2C%20%5B40.0181%2C%20-81.53315%2C%201.0%5D%2C%20%5B36.065695000000005%2C%20-79.81977499999999%2C%201.0%5D%2C%20%5B29.90939%2C%20-85.2838%2C%201.0%5D%2C%20%5B38.72705%2C%20-106.9884%2C%201.0%5D%2C%20%5B41.67484%2C%20-94.54137%2C%201.0%5D%2C%20%5B33.959185000000005%2C%20-84.04234500000001%2C%200.0%5D%2C%20%5B44.12643%2C%20-101.4871%2C%201.0%5D%2C%20%5B34.588750000000005%2C%20-83.53999999999999%2C%201.0%5D%2C%20%5B58.847045%2C%20-135.44780000000003%2C%200.0%5D%2C%20%5B32.813500000000005%2C%20-87.65361%2C%200.0%5D%2C%20%5B36.560045%2C%20-78.726835%2C%201.0%5D%2C%20%5B40.700599999999994%2C%20-98.42605%2C%200.0%5D%2C%20%5B36.19745%2C%20-83.25829%2C%201.0%5D%2C%20%5B39.18610000000001%2C%20-85.30094500000001%2C%200.0%5D%2C%20%5B44.6542%2C%20-96.98633%2C%201.0%5D%2C%20%5B42.154889999999995%2C%20-72.605715%2C%201.0%5D%2C%20%5B42.28879000000001%2C%20-72.74641%2C%201.0%5D%2C%20%5B32.79854%2C%20-81.05696999999998%2C%201.0%5D%2C%20%5B37.03878%2C%20-76.37415%2C%201.0%5D%2C%20%5B40.49537%2C%20-85.76453000000002%2C%200.0%5D%2C%20%5B44.59724%2C%20-98.92767%2C%201.0%5D%2C%20%5B37.74278%2C%20-77.45541999999998%2C%201.0%5D%2C%20%5B36.25947%2C%20-101.39025000000001%2C%201.0%5D%2C%20%5B43.66613%2C%20-97.83457%2C%201.0%5D%2C%20%5B33.776844999999994%2C%20-85.21244000000002%2C%200.0%5D%2C%20%5B27.504435%2C%20-81.80302%2C%200.0%5D%2C%20%5B35.13487500000001%2C%20-89.010055%2C%201.0%5D%2C%20%5B37.7425%2C%20-88.17806%2C%201.0%5D%2C%20%5B45.54876%2C%20-103.5487%2C%200.5%5D%2C%20%5B39.05527%2C%20-78.84153%2C%201.0%5D%2C%20%5B39.548895%2C%20-76.330405%2C%201.0%5D%2C%20%5B36.90889%2C%20-83.32555%2C%201.0%5D%2C%20%5B34.68248%2C%20-99.857575%2C%200.0%5D%2C%20%5B35.34784000000001%2C%20-78.7674%2C%200.0%5D%2C%20%5B43.57268%2C%20-118.9581%2C%200.0%5D%2C%20%5B37.15333%2C%20-98.15908%2C%201.0%5D%2C%20%5B29.794224999999997%2C%20-95.386985%2C%200.0%5D%2C%20%5B39.18803%2C%20-89.21806%2C%201.0%5D%2C%20%5B38.4371%2C%20-78.87013%2C%201.0%5D%2C%20%5B34.444190000000006%2C%20-83.066015%2C%200.0%5D%2C%20%5B41.75676%2C%20-72.70052%2C%201.0%5D%2C%20%5B35.72224%2C%20-102.3412%2C%201.0%5D%2C%20%5B38.04747%2C%20-97.38528%2C%200.0%5D%2C%20%5B35.17422%2C%20-95.26511%2C%201.0%5D%2C%20%5B20.05106%2C%20-155.481%2C%201.0%5D%2C%20%5B36.41872%2C%20-82.97898%2C%201.0%5D%2C%20%5B40.4117%2C%20-101.1033%2C%200.0%5D%2C%20%5B30.003205%2C%20-97.898075%2C%200.0%5D%2C%20%5B35.548275000000004%2C%20-86.41712999999999%2C%201.0%5D%2C%20%5B33.31086%2C%20-85.13398000000002%2C%201.0%5D%2C%20%5B35.724270000000004%2C%20-100.35785%2C%201.0%5D%2C%20%5B33.71444%2C%20-93.64328%2C%200.0%5D%2C%20%5B35.59905999999999%2C%20-88.33722%2C%201.0%5D%2C%20%5B39.74939000000001%2C%20-86.45888000000002%2C%201.0%5D%2C%20%5B26.744740000000004%2C%20-81.22504%2C%200.0%5D%2C%20%5B44.96696%2C%20-93.33375%2C%201.0%5D%2C%20%5B37.595839999999995%2C%20-77.44931999999999%2C%201.0%5D%2C%20%5B38.57417%2C%20-88.075305%2C%201.0%5D%2C%20%5B43.06454%2C%20-74.99356999999998%2C%201.0%5D%2C%20%5B28.53645%2C%20-82.47879%2C%200.0%5D%2C%20%5B36.32966%2C%20-77.02504%2C%201.0%5D%2C%20%5B46.435105%2C%20-102.46719999999999%2C%201.0%5D%2C%20%5B35.87825%2C%20-87.53845%2C%201.0%5D%2C%20%5B37.94609%2C%20-93.32976%2C%201.0%5D%2C%20%5B26.23437%2C%20-98.1724%2C%200.0%5D%2C%20%5B39.15981%2C%20-83.544405%2C%200.0%5D%2C%20%5B27.38036%2C%20-81.39553000000002%2C%200.0%5D%2C%20%5B32.00425%2C%20-97.12038%2C%201.0%5D%2C%20%5B28.01599%2C%20-82.35118%2C%200.0%5D%2C%20%5B41.82807%2C%20-84.57994000000002%2C%201.0%5D%2C%20%5B32.30139%2C%20-90.287475%2C%201.0%5D%2C%20%5B37.91947%2C%20-107.2593%2C%201.0%5D%2C%20%5B40.1758%2C%20-100.9917%2C%200.0%5D%2C%20%5B39.50198%2C%20-82.43245%2C%200.0%5D%2C%20%5B33.80055%2C%20-102.1566%2C%201.0%5D%2C%20%5B38.10228%2C%20-99.82388%2C%201.0%5D%2C%20%5B35.06573%2C%20-79.23549%2C%201.0%5D%2C%20%5B33.145070000000004%2C%20-85.83649500000001%2C%201.0%5D%2C%20%5B42.2046%2C%20-98.4261%2C%200.0%5D%2C%20%5B21.37195%2C%20-157.8942%2C%201.0%5D%2C%20%5B32.44042%2C%20-97.79022%2C%200.0%5D%2C%20%5B45.65253%2C%20-121.5838%2C%201.0%5D%2C%20%5B42.0625%2C%20-100.99845%2C%200.0%5D%2C%20%5B57.959464999999994%2C%20-135.4581%2C%200.0%5D%2C%20%5B37.26804%2C%20-77.322665%2C%201.0%5D%2C%20%5B33.323655%2C%20-95.318525%2C%201.0%5D%2C%20%5B33.915465%2C%20-78.99530999999999%2C%200.0%5D%2C%20%5B34.355740000000004%2C%20-92.87972%2C%201.0%5D%2C%20%5B43.71938%2C%20-108.21515%2C%201.0%5D%2C%20%5B47.0067%2C%20-88.59631%2C%200.0%5D%2C%20%5B31.526285%2C%20-87.67802499999999%2C%200.0%5D%2C%20%5B39.296315%2C%20-92.42563%2C%201.0%5D%2C%20%5B36.740925000000004%2C%20-91.87390500000001%2C%201.0%5D%2C%20%5B47.001729999999995%2C%20-94.93361%2C%200.0%5D%2C%20%5B40.747355%2C%20-74.071045%2C%201.0%5D%2C%20%5B31.177410000000002%2C%20-105.5038%2C%201.0%5D%2C%20%5B37.65058%2C%20-104.829%2C%201.0%5D%2C%20%5B35.11594%2C%20-96.31795%2C%201.0%5D%2C%20%5B40.86263%2C%20-123.8405%2C%201.0%5D%2C%20%5B36.00098%2C%20-87.82875%2C%201.0%5D%2C%20%5B33.12982%2C%20-96.12576%2C%200.0%5D%2C%20%5B40.58635%2C%20-74.90047%2C%201.0%5D%2C%20%5B40.42054%2C%20-77.96142%2C%200.5%5D%2C%20%5B40.852835000000006%2C%20-85.492185%2C%201.0%5D%2C%20%5B41.22878%2C%20-82.72093000000002%2C%201.0%5D%2C%20%5B43.261205000000004%2C%20-97.976205%2C%201.0%5D%2C%20%5B35.50875999999999%2C%20-76.25352%2C%201.0%5D%2C%20%5B29.97404%2C%20-91.8368%2C%201.0%5D%2C%20%5B30.31333%2C%20-91.3312%2C%201.0%5D%2C%20%5B42.399315%2C%20-95.47854000000001%2C%201.0%5D%2C%20%5B45.82705%2C%20-115.7916%2C%201.0%5D%2C%20%5B32.8763%2C%20-115.5948%2C%200.0%5D%2C%20%5B35.76743%2C%20-91.58539%2C%200.0%5D%2C%20%5B27.6482%2C%20-80.46297%2C%200.0%5D%2C%20%5B40.61546500000001%2C%20-79.13481999999999%2C%201.0%5D%2C%20%5B42.68109%2C%20-84.49452499999998%2C%201.0%5D%2C%20%5B37.12898%2C%20-118.2773%2C%200.0%5D%2C%20%5B42.923235%2C%20-85.00073499999999%2C%201.0%5D%2C%20%5B44.27705%2C%20-83.69179000000001%2C%201.0%5D%2C%20%5B41.83906%2C%20-91.86625%2C%200.0%5D%2C%20%5B35.81649%2C%20-80.85933%2C%201.0%5D%2C%20%5B31.264815%2C%20-100.9427%2C%201.0%5D%2C%20%5B37.69592%2C%20-90.63793%2C%201.0%5D%2C%20%5B40.73444%2C%20-87.88078%2C%201.0%5D%2C%20%5B31.59496%2C%20-83.24497%2C%200.0%5D%2C%20%5B43.626325%2C%20-84.754075%2C%201.0%5D%2C%20%5B45.58545%2C%20-93.30222%2C%200.0%5D%2C%20%5B48.15936%2C%20-122.6078%2C%201.0%5D%2C%20%5B36.8684%2C%20-76.78108%2C%201.0%5D%2C%20%5B32.72155%2C%20-90.95306%2C%201.0%5D%2C%20%5B47.403525%2C%20-93.497105%2C%200.5%5D%2C%20%5B34.256905%2C%20-88.36603999999997%2C%200.0%5D%2C%20%5B36.119204999999994%2C%20-91.89948000000001%2C%201.0%5D%2C%20%5B33.2294%2C%20-98.19585%2C%201.0%5D%2C%20%5B38.940585%2C%20-90.801925%2C%201.0%5D%2C%20%5B32.2987%2C%20-92.6152%2C%201.0%5D%2C%20%5B37.27779000000001%2C%20-76.751915%2C%201.0%5D%2C%20%5B37.23544%2C%20-92.96616%2C%201.0%5D%2C%20%5B40.42793%2C%20-84.99651999999998%2C%200.0%5D%2C%20%5B30.74842%2C%20-103.8924%2C%200.0%5D%2C%20%5B38.25528%2C%20-88.88973%2C%201.0%5D%2C%20%5B31.58417%2C%20-89.854675%2C%200.0%5D%2C%20%5B30.247495%2C%20-92.81655%2C%201.0%5D%2C%20%5B29.97875%2C%20-90.161915%2C%200.0%5D%2C%20%5B32.80363%2C%20-81.94129000000002%2C%200.0%5D%2C%20%5B39.005075%2C%20-85.6554%2C%201.0%5D%2C%20%5B44.072469999999996%2C%20-98.56489%2C%201.0%5D%2C%20%5B42.685745000000004%2C%20-114.38765000000001%2C%201.0%5D%2C%20%5B39.08341%2C%20-90.31297%2C%200.0%5D%2C%20%5B37.87222%2C%20-84.57291500000001%2C%201.0%5D%2C%20%5B39.76286%2C%20-98.22622%2C%200.0%5D%2C%20%5B27.15665%2C%20-98.78358%2C%200.0%5D%2C%20%5B27.75568%2C%20-98.08652%2C%200.0%5D%2C%20%5B42.372069999999994%2C%20-90.161565%2C%200.5%5D%2C%20%5B38.86909%2C%20-94.02897%2C%200.0%5D%2C%20%5B35.40896500000001%2C%20-78.503765%2C%201.0%5D%2C%20%5B32.81465%2C%20-90.914265%2C%201.0%5D%2C%20%5B42.36292%2C%20-123.4448%2C%201.0%5D%2C%20%5B39.623725%2C%20-111.89935%2C%201.0%5D%2C%20%5B47.02795%2C%20-110.2837%2C%200.0%5D%2C%20%5B58.3574%2C%20-134.5236%2C%201.0%5D%2C%20%5B43.85792%2C%20-90.16298%2C%201.0%5D%2C%20%5B40.584115%2C%20-77.349145%2C%201.0%5D%2C%20%5B42.27556%2C%20-85.57333%2C%201.0%5D%2C%20%5B44.641149999999996%2C%20-85.131025%2C%200.0%5D%2C%20%5B45.87393%2C%20-93.31273999999999%2C%200.0%5D%2C%20%5B38.358285%2C%20-81.58090999999999%2C%201.0%5D%2C%20%5B45.054585%2C%20-95.00775%2C%200.0%5D%2C%20%5B41.8731%2C%20-88.39%2C%200.0%5D%2C%20%5B41.134665%2C%20-87.87024%2C%201.0%5D%2C%20%5B28.88678%2C%20-97.84830500000001%2C%201.0%5D%2C%20%5B22.01544%2C%20-159.4425%2C%201.0%5D%2C%20%5B32.67196%2C%20-96.3143%2C%201.0%5D%2C%20%5B36.79654%2C%20-97.24676500000001%2C%201.0%5D%2C%20%5B40.5266%2C%20-98.92455%2C%200.0%5D%2C%20%5B37.972745%2C%20-101.26769999999999%2C%201.0%5D%2C%20%5B41.1094%2C%20-101.6918%2C%200.0%5D%2C%20%5B32.74975%2C%20-88.66537%2C%200.0%5D%2C%20%5B60.17861%2C%20-149.6808%2C%201.0%5D%2C%20%5B41.4834%2C%20-88.57385%2C%200.0%5D%2C%20%5B27.03714%2C%20-97.79043%2C%200.0%5D%2C%20%5B44.36779%2C%20-69.77216%2C%201.0%5D%2C%20%5B42.58245%2C%20-87.95196999999997%2C%200.0%5D%2C%20%5B42.84863%2C%20-85.5195%2C%201.0%5D%2C%20%5B39.02639%2C%20-84.53445%2C%201.0%5D%2C%20%5B41.36329%2C%20-92.19392%2C%201.0%5D%2C%20%5B35.36741000000001%2C%20-119.0209%2C%200.0%5D%2C%20%5B30.065640000000002%2C%20-99.15336%2C%200.0%5D%2C%20%5B34.247395%2C%20-80.602575%2C%200.0%5D%2C%20%5B55.394400000000005%2C%20-131.6375%2C%201.0%5D%2C%20%5B44.54514%2C%20-87.64206999999998%2C%200.0%5D%2C%20%5B47.39091%2C%20-88.270875%2C%200.5%5D%2C%20%5B42.822%2C%20-99.6119%2C%201.0%5D%2C%20%5B46.87667%2C%20-99.69333499999999%2C%201.0%5D%2C%20%5B41.2214%2C%20-103.6636%2C%200.0%5D%2C%20%5B30.48581%2C%20-99.76941500000001%2C%200.0%5D%2C%20%5B47.54358%2C%20-122.18745%2C%201.0%5D%2C%20%5B38.29697%2C%20-77.11417%2C%201.0%5D%2C%20%5B37.714865%2C%20-77.115455%2C%201.0%5D%2C%20%5B37.742375%2C%20-76.92735000000002%2C%201.0%5D%2C%20%5B35.884245%2C%20-97.92533499999999%2C%201.0%5D%2C%20%5B37.573235%2C%20-98.09973500000001%2C%201.0%5D%2C%20%5B36.42105%2C%20-119.5378%2C%201.0%5D%2C%20%5B44.37219%2C%20-97.70119%2C%201.0%5D%2C%20%5B29.270245000000003%2C%20-100.45335%2C%201.0%5D%2C%20%5B34.98949%2C%20-99.03412%2C%200.0%5D%2C%20%5B39.29444%2C%20-102.5768%2C%201.0%5D%2C%20%5B47.60969%2C%20-122.67195%2C%200.0%5D%2C%20%5B47.10317%2C%20-120.6993%2C%201.0%5D%2C%20%5B48.766805%2C%20-96.91074499999999%2C%200.0%5D%2C%20%5B42.22982%2C%20-121.6866%2C%200.0%5D%2C%20%5B27.494979999999998%2C%20-97.8409%2C%201.0%5D%2C%20%5B45.824195%2C%20-120.92625%2C%201.0%5D%2C%20%5B37.33805%2C%20-82.91972%2C%201.0%5D%2C%20%5B40.02548%2C%20-87.28801%2C%201.0%5D%2C%20%5B57.652359999999994%2C%20-152.49464999999998%2C%201.0%5D%2C%20%5B48.36846%2C%20-93.55129%2C%200.0%5D%2C%20%5B47.66169%2C%20-116.7514%2C%201.0%5D%2C%20%5B41.26036%2C%20-85.85243%2C%201.0%5D%2C%20%5B43.180944999999994%2C%20-94.2167%2C%201.0%5D%2C%20%5B61.87317%2C%20-162.0432%2C%200.0%5D%2C%20%5B43.87682%2C%20-91.14088%2C%201.0%5D%2C%20%5B33.6627%2C%20-113.8706%2C%200.0%5D%2C%20%5B37.23401%2C%20-107.7947%2C%200.0%5D%2C%20%5B28.395905000000003%2C%20-99.230655%2C%200.0%5D%2C%20%5B41.72012%2C%20-85.42043000000002%2C%201.0%5D%2C%20%5B46.39548%2C%20-98.55675500000001%2C%200.0%5D%2C%20%5B41.57079%2C%20-86.77702%2C%201.0%5D%2C%20%5B41.34766%2C%20-88.92519%2C%201.0%5D%2C%20%5B31.70741%2C%20-92.14525%2C%200.0%5D%2C%20%5B37.19278%2C%20-95.299005%2C%201.0%5D%2C%20%5B44.94384%2C%20-96.28831%2C%200.0%5D%2C%20%5B41.4364%2C%20-75.64582%2C%201.0%5D%2C%20%5B37.63531%2C%20-92.62593%2C%201.0%5D%2C%20%5B38.980215%2C%20-90.19607500000001%2C%200.0%5D%2C%20%5B30.22077%2C%20-92.03913%2C%201.0%5D%2C%20%5B29.689640000000004%2C%20-90.62010000000001%2C%201.0%5D%2C%20%5B41.669844999999995%2C%20-87.81994499999999%2C%201.0%5D%2C%20%5B56.30928%2C%20-158.4092%2C%201.0%5D%2C%20%5B48.688375%2C%20-94.672365%2C%200.0%5D%2C%20%5B33.58032%2C%20-89.54226%2C%200.0%5D%2C%20%5B33.90388%2C%20-102.3273%2C%200.0%5D%2C%20%5B44.58689%2C%20-72.665245%2C%200.0%5D%2C%20%5B31.171440000000004%2C%20-98.18047%2C%200.0%5D%2C%20%5B40.17749%2C%20-80.60472%2C%201.0%5D%2C%20%5B40.62746%2C%20-116.9279%2C%201.0%5D%2C%20%5B44.03978500000001%2C%20-123.0727%2C%201.0%5D%2C%20%5B45.18225%2C%20-89.1634%2C%200.0%5D%2C%20%5B31.047510000000003%2C%20-83.05900500000001%2C%200.0%5D%2C%20%5B43.043800000000005%2C%20-83.24467%2C%201.0%5D%2C%20%5B41.157625%2C%20-104.82805%2C%201.0%5D%2C%20%5B40.538945%2C%20-105.09625%2C%201.0%5D%2C%20%5B37.573750000000004%2C%20-85.701945%2C%200.0%5D%2C%20%5B37.198915%2C%20-104.5051%2C%201.0%5D%2C%20%5B40.366%2C%20-120.4554%2C%201.0%5D%2C%20%5B46.73878%2C%20-116.8634%2C%201.0%5D%2C%20%5B34.85958%2C%20-95.27%2C%200.0%5D%2C%20%5B34.816145%2C%20-88.68952%2C%201.0%5D%2C%20%5B37.10695%2C%20-84.07083%2C%201.0%5D%2C%20%5B34.40184%2C%20-82.14881%2C%201.0%5D%2C%20%5B29.43066%2C%20-96.994755%2C%201.0%5D%2C%20%5B38.17778%2C%20-87.355%2C%201.0%5D%2C%20%5B34.898435%2C%20-94.64914999999999%2C%200.0%5D%2C%20%5B44.370695%2C%20-93.75301999999999%2C%200.0%5D%2C%20%5B32.68773%2C%20-103.31635%2C%201.0%5D%2C%20%5B32.764305%2C%20-89.53998000000001%2C%200.0%5D%2C%20%5B39.18689000000001%2C%20-95.01913%2C%200.0%5D%2C%20%5B40.36759000000001%2C%20-76.459325%2C%201.0%5D%2C%20%5B34.294059999999995%2C%20-88.65386%2C%200.0%5D%2C%20%5B44.86122%2C%20-85.79333000000003%2C%201.0%5D%2C%20%5B33.52956%2C%20-90.31841%2C%201.0%5D%2C%20%5B40.59825%2C%20-75.55025%2C%201.0%5D%2C%20%5B45.09134%2C%20-113.9046%2C%200.0%5D%2C%20%5B41.88168%2C%20-84.04965499999999%2C%200.0%5D%2C%20%5B35.274985%2C%20-77.65033499999998%2C%201.0%5D%2C%20%5B31.094355%2C%20-95.772395%2C%201.0%5D%2C%20%5B37.10164%2C%20-83.3925%2C%201.0%5D%2C%20%5B37.13333%2C%20-82.83111%2C%201.0%5D%2C%20%5B29.26278%2C%20-82.76261%2C%201.0%5D%2C%20%5B40.22816%2C%20-87.63072%2C%201.0%5D%2C%20%5B46.910555%2C%20-112.11525%2C%201.0%5D%2C%20%5B33.95436%2C%20-81.1973%2C%201.0%5D%2C%20%5B37.78775%2C%20-79.44128%2C%201.0%5D%2C%20%5B30.239035%2C%20-94.64803%2C%201.0%5D%2C%20%5B40.06154%2C%20-82.45718000000002%2C%201.0%5D%2C%20%5B34.631809999999994%2C%20-87.16606%2C%201.0%5D%2C%20%5B38.90919%2C%20-96.74732%2C%201.0%5D%2C%20%5B32.55507%2C%20-92.652205%2C%201.0%5D%2C%20%5B42.02864%2C%20-93.97357500000001%2C%201.0%5D%2C%20%5B36.35479%2C%20-100.3108%2C%201.0%5D%2C%20%5B41.76144500000001%2C%20-73.16470500000001%2C%201.0%5D%2C%20%5B33.718709999999994%2C%20-94.3448%2C%200.0%5D%2C%20%5B28.338685000000005%2C%20-98.10361%2C%200.0%5D%2C%20%5B40.94512%2C%20-88.35445%2C%201.0%5D%2C%20%5B30.47741%2C%20-90.79521%2C%201.0%5D%2C%20%5B30.737515000000002%2C%20-98.66291%2C%201.0%5D%2C%20%5B38.76556%2C%20-89.41582%2C%201.0%5D%2C%20%5B31.747805%2C%20-81.71191000000002%2C%200.0%5D%2C%20%5B34.79853%2C%20-91.91264%2C%200.0%5D%2C%20%5B41.371605%2C%20-82.121355%2C%200.0%5D%2C%20%5B35.85704%2C%20-106.2781%2C%200.5%5D%2C%20%5B34.09073%2C%20-118.2266%2C%200.0%5D%2C%20%5B35.75497%2C%20-84.32497%2C%200.0%5D%2C%20%5B39.04239%2C%20-77.5351%2C%200.0%5D%2C%20%5B41.137365%2C%20-91.19691%2C%201.0%5D%2C%20%5B41.8928%2C%20-99.40674999999999%2C%200.0%5D%2C%20%5B33.98388%2C%20-97.14564%2C%201.0%5D%2C%20%5B31.687565%2C%20-103.62275%2C%201.0%5D%2C%20%5B32.263385%2C%20-86.76468500000001%2C%200.0%5D%2C%20%5B33.58469%2C%20-101.8449%2C%201.0%5D%2C%20%5B41.60212%2C%20-83.73474%2C%200.0%5D%2C%20%5B46.45023%2C%20-85.55131999999998%2C%200.0%5D%2C%20%5B34.54739%2C%20-83.96882%2C%200.0%5D%2C%20%5B32.27108%2C%20-107.6925%2C%201.0%5D%2C%20%5B36.95164000000001%2C%20-78.21328000000003%2C%201.0%5D%2C%20%5B41.21651%2C%20-75.94733000000002%2C%201.0%5D%2C%20%5B41.25389000000001%2C%20-77.00031%2C%201.0%5D%2C%20%5B43.90018%2C%20-99.93285%2C%201.0%5D%2C%20%5B37.38525%2C%20-79.17976%2C%200.0%5D%2C%20%5B33.1778%2C%20-101.7951%2C%201.0%5D%2C%20%5B38.73889000000001%2C%20-96.07759%2C%200.0%5D%2C%20%5B46.06723%2C%20-84.73931%2C%201.0%5D%2C%20%5B42.642050000000005%2C%20-82.94002%2C%201.0%5D%2C%20%5B39.653445000000005%2C%20-88.78035999999999%2C%201.0%5D%2C%20%5B39.2783%2C%20-89.89683%2C%201.0%5D%2C%20%5B37.05457%2C%20-120.0571%2C%201.0%5D%2C%20%5B37.568470000000005%2C%20-88.84629000000001%2C%201.0%5D%2C%20%5B32.406620000000004%2C%20-91.22775%2C%201.0%5D%2C%20%5B37.74%2C%20-83.082495%2C%200.0%5D%2C%20%5B41.321290000000005%2C%20-92.65031%2C%201.0%5D%2C%20%5B47.32466%2C%20-95.93326%2C%200.0%5D%2C%20%5B41.0737%2C%20-80.6998%2C%200.0%5D%2C%20%5B36.323930000000004%2C%20-98.46900500000001%2C%201.0%5D%2C%20%5B43.89487%2C%20-117.2083%2C%201.0%5D%2C%20%5B38.76221%2C%20-77.44230999999998%2C%201.0%5D%2C%20%5B38.743615000000005%2C%20-77.48973000000001%2C%200.5%5D%2C%20%5B27.49107%2C%20-82.50656%2C%200.0%5D%2C%20%5B44.29225%2C%20-86.03801999999997%2C%201.0%5D%2C%20%5B44.109025%2C%20-87.74463499999999%2C%201.0%5D%2C%20%5B44.943870000000004%2C%20-89.74544500000002%2C%201.0%5D%2C%20%5B32.27793%2C%20-87.77816999999997%2C%200.0%5D%2C%20%5B33.522525%2C%20-112.08765%2C%200.0%5D%2C%20%5B38.16736%2C%20-91.90827%2C%201.0%5D%2C%20%5B38.02521%2C%20-122.5655%2C%200.0%5D%2C%20%5B45.24495%2C%20-87.96636%2C%200.0%5D%2C%20%5B39.53388%2C%20-87.8075%2C%201.0%5D%2C%20%5B37.55605%2C%20-119.9612%2C%201.0%5D%2C%20%5B34.64403%2C%20-79.68202000000001%2C%200.0%5D%2C%20%5B46.35218%2C%20-87.79786%2C%201.0%5D%2C%20%5B39.79547%2C%20-89.54419%2C%201.0%5D%2C%20%5B37.85558%2C%20-82.58139%2C%200.5%5D%2C%20%5B36.691035%2C%20-79.86932%2C%201.0%5D%2C%20%5B38.92222%2C%20-89.62139%2C%201.0%5D%2C%20%5B37.22753%2C%20-88.70841%2C%201.0%5D%2C%20%5B28.92859%2C%20-96.009425%2C%201.0%5D%2C%20%5B61.71016%2C%20-149.3139%2C%201.0%5D%2C%20%5B37.46511%2C%20-76.41988%2C%201.0%5D%2C%20%5B20.83774%2C%20-156.32695%2C%201.0%5D%2C%20%5B35.627520000000004%2C%20-87.07443999999998%2C%201.0%5D%2C%20%5B28.719785%2C%20-100.4537%2C%200.0%5D%2C%20%5B36.30723%2C%20-95.28893%2C%201.0%5D%2C%20%5B35.02967%2C%20-97.49448%2C%201.0%5D%2C%20%5B47.489935%2C%20-105.5969%2C%201.0%5D%2C%20%5B43.666645%2C%20-97.368585%2C%201.0%5D%2C%20%5B33.922090000000004%2C%20-82.28049%2C%201.0%5D%2C%20%5B37.05695%2C%20-88.68819500000001%2C%201.0%5D%2C%20%5B36.70014%2C%20-84.47180499999999%2C%201.0%5D%2C%20%5B31.203809999999997%2C%20-99.33350999999999%2C%200.0%5D%2C%20%5B33.98996%2C%20-94.82098%2C%200.0%5D%2C%20%5B36.62388%2C%20-94.39368%2C%201.0%5D%2C%20%5B40.468295%2C%20-90.676965%2C%200.0%5D%2C%20%5B37.21559%2C%20-81.87691%2C%201.0%5D%2C%20%5B33.50839%2C%20-82.50027%2C%200.5%5D%2C%20%5B42.41447%2C%20-88.61767499999999%2C%201.0%5D%2C%20%5B35.370705%2C%20-95.56406000000001%2C%201.0%5D%2C%20%5B41.917495%2C%20-78.57803500000001%2C%201.0%5D%2C%20%5B47.805%2C%20-103.51419999999999%2C%200.0%5D%2C%20%5B35.510315000000006%2C%20-108.6818%2C%201.0%5D%2C%20%5B40.490985%2C%20-88.88259500000001%2C%200.0%5D%2C%20%5B31.5373%2C%20-97.13587%2C%201.0%5D%2C%20%5B44.83579%2C%20-94.26852%2C%200.0%5D%2C%20%5B35.43167000000001%2C%20-84.61259%2C%201.0%5D%2C%20%5B28.457315%2C%20-98.55357000000001%2C%200.0%5D%2C%20%5B35.19478%2C%20-88.57799999999997%2C%201.0%5D%2C%20%5B38.34773%2C%20-97.64092%2C%200.0%5D%2C%20%5B44.249105%2C%20-102.82565%2C%200.0%5D%2C%20%5B46.54824%2C%20-110.782%2C%201.0%5D%2C%20%5B35.25117%2C%20-80.81995%2C%201.0%5D%2C%20%5B43.68548%2C%20-85.48160499999999%2C%201.0%5D%2C%20%5B41.019685%2C%20-82.039885%2C%200.0%5D%2C%20%5B45.20356%2C%20-94.55087%2C%200.0%5D%2C%20%5B39.04951%2C%20-82.08843%2C%201.0%5D%2C%20%5B43.562675%2C%20-100.81555%2C%201.0%5D%2C%20%5B39.96466%2C%20-89.949005%2C%200.0%5D%2C%20%5B39.324745%2C%20-123.3374%2C%201.0%5D%2C%20%5B37.956665%2C%20-83.62957999999999%2C%200.0%5D%2C%20%5B45.45562%2C%20-87.60439000000002%2C%201.0%5D%2C%20%5B37.256735000000006%2C%20-120.62915%2C%201.0%5D%2C%20%5B40.35821%2C%20-84.5612%2C%201.0%5D%2C%20%5B33.03603%2C%20-84.69076%2C%201.0%5D%2C%20%5B41.1633%2C%20-98.05905%2C%200.0%5D%2C%20%5B43.29656%2C%20-71.74878000000002%2C%201.0%5D%2C%20%5B39.120720000000006%2C%20-108.55235%2C%201.0%5D%2C%20%5B36.99611%2C%20-85.62695%2C%201.0%5D%2C%20%5B40.02293%2C%20-86.00855%2C%200.0%5D%2C%20%5B25.78447%2C%20-80.308595%2C%200.0%5D%2C%20%5B41.60632%2C%20-72.39407%2C%201.0%5D%2C%20%5B43.48474%2C%20-84.58654%2C%201.0%5D%2C%20%5B40.614765%2C%20-77.59877499999999%2C%201.0%5D%2C%20%5B30.813775%2C%20-97.010515%2C%201.0%5D%2C%20%5B39.10328%2C%20-112.33405%2C%201.0%5D%2C%20%5B45.759725%2C%20-93.65654%2C%200.0%5D%2C%20%5B33.458529999999996%2C%20-93.761865%2C%200.0%5D%2C%20%5B41.001644999999996%2C%20-95.75088%2C%201.0%5D%2C%20%5B43.03031%2C%20-87.94764%2C%201.0%5D%2C%20%5B44.05281%2C%20-97.66067%2C%201.0%5D%2C%20%5B47.04544%2C%20-114.7865%2C%201.0%5D%2C%20%5B37.70458%2C%20-82.18086%2C%201.0%5D%2C%20%5B42.61389000000001%2C%20-113.6778%2C%201.0%5D%2C%20%5B43.608865%2C%20-96.73199500000001%2C%200.0%5D%2C%20%5B44.26406%2C%20-85.12083%2C%200.0%5D%2C%20%5B35.85505%2C%20-90.01815%2C%200.0%5D%2C%20%5B46.932895%2C%20-113.98125%2C%201.0%5D%2C%20%5B39.26889%2C%20-97.92972%2C%201.0%5D%2C%20%5B30.68297%2C%20-88.13703000000002%2C%201.0%5D%2C%20%5B41.42419%2C%20-120.8276%2C%201.0%5D%2C%20%5B40.52339%2C%20-107.6096%2C%201.0%5D%2C%20%5B35.138865%2C%20-114.14179999999999%2C%200.0%5D%2C%20%5B38.62322%2C%20-92.5738%2C%201.0%5D%2C%20%5B40.275459999999995%2C%20-74.15509999999999%2C%201.0%5D%2C%20%5B38.19649%2C%20-119.2337%2C%200.0%5D%2C%20%5B42.05206%2C%20-95.87214%2C%201.0%5D%2C%20%5B39.65779000000001%2C%20-80.00484%2C%201.0%5D%2C%20%5B39.81657%2C%20-84.37375%2C%201.0%5D%2C%20%5B33.64721%2C%20-97.76036%2C%201.0%5D%2C%20%5B43.308445%2C%20-85.211705%2C%201.0%5D%2C%20%5B36.44579%2C%20-121.63415%2C%200.0%5D%2C%20%5B37.34037%2C%20-108.523%2C%201.0%5D%2C%20%5B39.02273%2C%20-86.2196%2C%201.0%5D%2C%20%5B45.00414%2C%20-84.03974500000001%2C%200.5%5D%2C%20%5B41.01003%2C%20-76.66402%2C%200.0%5D%2C%20%5B38.46581%2C%20-107.9997%2C%201.0%5D%2C%20%5B44.00754%2C%20-96.674825%2C%201.0%5D%2C%20%5B35.311875%2C%20-79.61074500000001%2C%200.0%5D%2C%20%5B35.979910000000004%2C%20-104.98235%2C%201.0%5D%2C%20%5B32.794084999999995%2C%20-91.81298%2C%201.0%5D%2C%20%5B39.45219%2C%20-86.69228000000003%2C%201.0%5D%2C%20%5B41.7417%2C%20-103.2147%2C%200.0%5D%2C%20%5B40.813069999999996%2C%20-74.599355%2C%201.0%5D%2C%20%5B45.985335000000006%2C%20-94.36499%2C%200.0%5D%2C%20%5B40.5477%2C%20-82.83286999999999%2C%200.0%5D%2C%20%5B46.80495%2C%20-101.3227%2C%200.0%5D%2C%20%5B34.016615%2C%20-100.83930000000001%2C%200.5%5D%2C%20%5B39.66689%2C%20-88.62953000000002%2C%201.0%5D%2C%20%5B48.21333%2C%20-102.5993%2C%200.0%5D%2C%20%5B43.67391000000001%2C%20-92.794855%2C%201.0%5D%2C%20%5B37.228885000000005%2C%20-87.149165%2C%201.0%5D%2C%20%5B45.53%2C%20-122.6653%2C%201.0%5D%2C%20%5B34.77645%2C%20-95.90086%2C%200.0%5D%2C%20%5B41.498905%2C%20-91.08762%2C%201.0%5D%2C%20%5B32.52023%2C%20-84.94053000000002%2C%201.0%5D%2C%20%5B43.25378%2C%20-86.20584000000002%2C%201.0%5D%2C%20%5B39.94732%2C%20-81.98496%2C%200.0%5D%2C%20%5B35.68808%2C%20-95.32417%2C%201.0%5D%2C%20%5B46.442915%2C%20-108.4826%2C%200.5%5D%2C%20%5B31.623755000000003%2C%20-94.655495%2C%201.0%5D%2C%20%5B41.4312%2C%20-97.975%2C%200.0%5D%2C%20%5B41.27223%2C%20-70.194655%2C%201.0%5D%2C%20%5B38.37645%2C%20-122.33789999999999%2C%201.0%5D%2C%20%5B35.959795%2C%20-77.951035%2C%201.0%5D%2C%20%5B40.68668%2C%20-73.62612%2C%201.0%5D%2C%20%5B31.704010000000004%2C%20-93.09884500000001%2C%200.0%5D%2C%20%5B42.85725%2C%20-106.3689%2C%201.0%5D%2C%20%5B34.9542%2C%20-110.25399999999999%2C%201.0%5D%2C%20%5B32.057945000000004%2C%20-96.461955%2C%201.0%5D%2C%20%5B37.822205%2C%20-85.300415%2C%201.0%5D%2C%20%5B39.87576%2C%20-95.97789%2C%201.0%5D%2C%20%5B37.571005%2C%20-95.32364%2C%200.0%5D%2C%20%5B32.75038%2C%20-89.12769%2C%200.0%5D%2C%20%5B38.45195%2C%20-99.8673%2C%200.0%5D%2C%20%5B33.93523%2C%20-93.46577%2C%201.0%5D%2C%20%5B39.7027%2C%20-75.64070000000001%2C%201.0%5D%2C%20%5B34.25826%2C%20-77.901555%2C%201.0%5D%2C%20%5B41.39265%2C%20-72.91833000000003%2C%201.0%5D%2C%20%5B37.48299%2C%20-77.02399%2C%201.0%5D%2C%20%5B41.4523%2C%20-72.10213%2C%201.0%5D%2C%20%5B36.571545%2C%20-89.70351499999998%2C%200.0%5D%2C%20%5B40.77151%2C%20-73.97386999999998%2C%201.0%5D%2C%20%5B43.58196%2C%20-85.84031999999998%2C%201.0%5D%2C%20%5B34.26578%2C%20-81.58015%2C%201.0%5D%2C%20%5B41.5676%2C%20-71.25718%2C%201.0%5D%2C%20%5B37.06368%2C%20-76.45425999999998%2C%201.0%5D%2C%20%5B35.911125%2C%20-89.317995%2C%200.0%5D%2C%20%5B46.429815%2C%20-116.7333%2C%201.0%5D%2C%20%5B43.141639999999995%2C%20-78.82822%2C%201.0%5D%2C%20%5B38.31764%2C%20-81.08866%2C%201.0%5D%2C%20%5B44.36828%2C%20-94.193975%2C%200.0%5D%2C%20%5B43.083515%2C%20-104.41665%2C%201.0%5D%2C%20%5B36.54158%2C%20-96.98958%2C%201.0%5D%2C%20%5B43.66771%2C%20-95.81417%2C%200.0%5D%2C%20%5B40.37628%2C%20-94.881445%2C%200.0%5D%2C%20%5B32.44812%2C%20-100.3835%2C%201.0%5D%2C%20%5B64.685055%2C%20-165.1972%2C%201.0%5D%2C%20%5B42.19678%2C%20-71.18468%2C%201.0%5D%2C%20%5B36.8745%2C%20-76.25914%2C%201.0%5D%2C%20%5B47.297754999999995%2C%20-96.548565%2C%200.0%5D%2C%20%5B68.3733%2C%20-149.4073%2C%200.0%5D%2C%20%5B40.69361500000001%2C%20-75.340435%2C%201.0%5D%2C%20%5B40.84769%2C%20-76.75601%2C%201.0%5D%2C%20%5B66.89493999999999%2C%20-162.5718%2C%201.0%5D%2C%20%5B39.813%2C%20-99.90334%2C%200.0%5D%2C%20%5B36.937655%2C%20-82.61739%2C%201.0%5D%2C%20%5B37.16755%2C%20-78.07999000000002%2C%201.0%5D%2C%20%5B36.78554%2C%20-95.63015999999999%2C%200.0%5D%2C%20%5B33.10205%2C%20-88.56362%2C%200.0%5D%2C%20%5B40.147549999999995%2C%20-98.0783%2C%201.0%5D%2C%20%5B27.74948%2C%20-97.535555%2C%200.0%5D%2C%20%5B37.2114%2C%20-116.7237%2C%201.0%5D%2C%20%5B43.08818%2C%20-95.66344%2C%200.0%5D%2C%20%5B42.55756%2C%20-83.26053%2C%201.0%5D%2C%20%5B36.39172%2C%20-89.09679000000001%2C%201.0%5D%2C%20%5B39.986830000000005%2C%20-74.21554%2C%201.0%5D%2C%20%5B43.63145%2C%20-86.35724%2C%201.0%5D%2C%20%5B36.242335%2C%20-100.68515%2C%200.0%5D%2C%20%5B34.67236%2C%20-83.06322%2C%200.0%5D%2C%20%5B44.945215%2C%20-88.150545%2C%200.0%5D%2C%20%5B44.27636000000001%2C%20-84.21593000000001%2C%201.0%5D%2C%20%5B43.10403%2C%20-102.6022%2C%200.0%5D%2C%20%5B42.049549999999996%2C%20-89.30326500000001%2C%200.0%5D%2C%20%5B33.91486%2C%20-83.09614%2C%201.0%5D%2C%20%5B37.600970000000004%2C%20-86.725135%2C%201.0%5D%2C%20%5B30.70839%2C%20-86.56238000000002%2C%201.0%5D%2C%20%5B48.4648%2C%20-119.7644%2C%201.0%5D%2C%20%5B27.25351%2C%20-80.81773000000003%2C%200.0%5D%2C%20%5B35.43746%2C%20-96.30613%2C%201.0%5D%2C%20%5B35.50018%2C%20-97.51103%2C%201.0%5D%2C%20%5B35.60997000000001%2C%20-95.97278%2C%201.0%5D%2C%20%5B33.426515%2C%20-88.856955%2C%200.0%5D%2C%20%5B38.32236%2C%20-85.52444%2C%201.0%5D%2C%20%5B47.121935%2C%20-101.29925%2C%200.0%5D%2C%20%5B44.00658%2C%20-92.46262%2C%200.0%5D%2C%20%5B43.20094%2C%20-75.4202%2C%201.0%5D%2C%20%5B43.056955%2C%20-76.15429499999999%2C%201.0%5D%2C%20%5B34.74532%2C%20-77.398175%2C%201.0%5D%2C%20%5B42.91269000000001%2C%20-77.27698000000002%2C%201.0%5D%2C%20%5B46.67578%2C%20-89.27625%2C%201.0%5D%2C%20%5B33.7263%2C%20-81.55611%2C%200.0%5D%2C%20%5B33.457425%2C%20-80.804145%2C%201.0%5D%2C%20%5B36.5932%2C%20-91.39671%2C%201.0%5D%2C%20%5B44.71032%2C%20-72.42038000000002%2C%200.0%5D%2C%20%5B29.99041%2C%20-90.0376%2C%201.0%5D%2C%20%5B38.31167%2C%20-95.93465%2C%201.0%5D%2C%20%5B39.38331%2C%20-98.73172%2C%200.0%5D%2C%20%5B43.2875%2C%20-85.1876%2C%200.0%5D%2C%20%5B44.64345%2C%20-84.26128%2C%200.0%5D%2C%20%5B43.41745%2C%20-76.16983%2C%201.0%5D%2C%20%5B37.95318%2C%20-103.8663%2C%201.0%5D%2C%20%5B40.6683%2C%20-96.1487%2C%201.0%5D%2C%20%5B42.60128%2C%20-75.06088%2C%201.0%5D%2C%20%5B39.22222%2C%20-94.74435%2C%201.0%5D%2C%20%5B46.42706%2C%20-95.80863%2C%201.0%5D%2C%20%5B33.576895%2C%20-92.830135%2C%201.0%5D%2C%20%5B32.49928%2C%20-92.1417%2C%201.0%5D%2C%20%5B38.128744999999995%2C%20-107.72425%2C%200.0%5D%2C%20%5B44.3305%2C%20-88.38809%2C%201.0%5D%2C%20%5B36.332995%2C%20-85.332685%2C%200.0%5D%2C%20%5B39.2476%2C%20-86.77392%2C%201.0%5D%2C%20%5B37.435835%2C%20-83.66583500000002%2C%200.0%5D%2C%20%5B42.942195%2C%20-116.20419999999999%2C%201.0%5D%2C%20%5B44.370965%2C%20-70.69817499999999%2C%201.0%5D%2C%20%5B36.65656%2C%20-92.43767%2C%201.0%5D%2C%20%5B43.36819000000001%2C%20-87.92299999999999%2C%201.0%5D%2C%20%5B46.56425%2C%20-123.7476%2C%200.0%5D%2C%20%5B40.6531%2C%20-95.04504%2C%201.0%5D%2C%20%5B26.650745%2C%20-80.11306%2C%200.0%5D%2C%20%5B43.05306%2C%20-94.67903%2C%201.0%5D%2C%20%5B32.6589%2C%20-98.23516%2C%201.0%5D%2C%20%5B35.13609%2C%20-76.74027%2C%201.0%5D%2C%20%5B34.24338%2C%20-90.03876%2C%201.0%5D%2C%20%5B44.78099%2C%20-109.5278%2C%201.0%5D%2C%20%5B39.758335%2C%20-87.19835499999999%2C%201.0%5D%2C%20%5B32.755425%2C%20-97.795885%2C%200.0%5D%2C%20%5B34.515115%2C%20-102.78970000000001%2C%200.0%5D%2C%20%5B28.240940000000002%2C%20-82.43327500000001%2C%200.0%5D%2C%20%5B36.296375%2C%20-76.30657500000001%2C%201.0%5D%2C%20%5B40.90086%2C%20-74.18052%2C%201.0%5D%2C%20%5B36.64332%2C%20-80.28811999999998%2C%201.0%5D%2C%20%5B41.03397%2C%20-84.68644%2C%200.0%5D%2C%20%5B38.218315000000004%2C%20-96.65588%2C%201.0%5D%2C%20%5B43.970055%2C%20-116.78460000000001%2C%201.0%5D%2C%20%5B36.101470000000006%2C%20-97.00162%2C%201.0%5D%2C%20%5B32.594764999999995%2C%20-83.79349500000001%2C%200.0%5D%2C%20%5B30.74833%2C%20-89.6055%2C%200.0%5D%2C%20%5B30.88555%2C%20-102.6347%2C%200.0%5D%2C%20%5B48.747885%2C%20-97.48716999999999%2C%201.0%5D%2C%20%5B36.21596%2C%20-89.82169%2C%201.0%5D%2C%20%5B48.59213%2C%20-117.2826%2C%200.0%5D%2C%20%5B34.56543%2C%20-77.98311%2C%201.0%5D%2C%20%5B38.69713%2C%20-79.52283500000001%2C%201.0%5D%2C%20%5B44.06546%2C%20-103.175%2C%201.0%5D%2C%20%5B44.94572%2C%20-68.76404000000001%2C%201.0%5D%2C%20%5B40.76926%2C%20-89.68852%2C%201.0%5D%2C%20%5B44.62535%2C%20-92.05431%2C%200.0%5D%2C%20%5B45.44125%2C%20-102.4126%2C%200.0%5D%2C%20%5B36.230565%2C%20-76.472325%2C%201.0%5D%2C%20%5B37.603305%2C%20-87.31908%2C%201.0%5D%2C%20%5B40.222274999999996%2C%20-118.41265%2C%201.0%5D%2C%20%5B36.370855%2C%20-78.97655999999998%2C%201.0%5D%2C%20%5B56.72518%2C%20-133.16135%2C%201.0%5D%2C%20%5B37.213184999999996%2C%20-77.39563000000001%2C%201.0%5D%2C%20%5B47.001175%2C%20-108.3563%2C%201.0%5D%2C%20%5B38.7138%2C%20-93.28352%2C%201.0%5D%2C%20%5B38.00483%2C%20-91.838695%2C%201.0%5D%2C%20%5B39.9814%2C%20-75.168915%2C%201.0%5D%2C%20%5B39.8014%2C%20-99.41638499999999%2C%201.0%5D%2C%20%5B40.02541%2C%20-88.58769000000002%2C%200.0%5D%2C%20%5B39.659864999999996%2C%20-82.967235%2C%200.0%5D%2C%20%5B34.51533%2C%20-84.39268%2C%200.0%5D%2C%20%5B36.5774%2C%20-85.07034%2C%200.0%5D%2C%20%5B44.84146%2C%20-97.6988%2C%200.0%5D%2C%20%5B39.004720000000006%2C%20-87.315965%2C%201.0%5D%2C%20%5B32.184470000000005%2C%20-110.9865%2C%200.0%5D%2C%20%5B32.99221%2C%20-111.5629%2C%200.0%5D%2C%20%5B46.053425000000004%2C%20-92.88508%2C%200.0%5D%2C%20%5B27.851115%2C%20-82.707855%2C%200.0%5D%2C%20%5B44.008325000000006%2C%20-96.257255%2C%200.0%5D%2C%20%5B45.253609999999995%2C%20-69.288325%2C%201.0%5D%2C%20%5B39.21046%2C%20-106.9179%2C%201.0%5D%2C%20%5B35.60597999999999%2C%20-77.4007%2C%201.0%5D%2C%20%5B34.919705%2C%20-95.758315%2C%200.0%5D%2C%20%5B36.789024999999995%2C%20-79.3822%2C%201.0%5D%2C%20%5B38.19954%2C%20-112.21115%2C%201.0%5D%2C%20%5B38.90295%2C%20-121.1893%2C%201.0%5D%2C%20%5B29.82696%2C%20-89.98004%2C%201.0%5D%2C%20%5B41.5583%2C%20-97.4652%2C%201.0%5D%2C%20%5B39.38499%2C%20-81.19818000000002%2C%201.0%5D%2C%20%5B39.94703%2C%20-120.8498%2C%201.0%5D%2C%20%5B42.6332%2C%20-95.99689000000001%2C%201.0%5D%2C%20%5B42.660045%2C%20-94.55672%2C%201.0%5D%2C%20%5B35.564415%2C%20-90.602155%2C%201.0%5D%2C%20%5B30.58517%2C%20-91.5569%2C%201.0%5D%2C%20%5B37.53660500000001%2C%20-93.596755%2C%200.0%5D%2C%20%5B48.20343%2C%20-112.0055%2C%201.0%5D%2C%20%5B34.647325%2C%20-96.55336%2C%201.0%5D%2C%20%5B35.47766%2C%20-93.04032%2C%200.0%5D%2C%20%5B41.290589999999995%2C%20-81.37125%2C%200.0%5D%2C%20%5B41.56375%2C%20-87.06749%2C%201.0%5D%2C%20%5B36.830630000000006%2C%20-76.33206999999999%2C%201.0%5D%2C%20%5B38.06267%2C%20-87.81331%2C%201.0%5D%2C%20%5B35.4002%2C%20-96.82047%2C%201.0%5D%2C%20%5B41.32975%2C%20-95.622%2C%201.0%5D%2C%20%5B41.62549%2C%20-99.78541%2C%201.0%5D%2C%20%5B45.46095%2C%20-105.4713%2C%201.0%5D%2C%20%5B37.92417%2C%20-83.9825%2C%201.0%5D%2C%20%5B42.77908%2C%20-112.8404%2C%201.0%5D%2C%20%5B41.6955%2C%20-92.5143%2C%201.0%5D%2C%20%5B37.559735%2C%20-77.8715%2C%201.0%5D%2C%20%5B34.926965%2C%20-91.60996%2C%201.0%5D%2C%20%5B37.63772%2C%20-98.69322%2C%200.0%5D%2C%20%5B39.74476%2C%20-84.64876000000001%2C%200.0%5D%2C%20%5B34.600229999999996%2C%20-88.52506%2C%200.0%5D%2C%20%5B30.308235%2C%20-104.15265%2C%201.0%5D%2C%20%5B45.34805%2C%20-84.05783000000002%2C%200.0%5D%2C%20%5B39.43808%2C%20-79.7014%2C%201.0%5D%2C%20%5B45.55372%2C%20-90.350555%2C%201.0%5D%2C%20%5B37.26%2C%20-78.41686999999997%2C%201.0%5D%2C%20%5B37.19012%2C%20-77.327145%2C%201.0%5D%2C%20%5B38.9263%2C%20-76.88773%2C%201.0%5D%2C%20%5B38.72734%2C%20-77.51204%2C%200.0%5D%2C%20%5B55.7294%2C%20-132.84355%2C%200.0%5D%2C%20%5B41.83609000000001%2C%20-71.43608%2C%201.0%5D%2C%20%5B38.10795%2C%20-102.53985%2C%201.0%5D%2C%20%5B38.24826%2C%20-104.6199%2C%201.0%5D%2C%20%5B34.876655%2C%20-92.180835%2C%201.0%5D%2C%20%5B34.40511%2C%20-95.39557%2C%200.0%5D%2C%20%5B39.734105%2C%20-85.50228000000001%2C%201.0%5D%2C%20%5B35.14883%2C%20-103.7065%2C%201.0%5D%2C%20%5B39.085435%2C%20-75.977745%2C%201.0%5D%2C%20%5B40.731120000000004%2C%20-73.83385499999999%2C%201.0%5D%2C%20%5B34.233265%2C%20-90.25529499999999%2C%200.0%5D%2C%20%5B34.89424%2C%20-83.40546499999999%2C%201.0%5D%2C%20%5B42.733425%2C%20-87.98226%2C%200.0%5D%2C%20%5B37.135949999999994%2C%20-80.53867500000001%2C%200.5%5D%2C%20%5B32.877535%2C%20-95.78107%2C%201.0%5D%2C%20%5B37.77365%2C%20-81.23922999999999%2C%201.0%5D%2C%20%5B39.54198%2C%20-91.51578%2C%201.0%5D%2C%20%5B44.980864999999994%2C%20-93.12662%2C%201.0%5D%2C%20%5B35.00526%2C%20-101.897%2C%201.0%5D%2C%20%5B37.982715%2C%20-85.02180999999999%2C%201.0%5D%2C%20%5B32.27453%2C%20-89.98490999999999%2C%200.0%5D%2C%20%5B46.51455%2C%20-97.66737%2C%200.0%5D%2C%20%5B31.26054%2C%20-92.4847%2C%200.0%5D%2C%20%5B38.66352%2C%20-78.16996999999998%2C%201.0%5D%2C%20%5B46.212610000000005%2C%20-114.13395%2C%200.5%5D%2C%20%5B39.797365%2C%20-100.99515%2C%201.0%5D%2C%20%5B39.33715%2C%20-93.9845%2C%201.0%5D%2C%20%5B31.23111%2C%20-101.53655%2C%200.0%5D%2C%20%5B29.742655%2C%20-99.761825%2C%200.5%5D%2C%20%5B47.8327%2C%20-96.0584%2C%200.0%5D%2C%20%5B33.591429999999995%2C%20-95.09815%2C%201.0%5D%2C%20%5B32.0944%2C%20-93.3039%2C%201.0%5D%2C%20%5B40.1767%2C%20-100.4762%2C%200.0%5D%2C%20%5B44.34243%2C%20-95.318575%2C%200.0%5D%2C%20%5B31.15824%2C%20-103.74625%2C%201.0%5D%2C%20%5B28.3211%2C%20-97.21281%2C%201.0%5D%2C%20%5B37.97028%2C%20-97.9882%2C%200.0%5D%2C%20%5B42.64416%2C%20-73.58188%2C%201.0%5D%2C%20%5B44.7597%2C%20-95.01224%2C%200.0%5D%2C%20%5B39.826875%2C%20-97.63040000000001%2C%200.0%5D%2C%20%5B37.43362%2C%20-90.93854%2C%201.0%5D%2C%20%5B35.55791%2C%20-84.94511%2C%201.0%5D%2C%20%5B38.45236%2C%20-98.08715000000001%2C%201.0%5D%2C%20%5B41.607285%2C%20-111.1526%2C%201.0%5D%2C%20%5B40.103%2C%20-95.7296%2C%201.0%5D%2C%20%5B40.77957%2C%20-87.9758%2C%200.0%5D%2C%20%5B32.455940000000005%2C%20-91.71859%2C%201.0%5D%2C%20%5B34.93175%2C%20-79.79578000000002%2C%200.0%5D%2C%20%5B37.54219000000001%2C%20-77.4537%2C%201.0%5D%2C%20%5B39.30852%2C%20-96.72772%2C%200.0%5D%2C%20%5B40.739975%2C%20-94.24404%2C%201.0%5D%2C%20%5B36.22453%2C%20-106.1627%2C%201.0%5D%2C%20%5B40.0586%2C%20-108.2244%2C%201.0%5D%2C%20%5B37.662285%2C%20-106.20865%2C%201.0%5D%2C%20%5B39.001815%2C%20-85.36169500000001%2C%201.0%5D%2C%20%5B39.19889000000001%2C%20-81.04664%2C%201.0%5D%2C%20%5B33.73953%2C%20-117.0043%2C%200.0%5D%2C%20%5B35.96096%2C%20-84.34700000000001%2C%201.0%5D%2C%20%5B37.26558%2C%20-80.03838%2C%201.0%5D%2C%20%5B37.27122%2C%20-79.95662%2C%201.0%5D%2C%20%5B45.543710000000004%2C%20-96.98919000000001%2C%201.0%5D%2C%20%5B36.44292%2C%20-86.9824%2C%200.0%5D%2C%20%5B34.629565%2C%20-79.09240499999999%2C%201.0%5D%2C%20%5B42.82332%2C%20-89.35110999999998%2C%200.0%5D%2C%20%5B41.46595%2C%20-90.51003%2C%201.0%5D%2C%20%5B37.81227%2C%20-79.46104%2C%201.0%5D%2C%20%5B37.399024999999995%2C%20-84.32472%2C%201.0%5D%2C%20%5B33.649305%2C%20-84.02602%2C%200.0%5D%2C%20%5B38.50331%2C%20-78.81863%2C%200.0%5D%2C%20%5B41.10435%2C%20-74.006245%2C%201.0%5D%2C%20%5B32.91269%2C%20-96.389925%2C%201.0%5D%2C%20%5B35.65353499999999%2C%20-99.671585%2C%200.0%5D%2C%20%5B36.30745%2C%20-95.61227%2C%200.0%5D%2C%20%5B48.685784999999996%2C%20-100.0372%2C%200.0%5D%2C%20%5B39.39417%2C%20-99.37639%2C%201.0%5D%2C%20%5B48.15762%2C%20-104.9414%2C%201.0%5D%2C%20%5B44.37825%2C%20-84.66048%2C%201.0%5D%2C%20%5B48.80237%2C%20-95.735825%2C%200.0%5D%2C%20%5B46.26741%2C%20-106.7129%2C%201.0%5D%2C%20%5B39.34037%2C%20-82.98716999999998%2C%201.0%5D%2C%20%5B40.4881%2C%20-106.9153%2C%201.0%5D%2C%20%5B35.69530499999999%2C%20-80.641485%2C%201.0%5D%2C%20%5B31.820840000000004%2C%20-99.95877%2C%201.0%5D%2C%20%5B39.49748%2C%20-85.58084000000002%2C%201.0%5D%2C%20%5B32.28502%2C%20-94.66026%2C%201.0%5D%2C%20%5B36.96917%2C%20-85.18883000000002%2C%201.0%5D%2C%20%5B35.735375000000005%2C%20-86.27676500000001%2C%200.0%5D%2C%20%5B43.60301%2C%20-73.02089000000002%2C%200.0%5D%2C%20%5B31.33754%2C%20-93.8947%2C%200.0%5D%2C%20%5B31.58769%2C%20-93.5397%2C%200.0%5D%2C%20%5B42.369704999999996%2C%20-95.14814%2C%201.0%5D%2C%20%5B38.557900000000004%2C%20-121.4095%2C%200.0%5D%2C%20%5B43.950735%2C%20-69.854465%2C%201.0%5D%2C%20%5B43.31174%2C%20-83.98881%2C%201.0%5D%2C%20%5B38.09513%2C%20-106.17885000000001%2C%201.0%5D%2C%20%5B39.64903%2C%20-75.39145%2C%201.0%5D%2C%20%5B37.28146%2C%20-80.03912%2C%201.0%5D%2C%20%5B38.841685%2C%20-93.45061%2C%200.0%5D%2C%20%5B40.675885%2C%20-111.90575%2C%201.0%5D%2C%20%5B34.02469000000001%2C%20-81.70739499999999%2C%201.0%5D%2C%20%5B35.015515%2C%20-78.35846999999998%2C%201.0%5D%2C%20%5B31.47965%2C%20-94.15462%2C%201.0%5D%2C%20%5B36.856055%2C%20-121.39235%2C%200.0%5D%2C%20%5B34.17828%2C%20-117.2645%2C%201.0%5D%2C%20%5B32.827355%2C%20-117.0975%2C%200.0%5D%2C%20%5B37.74894000000001%2C%20-122.405%2C%200.0%5D%2C%20%5B30.54996%2C%20-95.18195%2C%201.0%5D%2C%20%5B37.9417%2C%20-121.2805%2C%201.0%5D%2C%20%5B36.794065%2C%20-108.54429999999999%2C%201.0%5D%2C%20%5B35.368825%2C%20-120.66575%2C%201.0%5D%2C%20%5B37.56438%2C%20-122.3609%2C%201.0%5D%2C%20%5B35.60632%2C%20-105.342%2C%201.0%5D%2C%20%5B28.010045%2C%20-97.51063500000001%2C%200.0%5D%2C%20%5B31.20822%2C%20-98.73386%2C%200.0%5D%2C%20%5B44.06415%2C%20-98.07275%2C%201.0%5D%2C%20%5B47.716195%2C%20-115.3007%2C%201.0%5D%2C%20%5B35.54609%2C%20-106.6871%2C%201.0%5D%2C%20%5B41.37356%2C%20-83.13042499999999%2C%200.0%5D%2C%20%5B39.76292%2C%20-89.66345000000001%2C%200.0%5D%2C%20%5B43.41772%2C%20-82.82793000000002%2C%201.0%5D%2C%20%5B39.27822000000001%2C%20-111.6435%2C%200.0%5D%2C%20%5B34.452485%2C%20-119.85285%2C%200.0%5D%2C%20%5B37.31985%2C%20-121.9098%2C%201.0%5D%2C%20%5B36.938255%2C%20-121.7881%2C%201.0%5D%2C%20%5B35.63605%2C%20-105.95665%2C%201.0%5D%2C%20%5B30.68625%2C%20-87.03791%2C%201.0%5D%2C%20%5B27.18537%2C%20-82.438725%2C%200.0%5D%2C%20%5B43.045495%2C%20-73.79077000000001%2C%201.0%5D%2C%20%5B46.05065%2C%20-97.39214%2C%200.0%5D%2C%20%5B41.135949999999994%2C%20-96.09835000000001%2C%201.0%5D%2C%20%5B43.468180000000004%2C%20-89.934455%2C%200.0%5D%2C%20%5B41.206565%2C%20-96.64320000000001%2C%201.0%5D%2C%20%5B45.87528%2C%20-91.15456%2C%201.0%5D%2C%20%5B42.79513%2C%20-74.01276999999997%2C%201.0%5D%2C%20%5B30.8834%2C%20-100.5142%2C%200.0%5D%2C%20%5B32.21474%2C%20-84.29345%2C%200.0%5D%2C%20%5B42.6426%2C%20-74.44985%2C%201.0%5D%2C%20%5B46.24696%2C%20-86.1992%2C%201.0%5D%2C%20%5B40.45105%2C%20-90.67671%2C%201.0%5D%2C%20%5B40.68731%2C%20-76.22122%2C%201.0%5D%2C%20%5B38.80537%2C%20-82.95189%2C%200.0%5D%2C%20%5B40.38055%2C%20-92.09219%2C%201.0%5D%2C%20%5B38.12653%2C%20-89.65128999999999%2C%201.0%5D%2C%20%5B41.88333%2C%20-103.6933%2C%200.0%5D%2C%20%5B32.72973%2C%20-81.65179%2C%200.0%5D%2C%20%5B32.71268%2C%20-100.9192%2C%200.0%5D%2C%20%5B35.910435%2C%20-92.69059999999999%2C%201.0%5D%2C%20%5B35.25019%2C%20-94.327%2C%201.0%5D%2C%20%5B37.68666%2C%20-97.32335%2C%200.0%5D%2C%20%5B35.05473%2C%20-96.517935%2C%201.0%5D%2C%20%5B41.13417%2C%20-83.112155%2C%200.0%5D%2C%20%5B35.36928%2C%20-85.38639%2C%200.0%5D%2C%20%5B35.451195%2C%20-94.72661500000001%2C%201.0%5D%2C%20%5B35.78473%2C%20-94.081925%2C%200.0%5D%2C%20%5B40.8378%2C%20-97.1393%2C%200.0%5D%2C%20%5B32.639015%2C%20-99.26235%2C%201.0%5D%2C%20%5B37.136534999999995%2C%20-91.39526000000001%2C%201.0%5D%2C%20%5B32.937585%2C%20-90.836365%2C%200.5%5D%2C%20%5B36.09862%2C%20-91.52199%2C%201.0%5D%2C%20%5B40.61209%2C%20-122.3281%2C%200.0%5D%2C%20%5B44.780695%2C%20-88.80236%2C%201.0%5D%2C%20%5B39.04386%2C%20-95.71732%2C%200.0%5D%2C%20%5B43.741690000000006%2C%20-87.84765%2C%201.0%5D%2C%20%5B35.28931%2C%20-89.68642%2C%201.0%5D%2C%20%5B38.84687%2C%20-78.57609000000002%2C%201.0%5D%2C%20%5B45.483265%2C%20-93.79806500000001%2C%200.0%5D%2C%20%5B44.650605%2C%20-104.48904999999999%2C%201.0%5D%2C%20%5B41.08905%2C%20-101.6329%2C%200.0%5D%2C%20%5B42.94157%2C%20-84.06300999999999%2C%200.5%5D%2C%20%5B47.48111%2C%20-116.00295%2C%201.0%5D%2C%20%5B44.527825%2C%20-94.1692%2C%200.0%5D%2C%20%5B33.20491%2C%20-107.3148%2C%201.0%5D%2C%20%5B45.992385%2C%20-112.61105%2C%201.0%5D%2C%20%5B31.94686%2C%20-89.83991%2C%200.0%5D%2C%20%5B43.05547%2C%20-96.19515%2C%200.0%5D%2C%20%5B41.62717%2C%20-122.7666%2C%201.0%5D%2C%20%5B57.54709%2C%20-135.0831%2C%201.0%5D%2C%20%5B48.49423%2C%20-122.2881%2C%201.0%5D%2C%20%5B59.504814999999994%2C%20-135.336%2C%201.0%5D%2C%20%5B45.849905%2C%20-121.93684999999999%2C%201.0%5D%2C%20%5B46.411410000000004%2C%20-103.3737%2C%200.0%5D%2C%20%5B32.49623%2C%20-95.289795%2C%201.0%5D%2C%20%5B36.83601%2C%20-81.51263499999999%2C%201.0%5D%2C%20%5B47.9641%2C%20-122.1411%2C%201.0%5D%2C%20%5B40.76816500000001%2C%20-77.024025%2C%201.0%5D%2C%20%5B34.01955%2C%20-106.9176%2C%201.0%5D%2C%20%5B38.2857%2C%20-122.0173%2C%200.0%5D%2C%20%5B40.513025%2C%20-74.66382999999999%2C%201.0%5D%2C%20%5B32.245695%2C%20-97.73651000000001%2C%201.0%5D%2C%20%5B38.4564%2C%20-122.7868%2C%201.0%5D%2C%20%5B36.715959999999995%2C%20-77.05487%2C%201.0%5D%2C%20%5B63.53437000000001%2C%20-143.6664%2C%201.0%5D%2C%20%5B33.26892%2C%20-84.26756499999999%2C%201.0%5D%2C%20%5B34.967490000000005%2C%20-82.00227%2C%200.0%5D%2C%20%5B38.02661%2C%20-86.98705%2C%201.0%5D%2C%20%5B44.98436%2C%20-98.30265%2C%201.0%5D%2C%20%5B47.6572%2C%20-117.3785%2C%200.0%5D%2C%20%5B38.22166%2C%20-77.5698%2C%201.0%5D%2C%20%5B29.944440000000004%2C%20-89.94776%2C%200.0%5D%2C%20%5B38.787355%2C%20-90.69435999999999%2C%201.0%5D%2C%20%5B29.93536%2C%20-90.3768%2C%200.0%5D%2C%20%5B38.55453%2C%20-89.80515%2C%201.0%5D%2C%20%5B44.98436%2C%20-92.39512%2C%200.0%5D%2C%20%5B35.03305%2C%20-90.78153%2C%201.0%5D%2C%20%5B37.81305%2C%20-90.50044%2C%201.0%5D%2C%20%5B30.795595%2C%20-90.69475%2C%200.0%5D%2C%20%5B30.090550000000004%2C%20-90.73545%2C%201.0%5D%2C%20%5B30.11268%2C%20-90.4454%2C%200.0%5D%2C%20%5B29.949440000000006%2C%20-81.46423%2C%200.0%5D%2C%20%5B41.71786%2C%20-86.1675%2C%201.0%5D%2C%20%5B30.53477%2C%20-92.0723%2C%201.0%5D%2C%20%5B44.581905%2C%20-75.11351000000002%2C%200.0%5D%2C%20%5B38.780095%2C%20-90.61699%2C%201.0%5D%2C%20%5B38.62167%2C%20-90.25526%2C%201.0%5D%2C%20%5B27.378985%2C%20-80.37877%2C%200.0%5D%2C%20%5B30.28509%2C%20-91.83125000000001%2C%201.0%5D%2C%20%5B29.765040000000006%2C%20-91.484%2C%201.0%5D%2C%20%5B38.29925%2C%20-76.62933000000002%2C%201.0%5D%2C%20%5B30.41065%2C%20-89.935%2C%201.0%5D%2C%20%5B38.08989%2C%20-98.49383499999999%2C%201.0%5D%2C%20%5B37.609125000000006%2C%20-120.9794%2C%201.0%5D%2C%20%5B44.331075%2C%20-100.5256%2C%201.0%5D%2C%20%5B35.339389999999995%2C%20-80.24744000000001%2C%200.0%5D%2C%20%5B41.895%2C%20-97.2145%2C%200.0%5D%2C%20%5B40.86273%2C%20-81.48055%2C%200.0%5D%2C%20%5B41.30233%2C%20-86.62116999999998%2C%200.0%5D%2C%20%5B26.41496%2C%20-98.877195%2C%200.0%5D%2C%20%5B38.13823%2C%20-79.07138%2C%200.0%5D%2C%20%5B37.90142%2C%20-90.18649%2C%200.0%5D%2C%20%5B45.54944%2C%20-94.57599%2C%200.0%5D%2C%20%5B44.147375%2C%20-93.29889499999999%2C%200.0%5D%2C%20%5B34.47801%2C%20-97.95409%2C%201.0%5D%2C%20%5B42.344229999999996%2C%20-89.66051999999999%2C%200.0%5D%2C%20%5B31.83292%2C%20-101.03795%2C%200.0%5D%2C%20%5B42.20729%2C%20-77.45834%2C%201.0%5D%2C%20%5B48.19206%2C%20-117.71725%2C%200.5%5D%2C%20%5B36.43908%2C%20-87.7674%2C%200.0%5D%2C%20%5B45.61289%2C%20-109.2861%2C%201.0%5D%2C%20%5B36.81533%2C%20-89.91886%2C%201.0%5D%2C%20%5B36.3809%2C%20-80.28526499999998%2C%201.0%5D%2C%20%5B35.76976%2C%20-91.88734%2C%200.0%5D%2C%20%5B33.143825%2C%20-100.25495000000001%2C%201.0%5D%2C%20%5B39.50986%2C%20-119.6186%2C%201.0%5D%2C%20%5B42.01028%2C%20-93.5214%2C%201.0%5D%2C%20%5B43.24238%2C%20-70.9772%2C%200.0%5D%2C%20%5B46.892224999999996%2C%20-98.74666500000001%2C%200.0%5D%2C%20%5B42.866635%2C%20-110.05095%2C%201.0%5D%2C%20%5B42.33952%2C%20-71.08669%2C%201.0%5D%2C%20%5B36.731145%2C%20-76.61729%2C%201.0%5D%2C%20%5B40.20773%2C%20-82.26334%2C%201.0%5D%2C%20%5B44.707815%2C%20-100.10114999999999%2C%201.0%5D%2C%20%5B37.67295%2C%20-80.83764000000002%2C%201.0%5D%2C%20%5B41.06281%2C%20-81.567815%2C%201.0%5D%2C%20%5B37.097570000000005%2C%20-97.280755%2C%200.0%5D%2C%20%5B32.54629%2C%20-84.2322%2C%200.0%5D%2C%20%5B33.56427%2C%20-90.56313%2C%200.0%5D%2C%20%5B36.445615000000004%2C%20-80.63924%2C%201.0%5D%2C%20%5B41.8107%2C%20-75.75045%2C%201.0%5D%2C%20%5B38.751310000000004%2C%20-75.260965%2C%201.0%5D%2C%20%5B39.00356%2C%20-121.6387%2C%201.0%5D%2C%20%5B30.571740000000005%2C%20-100.64840000000001%2C%200.0%5D%2C%20%5B30.312040000000003%2C%20-82.90111%2C%200.0%5D%2C%20%5B35.4393%2C%20-83.39660999999998%2C%201.0%5D%2C%20%5B45.76932%2C%20-109.9089%2C%201.0%5D%2C%20%5B41.59926%2C%20-109.23165%2C%201.0%5D%2C%20%5B45.267365%2C%20-95.661145%2C%200.0%5D%2C%20%5B34.529815%2C%20-101.79395%2C%201.0%5D%2C%20%5B38.802065%2C%20-84.99468000000002%2C%201.0%5D%2C%20%5B32.774635%2C%20-84.45684%2C%201.0%5D%2C%20%5B33.55880500000001%2C%20-82.91046%2C%201.0%5D%2C%20%5B33.42799%2C%20-86.135895%2C%201.0%5D%2C%20%5B33.98516%2C%20-90.15751%2C%200.0%5D%2C%20%5B32.883404999999996%2C%20-85.78538499999999%2C%201.0%5D%2C%20%5B42.05578%2C%20-92.551155%2C%201.0%5D%2C%20%5B36.68992%2C%20-93.18643%2C%201.0%5D%2C%20%5B30.58333%2C%20-90.4657%2C%200.0%5D%2C%20%5B36.384645%2C%20-105.61175%2C%201.0%5D%2C%20%5B32.76426%2C%20-97.25238%2C%200.0%5D%2C%20%5B34.64118%2C%20-89.9473%2C%200.0%5D%2C%20%5B32.01178%2C%20-82.0656%2C%200.0%5D%2C%20%5B32.71586%2C%20-94.6474%2C%201.0%5D%2C%20%5B40.42741000000001%2C%20-89.38082%2C%201.0%5D%2C%20%5B40.04731%2C%20-122.2002%2C%201.0%5D%2C%20%5B31.93658%2C%20-82.92171%2C%200.0%5D%2C%20%5B38.94551%2C%20-105.2548%2C%201.0%5D%2C%20%5B31.987070000000006%2C%20-91.3653%2C%200.0%5D%2C%20%5B29.61471%2C%20-90.7523%2C%201.0%5D%2C%20%5B30.5882%2C%20-101.804%2C%200.0%5D%2C%20%5B33.17215%2C%20-102.2916%2C%201.0%5D%2C%20%5B44.10905%2C%20-111.0609%2C%201.0%5D%2C%20%5B37.117925%2C%20-92.17261500000001%2C%201.0%5D%2C%20%5B40.155%2C%20-97.58815%2C%200.0%5D%2C%20%5B31.00178%2C%20-84.00289000000002%2C%200.0%5D%2C%20%5B33.18442%2C%20-99.11749%2C%201.0%5D%2C%20%5B46.806889999999996%2C%20-122.72045%2C%200.0%5D%2C%20%5B31.45663%2C%20-83.51971499999999%2C%201.0%5D%2C%20%5B45.39202%2C%20-123.84095%2C%201.0%5D%2C%20%5B34.362955%2C%20-98.9235%2C%200.0%5D%2C%20%5B41.93012%2C%20-77.07423%2C%201.0%5D%2C%20%5B34.748815%2C%20-88.91793%2C%200.0%5D%2C%20%5B40.41206%2C%20-86.85669%2C%201.0%5D%2C%20%5B35.56333%2C%20-89.62386%2C%201.0%5D%2C%20%5B34.74595%2C%20-88.25641999999998%2C%200.0%5D%2C%20%5B33.173405%2C%20-94.99536%2C%200.0%5D%2C%20%5B45.86016%2C%20-94.85745%2C%200.0%5D%2C%20%5B41.84763%2C%20-72.34574%2C%201.0%5D%2C%20%5B31.45668%2C%20-100.4417%2C%200.0%5D%2C%20%5B42.45214%2C%20-76.49457%2C%201.0%5D%2C%20%5B40.73814%2C%20-112.73885%2C%201.0%5D%2C%20%5B48.62429%2C%20-111.8628%2C%201.0%5D%2C%20%5B32.161635%2C%20-82.35558%2C%200.0%5D%2C%20%5B34.879615%2C%20-105.8954%2C%200.0%5D%2C%20%5B48.54137%2C%20-99.249705%2C%200.0%5D%2C%20%5B34.92513%2C%20-83.72458%2C%201.0%5D%2C%20%5B47.440079999999995%2C%20-97.177385%2C%201.0%5D%2C%20%5B35.201885000000004%2C%20-82.78553%2C%201.0%5D%2C%20%5B45.788525%2C%20-96.37026%2C%200.0%5D%2C%20%5B30.29042%2C%20-97.7133%2C%200.0%5D%2C%20%5B46.28719%2C%20-107.15315000000001%2C%201.0%5D%2C%20%5B38.94308%2C%20-99.88345%2C%201.0%5D%2C%20%5B44.31057%2C%20-91.349505%2C%201.0%5D%2C%20%5B32.42597%2C%20-82.57738%2C%200.0%5D%2C%20%5B36.84056%2C%20-87.83722500000002%2C%201.0%5D%2C%20%5B38.58889%2C%20-85.30389%2C%201.0%5D%2C%20%5B40.50269%2C%20-122.8366%2C%200.0%5D%2C%20%5B43.385605%2C%20-99.82832%2C%201.0%5D%2C%20%5B33.02043%2C%20-84.99693%2C%200.0%5D%2C%20%5B36.40016%2C%20-86.167185%2C%200.0%5D%2C%20%5B41.25777%2C%20-80.755685%2C%200.0%5D%2C%20%5B39.13733%2C%20-79.64953%2C%201.0%5D%2C%20%5B36.2677%2C%20-119.2148%2C%201.0%5D%2C%20%5B36.13335%2C%20-95.922575%2C%200.0%5D%2C%20%5B34.68202%2C%20-90.34902%2C%200.0%5D%2C%20%5B37.97992%2C%20-120.2648%2C%201.0%5D%2C%20%5B43.23701%2C%20-97.02449%2C%200.0%5D%2C%20%5B33.208389999999994%2C%20-87.591215%2C%200.0%5D%2C%20%5B40.45153%2C%20-81.48312%2C%200.0%5D%2C%20%5B43.52084%2C%20-83.51375%2C%201.0%5D%2C%20%5B32.658%2C%20-83.42365%2C%201.0%5D%2C%20%5B42.520565000000005%2C%20-114.5749%2C%201.0%5D%2C%20%5B30.901380000000003%2C%20-94.26653%2C%201.0%5D%2C%20%5B35.895735%2C%20-76.264675%2C%201.0%5D%2C%20%5B41.275405%2C%20-110.4511%2C%201.0%5D%2C%20%5B40.30797000000001%2C%20-109.5576%2C%200.0%5D%2C%20%5B41.93872%2C%20-74.25589000000002%2C%201.0%5D%2C%20%5B45.78075%2C%20-118.8518%2C%201.0%5D%2C%20%5B36.129%2C%20-82.44666%2C%201.0%5D%2C%20%5B37.592135%2C%20-84.927605%2C%201.0%5D%2C%20%5B32.85072%2C%20-92.46125%2C%201.0%5D%2C%20%5B32.84077%2C%20-94.75069%2C%201.0%5D%2C%20%5B32.90504%2C%20-84.29103%2C%200.0%5D%2C%20%5B31.17085%2C%20-102.1472%2C%200.0%5D%2C%20%5B40.16605%2C%20-111.67060000000001%2C%201.0%5D%2C%20%5B29.31208%2C%20-99.76299%2C%200.0%5D%2C%20%5B29.45033%2C%20-100.8909%2C%200.0%5D%2C%20%5B61.09042000000001%2C%20-145.50130000000001%2C%201.0%5D%2C%20%5B34.7804%2C%20-106.7913%2C%201.0%5D%2C%20%5B44.7204%2C%20-106.7094%2C%200.0%5D%2C%20%5B40.75652%2C%20-91.8767%2C%201.0%5D%2C%20%5B40.87265%2C%20-84.57143%2C%200.0%5D%2C%20%5B32.56684500000001%2C%20-95.858035%2C%201.0%5D%2C%20%5B36.33591%2C%20-78.41594%2C%201.0%5D%2C%20%5B38.025859999999994%2C%20-87.55987999999999%2C%201.0%5D%2C%20%5B41.46931%2C%20-79.80167%2C%201.0%5D%2C%20%5B34.27923%2C%20-119.0919%2C%200.0%5D%2C%20%5B40.15244000000001%2C%20-87.72009%2C%201.0%5D%2C%20%5B29.97193%2C%20-92.25862000000001%2C%201.0%5D%2C%20%5B39.86513%2C%20-87.442245%2C%201.0%5D%2C%20%5B38.012164999999996%2C%20-94.12086500000001%2C%201.0%5D%2C%20%5B31.1503%2C%20-93.18514%2C%200.0%5D%2C%20%5B28.81915%2C%20-96.99377%2C%200.0%5D%2C%20%5B39.43378%2C%20-87.3729%2C%201.0%5D%2C%20%5B45.977905%2C%20-89.59697%2C%201.0%5D%2C%20%5B39.247749999999996%2C%20-82.47815999999999%2C%200.0%5D%2C%20%5B36.827510000000004%2C%20-76.091485%2C%201.0%5D%2C%20%5B29.11194%2C%20-81.08118%2C%200.0%5D%2C%20%5B40.78316%2C%20-85.85293%2C%201.0%5D%2C%20%5B44.300605000000004%2C%20-92.269095%2C%200.0%5D%2C%20%5B38.95009%2C%20-96.17893000000001%2C%201.0%5D%2C%20%5B46.5731%2C%20-94.977575%2C%200.0%5D%2C%20%5B35.97071%2C%20-95.60091%2C%200.0%5D%2C%20%5B46.29622%2C%20-123.4556%2C%200.0%5D%2C%20%5B35.806279999999994%2C%20-78.66907999999998%2C%200.0%5D%2C%20%5B30.151615%2C%20-84.47259%2C%201.0%5D%2C%20%5B44.47207%2C%20-69.10556%2C%201.0%5D%2C%20%5B33.81667%2C%20-87.33131999999998%2C%201.0%5D%2C%20%5B46.08069%2C%20-118.3499%2C%200.0%5D%2C%20%5B38.90805%2C%20-101.7489%2C%200.0%5D%2C%20%5B30.051030000000004%2C%20-96.00816%2C%201.0%5D%2C%20%5B45.42665%2C%20-117.2764%2C%200.0%5D%2C%20%5B48.38305%2C%20-97.49196%2C%201.0%5D%2C%20%5B31.14465%2C%20-90.1298%2C%200.0%5D%2C%20%5B30.85866%2C%20-86.06492%2C%201.0%5D%2C%20%5B42.65274%2C%20-88.54126%2C%201.0%5D%2C%20%5B41.02036%2C%20-92.41013%2C%201.0%5D%2C%20%5B48.21%2C%20-101.57%2C%201.0%5D%2C%20%5B31.235090000000003%2C%20-82.45723000000002%2C%200.0%5D%2C%20%5B39.522679999999994%2C%20-85.812165%2C%201.0%5D%2C%20%5B38.12361%2C%20-87.287735%2C%201.0%5D%2C%20%5B40.46324%2C%20-111.3995%2C%201.0%5D%2C%20%5B45.51764%2C%20-121.2006%2C%201.0%5D%2C%20%5B43.98843%2C%20-93.60448%2C%201.0%5D%2C%20%5B44.017970000000005%2C%20-107.92495%2C%201.0%5D%2C%20%5B45.91587%2C%20-91.81458%2C%201.0%5D%2C%20%5B39.49629%2C%20-88.33645%2C%201.0%5D%2C%20%5B30.851644999999998%2C%20-90.07147499999999%2C%200.0%5D%2C%20%5B35.29123%2C%20-98.975885%2C%200.0%5D%2C%20%5B39.51485%2C%20-119.7812%2C%201.0%5D%2C%20%5B42.271755%2C%20-83.74546500000001%2C%201.0%5D%2C%20%5B36.228875%2C%20-81.72356499999998%2C%201.0%5D%2C%20%5B43.978865%2C%20-94.639585%2C%200.0%5D%2C%20%5B43.054885%2C%20-88.244355%2C%200.0%5D%2C%20%5B44.391724999999994%2C%20-88.98566000000001%2C%200.0%5D%2C%20%5B44.09377%2C%20-89.13644000000002%2C%200.0%5D%2C%20%5B40.759215%2C%20-83.42216000000002%2C%201.0%5D%2C%20%5B38.06458%2C%20-78.89493%2C%201.0%5D%2C%20%5B36.31725%2C%20-88.71347499999999%2C%201.0%5D%2C%20%5B27.61539%2C%20-99.46298%2C%201.0%5D%2C%20%5B41.24291%2C%20-111.9885%2C%201.0%5D%2C%20%5B37.59986%2C%20-92.8714%2C%201.0%5D%2C%20%5B32.63166%2C%20-93.3186%2C%201.0%5D%2C%20%5B40.38258%2C%20-104.7538%2C%201.0%5D%2C%20%5B40.753695%2C%20-85.279525%2C%201.0%5D%2C%20%5B30.472595%2C%20-91.274215%2C%200.0%5D%2C%20%5B32.795345%2C%20-91.44925%2C%201.0%5D%2C%20%5B30.844355%2C%20-91.332745%2C%201.0%5D%2C%20%5B41.03268%2C%20-73.80439%2C%201.0%5D%2C%20%5B40.292429999999996%2C%20-79.56818%2C%201.0%5D%2C%20%5B43.84951%2C%20-104.4717%2C%201.0%5D%2C%20%5B39.61122%2C%20-80.63139%2C%201.0%5D%2C%20%5B44.28078000000001%2C%20-85.40616999999999%2C%200.5%5D%2C%20%5B29.258315000000003%2C%20-96.20929%2C%201.0%5D%2C%20%5B48.85581%2C%20-122.3533%2C%201.0%5D%2C%20%5B46.433004999999994%2C%20-109.88355%2C%201.0%5D%2C%20%5B35.32451999999999%2C%20-100.23845%2C%201.0%5D%2C%20%5B36.03132%2C%20-88.16555%2C%201.0%5D%2C%20%5B39.0507%2C%20-114.9405%2C%201.0%5D%2C%20%5B41.77243%2C%20-89.87016%2C%201.0%5D%2C%20%5B34.78322%2C%20-84.96728999999999%2C%201.0%5D%2C%20%5B36.91666%2C%20-84.18333%2C%201.0%5D%2C%20%5B46.94707%2C%20-117.3544%2C%200.0%5D%2C%20%5B46.94059%2C%20-104.1888%2C%201.0%5D%2C%20%5B33.929905000000005%2C%20-98.54608999999999%2C%201.0%5D%2C%20%5B38.368755%2C%20-75.57601499999998%2C%201.0%5D%2C%20%5B34.15965%2C%20-99.27122%2C%201.0%5D%2C%20%5B31.99256%2C%20-87.1014%2C%200.0%5D%2C%20%5B36.16144%2C%20-81.22307500000001%2C%201.0%5D%2C%20%5B46.36967%2C%20-96.49398%2C%200.0%5D%2C%20%5B31.2957%2C%20-91.13389%2C%200.0%5D%2C%20%5B41.49155%2C%20-88.04324%2C%201.0%5D%2C%20%5B26.46222%2C%20-97.78141%2C%200.0%5D%2C%20%5B41.616055%2C%20-84.63263%2C%200.0%5D%2C%20%5B33.67583%2C%20-79.77805%2C%201.0%5D%2C%20%5B37.27317%2C%20-76.690845%2C%200.0%5D%2C%20%5B30.703695%2C%20-97.43930499999999%2C%200.0%5D%2C%20%5B36.12793%2C%20-86.3829%2C%200.0%5D%2C%20%5B39.16485%2C%20-78.16637%2C%201.0%5D%2C%20%5B42.80474%2C%20-72.50976%2C%201.0%5D%2C%20%5B43.586574999999996%2C%20-72.58049%2C%201.0%5D%2C%20%5B31.84297%2C%20-103.103%2C%201.0%5D%2C%20%5B31.96476%2C%20-92.63765000000001%2C%200.0%5D%2C%20%5B42.43222%2C%20-89.01862%2C%201.0%5D%2C%20%5B43.308745%2C%20-91.865875%2C%201.0%5D%2C%20%5B43.981575%2C%20-91.756945%2C%201.0%5D%2C%20%5B33.146305%2C%20-88.949655%2C%200.0%5D%2C%20%5B39.02674%2C%20-81.3934%2C%201.0%5D%2C%20%5B33.34931%2C%20-97.51553%2C%201.0%5D%2C%20%5B37.74347%2C%20-83.467635%2C%200.0%5D%2C%20%5B41.38585%2C%20-83.648965%2C%200.0%5D%2C%20%5B42.457840000000004%2C%20-96.078595%2C%201.0%5D%2C%20%5B40.76289000000001%2C%20-89.17685%2C%201.0%5D%2C%20%5B35.21145999999999%2C%20-91.24363%2C%201.0%5D%2C%20%5B36.79764%2C%20-98.73823%2C%201.0%5D%2C%20%5B37.893860000000004%2C%20-95.70192%2C%201.0%5D%2C%20%5B36.393100000000004%2C%20-99.214185%2C%201.0%5D%2C%20%5B42.2643%2C%20-71.81612%2C%201.0%5D%2C%20%5B40.46976%2C%20-93.21111%2C%200.0%5D%2C%20%5B56.30803%2C%20-132.6277%2C%201.0%5D%2C%20%5B42.68834%2C%20-93.62272%2C%201.0%5D%2C%20%5B40.841235%2C%20-83.27760999999998%2C%200.0%5D%2C%20%5B39.10086%2C%20-94.71806%2C%200.0%5D%2C%20%5B41.52847%2C%20-78.30496%2C%201.0%5D%2C%20%5B36.93161%2C%20-81.07225%2C%201.0%5D%2C%20%5B36.138905%2C%20-80.69487999999998%2C%201.0%5D%2C%20%5B46.5%2C%20-120.4811%2C%200.0%5D%2C%20%5B59.4816%2C%20-139.4948%2C%201.0%5D%2C%20%5B34.0423%2C%20-89.67603000000003%2C%200.0%5D%2C%20%5B45.19464%2C%20-123.2475%2C%201.0%5D%2C%20%5B35.91202%2C%20-82.28315%2C%201.0%5D%2C%20%5B42.981390000000005%2C%20-97.379255%2C%201.0%5D%2C%20%5B42.65453%2C%20-77.077195%2C%201.0%5D%2C%20%5B34.58333%2C%20-112.3999%2C%200.0%5D%2C%20%5B32.80689%2C%20-90.317%2C%201.0%5D%2C%20%5B35.033455000000004%2C%20-93.39598000000001%2C%200.0%5D%2C%20%5B44.716300000000004%2C%20-95.92084%2C%200.0%5D%2C%20%5B45.796435%2C%20-108.4789%2C%201.0%5D%2C%20%5B38.67699%2C%20-121.8963%2C%200.0%5D%2C%20%5B39.97912%2C%20-76.83582%2C%201.0%5D%2C%20%5B33.182975%2C%20-98.67302000000001%2C%201.0%5D%2C%20%5B39.13579%2C%20-121.4097%2C%201.0%5D%2C%20%5B65.43958%2C%20-149.8522%2C%201.0%5D%2C%20%5B32.706255%2C%20-114.2338%2C%201.0%5D%2C%20%5B26.94764%2C%20-99.233295%2C%200.0%5D%2C%20%5B28.930145000000003%2C%20-99.829835%2C%201.0%5D%2C%20%5B44.87796%2C%20-101.6225%2C%201.0%5D%5D%2C%0A%20%20%20%20%20%20%20%20%20%20%20%20%20%20%20%20%7B%22blur%22%3A%2015%2C%20%22maxZoom%22%3A%2018%2C%20%22minOpacity%22%3A%200.5%2C%20%22radius%22%3A%2025%7D%0A%20%20%20%20%20%20%20%20%20%20%20%20%29.addTo%28map_6e2be5516baa4d58896626b1d0837ef6%29%3B%0A%20%20%20%20%20%20%20%20%0A%3C/script%3E onload=\"this.contentDocument.open();this.contentDocument.write(    decodeURIComponent(this.getAttribute('data-html')));this.contentDocument.close();\" allowfullscreen webkitallowfullscreen mozallowfullscreen></iframe></div></div>"
      ],
      "text/plain": [
       "<folium.folium.Map at 0x21d8a784ee0>"
      ]
     },
     "metadata": {},
     "output_type": "display_data"
    }
   ],
   "source": [
    "HeatMap(data = data6).add_to(m)\n",
    "display(m)"
   ]
  },
  {
   "cell_type": "markdown",
   "metadata": {},
   "source": [
    "## By New York Counties"
   ]
  },
  {
   "cell_type": "code",
   "execution_count": 57,
   "metadata": {
    "ExecuteTime": {
     "end_time": "2021-09-07T06:49:43.922987Z",
     "start_time": "2021-09-07T06:49:43.785985Z"
    }
   },
   "outputs": [
    {
     "data": {
      "text/html": [
       "<div>\n",
       "<style scoped>\n",
       "    .dataframe tbody tr th:only-of-type {\n",
       "        vertical-align: middle;\n",
       "    }\n",
       "\n",
       "    .dataframe tbody tr th {\n",
       "        vertical-align: top;\n",
       "    }\n",
       "\n",
       "    .dataframe thead th {\n",
       "        text-align: right;\n",
       "    }\n",
       "</style>\n",
       "<table border=\"1\" class=\"dataframe\">\n",
       "  <thead>\n",
       "    <tr style=\"text-align: right;\">\n",
       "      <th></th>\n",
       "      <th>state</th>\n",
       "      <th>county</th>\n",
       "      <th>latitude</th>\n",
       "      <th>longitude</th>\n",
       "      <th>bridge_condition</th>\n",
       "    </tr>\n",
       "  </thead>\n",
       "  <tbody>\n",
       "    <tr>\n",
       "      <th>80027</th>\n",
       "      <td>New York</td>\n",
       "      <td>Queens County</td>\n",
       "      <td>40.75241</td>\n",
       "      <td>-73.89771</td>\n",
       "      <td>0</td>\n",
       "    </tr>\n",
       "    <tr>\n",
       "      <th>80028</th>\n",
       "      <td>New York</td>\n",
       "      <td>Kings County</td>\n",
       "      <td>40.62864</td>\n",
       "      <td>-73.96584</td>\n",
       "      <td>1</td>\n",
       "    </tr>\n",
       "    <tr>\n",
       "      <th>80029</th>\n",
       "      <td>New York</td>\n",
       "      <td>Westchester County</td>\n",
       "      <td>40.90263</td>\n",
       "      <td>-73.81498</td>\n",
       "      <td>1</td>\n",
       "    </tr>\n",
       "    <tr>\n",
       "      <th>80030</th>\n",
       "      <td>New York</td>\n",
       "      <td>Westchester County</td>\n",
       "      <td>41.03113</td>\n",
       "      <td>-73.74497</td>\n",
       "      <td>0</td>\n",
       "    </tr>\n",
       "    <tr>\n",
       "      <th>80031</th>\n",
       "      <td>New York</td>\n",
       "      <td>Queens County</td>\n",
       "      <td>40.75414</td>\n",
       "      <td>-73.89879</td>\n",
       "      <td>0</td>\n",
       "    </tr>\n",
       "  </tbody>\n",
       "</table>\n",
       "</div>"
      ],
      "text/plain": [
       "          state              county  latitude  longitude  bridge_condition\n",
       "80027  New York       Queens County  40.75241  -73.89771                 0\n",
       "80028  New York        Kings County  40.62864  -73.96584                 1\n",
       "80029  New York  Westchester County  40.90263  -73.81498                 1\n",
       "80030  New York  Westchester County  41.03113  -73.74497                 0\n",
       "80031  New York       Queens County  40.75414  -73.89879                 0"
      ]
     },
     "execution_count": 57,
     "metadata": {},
     "output_type": "execute_result"
    }
   ],
   "source": [
    "ny_df = df2[['state','county', 'latitude','longitude', 'bridge_condition']]\n",
    "ny_dfx = ny_df[ny_df['state']=='New York']\n",
    "ny_dfx.head()"
   ]
  },
  {
   "cell_type": "code",
   "execution_count": 59,
   "metadata": {
    "ExecuteTime": {
     "end_time": "2021-09-07T06:50:07.672396Z",
     "start_time": "2021-09-07T06:50:07.637662Z"
    }
   },
   "outputs": [
    {
     "data": {
      "text/plain": [
       "[[42.663485, -73.824365, 1.0],\n",
       " [42.252735, -78.012665, 1.0],\n",
       " [40.840755, -73.89137, 1.0],\n",
       " [42.115115, -75.896675, 1.0],\n",
       " [42.244110000000006, -78.640705, 0.0],\n",
       " [42.933170000000004, -76.5702, 1.0],\n",
       " [42.18464, -79.31423000000002, 1.0],\n",
       " [42.146355, -76.80446, 1.0],\n",
       " [42.497659999999996, -75.566615, 1.0],\n",
       " [44.77087, -73.56551999999998, 1.0],\n",
       " [42.277465, -73.58520999999999, 1.0],\n",
       " [42.60021, -76.10167, 1.0],\n",
       " [42.17362, -74.98716999999998, 1.0],\n",
       " [41.70834, -73.79431, 1.0],\n",
       " [42.85523, -78.770625, 1.0],\n",
       " [44.194915, -73.669245, 1.0],\n",
       " [44.83844000000001, -74.31574, 1.0],\n",
       " [43.06853, -74.37677, 1.0],\n",
       " [42.99758, -78.1925, 1.0],\n",
       " [42.258539999999996, -74.095455, 1.0],\n",
       " [43.56228, -74.42979, 1.0],\n",
       " [43.06454, -74.99356999999998, 1.0],\n",
       " [43.99065, -75.96670999999998, 1.0],\n",
       " [40.648300000000006, -73.98046500000001, 1.0],\n",
       " [43.74097, -75.45362, 1.0],\n",
       " [42.66868, -77.76379, 1.0],\n",
       " [42.97546, -75.73168000000003, 1.0],\n",
       " [43.15114000000001, -77.65951, 1.0],\n",
       " [42.92784, -74.43791, 1.0],\n",
       " [40.70102, -73.58281, 1.0],\n",
       " [40.77151, -73.97386999999998, 1.0],\n",
       " [43.141639999999995, -78.82822, 1.0],\n",
       " [43.1907, -75.37144, 1.0],\n",
       " [43.056955, -76.15429499999999, 1.0],\n",
       " [42.91269000000001, -77.27698000000002, 1.0],\n",
       " [41.421215000000004, -74.28813500000001, 1.0],\n",
       " [43.29373, -78.19328, 1.0],\n",
       " [43.41745, -76.16983, 1.0],\n",
       " [42.59169, -75.051705, 1.0],\n",
       " [41.41451, -73.653625, 1.0],\n",
       " [40.731120000000004, -73.83385499999999, 1.0],\n",
       " [42.64416, -73.58188, 1.0],\n",
       " [40.607325, -74.15207000000001, 0.0],\n",
       " [41.10435, -74.006245, 1.0],\n",
       " [43.045495, -73.79077000000001, 1.0],\n",
       " [42.79513, -74.01276999999997, 1.0],\n",
       " [42.6426, -74.44985, 1.0],\n",
       " [42.35527, -76.82943, 1.0],\n",
       " [42.901865, -76.81681500000002, 1.0],\n",
       " [44.581905, -75.11351000000002, 0.0],\n",
       " [42.26493, -77.3913, 1.0],\n",
       " [40.810215, -73.14754500000001, 1.0],\n",
       " [41.774315, -74.75978500000002, 1.0],\n",
       " [42.09238, -76.35699, 1.0],\n",
       " [42.45214, -76.49457, 1.0],\n",
       " [41.93872, -74.25589000000002, 1.0],\n",
       " [43.56863, -73.78448, 1.0],\n",
       " [43.25502, -73.40401999999997, 1.0],\n",
       " [43.08682, -77.04966999999998, 1.0],\n",
       " [41.03268, -73.80439, 1.0],\n",
       " [42.71679, -78.25467499999999, 1.0],\n",
       " [42.65453, -77.077195, 1.0]]"
      ]
     },
     "execution_count": 59,
     "metadata": {},
     "output_type": "execute_result"
    }
   ],
   "source": [
    "ny_county = ny_dfx.groupby('county').median()[['latitude', 'longitude', 'bridge_condition']].values.tolist()\n",
    "# ny_county = ny_county.reset_index()\n",
    "ny_county"
   ]
  },
  {
   "cell_type": "code",
   "execution_count": 60,
   "metadata": {
    "ExecuteTime": {
     "end_time": "2021-09-07T06:50:10.383254Z",
     "start_time": "2021-09-07T06:50:10.341647Z"
    },
    "scrolled": false
   },
   "outputs": [
    {
     "data": {
      "text/html": [
       "<div style=\"width:100%;\"><div style=\"position:relative;width:100%;height:0;padding-bottom:60%;\"><span style=\"color:#565656\">Make this Notebook Trusted to load map: File -> Trust Notebook</span><iframe src=\"about:blank\" style=\"position:absolute;width:100%;height:100%;left:0;top:0;border:none !important;\" data-html=%3C%21DOCTYPE%20html%3E%0A%3Chead%3E%20%20%20%20%0A%20%20%20%20%3Cmeta%20http-equiv%3D%22content-type%22%20content%3D%22text/html%3B%20charset%3DUTF-8%22%20/%3E%0A%20%20%20%20%0A%20%20%20%20%20%20%20%20%3Cscript%3E%0A%20%20%20%20%20%20%20%20%20%20%20%20L_NO_TOUCH%20%3D%20false%3B%0A%20%20%20%20%20%20%20%20%20%20%20%20L_DISABLE_3D%20%3D%20false%3B%0A%20%20%20%20%20%20%20%20%3C/script%3E%0A%20%20%20%20%0A%20%20%20%20%3Cstyle%3Ehtml%2C%20body%20%7Bwidth%3A%20100%25%3Bheight%3A%20100%25%3Bmargin%3A%200%3Bpadding%3A%200%3B%7D%3C/style%3E%0A%20%20%20%20%3Cstyle%3E%23map%20%7Bposition%3Aabsolute%3Btop%3A0%3Bbottom%3A0%3Bright%3A0%3Bleft%3A0%3B%7D%3C/style%3E%0A%20%20%20%20%3Cscript%20src%3D%22https%3A//cdn.jsdelivr.net/npm/leaflet%401.6.0/dist/leaflet.js%22%3E%3C/script%3E%0A%20%20%20%20%3Cscript%20src%3D%22https%3A//code.jquery.com/jquery-1.12.4.min.js%22%3E%3C/script%3E%0A%20%20%20%20%3Cscript%20src%3D%22https%3A//maxcdn.bootstrapcdn.com/bootstrap/3.2.0/js/bootstrap.min.js%22%3E%3C/script%3E%0A%20%20%20%20%3Cscript%20src%3D%22https%3A//cdnjs.cloudflare.com/ajax/libs/Leaflet.awesome-markers/2.0.2/leaflet.awesome-markers.js%22%3E%3C/script%3E%0A%20%20%20%20%3Clink%20rel%3D%22stylesheet%22%20href%3D%22https%3A//cdn.jsdelivr.net/npm/leaflet%401.6.0/dist/leaflet.css%22/%3E%0A%20%20%20%20%3Clink%20rel%3D%22stylesheet%22%20href%3D%22https%3A//maxcdn.bootstrapcdn.com/bootstrap/3.2.0/css/bootstrap.min.css%22/%3E%0A%20%20%20%20%3Clink%20rel%3D%22stylesheet%22%20href%3D%22https%3A//maxcdn.bootstrapcdn.com/bootstrap/3.2.0/css/bootstrap-theme.min.css%22/%3E%0A%20%20%20%20%3Clink%20rel%3D%22stylesheet%22%20href%3D%22https%3A//maxcdn.bootstrapcdn.com/font-awesome/4.6.3/css/font-awesome.min.css%22/%3E%0A%20%20%20%20%3Clink%20rel%3D%22stylesheet%22%20href%3D%22https%3A//cdnjs.cloudflare.com/ajax/libs/Leaflet.awesome-markers/2.0.2/leaflet.awesome-markers.css%22/%3E%0A%20%20%20%20%3Clink%20rel%3D%22stylesheet%22%20href%3D%22https%3A//cdn.jsdelivr.net/gh/python-visualization/folium/folium/templates/leaflet.awesome.rotate.min.css%22/%3E%0A%20%20%20%20%0A%20%20%20%20%20%20%20%20%20%20%20%20%3Cmeta%20name%3D%22viewport%22%20content%3D%22width%3Ddevice-width%2C%0A%20%20%20%20%20%20%20%20%20%20%20%20%20%20%20%20initial-scale%3D1.0%2C%20maximum-scale%3D1.0%2C%20user-scalable%3Dno%22%20/%3E%0A%20%20%20%20%20%20%20%20%20%20%20%20%3Cstyle%3E%0A%20%20%20%20%20%20%20%20%20%20%20%20%20%20%20%20%23map_a1b17dd082b54211b05e0ae1029d9c6a%20%7B%0A%20%20%20%20%20%20%20%20%20%20%20%20%20%20%20%20%20%20%20%20position%3A%20relative%3B%0A%20%20%20%20%20%20%20%20%20%20%20%20%20%20%20%20%20%20%20%20width%3A%20100.0%25%3B%0A%20%20%20%20%20%20%20%20%20%20%20%20%20%20%20%20%20%20%20%20height%3A%20100.0%25%3B%0A%20%20%20%20%20%20%20%20%20%20%20%20%20%20%20%20%20%20%20%20left%3A%200.0%25%3B%0A%20%20%20%20%20%20%20%20%20%20%20%20%20%20%20%20%20%20%20%20top%3A%200.0%25%3B%0A%20%20%20%20%20%20%20%20%20%20%20%20%20%20%20%20%7D%0A%20%20%20%20%20%20%20%20%20%20%20%20%3C/style%3E%0A%20%20%20%20%20%20%20%20%0A%3C/head%3E%0A%3Cbody%3E%20%20%20%20%0A%20%20%20%20%0A%20%20%20%20%20%20%20%20%20%20%20%20%3Cdiv%20class%3D%22folium-map%22%20id%3D%22map_a1b17dd082b54211b05e0ae1029d9c6a%22%20%3E%3C/div%3E%0A%20%20%20%20%20%20%20%20%0A%3C/body%3E%0A%3Cscript%3E%20%20%20%20%0A%20%20%20%20%0A%20%20%20%20%20%20%20%20%20%20%20%20var%20map_a1b17dd082b54211b05e0ae1029d9c6a%20%3D%20L.map%28%0A%20%20%20%20%20%20%20%20%20%20%20%20%20%20%20%20%22map_a1b17dd082b54211b05e0ae1029d9c6a%22%2C%0A%20%20%20%20%20%20%20%20%20%20%20%20%20%20%20%20%7B%0A%20%20%20%20%20%20%20%20%20%20%20%20%20%20%20%20%20%20%20%20center%3A%20%5B41.0%2C%20-75.0%5D%2C%0A%20%20%20%20%20%20%20%20%20%20%20%20%20%20%20%20%20%20%20%20crs%3A%20L.CRS.EPSG3857%2C%0A%20%20%20%20%20%20%20%20%20%20%20%20%20%20%20%20%20%20%20%20zoom%3A%206%2C%0A%20%20%20%20%20%20%20%20%20%20%20%20%20%20%20%20%20%20%20%20zoomControl%3A%20true%2C%0A%20%20%20%20%20%20%20%20%20%20%20%20%20%20%20%20%20%20%20%20preferCanvas%3A%20false%2C%0A%20%20%20%20%20%20%20%20%20%20%20%20%20%20%20%20%7D%0A%20%20%20%20%20%20%20%20%20%20%20%20%29%3B%0A%0A%20%20%20%20%20%20%20%20%20%20%20%20%0A%0A%20%20%20%20%20%20%20%20%0A%20%20%20%20%0A%20%20%20%20%20%20%20%20%20%20%20%20var%20tile_layer_3c3d1c7824434a21ab2e7e5e2f134a10%20%3D%20L.tileLayer%28%0A%20%20%20%20%20%20%20%20%20%20%20%20%20%20%20%20%22https%3A//%7Bs%7D.tile.openstreetmap.org/%7Bz%7D/%7Bx%7D/%7By%7D.png%22%2C%0A%20%20%20%20%20%20%20%20%20%20%20%20%20%20%20%20%7B%22attribution%22%3A%20%22Data%20by%20%5Cu0026copy%3B%20%5Cu003ca%20href%3D%5C%22http%3A//openstreetmap.org%5C%22%5Cu003eOpenStreetMap%5Cu003c/a%5Cu003e%2C%20under%20%5Cu003ca%20href%3D%5C%22http%3A//www.openstreetmap.org/copyright%5C%22%5Cu003eODbL%5Cu003c/a%5Cu003e.%22%2C%20%22detectRetina%22%3A%20false%2C%20%22maxNativeZoom%22%3A%2018%2C%20%22maxZoom%22%3A%2018%2C%20%22minZoom%22%3A%200%2C%20%22noWrap%22%3A%20false%2C%20%22opacity%22%3A%201%2C%20%22subdomains%22%3A%20%22abc%22%2C%20%22tms%22%3A%20false%7D%0A%20%20%20%20%20%20%20%20%20%20%20%20%29.addTo%28map_a1b17dd082b54211b05e0ae1029d9c6a%29%3B%0A%20%20%20%20%20%20%20%20%0A%3C/script%3E onload=\"this.contentDocument.open();this.contentDocument.write(    decodeURIComponent(this.getAttribute('data-html')));this.contentDocument.close();\" allowfullscreen webkitallowfullscreen mozallowfullscreen></iframe></div></div>"
      ],
      "text/plain": [
       "<folium.folium.Map at 0x21d822ebeb0>"
      ]
     },
     "execution_count": 60,
     "metadata": {},
     "output_type": "execute_result"
    }
   ],
   "source": [
    "# Make an empty map\n",
    "m = folium.Map(location=[41,-75], tiles=\"OpenStreetMap\", zoom_start=6)\n",
    "\n",
    "# Show the map\n",
    "m"
   ]
  },
  {
   "cell_type": "code",
   "execution_count": 61,
   "metadata": {
    "ExecuteTime": {
     "end_time": "2021-09-07T06:50:17.938622Z",
     "start_time": "2021-09-07T06:50:17.918608Z"
    },
    "scrolled": true
   },
   "outputs": [
    {
     "data": {
      "text/html": [
       "<div style=\"width:100%;\"><div style=\"position:relative;width:100%;height:0;padding-bottom:60%;\"><span style=\"color:#565656\">Make this Notebook Trusted to load map: File -> Trust Notebook</span><iframe src=\"about:blank\" style=\"position:absolute;width:100%;height:100%;left:0;top:0;border:none !important;\" data-html=%3C%21DOCTYPE%20html%3E%0A%3Chead%3E%20%20%20%20%0A%20%20%20%20%3Cmeta%20http-equiv%3D%22content-type%22%20content%3D%22text/html%3B%20charset%3DUTF-8%22%20/%3E%0A%20%20%20%20%0A%20%20%20%20%20%20%20%20%3Cscript%3E%0A%20%20%20%20%20%20%20%20%20%20%20%20L_NO_TOUCH%20%3D%20false%3B%0A%20%20%20%20%20%20%20%20%20%20%20%20L_DISABLE_3D%20%3D%20false%3B%0A%20%20%20%20%20%20%20%20%3C/script%3E%0A%20%20%20%20%0A%20%20%20%20%3Cstyle%3Ehtml%2C%20body%20%7Bwidth%3A%20100%25%3Bheight%3A%20100%25%3Bmargin%3A%200%3Bpadding%3A%200%3B%7D%3C/style%3E%0A%20%20%20%20%3Cstyle%3E%23map%20%7Bposition%3Aabsolute%3Btop%3A0%3Bbottom%3A0%3Bright%3A0%3Bleft%3A0%3B%7D%3C/style%3E%0A%20%20%20%20%3Cscript%20src%3D%22https%3A//cdn.jsdelivr.net/npm/leaflet%401.6.0/dist/leaflet.js%22%3E%3C/script%3E%0A%20%20%20%20%3Cscript%20src%3D%22https%3A//code.jquery.com/jquery-1.12.4.min.js%22%3E%3C/script%3E%0A%20%20%20%20%3Cscript%20src%3D%22https%3A//maxcdn.bootstrapcdn.com/bootstrap/3.2.0/js/bootstrap.min.js%22%3E%3C/script%3E%0A%20%20%20%20%3Cscript%20src%3D%22https%3A//cdnjs.cloudflare.com/ajax/libs/Leaflet.awesome-markers/2.0.2/leaflet.awesome-markers.js%22%3E%3C/script%3E%0A%20%20%20%20%3Clink%20rel%3D%22stylesheet%22%20href%3D%22https%3A//cdn.jsdelivr.net/npm/leaflet%401.6.0/dist/leaflet.css%22/%3E%0A%20%20%20%20%3Clink%20rel%3D%22stylesheet%22%20href%3D%22https%3A//maxcdn.bootstrapcdn.com/bootstrap/3.2.0/css/bootstrap.min.css%22/%3E%0A%20%20%20%20%3Clink%20rel%3D%22stylesheet%22%20href%3D%22https%3A//maxcdn.bootstrapcdn.com/bootstrap/3.2.0/css/bootstrap-theme.min.css%22/%3E%0A%20%20%20%20%3Clink%20rel%3D%22stylesheet%22%20href%3D%22https%3A//maxcdn.bootstrapcdn.com/font-awesome/4.6.3/css/font-awesome.min.css%22/%3E%0A%20%20%20%20%3Clink%20rel%3D%22stylesheet%22%20href%3D%22https%3A//cdnjs.cloudflare.com/ajax/libs/Leaflet.awesome-markers/2.0.2/leaflet.awesome-markers.css%22/%3E%0A%20%20%20%20%3Clink%20rel%3D%22stylesheet%22%20href%3D%22https%3A//cdn.jsdelivr.net/gh/python-visualization/folium/folium/templates/leaflet.awesome.rotate.min.css%22/%3E%0A%20%20%20%20%0A%20%20%20%20%20%20%20%20%20%20%20%20%3Cmeta%20name%3D%22viewport%22%20content%3D%22width%3Ddevice-width%2C%0A%20%20%20%20%20%20%20%20%20%20%20%20%20%20%20%20initial-scale%3D1.0%2C%20maximum-scale%3D1.0%2C%20user-scalable%3Dno%22%20/%3E%0A%20%20%20%20%20%20%20%20%20%20%20%20%3Cstyle%3E%0A%20%20%20%20%20%20%20%20%20%20%20%20%20%20%20%20%23map_a1b17dd082b54211b05e0ae1029d9c6a%20%7B%0A%20%20%20%20%20%20%20%20%20%20%20%20%20%20%20%20%20%20%20%20position%3A%20relative%3B%0A%20%20%20%20%20%20%20%20%20%20%20%20%20%20%20%20%20%20%20%20width%3A%20100.0%25%3B%0A%20%20%20%20%20%20%20%20%20%20%20%20%20%20%20%20%20%20%20%20height%3A%20100.0%25%3B%0A%20%20%20%20%20%20%20%20%20%20%20%20%20%20%20%20%20%20%20%20left%3A%200.0%25%3B%0A%20%20%20%20%20%20%20%20%20%20%20%20%20%20%20%20%20%20%20%20top%3A%200.0%25%3B%0A%20%20%20%20%20%20%20%20%20%20%20%20%20%20%20%20%7D%0A%20%20%20%20%20%20%20%20%20%20%20%20%3C/style%3E%0A%20%20%20%20%20%20%20%20%0A%20%20%20%20%3Cscript%20src%3D%22https%3A//cdn.jsdelivr.net/gh/python-visualization/folium%40master/folium/templates/leaflet_heat.min.js%22%3E%3C/script%3E%0A%3C/head%3E%0A%3Cbody%3E%20%20%20%20%0A%20%20%20%20%0A%20%20%20%20%20%20%20%20%20%20%20%20%3Cdiv%20class%3D%22folium-map%22%20id%3D%22map_a1b17dd082b54211b05e0ae1029d9c6a%22%20%3E%3C/div%3E%0A%20%20%20%20%20%20%20%20%0A%3C/body%3E%0A%3Cscript%3E%20%20%20%20%0A%20%20%20%20%0A%20%20%20%20%20%20%20%20%20%20%20%20var%20map_a1b17dd082b54211b05e0ae1029d9c6a%20%3D%20L.map%28%0A%20%20%20%20%20%20%20%20%20%20%20%20%20%20%20%20%22map_a1b17dd082b54211b05e0ae1029d9c6a%22%2C%0A%20%20%20%20%20%20%20%20%20%20%20%20%20%20%20%20%7B%0A%20%20%20%20%20%20%20%20%20%20%20%20%20%20%20%20%20%20%20%20center%3A%20%5B41.0%2C%20-75.0%5D%2C%0A%20%20%20%20%20%20%20%20%20%20%20%20%20%20%20%20%20%20%20%20crs%3A%20L.CRS.EPSG3857%2C%0A%20%20%20%20%20%20%20%20%20%20%20%20%20%20%20%20%20%20%20%20zoom%3A%206%2C%0A%20%20%20%20%20%20%20%20%20%20%20%20%20%20%20%20%20%20%20%20zoomControl%3A%20true%2C%0A%20%20%20%20%20%20%20%20%20%20%20%20%20%20%20%20%20%20%20%20preferCanvas%3A%20false%2C%0A%20%20%20%20%20%20%20%20%20%20%20%20%20%20%20%20%7D%0A%20%20%20%20%20%20%20%20%20%20%20%20%29%3B%0A%0A%20%20%20%20%20%20%20%20%20%20%20%20%0A%0A%20%20%20%20%20%20%20%20%0A%20%20%20%20%0A%20%20%20%20%20%20%20%20%20%20%20%20var%20tile_layer_3c3d1c7824434a21ab2e7e5e2f134a10%20%3D%20L.tileLayer%28%0A%20%20%20%20%20%20%20%20%20%20%20%20%20%20%20%20%22https%3A//%7Bs%7D.tile.openstreetmap.org/%7Bz%7D/%7Bx%7D/%7By%7D.png%22%2C%0A%20%20%20%20%20%20%20%20%20%20%20%20%20%20%20%20%7B%22attribution%22%3A%20%22Data%20by%20%5Cu0026copy%3B%20%5Cu003ca%20href%3D%5C%22http%3A//openstreetmap.org%5C%22%5Cu003eOpenStreetMap%5Cu003c/a%5Cu003e%2C%20under%20%5Cu003ca%20href%3D%5C%22http%3A//www.openstreetmap.org/copyright%5C%22%5Cu003eODbL%5Cu003c/a%5Cu003e.%22%2C%20%22detectRetina%22%3A%20false%2C%20%22maxNativeZoom%22%3A%2018%2C%20%22maxZoom%22%3A%2018%2C%20%22minZoom%22%3A%200%2C%20%22noWrap%22%3A%20false%2C%20%22opacity%22%3A%201%2C%20%22subdomains%22%3A%20%22abc%22%2C%20%22tms%22%3A%20false%7D%0A%20%20%20%20%20%20%20%20%20%20%20%20%29.addTo%28map_a1b17dd082b54211b05e0ae1029d9c6a%29%3B%0A%20%20%20%20%20%20%20%20%0A%20%20%20%20%0A%20%20%20%20%20%20%20%20%20%20%20%20var%20heat_map_ec3084650cab467ba83559a5b3de72cc%20%3D%20L.heatLayer%28%0A%20%20%20%20%20%20%20%20%20%20%20%20%20%20%20%20%5B%5B42.663485%2C%20-73.824365%2C%201.0%5D%2C%20%5B42.252735%2C%20-78.012665%2C%201.0%5D%2C%20%5B40.840755%2C%20-73.89137%2C%201.0%5D%2C%20%5B42.115115%2C%20-75.896675%2C%201.0%5D%2C%20%5B42.244110000000006%2C%20-78.640705%2C%200.0%5D%2C%20%5B42.933170000000004%2C%20-76.5702%2C%201.0%5D%2C%20%5B42.18464%2C%20-79.31423000000002%2C%201.0%5D%2C%20%5B42.146355%2C%20-76.80446%2C%201.0%5D%2C%20%5B42.497659999999996%2C%20-75.566615%2C%201.0%5D%2C%20%5B44.77087%2C%20-73.56551999999998%2C%201.0%5D%2C%20%5B42.277465%2C%20-73.58520999999999%2C%201.0%5D%2C%20%5B42.60021%2C%20-76.10167%2C%201.0%5D%2C%20%5B42.17362%2C%20-74.98716999999998%2C%201.0%5D%2C%20%5B41.70834%2C%20-73.79431%2C%201.0%5D%2C%20%5B42.85523%2C%20-78.770625%2C%201.0%5D%2C%20%5B44.194915%2C%20-73.669245%2C%201.0%5D%2C%20%5B44.83844000000001%2C%20-74.31574%2C%201.0%5D%2C%20%5B43.06853%2C%20-74.37677%2C%201.0%5D%2C%20%5B42.99758%2C%20-78.1925%2C%201.0%5D%2C%20%5B42.258539999999996%2C%20-74.095455%2C%201.0%5D%2C%20%5B43.56228%2C%20-74.42979%2C%201.0%5D%2C%20%5B43.06454%2C%20-74.99356999999998%2C%201.0%5D%2C%20%5B43.99065%2C%20-75.96670999999998%2C%201.0%5D%2C%20%5B40.648300000000006%2C%20-73.98046500000001%2C%201.0%5D%2C%20%5B43.74097%2C%20-75.45362%2C%201.0%5D%2C%20%5B42.66868%2C%20-77.76379%2C%201.0%5D%2C%20%5B42.97546%2C%20-75.73168000000003%2C%201.0%5D%2C%20%5B43.15114000000001%2C%20-77.65951%2C%201.0%5D%2C%20%5B42.92784%2C%20-74.43791%2C%201.0%5D%2C%20%5B40.70102%2C%20-73.58281%2C%201.0%5D%2C%20%5B40.77151%2C%20-73.97386999999998%2C%201.0%5D%2C%20%5B43.141639999999995%2C%20-78.82822%2C%201.0%5D%2C%20%5B43.1907%2C%20-75.37144%2C%201.0%5D%2C%20%5B43.056955%2C%20-76.15429499999999%2C%201.0%5D%2C%20%5B42.91269000000001%2C%20-77.27698000000002%2C%201.0%5D%2C%20%5B41.421215000000004%2C%20-74.28813500000001%2C%201.0%5D%2C%20%5B43.29373%2C%20-78.19328%2C%201.0%5D%2C%20%5B43.41745%2C%20-76.16983%2C%201.0%5D%2C%20%5B42.59169%2C%20-75.051705%2C%201.0%5D%2C%20%5B41.41451%2C%20-73.653625%2C%201.0%5D%2C%20%5B40.731120000000004%2C%20-73.83385499999999%2C%201.0%5D%2C%20%5B42.64416%2C%20-73.58188%2C%201.0%5D%2C%20%5B40.607325%2C%20-74.15207000000001%2C%200.0%5D%2C%20%5B41.10435%2C%20-74.006245%2C%201.0%5D%2C%20%5B43.045495%2C%20-73.79077000000001%2C%201.0%5D%2C%20%5B42.79513%2C%20-74.01276999999997%2C%201.0%5D%2C%20%5B42.6426%2C%20-74.44985%2C%201.0%5D%2C%20%5B42.35527%2C%20-76.82943%2C%201.0%5D%2C%20%5B42.901865%2C%20-76.81681500000002%2C%201.0%5D%2C%20%5B44.581905%2C%20-75.11351000000002%2C%200.0%5D%2C%20%5B42.26493%2C%20-77.3913%2C%201.0%5D%2C%20%5B40.810215%2C%20-73.14754500000001%2C%201.0%5D%2C%20%5B41.774315%2C%20-74.75978500000002%2C%201.0%5D%2C%20%5B42.09238%2C%20-76.35699%2C%201.0%5D%2C%20%5B42.45214%2C%20-76.49457%2C%201.0%5D%2C%20%5B41.93872%2C%20-74.25589000000002%2C%201.0%5D%2C%20%5B43.56863%2C%20-73.78448%2C%201.0%5D%2C%20%5B43.25502%2C%20-73.40401999999997%2C%201.0%5D%2C%20%5B43.08682%2C%20-77.04966999999998%2C%201.0%5D%2C%20%5B41.03268%2C%20-73.80439%2C%201.0%5D%2C%20%5B42.71679%2C%20-78.25467499999999%2C%201.0%5D%2C%20%5B42.65453%2C%20-77.077195%2C%201.0%5D%5D%2C%0A%20%20%20%20%20%20%20%20%20%20%20%20%20%20%20%20%7B%22blur%22%3A%2015%2C%20%22maxZoom%22%3A%2018%2C%20%22minOpacity%22%3A%200.5%2C%20%22radius%22%3A%2025%7D%0A%20%20%20%20%20%20%20%20%20%20%20%20%29.addTo%28map_a1b17dd082b54211b05e0ae1029d9c6a%29%3B%0A%20%20%20%20%20%20%20%20%0A%3C/script%3E onload=\"this.contentDocument.open();this.contentDocument.write(    decodeURIComponent(this.getAttribute('data-html')));this.contentDocument.close();\" allowfullscreen webkitallowfullscreen mozallowfullscreen></iframe></div></div>"
      ],
      "text/plain": [
       "<folium.folium.Map at 0x21d822ebeb0>"
      ]
     },
     "metadata": {},
     "output_type": "display_data"
    }
   ],
   "source": [
    "HeatMap(data = ny_county).add_to(m)\n",
    "display(m)"
   ]
  },
  {
   "cell_type": "code",
   "execution_count": 62,
   "metadata": {
    "ExecuteTime": {
     "end_time": "2021-09-07T06:50:25.355738Z",
     "start_time": "2021-09-07T06:50:25.312173Z"
    }
   },
   "outputs": [],
   "source": [
    "ny_county = ny_dfx.groupby('county').median()\n",
    "ny_county = ny_county.reset_index()"
   ]
  },
  {
   "cell_type": "code",
   "execution_count": 63,
   "metadata": {
    "ExecuteTime": {
     "end_time": "2021-09-07T06:50:32.720637Z",
     "start_time": "2021-09-07T06:50:32.500081Z"
    },
    "scrolled": false
   },
   "outputs": [
    {
     "data": {
      "text/html": [
       "<div style=\"width:100%;\"><div style=\"position:relative;width:100%;height:0;padding-bottom:60%;\"><span style=\"color:#565656\">Make this Notebook Trusted to load map: File -> Trust Notebook</span><iframe src=\"about:blank\" style=\"position:absolute;width:100%;height:100%;left:0;top:0;border:none !important;\" data-html=%3C%21DOCTYPE%20html%3E%0A%3Chead%3E%20%20%20%20%0A%20%20%20%20%3Cmeta%20http-equiv%3D%22content-type%22%20content%3D%22text/html%3B%20charset%3DUTF-8%22%20/%3E%0A%20%20%20%20%0A%20%20%20%20%20%20%20%20%3Cscript%3E%0A%20%20%20%20%20%20%20%20%20%20%20%20L_NO_TOUCH%20%3D%20false%3B%0A%20%20%20%20%20%20%20%20%20%20%20%20L_DISABLE_3D%20%3D%20false%3B%0A%20%20%20%20%20%20%20%20%3C/script%3E%0A%20%20%20%20%0A%20%20%20%20%3Cstyle%3Ehtml%2C%20body%20%7Bwidth%3A%20100%25%3Bheight%3A%20100%25%3Bmargin%3A%200%3Bpadding%3A%200%3B%7D%3C/style%3E%0A%20%20%20%20%3Cstyle%3E%23map%20%7Bposition%3Aabsolute%3Btop%3A0%3Bbottom%3A0%3Bright%3A0%3Bleft%3A0%3B%7D%3C/style%3E%0A%20%20%20%20%3Cscript%20src%3D%22https%3A//cdn.jsdelivr.net/npm/leaflet%401.6.0/dist/leaflet.js%22%3E%3C/script%3E%0A%20%20%20%20%3Cscript%20src%3D%22https%3A//code.jquery.com/jquery-1.12.4.min.js%22%3E%3C/script%3E%0A%20%20%20%20%3Cscript%20src%3D%22https%3A//maxcdn.bootstrapcdn.com/bootstrap/3.2.0/js/bootstrap.min.js%22%3E%3C/script%3E%0A%20%20%20%20%3Cscript%20src%3D%22https%3A//cdnjs.cloudflare.com/ajax/libs/Leaflet.awesome-markers/2.0.2/leaflet.awesome-markers.js%22%3E%3C/script%3E%0A%20%20%20%20%3Clink%20rel%3D%22stylesheet%22%20href%3D%22https%3A//cdn.jsdelivr.net/npm/leaflet%401.6.0/dist/leaflet.css%22/%3E%0A%20%20%20%20%3Clink%20rel%3D%22stylesheet%22%20href%3D%22https%3A//maxcdn.bootstrapcdn.com/bootstrap/3.2.0/css/bootstrap.min.css%22/%3E%0A%20%20%20%20%3Clink%20rel%3D%22stylesheet%22%20href%3D%22https%3A//maxcdn.bootstrapcdn.com/bootstrap/3.2.0/css/bootstrap-theme.min.css%22/%3E%0A%20%20%20%20%3Clink%20rel%3D%22stylesheet%22%20href%3D%22https%3A//maxcdn.bootstrapcdn.com/font-awesome/4.6.3/css/font-awesome.min.css%22/%3E%0A%20%20%20%20%3Clink%20rel%3D%22stylesheet%22%20href%3D%22https%3A//cdnjs.cloudflare.com/ajax/libs/Leaflet.awesome-markers/2.0.2/leaflet.awesome-markers.css%22/%3E%0A%20%20%20%20%3Clink%20rel%3D%22stylesheet%22%20href%3D%22https%3A//cdn.jsdelivr.net/gh/python-visualization/folium/folium/templates/leaflet.awesome.rotate.min.css%22/%3E%0A%20%20%20%20%0A%20%20%20%20%20%20%20%20%20%20%20%20%3Cmeta%20name%3D%22viewport%22%20content%3D%22width%3Ddevice-width%2C%0A%20%20%20%20%20%20%20%20%20%20%20%20%20%20%20%20initial-scale%3D1.0%2C%20maximum-scale%3D1.0%2C%20user-scalable%3Dno%22%20/%3E%0A%20%20%20%20%20%20%20%20%20%20%20%20%3Cstyle%3E%0A%20%20%20%20%20%20%20%20%20%20%20%20%20%20%20%20%23map_a1b17dd082b54211b05e0ae1029d9c6a%20%7B%0A%20%20%20%20%20%20%20%20%20%20%20%20%20%20%20%20%20%20%20%20position%3A%20relative%3B%0A%20%20%20%20%20%20%20%20%20%20%20%20%20%20%20%20%20%20%20%20width%3A%20100.0%25%3B%0A%20%20%20%20%20%20%20%20%20%20%20%20%20%20%20%20%20%20%20%20height%3A%20100.0%25%3B%0A%20%20%20%20%20%20%20%20%20%20%20%20%20%20%20%20%20%20%20%20left%3A%200.0%25%3B%0A%20%20%20%20%20%20%20%20%20%20%20%20%20%20%20%20%20%20%20%20top%3A%200.0%25%3B%0A%20%20%20%20%20%20%20%20%20%20%20%20%20%20%20%20%7D%0A%20%20%20%20%20%20%20%20%20%20%20%20%3C/style%3E%0A%20%20%20%20%20%20%20%20%0A%20%20%20%20%3Cscript%20src%3D%22https%3A//cdn.jsdelivr.net/gh/python-visualization/folium%40master/folium/templates/leaflet_heat.min.js%22%3E%3C/script%3E%0A%3C/head%3E%0A%3Cbody%3E%20%20%20%20%0A%20%20%20%20%0A%20%20%20%20%20%20%20%20%20%20%20%20%3Cdiv%20class%3D%22folium-map%22%20id%3D%22map_a1b17dd082b54211b05e0ae1029d9c6a%22%20%3E%3C/div%3E%0A%20%20%20%20%20%20%20%20%0A%3C/body%3E%0A%3Cscript%3E%20%20%20%20%0A%20%20%20%20%0A%20%20%20%20%20%20%20%20%20%20%20%20var%20map_a1b17dd082b54211b05e0ae1029d9c6a%20%3D%20L.map%28%0A%20%20%20%20%20%20%20%20%20%20%20%20%20%20%20%20%22map_a1b17dd082b54211b05e0ae1029d9c6a%22%2C%0A%20%20%20%20%20%20%20%20%20%20%20%20%20%20%20%20%7B%0A%20%20%20%20%20%20%20%20%20%20%20%20%20%20%20%20%20%20%20%20center%3A%20%5B41.0%2C%20-75.0%5D%2C%0A%20%20%20%20%20%20%20%20%20%20%20%20%20%20%20%20%20%20%20%20crs%3A%20L.CRS.EPSG3857%2C%0A%20%20%20%20%20%20%20%20%20%20%20%20%20%20%20%20%20%20%20%20zoom%3A%206%2C%0A%20%20%20%20%20%20%20%20%20%20%20%20%20%20%20%20%20%20%20%20zoomControl%3A%20true%2C%0A%20%20%20%20%20%20%20%20%20%20%20%20%20%20%20%20%20%20%20%20preferCanvas%3A%20false%2C%0A%20%20%20%20%20%20%20%20%20%20%20%20%20%20%20%20%7D%0A%20%20%20%20%20%20%20%20%20%20%20%20%29%3B%0A%0A%20%20%20%20%20%20%20%20%20%20%20%20%0A%0A%20%20%20%20%20%20%20%20%0A%20%20%20%20%0A%20%20%20%20%20%20%20%20%20%20%20%20var%20tile_layer_3c3d1c7824434a21ab2e7e5e2f134a10%20%3D%20L.tileLayer%28%0A%20%20%20%20%20%20%20%20%20%20%20%20%20%20%20%20%22https%3A//%7Bs%7D.tile.openstreetmap.org/%7Bz%7D/%7Bx%7D/%7By%7D.png%22%2C%0A%20%20%20%20%20%20%20%20%20%20%20%20%20%20%20%20%7B%22attribution%22%3A%20%22Data%20by%20%5Cu0026copy%3B%20%5Cu003ca%20href%3D%5C%22http%3A//openstreetmap.org%5C%22%5Cu003eOpenStreetMap%5Cu003c/a%5Cu003e%2C%20under%20%5Cu003ca%20href%3D%5C%22http%3A//www.openstreetmap.org/copyright%5C%22%5Cu003eODbL%5Cu003c/a%5Cu003e.%22%2C%20%22detectRetina%22%3A%20false%2C%20%22maxNativeZoom%22%3A%2018%2C%20%22maxZoom%22%3A%2018%2C%20%22minZoom%22%3A%200%2C%20%22noWrap%22%3A%20false%2C%20%22opacity%22%3A%201%2C%20%22subdomains%22%3A%20%22abc%22%2C%20%22tms%22%3A%20false%7D%0A%20%20%20%20%20%20%20%20%20%20%20%20%29.addTo%28map_a1b17dd082b54211b05e0ae1029d9c6a%29%3B%0A%20%20%20%20%20%20%20%20%0A%20%20%20%20%0A%20%20%20%20%20%20%20%20%20%20%20%20var%20heat_map_ec3084650cab467ba83559a5b3de72cc%20%3D%20L.heatLayer%28%0A%20%20%20%20%20%20%20%20%20%20%20%20%20%20%20%20%5B%5B42.663485%2C%20-73.824365%2C%201.0%5D%2C%20%5B42.252735%2C%20-78.012665%2C%201.0%5D%2C%20%5B40.840755%2C%20-73.89137%2C%201.0%5D%2C%20%5B42.115115%2C%20-75.896675%2C%201.0%5D%2C%20%5B42.244110000000006%2C%20-78.640705%2C%200.0%5D%2C%20%5B42.933170000000004%2C%20-76.5702%2C%201.0%5D%2C%20%5B42.18464%2C%20-79.31423000000002%2C%201.0%5D%2C%20%5B42.146355%2C%20-76.80446%2C%201.0%5D%2C%20%5B42.497659999999996%2C%20-75.566615%2C%201.0%5D%2C%20%5B44.77087%2C%20-73.56551999999998%2C%201.0%5D%2C%20%5B42.277465%2C%20-73.58520999999999%2C%201.0%5D%2C%20%5B42.60021%2C%20-76.10167%2C%201.0%5D%2C%20%5B42.17362%2C%20-74.98716999999998%2C%201.0%5D%2C%20%5B41.70834%2C%20-73.79431%2C%201.0%5D%2C%20%5B42.85523%2C%20-78.770625%2C%201.0%5D%2C%20%5B44.194915%2C%20-73.669245%2C%201.0%5D%2C%20%5B44.83844000000001%2C%20-74.31574%2C%201.0%5D%2C%20%5B43.06853%2C%20-74.37677%2C%201.0%5D%2C%20%5B42.99758%2C%20-78.1925%2C%201.0%5D%2C%20%5B42.258539999999996%2C%20-74.095455%2C%201.0%5D%2C%20%5B43.56228%2C%20-74.42979%2C%201.0%5D%2C%20%5B43.06454%2C%20-74.99356999999998%2C%201.0%5D%2C%20%5B43.99065%2C%20-75.96670999999998%2C%201.0%5D%2C%20%5B40.648300000000006%2C%20-73.98046500000001%2C%201.0%5D%2C%20%5B43.74097%2C%20-75.45362%2C%201.0%5D%2C%20%5B42.66868%2C%20-77.76379%2C%201.0%5D%2C%20%5B42.97546%2C%20-75.73168000000003%2C%201.0%5D%2C%20%5B43.15114000000001%2C%20-77.65951%2C%201.0%5D%2C%20%5B42.92784%2C%20-74.43791%2C%201.0%5D%2C%20%5B40.70102%2C%20-73.58281%2C%201.0%5D%2C%20%5B40.77151%2C%20-73.97386999999998%2C%201.0%5D%2C%20%5B43.141639999999995%2C%20-78.82822%2C%201.0%5D%2C%20%5B43.1907%2C%20-75.37144%2C%201.0%5D%2C%20%5B43.056955%2C%20-76.15429499999999%2C%201.0%5D%2C%20%5B42.91269000000001%2C%20-77.27698000000002%2C%201.0%5D%2C%20%5B41.421215000000004%2C%20-74.28813500000001%2C%201.0%5D%2C%20%5B43.29373%2C%20-78.19328%2C%201.0%5D%2C%20%5B43.41745%2C%20-76.16983%2C%201.0%5D%2C%20%5B42.59169%2C%20-75.051705%2C%201.0%5D%2C%20%5B41.41451%2C%20-73.653625%2C%201.0%5D%2C%20%5B40.731120000000004%2C%20-73.83385499999999%2C%201.0%5D%2C%20%5B42.64416%2C%20-73.58188%2C%201.0%5D%2C%20%5B40.607325%2C%20-74.15207000000001%2C%200.0%5D%2C%20%5B41.10435%2C%20-74.006245%2C%201.0%5D%2C%20%5B43.045495%2C%20-73.79077000000001%2C%201.0%5D%2C%20%5B42.79513%2C%20-74.01276999999997%2C%201.0%5D%2C%20%5B42.6426%2C%20-74.44985%2C%201.0%5D%2C%20%5B42.35527%2C%20-76.82943%2C%201.0%5D%2C%20%5B42.901865%2C%20-76.81681500000002%2C%201.0%5D%2C%20%5B44.581905%2C%20-75.11351000000002%2C%200.0%5D%2C%20%5B42.26493%2C%20-77.3913%2C%201.0%5D%2C%20%5B40.810215%2C%20-73.14754500000001%2C%201.0%5D%2C%20%5B41.774315%2C%20-74.75978500000002%2C%201.0%5D%2C%20%5B42.09238%2C%20-76.35699%2C%201.0%5D%2C%20%5B42.45214%2C%20-76.49457%2C%201.0%5D%2C%20%5B41.93872%2C%20-74.25589000000002%2C%201.0%5D%2C%20%5B43.56863%2C%20-73.78448%2C%201.0%5D%2C%20%5B43.25502%2C%20-73.40401999999997%2C%201.0%5D%2C%20%5B43.08682%2C%20-77.04966999999998%2C%201.0%5D%2C%20%5B41.03268%2C%20-73.80439%2C%201.0%5D%2C%20%5B42.71679%2C%20-78.25467499999999%2C%201.0%5D%2C%20%5B42.65453%2C%20-77.077195%2C%201.0%5D%5D%2C%0A%20%20%20%20%20%20%20%20%20%20%20%20%20%20%20%20%7B%22blur%22%3A%2015%2C%20%22maxZoom%22%3A%2018%2C%20%22minOpacity%22%3A%200.5%2C%20%22radius%22%3A%2025%7D%0A%20%20%20%20%20%20%20%20%20%20%20%20%29.addTo%28map_a1b17dd082b54211b05e0ae1029d9c6a%29%3B%0A%20%20%20%20%20%20%20%20%0A%20%20%20%20%0A%20%20%20%20%20%20%20%20%20%20%20%20var%20marker_98b2167a8e7240dbabd947d3957eeabc%20%3D%20L.marker%28%0A%20%20%20%20%20%20%20%20%20%20%20%20%20%20%20%20%5B42.663485%2C%20-73.824365%5D%2C%0A%20%20%20%20%20%20%20%20%20%20%20%20%20%20%20%20%7B%7D%0A%20%20%20%20%20%20%20%20%20%20%20%20%29.addTo%28map_a1b17dd082b54211b05e0ae1029d9c6a%29%3B%0A%20%20%20%20%20%20%20%20%0A%20%20%20%20%0A%20%20%20%20%20%20%20%20var%20popup_e7ac8be56c444c6ba2cb913e74e9b208%20%3D%20L.popup%28%7B%22autoClose%22%3A%20false%2C%20%22maxWidth%22%3A%20%22100%25%22%7D%29%3B%0A%0A%20%20%20%20%20%20%20%20%0A%20%20%20%20%20%20%20%20%20%20%20%20var%20html_f741e6e3d456490698c206efb01e30e5%20%3D%20%24%28%60%3Cdiv%20id%3D%22html_f741e6e3d456490698c206efb01e30e5%22%20style%3D%22width%3A%20100.0%25%3B%20height%3A%20100.0%25%3B%22%3EAlbany%20County%3C/div%3E%60%29%5B0%5D%3B%0A%20%20%20%20%20%20%20%20%20%20%20%20popup_e7ac8be56c444c6ba2cb913e74e9b208.setContent%28html_f741e6e3d456490698c206efb01e30e5%29%3B%0A%20%20%20%20%20%20%20%20%0A%0A%20%20%20%20%20%20%20%20marker_98b2167a8e7240dbabd947d3957eeabc.bindPopup%28popup_e7ac8be56c444c6ba2cb913e74e9b208%29%0A%20%20%20%20%20%20%20%20.openPopup%28%29%3B%0A%0A%20%20%20%20%20%20%20%20%0A%20%20%20%20%0A%20%20%20%20%0A%20%20%20%20%20%20%20%20%20%20%20%20var%20marker_5042b158e71145028dd0c79b23214e45%20%3D%20L.marker%28%0A%20%20%20%20%20%20%20%20%20%20%20%20%20%20%20%20%5B42.252735%2C%20-78.012665%5D%2C%0A%20%20%20%20%20%20%20%20%20%20%20%20%20%20%20%20%7B%7D%0A%20%20%20%20%20%20%20%20%20%20%20%20%29.addTo%28map_a1b17dd082b54211b05e0ae1029d9c6a%29%3B%0A%20%20%20%20%20%20%20%20%0A%20%20%20%20%0A%20%20%20%20%20%20%20%20var%20popup_6631f442d1654d8eaca91089332081b2%20%3D%20L.popup%28%7B%22autoClose%22%3A%20false%2C%20%22maxWidth%22%3A%20%22100%25%22%7D%29%3B%0A%0A%20%20%20%20%20%20%20%20%0A%20%20%20%20%20%20%20%20%20%20%20%20var%20html_dfe32379545c4ed19dbba88be09167b1%20%3D%20%24%28%60%3Cdiv%20id%3D%22html_dfe32379545c4ed19dbba88be09167b1%22%20style%3D%22width%3A%20100.0%25%3B%20height%3A%20100.0%25%3B%22%3EAllegany%20County%3C/div%3E%60%29%5B0%5D%3B%0A%20%20%20%20%20%20%20%20%20%20%20%20popup_6631f442d1654d8eaca91089332081b2.setContent%28html_dfe32379545c4ed19dbba88be09167b1%29%3B%0A%20%20%20%20%20%20%20%20%0A%0A%20%20%20%20%20%20%20%20marker_5042b158e71145028dd0c79b23214e45.bindPopup%28popup_6631f442d1654d8eaca91089332081b2%29%0A%20%20%20%20%20%20%20%20.openPopup%28%29%3B%0A%0A%20%20%20%20%20%20%20%20%0A%20%20%20%20%0A%20%20%20%20%0A%20%20%20%20%20%20%20%20%20%20%20%20var%20marker_f8dba4fdd84b43bca3f8f5cd54413eb5%20%3D%20L.marker%28%0A%20%20%20%20%20%20%20%20%20%20%20%20%20%20%20%20%5B40.840755%2C%20-73.89137%5D%2C%0A%20%20%20%20%20%20%20%20%20%20%20%20%20%20%20%20%7B%7D%0A%20%20%20%20%20%20%20%20%20%20%20%20%29.addTo%28map_a1b17dd082b54211b05e0ae1029d9c6a%29%3B%0A%20%20%20%20%20%20%20%20%0A%20%20%20%20%0A%20%20%20%20%20%20%20%20var%20popup_1b2a9fcb2ad64555979aa1cf2884ce8f%20%3D%20L.popup%28%7B%22autoClose%22%3A%20false%2C%20%22maxWidth%22%3A%20%22100%25%22%7D%29%3B%0A%0A%20%20%20%20%20%20%20%20%0A%20%20%20%20%20%20%20%20%20%20%20%20var%20html_b1da30fabd2c4035a210af30a131cc95%20%3D%20%24%28%60%3Cdiv%20id%3D%22html_b1da30fabd2c4035a210af30a131cc95%22%20style%3D%22width%3A%20100.0%25%3B%20height%3A%20100.0%25%3B%22%3EBronx%20County%3C/div%3E%60%29%5B0%5D%3B%0A%20%20%20%20%20%20%20%20%20%20%20%20popup_1b2a9fcb2ad64555979aa1cf2884ce8f.setContent%28html_b1da30fabd2c4035a210af30a131cc95%29%3B%0A%20%20%20%20%20%20%20%20%0A%0A%20%20%20%20%20%20%20%20marker_f8dba4fdd84b43bca3f8f5cd54413eb5.bindPopup%28popup_1b2a9fcb2ad64555979aa1cf2884ce8f%29%0A%20%20%20%20%20%20%20%20.openPopup%28%29%3B%0A%0A%20%20%20%20%20%20%20%20%0A%20%20%20%20%0A%20%20%20%20%0A%20%20%20%20%20%20%20%20%20%20%20%20var%20marker_361cfe16711d4d36bce5a023ca5a0128%20%3D%20L.marker%28%0A%20%20%20%20%20%20%20%20%20%20%20%20%20%20%20%20%5B42.115115%2C%20-75.896675%5D%2C%0A%20%20%20%20%20%20%20%20%20%20%20%20%20%20%20%20%7B%7D%0A%20%20%20%20%20%20%20%20%20%20%20%20%29.addTo%28map_a1b17dd082b54211b05e0ae1029d9c6a%29%3B%0A%20%20%20%20%20%20%20%20%0A%20%20%20%20%0A%20%20%20%20%20%20%20%20var%20popup_f9d25d53a2fa4af4b3d7fa67b519b54f%20%3D%20L.popup%28%7B%22autoClose%22%3A%20false%2C%20%22maxWidth%22%3A%20%22100%25%22%7D%29%3B%0A%0A%20%20%20%20%20%20%20%20%0A%20%20%20%20%20%20%20%20%20%20%20%20var%20html_2b32484f20584a22a9ab3da56fc4e259%20%3D%20%24%28%60%3Cdiv%20id%3D%22html_2b32484f20584a22a9ab3da56fc4e259%22%20style%3D%22width%3A%20100.0%25%3B%20height%3A%20100.0%25%3B%22%3EBroome%20County%3C/div%3E%60%29%5B0%5D%3B%0A%20%20%20%20%20%20%20%20%20%20%20%20popup_f9d25d53a2fa4af4b3d7fa67b519b54f.setContent%28html_2b32484f20584a22a9ab3da56fc4e259%29%3B%0A%20%20%20%20%20%20%20%20%0A%0A%20%20%20%20%20%20%20%20marker_361cfe16711d4d36bce5a023ca5a0128.bindPopup%28popup_f9d25d53a2fa4af4b3d7fa67b519b54f%29%0A%20%20%20%20%20%20%20%20.openPopup%28%29%3B%0A%0A%20%20%20%20%20%20%20%20%0A%20%20%20%20%0A%20%20%20%20%0A%20%20%20%20%20%20%20%20%20%20%20%20var%20marker_052a62b1fdf2467391460552543e7469%20%3D%20L.marker%28%0A%20%20%20%20%20%20%20%20%20%20%20%20%20%20%20%20%5B42.244110000000006%2C%20-78.640705%5D%2C%0A%20%20%20%20%20%20%20%20%20%20%20%20%20%20%20%20%7B%7D%0A%20%20%20%20%20%20%20%20%20%20%20%20%29.addTo%28map_a1b17dd082b54211b05e0ae1029d9c6a%29%3B%0A%20%20%20%20%20%20%20%20%0A%20%20%20%20%0A%20%20%20%20%20%20%20%20var%20popup_0388d2db4dfb41028f75390a8e2456e1%20%3D%20L.popup%28%7B%22autoClose%22%3A%20false%2C%20%22maxWidth%22%3A%20%22100%25%22%7D%29%3B%0A%0A%20%20%20%20%20%20%20%20%0A%20%20%20%20%20%20%20%20%20%20%20%20var%20html_a44fff86b6ea4f8299abfd5c0c274bf8%20%3D%20%24%28%60%3Cdiv%20id%3D%22html_a44fff86b6ea4f8299abfd5c0c274bf8%22%20style%3D%22width%3A%20100.0%25%3B%20height%3A%20100.0%25%3B%22%3ECattaraugus%20County%3C/div%3E%60%29%5B0%5D%3B%0A%20%20%20%20%20%20%20%20%20%20%20%20popup_0388d2db4dfb41028f75390a8e2456e1.setContent%28html_a44fff86b6ea4f8299abfd5c0c274bf8%29%3B%0A%20%20%20%20%20%20%20%20%0A%0A%20%20%20%20%20%20%20%20marker_052a62b1fdf2467391460552543e7469.bindPopup%28popup_0388d2db4dfb41028f75390a8e2456e1%29%0A%20%20%20%20%20%20%20%20.openPopup%28%29%3B%0A%0A%20%20%20%20%20%20%20%20%0A%20%20%20%20%0A%20%20%20%20%0A%20%20%20%20%20%20%20%20%20%20%20%20var%20marker_7e55060aa52e4a5d853fbb2659e91fd7%20%3D%20L.marker%28%0A%20%20%20%20%20%20%20%20%20%20%20%20%20%20%20%20%5B42.933170000000004%2C%20-76.5702%5D%2C%0A%20%20%20%20%20%20%20%20%20%20%20%20%20%20%20%20%7B%7D%0A%20%20%20%20%20%20%20%20%20%20%20%20%29.addTo%28map_a1b17dd082b54211b05e0ae1029d9c6a%29%3B%0A%20%20%20%20%20%20%20%20%0A%20%20%20%20%0A%20%20%20%20%20%20%20%20var%20popup_fb1811aea95e4258b26c31c1c560b556%20%3D%20L.popup%28%7B%22autoClose%22%3A%20false%2C%20%22maxWidth%22%3A%20%22100%25%22%7D%29%3B%0A%0A%20%20%20%20%20%20%20%20%0A%20%20%20%20%20%20%20%20%20%20%20%20var%20html_6702904dac724842aa06a543caebdf7d%20%3D%20%24%28%60%3Cdiv%20id%3D%22html_6702904dac724842aa06a543caebdf7d%22%20style%3D%22width%3A%20100.0%25%3B%20height%3A%20100.0%25%3B%22%3ECayuga%20County%3C/div%3E%60%29%5B0%5D%3B%0A%20%20%20%20%20%20%20%20%20%20%20%20popup_fb1811aea95e4258b26c31c1c560b556.setContent%28html_6702904dac724842aa06a543caebdf7d%29%3B%0A%20%20%20%20%20%20%20%20%0A%0A%20%20%20%20%20%20%20%20marker_7e55060aa52e4a5d853fbb2659e91fd7.bindPopup%28popup_fb1811aea95e4258b26c31c1c560b556%29%0A%20%20%20%20%20%20%20%20.openPopup%28%29%3B%0A%0A%20%20%20%20%20%20%20%20%0A%20%20%20%20%0A%20%20%20%20%0A%20%20%20%20%20%20%20%20%20%20%20%20var%20marker_4ee1f5e4186b4a46846a5d4486e208be%20%3D%20L.marker%28%0A%20%20%20%20%20%20%20%20%20%20%20%20%20%20%20%20%5B42.18464%2C%20-79.31423000000002%5D%2C%0A%20%20%20%20%20%20%20%20%20%20%20%20%20%20%20%20%7B%7D%0A%20%20%20%20%20%20%20%20%20%20%20%20%29.addTo%28map_a1b17dd082b54211b05e0ae1029d9c6a%29%3B%0A%20%20%20%20%20%20%20%20%0A%20%20%20%20%0A%20%20%20%20%20%20%20%20var%20popup_e68e2858dad248a1b9ab7f72a1a3fd1e%20%3D%20L.popup%28%7B%22autoClose%22%3A%20false%2C%20%22maxWidth%22%3A%20%22100%25%22%7D%29%3B%0A%0A%20%20%20%20%20%20%20%20%0A%20%20%20%20%20%20%20%20%20%20%20%20var%20html_0693a41f9e3f41168d4b5823d45ceee1%20%3D%20%24%28%60%3Cdiv%20id%3D%22html_0693a41f9e3f41168d4b5823d45ceee1%22%20style%3D%22width%3A%20100.0%25%3B%20height%3A%20100.0%25%3B%22%3EChautauqua%20County%3C/div%3E%60%29%5B0%5D%3B%0A%20%20%20%20%20%20%20%20%20%20%20%20popup_e68e2858dad248a1b9ab7f72a1a3fd1e.setContent%28html_0693a41f9e3f41168d4b5823d45ceee1%29%3B%0A%20%20%20%20%20%20%20%20%0A%0A%20%20%20%20%20%20%20%20marker_4ee1f5e4186b4a46846a5d4486e208be.bindPopup%28popup_e68e2858dad248a1b9ab7f72a1a3fd1e%29%0A%20%20%20%20%20%20%20%20.openPopup%28%29%3B%0A%0A%20%20%20%20%20%20%20%20%0A%20%20%20%20%0A%20%20%20%20%0A%20%20%20%20%20%20%20%20%20%20%20%20var%20marker_5e03a242c74449c0bce2d1c094d04f21%20%3D%20L.marker%28%0A%20%20%20%20%20%20%20%20%20%20%20%20%20%20%20%20%5B42.146355%2C%20-76.80446%5D%2C%0A%20%20%20%20%20%20%20%20%20%20%20%20%20%20%20%20%7B%7D%0A%20%20%20%20%20%20%20%20%20%20%20%20%29.addTo%28map_a1b17dd082b54211b05e0ae1029d9c6a%29%3B%0A%20%20%20%20%20%20%20%20%0A%20%20%20%20%0A%20%20%20%20%20%20%20%20var%20popup_f9c01eb5f8c64d9db628d82afe6ca585%20%3D%20L.popup%28%7B%22autoClose%22%3A%20false%2C%20%22maxWidth%22%3A%20%22100%25%22%7D%29%3B%0A%0A%20%20%20%20%20%20%20%20%0A%20%20%20%20%20%20%20%20%20%20%20%20var%20html_b4961d76984441fd94fa5ee82ce8bdc2%20%3D%20%24%28%60%3Cdiv%20id%3D%22html_b4961d76984441fd94fa5ee82ce8bdc2%22%20style%3D%22width%3A%20100.0%25%3B%20height%3A%20100.0%25%3B%22%3EChemung%20County%3C/div%3E%60%29%5B0%5D%3B%0A%20%20%20%20%20%20%20%20%20%20%20%20popup_f9c01eb5f8c64d9db628d82afe6ca585.setContent%28html_b4961d76984441fd94fa5ee82ce8bdc2%29%3B%0A%20%20%20%20%20%20%20%20%0A%0A%20%20%20%20%20%20%20%20marker_5e03a242c74449c0bce2d1c094d04f21.bindPopup%28popup_f9c01eb5f8c64d9db628d82afe6ca585%29%0A%20%20%20%20%20%20%20%20.openPopup%28%29%3B%0A%0A%20%20%20%20%20%20%20%20%0A%20%20%20%20%0A%20%20%20%20%0A%20%20%20%20%20%20%20%20%20%20%20%20var%20marker_4e59d660f39b4e9baef268418b173502%20%3D%20L.marker%28%0A%20%20%20%20%20%20%20%20%20%20%20%20%20%20%20%20%5B42.497659999999996%2C%20-75.566615%5D%2C%0A%20%20%20%20%20%20%20%20%20%20%20%20%20%20%20%20%7B%7D%0A%20%20%20%20%20%20%20%20%20%20%20%20%29.addTo%28map_a1b17dd082b54211b05e0ae1029d9c6a%29%3B%0A%20%20%20%20%20%20%20%20%0A%20%20%20%20%0A%20%20%20%20%20%20%20%20var%20popup_86e14c9bed164cdf960eb4b82dde5b37%20%3D%20L.popup%28%7B%22autoClose%22%3A%20false%2C%20%22maxWidth%22%3A%20%22100%25%22%7D%29%3B%0A%0A%20%20%20%20%20%20%20%20%0A%20%20%20%20%20%20%20%20%20%20%20%20var%20html_d370651fbc214ac096c3cca9d9cb38e4%20%3D%20%24%28%60%3Cdiv%20id%3D%22html_d370651fbc214ac096c3cca9d9cb38e4%22%20style%3D%22width%3A%20100.0%25%3B%20height%3A%20100.0%25%3B%22%3EChenango%20County%3C/div%3E%60%29%5B0%5D%3B%0A%20%20%20%20%20%20%20%20%20%20%20%20popup_86e14c9bed164cdf960eb4b82dde5b37.setContent%28html_d370651fbc214ac096c3cca9d9cb38e4%29%3B%0A%20%20%20%20%20%20%20%20%0A%0A%20%20%20%20%20%20%20%20marker_4e59d660f39b4e9baef268418b173502.bindPopup%28popup_86e14c9bed164cdf960eb4b82dde5b37%29%0A%20%20%20%20%20%20%20%20.openPopup%28%29%3B%0A%0A%20%20%20%20%20%20%20%20%0A%20%20%20%20%0A%20%20%20%20%0A%20%20%20%20%20%20%20%20%20%20%20%20var%20marker_5551c0364c404fbfac55960bc2e53661%20%3D%20L.marker%28%0A%20%20%20%20%20%20%20%20%20%20%20%20%20%20%20%20%5B44.77087%2C%20-73.56551999999998%5D%2C%0A%20%20%20%20%20%20%20%20%20%20%20%20%20%20%20%20%7B%7D%0A%20%20%20%20%20%20%20%20%20%20%20%20%29.addTo%28map_a1b17dd082b54211b05e0ae1029d9c6a%29%3B%0A%20%20%20%20%20%20%20%20%0A%20%20%20%20%0A%20%20%20%20%20%20%20%20var%20popup_5d30c9b3a5c446e4913ec05b6441672c%20%3D%20L.popup%28%7B%22autoClose%22%3A%20false%2C%20%22maxWidth%22%3A%20%22100%25%22%7D%29%3B%0A%0A%20%20%20%20%20%20%20%20%0A%20%20%20%20%20%20%20%20%20%20%20%20var%20html_097089f2708a4d8883dceb8dabd3e46e%20%3D%20%24%28%60%3Cdiv%20id%3D%22html_097089f2708a4d8883dceb8dabd3e46e%22%20style%3D%22width%3A%20100.0%25%3B%20height%3A%20100.0%25%3B%22%3EClinton%20County%3C/div%3E%60%29%5B0%5D%3B%0A%20%20%20%20%20%20%20%20%20%20%20%20popup_5d30c9b3a5c446e4913ec05b6441672c.setContent%28html_097089f2708a4d8883dceb8dabd3e46e%29%3B%0A%20%20%20%20%20%20%20%20%0A%0A%20%20%20%20%20%20%20%20marker_5551c0364c404fbfac55960bc2e53661.bindPopup%28popup_5d30c9b3a5c446e4913ec05b6441672c%29%0A%20%20%20%20%20%20%20%20.openPopup%28%29%3B%0A%0A%20%20%20%20%20%20%20%20%0A%20%20%20%20%0A%20%20%20%20%0A%20%20%20%20%20%20%20%20%20%20%20%20var%20marker_a3703e3863604c1095fa5260be0ec495%20%3D%20L.marker%28%0A%20%20%20%20%20%20%20%20%20%20%20%20%20%20%20%20%5B42.277465%2C%20-73.58520999999999%5D%2C%0A%20%20%20%20%20%20%20%20%20%20%20%20%20%20%20%20%7B%7D%0A%20%20%20%20%20%20%20%20%20%20%20%20%29.addTo%28map_a1b17dd082b54211b05e0ae1029d9c6a%29%3B%0A%20%20%20%20%20%20%20%20%0A%20%20%20%20%0A%20%20%20%20%20%20%20%20var%20popup_b4b30e28ddcc4299b36b959b76753cb5%20%3D%20L.popup%28%7B%22autoClose%22%3A%20false%2C%20%22maxWidth%22%3A%20%22100%25%22%7D%29%3B%0A%0A%20%20%20%20%20%20%20%20%0A%20%20%20%20%20%20%20%20%20%20%20%20var%20html_609a140ab95a465eb3fc7a78e6167cfe%20%3D%20%24%28%60%3Cdiv%20id%3D%22html_609a140ab95a465eb3fc7a78e6167cfe%22%20style%3D%22width%3A%20100.0%25%3B%20height%3A%20100.0%25%3B%22%3EColumbia%20County%3C/div%3E%60%29%5B0%5D%3B%0A%20%20%20%20%20%20%20%20%20%20%20%20popup_b4b30e28ddcc4299b36b959b76753cb5.setContent%28html_609a140ab95a465eb3fc7a78e6167cfe%29%3B%0A%20%20%20%20%20%20%20%20%0A%0A%20%20%20%20%20%20%20%20marker_a3703e3863604c1095fa5260be0ec495.bindPopup%28popup_b4b30e28ddcc4299b36b959b76753cb5%29%0A%20%20%20%20%20%20%20%20.openPopup%28%29%3B%0A%0A%20%20%20%20%20%20%20%20%0A%20%20%20%20%0A%20%20%20%20%0A%20%20%20%20%20%20%20%20%20%20%20%20var%20marker_9b5bb077e23349259f748349d69e7bbe%20%3D%20L.marker%28%0A%20%20%20%20%20%20%20%20%20%20%20%20%20%20%20%20%5B42.60021%2C%20-76.10167%5D%2C%0A%20%20%20%20%20%20%20%20%20%20%20%20%20%20%20%20%7B%7D%0A%20%20%20%20%20%20%20%20%20%20%20%20%29.addTo%28map_a1b17dd082b54211b05e0ae1029d9c6a%29%3B%0A%20%20%20%20%20%20%20%20%0A%20%20%20%20%0A%20%20%20%20%20%20%20%20var%20popup_cb4a54317e98453dbc2bbdaaa6ec0e71%20%3D%20L.popup%28%7B%22autoClose%22%3A%20false%2C%20%22maxWidth%22%3A%20%22100%25%22%7D%29%3B%0A%0A%20%20%20%20%20%20%20%20%0A%20%20%20%20%20%20%20%20%20%20%20%20var%20html_5b311f9b121c476e9cd6e16dbcb08914%20%3D%20%24%28%60%3Cdiv%20id%3D%22html_5b311f9b121c476e9cd6e16dbcb08914%22%20style%3D%22width%3A%20100.0%25%3B%20height%3A%20100.0%25%3B%22%3ECortland%20County%3C/div%3E%60%29%5B0%5D%3B%0A%20%20%20%20%20%20%20%20%20%20%20%20popup_cb4a54317e98453dbc2bbdaaa6ec0e71.setContent%28html_5b311f9b121c476e9cd6e16dbcb08914%29%3B%0A%20%20%20%20%20%20%20%20%0A%0A%20%20%20%20%20%20%20%20marker_9b5bb077e23349259f748349d69e7bbe.bindPopup%28popup_cb4a54317e98453dbc2bbdaaa6ec0e71%29%0A%20%20%20%20%20%20%20%20.openPopup%28%29%3B%0A%0A%20%20%20%20%20%20%20%20%0A%20%20%20%20%0A%20%20%20%20%0A%20%20%20%20%20%20%20%20%20%20%20%20var%20marker_48b5c028303f458a9e0b21922069915d%20%3D%20L.marker%28%0A%20%20%20%20%20%20%20%20%20%20%20%20%20%20%20%20%5B42.17362%2C%20-74.98716999999998%5D%2C%0A%20%20%20%20%20%20%20%20%20%20%20%20%20%20%20%20%7B%7D%0A%20%20%20%20%20%20%20%20%20%20%20%20%29.addTo%28map_a1b17dd082b54211b05e0ae1029d9c6a%29%3B%0A%20%20%20%20%20%20%20%20%0A%20%20%20%20%0A%20%20%20%20%20%20%20%20var%20popup_c20916bf68564ac1875dd16957303248%20%3D%20L.popup%28%7B%22autoClose%22%3A%20false%2C%20%22maxWidth%22%3A%20%22100%25%22%7D%29%3B%0A%0A%20%20%20%20%20%20%20%20%0A%20%20%20%20%20%20%20%20%20%20%20%20var%20html_0503009222c142d6bde862a4bbb082bb%20%3D%20%24%28%60%3Cdiv%20id%3D%22html_0503009222c142d6bde862a4bbb082bb%22%20style%3D%22width%3A%20100.0%25%3B%20height%3A%20100.0%25%3B%22%3EDelaware%20County%3C/div%3E%60%29%5B0%5D%3B%0A%20%20%20%20%20%20%20%20%20%20%20%20popup_c20916bf68564ac1875dd16957303248.setContent%28html_0503009222c142d6bde862a4bbb082bb%29%3B%0A%20%20%20%20%20%20%20%20%0A%0A%20%20%20%20%20%20%20%20marker_48b5c028303f458a9e0b21922069915d.bindPopup%28popup_c20916bf68564ac1875dd16957303248%29%0A%20%20%20%20%20%20%20%20.openPopup%28%29%3B%0A%0A%20%20%20%20%20%20%20%20%0A%20%20%20%20%0A%20%20%20%20%0A%20%20%20%20%20%20%20%20%20%20%20%20var%20marker_cd478aa60e184beb95c1d7ece6c2059c%20%3D%20L.marker%28%0A%20%20%20%20%20%20%20%20%20%20%20%20%20%20%20%20%5B41.70834%2C%20-73.79431%5D%2C%0A%20%20%20%20%20%20%20%20%20%20%20%20%20%20%20%20%7B%7D%0A%20%20%20%20%20%20%20%20%20%20%20%20%29.addTo%28map_a1b17dd082b54211b05e0ae1029d9c6a%29%3B%0A%20%20%20%20%20%20%20%20%0A%20%20%20%20%0A%20%20%20%20%20%20%20%20var%20popup_35f9db6c9e184596bc38e358fbc32648%20%3D%20L.popup%28%7B%22autoClose%22%3A%20false%2C%20%22maxWidth%22%3A%20%22100%25%22%7D%29%3B%0A%0A%20%20%20%20%20%20%20%20%0A%20%20%20%20%20%20%20%20%20%20%20%20var%20html_0e1defc6ae7743a1ad206ac897b9f6f8%20%3D%20%24%28%60%3Cdiv%20id%3D%22html_0e1defc6ae7743a1ad206ac897b9f6f8%22%20style%3D%22width%3A%20100.0%25%3B%20height%3A%20100.0%25%3B%22%3EDutchess%20County%3C/div%3E%60%29%5B0%5D%3B%0A%20%20%20%20%20%20%20%20%20%20%20%20popup_35f9db6c9e184596bc38e358fbc32648.setContent%28html_0e1defc6ae7743a1ad206ac897b9f6f8%29%3B%0A%20%20%20%20%20%20%20%20%0A%0A%20%20%20%20%20%20%20%20marker_cd478aa60e184beb95c1d7ece6c2059c.bindPopup%28popup_35f9db6c9e184596bc38e358fbc32648%29%0A%20%20%20%20%20%20%20%20.openPopup%28%29%3B%0A%0A%20%20%20%20%20%20%20%20%0A%20%20%20%20%0A%20%20%20%20%0A%20%20%20%20%20%20%20%20%20%20%20%20var%20marker_5709a015517540978a34137b987f800c%20%3D%20L.marker%28%0A%20%20%20%20%20%20%20%20%20%20%20%20%20%20%20%20%5B42.85523%2C%20-78.770625%5D%2C%0A%20%20%20%20%20%20%20%20%20%20%20%20%20%20%20%20%7B%7D%0A%20%20%20%20%20%20%20%20%20%20%20%20%29.addTo%28map_a1b17dd082b54211b05e0ae1029d9c6a%29%3B%0A%20%20%20%20%20%20%20%20%0A%20%20%20%20%0A%20%20%20%20%20%20%20%20var%20popup_1566f48fce5b4d97868c0c694a51e602%20%3D%20L.popup%28%7B%22autoClose%22%3A%20false%2C%20%22maxWidth%22%3A%20%22100%25%22%7D%29%3B%0A%0A%20%20%20%20%20%20%20%20%0A%20%20%20%20%20%20%20%20%20%20%20%20var%20html_3b9bf406f10c425a9bf8b7c4ff258e40%20%3D%20%24%28%60%3Cdiv%20id%3D%22html_3b9bf406f10c425a9bf8b7c4ff258e40%22%20style%3D%22width%3A%20100.0%25%3B%20height%3A%20100.0%25%3B%22%3EErie%20County%3C/div%3E%60%29%5B0%5D%3B%0A%20%20%20%20%20%20%20%20%20%20%20%20popup_1566f48fce5b4d97868c0c694a51e602.setContent%28html_3b9bf406f10c425a9bf8b7c4ff258e40%29%3B%0A%20%20%20%20%20%20%20%20%0A%0A%20%20%20%20%20%20%20%20marker_5709a015517540978a34137b987f800c.bindPopup%28popup_1566f48fce5b4d97868c0c694a51e602%29%0A%20%20%20%20%20%20%20%20.openPopup%28%29%3B%0A%0A%20%20%20%20%20%20%20%20%0A%20%20%20%20%0A%20%20%20%20%0A%20%20%20%20%20%20%20%20%20%20%20%20var%20marker_2ce29e3193a447b9ac9d5637195d221a%20%3D%20L.marker%28%0A%20%20%20%20%20%20%20%20%20%20%20%20%20%20%20%20%5B44.194915%2C%20-73.669245%5D%2C%0A%20%20%20%20%20%20%20%20%20%20%20%20%20%20%20%20%7B%7D%0A%20%20%20%20%20%20%20%20%20%20%20%20%29.addTo%28map_a1b17dd082b54211b05e0ae1029d9c6a%29%3B%0A%20%20%20%20%20%20%20%20%0A%20%20%20%20%0A%20%20%20%20%20%20%20%20var%20popup_f3056c757d5949ee8759ade2b05f66c1%20%3D%20L.popup%28%7B%22autoClose%22%3A%20false%2C%20%22maxWidth%22%3A%20%22100%25%22%7D%29%3B%0A%0A%20%20%20%20%20%20%20%20%0A%20%20%20%20%20%20%20%20%20%20%20%20var%20html_72a592393f3840f29828bfe6ab5d53ca%20%3D%20%24%28%60%3Cdiv%20id%3D%22html_72a592393f3840f29828bfe6ab5d53ca%22%20style%3D%22width%3A%20100.0%25%3B%20height%3A%20100.0%25%3B%22%3EEssex%20County%3C/div%3E%60%29%5B0%5D%3B%0A%20%20%20%20%20%20%20%20%20%20%20%20popup_f3056c757d5949ee8759ade2b05f66c1.setContent%28html_72a592393f3840f29828bfe6ab5d53ca%29%3B%0A%20%20%20%20%20%20%20%20%0A%0A%20%20%20%20%20%20%20%20marker_2ce29e3193a447b9ac9d5637195d221a.bindPopup%28popup_f3056c757d5949ee8759ade2b05f66c1%29%0A%20%20%20%20%20%20%20%20.openPopup%28%29%3B%0A%0A%20%20%20%20%20%20%20%20%0A%20%20%20%20%0A%20%20%20%20%0A%20%20%20%20%20%20%20%20%20%20%20%20var%20marker_c762d9737a5940c4a3516ab77aee95dc%20%3D%20L.marker%28%0A%20%20%20%20%20%20%20%20%20%20%20%20%20%20%20%20%5B44.83844000000001%2C%20-74.31574%5D%2C%0A%20%20%20%20%20%20%20%20%20%20%20%20%20%20%20%20%7B%7D%0A%20%20%20%20%20%20%20%20%20%20%20%20%29.addTo%28map_a1b17dd082b54211b05e0ae1029d9c6a%29%3B%0A%20%20%20%20%20%20%20%20%0A%20%20%20%20%0A%20%20%20%20%20%20%20%20var%20popup_d7c49036ba0f4086bef102631d5030df%20%3D%20L.popup%28%7B%22autoClose%22%3A%20false%2C%20%22maxWidth%22%3A%20%22100%25%22%7D%29%3B%0A%0A%20%20%20%20%20%20%20%20%0A%20%20%20%20%20%20%20%20%20%20%20%20var%20html_cd127abb968d438188d2e62863f69787%20%3D%20%24%28%60%3Cdiv%20id%3D%22html_cd127abb968d438188d2e62863f69787%22%20style%3D%22width%3A%20100.0%25%3B%20height%3A%20100.0%25%3B%22%3EFranklin%20County%3C/div%3E%60%29%5B0%5D%3B%0A%20%20%20%20%20%20%20%20%20%20%20%20popup_d7c49036ba0f4086bef102631d5030df.setContent%28html_cd127abb968d438188d2e62863f69787%29%3B%0A%20%20%20%20%20%20%20%20%0A%0A%20%20%20%20%20%20%20%20marker_c762d9737a5940c4a3516ab77aee95dc.bindPopup%28popup_d7c49036ba0f4086bef102631d5030df%29%0A%20%20%20%20%20%20%20%20.openPopup%28%29%3B%0A%0A%20%20%20%20%20%20%20%20%0A%20%20%20%20%0A%20%20%20%20%0A%20%20%20%20%20%20%20%20%20%20%20%20var%20marker_3c8cb0022d9a4fe0988ba9a82e84f48f%20%3D%20L.marker%28%0A%20%20%20%20%20%20%20%20%20%20%20%20%20%20%20%20%5B43.06853%2C%20-74.37677%5D%2C%0A%20%20%20%20%20%20%20%20%20%20%20%20%20%20%20%20%7B%7D%0A%20%20%20%20%20%20%20%20%20%20%20%20%29.addTo%28map_a1b17dd082b54211b05e0ae1029d9c6a%29%3B%0A%20%20%20%20%20%20%20%20%0A%20%20%20%20%0A%20%20%20%20%20%20%20%20var%20popup_5417f393dfe646a2a4974965f5be8b07%20%3D%20L.popup%28%7B%22autoClose%22%3A%20false%2C%20%22maxWidth%22%3A%20%22100%25%22%7D%29%3B%0A%0A%20%20%20%20%20%20%20%20%0A%20%20%20%20%20%20%20%20%20%20%20%20var%20html_68294a490fba4a8d99671951a70c5dd4%20%3D%20%24%28%60%3Cdiv%20id%3D%22html_68294a490fba4a8d99671951a70c5dd4%22%20style%3D%22width%3A%20100.0%25%3B%20height%3A%20100.0%25%3B%22%3EFulton%20County%3C/div%3E%60%29%5B0%5D%3B%0A%20%20%20%20%20%20%20%20%20%20%20%20popup_5417f393dfe646a2a4974965f5be8b07.setContent%28html_68294a490fba4a8d99671951a70c5dd4%29%3B%0A%20%20%20%20%20%20%20%20%0A%0A%20%20%20%20%20%20%20%20marker_3c8cb0022d9a4fe0988ba9a82e84f48f.bindPopup%28popup_5417f393dfe646a2a4974965f5be8b07%29%0A%20%20%20%20%20%20%20%20.openPopup%28%29%3B%0A%0A%20%20%20%20%20%20%20%20%0A%20%20%20%20%0A%20%20%20%20%0A%20%20%20%20%20%20%20%20%20%20%20%20var%20marker_810b38379eb44b68a80f4a46c0c756fe%20%3D%20L.marker%28%0A%20%20%20%20%20%20%20%20%20%20%20%20%20%20%20%20%5B42.99758%2C%20-78.1925%5D%2C%0A%20%20%20%20%20%20%20%20%20%20%20%20%20%20%20%20%7B%7D%0A%20%20%20%20%20%20%20%20%20%20%20%20%29.addTo%28map_a1b17dd082b54211b05e0ae1029d9c6a%29%3B%0A%20%20%20%20%20%20%20%20%0A%20%20%20%20%0A%20%20%20%20%20%20%20%20var%20popup_cc163739e9d34ca8bbd476cf7c9a44e2%20%3D%20L.popup%28%7B%22autoClose%22%3A%20false%2C%20%22maxWidth%22%3A%20%22100%25%22%7D%29%3B%0A%0A%20%20%20%20%20%20%20%20%0A%20%20%20%20%20%20%20%20%20%20%20%20var%20html_358cec4b6e274c989ec477874501d57e%20%3D%20%24%28%60%3Cdiv%20id%3D%22html_358cec4b6e274c989ec477874501d57e%22%20style%3D%22width%3A%20100.0%25%3B%20height%3A%20100.0%25%3B%22%3EGenesee%20County%3C/div%3E%60%29%5B0%5D%3B%0A%20%20%20%20%20%20%20%20%20%20%20%20popup_cc163739e9d34ca8bbd476cf7c9a44e2.setContent%28html_358cec4b6e274c989ec477874501d57e%29%3B%0A%20%20%20%20%20%20%20%20%0A%0A%20%20%20%20%20%20%20%20marker_810b38379eb44b68a80f4a46c0c756fe.bindPopup%28popup_cc163739e9d34ca8bbd476cf7c9a44e2%29%0A%20%20%20%20%20%20%20%20.openPopup%28%29%3B%0A%0A%20%20%20%20%20%20%20%20%0A%20%20%20%20%0A%20%20%20%20%0A%20%20%20%20%20%20%20%20%20%20%20%20var%20marker_0f5ea9c5bd084b1eb59fe895c74ef6a6%20%3D%20L.marker%28%0A%20%20%20%20%20%20%20%20%20%20%20%20%20%20%20%20%5B42.258539999999996%2C%20-74.095455%5D%2C%0A%20%20%20%20%20%20%20%20%20%20%20%20%20%20%20%20%7B%7D%0A%20%20%20%20%20%20%20%20%20%20%20%20%29.addTo%28map_a1b17dd082b54211b05e0ae1029d9c6a%29%3B%0A%20%20%20%20%20%20%20%20%0A%20%20%20%20%0A%20%20%20%20%20%20%20%20var%20popup_7d94e88bd9ab47a785c585b43a2c186c%20%3D%20L.popup%28%7B%22autoClose%22%3A%20false%2C%20%22maxWidth%22%3A%20%22100%25%22%7D%29%3B%0A%0A%20%20%20%20%20%20%20%20%0A%20%20%20%20%20%20%20%20%20%20%20%20var%20html_bb5fe1474516436393c3e874d116de94%20%3D%20%24%28%60%3Cdiv%20id%3D%22html_bb5fe1474516436393c3e874d116de94%22%20style%3D%22width%3A%20100.0%25%3B%20height%3A%20100.0%25%3B%22%3EGreene%20County%3C/div%3E%60%29%5B0%5D%3B%0A%20%20%20%20%20%20%20%20%20%20%20%20popup_7d94e88bd9ab47a785c585b43a2c186c.setContent%28html_bb5fe1474516436393c3e874d116de94%29%3B%0A%20%20%20%20%20%20%20%20%0A%0A%20%20%20%20%20%20%20%20marker_0f5ea9c5bd084b1eb59fe895c74ef6a6.bindPopup%28popup_7d94e88bd9ab47a785c585b43a2c186c%29%0A%20%20%20%20%20%20%20%20.openPopup%28%29%3B%0A%0A%20%20%20%20%20%20%20%20%0A%20%20%20%20%0A%20%20%20%20%0A%20%20%20%20%20%20%20%20%20%20%20%20var%20marker_aee6faf7cd33445ea6a40fda7c0cc193%20%3D%20L.marker%28%0A%20%20%20%20%20%20%20%20%20%20%20%20%20%20%20%20%5B43.56228%2C%20-74.42979%5D%2C%0A%20%20%20%20%20%20%20%20%20%20%20%20%20%20%20%20%7B%7D%0A%20%20%20%20%20%20%20%20%20%20%20%20%29.addTo%28map_a1b17dd082b54211b05e0ae1029d9c6a%29%3B%0A%20%20%20%20%20%20%20%20%0A%20%20%20%20%0A%20%20%20%20%20%20%20%20var%20popup_173dc5c64928484ea25046ac9a70f933%20%3D%20L.popup%28%7B%22autoClose%22%3A%20false%2C%20%22maxWidth%22%3A%20%22100%25%22%7D%29%3B%0A%0A%20%20%20%20%20%20%20%20%0A%20%20%20%20%20%20%20%20%20%20%20%20var%20html_00800e47702248deb10bce02418c298e%20%3D%20%24%28%60%3Cdiv%20id%3D%22html_00800e47702248deb10bce02418c298e%22%20style%3D%22width%3A%20100.0%25%3B%20height%3A%20100.0%25%3B%22%3EHamilton%20County%3C/div%3E%60%29%5B0%5D%3B%0A%20%20%20%20%20%20%20%20%20%20%20%20popup_173dc5c64928484ea25046ac9a70f933.setContent%28html_00800e47702248deb10bce02418c298e%29%3B%0A%20%20%20%20%20%20%20%20%0A%0A%20%20%20%20%20%20%20%20marker_aee6faf7cd33445ea6a40fda7c0cc193.bindPopup%28popup_173dc5c64928484ea25046ac9a70f933%29%0A%20%20%20%20%20%20%20%20.openPopup%28%29%3B%0A%0A%20%20%20%20%20%20%20%20%0A%20%20%20%20%0A%20%20%20%20%0A%20%20%20%20%20%20%20%20%20%20%20%20var%20marker_56d3b791fae942afa56b68d8c45c498a%20%3D%20L.marker%28%0A%20%20%20%20%20%20%20%20%20%20%20%20%20%20%20%20%5B43.06454%2C%20-74.99356999999998%5D%2C%0A%20%20%20%20%20%20%20%20%20%20%20%20%20%20%20%20%7B%7D%0A%20%20%20%20%20%20%20%20%20%20%20%20%29.addTo%28map_a1b17dd082b54211b05e0ae1029d9c6a%29%3B%0A%20%20%20%20%20%20%20%20%0A%20%20%20%20%0A%20%20%20%20%20%20%20%20var%20popup_7cac5b80f6aa48d4910973e93c30e374%20%3D%20L.popup%28%7B%22autoClose%22%3A%20false%2C%20%22maxWidth%22%3A%20%22100%25%22%7D%29%3B%0A%0A%20%20%20%20%20%20%20%20%0A%20%20%20%20%20%20%20%20%20%20%20%20var%20html_e486a4ec28134f60ade4571b66593ed5%20%3D%20%24%28%60%3Cdiv%20id%3D%22html_e486a4ec28134f60ade4571b66593ed5%22%20style%3D%22width%3A%20100.0%25%3B%20height%3A%20100.0%25%3B%22%3EHerkimer%20County%3C/div%3E%60%29%5B0%5D%3B%0A%20%20%20%20%20%20%20%20%20%20%20%20popup_7cac5b80f6aa48d4910973e93c30e374.setContent%28html_e486a4ec28134f60ade4571b66593ed5%29%3B%0A%20%20%20%20%20%20%20%20%0A%0A%20%20%20%20%20%20%20%20marker_56d3b791fae942afa56b68d8c45c498a.bindPopup%28popup_7cac5b80f6aa48d4910973e93c30e374%29%0A%20%20%20%20%20%20%20%20.openPopup%28%29%3B%0A%0A%20%20%20%20%20%20%20%20%0A%20%20%20%20%0A%20%20%20%20%0A%20%20%20%20%20%20%20%20%20%20%20%20var%20marker_7f7b5509d5684c3ca4595e989a1c130c%20%3D%20L.marker%28%0A%20%20%20%20%20%20%20%20%20%20%20%20%20%20%20%20%5B43.99065%2C%20-75.96670999999998%5D%2C%0A%20%20%20%20%20%20%20%20%20%20%20%20%20%20%20%20%7B%7D%0A%20%20%20%20%20%20%20%20%20%20%20%20%29.addTo%28map_a1b17dd082b54211b05e0ae1029d9c6a%29%3B%0A%20%20%20%20%20%20%20%20%0A%20%20%20%20%0A%20%20%20%20%20%20%20%20var%20popup_e4cc4fe3b1b542a794a166b737d80dfb%20%3D%20L.popup%28%7B%22autoClose%22%3A%20false%2C%20%22maxWidth%22%3A%20%22100%25%22%7D%29%3B%0A%0A%20%20%20%20%20%20%20%20%0A%20%20%20%20%20%20%20%20%20%20%20%20var%20html_db0fbbcbd0f9474f86eeb5f8b0939d41%20%3D%20%24%28%60%3Cdiv%20id%3D%22html_db0fbbcbd0f9474f86eeb5f8b0939d41%22%20style%3D%22width%3A%20100.0%25%3B%20height%3A%20100.0%25%3B%22%3EJefferson%20County%3C/div%3E%60%29%5B0%5D%3B%0A%20%20%20%20%20%20%20%20%20%20%20%20popup_e4cc4fe3b1b542a794a166b737d80dfb.setContent%28html_db0fbbcbd0f9474f86eeb5f8b0939d41%29%3B%0A%20%20%20%20%20%20%20%20%0A%0A%20%20%20%20%20%20%20%20marker_7f7b5509d5684c3ca4595e989a1c130c.bindPopup%28popup_e4cc4fe3b1b542a794a166b737d80dfb%29%0A%20%20%20%20%20%20%20%20.openPopup%28%29%3B%0A%0A%20%20%20%20%20%20%20%20%0A%20%20%20%20%0A%20%20%20%20%0A%20%20%20%20%20%20%20%20%20%20%20%20var%20marker_1cf7f057eefa479c8326ed187233fc6a%20%3D%20L.marker%28%0A%20%20%20%20%20%20%20%20%20%20%20%20%20%20%20%20%5B40.648300000000006%2C%20-73.98046500000001%5D%2C%0A%20%20%20%20%20%20%20%20%20%20%20%20%20%20%20%20%7B%7D%0A%20%20%20%20%20%20%20%20%20%20%20%20%29.addTo%28map_a1b17dd082b54211b05e0ae1029d9c6a%29%3B%0A%20%20%20%20%20%20%20%20%0A%20%20%20%20%0A%20%20%20%20%20%20%20%20var%20popup_85ba08c738d24b54b036928ac2ef5634%20%3D%20L.popup%28%7B%22autoClose%22%3A%20false%2C%20%22maxWidth%22%3A%20%22100%25%22%7D%29%3B%0A%0A%20%20%20%20%20%20%20%20%0A%20%20%20%20%20%20%20%20%20%20%20%20var%20html_6de6245cbca447198b1ace242c2e38e2%20%3D%20%24%28%60%3Cdiv%20id%3D%22html_6de6245cbca447198b1ace242c2e38e2%22%20style%3D%22width%3A%20100.0%25%3B%20height%3A%20100.0%25%3B%22%3EKings%20County%3C/div%3E%60%29%5B0%5D%3B%0A%20%20%20%20%20%20%20%20%20%20%20%20popup_85ba08c738d24b54b036928ac2ef5634.setContent%28html_6de6245cbca447198b1ace242c2e38e2%29%3B%0A%20%20%20%20%20%20%20%20%0A%0A%20%20%20%20%20%20%20%20marker_1cf7f057eefa479c8326ed187233fc6a.bindPopup%28popup_85ba08c738d24b54b036928ac2ef5634%29%0A%20%20%20%20%20%20%20%20.openPopup%28%29%3B%0A%0A%20%20%20%20%20%20%20%20%0A%20%20%20%20%0A%20%20%20%20%0A%20%20%20%20%20%20%20%20%20%20%20%20var%20marker_c073331e0ddd4ef6bab097e16bf9dd85%20%3D%20L.marker%28%0A%20%20%20%20%20%20%20%20%20%20%20%20%20%20%20%20%5B43.74097%2C%20-75.45362%5D%2C%0A%20%20%20%20%20%20%20%20%20%20%20%20%20%20%20%20%7B%7D%0A%20%20%20%20%20%20%20%20%20%20%20%20%29.addTo%28map_a1b17dd082b54211b05e0ae1029d9c6a%29%3B%0A%20%20%20%20%20%20%20%20%0A%20%20%20%20%0A%20%20%20%20%20%20%20%20var%20popup_b8f2f439c919478bb9ff41e7ab1b4a87%20%3D%20L.popup%28%7B%22autoClose%22%3A%20false%2C%20%22maxWidth%22%3A%20%22100%25%22%7D%29%3B%0A%0A%20%20%20%20%20%20%20%20%0A%20%20%20%20%20%20%20%20%20%20%20%20var%20html_7ec2ff9d692046a59335852edc98f5c8%20%3D%20%24%28%60%3Cdiv%20id%3D%22html_7ec2ff9d692046a59335852edc98f5c8%22%20style%3D%22width%3A%20100.0%25%3B%20height%3A%20100.0%25%3B%22%3ELewis%20County%3C/div%3E%60%29%5B0%5D%3B%0A%20%20%20%20%20%20%20%20%20%20%20%20popup_b8f2f439c919478bb9ff41e7ab1b4a87.setContent%28html_7ec2ff9d692046a59335852edc98f5c8%29%3B%0A%20%20%20%20%20%20%20%20%0A%0A%20%20%20%20%20%20%20%20marker_c073331e0ddd4ef6bab097e16bf9dd85.bindPopup%28popup_b8f2f439c919478bb9ff41e7ab1b4a87%29%0A%20%20%20%20%20%20%20%20.openPopup%28%29%3B%0A%0A%20%20%20%20%20%20%20%20%0A%20%20%20%20%0A%20%20%20%20%0A%20%20%20%20%20%20%20%20%20%20%20%20var%20marker_57dfc7dab7244c179ba4bb44721d1dfd%20%3D%20L.marker%28%0A%20%20%20%20%20%20%20%20%20%20%20%20%20%20%20%20%5B42.66868%2C%20-77.76379%5D%2C%0A%20%20%20%20%20%20%20%20%20%20%20%20%20%20%20%20%7B%7D%0A%20%20%20%20%20%20%20%20%20%20%20%20%29.addTo%28map_a1b17dd082b54211b05e0ae1029d9c6a%29%3B%0A%20%20%20%20%20%20%20%20%0A%20%20%20%20%0A%20%20%20%20%20%20%20%20var%20popup_c1350ed8e05046b1bcfde08fe25dcece%20%3D%20L.popup%28%7B%22autoClose%22%3A%20false%2C%20%22maxWidth%22%3A%20%22100%25%22%7D%29%3B%0A%0A%20%20%20%20%20%20%20%20%0A%20%20%20%20%20%20%20%20%20%20%20%20var%20html_bbb672e74046405c9e40cd3e803a0f60%20%3D%20%24%28%60%3Cdiv%20id%3D%22html_bbb672e74046405c9e40cd3e803a0f60%22%20style%3D%22width%3A%20100.0%25%3B%20height%3A%20100.0%25%3B%22%3ELivingston%20County%3C/div%3E%60%29%5B0%5D%3B%0A%20%20%20%20%20%20%20%20%20%20%20%20popup_c1350ed8e05046b1bcfde08fe25dcece.setContent%28html_bbb672e74046405c9e40cd3e803a0f60%29%3B%0A%20%20%20%20%20%20%20%20%0A%0A%20%20%20%20%20%20%20%20marker_57dfc7dab7244c179ba4bb44721d1dfd.bindPopup%28popup_c1350ed8e05046b1bcfde08fe25dcece%29%0A%20%20%20%20%20%20%20%20.openPopup%28%29%3B%0A%0A%20%20%20%20%20%20%20%20%0A%20%20%20%20%0A%20%20%20%20%0A%20%20%20%20%20%20%20%20%20%20%20%20var%20marker_7ce1b46ab01a4891b99704b3e14e2162%20%3D%20L.marker%28%0A%20%20%20%20%20%20%20%20%20%20%20%20%20%20%20%20%5B42.97546%2C%20-75.73168000000003%5D%2C%0A%20%20%20%20%20%20%20%20%20%20%20%20%20%20%20%20%7B%7D%0A%20%20%20%20%20%20%20%20%20%20%20%20%29.addTo%28map_a1b17dd082b54211b05e0ae1029d9c6a%29%3B%0A%20%20%20%20%20%20%20%20%0A%20%20%20%20%0A%20%20%20%20%20%20%20%20var%20popup_4920c4f217ce4ceea580691153b242e9%20%3D%20L.popup%28%7B%22autoClose%22%3A%20false%2C%20%22maxWidth%22%3A%20%22100%25%22%7D%29%3B%0A%0A%20%20%20%20%20%20%20%20%0A%20%20%20%20%20%20%20%20%20%20%20%20var%20html_4d0d240dbd34485a8377747cdea02929%20%3D%20%24%28%60%3Cdiv%20id%3D%22html_4d0d240dbd34485a8377747cdea02929%22%20style%3D%22width%3A%20100.0%25%3B%20height%3A%20100.0%25%3B%22%3EMadison%20County%3C/div%3E%60%29%5B0%5D%3B%0A%20%20%20%20%20%20%20%20%20%20%20%20popup_4920c4f217ce4ceea580691153b242e9.setContent%28html_4d0d240dbd34485a8377747cdea02929%29%3B%0A%20%20%20%20%20%20%20%20%0A%0A%20%20%20%20%20%20%20%20marker_7ce1b46ab01a4891b99704b3e14e2162.bindPopup%28popup_4920c4f217ce4ceea580691153b242e9%29%0A%20%20%20%20%20%20%20%20.openPopup%28%29%3B%0A%0A%20%20%20%20%20%20%20%20%0A%20%20%20%20%0A%20%20%20%20%0A%20%20%20%20%20%20%20%20%20%20%20%20var%20marker_05d48719ab4a44d3abefb03eb7b459f4%20%3D%20L.marker%28%0A%20%20%20%20%20%20%20%20%20%20%20%20%20%20%20%20%5B43.15114000000001%2C%20-77.65951%5D%2C%0A%20%20%20%20%20%20%20%20%20%20%20%20%20%20%20%20%7B%7D%0A%20%20%20%20%20%20%20%20%20%20%20%20%29.addTo%28map_a1b17dd082b54211b05e0ae1029d9c6a%29%3B%0A%20%20%20%20%20%20%20%20%0A%20%20%20%20%0A%20%20%20%20%20%20%20%20var%20popup_3a2c539c775e49f9b7251b1e291a6ad6%20%3D%20L.popup%28%7B%22autoClose%22%3A%20false%2C%20%22maxWidth%22%3A%20%22100%25%22%7D%29%3B%0A%0A%20%20%20%20%20%20%20%20%0A%20%20%20%20%20%20%20%20%20%20%20%20var%20html_fa7983777697496c8292ab6e59a20d87%20%3D%20%24%28%60%3Cdiv%20id%3D%22html_fa7983777697496c8292ab6e59a20d87%22%20style%3D%22width%3A%20100.0%25%3B%20height%3A%20100.0%25%3B%22%3EMonroe%20County%3C/div%3E%60%29%5B0%5D%3B%0A%20%20%20%20%20%20%20%20%20%20%20%20popup_3a2c539c775e49f9b7251b1e291a6ad6.setContent%28html_fa7983777697496c8292ab6e59a20d87%29%3B%0A%20%20%20%20%20%20%20%20%0A%0A%20%20%20%20%20%20%20%20marker_05d48719ab4a44d3abefb03eb7b459f4.bindPopup%28popup_3a2c539c775e49f9b7251b1e291a6ad6%29%0A%20%20%20%20%20%20%20%20.openPopup%28%29%3B%0A%0A%20%20%20%20%20%20%20%20%0A%20%20%20%20%0A%20%20%20%20%0A%20%20%20%20%20%20%20%20%20%20%20%20var%20marker_1a252ff5b93d4fc2a9f63c7c485b0837%20%3D%20L.marker%28%0A%20%20%20%20%20%20%20%20%20%20%20%20%20%20%20%20%5B42.92784%2C%20-74.43791%5D%2C%0A%20%20%20%20%20%20%20%20%20%20%20%20%20%20%20%20%7B%7D%0A%20%20%20%20%20%20%20%20%20%20%20%20%29.addTo%28map_a1b17dd082b54211b05e0ae1029d9c6a%29%3B%0A%20%20%20%20%20%20%20%20%0A%20%20%20%20%0A%20%20%20%20%20%20%20%20var%20popup_bdf08b6be538450c9d4cd67bad16e983%20%3D%20L.popup%28%7B%22autoClose%22%3A%20false%2C%20%22maxWidth%22%3A%20%22100%25%22%7D%29%3B%0A%0A%20%20%20%20%20%20%20%20%0A%20%20%20%20%20%20%20%20%20%20%20%20var%20html_560688c7c26641dd8399a47a3e3848d6%20%3D%20%24%28%60%3Cdiv%20id%3D%22html_560688c7c26641dd8399a47a3e3848d6%22%20style%3D%22width%3A%20100.0%25%3B%20height%3A%20100.0%25%3B%22%3EMontgomery%20County%3C/div%3E%60%29%5B0%5D%3B%0A%20%20%20%20%20%20%20%20%20%20%20%20popup_bdf08b6be538450c9d4cd67bad16e983.setContent%28html_560688c7c26641dd8399a47a3e3848d6%29%3B%0A%20%20%20%20%20%20%20%20%0A%0A%20%20%20%20%20%20%20%20marker_1a252ff5b93d4fc2a9f63c7c485b0837.bindPopup%28popup_bdf08b6be538450c9d4cd67bad16e983%29%0A%20%20%20%20%20%20%20%20.openPopup%28%29%3B%0A%0A%20%20%20%20%20%20%20%20%0A%20%20%20%20%0A%20%20%20%20%0A%20%20%20%20%20%20%20%20%20%20%20%20var%20marker_20a5880ff0c54233a2630f8f974b6143%20%3D%20L.marker%28%0A%20%20%20%20%20%20%20%20%20%20%20%20%20%20%20%20%5B40.70102%2C%20-73.58281%5D%2C%0A%20%20%20%20%20%20%20%20%20%20%20%20%20%20%20%20%7B%7D%0A%20%20%20%20%20%20%20%20%20%20%20%20%29.addTo%28map_a1b17dd082b54211b05e0ae1029d9c6a%29%3B%0A%20%20%20%20%20%20%20%20%0A%20%20%20%20%0A%20%20%20%20%20%20%20%20var%20popup_753bdda6fad14b1fb186d03ff28e0c9d%20%3D%20L.popup%28%7B%22autoClose%22%3A%20false%2C%20%22maxWidth%22%3A%20%22100%25%22%7D%29%3B%0A%0A%20%20%20%20%20%20%20%20%0A%20%20%20%20%20%20%20%20%20%20%20%20var%20html_430cdacfd69f4a5dbf052e5e0e4a5887%20%3D%20%24%28%60%3Cdiv%20id%3D%22html_430cdacfd69f4a5dbf052e5e0e4a5887%22%20style%3D%22width%3A%20100.0%25%3B%20height%3A%20100.0%25%3B%22%3ENassau%20County%3C/div%3E%60%29%5B0%5D%3B%0A%20%20%20%20%20%20%20%20%20%20%20%20popup_753bdda6fad14b1fb186d03ff28e0c9d.setContent%28html_430cdacfd69f4a5dbf052e5e0e4a5887%29%3B%0A%20%20%20%20%20%20%20%20%0A%0A%20%20%20%20%20%20%20%20marker_20a5880ff0c54233a2630f8f974b6143.bindPopup%28popup_753bdda6fad14b1fb186d03ff28e0c9d%29%0A%20%20%20%20%20%20%20%20.openPopup%28%29%3B%0A%0A%20%20%20%20%20%20%20%20%0A%20%20%20%20%0A%20%20%20%20%0A%20%20%20%20%20%20%20%20%20%20%20%20var%20marker_c06063f0ace642a89ca0e4ed44d9d67d%20%3D%20L.marker%28%0A%20%20%20%20%20%20%20%20%20%20%20%20%20%20%20%20%5B40.77151%2C%20-73.97386999999998%5D%2C%0A%20%20%20%20%20%20%20%20%20%20%20%20%20%20%20%20%7B%7D%0A%20%20%20%20%20%20%20%20%20%20%20%20%29.addTo%28map_a1b17dd082b54211b05e0ae1029d9c6a%29%3B%0A%20%20%20%20%20%20%20%20%0A%20%20%20%20%0A%20%20%20%20%20%20%20%20var%20popup_da9371aa4e3b48f692c05c1291e14afe%20%3D%20L.popup%28%7B%22autoClose%22%3A%20false%2C%20%22maxWidth%22%3A%20%22100%25%22%7D%29%3B%0A%0A%20%20%20%20%20%20%20%20%0A%20%20%20%20%20%20%20%20%20%20%20%20var%20html_90ec096e4af14f5e8e7bb1d9359cc737%20%3D%20%24%28%60%3Cdiv%20id%3D%22html_90ec096e4af14f5e8e7bb1d9359cc737%22%20style%3D%22width%3A%20100.0%25%3B%20height%3A%20100.0%25%3B%22%3ENew%20York%20County%3C/div%3E%60%29%5B0%5D%3B%0A%20%20%20%20%20%20%20%20%20%20%20%20popup_da9371aa4e3b48f692c05c1291e14afe.setContent%28html_90ec096e4af14f5e8e7bb1d9359cc737%29%3B%0A%20%20%20%20%20%20%20%20%0A%0A%20%20%20%20%20%20%20%20marker_c06063f0ace642a89ca0e4ed44d9d67d.bindPopup%28popup_da9371aa4e3b48f692c05c1291e14afe%29%0A%20%20%20%20%20%20%20%20.openPopup%28%29%3B%0A%0A%20%20%20%20%20%20%20%20%0A%20%20%20%20%0A%20%20%20%20%0A%20%20%20%20%20%20%20%20%20%20%20%20var%20marker_40d07ef206d84caba830a5961b644c67%20%3D%20L.marker%28%0A%20%20%20%20%20%20%20%20%20%20%20%20%20%20%20%20%5B43.141639999999995%2C%20-78.82822%5D%2C%0A%20%20%20%20%20%20%20%20%20%20%20%20%20%20%20%20%7B%7D%0A%20%20%20%20%20%20%20%20%20%20%20%20%29.addTo%28map_a1b17dd082b54211b05e0ae1029d9c6a%29%3B%0A%20%20%20%20%20%20%20%20%0A%20%20%20%20%0A%20%20%20%20%20%20%20%20var%20popup_abc27bff87c947788fa0202ee7c08f44%20%3D%20L.popup%28%7B%22autoClose%22%3A%20false%2C%20%22maxWidth%22%3A%20%22100%25%22%7D%29%3B%0A%0A%20%20%20%20%20%20%20%20%0A%20%20%20%20%20%20%20%20%20%20%20%20var%20html_9a6a420723cb4077bb24a90f9ce876be%20%3D%20%24%28%60%3Cdiv%20id%3D%22html_9a6a420723cb4077bb24a90f9ce876be%22%20style%3D%22width%3A%20100.0%25%3B%20height%3A%20100.0%25%3B%22%3ENiagara%20County%3C/div%3E%60%29%5B0%5D%3B%0A%20%20%20%20%20%20%20%20%20%20%20%20popup_abc27bff87c947788fa0202ee7c08f44.setContent%28html_9a6a420723cb4077bb24a90f9ce876be%29%3B%0A%20%20%20%20%20%20%20%20%0A%0A%20%20%20%20%20%20%20%20marker_40d07ef206d84caba830a5961b644c67.bindPopup%28popup_abc27bff87c947788fa0202ee7c08f44%29%0A%20%20%20%20%20%20%20%20.openPopup%28%29%3B%0A%0A%20%20%20%20%20%20%20%20%0A%20%20%20%20%0A%20%20%20%20%0A%20%20%20%20%20%20%20%20%20%20%20%20var%20marker_d19120b7812c4c3183ff319ba7408ecd%20%3D%20L.marker%28%0A%20%20%20%20%20%20%20%20%20%20%20%20%20%20%20%20%5B43.1907%2C%20-75.37144%5D%2C%0A%20%20%20%20%20%20%20%20%20%20%20%20%20%20%20%20%7B%7D%0A%20%20%20%20%20%20%20%20%20%20%20%20%29.addTo%28map_a1b17dd082b54211b05e0ae1029d9c6a%29%3B%0A%20%20%20%20%20%20%20%20%0A%20%20%20%20%0A%20%20%20%20%20%20%20%20var%20popup_487c08f3112d44199709e72d16e5bf89%20%3D%20L.popup%28%7B%22autoClose%22%3A%20false%2C%20%22maxWidth%22%3A%20%22100%25%22%7D%29%3B%0A%0A%20%20%20%20%20%20%20%20%0A%20%20%20%20%20%20%20%20%20%20%20%20var%20html_082ea97d0bcd4a1ba2dfb5c18d0ee138%20%3D%20%24%28%60%3Cdiv%20id%3D%22html_082ea97d0bcd4a1ba2dfb5c18d0ee138%22%20style%3D%22width%3A%20100.0%25%3B%20height%3A%20100.0%25%3B%22%3EOneida%20County%3C/div%3E%60%29%5B0%5D%3B%0A%20%20%20%20%20%20%20%20%20%20%20%20popup_487c08f3112d44199709e72d16e5bf89.setContent%28html_082ea97d0bcd4a1ba2dfb5c18d0ee138%29%3B%0A%20%20%20%20%20%20%20%20%0A%0A%20%20%20%20%20%20%20%20marker_d19120b7812c4c3183ff319ba7408ecd.bindPopup%28popup_487c08f3112d44199709e72d16e5bf89%29%0A%20%20%20%20%20%20%20%20.openPopup%28%29%3B%0A%0A%20%20%20%20%20%20%20%20%0A%20%20%20%20%0A%20%20%20%20%0A%20%20%20%20%20%20%20%20%20%20%20%20var%20marker_7a3e6e93e1054cfdb1a3377fb7dea2e9%20%3D%20L.marker%28%0A%20%20%20%20%20%20%20%20%20%20%20%20%20%20%20%20%5B43.056955%2C%20-76.15429499999999%5D%2C%0A%20%20%20%20%20%20%20%20%20%20%20%20%20%20%20%20%7B%7D%0A%20%20%20%20%20%20%20%20%20%20%20%20%29.addTo%28map_a1b17dd082b54211b05e0ae1029d9c6a%29%3B%0A%20%20%20%20%20%20%20%20%0A%20%20%20%20%0A%20%20%20%20%20%20%20%20var%20popup_0160b16f6660475081bc543a430051a2%20%3D%20L.popup%28%7B%22autoClose%22%3A%20false%2C%20%22maxWidth%22%3A%20%22100%25%22%7D%29%3B%0A%0A%20%20%20%20%20%20%20%20%0A%20%20%20%20%20%20%20%20%20%20%20%20var%20html_b6e3580b05824409b283709d1bf6b388%20%3D%20%24%28%60%3Cdiv%20id%3D%22html_b6e3580b05824409b283709d1bf6b388%22%20style%3D%22width%3A%20100.0%25%3B%20height%3A%20100.0%25%3B%22%3EOnondaga%20County%3C/div%3E%60%29%5B0%5D%3B%0A%20%20%20%20%20%20%20%20%20%20%20%20popup_0160b16f6660475081bc543a430051a2.setContent%28html_b6e3580b05824409b283709d1bf6b388%29%3B%0A%20%20%20%20%20%20%20%20%0A%0A%20%20%20%20%20%20%20%20marker_7a3e6e93e1054cfdb1a3377fb7dea2e9.bindPopup%28popup_0160b16f6660475081bc543a430051a2%29%0A%20%20%20%20%20%20%20%20.openPopup%28%29%3B%0A%0A%20%20%20%20%20%20%20%20%0A%20%20%20%20%0A%20%20%20%20%0A%20%20%20%20%20%20%20%20%20%20%20%20var%20marker_37be838fd28c40d3ad5a8d2778689349%20%3D%20L.marker%28%0A%20%20%20%20%20%20%20%20%20%20%20%20%20%20%20%20%5B42.91269000000001%2C%20-77.27698000000002%5D%2C%0A%20%20%20%20%20%20%20%20%20%20%20%20%20%20%20%20%7B%7D%0A%20%20%20%20%20%20%20%20%20%20%20%20%29.addTo%28map_a1b17dd082b54211b05e0ae1029d9c6a%29%3B%0A%20%20%20%20%20%20%20%20%0A%20%20%20%20%0A%20%20%20%20%20%20%20%20var%20popup_045c7d1789fd4cf4a587d1bbcca6bfbb%20%3D%20L.popup%28%7B%22autoClose%22%3A%20false%2C%20%22maxWidth%22%3A%20%22100%25%22%7D%29%3B%0A%0A%20%20%20%20%20%20%20%20%0A%20%20%20%20%20%20%20%20%20%20%20%20var%20html_cf12962a8a6947a7b57242c84ed6af3a%20%3D%20%24%28%60%3Cdiv%20id%3D%22html_cf12962a8a6947a7b57242c84ed6af3a%22%20style%3D%22width%3A%20100.0%25%3B%20height%3A%20100.0%25%3B%22%3EOntario%20County%3C/div%3E%60%29%5B0%5D%3B%0A%20%20%20%20%20%20%20%20%20%20%20%20popup_045c7d1789fd4cf4a587d1bbcca6bfbb.setContent%28html_cf12962a8a6947a7b57242c84ed6af3a%29%3B%0A%20%20%20%20%20%20%20%20%0A%0A%20%20%20%20%20%20%20%20marker_37be838fd28c40d3ad5a8d2778689349.bindPopup%28popup_045c7d1789fd4cf4a587d1bbcca6bfbb%29%0A%20%20%20%20%20%20%20%20.openPopup%28%29%3B%0A%0A%20%20%20%20%20%20%20%20%0A%20%20%20%20%0A%20%20%20%20%0A%20%20%20%20%20%20%20%20%20%20%20%20var%20marker_d3d2f02fe111441b9e1ea73522b0cfa7%20%3D%20L.marker%28%0A%20%20%20%20%20%20%20%20%20%20%20%20%20%20%20%20%5B41.421215000000004%2C%20-74.28813500000001%5D%2C%0A%20%20%20%20%20%20%20%20%20%20%20%20%20%20%20%20%7B%7D%0A%20%20%20%20%20%20%20%20%20%20%20%20%29.addTo%28map_a1b17dd082b54211b05e0ae1029d9c6a%29%3B%0A%20%20%20%20%20%20%20%20%0A%20%20%20%20%0A%20%20%20%20%20%20%20%20var%20popup_503a4b0954a64f4f8bd43c54d12d9ec3%20%3D%20L.popup%28%7B%22autoClose%22%3A%20false%2C%20%22maxWidth%22%3A%20%22100%25%22%7D%29%3B%0A%0A%20%20%20%20%20%20%20%20%0A%20%20%20%20%20%20%20%20%20%20%20%20var%20html_886a66dba0444af0ab8fb38b91342474%20%3D%20%24%28%60%3Cdiv%20id%3D%22html_886a66dba0444af0ab8fb38b91342474%22%20style%3D%22width%3A%20100.0%25%3B%20height%3A%20100.0%25%3B%22%3EOrange%20County%3C/div%3E%60%29%5B0%5D%3B%0A%20%20%20%20%20%20%20%20%20%20%20%20popup_503a4b0954a64f4f8bd43c54d12d9ec3.setContent%28html_886a66dba0444af0ab8fb38b91342474%29%3B%0A%20%20%20%20%20%20%20%20%0A%0A%20%20%20%20%20%20%20%20marker_d3d2f02fe111441b9e1ea73522b0cfa7.bindPopup%28popup_503a4b0954a64f4f8bd43c54d12d9ec3%29%0A%20%20%20%20%20%20%20%20.openPopup%28%29%3B%0A%0A%20%20%20%20%20%20%20%20%0A%20%20%20%20%0A%20%20%20%20%0A%20%20%20%20%20%20%20%20%20%20%20%20var%20marker_15fda2d973644654829320bd7dcfec55%20%3D%20L.marker%28%0A%20%20%20%20%20%20%20%20%20%20%20%20%20%20%20%20%5B43.29373%2C%20-78.19328%5D%2C%0A%20%20%20%20%20%20%20%20%20%20%20%20%20%20%20%20%7B%7D%0A%20%20%20%20%20%20%20%20%20%20%20%20%29.addTo%28map_a1b17dd082b54211b05e0ae1029d9c6a%29%3B%0A%20%20%20%20%20%20%20%20%0A%20%20%20%20%0A%20%20%20%20%20%20%20%20var%20popup_5e26c63f6ced4071804e8e9acf6ef99d%20%3D%20L.popup%28%7B%22autoClose%22%3A%20false%2C%20%22maxWidth%22%3A%20%22100%25%22%7D%29%3B%0A%0A%20%20%20%20%20%20%20%20%0A%20%20%20%20%20%20%20%20%20%20%20%20var%20html_2425ed073da943268047fb7a3f1207d5%20%3D%20%24%28%60%3Cdiv%20id%3D%22html_2425ed073da943268047fb7a3f1207d5%22%20style%3D%22width%3A%20100.0%25%3B%20height%3A%20100.0%25%3B%22%3EOrleans%20County%3C/div%3E%60%29%5B0%5D%3B%0A%20%20%20%20%20%20%20%20%20%20%20%20popup_5e26c63f6ced4071804e8e9acf6ef99d.setContent%28html_2425ed073da943268047fb7a3f1207d5%29%3B%0A%20%20%20%20%20%20%20%20%0A%0A%20%20%20%20%20%20%20%20marker_15fda2d973644654829320bd7dcfec55.bindPopup%28popup_5e26c63f6ced4071804e8e9acf6ef99d%29%0A%20%20%20%20%20%20%20%20.openPopup%28%29%3B%0A%0A%20%20%20%20%20%20%20%20%0A%20%20%20%20%0A%20%20%20%20%0A%20%20%20%20%20%20%20%20%20%20%20%20var%20marker_4fbad64dadc042649a5e8c788f2fa7dc%20%3D%20L.marker%28%0A%20%20%20%20%20%20%20%20%20%20%20%20%20%20%20%20%5B43.41745%2C%20-76.16983%5D%2C%0A%20%20%20%20%20%20%20%20%20%20%20%20%20%20%20%20%7B%7D%0A%20%20%20%20%20%20%20%20%20%20%20%20%29.addTo%28map_a1b17dd082b54211b05e0ae1029d9c6a%29%3B%0A%20%20%20%20%20%20%20%20%0A%20%20%20%20%0A%20%20%20%20%20%20%20%20var%20popup_71fd91725d264762b858a05727739fd6%20%3D%20L.popup%28%7B%22autoClose%22%3A%20false%2C%20%22maxWidth%22%3A%20%22100%25%22%7D%29%3B%0A%0A%20%20%20%20%20%20%20%20%0A%20%20%20%20%20%20%20%20%20%20%20%20var%20html_6ecd310198a84bf8a8cac3a277870501%20%3D%20%24%28%60%3Cdiv%20id%3D%22html_6ecd310198a84bf8a8cac3a277870501%22%20style%3D%22width%3A%20100.0%25%3B%20height%3A%20100.0%25%3B%22%3EOswego%20County%3C/div%3E%60%29%5B0%5D%3B%0A%20%20%20%20%20%20%20%20%20%20%20%20popup_71fd91725d264762b858a05727739fd6.setContent%28html_6ecd310198a84bf8a8cac3a277870501%29%3B%0A%20%20%20%20%20%20%20%20%0A%0A%20%20%20%20%20%20%20%20marker_4fbad64dadc042649a5e8c788f2fa7dc.bindPopup%28popup_71fd91725d264762b858a05727739fd6%29%0A%20%20%20%20%20%20%20%20.openPopup%28%29%3B%0A%0A%20%20%20%20%20%20%20%20%0A%20%20%20%20%0A%20%20%20%20%0A%20%20%20%20%20%20%20%20%20%20%20%20var%20marker_c284a4afaf0d422ebe1e0b91115fd5c9%20%3D%20L.marker%28%0A%20%20%20%20%20%20%20%20%20%20%20%20%20%20%20%20%5B42.59169%2C%20-75.051705%5D%2C%0A%20%20%20%20%20%20%20%20%20%20%20%20%20%20%20%20%7B%7D%0A%20%20%20%20%20%20%20%20%20%20%20%20%29.addTo%28map_a1b17dd082b54211b05e0ae1029d9c6a%29%3B%0A%20%20%20%20%20%20%20%20%0A%20%20%20%20%0A%20%20%20%20%20%20%20%20var%20popup_a31e34deaf4947ee878c7c03691d0498%20%3D%20L.popup%28%7B%22autoClose%22%3A%20false%2C%20%22maxWidth%22%3A%20%22100%25%22%7D%29%3B%0A%0A%20%20%20%20%20%20%20%20%0A%20%20%20%20%20%20%20%20%20%20%20%20var%20html_f70fc127960c41f497021b1dbab245e1%20%3D%20%24%28%60%3Cdiv%20id%3D%22html_f70fc127960c41f497021b1dbab245e1%22%20style%3D%22width%3A%20100.0%25%3B%20height%3A%20100.0%25%3B%22%3EOtsego%20County%3C/div%3E%60%29%5B0%5D%3B%0A%20%20%20%20%20%20%20%20%20%20%20%20popup_a31e34deaf4947ee878c7c03691d0498.setContent%28html_f70fc127960c41f497021b1dbab245e1%29%3B%0A%20%20%20%20%20%20%20%20%0A%0A%20%20%20%20%20%20%20%20marker_c284a4afaf0d422ebe1e0b91115fd5c9.bindPopup%28popup_a31e34deaf4947ee878c7c03691d0498%29%0A%20%20%20%20%20%20%20%20.openPopup%28%29%3B%0A%0A%20%20%20%20%20%20%20%20%0A%20%20%20%20%0A%20%20%20%20%0A%20%20%20%20%20%20%20%20%20%20%20%20var%20marker_9ca763c836b942c88107f15dd0f190f8%20%3D%20L.marker%28%0A%20%20%20%20%20%20%20%20%20%20%20%20%20%20%20%20%5B41.41451%2C%20-73.653625%5D%2C%0A%20%20%20%20%20%20%20%20%20%20%20%20%20%20%20%20%7B%7D%0A%20%20%20%20%20%20%20%20%20%20%20%20%29.addTo%28map_a1b17dd082b54211b05e0ae1029d9c6a%29%3B%0A%20%20%20%20%20%20%20%20%0A%20%20%20%20%0A%20%20%20%20%20%20%20%20var%20popup_c4e46f5fa91f47c4a023373f29a20ce9%20%3D%20L.popup%28%7B%22autoClose%22%3A%20false%2C%20%22maxWidth%22%3A%20%22100%25%22%7D%29%3B%0A%0A%20%20%20%20%20%20%20%20%0A%20%20%20%20%20%20%20%20%20%20%20%20var%20html_a48af6cd5e7147b68285e3555b7a965e%20%3D%20%24%28%60%3Cdiv%20id%3D%22html_a48af6cd5e7147b68285e3555b7a965e%22%20style%3D%22width%3A%20100.0%25%3B%20height%3A%20100.0%25%3B%22%3EPutnam%20County%3C/div%3E%60%29%5B0%5D%3B%0A%20%20%20%20%20%20%20%20%20%20%20%20popup_c4e46f5fa91f47c4a023373f29a20ce9.setContent%28html_a48af6cd5e7147b68285e3555b7a965e%29%3B%0A%20%20%20%20%20%20%20%20%0A%0A%20%20%20%20%20%20%20%20marker_9ca763c836b942c88107f15dd0f190f8.bindPopup%28popup_c4e46f5fa91f47c4a023373f29a20ce9%29%0A%20%20%20%20%20%20%20%20.openPopup%28%29%3B%0A%0A%20%20%20%20%20%20%20%20%0A%20%20%20%20%0A%20%20%20%20%0A%20%20%20%20%20%20%20%20%20%20%20%20var%20marker_220ea4f3c8fb4cab960bf28721a5678e%20%3D%20L.marker%28%0A%20%20%20%20%20%20%20%20%20%20%20%20%20%20%20%20%5B40.731120000000004%2C%20-73.83385499999999%5D%2C%0A%20%20%20%20%20%20%20%20%20%20%20%20%20%20%20%20%7B%7D%0A%20%20%20%20%20%20%20%20%20%20%20%20%29.addTo%28map_a1b17dd082b54211b05e0ae1029d9c6a%29%3B%0A%20%20%20%20%20%20%20%20%0A%20%20%20%20%0A%20%20%20%20%20%20%20%20var%20popup_b4cfb548c1504bafbaf77c3471274d30%20%3D%20L.popup%28%7B%22autoClose%22%3A%20false%2C%20%22maxWidth%22%3A%20%22100%25%22%7D%29%3B%0A%0A%20%20%20%20%20%20%20%20%0A%20%20%20%20%20%20%20%20%20%20%20%20var%20html_48294bbf0c1f4d39a01729cff29d9762%20%3D%20%24%28%60%3Cdiv%20id%3D%22html_48294bbf0c1f4d39a01729cff29d9762%22%20style%3D%22width%3A%20100.0%25%3B%20height%3A%20100.0%25%3B%22%3EQueens%20County%3C/div%3E%60%29%5B0%5D%3B%0A%20%20%20%20%20%20%20%20%20%20%20%20popup_b4cfb548c1504bafbaf77c3471274d30.setContent%28html_48294bbf0c1f4d39a01729cff29d9762%29%3B%0A%20%20%20%20%20%20%20%20%0A%0A%20%20%20%20%20%20%20%20marker_220ea4f3c8fb4cab960bf28721a5678e.bindPopup%28popup_b4cfb548c1504bafbaf77c3471274d30%29%0A%20%20%20%20%20%20%20%20.openPopup%28%29%3B%0A%0A%20%20%20%20%20%20%20%20%0A%20%20%20%20%0A%20%20%20%20%0A%20%20%20%20%20%20%20%20%20%20%20%20var%20marker_6d2386eec1ec4e608ad27fe2c94e1b8b%20%3D%20L.marker%28%0A%20%20%20%20%20%20%20%20%20%20%20%20%20%20%20%20%5B42.64416%2C%20-73.58188%5D%2C%0A%20%20%20%20%20%20%20%20%20%20%20%20%20%20%20%20%7B%7D%0A%20%20%20%20%20%20%20%20%20%20%20%20%29.addTo%28map_a1b17dd082b54211b05e0ae1029d9c6a%29%3B%0A%20%20%20%20%20%20%20%20%0A%20%20%20%20%0A%20%20%20%20%20%20%20%20var%20popup_093b18af8e234a3390279148d3263c88%20%3D%20L.popup%28%7B%22autoClose%22%3A%20false%2C%20%22maxWidth%22%3A%20%22100%25%22%7D%29%3B%0A%0A%20%20%20%20%20%20%20%20%0A%20%20%20%20%20%20%20%20%20%20%20%20var%20html_90e34a10fd2048ba91cd4b090e663163%20%3D%20%24%28%60%3Cdiv%20id%3D%22html_90e34a10fd2048ba91cd4b090e663163%22%20style%3D%22width%3A%20100.0%25%3B%20height%3A%20100.0%25%3B%22%3ERensselaer%20County%3C/div%3E%60%29%5B0%5D%3B%0A%20%20%20%20%20%20%20%20%20%20%20%20popup_093b18af8e234a3390279148d3263c88.setContent%28html_90e34a10fd2048ba91cd4b090e663163%29%3B%0A%20%20%20%20%20%20%20%20%0A%0A%20%20%20%20%20%20%20%20marker_6d2386eec1ec4e608ad27fe2c94e1b8b.bindPopup%28popup_093b18af8e234a3390279148d3263c88%29%0A%20%20%20%20%20%20%20%20.openPopup%28%29%3B%0A%0A%20%20%20%20%20%20%20%20%0A%20%20%20%20%0A%20%20%20%20%0A%20%20%20%20%20%20%20%20%20%20%20%20var%20marker_5135fefec86f44cbab58ea7a24ed6b51%20%3D%20L.marker%28%0A%20%20%20%20%20%20%20%20%20%20%20%20%20%20%20%20%5B40.607325%2C%20-74.15207000000001%5D%2C%0A%20%20%20%20%20%20%20%20%20%20%20%20%20%20%20%20%7B%7D%0A%20%20%20%20%20%20%20%20%20%20%20%20%29.addTo%28map_a1b17dd082b54211b05e0ae1029d9c6a%29%3B%0A%20%20%20%20%20%20%20%20%0A%20%20%20%20%0A%20%20%20%20%20%20%20%20var%20popup_7b11e50c1348441eb2968eb4a566e880%20%3D%20L.popup%28%7B%22autoClose%22%3A%20false%2C%20%22maxWidth%22%3A%20%22100%25%22%7D%29%3B%0A%0A%20%20%20%20%20%20%20%20%0A%20%20%20%20%20%20%20%20%20%20%20%20var%20html_5cf48736829c4f5980ac85f3a6aaf548%20%3D%20%24%28%60%3Cdiv%20id%3D%22html_5cf48736829c4f5980ac85f3a6aaf548%22%20style%3D%22width%3A%20100.0%25%3B%20height%3A%20100.0%25%3B%22%3ERichmond%20County%3C/div%3E%60%29%5B0%5D%3B%0A%20%20%20%20%20%20%20%20%20%20%20%20popup_7b11e50c1348441eb2968eb4a566e880.setContent%28html_5cf48736829c4f5980ac85f3a6aaf548%29%3B%0A%20%20%20%20%20%20%20%20%0A%0A%20%20%20%20%20%20%20%20marker_5135fefec86f44cbab58ea7a24ed6b51.bindPopup%28popup_7b11e50c1348441eb2968eb4a566e880%29%0A%20%20%20%20%20%20%20%20.openPopup%28%29%3B%0A%0A%20%20%20%20%20%20%20%20%0A%20%20%20%20%0A%20%20%20%20%0A%20%20%20%20%20%20%20%20%20%20%20%20var%20marker_976dd59441bb46bab16f416796083164%20%3D%20L.marker%28%0A%20%20%20%20%20%20%20%20%20%20%20%20%20%20%20%20%5B41.10435%2C%20-74.006245%5D%2C%0A%20%20%20%20%20%20%20%20%20%20%20%20%20%20%20%20%7B%7D%0A%20%20%20%20%20%20%20%20%20%20%20%20%29.addTo%28map_a1b17dd082b54211b05e0ae1029d9c6a%29%3B%0A%20%20%20%20%20%20%20%20%0A%20%20%20%20%0A%20%20%20%20%20%20%20%20var%20popup_46f6b4dbd1f34b5d898f7637b4cbb3c4%20%3D%20L.popup%28%7B%22autoClose%22%3A%20false%2C%20%22maxWidth%22%3A%20%22100%25%22%7D%29%3B%0A%0A%20%20%20%20%20%20%20%20%0A%20%20%20%20%20%20%20%20%20%20%20%20var%20html_63588a7a4b3741e9be94142d54c3f0d0%20%3D%20%24%28%60%3Cdiv%20id%3D%22html_63588a7a4b3741e9be94142d54c3f0d0%22%20style%3D%22width%3A%20100.0%25%3B%20height%3A%20100.0%25%3B%22%3ERockland%20County%3C/div%3E%60%29%5B0%5D%3B%0A%20%20%20%20%20%20%20%20%20%20%20%20popup_46f6b4dbd1f34b5d898f7637b4cbb3c4.setContent%28html_63588a7a4b3741e9be94142d54c3f0d0%29%3B%0A%20%20%20%20%20%20%20%20%0A%0A%20%20%20%20%20%20%20%20marker_976dd59441bb46bab16f416796083164.bindPopup%28popup_46f6b4dbd1f34b5d898f7637b4cbb3c4%29%0A%20%20%20%20%20%20%20%20.openPopup%28%29%3B%0A%0A%20%20%20%20%20%20%20%20%0A%20%20%20%20%0A%20%20%20%20%0A%20%20%20%20%20%20%20%20%20%20%20%20var%20marker_6261cc666eb74117bec9512a58bb35e0%20%3D%20L.marker%28%0A%20%20%20%20%20%20%20%20%20%20%20%20%20%20%20%20%5B43.045495%2C%20-73.79077000000001%5D%2C%0A%20%20%20%20%20%20%20%20%20%20%20%20%20%20%20%20%7B%7D%0A%20%20%20%20%20%20%20%20%20%20%20%20%29.addTo%28map_a1b17dd082b54211b05e0ae1029d9c6a%29%3B%0A%20%20%20%20%20%20%20%20%0A%20%20%20%20%0A%20%20%20%20%20%20%20%20var%20popup_1a788c1f0de645f8a681a22ac93a58e7%20%3D%20L.popup%28%7B%22autoClose%22%3A%20false%2C%20%22maxWidth%22%3A%20%22100%25%22%7D%29%3B%0A%0A%20%20%20%20%20%20%20%20%0A%20%20%20%20%20%20%20%20%20%20%20%20var%20html_c3f902b8de94490a90574c6a3bf05fd3%20%3D%20%24%28%60%3Cdiv%20id%3D%22html_c3f902b8de94490a90574c6a3bf05fd3%22%20style%3D%22width%3A%20100.0%25%3B%20height%3A%20100.0%25%3B%22%3ESaratoga%20County%3C/div%3E%60%29%5B0%5D%3B%0A%20%20%20%20%20%20%20%20%20%20%20%20popup_1a788c1f0de645f8a681a22ac93a58e7.setContent%28html_c3f902b8de94490a90574c6a3bf05fd3%29%3B%0A%20%20%20%20%20%20%20%20%0A%0A%20%20%20%20%20%20%20%20marker_6261cc666eb74117bec9512a58bb35e0.bindPopup%28popup_1a788c1f0de645f8a681a22ac93a58e7%29%0A%20%20%20%20%20%20%20%20.openPopup%28%29%3B%0A%0A%20%20%20%20%20%20%20%20%0A%20%20%20%20%0A%20%20%20%20%0A%20%20%20%20%20%20%20%20%20%20%20%20var%20marker_c02fd91361db487b96ddc7c5ff24dc11%20%3D%20L.marker%28%0A%20%20%20%20%20%20%20%20%20%20%20%20%20%20%20%20%5B42.79513%2C%20-74.01276999999997%5D%2C%0A%20%20%20%20%20%20%20%20%20%20%20%20%20%20%20%20%7B%7D%0A%20%20%20%20%20%20%20%20%20%20%20%20%29.addTo%28map_a1b17dd082b54211b05e0ae1029d9c6a%29%3B%0A%20%20%20%20%20%20%20%20%0A%20%20%20%20%0A%20%20%20%20%20%20%20%20var%20popup_254fce1533864c4ba8d44cba917c8428%20%3D%20L.popup%28%7B%22autoClose%22%3A%20false%2C%20%22maxWidth%22%3A%20%22100%25%22%7D%29%3B%0A%0A%20%20%20%20%20%20%20%20%0A%20%20%20%20%20%20%20%20%20%20%20%20var%20html_01e600cd98b544618988500398566d61%20%3D%20%24%28%60%3Cdiv%20id%3D%22html_01e600cd98b544618988500398566d61%22%20style%3D%22width%3A%20100.0%25%3B%20height%3A%20100.0%25%3B%22%3ESchenectady%20County%3C/div%3E%60%29%5B0%5D%3B%0A%20%20%20%20%20%20%20%20%20%20%20%20popup_254fce1533864c4ba8d44cba917c8428.setContent%28html_01e600cd98b544618988500398566d61%29%3B%0A%20%20%20%20%20%20%20%20%0A%0A%20%20%20%20%20%20%20%20marker_c02fd91361db487b96ddc7c5ff24dc11.bindPopup%28popup_254fce1533864c4ba8d44cba917c8428%29%0A%20%20%20%20%20%20%20%20.openPopup%28%29%3B%0A%0A%20%20%20%20%20%20%20%20%0A%20%20%20%20%0A%20%20%20%20%0A%20%20%20%20%20%20%20%20%20%20%20%20var%20marker_a77b91b605044e15be056b22bb267f70%20%3D%20L.marker%28%0A%20%20%20%20%20%20%20%20%20%20%20%20%20%20%20%20%5B42.6426%2C%20-74.44985%5D%2C%0A%20%20%20%20%20%20%20%20%20%20%20%20%20%20%20%20%7B%7D%0A%20%20%20%20%20%20%20%20%20%20%20%20%29.addTo%28map_a1b17dd082b54211b05e0ae1029d9c6a%29%3B%0A%20%20%20%20%20%20%20%20%0A%20%20%20%20%0A%20%20%20%20%20%20%20%20var%20popup_8c56647d74314ec28a09611c34c76832%20%3D%20L.popup%28%7B%22autoClose%22%3A%20false%2C%20%22maxWidth%22%3A%20%22100%25%22%7D%29%3B%0A%0A%20%20%20%20%20%20%20%20%0A%20%20%20%20%20%20%20%20%20%20%20%20var%20html_aa62546d29734f7381ee6b3c38635c42%20%3D%20%24%28%60%3Cdiv%20id%3D%22html_aa62546d29734f7381ee6b3c38635c42%22%20style%3D%22width%3A%20100.0%25%3B%20height%3A%20100.0%25%3B%22%3ESchoharie%20County%3C/div%3E%60%29%5B0%5D%3B%0A%20%20%20%20%20%20%20%20%20%20%20%20popup_8c56647d74314ec28a09611c34c76832.setContent%28html_aa62546d29734f7381ee6b3c38635c42%29%3B%0A%20%20%20%20%20%20%20%20%0A%0A%20%20%20%20%20%20%20%20marker_a77b91b605044e15be056b22bb267f70.bindPopup%28popup_8c56647d74314ec28a09611c34c76832%29%0A%20%20%20%20%20%20%20%20.openPopup%28%29%3B%0A%0A%20%20%20%20%20%20%20%20%0A%20%20%20%20%0A%20%20%20%20%0A%20%20%20%20%20%20%20%20%20%20%20%20var%20marker_695f5be66f5e42699f658a000fb08b2e%20%3D%20L.marker%28%0A%20%20%20%20%20%20%20%20%20%20%20%20%20%20%20%20%5B42.35527%2C%20-76.82943%5D%2C%0A%20%20%20%20%20%20%20%20%20%20%20%20%20%20%20%20%7B%7D%0A%20%20%20%20%20%20%20%20%20%20%20%20%29.addTo%28map_a1b17dd082b54211b05e0ae1029d9c6a%29%3B%0A%20%20%20%20%20%20%20%20%0A%20%20%20%20%0A%20%20%20%20%20%20%20%20var%20popup_df7d01d7da5d4cf89e9fc76bd9108967%20%3D%20L.popup%28%7B%22autoClose%22%3A%20false%2C%20%22maxWidth%22%3A%20%22100%25%22%7D%29%3B%0A%0A%20%20%20%20%20%20%20%20%0A%20%20%20%20%20%20%20%20%20%20%20%20var%20html_f51f6653824944c6b031c8e2da8f9801%20%3D%20%24%28%60%3Cdiv%20id%3D%22html_f51f6653824944c6b031c8e2da8f9801%22%20style%3D%22width%3A%20100.0%25%3B%20height%3A%20100.0%25%3B%22%3ESchuyler%20County%3C/div%3E%60%29%5B0%5D%3B%0A%20%20%20%20%20%20%20%20%20%20%20%20popup_df7d01d7da5d4cf89e9fc76bd9108967.setContent%28html_f51f6653824944c6b031c8e2da8f9801%29%3B%0A%20%20%20%20%20%20%20%20%0A%0A%20%20%20%20%20%20%20%20marker_695f5be66f5e42699f658a000fb08b2e.bindPopup%28popup_df7d01d7da5d4cf89e9fc76bd9108967%29%0A%20%20%20%20%20%20%20%20.openPopup%28%29%3B%0A%0A%20%20%20%20%20%20%20%20%0A%20%20%20%20%0A%20%20%20%20%0A%20%20%20%20%20%20%20%20%20%20%20%20var%20marker_3170fa232d844c07a08180ea062b5930%20%3D%20L.marker%28%0A%20%20%20%20%20%20%20%20%20%20%20%20%20%20%20%20%5B42.901865%2C%20-76.81681500000002%5D%2C%0A%20%20%20%20%20%20%20%20%20%20%20%20%20%20%20%20%7B%7D%0A%20%20%20%20%20%20%20%20%20%20%20%20%29.addTo%28map_a1b17dd082b54211b05e0ae1029d9c6a%29%3B%0A%20%20%20%20%20%20%20%20%0A%20%20%20%20%0A%20%20%20%20%20%20%20%20var%20popup_0315775883fc449ab4ef6fbe09a582b0%20%3D%20L.popup%28%7B%22autoClose%22%3A%20false%2C%20%22maxWidth%22%3A%20%22100%25%22%7D%29%3B%0A%0A%20%20%20%20%20%20%20%20%0A%20%20%20%20%20%20%20%20%20%20%20%20var%20html_26f89173e2344a5aa8a11f24f5df3f20%20%3D%20%24%28%60%3Cdiv%20id%3D%22html_26f89173e2344a5aa8a11f24f5df3f20%22%20style%3D%22width%3A%20100.0%25%3B%20height%3A%20100.0%25%3B%22%3ESeneca%20County%3C/div%3E%60%29%5B0%5D%3B%0A%20%20%20%20%20%20%20%20%20%20%20%20popup_0315775883fc449ab4ef6fbe09a582b0.setContent%28html_26f89173e2344a5aa8a11f24f5df3f20%29%3B%0A%20%20%20%20%20%20%20%20%0A%0A%20%20%20%20%20%20%20%20marker_3170fa232d844c07a08180ea062b5930.bindPopup%28popup_0315775883fc449ab4ef6fbe09a582b0%29%0A%20%20%20%20%20%20%20%20.openPopup%28%29%3B%0A%0A%20%20%20%20%20%20%20%20%0A%20%20%20%20%0A%20%20%20%20%0A%20%20%20%20%20%20%20%20%20%20%20%20var%20marker_0be5752450124333a3817b24d962b419%20%3D%20L.marker%28%0A%20%20%20%20%20%20%20%20%20%20%20%20%20%20%20%20%5B44.581905%2C%20-75.11351000000002%5D%2C%0A%20%20%20%20%20%20%20%20%20%20%20%20%20%20%20%20%7B%7D%0A%20%20%20%20%20%20%20%20%20%20%20%20%29.addTo%28map_a1b17dd082b54211b05e0ae1029d9c6a%29%3B%0A%20%20%20%20%20%20%20%20%0A%20%20%20%20%0A%20%20%20%20%20%20%20%20var%20popup_d0185732cfe14d40a3476bc25645a4d4%20%3D%20L.popup%28%7B%22autoClose%22%3A%20false%2C%20%22maxWidth%22%3A%20%22100%25%22%7D%29%3B%0A%0A%20%20%20%20%20%20%20%20%0A%20%20%20%20%20%20%20%20%20%20%20%20var%20html_a598933a8e7f439faf3654791c677a60%20%3D%20%24%28%60%3Cdiv%20id%3D%22html_a598933a8e7f439faf3654791c677a60%22%20style%3D%22width%3A%20100.0%25%3B%20height%3A%20100.0%25%3B%22%3ESt.%20Lawrence%20County%3C/div%3E%60%29%5B0%5D%3B%0A%20%20%20%20%20%20%20%20%20%20%20%20popup_d0185732cfe14d40a3476bc25645a4d4.setContent%28html_a598933a8e7f439faf3654791c677a60%29%3B%0A%20%20%20%20%20%20%20%20%0A%0A%20%20%20%20%20%20%20%20marker_0be5752450124333a3817b24d962b419.bindPopup%28popup_d0185732cfe14d40a3476bc25645a4d4%29%0A%20%20%20%20%20%20%20%20.openPopup%28%29%3B%0A%0A%20%20%20%20%20%20%20%20%0A%20%20%20%20%0A%20%20%20%20%0A%20%20%20%20%20%20%20%20%20%20%20%20var%20marker_bdac9f9641e846349b31610c52c74ce9%20%3D%20L.marker%28%0A%20%20%20%20%20%20%20%20%20%20%20%20%20%20%20%20%5B42.26493%2C%20-77.3913%5D%2C%0A%20%20%20%20%20%20%20%20%20%20%20%20%20%20%20%20%7B%7D%0A%20%20%20%20%20%20%20%20%20%20%20%20%29.addTo%28map_a1b17dd082b54211b05e0ae1029d9c6a%29%3B%0A%20%20%20%20%20%20%20%20%0A%20%20%20%20%0A%20%20%20%20%20%20%20%20var%20popup_1f70a5c736394ee7bc6345f55b3d25b4%20%3D%20L.popup%28%7B%22autoClose%22%3A%20false%2C%20%22maxWidth%22%3A%20%22100%25%22%7D%29%3B%0A%0A%20%20%20%20%20%20%20%20%0A%20%20%20%20%20%20%20%20%20%20%20%20var%20html_4d1fb0add3c240f8945cbda2360d8e55%20%3D%20%24%28%60%3Cdiv%20id%3D%22html_4d1fb0add3c240f8945cbda2360d8e55%22%20style%3D%22width%3A%20100.0%25%3B%20height%3A%20100.0%25%3B%22%3ESteuben%20County%3C/div%3E%60%29%5B0%5D%3B%0A%20%20%20%20%20%20%20%20%20%20%20%20popup_1f70a5c736394ee7bc6345f55b3d25b4.setContent%28html_4d1fb0add3c240f8945cbda2360d8e55%29%3B%0A%20%20%20%20%20%20%20%20%0A%0A%20%20%20%20%20%20%20%20marker_bdac9f9641e846349b31610c52c74ce9.bindPopup%28popup_1f70a5c736394ee7bc6345f55b3d25b4%29%0A%20%20%20%20%20%20%20%20.openPopup%28%29%3B%0A%0A%20%20%20%20%20%20%20%20%0A%20%20%20%20%0A%20%20%20%20%0A%20%20%20%20%20%20%20%20%20%20%20%20var%20marker_bac8bf2342214b13a33160683209afbe%20%3D%20L.marker%28%0A%20%20%20%20%20%20%20%20%20%20%20%20%20%20%20%20%5B40.810215%2C%20-73.14754500000001%5D%2C%0A%20%20%20%20%20%20%20%20%20%20%20%20%20%20%20%20%7B%7D%0A%20%20%20%20%20%20%20%20%20%20%20%20%29.addTo%28map_a1b17dd082b54211b05e0ae1029d9c6a%29%3B%0A%20%20%20%20%20%20%20%20%0A%20%20%20%20%0A%20%20%20%20%20%20%20%20var%20popup_09b1ec96ed1b406c86aaf8dd232525fe%20%3D%20L.popup%28%7B%22autoClose%22%3A%20false%2C%20%22maxWidth%22%3A%20%22100%25%22%7D%29%3B%0A%0A%20%20%20%20%20%20%20%20%0A%20%20%20%20%20%20%20%20%20%20%20%20var%20html_9060c1d123ca47249054c0b5f50c26b4%20%3D%20%24%28%60%3Cdiv%20id%3D%22html_9060c1d123ca47249054c0b5f50c26b4%22%20style%3D%22width%3A%20100.0%25%3B%20height%3A%20100.0%25%3B%22%3ESuffolk%20County%3C/div%3E%60%29%5B0%5D%3B%0A%20%20%20%20%20%20%20%20%20%20%20%20popup_09b1ec96ed1b406c86aaf8dd232525fe.setContent%28html_9060c1d123ca47249054c0b5f50c26b4%29%3B%0A%20%20%20%20%20%20%20%20%0A%0A%20%20%20%20%20%20%20%20marker_bac8bf2342214b13a33160683209afbe.bindPopup%28popup_09b1ec96ed1b406c86aaf8dd232525fe%29%0A%20%20%20%20%20%20%20%20.openPopup%28%29%3B%0A%0A%20%20%20%20%20%20%20%20%0A%20%20%20%20%0A%20%20%20%20%0A%20%20%20%20%20%20%20%20%20%20%20%20var%20marker_c95c43106a0b421eba591c3f08f56eb5%20%3D%20L.marker%28%0A%20%20%20%20%20%20%20%20%20%20%20%20%20%20%20%20%5B41.774315%2C%20-74.75978500000002%5D%2C%0A%20%20%20%20%20%20%20%20%20%20%20%20%20%20%20%20%7B%7D%0A%20%20%20%20%20%20%20%20%20%20%20%20%29.addTo%28map_a1b17dd082b54211b05e0ae1029d9c6a%29%3B%0A%20%20%20%20%20%20%20%20%0A%20%20%20%20%0A%20%20%20%20%20%20%20%20var%20popup_0e2f7a5abe044cb7a821e42ecbf38ad0%20%3D%20L.popup%28%7B%22autoClose%22%3A%20false%2C%20%22maxWidth%22%3A%20%22100%25%22%7D%29%3B%0A%0A%20%20%20%20%20%20%20%20%0A%20%20%20%20%20%20%20%20%20%20%20%20var%20html_3f0c6a5c007740e5a5788eb0cbf78f8c%20%3D%20%24%28%60%3Cdiv%20id%3D%22html_3f0c6a5c007740e5a5788eb0cbf78f8c%22%20style%3D%22width%3A%20100.0%25%3B%20height%3A%20100.0%25%3B%22%3ESullivan%20County%3C/div%3E%60%29%5B0%5D%3B%0A%20%20%20%20%20%20%20%20%20%20%20%20popup_0e2f7a5abe044cb7a821e42ecbf38ad0.setContent%28html_3f0c6a5c007740e5a5788eb0cbf78f8c%29%3B%0A%20%20%20%20%20%20%20%20%0A%0A%20%20%20%20%20%20%20%20marker_c95c43106a0b421eba591c3f08f56eb5.bindPopup%28popup_0e2f7a5abe044cb7a821e42ecbf38ad0%29%0A%20%20%20%20%20%20%20%20.openPopup%28%29%3B%0A%0A%20%20%20%20%20%20%20%20%0A%20%20%20%20%0A%20%20%20%20%0A%20%20%20%20%20%20%20%20%20%20%20%20var%20marker_81bfaa1536a74171b6e44a77acb3fc56%20%3D%20L.marker%28%0A%20%20%20%20%20%20%20%20%20%20%20%20%20%20%20%20%5B42.09238%2C%20-76.35699%5D%2C%0A%20%20%20%20%20%20%20%20%20%20%20%20%20%20%20%20%7B%7D%0A%20%20%20%20%20%20%20%20%20%20%20%20%29.addTo%28map_a1b17dd082b54211b05e0ae1029d9c6a%29%3B%0A%20%20%20%20%20%20%20%20%0A%20%20%20%20%0A%20%20%20%20%20%20%20%20var%20popup_f3f78136102e4fce89f1e0f270f9413f%20%3D%20L.popup%28%7B%22autoClose%22%3A%20false%2C%20%22maxWidth%22%3A%20%22100%25%22%7D%29%3B%0A%0A%20%20%20%20%20%20%20%20%0A%20%20%20%20%20%20%20%20%20%20%20%20var%20html_5432ab755b1e420a9a0e4c2123f06333%20%3D%20%24%28%60%3Cdiv%20id%3D%22html_5432ab755b1e420a9a0e4c2123f06333%22%20style%3D%22width%3A%20100.0%25%3B%20height%3A%20100.0%25%3B%22%3ETioga%20County%3C/div%3E%60%29%5B0%5D%3B%0A%20%20%20%20%20%20%20%20%20%20%20%20popup_f3f78136102e4fce89f1e0f270f9413f.setContent%28html_5432ab755b1e420a9a0e4c2123f06333%29%3B%0A%20%20%20%20%20%20%20%20%0A%0A%20%20%20%20%20%20%20%20marker_81bfaa1536a74171b6e44a77acb3fc56.bindPopup%28popup_f3f78136102e4fce89f1e0f270f9413f%29%0A%20%20%20%20%20%20%20%20.openPopup%28%29%3B%0A%0A%20%20%20%20%20%20%20%20%0A%20%20%20%20%0A%20%20%20%20%0A%20%20%20%20%20%20%20%20%20%20%20%20var%20marker_baa348b222e54fe7acc57a37e8b7d172%20%3D%20L.marker%28%0A%20%20%20%20%20%20%20%20%20%20%20%20%20%20%20%20%5B42.45214%2C%20-76.49457%5D%2C%0A%20%20%20%20%20%20%20%20%20%20%20%20%20%20%20%20%7B%7D%0A%20%20%20%20%20%20%20%20%20%20%20%20%29.addTo%28map_a1b17dd082b54211b05e0ae1029d9c6a%29%3B%0A%20%20%20%20%20%20%20%20%0A%20%20%20%20%0A%20%20%20%20%20%20%20%20var%20popup_01414c539e2e472fa1d97d21e7ba5a90%20%3D%20L.popup%28%7B%22autoClose%22%3A%20false%2C%20%22maxWidth%22%3A%20%22100%25%22%7D%29%3B%0A%0A%20%20%20%20%20%20%20%20%0A%20%20%20%20%20%20%20%20%20%20%20%20var%20html_9b0f2c2237144374be1efa0aedfd02e6%20%3D%20%24%28%60%3Cdiv%20id%3D%22html_9b0f2c2237144374be1efa0aedfd02e6%22%20style%3D%22width%3A%20100.0%25%3B%20height%3A%20100.0%25%3B%22%3ETompkins%20County%3C/div%3E%60%29%5B0%5D%3B%0A%20%20%20%20%20%20%20%20%20%20%20%20popup_01414c539e2e472fa1d97d21e7ba5a90.setContent%28html_9b0f2c2237144374be1efa0aedfd02e6%29%3B%0A%20%20%20%20%20%20%20%20%0A%0A%20%20%20%20%20%20%20%20marker_baa348b222e54fe7acc57a37e8b7d172.bindPopup%28popup_01414c539e2e472fa1d97d21e7ba5a90%29%0A%20%20%20%20%20%20%20%20.openPopup%28%29%3B%0A%0A%20%20%20%20%20%20%20%20%0A%20%20%20%20%0A%20%20%20%20%0A%20%20%20%20%20%20%20%20%20%20%20%20var%20marker_56c9291723114a11b9611f4edc6e351d%20%3D%20L.marker%28%0A%20%20%20%20%20%20%20%20%20%20%20%20%20%20%20%20%5B41.93872%2C%20-74.25589000000002%5D%2C%0A%20%20%20%20%20%20%20%20%20%20%20%20%20%20%20%20%7B%7D%0A%20%20%20%20%20%20%20%20%20%20%20%20%29.addTo%28map_a1b17dd082b54211b05e0ae1029d9c6a%29%3B%0A%20%20%20%20%20%20%20%20%0A%20%20%20%20%0A%20%20%20%20%20%20%20%20var%20popup_149bb535ad3040749172c1f18bc3a37f%20%3D%20L.popup%28%7B%22autoClose%22%3A%20false%2C%20%22maxWidth%22%3A%20%22100%25%22%7D%29%3B%0A%0A%20%20%20%20%20%20%20%20%0A%20%20%20%20%20%20%20%20%20%20%20%20var%20html_5acf89808537471e80b12b3558757f0c%20%3D%20%24%28%60%3Cdiv%20id%3D%22html_5acf89808537471e80b12b3558757f0c%22%20style%3D%22width%3A%20100.0%25%3B%20height%3A%20100.0%25%3B%22%3EUlster%20County%3C/div%3E%60%29%5B0%5D%3B%0A%20%20%20%20%20%20%20%20%20%20%20%20popup_149bb535ad3040749172c1f18bc3a37f.setContent%28html_5acf89808537471e80b12b3558757f0c%29%3B%0A%20%20%20%20%20%20%20%20%0A%0A%20%20%20%20%20%20%20%20marker_56c9291723114a11b9611f4edc6e351d.bindPopup%28popup_149bb535ad3040749172c1f18bc3a37f%29%0A%20%20%20%20%20%20%20%20.openPopup%28%29%3B%0A%0A%20%20%20%20%20%20%20%20%0A%20%20%20%20%0A%20%20%20%20%0A%20%20%20%20%20%20%20%20%20%20%20%20var%20marker_18b97dcf654a47a0bae377649ddda1b1%20%3D%20L.marker%28%0A%20%20%20%20%20%20%20%20%20%20%20%20%20%20%20%20%5B43.56863%2C%20-73.78448%5D%2C%0A%20%20%20%20%20%20%20%20%20%20%20%20%20%20%20%20%7B%7D%0A%20%20%20%20%20%20%20%20%20%20%20%20%29.addTo%28map_a1b17dd082b54211b05e0ae1029d9c6a%29%3B%0A%20%20%20%20%20%20%20%20%0A%20%20%20%20%0A%20%20%20%20%20%20%20%20var%20popup_120a68b1b2174b58a7a3a42c0007fa01%20%3D%20L.popup%28%7B%22autoClose%22%3A%20false%2C%20%22maxWidth%22%3A%20%22100%25%22%7D%29%3B%0A%0A%20%20%20%20%20%20%20%20%0A%20%20%20%20%20%20%20%20%20%20%20%20var%20html_1e580e99316a4f9c915a0e6f943e6047%20%3D%20%24%28%60%3Cdiv%20id%3D%22html_1e580e99316a4f9c915a0e6f943e6047%22%20style%3D%22width%3A%20100.0%25%3B%20height%3A%20100.0%25%3B%22%3EWarren%20County%3C/div%3E%60%29%5B0%5D%3B%0A%20%20%20%20%20%20%20%20%20%20%20%20popup_120a68b1b2174b58a7a3a42c0007fa01.setContent%28html_1e580e99316a4f9c915a0e6f943e6047%29%3B%0A%20%20%20%20%20%20%20%20%0A%0A%20%20%20%20%20%20%20%20marker_18b97dcf654a47a0bae377649ddda1b1.bindPopup%28popup_120a68b1b2174b58a7a3a42c0007fa01%29%0A%20%20%20%20%20%20%20%20.openPopup%28%29%3B%0A%0A%20%20%20%20%20%20%20%20%0A%20%20%20%20%0A%20%20%20%20%0A%20%20%20%20%20%20%20%20%20%20%20%20var%20marker_c371f0e5204843148bed997359b5eeef%20%3D%20L.marker%28%0A%20%20%20%20%20%20%20%20%20%20%20%20%20%20%20%20%5B43.25502%2C%20-73.40401999999997%5D%2C%0A%20%20%20%20%20%20%20%20%20%20%20%20%20%20%20%20%7B%7D%0A%20%20%20%20%20%20%20%20%20%20%20%20%29.addTo%28map_a1b17dd082b54211b05e0ae1029d9c6a%29%3B%0A%20%20%20%20%20%20%20%20%0A%20%20%20%20%0A%20%20%20%20%20%20%20%20var%20popup_46f6895cd3c84800a760fa967ca491c7%20%3D%20L.popup%28%7B%22autoClose%22%3A%20false%2C%20%22maxWidth%22%3A%20%22100%25%22%7D%29%3B%0A%0A%20%20%20%20%20%20%20%20%0A%20%20%20%20%20%20%20%20%20%20%20%20var%20html_7927c428362c4d188033e40d9c3ea4d7%20%3D%20%24%28%60%3Cdiv%20id%3D%22html_7927c428362c4d188033e40d9c3ea4d7%22%20style%3D%22width%3A%20100.0%25%3B%20height%3A%20100.0%25%3B%22%3EWashington%20County%3C/div%3E%60%29%5B0%5D%3B%0A%20%20%20%20%20%20%20%20%20%20%20%20popup_46f6895cd3c84800a760fa967ca491c7.setContent%28html_7927c428362c4d188033e40d9c3ea4d7%29%3B%0A%20%20%20%20%20%20%20%20%0A%0A%20%20%20%20%20%20%20%20marker_c371f0e5204843148bed997359b5eeef.bindPopup%28popup_46f6895cd3c84800a760fa967ca491c7%29%0A%20%20%20%20%20%20%20%20.openPopup%28%29%3B%0A%0A%20%20%20%20%20%20%20%20%0A%20%20%20%20%0A%20%20%20%20%0A%20%20%20%20%20%20%20%20%20%20%20%20var%20marker_d6bed19d1e204c3880d1838a8e1b999c%20%3D%20L.marker%28%0A%20%20%20%20%20%20%20%20%20%20%20%20%20%20%20%20%5B43.08682%2C%20-77.04966999999998%5D%2C%0A%20%20%20%20%20%20%20%20%20%20%20%20%20%20%20%20%7B%7D%0A%20%20%20%20%20%20%20%20%20%20%20%20%29.addTo%28map_a1b17dd082b54211b05e0ae1029d9c6a%29%3B%0A%20%20%20%20%20%20%20%20%0A%20%20%20%20%0A%20%20%20%20%20%20%20%20var%20popup_bf83349f0dff475d988672638d7e1a5a%20%3D%20L.popup%28%7B%22autoClose%22%3A%20false%2C%20%22maxWidth%22%3A%20%22100%25%22%7D%29%3B%0A%0A%20%20%20%20%20%20%20%20%0A%20%20%20%20%20%20%20%20%20%20%20%20var%20html_fb53b244246a4cdc88a3803368454f9a%20%3D%20%24%28%60%3Cdiv%20id%3D%22html_fb53b244246a4cdc88a3803368454f9a%22%20style%3D%22width%3A%20100.0%25%3B%20height%3A%20100.0%25%3B%22%3EWayne%20County%3C/div%3E%60%29%5B0%5D%3B%0A%20%20%20%20%20%20%20%20%20%20%20%20popup_bf83349f0dff475d988672638d7e1a5a.setContent%28html_fb53b244246a4cdc88a3803368454f9a%29%3B%0A%20%20%20%20%20%20%20%20%0A%0A%20%20%20%20%20%20%20%20marker_d6bed19d1e204c3880d1838a8e1b999c.bindPopup%28popup_bf83349f0dff475d988672638d7e1a5a%29%0A%20%20%20%20%20%20%20%20.openPopup%28%29%3B%0A%0A%20%20%20%20%20%20%20%20%0A%20%20%20%20%0A%20%20%20%20%0A%20%20%20%20%20%20%20%20%20%20%20%20var%20marker_aef3e42a6dae44feaacd3f0029e1e41f%20%3D%20L.marker%28%0A%20%20%20%20%20%20%20%20%20%20%20%20%20%20%20%20%5B41.03268%2C%20-73.80439%5D%2C%0A%20%20%20%20%20%20%20%20%20%20%20%20%20%20%20%20%7B%7D%0A%20%20%20%20%20%20%20%20%20%20%20%20%29.addTo%28map_a1b17dd082b54211b05e0ae1029d9c6a%29%3B%0A%20%20%20%20%20%20%20%20%0A%20%20%20%20%0A%20%20%20%20%20%20%20%20var%20popup_f6cd3d2dd4084c07b0c799e8f1bb5b96%20%3D%20L.popup%28%7B%22autoClose%22%3A%20false%2C%20%22maxWidth%22%3A%20%22100%25%22%7D%29%3B%0A%0A%20%20%20%20%20%20%20%20%0A%20%20%20%20%20%20%20%20%20%20%20%20var%20html_1d5883f8017744c2bbb4087d9487d9de%20%3D%20%24%28%60%3Cdiv%20id%3D%22html_1d5883f8017744c2bbb4087d9487d9de%22%20style%3D%22width%3A%20100.0%25%3B%20height%3A%20100.0%25%3B%22%3EWestchester%20County%3C/div%3E%60%29%5B0%5D%3B%0A%20%20%20%20%20%20%20%20%20%20%20%20popup_f6cd3d2dd4084c07b0c799e8f1bb5b96.setContent%28html_1d5883f8017744c2bbb4087d9487d9de%29%3B%0A%20%20%20%20%20%20%20%20%0A%0A%20%20%20%20%20%20%20%20marker_aef3e42a6dae44feaacd3f0029e1e41f.bindPopup%28popup_f6cd3d2dd4084c07b0c799e8f1bb5b96%29%0A%20%20%20%20%20%20%20%20.openPopup%28%29%3B%0A%0A%20%20%20%20%20%20%20%20%0A%20%20%20%20%0A%20%20%20%20%0A%20%20%20%20%20%20%20%20%20%20%20%20var%20marker_34159ddd97c14547bfca3b58beb45168%20%3D%20L.marker%28%0A%20%20%20%20%20%20%20%20%20%20%20%20%20%20%20%20%5B42.71679%2C%20-78.25467499999999%5D%2C%0A%20%20%20%20%20%20%20%20%20%20%20%20%20%20%20%20%7B%7D%0A%20%20%20%20%20%20%20%20%20%20%20%20%29.addTo%28map_a1b17dd082b54211b05e0ae1029d9c6a%29%3B%0A%20%20%20%20%20%20%20%20%0A%20%20%20%20%0A%20%20%20%20%20%20%20%20var%20popup_f9341674c85b45989bd234ff5231ee34%20%3D%20L.popup%28%7B%22autoClose%22%3A%20false%2C%20%22maxWidth%22%3A%20%22100%25%22%7D%29%3B%0A%0A%20%20%20%20%20%20%20%20%0A%20%20%20%20%20%20%20%20%20%20%20%20var%20html_81cf1b991e0b4e6cbba54ddd4ea5e42e%20%3D%20%24%28%60%3Cdiv%20id%3D%22html_81cf1b991e0b4e6cbba54ddd4ea5e42e%22%20style%3D%22width%3A%20100.0%25%3B%20height%3A%20100.0%25%3B%22%3EWyoming%20County%3C/div%3E%60%29%5B0%5D%3B%0A%20%20%20%20%20%20%20%20%20%20%20%20popup_f9341674c85b45989bd234ff5231ee34.setContent%28html_81cf1b991e0b4e6cbba54ddd4ea5e42e%29%3B%0A%20%20%20%20%20%20%20%20%0A%0A%20%20%20%20%20%20%20%20marker_34159ddd97c14547bfca3b58beb45168.bindPopup%28popup_f9341674c85b45989bd234ff5231ee34%29%0A%20%20%20%20%20%20%20%20.openPopup%28%29%3B%0A%0A%20%20%20%20%20%20%20%20%0A%20%20%20%20%0A%20%20%20%20%0A%20%20%20%20%20%20%20%20%20%20%20%20var%20marker_c9f81c6b3e4f44919cd562b5cc08fd53%20%3D%20L.marker%28%0A%20%20%20%20%20%20%20%20%20%20%20%20%20%20%20%20%5B42.65453%2C%20-77.077195%5D%2C%0A%20%20%20%20%20%20%20%20%20%20%20%20%20%20%20%20%7B%7D%0A%20%20%20%20%20%20%20%20%20%20%20%20%29.addTo%28map_a1b17dd082b54211b05e0ae1029d9c6a%29%3B%0A%20%20%20%20%20%20%20%20%0A%20%20%20%20%0A%20%20%20%20%20%20%20%20var%20popup_cb2178d4f1a94dd4b2a6163195fd2ff7%20%3D%20L.popup%28%7B%22autoClose%22%3A%20false%2C%20%22maxWidth%22%3A%20%22100%25%22%7D%29%3B%0A%0A%20%20%20%20%20%20%20%20%0A%20%20%20%20%20%20%20%20%20%20%20%20var%20html_6c0363c5d3484160980a4bf8fc117c50%20%3D%20%24%28%60%3Cdiv%20id%3D%22html_6c0363c5d3484160980a4bf8fc117c50%22%20style%3D%22width%3A%20100.0%25%3B%20height%3A%20100.0%25%3B%22%3EYates%20County%3C/div%3E%60%29%5B0%5D%3B%0A%20%20%20%20%20%20%20%20%20%20%20%20popup_cb2178d4f1a94dd4b2a6163195fd2ff7.setContent%28html_6c0363c5d3484160980a4bf8fc117c50%29%3B%0A%20%20%20%20%20%20%20%20%0A%0A%20%20%20%20%20%20%20%20marker_c9f81c6b3e4f44919cd562b5cc08fd53.bindPopup%28popup_cb2178d4f1a94dd4b2a6163195fd2ff7%29%0A%20%20%20%20%20%20%20%20.openPopup%28%29%3B%0A%0A%20%20%20%20%20%20%20%20%0A%20%20%20%20%0A%3C/script%3E onload=\"this.contentDocument.open();this.contentDocument.write(    decodeURIComponent(this.getAttribute('data-html')));this.contentDocument.close();\" allowfullscreen webkitallowfullscreen mozallowfullscreen></iframe></div></div>"
      ],
      "text/plain": [
       "<folium.folium.Map at 0x21d822ebeb0>"
      ]
     },
     "execution_count": 63,
     "metadata": {},
     "output_type": "execute_result"
    }
   ],
   "source": [
    "for i in range(0,len(ny_county)):\n",
    "    folium.Marker(location=[ny_county.iloc[i]['latitude'], ny_county.iloc[i]['longitude']],\n",
    "     popup=folium.Popup(ny_county.iloc[i]['county'], show=True),\n",
    "   ).add_to(m)\n",
    "    \n",
    "m"
   ]
  },
  {
   "cell_type": "code",
   "execution_count": null,
   "metadata": {},
   "outputs": [],
   "source": []
  },
  {
   "cell_type": "code",
   "execution_count": null,
   "metadata": {},
   "outputs": [],
   "source": []
  }
 ],
 "metadata": {
  "kernelspec": {
   "display_name": "Python 3",
   "language": "python",
   "name": "python3"
  },
  "language_info": {
   "codemirror_mode": {
    "name": "ipython",
    "version": 3
   },
   "file_extension": ".py",
   "mimetype": "text/x-python",
   "name": "python",
   "nbconvert_exporter": "python",
   "pygments_lexer": "ipython3",
   "version": "3.8.5"
  },
  "toc": {
   "base_numbering": 1,
   "nav_menu": {},
   "number_sections": true,
   "sideBar": true,
   "skip_h1_title": false,
   "title_cell": "Table of Contents",
   "title_sidebar": "Contents",
   "toc_cell": false,
   "toc_position": {
    "height": "calc(100% - 180px)",
    "left": "10px",
    "top": "150px",
    "width": "234.2px"
   },
   "toc_section_display": true,
   "toc_window_display": true
  },
  "varInspector": {
   "cols": {
    "lenName": 16,
    "lenType": 16,
    "lenVar": 40
   },
   "kernels_config": {
    "python": {
     "delete_cmd_postfix": "",
     "delete_cmd_prefix": "del ",
     "library": "var_list.py",
     "varRefreshCmd": "print(var_dic_list())"
    },
    "r": {
     "delete_cmd_postfix": ") ",
     "delete_cmd_prefix": "rm(",
     "library": "var_list.r",
     "varRefreshCmd": "cat(var_dic_list()) "
    }
   },
   "position": {
    "height": "144.4px",
    "left": "1149.2px",
    "right": "20px",
    "top": "119px",
    "width": "350px"
   },
   "types_to_exclude": [
    "module",
    "function",
    "builtin_function_or_method",
    "instance",
    "_Feature"
   ],
   "window_display": false
  }
 },
 "nbformat": 4,
 "nbformat_minor": 4
}
