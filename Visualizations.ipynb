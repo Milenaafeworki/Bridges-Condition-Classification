{
 "cells": [
  {
   "cell_type": "markdown",
   "metadata": {},
   "source": [
    "# Visualizations"
   ]
  },
  {
   "cell_type": "code",
   "execution_count": 1,
   "metadata": {
    "ExecuteTime": {
     "end_time": "2021-09-02T19:33:27.558863Z",
     "start_time": "2021-09-02T19:33:26.157891Z"
    }
   },
   "outputs": [],
   "source": [
    "#import necessary libraries\n",
    "import pandas as pd\n",
    "import numpy as np\n",
    "import seaborn as sns\n",
    "import matplotlib.pyplot as plt\n"
   ]
  },
  {
   "cell_type": "markdown",
   "metadata": {},
   "source": [
    "## Read CSV file"
   ]
  },
  {
   "cell_type": "code",
   "execution_count": 2,
   "metadata": {
    "ExecuteTime": {
     "end_time": "2021-09-02T19:33:28.680861Z",
     "start_time": "2021-09-02T19:33:27.857816Z"
    }
   },
   "outputs": [
    {
     "data": {
      "text/html": [
       "<div>\n",
       "<style scoped>\n",
       "    .dataframe tbody tr th:only-of-type {\n",
       "        vertical-align: middle;\n",
       "    }\n",
       "\n",
       "    .dataframe tbody tr th {\n",
       "        vertical-align: top;\n",
       "    }\n",
       "\n",
       "    .dataframe thead th {\n",
       "        text-align: right;\n",
       "    }\n",
       "</style>\n",
       "<table border=\"1\" class=\"dataframe\">\n",
       "  <thead>\n",
       "    <tr style=\"text-align: right;\">\n",
       "      <th></th>\n",
       "      <th>state</th>\n",
       "      <th>str_id</th>\n",
       "      <th>deck_type</th>\n",
       "      <th>wearing_type</th>\n",
       "      <th>membrane_type</th>\n",
       "      <th>deck_protection</th>\n",
       "      <th>toll</th>\n",
       "      <th>freeze_thaw_cycle</th>\n",
       "      <th>snowfall_days</th>\n",
       "      <th>inventory_class_route</th>\n",
       "      <th>...</th>\n",
       "      <th>yr_reconst</th>\n",
       "      <th>skew</th>\n",
       "      <th>max_span</th>\n",
       "      <th>bridge_width</th>\n",
       "      <th>deck_width</th>\n",
       "      <th>super_st_condition</th>\n",
       "      <th>sub_st_condition</th>\n",
       "      <th>deck_condition</th>\n",
       "      <th>avg_daily_trfic</th>\n",
       "      <th>avg_truck_trfc</th>\n",
       "    </tr>\n",
       "  </thead>\n",
       "  <tbody>\n",
       "    <tr>\n",
       "      <th>0</th>\n",
       "      <td>Alabama</td>\n",
       "      <td>021480</td>\n",
       "      <td>1</td>\n",
       "      <td>0</td>\n",
       "      <td>0</td>\n",
       "      <td>0</td>\n",
       "      <td>3.0</td>\n",
       "      <td>14.0</td>\n",
       "      <td>0.0</td>\n",
       "      <td>2.0</td>\n",
       "      <td>...</td>\n",
       "      <td>0.0</td>\n",
       "      <td>23.0</td>\n",
       "      <td>274.9</td>\n",
       "      <td>38.1</td>\n",
       "      <td>41.0</td>\n",
       "      <td>7.0</td>\n",
       "      <td>7.0</td>\n",
       "      <td>7.0</td>\n",
       "      <td>4940.0</td>\n",
       "      <td>35.0</td>\n",
       "    </tr>\n",
       "    <tr>\n",
       "      <th>1</th>\n",
       "      <td>Alabama</td>\n",
       "      <td>009763</td>\n",
       "      <td>N</td>\n",
       "      <td>6</td>\n",
       "      <td>0</td>\n",
       "      <td>0</td>\n",
       "      <td>3.0</td>\n",
       "      <td>14.0</td>\n",
       "      <td>0.0</td>\n",
       "      <td>7.0</td>\n",
       "      <td>...</td>\n",
       "      <td>0.0</td>\n",
       "      <td>45.0</td>\n",
       "      <td>12.1</td>\n",
       "      <td>0.0</td>\n",
       "      <td>0.0</td>\n",
       "      <td>NaN</td>\n",
       "      <td>NaN</td>\n",
       "      <td>NaN</td>\n",
       "      <td>280.0</td>\n",
       "      <td>7.0</td>\n",
       "    </tr>\n",
       "    <tr>\n",
       "      <th>2</th>\n",
       "      <td>Alabama</td>\n",
       "      <td>003324</td>\n",
       "      <td>N</td>\n",
       "      <td>N</td>\n",
       "      <td>N</td>\n",
       "      <td>N</td>\n",
       "      <td>3.0</td>\n",
       "      <td>14.0</td>\n",
       "      <td>0.0</td>\n",
       "      <td>6.0</td>\n",
       "      <td>...</td>\n",
       "      <td>2009.0</td>\n",
       "      <td>0.0</td>\n",
       "      <td>7.9</td>\n",
       "      <td>0.0</td>\n",
       "      <td>0.0</td>\n",
       "      <td>NaN</td>\n",
       "      <td>NaN</td>\n",
       "      <td>NaN</td>\n",
       "      <td>420.0</td>\n",
       "      <td>7.0</td>\n",
       "    </tr>\n",
       "    <tr>\n",
       "      <th>3</th>\n",
       "      <td>Alabama</td>\n",
       "      <td>006369</td>\n",
       "      <td>1</td>\n",
       "      <td>0</td>\n",
       "      <td>0</td>\n",
       "      <td>0</td>\n",
       "      <td>3.0</td>\n",
       "      <td>14.0</td>\n",
       "      <td>0.0</td>\n",
       "      <td>6.0</td>\n",
       "      <td>...</td>\n",
       "      <td>0.0</td>\n",
       "      <td>0.0</td>\n",
       "      <td>60.0</td>\n",
       "      <td>23.6</td>\n",
       "      <td>27.6</td>\n",
       "      <td>7.0</td>\n",
       "      <td>7.0</td>\n",
       "      <td>6.0</td>\n",
       "      <td>420.0</td>\n",
       "      <td>7.0</td>\n",
       "    </tr>\n",
       "    <tr>\n",
       "      <th>4</th>\n",
       "      <td>Alabama</td>\n",
       "      <td>015078</td>\n",
       "      <td>2</td>\n",
       "      <td>0</td>\n",
       "      <td>0</td>\n",
       "      <td>0</td>\n",
       "      <td>3.0</td>\n",
       "      <td>14.0</td>\n",
       "      <td>0.0</td>\n",
       "      <td>8.0</td>\n",
       "      <td>...</td>\n",
       "      <td>0.0</td>\n",
       "      <td>0.0</td>\n",
       "      <td>15.1</td>\n",
       "      <td>23.6</td>\n",
       "      <td>24.9</td>\n",
       "      <td>5.0</td>\n",
       "      <td>6.0</td>\n",
       "      <td>5.0</td>\n",
       "      <td>70.0</td>\n",
       "      <td>0.0</td>\n",
       "    </tr>\n",
       "  </tbody>\n",
       "</table>\n",
       "<p>5 rows × 38 columns</p>\n",
       "</div>"
      ],
      "text/plain": [
       "       state           str_id deck_type wearing_type membrane_type  \\\n",
       "0    Alabama  021480                  1            0             0   \n",
       "1    Alabama  009763                  N            6             0   \n",
       "2    Alabama  003324                  N            N             N   \n",
       "3    Alabama  006369                  1            0             0   \n",
       "4    Alabama  015078                  2            0             0   \n",
       "\n",
       "  deck_protection  toll  freeze_thaw_cycle  snowfall_days  \\\n",
       "0               0   3.0               14.0            0.0   \n",
       "1               0   3.0               14.0            0.0   \n",
       "2               N   3.0               14.0            0.0   \n",
       "3               0   3.0               14.0            0.0   \n",
       "4               0   3.0               14.0            0.0   \n",
       "\n",
       "   inventory_class_route  ...  yr_reconst  skew  max_span  bridge_width  \\\n",
       "0                    2.0  ...         0.0  23.0     274.9          38.1   \n",
       "1                    7.0  ...         0.0  45.0      12.1           0.0   \n",
       "2                    6.0  ...      2009.0   0.0       7.9           0.0   \n",
       "3                    6.0  ...         0.0   0.0      60.0          23.6   \n",
       "4                    8.0  ...         0.0   0.0      15.1          23.6   \n",
       "\n",
       "   deck_width  super_st_condition  sub_st_condition  deck_condition  \\\n",
       "0        41.0                 7.0               7.0             7.0   \n",
       "1         0.0                 NaN               NaN             NaN   \n",
       "2         0.0                 NaN               NaN             NaN   \n",
       "3        27.6                 7.0               7.0             6.0   \n",
       "4        24.9                 5.0               6.0             5.0   \n",
       "\n",
       "   avg_daily_trfic avg_truck_trfc  \n",
       "0           4940.0           35.0  \n",
       "1            280.0            7.0  \n",
       "2            420.0            7.0  \n",
       "3            420.0            7.0  \n",
       "4             70.0            0.0  \n",
       "\n",
       "[5 rows x 38 columns]"
      ]
     },
     "execution_count": 2,
     "metadata": {},
     "output_type": "execute_result"
    }
   ],
   "source": [
    "df1 = pd.read_csv('bridge_data_cleaned1')\n",
    "df1.head()"
   ]
  },
  {
   "cell_type": "code",
   "execution_count": 3,
   "metadata": {
    "ExecuteTime": {
     "end_time": "2021-09-02T19:33:30.836121Z",
     "start_time": "2021-09-02T19:33:30.093121Z"
    }
   },
   "outputs": [
    {
     "data": {
      "text/html": [
       "<div>\n",
       "<style scoped>\n",
       "    .dataframe tbody tr th:only-of-type {\n",
       "        vertical-align: middle;\n",
       "    }\n",
       "\n",
       "    .dataframe tbody tr th {\n",
       "        vertical-align: top;\n",
       "    }\n",
       "\n",
       "    .dataframe thead th {\n",
       "        text-align: right;\n",
       "    }\n",
       "</style>\n",
       "<table border=\"1\" class=\"dataframe\">\n",
       "  <thead>\n",
       "    <tr style=\"text-align: right;\">\n",
       "      <th></th>\n",
       "      <th>state</th>\n",
       "      <th>str_id</th>\n",
       "      <th>deck_type</th>\n",
       "      <th>wearing_type</th>\n",
       "      <th>membrane_type</th>\n",
       "      <th>deck_protection</th>\n",
       "      <th>toll</th>\n",
       "      <th>freeze_thaw_cycle</th>\n",
       "      <th>snowfall_days</th>\n",
       "      <th>inventory_class_route</th>\n",
       "      <th>...</th>\n",
       "      <th>yr_reconst</th>\n",
       "      <th>skew</th>\n",
       "      <th>max_span</th>\n",
       "      <th>bridge_width</th>\n",
       "      <th>deck_width</th>\n",
       "      <th>super_st_condition</th>\n",
       "      <th>sub_st_condition</th>\n",
       "      <th>deck_condition</th>\n",
       "      <th>avg_daily_trfic</th>\n",
       "      <th>avg_truck_trfc</th>\n",
       "    </tr>\n",
       "  </thead>\n",
       "  <tbody>\n",
       "    <tr>\n",
       "      <th>0</th>\n",
       "      <td>Minnesota</td>\n",
       "      <td>L9347</td>\n",
       "      <td>8</td>\n",
       "      <td>8</td>\n",
       "      <td>0</td>\n",
       "      <td>N</td>\n",
       "      <td>3</td>\n",
       "      <td>114.0</td>\n",
       "      <td>83.0</td>\n",
       "      <td>9</td>\n",
       "      <td>...</td>\n",
       "      <td>0.0</td>\n",
       "      <td>0.0</td>\n",
       "      <td>32.2</td>\n",
       "      <td>24.0</td>\n",
       "      <td>25.9</td>\n",
       "      <td>5.0</td>\n",
       "      <td>5.0</td>\n",
       "      <td>7.0</td>\n",
       "      <td>40.0</td>\n",
       "      <td>0.0</td>\n",
       "    </tr>\n",
       "    <tr>\n",
       "      <th>1</th>\n",
       "      <td>Minnesota</td>\n",
       "      <td>L9903</td>\n",
       "      <td>N</td>\n",
       "      <td>N</td>\n",
       "      <td>N</td>\n",
       "      <td>N</td>\n",
       "      <td>3</td>\n",
       "      <td>112.0</td>\n",
       "      <td>83.0</td>\n",
       "      <td>9</td>\n",
       "      <td>...</td>\n",
       "      <td>0.0</td>\n",
       "      <td>0.0</td>\n",
       "      <td>11.5</td>\n",
       "      <td>0.0</td>\n",
       "      <td>0.0</td>\n",
       "      <td>NaN</td>\n",
       "      <td>NaN</td>\n",
       "      <td>NaN</td>\n",
       "      <td>28.0</td>\n",
       "      <td>3.0</td>\n",
       "    </tr>\n",
       "    <tr>\n",
       "      <th>2</th>\n",
       "      <td>Minnesota</td>\n",
       "      <td>96781</td>\n",
       "      <td>N</td>\n",
       "      <td>N</td>\n",
       "      <td>N</td>\n",
       "      <td>N</td>\n",
       "      <td>3</td>\n",
       "      <td>96.0</td>\n",
       "      <td>111.0</td>\n",
       "      <td>7</td>\n",
       "      <td>...</td>\n",
       "      <td>0.0</td>\n",
       "      <td>30.0</td>\n",
       "      <td>11.8</td>\n",
       "      <td>0.0</td>\n",
       "      <td>0.0</td>\n",
       "      <td>NaN</td>\n",
       "      <td>NaN</td>\n",
       "      <td>NaN</td>\n",
       "      <td>450.0</td>\n",
       "      <td>4.0</td>\n",
       "    </tr>\n",
       "    <tr>\n",
       "      <th>3</th>\n",
       "      <td>Minnesota</td>\n",
       "      <td>34J05</td>\n",
       "      <td>N</td>\n",
       "      <td>N</td>\n",
       "      <td>N</td>\n",
       "      <td>N</td>\n",
       "      <td>3</td>\n",
       "      <td>111.0</td>\n",
       "      <td>89.0</td>\n",
       "      <td>9</td>\n",
       "      <td>...</td>\n",
       "      <td>0.0</td>\n",
       "      <td>4.0</td>\n",
       "      <td>12.1</td>\n",
       "      <td>0.0</td>\n",
       "      <td>0.0</td>\n",
       "      <td>NaN</td>\n",
       "      <td>NaN</td>\n",
       "      <td>NaN</td>\n",
       "      <td>48.0</td>\n",
       "      <td>10.0</td>\n",
       "    </tr>\n",
       "    <tr>\n",
       "      <th>4</th>\n",
       "      <td>Minnesota</td>\n",
       "      <td>17508</td>\n",
       "      <td>8</td>\n",
       "      <td>6</td>\n",
       "      <td>0</td>\n",
       "      <td>N</td>\n",
       "      <td>3</td>\n",
       "      <td>112.0</td>\n",
       "      <td>83.0</td>\n",
       "      <td>9</td>\n",
       "      <td>...</td>\n",
       "      <td>0.0</td>\n",
       "      <td>0.0</td>\n",
       "      <td>44.9</td>\n",
       "      <td>20.3</td>\n",
       "      <td>21.7</td>\n",
       "      <td>8.0</td>\n",
       "      <td>7.0</td>\n",
       "      <td>7.0</td>\n",
       "      <td>20.0</td>\n",
       "      <td>10.0</td>\n",
       "    </tr>\n",
       "  </tbody>\n",
       "</table>\n",
       "<p>5 rows × 38 columns</p>\n",
       "</div>"
      ],
      "text/plain": [
       "         state           str_id deck_type wearing_type membrane_type  \\\n",
       "0    Minnesota  L9347                   8            8             0   \n",
       "1    Minnesota  L9903                   N            N             N   \n",
       "2    Minnesota  96781                   N            N             N   \n",
       "3    Minnesota  34J05                   N            N             N   \n",
       "4    Minnesota  17508                   8            6             0   \n",
       "\n",
       "  deck_protection  toll  freeze_thaw_cycle  snowfall_days  \\\n",
       "0               N     3              114.0           83.0   \n",
       "1               N     3              112.0           83.0   \n",
       "2               N     3               96.0          111.0   \n",
       "3               N     3              111.0           89.0   \n",
       "4               N     3              112.0           83.0   \n",
       "\n",
       "   inventory_class_route  ...  yr_reconst  skew  max_span  bridge_width  \\\n",
       "0                      9  ...         0.0   0.0      32.2          24.0   \n",
       "1                      9  ...         0.0   0.0      11.5           0.0   \n",
       "2                      7  ...         0.0  30.0      11.8           0.0   \n",
       "3                      9  ...         0.0   4.0      12.1           0.0   \n",
       "4                      9  ...         0.0   0.0      44.9          20.3   \n",
       "\n",
       "   deck_width  super_st_condition  sub_st_condition  deck_condition  \\\n",
       "0        25.9                 5.0               5.0             7.0   \n",
       "1         0.0                 NaN               NaN             NaN   \n",
       "2         0.0                 NaN               NaN             NaN   \n",
       "3         0.0                 NaN               NaN             NaN   \n",
       "4        21.7                 8.0               7.0             7.0   \n",
       "\n",
       "   avg_daily_trfic avg_truck_trfc  \n",
       "0             40.0            0.0  \n",
       "1             28.0            3.0  \n",
       "2            450.0            4.0  \n",
       "3             48.0           10.0  \n",
       "4             20.0           10.0  \n",
       "\n",
       "[5 rows x 38 columns]"
      ]
     },
     "execution_count": 3,
     "metadata": {},
     "output_type": "execute_result"
    }
   ],
   "source": [
    "df2 = pd.read_csv('bridge_data_cleaned2')\n",
    "df2.head()"
   ]
  },
  {
   "cell_type": "code",
   "execution_count": 4,
   "metadata": {
    "ExecuteTime": {
     "end_time": "2021-09-02T19:33:33.943427Z",
     "start_time": "2021-09-02T19:33:33.226375Z"
    }
   },
   "outputs": [
    {
     "data": {
      "text/html": [
       "<div>\n",
       "<style scoped>\n",
       "    .dataframe tbody tr th:only-of-type {\n",
       "        vertical-align: middle;\n",
       "    }\n",
       "\n",
       "    .dataframe tbody tr th {\n",
       "        vertical-align: top;\n",
       "    }\n",
       "\n",
       "    .dataframe thead th {\n",
       "        text-align: right;\n",
       "    }\n",
       "</style>\n",
       "<table border=\"1\" class=\"dataframe\">\n",
       "  <thead>\n",
       "    <tr style=\"text-align: right;\">\n",
       "      <th></th>\n",
       "      <th>state</th>\n",
       "      <th>str_id</th>\n",
       "      <th>deck_type</th>\n",
       "      <th>wearing_type</th>\n",
       "      <th>membrane_type</th>\n",
       "      <th>deck_protection</th>\n",
       "      <th>toll</th>\n",
       "      <th>freeze_thaw_cycle</th>\n",
       "      <th>snowfall_days</th>\n",
       "      <th>inventory_class_route</th>\n",
       "      <th>...</th>\n",
       "      <th>yr_reconst</th>\n",
       "      <th>skew</th>\n",
       "      <th>max_span</th>\n",
       "      <th>bridge_width</th>\n",
       "      <th>deck_width</th>\n",
       "      <th>super_st_condition</th>\n",
       "      <th>sub_st_condition</th>\n",
       "      <th>deck_condition</th>\n",
       "      <th>avg_daily_trfic</th>\n",
       "      <th>avg_truck_trfc</th>\n",
       "    </tr>\n",
       "  </thead>\n",
       "  <tbody>\n",
       "    <tr>\n",
       "      <th>0</th>\n",
       "      <td>Pennsylvania</td>\n",
       "      <td>000000000018583</td>\n",
       "      <td>1</td>\n",
       "      <td>6</td>\n",
       "      <td>2</td>\n",
       "      <td>0</td>\n",
       "      <td>3</td>\n",
       "      <td>117.0</td>\n",
       "      <td>59.0</td>\n",
       "      <td>2</td>\n",
       "      <td>...</td>\n",
       "      <td>0.0</td>\n",
       "      <td>1.0</td>\n",
       "      <td>21.0</td>\n",
       "      <td>49.2</td>\n",
       "      <td>52.5</td>\n",
       "      <td>6.0</td>\n",
       "      <td>6.0</td>\n",
       "      <td>6.0</td>\n",
       "      <td>12394.0</td>\n",
       "      <td>10.0</td>\n",
       "    </tr>\n",
       "    <tr>\n",
       "      <th>1</th>\n",
       "      <td>Pennsylvania</td>\n",
       "      <td>000000000041175</td>\n",
       "      <td>1</td>\n",
       "      <td>1</td>\n",
       "      <td>0</td>\n",
       "      <td>1</td>\n",
       "      <td>3</td>\n",
       "      <td>117.0</td>\n",
       "      <td>70.0</td>\n",
       "      <td>1</td>\n",
       "      <td>...</td>\n",
       "      <td>0.0</td>\n",
       "      <td>35.0</td>\n",
       "      <td>240.2</td>\n",
       "      <td>52.2</td>\n",
       "      <td>55.1</td>\n",
       "      <td>8.0</td>\n",
       "      <td>7.0</td>\n",
       "      <td>7.0</td>\n",
       "      <td>12189.0</td>\n",
       "      <td>15.0</td>\n",
       "    </tr>\n",
       "    <tr>\n",
       "      <th>2</th>\n",
       "      <td>Pennsylvania</td>\n",
       "      <td>000000000041176</td>\n",
       "      <td>1</td>\n",
       "      <td>1</td>\n",
       "      <td>0</td>\n",
       "      <td>1</td>\n",
       "      <td>3</td>\n",
       "      <td>117.0</td>\n",
       "      <td>70.0</td>\n",
       "      <td>1</td>\n",
       "      <td>...</td>\n",
       "      <td>0.0</td>\n",
       "      <td>34.0</td>\n",
       "      <td>226.0</td>\n",
       "      <td>51.8</td>\n",
       "      <td>54.8</td>\n",
       "      <td>8.0</td>\n",
       "      <td>7.0</td>\n",
       "      <td>7.0</td>\n",
       "      <td>12744.0</td>\n",
       "      <td>14.0</td>\n",
       "    </tr>\n",
       "    <tr>\n",
       "      <th>3</th>\n",
       "      <td>Pennsylvania</td>\n",
       "      <td>000000000004028</td>\n",
       "      <td>1</td>\n",
       "      <td>3</td>\n",
       "      <td>0</td>\n",
       "      <td>1</td>\n",
       "      <td>3</td>\n",
       "      <td>104.0</td>\n",
       "      <td>48.0</td>\n",
       "      <td>1</td>\n",
       "      <td>...</td>\n",
       "      <td>2004.0</td>\n",
       "      <td>0.0</td>\n",
       "      <td>32.2</td>\n",
       "      <td>40.0</td>\n",
       "      <td>43.6</td>\n",
       "      <td>8.0</td>\n",
       "      <td>6.0</td>\n",
       "      <td>6.0</td>\n",
       "      <td>8169.0</td>\n",
       "      <td>34.0</td>\n",
       "    </tr>\n",
       "    <tr>\n",
       "      <th>4</th>\n",
       "      <td>Pennsylvania</td>\n",
       "      <td>000000000009312</td>\n",
       "      <td>N</td>\n",
       "      <td>N</td>\n",
       "      <td>N</td>\n",
       "      <td>N</td>\n",
       "      <td>3</td>\n",
       "      <td>117.0</td>\n",
       "      <td>70.0</td>\n",
       "      <td>1</td>\n",
       "      <td>...</td>\n",
       "      <td>0.0</td>\n",
       "      <td>56.0</td>\n",
       "      <td>37.1</td>\n",
       "      <td>0.0</td>\n",
       "      <td>0.0</td>\n",
       "      <td>NaN</td>\n",
       "      <td>NaN</td>\n",
       "      <td>NaN</td>\n",
       "      <td>11792.0</td>\n",
       "      <td>39.0</td>\n",
       "    </tr>\n",
       "  </tbody>\n",
       "</table>\n",
       "<p>5 rows × 38 columns</p>\n",
       "</div>"
      ],
      "text/plain": [
       "            state           str_id deck_type wearing_type membrane_type  \\\n",
       "0    Pennsylvania  000000000018583         1            6             2   \n",
       "1    Pennsylvania  000000000041175         1            1             0   \n",
       "2    Pennsylvania  000000000041176         1            1             0   \n",
       "3    Pennsylvania  000000000004028         1            3             0   \n",
       "4    Pennsylvania  000000000009312         N            N             N   \n",
       "\n",
       "  deck_protection  toll  freeze_thaw_cycle  snowfall_days  \\\n",
       "0               0     3              117.0           59.0   \n",
       "1               1     3              117.0           70.0   \n",
       "2               1     3              117.0           70.0   \n",
       "3               1     3              104.0           48.0   \n",
       "4               N     3              117.0           70.0   \n",
       "\n",
       "   inventory_class_route  ...  yr_reconst  skew  max_span  bridge_width  \\\n",
       "0                      2  ...         0.0   1.0      21.0          49.2   \n",
       "1                      1  ...         0.0  35.0     240.2          52.2   \n",
       "2                      1  ...         0.0  34.0     226.0          51.8   \n",
       "3                      1  ...      2004.0   0.0      32.2          40.0   \n",
       "4                      1  ...         0.0  56.0      37.1           0.0   \n",
       "\n",
       "   deck_width  super_st_condition  sub_st_condition  deck_condition  \\\n",
       "0        52.5                 6.0               6.0             6.0   \n",
       "1        55.1                 8.0               7.0             7.0   \n",
       "2        54.8                 8.0               7.0             7.0   \n",
       "3        43.6                 8.0               6.0             6.0   \n",
       "4         0.0                 NaN               NaN             NaN   \n",
       "\n",
       "   avg_daily_trfic avg_truck_trfc  \n",
       "0          12394.0           10.0  \n",
       "1          12189.0           15.0  \n",
       "2          12744.0           14.0  \n",
       "3           8169.0           34.0  \n",
       "4          11792.0           39.0  \n",
       "\n",
       "[5 rows x 38 columns]"
      ]
     },
     "execution_count": 4,
     "metadata": {},
     "output_type": "execute_result"
    }
   ],
   "source": [
    "df3 = pd.read_csv('bridge_data_cleaned3')\n",
    "df3.head()"
   ]
  },
  {
   "cell_type": "code",
   "execution_count": 5,
   "metadata": {
    "ExecuteTime": {
     "end_time": "2021-09-02T19:33:37.593145Z",
     "start_time": "2021-09-02T19:33:37.361521Z"
    }
   },
   "outputs": [
    {
     "data": {
      "text/html": [
       "<div>\n",
       "<style scoped>\n",
       "    .dataframe tbody tr th:only-of-type {\n",
       "        vertical-align: middle;\n",
       "    }\n",
       "\n",
       "    .dataframe tbody tr th {\n",
       "        vertical-align: top;\n",
       "    }\n",
       "\n",
       "    .dataframe thead th {\n",
       "        text-align: right;\n",
       "    }\n",
       "</style>\n",
       "<table border=\"1\" class=\"dataframe\">\n",
       "  <thead>\n",
       "    <tr style=\"text-align: right;\">\n",
       "      <th></th>\n",
       "      <th>state</th>\n",
       "      <th>str_id</th>\n",
       "      <th>deck_type</th>\n",
       "      <th>wearing_type</th>\n",
       "      <th>membrane_type</th>\n",
       "      <th>deck_protection</th>\n",
       "      <th>toll</th>\n",
       "      <th>freeze_thaw_cycle</th>\n",
       "      <th>snowfall_days</th>\n",
       "      <th>inventory_class_route</th>\n",
       "      <th>...</th>\n",
       "      <th>yr_reconst</th>\n",
       "      <th>skew</th>\n",
       "      <th>max_span</th>\n",
       "      <th>bridge_width</th>\n",
       "      <th>deck_width</th>\n",
       "      <th>super_st_condition</th>\n",
       "      <th>sub_st_condition</th>\n",
       "      <th>deck_condition</th>\n",
       "      <th>avg_daily_trfic</th>\n",
       "      <th>avg_truck_trfc</th>\n",
       "    </tr>\n",
       "  </thead>\n",
       "  <tbody>\n",
       "    <tr>\n",
       "      <th>0</th>\n",
       "      <td>Alabama</td>\n",
       "      <td>021480</td>\n",
       "      <td>1</td>\n",
       "      <td>0</td>\n",
       "      <td>0</td>\n",
       "      <td>0</td>\n",
       "      <td>3.0</td>\n",
       "      <td>14.0</td>\n",
       "      <td>0.0</td>\n",
       "      <td>2.0</td>\n",
       "      <td>...</td>\n",
       "      <td>0.0</td>\n",
       "      <td>23.0</td>\n",
       "      <td>274.9</td>\n",
       "      <td>38.1</td>\n",
       "      <td>41.0</td>\n",
       "      <td>7.0</td>\n",
       "      <td>7.0</td>\n",
       "      <td>7.0</td>\n",
       "      <td>4940.0</td>\n",
       "      <td>35.0</td>\n",
       "    </tr>\n",
       "    <tr>\n",
       "      <th>1</th>\n",
       "      <td>Alabama</td>\n",
       "      <td>009763</td>\n",
       "      <td>N</td>\n",
       "      <td>6</td>\n",
       "      <td>0</td>\n",
       "      <td>0</td>\n",
       "      <td>3.0</td>\n",
       "      <td>14.0</td>\n",
       "      <td>0.0</td>\n",
       "      <td>7.0</td>\n",
       "      <td>...</td>\n",
       "      <td>0.0</td>\n",
       "      <td>45.0</td>\n",
       "      <td>12.1</td>\n",
       "      <td>0.0</td>\n",
       "      <td>0.0</td>\n",
       "      <td>NaN</td>\n",
       "      <td>NaN</td>\n",
       "      <td>NaN</td>\n",
       "      <td>280.0</td>\n",
       "      <td>7.0</td>\n",
       "    </tr>\n",
       "    <tr>\n",
       "      <th>2</th>\n",
       "      <td>Alabama</td>\n",
       "      <td>003324</td>\n",
       "      <td>N</td>\n",
       "      <td>N</td>\n",
       "      <td>N</td>\n",
       "      <td>N</td>\n",
       "      <td>3.0</td>\n",
       "      <td>14.0</td>\n",
       "      <td>0.0</td>\n",
       "      <td>6.0</td>\n",
       "      <td>...</td>\n",
       "      <td>2009.0</td>\n",
       "      <td>0.0</td>\n",
       "      <td>7.9</td>\n",
       "      <td>0.0</td>\n",
       "      <td>0.0</td>\n",
       "      <td>NaN</td>\n",
       "      <td>NaN</td>\n",
       "      <td>NaN</td>\n",
       "      <td>420.0</td>\n",
       "      <td>7.0</td>\n",
       "    </tr>\n",
       "    <tr>\n",
       "      <th>3</th>\n",
       "      <td>Alabama</td>\n",
       "      <td>006369</td>\n",
       "      <td>1</td>\n",
       "      <td>0</td>\n",
       "      <td>0</td>\n",
       "      <td>0</td>\n",
       "      <td>3.0</td>\n",
       "      <td>14.0</td>\n",
       "      <td>0.0</td>\n",
       "      <td>6.0</td>\n",
       "      <td>...</td>\n",
       "      <td>0.0</td>\n",
       "      <td>0.0</td>\n",
       "      <td>60.0</td>\n",
       "      <td>23.6</td>\n",
       "      <td>27.6</td>\n",
       "      <td>7.0</td>\n",
       "      <td>7.0</td>\n",
       "      <td>6.0</td>\n",
       "      <td>420.0</td>\n",
       "      <td>7.0</td>\n",
       "    </tr>\n",
       "    <tr>\n",
       "      <th>4</th>\n",
       "      <td>Alabama</td>\n",
       "      <td>015078</td>\n",
       "      <td>2</td>\n",
       "      <td>0</td>\n",
       "      <td>0</td>\n",
       "      <td>0</td>\n",
       "      <td>3.0</td>\n",
       "      <td>14.0</td>\n",
       "      <td>0.0</td>\n",
       "      <td>8.0</td>\n",
       "      <td>...</td>\n",
       "      <td>0.0</td>\n",
       "      <td>0.0</td>\n",
       "      <td>15.1</td>\n",
       "      <td>23.6</td>\n",
       "      <td>24.9</td>\n",
       "      <td>5.0</td>\n",
       "      <td>6.0</td>\n",
       "      <td>5.0</td>\n",
       "      <td>70.0</td>\n",
       "      <td>0.0</td>\n",
       "    </tr>\n",
       "  </tbody>\n",
       "</table>\n",
       "<p>5 rows × 38 columns</p>\n",
       "</div>"
      ],
      "text/plain": [
       "       state           str_id deck_type wearing_type membrane_type  \\\n",
       "0    Alabama  021480                  1            0             0   \n",
       "1    Alabama  009763                  N            6             0   \n",
       "2    Alabama  003324                  N            N             N   \n",
       "3    Alabama  006369                  1            0             0   \n",
       "4    Alabama  015078                  2            0             0   \n",
       "\n",
       "  deck_protection  toll  freeze_thaw_cycle  snowfall_days  \\\n",
       "0               0   3.0               14.0            0.0   \n",
       "1               0   3.0               14.0            0.0   \n",
       "2               N   3.0               14.0            0.0   \n",
       "3               0   3.0               14.0            0.0   \n",
       "4               0   3.0               14.0            0.0   \n",
       "\n",
       "   inventory_class_route  ...  yr_reconst  skew  max_span  bridge_width  \\\n",
       "0                    2.0  ...         0.0  23.0     274.9          38.1   \n",
       "1                    7.0  ...         0.0  45.0      12.1           0.0   \n",
       "2                    6.0  ...      2009.0   0.0       7.9           0.0   \n",
       "3                    6.0  ...         0.0   0.0      60.0          23.6   \n",
       "4                    8.0  ...         0.0   0.0      15.1          23.6   \n",
       "\n",
       "   deck_width  super_st_condition  sub_st_condition  deck_condition  \\\n",
       "0        41.0                 7.0               7.0             7.0   \n",
       "1         0.0                 NaN               NaN             NaN   \n",
       "2         0.0                 NaN               NaN             NaN   \n",
       "3        27.6                 7.0               7.0             6.0   \n",
       "4        24.9                 5.0               6.0             5.0   \n",
       "\n",
       "   avg_daily_trfic avg_truck_trfc  \n",
       "0           4940.0           35.0  \n",
       "1            280.0            7.0  \n",
       "2            420.0            7.0  \n",
       "3            420.0            7.0  \n",
       "4             70.0            0.0  \n",
       "\n",
       "[5 rows x 38 columns]"
      ]
     },
     "execution_count": 5,
     "metadata": {},
     "output_type": "execute_result"
    }
   ],
   "source": [
    "df = pd.concat([df1, df2, df3])\n",
    "df.head()"
   ]
  },
  {
   "cell_type": "code",
   "execution_count": 6,
   "metadata": {
    "ExecuteTime": {
     "end_time": "2021-09-02T19:33:44.401022Z",
     "start_time": "2021-09-02T19:33:44.386950Z"
    }
   },
   "outputs": [
    {
     "data": {
      "text/plain": [
       "(592756, 38)"
      ]
     },
     "execution_count": 6,
     "metadata": {},
     "output_type": "execute_result"
    }
   ],
   "source": [
    "df.shape"
   ]
  },
  {
   "cell_type": "code",
   "execution_count": 7,
   "metadata": {
    "ExecuteTime": {
     "end_time": "2021-09-02T19:33:51.811279Z",
     "start_time": "2021-09-02T19:33:51.769235Z"
    }
   },
   "outputs": [
    {
     "data": {
      "text/plain": [
       "array(['  Alabama', '  Delaware', '  District of Columbia', '  Florida',\n",
       "       '  Georgia', '  Hawaii', '  Idaho', '  Illinois', '  Indiana',\n",
       "       '  Iowa', '  Alaska', '  Kansas', '  Kentucky', '  Louisiana',\n",
       "       '  Maine', '  Maryland', '  Massachusetts', '  Michigan',\n",
       "       ' Michigan', '  Minnesota', '  Mississippi', '  Missouri',\n",
       "       '  Montana', '  Nebraska', '  Nevada', '  New Hampshire',\n",
       "       '  New Jersey', '  New Mexico', '  New York', '  North Carolina',\n",
       "       '  North Dakota', '  Ohio', '  Arizona', ' Arizona', '  Oklahoma',\n",
       "       '  Oregon', '  Pennsylvania', ' Pennsylvania', '  Rhode Island',\n",
       "       '  South Carolina', '  South Dakota', '  Tennessee', '  Texas',\n",
       "       'Texas', ' Texas', '  Utah', '  Arkansas', '  Vermont',\n",
       "       '  Virginia', '  Washington', '  West Virginia', '  Wisconsin',\n",
       "       '  Wyoming', '  California', '  Colorado', '  Connecticut'],\n",
       "      dtype=object)"
      ]
     },
     "execution_count": 7,
     "metadata": {},
     "output_type": "execute_result"
    }
   ],
   "source": [
    "df.state.unique()"
   ]
  },
  {
   "cell_type": "code",
   "execution_count": null,
   "metadata": {
    "ExecuteTime": {
     "end_time": "2021-09-02T18:44:32.988181Z",
     "start_time": "2021-09-02T18:44:32.979178Z"
    }
   },
   "outputs": [],
   "source": [
    "# df.loc[df['state']==' Pennsylvania']"
   ]
  },
  {
   "cell_type": "code",
   "execution_count": null,
   "metadata": {
    "ExecuteTime": {
     "end_time": "2021-09-02T18:44:33.035182Z",
     "start_time": "2021-09-02T18:44:32.994183Z"
    }
   },
   "outputs": [],
   "source": [
    "# df.loc[df['state']=='  Pennsylvania']"
   ]
  },
  {
   "cell_type": "code",
   "execution_count": null,
   "metadata": {
    "ExecuteTime": {
     "end_time": "2021-09-02T18:44:33.051183Z",
     "start_time": "2021-09-02T18:44:33.040181Z"
    }
   },
   "outputs": [],
   "source": [
    "# df['state'] = df['state'].replace(' Pennsylvania', 'Pennsylvania')\n",
    "# df['state'] = df['state'].replace('  Pennsylvania', 'Pennsylvania')"
   ]
  },
  {
   "cell_type": "code",
   "execution_count": null,
   "metadata": {
    "ExecuteTime": {
     "end_time": "2021-09-02T18:44:33.067182Z",
     "start_time": "2021-09-02T18:44:33.055184Z"
    }
   },
   "outputs": [],
   "source": [
    "# df.loc[df['state']=='Pennsylvania']"
   ]
  },
  {
   "cell_type": "code",
   "execution_count": null,
   "metadata": {
    "ExecuteTime": {
     "end_time": "2021-09-02T18:44:33.082178Z",
     "start_time": "2021-09-02T18:44:33.071179Z"
    }
   },
   "outputs": [],
   "source": [
    "df.shape"
   ]
  },
  {
   "cell_type": "code",
   "execution_count": null,
   "metadata": {
    "ExecuteTime": {
     "end_time": "2021-09-02T18:44:34.012385Z",
     "start_time": "2021-09-02T18:44:33.086182Z"
    }
   },
   "outputs": [],
   "source": [
    "#plot number of bridges according to condition\n",
    "percent = df['bridge_condition'].value_counts(normalize=True)*100\n",
    "condition = ['Good', 'Fair', 'Poor']\n",
    "\n",
    "sns.set_theme(style=\"whitegrid\")\n",
    "\n",
    "plt.figure(figsize=(6,6))\n",
    "sns.barplot(x=condition, y=percent[condition].values)\n",
    "plt.title('Classification of Bridges', fontsize=20)\n",
    "plt.ylabel('Bridges count(%)',fontsize=15)\n",
    "plt.show()\n"
   ]
  },
  {
   "cell_type": "code",
   "execution_count": null,
   "metadata": {
    "ExecuteTime": {
     "end_time": "2021-09-02T18:44:34.027388Z",
     "start_time": "2021-09-02T18:44:34.016387Z"
    }
   },
   "outputs": [],
   "source": [
    "percent['Good']"
   ]
  },
  {
   "cell_type": "code",
   "execution_count": null,
   "metadata": {
    "ExecuteTime": {
     "end_time": "2021-09-02T18:44:34.043387Z",
     "start_time": "2021-09-02T18:44:34.031387Z"
    }
   },
   "outputs": [],
   "source": [
    "cond = df['bridge_condition'].tolist()"
   ]
  },
  {
   "cell_type": "code",
   "execution_count": null,
   "metadata": {
    "ExecuteTime": {
     "end_time": "2021-09-02T18:44:34.074390Z",
     "start_time": "2021-09-02T18:44:34.047388Z"
    }
   },
   "outputs": [],
   "source": [
    "df.columns"
   ]
  },
  {
   "cell_type": "markdown",
   "metadata": {},
   "source": [
    "## Bridge Condition vs Average daily traffic"
   ]
  },
  {
   "cell_type": "code",
   "execution_count": null,
   "metadata": {
    "ExecuteTime": {
     "end_time": "2021-09-02T18:45:01.498537Z",
     "start_time": "2021-09-02T18:44:34.078390Z"
    }
   },
   "outputs": [],
   "source": [
    "sns.set_theme(style=\"whitegrid\")\n",
    "# Draw a nested barplot by bridge_condition and avg_daily_trfic\n",
    "g = sns.catplot(\n",
    "    data=df, kind=\"bar\",\n",
    "    x=\"bridge_condition\", y=\"avg_daily_trfic\",\n",
    "     height=6\n",
    ")\n",
    "g.despine(left=True)\n",
    "g.set_axis_labels(\"\", \"Average Daily Traffic\", fontsize=15)\n",
    "plt.title(\"Condition of Bridge vs Average Daily Traffic\", fontsize=20);"
   ]
  },
  {
   "cell_type": "code",
   "execution_count": null,
   "metadata": {
    "ExecuteTime": {
     "end_time": "2021-09-02T18:45:01.574896Z",
     "start_time": "2021-09-02T18:45:01.502732Z"
    }
   },
   "outputs": [],
   "source": [
    "df.avg_daily_trfic.unique()"
   ]
  },
  {
   "cell_type": "markdown",
   "metadata": {},
   "source": [
    "## Average Daily Truck Traffic"
   ]
  },
  {
   "cell_type": "code",
   "execution_count": null,
   "metadata": {
    "ExecuteTime": {
     "end_time": "2021-09-02T18:45:29.095834Z",
     "start_time": "2021-09-02T18:45:01.579898Z"
    }
   },
   "outputs": [],
   "source": [
    "# Draw a nested barplot by bridge_condition and avg_truck_traffic\n",
    "g = sns.catplot(\n",
    "    data=df, kind=\"bar\",\n",
    "    x=\"bridge_condition\", y='avg_truck_trfc',\n",
    "     height=6\n",
    ")\n",
    "g.despine(left=True)\n",
    "g.set_axis_labels(\"\", \"Average Daily Truck Traffic\")\n",
    "plt.title(\"Average Daily Truck Traffic per Condition\", fontsize=20);"
   ]
  },
  {
   "cell_type": "markdown",
   "metadata": {
    "ExecuteTime": {
     "end_time": "2021-08-30T20:48:36.976683Z",
     "start_time": "2021-08-30T20:48:36.962634Z"
    }
   },
   "source": [
    "## Bridge Condition vs Age"
   ]
  },
  {
   "cell_type": "code",
   "execution_count": null,
   "metadata": {
    "ExecuteTime": {
     "end_time": "2021-09-02T18:45:56.422435Z",
     "start_time": "2021-09-02T18:45:29.098836Z"
    }
   },
   "outputs": [],
   "source": [
    "# Draw a nested barplot by bridge_condition and bridge_age\n",
    "g = sns.catplot(\n",
    "    data=df, kind=\"bar\",\n",
    "    x=\"bridge_condition\", y='bridge_age',\n",
    "     height=6\n",
    ")\n",
    "g.despine(left=True)\n",
    "g.set_axis_labels('','Bridge Age', fontsize=15)\n",
    "plt.title(\"Condition of Bridge vs Age\", fontsize=20);"
   ]
  },
  {
   "cell_type": "code",
   "execution_count": null,
   "metadata": {
    "ExecuteTime": {
     "end_time": "2021-09-02T18:45:56.438042Z",
     "start_time": "2021-09-02T18:45:56.425537Z"
    }
   },
   "outputs": [],
   "source": [
    "df.columns"
   ]
  },
  {
   "cell_type": "code",
   "execution_count": null,
   "metadata": {
    "ExecuteTime": {
     "end_time": "2021-09-02T18:46:03.356152Z",
     "start_time": "2021-09-02T18:45:56.442046Z"
    }
   },
   "outputs": [],
   "source": [
    "import seaborn as sns\n",
    "sns.set_theme(style=\"darkgrid\")\n",
    "\n",
    "# Load an example dataset with long-form data\n",
    "# fmri = sns.load_dataset(df)\n",
    "\n",
    "# Plot the responses for different events and regions\n",
    "df.plot(x='avg_daily_trfic', y='avg_truck_trfc')"
   ]
  },
  {
   "cell_type": "markdown",
   "metadata": {},
   "source": [
    "## States and their Bridge Condition"
   ]
  },
  {
   "cell_type": "markdown",
   "metadata": {},
   "source": [
    "### By Percentage "
   ]
  },
  {
   "cell_type": "code",
   "execution_count": null,
   "metadata": {
    "ExecuteTime": {
     "end_time": "2021-09-02T18:46:03.418764Z",
     "start_time": "2021-09-02T18:46:03.367943Z"
    }
   },
   "outputs": [],
   "source": [
    "dff = df[['state', 'bridge_condition']]\n",
    "dff.head()"
   ]
  },
  {
   "cell_type": "code",
   "execution_count": null,
   "metadata": {
    "ExecuteTime": {
     "end_time": "2021-09-02T18:46:03.871771Z",
     "start_time": "2021-09-02T18:46:03.424768Z"
    }
   },
   "outputs": [],
   "source": [
    "dfx = dff.groupby('state')['bridge_condition'].value_counts(normalize=True).reset_index(name='perc_count')\n",
    "dfx.head()"
   ]
  },
  {
   "cell_type": "code",
   "execution_count": null,
   "metadata": {
    "ExecuteTime": {
     "end_time": "2021-09-02T18:46:03.918764Z",
     "start_time": "2021-09-02T18:46:03.875768Z"
    }
   },
   "outputs": [],
   "source": [
    "poor_df = dfx.loc[dfx['bridge_condition']=='Poor'].sort_values(by='perc_count', ascending=False)[:10]\n",
    "poor_df"
   ]
  },
  {
   "cell_type": "code",
   "execution_count": null,
   "metadata": {
    "ExecuteTime": {
     "end_time": "2021-09-02T18:46:04.778551Z",
     "start_time": "2021-09-02T18:46:03.922766Z"
    }
   },
   "outputs": [],
   "source": [
    "plt.figure(figsize=(12,8))\n",
    "sns.barplot(y=poor_df['state'], x=poor_df['perc_count']*100, color='r')\n",
    "plt.xlabel('Poor condition %')\n",
    "plt.ylabel('States')\n",
    "plt.title('Top 10 States with Poor Bridge Condition(%)', fontsize=20);"
   ]
  },
  {
   "cell_type": "code",
   "execution_count": null,
   "metadata": {
    "ExecuteTime": {
     "end_time": "2021-09-02T18:46:04.814128Z",
     "start_time": "2021-09-02T18:46:04.782672Z"
    }
   },
   "outputs": [],
   "source": [
    "fair_df = dfx.loc[dfx['bridge_condition']=='Fair'].sort_values(by='perc_count', ascending=False)[:10]\n",
    "fair_df"
   ]
  },
  {
   "cell_type": "code",
   "execution_count": null,
   "metadata": {
    "ExecuteTime": {
     "end_time": "2021-09-02T18:46:05.604961Z",
     "start_time": "2021-09-02T18:46:04.818130Z"
    }
   },
   "outputs": [],
   "source": [
    "plt.figure(figsize=(12,8))\n",
    "sns.barplot(y=fair_df['state'], x=fair_df['perc_count'], color='b')\n",
    "plt.xlabel('Percentage')\n",
    "plt.ylabel('States')\n",
    "plt.title('Top 10 States with Fair Bridge Condition(%)', fontsize=20);"
   ]
  },
  {
   "cell_type": "code",
   "execution_count": null,
   "metadata": {
    "ExecuteTime": {
     "end_time": "2021-09-02T18:46:06.416526Z",
     "start_time": "2021-09-02T18:46:05.608502Z"
    }
   },
   "outputs": [],
   "source": [
    "# Initialize the matplotlib figure\n",
    "f, ax = plt.subplots(figsize=(6, 8))\n",
    "\n",
    "\n",
    "# Plot the fair bridge_condition\n",
    "sns.set_color_codes(\"pastel\")\n",
    "sns.barplot(x=\"perc_count\", y=\"state\", data=fair_df,\n",
    "            label=\"Fair\", color=\"b\")\n",
    "\n",
    "# Plot the poor bridge_condition\n",
    "sns.set_color_codes(\"muted\")\n",
    "sns.barplot(x=\"perc_count\", y=\"state\", data=poor_df,\n",
    "            label=\"Poor\", color=\"r\")\n",
    "\n",
    "# Add a legend and informative axis label\n",
    "ax.legend(ncol=2, loc=\"lower right\", frameon=True)\n",
    "ax.set(xlim=(0, 1), ylabel=\"States\", xlabel=\"Percentage of Bridge count\")\n",
    "plt.title('Top 10 States with Fair & Poor Conditions(%)', fontsize=20)\n",
    "sns.despine(left=True, bottom=True)"
   ]
  },
  {
   "cell_type": "code",
   "execution_count": null,
   "metadata": {},
   "outputs": [],
   "source": []
  },
  {
   "cell_type": "markdown",
   "metadata": {},
   "source": [
    "### By Number of bridges"
   ]
  },
  {
   "cell_type": "code",
   "execution_count": null,
   "metadata": {
    "ExecuteTime": {
     "end_time": "2021-09-02T18:46:06.811912Z",
     "start_time": "2021-09-02T18:46:06.416526Z"
    }
   },
   "outputs": [],
   "source": [
    "df_count = dff.groupby('state')['bridge_condition'].value_counts().sort_values(ascending=False).reset_index(name='condition_count')\n",
    "df_count.head()"
   ]
  },
  {
   "cell_type": "code",
   "execution_count": null,
   "metadata": {
    "ExecuteTime": {
     "end_time": "2021-09-02T18:46:06.843993Z",
     "start_time": "2021-09-02T18:46:06.815909Z"
    }
   },
   "outputs": [],
   "source": [
    "poor_count = df_count.loc[df_count['bridge_condition']=='Poor'].sort_values(by='condition_count', ascending=False)[:10]\n",
    "poor_count.head()"
   ]
  },
  {
   "cell_type": "code",
   "execution_count": null,
   "metadata": {
    "ExecuteTime": {
     "end_time": "2021-09-02T18:46:07.686144Z",
     "start_time": "2021-09-02T18:46:06.859535Z"
    }
   },
   "outputs": [],
   "source": [
    "plt.figure(figsize=(12,8))\n",
    "sns.barplot(y=poor_count['state'], x=poor_count['condition_count'], color='r')\n",
    "plt.xlabel('Number of bridges')\n",
    "plt.ylabel('States')\n",
    "plt.title('Top 10 States with Poor Bridge Condition', fontsize=20);"
   ]
  },
  {
   "cell_type": "code",
   "execution_count": null,
   "metadata": {
    "ExecuteTime": {
     "end_time": "2021-09-02T18:46:07.714145Z",
     "start_time": "2021-09-02T18:46:07.690145Z"
    }
   },
   "outputs": [],
   "source": [
    "fair_count = df_count.loc[df_count['bridge_condition']=='Fair'].sort_values(by='condition_count', ascending=False)[:10]\n",
    "fair_count.head()"
   ]
  },
  {
   "cell_type": "code",
   "execution_count": null,
   "metadata": {
    "ExecuteTime": {
     "end_time": "2021-09-02T18:46:08.714141Z",
     "start_time": "2021-09-02T18:46:07.718149Z"
    }
   },
   "outputs": [],
   "source": [
    "plt.figure(figsize=(12,8))\n",
    "sns.barplot(y=fair_count['state'], x=fair_count['condition_count'], color='r')\n",
    "plt.xlabel('Number of bridges')\n",
    "plt.ylabel('States')\n",
    "plt.title('Top 20 States with Fair Bridge Condition', fontsize=20);"
   ]
  },
  {
   "cell_type": "code",
   "execution_count": null,
   "metadata": {
    "ExecuteTime": {
     "end_time": "2021-09-02T18:46:09.685363Z",
     "start_time": "2021-09-02T18:46:08.717143Z"
    }
   },
   "outputs": [],
   "source": [
    "# Initialize the matplotlib figure\n",
    "f, ax = plt.subplots(figsize=(6, 12))\n",
    "\n",
    "\n",
    "# Plot the fair bridge_condition\n",
    "sns.set_color_codes(\"pastel\")\n",
    "sns.barplot(x=\"condition_count\", y=\"state\", data=fair_count,\n",
    "            label=\"Fair\", color=\"b\")\n",
    "\n",
    "# Plot the poor bridge_condition\n",
    "sns.set_color_codes(\"muted\")\n",
    "sns.barplot(x=\"condition_count\", y=\"state\", data=poor_count,\n",
    "            label=\"Poor\", color=\"r\")\n",
    "\n",
    "# Add a legend and informative axis label\n",
    "ax.legend(ncol=2, loc=\"lower right\", frameon=True)\n",
    "ax.set(xlim=(0, 30000), ylabel=\"States\", xlabel=\"Number of Bridges\")\n",
    "plt.title('Top 10 States with Fair & Poor Conditions', fontsize=20)\n",
    "sns.despine(left=True, bottom=True)"
   ]
  },
  {
   "cell_type": "code",
   "execution_count": null,
   "metadata": {
    "ExecuteTime": {
     "end_time": "2021-09-02T18:46:36.361171Z",
     "start_time": "2021-09-02T18:46:09.689372Z"
    }
   },
   "outputs": [],
   "source": [
    "# Draw a nested barplot by bridge_condition and avg_truck_traffic\n",
    "g = sns.catplot(\n",
    "    data=df, kind=\"bar\",\n",
    "    x=\"bridge_condition\", y='yr_avg_traffic')\n",
    "g.despine(left=True)\n",
    "g.set_axis_labels(\"\", \"Average Daily Truck Traffic\")\n",
    "plt.title(\"Average Daily Truck Traffic per Condition\", fontsize=20);"
   ]
  },
  {
   "cell_type": "code",
   "execution_count": null,
   "metadata": {
    "ExecuteTime": {
     "end_time": "2021-09-02T18:46:36.376716Z",
     "start_time": "2021-09-02T18:46:36.365173Z"
    }
   },
   "outputs": [],
   "source": [
    "df.columns"
   ]
  },
  {
   "cell_type": "markdown",
   "metadata": {},
   "source": [
    "# Folium Heatmap"
   ]
  },
  {
   "cell_type": "code",
   "execution_count": null,
   "metadata": {},
   "outputs": [],
   "source": []
  },
  {
   "cell_type": "code",
   "execution_count": 8,
   "metadata": {
    "ExecuteTime": {
     "end_time": "2021-09-02T19:35:00.410155Z",
     "start_time": "2021-09-02T19:34:59.371341Z"
    }
   },
   "outputs": [],
   "source": [
    "import folium\n",
    "from folium.plugins import HeatMap"
   ]
  },
  {
   "cell_type": "code",
   "execution_count": 9,
   "metadata": {
    "ExecuteTime": {
     "end_time": "2021-09-02T19:35:06.988002Z",
     "start_time": "2021-09-02T19:35:06.490003Z"
    }
   },
   "outputs": [
    {
     "data": {
      "text/html": [
       "<div>\n",
       "<style scoped>\n",
       "    .dataframe tbody tr th:only-of-type {\n",
       "        vertical-align: middle;\n",
       "    }\n",
       "\n",
       "    .dataframe tbody tr th {\n",
       "        vertical-align: top;\n",
       "    }\n",
       "\n",
       "    .dataframe thead th {\n",
       "        text-align: right;\n",
       "    }\n",
       "</style>\n",
       "<table border=\"1\" class=\"dataframe\">\n",
       "  <thead>\n",
       "    <tr style=\"text-align: right;\">\n",
       "      <th></th>\n",
       "      <th>state</th>\n",
       "      <th>str_id</th>\n",
       "      <th>deck_type</th>\n",
       "      <th>wearing_type</th>\n",
       "      <th>membrane_type</th>\n",
       "      <th>deck_protection</th>\n",
       "      <th>toll</th>\n",
       "      <th>freeze_thaw_cycle</th>\n",
       "      <th>snowfall_days</th>\n",
       "      <th>inventory_class_route</th>\n",
       "      <th>...</th>\n",
       "      <th>yr_reconst</th>\n",
       "      <th>skew</th>\n",
       "      <th>max_span</th>\n",
       "      <th>bridge_width</th>\n",
       "      <th>deck_width</th>\n",
       "      <th>super_st_condition</th>\n",
       "      <th>sub_st_condition</th>\n",
       "      <th>deck_condition</th>\n",
       "      <th>avg_daily_trfic</th>\n",
       "      <th>avg_truck_trfc</th>\n",
       "    </tr>\n",
       "  </thead>\n",
       "  <tbody>\n",
       "    <tr>\n",
       "      <th>15</th>\n",
       "      <td>Alabama</td>\n",
       "      <td>013329</td>\n",
       "      <td>N</td>\n",
       "      <td>N</td>\n",
       "      <td>N</td>\n",
       "      <td>N</td>\n",
       "      <td>3.0</td>\n",
       "      <td>14.0</td>\n",
       "      <td>0.0</td>\n",
       "      <td>6.0</td>\n",
       "      <td>...</td>\n",
       "      <td>0.0</td>\n",
       "      <td>30.0</td>\n",
       "      <td>13.8</td>\n",
       "      <td>0.0</td>\n",
       "      <td>0.0</td>\n",
       "      <td>NaN</td>\n",
       "      <td>NaN</td>\n",
       "      <td>NaN</td>\n",
       "      <td>1820.0</td>\n",
       "      <td>9.0</td>\n",
       "    </tr>\n",
       "    <tr>\n",
       "      <th>16</th>\n",
       "      <td>Alabama</td>\n",
       "      <td>009759</td>\n",
       "      <td>N</td>\n",
       "      <td>6</td>\n",
       "      <td>0</td>\n",
       "      <td>0</td>\n",
       "      <td>3.0</td>\n",
       "      <td>14.0</td>\n",
       "      <td>0.0</td>\n",
       "      <td>8.0</td>\n",
       "      <td>...</td>\n",
       "      <td>0.0</td>\n",
       "      <td>0.0</td>\n",
       "      <td>12.1</td>\n",
       "      <td>0.0</td>\n",
       "      <td>0.0</td>\n",
       "      <td>NaN</td>\n",
       "      <td>NaN</td>\n",
       "      <td>NaN</td>\n",
       "      <td>295.0</td>\n",
       "      <td>15.0</td>\n",
       "    </tr>\n",
       "    <tr>\n",
       "      <th>17</th>\n",
       "      <td>Alabama</td>\n",
       "      <td>017064</td>\n",
       "      <td>2</td>\n",
       "      <td>0</td>\n",
       "      <td>0</td>\n",
       "      <td>0</td>\n",
       "      <td>3.0</td>\n",
       "      <td>14.0</td>\n",
       "      <td>0.0</td>\n",
       "      <td>7.0</td>\n",
       "      <td>...</td>\n",
       "      <td>0.0</td>\n",
       "      <td>0.0</td>\n",
       "      <td>34.1</td>\n",
       "      <td>28.5</td>\n",
       "      <td>30.8</td>\n",
       "      <td>7.0</td>\n",
       "      <td>6.0</td>\n",
       "      <td>7.0</td>\n",
       "      <td>775.0</td>\n",
       "      <td>30.0</td>\n",
       "    </tr>\n",
       "    <tr>\n",
       "      <th>18</th>\n",
       "      <td>Alabama</td>\n",
       "      <td>019836</td>\n",
       "      <td>2</td>\n",
       "      <td>0</td>\n",
       "      <td>0</td>\n",
       "      <td>0</td>\n",
       "      <td>3.0</td>\n",
       "      <td>14.0</td>\n",
       "      <td>0.0</td>\n",
       "      <td>8.0</td>\n",
       "      <td>...</td>\n",
       "      <td>0.0</td>\n",
       "      <td>0.0</td>\n",
       "      <td>34.1</td>\n",
       "      <td>27.9</td>\n",
       "      <td>27.9</td>\n",
       "      <td>8.0</td>\n",
       "      <td>8.0</td>\n",
       "      <td>8.0</td>\n",
       "      <td>95.0</td>\n",
       "      <td>0.0</td>\n",
       "    </tr>\n",
       "    <tr>\n",
       "      <th>19</th>\n",
       "      <td>Alabama</td>\n",
       "      <td>006867</td>\n",
       "      <td>N</td>\n",
       "      <td>6</td>\n",
       "      <td>0</td>\n",
       "      <td>0</td>\n",
       "      <td>3.0</td>\n",
       "      <td>14.0</td>\n",
       "      <td>0.0</td>\n",
       "      <td>8.0</td>\n",
       "      <td>...</td>\n",
       "      <td>0.0</td>\n",
       "      <td>0.0</td>\n",
       "      <td>14.1</td>\n",
       "      <td>0.0</td>\n",
       "      <td>0.0</td>\n",
       "      <td>NaN</td>\n",
       "      <td>NaN</td>\n",
       "      <td>NaN</td>\n",
       "      <td>250.0</td>\n",
       "      <td>7.0</td>\n",
       "    </tr>\n",
       "  </tbody>\n",
       "</table>\n",
       "<p>5 rows × 38 columns</p>\n",
       "</div>"
      ],
      "text/plain": [
       "        state           str_id deck_type wearing_type membrane_type  \\\n",
       "15    Alabama  013329                  N            N             N   \n",
       "16    Alabama  009759                  N            6             0   \n",
       "17    Alabama  017064                  2            0             0   \n",
       "18    Alabama  019836                  2            0             0   \n",
       "19    Alabama  006867                  N            6             0   \n",
       "\n",
       "   deck_protection  toll  freeze_thaw_cycle  snowfall_days  \\\n",
       "15               N   3.0               14.0            0.0   \n",
       "16               0   3.0               14.0            0.0   \n",
       "17               0   3.0               14.0            0.0   \n",
       "18               0   3.0               14.0            0.0   \n",
       "19               0   3.0               14.0            0.0   \n",
       "\n",
       "    inventory_class_route  ...  yr_reconst  skew  max_span  bridge_width  \\\n",
       "15                    6.0  ...         0.0  30.0      13.8           0.0   \n",
       "16                    8.0  ...         0.0   0.0      12.1           0.0   \n",
       "17                    7.0  ...         0.0   0.0      34.1          28.5   \n",
       "18                    8.0  ...         0.0   0.0      34.1          27.9   \n",
       "19                    8.0  ...         0.0   0.0      14.1           0.0   \n",
       "\n",
       "    deck_width  super_st_condition  sub_st_condition  deck_condition  \\\n",
       "15         0.0                 NaN               NaN             NaN   \n",
       "16         0.0                 NaN               NaN             NaN   \n",
       "17        30.8                 7.0               6.0             7.0   \n",
       "18        27.9                 8.0               8.0             8.0   \n",
       "19         0.0                 NaN               NaN             NaN   \n",
       "\n",
       "    avg_daily_trfic avg_truck_trfc  \n",
       "15           1820.0            9.0  \n",
       "16            295.0           15.0  \n",
       "17            775.0           30.0  \n",
       "18             95.0            0.0  \n",
       "19            250.0            7.0  \n",
       "\n",
       "[5 rows x 38 columns]"
      ]
     },
     "execution_count": 9,
     "metadata": {},
     "output_type": "execute_result"
    }
   ],
   "source": [
    "# Replace target values - there are three classes\n",
    "df2 = df.replace({'bridge_condition': {'Poor' : 2, \n",
    "                                'Fair' : 1, \n",
    "                                'Good' : 0}})\n",
    "# Check to see that it worked\n",
    "df2.iloc[15:20]"
   ]
  },
  {
   "cell_type": "code",
   "execution_count": 10,
   "metadata": {
    "ExecuteTime": {
     "end_time": "2021-09-02T19:35:14.904617Z",
     "start_time": "2021-09-02T19:35:14.890850Z"
    }
   },
   "outputs": [
    {
     "data": {
      "text/plain": [
       "(592756, 38)"
      ]
     },
     "execution_count": 10,
     "metadata": {},
     "output_type": "execute_result"
    }
   ],
   "source": [
    "df2.shape"
   ]
  },
  {
   "cell_type": "code",
   "execution_count": null,
   "metadata": {
    "ExecuteTime": {
     "end_time": "2021-09-02T18:46:40.969480Z",
     "start_time": "2021-09-02T18:46:40.888484Z"
    }
   },
   "outputs": [],
   "source": [
    "# Make an empty map\n",
    "m = folium.Map(location=[40,-100], tiles=\"OpenStreetMap\", zoom_start=4)\n",
    "\n",
    "# Show the map\n",
    "# m"
   ]
  },
  {
   "cell_type": "markdown",
   "metadata": {},
   "source": [
    "## By state"
   ]
  },
  {
   "cell_type": "code",
   "execution_count": null,
   "metadata": {
    "ExecuteTime": {
     "end_time": "2021-09-02T18:46:41.961483Z",
     "start_time": "2021-09-02T18:46:40.973481Z"
    }
   },
   "outputs": [],
   "source": [
    "data = df2.groupby('state').median()[['latitude', 'longitude', 'bridge_condition']].values.tolist()\n",
    "data"
   ]
  },
  {
   "cell_type": "code",
   "execution_count": null,
   "metadata": {
    "ExecuteTime": {
     "end_time": "2021-09-02T18:46:41.993565Z",
     "start_time": "2021-09-02T18:46:41.965488Z"
    },
    "scrolled": false
   },
   "outputs": [],
   "source": [
    "HeatMap(data = data).add_to(m)\n",
    "display(m)"
   ]
  },
  {
   "cell_type": "code",
   "execution_count": null,
   "metadata": {
    "ExecuteTime": {
     "end_time": "2021-09-02T18:46:43.217251Z",
     "start_time": "2021-09-02T18:46:42.017111Z"
    }
   },
   "outputs": [],
   "source": [
    "states_df = df2.groupby('state').median()\n",
    "states_df.head()"
   ]
  },
  {
   "cell_type": "code",
   "execution_count": null,
   "metadata": {
    "ExecuteTime": {
     "end_time": "2021-09-02T18:46:43.233253Z",
     "start_time": "2021-09-02T18:46:43.220251Z"
    }
   },
   "outputs": [],
   "source": [
    "states_df = states_df.reset_index()"
   ]
  },
  {
   "cell_type": "code",
   "execution_count": null,
   "metadata": {
    "ExecuteTime": {
     "end_time": "2021-09-02T18:46:43.577251Z",
     "start_time": "2021-09-02T18:46:43.236252Z"
    }
   },
   "outputs": [],
   "source": [
    "for i in range(0,len(states_df)):\n",
    "    folium.Marker(location=[states_df.iloc[i]['latitude'], states_df.iloc[i]['longitude']],\n",
    "     popup=folium.Popup(states_df.iloc[i]['state'], show=True),\n",
    "   ).add_to(m)\n",
    "    \n",
    "m"
   ]
  },
  {
   "cell_type": "markdown",
   "metadata": {},
   "source": [
    "## By Sub-structure condition"
   ]
  },
  {
   "cell_type": "code",
   "execution_count": null,
   "metadata": {
    "ExecuteTime": {
     "end_time": "2021-09-02T18:46:43.624251Z",
     "start_time": "2021-09-02T18:46:43.581252Z"
    }
   },
   "outputs": [],
   "source": [
    "# Make an empty map\n",
    "m = folium.Map(location=[40,-100], tiles=\"OpenStreetMap\", zoom_start=4)\n",
    "\n",
    "#show the map\n",
    "m"
   ]
  },
  {
   "cell_type": "code",
   "execution_count": null,
   "metadata": {
    "ExecuteTime": {
     "end_time": "2021-09-02T18:46:44.703828Z",
     "start_time": "2021-09-02T18:46:43.628252Z"
    }
   },
   "outputs": [],
   "source": [
    "data1 = df2.groupby('sub_st_condition').median()[['latitude', 'longitude',\n",
    "                                                  'bridge_condition']].values.tolist()"
   ]
  },
  {
   "cell_type": "code",
   "execution_count": null,
   "metadata": {
    "ExecuteTime": {
     "end_time": "2021-09-02T18:46:44.733829Z",
     "start_time": "2021-09-02T18:46:44.708826Z"
    }
   },
   "outputs": [],
   "source": [
    "HeatMap(data = data1).add_to(m)\n",
    "display(m)"
   ]
  },
  {
   "cell_type": "markdown",
   "metadata": {},
   "source": [
    "## By snowfall days"
   ]
  },
  {
   "cell_type": "code",
   "execution_count": null,
   "metadata": {
    "ExecuteTime": {
     "end_time": "2021-09-02T18:46:44.797824Z",
     "start_time": "2021-09-02T18:46:44.738828Z"
    }
   },
   "outputs": [],
   "source": [
    "# Make an empty map\n",
    "m = folium.Map(location=[40,-100], tiles=\"OpenStreetMap\", zoom_start=4)\n",
    "\n",
    "#show the map\n",
    "m"
   ]
  },
  {
   "cell_type": "code",
   "execution_count": null,
   "metadata": {
    "ExecuteTime": {
     "end_time": "2021-09-02T18:46:45.883399Z",
     "start_time": "2021-09-02T18:46:44.805824Z"
    }
   },
   "outputs": [],
   "source": [
    "data2 = df2.groupby('snowfall_days').median()[['latitude', 'longitude', 'bridge_condition']].values.tolist()\n",
    "data2"
   ]
  },
  {
   "cell_type": "code",
   "execution_count": null,
   "metadata": {
    "ExecuteTime": {
     "end_time": "2021-09-02T18:46:45.931451Z",
     "start_time": "2021-09-02T18:46:45.887402Z"
    }
   },
   "outputs": [],
   "source": [
    "HeatMap(data = data2).add_to(m)\n",
    "display(m)"
   ]
  },
  {
   "cell_type": "markdown",
   "metadata": {},
   "source": [
    "## By age of bridge"
   ]
  },
  {
   "cell_type": "code",
   "execution_count": null,
   "metadata": {
    "ExecuteTime": {
     "end_time": "2021-09-02T18:46:45.978978Z",
     "start_time": "2021-09-02T18:46:45.934980Z"
    }
   },
   "outputs": [],
   "source": [
    "# Make an empty map\n",
    "m = folium.Map(location=[40,-100], tiles=\"OpenStreetMap\", zoom_start=4)\n",
    "\n",
    "#show the map\n",
    "m"
   ]
  },
  {
   "cell_type": "code",
   "execution_count": null,
   "metadata": {
    "ExecuteTime": {
     "end_time": "2021-09-02T18:46:47.090977Z",
     "start_time": "2021-09-02T18:46:45.982982Z"
    }
   },
   "outputs": [],
   "source": [
    "data3 = df2.groupby('bridge_age').median()[['latitude', 'longitude', 'bridge_condition']].values.tolist()"
   ]
  },
  {
   "cell_type": "code",
   "execution_count": null,
   "metadata": {
    "ExecuteTime": {
     "end_time": "2021-09-02T18:46:47.121514Z",
     "start_time": "2021-09-02T18:46:47.093980Z"
    }
   },
   "outputs": [],
   "source": [
    "HeatMap(data = data3).add_to(m)\n",
    "display(m)"
   ]
  },
  {
   "cell_type": "markdown",
   "metadata": {},
   "source": [
    "## By Freeze and thaw cycle"
   ]
  },
  {
   "cell_type": "code",
   "execution_count": null,
   "metadata": {
    "ExecuteTime": {
     "end_time": "2021-09-02T18:46:47.184592Z",
     "start_time": "2021-09-02T18:46:47.126589Z"
    }
   },
   "outputs": [],
   "source": [
    "# Make an empty map\n",
    "m = folium.Map(location=[40,-100], tiles=\"OpenStreetMap\", zoom_start=4)\n",
    "\n",
    "#show the map\n",
    "m"
   ]
  },
  {
   "cell_type": "code",
   "execution_count": null,
   "metadata": {
    "ExecuteTime": {
     "end_time": "2021-09-02T18:46:48.437717Z",
     "start_time": "2021-09-02T18:46:47.189592Z"
    }
   },
   "outputs": [],
   "source": [
    "data4 = df2.groupby('freeze_thaw_cycle').median()[['latitude', 'longitude',\n",
    "                                                   'bridge_condition']].values.tolist()"
   ]
  },
  {
   "cell_type": "code",
   "execution_count": null,
   "metadata": {
    "ExecuteTime": {
     "end_time": "2021-09-02T18:46:48.483714Z",
     "start_time": "2021-09-02T18:46:48.441716Z"
    }
   },
   "outputs": [],
   "source": [
    "HeatMap(data = data4).add_to(m)\n",
    "display(m)"
   ]
  },
  {
   "cell_type": "markdown",
   "metadata": {},
   "source": [
    "## By Super structure condition"
   ]
  },
  {
   "cell_type": "code",
   "execution_count": null,
   "metadata": {
    "ExecuteTime": {
     "end_time": "2021-09-02T18:46:48.529715Z",
     "start_time": "2021-09-02T18:46:48.486715Z"
    }
   },
   "outputs": [],
   "source": [
    "# Make an empty map\n",
    "m = folium.Map(location=[40,-100], tiles=\"OpenStreetMap\", zoom_start=4)\n",
    "\n",
    "#show the map\n",
    "m"
   ]
  },
  {
   "cell_type": "code",
   "execution_count": null,
   "metadata": {
    "ExecuteTime": {
     "end_time": "2021-09-02T18:46:49.356280Z",
     "start_time": "2021-09-02T18:46:48.533719Z"
    }
   },
   "outputs": [],
   "source": [
    "data5 = df2.groupby('super_st_condition').median()[['latitude', 'longitude', 'bridge_condition']].values.tolist()\n",
    "data5"
   ]
  },
  {
   "cell_type": "code",
   "execution_count": null,
   "metadata": {
    "ExecuteTime": {
     "end_time": "2021-09-02T18:46:49.404282Z",
     "start_time": "2021-09-02T18:46:49.359282Z"
    }
   },
   "outputs": [],
   "source": [
    "HeatMap(data = data5).add_to(m)\n",
    "display(m)"
   ]
  },
  {
   "cell_type": "markdown",
   "metadata": {},
   "source": [
    "## By County"
   ]
  },
  {
   "cell_type": "code",
   "execution_count": null,
   "metadata": {
    "ExecuteTime": {
     "end_time": "2021-09-02T18:46:49.497283Z",
     "start_time": "2021-09-02T18:46:49.408279Z"
    }
   },
   "outputs": [],
   "source": [
    "# Make an empty map\n",
    "m = folium.Map(location=[40,-100], tiles=\"OpenStreetMap\", zoom_start=4)\n",
    "\n",
    "#show the map\n",
    "m"
   ]
  },
  {
   "cell_type": "code",
   "execution_count": null,
   "metadata": {
    "ExecuteTime": {
     "end_time": "2021-09-02T18:46:50.926930Z",
     "start_time": "2021-09-02T18:46:49.501285Z"
    }
   },
   "outputs": [],
   "source": [
    "data6 = df2.groupby('county').median()[['latitude', 'longitude', 'bridge_condition']].values.tolist()\n",
    "data6"
   ]
  },
  {
   "cell_type": "code",
   "execution_count": null,
   "metadata": {
    "ExecuteTime": {
     "end_time": "2021-09-02T18:46:51.036548Z",
     "start_time": "2021-09-02T18:46:50.929929Z"
    }
   },
   "outputs": [],
   "source": [
    "HeatMap(data = data6).add_to(m)\n",
    "display(m)"
   ]
  },
  {
   "cell_type": "markdown",
   "metadata": {},
   "source": [
    "## By New York Counties"
   ]
  },
  {
   "cell_type": "code",
   "execution_count": 11,
   "metadata": {
    "ExecuteTime": {
     "end_time": "2021-09-02T19:35:28.210344Z",
     "start_time": "2021-09-02T19:35:28.115782Z"
    }
   },
   "outputs": [
    {
     "data": {
      "text/html": [
       "<div>\n",
       "<style scoped>\n",
       "    .dataframe tbody tr th:only-of-type {\n",
       "        vertical-align: middle;\n",
       "    }\n",
       "\n",
       "    .dataframe tbody tr th {\n",
       "        vertical-align: top;\n",
       "    }\n",
       "\n",
       "    .dataframe thead th {\n",
       "        text-align: right;\n",
       "    }\n",
       "</style>\n",
       "<table border=\"1\" class=\"dataframe\">\n",
       "  <thead>\n",
       "    <tr style=\"text-align: right;\">\n",
       "      <th></th>\n",
       "      <th>state</th>\n",
       "      <th>county</th>\n",
       "      <th>latitude</th>\n",
       "      <th>longitude</th>\n",
       "      <th>bridge_condition</th>\n",
       "    </tr>\n",
       "  </thead>\n",
       "  <tbody>\n",
       "    <tr>\n",
       "      <th>80027</th>\n",
       "      <td>New York</td>\n",
       "      <td>Queens County</td>\n",
       "      <td>40.75241</td>\n",
       "      <td>-73.89771</td>\n",
       "      <td>0</td>\n",
       "    </tr>\n",
       "    <tr>\n",
       "      <th>80028</th>\n",
       "      <td>New York</td>\n",
       "      <td>Kings County</td>\n",
       "      <td>40.62864</td>\n",
       "      <td>-73.96584</td>\n",
       "      <td>1</td>\n",
       "    </tr>\n",
       "    <tr>\n",
       "      <th>80029</th>\n",
       "      <td>New York</td>\n",
       "      <td>Westchester County</td>\n",
       "      <td>40.90263</td>\n",
       "      <td>-73.81498</td>\n",
       "      <td>1</td>\n",
       "    </tr>\n",
       "    <tr>\n",
       "      <th>80030</th>\n",
       "      <td>New York</td>\n",
       "      <td>Westchester County</td>\n",
       "      <td>41.03113</td>\n",
       "      <td>-73.74497</td>\n",
       "      <td>0</td>\n",
       "    </tr>\n",
       "    <tr>\n",
       "      <th>80031</th>\n",
       "      <td>New York</td>\n",
       "      <td>Queens County</td>\n",
       "      <td>40.75414</td>\n",
       "      <td>-73.89879</td>\n",
       "      <td>0</td>\n",
       "    </tr>\n",
       "  </tbody>\n",
       "</table>\n",
       "</div>"
      ],
      "text/plain": [
       "            state                county  latitude  longitude  bridge_condition\n",
       "80027    New York         Queens County  40.75241  -73.89771                 0\n",
       "80028    New York          Kings County  40.62864  -73.96584                 1\n",
       "80029    New York    Westchester County  40.90263  -73.81498                 1\n",
       "80030    New York    Westchester County  41.03113  -73.74497                 0\n",
       "80031    New York         Queens County  40.75414  -73.89879                 0"
      ]
     },
     "execution_count": 11,
     "metadata": {},
     "output_type": "execute_result"
    }
   ],
   "source": [
    "ny_df = df2[['state','county', 'latitude','longitude', 'bridge_condition']]\n",
    "ny_dfx = ny_df[ny_df['state']=='  New York']\n",
    "ny_dfx.head()"
   ]
  },
  {
   "cell_type": "code",
   "execution_count": null,
   "metadata": {
    "ExecuteTime": {
     "end_time": "2021-09-02T19:32:26.979403Z",
     "start_time": "2021-09-02T19:32:26.677432Z"
    }
   },
   "outputs": [],
   "source": [
    "# Replace target values - there are three classes\n",
    "ny_dfx = ny_df.replace({'bridge_condition': {'Poor' : 2, \n",
    "                                'Fair' : 1, \n",
    "                                'Good' : 0}})"
   ]
  },
  {
   "cell_type": "code",
   "execution_count": 12,
   "metadata": {
    "ExecuteTime": {
     "end_time": "2021-09-02T19:35:41.667922Z",
     "start_time": "2021-09-02T19:35:41.645926Z"
    }
   },
   "outputs": [
    {
     "data": {
      "text/plain": [
       "[[42.663485, -73.824365, 1.0],\n",
       " [42.252735, -78.012665, 1.0],\n",
       " [40.840755, -73.89137, 1.0],\n",
       " [42.115115, -75.896675, 1.0],\n",
       " [42.244110000000006, -78.640705, 0.0],\n",
       " [42.933170000000004, -76.5702, 1.0],\n",
       " [42.18464, -79.31423000000002, 1.0],\n",
       " [42.146355, -76.80446, 1.0],\n",
       " [42.497659999999996, -75.566615, 1.0],\n",
       " [44.77087, -73.56551999999998, 1.0],\n",
       " [42.277465, -73.58520999999999, 1.0],\n",
       " [42.60021, -76.10167, 1.0],\n",
       " [42.17362, -74.98716999999998, 1.0],\n",
       " [41.70834, -73.79431, 1.0],\n",
       " [42.85523, -78.770625, 1.0],\n",
       " [44.194915, -73.669245, 1.0],\n",
       " [44.83844000000001, -74.31574, 1.0],\n",
       " [43.06853, -74.37677, 1.0],\n",
       " [42.99758, -78.1925, 1.0],\n",
       " [42.258539999999996, -74.095455, 1.0],\n",
       " [43.56228, -74.42979, 1.0],\n",
       " [43.06454, -74.99356999999998, 1.0],\n",
       " [43.99065, -75.96670999999998, 1.0],\n",
       " [40.648300000000006, -73.98046500000001, 1.0],\n",
       " [43.74097, -75.45362, 1.0],\n",
       " [42.66868, -77.76379, 1.0],\n",
       " [42.97546, -75.73168000000003, 1.0],\n",
       " [43.15114000000001, -77.65951, 1.0],\n",
       " [42.92784, -74.43791, 1.0],\n",
       " [40.70102, -73.58281, 1.0],\n",
       " [40.77151, -73.97386999999998, 1.0],\n",
       " [43.141639999999995, -78.82822, 1.0],\n",
       " [43.1907, -75.37144, 1.0],\n",
       " [43.056955, -76.15429499999999, 1.0],\n",
       " [42.91269000000001, -77.27698000000002, 1.0],\n",
       " [41.421215000000004, -74.28813500000001, 1.0],\n",
       " [43.29373, -78.19328, 1.0],\n",
       " [43.41745, -76.16983, 1.0],\n",
       " [42.59169, -75.051705, 1.0],\n",
       " [41.41451, -73.653625, 1.0],\n",
       " [40.731120000000004, -73.83385499999999, 1.0],\n",
       " [42.64416, -73.58188, 1.0],\n",
       " [40.607325, -74.15207000000001, 0.0],\n",
       " [41.10435, -74.006245, 1.0],\n",
       " [43.045495, -73.79077000000001, 1.0],\n",
       " [42.79513, -74.01276999999997, 1.0],\n",
       " [42.6426, -74.44985, 1.0],\n",
       " [42.35527, -76.82943, 1.0],\n",
       " [42.901865, -76.81681500000002, 1.0],\n",
       " [44.581905, -75.11351000000002, 0.0],\n",
       " [42.26493, -77.3913, 1.0],\n",
       " [40.810215, -73.14754500000001, 1.0],\n",
       " [41.774315, -74.75978500000002, 1.0],\n",
       " [42.09238, -76.35699, 1.0],\n",
       " [42.45214, -76.49457, 1.0],\n",
       " [41.93872, -74.25589000000002, 1.0],\n",
       " [43.56863, -73.78448, 1.0],\n",
       " [43.25502, -73.40401999999997, 1.0],\n",
       " [43.08682, -77.04966999999998, 1.0],\n",
       " [41.03268, -73.80439, 1.0],\n",
       " [42.71679, -78.25467499999999, 1.0],\n",
       " [42.65453, -77.077195, 1.0]]"
      ]
     },
     "execution_count": 12,
     "metadata": {},
     "output_type": "execute_result"
    }
   ],
   "source": [
    "ny_county = ny_dfx.groupby('county').median()[['latitude', 'longitude', 'bridge_condition']].values.tolist()\n",
    "# ny_county = ny_county.reset_index()\n",
    "ny_county"
   ]
  },
  {
   "cell_type": "code",
   "execution_count": 13,
   "metadata": {
    "ExecuteTime": {
     "end_time": "2021-09-02T19:35:50.682928Z",
     "start_time": "2021-09-02T19:35:50.659983Z"
    },
    "scrolled": false
   },
   "outputs": [
    {
     "data": {
      "text/html": [
       "<div style=\"width:100%;\"><div style=\"position:relative;width:100%;height:0;padding-bottom:60%;\"><span style=\"color:#565656\">Make this Notebook Trusted to load map: File -> Trust Notebook</span><iframe src=\"about:blank\" style=\"position:absolute;width:100%;height:100%;left:0;top:0;border:none !important;\" data-html=%3C%21DOCTYPE%20html%3E%0A%3Chead%3E%20%20%20%20%0A%20%20%20%20%3Cmeta%20http-equiv%3D%22content-type%22%20content%3D%22text/html%3B%20charset%3DUTF-8%22%20/%3E%0A%20%20%20%20%0A%20%20%20%20%20%20%20%20%3Cscript%3E%0A%20%20%20%20%20%20%20%20%20%20%20%20L_NO_TOUCH%20%3D%20false%3B%0A%20%20%20%20%20%20%20%20%20%20%20%20L_DISABLE_3D%20%3D%20false%3B%0A%20%20%20%20%20%20%20%20%3C/script%3E%0A%20%20%20%20%0A%20%20%20%20%3Cstyle%3Ehtml%2C%20body%20%7Bwidth%3A%20100%25%3Bheight%3A%20100%25%3Bmargin%3A%200%3Bpadding%3A%200%3B%7D%3C/style%3E%0A%20%20%20%20%3Cstyle%3E%23map%20%7Bposition%3Aabsolute%3Btop%3A0%3Bbottom%3A0%3Bright%3A0%3Bleft%3A0%3B%7D%3C/style%3E%0A%20%20%20%20%3Cscript%20src%3D%22https%3A//cdn.jsdelivr.net/npm/leaflet%401.6.0/dist/leaflet.js%22%3E%3C/script%3E%0A%20%20%20%20%3Cscript%20src%3D%22https%3A//code.jquery.com/jquery-1.12.4.min.js%22%3E%3C/script%3E%0A%20%20%20%20%3Cscript%20src%3D%22https%3A//maxcdn.bootstrapcdn.com/bootstrap/3.2.0/js/bootstrap.min.js%22%3E%3C/script%3E%0A%20%20%20%20%3Cscript%20src%3D%22https%3A//cdnjs.cloudflare.com/ajax/libs/Leaflet.awesome-markers/2.0.2/leaflet.awesome-markers.js%22%3E%3C/script%3E%0A%20%20%20%20%3Clink%20rel%3D%22stylesheet%22%20href%3D%22https%3A//cdn.jsdelivr.net/npm/leaflet%401.6.0/dist/leaflet.css%22/%3E%0A%20%20%20%20%3Clink%20rel%3D%22stylesheet%22%20href%3D%22https%3A//maxcdn.bootstrapcdn.com/bootstrap/3.2.0/css/bootstrap.min.css%22/%3E%0A%20%20%20%20%3Clink%20rel%3D%22stylesheet%22%20href%3D%22https%3A//maxcdn.bootstrapcdn.com/bootstrap/3.2.0/css/bootstrap-theme.min.css%22/%3E%0A%20%20%20%20%3Clink%20rel%3D%22stylesheet%22%20href%3D%22https%3A//maxcdn.bootstrapcdn.com/font-awesome/4.6.3/css/font-awesome.min.css%22/%3E%0A%20%20%20%20%3Clink%20rel%3D%22stylesheet%22%20href%3D%22https%3A//cdnjs.cloudflare.com/ajax/libs/Leaflet.awesome-markers/2.0.2/leaflet.awesome-markers.css%22/%3E%0A%20%20%20%20%3Clink%20rel%3D%22stylesheet%22%20href%3D%22https%3A//cdn.jsdelivr.net/gh/python-visualization/folium/folium/templates/leaflet.awesome.rotate.min.css%22/%3E%0A%20%20%20%20%0A%20%20%20%20%20%20%20%20%20%20%20%20%3Cmeta%20name%3D%22viewport%22%20content%3D%22width%3Ddevice-width%2C%0A%20%20%20%20%20%20%20%20%20%20%20%20%20%20%20%20initial-scale%3D1.0%2C%20maximum-scale%3D1.0%2C%20user-scalable%3Dno%22%20/%3E%0A%20%20%20%20%20%20%20%20%20%20%20%20%3Cstyle%3E%0A%20%20%20%20%20%20%20%20%20%20%20%20%20%20%20%20%23map_4fd38b12ea1542b9a138914b266c9879%20%7B%0A%20%20%20%20%20%20%20%20%20%20%20%20%20%20%20%20%20%20%20%20position%3A%20relative%3B%0A%20%20%20%20%20%20%20%20%20%20%20%20%20%20%20%20%20%20%20%20width%3A%20100.0%25%3B%0A%20%20%20%20%20%20%20%20%20%20%20%20%20%20%20%20%20%20%20%20height%3A%20100.0%25%3B%0A%20%20%20%20%20%20%20%20%20%20%20%20%20%20%20%20%20%20%20%20left%3A%200.0%25%3B%0A%20%20%20%20%20%20%20%20%20%20%20%20%20%20%20%20%20%20%20%20top%3A%200.0%25%3B%0A%20%20%20%20%20%20%20%20%20%20%20%20%20%20%20%20%7D%0A%20%20%20%20%20%20%20%20%20%20%20%20%3C/style%3E%0A%20%20%20%20%20%20%20%20%0A%3C/head%3E%0A%3Cbody%3E%20%20%20%20%0A%20%20%20%20%0A%20%20%20%20%20%20%20%20%20%20%20%20%3Cdiv%20class%3D%22folium-map%22%20id%3D%22map_4fd38b12ea1542b9a138914b266c9879%22%20%3E%3C/div%3E%0A%20%20%20%20%20%20%20%20%0A%3C/body%3E%0A%3Cscript%3E%20%20%20%20%0A%20%20%20%20%0A%20%20%20%20%20%20%20%20%20%20%20%20var%20map_4fd38b12ea1542b9a138914b266c9879%20%3D%20L.map%28%0A%20%20%20%20%20%20%20%20%20%20%20%20%20%20%20%20%22map_4fd38b12ea1542b9a138914b266c9879%22%2C%0A%20%20%20%20%20%20%20%20%20%20%20%20%20%20%20%20%7B%0A%20%20%20%20%20%20%20%20%20%20%20%20%20%20%20%20%20%20%20%20center%3A%20%5B41.0%2C%20-75.0%5D%2C%0A%20%20%20%20%20%20%20%20%20%20%20%20%20%20%20%20%20%20%20%20crs%3A%20L.CRS.EPSG3857%2C%0A%20%20%20%20%20%20%20%20%20%20%20%20%20%20%20%20%20%20%20%20zoom%3A%206%2C%0A%20%20%20%20%20%20%20%20%20%20%20%20%20%20%20%20%20%20%20%20zoomControl%3A%20true%2C%0A%20%20%20%20%20%20%20%20%20%20%20%20%20%20%20%20%20%20%20%20preferCanvas%3A%20false%2C%0A%20%20%20%20%20%20%20%20%20%20%20%20%20%20%20%20%7D%0A%20%20%20%20%20%20%20%20%20%20%20%20%29%3B%0A%0A%20%20%20%20%20%20%20%20%20%20%20%20%0A%0A%20%20%20%20%20%20%20%20%0A%20%20%20%20%0A%20%20%20%20%20%20%20%20%20%20%20%20var%20tile_layer_ab76105eda434d2db0c18b21177ed10f%20%3D%20L.tileLayer%28%0A%20%20%20%20%20%20%20%20%20%20%20%20%20%20%20%20%22https%3A//%7Bs%7D.tile.openstreetmap.org/%7Bz%7D/%7Bx%7D/%7By%7D.png%22%2C%0A%20%20%20%20%20%20%20%20%20%20%20%20%20%20%20%20%7B%22attribution%22%3A%20%22Data%20by%20%5Cu0026copy%3B%20%5Cu003ca%20href%3D%5C%22http%3A//openstreetmap.org%5C%22%5Cu003eOpenStreetMap%5Cu003c/a%5Cu003e%2C%20under%20%5Cu003ca%20href%3D%5C%22http%3A//www.openstreetmap.org/copyright%5C%22%5Cu003eODbL%5Cu003c/a%5Cu003e.%22%2C%20%22detectRetina%22%3A%20false%2C%20%22maxNativeZoom%22%3A%2018%2C%20%22maxZoom%22%3A%2018%2C%20%22minZoom%22%3A%200%2C%20%22noWrap%22%3A%20false%2C%20%22opacity%22%3A%201%2C%20%22subdomains%22%3A%20%22abc%22%2C%20%22tms%22%3A%20false%7D%0A%20%20%20%20%20%20%20%20%20%20%20%20%29.addTo%28map_4fd38b12ea1542b9a138914b266c9879%29%3B%0A%20%20%20%20%20%20%20%20%0A%3C/script%3E onload=\"this.contentDocument.open();this.contentDocument.write(    decodeURIComponent(this.getAttribute('data-html')));this.contentDocument.close();\" allowfullscreen webkitallowfullscreen mozallowfullscreen></iframe></div></div>"
      ],
      "text/plain": [
       "<folium.folium.Map at 0x12b02b43af0>"
      ]
     },
     "execution_count": 13,
     "metadata": {},
     "output_type": "execute_result"
    }
   ],
   "source": [
    "# Make an empty map\n",
    "m = folium.Map(location=[41,-75], tiles=\"OpenStreetMap\", zoom_start=6)\n",
    "\n",
    "# Show the map\n",
    "m"
   ]
  },
  {
   "cell_type": "code",
   "execution_count": 14,
   "metadata": {
    "ExecuteTime": {
     "end_time": "2021-09-02T19:36:09.047610Z",
     "start_time": "2021-09-02T19:36:09.036608Z"
    },
    "scrolled": true
   },
   "outputs": [
    {
     "data": {
      "text/html": [
       "<div style=\"width:100%;\"><div style=\"position:relative;width:100%;height:0;padding-bottom:60%;\"><span style=\"color:#565656\">Make this Notebook Trusted to load map: File -> Trust Notebook</span><iframe src=\"about:blank\" style=\"position:absolute;width:100%;height:100%;left:0;top:0;border:none !important;\" data-html=%3C%21DOCTYPE%20html%3E%0A%3Chead%3E%20%20%20%20%0A%20%20%20%20%3Cmeta%20http-equiv%3D%22content-type%22%20content%3D%22text/html%3B%20charset%3DUTF-8%22%20/%3E%0A%20%20%20%20%0A%20%20%20%20%20%20%20%20%3Cscript%3E%0A%20%20%20%20%20%20%20%20%20%20%20%20L_NO_TOUCH%20%3D%20false%3B%0A%20%20%20%20%20%20%20%20%20%20%20%20L_DISABLE_3D%20%3D%20false%3B%0A%20%20%20%20%20%20%20%20%3C/script%3E%0A%20%20%20%20%0A%20%20%20%20%3Cstyle%3Ehtml%2C%20body%20%7Bwidth%3A%20100%25%3Bheight%3A%20100%25%3Bmargin%3A%200%3Bpadding%3A%200%3B%7D%3C/style%3E%0A%20%20%20%20%3Cstyle%3E%23map%20%7Bposition%3Aabsolute%3Btop%3A0%3Bbottom%3A0%3Bright%3A0%3Bleft%3A0%3B%7D%3C/style%3E%0A%20%20%20%20%3Cscript%20src%3D%22https%3A//cdn.jsdelivr.net/npm/leaflet%401.6.0/dist/leaflet.js%22%3E%3C/script%3E%0A%20%20%20%20%3Cscript%20src%3D%22https%3A//code.jquery.com/jquery-1.12.4.min.js%22%3E%3C/script%3E%0A%20%20%20%20%3Cscript%20src%3D%22https%3A//maxcdn.bootstrapcdn.com/bootstrap/3.2.0/js/bootstrap.min.js%22%3E%3C/script%3E%0A%20%20%20%20%3Cscript%20src%3D%22https%3A//cdnjs.cloudflare.com/ajax/libs/Leaflet.awesome-markers/2.0.2/leaflet.awesome-markers.js%22%3E%3C/script%3E%0A%20%20%20%20%3Clink%20rel%3D%22stylesheet%22%20href%3D%22https%3A//cdn.jsdelivr.net/npm/leaflet%401.6.0/dist/leaflet.css%22/%3E%0A%20%20%20%20%3Clink%20rel%3D%22stylesheet%22%20href%3D%22https%3A//maxcdn.bootstrapcdn.com/bootstrap/3.2.0/css/bootstrap.min.css%22/%3E%0A%20%20%20%20%3Clink%20rel%3D%22stylesheet%22%20href%3D%22https%3A//maxcdn.bootstrapcdn.com/bootstrap/3.2.0/css/bootstrap-theme.min.css%22/%3E%0A%20%20%20%20%3Clink%20rel%3D%22stylesheet%22%20href%3D%22https%3A//maxcdn.bootstrapcdn.com/font-awesome/4.6.3/css/font-awesome.min.css%22/%3E%0A%20%20%20%20%3Clink%20rel%3D%22stylesheet%22%20href%3D%22https%3A//cdnjs.cloudflare.com/ajax/libs/Leaflet.awesome-markers/2.0.2/leaflet.awesome-markers.css%22/%3E%0A%20%20%20%20%3Clink%20rel%3D%22stylesheet%22%20href%3D%22https%3A//cdn.jsdelivr.net/gh/python-visualization/folium/folium/templates/leaflet.awesome.rotate.min.css%22/%3E%0A%20%20%20%20%0A%20%20%20%20%20%20%20%20%20%20%20%20%3Cmeta%20name%3D%22viewport%22%20content%3D%22width%3Ddevice-width%2C%0A%20%20%20%20%20%20%20%20%20%20%20%20%20%20%20%20initial-scale%3D1.0%2C%20maximum-scale%3D1.0%2C%20user-scalable%3Dno%22%20/%3E%0A%20%20%20%20%20%20%20%20%20%20%20%20%3Cstyle%3E%0A%20%20%20%20%20%20%20%20%20%20%20%20%20%20%20%20%23map_4fd38b12ea1542b9a138914b266c9879%20%7B%0A%20%20%20%20%20%20%20%20%20%20%20%20%20%20%20%20%20%20%20%20position%3A%20relative%3B%0A%20%20%20%20%20%20%20%20%20%20%20%20%20%20%20%20%20%20%20%20width%3A%20100.0%25%3B%0A%20%20%20%20%20%20%20%20%20%20%20%20%20%20%20%20%20%20%20%20height%3A%20100.0%25%3B%0A%20%20%20%20%20%20%20%20%20%20%20%20%20%20%20%20%20%20%20%20left%3A%200.0%25%3B%0A%20%20%20%20%20%20%20%20%20%20%20%20%20%20%20%20%20%20%20%20top%3A%200.0%25%3B%0A%20%20%20%20%20%20%20%20%20%20%20%20%20%20%20%20%7D%0A%20%20%20%20%20%20%20%20%20%20%20%20%3C/style%3E%0A%20%20%20%20%20%20%20%20%0A%20%20%20%20%3Cscript%20src%3D%22https%3A//cdn.jsdelivr.net/gh/python-visualization/folium%40master/folium/templates/leaflet_heat.min.js%22%3E%3C/script%3E%0A%3C/head%3E%0A%3Cbody%3E%20%20%20%20%0A%20%20%20%20%0A%20%20%20%20%20%20%20%20%20%20%20%20%3Cdiv%20class%3D%22folium-map%22%20id%3D%22map_4fd38b12ea1542b9a138914b266c9879%22%20%3E%3C/div%3E%0A%20%20%20%20%20%20%20%20%0A%3C/body%3E%0A%3Cscript%3E%20%20%20%20%0A%20%20%20%20%0A%20%20%20%20%20%20%20%20%20%20%20%20var%20map_4fd38b12ea1542b9a138914b266c9879%20%3D%20L.map%28%0A%20%20%20%20%20%20%20%20%20%20%20%20%20%20%20%20%22map_4fd38b12ea1542b9a138914b266c9879%22%2C%0A%20%20%20%20%20%20%20%20%20%20%20%20%20%20%20%20%7B%0A%20%20%20%20%20%20%20%20%20%20%20%20%20%20%20%20%20%20%20%20center%3A%20%5B41.0%2C%20-75.0%5D%2C%0A%20%20%20%20%20%20%20%20%20%20%20%20%20%20%20%20%20%20%20%20crs%3A%20L.CRS.EPSG3857%2C%0A%20%20%20%20%20%20%20%20%20%20%20%20%20%20%20%20%20%20%20%20zoom%3A%206%2C%0A%20%20%20%20%20%20%20%20%20%20%20%20%20%20%20%20%20%20%20%20zoomControl%3A%20true%2C%0A%20%20%20%20%20%20%20%20%20%20%20%20%20%20%20%20%20%20%20%20preferCanvas%3A%20false%2C%0A%20%20%20%20%20%20%20%20%20%20%20%20%20%20%20%20%7D%0A%20%20%20%20%20%20%20%20%20%20%20%20%29%3B%0A%0A%20%20%20%20%20%20%20%20%20%20%20%20%0A%0A%20%20%20%20%20%20%20%20%0A%20%20%20%20%0A%20%20%20%20%20%20%20%20%20%20%20%20var%20tile_layer_ab76105eda434d2db0c18b21177ed10f%20%3D%20L.tileLayer%28%0A%20%20%20%20%20%20%20%20%20%20%20%20%20%20%20%20%22https%3A//%7Bs%7D.tile.openstreetmap.org/%7Bz%7D/%7Bx%7D/%7By%7D.png%22%2C%0A%20%20%20%20%20%20%20%20%20%20%20%20%20%20%20%20%7B%22attribution%22%3A%20%22Data%20by%20%5Cu0026copy%3B%20%5Cu003ca%20href%3D%5C%22http%3A//openstreetmap.org%5C%22%5Cu003eOpenStreetMap%5Cu003c/a%5Cu003e%2C%20under%20%5Cu003ca%20href%3D%5C%22http%3A//www.openstreetmap.org/copyright%5C%22%5Cu003eODbL%5Cu003c/a%5Cu003e.%22%2C%20%22detectRetina%22%3A%20false%2C%20%22maxNativeZoom%22%3A%2018%2C%20%22maxZoom%22%3A%2018%2C%20%22minZoom%22%3A%200%2C%20%22noWrap%22%3A%20false%2C%20%22opacity%22%3A%201%2C%20%22subdomains%22%3A%20%22abc%22%2C%20%22tms%22%3A%20false%7D%0A%20%20%20%20%20%20%20%20%20%20%20%20%29.addTo%28map_4fd38b12ea1542b9a138914b266c9879%29%3B%0A%20%20%20%20%20%20%20%20%0A%20%20%20%20%0A%20%20%20%20%20%20%20%20%20%20%20%20var%20heat_map_a6a1db88e8a743329019f53fe7032c36%20%3D%20L.heatLayer%28%0A%20%20%20%20%20%20%20%20%20%20%20%20%20%20%20%20%5B%5B42.663485%2C%20-73.824365%2C%201.0%5D%2C%20%5B42.252735%2C%20-78.012665%2C%201.0%5D%2C%20%5B40.840755%2C%20-73.89137%2C%201.0%5D%2C%20%5B42.115115%2C%20-75.896675%2C%201.0%5D%2C%20%5B42.244110000000006%2C%20-78.640705%2C%200.0%5D%2C%20%5B42.933170000000004%2C%20-76.5702%2C%201.0%5D%2C%20%5B42.18464%2C%20-79.31423000000002%2C%201.0%5D%2C%20%5B42.146355%2C%20-76.80446%2C%201.0%5D%2C%20%5B42.497659999999996%2C%20-75.566615%2C%201.0%5D%2C%20%5B44.77087%2C%20-73.56551999999998%2C%201.0%5D%2C%20%5B42.277465%2C%20-73.58520999999999%2C%201.0%5D%2C%20%5B42.60021%2C%20-76.10167%2C%201.0%5D%2C%20%5B42.17362%2C%20-74.98716999999998%2C%201.0%5D%2C%20%5B41.70834%2C%20-73.79431%2C%201.0%5D%2C%20%5B42.85523%2C%20-78.770625%2C%201.0%5D%2C%20%5B44.194915%2C%20-73.669245%2C%201.0%5D%2C%20%5B44.83844000000001%2C%20-74.31574%2C%201.0%5D%2C%20%5B43.06853%2C%20-74.37677%2C%201.0%5D%2C%20%5B42.99758%2C%20-78.1925%2C%201.0%5D%2C%20%5B42.258539999999996%2C%20-74.095455%2C%201.0%5D%2C%20%5B43.56228%2C%20-74.42979%2C%201.0%5D%2C%20%5B43.06454%2C%20-74.99356999999998%2C%201.0%5D%2C%20%5B43.99065%2C%20-75.96670999999998%2C%201.0%5D%2C%20%5B40.648300000000006%2C%20-73.98046500000001%2C%201.0%5D%2C%20%5B43.74097%2C%20-75.45362%2C%201.0%5D%2C%20%5B42.66868%2C%20-77.76379%2C%201.0%5D%2C%20%5B42.97546%2C%20-75.73168000000003%2C%201.0%5D%2C%20%5B43.15114000000001%2C%20-77.65951%2C%201.0%5D%2C%20%5B42.92784%2C%20-74.43791%2C%201.0%5D%2C%20%5B40.70102%2C%20-73.58281%2C%201.0%5D%2C%20%5B40.77151%2C%20-73.97386999999998%2C%201.0%5D%2C%20%5B43.141639999999995%2C%20-78.82822%2C%201.0%5D%2C%20%5B43.1907%2C%20-75.37144%2C%201.0%5D%2C%20%5B43.056955%2C%20-76.15429499999999%2C%201.0%5D%2C%20%5B42.91269000000001%2C%20-77.27698000000002%2C%201.0%5D%2C%20%5B41.421215000000004%2C%20-74.28813500000001%2C%201.0%5D%2C%20%5B43.29373%2C%20-78.19328%2C%201.0%5D%2C%20%5B43.41745%2C%20-76.16983%2C%201.0%5D%2C%20%5B42.59169%2C%20-75.051705%2C%201.0%5D%2C%20%5B41.41451%2C%20-73.653625%2C%201.0%5D%2C%20%5B40.731120000000004%2C%20-73.83385499999999%2C%201.0%5D%2C%20%5B42.64416%2C%20-73.58188%2C%201.0%5D%2C%20%5B40.607325%2C%20-74.15207000000001%2C%200.0%5D%2C%20%5B41.10435%2C%20-74.006245%2C%201.0%5D%2C%20%5B43.045495%2C%20-73.79077000000001%2C%201.0%5D%2C%20%5B42.79513%2C%20-74.01276999999997%2C%201.0%5D%2C%20%5B42.6426%2C%20-74.44985%2C%201.0%5D%2C%20%5B42.35527%2C%20-76.82943%2C%201.0%5D%2C%20%5B42.901865%2C%20-76.81681500000002%2C%201.0%5D%2C%20%5B44.581905%2C%20-75.11351000000002%2C%200.0%5D%2C%20%5B42.26493%2C%20-77.3913%2C%201.0%5D%2C%20%5B40.810215%2C%20-73.14754500000001%2C%201.0%5D%2C%20%5B41.774315%2C%20-74.75978500000002%2C%201.0%5D%2C%20%5B42.09238%2C%20-76.35699%2C%201.0%5D%2C%20%5B42.45214%2C%20-76.49457%2C%201.0%5D%2C%20%5B41.93872%2C%20-74.25589000000002%2C%201.0%5D%2C%20%5B43.56863%2C%20-73.78448%2C%201.0%5D%2C%20%5B43.25502%2C%20-73.40401999999997%2C%201.0%5D%2C%20%5B43.08682%2C%20-77.04966999999998%2C%201.0%5D%2C%20%5B41.03268%2C%20-73.80439%2C%201.0%5D%2C%20%5B42.71679%2C%20-78.25467499999999%2C%201.0%5D%2C%20%5B42.65453%2C%20-77.077195%2C%201.0%5D%5D%2C%0A%20%20%20%20%20%20%20%20%20%20%20%20%20%20%20%20%7B%22blur%22%3A%2015%2C%20%22maxZoom%22%3A%2018%2C%20%22minOpacity%22%3A%200.5%2C%20%22radius%22%3A%2025%7D%0A%20%20%20%20%20%20%20%20%20%20%20%20%29.addTo%28map_4fd38b12ea1542b9a138914b266c9879%29%3B%0A%20%20%20%20%20%20%20%20%0A%3C/script%3E onload=\"this.contentDocument.open();this.contentDocument.write(    decodeURIComponent(this.getAttribute('data-html')));this.contentDocument.close();\" allowfullscreen webkitallowfullscreen mozallowfullscreen></iframe></div></div>"
      ],
      "text/plain": [
       "<folium.folium.Map at 0x12b02b43af0>"
      ]
     },
     "metadata": {},
     "output_type": "display_data"
    }
   ],
   "source": [
    "HeatMap(data = ny_county).add_to(m)\n",
    "display(m)"
   ]
  },
  {
   "cell_type": "code",
   "execution_count": 15,
   "metadata": {
    "ExecuteTime": {
     "end_time": "2021-09-02T19:36:17.242899Z",
     "start_time": "2021-09-02T19:36:17.231384Z"
    }
   },
   "outputs": [],
   "source": [
    "ny_county = ny_dfx.groupby('county').median()\n",
    "ny_county = ny_county.reset_index()"
   ]
  },
  {
   "cell_type": "code",
   "execution_count": 17,
   "metadata": {
    "ExecuteTime": {
     "end_time": "2021-09-02T19:37:21.508750Z",
     "start_time": "2021-09-02T19:37:21.335749Z"
    },
    "scrolled": false
   },
   "outputs": [
    {
     "data": {
      "text/html": [
       "<div style=\"width:100%;\"><div style=\"position:relative;width:100%;height:0;padding-bottom:60%;\"><span style=\"color:#565656\">Make this Notebook Trusted to load map: File -> Trust Notebook</span><iframe src=\"about:blank\" style=\"position:absolute;width:100%;height:100%;left:0;top:0;border:none !important;\" data-html=%3C%21DOCTYPE%20html%3E%0A%3Chead%3E%20%20%20%20%0A%20%20%20%20%3Cmeta%20http-equiv%3D%22content-type%22%20content%3D%22text/html%3B%20charset%3DUTF-8%22%20/%3E%0A%20%20%20%20%0A%20%20%20%20%20%20%20%20%3Cscript%3E%0A%20%20%20%20%20%20%20%20%20%20%20%20L_NO_TOUCH%20%3D%20false%3B%0A%20%20%20%20%20%20%20%20%20%20%20%20L_DISABLE_3D%20%3D%20false%3B%0A%20%20%20%20%20%20%20%20%3C/script%3E%0A%20%20%20%20%0A%20%20%20%20%3Cstyle%3Ehtml%2C%20body%20%7Bwidth%3A%20100%25%3Bheight%3A%20100%25%3Bmargin%3A%200%3Bpadding%3A%200%3B%7D%3C/style%3E%0A%20%20%20%20%3Cstyle%3E%23map%20%7Bposition%3Aabsolute%3Btop%3A0%3Bbottom%3A0%3Bright%3A0%3Bleft%3A0%3B%7D%3C/style%3E%0A%20%20%20%20%3Cscript%20src%3D%22https%3A//cdn.jsdelivr.net/npm/leaflet%401.6.0/dist/leaflet.js%22%3E%3C/script%3E%0A%20%20%20%20%3Cscript%20src%3D%22https%3A//code.jquery.com/jquery-1.12.4.min.js%22%3E%3C/script%3E%0A%20%20%20%20%3Cscript%20src%3D%22https%3A//maxcdn.bootstrapcdn.com/bootstrap/3.2.0/js/bootstrap.min.js%22%3E%3C/script%3E%0A%20%20%20%20%3Cscript%20src%3D%22https%3A//cdnjs.cloudflare.com/ajax/libs/Leaflet.awesome-markers/2.0.2/leaflet.awesome-markers.js%22%3E%3C/script%3E%0A%20%20%20%20%3Clink%20rel%3D%22stylesheet%22%20href%3D%22https%3A//cdn.jsdelivr.net/npm/leaflet%401.6.0/dist/leaflet.css%22/%3E%0A%20%20%20%20%3Clink%20rel%3D%22stylesheet%22%20href%3D%22https%3A//maxcdn.bootstrapcdn.com/bootstrap/3.2.0/css/bootstrap.min.css%22/%3E%0A%20%20%20%20%3Clink%20rel%3D%22stylesheet%22%20href%3D%22https%3A//maxcdn.bootstrapcdn.com/bootstrap/3.2.0/css/bootstrap-theme.min.css%22/%3E%0A%20%20%20%20%3Clink%20rel%3D%22stylesheet%22%20href%3D%22https%3A//maxcdn.bootstrapcdn.com/font-awesome/4.6.3/css/font-awesome.min.css%22/%3E%0A%20%20%20%20%3Clink%20rel%3D%22stylesheet%22%20href%3D%22https%3A//cdnjs.cloudflare.com/ajax/libs/Leaflet.awesome-markers/2.0.2/leaflet.awesome-markers.css%22/%3E%0A%20%20%20%20%3Clink%20rel%3D%22stylesheet%22%20href%3D%22https%3A//cdn.jsdelivr.net/gh/python-visualization/folium/folium/templates/leaflet.awesome.rotate.min.css%22/%3E%0A%20%20%20%20%0A%20%20%20%20%20%20%20%20%20%20%20%20%3Cmeta%20name%3D%22viewport%22%20content%3D%22width%3Ddevice-width%2C%0A%20%20%20%20%20%20%20%20%20%20%20%20%20%20%20%20initial-scale%3D1.0%2C%20maximum-scale%3D1.0%2C%20user-scalable%3Dno%22%20/%3E%0A%20%20%20%20%20%20%20%20%20%20%20%20%3Cstyle%3E%0A%20%20%20%20%20%20%20%20%20%20%20%20%20%20%20%20%23map_4fd38b12ea1542b9a138914b266c9879%20%7B%0A%20%20%20%20%20%20%20%20%20%20%20%20%20%20%20%20%20%20%20%20position%3A%20relative%3B%0A%20%20%20%20%20%20%20%20%20%20%20%20%20%20%20%20%20%20%20%20width%3A%20100.0%25%3B%0A%20%20%20%20%20%20%20%20%20%20%20%20%20%20%20%20%20%20%20%20height%3A%20100.0%25%3B%0A%20%20%20%20%20%20%20%20%20%20%20%20%20%20%20%20%20%20%20%20left%3A%200.0%25%3B%0A%20%20%20%20%20%20%20%20%20%20%20%20%20%20%20%20%20%20%20%20top%3A%200.0%25%3B%0A%20%20%20%20%20%20%20%20%20%20%20%20%20%20%20%20%7D%0A%20%20%20%20%20%20%20%20%20%20%20%20%3C/style%3E%0A%20%20%20%20%20%20%20%20%0A%20%20%20%20%3Cscript%20src%3D%22https%3A//cdn.jsdelivr.net/gh/python-visualization/folium%40master/folium/templates/leaflet_heat.min.js%22%3E%3C/script%3E%0A%3C/head%3E%0A%3Cbody%3E%20%20%20%20%0A%20%20%20%20%0A%20%20%20%20%20%20%20%20%20%20%20%20%3Cdiv%20class%3D%22folium-map%22%20id%3D%22map_4fd38b12ea1542b9a138914b266c9879%22%20%3E%3C/div%3E%0A%20%20%20%20%20%20%20%20%0A%3C/body%3E%0A%3Cscript%3E%20%20%20%20%0A%20%20%20%20%0A%20%20%20%20%20%20%20%20%20%20%20%20var%20map_4fd38b12ea1542b9a138914b266c9879%20%3D%20L.map%28%0A%20%20%20%20%20%20%20%20%20%20%20%20%20%20%20%20%22map_4fd38b12ea1542b9a138914b266c9879%22%2C%0A%20%20%20%20%20%20%20%20%20%20%20%20%20%20%20%20%7B%0A%20%20%20%20%20%20%20%20%20%20%20%20%20%20%20%20%20%20%20%20center%3A%20%5B41.0%2C%20-75.0%5D%2C%0A%20%20%20%20%20%20%20%20%20%20%20%20%20%20%20%20%20%20%20%20crs%3A%20L.CRS.EPSG3857%2C%0A%20%20%20%20%20%20%20%20%20%20%20%20%20%20%20%20%20%20%20%20zoom%3A%206%2C%0A%20%20%20%20%20%20%20%20%20%20%20%20%20%20%20%20%20%20%20%20zoomControl%3A%20true%2C%0A%20%20%20%20%20%20%20%20%20%20%20%20%20%20%20%20%20%20%20%20preferCanvas%3A%20false%2C%0A%20%20%20%20%20%20%20%20%20%20%20%20%20%20%20%20%7D%0A%20%20%20%20%20%20%20%20%20%20%20%20%29%3B%0A%0A%20%20%20%20%20%20%20%20%20%20%20%20%0A%0A%20%20%20%20%20%20%20%20%0A%20%20%20%20%0A%20%20%20%20%20%20%20%20%20%20%20%20var%20tile_layer_ab76105eda434d2db0c18b21177ed10f%20%3D%20L.tileLayer%28%0A%20%20%20%20%20%20%20%20%20%20%20%20%20%20%20%20%22https%3A//%7Bs%7D.tile.openstreetmap.org/%7Bz%7D/%7Bx%7D/%7By%7D.png%22%2C%0A%20%20%20%20%20%20%20%20%20%20%20%20%20%20%20%20%7B%22attribution%22%3A%20%22Data%20by%20%5Cu0026copy%3B%20%5Cu003ca%20href%3D%5C%22http%3A//openstreetmap.org%5C%22%5Cu003eOpenStreetMap%5Cu003c/a%5Cu003e%2C%20under%20%5Cu003ca%20href%3D%5C%22http%3A//www.openstreetmap.org/copyright%5C%22%5Cu003eODbL%5Cu003c/a%5Cu003e.%22%2C%20%22detectRetina%22%3A%20false%2C%20%22maxNativeZoom%22%3A%2018%2C%20%22maxZoom%22%3A%2018%2C%20%22minZoom%22%3A%200%2C%20%22noWrap%22%3A%20false%2C%20%22opacity%22%3A%201%2C%20%22subdomains%22%3A%20%22abc%22%2C%20%22tms%22%3A%20false%7D%0A%20%20%20%20%20%20%20%20%20%20%20%20%29.addTo%28map_4fd38b12ea1542b9a138914b266c9879%29%3B%0A%20%20%20%20%20%20%20%20%0A%20%20%20%20%0A%20%20%20%20%20%20%20%20%20%20%20%20var%20heat_map_a6a1db88e8a743329019f53fe7032c36%20%3D%20L.heatLayer%28%0A%20%20%20%20%20%20%20%20%20%20%20%20%20%20%20%20%5B%5B42.663485%2C%20-73.824365%2C%201.0%5D%2C%20%5B42.252735%2C%20-78.012665%2C%201.0%5D%2C%20%5B40.840755%2C%20-73.89137%2C%201.0%5D%2C%20%5B42.115115%2C%20-75.896675%2C%201.0%5D%2C%20%5B42.244110000000006%2C%20-78.640705%2C%200.0%5D%2C%20%5B42.933170000000004%2C%20-76.5702%2C%201.0%5D%2C%20%5B42.18464%2C%20-79.31423000000002%2C%201.0%5D%2C%20%5B42.146355%2C%20-76.80446%2C%201.0%5D%2C%20%5B42.497659999999996%2C%20-75.566615%2C%201.0%5D%2C%20%5B44.77087%2C%20-73.56551999999998%2C%201.0%5D%2C%20%5B42.277465%2C%20-73.58520999999999%2C%201.0%5D%2C%20%5B42.60021%2C%20-76.10167%2C%201.0%5D%2C%20%5B42.17362%2C%20-74.98716999999998%2C%201.0%5D%2C%20%5B41.70834%2C%20-73.79431%2C%201.0%5D%2C%20%5B42.85523%2C%20-78.770625%2C%201.0%5D%2C%20%5B44.194915%2C%20-73.669245%2C%201.0%5D%2C%20%5B44.83844000000001%2C%20-74.31574%2C%201.0%5D%2C%20%5B43.06853%2C%20-74.37677%2C%201.0%5D%2C%20%5B42.99758%2C%20-78.1925%2C%201.0%5D%2C%20%5B42.258539999999996%2C%20-74.095455%2C%201.0%5D%2C%20%5B43.56228%2C%20-74.42979%2C%201.0%5D%2C%20%5B43.06454%2C%20-74.99356999999998%2C%201.0%5D%2C%20%5B43.99065%2C%20-75.96670999999998%2C%201.0%5D%2C%20%5B40.648300000000006%2C%20-73.98046500000001%2C%201.0%5D%2C%20%5B43.74097%2C%20-75.45362%2C%201.0%5D%2C%20%5B42.66868%2C%20-77.76379%2C%201.0%5D%2C%20%5B42.97546%2C%20-75.73168000000003%2C%201.0%5D%2C%20%5B43.15114000000001%2C%20-77.65951%2C%201.0%5D%2C%20%5B42.92784%2C%20-74.43791%2C%201.0%5D%2C%20%5B40.70102%2C%20-73.58281%2C%201.0%5D%2C%20%5B40.77151%2C%20-73.97386999999998%2C%201.0%5D%2C%20%5B43.141639999999995%2C%20-78.82822%2C%201.0%5D%2C%20%5B43.1907%2C%20-75.37144%2C%201.0%5D%2C%20%5B43.056955%2C%20-76.15429499999999%2C%201.0%5D%2C%20%5B42.91269000000001%2C%20-77.27698000000002%2C%201.0%5D%2C%20%5B41.421215000000004%2C%20-74.28813500000001%2C%201.0%5D%2C%20%5B43.29373%2C%20-78.19328%2C%201.0%5D%2C%20%5B43.41745%2C%20-76.16983%2C%201.0%5D%2C%20%5B42.59169%2C%20-75.051705%2C%201.0%5D%2C%20%5B41.41451%2C%20-73.653625%2C%201.0%5D%2C%20%5B40.731120000000004%2C%20-73.83385499999999%2C%201.0%5D%2C%20%5B42.64416%2C%20-73.58188%2C%201.0%5D%2C%20%5B40.607325%2C%20-74.15207000000001%2C%200.0%5D%2C%20%5B41.10435%2C%20-74.006245%2C%201.0%5D%2C%20%5B43.045495%2C%20-73.79077000000001%2C%201.0%5D%2C%20%5B42.79513%2C%20-74.01276999999997%2C%201.0%5D%2C%20%5B42.6426%2C%20-74.44985%2C%201.0%5D%2C%20%5B42.35527%2C%20-76.82943%2C%201.0%5D%2C%20%5B42.901865%2C%20-76.81681500000002%2C%201.0%5D%2C%20%5B44.581905%2C%20-75.11351000000002%2C%200.0%5D%2C%20%5B42.26493%2C%20-77.3913%2C%201.0%5D%2C%20%5B40.810215%2C%20-73.14754500000001%2C%201.0%5D%2C%20%5B41.774315%2C%20-74.75978500000002%2C%201.0%5D%2C%20%5B42.09238%2C%20-76.35699%2C%201.0%5D%2C%20%5B42.45214%2C%20-76.49457%2C%201.0%5D%2C%20%5B41.93872%2C%20-74.25589000000002%2C%201.0%5D%2C%20%5B43.56863%2C%20-73.78448%2C%201.0%5D%2C%20%5B43.25502%2C%20-73.40401999999997%2C%201.0%5D%2C%20%5B43.08682%2C%20-77.04966999999998%2C%201.0%5D%2C%20%5B41.03268%2C%20-73.80439%2C%201.0%5D%2C%20%5B42.71679%2C%20-78.25467499999999%2C%201.0%5D%2C%20%5B42.65453%2C%20-77.077195%2C%201.0%5D%5D%2C%0A%20%20%20%20%20%20%20%20%20%20%20%20%20%20%20%20%7B%22blur%22%3A%2015%2C%20%22maxZoom%22%3A%2018%2C%20%22minOpacity%22%3A%200.5%2C%20%22radius%22%3A%2025%7D%0A%20%20%20%20%20%20%20%20%20%20%20%20%29.addTo%28map_4fd38b12ea1542b9a138914b266c9879%29%3B%0A%20%20%20%20%20%20%20%20%0A%20%20%20%20%0A%20%20%20%20%20%20%20%20%20%20%20%20var%20marker_379659a7b3404a50a189bb33734c5c15%20%3D%20L.marker%28%0A%20%20%20%20%20%20%20%20%20%20%20%20%20%20%20%20%5B42.663485%2C%20-73.824365%5D%2C%0A%20%20%20%20%20%20%20%20%20%20%20%20%20%20%20%20%7B%7D%0A%20%20%20%20%20%20%20%20%20%20%20%20%29.addTo%28map_4fd38b12ea1542b9a138914b266c9879%29%3B%0A%20%20%20%20%20%20%20%20%0A%20%20%20%20%0A%20%20%20%20%20%20%20%20var%20popup_b9e843c3f6564b5e820bcf3877f89c4f%20%3D%20L.popup%28%7B%22autoClose%22%3A%20false%2C%20%22maxWidth%22%3A%20%22100%25%22%7D%29%3B%0A%0A%20%20%20%20%20%20%20%20%0A%20%20%20%20%20%20%20%20%20%20%20%20var%20html_e15efd40c7a94e75a276ebd8cc696edc%20%3D%20%24%28%60%3Cdiv%20id%3D%22html_e15efd40c7a94e75a276ebd8cc696edc%22%20style%3D%22width%3A%20100.0%25%3B%20height%3A%20100.0%25%3B%22%3E%20%20Albany%20County%3C/div%3E%60%29%5B0%5D%3B%0A%20%20%20%20%20%20%20%20%20%20%20%20popup_b9e843c3f6564b5e820bcf3877f89c4f.setContent%28html_e15efd40c7a94e75a276ebd8cc696edc%29%3B%0A%20%20%20%20%20%20%20%20%0A%0A%20%20%20%20%20%20%20%20marker_379659a7b3404a50a189bb33734c5c15.bindPopup%28popup_b9e843c3f6564b5e820bcf3877f89c4f%29%0A%20%20%20%20%20%20%20%20.openPopup%28%29%3B%0A%0A%20%20%20%20%20%20%20%20%0A%20%20%20%20%0A%20%20%20%20%0A%20%20%20%20%20%20%20%20%20%20%20%20var%20marker_4ce3edb4ac794d1291bc35bf7e7f1433%20%3D%20L.marker%28%0A%20%20%20%20%20%20%20%20%20%20%20%20%20%20%20%20%5B42.252735%2C%20-78.012665%5D%2C%0A%20%20%20%20%20%20%20%20%20%20%20%20%20%20%20%20%7B%7D%0A%20%20%20%20%20%20%20%20%20%20%20%20%29.addTo%28map_4fd38b12ea1542b9a138914b266c9879%29%3B%0A%20%20%20%20%20%20%20%20%0A%20%20%20%20%0A%20%20%20%20%20%20%20%20var%20popup_fc78e4ad8eca4128856e8a111b369067%20%3D%20L.popup%28%7B%22autoClose%22%3A%20false%2C%20%22maxWidth%22%3A%20%22100%25%22%7D%29%3B%0A%0A%20%20%20%20%20%20%20%20%0A%20%20%20%20%20%20%20%20%20%20%20%20var%20html_c5f7ac5332034594a161bddc50966646%20%3D%20%24%28%60%3Cdiv%20id%3D%22html_c5f7ac5332034594a161bddc50966646%22%20style%3D%22width%3A%20100.0%25%3B%20height%3A%20100.0%25%3B%22%3E%20%20Allegany%20County%3C/div%3E%60%29%5B0%5D%3B%0A%20%20%20%20%20%20%20%20%20%20%20%20popup_fc78e4ad8eca4128856e8a111b369067.setContent%28html_c5f7ac5332034594a161bddc50966646%29%3B%0A%20%20%20%20%20%20%20%20%0A%0A%20%20%20%20%20%20%20%20marker_4ce3edb4ac794d1291bc35bf7e7f1433.bindPopup%28popup_fc78e4ad8eca4128856e8a111b369067%29%0A%20%20%20%20%20%20%20%20.openPopup%28%29%3B%0A%0A%20%20%20%20%20%20%20%20%0A%20%20%20%20%0A%20%20%20%20%0A%20%20%20%20%20%20%20%20%20%20%20%20var%20marker_f053b772b07646eead7852026b479025%20%3D%20L.marker%28%0A%20%20%20%20%20%20%20%20%20%20%20%20%20%20%20%20%5B40.840755%2C%20-73.89137%5D%2C%0A%20%20%20%20%20%20%20%20%20%20%20%20%20%20%20%20%7B%7D%0A%20%20%20%20%20%20%20%20%20%20%20%20%29.addTo%28map_4fd38b12ea1542b9a138914b266c9879%29%3B%0A%20%20%20%20%20%20%20%20%0A%20%20%20%20%0A%20%20%20%20%20%20%20%20var%20popup_4303248329c5405a86da47ea12dc4186%20%3D%20L.popup%28%7B%22autoClose%22%3A%20false%2C%20%22maxWidth%22%3A%20%22100%25%22%7D%29%3B%0A%0A%20%20%20%20%20%20%20%20%0A%20%20%20%20%20%20%20%20%20%20%20%20var%20html_95a28aa31af345fcad6b4cd0450d7747%20%3D%20%24%28%60%3Cdiv%20id%3D%22html_95a28aa31af345fcad6b4cd0450d7747%22%20style%3D%22width%3A%20100.0%25%3B%20height%3A%20100.0%25%3B%22%3E%20%20Bronx%20County%3C/div%3E%60%29%5B0%5D%3B%0A%20%20%20%20%20%20%20%20%20%20%20%20popup_4303248329c5405a86da47ea12dc4186.setContent%28html_95a28aa31af345fcad6b4cd0450d7747%29%3B%0A%20%20%20%20%20%20%20%20%0A%0A%20%20%20%20%20%20%20%20marker_f053b772b07646eead7852026b479025.bindPopup%28popup_4303248329c5405a86da47ea12dc4186%29%0A%20%20%20%20%20%20%20%20.openPopup%28%29%3B%0A%0A%20%20%20%20%20%20%20%20%0A%20%20%20%20%0A%20%20%20%20%0A%20%20%20%20%20%20%20%20%20%20%20%20var%20marker_af1ed5e418884954919b9686043dda57%20%3D%20L.marker%28%0A%20%20%20%20%20%20%20%20%20%20%20%20%20%20%20%20%5B42.115115%2C%20-75.896675%5D%2C%0A%20%20%20%20%20%20%20%20%20%20%20%20%20%20%20%20%7B%7D%0A%20%20%20%20%20%20%20%20%20%20%20%20%29.addTo%28map_4fd38b12ea1542b9a138914b266c9879%29%3B%0A%20%20%20%20%20%20%20%20%0A%20%20%20%20%0A%20%20%20%20%20%20%20%20var%20popup_e17395d3e81144f4b1a57b908de8d113%20%3D%20L.popup%28%7B%22autoClose%22%3A%20false%2C%20%22maxWidth%22%3A%20%22100%25%22%7D%29%3B%0A%0A%20%20%20%20%20%20%20%20%0A%20%20%20%20%20%20%20%20%20%20%20%20var%20html_1793843d798547338983daf6dce747fe%20%3D%20%24%28%60%3Cdiv%20id%3D%22html_1793843d798547338983daf6dce747fe%22%20style%3D%22width%3A%20100.0%25%3B%20height%3A%20100.0%25%3B%22%3E%20%20Broome%20County%3C/div%3E%60%29%5B0%5D%3B%0A%20%20%20%20%20%20%20%20%20%20%20%20popup_e17395d3e81144f4b1a57b908de8d113.setContent%28html_1793843d798547338983daf6dce747fe%29%3B%0A%20%20%20%20%20%20%20%20%0A%0A%20%20%20%20%20%20%20%20marker_af1ed5e418884954919b9686043dda57.bindPopup%28popup_e17395d3e81144f4b1a57b908de8d113%29%0A%20%20%20%20%20%20%20%20.openPopup%28%29%3B%0A%0A%20%20%20%20%20%20%20%20%0A%20%20%20%20%0A%20%20%20%20%0A%20%20%20%20%20%20%20%20%20%20%20%20var%20marker_054b13f25ffb4967b9bcedba4fcd21dc%20%3D%20L.marker%28%0A%20%20%20%20%20%20%20%20%20%20%20%20%20%20%20%20%5B42.244110000000006%2C%20-78.640705%5D%2C%0A%20%20%20%20%20%20%20%20%20%20%20%20%20%20%20%20%7B%7D%0A%20%20%20%20%20%20%20%20%20%20%20%20%29.addTo%28map_4fd38b12ea1542b9a138914b266c9879%29%3B%0A%20%20%20%20%20%20%20%20%0A%20%20%20%20%0A%20%20%20%20%20%20%20%20var%20popup_a6733915283c4a859ee10c38402eeb12%20%3D%20L.popup%28%7B%22autoClose%22%3A%20false%2C%20%22maxWidth%22%3A%20%22100%25%22%7D%29%3B%0A%0A%20%20%20%20%20%20%20%20%0A%20%20%20%20%20%20%20%20%20%20%20%20var%20html_25c80c6c53b04b85943824596c2a8d1d%20%3D%20%24%28%60%3Cdiv%20id%3D%22html_25c80c6c53b04b85943824596c2a8d1d%22%20style%3D%22width%3A%20100.0%25%3B%20height%3A%20100.0%25%3B%22%3E%20%20Cattaraugus%20County%3C/div%3E%60%29%5B0%5D%3B%0A%20%20%20%20%20%20%20%20%20%20%20%20popup_a6733915283c4a859ee10c38402eeb12.setContent%28html_25c80c6c53b04b85943824596c2a8d1d%29%3B%0A%20%20%20%20%20%20%20%20%0A%0A%20%20%20%20%20%20%20%20marker_054b13f25ffb4967b9bcedba4fcd21dc.bindPopup%28popup_a6733915283c4a859ee10c38402eeb12%29%0A%20%20%20%20%20%20%20%20.openPopup%28%29%3B%0A%0A%20%20%20%20%20%20%20%20%0A%20%20%20%20%0A%20%20%20%20%0A%20%20%20%20%20%20%20%20%20%20%20%20var%20marker_6e7ddc4a3bd54a9ba0cf8f09c4d5f42a%20%3D%20L.marker%28%0A%20%20%20%20%20%20%20%20%20%20%20%20%20%20%20%20%5B42.933170000000004%2C%20-76.5702%5D%2C%0A%20%20%20%20%20%20%20%20%20%20%20%20%20%20%20%20%7B%7D%0A%20%20%20%20%20%20%20%20%20%20%20%20%29.addTo%28map_4fd38b12ea1542b9a138914b266c9879%29%3B%0A%20%20%20%20%20%20%20%20%0A%20%20%20%20%0A%20%20%20%20%20%20%20%20var%20popup_4c8d4fe61b674dea9288718908dc0f32%20%3D%20L.popup%28%7B%22autoClose%22%3A%20false%2C%20%22maxWidth%22%3A%20%22100%25%22%7D%29%3B%0A%0A%20%20%20%20%20%20%20%20%0A%20%20%20%20%20%20%20%20%20%20%20%20var%20html_51d9988522f64582aa3ba8a734c011a9%20%3D%20%24%28%60%3Cdiv%20id%3D%22html_51d9988522f64582aa3ba8a734c011a9%22%20style%3D%22width%3A%20100.0%25%3B%20height%3A%20100.0%25%3B%22%3E%20%20Cayuga%20County%3C/div%3E%60%29%5B0%5D%3B%0A%20%20%20%20%20%20%20%20%20%20%20%20popup_4c8d4fe61b674dea9288718908dc0f32.setContent%28html_51d9988522f64582aa3ba8a734c011a9%29%3B%0A%20%20%20%20%20%20%20%20%0A%0A%20%20%20%20%20%20%20%20marker_6e7ddc4a3bd54a9ba0cf8f09c4d5f42a.bindPopup%28popup_4c8d4fe61b674dea9288718908dc0f32%29%0A%20%20%20%20%20%20%20%20.openPopup%28%29%3B%0A%0A%20%20%20%20%20%20%20%20%0A%20%20%20%20%0A%20%20%20%20%0A%20%20%20%20%20%20%20%20%20%20%20%20var%20marker_a1185897144e4dd3bdeadb8dbecebc86%20%3D%20L.marker%28%0A%20%20%20%20%20%20%20%20%20%20%20%20%20%20%20%20%5B42.18464%2C%20-79.31423000000002%5D%2C%0A%20%20%20%20%20%20%20%20%20%20%20%20%20%20%20%20%7B%7D%0A%20%20%20%20%20%20%20%20%20%20%20%20%29.addTo%28map_4fd38b12ea1542b9a138914b266c9879%29%3B%0A%20%20%20%20%20%20%20%20%0A%20%20%20%20%0A%20%20%20%20%20%20%20%20var%20popup_2a803d65a66f43cf9fac45dc96d02796%20%3D%20L.popup%28%7B%22autoClose%22%3A%20false%2C%20%22maxWidth%22%3A%20%22100%25%22%7D%29%3B%0A%0A%20%20%20%20%20%20%20%20%0A%20%20%20%20%20%20%20%20%20%20%20%20var%20html_db0193e4a0c74c3c98ac0125e0789930%20%3D%20%24%28%60%3Cdiv%20id%3D%22html_db0193e4a0c74c3c98ac0125e0789930%22%20style%3D%22width%3A%20100.0%25%3B%20height%3A%20100.0%25%3B%22%3E%20%20Chautauqua%20County%3C/div%3E%60%29%5B0%5D%3B%0A%20%20%20%20%20%20%20%20%20%20%20%20popup_2a803d65a66f43cf9fac45dc96d02796.setContent%28html_db0193e4a0c74c3c98ac0125e0789930%29%3B%0A%20%20%20%20%20%20%20%20%0A%0A%20%20%20%20%20%20%20%20marker_a1185897144e4dd3bdeadb8dbecebc86.bindPopup%28popup_2a803d65a66f43cf9fac45dc96d02796%29%0A%20%20%20%20%20%20%20%20.openPopup%28%29%3B%0A%0A%20%20%20%20%20%20%20%20%0A%20%20%20%20%0A%20%20%20%20%0A%20%20%20%20%20%20%20%20%20%20%20%20var%20marker_847614d6339f479e87352f4baf9dd62c%20%3D%20L.marker%28%0A%20%20%20%20%20%20%20%20%20%20%20%20%20%20%20%20%5B42.146355%2C%20-76.80446%5D%2C%0A%20%20%20%20%20%20%20%20%20%20%20%20%20%20%20%20%7B%7D%0A%20%20%20%20%20%20%20%20%20%20%20%20%29.addTo%28map_4fd38b12ea1542b9a138914b266c9879%29%3B%0A%20%20%20%20%20%20%20%20%0A%20%20%20%20%0A%20%20%20%20%20%20%20%20var%20popup_6454afc7117f4c369f84355a9cc95108%20%3D%20L.popup%28%7B%22autoClose%22%3A%20false%2C%20%22maxWidth%22%3A%20%22100%25%22%7D%29%3B%0A%0A%20%20%20%20%20%20%20%20%0A%20%20%20%20%20%20%20%20%20%20%20%20var%20html_449505536f4741aebf44df79984b7220%20%3D%20%24%28%60%3Cdiv%20id%3D%22html_449505536f4741aebf44df79984b7220%22%20style%3D%22width%3A%20100.0%25%3B%20height%3A%20100.0%25%3B%22%3E%20%20Chemung%20County%3C/div%3E%60%29%5B0%5D%3B%0A%20%20%20%20%20%20%20%20%20%20%20%20popup_6454afc7117f4c369f84355a9cc95108.setContent%28html_449505536f4741aebf44df79984b7220%29%3B%0A%20%20%20%20%20%20%20%20%0A%0A%20%20%20%20%20%20%20%20marker_847614d6339f479e87352f4baf9dd62c.bindPopup%28popup_6454afc7117f4c369f84355a9cc95108%29%0A%20%20%20%20%20%20%20%20.openPopup%28%29%3B%0A%0A%20%20%20%20%20%20%20%20%0A%20%20%20%20%0A%20%20%20%20%0A%20%20%20%20%20%20%20%20%20%20%20%20var%20marker_3134e3b6fa43483a9c5949aed59bdb95%20%3D%20L.marker%28%0A%20%20%20%20%20%20%20%20%20%20%20%20%20%20%20%20%5B42.497659999999996%2C%20-75.566615%5D%2C%0A%20%20%20%20%20%20%20%20%20%20%20%20%20%20%20%20%7B%7D%0A%20%20%20%20%20%20%20%20%20%20%20%20%29.addTo%28map_4fd38b12ea1542b9a138914b266c9879%29%3B%0A%20%20%20%20%20%20%20%20%0A%20%20%20%20%0A%20%20%20%20%20%20%20%20var%20popup_dab096b0397a4b2b91228307a0a67d27%20%3D%20L.popup%28%7B%22autoClose%22%3A%20false%2C%20%22maxWidth%22%3A%20%22100%25%22%7D%29%3B%0A%0A%20%20%20%20%20%20%20%20%0A%20%20%20%20%20%20%20%20%20%20%20%20var%20html_94dd839abcc14676aafaabfb970f17ed%20%3D%20%24%28%60%3Cdiv%20id%3D%22html_94dd839abcc14676aafaabfb970f17ed%22%20style%3D%22width%3A%20100.0%25%3B%20height%3A%20100.0%25%3B%22%3E%20%20Chenango%20County%3C/div%3E%60%29%5B0%5D%3B%0A%20%20%20%20%20%20%20%20%20%20%20%20popup_dab096b0397a4b2b91228307a0a67d27.setContent%28html_94dd839abcc14676aafaabfb970f17ed%29%3B%0A%20%20%20%20%20%20%20%20%0A%0A%20%20%20%20%20%20%20%20marker_3134e3b6fa43483a9c5949aed59bdb95.bindPopup%28popup_dab096b0397a4b2b91228307a0a67d27%29%0A%20%20%20%20%20%20%20%20.openPopup%28%29%3B%0A%0A%20%20%20%20%20%20%20%20%0A%20%20%20%20%0A%20%20%20%20%0A%20%20%20%20%20%20%20%20%20%20%20%20var%20marker_136f0b7b3c1e47c9b32e65e49e92c4eb%20%3D%20L.marker%28%0A%20%20%20%20%20%20%20%20%20%20%20%20%20%20%20%20%5B44.77087%2C%20-73.56551999999998%5D%2C%0A%20%20%20%20%20%20%20%20%20%20%20%20%20%20%20%20%7B%7D%0A%20%20%20%20%20%20%20%20%20%20%20%20%29.addTo%28map_4fd38b12ea1542b9a138914b266c9879%29%3B%0A%20%20%20%20%20%20%20%20%0A%20%20%20%20%0A%20%20%20%20%20%20%20%20var%20popup_fa82e4e0ddda4a5abe6242b7da39b197%20%3D%20L.popup%28%7B%22autoClose%22%3A%20false%2C%20%22maxWidth%22%3A%20%22100%25%22%7D%29%3B%0A%0A%20%20%20%20%20%20%20%20%0A%20%20%20%20%20%20%20%20%20%20%20%20var%20html_cb01e796057b4b919b8f6af51273709e%20%3D%20%24%28%60%3Cdiv%20id%3D%22html_cb01e796057b4b919b8f6af51273709e%22%20style%3D%22width%3A%20100.0%25%3B%20height%3A%20100.0%25%3B%22%3E%20%20Clinton%20County%3C/div%3E%60%29%5B0%5D%3B%0A%20%20%20%20%20%20%20%20%20%20%20%20popup_fa82e4e0ddda4a5abe6242b7da39b197.setContent%28html_cb01e796057b4b919b8f6af51273709e%29%3B%0A%20%20%20%20%20%20%20%20%0A%0A%20%20%20%20%20%20%20%20marker_136f0b7b3c1e47c9b32e65e49e92c4eb.bindPopup%28popup_fa82e4e0ddda4a5abe6242b7da39b197%29%0A%20%20%20%20%20%20%20%20.openPopup%28%29%3B%0A%0A%20%20%20%20%20%20%20%20%0A%20%20%20%20%0A%20%20%20%20%0A%20%20%20%20%20%20%20%20%20%20%20%20var%20marker_4f4bd85101cc49f0aaa77ebc402edd52%20%3D%20L.marker%28%0A%20%20%20%20%20%20%20%20%20%20%20%20%20%20%20%20%5B42.277465%2C%20-73.58520999999999%5D%2C%0A%20%20%20%20%20%20%20%20%20%20%20%20%20%20%20%20%7B%7D%0A%20%20%20%20%20%20%20%20%20%20%20%20%29.addTo%28map_4fd38b12ea1542b9a138914b266c9879%29%3B%0A%20%20%20%20%20%20%20%20%0A%20%20%20%20%0A%20%20%20%20%20%20%20%20var%20popup_09713263d93d4260859863cabf1e6f26%20%3D%20L.popup%28%7B%22autoClose%22%3A%20false%2C%20%22maxWidth%22%3A%20%22100%25%22%7D%29%3B%0A%0A%20%20%20%20%20%20%20%20%0A%20%20%20%20%20%20%20%20%20%20%20%20var%20html_805852300057405faa793f6bed0cabe8%20%3D%20%24%28%60%3Cdiv%20id%3D%22html_805852300057405faa793f6bed0cabe8%22%20style%3D%22width%3A%20100.0%25%3B%20height%3A%20100.0%25%3B%22%3E%20%20Columbia%20County%3C/div%3E%60%29%5B0%5D%3B%0A%20%20%20%20%20%20%20%20%20%20%20%20popup_09713263d93d4260859863cabf1e6f26.setContent%28html_805852300057405faa793f6bed0cabe8%29%3B%0A%20%20%20%20%20%20%20%20%0A%0A%20%20%20%20%20%20%20%20marker_4f4bd85101cc49f0aaa77ebc402edd52.bindPopup%28popup_09713263d93d4260859863cabf1e6f26%29%0A%20%20%20%20%20%20%20%20.openPopup%28%29%3B%0A%0A%20%20%20%20%20%20%20%20%0A%20%20%20%20%0A%20%20%20%20%0A%20%20%20%20%20%20%20%20%20%20%20%20var%20marker_d32a7eb2f6624b21b32ae582e44af00f%20%3D%20L.marker%28%0A%20%20%20%20%20%20%20%20%20%20%20%20%20%20%20%20%5B42.60021%2C%20-76.10167%5D%2C%0A%20%20%20%20%20%20%20%20%20%20%20%20%20%20%20%20%7B%7D%0A%20%20%20%20%20%20%20%20%20%20%20%20%29.addTo%28map_4fd38b12ea1542b9a138914b266c9879%29%3B%0A%20%20%20%20%20%20%20%20%0A%20%20%20%20%0A%20%20%20%20%20%20%20%20var%20popup_c610d32bb18a4565bf3afc2a6052784f%20%3D%20L.popup%28%7B%22autoClose%22%3A%20false%2C%20%22maxWidth%22%3A%20%22100%25%22%7D%29%3B%0A%0A%20%20%20%20%20%20%20%20%0A%20%20%20%20%20%20%20%20%20%20%20%20var%20html_5f781b1210fc400587411c29289d85dc%20%3D%20%24%28%60%3Cdiv%20id%3D%22html_5f781b1210fc400587411c29289d85dc%22%20style%3D%22width%3A%20100.0%25%3B%20height%3A%20100.0%25%3B%22%3E%20%20Cortland%20County%3C/div%3E%60%29%5B0%5D%3B%0A%20%20%20%20%20%20%20%20%20%20%20%20popup_c610d32bb18a4565bf3afc2a6052784f.setContent%28html_5f781b1210fc400587411c29289d85dc%29%3B%0A%20%20%20%20%20%20%20%20%0A%0A%20%20%20%20%20%20%20%20marker_d32a7eb2f6624b21b32ae582e44af00f.bindPopup%28popup_c610d32bb18a4565bf3afc2a6052784f%29%0A%20%20%20%20%20%20%20%20.openPopup%28%29%3B%0A%0A%20%20%20%20%20%20%20%20%0A%20%20%20%20%0A%20%20%20%20%0A%20%20%20%20%20%20%20%20%20%20%20%20var%20marker_a17a50e70a8b4e33bf6e641c3742b87e%20%3D%20L.marker%28%0A%20%20%20%20%20%20%20%20%20%20%20%20%20%20%20%20%5B42.17362%2C%20-74.98716999999998%5D%2C%0A%20%20%20%20%20%20%20%20%20%20%20%20%20%20%20%20%7B%7D%0A%20%20%20%20%20%20%20%20%20%20%20%20%29.addTo%28map_4fd38b12ea1542b9a138914b266c9879%29%3B%0A%20%20%20%20%20%20%20%20%0A%20%20%20%20%0A%20%20%20%20%20%20%20%20var%20popup_901a5b22021f4771856998256e89ddd5%20%3D%20L.popup%28%7B%22autoClose%22%3A%20false%2C%20%22maxWidth%22%3A%20%22100%25%22%7D%29%3B%0A%0A%20%20%20%20%20%20%20%20%0A%20%20%20%20%20%20%20%20%20%20%20%20var%20html_82a9ea7255b74da99de3711640f3caaf%20%3D%20%24%28%60%3Cdiv%20id%3D%22html_82a9ea7255b74da99de3711640f3caaf%22%20style%3D%22width%3A%20100.0%25%3B%20height%3A%20100.0%25%3B%22%3E%20%20Delaware%20County%3C/div%3E%60%29%5B0%5D%3B%0A%20%20%20%20%20%20%20%20%20%20%20%20popup_901a5b22021f4771856998256e89ddd5.setContent%28html_82a9ea7255b74da99de3711640f3caaf%29%3B%0A%20%20%20%20%20%20%20%20%0A%0A%20%20%20%20%20%20%20%20marker_a17a50e70a8b4e33bf6e641c3742b87e.bindPopup%28popup_901a5b22021f4771856998256e89ddd5%29%0A%20%20%20%20%20%20%20%20.openPopup%28%29%3B%0A%0A%20%20%20%20%20%20%20%20%0A%20%20%20%20%0A%20%20%20%20%0A%20%20%20%20%20%20%20%20%20%20%20%20var%20marker_f1c5923ebfe74480855f4799baa7a5eb%20%3D%20L.marker%28%0A%20%20%20%20%20%20%20%20%20%20%20%20%20%20%20%20%5B41.70834%2C%20-73.79431%5D%2C%0A%20%20%20%20%20%20%20%20%20%20%20%20%20%20%20%20%7B%7D%0A%20%20%20%20%20%20%20%20%20%20%20%20%29.addTo%28map_4fd38b12ea1542b9a138914b266c9879%29%3B%0A%20%20%20%20%20%20%20%20%0A%20%20%20%20%0A%20%20%20%20%20%20%20%20var%20popup_e1e9379d7480453cb506dfb8eaf7942b%20%3D%20L.popup%28%7B%22autoClose%22%3A%20false%2C%20%22maxWidth%22%3A%20%22100%25%22%7D%29%3B%0A%0A%20%20%20%20%20%20%20%20%0A%20%20%20%20%20%20%20%20%20%20%20%20var%20html_f79d7c65da0b418fa28295b7a8442512%20%3D%20%24%28%60%3Cdiv%20id%3D%22html_f79d7c65da0b418fa28295b7a8442512%22%20style%3D%22width%3A%20100.0%25%3B%20height%3A%20100.0%25%3B%22%3E%20%20Dutchess%20County%3C/div%3E%60%29%5B0%5D%3B%0A%20%20%20%20%20%20%20%20%20%20%20%20popup_e1e9379d7480453cb506dfb8eaf7942b.setContent%28html_f79d7c65da0b418fa28295b7a8442512%29%3B%0A%20%20%20%20%20%20%20%20%0A%0A%20%20%20%20%20%20%20%20marker_f1c5923ebfe74480855f4799baa7a5eb.bindPopup%28popup_e1e9379d7480453cb506dfb8eaf7942b%29%0A%20%20%20%20%20%20%20%20.openPopup%28%29%3B%0A%0A%20%20%20%20%20%20%20%20%0A%20%20%20%20%0A%20%20%20%20%0A%20%20%20%20%20%20%20%20%20%20%20%20var%20marker_97062f81b8cb426d9ee1a61761f44610%20%3D%20L.marker%28%0A%20%20%20%20%20%20%20%20%20%20%20%20%20%20%20%20%5B42.85523%2C%20-78.770625%5D%2C%0A%20%20%20%20%20%20%20%20%20%20%20%20%20%20%20%20%7B%7D%0A%20%20%20%20%20%20%20%20%20%20%20%20%29.addTo%28map_4fd38b12ea1542b9a138914b266c9879%29%3B%0A%20%20%20%20%20%20%20%20%0A%20%20%20%20%0A%20%20%20%20%20%20%20%20var%20popup_f0fb448145824ec8817b3026e24a0f1a%20%3D%20L.popup%28%7B%22autoClose%22%3A%20false%2C%20%22maxWidth%22%3A%20%22100%25%22%7D%29%3B%0A%0A%20%20%20%20%20%20%20%20%0A%20%20%20%20%20%20%20%20%20%20%20%20var%20html_4d3551a6ae824dde9a5cc355ecbc1d5b%20%3D%20%24%28%60%3Cdiv%20id%3D%22html_4d3551a6ae824dde9a5cc355ecbc1d5b%22%20style%3D%22width%3A%20100.0%25%3B%20height%3A%20100.0%25%3B%22%3E%20%20Erie%20County%3C/div%3E%60%29%5B0%5D%3B%0A%20%20%20%20%20%20%20%20%20%20%20%20popup_f0fb448145824ec8817b3026e24a0f1a.setContent%28html_4d3551a6ae824dde9a5cc355ecbc1d5b%29%3B%0A%20%20%20%20%20%20%20%20%0A%0A%20%20%20%20%20%20%20%20marker_97062f81b8cb426d9ee1a61761f44610.bindPopup%28popup_f0fb448145824ec8817b3026e24a0f1a%29%0A%20%20%20%20%20%20%20%20.openPopup%28%29%3B%0A%0A%20%20%20%20%20%20%20%20%0A%20%20%20%20%0A%20%20%20%20%0A%20%20%20%20%20%20%20%20%20%20%20%20var%20marker_5b23c627ad784bf5aa227e5b820e2be9%20%3D%20L.marker%28%0A%20%20%20%20%20%20%20%20%20%20%20%20%20%20%20%20%5B44.194915%2C%20-73.669245%5D%2C%0A%20%20%20%20%20%20%20%20%20%20%20%20%20%20%20%20%7B%7D%0A%20%20%20%20%20%20%20%20%20%20%20%20%29.addTo%28map_4fd38b12ea1542b9a138914b266c9879%29%3B%0A%20%20%20%20%20%20%20%20%0A%20%20%20%20%0A%20%20%20%20%20%20%20%20var%20popup_b2aece856250412b9515e7ca2249c81e%20%3D%20L.popup%28%7B%22autoClose%22%3A%20false%2C%20%22maxWidth%22%3A%20%22100%25%22%7D%29%3B%0A%0A%20%20%20%20%20%20%20%20%0A%20%20%20%20%20%20%20%20%20%20%20%20var%20html_bff9424584ef4e9fac561468fbd34cd2%20%3D%20%24%28%60%3Cdiv%20id%3D%22html_bff9424584ef4e9fac561468fbd34cd2%22%20style%3D%22width%3A%20100.0%25%3B%20height%3A%20100.0%25%3B%22%3E%20%20Essex%20County%3C/div%3E%60%29%5B0%5D%3B%0A%20%20%20%20%20%20%20%20%20%20%20%20popup_b2aece856250412b9515e7ca2249c81e.setContent%28html_bff9424584ef4e9fac561468fbd34cd2%29%3B%0A%20%20%20%20%20%20%20%20%0A%0A%20%20%20%20%20%20%20%20marker_5b23c627ad784bf5aa227e5b820e2be9.bindPopup%28popup_b2aece856250412b9515e7ca2249c81e%29%0A%20%20%20%20%20%20%20%20.openPopup%28%29%3B%0A%0A%20%20%20%20%20%20%20%20%0A%20%20%20%20%0A%20%20%20%20%0A%20%20%20%20%20%20%20%20%20%20%20%20var%20marker_c02bd5dbb8d147df81f6fc1271a7b6df%20%3D%20L.marker%28%0A%20%20%20%20%20%20%20%20%20%20%20%20%20%20%20%20%5B44.83844000000001%2C%20-74.31574%5D%2C%0A%20%20%20%20%20%20%20%20%20%20%20%20%20%20%20%20%7B%7D%0A%20%20%20%20%20%20%20%20%20%20%20%20%29.addTo%28map_4fd38b12ea1542b9a138914b266c9879%29%3B%0A%20%20%20%20%20%20%20%20%0A%20%20%20%20%0A%20%20%20%20%20%20%20%20var%20popup_b57e516f86a747c08ec6f3f9d803bc60%20%3D%20L.popup%28%7B%22autoClose%22%3A%20false%2C%20%22maxWidth%22%3A%20%22100%25%22%7D%29%3B%0A%0A%20%20%20%20%20%20%20%20%0A%20%20%20%20%20%20%20%20%20%20%20%20var%20html_9faf667effc44454bb4c6e586d5295f0%20%3D%20%24%28%60%3Cdiv%20id%3D%22html_9faf667effc44454bb4c6e586d5295f0%22%20style%3D%22width%3A%20100.0%25%3B%20height%3A%20100.0%25%3B%22%3E%20%20Franklin%20County%3C/div%3E%60%29%5B0%5D%3B%0A%20%20%20%20%20%20%20%20%20%20%20%20popup_b57e516f86a747c08ec6f3f9d803bc60.setContent%28html_9faf667effc44454bb4c6e586d5295f0%29%3B%0A%20%20%20%20%20%20%20%20%0A%0A%20%20%20%20%20%20%20%20marker_c02bd5dbb8d147df81f6fc1271a7b6df.bindPopup%28popup_b57e516f86a747c08ec6f3f9d803bc60%29%0A%20%20%20%20%20%20%20%20.openPopup%28%29%3B%0A%0A%20%20%20%20%20%20%20%20%0A%20%20%20%20%0A%20%20%20%20%0A%20%20%20%20%20%20%20%20%20%20%20%20var%20marker_29b4d2bad017486782583810eeff5706%20%3D%20L.marker%28%0A%20%20%20%20%20%20%20%20%20%20%20%20%20%20%20%20%5B43.06853%2C%20-74.37677%5D%2C%0A%20%20%20%20%20%20%20%20%20%20%20%20%20%20%20%20%7B%7D%0A%20%20%20%20%20%20%20%20%20%20%20%20%29.addTo%28map_4fd38b12ea1542b9a138914b266c9879%29%3B%0A%20%20%20%20%20%20%20%20%0A%20%20%20%20%0A%20%20%20%20%20%20%20%20var%20popup_fd8f8dfcc5da404d9963721836cb75bc%20%3D%20L.popup%28%7B%22autoClose%22%3A%20false%2C%20%22maxWidth%22%3A%20%22100%25%22%7D%29%3B%0A%0A%20%20%20%20%20%20%20%20%0A%20%20%20%20%20%20%20%20%20%20%20%20var%20html_5085414278f840339acc5eee48f6cbc3%20%3D%20%24%28%60%3Cdiv%20id%3D%22html_5085414278f840339acc5eee48f6cbc3%22%20style%3D%22width%3A%20100.0%25%3B%20height%3A%20100.0%25%3B%22%3E%20%20Fulton%20County%3C/div%3E%60%29%5B0%5D%3B%0A%20%20%20%20%20%20%20%20%20%20%20%20popup_fd8f8dfcc5da404d9963721836cb75bc.setContent%28html_5085414278f840339acc5eee48f6cbc3%29%3B%0A%20%20%20%20%20%20%20%20%0A%0A%20%20%20%20%20%20%20%20marker_29b4d2bad017486782583810eeff5706.bindPopup%28popup_fd8f8dfcc5da404d9963721836cb75bc%29%0A%20%20%20%20%20%20%20%20.openPopup%28%29%3B%0A%0A%20%20%20%20%20%20%20%20%0A%20%20%20%20%0A%20%20%20%20%0A%20%20%20%20%20%20%20%20%20%20%20%20var%20marker_7fe2470225654964a93a7f9eee19495f%20%3D%20L.marker%28%0A%20%20%20%20%20%20%20%20%20%20%20%20%20%20%20%20%5B42.99758%2C%20-78.1925%5D%2C%0A%20%20%20%20%20%20%20%20%20%20%20%20%20%20%20%20%7B%7D%0A%20%20%20%20%20%20%20%20%20%20%20%20%29.addTo%28map_4fd38b12ea1542b9a138914b266c9879%29%3B%0A%20%20%20%20%20%20%20%20%0A%20%20%20%20%0A%20%20%20%20%20%20%20%20var%20popup_df8caa78c85d4c13b512f24cc381af86%20%3D%20L.popup%28%7B%22autoClose%22%3A%20false%2C%20%22maxWidth%22%3A%20%22100%25%22%7D%29%3B%0A%0A%20%20%20%20%20%20%20%20%0A%20%20%20%20%20%20%20%20%20%20%20%20var%20html_41dec8cd3b014af491f45dd4f20c1159%20%3D%20%24%28%60%3Cdiv%20id%3D%22html_41dec8cd3b014af491f45dd4f20c1159%22%20style%3D%22width%3A%20100.0%25%3B%20height%3A%20100.0%25%3B%22%3E%20%20Genesee%20County%3C/div%3E%60%29%5B0%5D%3B%0A%20%20%20%20%20%20%20%20%20%20%20%20popup_df8caa78c85d4c13b512f24cc381af86.setContent%28html_41dec8cd3b014af491f45dd4f20c1159%29%3B%0A%20%20%20%20%20%20%20%20%0A%0A%20%20%20%20%20%20%20%20marker_7fe2470225654964a93a7f9eee19495f.bindPopup%28popup_df8caa78c85d4c13b512f24cc381af86%29%0A%20%20%20%20%20%20%20%20.openPopup%28%29%3B%0A%0A%20%20%20%20%20%20%20%20%0A%20%20%20%20%0A%20%20%20%20%0A%20%20%20%20%20%20%20%20%20%20%20%20var%20marker_ee6f5e08c73d45a0b5f335d3313f27e8%20%3D%20L.marker%28%0A%20%20%20%20%20%20%20%20%20%20%20%20%20%20%20%20%5B42.258539999999996%2C%20-74.095455%5D%2C%0A%20%20%20%20%20%20%20%20%20%20%20%20%20%20%20%20%7B%7D%0A%20%20%20%20%20%20%20%20%20%20%20%20%29.addTo%28map_4fd38b12ea1542b9a138914b266c9879%29%3B%0A%20%20%20%20%20%20%20%20%0A%20%20%20%20%0A%20%20%20%20%20%20%20%20var%20popup_9822bcc31e86456ca6473b1ed1d5cfa0%20%3D%20L.popup%28%7B%22autoClose%22%3A%20false%2C%20%22maxWidth%22%3A%20%22100%25%22%7D%29%3B%0A%0A%20%20%20%20%20%20%20%20%0A%20%20%20%20%20%20%20%20%20%20%20%20var%20html_6592de44ce234430b932a27125f75670%20%3D%20%24%28%60%3Cdiv%20id%3D%22html_6592de44ce234430b932a27125f75670%22%20style%3D%22width%3A%20100.0%25%3B%20height%3A%20100.0%25%3B%22%3E%20%20Greene%20County%3C/div%3E%60%29%5B0%5D%3B%0A%20%20%20%20%20%20%20%20%20%20%20%20popup_9822bcc31e86456ca6473b1ed1d5cfa0.setContent%28html_6592de44ce234430b932a27125f75670%29%3B%0A%20%20%20%20%20%20%20%20%0A%0A%20%20%20%20%20%20%20%20marker_ee6f5e08c73d45a0b5f335d3313f27e8.bindPopup%28popup_9822bcc31e86456ca6473b1ed1d5cfa0%29%0A%20%20%20%20%20%20%20%20.openPopup%28%29%3B%0A%0A%20%20%20%20%20%20%20%20%0A%20%20%20%20%0A%20%20%20%20%0A%20%20%20%20%20%20%20%20%20%20%20%20var%20marker_22979c2c87c2457aa24932bb1e84a844%20%3D%20L.marker%28%0A%20%20%20%20%20%20%20%20%20%20%20%20%20%20%20%20%5B43.56228%2C%20-74.42979%5D%2C%0A%20%20%20%20%20%20%20%20%20%20%20%20%20%20%20%20%7B%7D%0A%20%20%20%20%20%20%20%20%20%20%20%20%29.addTo%28map_4fd38b12ea1542b9a138914b266c9879%29%3B%0A%20%20%20%20%20%20%20%20%0A%20%20%20%20%0A%20%20%20%20%20%20%20%20var%20popup_38baa7bef0ff4d77b0ac0afe5e3d2123%20%3D%20L.popup%28%7B%22autoClose%22%3A%20false%2C%20%22maxWidth%22%3A%20%22100%25%22%7D%29%3B%0A%0A%20%20%20%20%20%20%20%20%0A%20%20%20%20%20%20%20%20%20%20%20%20var%20html_995fb3e3122e4b66996fde346d2d5168%20%3D%20%24%28%60%3Cdiv%20id%3D%22html_995fb3e3122e4b66996fde346d2d5168%22%20style%3D%22width%3A%20100.0%25%3B%20height%3A%20100.0%25%3B%22%3E%20%20Hamilton%20County%3C/div%3E%60%29%5B0%5D%3B%0A%20%20%20%20%20%20%20%20%20%20%20%20popup_38baa7bef0ff4d77b0ac0afe5e3d2123.setContent%28html_995fb3e3122e4b66996fde346d2d5168%29%3B%0A%20%20%20%20%20%20%20%20%0A%0A%20%20%20%20%20%20%20%20marker_22979c2c87c2457aa24932bb1e84a844.bindPopup%28popup_38baa7bef0ff4d77b0ac0afe5e3d2123%29%0A%20%20%20%20%20%20%20%20.openPopup%28%29%3B%0A%0A%20%20%20%20%20%20%20%20%0A%20%20%20%20%0A%20%20%20%20%0A%20%20%20%20%20%20%20%20%20%20%20%20var%20marker_178f2e9d1a91417e8e1ea588f89057c7%20%3D%20L.marker%28%0A%20%20%20%20%20%20%20%20%20%20%20%20%20%20%20%20%5B43.06454%2C%20-74.99356999999998%5D%2C%0A%20%20%20%20%20%20%20%20%20%20%20%20%20%20%20%20%7B%7D%0A%20%20%20%20%20%20%20%20%20%20%20%20%29.addTo%28map_4fd38b12ea1542b9a138914b266c9879%29%3B%0A%20%20%20%20%20%20%20%20%0A%20%20%20%20%0A%20%20%20%20%20%20%20%20var%20popup_2e17f64b13ba44da91a1c1012ebcb150%20%3D%20L.popup%28%7B%22autoClose%22%3A%20false%2C%20%22maxWidth%22%3A%20%22100%25%22%7D%29%3B%0A%0A%20%20%20%20%20%20%20%20%0A%20%20%20%20%20%20%20%20%20%20%20%20var%20html_82fb7d55ab0a450e82328abc1ffb7b77%20%3D%20%24%28%60%3Cdiv%20id%3D%22html_82fb7d55ab0a450e82328abc1ffb7b77%22%20style%3D%22width%3A%20100.0%25%3B%20height%3A%20100.0%25%3B%22%3E%20%20Herkimer%20County%3C/div%3E%60%29%5B0%5D%3B%0A%20%20%20%20%20%20%20%20%20%20%20%20popup_2e17f64b13ba44da91a1c1012ebcb150.setContent%28html_82fb7d55ab0a450e82328abc1ffb7b77%29%3B%0A%20%20%20%20%20%20%20%20%0A%0A%20%20%20%20%20%20%20%20marker_178f2e9d1a91417e8e1ea588f89057c7.bindPopup%28popup_2e17f64b13ba44da91a1c1012ebcb150%29%0A%20%20%20%20%20%20%20%20.openPopup%28%29%3B%0A%0A%20%20%20%20%20%20%20%20%0A%20%20%20%20%0A%20%20%20%20%0A%20%20%20%20%20%20%20%20%20%20%20%20var%20marker_020904e3b15148f0ae182fea2fbec81e%20%3D%20L.marker%28%0A%20%20%20%20%20%20%20%20%20%20%20%20%20%20%20%20%5B43.99065%2C%20-75.96670999999998%5D%2C%0A%20%20%20%20%20%20%20%20%20%20%20%20%20%20%20%20%7B%7D%0A%20%20%20%20%20%20%20%20%20%20%20%20%29.addTo%28map_4fd38b12ea1542b9a138914b266c9879%29%3B%0A%20%20%20%20%20%20%20%20%0A%20%20%20%20%0A%20%20%20%20%20%20%20%20var%20popup_e961db5a172c4347ade078155214165e%20%3D%20L.popup%28%7B%22autoClose%22%3A%20false%2C%20%22maxWidth%22%3A%20%22100%25%22%7D%29%3B%0A%0A%20%20%20%20%20%20%20%20%0A%20%20%20%20%20%20%20%20%20%20%20%20var%20html_fdd1b9ce4d5548688610fcfac9812b97%20%3D%20%24%28%60%3Cdiv%20id%3D%22html_fdd1b9ce4d5548688610fcfac9812b97%22%20style%3D%22width%3A%20100.0%25%3B%20height%3A%20100.0%25%3B%22%3E%20%20Jefferson%20County%3C/div%3E%60%29%5B0%5D%3B%0A%20%20%20%20%20%20%20%20%20%20%20%20popup_e961db5a172c4347ade078155214165e.setContent%28html_fdd1b9ce4d5548688610fcfac9812b97%29%3B%0A%20%20%20%20%20%20%20%20%0A%0A%20%20%20%20%20%20%20%20marker_020904e3b15148f0ae182fea2fbec81e.bindPopup%28popup_e961db5a172c4347ade078155214165e%29%0A%20%20%20%20%20%20%20%20.openPopup%28%29%3B%0A%0A%20%20%20%20%20%20%20%20%0A%20%20%20%20%0A%20%20%20%20%0A%20%20%20%20%20%20%20%20%20%20%20%20var%20marker_e6f53e04821d4928bea219ef95c7ce8d%20%3D%20L.marker%28%0A%20%20%20%20%20%20%20%20%20%20%20%20%20%20%20%20%5B40.648300000000006%2C%20-73.98046500000001%5D%2C%0A%20%20%20%20%20%20%20%20%20%20%20%20%20%20%20%20%7B%7D%0A%20%20%20%20%20%20%20%20%20%20%20%20%29.addTo%28map_4fd38b12ea1542b9a138914b266c9879%29%3B%0A%20%20%20%20%20%20%20%20%0A%20%20%20%20%0A%20%20%20%20%20%20%20%20var%20popup_e751440417f74f8b91f44de3c01c477f%20%3D%20L.popup%28%7B%22autoClose%22%3A%20false%2C%20%22maxWidth%22%3A%20%22100%25%22%7D%29%3B%0A%0A%20%20%20%20%20%20%20%20%0A%20%20%20%20%20%20%20%20%20%20%20%20var%20html_af7c3c5111744f54b181852edf8d5c46%20%3D%20%24%28%60%3Cdiv%20id%3D%22html_af7c3c5111744f54b181852edf8d5c46%22%20style%3D%22width%3A%20100.0%25%3B%20height%3A%20100.0%25%3B%22%3E%20%20Kings%20County%3C/div%3E%60%29%5B0%5D%3B%0A%20%20%20%20%20%20%20%20%20%20%20%20popup_e751440417f74f8b91f44de3c01c477f.setContent%28html_af7c3c5111744f54b181852edf8d5c46%29%3B%0A%20%20%20%20%20%20%20%20%0A%0A%20%20%20%20%20%20%20%20marker_e6f53e04821d4928bea219ef95c7ce8d.bindPopup%28popup_e751440417f74f8b91f44de3c01c477f%29%0A%20%20%20%20%20%20%20%20.openPopup%28%29%3B%0A%0A%20%20%20%20%20%20%20%20%0A%20%20%20%20%0A%20%20%20%20%0A%20%20%20%20%20%20%20%20%20%20%20%20var%20marker_ed094df523e74b6287dbd712175415d2%20%3D%20L.marker%28%0A%20%20%20%20%20%20%20%20%20%20%20%20%20%20%20%20%5B43.74097%2C%20-75.45362%5D%2C%0A%20%20%20%20%20%20%20%20%20%20%20%20%20%20%20%20%7B%7D%0A%20%20%20%20%20%20%20%20%20%20%20%20%29.addTo%28map_4fd38b12ea1542b9a138914b266c9879%29%3B%0A%20%20%20%20%20%20%20%20%0A%20%20%20%20%0A%20%20%20%20%20%20%20%20var%20popup_06ab2a60826146c5b1c8393d0d226a95%20%3D%20L.popup%28%7B%22autoClose%22%3A%20false%2C%20%22maxWidth%22%3A%20%22100%25%22%7D%29%3B%0A%0A%20%20%20%20%20%20%20%20%0A%20%20%20%20%20%20%20%20%20%20%20%20var%20html_2b81c3de78954440b880572ede55f2ca%20%3D%20%24%28%60%3Cdiv%20id%3D%22html_2b81c3de78954440b880572ede55f2ca%22%20style%3D%22width%3A%20100.0%25%3B%20height%3A%20100.0%25%3B%22%3E%20%20Lewis%20County%3C/div%3E%60%29%5B0%5D%3B%0A%20%20%20%20%20%20%20%20%20%20%20%20popup_06ab2a60826146c5b1c8393d0d226a95.setContent%28html_2b81c3de78954440b880572ede55f2ca%29%3B%0A%20%20%20%20%20%20%20%20%0A%0A%20%20%20%20%20%20%20%20marker_ed094df523e74b6287dbd712175415d2.bindPopup%28popup_06ab2a60826146c5b1c8393d0d226a95%29%0A%20%20%20%20%20%20%20%20.openPopup%28%29%3B%0A%0A%20%20%20%20%20%20%20%20%0A%20%20%20%20%0A%20%20%20%20%0A%20%20%20%20%20%20%20%20%20%20%20%20var%20marker_fb5b32d788a6459aa3e3e30f5cb693e1%20%3D%20L.marker%28%0A%20%20%20%20%20%20%20%20%20%20%20%20%20%20%20%20%5B42.66868%2C%20-77.76379%5D%2C%0A%20%20%20%20%20%20%20%20%20%20%20%20%20%20%20%20%7B%7D%0A%20%20%20%20%20%20%20%20%20%20%20%20%29.addTo%28map_4fd38b12ea1542b9a138914b266c9879%29%3B%0A%20%20%20%20%20%20%20%20%0A%20%20%20%20%0A%20%20%20%20%20%20%20%20var%20popup_b42835ee779c457b8f6f49783f285355%20%3D%20L.popup%28%7B%22autoClose%22%3A%20false%2C%20%22maxWidth%22%3A%20%22100%25%22%7D%29%3B%0A%0A%20%20%20%20%20%20%20%20%0A%20%20%20%20%20%20%20%20%20%20%20%20var%20html_475afe4af6e3411880f1d01ecf80ebf3%20%3D%20%24%28%60%3Cdiv%20id%3D%22html_475afe4af6e3411880f1d01ecf80ebf3%22%20style%3D%22width%3A%20100.0%25%3B%20height%3A%20100.0%25%3B%22%3E%20%20Livingston%20County%3C/div%3E%60%29%5B0%5D%3B%0A%20%20%20%20%20%20%20%20%20%20%20%20popup_b42835ee779c457b8f6f49783f285355.setContent%28html_475afe4af6e3411880f1d01ecf80ebf3%29%3B%0A%20%20%20%20%20%20%20%20%0A%0A%20%20%20%20%20%20%20%20marker_fb5b32d788a6459aa3e3e30f5cb693e1.bindPopup%28popup_b42835ee779c457b8f6f49783f285355%29%0A%20%20%20%20%20%20%20%20.openPopup%28%29%3B%0A%0A%20%20%20%20%20%20%20%20%0A%20%20%20%20%0A%20%20%20%20%0A%20%20%20%20%20%20%20%20%20%20%20%20var%20marker_5e8f88b356bf438c98077c7309add6de%20%3D%20L.marker%28%0A%20%20%20%20%20%20%20%20%20%20%20%20%20%20%20%20%5B42.97546%2C%20-75.73168000000003%5D%2C%0A%20%20%20%20%20%20%20%20%20%20%20%20%20%20%20%20%7B%7D%0A%20%20%20%20%20%20%20%20%20%20%20%20%29.addTo%28map_4fd38b12ea1542b9a138914b266c9879%29%3B%0A%20%20%20%20%20%20%20%20%0A%20%20%20%20%0A%20%20%20%20%20%20%20%20var%20popup_2ea2ccc94ee24d7ab25ff4d908ab4a85%20%3D%20L.popup%28%7B%22autoClose%22%3A%20false%2C%20%22maxWidth%22%3A%20%22100%25%22%7D%29%3B%0A%0A%20%20%20%20%20%20%20%20%0A%20%20%20%20%20%20%20%20%20%20%20%20var%20html_d9daec1938f24756a2338eefba2ad2f5%20%3D%20%24%28%60%3Cdiv%20id%3D%22html_d9daec1938f24756a2338eefba2ad2f5%22%20style%3D%22width%3A%20100.0%25%3B%20height%3A%20100.0%25%3B%22%3E%20%20Madison%20County%3C/div%3E%60%29%5B0%5D%3B%0A%20%20%20%20%20%20%20%20%20%20%20%20popup_2ea2ccc94ee24d7ab25ff4d908ab4a85.setContent%28html_d9daec1938f24756a2338eefba2ad2f5%29%3B%0A%20%20%20%20%20%20%20%20%0A%0A%20%20%20%20%20%20%20%20marker_5e8f88b356bf438c98077c7309add6de.bindPopup%28popup_2ea2ccc94ee24d7ab25ff4d908ab4a85%29%0A%20%20%20%20%20%20%20%20.openPopup%28%29%3B%0A%0A%20%20%20%20%20%20%20%20%0A%20%20%20%20%0A%20%20%20%20%0A%20%20%20%20%20%20%20%20%20%20%20%20var%20marker_3ee5e9fba4a049888e44e977372ee377%20%3D%20L.marker%28%0A%20%20%20%20%20%20%20%20%20%20%20%20%20%20%20%20%5B43.15114000000001%2C%20-77.65951%5D%2C%0A%20%20%20%20%20%20%20%20%20%20%20%20%20%20%20%20%7B%7D%0A%20%20%20%20%20%20%20%20%20%20%20%20%29.addTo%28map_4fd38b12ea1542b9a138914b266c9879%29%3B%0A%20%20%20%20%20%20%20%20%0A%20%20%20%20%0A%20%20%20%20%20%20%20%20var%20popup_868049640c8843d49f3b0695a3cb18a8%20%3D%20L.popup%28%7B%22autoClose%22%3A%20false%2C%20%22maxWidth%22%3A%20%22100%25%22%7D%29%3B%0A%0A%20%20%20%20%20%20%20%20%0A%20%20%20%20%20%20%20%20%20%20%20%20var%20html_3422bddd2d8a47e0b2ccdc289aa0916a%20%3D%20%24%28%60%3Cdiv%20id%3D%22html_3422bddd2d8a47e0b2ccdc289aa0916a%22%20style%3D%22width%3A%20100.0%25%3B%20height%3A%20100.0%25%3B%22%3E%20%20Monroe%20County%3C/div%3E%60%29%5B0%5D%3B%0A%20%20%20%20%20%20%20%20%20%20%20%20popup_868049640c8843d49f3b0695a3cb18a8.setContent%28html_3422bddd2d8a47e0b2ccdc289aa0916a%29%3B%0A%20%20%20%20%20%20%20%20%0A%0A%20%20%20%20%20%20%20%20marker_3ee5e9fba4a049888e44e977372ee377.bindPopup%28popup_868049640c8843d49f3b0695a3cb18a8%29%0A%20%20%20%20%20%20%20%20.openPopup%28%29%3B%0A%0A%20%20%20%20%20%20%20%20%0A%20%20%20%20%0A%20%20%20%20%0A%20%20%20%20%20%20%20%20%20%20%20%20var%20marker_b43b74bfd54443ca9f48e0663fee054b%20%3D%20L.marker%28%0A%20%20%20%20%20%20%20%20%20%20%20%20%20%20%20%20%5B42.92784%2C%20-74.43791%5D%2C%0A%20%20%20%20%20%20%20%20%20%20%20%20%20%20%20%20%7B%7D%0A%20%20%20%20%20%20%20%20%20%20%20%20%29.addTo%28map_4fd38b12ea1542b9a138914b266c9879%29%3B%0A%20%20%20%20%20%20%20%20%0A%20%20%20%20%0A%20%20%20%20%20%20%20%20var%20popup_1de004882c394e83bf14aff8c6446386%20%3D%20L.popup%28%7B%22autoClose%22%3A%20false%2C%20%22maxWidth%22%3A%20%22100%25%22%7D%29%3B%0A%0A%20%20%20%20%20%20%20%20%0A%20%20%20%20%20%20%20%20%20%20%20%20var%20html_8271b74f97e14d8f958583d02aff5712%20%3D%20%24%28%60%3Cdiv%20id%3D%22html_8271b74f97e14d8f958583d02aff5712%22%20style%3D%22width%3A%20100.0%25%3B%20height%3A%20100.0%25%3B%22%3E%20%20Montgomery%20County%3C/div%3E%60%29%5B0%5D%3B%0A%20%20%20%20%20%20%20%20%20%20%20%20popup_1de004882c394e83bf14aff8c6446386.setContent%28html_8271b74f97e14d8f958583d02aff5712%29%3B%0A%20%20%20%20%20%20%20%20%0A%0A%20%20%20%20%20%20%20%20marker_b43b74bfd54443ca9f48e0663fee054b.bindPopup%28popup_1de004882c394e83bf14aff8c6446386%29%0A%20%20%20%20%20%20%20%20.openPopup%28%29%3B%0A%0A%20%20%20%20%20%20%20%20%0A%20%20%20%20%0A%20%20%20%20%0A%20%20%20%20%20%20%20%20%20%20%20%20var%20marker_d535ee7f300542e9b98fe4e7c4bfffde%20%3D%20L.marker%28%0A%20%20%20%20%20%20%20%20%20%20%20%20%20%20%20%20%5B40.70102%2C%20-73.58281%5D%2C%0A%20%20%20%20%20%20%20%20%20%20%20%20%20%20%20%20%7B%7D%0A%20%20%20%20%20%20%20%20%20%20%20%20%29.addTo%28map_4fd38b12ea1542b9a138914b266c9879%29%3B%0A%20%20%20%20%20%20%20%20%0A%20%20%20%20%0A%20%20%20%20%20%20%20%20var%20popup_465ef058fe184d87b861bef24afbe742%20%3D%20L.popup%28%7B%22autoClose%22%3A%20false%2C%20%22maxWidth%22%3A%20%22100%25%22%7D%29%3B%0A%0A%20%20%20%20%20%20%20%20%0A%20%20%20%20%20%20%20%20%20%20%20%20var%20html_27806ef6d6ed46c3b7d9c02f614ce9fb%20%3D%20%24%28%60%3Cdiv%20id%3D%22html_27806ef6d6ed46c3b7d9c02f614ce9fb%22%20style%3D%22width%3A%20100.0%25%3B%20height%3A%20100.0%25%3B%22%3E%20%20Nassau%20County%3C/div%3E%60%29%5B0%5D%3B%0A%20%20%20%20%20%20%20%20%20%20%20%20popup_465ef058fe184d87b861bef24afbe742.setContent%28html_27806ef6d6ed46c3b7d9c02f614ce9fb%29%3B%0A%20%20%20%20%20%20%20%20%0A%0A%20%20%20%20%20%20%20%20marker_d535ee7f300542e9b98fe4e7c4bfffde.bindPopup%28popup_465ef058fe184d87b861bef24afbe742%29%0A%20%20%20%20%20%20%20%20.openPopup%28%29%3B%0A%0A%20%20%20%20%20%20%20%20%0A%20%20%20%20%0A%20%20%20%20%0A%20%20%20%20%20%20%20%20%20%20%20%20var%20marker_f7ddd53b69ea4fa1ad3869445004f3d6%20%3D%20L.marker%28%0A%20%20%20%20%20%20%20%20%20%20%20%20%20%20%20%20%5B40.77151%2C%20-73.97386999999998%5D%2C%0A%20%20%20%20%20%20%20%20%20%20%20%20%20%20%20%20%7B%7D%0A%20%20%20%20%20%20%20%20%20%20%20%20%29.addTo%28map_4fd38b12ea1542b9a138914b266c9879%29%3B%0A%20%20%20%20%20%20%20%20%0A%20%20%20%20%0A%20%20%20%20%20%20%20%20var%20popup_14ad02bc1c2f4f52a79a6beba71454d0%20%3D%20L.popup%28%7B%22autoClose%22%3A%20false%2C%20%22maxWidth%22%3A%20%22100%25%22%7D%29%3B%0A%0A%20%20%20%20%20%20%20%20%0A%20%20%20%20%20%20%20%20%20%20%20%20var%20html_9407c8bca17b49ce9b4728512a2bed38%20%3D%20%24%28%60%3Cdiv%20id%3D%22html_9407c8bca17b49ce9b4728512a2bed38%22%20style%3D%22width%3A%20100.0%25%3B%20height%3A%20100.0%25%3B%22%3E%20%20New%20York%20County%3C/div%3E%60%29%5B0%5D%3B%0A%20%20%20%20%20%20%20%20%20%20%20%20popup_14ad02bc1c2f4f52a79a6beba71454d0.setContent%28html_9407c8bca17b49ce9b4728512a2bed38%29%3B%0A%20%20%20%20%20%20%20%20%0A%0A%20%20%20%20%20%20%20%20marker_f7ddd53b69ea4fa1ad3869445004f3d6.bindPopup%28popup_14ad02bc1c2f4f52a79a6beba71454d0%29%0A%20%20%20%20%20%20%20%20.openPopup%28%29%3B%0A%0A%20%20%20%20%20%20%20%20%0A%20%20%20%20%0A%20%20%20%20%0A%20%20%20%20%20%20%20%20%20%20%20%20var%20marker_16e6f300cf464e158d960ee5669b02e3%20%3D%20L.marker%28%0A%20%20%20%20%20%20%20%20%20%20%20%20%20%20%20%20%5B43.141639999999995%2C%20-78.82822%5D%2C%0A%20%20%20%20%20%20%20%20%20%20%20%20%20%20%20%20%7B%7D%0A%20%20%20%20%20%20%20%20%20%20%20%20%29.addTo%28map_4fd38b12ea1542b9a138914b266c9879%29%3B%0A%20%20%20%20%20%20%20%20%0A%20%20%20%20%0A%20%20%20%20%20%20%20%20var%20popup_2ee05ea7aae441308d0f920aa8d2652c%20%3D%20L.popup%28%7B%22autoClose%22%3A%20false%2C%20%22maxWidth%22%3A%20%22100%25%22%7D%29%3B%0A%0A%20%20%20%20%20%20%20%20%0A%20%20%20%20%20%20%20%20%20%20%20%20var%20html_041be06e4adc46faa642130ceecc8427%20%3D%20%24%28%60%3Cdiv%20id%3D%22html_041be06e4adc46faa642130ceecc8427%22%20style%3D%22width%3A%20100.0%25%3B%20height%3A%20100.0%25%3B%22%3E%20%20Niagara%20County%3C/div%3E%60%29%5B0%5D%3B%0A%20%20%20%20%20%20%20%20%20%20%20%20popup_2ee05ea7aae441308d0f920aa8d2652c.setContent%28html_041be06e4adc46faa642130ceecc8427%29%3B%0A%20%20%20%20%20%20%20%20%0A%0A%20%20%20%20%20%20%20%20marker_16e6f300cf464e158d960ee5669b02e3.bindPopup%28popup_2ee05ea7aae441308d0f920aa8d2652c%29%0A%20%20%20%20%20%20%20%20.openPopup%28%29%3B%0A%0A%20%20%20%20%20%20%20%20%0A%20%20%20%20%0A%20%20%20%20%0A%20%20%20%20%20%20%20%20%20%20%20%20var%20marker_8221203d944f43eda7a2e9763eb1259b%20%3D%20L.marker%28%0A%20%20%20%20%20%20%20%20%20%20%20%20%20%20%20%20%5B43.1907%2C%20-75.37144%5D%2C%0A%20%20%20%20%20%20%20%20%20%20%20%20%20%20%20%20%7B%7D%0A%20%20%20%20%20%20%20%20%20%20%20%20%29.addTo%28map_4fd38b12ea1542b9a138914b266c9879%29%3B%0A%20%20%20%20%20%20%20%20%0A%20%20%20%20%0A%20%20%20%20%20%20%20%20var%20popup_fb516e39d1c541c2a96b8eb650fc3df7%20%3D%20L.popup%28%7B%22autoClose%22%3A%20false%2C%20%22maxWidth%22%3A%20%22100%25%22%7D%29%3B%0A%0A%20%20%20%20%20%20%20%20%0A%20%20%20%20%20%20%20%20%20%20%20%20var%20html_18ea93683f054168babb32b444b7b574%20%3D%20%24%28%60%3Cdiv%20id%3D%22html_18ea93683f054168babb32b444b7b574%22%20style%3D%22width%3A%20100.0%25%3B%20height%3A%20100.0%25%3B%22%3E%20%20Oneida%20County%3C/div%3E%60%29%5B0%5D%3B%0A%20%20%20%20%20%20%20%20%20%20%20%20popup_fb516e39d1c541c2a96b8eb650fc3df7.setContent%28html_18ea93683f054168babb32b444b7b574%29%3B%0A%20%20%20%20%20%20%20%20%0A%0A%20%20%20%20%20%20%20%20marker_8221203d944f43eda7a2e9763eb1259b.bindPopup%28popup_fb516e39d1c541c2a96b8eb650fc3df7%29%0A%20%20%20%20%20%20%20%20.openPopup%28%29%3B%0A%0A%20%20%20%20%20%20%20%20%0A%20%20%20%20%0A%20%20%20%20%0A%20%20%20%20%20%20%20%20%20%20%20%20var%20marker_d487c9f46b9c4d98b9a4d7f7e4355b86%20%3D%20L.marker%28%0A%20%20%20%20%20%20%20%20%20%20%20%20%20%20%20%20%5B43.056955%2C%20-76.15429499999999%5D%2C%0A%20%20%20%20%20%20%20%20%20%20%20%20%20%20%20%20%7B%7D%0A%20%20%20%20%20%20%20%20%20%20%20%20%29.addTo%28map_4fd38b12ea1542b9a138914b266c9879%29%3B%0A%20%20%20%20%20%20%20%20%0A%20%20%20%20%0A%20%20%20%20%20%20%20%20var%20popup_3ec75bf17eba4d85b90b4a96661e8f50%20%3D%20L.popup%28%7B%22autoClose%22%3A%20false%2C%20%22maxWidth%22%3A%20%22100%25%22%7D%29%3B%0A%0A%20%20%20%20%20%20%20%20%0A%20%20%20%20%20%20%20%20%20%20%20%20var%20html_05cde5c51a104856b09145bb626a17ae%20%3D%20%24%28%60%3Cdiv%20id%3D%22html_05cde5c51a104856b09145bb626a17ae%22%20style%3D%22width%3A%20100.0%25%3B%20height%3A%20100.0%25%3B%22%3E%20%20Onondaga%20County%3C/div%3E%60%29%5B0%5D%3B%0A%20%20%20%20%20%20%20%20%20%20%20%20popup_3ec75bf17eba4d85b90b4a96661e8f50.setContent%28html_05cde5c51a104856b09145bb626a17ae%29%3B%0A%20%20%20%20%20%20%20%20%0A%0A%20%20%20%20%20%20%20%20marker_d487c9f46b9c4d98b9a4d7f7e4355b86.bindPopup%28popup_3ec75bf17eba4d85b90b4a96661e8f50%29%0A%20%20%20%20%20%20%20%20.openPopup%28%29%3B%0A%0A%20%20%20%20%20%20%20%20%0A%20%20%20%20%0A%20%20%20%20%0A%20%20%20%20%20%20%20%20%20%20%20%20var%20marker_abaaf962d7614d8496d98f4baf301554%20%3D%20L.marker%28%0A%20%20%20%20%20%20%20%20%20%20%20%20%20%20%20%20%5B42.91269000000001%2C%20-77.27698000000002%5D%2C%0A%20%20%20%20%20%20%20%20%20%20%20%20%20%20%20%20%7B%7D%0A%20%20%20%20%20%20%20%20%20%20%20%20%29.addTo%28map_4fd38b12ea1542b9a138914b266c9879%29%3B%0A%20%20%20%20%20%20%20%20%0A%20%20%20%20%0A%20%20%20%20%20%20%20%20var%20popup_64f038a0045c4cc8b8a2013287cebe20%20%3D%20L.popup%28%7B%22autoClose%22%3A%20false%2C%20%22maxWidth%22%3A%20%22100%25%22%7D%29%3B%0A%0A%20%20%20%20%20%20%20%20%0A%20%20%20%20%20%20%20%20%20%20%20%20var%20html_eacd640914984d098241d7718e2341df%20%3D%20%24%28%60%3Cdiv%20id%3D%22html_eacd640914984d098241d7718e2341df%22%20style%3D%22width%3A%20100.0%25%3B%20height%3A%20100.0%25%3B%22%3E%20%20Ontario%20County%3C/div%3E%60%29%5B0%5D%3B%0A%20%20%20%20%20%20%20%20%20%20%20%20popup_64f038a0045c4cc8b8a2013287cebe20.setContent%28html_eacd640914984d098241d7718e2341df%29%3B%0A%20%20%20%20%20%20%20%20%0A%0A%20%20%20%20%20%20%20%20marker_abaaf962d7614d8496d98f4baf301554.bindPopup%28popup_64f038a0045c4cc8b8a2013287cebe20%29%0A%20%20%20%20%20%20%20%20.openPopup%28%29%3B%0A%0A%20%20%20%20%20%20%20%20%0A%20%20%20%20%0A%20%20%20%20%0A%20%20%20%20%20%20%20%20%20%20%20%20var%20marker_ba006e27f6914bf8b49d7c80fd4d2e54%20%3D%20L.marker%28%0A%20%20%20%20%20%20%20%20%20%20%20%20%20%20%20%20%5B41.421215000000004%2C%20-74.28813500000001%5D%2C%0A%20%20%20%20%20%20%20%20%20%20%20%20%20%20%20%20%7B%7D%0A%20%20%20%20%20%20%20%20%20%20%20%20%29.addTo%28map_4fd38b12ea1542b9a138914b266c9879%29%3B%0A%20%20%20%20%20%20%20%20%0A%20%20%20%20%0A%20%20%20%20%20%20%20%20var%20popup_3de031ec96e44e3bab3a618935ab3318%20%3D%20L.popup%28%7B%22autoClose%22%3A%20false%2C%20%22maxWidth%22%3A%20%22100%25%22%7D%29%3B%0A%0A%20%20%20%20%20%20%20%20%0A%20%20%20%20%20%20%20%20%20%20%20%20var%20html_d40bedfcea794d25a7d6c7198276637d%20%3D%20%24%28%60%3Cdiv%20id%3D%22html_d40bedfcea794d25a7d6c7198276637d%22%20style%3D%22width%3A%20100.0%25%3B%20height%3A%20100.0%25%3B%22%3E%20%20Orange%20County%3C/div%3E%60%29%5B0%5D%3B%0A%20%20%20%20%20%20%20%20%20%20%20%20popup_3de031ec96e44e3bab3a618935ab3318.setContent%28html_d40bedfcea794d25a7d6c7198276637d%29%3B%0A%20%20%20%20%20%20%20%20%0A%0A%20%20%20%20%20%20%20%20marker_ba006e27f6914bf8b49d7c80fd4d2e54.bindPopup%28popup_3de031ec96e44e3bab3a618935ab3318%29%0A%20%20%20%20%20%20%20%20.openPopup%28%29%3B%0A%0A%20%20%20%20%20%20%20%20%0A%20%20%20%20%0A%20%20%20%20%0A%20%20%20%20%20%20%20%20%20%20%20%20var%20marker_c4aa969e48f94a1c981e72b5f2ec07f5%20%3D%20L.marker%28%0A%20%20%20%20%20%20%20%20%20%20%20%20%20%20%20%20%5B43.29373%2C%20-78.19328%5D%2C%0A%20%20%20%20%20%20%20%20%20%20%20%20%20%20%20%20%7B%7D%0A%20%20%20%20%20%20%20%20%20%20%20%20%29.addTo%28map_4fd38b12ea1542b9a138914b266c9879%29%3B%0A%20%20%20%20%20%20%20%20%0A%20%20%20%20%0A%20%20%20%20%20%20%20%20var%20popup_2bb0c0b8f17f49e287f10857b0710e23%20%3D%20L.popup%28%7B%22autoClose%22%3A%20false%2C%20%22maxWidth%22%3A%20%22100%25%22%7D%29%3B%0A%0A%20%20%20%20%20%20%20%20%0A%20%20%20%20%20%20%20%20%20%20%20%20var%20html_ef88e685f4674c9d8495de44f33334dc%20%3D%20%24%28%60%3Cdiv%20id%3D%22html_ef88e685f4674c9d8495de44f33334dc%22%20style%3D%22width%3A%20100.0%25%3B%20height%3A%20100.0%25%3B%22%3E%20%20Orleans%20County%3C/div%3E%60%29%5B0%5D%3B%0A%20%20%20%20%20%20%20%20%20%20%20%20popup_2bb0c0b8f17f49e287f10857b0710e23.setContent%28html_ef88e685f4674c9d8495de44f33334dc%29%3B%0A%20%20%20%20%20%20%20%20%0A%0A%20%20%20%20%20%20%20%20marker_c4aa969e48f94a1c981e72b5f2ec07f5.bindPopup%28popup_2bb0c0b8f17f49e287f10857b0710e23%29%0A%20%20%20%20%20%20%20%20.openPopup%28%29%3B%0A%0A%20%20%20%20%20%20%20%20%0A%20%20%20%20%0A%20%20%20%20%0A%20%20%20%20%20%20%20%20%20%20%20%20var%20marker_0cbecaa64df943518a3e7a66e5bf7a63%20%3D%20L.marker%28%0A%20%20%20%20%20%20%20%20%20%20%20%20%20%20%20%20%5B43.41745%2C%20-76.16983%5D%2C%0A%20%20%20%20%20%20%20%20%20%20%20%20%20%20%20%20%7B%7D%0A%20%20%20%20%20%20%20%20%20%20%20%20%29.addTo%28map_4fd38b12ea1542b9a138914b266c9879%29%3B%0A%20%20%20%20%20%20%20%20%0A%20%20%20%20%0A%20%20%20%20%20%20%20%20var%20popup_464006f27b774507913aca4cc04032f4%20%3D%20L.popup%28%7B%22autoClose%22%3A%20false%2C%20%22maxWidth%22%3A%20%22100%25%22%7D%29%3B%0A%0A%20%20%20%20%20%20%20%20%0A%20%20%20%20%20%20%20%20%20%20%20%20var%20html_4994432b00564d708117f79c0c2046b7%20%3D%20%24%28%60%3Cdiv%20id%3D%22html_4994432b00564d708117f79c0c2046b7%22%20style%3D%22width%3A%20100.0%25%3B%20height%3A%20100.0%25%3B%22%3E%20%20Oswego%20County%3C/div%3E%60%29%5B0%5D%3B%0A%20%20%20%20%20%20%20%20%20%20%20%20popup_464006f27b774507913aca4cc04032f4.setContent%28html_4994432b00564d708117f79c0c2046b7%29%3B%0A%20%20%20%20%20%20%20%20%0A%0A%20%20%20%20%20%20%20%20marker_0cbecaa64df943518a3e7a66e5bf7a63.bindPopup%28popup_464006f27b774507913aca4cc04032f4%29%0A%20%20%20%20%20%20%20%20.openPopup%28%29%3B%0A%0A%20%20%20%20%20%20%20%20%0A%20%20%20%20%0A%20%20%20%20%0A%20%20%20%20%20%20%20%20%20%20%20%20var%20marker_c5332fb7d05440b0b44e2772c0fc799b%20%3D%20L.marker%28%0A%20%20%20%20%20%20%20%20%20%20%20%20%20%20%20%20%5B42.59169%2C%20-75.051705%5D%2C%0A%20%20%20%20%20%20%20%20%20%20%20%20%20%20%20%20%7B%7D%0A%20%20%20%20%20%20%20%20%20%20%20%20%29.addTo%28map_4fd38b12ea1542b9a138914b266c9879%29%3B%0A%20%20%20%20%20%20%20%20%0A%20%20%20%20%0A%20%20%20%20%20%20%20%20var%20popup_76ba6fc339ab429bbb0f9b7a005dd328%20%3D%20L.popup%28%7B%22autoClose%22%3A%20false%2C%20%22maxWidth%22%3A%20%22100%25%22%7D%29%3B%0A%0A%20%20%20%20%20%20%20%20%0A%20%20%20%20%20%20%20%20%20%20%20%20var%20html_01aedf41855b499fa73733547c8b3f6b%20%3D%20%24%28%60%3Cdiv%20id%3D%22html_01aedf41855b499fa73733547c8b3f6b%22%20style%3D%22width%3A%20100.0%25%3B%20height%3A%20100.0%25%3B%22%3E%20%20Otsego%20County%3C/div%3E%60%29%5B0%5D%3B%0A%20%20%20%20%20%20%20%20%20%20%20%20popup_76ba6fc339ab429bbb0f9b7a005dd328.setContent%28html_01aedf41855b499fa73733547c8b3f6b%29%3B%0A%20%20%20%20%20%20%20%20%0A%0A%20%20%20%20%20%20%20%20marker_c5332fb7d05440b0b44e2772c0fc799b.bindPopup%28popup_76ba6fc339ab429bbb0f9b7a005dd328%29%0A%20%20%20%20%20%20%20%20.openPopup%28%29%3B%0A%0A%20%20%20%20%20%20%20%20%0A%20%20%20%20%0A%20%20%20%20%0A%20%20%20%20%20%20%20%20%20%20%20%20var%20marker_abb24498f55649a9ac0211d8a8f461de%20%3D%20L.marker%28%0A%20%20%20%20%20%20%20%20%20%20%20%20%20%20%20%20%5B41.41451%2C%20-73.653625%5D%2C%0A%20%20%20%20%20%20%20%20%20%20%20%20%20%20%20%20%7B%7D%0A%20%20%20%20%20%20%20%20%20%20%20%20%29.addTo%28map_4fd38b12ea1542b9a138914b266c9879%29%3B%0A%20%20%20%20%20%20%20%20%0A%20%20%20%20%0A%20%20%20%20%20%20%20%20var%20popup_df1db5d5ef9043d2b258cd82434cdee3%20%3D%20L.popup%28%7B%22autoClose%22%3A%20false%2C%20%22maxWidth%22%3A%20%22100%25%22%7D%29%3B%0A%0A%20%20%20%20%20%20%20%20%0A%20%20%20%20%20%20%20%20%20%20%20%20var%20html_1de974aaee4e40beaecbbb788c33dc74%20%3D%20%24%28%60%3Cdiv%20id%3D%22html_1de974aaee4e40beaecbbb788c33dc74%22%20style%3D%22width%3A%20100.0%25%3B%20height%3A%20100.0%25%3B%22%3E%20%20Putnam%20County%3C/div%3E%60%29%5B0%5D%3B%0A%20%20%20%20%20%20%20%20%20%20%20%20popup_df1db5d5ef9043d2b258cd82434cdee3.setContent%28html_1de974aaee4e40beaecbbb788c33dc74%29%3B%0A%20%20%20%20%20%20%20%20%0A%0A%20%20%20%20%20%20%20%20marker_abb24498f55649a9ac0211d8a8f461de.bindPopup%28popup_df1db5d5ef9043d2b258cd82434cdee3%29%0A%20%20%20%20%20%20%20%20.openPopup%28%29%3B%0A%0A%20%20%20%20%20%20%20%20%0A%20%20%20%20%0A%20%20%20%20%0A%20%20%20%20%20%20%20%20%20%20%20%20var%20marker_da688447fd0a484aa8da93e3f118b36f%20%3D%20L.marker%28%0A%20%20%20%20%20%20%20%20%20%20%20%20%20%20%20%20%5B40.731120000000004%2C%20-73.83385499999999%5D%2C%0A%20%20%20%20%20%20%20%20%20%20%20%20%20%20%20%20%7B%7D%0A%20%20%20%20%20%20%20%20%20%20%20%20%29.addTo%28map_4fd38b12ea1542b9a138914b266c9879%29%3B%0A%20%20%20%20%20%20%20%20%0A%20%20%20%20%0A%20%20%20%20%20%20%20%20var%20popup_c95caaf1741448ce962a80acf3092fb4%20%3D%20L.popup%28%7B%22autoClose%22%3A%20false%2C%20%22maxWidth%22%3A%20%22100%25%22%7D%29%3B%0A%0A%20%20%20%20%20%20%20%20%0A%20%20%20%20%20%20%20%20%20%20%20%20var%20html_b17c677111f842f693b183d1dcc69b86%20%3D%20%24%28%60%3Cdiv%20id%3D%22html_b17c677111f842f693b183d1dcc69b86%22%20style%3D%22width%3A%20100.0%25%3B%20height%3A%20100.0%25%3B%22%3E%20%20Queens%20County%3C/div%3E%60%29%5B0%5D%3B%0A%20%20%20%20%20%20%20%20%20%20%20%20popup_c95caaf1741448ce962a80acf3092fb4.setContent%28html_b17c677111f842f693b183d1dcc69b86%29%3B%0A%20%20%20%20%20%20%20%20%0A%0A%20%20%20%20%20%20%20%20marker_da688447fd0a484aa8da93e3f118b36f.bindPopup%28popup_c95caaf1741448ce962a80acf3092fb4%29%0A%20%20%20%20%20%20%20%20.openPopup%28%29%3B%0A%0A%20%20%20%20%20%20%20%20%0A%20%20%20%20%0A%20%20%20%20%0A%20%20%20%20%20%20%20%20%20%20%20%20var%20marker_e390736b8c664252aa5344feb10b4c90%20%3D%20L.marker%28%0A%20%20%20%20%20%20%20%20%20%20%20%20%20%20%20%20%5B42.64416%2C%20-73.58188%5D%2C%0A%20%20%20%20%20%20%20%20%20%20%20%20%20%20%20%20%7B%7D%0A%20%20%20%20%20%20%20%20%20%20%20%20%29.addTo%28map_4fd38b12ea1542b9a138914b266c9879%29%3B%0A%20%20%20%20%20%20%20%20%0A%20%20%20%20%0A%20%20%20%20%20%20%20%20var%20popup_690ef13b03e1407ea999be2b04d8522c%20%3D%20L.popup%28%7B%22autoClose%22%3A%20false%2C%20%22maxWidth%22%3A%20%22100%25%22%7D%29%3B%0A%0A%20%20%20%20%20%20%20%20%0A%20%20%20%20%20%20%20%20%20%20%20%20var%20html_51d06a5095b4439ebdfec1928bdf2726%20%3D%20%24%28%60%3Cdiv%20id%3D%22html_51d06a5095b4439ebdfec1928bdf2726%22%20style%3D%22width%3A%20100.0%25%3B%20height%3A%20100.0%25%3B%22%3E%20%20Rensselaer%20County%3C/div%3E%60%29%5B0%5D%3B%0A%20%20%20%20%20%20%20%20%20%20%20%20popup_690ef13b03e1407ea999be2b04d8522c.setContent%28html_51d06a5095b4439ebdfec1928bdf2726%29%3B%0A%20%20%20%20%20%20%20%20%0A%0A%20%20%20%20%20%20%20%20marker_e390736b8c664252aa5344feb10b4c90.bindPopup%28popup_690ef13b03e1407ea999be2b04d8522c%29%0A%20%20%20%20%20%20%20%20.openPopup%28%29%3B%0A%0A%20%20%20%20%20%20%20%20%0A%20%20%20%20%0A%20%20%20%20%0A%20%20%20%20%20%20%20%20%20%20%20%20var%20marker_8951b712223544aa918ab63d8f43a4ff%20%3D%20L.marker%28%0A%20%20%20%20%20%20%20%20%20%20%20%20%20%20%20%20%5B40.607325%2C%20-74.15207000000001%5D%2C%0A%20%20%20%20%20%20%20%20%20%20%20%20%20%20%20%20%7B%7D%0A%20%20%20%20%20%20%20%20%20%20%20%20%29.addTo%28map_4fd38b12ea1542b9a138914b266c9879%29%3B%0A%20%20%20%20%20%20%20%20%0A%20%20%20%20%0A%20%20%20%20%20%20%20%20var%20popup_5f055ba440bd4c409a6106b198925705%20%3D%20L.popup%28%7B%22autoClose%22%3A%20false%2C%20%22maxWidth%22%3A%20%22100%25%22%7D%29%3B%0A%0A%20%20%20%20%20%20%20%20%0A%20%20%20%20%20%20%20%20%20%20%20%20var%20html_70bc3b83667e4561afc2382e5a2f8e89%20%3D%20%24%28%60%3Cdiv%20id%3D%22html_70bc3b83667e4561afc2382e5a2f8e89%22%20style%3D%22width%3A%20100.0%25%3B%20height%3A%20100.0%25%3B%22%3E%20%20Richmond%20County%3C/div%3E%60%29%5B0%5D%3B%0A%20%20%20%20%20%20%20%20%20%20%20%20popup_5f055ba440bd4c409a6106b198925705.setContent%28html_70bc3b83667e4561afc2382e5a2f8e89%29%3B%0A%20%20%20%20%20%20%20%20%0A%0A%20%20%20%20%20%20%20%20marker_8951b712223544aa918ab63d8f43a4ff.bindPopup%28popup_5f055ba440bd4c409a6106b198925705%29%0A%20%20%20%20%20%20%20%20.openPopup%28%29%3B%0A%0A%20%20%20%20%20%20%20%20%0A%20%20%20%20%0A%20%20%20%20%0A%20%20%20%20%20%20%20%20%20%20%20%20var%20marker_8040951e71a44670843beea48373ed77%20%3D%20L.marker%28%0A%20%20%20%20%20%20%20%20%20%20%20%20%20%20%20%20%5B41.10435%2C%20-74.006245%5D%2C%0A%20%20%20%20%20%20%20%20%20%20%20%20%20%20%20%20%7B%7D%0A%20%20%20%20%20%20%20%20%20%20%20%20%29.addTo%28map_4fd38b12ea1542b9a138914b266c9879%29%3B%0A%20%20%20%20%20%20%20%20%0A%20%20%20%20%0A%20%20%20%20%20%20%20%20var%20popup_7f610fc810034e6a9e54362587539d7a%20%3D%20L.popup%28%7B%22autoClose%22%3A%20false%2C%20%22maxWidth%22%3A%20%22100%25%22%7D%29%3B%0A%0A%20%20%20%20%20%20%20%20%0A%20%20%20%20%20%20%20%20%20%20%20%20var%20html_22e0bcc8157b42f381b41cfa242ea227%20%3D%20%24%28%60%3Cdiv%20id%3D%22html_22e0bcc8157b42f381b41cfa242ea227%22%20style%3D%22width%3A%20100.0%25%3B%20height%3A%20100.0%25%3B%22%3E%20%20Rockland%20County%3C/div%3E%60%29%5B0%5D%3B%0A%20%20%20%20%20%20%20%20%20%20%20%20popup_7f610fc810034e6a9e54362587539d7a.setContent%28html_22e0bcc8157b42f381b41cfa242ea227%29%3B%0A%20%20%20%20%20%20%20%20%0A%0A%20%20%20%20%20%20%20%20marker_8040951e71a44670843beea48373ed77.bindPopup%28popup_7f610fc810034e6a9e54362587539d7a%29%0A%20%20%20%20%20%20%20%20.openPopup%28%29%3B%0A%0A%20%20%20%20%20%20%20%20%0A%20%20%20%20%0A%20%20%20%20%0A%20%20%20%20%20%20%20%20%20%20%20%20var%20marker_afe22c8dbab74ecdbdee57aadbd3c1e2%20%3D%20L.marker%28%0A%20%20%20%20%20%20%20%20%20%20%20%20%20%20%20%20%5B43.045495%2C%20-73.79077000000001%5D%2C%0A%20%20%20%20%20%20%20%20%20%20%20%20%20%20%20%20%7B%7D%0A%20%20%20%20%20%20%20%20%20%20%20%20%29.addTo%28map_4fd38b12ea1542b9a138914b266c9879%29%3B%0A%20%20%20%20%20%20%20%20%0A%20%20%20%20%0A%20%20%20%20%20%20%20%20var%20popup_95515a00c8354454b282160871d0cee0%20%3D%20L.popup%28%7B%22autoClose%22%3A%20false%2C%20%22maxWidth%22%3A%20%22100%25%22%7D%29%3B%0A%0A%20%20%20%20%20%20%20%20%0A%20%20%20%20%20%20%20%20%20%20%20%20var%20html_7b7a8069ae674229b7f3b7aa334f2862%20%3D%20%24%28%60%3Cdiv%20id%3D%22html_7b7a8069ae674229b7f3b7aa334f2862%22%20style%3D%22width%3A%20100.0%25%3B%20height%3A%20100.0%25%3B%22%3E%20%20Saratoga%20County%3C/div%3E%60%29%5B0%5D%3B%0A%20%20%20%20%20%20%20%20%20%20%20%20popup_95515a00c8354454b282160871d0cee0.setContent%28html_7b7a8069ae674229b7f3b7aa334f2862%29%3B%0A%20%20%20%20%20%20%20%20%0A%0A%20%20%20%20%20%20%20%20marker_afe22c8dbab74ecdbdee57aadbd3c1e2.bindPopup%28popup_95515a00c8354454b282160871d0cee0%29%0A%20%20%20%20%20%20%20%20.openPopup%28%29%3B%0A%0A%20%20%20%20%20%20%20%20%0A%20%20%20%20%0A%20%20%20%20%0A%20%20%20%20%20%20%20%20%20%20%20%20var%20marker_125c4d1897ee476e9c6c08f34e58afbe%20%3D%20L.marker%28%0A%20%20%20%20%20%20%20%20%20%20%20%20%20%20%20%20%5B42.79513%2C%20-74.01276999999997%5D%2C%0A%20%20%20%20%20%20%20%20%20%20%20%20%20%20%20%20%7B%7D%0A%20%20%20%20%20%20%20%20%20%20%20%20%29.addTo%28map_4fd38b12ea1542b9a138914b266c9879%29%3B%0A%20%20%20%20%20%20%20%20%0A%20%20%20%20%0A%20%20%20%20%20%20%20%20var%20popup_61ed0978d46d4856848aaacd16ae823e%20%3D%20L.popup%28%7B%22autoClose%22%3A%20false%2C%20%22maxWidth%22%3A%20%22100%25%22%7D%29%3B%0A%0A%20%20%20%20%20%20%20%20%0A%20%20%20%20%20%20%20%20%20%20%20%20var%20html_7deb4b664fc4494193807314ab4bbb8e%20%3D%20%24%28%60%3Cdiv%20id%3D%22html_7deb4b664fc4494193807314ab4bbb8e%22%20style%3D%22width%3A%20100.0%25%3B%20height%3A%20100.0%25%3B%22%3E%20%20Schenectady%20County%3C/div%3E%60%29%5B0%5D%3B%0A%20%20%20%20%20%20%20%20%20%20%20%20popup_61ed0978d46d4856848aaacd16ae823e.setContent%28html_7deb4b664fc4494193807314ab4bbb8e%29%3B%0A%20%20%20%20%20%20%20%20%0A%0A%20%20%20%20%20%20%20%20marker_125c4d1897ee476e9c6c08f34e58afbe.bindPopup%28popup_61ed0978d46d4856848aaacd16ae823e%29%0A%20%20%20%20%20%20%20%20.openPopup%28%29%3B%0A%0A%20%20%20%20%20%20%20%20%0A%20%20%20%20%0A%20%20%20%20%0A%20%20%20%20%20%20%20%20%20%20%20%20var%20marker_3d67f2b89ad549f28bf7a387b5fd87ed%20%3D%20L.marker%28%0A%20%20%20%20%20%20%20%20%20%20%20%20%20%20%20%20%5B42.6426%2C%20-74.44985%5D%2C%0A%20%20%20%20%20%20%20%20%20%20%20%20%20%20%20%20%7B%7D%0A%20%20%20%20%20%20%20%20%20%20%20%20%29.addTo%28map_4fd38b12ea1542b9a138914b266c9879%29%3B%0A%20%20%20%20%20%20%20%20%0A%20%20%20%20%0A%20%20%20%20%20%20%20%20var%20popup_ad0bf3b51e7644969a33ddd9f18264a8%20%3D%20L.popup%28%7B%22autoClose%22%3A%20false%2C%20%22maxWidth%22%3A%20%22100%25%22%7D%29%3B%0A%0A%20%20%20%20%20%20%20%20%0A%20%20%20%20%20%20%20%20%20%20%20%20var%20html_4a98b34e768a4b05a6fbb39293c058da%20%3D%20%24%28%60%3Cdiv%20id%3D%22html_4a98b34e768a4b05a6fbb39293c058da%22%20style%3D%22width%3A%20100.0%25%3B%20height%3A%20100.0%25%3B%22%3E%20%20Schoharie%20County%3C/div%3E%60%29%5B0%5D%3B%0A%20%20%20%20%20%20%20%20%20%20%20%20popup_ad0bf3b51e7644969a33ddd9f18264a8.setContent%28html_4a98b34e768a4b05a6fbb39293c058da%29%3B%0A%20%20%20%20%20%20%20%20%0A%0A%20%20%20%20%20%20%20%20marker_3d67f2b89ad549f28bf7a387b5fd87ed.bindPopup%28popup_ad0bf3b51e7644969a33ddd9f18264a8%29%0A%20%20%20%20%20%20%20%20.openPopup%28%29%3B%0A%0A%20%20%20%20%20%20%20%20%0A%20%20%20%20%0A%20%20%20%20%0A%20%20%20%20%20%20%20%20%20%20%20%20var%20marker_f2bed87e7d044f3aa575ade20075cdb8%20%3D%20L.marker%28%0A%20%20%20%20%20%20%20%20%20%20%20%20%20%20%20%20%5B42.35527%2C%20-76.82943%5D%2C%0A%20%20%20%20%20%20%20%20%20%20%20%20%20%20%20%20%7B%7D%0A%20%20%20%20%20%20%20%20%20%20%20%20%29.addTo%28map_4fd38b12ea1542b9a138914b266c9879%29%3B%0A%20%20%20%20%20%20%20%20%0A%20%20%20%20%0A%20%20%20%20%20%20%20%20var%20popup_83fab9f3b3214f8db260dce8a17fa440%20%3D%20L.popup%28%7B%22autoClose%22%3A%20false%2C%20%22maxWidth%22%3A%20%22100%25%22%7D%29%3B%0A%0A%20%20%20%20%20%20%20%20%0A%20%20%20%20%20%20%20%20%20%20%20%20var%20html_56e9aca958704717a8e4f5664a4bb3cc%20%3D%20%24%28%60%3Cdiv%20id%3D%22html_56e9aca958704717a8e4f5664a4bb3cc%22%20style%3D%22width%3A%20100.0%25%3B%20height%3A%20100.0%25%3B%22%3E%20%20Schuyler%20County%3C/div%3E%60%29%5B0%5D%3B%0A%20%20%20%20%20%20%20%20%20%20%20%20popup_83fab9f3b3214f8db260dce8a17fa440.setContent%28html_56e9aca958704717a8e4f5664a4bb3cc%29%3B%0A%20%20%20%20%20%20%20%20%0A%0A%20%20%20%20%20%20%20%20marker_f2bed87e7d044f3aa575ade20075cdb8.bindPopup%28popup_83fab9f3b3214f8db260dce8a17fa440%29%0A%20%20%20%20%20%20%20%20.openPopup%28%29%3B%0A%0A%20%20%20%20%20%20%20%20%0A%20%20%20%20%0A%20%20%20%20%0A%20%20%20%20%20%20%20%20%20%20%20%20var%20marker_394998d93ee341129f068f4f0e395128%20%3D%20L.marker%28%0A%20%20%20%20%20%20%20%20%20%20%20%20%20%20%20%20%5B42.901865%2C%20-76.81681500000002%5D%2C%0A%20%20%20%20%20%20%20%20%20%20%20%20%20%20%20%20%7B%7D%0A%20%20%20%20%20%20%20%20%20%20%20%20%29.addTo%28map_4fd38b12ea1542b9a138914b266c9879%29%3B%0A%20%20%20%20%20%20%20%20%0A%20%20%20%20%0A%20%20%20%20%20%20%20%20var%20popup_390462e9d53a48c79f42a807b2d1a692%20%3D%20L.popup%28%7B%22autoClose%22%3A%20false%2C%20%22maxWidth%22%3A%20%22100%25%22%7D%29%3B%0A%0A%20%20%20%20%20%20%20%20%0A%20%20%20%20%20%20%20%20%20%20%20%20var%20html_ff13c403c7974c8194254c2b05fb2cf0%20%3D%20%24%28%60%3Cdiv%20id%3D%22html_ff13c403c7974c8194254c2b05fb2cf0%22%20style%3D%22width%3A%20100.0%25%3B%20height%3A%20100.0%25%3B%22%3E%20%20Seneca%20County%3C/div%3E%60%29%5B0%5D%3B%0A%20%20%20%20%20%20%20%20%20%20%20%20popup_390462e9d53a48c79f42a807b2d1a692.setContent%28html_ff13c403c7974c8194254c2b05fb2cf0%29%3B%0A%20%20%20%20%20%20%20%20%0A%0A%20%20%20%20%20%20%20%20marker_394998d93ee341129f068f4f0e395128.bindPopup%28popup_390462e9d53a48c79f42a807b2d1a692%29%0A%20%20%20%20%20%20%20%20.openPopup%28%29%3B%0A%0A%20%20%20%20%20%20%20%20%0A%20%20%20%20%0A%20%20%20%20%0A%20%20%20%20%20%20%20%20%20%20%20%20var%20marker_11781aecfc2e485fbdf6628177a4b77a%20%3D%20L.marker%28%0A%20%20%20%20%20%20%20%20%20%20%20%20%20%20%20%20%5B44.581905%2C%20-75.11351000000002%5D%2C%0A%20%20%20%20%20%20%20%20%20%20%20%20%20%20%20%20%7B%7D%0A%20%20%20%20%20%20%20%20%20%20%20%20%29.addTo%28map_4fd38b12ea1542b9a138914b266c9879%29%3B%0A%20%20%20%20%20%20%20%20%0A%20%20%20%20%0A%20%20%20%20%20%20%20%20var%20popup_a4cbdd068fac4a20a5ee6dcd88152229%20%3D%20L.popup%28%7B%22autoClose%22%3A%20false%2C%20%22maxWidth%22%3A%20%22100%25%22%7D%29%3B%0A%0A%20%20%20%20%20%20%20%20%0A%20%20%20%20%20%20%20%20%20%20%20%20var%20html_8c4411e1d1394c32b82a3493174adcf3%20%3D%20%24%28%60%3Cdiv%20id%3D%22html_8c4411e1d1394c32b82a3493174adcf3%22%20style%3D%22width%3A%20100.0%25%3B%20height%3A%20100.0%25%3B%22%3E%20%20St.%20Lawrence%20County%3C/div%3E%60%29%5B0%5D%3B%0A%20%20%20%20%20%20%20%20%20%20%20%20popup_a4cbdd068fac4a20a5ee6dcd88152229.setContent%28html_8c4411e1d1394c32b82a3493174adcf3%29%3B%0A%20%20%20%20%20%20%20%20%0A%0A%20%20%20%20%20%20%20%20marker_11781aecfc2e485fbdf6628177a4b77a.bindPopup%28popup_a4cbdd068fac4a20a5ee6dcd88152229%29%0A%20%20%20%20%20%20%20%20.openPopup%28%29%3B%0A%0A%20%20%20%20%20%20%20%20%0A%20%20%20%20%0A%20%20%20%20%0A%20%20%20%20%20%20%20%20%20%20%20%20var%20marker_41bfef315afb4b12b14ee1db1df36cd7%20%3D%20L.marker%28%0A%20%20%20%20%20%20%20%20%20%20%20%20%20%20%20%20%5B42.26493%2C%20-77.3913%5D%2C%0A%20%20%20%20%20%20%20%20%20%20%20%20%20%20%20%20%7B%7D%0A%20%20%20%20%20%20%20%20%20%20%20%20%29.addTo%28map_4fd38b12ea1542b9a138914b266c9879%29%3B%0A%20%20%20%20%20%20%20%20%0A%20%20%20%20%0A%20%20%20%20%20%20%20%20var%20popup_09d338ab23b84395a5156af3394ff9ce%20%3D%20L.popup%28%7B%22autoClose%22%3A%20false%2C%20%22maxWidth%22%3A%20%22100%25%22%7D%29%3B%0A%0A%20%20%20%20%20%20%20%20%0A%20%20%20%20%20%20%20%20%20%20%20%20var%20html_1f249d57a3f4462e9ca157641e3ca03e%20%3D%20%24%28%60%3Cdiv%20id%3D%22html_1f249d57a3f4462e9ca157641e3ca03e%22%20style%3D%22width%3A%20100.0%25%3B%20height%3A%20100.0%25%3B%22%3E%20%20Steuben%20County%3C/div%3E%60%29%5B0%5D%3B%0A%20%20%20%20%20%20%20%20%20%20%20%20popup_09d338ab23b84395a5156af3394ff9ce.setContent%28html_1f249d57a3f4462e9ca157641e3ca03e%29%3B%0A%20%20%20%20%20%20%20%20%0A%0A%20%20%20%20%20%20%20%20marker_41bfef315afb4b12b14ee1db1df36cd7.bindPopup%28popup_09d338ab23b84395a5156af3394ff9ce%29%0A%20%20%20%20%20%20%20%20.openPopup%28%29%3B%0A%0A%20%20%20%20%20%20%20%20%0A%20%20%20%20%0A%20%20%20%20%0A%20%20%20%20%20%20%20%20%20%20%20%20var%20marker_eeba1513a281464ba52343c02b2564fb%20%3D%20L.marker%28%0A%20%20%20%20%20%20%20%20%20%20%20%20%20%20%20%20%5B40.810215%2C%20-73.14754500000001%5D%2C%0A%20%20%20%20%20%20%20%20%20%20%20%20%20%20%20%20%7B%7D%0A%20%20%20%20%20%20%20%20%20%20%20%20%29.addTo%28map_4fd38b12ea1542b9a138914b266c9879%29%3B%0A%20%20%20%20%20%20%20%20%0A%20%20%20%20%0A%20%20%20%20%20%20%20%20var%20popup_0ab396365a72404db3c1222bf177d98e%20%3D%20L.popup%28%7B%22autoClose%22%3A%20false%2C%20%22maxWidth%22%3A%20%22100%25%22%7D%29%3B%0A%0A%20%20%20%20%20%20%20%20%0A%20%20%20%20%20%20%20%20%20%20%20%20var%20html_a472b3e7b58541999f4d9bcf0f2a198e%20%3D%20%24%28%60%3Cdiv%20id%3D%22html_a472b3e7b58541999f4d9bcf0f2a198e%22%20style%3D%22width%3A%20100.0%25%3B%20height%3A%20100.0%25%3B%22%3E%20%20Suffolk%20County%3C/div%3E%60%29%5B0%5D%3B%0A%20%20%20%20%20%20%20%20%20%20%20%20popup_0ab396365a72404db3c1222bf177d98e.setContent%28html_a472b3e7b58541999f4d9bcf0f2a198e%29%3B%0A%20%20%20%20%20%20%20%20%0A%0A%20%20%20%20%20%20%20%20marker_eeba1513a281464ba52343c02b2564fb.bindPopup%28popup_0ab396365a72404db3c1222bf177d98e%29%0A%20%20%20%20%20%20%20%20.openPopup%28%29%3B%0A%0A%20%20%20%20%20%20%20%20%0A%20%20%20%20%0A%20%20%20%20%0A%20%20%20%20%20%20%20%20%20%20%20%20var%20marker_28359e2daf794883b99595c0665bd621%20%3D%20L.marker%28%0A%20%20%20%20%20%20%20%20%20%20%20%20%20%20%20%20%5B41.774315%2C%20-74.75978500000002%5D%2C%0A%20%20%20%20%20%20%20%20%20%20%20%20%20%20%20%20%7B%7D%0A%20%20%20%20%20%20%20%20%20%20%20%20%29.addTo%28map_4fd38b12ea1542b9a138914b266c9879%29%3B%0A%20%20%20%20%20%20%20%20%0A%20%20%20%20%0A%20%20%20%20%20%20%20%20var%20popup_d149c60ba336411387425cc1fad05395%20%3D%20L.popup%28%7B%22autoClose%22%3A%20false%2C%20%22maxWidth%22%3A%20%22100%25%22%7D%29%3B%0A%0A%20%20%20%20%20%20%20%20%0A%20%20%20%20%20%20%20%20%20%20%20%20var%20html_91cc1fe32baf4cc7bbf541c369d14e82%20%3D%20%24%28%60%3Cdiv%20id%3D%22html_91cc1fe32baf4cc7bbf541c369d14e82%22%20style%3D%22width%3A%20100.0%25%3B%20height%3A%20100.0%25%3B%22%3E%20%20Sullivan%20County%3C/div%3E%60%29%5B0%5D%3B%0A%20%20%20%20%20%20%20%20%20%20%20%20popup_d149c60ba336411387425cc1fad05395.setContent%28html_91cc1fe32baf4cc7bbf541c369d14e82%29%3B%0A%20%20%20%20%20%20%20%20%0A%0A%20%20%20%20%20%20%20%20marker_28359e2daf794883b99595c0665bd621.bindPopup%28popup_d149c60ba336411387425cc1fad05395%29%0A%20%20%20%20%20%20%20%20.openPopup%28%29%3B%0A%0A%20%20%20%20%20%20%20%20%0A%20%20%20%20%0A%20%20%20%20%0A%20%20%20%20%20%20%20%20%20%20%20%20var%20marker_c3fef133e5fa40c1885e91b3e2595ca6%20%3D%20L.marker%28%0A%20%20%20%20%20%20%20%20%20%20%20%20%20%20%20%20%5B42.09238%2C%20-76.35699%5D%2C%0A%20%20%20%20%20%20%20%20%20%20%20%20%20%20%20%20%7B%7D%0A%20%20%20%20%20%20%20%20%20%20%20%20%29.addTo%28map_4fd38b12ea1542b9a138914b266c9879%29%3B%0A%20%20%20%20%20%20%20%20%0A%20%20%20%20%0A%20%20%20%20%20%20%20%20var%20popup_d84a11204c634d92b1dafdf97ff04fa5%20%3D%20L.popup%28%7B%22autoClose%22%3A%20false%2C%20%22maxWidth%22%3A%20%22100%25%22%7D%29%3B%0A%0A%20%20%20%20%20%20%20%20%0A%20%20%20%20%20%20%20%20%20%20%20%20var%20html_505c6a91c3b84dd899d5a6658b495432%20%3D%20%24%28%60%3Cdiv%20id%3D%22html_505c6a91c3b84dd899d5a6658b495432%22%20style%3D%22width%3A%20100.0%25%3B%20height%3A%20100.0%25%3B%22%3E%20%20Tioga%20County%3C/div%3E%60%29%5B0%5D%3B%0A%20%20%20%20%20%20%20%20%20%20%20%20popup_d84a11204c634d92b1dafdf97ff04fa5.setContent%28html_505c6a91c3b84dd899d5a6658b495432%29%3B%0A%20%20%20%20%20%20%20%20%0A%0A%20%20%20%20%20%20%20%20marker_c3fef133e5fa40c1885e91b3e2595ca6.bindPopup%28popup_d84a11204c634d92b1dafdf97ff04fa5%29%0A%20%20%20%20%20%20%20%20.openPopup%28%29%3B%0A%0A%20%20%20%20%20%20%20%20%0A%20%20%20%20%0A%20%20%20%20%0A%20%20%20%20%20%20%20%20%20%20%20%20var%20marker_578b9d8b73f346e08461dd5284e0fae1%20%3D%20L.marker%28%0A%20%20%20%20%20%20%20%20%20%20%20%20%20%20%20%20%5B42.45214%2C%20-76.49457%5D%2C%0A%20%20%20%20%20%20%20%20%20%20%20%20%20%20%20%20%7B%7D%0A%20%20%20%20%20%20%20%20%20%20%20%20%29.addTo%28map_4fd38b12ea1542b9a138914b266c9879%29%3B%0A%20%20%20%20%20%20%20%20%0A%20%20%20%20%0A%20%20%20%20%20%20%20%20var%20popup_1a80bb5a657c41e68b4b76945c48e94f%20%3D%20L.popup%28%7B%22autoClose%22%3A%20false%2C%20%22maxWidth%22%3A%20%22100%25%22%7D%29%3B%0A%0A%20%20%20%20%20%20%20%20%0A%20%20%20%20%20%20%20%20%20%20%20%20var%20html_731e5061262a4afa9028fb8e07584229%20%3D%20%24%28%60%3Cdiv%20id%3D%22html_731e5061262a4afa9028fb8e07584229%22%20style%3D%22width%3A%20100.0%25%3B%20height%3A%20100.0%25%3B%22%3E%20%20Tompkins%20County%3C/div%3E%60%29%5B0%5D%3B%0A%20%20%20%20%20%20%20%20%20%20%20%20popup_1a80bb5a657c41e68b4b76945c48e94f.setContent%28html_731e5061262a4afa9028fb8e07584229%29%3B%0A%20%20%20%20%20%20%20%20%0A%0A%20%20%20%20%20%20%20%20marker_578b9d8b73f346e08461dd5284e0fae1.bindPopup%28popup_1a80bb5a657c41e68b4b76945c48e94f%29%0A%20%20%20%20%20%20%20%20.openPopup%28%29%3B%0A%0A%20%20%20%20%20%20%20%20%0A%20%20%20%20%0A%20%20%20%20%0A%20%20%20%20%20%20%20%20%20%20%20%20var%20marker_c3f75aab6cde420fb2f1ec7e611f8981%20%3D%20L.marker%28%0A%20%20%20%20%20%20%20%20%20%20%20%20%20%20%20%20%5B41.93872%2C%20-74.25589000000002%5D%2C%0A%20%20%20%20%20%20%20%20%20%20%20%20%20%20%20%20%7B%7D%0A%20%20%20%20%20%20%20%20%20%20%20%20%29.addTo%28map_4fd38b12ea1542b9a138914b266c9879%29%3B%0A%20%20%20%20%20%20%20%20%0A%20%20%20%20%0A%20%20%20%20%20%20%20%20var%20popup_87a23c3653fd4e56ac36d95c0e8cc8a2%20%3D%20L.popup%28%7B%22autoClose%22%3A%20false%2C%20%22maxWidth%22%3A%20%22100%25%22%7D%29%3B%0A%0A%20%20%20%20%20%20%20%20%0A%20%20%20%20%20%20%20%20%20%20%20%20var%20html_5d1600d9249f45c383f93fb40b09ded5%20%3D%20%24%28%60%3Cdiv%20id%3D%22html_5d1600d9249f45c383f93fb40b09ded5%22%20style%3D%22width%3A%20100.0%25%3B%20height%3A%20100.0%25%3B%22%3E%20%20Ulster%20County%3C/div%3E%60%29%5B0%5D%3B%0A%20%20%20%20%20%20%20%20%20%20%20%20popup_87a23c3653fd4e56ac36d95c0e8cc8a2.setContent%28html_5d1600d9249f45c383f93fb40b09ded5%29%3B%0A%20%20%20%20%20%20%20%20%0A%0A%20%20%20%20%20%20%20%20marker_c3f75aab6cde420fb2f1ec7e611f8981.bindPopup%28popup_87a23c3653fd4e56ac36d95c0e8cc8a2%29%0A%20%20%20%20%20%20%20%20.openPopup%28%29%3B%0A%0A%20%20%20%20%20%20%20%20%0A%20%20%20%20%0A%20%20%20%20%0A%20%20%20%20%20%20%20%20%20%20%20%20var%20marker_484e91a39fe346ecb236b34569b26942%20%3D%20L.marker%28%0A%20%20%20%20%20%20%20%20%20%20%20%20%20%20%20%20%5B43.56863%2C%20-73.78448%5D%2C%0A%20%20%20%20%20%20%20%20%20%20%20%20%20%20%20%20%7B%7D%0A%20%20%20%20%20%20%20%20%20%20%20%20%29.addTo%28map_4fd38b12ea1542b9a138914b266c9879%29%3B%0A%20%20%20%20%20%20%20%20%0A%20%20%20%20%0A%20%20%20%20%20%20%20%20var%20popup_f8eb3971830b41608f31c0803167ec77%20%3D%20L.popup%28%7B%22autoClose%22%3A%20false%2C%20%22maxWidth%22%3A%20%22100%25%22%7D%29%3B%0A%0A%20%20%20%20%20%20%20%20%0A%20%20%20%20%20%20%20%20%20%20%20%20var%20html_691fb0c4a4c441678e7a1fbf74cf47b2%20%3D%20%24%28%60%3Cdiv%20id%3D%22html_691fb0c4a4c441678e7a1fbf74cf47b2%22%20style%3D%22width%3A%20100.0%25%3B%20height%3A%20100.0%25%3B%22%3E%20%20Warren%20County%3C/div%3E%60%29%5B0%5D%3B%0A%20%20%20%20%20%20%20%20%20%20%20%20popup_f8eb3971830b41608f31c0803167ec77.setContent%28html_691fb0c4a4c441678e7a1fbf74cf47b2%29%3B%0A%20%20%20%20%20%20%20%20%0A%0A%20%20%20%20%20%20%20%20marker_484e91a39fe346ecb236b34569b26942.bindPopup%28popup_f8eb3971830b41608f31c0803167ec77%29%0A%20%20%20%20%20%20%20%20.openPopup%28%29%3B%0A%0A%20%20%20%20%20%20%20%20%0A%20%20%20%20%0A%20%20%20%20%0A%20%20%20%20%20%20%20%20%20%20%20%20var%20marker_086e67c23c044108b85b244099ca9bf5%20%3D%20L.marker%28%0A%20%20%20%20%20%20%20%20%20%20%20%20%20%20%20%20%5B43.25502%2C%20-73.40401999999997%5D%2C%0A%20%20%20%20%20%20%20%20%20%20%20%20%20%20%20%20%7B%7D%0A%20%20%20%20%20%20%20%20%20%20%20%20%29.addTo%28map_4fd38b12ea1542b9a138914b266c9879%29%3B%0A%20%20%20%20%20%20%20%20%0A%20%20%20%20%0A%20%20%20%20%20%20%20%20var%20popup_8587ab1802ab40e9988472a400716475%20%3D%20L.popup%28%7B%22autoClose%22%3A%20false%2C%20%22maxWidth%22%3A%20%22100%25%22%7D%29%3B%0A%0A%20%20%20%20%20%20%20%20%0A%20%20%20%20%20%20%20%20%20%20%20%20var%20html_6fce50cf985d4ad6802ed3fc9e550750%20%3D%20%24%28%60%3Cdiv%20id%3D%22html_6fce50cf985d4ad6802ed3fc9e550750%22%20style%3D%22width%3A%20100.0%25%3B%20height%3A%20100.0%25%3B%22%3E%20%20Washington%20County%3C/div%3E%60%29%5B0%5D%3B%0A%20%20%20%20%20%20%20%20%20%20%20%20popup_8587ab1802ab40e9988472a400716475.setContent%28html_6fce50cf985d4ad6802ed3fc9e550750%29%3B%0A%20%20%20%20%20%20%20%20%0A%0A%20%20%20%20%20%20%20%20marker_086e67c23c044108b85b244099ca9bf5.bindPopup%28popup_8587ab1802ab40e9988472a400716475%29%0A%20%20%20%20%20%20%20%20.openPopup%28%29%3B%0A%0A%20%20%20%20%20%20%20%20%0A%20%20%20%20%0A%20%20%20%20%0A%20%20%20%20%20%20%20%20%20%20%20%20var%20marker_89bee757d6a246d0a20a63417c6aae9c%20%3D%20L.marker%28%0A%20%20%20%20%20%20%20%20%20%20%20%20%20%20%20%20%5B43.08682%2C%20-77.04966999999998%5D%2C%0A%20%20%20%20%20%20%20%20%20%20%20%20%20%20%20%20%7B%7D%0A%20%20%20%20%20%20%20%20%20%20%20%20%29.addTo%28map_4fd38b12ea1542b9a138914b266c9879%29%3B%0A%20%20%20%20%20%20%20%20%0A%20%20%20%20%0A%20%20%20%20%20%20%20%20var%20popup_8d772322e11047279c32428e1e9ec0b8%20%3D%20L.popup%28%7B%22autoClose%22%3A%20false%2C%20%22maxWidth%22%3A%20%22100%25%22%7D%29%3B%0A%0A%20%20%20%20%20%20%20%20%0A%20%20%20%20%20%20%20%20%20%20%20%20var%20html_3956a3158d63443f9647c161ebf19f9b%20%3D%20%24%28%60%3Cdiv%20id%3D%22html_3956a3158d63443f9647c161ebf19f9b%22%20style%3D%22width%3A%20100.0%25%3B%20height%3A%20100.0%25%3B%22%3E%20%20Wayne%20County%3C/div%3E%60%29%5B0%5D%3B%0A%20%20%20%20%20%20%20%20%20%20%20%20popup_8d772322e11047279c32428e1e9ec0b8.setContent%28html_3956a3158d63443f9647c161ebf19f9b%29%3B%0A%20%20%20%20%20%20%20%20%0A%0A%20%20%20%20%20%20%20%20marker_89bee757d6a246d0a20a63417c6aae9c.bindPopup%28popup_8d772322e11047279c32428e1e9ec0b8%29%0A%20%20%20%20%20%20%20%20.openPopup%28%29%3B%0A%0A%20%20%20%20%20%20%20%20%0A%20%20%20%20%0A%20%20%20%20%0A%20%20%20%20%20%20%20%20%20%20%20%20var%20marker_058f56735d4f4f18aab926a4cb811240%20%3D%20L.marker%28%0A%20%20%20%20%20%20%20%20%20%20%20%20%20%20%20%20%5B41.03268%2C%20-73.80439%5D%2C%0A%20%20%20%20%20%20%20%20%20%20%20%20%20%20%20%20%7B%7D%0A%20%20%20%20%20%20%20%20%20%20%20%20%29.addTo%28map_4fd38b12ea1542b9a138914b266c9879%29%3B%0A%20%20%20%20%20%20%20%20%0A%20%20%20%20%0A%20%20%20%20%20%20%20%20var%20popup_42e3135ff03945ebac4016188a66ce0a%20%3D%20L.popup%28%7B%22autoClose%22%3A%20false%2C%20%22maxWidth%22%3A%20%22100%25%22%7D%29%3B%0A%0A%20%20%20%20%20%20%20%20%0A%20%20%20%20%20%20%20%20%20%20%20%20var%20html_3bfe637a9baa4d3aa79739bcbcfedfc7%20%3D%20%24%28%60%3Cdiv%20id%3D%22html_3bfe637a9baa4d3aa79739bcbcfedfc7%22%20style%3D%22width%3A%20100.0%25%3B%20height%3A%20100.0%25%3B%22%3E%20%20Westchester%20County%3C/div%3E%60%29%5B0%5D%3B%0A%20%20%20%20%20%20%20%20%20%20%20%20popup_42e3135ff03945ebac4016188a66ce0a.setContent%28html_3bfe637a9baa4d3aa79739bcbcfedfc7%29%3B%0A%20%20%20%20%20%20%20%20%0A%0A%20%20%20%20%20%20%20%20marker_058f56735d4f4f18aab926a4cb811240.bindPopup%28popup_42e3135ff03945ebac4016188a66ce0a%29%0A%20%20%20%20%20%20%20%20.openPopup%28%29%3B%0A%0A%20%20%20%20%20%20%20%20%0A%20%20%20%20%0A%20%20%20%20%0A%20%20%20%20%20%20%20%20%20%20%20%20var%20marker_f20dc75d15e5499597fc12a6aa38cc0b%20%3D%20L.marker%28%0A%20%20%20%20%20%20%20%20%20%20%20%20%20%20%20%20%5B42.71679%2C%20-78.25467499999999%5D%2C%0A%20%20%20%20%20%20%20%20%20%20%20%20%20%20%20%20%7B%7D%0A%20%20%20%20%20%20%20%20%20%20%20%20%29.addTo%28map_4fd38b12ea1542b9a138914b266c9879%29%3B%0A%20%20%20%20%20%20%20%20%0A%20%20%20%20%0A%20%20%20%20%20%20%20%20var%20popup_f11d2647e0b54903b4a417ad46fc3bc2%20%3D%20L.popup%28%7B%22autoClose%22%3A%20false%2C%20%22maxWidth%22%3A%20%22100%25%22%7D%29%3B%0A%0A%20%20%20%20%20%20%20%20%0A%20%20%20%20%20%20%20%20%20%20%20%20var%20html_b2e17db0a7854ffabd8ef8af196f3c5c%20%3D%20%24%28%60%3Cdiv%20id%3D%22html_b2e17db0a7854ffabd8ef8af196f3c5c%22%20style%3D%22width%3A%20100.0%25%3B%20height%3A%20100.0%25%3B%22%3E%20%20Wyoming%20County%3C/div%3E%60%29%5B0%5D%3B%0A%20%20%20%20%20%20%20%20%20%20%20%20popup_f11d2647e0b54903b4a417ad46fc3bc2.setContent%28html_b2e17db0a7854ffabd8ef8af196f3c5c%29%3B%0A%20%20%20%20%20%20%20%20%0A%0A%20%20%20%20%20%20%20%20marker_f20dc75d15e5499597fc12a6aa38cc0b.bindPopup%28popup_f11d2647e0b54903b4a417ad46fc3bc2%29%0A%20%20%20%20%20%20%20%20.openPopup%28%29%3B%0A%0A%20%20%20%20%20%20%20%20%0A%20%20%20%20%0A%20%20%20%20%0A%20%20%20%20%20%20%20%20%20%20%20%20var%20marker_5435ae3975fc4ce99bc467c948f25f91%20%3D%20L.marker%28%0A%20%20%20%20%20%20%20%20%20%20%20%20%20%20%20%20%5B42.65453%2C%20-77.077195%5D%2C%0A%20%20%20%20%20%20%20%20%20%20%20%20%20%20%20%20%7B%7D%0A%20%20%20%20%20%20%20%20%20%20%20%20%29.addTo%28map_4fd38b12ea1542b9a138914b266c9879%29%3B%0A%20%20%20%20%20%20%20%20%0A%20%20%20%20%0A%20%20%20%20%20%20%20%20var%20popup_59e521ac35f94da3907357748ea441d7%20%3D%20L.popup%28%7B%22autoClose%22%3A%20false%2C%20%22maxWidth%22%3A%20%22100%25%22%7D%29%3B%0A%0A%20%20%20%20%20%20%20%20%0A%20%20%20%20%20%20%20%20%20%20%20%20var%20html_074d70f31f904f11a7dc9bcc75ec526e%20%3D%20%24%28%60%3Cdiv%20id%3D%22html_074d70f31f904f11a7dc9bcc75ec526e%22%20style%3D%22width%3A%20100.0%25%3B%20height%3A%20100.0%25%3B%22%3E%20%20Yates%20County%3C/div%3E%60%29%5B0%5D%3B%0A%20%20%20%20%20%20%20%20%20%20%20%20popup_59e521ac35f94da3907357748ea441d7.setContent%28html_074d70f31f904f11a7dc9bcc75ec526e%29%3B%0A%20%20%20%20%20%20%20%20%0A%0A%20%20%20%20%20%20%20%20marker_5435ae3975fc4ce99bc467c948f25f91.bindPopup%28popup_59e521ac35f94da3907357748ea441d7%29%0A%20%20%20%20%20%20%20%20.openPopup%28%29%3B%0A%0A%20%20%20%20%20%20%20%20%0A%20%20%20%20%0A%20%20%20%20%0A%20%20%20%20%20%20%20%20%20%20%20%20var%20marker_194db9a60f424c93b973de1e5b05bb3f%20%3D%20L.marker%28%0A%20%20%20%20%20%20%20%20%20%20%20%20%20%20%20%20%5B42.663485%2C%20-73.824365%5D%2C%0A%20%20%20%20%20%20%20%20%20%20%20%20%20%20%20%20%7B%7D%0A%20%20%20%20%20%20%20%20%20%20%20%20%29.addTo%28map_4fd38b12ea1542b9a138914b266c9879%29%3B%0A%20%20%20%20%20%20%20%20%0A%20%20%20%20%0A%20%20%20%20%20%20%20%20var%20popup_a8cfe56987c14e8baea2c3ff7d5c8783%20%3D%20L.popup%28%7B%22autoClose%22%3A%20false%2C%20%22maxWidth%22%3A%20%22100%25%22%7D%29%3B%0A%0A%20%20%20%20%20%20%20%20%0A%20%20%20%20%20%20%20%20%20%20%20%20var%20html_d94c1795acec477fa4c23266250a6a65%20%3D%20%24%28%60%3Cdiv%20id%3D%22html_d94c1795acec477fa4c23266250a6a65%22%20style%3D%22width%3A%20100.0%25%3B%20height%3A%20100.0%25%3B%22%3E%20%20Albany%20County%3C/div%3E%60%29%5B0%5D%3B%0A%20%20%20%20%20%20%20%20%20%20%20%20popup_a8cfe56987c14e8baea2c3ff7d5c8783.setContent%28html_d94c1795acec477fa4c23266250a6a65%29%3B%0A%20%20%20%20%20%20%20%20%0A%0A%20%20%20%20%20%20%20%20marker_194db9a60f424c93b973de1e5b05bb3f.bindPopup%28popup_a8cfe56987c14e8baea2c3ff7d5c8783%29%0A%20%20%20%20%20%20%20%20.openPopup%28%29%3B%0A%0A%20%20%20%20%20%20%20%20%0A%20%20%20%20%0A%20%20%20%20%0A%20%20%20%20%20%20%20%20%20%20%20%20var%20marker_560ce91468c34666a817997cd0c7052e%20%3D%20L.marker%28%0A%20%20%20%20%20%20%20%20%20%20%20%20%20%20%20%20%5B42.252735%2C%20-78.012665%5D%2C%0A%20%20%20%20%20%20%20%20%20%20%20%20%20%20%20%20%7B%7D%0A%20%20%20%20%20%20%20%20%20%20%20%20%29.addTo%28map_4fd38b12ea1542b9a138914b266c9879%29%3B%0A%20%20%20%20%20%20%20%20%0A%20%20%20%20%0A%20%20%20%20%20%20%20%20var%20popup_688951ad537445109994c5fbcc576233%20%3D%20L.popup%28%7B%22autoClose%22%3A%20false%2C%20%22maxWidth%22%3A%20%22100%25%22%7D%29%3B%0A%0A%20%20%20%20%20%20%20%20%0A%20%20%20%20%20%20%20%20%20%20%20%20var%20html_fe03532cdde148449167fdf2cbb8821f%20%3D%20%24%28%60%3Cdiv%20id%3D%22html_fe03532cdde148449167fdf2cbb8821f%22%20style%3D%22width%3A%20100.0%25%3B%20height%3A%20100.0%25%3B%22%3E%20%20Allegany%20County%3C/div%3E%60%29%5B0%5D%3B%0A%20%20%20%20%20%20%20%20%20%20%20%20popup_688951ad537445109994c5fbcc576233.setContent%28html_fe03532cdde148449167fdf2cbb8821f%29%3B%0A%20%20%20%20%20%20%20%20%0A%0A%20%20%20%20%20%20%20%20marker_560ce91468c34666a817997cd0c7052e.bindPopup%28popup_688951ad537445109994c5fbcc576233%29%0A%20%20%20%20%20%20%20%20.openPopup%28%29%3B%0A%0A%20%20%20%20%20%20%20%20%0A%20%20%20%20%0A%20%20%20%20%0A%20%20%20%20%20%20%20%20%20%20%20%20var%20marker_ab5eed1f9fa14cd6a6b36de6eb9ad635%20%3D%20L.marker%28%0A%20%20%20%20%20%20%20%20%20%20%20%20%20%20%20%20%5B40.840755%2C%20-73.89137%5D%2C%0A%20%20%20%20%20%20%20%20%20%20%20%20%20%20%20%20%7B%7D%0A%20%20%20%20%20%20%20%20%20%20%20%20%29.addTo%28map_4fd38b12ea1542b9a138914b266c9879%29%3B%0A%20%20%20%20%20%20%20%20%0A%20%20%20%20%0A%20%20%20%20%20%20%20%20var%20popup_2f256313023c4858b10c02090c740665%20%3D%20L.popup%28%7B%22autoClose%22%3A%20false%2C%20%22maxWidth%22%3A%20%22100%25%22%7D%29%3B%0A%0A%20%20%20%20%20%20%20%20%0A%20%20%20%20%20%20%20%20%20%20%20%20var%20html_37851306c6084e7fa54302459fe53909%20%3D%20%24%28%60%3Cdiv%20id%3D%22html_37851306c6084e7fa54302459fe53909%22%20style%3D%22width%3A%20100.0%25%3B%20height%3A%20100.0%25%3B%22%3E%20%20Bronx%20County%3C/div%3E%60%29%5B0%5D%3B%0A%20%20%20%20%20%20%20%20%20%20%20%20popup_2f256313023c4858b10c02090c740665.setContent%28html_37851306c6084e7fa54302459fe53909%29%3B%0A%20%20%20%20%20%20%20%20%0A%0A%20%20%20%20%20%20%20%20marker_ab5eed1f9fa14cd6a6b36de6eb9ad635.bindPopup%28popup_2f256313023c4858b10c02090c740665%29%0A%20%20%20%20%20%20%20%20.openPopup%28%29%3B%0A%0A%20%20%20%20%20%20%20%20%0A%20%20%20%20%0A%20%20%20%20%0A%20%20%20%20%20%20%20%20%20%20%20%20var%20marker_e050e88aaf0d44d19f85ca8567bb9710%20%3D%20L.marker%28%0A%20%20%20%20%20%20%20%20%20%20%20%20%20%20%20%20%5B42.115115%2C%20-75.896675%5D%2C%0A%20%20%20%20%20%20%20%20%20%20%20%20%20%20%20%20%7B%7D%0A%20%20%20%20%20%20%20%20%20%20%20%20%29.addTo%28map_4fd38b12ea1542b9a138914b266c9879%29%3B%0A%20%20%20%20%20%20%20%20%0A%20%20%20%20%0A%20%20%20%20%20%20%20%20var%20popup_fd85a07c18404bef9dbb232fea067d48%20%3D%20L.popup%28%7B%22autoClose%22%3A%20false%2C%20%22maxWidth%22%3A%20%22100%25%22%7D%29%3B%0A%0A%20%20%20%20%20%20%20%20%0A%20%20%20%20%20%20%20%20%20%20%20%20var%20html_3de6287a6257488fbb51d52fdd745d5f%20%3D%20%24%28%60%3Cdiv%20id%3D%22html_3de6287a6257488fbb51d52fdd745d5f%22%20style%3D%22width%3A%20100.0%25%3B%20height%3A%20100.0%25%3B%22%3E%20%20Broome%20County%3C/div%3E%60%29%5B0%5D%3B%0A%20%20%20%20%20%20%20%20%20%20%20%20popup_fd85a07c18404bef9dbb232fea067d48.setContent%28html_3de6287a6257488fbb51d52fdd745d5f%29%3B%0A%20%20%20%20%20%20%20%20%0A%0A%20%20%20%20%20%20%20%20marker_e050e88aaf0d44d19f85ca8567bb9710.bindPopup%28popup_fd85a07c18404bef9dbb232fea067d48%29%0A%20%20%20%20%20%20%20%20.openPopup%28%29%3B%0A%0A%20%20%20%20%20%20%20%20%0A%20%20%20%20%0A%20%20%20%20%0A%20%20%20%20%20%20%20%20%20%20%20%20var%20marker_eb0b592b584a46b9b3260c5867530157%20%3D%20L.marker%28%0A%20%20%20%20%20%20%20%20%20%20%20%20%20%20%20%20%5B42.244110000000006%2C%20-78.640705%5D%2C%0A%20%20%20%20%20%20%20%20%20%20%20%20%20%20%20%20%7B%7D%0A%20%20%20%20%20%20%20%20%20%20%20%20%29.addTo%28map_4fd38b12ea1542b9a138914b266c9879%29%3B%0A%20%20%20%20%20%20%20%20%0A%20%20%20%20%0A%20%20%20%20%20%20%20%20var%20popup_f024714f3cef4e7a986f90468782d08a%20%3D%20L.popup%28%7B%22autoClose%22%3A%20false%2C%20%22maxWidth%22%3A%20%22100%25%22%7D%29%3B%0A%0A%20%20%20%20%20%20%20%20%0A%20%20%20%20%20%20%20%20%20%20%20%20var%20html_6bdc7c98988247a6b1833d05f570f43d%20%3D%20%24%28%60%3Cdiv%20id%3D%22html_6bdc7c98988247a6b1833d05f570f43d%22%20style%3D%22width%3A%20100.0%25%3B%20height%3A%20100.0%25%3B%22%3E%20%20Cattaraugus%20County%3C/div%3E%60%29%5B0%5D%3B%0A%20%20%20%20%20%20%20%20%20%20%20%20popup_f024714f3cef4e7a986f90468782d08a.setContent%28html_6bdc7c98988247a6b1833d05f570f43d%29%3B%0A%20%20%20%20%20%20%20%20%0A%0A%20%20%20%20%20%20%20%20marker_eb0b592b584a46b9b3260c5867530157.bindPopup%28popup_f024714f3cef4e7a986f90468782d08a%29%0A%20%20%20%20%20%20%20%20.openPopup%28%29%3B%0A%0A%20%20%20%20%20%20%20%20%0A%20%20%20%20%0A%20%20%20%20%0A%20%20%20%20%20%20%20%20%20%20%20%20var%20marker_fe2e0247697343b7bfe88b3b18fc1c9a%20%3D%20L.marker%28%0A%20%20%20%20%20%20%20%20%20%20%20%20%20%20%20%20%5B42.933170000000004%2C%20-76.5702%5D%2C%0A%20%20%20%20%20%20%20%20%20%20%20%20%20%20%20%20%7B%7D%0A%20%20%20%20%20%20%20%20%20%20%20%20%29.addTo%28map_4fd38b12ea1542b9a138914b266c9879%29%3B%0A%20%20%20%20%20%20%20%20%0A%20%20%20%20%0A%20%20%20%20%20%20%20%20var%20popup_e8b3a1170dbe4a399eb652d55b667bd2%20%3D%20L.popup%28%7B%22autoClose%22%3A%20false%2C%20%22maxWidth%22%3A%20%22100%25%22%7D%29%3B%0A%0A%20%20%20%20%20%20%20%20%0A%20%20%20%20%20%20%20%20%20%20%20%20var%20html_ac06821551b446dbaeaf855d1a8e2f0f%20%3D%20%24%28%60%3Cdiv%20id%3D%22html_ac06821551b446dbaeaf855d1a8e2f0f%22%20style%3D%22width%3A%20100.0%25%3B%20height%3A%20100.0%25%3B%22%3E%20%20Cayuga%20County%3C/div%3E%60%29%5B0%5D%3B%0A%20%20%20%20%20%20%20%20%20%20%20%20popup_e8b3a1170dbe4a399eb652d55b667bd2.setContent%28html_ac06821551b446dbaeaf855d1a8e2f0f%29%3B%0A%20%20%20%20%20%20%20%20%0A%0A%20%20%20%20%20%20%20%20marker_fe2e0247697343b7bfe88b3b18fc1c9a.bindPopup%28popup_e8b3a1170dbe4a399eb652d55b667bd2%29%0A%20%20%20%20%20%20%20%20.openPopup%28%29%3B%0A%0A%20%20%20%20%20%20%20%20%0A%20%20%20%20%0A%20%20%20%20%0A%20%20%20%20%20%20%20%20%20%20%20%20var%20marker_30d3f180767e4f1c8198c610f6f0a16e%20%3D%20L.marker%28%0A%20%20%20%20%20%20%20%20%20%20%20%20%20%20%20%20%5B42.18464%2C%20-79.31423000000002%5D%2C%0A%20%20%20%20%20%20%20%20%20%20%20%20%20%20%20%20%7B%7D%0A%20%20%20%20%20%20%20%20%20%20%20%20%29.addTo%28map_4fd38b12ea1542b9a138914b266c9879%29%3B%0A%20%20%20%20%20%20%20%20%0A%20%20%20%20%0A%20%20%20%20%20%20%20%20var%20popup_ddf6f0617d344e1ba6271e430a5ed39b%20%3D%20L.popup%28%7B%22autoClose%22%3A%20false%2C%20%22maxWidth%22%3A%20%22100%25%22%7D%29%3B%0A%0A%20%20%20%20%20%20%20%20%0A%20%20%20%20%20%20%20%20%20%20%20%20var%20html_af4c159a378d4e5aa4d67143878338f5%20%3D%20%24%28%60%3Cdiv%20id%3D%22html_af4c159a378d4e5aa4d67143878338f5%22%20style%3D%22width%3A%20100.0%25%3B%20height%3A%20100.0%25%3B%22%3E%20%20Chautauqua%20County%3C/div%3E%60%29%5B0%5D%3B%0A%20%20%20%20%20%20%20%20%20%20%20%20popup_ddf6f0617d344e1ba6271e430a5ed39b.setContent%28html_af4c159a378d4e5aa4d67143878338f5%29%3B%0A%20%20%20%20%20%20%20%20%0A%0A%20%20%20%20%20%20%20%20marker_30d3f180767e4f1c8198c610f6f0a16e.bindPopup%28popup_ddf6f0617d344e1ba6271e430a5ed39b%29%0A%20%20%20%20%20%20%20%20.openPopup%28%29%3B%0A%0A%20%20%20%20%20%20%20%20%0A%20%20%20%20%0A%20%20%20%20%0A%20%20%20%20%20%20%20%20%20%20%20%20var%20marker_4a60c26a201c42c58396e8e616401322%20%3D%20L.marker%28%0A%20%20%20%20%20%20%20%20%20%20%20%20%20%20%20%20%5B42.146355%2C%20-76.80446%5D%2C%0A%20%20%20%20%20%20%20%20%20%20%20%20%20%20%20%20%7B%7D%0A%20%20%20%20%20%20%20%20%20%20%20%20%29.addTo%28map_4fd38b12ea1542b9a138914b266c9879%29%3B%0A%20%20%20%20%20%20%20%20%0A%20%20%20%20%0A%20%20%20%20%20%20%20%20var%20popup_8594b3fd5b4949c7b098c4da1efca0a0%20%3D%20L.popup%28%7B%22autoClose%22%3A%20false%2C%20%22maxWidth%22%3A%20%22100%25%22%7D%29%3B%0A%0A%20%20%20%20%20%20%20%20%0A%20%20%20%20%20%20%20%20%20%20%20%20var%20html_2a31172de4b4453b95ea9ef4e263a9e9%20%3D%20%24%28%60%3Cdiv%20id%3D%22html_2a31172de4b4453b95ea9ef4e263a9e9%22%20style%3D%22width%3A%20100.0%25%3B%20height%3A%20100.0%25%3B%22%3E%20%20Chemung%20County%3C/div%3E%60%29%5B0%5D%3B%0A%20%20%20%20%20%20%20%20%20%20%20%20popup_8594b3fd5b4949c7b098c4da1efca0a0.setContent%28html_2a31172de4b4453b95ea9ef4e263a9e9%29%3B%0A%20%20%20%20%20%20%20%20%0A%0A%20%20%20%20%20%20%20%20marker_4a60c26a201c42c58396e8e616401322.bindPopup%28popup_8594b3fd5b4949c7b098c4da1efca0a0%29%0A%20%20%20%20%20%20%20%20.openPopup%28%29%3B%0A%0A%20%20%20%20%20%20%20%20%0A%20%20%20%20%0A%20%20%20%20%0A%20%20%20%20%20%20%20%20%20%20%20%20var%20marker_c4fa9c7e9b024cf69d5c015fb3dafee0%20%3D%20L.marker%28%0A%20%20%20%20%20%20%20%20%20%20%20%20%20%20%20%20%5B42.497659999999996%2C%20-75.566615%5D%2C%0A%20%20%20%20%20%20%20%20%20%20%20%20%20%20%20%20%7B%7D%0A%20%20%20%20%20%20%20%20%20%20%20%20%29.addTo%28map_4fd38b12ea1542b9a138914b266c9879%29%3B%0A%20%20%20%20%20%20%20%20%0A%20%20%20%20%0A%20%20%20%20%20%20%20%20var%20popup_1c10cba98cd04f0dadcfd5352ef79c9c%20%3D%20L.popup%28%7B%22autoClose%22%3A%20false%2C%20%22maxWidth%22%3A%20%22100%25%22%7D%29%3B%0A%0A%20%20%20%20%20%20%20%20%0A%20%20%20%20%20%20%20%20%20%20%20%20var%20html_f63677d63f1948c082c9b9eb77c258bf%20%3D%20%24%28%60%3Cdiv%20id%3D%22html_f63677d63f1948c082c9b9eb77c258bf%22%20style%3D%22width%3A%20100.0%25%3B%20height%3A%20100.0%25%3B%22%3E%20%20Chenango%20County%3C/div%3E%60%29%5B0%5D%3B%0A%20%20%20%20%20%20%20%20%20%20%20%20popup_1c10cba98cd04f0dadcfd5352ef79c9c.setContent%28html_f63677d63f1948c082c9b9eb77c258bf%29%3B%0A%20%20%20%20%20%20%20%20%0A%0A%20%20%20%20%20%20%20%20marker_c4fa9c7e9b024cf69d5c015fb3dafee0.bindPopup%28popup_1c10cba98cd04f0dadcfd5352ef79c9c%29%0A%20%20%20%20%20%20%20%20.openPopup%28%29%3B%0A%0A%20%20%20%20%20%20%20%20%0A%20%20%20%20%0A%20%20%20%20%0A%20%20%20%20%20%20%20%20%20%20%20%20var%20marker_4b493ec060164051b2055ce149248436%20%3D%20L.marker%28%0A%20%20%20%20%20%20%20%20%20%20%20%20%20%20%20%20%5B44.77087%2C%20-73.56551999999998%5D%2C%0A%20%20%20%20%20%20%20%20%20%20%20%20%20%20%20%20%7B%7D%0A%20%20%20%20%20%20%20%20%20%20%20%20%29.addTo%28map_4fd38b12ea1542b9a138914b266c9879%29%3B%0A%20%20%20%20%20%20%20%20%0A%20%20%20%20%0A%20%20%20%20%20%20%20%20var%20popup_52d39cf94ad349b78baa5c860bc1ba12%20%3D%20L.popup%28%7B%22autoClose%22%3A%20false%2C%20%22maxWidth%22%3A%20%22100%25%22%7D%29%3B%0A%0A%20%20%20%20%20%20%20%20%0A%20%20%20%20%20%20%20%20%20%20%20%20var%20html_9405808aea744f519d7b3189aae84a34%20%3D%20%24%28%60%3Cdiv%20id%3D%22html_9405808aea744f519d7b3189aae84a34%22%20style%3D%22width%3A%20100.0%25%3B%20height%3A%20100.0%25%3B%22%3E%20%20Clinton%20County%3C/div%3E%60%29%5B0%5D%3B%0A%20%20%20%20%20%20%20%20%20%20%20%20popup_52d39cf94ad349b78baa5c860bc1ba12.setContent%28html_9405808aea744f519d7b3189aae84a34%29%3B%0A%20%20%20%20%20%20%20%20%0A%0A%20%20%20%20%20%20%20%20marker_4b493ec060164051b2055ce149248436.bindPopup%28popup_52d39cf94ad349b78baa5c860bc1ba12%29%0A%20%20%20%20%20%20%20%20.openPopup%28%29%3B%0A%0A%20%20%20%20%20%20%20%20%0A%20%20%20%20%0A%20%20%20%20%0A%20%20%20%20%20%20%20%20%20%20%20%20var%20marker_e3e054fb441d4d68acd500c860bd4bfb%20%3D%20L.marker%28%0A%20%20%20%20%20%20%20%20%20%20%20%20%20%20%20%20%5B42.277465%2C%20-73.58520999999999%5D%2C%0A%20%20%20%20%20%20%20%20%20%20%20%20%20%20%20%20%7B%7D%0A%20%20%20%20%20%20%20%20%20%20%20%20%29.addTo%28map_4fd38b12ea1542b9a138914b266c9879%29%3B%0A%20%20%20%20%20%20%20%20%0A%20%20%20%20%0A%20%20%20%20%20%20%20%20var%20popup_7888cc1163b74353b604e3212857829b%20%3D%20L.popup%28%7B%22autoClose%22%3A%20false%2C%20%22maxWidth%22%3A%20%22100%25%22%7D%29%3B%0A%0A%20%20%20%20%20%20%20%20%0A%20%20%20%20%20%20%20%20%20%20%20%20var%20html_9954e305a3a646b1b849c48dd2076ccd%20%3D%20%24%28%60%3Cdiv%20id%3D%22html_9954e305a3a646b1b849c48dd2076ccd%22%20style%3D%22width%3A%20100.0%25%3B%20height%3A%20100.0%25%3B%22%3E%20%20Columbia%20County%3C/div%3E%60%29%5B0%5D%3B%0A%20%20%20%20%20%20%20%20%20%20%20%20popup_7888cc1163b74353b604e3212857829b.setContent%28html_9954e305a3a646b1b849c48dd2076ccd%29%3B%0A%20%20%20%20%20%20%20%20%0A%0A%20%20%20%20%20%20%20%20marker_e3e054fb441d4d68acd500c860bd4bfb.bindPopup%28popup_7888cc1163b74353b604e3212857829b%29%0A%20%20%20%20%20%20%20%20.openPopup%28%29%3B%0A%0A%20%20%20%20%20%20%20%20%0A%20%20%20%20%0A%20%20%20%20%0A%20%20%20%20%20%20%20%20%20%20%20%20var%20marker_add3b426615748c19cbfc23c04fe0303%20%3D%20L.marker%28%0A%20%20%20%20%20%20%20%20%20%20%20%20%20%20%20%20%5B42.60021%2C%20-76.10167%5D%2C%0A%20%20%20%20%20%20%20%20%20%20%20%20%20%20%20%20%7B%7D%0A%20%20%20%20%20%20%20%20%20%20%20%20%29.addTo%28map_4fd38b12ea1542b9a138914b266c9879%29%3B%0A%20%20%20%20%20%20%20%20%0A%20%20%20%20%0A%20%20%20%20%20%20%20%20var%20popup_1dfcb379da0b4533852340dd3b18de09%20%3D%20L.popup%28%7B%22autoClose%22%3A%20false%2C%20%22maxWidth%22%3A%20%22100%25%22%7D%29%3B%0A%0A%20%20%20%20%20%20%20%20%0A%20%20%20%20%20%20%20%20%20%20%20%20var%20html_714556583d1f48449b202e812df15581%20%3D%20%24%28%60%3Cdiv%20id%3D%22html_714556583d1f48449b202e812df15581%22%20style%3D%22width%3A%20100.0%25%3B%20height%3A%20100.0%25%3B%22%3E%20%20Cortland%20County%3C/div%3E%60%29%5B0%5D%3B%0A%20%20%20%20%20%20%20%20%20%20%20%20popup_1dfcb379da0b4533852340dd3b18de09.setContent%28html_714556583d1f48449b202e812df15581%29%3B%0A%20%20%20%20%20%20%20%20%0A%0A%20%20%20%20%20%20%20%20marker_add3b426615748c19cbfc23c04fe0303.bindPopup%28popup_1dfcb379da0b4533852340dd3b18de09%29%0A%20%20%20%20%20%20%20%20.openPopup%28%29%3B%0A%0A%20%20%20%20%20%20%20%20%0A%20%20%20%20%0A%20%20%20%20%0A%20%20%20%20%20%20%20%20%20%20%20%20var%20marker_746843f5989c4d8fa785afce995ae75e%20%3D%20L.marker%28%0A%20%20%20%20%20%20%20%20%20%20%20%20%20%20%20%20%5B42.17362%2C%20-74.98716999999998%5D%2C%0A%20%20%20%20%20%20%20%20%20%20%20%20%20%20%20%20%7B%7D%0A%20%20%20%20%20%20%20%20%20%20%20%20%29.addTo%28map_4fd38b12ea1542b9a138914b266c9879%29%3B%0A%20%20%20%20%20%20%20%20%0A%20%20%20%20%0A%20%20%20%20%20%20%20%20var%20popup_004e3d80e67a4984b88154301e1f53de%20%3D%20L.popup%28%7B%22autoClose%22%3A%20false%2C%20%22maxWidth%22%3A%20%22100%25%22%7D%29%3B%0A%0A%20%20%20%20%20%20%20%20%0A%20%20%20%20%20%20%20%20%20%20%20%20var%20html_bfb4f404a05243ed970745d3852207d5%20%3D%20%24%28%60%3Cdiv%20id%3D%22html_bfb4f404a05243ed970745d3852207d5%22%20style%3D%22width%3A%20100.0%25%3B%20height%3A%20100.0%25%3B%22%3E%20%20Delaware%20County%3C/div%3E%60%29%5B0%5D%3B%0A%20%20%20%20%20%20%20%20%20%20%20%20popup_004e3d80e67a4984b88154301e1f53de.setContent%28html_bfb4f404a05243ed970745d3852207d5%29%3B%0A%20%20%20%20%20%20%20%20%0A%0A%20%20%20%20%20%20%20%20marker_746843f5989c4d8fa785afce995ae75e.bindPopup%28popup_004e3d80e67a4984b88154301e1f53de%29%0A%20%20%20%20%20%20%20%20.openPopup%28%29%3B%0A%0A%20%20%20%20%20%20%20%20%0A%20%20%20%20%0A%20%20%20%20%0A%20%20%20%20%20%20%20%20%20%20%20%20var%20marker_ac66550e488a4aec9335c41bee3610dd%20%3D%20L.marker%28%0A%20%20%20%20%20%20%20%20%20%20%20%20%20%20%20%20%5B41.70834%2C%20-73.79431%5D%2C%0A%20%20%20%20%20%20%20%20%20%20%20%20%20%20%20%20%7B%7D%0A%20%20%20%20%20%20%20%20%20%20%20%20%29.addTo%28map_4fd38b12ea1542b9a138914b266c9879%29%3B%0A%20%20%20%20%20%20%20%20%0A%20%20%20%20%0A%20%20%20%20%20%20%20%20var%20popup_e81504dfba1440a1949b52a909674cdb%20%3D%20L.popup%28%7B%22autoClose%22%3A%20false%2C%20%22maxWidth%22%3A%20%22100%25%22%7D%29%3B%0A%0A%20%20%20%20%20%20%20%20%0A%20%20%20%20%20%20%20%20%20%20%20%20var%20html_6a10bbb03a1740808ab8441627011644%20%3D%20%24%28%60%3Cdiv%20id%3D%22html_6a10bbb03a1740808ab8441627011644%22%20style%3D%22width%3A%20100.0%25%3B%20height%3A%20100.0%25%3B%22%3E%20%20Dutchess%20County%3C/div%3E%60%29%5B0%5D%3B%0A%20%20%20%20%20%20%20%20%20%20%20%20popup_e81504dfba1440a1949b52a909674cdb.setContent%28html_6a10bbb03a1740808ab8441627011644%29%3B%0A%20%20%20%20%20%20%20%20%0A%0A%20%20%20%20%20%20%20%20marker_ac66550e488a4aec9335c41bee3610dd.bindPopup%28popup_e81504dfba1440a1949b52a909674cdb%29%0A%20%20%20%20%20%20%20%20.openPopup%28%29%3B%0A%0A%20%20%20%20%20%20%20%20%0A%20%20%20%20%0A%20%20%20%20%0A%20%20%20%20%20%20%20%20%20%20%20%20var%20marker_729088f938a24c74b580280521abedfb%20%3D%20L.marker%28%0A%20%20%20%20%20%20%20%20%20%20%20%20%20%20%20%20%5B42.85523%2C%20-78.770625%5D%2C%0A%20%20%20%20%20%20%20%20%20%20%20%20%20%20%20%20%7B%7D%0A%20%20%20%20%20%20%20%20%20%20%20%20%29.addTo%28map_4fd38b12ea1542b9a138914b266c9879%29%3B%0A%20%20%20%20%20%20%20%20%0A%20%20%20%20%0A%20%20%20%20%20%20%20%20var%20popup_7f4da82694b949a0b5ed37cb800fdacd%20%3D%20L.popup%28%7B%22autoClose%22%3A%20false%2C%20%22maxWidth%22%3A%20%22100%25%22%7D%29%3B%0A%0A%20%20%20%20%20%20%20%20%0A%20%20%20%20%20%20%20%20%20%20%20%20var%20html_b3d4130bba834d4992544983d8eb1246%20%3D%20%24%28%60%3Cdiv%20id%3D%22html_b3d4130bba834d4992544983d8eb1246%22%20style%3D%22width%3A%20100.0%25%3B%20height%3A%20100.0%25%3B%22%3E%20%20Erie%20County%3C/div%3E%60%29%5B0%5D%3B%0A%20%20%20%20%20%20%20%20%20%20%20%20popup_7f4da82694b949a0b5ed37cb800fdacd.setContent%28html_b3d4130bba834d4992544983d8eb1246%29%3B%0A%20%20%20%20%20%20%20%20%0A%0A%20%20%20%20%20%20%20%20marker_729088f938a24c74b580280521abedfb.bindPopup%28popup_7f4da82694b949a0b5ed37cb800fdacd%29%0A%20%20%20%20%20%20%20%20.openPopup%28%29%3B%0A%0A%20%20%20%20%20%20%20%20%0A%20%20%20%20%0A%20%20%20%20%0A%20%20%20%20%20%20%20%20%20%20%20%20var%20marker_5d2ca75cd8e145e9829880e767070104%20%3D%20L.marker%28%0A%20%20%20%20%20%20%20%20%20%20%20%20%20%20%20%20%5B44.194915%2C%20-73.669245%5D%2C%0A%20%20%20%20%20%20%20%20%20%20%20%20%20%20%20%20%7B%7D%0A%20%20%20%20%20%20%20%20%20%20%20%20%29.addTo%28map_4fd38b12ea1542b9a138914b266c9879%29%3B%0A%20%20%20%20%20%20%20%20%0A%20%20%20%20%0A%20%20%20%20%20%20%20%20var%20popup_679f8c1d2de54e7ca173a89ef13ba043%20%3D%20L.popup%28%7B%22autoClose%22%3A%20false%2C%20%22maxWidth%22%3A%20%22100%25%22%7D%29%3B%0A%0A%20%20%20%20%20%20%20%20%0A%20%20%20%20%20%20%20%20%20%20%20%20var%20html_4018f838cebd461eb5c5fde205a7f625%20%3D%20%24%28%60%3Cdiv%20id%3D%22html_4018f838cebd461eb5c5fde205a7f625%22%20style%3D%22width%3A%20100.0%25%3B%20height%3A%20100.0%25%3B%22%3E%20%20Essex%20County%3C/div%3E%60%29%5B0%5D%3B%0A%20%20%20%20%20%20%20%20%20%20%20%20popup_679f8c1d2de54e7ca173a89ef13ba043.setContent%28html_4018f838cebd461eb5c5fde205a7f625%29%3B%0A%20%20%20%20%20%20%20%20%0A%0A%20%20%20%20%20%20%20%20marker_5d2ca75cd8e145e9829880e767070104.bindPopup%28popup_679f8c1d2de54e7ca173a89ef13ba043%29%0A%20%20%20%20%20%20%20%20.openPopup%28%29%3B%0A%0A%20%20%20%20%20%20%20%20%0A%20%20%20%20%0A%20%20%20%20%0A%20%20%20%20%20%20%20%20%20%20%20%20var%20marker_7866f12fd55e4a649bbe4cd5e8022d45%20%3D%20L.marker%28%0A%20%20%20%20%20%20%20%20%20%20%20%20%20%20%20%20%5B44.83844000000001%2C%20-74.31574%5D%2C%0A%20%20%20%20%20%20%20%20%20%20%20%20%20%20%20%20%7B%7D%0A%20%20%20%20%20%20%20%20%20%20%20%20%29.addTo%28map_4fd38b12ea1542b9a138914b266c9879%29%3B%0A%20%20%20%20%20%20%20%20%0A%20%20%20%20%0A%20%20%20%20%20%20%20%20var%20popup_2861489423b9462d8f4ff7daf2d4f825%20%3D%20L.popup%28%7B%22autoClose%22%3A%20false%2C%20%22maxWidth%22%3A%20%22100%25%22%7D%29%3B%0A%0A%20%20%20%20%20%20%20%20%0A%20%20%20%20%20%20%20%20%20%20%20%20var%20html_aa5e2f82e0874677a71637475ad72bf4%20%3D%20%24%28%60%3Cdiv%20id%3D%22html_aa5e2f82e0874677a71637475ad72bf4%22%20style%3D%22width%3A%20100.0%25%3B%20height%3A%20100.0%25%3B%22%3E%20%20Franklin%20County%3C/div%3E%60%29%5B0%5D%3B%0A%20%20%20%20%20%20%20%20%20%20%20%20popup_2861489423b9462d8f4ff7daf2d4f825.setContent%28html_aa5e2f82e0874677a71637475ad72bf4%29%3B%0A%20%20%20%20%20%20%20%20%0A%0A%20%20%20%20%20%20%20%20marker_7866f12fd55e4a649bbe4cd5e8022d45.bindPopup%28popup_2861489423b9462d8f4ff7daf2d4f825%29%0A%20%20%20%20%20%20%20%20.openPopup%28%29%3B%0A%0A%20%20%20%20%20%20%20%20%0A%20%20%20%20%0A%20%20%20%20%0A%20%20%20%20%20%20%20%20%20%20%20%20var%20marker_23dc1c0deeb64430aa49888482a39b0c%20%3D%20L.marker%28%0A%20%20%20%20%20%20%20%20%20%20%20%20%20%20%20%20%5B43.06853%2C%20-74.37677%5D%2C%0A%20%20%20%20%20%20%20%20%20%20%20%20%20%20%20%20%7B%7D%0A%20%20%20%20%20%20%20%20%20%20%20%20%29.addTo%28map_4fd38b12ea1542b9a138914b266c9879%29%3B%0A%20%20%20%20%20%20%20%20%0A%20%20%20%20%0A%20%20%20%20%20%20%20%20var%20popup_81d4ef5e43254afabacc64bfe1e58f5c%20%3D%20L.popup%28%7B%22autoClose%22%3A%20false%2C%20%22maxWidth%22%3A%20%22100%25%22%7D%29%3B%0A%0A%20%20%20%20%20%20%20%20%0A%20%20%20%20%20%20%20%20%20%20%20%20var%20html_fbdccc70304b4426b54dd36c1e68db0c%20%3D%20%24%28%60%3Cdiv%20id%3D%22html_fbdccc70304b4426b54dd36c1e68db0c%22%20style%3D%22width%3A%20100.0%25%3B%20height%3A%20100.0%25%3B%22%3E%20%20Fulton%20County%3C/div%3E%60%29%5B0%5D%3B%0A%20%20%20%20%20%20%20%20%20%20%20%20popup_81d4ef5e43254afabacc64bfe1e58f5c.setContent%28html_fbdccc70304b4426b54dd36c1e68db0c%29%3B%0A%20%20%20%20%20%20%20%20%0A%0A%20%20%20%20%20%20%20%20marker_23dc1c0deeb64430aa49888482a39b0c.bindPopup%28popup_81d4ef5e43254afabacc64bfe1e58f5c%29%0A%20%20%20%20%20%20%20%20.openPopup%28%29%3B%0A%0A%20%20%20%20%20%20%20%20%0A%20%20%20%20%0A%20%20%20%20%0A%20%20%20%20%20%20%20%20%20%20%20%20var%20marker_4fc0039b86304c4685602f1c5805e3f8%20%3D%20L.marker%28%0A%20%20%20%20%20%20%20%20%20%20%20%20%20%20%20%20%5B42.99758%2C%20-78.1925%5D%2C%0A%20%20%20%20%20%20%20%20%20%20%20%20%20%20%20%20%7B%7D%0A%20%20%20%20%20%20%20%20%20%20%20%20%29.addTo%28map_4fd38b12ea1542b9a138914b266c9879%29%3B%0A%20%20%20%20%20%20%20%20%0A%20%20%20%20%0A%20%20%20%20%20%20%20%20var%20popup_f7b52b00b47c42e197c25af1bf4d6807%20%3D%20L.popup%28%7B%22autoClose%22%3A%20false%2C%20%22maxWidth%22%3A%20%22100%25%22%7D%29%3B%0A%0A%20%20%20%20%20%20%20%20%0A%20%20%20%20%20%20%20%20%20%20%20%20var%20html_454fa73393024687ae53732b27e8d72a%20%3D%20%24%28%60%3Cdiv%20id%3D%22html_454fa73393024687ae53732b27e8d72a%22%20style%3D%22width%3A%20100.0%25%3B%20height%3A%20100.0%25%3B%22%3E%20%20Genesee%20County%3C/div%3E%60%29%5B0%5D%3B%0A%20%20%20%20%20%20%20%20%20%20%20%20popup_f7b52b00b47c42e197c25af1bf4d6807.setContent%28html_454fa73393024687ae53732b27e8d72a%29%3B%0A%20%20%20%20%20%20%20%20%0A%0A%20%20%20%20%20%20%20%20marker_4fc0039b86304c4685602f1c5805e3f8.bindPopup%28popup_f7b52b00b47c42e197c25af1bf4d6807%29%0A%20%20%20%20%20%20%20%20.openPopup%28%29%3B%0A%0A%20%20%20%20%20%20%20%20%0A%20%20%20%20%0A%20%20%20%20%0A%20%20%20%20%20%20%20%20%20%20%20%20var%20marker_4ab1cd270ff84f93b37994fd94a7ef3f%20%3D%20L.marker%28%0A%20%20%20%20%20%20%20%20%20%20%20%20%20%20%20%20%5B42.258539999999996%2C%20-74.095455%5D%2C%0A%20%20%20%20%20%20%20%20%20%20%20%20%20%20%20%20%7B%7D%0A%20%20%20%20%20%20%20%20%20%20%20%20%29.addTo%28map_4fd38b12ea1542b9a138914b266c9879%29%3B%0A%20%20%20%20%20%20%20%20%0A%20%20%20%20%0A%20%20%20%20%20%20%20%20var%20popup_650bc5d07349437ebe45648f1212b028%20%3D%20L.popup%28%7B%22autoClose%22%3A%20false%2C%20%22maxWidth%22%3A%20%22100%25%22%7D%29%3B%0A%0A%20%20%20%20%20%20%20%20%0A%20%20%20%20%20%20%20%20%20%20%20%20var%20html_77a8756681b8477084fa7dbf3a892f05%20%3D%20%24%28%60%3Cdiv%20id%3D%22html_77a8756681b8477084fa7dbf3a892f05%22%20style%3D%22width%3A%20100.0%25%3B%20height%3A%20100.0%25%3B%22%3E%20%20Greene%20County%3C/div%3E%60%29%5B0%5D%3B%0A%20%20%20%20%20%20%20%20%20%20%20%20popup_650bc5d07349437ebe45648f1212b028.setContent%28html_77a8756681b8477084fa7dbf3a892f05%29%3B%0A%20%20%20%20%20%20%20%20%0A%0A%20%20%20%20%20%20%20%20marker_4ab1cd270ff84f93b37994fd94a7ef3f.bindPopup%28popup_650bc5d07349437ebe45648f1212b028%29%0A%20%20%20%20%20%20%20%20.openPopup%28%29%3B%0A%0A%20%20%20%20%20%20%20%20%0A%20%20%20%20%0A%20%20%20%20%0A%20%20%20%20%20%20%20%20%20%20%20%20var%20marker_e53080290e5a4eb4b0b09608ed46fc4c%20%3D%20L.marker%28%0A%20%20%20%20%20%20%20%20%20%20%20%20%20%20%20%20%5B43.56228%2C%20-74.42979%5D%2C%0A%20%20%20%20%20%20%20%20%20%20%20%20%20%20%20%20%7B%7D%0A%20%20%20%20%20%20%20%20%20%20%20%20%29.addTo%28map_4fd38b12ea1542b9a138914b266c9879%29%3B%0A%20%20%20%20%20%20%20%20%0A%20%20%20%20%0A%20%20%20%20%20%20%20%20var%20popup_76c1bd7fa7374aebb0adc4747f5212a5%20%3D%20L.popup%28%7B%22autoClose%22%3A%20false%2C%20%22maxWidth%22%3A%20%22100%25%22%7D%29%3B%0A%0A%20%20%20%20%20%20%20%20%0A%20%20%20%20%20%20%20%20%20%20%20%20var%20html_79a4f5826b1047abbdb3fe11bcf158d4%20%3D%20%24%28%60%3Cdiv%20id%3D%22html_79a4f5826b1047abbdb3fe11bcf158d4%22%20style%3D%22width%3A%20100.0%25%3B%20height%3A%20100.0%25%3B%22%3E%20%20Hamilton%20County%3C/div%3E%60%29%5B0%5D%3B%0A%20%20%20%20%20%20%20%20%20%20%20%20popup_76c1bd7fa7374aebb0adc4747f5212a5.setContent%28html_79a4f5826b1047abbdb3fe11bcf158d4%29%3B%0A%20%20%20%20%20%20%20%20%0A%0A%20%20%20%20%20%20%20%20marker_e53080290e5a4eb4b0b09608ed46fc4c.bindPopup%28popup_76c1bd7fa7374aebb0adc4747f5212a5%29%0A%20%20%20%20%20%20%20%20.openPopup%28%29%3B%0A%0A%20%20%20%20%20%20%20%20%0A%20%20%20%20%0A%20%20%20%20%0A%20%20%20%20%20%20%20%20%20%20%20%20var%20marker_1e04842c53904f9a98d1d200f517d88c%20%3D%20L.marker%28%0A%20%20%20%20%20%20%20%20%20%20%20%20%20%20%20%20%5B43.06454%2C%20-74.99356999999998%5D%2C%0A%20%20%20%20%20%20%20%20%20%20%20%20%20%20%20%20%7B%7D%0A%20%20%20%20%20%20%20%20%20%20%20%20%29.addTo%28map_4fd38b12ea1542b9a138914b266c9879%29%3B%0A%20%20%20%20%20%20%20%20%0A%20%20%20%20%0A%20%20%20%20%20%20%20%20var%20popup_91ff43bb6b0b4de59b667c193a26dcbd%20%3D%20L.popup%28%7B%22autoClose%22%3A%20false%2C%20%22maxWidth%22%3A%20%22100%25%22%7D%29%3B%0A%0A%20%20%20%20%20%20%20%20%0A%20%20%20%20%20%20%20%20%20%20%20%20var%20html_e51e3b1088ac45a19d2cfc8284804f4d%20%3D%20%24%28%60%3Cdiv%20id%3D%22html_e51e3b1088ac45a19d2cfc8284804f4d%22%20style%3D%22width%3A%20100.0%25%3B%20height%3A%20100.0%25%3B%22%3E%20%20Herkimer%20County%3C/div%3E%60%29%5B0%5D%3B%0A%20%20%20%20%20%20%20%20%20%20%20%20popup_91ff43bb6b0b4de59b667c193a26dcbd.setContent%28html_e51e3b1088ac45a19d2cfc8284804f4d%29%3B%0A%20%20%20%20%20%20%20%20%0A%0A%20%20%20%20%20%20%20%20marker_1e04842c53904f9a98d1d200f517d88c.bindPopup%28popup_91ff43bb6b0b4de59b667c193a26dcbd%29%0A%20%20%20%20%20%20%20%20.openPopup%28%29%3B%0A%0A%20%20%20%20%20%20%20%20%0A%20%20%20%20%0A%20%20%20%20%0A%20%20%20%20%20%20%20%20%20%20%20%20var%20marker_ce235d93b50e4af8ac0ab3cbc4d6ceae%20%3D%20L.marker%28%0A%20%20%20%20%20%20%20%20%20%20%20%20%20%20%20%20%5B43.99065%2C%20-75.96670999999998%5D%2C%0A%20%20%20%20%20%20%20%20%20%20%20%20%20%20%20%20%7B%7D%0A%20%20%20%20%20%20%20%20%20%20%20%20%29.addTo%28map_4fd38b12ea1542b9a138914b266c9879%29%3B%0A%20%20%20%20%20%20%20%20%0A%20%20%20%20%0A%20%20%20%20%20%20%20%20var%20popup_f406bb8fafc146c5bc6bcfb01254e7ec%20%3D%20L.popup%28%7B%22autoClose%22%3A%20false%2C%20%22maxWidth%22%3A%20%22100%25%22%7D%29%3B%0A%0A%20%20%20%20%20%20%20%20%0A%20%20%20%20%20%20%20%20%20%20%20%20var%20html_02e40c9c263d4ac191500abce58b58d1%20%3D%20%24%28%60%3Cdiv%20id%3D%22html_02e40c9c263d4ac191500abce58b58d1%22%20style%3D%22width%3A%20100.0%25%3B%20height%3A%20100.0%25%3B%22%3E%20%20Jefferson%20County%3C/div%3E%60%29%5B0%5D%3B%0A%20%20%20%20%20%20%20%20%20%20%20%20popup_f406bb8fafc146c5bc6bcfb01254e7ec.setContent%28html_02e40c9c263d4ac191500abce58b58d1%29%3B%0A%20%20%20%20%20%20%20%20%0A%0A%20%20%20%20%20%20%20%20marker_ce235d93b50e4af8ac0ab3cbc4d6ceae.bindPopup%28popup_f406bb8fafc146c5bc6bcfb01254e7ec%29%0A%20%20%20%20%20%20%20%20.openPopup%28%29%3B%0A%0A%20%20%20%20%20%20%20%20%0A%20%20%20%20%0A%20%20%20%20%0A%20%20%20%20%20%20%20%20%20%20%20%20var%20marker_1eb5208df8cd43fc848defa3c0e32956%20%3D%20L.marker%28%0A%20%20%20%20%20%20%20%20%20%20%20%20%20%20%20%20%5B40.648300000000006%2C%20-73.98046500000001%5D%2C%0A%20%20%20%20%20%20%20%20%20%20%20%20%20%20%20%20%7B%7D%0A%20%20%20%20%20%20%20%20%20%20%20%20%29.addTo%28map_4fd38b12ea1542b9a138914b266c9879%29%3B%0A%20%20%20%20%20%20%20%20%0A%20%20%20%20%0A%20%20%20%20%20%20%20%20var%20popup_6430151094914fcebe73b9cba25d0eb1%20%3D%20L.popup%28%7B%22autoClose%22%3A%20false%2C%20%22maxWidth%22%3A%20%22100%25%22%7D%29%3B%0A%0A%20%20%20%20%20%20%20%20%0A%20%20%20%20%20%20%20%20%20%20%20%20var%20html_65e234e8451b4bee99347e0d1b81e52d%20%3D%20%24%28%60%3Cdiv%20id%3D%22html_65e234e8451b4bee99347e0d1b81e52d%22%20style%3D%22width%3A%20100.0%25%3B%20height%3A%20100.0%25%3B%22%3E%20%20Kings%20County%3C/div%3E%60%29%5B0%5D%3B%0A%20%20%20%20%20%20%20%20%20%20%20%20popup_6430151094914fcebe73b9cba25d0eb1.setContent%28html_65e234e8451b4bee99347e0d1b81e52d%29%3B%0A%20%20%20%20%20%20%20%20%0A%0A%20%20%20%20%20%20%20%20marker_1eb5208df8cd43fc848defa3c0e32956.bindPopup%28popup_6430151094914fcebe73b9cba25d0eb1%29%0A%20%20%20%20%20%20%20%20.openPopup%28%29%3B%0A%0A%20%20%20%20%20%20%20%20%0A%20%20%20%20%0A%20%20%20%20%0A%20%20%20%20%20%20%20%20%20%20%20%20var%20marker_2b0e19c886324032807a063c0749af7f%20%3D%20L.marker%28%0A%20%20%20%20%20%20%20%20%20%20%20%20%20%20%20%20%5B43.74097%2C%20-75.45362%5D%2C%0A%20%20%20%20%20%20%20%20%20%20%20%20%20%20%20%20%7B%7D%0A%20%20%20%20%20%20%20%20%20%20%20%20%29.addTo%28map_4fd38b12ea1542b9a138914b266c9879%29%3B%0A%20%20%20%20%20%20%20%20%0A%20%20%20%20%0A%20%20%20%20%20%20%20%20var%20popup_d61022a051174a47a038c48f1f8a6a58%20%3D%20L.popup%28%7B%22autoClose%22%3A%20false%2C%20%22maxWidth%22%3A%20%22100%25%22%7D%29%3B%0A%0A%20%20%20%20%20%20%20%20%0A%20%20%20%20%20%20%20%20%20%20%20%20var%20html_ffb2b9acd45b4a55bd809adf37ffe807%20%3D%20%24%28%60%3Cdiv%20id%3D%22html_ffb2b9acd45b4a55bd809adf37ffe807%22%20style%3D%22width%3A%20100.0%25%3B%20height%3A%20100.0%25%3B%22%3E%20%20Lewis%20County%3C/div%3E%60%29%5B0%5D%3B%0A%20%20%20%20%20%20%20%20%20%20%20%20popup_d61022a051174a47a038c48f1f8a6a58.setContent%28html_ffb2b9acd45b4a55bd809adf37ffe807%29%3B%0A%20%20%20%20%20%20%20%20%0A%0A%20%20%20%20%20%20%20%20marker_2b0e19c886324032807a063c0749af7f.bindPopup%28popup_d61022a051174a47a038c48f1f8a6a58%29%0A%20%20%20%20%20%20%20%20.openPopup%28%29%3B%0A%0A%20%20%20%20%20%20%20%20%0A%20%20%20%20%0A%20%20%20%20%0A%20%20%20%20%20%20%20%20%20%20%20%20var%20marker_c8b61dff7a8f4f4b98f1d65ae3013d24%20%3D%20L.marker%28%0A%20%20%20%20%20%20%20%20%20%20%20%20%20%20%20%20%5B42.66868%2C%20-77.76379%5D%2C%0A%20%20%20%20%20%20%20%20%20%20%20%20%20%20%20%20%7B%7D%0A%20%20%20%20%20%20%20%20%20%20%20%20%29.addTo%28map_4fd38b12ea1542b9a138914b266c9879%29%3B%0A%20%20%20%20%20%20%20%20%0A%20%20%20%20%0A%20%20%20%20%20%20%20%20var%20popup_6275dccd47f14a809a9fc97fb443bc13%20%3D%20L.popup%28%7B%22autoClose%22%3A%20false%2C%20%22maxWidth%22%3A%20%22100%25%22%7D%29%3B%0A%0A%20%20%20%20%20%20%20%20%0A%20%20%20%20%20%20%20%20%20%20%20%20var%20html_c4b21d09dfea428a8c3ca9bf6230c102%20%3D%20%24%28%60%3Cdiv%20id%3D%22html_c4b21d09dfea428a8c3ca9bf6230c102%22%20style%3D%22width%3A%20100.0%25%3B%20height%3A%20100.0%25%3B%22%3E%20%20Livingston%20County%3C/div%3E%60%29%5B0%5D%3B%0A%20%20%20%20%20%20%20%20%20%20%20%20popup_6275dccd47f14a809a9fc97fb443bc13.setContent%28html_c4b21d09dfea428a8c3ca9bf6230c102%29%3B%0A%20%20%20%20%20%20%20%20%0A%0A%20%20%20%20%20%20%20%20marker_c8b61dff7a8f4f4b98f1d65ae3013d24.bindPopup%28popup_6275dccd47f14a809a9fc97fb443bc13%29%0A%20%20%20%20%20%20%20%20.openPopup%28%29%3B%0A%0A%20%20%20%20%20%20%20%20%0A%20%20%20%20%0A%20%20%20%20%0A%20%20%20%20%20%20%20%20%20%20%20%20var%20marker_01860ee074d944859a2622b16fe73b5a%20%3D%20L.marker%28%0A%20%20%20%20%20%20%20%20%20%20%20%20%20%20%20%20%5B42.97546%2C%20-75.73168000000003%5D%2C%0A%20%20%20%20%20%20%20%20%20%20%20%20%20%20%20%20%7B%7D%0A%20%20%20%20%20%20%20%20%20%20%20%20%29.addTo%28map_4fd38b12ea1542b9a138914b266c9879%29%3B%0A%20%20%20%20%20%20%20%20%0A%20%20%20%20%0A%20%20%20%20%20%20%20%20var%20popup_cd8e2cdbeadf4441a87e86f87e9b403d%20%3D%20L.popup%28%7B%22autoClose%22%3A%20false%2C%20%22maxWidth%22%3A%20%22100%25%22%7D%29%3B%0A%0A%20%20%20%20%20%20%20%20%0A%20%20%20%20%20%20%20%20%20%20%20%20var%20html_b64091543834444f9b484f304699268b%20%3D%20%24%28%60%3Cdiv%20id%3D%22html_b64091543834444f9b484f304699268b%22%20style%3D%22width%3A%20100.0%25%3B%20height%3A%20100.0%25%3B%22%3E%20%20Madison%20County%3C/div%3E%60%29%5B0%5D%3B%0A%20%20%20%20%20%20%20%20%20%20%20%20popup_cd8e2cdbeadf4441a87e86f87e9b403d.setContent%28html_b64091543834444f9b484f304699268b%29%3B%0A%20%20%20%20%20%20%20%20%0A%0A%20%20%20%20%20%20%20%20marker_01860ee074d944859a2622b16fe73b5a.bindPopup%28popup_cd8e2cdbeadf4441a87e86f87e9b403d%29%0A%20%20%20%20%20%20%20%20.openPopup%28%29%3B%0A%0A%20%20%20%20%20%20%20%20%0A%20%20%20%20%0A%20%20%20%20%0A%20%20%20%20%20%20%20%20%20%20%20%20var%20marker_112e01a7346b42438bd0b1b2926602ea%20%3D%20L.marker%28%0A%20%20%20%20%20%20%20%20%20%20%20%20%20%20%20%20%5B43.15114000000001%2C%20-77.65951%5D%2C%0A%20%20%20%20%20%20%20%20%20%20%20%20%20%20%20%20%7B%7D%0A%20%20%20%20%20%20%20%20%20%20%20%20%29.addTo%28map_4fd38b12ea1542b9a138914b266c9879%29%3B%0A%20%20%20%20%20%20%20%20%0A%20%20%20%20%0A%20%20%20%20%20%20%20%20var%20popup_3275ac962b4c46c3b329931a8d1cf83a%20%3D%20L.popup%28%7B%22autoClose%22%3A%20false%2C%20%22maxWidth%22%3A%20%22100%25%22%7D%29%3B%0A%0A%20%20%20%20%20%20%20%20%0A%20%20%20%20%20%20%20%20%20%20%20%20var%20html_ea4993015a454bb3b89419a1467f4f11%20%3D%20%24%28%60%3Cdiv%20id%3D%22html_ea4993015a454bb3b89419a1467f4f11%22%20style%3D%22width%3A%20100.0%25%3B%20height%3A%20100.0%25%3B%22%3E%20%20Monroe%20County%3C/div%3E%60%29%5B0%5D%3B%0A%20%20%20%20%20%20%20%20%20%20%20%20popup_3275ac962b4c46c3b329931a8d1cf83a.setContent%28html_ea4993015a454bb3b89419a1467f4f11%29%3B%0A%20%20%20%20%20%20%20%20%0A%0A%20%20%20%20%20%20%20%20marker_112e01a7346b42438bd0b1b2926602ea.bindPopup%28popup_3275ac962b4c46c3b329931a8d1cf83a%29%0A%20%20%20%20%20%20%20%20.openPopup%28%29%3B%0A%0A%20%20%20%20%20%20%20%20%0A%20%20%20%20%0A%20%20%20%20%0A%20%20%20%20%20%20%20%20%20%20%20%20var%20marker_99691ff814a9446db0649d9e8f72464f%20%3D%20L.marker%28%0A%20%20%20%20%20%20%20%20%20%20%20%20%20%20%20%20%5B42.92784%2C%20-74.43791%5D%2C%0A%20%20%20%20%20%20%20%20%20%20%20%20%20%20%20%20%7B%7D%0A%20%20%20%20%20%20%20%20%20%20%20%20%29.addTo%28map_4fd38b12ea1542b9a138914b266c9879%29%3B%0A%20%20%20%20%20%20%20%20%0A%20%20%20%20%0A%20%20%20%20%20%20%20%20var%20popup_536b812f521e4004af60e0300004e741%20%3D%20L.popup%28%7B%22autoClose%22%3A%20false%2C%20%22maxWidth%22%3A%20%22100%25%22%7D%29%3B%0A%0A%20%20%20%20%20%20%20%20%0A%20%20%20%20%20%20%20%20%20%20%20%20var%20html_58db3610eb4745cfa8b5557439048437%20%3D%20%24%28%60%3Cdiv%20id%3D%22html_58db3610eb4745cfa8b5557439048437%22%20style%3D%22width%3A%20100.0%25%3B%20height%3A%20100.0%25%3B%22%3E%20%20Montgomery%20County%3C/div%3E%60%29%5B0%5D%3B%0A%20%20%20%20%20%20%20%20%20%20%20%20popup_536b812f521e4004af60e0300004e741.setContent%28html_58db3610eb4745cfa8b5557439048437%29%3B%0A%20%20%20%20%20%20%20%20%0A%0A%20%20%20%20%20%20%20%20marker_99691ff814a9446db0649d9e8f72464f.bindPopup%28popup_536b812f521e4004af60e0300004e741%29%0A%20%20%20%20%20%20%20%20.openPopup%28%29%3B%0A%0A%20%20%20%20%20%20%20%20%0A%20%20%20%20%0A%20%20%20%20%0A%20%20%20%20%20%20%20%20%20%20%20%20var%20marker_1404f9ff75a9430f9baf811b51401bda%20%3D%20L.marker%28%0A%20%20%20%20%20%20%20%20%20%20%20%20%20%20%20%20%5B40.70102%2C%20-73.58281%5D%2C%0A%20%20%20%20%20%20%20%20%20%20%20%20%20%20%20%20%7B%7D%0A%20%20%20%20%20%20%20%20%20%20%20%20%29.addTo%28map_4fd38b12ea1542b9a138914b266c9879%29%3B%0A%20%20%20%20%20%20%20%20%0A%20%20%20%20%0A%20%20%20%20%20%20%20%20var%20popup_54391a58d86741308341425c90e32565%20%3D%20L.popup%28%7B%22autoClose%22%3A%20false%2C%20%22maxWidth%22%3A%20%22100%25%22%7D%29%3B%0A%0A%20%20%20%20%20%20%20%20%0A%20%20%20%20%20%20%20%20%20%20%20%20var%20html_efaf3e01ad414b98935db46d96ae09dd%20%3D%20%24%28%60%3Cdiv%20id%3D%22html_efaf3e01ad414b98935db46d96ae09dd%22%20style%3D%22width%3A%20100.0%25%3B%20height%3A%20100.0%25%3B%22%3E%20%20Nassau%20County%3C/div%3E%60%29%5B0%5D%3B%0A%20%20%20%20%20%20%20%20%20%20%20%20popup_54391a58d86741308341425c90e32565.setContent%28html_efaf3e01ad414b98935db46d96ae09dd%29%3B%0A%20%20%20%20%20%20%20%20%0A%0A%20%20%20%20%20%20%20%20marker_1404f9ff75a9430f9baf811b51401bda.bindPopup%28popup_54391a58d86741308341425c90e32565%29%0A%20%20%20%20%20%20%20%20.openPopup%28%29%3B%0A%0A%20%20%20%20%20%20%20%20%0A%20%20%20%20%0A%20%20%20%20%0A%20%20%20%20%20%20%20%20%20%20%20%20var%20marker_6b8b9ce510ac40f2b4b52e763fb25ae0%20%3D%20L.marker%28%0A%20%20%20%20%20%20%20%20%20%20%20%20%20%20%20%20%5B40.77151%2C%20-73.97386999999998%5D%2C%0A%20%20%20%20%20%20%20%20%20%20%20%20%20%20%20%20%7B%7D%0A%20%20%20%20%20%20%20%20%20%20%20%20%29.addTo%28map_4fd38b12ea1542b9a138914b266c9879%29%3B%0A%20%20%20%20%20%20%20%20%0A%20%20%20%20%0A%20%20%20%20%20%20%20%20var%20popup_9cbcac0b204b4a23b59c0c45e4ec849d%20%3D%20L.popup%28%7B%22autoClose%22%3A%20false%2C%20%22maxWidth%22%3A%20%22100%25%22%7D%29%3B%0A%0A%20%20%20%20%20%20%20%20%0A%20%20%20%20%20%20%20%20%20%20%20%20var%20html_1d6f3d5aef434f0883eb5d7f6506ed63%20%3D%20%24%28%60%3Cdiv%20id%3D%22html_1d6f3d5aef434f0883eb5d7f6506ed63%22%20style%3D%22width%3A%20100.0%25%3B%20height%3A%20100.0%25%3B%22%3E%20%20New%20York%20County%3C/div%3E%60%29%5B0%5D%3B%0A%20%20%20%20%20%20%20%20%20%20%20%20popup_9cbcac0b204b4a23b59c0c45e4ec849d.setContent%28html_1d6f3d5aef434f0883eb5d7f6506ed63%29%3B%0A%20%20%20%20%20%20%20%20%0A%0A%20%20%20%20%20%20%20%20marker_6b8b9ce510ac40f2b4b52e763fb25ae0.bindPopup%28popup_9cbcac0b204b4a23b59c0c45e4ec849d%29%0A%20%20%20%20%20%20%20%20.openPopup%28%29%3B%0A%0A%20%20%20%20%20%20%20%20%0A%20%20%20%20%0A%20%20%20%20%0A%20%20%20%20%20%20%20%20%20%20%20%20var%20marker_b1262349d84a413d941b16232fddce66%20%3D%20L.marker%28%0A%20%20%20%20%20%20%20%20%20%20%20%20%20%20%20%20%5B43.141639999999995%2C%20-78.82822%5D%2C%0A%20%20%20%20%20%20%20%20%20%20%20%20%20%20%20%20%7B%7D%0A%20%20%20%20%20%20%20%20%20%20%20%20%29.addTo%28map_4fd38b12ea1542b9a138914b266c9879%29%3B%0A%20%20%20%20%20%20%20%20%0A%20%20%20%20%0A%20%20%20%20%20%20%20%20var%20popup_2ae1e86ad3af41d6866cdc28045863fa%20%3D%20L.popup%28%7B%22autoClose%22%3A%20false%2C%20%22maxWidth%22%3A%20%22100%25%22%7D%29%3B%0A%0A%20%20%20%20%20%20%20%20%0A%20%20%20%20%20%20%20%20%20%20%20%20var%20html_2854a2c9d66246f6bca76be0a9f81fb7%20%3D%20%24%28%60%3Cdiv%20id%3D%22html_2854a2c9d66246f6bca76be0a9f81fb7%22%20style%3D%22width%3A%20100.0%25%3B%20height%3A%20100.0%25%3B%22%3E%20%20Niagara%20County%3C/div%3E%60%29%5B0%5D%3B%0A%20%20%20%20%20%20%20%20%20%20%20%20popup_2ae1e86ad3af41d6866cdc28045863fa.setContent%28html_2854a2c9d66246f6bca76be0a9f81fb7%29%3B%0A%20%20%20%20%20%20%20%20%0A%0A%20%20%20%20%20%20%20%20marker_b1262349d84a413d941b16232fddce66.bindPopup%28popup_2ae1e86ad3af41d6866cdc28045863fa%29%0A%20%20%20%20%20%20%20%20.openPopup%28%29%3B%0A%0A%20%20%20%20%20%20%20%20%0A%20%20%20%20%0A%20%20%20%20%0A%20%20%20%20%20%20%20%20%20%20%20%20var%20marker_2db799d03d7741cdb9555d2f97e3fdc6%20%3D%20L.marker%28%0A%20%20%20%20%20%20%20%20%20%20%20%20%20%20%20%20%5B43.1907%2C%20-75.37144%5D%2C%0A%20%20%20%20%20%20%20%20%20%20%20%20%20%20%20%20%7B%7D%0A%20%20%20%20%20%20%20%20%20%20%20%20%29.addTo%28map_4fd38b12ea1542b9a138914b266c9879%29%3B%0A%20%20%20%20%20%20%20%20%0A%20%20%20%20%0A%20%20%20%20%20%20%20%20var%20popup_d764d2475967481fb39f4a46c80aa837%20%3D%20L.popup%28%7B%22autoClose%22%3A%20false%2C%20%22maxWidth%22%3A%20%22100%25%22%7D%29%3B%0A%0A%20%20%20%20%20%20%20%20%0A%20%20%20%20%20%20%20%20%20%20%20%20var%20html_95a50954047e4804bd22817252a18048%20%3D%20%24%28%60%3Cdiv%20id%3D%22html_95a50954047e4804bd22817252a18048%22%20style%3D%22width%3A%20100.0%25%3B%20height%3A%20100.0%25%3B%22%3E%20%20Oneida%20County%3C/div%3E%60%29%5B0%5D%3B%0A%20%20%20%20%20%20%20%20%20%20%20%20popup_d764d2475967481fb39f4a46c80aa837.setContent%28html_95a50954047e4804bd22817252a18048%29%3B%0A%20%20%20%20%20%20%20%20%0A%0A%20%20%20%20%20%20%20%20marker_2db799d03d7741cdb9555d2f97e3fdc6.bindPopup%28popup_d764d2475967481fb39f4a46c80aa837%29%0A%20%20%20%20%20%20%20%20.openPopup%28%29%3B%0A%0A%20%20%20%20%20%20%20%20%0A%20%20%20%20%0A%20%20%20%20%0A%20%20%20%20%20%20%20%20%20%20%20%20var%20marker_afb05ee59f05474d97bbe03d54e6bff0%20%3D%20L.marker%28%0A%20%20%20%20%20%20%20%20%20%20%20%20%20%20%20%20%5B43.056955%2C%20-76.15429499999999%5D%2C%0A%20%20%20%20%20%20%20%20%20%20%20%20%20%20%20%20%7B%7D%0A%20%20%20%20%20%20%20%20%20%20%20%20%29.addTo%28map_4fd38b12ea1542b9a138914b266c9879%29%3B%0A%20%20%20%20%20%20%20%20%0A%20%20%20%20%0A%20%20%20%20%20%20%20%20var%20popup_40aa7b4a05d446bdbd40e8ef59c87d4a%20%3D%20L.popup%28%7B%22autoClose%22%3A%20false%2C%20%22maxWidth%22%3A%20%22100%25%22%7D%29%3B%0A%0A%20%20%20%20%20%20%20%20%0A%20%20%20%20%20%20%20%20%20%20%20%20var%20html_0b9fc4e509d94ba7ad01f4f614494cc7%20%3D%20%24%28%60%3Cdiv%20id%3D%22html_0b9fc4e509d94ba7ad01f4f614494cc7%22%20style%3D%22width%3A%20100.0%25%3B%20height%3A%20100.0%25%3B%22%3E%20%20Onondaga%20County%3C/div%3E%60%29%5B0%5D%3B%0A%20%20%20%20%20%20%20%20%20%20%20%20popup_40aa7b4a05d446bdbd40e8ef59c87d4a.setContent%28html_0b9fc4e509d94ba7ad01f4f614494cc7%29%3B%0A%20%20%20%20%20%20%20%20%0A%0A%20%20%20%20%20%20%20%20marker_afb05ee59f05474d97bbe03d54e6bff0.bindPopup%28popup_40aa7b4a05d446bdbd40e8ef59c87d4a%29%0A%20%20%20%20%20%20%20%20.openPopup%28%29%3B%0A%0A%20%20%20%20%20%20%20%20%0A%20%20%20%20%0A%20%20%20%20%0A%20%20%20%20%20%20%20%20%20%20%20%20var%20marker_b66430c20f3c48c2aa87b32ea518b589%20%3D%20L.marker%28%0A%20%20%20%20%20%20%20%20%20%20%20%20%20%20%20%20%5B42.91269000000001%2C%20-77.27698000000002%5D%2C%0A%20%20%20%20%20%20%20%20%20%20%20%20%20%20%20%20%7B%7D%0A%20%20%20%20%20%20%20%20%20%20%20%20%29.addTo%28map_4fd38b12ea1542b9a138914b266c9879%29%3B%0A%20%20%20%20%20%20%20%20%0A%20%20%20%20%0A%20%20%20%20%20%20%20%20var%20popup_fa6b436b09b44613b14a46c9a3489189%20%3D%20L.popup%28%7B%22autoClose%22%3A%20false%2C%20%22maxWidth%22%3A%20%22100%25%22%7D%29%3B%0A%0A%20%20%20%20%20%20%20%20%0A%20%20%20%20%20%20%20%20%20%20%20%20var%20html_91082d771b9c4b14a134d325aa4a7196%20%3D%20%24%28%60%3Cdiv%20id%3D%22html_91082d771b9c4b14a134d325aa4a7196%22%20style%3D%22width%3A%20100.0%25%3B%20height%3A%20100.0%25%3B%22%3E%20%20Ontario%20County%3C/div%3E%60%29%5B0%5D%3B%0A%20%20%20%20%20%20%20%20%20%20%20%20popup_fa6b436b09b44613b14a46c9a3489189.setContent%28html_91082d771b9c4b14a134d325aa4a7196%29%3B%0A%20%20%20%20%20%20%20%20%0A%0A%20%20%20%20%20%20%20%20marker_b66430c20f3c48c2aa87b32ea518b589.bindPopup%28popup_fa6b436b09b44613b14a46c9a3489189%29%0A%20%20%20%20%20%20%20%20.openPopup%28%29%3B%0A%0A%20%20%20%20%20%20%20%20%0A%20%20%20%20%0A%20%20%20%20%0A%20%20%20%20%20%20%20%20%20%20%20%20var%20marker_31546fb033dc45c9b074309609bdc745%20%3D%20L.marker%28%0A%20%20%20%20%20%20%20%20%20%20%20%20%20%20%20%20%5B41.421215000000004%2C%20-74.28813500000001%5D%2C%0A%20%20%20%20%20%20%20%20%20%20%20%20%20%20%20%20%7B%7D%0A%20%20%20%20%20%20%20%20%20%20%20%20%29.addTo%28map_4fd38b12ea1542b9a138914b266c9879%29%3B%0A%20%20%20%20%20%20%20%20%0A%20%20%20%20%0A%20%20%20%20%20%20%20%20var%20popup_040b8403bb43466796c16884f847cf48%20%3D%20L.popup%28%7B%22autoClose%22%3A%20false%2C%20%22maxWidth%22%3A%20%22100%25%22%7D%29%3B%0A%0A%20%20%20%20%20%20%20%20%0A%20%20%20%20%20%20%20%20%20%20%20%20var%20html_e580f1b4454e4993ac3a1cf95f9299b5%20%3D%20%24%28%60%3Cdiv%20id%3D%22html_e580f1b4454e4993ac3a1cf95f9299b5%22%20style%3D%22width%3A%20100.0%25%3B%20height%3A%20100.0%25%3B%22%3E%20%20Orange%20County%3C/div%3E%60%29%5B0%5D%3B%0A%20%20%20%20%20%20%20%20%20%20%20%20popup_040b8403bb43466796c16884f847cf48.setContent%28html_e580f1b4454e4993ac3a1cf95f9299b5%29%3B%0A%20%20%20%20%20%20%20%20%0A%0A%20%20%20%20%20%20%20%20marker_31546fb033dc45c9b074309609bdc745.bindPopup%28popup_040b8403bb43466796c16884f847cf48%29%0A%20%20%20%20%20%20%20%20.openPopup%28%29%3B%0A%0A%20%20%20%20%20%20%20%20%0A%20%20%20%20%0A%20%20%20%20%0A%20%20%20%20%20%20%20%20%20%20%20%20var%20marker_94b1d36fddbb44908a34357b5ddc579e%20%3D%20L.marker%28%0A%20%20%20%20%20%20%20%20%20%20%20%20%20%20%20%20%5B43.29373%2C%20-78.19328%5D%2C%0A%20%20%20%20%20%20%20%20%20%20%20%20%20%20%20%20%7B%7D%0A%20%20%20%20%20%20%20%20%20%20%20%20%29.addTo%28map_4fd38b12ea1542b9a138914b266c9879%29%3B%0A%20%20%20%20%20%20%20%20%0A%20%20%20%20%0A%20%20%20%20%20%20%20%20var%20popup_2f2723b85ff449fea48eb346bf86c062%20%3D%20L.popup%28%7B%22autoClose%22%3A%20false%2C%20%22maxWidth%22%3A%20%22100%25%22%7D%29%3B%0A%0A%20%20%20%20%20%20%20%20%0A%20%20%20%20%20%20%20%20%20%20%20%20var%20html_8a7f7f86e2894cde8ecb42271fa137a1%20%3D%20%24%28%60%3Cdiv%20id%3D%22html_8a7f7f86e2894cde8ecb42271fa137a1%22%20style%3D%22width%3A%20100.0%25%3B%20height%3A%20100.0%25%3B%22%3E%20%20Orleans%20County%3C/div%3E%60%29%5B0%5D%3B%0A%20%20%20%20%20%20%20%20%20%20%20%20popup_2f2723b85ff449fea48eb346bf86c062.setContent%28html_8a7f7f86e2894cde8ecb42271fa137a1%29%3B%0A%20%20%20%20%20%20%20%20%0A%0A%20%20%20%20%20%20%20%20marker_94b1d36fddbb44908a34357b5ddc579e.bindPopup%28popup_2f2723b85ff449fea48eb346bf86c062%29%0A%20%20%20%20%20%20%20%20.openPopup%28%29%3B%0A%0A%20%20%20%20%20%20%20%20%0A%20%20%20%20%0A%20%20%20%20%0A%20%20%20%20%20%20%20%20%20%20%20%20var%20marker_bb6aeb1fa95942b08847e5d58411276e%20%3D%20L.marker%28%0A%20%20%20%20%20%20%20%20%20%20%20%20%20%20%20%20%5B43.41745%2C%20-76.16983%5D%2C%0A%20%20%20%20%20%20%20%20%20%20%20%20%20%20%20%20%7B%7D%0A%20%20%20%20%20%20%20%20%20%20%20%20%29.addTo%28map_4fd38b12ea1542b9a138914b266c9879%29%3B%0A%20%20%20%20%20%20%20%20%0A%20%20%20%20%0A%20%20%20%20%20%20%20%20var%20popup_2860292bcd00462aae0fe7c9c857d640%20%3D%20L.popup%28%7B%22autoClose%22%3A%20false%2C%20%22maxWidth%22%3A%20%22100%25%22%7D%29%3B%0A%0A%20%20%20%20%20%20%20%20%0A%20%20%20%20%20%20%20%20%20%20%20%20var%20html_430a5c09a72a453fb6228a20cb53932f%20%3D%20%24%28%60%3Cdiv%20id%3D%22html_430a5c09a72a453fb6228a20cb53932f%22%20style%3D%22width%3A%20100.0%25%3B%20height%3A%20100.0%25%3B%22%3E%20%20Oswego%20County%3C/div%3E%60%29%5B0%5D%3B%0A%20%20%20%20%20%20%20%20%20%20%20%20popup_2860292bcd00462aae0fe7c9c857d640.setContent%28html_430a5c09a72a453fb6228a20cb53932f%29%3B%0A%20%20%20%20%20%20%20%20%0A%0A%20%20%20%20%20%20%20%20marker_bb6aeb1fa95942b08847e5d58411276e.bindPopup%28popup_2860292bcd00462aae0fe7c9c857d640%29%0A%20%20%20%20%20%20%20%20.openPopup%28%29%3B%0A%0A%20%20%20%20%20%20%20%20%0A%20%20%20%20%0A%20%20%20%20%0A%20%20%20%20%20%20%20%20%20%20%20%20var%20marker_e262be814db943e59b38f0967c8775e5%20%3D%20L.marker%28%0A%20%20%20%20%20%20%20%20%20%20%20%20%20%20%20%20%5B42.59169%2C%20-75.051705%5D%2C%0A%20%20%20%20%20%20%20%20%20%20%20%20%20%20%20%20%7B%7D%0A%20%20%20%20%20%20%20%20%20%20%20%20%29.addTo%28map_4fd38b12ea1542b9a138914b266c9879%29%3B%0A%20%20%20%20%20%20%20%20%0A%20%20%20%20%0A%20%20%20%20%20%20%20%20var%20popup_64ca3432fdce4c9fa4b5087890c2215a%20%3D%20L.popup%28%7B%22autoClose%22%3A%20false%2C%20%22maxWidth%22%3A%20%22100%25%22%7D%29%3B%0A%0A%20%20%20%20%20%20%20%20%0A%20%20%20%20%20%20%20%20%20%20%20%20var%20html_6a3682f9ff8e441cb8c1f0b6b0588a79%20%3D%20%24%28%60%3Cdiv%20id%3D%22html_6a3682f9ff8e441cb8c1f0b6b0588a79%22%20style%3D%22width%3A%20100.0%25%3B%20height%3A%20100.0%25%3B%22%3E%20%20Otsego%20County%3C/div%3E%60%29%5B0%5D%3B%0A%20%20%20%20%20%20%20%20%20%20%20%20popup_64ca3432fdce4c9fa4b5087890c2215a.setContent%28html_6a3682f9ff8e441cb8c1f0b6b0588a79%29%3B%0A%20%20%20%20%20%20%20%20%0A%0A%20%20%20%20%20%20%20%20marker_e262be814db943e59b38f0967c8775e5.bindPopup%28popup_64ca3432fdce4c9fa4b5087890c2215a%29%0A%20%20%20%20%20%20%20%20.openPopup%28%29%3B%0A%0A%20%20%20%20%20%20%20%20%0A%20%20%20%20%0A%20%20%20%20%0A%20%20%20%20%20%20%20%20%20%20%20%20var%20marker_f8373f2296164e7fb655a55a32c85839%20%3D%20L.marker%28%0A%20%20%20%20%20%20%20%20%20%20%20%20%20%20%20%20%5B41.41451%2C%20-73.653625%5D%2C%0A%20%20%20%20%20%20%20%20%20%20%20%20%20%20%20%20%7B%7D%0A%20%20%20%20%20%20%20%20%20%20%20%20%29.addTo%28map_4fd38b12ea1542b9a138914b266c9879%29%3B%0A%20%20%20%20%20%20%20%20%0A%20%20%20%20%0A%20%20%20%20%20%20%20%20var%20popup_55d2a087022d4196a7f138553a3236ea%20%3D%20L.popup%28%7B%22autoClose%22%3A%20false%2C%20%22maxWidth%22%3A%20%22100%25%22%7D%29%3B%0A%0A%20%20%20%20%20%20%20%20%0A%20%20%20%20%20%20%20%20%20%20%20%20var%20html_94fb63d0d1c44df7a8d168bb90bbe3f6%20%3D%20%24%28%60%3Cdiv%20id%3D%22html_94fb63d0d1c44df7a8d168bb90bbe3f6%22%20style%3D%22width%3A%20100.0%25%3B%20height%3A%20100.0%25%3B%22%3E%20%20Putnam%20County%3C/div%3E%60%29%5B0%5D%3B%0A%20%20%20%20%20%20%20%20%20%20%20%20popup_55d2a087022d4196a7f138553a3236ea.setContent%28html_94fb63d0d1c44df7a8d168bb90bbe3f6%29%3B%0A%20%20%20%20%20%20%20%20%0A%0A%20%20%20%20%20%20%20%20marker_f8373f2296164e7fb655a55a32c85839.bindPopup%28popup_55d2a087022d4196a7f138553a3236ea%29%0A%20%20%20%20%20%20%20%20.openPopup%28%29%3B%0A%0A%20%20%20%20%20%20%20%20%0A%20%20%20%20%0A%20%20%20%20%0A%20%20%20%20%20%20%20%20%20%20%20%20var%20marker_46c79d2c68f846ecb3976da08d8676ca%20%3D%20L.marker%28%0A%20%20%20%20%20%20%20%20%20%20%20%20%20%20%20%20%5B40.731120000000004%2C%20-73.83385499999999%5D%2C%0A%20%20%20%20%20%20%20%20%20%20%20%20%20%20%20%20%7B%7D%0A%20%20%20%20%20%20%20%20%20%20%20%20%29.addTo%28map_4fd38b12ea1542b9a138914b266c9879%29%3B%0A%20%20%20%20%20%20%20%20%0A%20%20%20%20%0A%20%20%20%20%20%20%20%20var%20popup_fc76a3eb9db74df1bbe8508b29852d3b%20%3D%20L.popup%28%7B%22autoClose%22%3A%20false%2C%20%22maxWidth%22%3A%20%22100%25%22%7D%29%3B%0A%0A%20%20%20%20%20%20%20%20%0A%20%20%20%20%20%20%20%20%20%20%20%20var%20html_3e0a4ce42b9e40c89f660440504997a1%20%3D%20%24%28%60%3Cdiv%20id%3D%22html_3e0a4ce42b9e40c89f660440504997a1%22%20style%3D%22width%3A%20100.0%25%3B%20height%3A%20100.0%25%3B%22%3E%20%20Queens%20County%3C/div%3E%60%29%5B0%5D%3B%0A%20%20%20%20%20%20%20%20%20%20%20%20popup_fc76a3eb9db74df1bbe8508b29852d3b.setContent%28html_3e0a4ce42b9e40c89f660440504997a1%29%3B%0A%20%20%20%20%20%20%20%20%0A%0A%20%20%20%20%20%20%20%20marker_46c79d2c68f846ecb3976da08d8676ca.bindPopup%28popup_fc76a3eb9db74df1bbe8508b29852d3b%29%0A%20%20%20%20%20%20%20%20.openPopup%28%29%3B%0A%0A%20%20%20%20%20%20%20%20%0A%20%20%20%20%0A%20%20%20%20%0A%20%20%20%20%20%20%20%20%20%20%20%20var%20marker_4ab99b0fe8c84c4f9e9956e8814ca4d7%20%3D%20L.marker%28%0A%20%20%20%20%20%20%20%20%20%20%20%20%20%20%20%20%5B42.64416%2C%20-73.58188%5D%2C%0A%20%20%20%20%20%20%20%20%20%20%20%20%20%20%20%20%7B%7D%0A%20%20%20%20%20%20%20%20%20%20%20%20%29.addTo%28map_4fd38b12ea1542b9a138914b266c9879%29%3B%0A%20%20%20%20%20%20%20%20%0A%20%20%20%20%0A%20%20%20%20%20%20%20%20var%20popup_575d8df26dc94f92b7de8b4b8fd5a155%20%3D%20L.popup%28%7B%22autoClose%22%3A%20false%2C%20%22maxWidth%22%3A%20%22100%25%22%7D%29%3B%0A%0A%20%20%20%20%20%20%20%20%0A%20%20%20%20%20%20%20%20%20%20%20%20var%20html_8c6c4cb75cf74bb58c8911a90808105d%20%3D%20%24%28%60%3Cdiv%20id%3D%22html_8c6c4cb75cf74bb58c8911a90808105d%22%20style%3D%22width%3A%20100.0%25%3B%20height%3A%20100.0%25%3B%22%3E%20%20Rensselaer%20County%3C/div%3E%60%29%5B0%5D%3B%0A%20%20%20%20%20%20%20%20%20%20%20%20popup_575d8df26dc94f92b7de8b4b8fd5a155.setContent%28html_8c6c4cb75cf74bb58c8911a90808105d%29%3B%0A%20%20%20%20%20%20%20%20%0A%0A%20%20%20%20%20%20%20%20marker_4ab99b0fe8c84c4f9e9956e8814ca4d7.bindPopup%28popup_575d8df26dc94f92b7de8b4b8fd5a155%29%0A%20%20%20%20%20%20%20%20.openPopup%28%29%3B%0A%0A%20%20%20%20%20%20%20%20%0A%20%20%20%20%0A%20%20%20%20%0A%20%20%20%20%20%20%20%20%20%20%20%20var%20marker_327453a1e7f247faa6107aca84ece829%20%3D%20L.marker%28%0A%20%20%20%20%20%20%20%20%20%20%20%20%20%20%20%20%5B40.607325%2C%20-74.15207000000001%5D%2C%0A%20%20%20%20%20%20%20%20%20%20%20%20%20%20%20%20%7B%7D%0A%20%20%20%20%20%20%20%20%20%20%20%20%29.addTo%28map_4fd38b12ea1542b9a138914b266c9879%29%3B%0A%20%20%20%20%20%20%20%20%0A%20%20%20%20%0A%20%20%20%20%20%20%20%20var%20popup_0cd7729087734e9a9203b9b12bd27d5f%20%3D%20L.popup%28%7B%22autoClose%22%3A%20false%2C%20%22maxWidth%22%3A%20%22100%25%22%7D%29%3B%0A%0A%20%20%20%20%20%20%20%20%0A%20%20%20%20%20%20%20%20%20%20%20%20var%20html_246e93438abc43baa62938200ed15bd3%20%3D%20%24%28%60%3Cdiv%20id%3D%22html_246e93438abc43baa62938200ed15bd3%22%20style%3D%22width%3A%20100.0%25%3B%20height%3A%20100.0%25%3B%22%3E%20%20Richmond%20County%3C/div%3E%60%29%5B0%5D%3B%0A%20%20%20%20%20%20%20%20%20%20%20%20popup_0cd7729087734e9a9203b9b12bd27d5f.setContent%28html_246e93438abc43baa62938200ed15bd3%29%3B%0A%20%20%20%20%20%20%20%20%0A%0A%20%20%20%20%20%20%20%20marker_327453a1e7f247faa6107aca84ece829.bindPopup%28popup_0cd7729087734e9a9203b9b12bd27d5f%29%0A%20%20%20%20%20%20%20%20.openPopup%28%29%3B%0A%0A%20%20%20%20%20%20%20%20%0A%20%20%20%20%0A%20%20%20%20%0A%20%20%20%20%20%20%20%20%20%20%20%20var%20marker_d6f9301772f84057a4e00e84be9bbe21%20%3D%20L.marker%28%0A%20%20%20%20%20%20%20%20%20%20%20%20%20%20%20%20%5B41.10435%2C%20-74.006245%5D%2C%0A%20%20%20%20%20%20%20%20%20%20%20%20%20%20%20%20%7B%7D%0A%20%20%20%20%20%20%20%20%20%20%20%20%29.addTo%28map_4fd38b12ea1542b9a138914b266c9879%29%3B%0A%20%20%20%20%20%20%20%20%0A%20%20%20%20%0A%20%20%20%20%20%20%20%20var%20popup_551672be438e444ea5d96af8020883cf%20%3D%20L.popup%28%7B%22autoClose%22%3A%20false%2C%20%22maxWidth%22%3A%20%22100%25%22%7D%29%3B%0A%0A%20%20%20%20%20%20%20%20%0A%20%20%20%20%20%20%20%20%20%20%20%20var%20html_9c5f6707fe114290b3d3fc79f29174fa%20%3D%20%24%28%60%3Cdiv%20id%3D%22html_9c5f6707fe114290b3d3fc79f29174fa%22%20style%3D%22width%3A%20100.0%25%3B%20height%3A%20100.0%25%3B%22%3E%20%20Rockland%20County%3C/div%3E%60%29%5B0%5D%3B%0A%20%20%20%20%20%20%20%20%20%20%20%20popup_551672be438e444ea5d96af8020883cf.setContent%28html_9c5f6707fe114290b3d3fc79f29174fa%29%3B%0A%20%20%20%20%20%20%20%20%0A%0A%20%20%20%20%20%20%20%20marker_d6f9301772f84057a4e00e84be9bbe21.bindPopup%28popup_551672be438e444ea5d96af8020883cf%29%0A%20%20%20%20%20%20%20%20.openPopup%28%29%3B%0A%0A%20%20%20%20%20%20%20%20%0A%20%20%20%20%0A%20%20%20%20%0A%20%20%20%20%20%20%20%20%20%20%20%20var%20marker_8ce631a991514f3dbed1ec0597b286fe%20%3D%20L.marker%28%0A%20%20%20%20%20%20%20%20%20%20%20%20%20%20%20%20%5B43.045495%2C%20-73.79077000000001%5D%2C%0A%20%20%20%20%20%20%20%20%20%20%20%20%20%20%20%20%7B%7D%0A%20%20%20%20%20%20%20%20%20%20%20%20%29.addTo%28map_4fd38b12ea1542b9a138914b266c9879%29%3B%0A%20%20%20%20%20%20%20%20%0A%20%20%20%20%0A%20%20%20%20%20%20%20%20var%20popup_f824871e329f4d7f98ad97453a084d7b%20%3D%20L.popup%28%7B%22autoClose%22%3A%20false%2C%20%22maxWidth%22%3A%20%22100%25%22%7D%29%3B%0A%0A%20%20%20%20%20%20%20%20%0A%20%20%20%20%20%20%20%20%20%20%20%20var%20html_04d1c61c26db4452a2fedf3385e07c9a%20%3D%20%24%28%60%3Cdiv%20id%3D%22html_04d1c61c26db4452a2fedf3385e07c9a%22%20style%3D%22width%3A%20100.0%25%3B%20height%3A%20100.0%25%3B%22%3E%20%20Saratoga%20County%3C/div%3E%60%29%5B0%5D%3B%0A%20%20%20%20%20%20%20%20%20%20%20%20popup_f824871e329f4d7f98ad97453a084d7b.setContent%28html_04d1c61c26db4452a2fedf3385e07c9a%29%3B%0A%20%20%20%20%20%20%20%20%0A%0A%20%20%20%20%20%20%20%20marker_8ce631a991514f3dbed1ec0597b286fe.bindPopup%28popup_f824871e329f4d7f98ad97453a084d7b%29%0A%20%20%20%20%20%20%20%20.openPopup%28%29%3B%0A%0A%20%20%20%20%20%20%20%20%0A%20%20%20%20%0A%20%20%20%20%0A%20%20%20%20%20%20%20%20%20%20%20%20var%20marker_7d73fd1ac174402b8a7d8708ddc2c801%20%3D%20L.marker%28%0A%20%20%20%20%20%20%20%20%20%20%20%20%20%20%20%20%5B42.79513%2C%20-74.01276999999997%5D%2C%0A%20%20%20%20%20%20%20%20%20%20%20%20%20%20%20%20%7B%7D%0A%20%20%20%20%20%20%20%20%20%20%20%20%29.addTo%28map_4fd38b12ea1542b9a138914b266c9879%29%3B%0A%20%20%20%20%20%20%20%20%0A%20%20%20%20%0A%20%20%20%20%20%20%20%20var%20popup_89d273a2d24544018c027cb51a98ef48%20%3D%20L.popup%28%7B%22autoClose%22%3A%20false%2C%20%22maxWidth%22%3A%20%22100%25%22%7D%29%3B%0A%0A%20%20%20%20%20%20%20%20%0A%20%20%20%20%20%20%20%20%20%20%20%20var%20html_d14b39a21bba43959b2aed65b013ce49%20%3D%20%24%28%60%3Cdiv%20id%3D%22html_d14b39a21bba43959b2aed65b013ce49%22%20style%3D%22width%3A%20100.0%25%3B%20height%3A%20100.0%25%3B%22%3E%20%20Schenectady%20County%3C/div%3E%60%29%5B0%5D%3B%0A%20%20%20%20%20%20%20%20%20%20%20%20popup_89d273a2d24544018c027cb51a98ef48.setContent%28html_d14b39a21bba43959b2aed65b013ce49%29%3B%0A%20%20%20%20%20%20%20%20%0A%0A%20%20%20%20%20%20%20%20marker_7d73fd1ac174402b8a7d8708ddc2c801.bindPopup%28popup_89d273a2d24544018c027cb51a98ef48%29%0A%20%20%20%20%20%20%20%20.openPopup%28%29%3B%0A%0A%20%20%20%20%20%20%20%20%0A%20%20%20%20%0A%20%20%20%20%0A%20%20%20%20%20%20%20%20%20%20%20%20var%20marker_6f99450d17ef4a818036a3449d9e6af8%20%3D%20L.marker%28%0A%20%20%20%20%20%20%20%20%20%20%20%20%20%20%20%20%5B42.6426%2C%20-74.44985%5D%2C%0A%20%20%20%20%20%20%20%20%20%20%20%20%20%20%20%20%7B%7D%0A%20%20%20%20%20%20%20%20%20%20%20%20%29.addTo%28map_4fd38b12ea1542b9a138914b266c9879%29%3B%0A%20%20%20%20%20%20%20%20%0A%20%20%20%20%0A%20%20%20%20%20%20%20%20var%20popup_85850408772349a4b93bcdac71e42688%20%3D%20L.popup%28%7B%22autoClose%22%3A%20false%2C%20%22maxWidth%22%3A%20%22100%25%22%7D%29%3B%0A%0A%20%20%20%20%20%20%20%20%0A%20%20%20%20%20%20%20%20%20%20%20%20var%20html_92ce0b8a60c843fe9c0ae1c796856110%20%3D%20%24%28%60%3Cdiv%20id%3D%22html_92ce0b8a60c843fe9c0ae1c796856110%22%20style%3D%22width%3A%20100.0%25%3B%20height%3A%20100.0%25%3B%22%3E%20%20Schoharie%20County%3C/div%3E%60%29%5B0%5D%3B%0A%20%20%20%20%20%20%20%20%20%20%20%20popup_85850408772349a4b93bcdac71e42688.setContent%28html_92ce0b8a60c843fe9c0ae1c796856110%29%3B%0A%20%20%20%20%20%20%20%20%0A%0A%20%20%20%20%20%20%20%20marker_6f99450d17ef4a818036a3449d9e6af8.bindPopup%28popup_85850408772349a4b93bcdac71e42688%29%0A%20%20%20%20%20%20%20%20.openPopup%28%29%3B%0A%0A%20%20%20%20%20%20%20%20%0A%20%20%20%20%0A%20%20%20%20%0A%20%20%20%20%20%20%20%20%20%20%20%20var%20marker_a1ea45e823d54c02a5d1f0280af586dd%20%3D%20L.marker%28%0A%20%20%20%20%20%20%20%20%20%20%20%20%20%20%20%20%5B42.35527%2C%20-76.82943%5D%2C%0A%20%20%20%20%20%20%20%20%20%20%20%20%20%20%20%20%7B%7D%0A%20%20%20%20%20%20%20%20%20%20%20%20%29.addTo%28map_4fd38b12ea1542b9a138914b266c9879%29%3B%0A%20%20%20%20%20%20%20%20%0A%20%20%20%20%0A%20%20%20%20%20%20%20%20var%20popup_d9613c43f85a48719ae74d8e157a519c%20%3D%20L.popup%28%7B%22autoClose%22%3A%20false%2C%20%22maxWidth%22%3A%20%22100%25%22%7D%29%3B%0A%0A%20%20%20%20%20%20%20%20%0A%20%20%20%20%20%20%20%20%20%20%20%20var%20html_c45d22f1caa14f699cae596e70563576%20%3D%20%24%28%60%3Cdiv%20id%3D%22html_c45d22f1caa14f699cae596e70563576%22%20style%3D%22width%3A%20100.0%25%3B%20height%3A%20100.0%25%3B%22%3E%20%20Schuyler%20County%3C/div%3E%60%29%5B0%5D%3B%0A%20%20%20%20%20%20%20%20%20%20%20%20popup_d9613c43f85a48719ae74d8e157a519c.setContent%28html_c45d22f1caa14f699cae596e70563576%29%3B%0A%20%20%20%20%20%20%20%20%0A%0A%20%20%20%20%20%20%20%20marker_a1ea45e823d54c02a5d1f0280af586dd.bindPopup%28popup_d9613c43f85a48719ae74d8e157a519c%29%0A%20%20%20%20%20%20%20%20.openPopup%28%29%3B%0A%0A%20%20%20%20%20%20%20%20%0A%20%20%20%20%0A%20%20%20%20%0A%20%20%20%20%20%20%20%20%20%20%20%20var%20marker_450ccecee6e54d40b69e3b5d5474e9e0%20%3D%20L.marker%28%0A%20%20%20%20%20%20%20%20%20%20%20%20%20%20%20%20%5B42.901865%2C%20-76.81681500000002%5D%2C%0A%20%20%20%20%20%20%20%20%20%20%20%20%20%20%20%20%7B%7D%0A%20%20%20%20%20%20%20%20%20%20%20%20%29.addTo%28map_4fd38b12ea1542b9a138914b266c9879%29%3B%0A%20%20%20%20%20%20%20%20%0A%20%20%20%20%0A%20%20%20%20%20%20%20%20var%20popup_6783409c3fc043539dc2784df0d87dd7%20%3D%20L.popup%28%7B%22autoClose%22%3A%20false%2C%20%22maxWidth%22%3A%20%22100%25%22%7D%29%3B%0A%0A%20%20%20%20%20%20%20%20%0A%20%20%20%20%20%20%20%20%20%20%20%20var%20html_2e98f0f2bbaa4119a0cb28ea919f99ca%20%3D%20%24%28%60%3Cdiv%20id%3D%22html_2e98f0f2bbaa4119a0cb28ea919f99ca%22%20style%3D%22width%3A%20100.0%25%3B%20height%3A%20100.0%25%3B%22%3E%20%20Seneca%20County%3C/div%3E%60%29%5B0%5D%3B%0A%20%20%20%20%20%20%20%20%20%20%20%20popup_6783409c3fc043539dc2784df0d87dd7.setContent%28html_2e98f0f2bbaa4119a0cb28ea919f99ca%29%3B%0A%20%20%20%20%20%20%20%20%0A%0A%20%20%20%20%20%20%20%20marker_450ccecee6e54d40b69e3b5d5474e9e0.bindPopup%28popup_6783409c3fc043539dc2784df0d87dd7%29%0A%20%20%20%20%20%20%20%20.openPopup%28%29%3B%0A%0A%20%20%20%20%20%20%20%20%0A%20%20%20%20%0A%20%20%20%20%0A%20%20%20%20%20%20%20%20%20%20%20%20var%20marker_c1ce027c43884328b14b217ee77b0bb9%20%3D%20L.marker%28%0A%20%20%20%20%20%20%20%20%20%20%20%20%20%20%20%20%5B44.581905%2C%20-75.11351000000002%5D%2C%0A%20%20%20%20%20%20%20%20%20%20%20%20%20%20%20%20%7B%7D%0A%20%20%20%20%20%20%20%20%20%20%20%20%29.addTo%28map_4fd38b12ea1542b9a138914b266c9879%29%3B%0A%20%20%20%20%20%20%20%20%0A%20%20%20%20%0A%20%20%20%20%20%20%20%20var%20popup_ba9ec8bc80784a2cb840612e3b9cf991%20%3D%20L.popup%28%7B%22autoClose%22%3A%20false%2C%20%22maxWidth%22%3A%20%22100%25%22%7D%29%3B%0A%0A%20%20%20%20%20%20%20%20%0A%20%20%20%20%20%20%20%20%20%20%20%20var%20html_d4d0b3d1bdef45b784c31e6bf15b1158%20%3D%20%24%28%60%3Cdiv%20id%3D%22html_d4d0b3d1bdef45b784c31e6bf15b1158%22%20style%3D%22width%3A%20100.0%25%3B%20height%3A%20100.0%25%3B%22%3E%20%20St.%20Lawrence%20County%3C/div%3E%60%29%5B0%5D%3B%0A%20%20%20%20%20%20%20%20%20%20%20%20popup_ba9ec8bc80784a2cb840612e3b9cf991.setContent%28html_d4d0b3d1bdef45b784c31e6bf15b1158%29%3B%0A%20%20%20%20%20%20%20%20%0A%0A%20%20%20%20%20%20%20%20marker_c1ce027c43884328b14b217ee77b0bb9.bindPopup%28popup_ba9ec8bc80784a2cb840612e3b9cf991%29%0A%20%20%20%20%20%20%20%20.openPopup%28%29%3B%0A%0A%20%20%20%20%20%20%20%20%0A%20%20%20%20%0A%20%20%20%20%0A%20%20%20%20%20%20%20%20%20%20%20%20var%20marker_171018f2e7a54c64882eadb2eb8cdffa%20%3D%20L.marker%28%0A%20%20%20%20%20%20%20%20%20%20%20%20%20%20%20%20%5B42.26493%2C%20-77.3913%5D%2C%0A%20%20%20%20%20%20%20%20%20%20%20%20%20%20%20%20%7B%7D%0A%20%20%20%20%20%20%20%20%20%20%20%20%29.addTo%28map_4fd38b12ea1542b9a138914b266c9879%29%3B%0A%20%20%20%20%20%20%20%20%0A%20%20%20%20%0A%20%20%20%20%20%20%20%20var%20popup_fb99f75a96774a2d9c4febd1574e8c86%20%3D%20L.popup%28%7B%22autoClose%22%3A%20false%2C%20%22maxWidth%22%3A%20%22100%25%22%7D%29%3B%0A%0A%20%20%20%20%20%20%20%20%0A%20%20%20%20%20%20%20%20%20%20%20%20var%20html_8ea71e87eab54f37a922392aed719815%20%3D%20%24%28%60%3Cdiv%20id%3D%22html_8ea71e87eab54f37a922392aed719815%22%20style%3D%22width%3A%20100.0%25%3B%20height%3A%20100.0%25%3B%22%3E%20%20Steuben%20County%3C/div%3E%60%29%5B0%5D%3B%0A%20%20%20%20%20%20%20%20%20%20%20%20popup_fb99f75a96774a2d9c4febd1574e8c86.setContent%28html_8ea71e87eab54f37a922392aed719815%29%3B%0A%20%20%20%20%20%20%20%20%0A%0A%20%20%20%20%20%20%20%20marker_171018f2e7a54c64882eadb2eb8cdffa.bindPopup%28popup_fb99f75a96774a2d9c4febd1574e8c86%29%0A%20%20%20%20%20%20%20%20.openPopup%28%29%3B%0A%0A%20%20%20%20%20%20%20%20%0A%20%20%20%20%0A%20%20%20%20%0A%20%20%20%20%20%20%20%20%20%20%20%20var%20marker_92abce3a49054e268cc1c06be0ec2e67%20%3D%20L.marker%28%0A%20%20%20%20%20%20%20%20%20%20%20%20%20%20%20%20%5B40.810215%2C%20-73.14754500000001%5D%2C%0A%20%20%20%20%20%20%20%20%20%20%20%20%20%20%20%20%7B%7D%0A%20%20%20%20%20%20%20%20%20%20%20%20%29.addTo%28map_4fd38b12ea1542b9a138914b266c9879%29%3B%0A%20%20%20%20%20%20%20%20%0A%20%20%20%20%0A%20%20%20%20%20%20%20%20var%20popup_8ef843d855f044d0a7892dff42b9017d%20%3D%20L.popup%28%7B%22autoClose%22%3A%20false%2C%20%22maxWidth%22%3A%20%22100%25%22%7D%29%3B%0A%0A%20%20%20%20%20%20%20%20%0A%20%20%20%20%20%20%20%20%20%20%20%20var%20html_b4ec4a47fc24428ab3731db2187c0f46%20%3D%20%24%28%60%3Cdiv%20id%3D%22html_b4ec4a47fc24428ab3731db2187c0f46%22%20style%3D%22width%3A%20100.0%25%3B%20height%3A%20100.0%25%3B%22%3E%20%20Suffolk%20County%3C/div%3E%60%29%5B0%5D%3B%0A%20%20%20%20%20%20%20%20%20%20%20%20popup_8ef843d855f044d0a7892dff42b9017d.setContent%28html_b4ec4a47fc24428ab3731db2187c0f46%29%3B%0A%20%20%20%20%20%20%20%20%0A%0A%20%20%20%20%20%20%20%20marker_92abce3a49054e268cc1c06be0ec2e67.bindPopup%28popup_8ef843d855f044d0a7892dff42b9017d%29%0A%20%20%20%20%20%20%20%20.openPopup%28%29%3B%0A%0A%20%20%20%20%20%20%20%20%0A%20%20%20%20%0A%20%20%20%20%0A%20%20%20%20%20%20%20%20%20%20%20%20var%20marker_cf079d731ba84a9080b60dba324127b4%20%3D%20L.marker%28%0A%20%20%20%20%20%20%20%20%20%20%20%20%20%20%20%20%5B41.774315%2C%20-74.75978500000002%5D%2C%0A%20%20%20%20%20%20%20%20%20%20%20%20%20%20%20%20%7B%7D%0A%20%20%20%20%20%20%20%20%20%20%20%20%29.addTo%28map_4fd38b12ea1542b9a138914b266c9879%29%3B%0A%20%20%20%20%20%20%20%20%0A%20%20%20%20%0A%20%20%20%20%20%20%20%20var%20popup_30c79561f5e24b9096988a82e6312e8b%20%3D%20L.popup%28%7B%22autoClose%22%3A%20false%2C%20%22maxWidth%22%3A%20%22100%25%22%7D%29%3B%0A%0A%20%20%20%20%20%20%20%20%0A%20%20%20%20%20%20%20%20%20%20%20%20var%20html_35beb031b1f54385b3aca227d2c72fd3%20%3D%20%24%28%60%3Cdiv%20id%3D%22html_35beb031b1f54385b3aca227d2c72fd3%22%20style%3D%22width%3A%20100.0%25%3B%20height%3A%20100.0%25%3B%22%3E%20%20Sullivan%20County%3C/div%3E%60%29%5B0%5D%3B%0A%20%20%20%20%20%20%20%20%20%20%20%20popup_30c79561f5e24b9096988a82e6312e8b.setContent%28html_35beb031b1f54385b3aca227d2c72fd3%29%3B%0A%20%20%20%20%20%20%20%20%0A%0A%20%20%20%20%20%20%20%20marker_cf079d731ba84a9080b60dba324127b4.bindPopup%28popup_30c79561f5e24b9096988a82e6312e8b%29%0A%20%20%20%20%20%20%20%20.openPopup%28%29%3B%0A%0A%20%20%20%20%20%20%20%20%0A%20%20%20%20%0A%20%20%20%20%0A%20%20%20%20%20%20%20%20%20%20%20%20var%20marker_b157817109e0408db974b3c70d81066e%20%3D%20L.marker%28%0A%20%20%20%20%20%20%20%20%20%20%20%20%20%20%20%20%5B42.09238%2C%20-76.35699%5D%2C%0A%20%20%20%20%20%20%20%20%20%20%20%20%20%20%20%20%7B%7D%0A%20%20%20%20%20%20%20%20%20%20%20%20%29.addTo%28map_4fd38b12ea1542b9a138914b266c9879%29%3B%0A%20%20%20%20%20%20%20%20%0A%20%20%20%20%0A%20%20%20%20%20%20%20%20var%20popup_e4518ec5bd3f4fa6a41c87e963ef7bc1%20%3D%20L.popup%28%7B%22autoClose%22%3A%20false%2C%20%22maxWidth%22%3A%20%22100%25%22%7D%29%3B%0A%0A%20%20%20%20%20%20%20%20%0A%20%20%20%20%20%20%20%20%20%20%20%20var%20html_a75d0fe245694a42a76032ece42bb6a9%20%3D%20%24%28%60%3Cdiv%20id%3D%22html_a75d0fe245694a42a76032ece42bb6a9%22%20style%3D%22width%3A%20100.0%25%3B%20height%3A%20100.0%25%3B%22%3E%20%20Tioga%20County%3C/div%3E%60%29%5B0%5D%3B%0A%20%20%20%20%20%20%20%20%20%20%20%20popup_e4518ec5bd3f4fa6a41c87e963ef7bc1.setContent%28html_a75d0fe245694a42a76032ece42bb6a9%29%3B%0A%20%20%20%20%20%20%20%20%0A%0A%20%20%20%20%20%20%20%20marker_b157817109e0408db974b3c70d81066e.bindPopup%28popup_e4518ec5bd3f4fa6a41c87e963ef7bc1%29%0A%20%20%20%20%20%20%20%20.openPopup%28%29%3B%0A%0A%20%20%20%20%20%20%20%20%0A%20%20%20%20%0A%20%20%20%20%0A%20%20%20%20%20%20%20%20%20%20%20%20var%20marker_63434ca1f12f44719de148978de3bfa3%20%3D%20L.marker%28%0A%20%20%20%20%20%20%20%20%20%20%20%20%20%20%20%20%5B42.45214%2C%20-76.49457%5D%2C%0A%20%20%20%20%20%20%20%20%20%20%20%20%20%20%20%20%7B%7D%0A%20%20%20%20%20%20%20%20%20%20%20%20%29.addTo%28map_4fd38b12ea1542b9a138914b266c9879%29%3B%0A%20%20%20%20%20%20%20%20%0A%20%20%20%20%0A%20%20%20%20%20%20%20%20var%20popup_a09ff6d9c4db4b0a8682c0d02770c3da%20%3D%20L.popup%28%7B%22autoClose%22%3A%20false%2C%20%22maxWidth%22%3A%20%22100%25%22%7D%29%3B%0A%0A%20%20%20%20%20%20%20%20%0A%20%20%20%20%20%20%20%20%20%20%20%20var%20html_e5ef12a13fd64e56baa50f102ec1e5db%20%3D%20%24%28%60%3Cdiv%20id%3D%22html_e5ef12a13fd64e56baa50f102ec1e5db%22%20style%3D%22width%3A%20100.0%25%3B%20height%3A%20100.0%25%3B%22%3E%20%20Tompkins%20County%3C/div%3E%60%29%5B0%5D%3B%0A%20%20%20%20%20%20%20%20%20%20%20%20popup_a09ff6d9c4db4b0a8682c0d02770c3da.setContent%28html_e5ef12a13fd64e56baa50f102ec1e5db%29%3B%0A%20%20%20%20%20%20%20%20%0A%0A%20%20%20%20%20%20%20%20marker_63434ca1f12f44719de148978de3bfa3.bindPopup%28popup_a09ff6d9c4db4b0a8682c0d02770c3da%29%0A%20%20%20%20%20%20%20%20.openPopup%28%29%3B%0A%0A%20%20%20%20%20%20%20%20%0A%20%20%20%20%0A%20%20%20%20%0A%20%20%20%20%20%20%20%20%20%20%20%20var%20marker_7d2a328b043841d392ad35788dfd4547%20%3D%20L.marker%28%0A%20%20%20%20%20%20%20%20%20%20%20%20%20%20%20%20%5B41.93872%2C%20-74.25589000000002%5D%2C%0A%20%20%20%20%20%20%20%20%20%20%20%20%20%20%20%20%7B%7D%0A%20%20%20%20%20%20%20%20%20%20%20%20%29.addTo%28map_4fd38b12ea1542b9a138914b266c9879%29%3B%0A%20%20%20%20%20%20%20%20%0A%20%20%20%20%0A%20%20%20%20%20%20%20%20var%20popup_f9339e7b873d461da10e8e6e530784bf%20%3D%20L.popup%28%7B%22autoClose%22%3A%20false%2C%20%22maxWidth%22%3A%20%22100%25%22%7D%29%3B%0A%0A%20%20%20%20%20%20%20%20%0A%20%20%20%20%20%20%20%20%20%20%20%20var%20html_56dd8c42356d4d55bbb19b934573e163%20%3D%20%24%28%60%3Cdiv%20id%3D%22html_56dd8c42356d4d55bbb19b934573e163%22%20style%3D%22width%3A%20100.0%25%3B%20height%3A%20100.0%25%3B%22%3E%20%20Ulster%20County%3C/div%3E%60%29%5B0%5D%3B%0A%20%20%20%20%20%20%20%20%20%20%20%20popup_f9339e7b873d461da10e8e6e530784bf.setContent%28html_56dd8c42356d4d55bbb19b934573e163%29%3B%0A%20%20%20%20%20%20%20%20%0A%0A%20%20%20%20%20%20%20%20marker_7d2a328b043841d392ad35788dfd4547.bindPopup%28popup_f9339e7b873d461da10e8e6e530784bf%29%0A%20%20%20%20%20%20%20%20.openPopup%28%29%3B%0A%0A%20%20%20%20%20%20%20%20%0A%20%20%20%20%0A%20%20%20%20%0A%20%20%20%20%20%20%20%20%20%20%20%20var%20marker_ef89feaf66504c3f8b400b4574148f33%20%3D%20L.marker%28%0A%20%20%20%20%20%20%20%20%20%20%20%20%20%20%20%20%5B43.56863%2C%20-73.78448%5D%2C%0A%20%20%20%20%20%20%20%20%20%20%20%20%20%20%20%20%7B%7D%0A%20%20%20%20%20%20%20%20%20%20%20%20%29.addTo%28map_4fd38b12ea1542b9a138914b266c9879%29%3B%0A%20%20%20%20%20%20%20%20%0A%20%20%20%20%0A%20%20%20%20%20%20%20%20var%20popup_624f5ef318f14e30893136f2c789c2b3%20%3D%20L.popup%28%7B%22autoClose%22%3A%20false%2C%20%22maxWidth%22%3A%20%22100%25%22%7D%29%3B%0A%0A%20%20%20%20%20%20%20%20%0A%20%20%20%20%20%20%20%20%20%20%20%20var%20html_a9eb8b28db2d43dfaf2bb70143bfb8b7%20%3D%20%24%28%60%3Cdiv%20id%3D%22html_a9eb8b28db2d43dfaf2bb70143bfb8b7%22%20style%3D%22width%3A%20100.0%25%3B%20height%3A%20100.0%25%3B%22%3E%20%20Warren%20County%3C/div%3E%60%29%5B0%5D%3B%0A%20%20%20%20%20%20%20%20%20%20%20%20popup_624f5ef318f14e30893136f2c789c2b3.setContent%28html_a9eb8b28db2d43dfaf2bb70143bfb8b7%29%3B%0A%20%20%20%20%20%20%20%20%0A%0A%20%20%20%20%20%20%20%20marker_ef89feaf66504c3f8b400b4574148f33.bindPopup%28popup_624f5ef318f14e30893136f2c789c2b3%29%0A%20%20%20%20%20%20%20%20.openPopup%28%29%3B%0A%0A%20%20%20%20%20%20%20%20%0A%20%20%20%20%0A%20%20%20%20%0A%20%20%20%20%20%20%20%20%20%20%20%20var%20marker_1354a072330e4c7fa5bdd389462239f1%20%3D%20L.marker%28%0A%20%20%20%20%20%20%20%20%20%20%20%20%20%20%20%20%5B43.25502%2C%20-73.40401999999997%5D%2C%0A%20%20%20%20%20%20%20%20%20%20%20%20%20%20%20%20%7B%7D%0A%20%20%20%20%20%20%20%20%20%20%20%20%29.addTo%28map_4fd38b12ea1542b9a138914b266c9879%29%3B%0A%20%20%20%20%20%20%20%20%0A%20%20%20%20%0A%20%20%20%20%20%20%20%20var%20popup_f9e40f2c6a2649ce8b44907e83579602%20%3D%20L.popup%28%7B%22autoClose%22%3A%20false%2C%20%22maxWidth%22%3A%20%22100%25%22%7D%29%3B%0A%0A%20%20%20%20%20%20%20%20%0A%20%20%20%20%20%20%20%20%20%20%20%20var%20html_efdf18000f7d4c9092f0b3813b1e1e5b%20%3D%20%24%28%60%3Cdiv%20id%3D%22html_efdf18000f7d4c9092f0b3813b1e1e5b%22%20style%3D%22width%3A%20100.0%25%3B%20height%3A%20100.0%25%3B%22%3E%20%20Washington%20County%3C/div%3E%60%29%5B0%5D%3B%0A%20%20%20%20%20%20%20%20%20%20%20%20popup_f9e40f2c6a2649ce8b44907e83579602.setContent%28html_efdf18000f7d4c9092f0b3813b1e1e5b%29%3B%0A%20%20%20%20%20%20%20%20%0A%0A%20%20%20%20%20%20%20%20marker_1354a072330e4c7fa5bdd389462239f1.bindPopup%28popup_f9e40f2c6a2649ce8b44907e83579602%29%0A%20%20%20%20%20%20%20%20.openPopup%28%29%3B%0A%0A%20%20%20%20%20%20%20%20%0A%20%20%20%20%0A%20%20%20%20%0A%20%20%20%20%20%20%20%20%20%20%20%20var%20marker_9da3d57a385149a2a38679db68b5056b%20%3D%20L.marker%28%0A%20%20%20%20%20%20%20%20%20%20%20%20%20%20%20%20%5B43.08682%2C%20-77.04966999999998%5D%2C%0A%20%20%20%20%20%20%20%20%20%20%20%20%20%20%20%20%7B%7D%0A%20%20%20%20%20%20%20%20%20%20%20%20%29.addTo%28map_4fd38b12ea1542b9a138914b266c9879%29%3B%0A%20%20%20%20%20%20%20%20%0A%20%20%20%20%0A%20%20%20%20%20%20%20%20var%20popup_9dbe2f9a69be42a98ef3f89d31ab0356%20%3D%20L.popup%28%7B%22autoClose%22%3A%20false%2C%20%22maxWidth%22%3A%20%22100%25%22%7D%29%3B%0A%0A%20%20%20%20%20%20%20%20%0A%20%20%20%20%20%20%20%20%20%20%20%20var%20html_c9e45b9a54564702ad52a2f25a25bf81%20%3D%20%24%28%60%3Cdiv%20id%3D%22html_c9e45b9a54564702ad52a2f25a25bf81%22%20style%3D%22width%3A%20100.0%25%3B%20height%3A%20100.0%25%3B%22%3E%20%20Wayne%20County%3C/div%3E%60%29%5B0%5D%3B%0A%20%20%20%20%20%20%20%20%20%20%20%20popup_9dbe2f9a69be42a98ef3f89d31ab0356.setContent%28html_c9e45b9a54564702ad52a2f25a25bf81%29%3B%0A%20%20%20%20%20%20%20%20%0A%0A%20%20%20%20%20%20%20%20marker_9da3d57a385149a2a38679db68b5056b.bindPopup%28popup_9dbe2f9a69be42a98ef3f89d31ab0356%29%0A%20%20%20%20%20%20%20%20.openPopup%28%29%3B%0A%0A%20%20%20%20%20%20%20%20%0A%20%20%20%20%0A%20%20%20%20%0A%20%20%20%20%20%20%20%20%20%20%20%20var%20marker_fab70ed869e14de695706bbbea54ed14%20%3D%20L.marker%28%0A%20%20%20%20%20%20%20%20%20%20%20%20%20%20%20%20%5B41.03268%2C%20-73.80439%5D%2C%0A%20%20%20%20%20%20%20%20%20%20%20%20%20%20%20%20%7B%7D%0A%20%20%20%20%20%20%20%20%20%20%20%20%29.addTo%28map_4fd38b12ea1542b9a138914b266c9879%29%3B%0A%20%20%20%20%20%20%20%20%0A%20%20%20%20%0A%20%20%20%20%20%20%20%20var%20popup_cfc7af7e3c5548798ee6f929d6770ea4%20%3D%20L.popup%28%7B%22autoClose%22%3A%20false%2C%20%22maxWidth%22%3A%20%22100%25%22%7D%29%3B%0A%0A%20%20%20%20%20%20%20%20%0A%20%20%20%20%20%20%20%20%20%20%20%20var%20html_3626b6b81bc84cea8d178fb109d9d3e3%20%3D%20%24%28%60%3Cdiv%20id%3D%22html_3626b6b81bc84cea8d178fb109d9d3e3%22%20style%3D%22width%3A%20100.0%25%3B%20height%3A%20100.0%25%3B%22%3E%20%20Westchester%20County%3C/div%3E%60%29%5B0%5D%3B%0A%20%20%20%20%20%20%20%20%20%20%20%20popup_cfc7af7e3c5548798ee6f929d6770ea4.setContent%28html_3626b6b81bc84cea8d178fb109d9d3e3%29%3B%0A%20%20%20%20%20%20%20%20%0A%0A%20%20%20%20%20%20%20%20marker_fab70ed869e14de695706bbbea54ed14.bindPopup%28popup_cfc7af7e3c5548798ee6f929d6770ea4%29%0A%20%20%20%20%20%20%20%20.openPopup%28%29%3B%0A%0A%20%20%20%20%20%20%20%20%0A%20%20%20%20%0A%20%20%20%20%0A%20%20%20%20%20%20%20%20%20%20%20%20var%20marker_5a87f692fc704145b799f01ebecad946%20%3D%20L.marker%28%0A%20%20%20%20%20%20%20%20%20%20%20%20%20%20%20%20%5B42.71679%2C%20-78.25467499999999%5D%2C%0A%20%20%20%20%20%20%20%20%20%20%20%20%20%20%20%20%7B%7D%0A%20%20%20%20%20%20%20%20%20%20%20%20%29.addTo%28map_4fd38b12ea1542b9a138914b266c9879%29%3B%0A%20%20%20%20%20%20%20%20%0A%20%20%20%20%0A%20%20%20%20%20%20%20%20var%20popup_07f5cf1ddd554c5985696710113ea9d7%20%3D%20L.popup%28%7B%22autoClose%22%3A%20false%2C%20%22maxWidth%22%3A%20%22100%25%22%7D%29%3B%0A%0A%20%20%20%20%20%20%20%20%0A%20%20%20%20%20%20%20%20%20%20%20%20var%20html_60b94ef06ccd48f084851604d8f4bf22%20%3D%20%24%28%60%3Cdiv%20id%3D%22html_60b94ef06ccd48f084851604d8f4bf22%22%20style%3D%22width%3A%20100.0%25%3B%20height%3A%20100.0%25%3B%22%3E%20%20Wyoming%20County%3C/div%3E%60%29%5B0%5D%3B%0A%20%20%20%20%20%20%20%20%20%20%20%20popup_07f5cf1ddd554c5985696710113ea9d7.setContent%28html_60b94ef06ccd48f084851604d8f4bf22%29%3B%0A%20%20%20%20%20%20%20%20%0A%0A%20%20%20%20%20%20%20%20marker_5a87f692fc704145b799f01ebecad946.bindPopup%28popup_07f5cf1ddd554c5985696710113ea9d7%29%0A%20%20%20%20%20%20%20%20.openPopup%28%29%3B%0A%0A%20%20%20%20%20%20%20%20%0A%20%20%20%20%0A%20%20%20%20%0A%20%20%20%20%20%20%20%20%20%20%20%20var%20marker_b64038245bf44376954337baa803ef90%20%3D%20L.marker%28%0A%20%20%20%20%20%20%20%20%20%20%20%20%20%20%20%20%5B42.65453%2C%20-77.077195%5D%2C%0A%20%20%20%20%20%20%20%20%20%20%20%20%20%20%20%20%7B%7D%0A%20%20%20%20%20%20%20%20%20%20%20%20%29.addTo%28map_4fd38b12ea1542b9a138914b266c9879%29%3B%0A%20%20%20%20%20%20%20%20%0A%20%20%20%20%0A%20%20%20%20%20%20%20%20var%20popup_e401558af8f0426183b02fd9ee379427%20%3D%20L.popup%28%7B%22autoClose%22%3A%20false%2C%20%22maxWidth%22%3A%20%22100%25%22%7D%29%3B%0A%0A%20%20%20%20%20%20%20%20%0A%20%20%20%20%20%20%20%20%20%20%20%20var%20html_7a75f9dada4647a9943f1d2aef5f2a7c%20%3D%20%24%28%60%3Cdiv%20id%3D%22html_7a75f9dada4647a9943f1d2aef5f2a7c%22%20style%3D%22width%3A%20100.0%25%3B%20height%3A%20100.0%25%3B%22%3E%20%20Yates%20County%3C/div%3E%60%29%5B0%5D%3B%0A%20%20%20%20%20%20%20%20%20%20%20%20popup_e401558af8f0426183b02fd9ee379427.setContent%28html_7a75f9dada4647a9943f1d2aef5f2a7c%29%3B%0A%20%20%20%20%20%20%20%20%0A%0A%20%20%20%20%20%20%20%20marker_b64038245bf44376954337baa803ef90.bindPopup%28popup_e401558af8f0426183b02fd9ee379427%29%0A%20%20%20%20%20%20%20%20.openPopup%28%29%3B%0A%0A%20%20%20%20%20%20%20%20%0A%20%20%20%20%0A%3C/script%3E onload=\"this.contentDocument.open();this.contentDocument.write(    decodeURIComponent(this.getAttribute('data-html')));this.contentDocument.close();\" allowfullscreen webkitallowfullscreen mozallowfullscreen></iframe></div></div>"
      ],
      "text/plain": [
       "<folium.folium.Map at 0x12b02b43af0>"
      ]
     },
     "execution_count": 17,
     "metadata": {},
     "output_type": "execute_result"
    }
   ],
   "source": [
    "for i in range(0,len(ny_county)):\n",
    "    folium.Marker(location=[ny_county.iloc[i]['latitude'], ny_county.iloc[i]['longitude']],\n",
    "     popup=folium.Popup(ny_county.iloc[i]['county'], show=True),\n",
    "   ).add_to(m)\n",
    "    \n",
    "m"
   ]
  },
  {
   "cell_type": "code",
   "execution_count": null,
   "metadata": {
    "ExecuteTime": {
     "end_time": "2021-09-02T18:46:53.342081Z",
     "start_time": "2021-09-02T18:44:23.175Z"
    }
   },
   "outputs": [],
   "source": [
    "ny_df.shape"
   ]
  },
  {
   "cell_type": "code",
   "execution_count": null,
   "metadata": {},
   "outputs": [],
   "source": []
  },
  {
   "cell_type": "code",
   "execution_count": null,
   "metadata": {},
   "outputs": [],
   "source": []
  },
  {
   "cell_type": "code",
   "execution_count": null,
   "metadata": {
    "ExecuteTime": {
     "end_time": "2021-09-02T18:46:53.344079Z",
     "start_time": "2021-09-02T18:44:23.193Z"
    }
   },
   "outputs": [],
   "source": [
    "ny_df.bridge_condition.value_counts(normalize=True)"
   ]
  },
  {
   "cell_type": "code",
   "execution_count": null,
   "metadata": {
    "ExecuteTime": {
     "end_time": "2021-09-01T23:59:30.303060Z",
     "start_time": "2021-09-01T23:59:30.271482Z"
    }
   },
   "outputs": [],
   "source": [
    "\n"
   ]
  },
  {
   "cell_type": "code",
   "execution_count": null,
   "metadata": {
    "ExecuteTime": {
     "end_time": "2021-09-02T18:46:53.346077Z",
     "start_time": "2021-09-02T18:44:23.204Z"
    }
   },
   "outputs": [],
   "source": [
    "# ny_df_grouped = ny_df.groupby('county').median()[['latitude', 'longitude', 'bridge_condition']].values.tolist()\n",
    "ny_df_grouped = ny_df[['latitude', 'longitude', 'bridge_condition']].values.tolist()\n",
    "ny_df_grouped"
   ]
  },
  {
   "cell_type": "code",
   "execution_count": null,
   "metadata": {
    "ExecuteTime": {
     "end_time": "2021-09-02T18:46:53.348078Z",
     "start_time": "2021-09-02T18:44:23.215Z"
    }
   },
   "outputs": [],
   "source": [
    "# Make an empty map\n",
    "m = folium.Map(location=[40,-100], tiles=\"OpenStreetMap\", zoom_start=4)\n",
    "\n",
    "#show the map\n",
    "m"
   ]
  },
  {
   "cell_type": "code",
   "execution_count": null,
   "metadata": {
    "ExecuteTime": {
     "end_time": "2021-09-02T18:46:53.350077Z",
     "start_time": "2021-09-02T18:44:23.222Z"
    }
   },
   "outputs": [],
   "source": [
    "HeatMap(data = ny_df_grouped).add_to(m)\n",
    "display(m)"
   ]
  },
  {
   "cell_type": "code",
   "execution_count": null,
   "metadata": {},
   "outputs": [],
   "source": []
  },
  {
   "cell_type": "code",
   "execution_count": null,
   "metadata": {},
   "outputs": [],
   "source": []
  },
  {
   "cell_type": "code",
   "execution_count": null,
   "metadata": {
    "ExecuteTime": {
     "end_time": "2021-09-02T18:46:53.352079Z",
     "start_time": "2021-09-02T18:44:23.235Z"
    }
   },
   "outputs": [],
   "source": [
    "40.7128° N, 74.0060° W"
   ]
  }
 ],
 "metadata": {
  "kernelspec": {
   "display_name": "Python 3",
   "language": "python",
   "name": "python3"
  },
  "language_info": {
   "codemirror_mode": {
    "name": "ipython",
    "version": 3
   },
   "file_extension": ".py",
   "mimetype": "text/x-python",
   "name": "python",
   "nbconvert_exporter": "python",
   "pygments_lexer": "ipython3",
   "version": "3.8.5"
  },
  "toc": {
   "base_numbering": 1,
   "nav_menu": {},
   "number_sections": true,
   "sideBar": true,
   "skip_h1_title": false,
   "title_cell": "Table of Contents",
   "title_sidebar": "Contents",
   "toc_cell": false,
   "toc_position": {
    "height": "calc(100% - 180px)",
    "left": "10px",
    "top": "150px",
    "width": "234.2px"
   },
   "toc_section_display": true,
   "toc_window_display": true
  },
  "varInspector": {
   "cols": {
    "lenName": 16,
    "lenType": 16,
    "lenVar": 40
   },
   "kernels_config": {
    "python": {
     "delete_cmd_postfix": "",
     "delete_cmd_prefix": "del ",
     "library": "var_list.py",
     "varRefreshCmd": "print(var_dic_list())"
    },
    "r": {
     "delete_cmd_postfix": ") ",
     "delete_cmd_prefix": "rm(",
     "library": "var_list.r",
     "varRefreshCmd": "cat(var_dic_list()) "
    }
   },
   "position": {
    "height": "144.4px",
    "left": "1149.2px",
    "right": "20px",
    "top": "119px",
    "width": "350px"
   },
   "types_to_exclude": [
    "module",
    "function",
    "builtin_function_or_method",
    "instance",
    "_Feature"
   ],
   "window_display": false
  }
 },
 "nbformat": 4,
 "nbformat_minor": 4
}
