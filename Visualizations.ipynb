{
 "cells": [
  {
   "cell_type": "markdown",
   "metadata": {},
   "source": [
    "# Visualizations"
   ]
  },
  {
   "cell_type": "code",
   "execution_count": 1,
   "metadata": {
    "ExecuteTime": {
     "end_time": "2021-09-01T17:46:48.979116Z",
     "start_time": "2021-09-01T17:46:45.137653Z"
    }
   },
   "outputs": [],
   "source": [
    "#import necessary libraries\n",
    "import pandas as pd\n",
    "import numpy as np\n",
    "import seaborn as sns\n",
    "import matplotlib.pyplot as plt\n"
   ]
  },
  {
   "cell_type": "markdown",
   "metadata": {},
   "source": [
    "## Read CSV file"
   ]
  },
  {
   "cell_type": "code",
   "execution_count": 2,
   "metadata": {
    "ExecuteTime": {
     "end_time": "2021-09-01T17:46:50.899832Z",
     "start_time": "2021-09-01T17:46:48.980128Z"
    }
   },
   "outputs": [
    {
     "data": {
      "text/html": [
       "<div>\n",
       "<style scoped>\n",
       "    .dataframe tbody tr th:only-of-type {\n",
       "        vertical-align: middle;\n",
       "    }\n",
       "\n",
       "    .dataframe tbody tr th {\n",
       "        vertical-align: top;\n",
       "    }\n",
       "\n",
       "    .dataframe thead th {\n",
       "        text-align: right;\n",
       "    }\n",
       "</style>\n",
       "<table border=\"1\" class=\"dataframe\">\n",
       "  <thead>\n",
       "    <tr style=\"text-align: right;\">\n",
       "      <th></th>\n",
       "      <th>state</th>\n",
       "      <th>str_id</th>\n",
       "      <th>deck_type</th>\n",
       "      <th>wearing_type</th>\n",
       "      <th>membrane_type</th>\n",
       "      <th>deck_protection</th>\n",
       "      <th>toll</th>\n",
       "      <th>freeze_thaw_cycle</th>\n",
       "      <th>snowfall_days</th>\n",
       "      <th>inventory_class_route</th>\n",
       "      <th>...</th>\n",
       "      <th>yr_reconst</th>\n",
       "      <th>skew</th>\n",
       "      <th>max_span</th>\n",
       "      <th>bridge_width</th>\n",
       "      <th>deck_width</th>\n",
       "      <th>super_st_condition</th>\n",
       "      <th>sub_st_condition</th>\n",
       "      <th>deck_condition</th>\n",
       "      <th>avg_daily_trfic</th>\n",
       "      <th>avg_truck_trfc</th>\n",
       "    </tr>\n",
       "  </thead>\n",
       "  <tbody>\n",
       "    <tr>\n",
       "      <th>0</th>\n",
       "      <td>Alabama</td>\n",
       "      <td>021480</td>\n",
       "      <td>1</td>\n",
       "      <td>0</td>\n",
       "      <td>0</td>\n",
       "      <td>0</td>\n",
       "      <td>3.0</td>\n",
       "      <td>14.0</td>\n",
       "      <td>0.0</td>\n",
       "      <td>2.0</td>\n",
       "      <td>...</td>\n",
       "      <td>0.0</td>\n",
       "      <td>23.0</td>\n",
       "      <td>274.9</td>\n",
       "      <td>38.1</td>\n",
       "      <td>41.0</td>\n",
       "      <td>7.0</td>\n",
       "      <td>7.0</td>\n",
       "      <td>7.0</td>\n",
       "      <td>4940.0</td>\n",
       "      <td>35.0</td>\n",
       "    </tr>\n",
       "    <tr>\n",
       "      <th>1</th>\n",
       "      <td>Alabama</td>\n",
       "      <td>009763</td>\n",
       "      <td>N</td>\n",
       "      <td>6</td>\n",
       "      <td>0</td>\n",
       "      <td>0</td>\n",
       "      <td>3.0</td>\n",
       "      <td>14.0</td>\n",
       "      <td>0.0</td>\n",
       "      <td>7.0</td>\n",
       "      <td>...</td>\n",
       "      <td>0.0</td>\n",
       "      <td>45.0</td>\n",
       "      <td>12.1</td>\n",
       "      <td>0.0</td>\n",
       "      <td>0.0</td>\n",
       "      <td>NaN</td>\n",
       "      <td>NaN</td>\n",
       "      <td>NaN</td>\n",
       "      <td>280.0</td>\n",
       "      <td>7.0</td>\n",
       "    </tr>\n",
       "    <tr>\n",
       "      <th>2</th>\n",
       "      <td>Alabama</td>\n",
       "      <td>003324</td>\n",
       "      <td>N</td>\n",
       "      <td>N</td>\n",
       "      <td>N</td>\n",
       "      <td>N</td>\n",
       "      <td>3.0</td>\n",
       "      <td>14.0</td>\n",
       "      <td>0.0</td>\n",
       "      <td>6.0</td>\n",
       "      <td>...</td>\n",
       "      <td>2009.0</td>\n",
       "      <td>0.0</td>\n",
       "      <td>7.9</td>\n",
       "      <td>0.0</td>\n",
       "      <td>0.0</td>\n",
       "      <td>NaN</td>\n",
       "      <td>NaN</td>\n",
       "      <td>NaN</td>\n",
       "      <td>420.0</td>\n",
       "      <td>7.0</td>\n",
       "    </tr>\n",
       "    <tr>\n",
       "      <th>3</th>\n",
       "      <td>Alabama</td>\n",
       "      <td>006369</td>\n",
       "      <td>1</td>\n",
       "      <td>0</td>\n",
       "      <td>0</td>\n",
       "      <td>0</td>\n",
       "      <td>3.0</td>\n",
       "      <td>14.0</td>\n",
       "      <td>0.0</td>\n",
       "      <td>6.0</td>\n",
       "      <td>...</td>\n",
       "      <td>0.0</td>\n",
       "      <td>0.0</td>\n",
       "      <td>60.0</td>\n",
       "      <td>23.6</td>\n",
       "      <td>27.6</td>\n",
       "      <td>7.0</td>\n",
       "      <td>7.0</td>\n",
       "      <td>6.0</td>\n",
       "      <td>420.0</td>\n",
       "      <td>7.0</td>\n",
       "    </tr>\n",
       "    <tr>\n",
       "      <th>4</th>\n",
       "      <td>Alabama</td>\n",
       "      <td>015078</td>\n",
       "      <td>2</td>\n",
       "      <td>0</td>\n",
       "      <td>0</td>\n",
       "      <td>0</td>\n",
       "      <td>3.0</td>\n",
       "      <td>14.0</td>\n",
       "      <td>0.0</td>\n",
       "      <td>8.0</td>\n",
       "      <td>...</td>\n",
       "      <td>0.0</td>\n",
       "      <td>0.0</td>\n",
       "      <td>15.1</td>\n",
       "      <td>23.6</td>\n",
       "      <td>24.9</td>\n",
       "      <td>5.0</td>\n",
       "      <td>6.0</td>\n",
       "      <td>5.0</td>\n",
       "      <td>70.0</td>\n",
       "      <td>0.0</td>\n",
       "    </tr>\n",
       "  </tbody>\n",
       "</table>\n",
       "<p>5 rows × 38 columns</p>\n",
       "</div>"
      ],
      "text/plain": [
       "       state           str_id deck_type wearing_type membrane_type  \\\n",
       "0    Alabama  021480                  1            0             0   \n",
       "1    Alabama  009763                  N            6             0   \n",
       "2    Alabama  003324                  N            N             N   \n",
       "3    Alabama  006369                  1            0             0   \n",
       "4    Alabama  015078                  2            0             0   \n",
       "\n",
       "  deck_protection  toll  freeze_thaw_cycle  snowfall_days  \\\n",
       "0               0   3.0               14.0            0.0   \n",
       "1               0   3.0               14.0            0.0   \n",
       "2               N   3.0               14.0            0.0   \n",
       "3               0   3.0               14.0            0.0   \n",
       "4               0   3.0               14.0            0.0   \n",
       "\n",
       "   inventory_class_route  ...  yr_reconst  skew  max_span  bridge_width  \\\n",
       "0                    2.0  ...         0.0  23.0     274.9          38.1   \n",
       "1                    7.0  ...         0.0  45.0      12.1           0.0   \n",
       "2                    6.0  ...      2009.0   0.0       7.9           0.0   \n",
       "3                    6.0  ...         0.0   0.0      60.0          23.6   \n",
       "4                    8.0  ...         0.0   0.0      15.1          23.6   \n",
       "\n",
       "   deck_width  super_st_condition  sub_st_condition  deck_condition  \\\n",
       "0        41.0                 7.0               7.0             7.0   \n",
       "1         0.0                 NaN               NaN             NaN   \n",
       "2         0.0                 NaN               NaN             NaN   \n",
       "3        27.6                 7.0               7.0             6.0   \n",
       "4        24.9                 5.0               6.0             5.0   \n",
       "\n",
       "   avg_daily_trfic avg_truck_trfc  \n",
       "0           4940.0           35.0  \n",
       "1            280.0            7.0  \n",
       "2            420.0            7.0  \n",
       "3            420.0            7.0  \n",
       "4             70.0            0.0  \n",
       "\n",
       "[5 rows x 38 columns]"
      ]
     },
     "execution_count": 2,
     "metadata": {},
     "output_type": "execute_result"
    }
   ],
   "source": [
    "df1 = pd.read_csv('bridge_data_cleaned1')\n",
    "df1.head()"
   ]
  },
  {
   "cell_type": "code",
   "execution_count": 3,
   "metadata": {
    "ExecuteTime": {
     "end_time": "2021-09-01T17:46:52.742121Z",
     "start_time": "2021-09-01T17:46:50.903835Z"
    }
   },
   "outputs": [
    {
     "data": {
      "text/html": [
       "<div>\n",
       "<style scoped>\n",
       "    .dataframe tbody tr th:only-of-type {\n",
       "        vertical-align: middle;\n",
       "    }\n",
       "\n",
       "    .dataframe tbody tr th {\n",
       "        vertical-align: top;\n",
       "    }\n",
       "\n",
       "    .dataframe thead th {\n",
       "        text-align: right;\n",
       "    }\n",
       "</style>\n",
       "<table border=\"1\" class=\"dataframe\">\n",
       "  <thead>\n",
       "    <tr style=\"text-align: right;\">\n",
       "      <th></th>\n",
       "      <th>state</th>\n",
       "      <th>str_id</th>\n",
       "      <th>deck_type</th>\n",
       "      <th>wearing_type</th>\n",
       "      <th>membrane_type</th>\n",
       "      <th>deck_protection</th>\n",
       "      <th>toll</th>\n",
       "      <th>freeze_thaw_cycle</th>\n",
       "      <th>snowfall_days</th>\n",
       "      <th>inventory_class_route</th>\n",
       "      <th>...</th>\n",
       "      <th>yr_reconst</th>\n",
       "      <th>skew</th>\n",
       "      <th>max_span</th>\n",
       "      <th>bridge_width</th>\n",
       "      <th>deck_width</th>\n",
       "      <th>super_st_condition</th>\n",
       "      <th>sub_st_condition</th>\n",
       "      <th>deck_condition</th>\n",
       "      <th>avg_daily_trfic</th>\n",
       "      <th>avg_truck_trfc</th>\n",
       "    </tr>\n",
       "  </thead>\n",
       "  <tbody>\n",
       "    <tr>\n",
       "      <th>0</th>\n",
       "      <td>Minnesota</td>\n",
       "      <td>L9347</td>\n",
       "      <td>8</td>\n",
       "      <td>8</td>\n",
       "      <td>0</td>\n",
       "      <td>N</td>\n",
       "      <td>3</td>\n",
       "      <td>114.0</td>\n",
       "      <td>83.0</td>\n",
       "      <td>9</td>\n",
       "      <td>...</td>\n",
       "      <td>0.0</td>\n",
       "      <td>0.0</td>\n",
       "      <td>32.2</td>\n",
       "      <td>24.0</td>\n",
       "      <td>25.9</td>\n",
       "      <td>5.0</td>\n",
       "      <td>5.0</td>\n",
       "      <td>7.0</td>\n",
       "      <td>40.0</td>\n",
       "      <td>0.0</td>\n",
       "    </tr>\n",
       "    <tr>\n",
       "      <th>1</th>\n",
       "      <td>Minnesota</td>\n",
       "      <td>L9903</td>\n",
       "      <td>N</td>\n",
       "      <td>N</td>\n",
       "      <td>N</td>\n",
       "      <td>N</td>\n",
       "      <td>3</td>\n",
       "      <td>112.0</td>\n",
       "      <td>83.0</td>\n",
       "      <td>9</td>\n",
       "      <td>...</td>\n",
       "      <td>0.0</td>\n",
       "      <td>0.0</td>\n",
       "      <td>11.5</td>\n",
       "      <td>0.0</td>\n",
       "      <td>0.0</td>\n",
       "      <td>NaN</td>\n",
       "      <td>NaN</td>\n",
       "      <td>NaN</td>\n",
       "      <td>28.0</td>\n",
       "      <td>3.0</td>\n",
       "    </tr>\n",
       "    <tr>\n",
       "      <th>2</th>\n",
       "      <td>Minnesota</td>\n",
       "      <td>96781</td>\n",
       "      <td>N</td>\n",
       "      <td>N</td>\n",
       "      <td>N</td>\n",
       "      <td>N</td>\n",
       "      <td>3</td>\n",
       "      <td>96.0</td>\n",
       "      <td>111.0</td>\n",
       "      <td>7</td>\n",
       "      <td>...</td>\n",
       "      <td>0.0</td>\n",
       "      <td>30.0</td>\n",
       "      <td>11.8</td>\n",
       "      <td>0.0</td>\n",
       "      <td>0.0</td>\n",
       "      <td>NaN</td>\n",
       "      <td>NaN</td>\n",
       "      <td>NaN</td>\n",
       "      <td>450.0</td>\n",
       "      <td>4.0</td>\n",
       "    </tr>\n",
       "    <tr>\n",
       "      <th>3</th>\n",
       "      <td>Minnesota</td>\n",
       "      <td>34J05</td>\n",
       "      <td>N</td>\n",
       "      <td>N</td>\n",
       "      <td>N</td>\n",
       "      <td>N</td>\n",
       "      <td>3</td>\n",
       "      <td>111.0</td>\n",
       "      <td>89.0</td>\n",
       "      <td>9</td>\n",
       "      <td>...</td>\n",
       "      <td>0.0</td>\n",
       "      <td>4.0</td>\n",
       "      <td>12.1</td>\n",
       "      <td>0.0</td>\n",
       "      <td>0.0</td>\n",
       "      <td>NaN</td>\n",
       "      <td>NaN</td>\n",
       "      <td>NaN</td>\n",
       "      <td>48.0</td>\n",
       "      <td>10.0</td>\n",
       "    </tr>\n",
       "    <tr>\n",
       "      <th>4</th>\n",
       "      <td>Minnesota</td>\n",
       "      <td>17508</td>\n",
       "      <td>8</td>\n",
       "      <td>6</td>\n",
       "      <td>0</td>\n",
       "      <td>N</td>\n",
       "      <td>3</td>\n",
       "      <td>112.0</td>\n",
       "      <td>83.0</td>\n",
       "      <td>9</td>\n",
       "      <td>...</td>\n",
       "      <td>0.0</td>\n",
       "      <td>0.0</td>\n",
       "      <td>44.9</td>\n",
       "      <td>20.3</td>\n",
       "      <td>21.7</td>\n",
       "      <td>8.0</td>\n",
       "      <td>7.0</td>\n",
       "      <td>7.0</td>\n",
       "      <td>20.0</td>\n",
       "      <td>10.0</td>\n",
       "    </tr>\n",
       "  </tbody>\n",
       "</table>\n",
       "<p>5 rows × 38 columns</p>\n",
       "</div>"
      ],
      "text/plain": [
       "         state           str_id deck_type wearing_type membrane_type  \\\n",
       "0    Minnesota  L9347                   8            8             0   \n",
       "1    Minnesota  L9903                   N            N             N   \n",
       "2    Minnesota  96781                   N            N             N   \n",
       "3    Minnesota  34J05                   N            N             N   \n",
       "4    Minnesota  17508                   8            6             0   \n",
       "\n",
       "  deck_protection  toll  freeze_thaw_cycle  snowfall_days  \\\n",
       "0               N     3              114.0           83.0   \n",
       "1               N     3              112.0           83.0   \n",
       "2               N     3               96.0          111.0   \n",
       "3               N     3              111.0           89.0   \n",
       "4               N     3              112.0           83.0   \n",
       "\n",
       "   inventory_class_route  ...  yr_reconst  skew  max_span  bridge_width  \\\n",
       "0                      9  ...         0.0   0.0      32.2          24.0   \n",
       "1                      9  ...         0.0   0.0      11.5           0.0   \n",
       "2                      7  ...         0.0  30.0      11.8           0.0   \n",
       "3                      9  ...         0.0   4.0      12.1           0.0   \n",
       "4                      9  ...         0.0   0.0      44.9          20.3   \n",
       "\n",
       "   deck_width  super_st_condition  sub_st_condition  deck_condition  \\\n",
       "0        25.9                 5.0               5.0             7.0   \n",
       "1         0.0                 NaN               NaN             NaN   \n",
       "2         0.0                 NaN               NaN             NaN   \n",
       "3         0.0                 NaN               NaN             NaN   \n",
       "4        21.7                 8.0               7.0             7.0   \n",
       "\n",
       "   avg_daily_trfic avg_truck_trfc  \n",
       "0             40.0            0.0  \n",
       "1             28.0            3.0  \n",
       "2            450.0            4.0  \n",
       "3             48.0           10.0  \n",
       "4             20.0           10.0  \n",
       "\n",
       "[5 rows x 38 columns]"
      ]
     },
     "execution_count": 3,
     "metadata": {},
     "output_type": "execute_result"
    }
   ],
   "source": [
    "df2 = pd.read_csv('bridge_data_cleaned2')\n",
    "df2.head()"
   ]
  },
  {
   "cell_type": "code",
   "execution_count": 4,
   "metadata": {
    "ExecuteTime": {
     "end_time": "2021-09-01T17:46:54.559823Z",
     "start_time": "2021-09-01T17:46:52.747123Z"
    }
   },
   "outputs": [
    {
     "data": {
      "text/html": [
       "<div>\n",
       "<style scoped>\n",
       "    .dataframe tbody tr th:only-of-type {\n",
       "        vertical-align: middle;\n",
       "    }\n",
       "\n",
       "    .dataframe tbody tr th {\n",
       "        vertical-align: top;\n",
       "    }\n",
       "\n",
       "    .dataframe thead th {\n",
       "        text-align: right;\n",
       "    }\n",
       "</style>\n",
       "<table border=\"1\" class=\"dataframe\">\n",
       "  <thead>\n",
       "    <tr style=\"text-align: right;\">\n",
       "      <th></th>\n",
       "      <th>state</th>\n",
       "      <th>str_id</th>\n",
       "      <th>deck_type</th>\n",
       "      <th>wearing_type</th>\n",
       "      <th>membrane_type</th>\n",
       "      <th>deck_protection</th>\n",
       "      <th>toll</th>\n",
       "      <th>freeze_thaw_cycle</th>\n",
       "      <th>snowfall_days</th>\n",
       "      <th>inventory_class_route</th>\n",
       "      <th>...</th>\n",
       "      <th>yr_reconst</th>\n",
       "      <th>skew</th>\n",
       "      <th>max_span</th>\n",
       "      <th>bridge_width</th>\n",
       "      <th>deck_width</th>\n",
       "      <th>super_st_condition</th>\n",
       "      <th>sub_st_condition</th>\n",
       "      <th>deck_condition</th>\n",
       "      <th>avg_daily_trfic</th>\n",
       "      <th>avg_truck_trfc</th>\n",
       "    </tr>\n",
       "  </thead>\n",
       "  <tbody>\n",
       "    <tr>\n",
       "      <th>0</th>\n",
       "      <td>Pennsylvania</td>\n",
       "      <td>000000000018583</td>\n",
       "      <td>1</td>\n",
       "      <td>6</td>\n",
       "      <td>2</td>\n",
       "      <td>0</td>\n",
       "      <td>3</td>\n",
       "      <td>117.0</td>\n",
       "      <td>59.0</td>\n",
       "      <td>2</td>\n",
       "      <td>...</td>\n",
       "      <td>0.0</td>\n",
       "      <td>1.0</td>\n",
       "      <td>21.0</td>\n",
       "      <td>49.2</td>\n",
       "      <td>52.5</td>\n",
       "      <td>6.0</td>\n",
       "      <td>6.0</td>\n",
       "      <td>6.0</td>\n",
       "      <td>12394.0</td>\n",
       "      <td>10.0</td>\n",
       "    </tr>\n",
       "    <tr>\n",
       "      <th>1</th>\n",
       "      <td>Pennsylvania</td>\n",
       "      <td>000000000041175</td>\n",
       "      <td>1</td>\n",
       "      <td>1</td>\n",
       "      <td>0</td>\n",
       "      <td>1</td>\n",
       "      <td>3</td>\n",
       "      <td>117.0</td>\n",
       "      <td>70.0</td>\n",
       "      <td>1</td>\n",
       "      <td>...</td>\n",
       "      <td>0.0</td>\n",
       "      <td>35.0</td>\n",
       "      <td>240.2</td>\n",
       "      <td>52.2</td>\n",
       "      <td>55.1</td>\n",
       "      <td>8.0</td>\n",
       "      <td>7.0</td>\n",
       "      <td>7.0</td>\n",
       "      <td>12189.0</td>\n",
       "      <td>15.0</td>\n",
       "    </tr>\n",
       "    <tr>\n",
       "      <th>2</th>\n",
       "      <td>Pennsylvania</td>\n",
       "      <td>000000000041176</td>\n",
       "      <td>1</td>\n",
       "      <td>1</td>\n",
       "      <td>0</td>\n",
       "      <td>1</td>\n",
       "      <td>3</td>\n",
       "      <td>117.0</td>\n",
       "      <td>70.0</td>\n",
       "      <td>1</td>\n",
       "      <td>...</td>\n",
       "      <td>0.0</td>\n",
       "      <td>34.0</td>\n",
       "      <td>226.0</td>\n",
       "      <td>51.8</td>\n",
       "      <td>54.8</td>\n",
       "      <td>8.0</td>\n",
       "      <td>7.0</td>\n",
       "      <td>7.0</td>\n",
       "      <td>12744.0</td>\n",
       "      <td>14.0</td>\n",
       "    </tr>\n",
       "    <tr>\n",
       "      <th>3</th>\n",
       "      <td>Pennsylvania</td>\n",
       "      <td>000000000004028</td>\n",
       "      <td>1</td>\n",
       "      <td>3</td>\n",
       "      <td>0</td>\n",
       "      <td>1</td>\n",
       "      <td>3</td>\n",
       "      <td>104.0</td>\n",
       "      <td>48.0</td>\n",
       "      <td>1</td>\n",
       "      <td>...</td>\n",
       "      <td>2004.0</td>\n",
       "      <td>0.0</td>\n",
       "      <td>32.2</td>\n",
       "      <td>40.0</td>\n",
       "      <td>43.6</td>\n",
       "      <td>8.0</td>\n",
       "      <td>6.0</td>\n",
       "      <td>6.0</td>\n",
       "      <td>8169.0</td>\n",
       "      <td>34.0</td>\n",
       "    </tr>\n",
       "    <tr>\n",
       "      <th>4</th>\n",
       "      <td>Pennsylvania</td>\n",
       "      <td>000000000009312</td>\n",
       "      <td>N</td>\n",
       "      <td>N</td>\n",
       "      <td>N</td>\n",
       "      <td>N</td>\n",
       "      <td>3</td>\n",
       "      <td>117.0</td>\n",
       "      <td>70.0</td>\n",
       "      <td>1</td>\n",
       "      <td>...</td>\n",
       "      <td>0.0</td>\n",
       "      <td>56.0</td>\n",
       "      <td>37.1</td>\n",
       "      <td>0.0</td>\n",
       "      <td>0.0</td>\n",
       "      <td>NaN</td>\n",
       "      <td>NaN</td>\n",
       "      <td>NaN</td>\n",
       "      <td>11792.0</td>\n",
       "      <td>39.0</td>\n",
       "    </tr>\n",
       "  </tbody>\n",
       "</table>\n",
       "<p>5 rows × 38 columns</p>\n",
       "</div>"
      ],
      "text/plain": [
       "            state           str_id deck_type wearing_type membrane_type  \\\n",
       "0    Pennsylvania  000000000018583         1            6             2   \n",
       "1    Pennsylvania  000000000041175         1            1             0   \n",
       "2    Pennsylvania  000000000041176         1            1             0   \n",
       "3    Pennsylvania  000000000004028         1            3             0   \n",
       "4    Pennsylvania  000000000009312         N            N             N   \n",
       "\n",
       "  deck_protection  toll  freeze_thaw_cycle  snowfall_days  \\\n",
       "0               0     3              117.0           59.0   \n",
       "1               1     3              117.0           70.0   \n",
       "2               1     3              117.0           70.0   \n",
       "3               1     3              104.0           48.0   \n",
       "4               N     3              117.0           70.0   \n",
       "\n",
       "   inventory_class_route  ...  yr_reconst  skew  max_span  bridge_width  \\\n",
       "0                      2  ...         0.0   1.0      21.0          49.2   \n",
       "1                      1  ...         0.0  35.0     240.2          52.2   \n",
       "2                      1  ...         0.0  34.0     226.0          51.8   \n",
       "3                      1  ...      2004.0   0.0      32.2          40.0   \n",
       "4                      1  ...         0.0  56.0      37.1           0.0   \n",
       "\n",
       "   deck_width  super_st_condition  sub_st_condition  deck_condition  \\\n",
       "0        52.5                 6.0               6.0             6.0   \n",
       "1        55.1                 8.0               7.0             7.0   \n",
       "2        54.8                 8.0               7.0             7.0   \n",
       "3        43.6                 8.0               6.0             6.0   \n",
       "4         0.0                 NaN               NaN             NaN   \n",
       "\n",
       "   avg_daily_trfic avg_truck_trfc  \n",
       "0          12394.0           10.0  \n",
       "1          12189.0           15.0  \n",
       "2          12744.0           14.0  \n",
       "3           8169.0           34.0  \n",
       "4          11792.0           39.0  \n",
       "\n",
       "[5 rows x 38 columns]"
      ]
     },
     "execution_count": 4,
     "metadata": {},
     "output_type": "execute_result"
    }
   ],
   "source": [
    "df3 = pd.read_csv('bridge_data_cleaned3')\n",
    "df3.head()"
   ]
  },
  {
   "cell_type": "code",
   "execution_count": 5,
   "metadata": {
    "ExecuteTime": {
     "end_time": "2021-09-01T17:46:55.067214Z",
     "start_time": "2021-09-01T17:46:54.563826Z"
    }
   },
   "outputs": [
    {
     "data": {
      "text/html": [
       "<div>\n",
       "<style scoped>\n",
       "    .dataframe tbody tr th:only-of-type {\n",
       "        vertical-align: middle;\n",
       "    }\n",
       "\n",
       "    .dataframe tbody tr th {\n",
       "        vertical-align: top;\n",
       "    }\n",
       "\n",
       "    .dataframe thead th {\n",
       "        text-align: right;\n",
       "    }\n",
       "</style>\n",
       "<table border=\"1\" class=\"dataframe\">\n",
       "  <thead>\n",
       "    <tr style=\"text-align: right;\">\n",
       "      <th></th>\n",
       "      <th>state</th>\n",
       "      <th>str_id</th>\n",
       "      <th>deck_type</th>\n",
       "      <th>wearing_type</th>\n",
       "      <th>membrane_type</th>\n",
       "      <th>deck_protection</th>\n",
       "      <th>toll</th>\n",
       "      <th>freeze_thaw_cycle</th>\n",
       "      <th>snowfall_days</th>\n",
       "      <th>inventory_class_route</th>\n",
       "      <th>...</th>\n",
       "      <th>yr_reconst</th>\n",
       "      <th>skew</th>\n",
       "      <th>max_span</th>\n",
       "      <th>bridge_width</th>\n",
       "      <th>deck_width</th>\n",
       "      <th>super_st_condition</th>\n",
       "      <th>sub_st_condition</th>\n",
       "      <th>deck_condition</th>\n",
       "      <th>avg_daily_trfic</th>\n",
       "      <th>avg_truck_trfc</th>\n",
       "    </tr>\n",
       "  </thead>\n",
       "  <tbody>\n",
       "    <tr>\n",
       "      <th>0</th>\n",
       "      <td>Alabama</td>\n",
       "      <td>021480</td>\n",
       "      <td>1</td>\n",
       "      <td>0</td>\n",
       "      <td>0</td>\n",
       "      <td>0</td>\n",
       "      <td>3.0</td>\n",
       "      <td>14.0</td>\n",
       "      <td>0.0</td>\n",
       "      <td>2.0</td>\n",
       "      <td>...</td>\n",
       "      <td>0.0</td>\n",
       "      <td>23.0</td>\n",
       "      <td>274.9</td>\n",
       "      <td>38.1</td>\n",
       "      <td>41.0</td>\n",
       "      <td>7.0</td>\n",
       "      <td>7.0</td>\n",
       "      <td>7.0</td>\n",
       "      <td>4940.0</td>\n",
       "      <td>35.0</td>\n",
       "    </tr>\n",
       "    <tr>\n",
       "      <th>1</th>\n",
       "      <td>Alabama</td>\n",
       "      <td>009763</td>\n",
       "      <td>N</td>\n",
       "      <td>6</td>\n",
       "      <td>0</td>\n",
       "      <td>0</td>\n",
       "      <td>3.0</td>\n",
       "      <td>14.0</td>\n",
       "      <td>0.0</td>\n",
       "      <td>7.0</td>\n",
       "      <td>...</td>\n",
       "      <td>0.0</td>\n",
       "      <td>45.0</td>\n",
       "      <td>12.1</td>\n",
       "      <td>0.0</td>\n",
       "      <td>0.0</td>\n",
       "      <td>NaN</td>\n",
       "      <td>NaN</td>\n",
       "      <td>NaN</td>\n",
       "      <td>280.0</td>\n",
       "      <td>7.0</td>\n",
       "    </tr>\n",
       "    <tr>\n",
       "      <th>2</th>\n",
       "      <td>Alabama</td>\n",
       "      <td>003324</td>\n",
       "      <td>N</td>\n",
       "      <td>N</td>\n",
       "      <td>N</td>\n",
       "      <td>N</td>\n",
       "      <td>3.0</td>\n",
       "      <td>14.0</td>\n",
       "      <td>0.0</td>\n",
       "      <td>6.0</td>\n",
       "      <td>...</td>\n",
       "      <td>2009.0</td>\n",
       "      <td>0.0</td>\n",
       "      <td>7.9</td>\n",
       "      <td>0.0</td>\n",
       "      <td>0.0</td>\n",
       "      <td>NaN</td>\n",
       "      <td>NaN</td>\n",
       "      <td>NaN</td>\n",
       "      <td>420.0</td>\n",
       "      <td>7.0</td>\n",
       "    </tr>\n",
       "    <tr>\n",
       "      <th>3</th>\n",
       "      <td>Alabama</td>\n",
       "      <td>006369</td>\n",
       "      <td>1</td>\n",
       "      <td>0</td>\n",
       "      <td>0</td>\n",
       "      <td>0</td>\n",
       "      <td>3.0</td>\n",
       "      <td>14.0</td>\n",
       "      <td>0.0</td>\n",
       "      <td>6.0</td>\n",
       "      <td>...</td>\n",
       "      <td>0.0</td>\n",
       "      <td>0.0</td>\n",
       "      <td>60.0</td>\n",
       "      <td>23.6</td>\n",
       "      <td>27.6</td>\n",
       "      <td>7.0</td>\n",
       "      <td>7.0</td>\n",
       "      <td>6.0</td>\n",
       "      <td>420.0</td>\n",
       "      <td>7.0</td>\n",
       "    </tr>\n",
       "    <tr>\n",
       "      <th>4</th>\n",
       "      <td>Alabama</td>\n",
       "      <td>015078</td>\n",
       "      <td>2</td>\n",
       "      <td>0</td>\n",
       "      <td>0</td>\n",
       "      <td>0</td>\n",
       "      <td>3.0</td>\n",
       "      <td>14.0</td>\n",
       "      <td>0.0</td>\n",
       "      <td>8.0</td>\n",
       "      <td>...</td>\n",
       "      <td>0.0</td>\n",
       "      <td>0.0</td>\n",
       "      <td>15.1</td>\n",
       "      <td>23.6</td>\n",
       "      <td>24.9</td>\n",
       "      <td>5.0</td>\n",
       "      <td>6.0</td>\n",
       "      <td>5.0</td>\n",
       "      <td>70.0</td>\n",
       "      <td>0.0</td>\n",
       "    </tr>\n",
       "  </tbody>\n",
       "</table>\n",
       "<p>5 rows × 38 columns</p>\n",
       "</div>"
      ],
      "text/plain": [
       "       state           str_id deck_type wearing_type membrane_type  \\\n",
       "0    Alabama  021480                  1            0             0   \n",
       "1    Alabama  009763                  N            6             0   \n",
       "2    Alabama  003324                  N            N             N   \n",
       "3    Alabama  006369                  1            0             0   \n",
       "4    Alabama  015078                  2            0             0   \n",
       "\n",
       "  deck_protection  toll  freeze_thaw_cycle  snowfall_days  \\\n",
       "0               0   3.0               14.0            0.0   \n",
       "1               0   3.0               14.0            0.0   \n",
       "2               N   3.0               14.0            0.0   \n",
       "3               0   3.0               14.0            0.0   \n",
       "4               0   3.0               14.0            0.0   \n",
       "\n",
       "   inventory_class_route  ...  yr_reconst  skew  max_span  bridge_width  \\\n",
       "0                    2.0  ...         0.0  23.0     274.9          38.1   \n",
       "1                    7.0  ...         0.0  45.0      12.1           0.0   \n",
       "2                    6.0  ...      2009.0   0.0       7.9           0.0   \n",
       "3                    6.0  ...         0.0   0.0      60.0          23.6   \n",
       "4                    8.0  ...         0.0   0.0      15.1          23.6   \n",
       "\n",
       "   deck_width  super_st_condition  sub_st_condition  deck_condition  \\\n",
       "0        41.0                 7.0               7.0             7.0   \n",
       "1         0.0                 NaN               NaN             NaN   \n",
       "2         0.0                 NaN               NaN             NaN   \n",
       "3        27.6                 7.0               7.0             6.0   \n",
       "4        24.9                 5.0               6.0             5.0   \n",
       "\n",
       "   avg_daily_trfic avg_truck_trfc  \n",
       "0           4940.0           35.0  \n",
       "1            280.0            7.0  \n",
       "2            420.0            7.0  \n",
       "3            420.0            7.0  \n",
       "4             70.0            0.0  \n",
       "\n",
       "[5 rows x 38 columns]"
      ]
     },
     "execution_count": 5,
     "metadata": {},
     "output_type": "execute_result"
    }
   ],
   "source": [
    "df = pd.concat([df1, df2, df3])\n",
    "df.head()"
   ]
  },
  {
   "cell_type": "code",
   "execution_count": 6,
   "metadata": {
    "ExecuteTime": {
     "end_time": "2021-09-01T17:46:55.082739Z",
     "start_time": "2021-09-01T17:46:55.071215Z"
    }
   },
   "outputs": [
    {
     "data": {
      "text/plain": [
       "(592756, 38)"
      ]
     },
     "execution_count": 6,
     "metadata": {},
     "output_type": "execute_result"
    }
   ],
   "source": [
    "df.shape"
   ]
  },
  {
   "cell_type": "code",
   "execution_count": 7,
   "metadata": {
    "ExecuteTime": {
     "end_time": "2021-09-01T17:46:55.215016Z",
     "start_time": "2021-09-01T17:46:55.086266Z"
    }
   },
   "outputs": [
    {
     "data": {
      "text/plain": [
       "array(['  Alabama', '  Delaware', '  District of Columbia', '  Florida',\n",
       "       '  Georgia', '  Hawaii', '  Idaho', '  Illinois', '  Indiana',\n",
       "       '  Iowa', '  Alaska', '  Kansas', '  Kentucky', '  Louisiana',\n",
       "       '  Maine', '  Maryland', '  Massachusetts', '  Michigan',\n",
       "       ' Michigan', '  Minnesota', '  Mississippi', '  Missouri',\n",
       "       '  Montana', '  Nebraska', '  Nevada', '  New Hampshire',\n",
       "       '  New Jersey', '  New Mexico', '  New York', '  North Carolina',\n",
       "       '  North Dakota', '  Ohio', '  Arizona', ' Arizona', '  Oklahoma',\n",
       "       '  Oregon', '  Pennsylvania', ' Pennsylvania', '  Rhode Island',\n",
       "       '  South Carolina', '  South Dakota', '  Tennessee', '  Texas',\n",
       "       'Texas', ' Texas', '  Utah', '  Arkansas', '  Vermont',\n",
       "       '  Virginia', '  Washington', '  West Virginia', '  Wisconsin',\n",
       "       '  Wyoming', '  California', '  Colorado', '  Connecticut'],\n",
       "      dtype=object)"
      ]
     },
     "execution_count": 7,
     "metadata": {},
     "output_type": "execute_result"
    }
   ],
   "source": [
    "df.state.unique()"
   ]
  },
  {
   "cell_type": "code",
   "execution_count": 8,
   "metadata": {
    "ExecuteTime": {
     "end_time": "2021-09-01T17:46:55.640155Z",
     "start_time": "2021-09-01T17:46:55.221016Z"
    }
   },
   "outputs": [
    {
     "data": {
      "text/html": [
       "<div>\n",
       "<style scoped>\n",
       "    .dataframe tbody tr th:only-of-type {\n",
       "        vertical-align: middle;\n",
       "    }\n",
       "\n",
       "    .dataframe tbody tr th {\n",
       "        vertical-align: top;\n",
       "    }\n",
       "\n",
       "    .dataframe thead th {\n",
       "        text-align: right;\n",
       "    }\n",
       "</style>\n",
       "<table border=\"1\" class=\"dataframe\">\n",
       "  <thead>\n",
       "    <tr style=\"text-align: right;\">\n",
       "      <th></th>\n",
       "      <th>state</th>\n",
       "      <th>str_id</th>\n",
       "      <th>deck_type</th>\n",
       "      <th>wearing_type</th>\n",
       "      <th>membrane_type</th>\n",
       "      <th>deck_protection</th>\n",
       "      <th>toll</th>\n",
       "      <th>freeze_thaw_cycle</th>\n",
       "      <th>snowfall_days</th>\n",
       "      <th>inventory_class_route</th>\n",
       "      <th>...</th>\n",
       "      <th>yr_reconst</th>\n",
       "      <th>skew</th>\n",
       "      <th>max_span</th>\n",
       "      <th>bridge_width</th>\n",
       "      <th>deck_width</th>\n",
       "      <th>super_st_condition</th>\n",
       "      <th>sub_st_condition</th>\n",
       "      <th>deck_condition</th>\n",
       "      <th>avg_daily_trfic</th>\n",
       "      <th>avg_truck_trfc</th>\n",
       "    </tr>\n",
       "  </thead>\n",
       "  <tbody>\n",
       "    <tr>\n",
       "      <th>196998</th>\n",
       "      <td>Pennsylvania</td>\n",
       "      <td>000000000038677</td>\n",
       "      <td>1</td>\n",
       "      <td>2</td>\n",
       "      <td>0</td>\n",
       "      <td>0</td>\n",
       "      <td>3.0</td>\n",
       "      <td>82.0</td>\n",
       "      <td>12.0</td>\n",
       "      <td>14.0</td>\n",
       "      <td>...</td>\n",
       "      <td>1958.0</td>\n",
       "      <td>1.0</td>\n",
       "      <td>60.0</td>\n",
       "      <td>62.0</td>\n",
       "      <td>113.2</td>\n",
       "      <td>4.0</td>\n",
       "      <td>4.0</td>\n",
       "      <td>4.0</td>\n",
       "      <td>25808.0</td>\n",
       "      <td>7.0</td>\n",
       "    </tr>\n",
       "  </tbody>\n",
       "</table>\n",
       "<p>1 rows × 38 columns</p>\n",
       "</div>"
      ],
      "text/plain": [
       "                state           str_id deck_type wearing_type membrane_type  \\\n",
       "196998   Pennsylvania  000000000038677         1            2             0   \n",
       "\n",
       "       deck_protection  toll  freeze_thaw_cycle  snowfall_days  \\\n",
       "196998               0   3.0               82.0           12.0   \n",
       "\n",
       "        inventory_class_route  ...  yr_reconst  skew  max_span  bridge_width  \\\n",
       "196998                   14.0  ...      1958.0   1.0      60.0          62.0   \n",
       "\n",
       "        deck_width  super_st_condition  sub_st_condition  deck_condition  \\\n",
       "196998       113.2                 4.0               4.0             4.0   \n",
       "\n",
       "        avg_daily_trfic avg_truck_trfc  \n",
       "196998          25808.0            7.0  \n",
       "\n",
       "[1 rows x 38 columns]"
      ]
     },
     "execution_count": 8,
     "metadata": {},
     "output_type": "execute_result"
    }
   ],
   "source": [
    "df.loc[df['state']==' Pennsylvania']"
   ]
  },
  {
   "cell_type": "code",
   "execution_count": 9,
   "metadata": {
    "ExecuteTime": {
     "end_time": "2021-09-01T17:46:55.830728Z",
     "start_time": "2021-09-01T17:46:55.644153Z"
    }
   },
   "outputs": [
    {
     "data": {
      "text/html": [
       "<div>\n",
       "<style scoped>\n",
       "    .dataframe tbody tr th:only-of-type {\n",
       "        vertical-align: middle;\n",
       "    }\n",
       "\n",
       "    .dataframe tbody tr th {\n",
       "        vertical-align: top;\n",
       "    }\n",
       "\n",
       "    .dataframe thead th {\n",
       "        text-align: right;\n",
       "    }\n",
       "</style>\n",
       "<table border=\"1\" class=\"dataframe\">\n",
       "  <thead>\n",
       "    <tr style=\"text-align: right;\">\n",
       "      <th></th>\n",
       "      <th>state</th>\n",
       "      <th>str_id</th>\n",
       "      <th>deck_type</th>\n",
       "      <th>wearing_type</th>\n",
       "      <th>membrane_type</th>\n",
       "      <th>deck_protection</th>\n",
       "      <th>toll</th>\n",
       "      <th>freeze_thaw_cycle</th>\n",
       "      <th>snowfall_days</th>\n",
       "      <th>inventory_class_route</th>\n",
       "      <th>...</th>\n",
       "      <th>yr_reconst</th>\n",
       "      <th>skew</th>\n",
       "      <th>max_span</th>\n",
       "      <th>bridge_width</th>\n",
       "      <th>deck_width</th>\n",
       "      <th>super_st_condition</th>\n",
       "      <th>sub_st_condition</th>\n",
       "      <th>deck_condition</th>\n",
       "      <th>avg_daily_trfic</th>\n",
       "      <th>avg_truck_trfc</th>\n",
       "    </tr>\n",
       "  </thead>\n",
       "  <tbody>\n",
       "    <tr>\n",
       "      <th>182422</th>\n",
       "      <td>Pennsylvania</td>\n",
       "      <td>000000000027906</td>\n",
       "      <td>N</td>\n",
       "      <td>N</td>\n",
       "      <td>N</td>\n",
       "      <td>N</td>\n",
       "      <td>3.0</td>\n",
       "      <td>78.0</td>\n",
       "      <td>14.0</td>\n",
       "      <td>9.0</td>\n",
       "      <td>...</td>\n",
       "      <td>2019.0</td>\n",
       "      <td>0.0</td>\n",
       "      <td>15.1</td>\n",
       "      <td>26.6</td>\n",
       "      <td>31.5</td>\n",
       "      <td>4.0</td>\n",
       "      <td>4.0</td>\n",
       "      <td>NaN</td>\n",
       "      <td>1399.0</td>\n",
       "      <td>0.0</td>\n",
       "    </tr>\n",
       "    <tr>\n",
       "      <th>182423</th>\n",
       "      <td>Pennsylvania</td>\n",
       "      <td>000000000056631</td>\n",
       "      <td>1</td>\n",
       "      <td>1</td>\n",
       "      <td>0</td>\n",
       "      <td>1</td>\n",
       "      <td>1.0</td>\n",
       "      <td>82.0</td>\n",
       "      <td>12.0</td>\n",
       "      <td>11.0</td>\n",
       "      <td>...</td>\n",
       "      <td>0.0</td>\n",
       "      <td>0.0</td>\n",
       "      <td>126.0</td>\n",
       "      <td>75.1</td>\n",
       "      <td>78.7</td>\n",
       "      <td>9.0</td>\n",
       "      <td>8.0</td>\n",
       "      <td>8.0</td>\n",
       "      <td>50534.0</td>\n",
       "      <td>9.0</td>\n",
       "    </tr>\n",
       "    <tr>\n",
       "      <th>182424</th>\n",
       "      <td>Pennsylvania</td>\n",
       "      <td>000000000056728</td>\n",
       "      <td>1</td>\n",
       "      <td>1</td>\n",
       "      <td>0</td>\n",
       "      <td>1</td>\n",
       "      <td>3.0</td>\n",
       "      <td>82.0</td>\n",
       "      <td>12.0</td>\n",
       "      <td>11.0</td>\n",
       "      <td>...</td>\n",
       "      <td>0.0</td>\n",
       "      <td>2.0</td>\n",
       "      <td>46.9</td>\n",
       "      <td>73.2</td>\n",
       "      <td>175.9</td>\n",
       "      <td>7.0</td>\n",
       "      <td>8.0</td>\n",
       "      <td>8.0</td>\n",
       "      <td>182092.0</td>\n",
       "      <td>7.0</td>\n",
       "    </tr>\n",
       "    <tr>\n",
       "      <th>182425</th>\n",
       "      <td>Pennsylvania</td>\n",
       "      <td>000000000049032</td>\n",
       "      <td>1</td>\n",
       "      <td>1</td>\n",
       "      <td>0</td>\n",
       "      <td>1</td>\n",
       "      <td>3.0</td>\n",
       "      <td>78.0</td>\n",
       "      <td>14.0</td>\n",
       "      <td>11.0</td>\n",
       "      <td>...</td>\n",
       "      <td>0.0</td>\n",
       "      <td>0.0</td>\n",
       "      <td>46.9</td>\n",
       "      <td>19.0</td>\n",
       "      <td>23.0</td>\n",
       "      <td>8.0</td>\n",
       "      <td>8.0</td>\n",
       "      <td>8.0</td>\n",
       "      <td>4275.0</td>\n",
       "      <td>5.0</td>\n",
       "    </tr>\n",
       "    <tr>\n",
       "      <th>182426</th>\n",
       "      <td>Pennsylvania</td>\n",
       "      <td>000000000057115</td>\n",
       "      <td>N</td>\n",
       "      <td>N</td>\n",
       "      <td>N</td>\n",
       "      <td>N</td>\n",
       "      <td>3.0</td>\n",
       "      <td>78.0</td>\n",
       "      <td>14.0</td>\n",
       "      <td>17.0</td>\n",
       "      <td>...</td>\n",
       "      <td>0.0</td>\n",
       "      <td>44.0</td>\n",
       "      <td>16.1</td>\n",
       "      <td>0.0</td>\n",
       "      <td>0.0</td>\n",
       "      <td>NaN</td>\n",
       "      <td>NaN</td>\n",
       "      <td>NaN</td>\n",
       "      <td>6103.0</td>\n",
       "      <td>5.0</td>\n",
       "    </tr>\n",
       "    <tr>\n",
       "      <th>...</th>\n",
       "      <td>...</td>\n",
       "      <td>...</td>\n",
       "      <td>...</td>\n",
       "      <td>...</td>\n",
       "      <td>...</td>\n",
       "      <td>...</td>\n",
       "      <td>...</td>\n",
       "      <td>...</td>\n",
       "      <td>...</td>\n",
       "      <td>...</td>\n",
       "      <td>...</td>\n",
       "      <td>...</td>\n",
       "      <td>...</td>\n",
       "      <td>...</td>\n",
       "      <td>...</td>\n",
       "      <td>...</td>\n",
       "      <td>...</td>\n",
       "      <td>...</td>\n",
       "      <td>...</td>\n",
       "      <td>...</td>\n",
       "      <td>...</td>\n",
       "    </tr>\n",
       "    <tr>\n",
       "      <th>1973</th>\n",
       "      <td>Pennsylvania</td>\n",
       "      <td>000000000052852</td>\n",
       "      <td>N</td>\n",
       "      <td>N</td>\n",
       "      <td>N</td>\n",
       "      <td>N</td>\n",
       "      <td>1.0</td>\n",
       "      <td>91.0</td>\n",
       "      <td>94.0</td>\n",
       "      <td>9.0</td>\n",
       "      <td>...</td>\n",
       "      <td>0.0</td>\n",
       "      <td>45.0</td>\n",
       "      <td>21.0</td>\n",
       "      <td>0.0</td>\n",
       "      <td>0.0</td>\n",
       "      <td>NaN</td>\n",
       "      <td>NaN</td>\n",
       "      <td>NaN</td>\n",
       "      <td>45.0</td>\n",
       "      <td>1.0</td>\n",
       "    </tr>\n",
       "    <tr>\n",
       "      <th>1974</th>\n",
       "      <td>Pennsylvania</td>\n",
       "      <td>000000000016517</td>\n",
       "      <td>9</td>\n",
       "      <td>6</td>\n",
       "      <td>0</td>\n",
       "      <td>0</td>\n",
       "      <td>3.0</td>\n",
       "      <td>91.0</td>\n",
       "      <td>94.0</td>\n",
       "      <td>9.0</td>\n",
       "      <td>...</td>\n",
       "      <td>0.0</td>\n",
       "      <td>0.0</td>\n",
       "      <td>90.9</td>\n",
       "      <td>20.0</td>\n",
       "      <td>26.2</td>\n",
       "      <td>5.0</td>\n",
       "      <td>5.0</td>\n",
       "      <td>5.0</td>\n",
       "      <td>1632.0</td>\n",
       "      <td>3.0</td>\n",
       "    </tr>\n",
       "    <tr>\n",
       "      <th>1975</th>\n",
       "      <td>Pennsylvania</td>\n",
       "      <td>000000000025635</td>\n",
       "      <td>1</td>\n",
       "      <td>6</td>\n",
       "      <td>2</td>\n",
       "      <td>0</td>\n",
       "      <td>3.0</td>\n",
       "      <td>122.0</td>\n",
       "      <td>77.0</td>\n",
       "      <td>14.0</td>\n",
       "      <td>...</td>\n",
       "      <td>0.0</td>\n",
       "      <td>41.0</td>\n",
       "      <td>76.1</td>\n",
       "      <td>76.4</td>\n",
       "      <td>82.3</td>\n",
       "      <td>6.0</td>\n",
       "      <td>5.0</td>\n",
       "      <td>6.0</td>\n",
       "      <td>7322.0</td>\n",
       "      <td>5.0</td>\n",
       "    </tr>\n",
       "    <tr>\n",
       "      <th>1976</th>\n",
       "      <td>Pennsylvania</td>\n",
       "      <td>000000000043209</td>\n",
       "      <td>8</td>\n",
       "      <td>0</td>\n",
       "      <td>0</td>\n",
       "      <td>0</td>\n",
       "      <td>3.0</td>\n",
       "      <td>63.0</td>\n",
       "      <td>76.0</td>\n",
       "      <td>9.0</td>\n",
       "      <td>...</td>\n",
       "      <td>2006.0</td>\n",
       "      <td>0.0</td>\n",
       "      <td>23.0</td>\n",
       "      <td>11.2</td>\n",
       "      <td>12.5</td>\n",
       "      <td>5.0</td>\n",
       "      <td>3.0</td>\n",
       "      <td>7.0</td>\n",
       "      <td>15.0</td>\n",
       "      <td>16.0</td>\n",
       "    </tr>\n",
       "    <tr>\n",
       "      <th>1977</th>\n",
       "      <td>Pennsylvania</td>\n",
       "      <td>000000000016475</td>\n",
       "      <td>9</td>\n",
       "      <td>6</td>\n",
       "      <td>0</td>\n",
       "      <td>0</td>\n",
       "      <td>3.0</td>\n",
       "      <td>63.0</td>\n",
       "      <td>76.0</td>\n",
       "      <td>9.0</td>\n",
       "      <td>...</td>\n",
       "      <td>0.0</td>\n",
       "      <td>0.0</td>\n",
       "      <td>49.9</td>\n",
       "      <td>24.9</td>\n",
       "      <td>28.2</td>\n",
       "      <td>5.0</td>\n",
       "      <td>7.0</td>\n",
       "      <td>5.0</td>\n",
       "      <td>81.0</td>\n",
       "      <td>3.0</td>\n",
       "    </tr>\n",
       "  </tbody>\n",
       "</table>\n",
       "<p>19555 rows × 38 columns</p>\n",
       "</div>"
      ],
      "text/plain": [
       "                 state           str_id deck_type wearing_type membrane_type  \\\n",
       "182422    Pennsylvania  000000000027906         N            N             N   \n",
       "182423    Pennsylvania  000000000056631         1            1             0   \n",
       "182424    Pennsylvania  000000000056728         1            1             0   \n",
       "182425    Pennsylvania  000000000049032         1            1             0   \n",
       "182426    Pennsylvania  000000000057115         N            N             N   \n",
       "...                ...              ...       ...          ...           ...   \n",
       "1973      Pennsylvania  000000000052852         N            N             N   \n",
       "1974      Pennsylvania  000000000016517         9            6             0   \n",
       "1975      Pennsylvania  000000000025635         1            6             2   \n",
       "1976      Pennsylvania  000000000043209         8            0             0   \n",
       "1977      Pennsylvania  000000000016475         9            6             0   \n",
       "\n",
       "       deck_protection  toll  freeze_thaw_cycle  snowfall_days  \\\n",
       "182422               N   3.0               78.0           14.0   \n",
       "182423               1   1.0               82.0           12.0   \n",
       "182424               1   3.0               82.0           12.0   \n",
       "182425               1   3.0               78.0           14.0   \n",
       "182426               N   3.0               78.0           14.0   \n",
       "...                ...   ...                ...            ...   \n",
       "1973                 N   1.0               91.0           94.0   \n",
       "1974                 0   3.0               91.0           94.0   \n",
       "1975                 0   3.0              122.0           77.0   \n",
       "1976                 0   3.0               63.0           76.0   \n",
       "1977                 0   3.0               63.0           76.0   \n",
       "\n",
       "        inventory_class_route  ...  yr_reconst  skew  max_span  bridge_width  \\\n",
       "182422                    9.0  ...      2019.0   0.0      15.1          26.6   \n",
       "182423                   11.0  ...         0.0   0.0     126.0          75.1   \n",
       "182424                   11.0  ...         0.0   2.0      46.9          73.2   \n",
       "182425                   11.0  ...         0.0   0.0      46.9          19.0   \n",
       "182426                   17.0  ...         0.0  44.0      16.1           0.0   \n",
       "...                       ...  ...         ...   ...       ...           ...   \n",
       "1973                      9.0  ...         0.0  45.0      21.0           0.0   \n",
       "1974                      9.0  ...         0.0   0.0      90.9          20.0   \n",
       "1975                     14.0  ...         0.0  41.0      76.1          76.4   \n",
       "1976                      9.0  ...      2006.0   0.0      23.0          11.2   \n",
       "1977                      9.0  ...         0.0   0.0      49.9          24.9   \n",
       "\n",
       "        deck_width  super_st_condition  sub_st_condition  deck_condition  \\\n",
       "182422        31.5                 4.0               4.0             NaN   \n",
       "182423        78.7                 9.0               8.0             8.0   \n",
       "182424       175.9                 7.0               8.0             8.0   \n",
       "182425        23.0                 8.0               8.0             8.0   \n",
       "182426         0.0                 NaN               NaN             NaN   \n",
       "...            ...                 ...               ...             ...   \n",
       "1973           0.0                 NaN               NaN             NaN   \n",
       "1974          26.2                 5.0               5.0             5.0   \n",
       "1975          82.3                 6.0               5.0             6.0   \n",
       "1976          12.5                 5.0               3.0             7.0   \n",
       "1977          28.2                 5.0               7.0             5.0   \n",
       "\n",
       "        avg_daily_trfic avg_truck_trfc  \n",
       "182422           1399.0            0.0  \n",
       "182423          50534.0            9.0  \n",
       "182424         182092.0            7.0  \n",
       "182425           4275.0            5.0  \n",
       "182426           6103.0            5.0  \n",
       "...                 ...            ...  \n",
       "1973               45.0            1.0  \n",
       "1974             1632.0            3.0  \n",
       "1975             7322.0            5.0  \n",
       "1976               15.0           16.0  \n",
       "1977               81.0            3.0  \n",
       "\n",
       "[19555 rows x 38 columns]"
      ]
     },
     "execution_count": 9,
     "metadata": {},
     "output_type": "execute_result"
    }
   ],
   "source": [
    "df.loc[df['state']=='  Pennsylvania']"
   ]
  },
  {
   "cell_type": "code",
   "execution_count": 10,
   "metadata": {
    "ExecuteTime": {
     "end_time": "2021-09-01T17:46:55.956727Z",
     "start_time": "2021-09-01T17:46:55.834726Z"
    }
   },
   "outputs": [],
   "source": [
    "df['state'] = df['state'].replace(' Pennsylvania', 'Pennsylvania')\n",
    "df['state'] = df['state'].replace('  Pennsylvania', 'Pennsylvania')"
   ]
  },
  {
   "cell_type": "code",
   "execution_count": 11,
   "metadata": {
    "ExecuteTime": {
     "end_time": "2021-09-01T17:46:56.211728Z",
     "start_time": "2021-09-01T17:46:55.960730Z"
    }
   },
   "outputs": [
    {
     "data": {
      "text/html": [
       "<div>\n",
       "<style scoped>\n",
       "    .dataframe tbody tr th:only-of-type {\n",
       "        vertical-align: middle;\n",
       "    }\n",
       "\n",
       "    .dataframe tbody tr th {\n",
       "        vertical-align: top;\n",
       "    }\n",
       "\n",
       "    .dataframe thead th {\n",
       "        text-align: right;\n",
       "    }\n",
       "</style>\n",
       "<table border=\"1\" class=\"dataframe\">\n",
       "  <thead>\n",
       "    <tr style=\"text-align: right;\">\n",
       "      <th></th>\n",
       "      <th>state</th>\n",
       "      <th>str_id</th>\n",
       "      <th>deck_type</th>\n",
       "      <th>wearing_type</th>\n",
       "      <th>membrane_type</th>\n",
       "      <th>deck_protection</th>\n",
       "      <th>toll</th>\n",
       "      <th>freeze_thaw_cycle</th>\n",
       "      <th>snowfall_days</th>\n",
       "      <th>inventory_class_route</th>\n",
       "      <th>...</th>\n",
       "      <th>yr_reconst</th>\n",
       "      <th>skew</th>\n",
       "      <th>max_span</th>\n",
       "      <th>bridge_width</th>\n",
       "      <th>deck_width</th>\n",
       "      <th>super_st_condition</th>\n",
       "      <th>sub_st_condition</th>\n",
       "      <th>deck_condition</th>\n",
       "      <th>avg_daily_trfic</th>\n",
       "      <th>avg_truck_trfc</th>\n",
       "    </tr>\n",
       "  </thead>\n",
       "  <tbody>\n",
       "    <tr>\n",
       "      <th>182422</th>\n",
       "      <td>Pennsylvania</td>\n",
       "      <td>000000000027906</td>\n",
       "      <td>N</td>\n",
       "      <td>N</td>\n",
       "      <td>N</td>\n",
       "      <td>N</td>\n",
       "      <td>3.0</td>\n",
       "      <td>78.0</td>\n",
       "      <td>14.0</td>\n",
       "      <td>9.0</td>\n",
       "      <td>...</td>\n",
       "      <td>2019.0</td>\n",
       "      <td>0.0</td>\n",
       "      <td>15.1</td>\n",
       "      <td>26.6</td>\n",
       "      <td>31.5</td>\n",
       "      <td>4.0</td>\n",
       "      <td>4.0</td>\n",
       "      <td>NaN</td>\n",
       "      <td>1399.0</td>\n",
       "      <td>0.0</td>\n",
       "    </tr>\n",
       "    <tr>\n",
       "      <th>182423</th>\n",
       "      <td>Pennsylvania</td>\n",
       "      <td>000000000056631</td>\n",
       "      <td>1</td>\n",
       "      <td>1</td>\n",
       "      <td>0</td>\n",
       "      <td>1</td>\n",
       "      <td>1.0</td>\n",
       "      <td>82.0</td>\n",
       "      <td>12.0</td>\n",
       "      <td>11.0</td>\n",
       "      <td>...</td>\n",
       "      <td>0.0</td>\n",
       "      <td>0.0</td>\n",
       "      <td>126.0</td>\n",
       "      <td>75.1</td>\n",
       "      <td>78.7</td>\n",
       "      <td>9.0</td>\n",
       "      <td>8.0</td>\n",
       "      <td>8.0</td>\n",
       "      <td>50534.0</td>\n",
       "      <td>9.0</td>\n",
       "    </tr>\n",
       "    <tr>\n",
       "      <th>182424</th>\n",
       "      <td>Pennsylvania</td>\n",
       "      <td>000000000056728</td>\n",
       "      <td>1</td>\n",
       "      <td>1</td>\n",
       "      <td>0</td>\n",
       "      <td>1</td>\n",
       "      <td>3.0</td>\n",
       "      <td>82.0</td>\n",
       "      <td>12.0</td>\n",
       "      <td>11.0</td>\n",
       "      <td>...</td>\n",
       "      <td>0.0</td>\n",
       "      <td>2.0</td>\n",
       "      <td>46.9</td>\n",
       "      <td>73.2</td>\n",
       "      <td>175.9</td>\n",
       "      <td>7.0</td>\n",
       "      <td>8.0</td>\n",
       "      <td>8.0</td>\n",
       "      <td>182092.0</td>\n",
       "      <td>7.0</td>\n",
       "    </tr>\n",
       "    <tr>\n",
       "      <th>182425</th>\n",
       "      <td>Pennsylvania</td>\n",
       "      <td>000000000049032</td>\n",
       "      <td>1</td>\n",
       "      <td>1</td>\n",
       "      <td>0</td>\n",
       "      <td>1</td>\n",
       "      <td>3.0</td>\n",
       "      <td>78.0</td>\n",
       "      <td>14.0</td>\n",
       "      <td>11.0</td>\n",
       "      <td>...</td>\n",
       "      <td>0.0</td>\n",
       "      <td>0.0</td>\n",
       "      <td>46.9</td>\n",
       "      <td>19.0</td>\n",
       "      <td>23.0</td>\n",
       "      <td>8.0</td>\n",
       "      <td>8.0</td>\n",
       "      <td>8.0</td>\n",
       "      <td>4275.0</td>\n",
       "      <td>5.0</td>\n",
       "    </tr>\n",
       "    <tr>\n",
       "      <th>182426</th>\n",
       "      <td>Pennsylvania</td>\n",
       "      <td>000000000057115</td>\n",
       "      <td>N</td>\n",
       "      <td>N</td>\n",
       "      <td>N</td>\n",
       "      <td>N</td>\n",
       "      <td>3.0</td>\n",
       "      <td>78.0</td>\n",
       "      <td>14.0</td>\n",
       "      <td>17.0</td>\n",
       "      <td>...</td>\n",
       "      <td>0.0</td>\n",
       "      <td>44.0</td>\n",
       "      <td>16.1</td>\n",
       "      <td>0.0</td>\n",
       "      <td>0.0</td>\n",
       "      <td>NaN</td>\n",
       "      <td>NaN</td>\n",
       "      <td>NaN</td>\n",
       "      <td>6103.0</td>\n",
       "      <td>5.0</td>\n",
       "    </tr>\n",
       "    <tr>\n",
       "      <th>...</th>\n",
       "      <td>...</td>\n",
       "      <td>...</td>\n",
       "      <td>...</td>\n",
       "      <td>...</td>\n",
       "      <td>...</td>\n",
       "      <td>...</td>\n",
       "      <td>...</td>\n",
       "      <td>...</td>\n",
       "      <td>...</td>\n",
       "      <td>...</td>\n",
       "      <td>...</td>\n",
       "      <td>...</td>\n",
       "      <td>...</td>\n",
       "      <td>...</td>\n",
       "      <td>...</td>\n",
       "      <td>...</td>\n",
       "      <td>...</td>\n",
       "      <td>...</td>\n",
       "      <td>...</td>\n",
       "      <td>...</td>\n",
       "      <td>...</td>\n",
       "    </tr>\n",
       "    <tr>\n",
       "      <th>1973</th>\n",
       "      <td>Pennsylvania</td>\n",
       "      <td>000000000052852</td>\n",
       "      <td>N</td>\n",
       "      <td>N</td>\n",
       "      <td>N</td>\n",
       "      <td>N</td>\n",
       "      <td>1.0</td>\n",
       "      <td>91.0</td>\n",
       "      <td>94.0</td>\n",
       "      <td>9.0</td>\n",
       "      <td>...</td>\n",
       "      <td>0.0</td>\n",
       "      <td>45.0</td>\n",
       "      <td>21.0</td>\n",
       "      <td>0.0</td>\n",
       "      <td>0.0</td>\n",
       "      <td>NaN</td>\n",
       "      <td>NaN</td>\n",
       "      <td>NaN</td>\n",
       "      <td>45.0</td>\n",
       "      <td>1.0</td>\n",
       "    </tr>\n",
       "    <tr>\n",
       "      <th>1974</th>\n",
       "      <td>Pennsylvania</td>\n",
       "      <td>000000000016517</td>\n",
       "      <td>9</td>\n",
       "      <td>6</td>\n",
       "      <td>0</td>\n",
       "      <td>0</td>\n",
       "      <td>3.0</td>\n",
       "      <td>91.0</td>\n",
       "      <td>94.0</td>\n",
       "      <td>9.0</td>\n",
       "      <td>...</td>\n",
       "      <td>0.0</td>\n",
       "      <td>0.0</td>\n",
       "      <td>90.9</td>\n",
       "      <td>20.0</td>\n",
       "      <td>26.2</td>\n",
       "      <td>5.0</td>\n",
       "      <td>5.0</td>\n",
       "      <td>5.0</td>\n",
       "      <td>1632.0</td>\n",
       "      <td>3.0</td>\n",
       "    </tr>\n",
       "    <tr>\n",
       "      <th>1975</th>\n",
       "      <td>Pennsylvania</td>\n",
       "      <td>000000000025635</td>\n",
       "      <td>1</td>\n",
       "      <td>6</td>\n",
       "      <td>2</td>\n",
       "      <td>0</td>\n",
       "      <td>3.0</td>\n",
       "      <td>122.0</td>\n",
       "      <td>77.0</td>\n",
       "      <td>14.0</td>\n",
       "      <td>...</td>\n",
       "      <td>0.0</td>\n",
       "      <td>41.0</td>\n",
       "      <td>76.1</td>\n",
       "      <td>76.4</td>\n",
       "      <td>82.3</td>\n",
       "      <td>6.0</td>\n",
       "      <td>5.0</td>\n",
       "      <td>6.0</td>\n",
       "      <td>7322.0</td>\n",
       "      <td>5.0</td>\n",
       "    </tr>\n",
       "    <tr>\n",
       "      <th>1976</th>\n",
       "      <td>Pennsylvania</td>\n",
       "      <td>000000000043209</td>\n",
       "      <td>8</td>\n",
       "      <td>0</td>\n",
       "      <td>0</td>\n",
       "      <td>0</td>\n",
       "      <td>3.0</td>\n",
       "      <td>63.0</td>\n",
       "      <td>76.0</td>\n",
       "      <td>9.0</td>\n",
       "      <td>...</td>\n",
       "      <td>2006.0</td>\n",
       "      <td>0.0</td>\n",
       "      <td>23.0</td>\n",
       "      <td>11.2</td>\n",
       "      <td>12.5</td>\n",
       "      <td>5.0</td>\n",
       "      <td>3.0</td>\n",
       "      <td>7.0</td>\n",
       "      <td>15.0</td>\n",
       "      <td>16.0</td>\n",
       "    </tr>\n",
       "    <tr>\n",
       "      <th>1977</th>\n",
       "      <td>Pennsylvania</td>\n",
       "      <td>000000000016475</td>\n",
       "      <td>9</td>\n",
       "      <td>6</td>\n",
       "      <td>0</td>\n",
       "      <td>0</td>\n",
       "      <td>3.0</td>\n",
       "      <td>63.0</td>\n",
       "      <td>76.0</td>\n",
       "      <td>9.0</td>\n",
       "      <td>...</td>\n",
       "      <td>0.0</td>\n",
       "      <td>0.0</td>\n",
       "      <td>49.9</td>\n",
       "      <td>24.9</td>\n",
       "      <td>28.2</td>\n",
       "      <td>5.0</td>\n",
       "      <td>7.0</td>\n",
       "      <td>5.0</td>\n",
       "      <td>81.0</td>\n",
       "      <td>3.0</td>\n",
       "    </tr>\n",
       "  </tbody>\n",
       "</table>\n",
       "<p>19556 rows × 38 columns</p>\n",
       "</div>"
      ],
      "text/plain": [
       "               state           str_id deck_type wearing_type membrane_type  \\\n",
       "182422  Pennsylvania  000000000027906         N            N             N   \n",
       "182423  Pennsylvania  000000000056631         1            1             0   \n",
       "182424  Pennsylvania  000000000056728         1            1             0   \n",
       "182425  Pennsylvania  000000000049032         1            1             0   \n",
       "182426  Pennsylvania  000000000057115         N            N             N   \n",
       "...              ...              ...       ...          ...           ...   \n",
       "1973    Pennsylvania  000000000052852         N            N             N   \n",
       "1974    Pennsylvania  000000000016517         9            6             0   \n",
       "1975    Pennsylvania  000000000025635         1            6             2   \n",
       "1976    Pennsylvania  000000000043209         8            0             0   \n",
       "1977    Pennsylvania  000000000016475         9            6             0   \n",
       "\n",
       "       deck_protection  toll  freeze_thaw_cycle  snowfall_days  \\\n",
       "182422               N   3.0               78.0           14.0   \n",
       "182423               1   1.0               82.0           12.0   \n",
       "182424               1   3.0               82.0           12.0   \n",
       "182425               1   3.0               78.0           14.0   \n",
       "182426               N   3.0               78.0           14.0   \n",
       "...                ...   ...                ...            ...   \n",
       "1973                 N   1.0               91.0           94.0   \n",
       "1974                 0   3.0               91.0           94.0   \n",
       "1975                 0   3.0              122.0           77.0   \n",
       "1976                 0   3.0               63.0           76.0   \n",
       "1977                 0   3.0               63.0           76.0   \n",
       "\n",
       "        inventory_class_route  ...  yr_reconst  skew  max_span  bridge_width  \\\n",
       "182422                    9.0  ...      2019.0   0.0      15.1          26.6   \n",
       "182423                   11.0  ...         0.0   0.0     126.0          75.1   \n",
       "182424                   11.0  ...         0.0   2.0      46.9          73.2   \n",
       "182425                   11.0  ...         0.0   0.0      46.9          19.0   \n",
       "182426                   17.0  ...         0.0  44.0      16.1           0.0   \n",
       "...                       ...  ...         ...   ...       ...           ...   \n",
       "1973                      9.0  ...         0.0  45.0      21.0           0.0   \n",
       "1974                      9.0  ...         0.0   0.0      90.9          20.0   \n",
       "1975                     14.0  ...         0.0  41.0      76.1          76.4   \n",
       "1976                      9.0  ...      2006.0   0.0      23.0          11.2   \n",
       "1977                      9.0  ...         0.0   0.0      49.9          24.9   \n",
       "\n",
       "        deck_width  super_st_condition  sub_st_condition  deck_condition  \\\n",
       "182422        31.5                 4.0               4.0             NaN   \n",
       "182423        78.7                 9.0               8.0             8.0   \n",
       "182424       175.9                 7.0               8.0             8.0   \n",
       "182425        23.0                 8.0               8.0             8.0   \n",
       "182426         0.0                 NaN               NaN             NaN   \n",
       "...            ...                 ...               ...             ...   \n",
       "1973           0.0                 NaN               NaN             NaN   \n",
       "1974          26.2                 5.0               5.0             5.0   \n",
       "1975          82.3                 6.0               5.0             6.0   \n",
       "1976          12.5                 5.0               3.0             7.0   \n",
       "1977          28.2                 5.0               7.0             5.0   \n",
       "\n",
       "        avg_daily_trfic avg_truck_trfc  \n",
       "182422           1399.0            0.0  \n",
       "182423          50534.0            9.0  \n",
       "182424         182092.0            7.0  \n",
       "182425           4275.0            5.0  \n",
       "182426           6103.0            5.0  \n",
       "...                 ...            ...  \n",
       "1973               45.0            1.0  \n",
       "1974             1632.0            3.0  \n",
       "1975             7322.0            5.0  \n",
       "1976               15.0           16.0  \n",
       "1977               81.0            3.0  \n",
       "\n",
       "[19556 rows x 38 columns]"
      ]
     },
     "execution_count": 11,
     "metadata": {},
     "output_type": "execute_result"
    }
   ],
   "source": [
    "df.loc[df['state']=='Pennsylvania']"
   ]
  },
  {
   "cell_type": "code",
   "execution_count": 12,
   "metadata": {
    "ExecuteTime": {
     "end_time": "2021-09-01T17:46:56.227727Z",
     "start_time": "2021-09-01T17:46:56.215727Z"
    }
   },
   "outputs": [
    {
     "data": {
      "text/plain": [
       "(592756, 38)"
      ]
     },
     "execution_count": 12,
     "metadata": {},
     "output_type": "execute_result"
    }
   ],
   "source": [
    "df.shape"
   ]
  },
  {
   "cell_type": "code",
   "execution_count": 35,
   "metadata": {
    "ExecuteTime": {
     "end_time": "2021-09-01T18:43:31.517152Z",
     "start_time": "2021-09-01T18:43:30.980674Z"
    }
   },
   "outputs": [
    {
     "data": {
      "image/png": "[encoded data removed]",
      "text/plain": [
       "<Figure size 576x432 with 1 Axes>"
      ]
     },
     "metadata": {},
     "output_type": "display_data"
    }
   ],
   "source": [
    "#plot number of bridges according to condition\n",
    "percent = df['bridge_condition'].value_counts(normalize=True)*100\n",
    "condition = ['Good', 'Fair', 'Poor']\n",
    "sns.set_theme(style=\"whitegrid\")\n",
    "plt.figure(figsize=(8,6))\n",
    "# sns.histplot(percent);\n",
    "sns.barplot(x=condition, y=percent[condition].values)\n",
    "plt.title('Classification of Bridges', fontsize=20)\n",
    "plt.ylabel('Bridges count(%)',fontsize=15)\n",
    "plt.xlabel('Bridge Condition',fontsize=15)\n",
    "\n",
    "# plt.gca().yaxis.set_major_formatter(PercentFormatter(590000))\n",
    "plt.show()\n"
   ]
  },
  {
   "cell_type": "code",
   "execution_count": 31,
   "metadata": {
    "ExecuteTime": {
     "end_time": "2021-09-01T18:38:00.310700Z",
     "start_time": "2021-09-01T18:38:00.294704Z"
    }
   },
   "outputs": [
    {
     "data": {
      "text/plain": [
       "45.14943754259763"
      ]
     },
     "execution_count": 31,
     "metadata": {},
     "output_type": "execute_result"
    }
   ],
   "source": [
    "percent['Good']"
   ]
  },
  {
   "cell_type": "code",
   "execution_count": null,
   "metadata": {
    "ExecuteTime": {
     "end_time": "2021-09-01T17:46:59.671356Z",
     "start_time": "2021-09-01T17:46:45.227Z"
    }
   },
   "outputs": [],
   "source": [
    "cond = df['bridge_condition'].tolist()"
   ]
  },
  {
   "cell_type": "code",
   "execution_count": null,
   "metadata": {
    "ExecuteTime": {
     "end_time": "2021-09-01T17:46:59.676356Z",
     "start_time": "2021-09-01T17:46:45.231Z"
    }
   },
   "outputs": [],
   "source": [
    "from matplotlib.ticker import PercentFormatter\n",
    "sns.set_style('white')\n",
    "\n",
    "\n",
    "plt.hist(cond, weights=np.ones(len(cond)) / len(cond), width=0.40)\n",
    "\n",
    "plt.gca().yaxis.set_major_formatter(PercentFormatter(1))\n",
    "plt.show()"
   ]
  },
  {
   "cell_type": "code",
   "execution_count": null,
   "metadata": {
    "ExecuteTime": {
     "end_time": "2021-09-01T17:46:59.679358Z",
     "start_time": "2021-09-01T17:46:45.237Z"
    }
   },
   "outputs": [],
   "source": [
    "df.columns"
   ]
  },
  {
   "cell_type": "code",
   "execution_count": null,
   "metadata": {
    "ExecuteTime": {
     "end_time": "2021-09-01T17:46:59.681360Z",
     "start_time": "2021-09-01T17:46:45.242Z"
    }
   },
   "outputs": [],
   "source": [
    "import seaborn as sns\n",
    "\n",
    "sns.set_theme(style=\"darkgrid\")\n",
    "# df = sns.load_dataset(\"penguins\")\n",
    "sns.histplot(df['bridge_age'])"
   ]
  },
  {
   "cell_type": "markdown",
   "metadata": {},
   "source": [
    "## Bridge Condition vs Average daily traffic"
   ]
  },
  {
   "cell_type": "code",
   "execution_count": 36,
   "metadata": {
    "ExecuteTime": {
     "end_time": "2021-09-01T18:55:46.075430Z",
     "start_time": "2021-09-01T18:55:19.507403Z"
    }
   },
   "outputs": [
    {
     "data": {
      "image/png": "[encoded data removed]",
      "text/plain": [
       "<Figure size 432x432 with 1 Axes>"
      ]
     },
     "metadata": {},
     "output_type": "display_data"
    }
   ],
   "source": [
    "sns.set_theme(style=\"whitegrid\")\n",
    "# Draw a nested barplot by bridge_condition and avg_daily_trfic\n",
    "g = sns.catplot(\n",
    "    data=df, kind=\"bar\",\n",
    "    x=\"bridge_condition\", y=\"avg_daily_trfic\",\n",
    "     height=6\n",
    ")\n",
    "g.despine(left=True)\n",
    "g.set_axis_labels(\"\", \"Average Daily Traffic\")\n",
    "plt.title(\"Condition of Bridge vs Average Daily Traffic\", fontsize=20);"
   ]
  },
  {
   "cell_type": "markdown",
   "metadata": {},
   "source": [
    "## Average Daily Truck Traffic"
   ]
  },
  {
   "cell_type": "code",
   "execution_count": null,
   "metadata": {
    "ExecuteTime": {
     "end_time": "2021-09-01T17:46:59.686358Z",
     "start_time": "2021-09-01T17:46:45.256Z"
    }
   },
   "outputs": [],
   "source": [
    "# Draw a nested barplot by bridge_condition and avg_truck_traffic\n",
    "g = sns.catplot(\n",
    "    data=df, kind=\"bar\",\n",
    "    x=\"bridge_condition\", y='avg_truck_trfc',\n",
    "     height=6\n",
    ")\n",
    "g.despine(left=True)\n",
    "g.set_axis_labels(\"\", \"Average Daily Truck Traffic\")\n",
    "plt.title(\"Average Daily Truck Traffic per Condition\", fontsize=20);"
   ]
  },
  {
   "cell_type": "markdown",
   "metadata": {
    "ExecuteTime": {
     "end_time": "2021-08-30T20:48:36.976683Z",
     "start_time": "2021-08-30T20:48:36.962634Z"
    }
   },
   "source": [
    "## Bridge Condition vs Age"
   ]
  },
  {
   "cell_type": "code",
   "execution_count": null,
   "metadata": {
    "ExecuteTime": {
     "end_time": "2021-09-01T17:46:59.688357Z",
     "start_time": "2021-09-01T17:46:45.261Z"
    }
   },
   "outputs": [],
   "source": [
    "# Draw a nested barplot by bridge_condition and bridge_age\n",
    "g = sns.catplot(\n",
    "    data=df, kind=\"bar\",\n",
    "    x=\"bridge_condition\", y='bridge_age',\n",
    "     height=6\n",
    ")\n",
    "g.despine(left=True)\n",
    "g.set_axis_labels('','Bridge Age')\n",
    "plt.title(\"Condition of Bridge vs Age\", fontsize=20);"
   ]
  },
  {
   "cell_type": "code",
   "execution_count": null,
   "metadata": {},
   "outputs": [],
   "source": []
  },
  {
   "cell_type": "markdown",
   "metadata": {},
   "source": [
    "## States and their Bridge Condition"
   ]
  },
  {
   "cell_type": "markdown",
   "metadata": {},
   "source": [
    "### By Percentage "
   ]
  },
  {
   "cell_type": "code",
   "execution_count": null,
   "metadata": {
    "ExecuteTime": {
     "end_time": "2021-09-01T17:46:59.689355Z",
     "start_time": "2021-09-01T17:46:45.271Z"
    }
   },
   "outputs": [],
   "source": [
    "dff = df[['state', 'bridge_condition']]\n",
    "dff.head()"
   ]
  },
  {
   "cell_type": "code",
   "execution_count": null,
   "metadata": {
    "ExecuteTime": {
     "end_time": "2021-09-01T17:46:59.691357Z",
     "start_time": "2021-09-01T17:46:45.278Z"
    }
   },
   "outputs": [],
   "source": [
    "dfx = dff.groupby('state')['bridge_condition'].value_counts(normalize=True).reset_index(name='perc_count')\n",
    "dfx.head()"
   ]
  },
  {
   "cell_type": "code",
   "execution_count": null,
   "metadata": {
    "ExecuteTime": {
     "end_time": "2021-09-01T17:46:59.693357Z",
     "start_time": "2021-09-01T17:46:45.285Z"
    }
   },
   "outputs": [],
   "source": [
    "poor_df = dfx.loc[dfx['bridge_condition']=='Poor'].sort_values(by='perc_count', ascending=False)[:10]\n",
    "poor_df"
   ]
  },
  {
   "cell_type": "code",
   "execution_count": null,
   "metadata": {
    "ExecuteTime": {
     "end_time": "2021-09-01T17:46:59.694355Z",
     "start_time": "2021-09-01T17:46:45.291Z"
    }
   },
   "outputs": [],
   "source": [
    "plt.figure(figsize=(12,8))\n",
    "sns.barplot(y=poor_df['state'], x=poor_df['perc_count'], color='r')\n",
    "plt.xlabel('Percentage')\n",
    "plt.ylabel('States')\n",
    "plt.title('Top 10 States with Poor Bridge Condition(%)', fontsize=20);"
   ]
  },
  {
   "cell_type": "code",
   "execution_count": null,
   "metadata": {
    "ExecuteTime": {
     "end_time": "2021-09-01T17:46:59.696355Z",
     "start_time": "2021-09-01T17:46:45.297Z"
    }
   },
   "outputs": [],
   "source": [
    "fair_df = dfx.loc[dfx['bridge_condition']=='Fair'].sort_values(by='perc_count', ascending=False)[:10]\n",
    "fair_df"
   ]
  },
  {
   "cell_type": "code",
   "execution_count": null,
   "metadata": {
    "ExecuteTime": {
     "end_time": "2021-09-01T17:46:59.698356Z",
     "start_time": "2021-09-01T17:46:45.305Z"
    }
   },
   "outputs": [],
   "source": [
    "plt.figure(figsize=(12,8))\n",
    "sns.barplot(y=fair_df['state'], x=fair_df['perc_count'], color='b')\n",
    "plt.xlabel('Percentage')\n",
    "plt.ylabel('States')\n",
    "plt.title('Top 20 States with Fair Bridge Condition(%)', fontsize=20);"
   ]
  },
  {
   "cell_type": "code",
   "execution_count": null,
   "metadata": {
    "ExecuteTime": {
     "end_time": "2021-09-01T17:46:59.700357Z",
     "start_time": "2021-09-01T17:46:45.312Z"
    }
   },
   "outputs": [],
   "source": [
    "# Initialize the matplotlib figure\n",
    "f, ax = plt.subplots(figsize=(6, 8))\n",
    "\n",
    "\n",
    "# Plot the fair bridge_condition\n",
    "sns.set_color_codes(\"pastel\")\n",
    "sns.barplot(x=\"perc_count\", y=\"state\", data=fair_df,\n",
    "            label=\"Fair\", color=\"b\")\n",
    "\n",
    "# Plot the poor bridge_condition\n",
    "sns.set_color_codes(\"muted\")\n",
    "sns.barplot(x=\"perc_count\", y=\"state\", data=poor_df,\n",
    "            label=\"Poor\", color=\"r\")\n",
    "\n",
    "# Add a legend and informative axis label\n",
    "ax.legend(ncol=2, loc=\"lower right\", frameon=True)\n",
    "ax.set(xlim=(0, 1), ylabel=\"States\", xlabel=\"Percentage of Bridge count\")\n",
    "plt.title('Top 10 States with Fair & Poor Conditions(%)', fontsize=20)\n",
    "sns.despine(left=True, bottom=True)"
   ]
  },
  {
   "cell_type": "code",
   "execution_count": null,
   "metadata": {},
   "outputs": [],
   "source": []
  },
  {
   "cell_type": "markdown",
   "metadata": {},
   "source": [
    "### By Number of bridges"
   ]
  },
  {
   "cell_type": "code",
   "execution_count": null,
   "metadata": {
    "ExecuteTime": {
     "end_time": "2021-09-01T17:46:59.701354Z",
     "start_time": "2021-09-01T17:46:45.323Z"
    }
   },
   "outputs": [],
   "source": [
    "df_count = dff.groupby('state')['bridge_condition'].value_counts().sort_values(ascending=False).reset_index(name='condition_count')\n",
    "df_count.head()"
   ]
  },
  {
   "cell_type": "code",
   "execution_count": null,
   "metadata": {
    "ExecuteTime": {
     "end_time": "2021-09-01T17:46:59.703356Z",
     "start_time": "2021-09-01T17:46:45.329Z"
    }
   },
   "outputs": [],
   "source": [
    "poor_count = df_count.loc[df_count['bridge_condition']=='Poor'].sort_values(by='condition_count', ascending=False)[:10]\n",
    "poor_count.head()"
   ]
  },
  {
   "cell_type": "code",
   "execution_count": null,
   "metadata": {
    "ExecuteTime": {
     "end_time": "2021-09-01T17:46:59.705356Z",
     "start_time": "2021-09-01T17:46:45.335Z"
    }
   },
   "outputs": [],
   "source": [
    "plt.figure(figsize=(12,8))\n",
    "sns.barplot(y=poor_count['state'], x=poor_count['condition_count'], color='r')\n",
    "plt.xlabel('Number of bridges')\n",
    "plt.ylabel('States')\n",
    "plt.title('Top 20 States with Poor Bridge Condition', fontsize=20);"
   ]
  },
  {
   "cell_type": "code",
   "execution_count": null,
   "metadata": {
    "ExecuteTime": {
     "end_time": "2021-09-01T17:46:59.707355Z",
     "start_time": "2021-09-01T17:46:45.354Z"
    }
   },
   "outputs": [],
   "source": [
    "fair_count = df_count.loc[df_count['bridge_condition']=='Fair'].sort_values(by='condition_count', ascending=False)[:10]\n",
    "fair_count.head()"
   ]
  },
  {
   "cell_type": "code",
   "execution_count": null,
   "metadata": {
    "ExecuteTime": {
     "end_time": "2021-09-01T17:46:59.709358Z",
     "start_time": "2021-09-01T17:46:45.360Z"
    }
   },
   "outputs": [],
   "source": [
    "plt.figure(figsize=(12,8))\n",
    "sns.barplot(y=fair_count['state'], x=fair_count['condition_count'], color='r')\n",
    "plt.xlabel('Number of bridges')\n",
    "plt.ylabel('States')\n",
    "plt.title('Top 20 States with Fair Bridge Condition', fontsize=20);"
   ]
  },
  {
   "cell_type": "code",
   "execution_count": null,
   "metadata": {
    "ExecuteTime": {
     "end_time": "2021-09-01T17:46:59.711467Z",
     "start_time": "2021-09-01T17:46:45.367Z"
    }
   },
   "outputs": [],
   "source": [
    "# Initialize the matplotlib figure\n",
    "f, ax = plt.subplots(figsize=(6, 12))\n",
    "\n",
    "\n",
    "# Plot the fair bridge_condition\n",
    "sns.set_color_codes(\"pastel\")\n",
    "sns.barplot(x=\"condition_count\", y=\"state\", data=fair_count,\n",
    "            label=\"Fair\", color=\"b\")\n",
    "\n",
    "# Plot the poor bridge_condition\n",
    "sns.set_color_codes(\"muted\")\n",
    "sns.barplot(x=\"condition_count\", y=\"state\", data=poor_count,\n",
    "            label=\"Poor\", color=\"r\")\n",
    "\n",
    "# Add a legend and informative axis label\n",
    "ax.legend(ncol=2, loc=\"lower right\", frameon=True)\n",
    "ax.set(xlim=(0, 30000), ylabel=\"States\", xlabel=\"Number of Bridges\")\n",
    "plt.title('Top 20 States with Fair & Poor Conditions', fontsize=20)\n",
    "sns.despine(left=True, bottom=True)"
   ]
  },
  {
   "cell_type": "code",
   "execution_count": null,
   "metadata": {},
   "outputs": [],
   "source": []
  },
  {
   "cell_type": "markdown",
   "metadata": {},
   "source": [
    "# Folium Heatmap"
   ]
  },
  {
   "cell_type": "code",
   "execution_count": null,
   "metadata": {},
   "outputs": [],
   "source": []
  },
  {
   "cell_type": "code",
   "execution_count": null,
   "metadata": {
    "ExecuteTime": {
     "end_time": "2021-09-01T17:46:59.728356Z",
     "start_time": "2021-09-01T17:46:45.383Z"
    }
   },
   "outputs": [],
   "source": [
    "import folium\n",
    "from folium.plugins import HeatMap"
   ]
  },
  {
   "cell_type": "code",
   "execution_count": null,
   "metadata": {
    "ExecuteTime": {
     "end_time": "2021-09-01T17:46:59.730355Z",
     "start_time": "2021-09-01T17:46:45.396Z"
    }
   },
   "outputs": [],
   "source": [
    "# Replace target values - there are three classes\n",
    "df2 = df.replace({'bridge_condition': {'Poor' : 2, \n",
    "                                'Fair' : 1, \n",
    "                                'Good' : 0}})\n",
    "# Check to see that it worked\n",
    "df2.iloc[15:20]"
   ]
  },
  {
   "cell_type": "code",
   "execution_count": null,
   "metadata": {
    "ExecuteTime": {
     "end_time": "2021-09-01T17:46:59.732356Z",
     "start_time": "2021-09-01T17:46:45.402Z"
    }
   },
   "outputs": [],
   "source": [
    "df2.shape"
   ]
  },
  {
   "cell_type": "code",
   "execution_count": null,
   "metadata": {
    "ExecuteTime": {
     "end_time": "2021-09-01T17:46:59.734377Z",
     "start_time": "2021-09-01T17:46:45.409Z"
    }
   },
   "outputs": [],
   "source": [
    "# Make an empty map\n",
    "m = folium.Map(location=[40,-100], tiles=\"OpenStreetMap\", zoom_start=4)\n",
    "\n",
    "# Show the map\n",
    "# m"
   ]
  },
  {
   "cell_type": "markdown",
   "metadata": {},
   "source": [
    "## By state"
   ]
  },
  {
   "cell_type": "code",
   "execution_count": null,
   "metadata": {
    "ExecuteTime": {
     "end_time": "2021-09-01T17:46:59.736481Z",
     "start_time": "2021-09-01T17:46:45.416Z"
    }
   },
   "outputs": [],
   "source": [
    "data = df2.groupby('state').median()[['latitude', 'longitude', 'bridge_condition']].values.tolist()\n",
    "data"
   ]
  },
  {
   "cell_type": "code",
   "execution_count": null,
   "metadata": {
    "ExecuteTime": {
     "end_time": "2021-09-01T17:46:59.738480Z",
     "start_time": "2021-09-01T17:46:45.434Z"
    },
    "scrolled": false
   },
   "outputs": [],
   "source": [
    "HeatMap(data = data).add_to(m)\n",
    "display(m)"
   ]
  },
  {
   "cell_type": "code",
   "execution_count": null,
   "metadata": {
    "ExecuteTime": {
     "end_time": "2021-09-01T17:46:59.740481Z",
     "start_time": "2021-09-01T17:46:45.441Z"
    }
   },
   "outputs": [],
   "source": [
    "states_df = df2.groupby('state').median()\n",
    "states_df.head()"
   ]
  },
  {
   "cell_type": "code",
   "execution_count": null,
   "metadata": {
    "ExecuteTime": {
     "end_time": "2021-09-01T17:46:59.742489Z",
     "start_time": "2021-09-01T17:46:45.447Z"
    }
   },
   "outputs": [],
   "source": [
    "states_df = states_df.reset_index()"
   ]
  },
  {
   "cell_type": "code",
   "execution_count": null,
   "metadata": {
    "ExecuteTime": {
     "end_time": "2021-09-01T17:46:59.744485Z",
     "start_time": "2021-09-01T17:46:45.459Z"
    }
   },
   "outputs": [],
   "source": [
    "for i in range(0,len(states_df)):\n",
    "    folium.Marker(location=[states_df.iloc[i]['latitude'], states_df.iloc[i]['longitude']],\n",
    "     popup=folium.Popup(states_df.iloc[i]['state'], show=True),\n",
    "   ).add_to(m)\n",
    "    \n",
    "m"
   ]
  },
  {
   "cell_type": "markdown",
   "metadata": {},
   "source": [
    "## By Sub-structure condition"
   ]
  },
  {
   "cell_type": "code",
   "execution_count": null,
   "metadata": {
    "ExecuteTime": {
     "end_time": "2021-09-01T17:46:59.746481Z",
     "start_time": "2021-09-01T17:46:45.485Z"
    }
   },
   "outputs": [],
   "source": [
    "# Make an empty map\n",
    "m = folium.Map(location=[40,-100], tiles=\"OpenStreetMap\", zoom_start=4)\n",
    "\n",
    "#show the map\n",
    "m"
   ]
  },
  {
   "cell_type": "code",
   "execution_count": null,
   "metadata": {
    "ExecuteTime": {
     "end_time": "2021-09-01T17:46:59.748482Z",
     "start_time": "2021-09-01T17:46:45.491Z"
    }
   },
   "outputs": [],
   "source": [
    "data1 = df2.groupby('sub_st_condition').median()[['latitude', 'longitude',\n",
    "                                                  'bridge_condition']].values.tolist()"
   ]
  },
  {
   "cell_type": "code",
   "execution_count": null,
   "metadata": {
    "ExecuteTime": {
     "end_time": "2021-09-01T17:46:59.750481Z",
     "start_time": "2021-09-01T17:46:45.500Z"
    }
   },
   "outputs": [],
   "source": [
    "HeatMap(data = data1).add_to(m)\n",
    "display(m)"
   ]
  },
  {
   "cell_type": "markdown",
   "metadata": {},
   "source": [
    "## By snowfall days"
   ]
  },
  {
   "cell_type": "code",
   "execution_count": null,
   "metadata": {
    "ExecuteTime": {
     "end_time": "2021-09-01T17:46:59.753483Z",
     "start_time": "2021-09-01T17:46:45.521Z"
    }
   },
   "outputs": [],
   "source": [
    "# Make an empty map\n",
    "m = folium.Map(location=[40,-100], tiles=\"OpenStreetMap\", zoom_start=4)\n",
    "\n",
    "#show the map\n",
    "m"
   ]
  },
  {
   "cell_type": "code",
   "execution_count": null,
   "metadata": {
    "ExecuteTime": {
     "end_time": "2021-09-01T17:46:59.755480Z",
     "start_time": "2021-09-01T17:46:45.527Z"
    }
   },
   "outputs": [],
   "source": [
    "data2 = df2.groupby('snowfall_days').median()[['latitude', 'longitude', 'bridge_condition']].values.tolist()\n",
    "data2"
   ]
  },
  {
   "cell_type": "code",
   "execution_count": null,
   "metadata": {
    "ExecuteTime": {
     "end_time": "2021-09-01T17:46:59.758485Z",
     "start_time": "2021-09-01T17:46:45.538Z"
    }
   },
   "outputs": [],
   "source": [
    "HeatMap(data = data2).add_to(m)\n",
    "display(m)"
   ]
  },
  {
   "cell_type": "markdown",
   "metadata": {},
   "source": [
    "## By age of bridge"
   ]
  },
  {
   "cell_type": "code",
   "execution_count": null,
   "metadata": {
    "ExecuteTime": {
     "end_time": "2021-09-01T17:46:59.760482Z",
     "start_time": "2021-09-01T17:46:45.548Z"
    }
   },
   "outputs": [],
   "source": [
    "# Make an empty map\n",
    "m = folium.Map(location=[40,-100], tiles=\"OpenStreetMap\", zoom_start=4)\n",
    "\n",
    "#show the map\n",
    "m"
   ]
  },
  {
   "cell_type": "code",
   "execution_count": null,
   "metadata": {
    "ExecuteTime": {
     "end_time": "2021-09-01T17:46:59.762481Z",
     "start_time": "2021-09-01T17:46:45.559Z"
    }
   },
   "outputs": [],
   "source": [
    "data3 = df2.groupby('bridge_age').median()[['latitude', 'longitude', 'bridge_condition']].values.tolist()"
   ]
  },
  {
   "cell_type": "code",
   "execution_count": null,
   "metadata": {
    "ExecuteTime": {
     "end_time": "2021-09-01T17:46:59.774484Z",
     "start_time": "2021-09-01T17:46:45.568Z"
    }
   },
   "outputs": [],
   "source": [
    "HeatMap(data = data3).add_to(m)\n",
    "display(m)"
   ]
  },
  {
   "cell_type": "markdown",
   "metadata": {},
   "source": [
    "## By Freeze and thaw cycle"
   ]
  },
  {
   "cell_type": "code",
   "execution_count": null,
   "metadata": {
    "ExecuteTime": {
     "end_time": "2021-09-01T17:46:59.776482Z",
     "start_time": "2021-09-01T17:46:45.584Z"
    }
   },
   "outputs": [],
   "source": [
    "# Make an empty map\n",
    "m = folium.Map(location=[40,-100], tiles=\"OpenStreetMap\", zoom_start=4)\n",
    "\n",
    "#show the map\n",
    "m"
   ]
  },
  {
   "cell_type": "code",
   "execution_count": null,
   "metadata": {
    "ExecuteTime": {
     "end_time": "2021-09-01T17:46:59.778481Z",
     "start_time": "2021-09-01T17:46:45.590Z"
    }
   },
   "outputs": [],
   "source": [
    "data4 = df2.groupby('freeze_thaw_cycle').median()[['latitude', 'longitude',\n",
    "                                                   'bridge_condition']].values.tolist()"
   ]
  },
  {
   "cell_type": "code",
   "execution_count": null,
   "metadata": {
    "ExecuteTime": {
     "end_time": "2021-09-01T17:46:59.780483Z",
     "start_time": "2021-09-01T17:46:45.606Z"
    }
   },
   "outputs": [],
   "source": [
    "HeatMap(data = data4).add_to(m)\n",
    "display(m)"
   ]
  },
  {
   "cell_type": "markdown",
   "metadata": {},
   "source": [
    "## By Super structure condition"
   ]
  },
  {
   "cell_type": "code",
   "execution_count": null,
   "metadata": {
    "ExecuteTime": {
     "end_time": "2021-09-01T17:46:59.783484Z",
     "start_time": "2021-09-01T17:46:45.616Z"
    }
   },
   "outputs": [],
   "source": [
    "# Make an empty map\n",
    "m = folium.Map(location=[40,-100], tiles=\"OpenStreetMap\", zoom_start=4)\n",
    "\n",
    "#show the map\n",
    "m"
   ]
  },
  {
   "cell_type": "code",
   "execution_count": null,
   "metadata": {
    "ExecuteTime": {
     "end_time": "2021-09-01T17:46:59.785485Z",
     "start_time": "2021-09-01T17:46:45.623Z"
    }
   },
   "outputs": [],
   "source": [
    "data5 = df2.groupby('super_st_condition').median()[['latitude', 'longitude', 'bridge_condition']].values.tolist()\n",
    "data5"
   ]
  },
  {
   "cell_type": "code",
   "execution_count": null,
   "metadata": {
    "ExecuteTime": {
     "end_time": "2021-09-01T17:46:59.787482Z",
     "start_time": "2021-09-01T17:46:45.631Z"
    }
   },
   "outputs": [],
   "source": [
    "HeatMap(data = data5).add_to(m)\n",
    "display(m)"
   ]
  },
  {
   "cell_type": "markdown",
   "metadata": {},
   "source": [
    "## By County"
   ]
  },
  {
   "cell_type": "code",
   "execution_count": null,
   "metadata": {
    "ExecuteTime": {
     "end_time": "2021-09-01T17:46:59.789483Z",
     "start_time": "2021-09-01T17:46:45.643Z"
    }
   },
   "outputs": [],
   "source": [
    "# Make an empty map\n",
    "m = folium.Map(location=[40,-100], tiles=\"OpenStreetMap\", zoom_start=4)\n",
    "\n",
    "#show the map\n",
    "m"
   ]
  },
  {
   "cell_type": "code",
   "execution_count": null,
   "metadata": {
    "ExecuteTime": {
     "end_time": "2021-09-01T17:46:59.791485Z",
     "start_time": "2021-09-01T17:46:45.650Z"
    }
   },
   "outputs": [],
   "source": [
    "data6 = df2.groupby('county').median()[['latitude', 'longitude', 'bridge_condition']].values.tolist()\n",
    "data6"
   ]
  },
  {
   "cell_type": "code",
   "execution_count": null,
   "metadata": {
    "ExecuteTime": {
     "end_time": "2021-09-01T17:46:59.793483Z",
     "start_time": "2021-09-01T17:46:45.658Z"
    }
   },
   "outputs": [],
   "source": [
    "HeatMap(data = data6).add_to(m)\n",
    "display(m)"
   ]
  },
  {
   "cell_type": "markdown",
   "metadata": {},
   "source": [
    "## By New York Counties"
   ]
  },
  {
   "cell_type": "code",
   "execution_count": null,
   "metadata": {
    "ExecuteTime": {
     "end_time": "2021-09-01T17:46:59.795482Z",
     "start_time": "2021-09-01T17:46:45.665Z"
    }
   },
   "outputs": [],
   "source": [
    "df.state.unique()"
   ]
  },
  {
   "cell_type": "code",
   "execution_count": null,
   "metadata": {
    "ExecuteTime": {
     "end_time": "2021-09-01T17:46:59.797481Z",
     "start_time": "2021-09-01T17:46:45.675Z"
    }
   },
   "outputs": [],
   "source": [
    "ny_df = df.loc[df['state']=='  New York']\n",
    "ny_df"
   ]
  },
  {
   "cell_type": "code",
   "execution_count": null,
   "metadata": {
    "ExecuteTime": {
     "end_time": "2021-09-01T17:46:59.798482Z",
     "start_time": "2021-09-01T17:46:45.682Z"
    }
   },
   "outputs": [],
   "source": [
    "ny_dfx = df[['state','county', 'latitude','longitude', 'bridge_condition']]\n",
    "ny_dfx[ny_dfx['state']=='  New York']"
   ]
  },
  {
   "cell_type": "code",
   "execution_count": null,
   "metadata": {
    "ExecuteTime": {
     "end_time": "2021-09-01T17:46:59.800483Z",
     "start_time": "2021-09-01T17:46:45.689Z"
    }
   },
   "outputs": [],
   "source": [
    "ny_county = ny_df.groupby('county').median()\n",
    "ny_county = ny_county.reset_index()"
   ]
  },
  {
   "cell_type": "code",
   "execution_count": null,
   "metadata": {
    "ExecuteTime": {
     "end_time": "2021-09-01T17:46:59.802482Z",
     "start_time": "2021-09-01T17:46:45.700Z"
    }
   },
   "outputs": [],
   "source": [
    "# Make an empty map\n",
    "m = folium.Map(location=[41,-75], tiles=\"OpenStreetMap\", zoom_start=6)\n",
    "\n",
    "# Show the map\n",
    "m"
   ]
  },
  {
   "cell_type": "code",
   "execution_count": null,
   "metadata": {
    "ExecuteTime": {
     "end_time": "2021-09-01T17:46:59.803480Z",
     "start_time": "2021-09-01T17:46:45.760Z"
    },
    "scrolled": false
   },
   "outputs": [],
   "source": [
    "for i in range(0,len(ny_county)):\n",
    "    folium.Marker(location=[ny_county.iloc[i]['latitude'], ny_county.iloc[i]['longitude']],\n",
    "     popup=folium.Popup(ny_county.iloc[i]['county'], show=True),\n",
    "   ).add_to(m)\n",
    "    \n",
    "m"
   ]
  },
  {
   "cell_type": "code",
   "execution_count": null,
   "metadata": {
    "ExecuteTime": {
     "end_time": "2021-09-01T17:46:59.805479Z",
     "start_time": "2021-09-01T17:46:45.766Z"
    }
   },
   "outputs": [],
   "source": [
    "HeatMap(data = ny_county).add_to(m)\n",
    "display(m)"
   ]
  },
  {
   "cell_type": "code",
   "execution_count": null,
   "metadata": {
    "ExecuteTime": {
     "end_time": "2021-09-01T17:46:59.807481Z",
     "start_time": "2021-09-01T17:46:45.772Z"
    }
   },
   "outputs": [],
   "source": [
    "ny_df.shape"
   ]
  },
  {
   "cell_type": "code",
   "execution_count": null,
   "metadata": {},
   "outputs": [],
   "source": []
  },
  {
   "cell_type": "code",
   "execution_count": null,
   "metadata": {},
   "outputs": [],
   "source": []
  },
  {
   "cell_type": "code",
   "execution_count": null,
   "metadata": {
    "ExecuteTime": {
     "end_time": "2021-09-01T17:46:59.809482Z",
     "start_time": "2021-09-01T17:46:45.791Z"
    }
   },
   "outputs": [],
   "source": [
    "ny_df.bridge_condition.value_counts(normalize=True)"
   ]
  },
  {
   "cell_type": "code",
   "execution_count": null,
   "metadata": {
    "ExecuteTime": {
     "end_time": "2021-09-01T17:46:59.839481Z",
     "start_time": "2021-09-01T17:46:45.797Z"
    }
   },
   "outputs": [],
   "source": [
    "# Replace target values - there are three classes\n",
    "ny_df = ny_df.replace({'bridge_condition': {'Poor' : 2, \n",
    "                                'Fair' : 1, \n",
    "                                'Good' : 0}})\n"
   ]
  },
  {
   "cell_type": "code",
   "execution_count": null,
   "metadata": {
    "ExecuteTime": {
     "end_time": "2021-09-01T17:46:59.841482Z",
     "start_time": "2021-09-01T17:46:45.803Z"
    }
   },
   "outputs": [],
   "source": [
    "# ny_df_grouped = ny_df.groupby('county').median()[['latitude', 'longitude', 'bridge_condition']].values.tolist()\n",
    "ny_df_grouped = ny_df[['latitude', 'longitude', 'bridge_condition']].values.tolist()\n",
    "ny_df_grouped"
   ]
  },
  {
   "cell_type": "code",
   "execution_count": null,
   "metadata": {
    "ExecuteTime": {
     "end_time": "2021-09-01T17:46:59.843482Z",
     "start_time": "2021-09-01T17:46:45.809Z"
    }
   },
   "outputs": [],
   "source": [
    "# Make an empty map\n",
    "m = folium.Map(location=[40,-100], tiles=\"OpenStreetMap\", zoom_start=4)\n",
    "\n",
    "#show the map\n",
    "m"
   ]
  },
  {
   "cell_type": "code",
   "execution_count": null,
   "metadata": {
    "ExecuteTime": {
     "end_time": "2021-09-01T17:46:59.845482Z",
     "start_time": "2021-09-01T17:46:45.816Z"
    }
   },
   "outputs": [],
   "source": [
    "HeatMap(data = ny_df_grouped).add_to(m)\n",
    "display(m)"
   ]
  },
  {
   "cell_type": "code",
   "execution_count": null,
   "metadata": {},
   "outputs": [],
   "source": []
  },
  {
   "cell_type": "code",
   "execution_count": null,
   "metadata": {},
   "outputs": [],
   "source": []
  },
  {
   "cell_type": "code",
   "execution_count": null,
   "metadata": {
    "ExecuteTime": {
     "end_time": "2021-09-01T17:46:59.847483Z",
     "start_time": "2021-09-01T17:46:45.827Z"
    }
   },
   "outputs": [],
   "source": [
    "40.7128° N, 74.0060° W"
   ]
  }
 ],
 "metadata": {
  "kernelspec": {
   "display_name": "Python 3",
   "language": "python",
   "name": "python3"
  },
  "language_info": {
   "codemirror_mode": {
    "name": "ipython",
    "version": 3
   },
   "file_extension": ".py",
   "mimetype": "text/x-python",
   "name": "python",
   "nbconvert_exporter": "python",
   "pygments_lexer": "ipython3",
   "version": "3.8.5"
  },
  "toc": {
   "base_numbering": 1,
   "nav_menu": {},
   "number_sections": true,
   "sideBar": true,
   "skip_h1_title": false,
   "title_cell": "Table of Contents",
   "title_sidebar": "Contents",
   "toc_cell": false,
   "toc_position": {
    "height": "calc(100% - 180px)",
    "left": "10px",
    "top": "150px",
    "width": "299.2px"
   },
   "toc_section_display": true,
   "toc_window_display": true
  },
  "varInspector": {
   "cols": {
    "lenName": 16,
    "lenType": 16,
    "lenVar": 40
   },
   "kernels_config": {
    "python": {
     "delete_cmd_postfix": "",
     "delete_cmd_prefix": "del ",
     "library": "var_list.py",
     "varRefreshCmd": "print(var_dic_list())"
    },
    "r": {
     "delete_cmd_postfix": ") ",
     "delete_cmd_prefix": "rm(",
     "library": "var_list.r",
     "varRefreshCmd": "cat(var_dic_list()) "
    }
   },
   "types_to_exclude": [
    "module",
    "function",
    "builtin_function_or_method",
    "instance",
    "_Feature"
   ],
   "window_display": false
  }
 },
 "nbformat": 4,
 "nbformat_minor": 4
}
